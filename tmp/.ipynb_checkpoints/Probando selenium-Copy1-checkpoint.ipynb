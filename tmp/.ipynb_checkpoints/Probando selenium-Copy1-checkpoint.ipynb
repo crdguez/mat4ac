{
 "cells": [
  {
   "cell_type": "markdown",
   "metadata": {},
   "source": [
    "[https://selenium-python.readthedocs.io/](https://selenium-python.readthedocs.io/)\n",
    "\n",
    "Para saber qué elementos hay que seleccionar, necesitamos instalar el add-on de firefox [selenium-ide](https://www.seleniumhq.org/projects/ide/)"
   ]
  },
  {
   "cell_type": "markdown",
   "metadata": {},
   "source": [
    "Instalamos paquetes (solo hace falta hacerlo una vez)"
   ]
  },
  {
   "cell_type": "code",
   "execution_count": 154,
   "metadata": {},
   "outputs": [],
   "source": [
    "#!pip install selenium"
   ]
  },
  {
   "cell_type": "markdown",
   "metadata": {},
   "source": [
    "Driver para Firefox, dejar el ejecutable correspondiente en, por ejemplo, '/usr/local/bin': [https://github.com/mozilla/geckodriver/releases](https://github.com/mozilla/geckodriver/releases)"
   ]
  },
  {
   "cell_type": "code",
   "execution_count": 14,
   "metadata": {},
   "outputs": [
    {
     "ename": "IndexError",
     "evalue": "list index out of range",
     "output_type": "error",
     "traceback": [
      "\u001b[0;31m---------------------------------------------------------------------------\u001b[0m",
      "\u001b[0;31mIndexError\u001b[0m                                Traceback (most recent call last)",
      "\u001b[0;32m<ipython-input-14-7cbcba9857b6>\u001b[0m in \u001b[0;36m<module>\u001b[0;34m()\u001b[0m\n\u001b[1;32m     36\u001b[0m \u001b[0mdriver\u001b[0m\u001b[0;34m.\u001b[0m\u001b[0mimplicitly_wait\u001b[0m\u001b[0;34m(\u001b[0m\u001b[0;36m2\u001b[0m\u001b[0;34m+\u001b[0m\u001b[0mtespera\u001b[0m\u001b[0;34m)\u001b[0m\u001b[0;34m\u001b[0m\u001b[0m\n\u001b[1;32m     37\u001b[0m \u001b[0melem4\u001b[0m \u001b[0;34m=\u001b[0m \u001b[0mdriver\u001b[0m\u001b[0;34m.\u001b[0m\u001b[0mfind_elements_by_class_name\u001b[0m\u001b[0;34m(\u001b[0m\u001b[0;34m'v-caption'\u001b[0m\u001b[0;34m)\u001b[0m\u001b[0;34m\u001b[0m\u001b[0m\n\u001b[0;32m---> 38\u001b[0;31m \u001b[0melem4\u001b[0m\u001b[0;34m[\u001b[0m\u001b[0;36m6\u001b[0m\u001b[0;34m]\u001b[0m\u001b[0;34m.\u001b[0m\u001b[0mclick\u001b[0m\u001b[0;34m(\u001b[0m\u001b[0;34m)\u001b[0m\u001b[0;34m\u001b[0m\u001b[0m\n\u001b[0m\u001b[1;32m     39\u001b[0m \u001b[0mdriver\u001b[0m\u001b[0;34m.\u001b[0m\u001b[0mimplicitly_wait\u001b[0m\u001b[0;34m(\u001b[0m\u001b[0;36m15\u001b[0m\u001b[0;34m+\u001b[0m\u001b[0mtespera\u001b[0m\u001b[0;34m)\u001b[0m\u001b[0;34m\u001b[0m\u001b[0m\n\u001b[1;32m     40\u001b[0m \u001b[0mdriver\u001b[0m\u001b[0;34m.\u001b[0m\u001b[0mrefresh\u001b[0m\u001b[0;34m(\u001b[0m\u001b[0;34m)\u001b[0m\u001b[0;34m\u001b[0m\u001b[0m\n",
      "\u001b[0;31mIndexError\u001b[0m: list index out of range"
     ]
    }
   ],
   "source": [
    "from selenium import webdriver\n",
    "from selenium.webdriver.common.keys import Keys\n",
    "from selenium.webdriver.support.ui import Select\n",
    "\n",
    "import os\n",
    "import time\n",
    "\n",
    "op = webdriver.FirefoxOptions()\n",
    "op.set_preference(\"browser.download.folderList\",2)\n",
    "op.set_preference(\"browser.download.manager.showWhenStarting\",False)\n",
    "op.set_preference(\"browser.download.dir\", os.getcwd())\n",
    "#op.set_preference(\"browser.helperApps.neverAsk.openFile\", \"application/octet-stream\");\n",
    "#op.set_preference(\"browser.helperApps.neverAsk.saveToDisk\", \"application/octet-stream\");\n",
    "op.set_preference(\"browser.helperApps.neverAsk.saveToDisk\", \"text/comma-separated-values\")\n",
    "\n",
    "twait = 0.6\n",
    "tespera = 60\n",
    "\n",
    "driver = webdriver.Firefox(options = op)\n",
    "driver.get(\"https://servicios.aragon.es/sigad-academica\")\n",
    "assert \"Login\" in driver.title\n",
    "driver.implicitly_wait(2)\n",
    "#elem = driver.find_element_by_class_name('v-textfield')\n",
    "elem = driver.find_element_by_xpath(\"//input[@type='text']\")\n",
    "elem.clear()\n",
    "elem.send_keys(\"RODRIGUEZ.CARLOS20\")\n",
    "elem.send_keys(Keys.TAB)\n",
    "elem2 = driver.switch_to_active_element()\n",
    "elem2.clear()\n",
    "elem2.send_keys(\"es3\")\n",
    "elem3 = driver.find_element_by_class_name('botonTexto')\n",
    "elem3.click()\n",
    "driver.implicitly_wait(2+tespera)\n",
    "#driver.get(\"https://servicios.aragon.es/sigad-academica\")\n",
    "driver.refresh()\n",
    "driver.implicitly_wait(2+tespera)\n",
    "elem4 = driver.find_elements_by_class_name('v-caption')\n",
    "elem4[6].click()\n",
    "driver.implicitly_wait(15+tespera)\n",
    "driver.refresh()\n",
    "elem5 = driver.find_elements_by_class_name('v-icon')\n",
    "elem5[15].click()\n",
    "driver.implicitly_wait(2+tespera)\n",
    "elem6 = driver.find_element_by_xpath(\"//div[@id='sigadacademica-1339463174']/div/div[2]/div/div/div[3]/div/div/div/div/div/div/div[2]/div/div/div/div/div/div/div/div/div[2]/div/div/div/div[2]/div/div/div[3]/div/table/tbody/tr[22]/td/div\")\n",
    "elem6.click()\n",
    "driver.implicitly_wait(2+tespera)\n",
    "elem7 = driver.find_element_by_xpath(\"//div[@id='sigadacademica-1339463174']/div/div[2]/div/div/div[3]/div/div/div/div/div/div/div[2]/div/div/div/div/div[2]/div/div/div/div[2]/div/div/div/div[4]/div/div/span/img\")\n",
    "elem7.click()\n",
    "#driver.implicitly_wait(2)\n",
    "#elem8 = driver.find_element_by_xpath(\"(//input[@type='text'])[10]\")\n",
    "\n",
    "elem8 = driver.find_element_by_xpath(\"(//input[@type='text'])[10]\")\n",
    "elem8.click()\n",
    "time.sleep(twait)\n",
    "elem8.send_keys(Keys.ARROW_DOWN)\n",
    "elem8.click()\n",
    "\n",
    "# time.sleep(twait)\n",
    "\n",
    "for i in range(10) :\n",
    "        elem8.send_keys(Keys.ARROW_DOWN)\n",
    "        time.sleep(twait/10)\n",
    "\n",
    "elem8.send_keys(Keys.RETURN)\n",
    "\n",
    "#time.sleep(twait)\n",
    "\n",
    "elem8 = driver.find_element_by_xpath(\"(//input[@type='text'])[11]\")\n",
    "time.sleep(twait)\n",
    "elem8.click()\n",
    "time.sleep(twait/10)\n",
    "elem8.send_keys(Keys.ARROW_DOWN)\n",
    "elem8.click()\n",
    "\n",
    "time.sleep(twait)\n",
    "for i in range(5) :\n",
    "        elem8.send_keys(Keys.ARROW_DOWN)\n",
    "        time.sleep(twait/10)\n",
    "    \n",
    "elem8.send_keys(Keys.RETURN)\n",
    "\n",
    "\n",
    "#time.sleep(twait)\n",
    "\n",
    "elem8 = driver.find_element_by_xpath(\"(//input[@type='text'])[12]\")\n",
    "time.sleep(twait)\n",
    "elem8.click()\n",
    "time.sleep(twait/10)\n",
    "elem8.send_keys(Keys.ARROW_DOWN)\n",
    "elem8.click()\n",
    "\n",
    "time.sleep(twait)\n",
    "for i in range(1) :\n",
    "        elem8.send_keys(Keys.ARROW_DOWN)\n",
    "        time.sleep(twait/10)\n",
    "    \n",
    "elem8.send_keys(Keys.RETURN)\n",
    "\n",
    "\n",
    "#time.sleep(twait)\n",
    "\n",
    "elem8 = driver.find_element_by_xpath(\"(//input[@type='text'])[14]\")\n",
    "time.sleep(twait)\n",
    "elem8.click()\n",
    "time.sleep(twait/10)\n",
    "elem8.send_keys(Keys.ARROW_DOWN)\n",
    "elem8.click()\n",
    "\n",
    "time.sleep(twait)\n",
    "for i in range(1) :\n",
    "        elem8.send_keys(Keys.ARROW_DOWN)\n",
    "        time.sleep(twait/10)\n",
    "    \n",
    "elem8.send_keys(Keys.RETURN)\n",
    "\n",
    "time.sleep(twait)\n",
    "elem9 = driver.find_element_by_xpath(\"//div[3]/div/div/div/div/div/div/div/div[2]/div/div/div/div[2]/div/div/div/div[4]/div/div/span\")\n",
    "elem9.click()\n",
    "\n",
    "time.sleep(twait)\n",
    "elem10 = driver.find_element_by_xpath(\"(//input[@type='text'])[15]\")\n",
    "elem10.click()\n",
    "time.sleep(twait)\n",
    "elem10.send_keys(Keys.ARROW_DOWN)\n",
    "elem10.click()\n",
    "\n",
    "time.sleep(twait)\n",
    "for i in range(6) :\n",
    "        elem10.send_keys(Keys.ARROW_DOWN)\n",
    "        time.sleep(twait/10)\n",
    "        \n",
    "elem10.send_keys(Keys.RETURN)\n",
    "\n",
    "time.sleep(twait)\n",
    "elem11 = driver.find_element_by_xpath(\"//div[3]/div/div/div/div[2]/div/div/div/div[2]/div/div/span/span\")\n",
    "elem11.click()\n",
    "\n",
    "time.sleep(twait)\n",
    "driver.close()\n"
   ]
  },
  {
   "cell_type": "code",
   "execution_count": 156,
   "metadata": {},
   "outputs": [],
   "source": [
    "# No funciona\n",
    "\n",
    "fp = webdriver.FirefoxProfile()\n",
    "fp.set_preference(\"browser.download.manager.showWhenStarting\", False)\n",
    "fp.set_preference(\"browser.download.manager.showAlertOnComplete\", False)\n",
    "fp.set_preference(\"browser.helperApps.neverAsk.saveToDisk\", \"text/html\")\n",
    "fp.set_preference(\"browser.download.dir\", os.getcwd())"
   ]
  },
  {
   "cell_type": "code",
   "execution_count": 14,
   "metadata": {},
   "outputs": [],
   "source": [
    "op = webdriver.FirefoxOptions()\n",
    "op.set_preference(\"browser.download.folderList\",2)\n",
    "op.set_preference(\"browser.download.manager.showWhenStarting\",False)\n",
    "op.set_preference(\"browser.download.dir\", os.getcwd())\n",
    "#op.set_preference(\"browser.helperApps.neverAsk.openFile\", \"application/octet-stream\");\n",
    "#op.set_preference(\"browser.helperApps.neverAsk.saveToDisk\", \"application/octet-stream\");\n",
    "op.set_preference(\"browser.helperApps.neverAsk.saveToDisk\", \"text/comma-separated-values\")\n",
    "\n",
    "twait = 0.6"
   ]
  },
  {
   "cell_type": "code",
   "execution_count": 84,
   "metadata": {},
   "outputs": [
    {
     "data": {
      "text/plain": [
       "1"
      ]
     },
     "execution_count": 84,
     "metadata": {},
     "output_type": "execute_result"
    }
   ],
   "source": [
    "twait = int(twait)\n",
    "twait"
   ]
  },
  {
   "cell_type": "code",
   "execution_count": 22,
   "metadata": {},
   "outputs": [],
   "source": [
    "driver = webdriver.Firefox(options = op)\n",
    "driver.get(\"https://servicios.aragon.es/sigad-academica\")\n",
    "assert \"Login\" in driver.title\n",
    "driver.implicitly_wait(2)\n",
    "#elem = driver.find_element_by_class_name('v-textfield')\n",
    "elem = driver.find_element_by_xpath(\"//input[@type='text']\")\n",
    "elem.clear()\n",
    "elem.send_keys(\"RODRIGUEZ.CARLOS20\")\n",
    "elem.send_keys(Keys.TAB)\n",
    "elem2 = driver.switch_to_active_element()\n",
    "elem2.clear()\n",
    "elem2.send_keys(\"es3\")\n",
    "elem3 = driver.find_element_by_class_name('botonTexto')\n",
    "elem3.click()\n",
    "driver.implicitly_wait(2)\n",
    "#driver.get(\"https://servicios.aragon.es/sigad-academica\")\n",
    "driver.refresh()\n",
    "driver.implicitly_wait(2)\n",
    "elem4 = driver.find_elements_by_class_name('v-caption')\n",
    "elem4[6].click()\n",
    "driver.implicitly_wait(10)\n",
    "driver.refresh()\n",
    "elem5 = driver.find_elements_by_class_name('v-icon')\n",
    "elem5[15].click()\n",
    "driver.implicitly_wait(2)\n",
    "elem6 = driver.find_element_by_xpath(\"//div[@id='sigadacademica-1339463174']/div/div[2]/div/div/div[3]/div/div/div/div/div/div/div[2]/div/div/div/div/div/div/div/div/div[2]/div/div/div/div[2]/div/div/div[3]/div/table/tbody/tr[22]/td/div\")\n",
    "elem6.click()\n",
    "driver.implicitly_wait(2)\n",
    "elem7 = driver.find_element_by_xpath(\"//div[@id='sigadacademica-1339463174']/div/div[2]/div/div/div[3]/div/div/div/div/div/div/div[2]/div/div/div/div/div[2]/div/div/div/div[2]/div/div/div/div[4]/div/div/span/img\")\n",
    "elem7.click()\n",
    "#driver.implicitly_wait(2)\n",
    "#elem8 = driver.find_element_by_xpath(\"(//input[@type='text'])[10]\")\n",
    "\n",
    "elem8 = driver.find_element_by_xpath(\"(//input[@type='text'])[10]\")\n",
    "elem8.click()\n",
    "time.sleep(twait)\n",
    "elem8.send_keys(Keys.ARROW_DOWN)\n",
    "elem8.click()\n",
    "\n",
    "# time.sleep(twait)\n",
    "\n",
    "for i in range(10) :\n",
    "        elem8.send_keys(Keys.ARROW_DOWN)\n",
    "        time.sleep(twait/10)\n",
    "\n",
    "elem8.send_keys(Keys.RETURN)\n",
    "\n",
    "#time.sleep(twait)\n",
    "\n",
    "elem8 = driver.find_element_by_xpath(\"(//input[@type='text'])[11]\")\n",
    "time.sleep(twait)\n",
    "elem8.click()\n",
    "time.sleep(twait/10)\n",
    "elem8.send_keys(Keys.ARROW_DOWN)\n",
    "elem8.click()\n",
    "\n",
    "time.sleep(twait)\n",
    "for i in range(5) :\n",
    "        elem8.send_keys(Keys.ARROW_DOWN)\n",
    "        time.sleep(twait/10)\n",
    "    \n",
    "elem8.send_keys(Keys.RETURN)\n",
    "\n",
    "\n",
    "#time.sleep(twait)\n",
    "\n",
    "elem8 = driver.find_element_by_xpath(\"(//input[@type='text'])[12]\")\n",
    "time.sleep(twait)\n",
    "elem8.click()\n",
    "time.sleep(twait/10)\n",
    "elem8.send_keys(Keys.ARROW_DOWN)\n",
    "elem8.click()\n",
    "\n",
    "time.sleep(twait)\n",
    "for i in range(1) :\n",
    "        elem8.send_keys(Keys.ARROW_DOWN)\n",
    "        time.sleep(twait/10)\n",
    "    \n",
    "elem8.send_keys(Keys.RETURN)\n",
    "\n",
    "\n",
    "#time.sleep(twait)\n",
    "\n",
    "elem8 = driver.find_element_by_xpath(\"(//input[@type='text'])[14]\")\n",
    "time.sleep(twait)\n",
    "elem8.click()\n",
    "time.sleep(twait/10)\n",
    "elem8.send_keys(Keys.ARROW_DOWN)\n",
    "elem8.click()\n",
    "\n",
    "time.sleep(twait)\n",
    "for i in range(4) :\n",
    "        elem8.send_keys(Keys.ARROW_DOWN)\n",
    "        time.sleep(twait/10)\n",
    "    \n",
    "elem8.send_keys(Keys.RETURN)\n",
    "\n",
    "time.sleep(twait)\n",
    "elem9 = driver.find_element_by_xpath(\"//div[3]/div/div/div/div/div/div/div/div[2]/div/div/div/div[2]/div/div/div/div[4]/div/div/span\")\n",
    "elem9.click()\n",
    "\n",
    "time.sleep(twait)\n",
    "elem10 = driver.find_element_by_xpath(\"(//input[@type='text'])[15]\")\n",
    "elem10.click()\n",
    "time.sleep(twait)\n",
    "elem10.send_keys(Keys.ARROW_DOWN)\n",
    "elem10.click()\n",
    "\n",
    "time.sleep(twait)\n",
    "for i in range(6) :\n",
    "        elem10.send_keys(Keys.ARROW_DOWN)\n",
    "        time.sleep(twait/10)\n",
    "        \n",
    "elem10.send_keys(Keys.RETURN)\n",
    "\n",
    "time.sleep(twait)\n",
    "elem11 = driver.find_element_by_xpath(\"//div[3]/div/div/div/div[2]/div/div/div/div[2]/div/div/span/span\")\n",
    "elem11.click()\n",
    "\n",
    "time.sleep(twait)\n",
    "driver.close()\n"
   ]
  },
  {
   "cell_type": "code",
   "execution_count": 337,
   "metadata": {},
   "outputs": [],
   "source": [
    "#prueba\n",
    "driver.implicitly_wait(2)\n",
    "elem8 = driver.find_element_by_xpath(\"(//input[@type='text'])[10]\")\n",
    "elem8.click()\n",
    "elem8.send_keys(Keys.ARROW_DOWN)\n",
    "\n",
    "driver.implicitly_wait(2)\n",
    "for i in range(10) :\n",
    "        elem8.send_keys(Keys.ARROW_DOWN)\n",
    "\n",
    "elem8.send_keys(Keys.RETURN)\n",
    "\n",
    "driver.implicitly_wait(2)\n",
    "\n",
    "elem9 = driver.find_element_by_xpath(\"(//input[@type='text'])[11]\")\n",
    "elem9.click()\n",
    "elem9.send_keys(Keys.ARROW_DOWN)"
   ]
  },
  {
   "cell_type": "code",
   "execution_count": 34,
   "metadata": {},
   "outputs": [],
   "source": [
    "#prueba\n",
    "driver.implicitly_wait(2)\n",
    "elem8 = driver.find_element_by_xpath(\"(//input[@type='text'])[10]\")\n",
    "elem8.click()\n",
    "elem8.send_keys(Keys.ARROW_DOWN)\n",
    "elem8.click()\n",
    "\n",
    "driver.implicitly_wait(2)\n",
    "for i in range(10) :\n",
    "        elem8.send_keys(Keys.ARROW_DOWN)\n",
    "\n",
    "elem8.send_keys(Keys.RETURN)\n",
    "\n",
    "driver.implicitly_wait(2)\n",
    "\n",
    "elem9 = driver.find_element_by_xpath(\"(//input[@type='text'])[11]\")\n",
    "elem9.click()\n",
    "elem9.send_keys(Keys.ARROW_DOWN)\n",
    "elem9.click()\n",
    "\n",
    "driver.implicitly_wait(2)\n",
    "for i in range(5) :\n",
    "        elem9.send_keys(Keys.ARROW_DOWN)\n",
    "        \n",
    "    \n",
    "elem9.send_keys(Keys.RETURN)"
   ]
  },
  {
   "cell_type": "code",
   "execution_count": 33,
   "metadata": {},
   "outputs": [],
   "source": [
    "#prueba\n",
    "driver.implicitly_wait(2)\n",
    "elem8 = driver.find_element_by_xpath(\"(//input[@type='text'])[10]\")\n",
    "elem8.click()\n",
    "\n",
    "elem8.clear()\n",
    "elem8.send_keys(\"ESO (LOMCE)\")\n",
    "elem8.send_keys(Keys.ARROW_DOWN)\n",
    "elem8.click()\n",
    "elem8.send_keys(Keys.RETURN)\n",
    "elem8.click()\n",
    "\n",
    "driver.implicitly_wait(2)\n",
    "\n",
    "elem9 = driver.find_element_by_xpath(\"(//input[@type='text'])[11]\")\n",
    "elem9.click()\n",
    "elem9.send_keys(Keys.ARROW_DOWN)\n",
    "elem9.click()\n",
    "\n",
    "driver.implicitly_wait(2)\n",
    "for i in range(5) :\n",
    "        elem8.send_keys(Keys.ARROW_DOWN)\n",
    "        \n",
    "    \n",
    "elem8.send_keys(Keys.RETURN)"
   ]
  },
  {
   "cell_type": "code",
   "execution_count": 16,
   "metadata": {},
   "outputs": [],
   "source": [
    "driver.implicitly_wait(2)\n",
    "for i in range(10) :\n",
    "        elem8.send_keys(Keys.ARROW_DOWN)\n",
    "\n",
    "elem8.send_keys(Keys.RETURN)"
   ]
  },
  {
   "cell_type": "code",
   "execution_count": null,
   "metadata": {},
   "outputs": [],
   "source": [
    "elem8 = driver.find_element_by_xpath(\"//div[11]/div/div/div\")\n",
    "elem8.click()\n",
    "#elem8 = driver.switch_to_active_element()\n",
    "elem8.send_keys(\"ESO (LOMCE)\")\n",
    "elem8.send_keys(Keys.ARROW_DOWN)\n",
    "\n",
    "#for i in range(10) :   \n",
    "#    driver.implicitly_wait(2); elem8.send_keys(Keys.ARROW_DOWN)\n",
    "# elem8.send_keys(Keys.ARROW_DOWN)   \n",
    "# elem8.send_keys(Keys.RETURN)\n",
    "driver.implicitly_wait(2)\n",
    "\n",
    "elem8 = driver.find_element_by_xpath(\"(//input[@type='text'])[11]\")\n",
    "elem8.click()"
   ]
  },
  {
   "cell_type": "code",
   "execution_count": 271,
   "metadata": {},
   "outputs": [],
   "source": [
    "elem8 = driver.find_element_by_xpath(\"(//input[@type='text'])[10]\")\n",
    "elem8.click()\n",
    "elem8.send_keys(Keys.ARROW_DOWN)\n",
    "for i in range(10) :   \n",
    "    elem8.send_keys(Keys.ARROW_DOWN)\n",
    "    \n",
    "elem8.send_keys(Keys.RETURN)\n",
    "elem8.send_keys(Keys.TAB)\n",
    "#elem8.send_keys(\"ESO (LOMCE)\")\n",
    "#elem8.send_keys(Keys.ARROW_DOWN)\n",
    "#select = Select(driver.find_element_by_xpath(\"//div[11]/div/div/div\"))\n"
   ]
  },
  {
   "cell_type": "code",
   "execution_count": 322,
   "metadata": {},
   "outputs": [],
   "source": [
    "driver.implicitly_wait(2)\n",
    "elem8 = driver.find_element_by_xpath(\"(//input[@type='text'])[10]\")\n",
    "elem8.click()\n",
    "elem8.send_keys(Keys.ARROW_DOWN)"
   ]
  },
  {
   "cell_type": "code",
   "execution_count": 312,
   "metadata": {},
   "outputs": [
    {
     "ename": "ElementClickInterceptedException",
     "evalue": "Message: Element <input class=\"v-filterselect-input\" type=\"text\"> is not clickable at point (732.5,381) because another element <td class=\"gwt-MenuItem\"> obscures it\n",
     "output_type": "error",
     "traceback": [
      "\u001b[0;31m---------------------------------------------------------------------------\u001b[0m",
      "\u001b[0;31mElementClickInterceptedException\u001b[0m          Traceback (most recent call last)",
      "\u001b[0;32m<ipython-input-312-1684f7adf146>\u001b[0m in \u001b[0;36m<module>\u001b[0;34m()\u001b[0m\n\u001b[1;32m     33\u001b[0m \u001b[0mdriver\u001b[0m\u001b[0;34m.\u001b[0m\u001b[0mimplicitly_wait\u001b[0m\u001b[0;34m(\u001b[0m\u001b[0;36m2\u001b[0m\u001b[0;34m)\u001b[0m\u001b[0;34m\u001b[0m\u001b[0m\n\u001b[1;32m     34\u001b[0m \u001b[0melem8\u001b[0m \u001b[0;34m=\u001b[0m \u001b[0mdriver\u001b[0m\u001b[0;34m.\u001b[0m\u001b[0mfind_element_by_xpath\u001b[0m\u001b[0;34m(\u001b[0m\u001b[0;34m\"(//input[@type='text'])[14]\"\u001b[0m\u001b[0;34m)\u001b[0m\u001b[0;34m\u001b[0m\u001b[0m\n\u001b[0;32m---> 35\u001b[0;31m \u001b[0melem8\u001b[0m\u001b[0;34m.\u001b[0m\u001b[0mclick\u001b[0m\u001b[0;34m(\u001b[0m\u001b[0;34m)\u001b[0m\u001b[0;34m\u001b[0m\u001b[0m\n\u001b[0m\u001b[1;32m     36\u001b[0m \u001b[0melem8\u001b[0m\u001b[0;34m.\u001b[0m\u001b[0msend_keys\u001b[0m\u001b[0;34m(\u001b[0m\u001b[0mKeys\u001b[0m\u001b[0;34m.\u001b[0m\u001b[0mARROW_DOWN\u001b[0m\u001b[0;34m)\u001b[0m\u001b[0;34m\u001b[0m\u001b[0m\n\u001b[1;32m     37\u001b[0m \u001b[0;34m\u001b[0m\u001b[0m\n",
      "\u001b[0;32m~/Mis_aplicaciones/anaconda3/lib/python3.6/site-packages/selenium/webdriver/remote/webelement.py\u001b[0m in \u001b[0;36mclick\u001b[0;34m(self)\u001b[0m\n\u001b[1;32m     78\u001b[0m     \u001b[0;32mdef\u001b[0m \u001b[0mclick\u001b[0m\u001b[0;34m(\u001b[0m\u001b[0mself\u001b[0m\u001b[0;34m)\u001b[0m\u001b[0;34m:\u001b[0m\u001b[0;34m\u001b[0m\u001b[0m\n\u001b[1;32m     79\u001b[0m         \u001b[0;34m\"\"\"Clicks the element.\"\"\"\u001b[0m\u001b[0;34m\u001b[0m\u001b[0m\n\u001b[0;32m---> 80\u001b[0;31m         \u001b[0mself\u001b[0m\u001b[0;34m.\u001b[0m\u001b[0m_execute\u001b[0m\u001b[0;34m(\u001b[0m\u001b[0mCommand\u001b[0m\u001b[0;34m.\u001b[0m\u001b[0mCLICK_ELEMENT\u001b[0m\u001b[0;34m)\u001b[0m\u001b[0;34m\u001b[0m\u001b[0m\n\u001b[0m\u001b[1;32m     81\u001b[0m \u001b[0;34m\u001b[0m\u001b[0m\n\u001b[1;32m     82\u001b[0m     \u001b[0;32mdef\u001b[0m \u001b[0msubmit\u001b[0m\u001b[0;34m(\u001b[0m\u001b[0mself\u001b[0m\u001b[0;34m)\u001b[0m\u001b[0;34m:\u001b[0m\u001b[0;34m\u001b[0m\u001b[0m\n",
      "\u001b[0;32m~/Mis_aplicaciones/anaconda3/lib/python3.6/site-packages/selenium/webdriver/remote/webelement.py\u001b[0m in \u001b[0;36m_execute\u001b[0;34m(self, command, params)\u001b[0m\n\u001b[1;32m    626\u001b[0m             \u001b[0mparams\u001b[0m \u001b[0;34m=\u001b[0m \u001b[0;34m{\u001b[0m\u001b[0;34m}\u001b[0m\u001b[0;34m\u001b[0m\u001b[0m\n\u001b[1;32m    627\u001b[0m         \u001b[0mparams\u001b[0m\u001b[0;34m[\u001b[0m\u001b[0;34m'id'\u001b[0m\u001b[0;34m]\u001b[0m \u001b[0;34m=\u001b[0m \u001b[0mself\u001b[0m\u001b[0;34m.\u001b[0m\u001b[0m_id\u001b[0m\u001b[0;34m\u001b[0m\u001b[0m\n\u001b[0;32m--> 628\u001b[0;31m         \u001b[0;32mreturn\u001b[0m \u001b[0mself\u001b[0m\u001b[0;34m.\u001b[0m\u001b[0m_parent\u001b[0m\u001b[0;34m.\u001b[0m\u001b[0mexecute\u001b[0m\u001b[0;34m(\u001b[0m\u001b[0mcommand\u001b[0m\u001b[0;34m,\u001b[0m \u001b[0mparams\u001b[0m\u001b[0;34m)\u001b[0m\u001b[0;34m\u001b[0m\u001b[0m\n\u001b[0m\u001b[1;32m    629\u001b[0m \u001b[0;34m\u001b[0m\u001b[0m\n\u001b[1;32m    630\u001b[0m     \u001b[0;32mdef\u001b[0m \u001b[0mfind_element\u001b[0m\u001b[0;34m(\u001b[0m\u001b[0mself\u001b[0m\u001b[0;34m,\u001b[0m \u001b[0mby\u001b[0m\u001b[0;34m=\u001b[0m\u001b[0mBy\u001b[0m\u001b[0;34m.\u001b[0m\u001b[0mID\u001b[0m\u001b[0;34m,\u001b[0m \u001b[0mvalue\u001b[0m\u001b[0;34m=\u001b[0m\u001b[0;32mNone\u001b[0m\u001b[0;34m)\u001b[0m\u001b[0;34m:\u001b[0m\u001b[0;34m\u001b[0m\u001b[0m\n",
      "\u001b[0;32m~/Mis_aplicaciones/anaconda3/lib/python3.6/site-packages/selenium/webdriver/remote/webdriver.py\u001b[0m in \u001b[0;36mexecute\u001b[0;34m(self, driver_command, params)\u001b[0m\n\u001b[1;32m    318\u001b[0m         \u001b[0mresponse\u001b[0m \u001b[0;34m=\u001b[0m \u001b[0mself\u001b[0m\u001b[0;34m.\u001b[0m\u001b[0mcommand_executor\u001b[0m\u001b[0;34m.\u001b[0m\u001b[0mexecute\u001b[0m\u001b[0;34m(\u001b[0m\u001b[0mdriver_command\u001b[0m\u001b[0;34m,\u001b[0m \u001b[0mparams\u001b[0m\u001b[0;34m)\u001b[0m\u001b[0;34m\u001b[0m\u001b[0m\n\u001b[1;32m    319\u001b[0m         \u001b[0;32mif\u001b[0m \u001b[0mresponse\u001b[0m\u001b[0;34m:\u001b[0m\u001b[0;34m\u001b[0m\u001b[0m\n\u001b[0;32m--> 320\u001b[0;31m             \u001b[0mself\u001b[0m\u001b[0;34m.\u001b[0m\u001b[0merror_handler\u001b[0m\u001b[0;34m.\u001b[0m\u001b[0mcheck_response\u001b[0m\u001b[0;34m(\u001b[0m\u001b[0mresponse\u001b[0m\u001b[0;34m)\u001b[0m\u001b[0;34m\u001b[0m\u001b[0m\n\u001b[0m\u001b[1;32m    321\u001b[0m             response['value'] = self._unwrap_value(\n\u001b[1;32m    322\u001b[0m                 response.get('value', None))\n",
      "\u001b[0;32m~/Mis_aplicaciones/anaconda3/lib/python3.6/site-packages/selenium/webdriver/remote/errorhandler.py\u001b[0m in \u001b[0;36mcheck_response\u001b[0;34m(self, response)\u001b[0m\n\u001b[1;32m    240\u001b[0m                 \u001b[0malert_text\u001b[0m \u001b[0;34m=\u001b[0m \u001b[0mvalue\u001b[0m\u001b[0;34m[\u001b[0m\u001b[0;34m'alert'\u001b[0m\u001b[0;34m]\u001b[0m\u001b[0;34m.\u001b[0m\u001b[0mget\u001b[0m\u001b[0;34m(\u001b[0m\u001b[0;34m'text'\u001b[0m\u001b[0;34m)\u001b[0m\u001b[0;34m\u001b[0m\u001b[0m\n\u001b[1;32m    241\u001b[0m             \u001b[0;32mraise\u001b[0m \u001b[0mexception_class\u001b[0m\u001b[0;34m(\u001b[0m\u001b[0mmessage\u001b[0m\u001b[0;34m,\u001b[0m \u001b[0mscreen\u001b[0m\u001b[0;34m,\u001b[0m \u001b[0mstacktrace\u001b[0m\u001b[0;34m,\u001b[0m \u001b[0malert_text\u001b[0m\u001b[0;34m)\u001b[0m\u001b[0;34m\u001b[0m\u001b[0m\n\u001b[0;32m--> 242\u001b[0;31m         \u001b[0;32mraise\u001b[0m \u001b[0mexception_class\u001b[0m\u001b[0;34m(\u001b[0m\u001b[0mmessage\u001b[0m\u001b[0;34m,\u001b[0m \u001b[0mscreen\u001b[0m\u001b[0;34m,\u001b[0m \u001b[0mstacktrace\u001b[0m\u001b[0;34m)\u001b[0m\u001b[0;34m\u001b[0m\u001b[0m\n\u001b[0m\u001b[1;32m    243\u001b[0m \u001b[0;34m\u001b[0m\u001b[0m\n\u001b[1;32m    244\u001b[0m     \u001b[0;32mdef\u001b[0m \u001b[0m_value_or_default\u001b[0m\u001b[0;34m(\u001b[0m\u001b[0mself\u001b[0m\u001b[0;34m,\u001b[0m \u001b[0mobj\u001b[0m\u001b[0;34m,\u001b[0m \u001b[0mkey\u001b[0m\u001b[0;34m,\u001b[0m \u001b[0mdefault\u001b[0m\u001b[0;34m)\u001b[0m\u001b[0;34m:\u001b[0m\u001b[0;34m\u001b[0m\u001b[0m\n",
      "\u001b[0;31mElementClickInterceptedException\u001b[0m: Message: Element <input class=\"v-filterselect-input\" type=\"text\"> is not clickable at point (732.5,381) because another element <td class=\"gwt-MenuItem\"> obscures it\n"
     ]
    }
   ],
   "source": [
    "\n",
    "\n",
    "driver.implicitly_wait(2)\n",
    "for i in range(10) :\n",
    "        elem8.send_keys(Keys.ARROW_DOWN)\n",
    "\n",
    "elem8.send_keys(Keys.RETURN)\n",
    "\n",
    "driver.implicitly_wait(2)\n",
    "\n",
    "elem9 = driver.find_element_by_xpath(\"(//input[@type='text'])[11]\")\n",
    "elem9.click()\n",
    "elem9.send_keys(Keys.ARROW_DOWN)\n",
    "\n",
    "driver.implicitly_wait(2)\n",
    "for i in range(5) :\n",
    "        elem9.send_keys(Keys.ARROW_DOWN)\n",
    "        \n",
    "   \n",
    "elem9.send_keys(Keys.RETURN)\n",
    "\n",
    "\n",
    "driver.implicitly_wait(2)\n",
    "elem8 = driver.find_element_by_xpath(\"(//input[@type='text'])[12]\")\n",
    "elem8.click()\n",
    "elem8.send_keys(Keys.ARROW_DOWN)\n",
    "\n",
    "driver.implicitly_wait(2)\n",
    "for i in range(1) :\n",
    "        elem8.send_keys(Keys.ARROW_DOWN)\n",
    "        \n",
    "elem8.send_keys(Keys.RETURN)\n",
    "\n",
    "driver.implicitly_wait(2)\n",
    "elem8 = driver.find_element_by_xpath(\"(//input[@type='text'])[14]\")\n",
    "elem8.click()\n",
    "elem8.send_keys(Keys.ARROW_DOWN)\n",
    "\n",
    "driver.implicitly_wait(2)\n",
    "for i in range(1) :\n",
    "        elem8.send_keys(Keys.ARROW_DOWN)\n",
    "        \n",
    "elem8.send_keys(Keys.RETURN)"
   ]
  },
  {
   "cell_type": "code",
   "execution_count": 199,
   "metadata": {},
   "outputs": [],
   "source": [
    "elem5 = driver.find_elements_by_class_name('v-icon')\n",
    "elem5[15].click()"
   ]
  },
  {
   "cell_type": "code",
   "execution_count": 183,
   "metadata": {},
   "outputs": [],
   "source": [
    "driver.implicitly_wait(2)\n",
    "elem6 = driver.find_element_by_xpath(\"//div[@id='sigadacademica-1339463174']/div/div[2]/div/div/div[3]/div/div/div/div/div/div/div[2]/div/div/div/div/div/div/div/div/div[2]/div/div/div/div[2]/div/div/div[3]/div/table/tbody/tr[22]/td/div\")\n",
    "elem6.click()"
   ]
  },
  {
   "cell_type": "code",
   "execution_count": 184,
   "metadata": {},
   "outputs": [],
   "source": [
    "driver.implicitly_wait(2)\n",
    "elem7 = driver.find_element_by_xpath(\"//div[@id='sigadacademica-1339463174']/div/div[2]/div/div/div[3]/div/div/div/div/div/div/div[2]/div/div/div/div/div[2]/div/div/div/div[2]/div/div/div/div[4]/div/div/span/img\")\n",
    "elem7.click()"
   ]
  },
  {
   "cell_type": "code",
   "execution_count": 323,
   "metadata": {},
   "outputs": [],
   "source": [
    "driver.implicitly_wait(2)\n",
    "elem8 = driver.find_element_by_xpath(\"(//input[@type='text'])[10]\")\n",
    "elem8.click()\n",
    "elem8.send_keys(Keys.ARROW_DOWN)"
   ]
  },
  {
   "cell_type": "code",
   "execution_count": 324,
   "metadata": {},
   "outputs": [],
   "source": [
    "driver.implicitly_wait(2)\n",
    "for i in range(10) :\n",
    "        elem8.send_keys(Keys.ARROW_DOWN)\n",
    "\n",
    "elem8.send_keys(Keys.RETURN)\n",
    "\n",
    "driver.implicitly_wait(2)\n",
    "elem8 = driver.find_element_by_xpath(\"(//input[@type='text'])[11]\")\n",
    "elem8.click()\n",
    "elem8.send_keys(Keys.ARROW_DOWN)\n",
    "\n",
    "driver.implicitly_wait(2)\n",
    "for i in range(5) :\n",
    "        elem8.send_keys(Keys.ARROW_DOWN)\n",
    "        \n",
    "elem8.send_keys(Keys.RETURN)  \n"
   ]
  },
  {
   "cell_type": "code",
   "execution_count": 325,
   "metadata": {},
   "outputs": [],
   "source": [
    "driver.implicitly_wait(2)\n",
    "elem8 = driver.find_element_by_xpath(\"(//input[@type='text'])[11]\")\n",
    "elem8.click()\n",
    "elem8.send_keys(Keys.ARROW_DOWN)"
   ]
  },
  {
   "cell_type": "code",
   "execution_count": 326,
   "metadata": {},
   "outputs": [],
   "source": [
    "driver.implicitly_wait(2)\n",
    "for i in range(5) :\n",
    "        elem8.send_keys(Keys.ARROW_DOWN)\n",
    "        \n",
    "    \n",
    "elem8.send_keys(Keys.RETURN)"
   ]
  },
  {
   "cell_type": "code",
   "execution_count": 327,
   "metadata": {},
   "outputs": [],
   "source": [
    "driver.implicitly_wait(2)\n",
    "elem8 = driver.find_element_by_xpath(\"(//input[@type='text'])[12]\")\n",
    "elem8.click()\n",
    "elem8.send_keys(Keys.ARROW_DOWN)"
   ]
  },
  {
   "cell_type": "code",
   "execution_count": 328,
   "metadata": {},
   "outputs": [],
   "source": [
    "driver.implicitly_wait(2)\n",
    "for i in range(1) :\n",
    "        elem8.send_keys(Keys.ARROW_DOWN)\n",
    "        \n",
    "elem8.send_keys(Keys.RETURN)"
   ]
  },
  {
   "cell_type": "code",
   "execution_count": 329,
   "metadata": {},
   "outputs": [],
   "source": [
    "driver.implicitly_wait(2)\n",
    "elem8 = driver.find_element_by_xpath(\"(//input[@type='text'])[14]\")\n",
    "elem8.click()\n",
    "elem8.send_keys(Keys.ARROW_DOWN)"
   ]
  },
  {
   "cell_type": "code",
   "execution_count": 330,
   "metadata": {},
   "outputs": [],
   "source": [
    "driver.implicitly_wait(2)\n",
    "for i in range(1) :\n",
    "        elem8.send_keys(Keys.ARROW_DOWN)\n",
    "        \n",
    "elem8.send_keys(Keys.RETURN)"
   ]
  },
  {
   "cell_type": "code",
   "execution_count": 331,
   "metadata": {},
   "outputs": [],
   "source": [
    "driver.implicitly_wait(2)\n",
    "elem9 = driver.find_element_by_xpath(\"//div[3]/div/div/div/div/div/div/div/div[2]/div/div/div/div[2]/div/div/div/div[4]/div/div/span\")\n",
    "elem9.click()"
   ]
  },
  {
   "cell_type": "code",
   "execution_count": 332,
   "metadata": {},
   "outputs": [],
   "source": [
    "driver.implicitly_wait(2)\n",
    "elem10 = driver.find_element_by_xpath(\"(//input[@type='text'])[15]\")\n",
    "elem10.click()\n",
    "elem10.send_keys(Keys.ARROW_DOWN)"
   ]
  },
  {
   "cell_type": "code",
   "execution_count": 333,
   "metadata": {},
   "outputs": [],
   "source": [
    "driver.implicitly_wait(2)\n",
    "for i in range(6) :\n",
    "        elem10.send_keys(Keys.ARROW_DOWN)\n",
    "        \n",
    "elem10.send_keys(Keys.RETURN)"
   ]
  },
  {
   "cell_type": "code",
   "execution_count": null,
   "metadata": {},
   "outputs": [],
   "source": [
    "driver.implicitly_wait(2)\n",
    "elem11 = driver.find_element_by_xpath(\"//div[3]/div/div/div/div[2]/div/div/div/div[2]/div/div/span/span\")\n",
    "elem11.click()"
   ]
  },
  {
   "cell_type": "code",
   "execution_count": null,
   "metadata": {},
   "outputs": [],
   "source": [
    "driver.implicitly_wait(2)\n",
    "driver.close()"
   ]
  },
  {
   "cell_type": "code",
   "execution_count": null,
   "metadata": {},
   "outputs": [],
   "source": [
    "!mv *.csv prueba.csv"
   ]
  },
  {
   "cell_type": "code",
   "execution_count": null,
   "metadata": {},
   "outputs": [],
   "source": [
    "!ls"
   ]
  }
 ],
 "metadata": {
  "kernelspec": {
   "display_name": "Python 3",
   "language": "python",
   "name": "python3"
  },
  "language_info": {
   "codemirror_mode": {
    "name": "ipython",
    "version": 3
   },
   "file_extension": ".py",
   "mimetype": "text/x-python",
   "name": "python",
   "nbconvert_exporter": "python",
   "pygments_lexer": "ipython3",
   "version": "3.6.5"
  }
 },
 "nbformat": 4,
 "nbformat_minor": 2
}
