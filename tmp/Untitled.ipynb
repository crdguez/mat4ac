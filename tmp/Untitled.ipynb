{
 "cells": [
  {
   "cell_type": "code",
   "execution_count": 13,
   "metadata": {},
   "outputs": [],
   "source": [
    "import os\n",
    "\n",
    "from selenium import webdriver\n",
    "\n",
    "fp = webdriver.FirefoxProfile()\n",
    "\n",
    "fp.set_preference(\"browser.download.folderList\",2)\n",
    "fp.set_preference(\"browser.download.manager.showWhenStarting\",False)\n",
    "fp.set_preference(\"browser.download.dir\", os.getcwd())\n",
    "fp.set_preference(\"browser.helperApps.neverAsk.saveToDisk\", \"application/octet-stream\")\n",
    "\n",
    "browser = webdriver.Firefox()\n",
    "browser.get(\"http://www.boa.aragon.es/cgi-bin/EBOA/BRSCGI?CMD=VEROBJ&MLKOB=416252224338\")\n",
    "el = browser.find_element_by_id('download')\n",
    "el.click()\n"
   ]
  },
  {
   "cell_type": "code",
   "execution_count": 23,
   "metadata": {},
   "outputs": [],
   "source": [
    "import os\n",
    "\n",
    "from selenium import webdriver\n",
    "\n",
    "op = webdriver.FirefoxOptions()\n",
    "op.set_preference(\"browser.download.folderList\",2)\n",
    "op.set_preference(\"browser.download.manager.showWhenStarting\",False)\n",
    "op.set_preference(\"browser.download.dir\", os.getcwd())\n",
    "op.set_preference(\"browser.helperApps.neverAsk.saveToDisk\", \"application/pdf\")"
   ]
  },
  {
   "cell_type": "code",
   "execution_count": 8,
   "metadata": {},
   "outputs": [],
   "source": [
    "op.set_preference(\"browser.download.folderList\",2)\n",
    "op.set_preference(\"browser.download.manager.showWhenStarting\",False)\n",
    "op.set_preference(\"browser.download.dir\", os.getcwd())\n",
    "op.set_preference(\"browser.helperApps.neverAsk.saveToDisk\", \"application/octet-stream\")"
   ]
  },
  {
   "cell_type": "code",
   "execution_count": 25,
   "metadata": {},
   "outputs": [],
   "source": [
    "browser = webdriver.Firefox(options = op)\n",
    "#browser.get(\"http://www.boa.aragon.es/cgi-bin/EBOA/BRSCGI?CMD=VEROBJ&MLKOB=416252224338\")\n",
    "#el = browser.find_element_by_id('download')\n",
    "#el.click()\n",
    "browser.get(\"http://www.educaragon.org/files/SOLICITUD%20HUMANITARIAS.pdf\")\n",
    "el = browser.find_element_by_id('download')\n",
    "el.click()\n"
   ]
  }
 ],
 "metadata": {
  "kernelspec": {
   "display_name": "Python 3",
   "language": "python",
   "name": "python3"
  },
  "language_info": {
   "codemirror_mode": {
    "name": "ipython",
    "version": 3
   },
   "file_extension": ".py",
   "mimetype": "text/x-python",
   "name": "python",
   "nbconvert_exporter": "python",
   "pygments_lexer": "ipython3",
   "version": "3.6.5"
  }
 },
 "nbformat": 4,
 "nbformat_minor": 2
}
