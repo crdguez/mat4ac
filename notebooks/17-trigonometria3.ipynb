{
  "nbformat": 4,
  "nbformat_minor": 0,
  "metadata": {
    "colab": {
      "name": "7 Sistemas.ipynb",
      "provenance": []
    },
    "kernelspec": {
      "display_name": "Python 3",
      "language": "python",
      "name": "python3"
    },
    "language_info": {
      "codemirror_mode": {
        "name": "ipython",
        "version": 3
      },
      "file_extension": ".py",
      "mimetype": "text/x-python",
      "name": "python",
      "nbconvert_exporter": "python",
      "pygments_lexer": "ipython3",
      "version": "3.6.12"
    }
  },
  "cells": [
    {
      "cell_type": "code",
      "metadata": {
        "colab": {
          "base_uri": "https://localhost:8080/"
        },
        "id": "XLjKRF_kknDB",
        "outputId": "9d52622a-9f00-4c10-bb78-fc48678f0798"
      },
      "source": [
        "# Ejecutar para que funcione el parse_latex en google colab\n",
        "\n",
        "#!pip install sympy==1.5 antlr4-python3-runtime==4.7.1\n",
        "\n",
        "!pip install antlr4-python3-runtime==4.7.1"
      ],
      "execution_count": 5,
      "outputs": [
        {
          "output_type": "stream",
          "text": [
            "Requirement already satisfied: antlr4-python3-runtime==4.7.1 in /usr/local/lib/python3.7/dist-packages (4.7.1)\n"
          ],
          "name": "stdout"
        }
      ]
    },
    {
      "cell_type": "code",
      "metadata": {
        "colab": {
          "base_uri": "https://localhost:8080/"
        },
        "id": "tVIMjcDSknDa",
        "outputId": "783bc3df-9484-4e8a-8c06-55e19198641a"
      },
      "source": [
        "from sympy import init_session\n",
        "from sympy.parsing.latex import parse_latex\n",
        "from sympy.parsing.sympy_parser import parse_expr\n",
        "from IPython.display import Markdown as md\n",
        "from IPython.display import display\n",
        "\n",
        "\n",
        "init_session()"
      ],
      "execution_count": 6,
      "outputs": [
        {
          "output_type": "stream",
          "text": [
            "IPython console for SymPy 1.7.1 (Python 3.7.10-64-bit) (ground types: python)\n",
            "\n",
            "These commands were executed:\n",
            ">>> from __future__ import division\n",
            ">>> from sympy import *\n",
            ">>> x, y, z, t = symbols('x y z t')\n",
            ">>> k, m, n = symbols('k m n', integer=True)\n",
            ">>> f, g, h = symbols('f g h', cls=Function)\n",
            ">>> init_printing()\n",
            "\n",
            "Documentation can be found at https://docs.sympy.org/1.7.1/\n",
            "\n"
          ],
          "name": "stdout"
        }
      ]
    },
    {
      "cell_type": "code",
      "metadata": {
        "id": "U_EQ3XUBknDf"
      },
      "source": [
        "def latex_exam(question, parts):\n",
        "    tex=r\"\\question \"+question+r\"\\begin{parts} \"\n",
        "    for p in parts :\n",
        "        tex+=r\"\\part[1] \"+p[0]+r\"\\begin{solution} \"+p[1]+r\"\\end{solution} \" \n",
        "    tex+=r\"\\end{parts} \"\n",
        "    \n",
        "    return tex\n",
        "\n",
        "def mostrar_ejercicio(ejercicio,solucion,tipo=0) :\n",
        "    #tipo=0 se pasa el ejercicio y la solucion en formato latex\n",
        "    if tipo == 0 :\n",
        "        display(md(\"#### Ejercicio:\"))\n",
        "        display(md(r\"{} $\\to$ {}\".format(ejercicio, solucion)))\n",
        "        print(\"enunciado_latex: \" + ejercicio)\n",
        "        print(\"solucion_latex: \" + solucion)\n",
        "        return ejercicio, solucion\n",
        "    elif tipo == 1:\n",
        "        # falta desarrollar ...\n",
        "        display(md(\"#### Ejercicio:\"))\n",
        "        display(md(r\"{} $\\to$ {}\".format(ejercicio, solucion)))\n",
        "        print(\"enunciado_latex: \" + ejercicio)\n",
        "        print(\"solucion_latex: \" + solucion)\n",
        "        return ejercicio, solucion\n",
        "\n",
        "        "
      ],
      "execution_count": 7,
      "outputs": []
    },
    {
      "cell_type": "code",
      "metadata": {
        "colab": {
          "base_uri": "https://localhost:8080/",
          "height": 300
        },
        "id": "Vfv9cXJJOlr0",
        "outputId": "36cfd1d8-2cd7-4287-bd92-dd821460dcca"
      },
      "source": [
        "# Calcular el resto de razones trigonométricas \n",
        "\n",
        "texto_ejercicio = 'Calcular las razones trigonométricas de un ángulo agudo $x$ si:'\n",
        "display(md(\"**\"+texto_ejercicio+\"**\"))\n",
        "\n",
        "pre_enunciado_latex = [r'\\sin{x}=\\frac{1}{2}', \n",
        "                       r'\\tan{x}=\\frac{\\sqrt{3}}{3}',\n",
        "                      ]\n",
        "question=texto_ejercicio\n",
        "parts=[]\n",
        "for i in pre_enunciado_latex :\n",
        "    ang = solve(parse_latex(i))[0]                     \n",
        "    enun, sol =r\"$\"+i+r\"$\", r\"$\\sin{x}=\"+latex(sin(ang))+r\", \\cos{x}=\"+latex(cos(ang))+r\", \\tan{x}=\"+latex(tan(ang))+\"$\"\n",
        "    mostrar_ejercicio(enun, sol) \n",
        "    parts.append([enun, sol])         \n",
        "\n",
        "print(latex_exam(question, parts).replace(r'\\frac',r'\\dfrac'))"
      ],
      "execution_count": 8,
      "outputs": [
        {
          "output_type": "display_data",
          "data": {
            "text/markdown": "**Calcular las razones trigonométricas de un ángulo agudo $x$ si:**",
            "text/plain": [
              "<IPython.core.display.Markdown object>"
            ]
          },
          "metadata": {
            "tags": []
          }
        },
        {
          "output_type": "display_data",
          "data": {
            "text/markdown": "#### Ejercicio:",
            "text/plain": [
              "<IPython.core.display.Markdown object>"
            ]
          },
          "metadata": {
            "tags": []
          }
        },
        {
          "output_type": "display_data",
          "data": {
            "text/markdown": "$\\sin{x}=\\frac{1}{2}$ $\\to$ $\\sin{x}=\\frac{1}{2}, \\cos{x}=\\frac{\\sqrt{3}}{2}, \\tan{x}=\\frac{\\sqrt{3}}{3}$",
            "text/plain": [
              "<IPython.core.display.Markdown object>"
            ]
          },
          "metadata": {
            "tags": []
          }
        },
        {
          "output_type": "stream",
          "text": [
            "enunciado_latex: $\\sin{x}=\\frac{1}{2}$\n",
            "solucion_latex: $\\sin{x}=\\frac{1}{2}, \\cos{x}=\\frac{\\sqrt{3}}{2}, \\tan{x}=\\frac{\\sqrt{3}}{3}$\n"
          ],
          "name": "stdout"
        },
        {
          "output_type": "display_data",
          "data": {
            "text/markdown": "#### Ejercicio:",
            "text/plain": [
              "<IPython.core.display.Markdown object>"
            ]
          },
          "metadata": {
            "tags": []
          }
        },
        {
          "output_type": "display_data",
          "data": {
            "text/markdown": "$\\tan{x}=\\frac{\\sqrt{3}}{3}$ $\\to$ $\\sin{x}=\\frac{1}{2}, \\cos{x}=\\frac{\\sqrt{3}}{2}, \\tan{x}=\\frac{\\sqrt{3}}{3}$",
            "text/plain": [
              "<IPython.core.display.Markdown object>"
            ]
          },
          "metadata": {
            "tags": []
          }
        },
        {
          "output_type": "stream",
          "text": [
            "enunciado_latex: $\\tan{x}=\\frac{\\sqrt{3}}{3}$\n",
            "solucion_latex: $\\sin{x}=\\frac{1}{2}, \\cos{x}=\\frac{\\sqrt{3}}{2}, \\tan{x}=\\frac{\\sqrt{3}}{3}$\n",
            "\\question Calcular las razones trigonométricas de un ángulo agudo $x$ si:\\begin{parts} \\part[1] $\\sin{x}=\\dfrac{1}{2}$\\begin{solution} $\\sin{x}=\\dfrac{1}{2}, \\cos{x}=\\dfrac{\\sqrt{3}}{2}, \\tan{x}=\\dfrac{\\sqrt{3}}{3}$\\end{solution} \\part[1] $\\tan{x}=\\dfrac{\\sqrt{3}}{3}$\\begin{solution} $\\sin{x}=\\dfrac{1}{2}, \\cos{x}=\\dfrac{\\sqrt{3}}{2}, \\tan{x}=\\dfrac{\\sqrt{3}}{3}$\\end{solution} \\end{parts} \n"
          ],
          "name": "stdout"
        }
      ]
    },
    {
      "cell_type": "code",
      "metadata": {
        "id": "y7wIgGL0Olr3"
      },
      "source": [
        "def resolver_triangulo(d, um='cm.') :\n",
        "    \n",
        "# datos es una lista con valores a,b,c y A, B (C es 90 y c la hipotenusa). Solo tiene que haber dos datos > 0, el resto 0\n",
        "# Usa el primer cateto y/o primer ángulo como dato en caso de que falte el otro\n",
        "# Devuelve la lista con los datos del triángulo resuelto\n",
        "\n",
        "    if And(d[0] > 0 , d[1] > 0) :\n",
        "#         display('Me dan a y b')\n",
        "        d[2]=round(sqrt(d[0]**2+d[1]**2),2)\n",
        "        d[3]=round(deg(atan(i[0]/i[1])),2)\n",
        "        d[4]=90-d[3]\n",
        "#         display(d)\n",
        "        txt_enu = r'los catetos miden {} y {} {}'.format(d[0],d[1],um)\n",
        "    elif And(d[0] > 0 , d[2] > 0) :\n",
        "#         display('Me dan a y c') \n",
        "        d[1]=round(sqrt(d[2]**2-d[0]**2),2)\n",
        "        d[3]=round(deg(asin(i[1]/i[0])),2)\n",
        "        d[4]=90-d[3]\n",
        "#         display(d)\n",
        "        txt_enu = r'la hipotenusa mide {} y un cateto {} {}'.format(d[0],d[2], um)\n",
        "    elif And(d[0] > 0 , d[3] > 0) :\n",
        "#         display('Me dan a y A')\n",
        "        d[2]=round((d[0]/sin(rad(d[3]))),2)\n",
        "        d[1]=round(d[0]/tan(rad(d[3])),2)\n",
        "        d[4]=90-d[3]\n",
        "#         display(d)\n",
        "        txt_enu = r'un cateto mide {} {} y su ángulo opuesto {}º'.format(d[0],um,d[3])\n",
        "    elif And(d[0] > 0 , d[4] > 0) :\n",
        "#         display('Me dan a y B')\n",
        "        d[2]=round(d[0]/cos(rad(d[4])),2)\n",
        "        d[1]=round(d[0]*tan(rad(d[4])),2)\n",
        "        d[3]=90-d[4]\n",
        "#         display(d)\n",
        "        txt_enu = r'un cateto mide {} {} y el ángulo opuesto al otro cateto {}º'.format(d[0],um,d[4])\n",
        "    elif And(d[2] > 0 , d[3] > 0) :\n",
        "#         display('Me dan c y A')\n",
        "        d[0]=round(d[2]*sin(rad(d[3])),2)\n",
        "        d[1]=round(d[2]*cos(rad(d[3])),2)\n",
        "        d[4]=90-d[3]\n",
        "#         display(d)\n",
        "        txt_enu = r'la hipotenusa mide {} {} y un ángulo {}º'.format(d[2],um,d[3])\n",
        "\n",
        "    else :\n",
        "        display('Usa el primer cateto y/o primer ángulo como dato')\n",
        "    \n",
        "    txt_sol= 'Los lados del triángulo miden: $'+'$, $'.join(map(latex,d[:3]))+'$ {}'.format(um)\n",
        "    txt_sol +=' Y los ángulos: $'+'$, $'.join(map(latex,d[3:]))+'$, $90$ º'\n",
        "                                                            \n",
        "    return d, txt_enu, txt_sol"
      ],
      "execution_count": 9,
      "outputs": []
    },
    {
      "cell_type": "code",
      "metadata": {
        "colab": {
          "base_uri": "https://localhost:8080/",
          "height": 540
        },
        "id": "kQNI3P-6Olr5",
        "outputId": "1e696f5a-24d0-4c6c-c365-3f824179448d"
      },
      "source": [
        "# Resolver triángulos, Ver la función resolver_triangulo(d, um='cm.') \n",
        "\n",
        "texto_ejercicio = 'Resuelve los triángulos rectángulos:'\n",
        "display(md(\"**\"+texto_ejercicio+\"**\"))\n",
        "\n",
        "pre_enunciado_latex = [[5,12,0,0,0],\n",
        "                       [43,0,0,37,0],\n",
        "                       [7,0,0,0,58],\n",
        "                       [0,0,5.8,71,0],\n",
        "                       \n",
        "                      ]\n",
        "question=texto_ejercicio\n",
        "parts=[]\n",
        "for i in pre_enunciado_latex :\n",
        "    d=i\n",
        "    d, txt_enu, txt_sol= resolver_triangulo(d)\n",
        "#     enun = r\"La hipotenusa y un lado miden $\"+r\"$ cm. y $\".join(map(latex,i))+r\"$ cm. respectivamente\" \n",
        "    enun = r'Sabiendo que '+txt_enu\n",
        "#     s = [round(sqrt(i[0]**2-i[1]**2),2),(deg(asin(i[1]/i[0]))).evalf()]\n",
        "#     sol = r\"El otro cateto vale: $\"+latex(d[1])+r\"$ y los ańgulos agudos: $\"+\"$ y $\".join(map(latex,[d[3],d[4]]))+\"$\"\n",
        "    sol = txt_sol\n",
        "    mostrar_ejercicio(enun, sol) \n",
        "    parts.append([enun, sol])         \n",
        "\n",
        "print(latex_exam(question, parts).replace(r'\\frac',r'\\dfrac'))"
      ],
      "execution_count": 10,
      "outputs": [
        {
          "output_type": "display_data",
          "data": {
            "text/markdown": "**Resuelve los triángulos rectángulos:**",
            "text/plain": [
              "<IPython.core.display.Markdown object>"
            ]
          },
          "metadata": {
            "tags": []
          }
        },
        {
          "output_type": "display_data",
          "data": {
            "text/markdown": "#### Ejercicio:",
            "text/plain": [
              "<IPython.core.display.Markdown object>"
            ]
          },
          "metadata": {
            "tags": []
          }
        },
        {
          "output_type": "display_data",
          "data": {
            "text/markdown": "Sabiendo que los catetos miden 5 y 12 cm. $\\to$ Los lados del triángulo miden: $5$, $12$, $13$ cm. Y los ángulos: $22.62$, $67.38$, $90$ º",
            "text/plain": [
              "<IPython.core.display.Markdown object>"
            ]
          },
          "metadata": {
            "tags": []
          }
        },
        {
          "output_type": "stream",
          "text": [
            "enunciado_latex: Sabiendo que los catetos miden 5 y 12 cm.\n",
            "solucion_latex: Los lados del triángulo miden: $5$, $12$, $13$ cm. Y los ángulos: $22.62$, $67.38$, $90$ º\n"
          ],
          "name": "stdout"
        },
        {
          "output_type": "display_data",
          "data": {
            "text/markdown": "#### Ejercicio:",
            "text/plain": [
              "<IPython.core.display.Markdown object>"
            ]
          },
          "metadata": {
            "tags": []
          }
        },
        {
          "output_type": "display_data",
          "data": {
            "text/markdown": "Sabiendo que un cateto mide 43 cm. y su ángulo opuesto 37º $\\to$ Los lados del triángulo miden: $43$, $57.06$, $71.45$ cm. Y los ángulos: $37$, $53$, $90$ º",
            "text/plain": [
              "<IPython.core.display.Markdown object>"
            ]
          },
          "metadata": {
            "tags": []
          }
        },
        {
          "output_type": "stream",
          "text": [
            "enunciado_latex: Sabiendo que un cateto mide 43 cm. y su ángulo opuesto 37º\n",
            "solucion_latex: Los lados del triángulo miden: $43$, $57.06$, $71.45$ cm. Y los ángulos: $37$, $53$, $90$ º\n"
          ],
          "name": "stdout"
        },
        {
          "output_type": "display_data",
          "data": {
            "text/markdown": "#### Ejercicio:",
            "text/plain": [
              "<IPython.core.display.Markdown object>"
            ]
          },
          "metadata": {
            "tags": []
          }
        },
        {
          "output_type": "display_data",
          "data": {
            "text/markdown": "Sabiendo que un cateto mide 7 cm. y el ángulo opuesto al otro cateto 58º $\\to$ Los lados del triángulo miden: $7$, $11.2$, $13.21$ cm. Y los ángulos: $32$, $58$, $90$ º",
            "text/plain": [
              "<IPython.core.display.Markdown object>"
            ]
          },
          "metadata": {
            "tags": []
          }
        },
        {
          "output_type": "stream",
          "text": [
            "enunciado_latex: Sabiendo que un cateto mide 7 cm. y el ángulo opuesto al otro cateto 58º\n",
            "solucion_latex: Los lados del triángulo miden: $7$, $11.2$, $13.21$ cm. Y los ángulos: $32$, $58$, $90$ º\n"
          ],
          "name": "stdout"
        },
        {
          "output_type": "display_data",
          "data": {
            "text/markdown": "#### Ejercicio:",
            "text/plain": [
              "<IPython.core.display.Markdown object>"
            ]
          },
          "metadata": {
            "tags": []
          }
        },
        {
          "output_type": "display_data",
          "data": {
            "text/markdown": "Sabiendo que la hipotenusa mide 5.8 cm. y un ángulo 71º $\\to$ Los lados del triángulo miden: $5.48$, $1.89$, $5.8$ cm. Y los ángulos: $71$, $19$, $90$ º",
            "text/plain": [
              "<IPython.core.display.Markdown object>"
            ]
          },
          "metadata": {
            "tags": []
          }
        },
        {
          "output_type": "stream",
          "text": [
            "enunciado_latex: Sabiendo que la hipotenusa mide 5.8 cm. y un ángulo 71º\n",
            "solucion_latex: Los lados del triángulo miden: $5.48$, $1.89$, $5.8$ cm. Y los ángulos: $71$, $19$, $90$ º\n",
            "\\question Resuelve los triángulos rectángulos:\\begin{parts} \\part[1] Sabiendo que los catetos miden 5 y 12 cm.\\begin{solution} Los lados del triángulo miden: $5$, $12$, $13$ cm. Y los ángulos: $22.62$, $67.38$, $90$ º\\end{solution} \\part[1] Sabiendo que un cateto mide 43 cm. y su ángulo opuesto 37º\\begin{solution} Los lados del triángulo miden: $43$, $57.06$, $71.45$ cm. Y los ángulos: $37$, $53$, $90$ º\\end{solution} \\part[1] Sabiendo que un cateto mide 7 cm. y el ángulo opuesto al otro cateto 58º\\begin{solution} Los lados del triángulo miden: $7$, $11.2$, $13.21$ cm. Y los ángulos: $32$, $58$, $90$ º\\end{solution} \\part[1] Sabiendo que la hipotenusa mide 5.8 cm. y un ángulo 71º\\begin{solution} Los lados del triángulo miden: $5.48$, $1.89$, $5.8$ cm. Y los ángulos: $71$, $19$, $90$ º\\end{solution} \\end{parts} \n"
          ],
          "name": "stdout"
        }
      ]
    },
    {
      "cell_type": "code",
      "metadata": {
        "colab": {
          "base_uri": "https://localhost:8080/",
          "height": 534
        },
        "id": "V1X6lHAWOlr7",
        "outputId": "2624c847-17d1-48f5-c636-3e178675136b"
      },
      "source": [
        "def cuadrantes_segun_signo(f,s) :\n",
        "    #recibe una función trigonométrica y el signo\n",
        "    #devuelve los dos cuadrantes posibles\n",
        "    if latex(f).find('sin') > -1 :\n",
        "        if s == '+':\n",
        "            s=FiniteSet(1, 2)\n",
        "        else :\n",
        "            s=FiniteSet(3, 4)\n",
        "    if latex(f).find('cos') > -1 :\n",
        "        if s == '+':\n",
        "            s=FiniteSet(1, 4)\n",
        "        else :\n",
        "            s=FiniteSet(2, 3)\n",
        "    if latex(f).find('tan') > -1 :\n",
        "        if s == '+':\n",
        "            s=FiniteSet(1, 3)\n",
        "        else :\n",
        "            s=FiniteSet(2, 4)\n",
        "    return s\n",
        "\n",
        "\n",
        "def cuadrante_razon_signo(i):\n",
        "    # recibe una razón trigonomética y el signo de otra razón \n",
        "    # [r'\\sin{\\alpha}=0.6',r'\\cos{\\alpha}<0']\n",
        "    fa=parse_latex(i[0]).args[0]\n",
        "    sa='+' if parse_latex(i[0]).args[1]>0 else '-'\n",
        "\n",
        "    fb=parse_latex(i[1]).args[0]\n",
        "    sb='+' if i[1].find('>')>-1 else '-'\n",
        "#     return sa,sb,list(cuadrantes_segun_signo(fa,sa).intersect(cuadrantes_segun_signo(fb,sb)))\n",
        "    return list(cuadrantes_segun_signo(fa,sa).intersect(cuadrantes_segun_signo(fb,sb)))[0]\n",
        "\n",
        "\n",
        "def razon_cuadrante(raz_tex,cuad):\n",
        "    #devuelve la lista de ángulos candidatos, el que está en cuadrante y las razones\n",
        "    raz = parse_latex(raz_tex)\n",
        "    # radianes\n",
        "    list_ang=list(map(lambda a: a if a >=0 else a+2*pi, solve(raz)))\n",
        "    # Las ecuaciones con tangente solo dan una solucion\n",
        "    if len(list_ang) == 1 : list_ang.append((list_ang[0]+pi)%(2*pi))\n",
        "    ang=list(filter(lambda c: c > (cuad-1)*pi/2 and c < (cuad)*pi/2,list_ang))[0]\n",
        "    #devuelve la lista de ángulos candidatos, el que está en cuadrante y las razones\n",
        "    return [round(deg(a),2) for a in list_ang], round(deg(ang),2), sin(ang),cos(ang),tan(ang)\n",
        "\n",
        "texto_ejercicio = 'Calcular las razones trigonométricas de un ángulo $\\\\alpha$ si:'\n",
        "display(md(\"**\"+texto_ejercicio+\"**\"))\n",
        "\n",
        "pre_enunciado_latex = [[r'\\sin{\\alpha}=0.6',r'\\cos{\\alpha}<0'] ,\n",
        "                       [r'\\cos{\\alpha}=-1/3',r'\\tan{\\alpha}>0'] ,\n",
        "                       [r'\\tan{\\alpha}=-2',r'\\sin{\\alpha}>0'] ,\n",
        "                       [r'\\sin{\\alpha}=-2/3',r'\\tan{\\alpha}<0'] ,\n",
        "            \n",
        "                      ]\n",
        "question=texto_ejercicio\n",
        "parts=[]\n",
        "for i in pre_enunciado_latex :\n",
        "#     fun_latex=i[0].replace('\\\\alpha','x')\n",
        "    raz, cuad = i[0],cuadrante_razon_signo(i)\n",
        "#     display(cuadrante_razon_signo(i))\n",
        "    \n",
        "    lista_ang, ang, s, c, t =razon_cuadrante(raz,cuad)\n",
        "    cu = 'I' if cuad==1 else 'II' if cuad==2 else 'III' if cuad==3 else 'IV'\n",
        "#     enun = r\"$\"+raz+r\" \\land \\alpha \\in \"+cu+\"$ \"\n",
        "    enun = r\"$\"+raz+r\" \\land \"+i[1]+\"$ \"\n",
        "    sol=r\"$\\sin{\\alpha}=\"+latex(s)\n",
        "    sol+=r\", \\cos{\\alpha}=\"+latex(c)+r\", \\tan{\\alpha}=\"+latex(t)+r\"$. \\\\ \"\n",
        "    sol+=r\"El ángulo que cumple las condiciones del ejercicio es: $\"+latex(ang)+r\"º$\"\n",
        "    mostrar_ejercicio(enun, sol) \n",
        "    parts.append([enun, sol])         \n",
        "\n",
        "print(latex_exam(question, parts).replace(r'\\frac',r'\\dfrac'))"
      ],
      "execution_count": 11,
      "outputs": [
        {
          "output_type": "display_data",
          "data": {
            "text/markdown": "**Calcular las razones trigonométricas de un ángulo $\\alpha$ si:**",
            "text/plain": [
              "<IPython.core.display.Markdown object>"
            ]
          },
          "metadata": {
            "tags": []
          }
        },
        {
          "output_type": "display_data",
          "data": {
            "text/markdown": "#### Ejercicio:",
            "text/plain": [
              "<IPython.core.display.Markdown object>"
            ]
          },
          "metadata": {
            "tags": []
          }
        },
        {
          "output_type": "display_data",
          "data": {
            "text/markdown": "$\\sin{\\alpha}=0.6 \\land \\cos{\\alpha}<0$  $\\to$ $\\sin{\\alpha}=0.6, \\cos{\\alpha}=-0.8, \\tan{\\alpha}=-0.75$. \\\\ El ángulo que cumple las condiciones del ejercicio es: $143.13º$",
            "text/plain": [
              "<IPython.core.display.Markdown object>"
            ]
          },
          "metadata": {
            "tags": []
          }
        },
        {
          "output_type": "stream",
          "text": [
            "enunciado_latex: $\\sin{\\alpha}=0.6 \\land \\cos{\\alpha}<0$ \n",
            "solucion_latex: $\\sin{\\alpha}=0.6, \\cos{\\alpha}=-0.8, \\tan{\\alpha}=-0.75$. \\\\ El ángulo que cumple las condiciones del ejercicio es: $143.13º$\n"
          ],
          "name": "stdout"
        },
        {
          "output_type": "display_data",
          "data": {
            "text/markdown": "#### Ejercicio:",
            "text/plain": [
              "<IPython.core.display.Markdown object>"
            ]
          },
          "metadata": {
            "tags": []
          }
        },
        {
          "output_type": "display_data",
          "data": {
            "text/markdown": "$\\cos{\\alpha}=-1/3 \\land \\tan{\\alpha}>0$  $\\to$ $\\sin{\\alpha}=- \\frac{2 \\sqrt{2}}{3}, \\cos{\\alpha}=- \\frac{1}{3}, \\tan{\\alpha}=2 \\sqrt{2}$. \\\\ El ángulo que cumple las condiciones del ejercicio es: $250.53º$",
            "text/plain": [
              "<IPython.core.display.Markdown object>"
            ]
          },
          "metadata": {
            "tags": []
          }
        },
        {
          "output_type": "stream",
          "text": [
            "enunciado_latex: $\\cos{\\alpha}=-1/3 \\land \\tan{\\alpha}>0$ \n",
            "solucion_latex: $\\sin{\\alpha}=- \\frac{2 \\sqrt{2}}{3}, \\cos{\\alpha}=- \\frac{1}{3}, \\tan{\\alpha}=2 \\sqrt{2}$. \\\\ El ángulo que cumple las condiciones del ejercicio es: $250.53º$\n"
          ],
          "name": "stdout"
        },
        {
          "output_type": "display_data",
          "data": {
            "text/markdown": "#### Ejercicio:",
            "text/plain": [
              "<IPython.core.display.Markdown object>"
            ]
          },
          "metadata": {
            "tags": []
          }
        },
        {
          "output_type": "display_data",
          "data": {
            "text/markdown": "$\\tan{\\alpha}=-2 \\land \\sin{\\alpha}>0$  $\\to$ $\\sin{\\alpha}=\\frac{2 \\sqrt{5}}{5}, \\cos{\\alpha}=- \\frac{\\sqrt{5}}{5}, \\tan{\\alpha}=-2$. \\\\ El ángulo que cumple las condiciones del ejercicio es: $116.57º$",
            "text/plain": [
              "<IPython.core.display.Markdown object>"
            ]
          },
          "metadata": {
            "tags": []
          }
        },
        {
          "output_type": "stream",
          "text": [
            "enunciado_latex: $\\tan{\\alpha}=-2 \\land \\sin{\\alpha}>0$ \n",
            "solucion_latex: $\\sin{\\alpha}=\\frac{2 \\sqrt{5}}{5}, \\cos{\\alpha}=- \\frac{\\sqrt{5}}{5}, \\tan{\\alpha}=-2$. \\\\ El ángulo que cumple las condiciones del ejercicio es: $116.57º$\n"
          ],
          "name": "stdout"
        },
        {
          "output_type": "display_data",
          "data": {
            "text/markdown": "#### Ejercicio:",
            "text/plain": [
              "<IPython.core.display.Markdown object>"
            ]
          },
          "metadata": {
            "tags": []
          }
        },
        {
          "output_type": "display_data",
          "data": {
            "text/markdown": "$\\sin{\\alpha}=-2/3 \\land \\tan{\\alpha}<0$  $\\to$ $\\sin{\\alpha}=- \\frac{2}{3}, \\cos{\\alpha}=\\frac{\\sqrt{5}}{3}, \\tan{\\alpha}=- \\frac{2 \\sqrt{5}}{5}$. \\\\ El ángulo que cumple las condiciones del ejercicio es: $318.19º$",
            "text/plain": [
              "<IPython.core.display.Markdown object>"
            ]
          },
          "metadata": {
            "tags": []
          }
        },
        {
          "output_type": "stream",
          "text": [
            "enunciado_latex: $\\sin{\\alpha}=-2/3 \\land \\tan{\\alpha}<0$ \n",
            "solucion_latex: $\\sin{\\alpha}=- \\frac{2}{3}, \\cos{\\alpha}=\\frac{\\sqrt{5}}{3}, \\tan{\\alpha}=- \\frac{2 \\sqrt{5}}{5}$. \\\\ El ángulo que cumple las condiciones del ejercicio es: $318.19º$\n",
            "\\question Calcular las razones trigonométricas de un ángulo $\\alpha$ si:\\begin{parts} \\part[1] $\\sin{\\alpha}=0.6 \\land \\cos{\\alpha}<0$ \\begin{solution} $\\sin{\\alpha}=0.6, \\cos{\\alpha}=-0.8, \\tan{\\alpha}=-0.75$. \\\\ El ángulo que cumple las condiciones del ejercicio es: $143.13º$\\end{solution} \\part[1] $\\cos{\\alpha}=-1/3 \\land \\tan{\\alpha}>0$ \\begin{solution} $\\sin{\\alpha}=- \\dfrac{2 \\sqrt{2}}{3}, \\cos{\\alpha}=- \\dfrac{1}{3}, \\tan{\\alpha}=2 \\sqrt{2}$. \\\\ El ángulo que cumple las condiciones del ejercicio es: $250.53º$\\end{solution} \\part[1] $\\tan{\\alpha}=-2 \\land \\sin{\\alpha}>0$ \\begin{solution} $\\sin{\\alpha}=\\dfrac{2 \\sqrt{5}}{5}, \\cos{\\alpha}=- \\dfrac{\\sqrt{5}}{5}, \\tan{\\alpha}=-2$. \\\\ El ángulo que cumple las condiciones del ejercicio es: $116.57º$\\end{solution} \\part[1] $\\sin{\\alpha}=-2/3 \\land \\tan{\\alpha}<0$ \\begin{solution} $\\sin{\\alpha}=- \\dfrac{2}{3}, \\cos{\\alpha}=\\dfrac{\\sqrt{5}}{3}, \\tan{\\alpha}=- \\dfrac{2 \\sqrt{5}}{5}$. \\\\ El ángulo que cumple las condiciones del ejercicio es: $318.19º$\\end{solution} \\end{parts} \n"
          ],
          "name": "stdout"
        }
      ]
    },
    {
      "cell_type": "code",
      "metadata": {
        "colab": {
          "base_uri": "https://localhost:8080/",
          "height": 295
        },
        "id": "yBpSEQiWOlr8",
        "outputId": "a623fc15-baf3-448f-f8cc-4cab74bf70a2"
      },
      "source": [
        "texto_ejercicio = 'Calcular las razones trigonométricas de un ángulo $\\\\alpha$ si:'\n",
        "display(md(\"**\"+texto_ejercicio+\"**\"))\n",
        "\n",
        "pre_enunciado_latex = [[r'\\sin{\\alpha}=0.6',1] , \n",
        "                       [r'\\sin{\\alpha}=0.6',2] , \n",
        "            \n",
        "                      ]\n",
        "question=texto_ejercicio\n",
        "parts=[]\n",
        "for i in pre_enunciado_latex :\n",
        "#     fun_latex=i[0].replace('\\\\alpha','x')\n",
        "    raz, cuad = i[0],i[1]\n",
        "#     display(cuadrante_razon_signo(i))\n",
        "    \n",
        "    lista_ang, ang, s, c, t =razon_cuadrante(raz,cuad)\n",
        "    cu = 'I' if cuad==1 else 'II' if cuad==2 else 'III' if cuad==3 else 'IV'\n",
        "    enun = r\"$\"+raz+r\" \\land \\alpha \\in \"+cu+\"$ \"\n",
        "#     enun = r\"$\"+raz+r\" \\land \"+i[1]+\"$ \"\n",
        "    sol=r\"$\\sin{\\alpha}=\"+latex(s)\n",
        "    sol+=r\", \\cos{\\alpha}=\"+latex(c)+r\", \\tan{\\alpha}=\"+latex(t)+r\"$. \\\\ \"\n",
        "    sol+=r\"El ángulo que cumple las condiciones del ejercicio es: $\"+latex(ang)+r\"º$\"\n",
        "    mostrar_ejercicio(enun, sol) \n",
        "    parts.append([enun, sol])         \n",
        "\n",
        "print(latex_exam(question, parts).replace(r'\\frac',r'\\dfrac'))"
      ],
      "execution_count": 12,
      "outputs": [
        {
          "output_type": "display_data",
          "data": {
            "text/markdown": "**Calcular las razones trigonométricas de un ángulo $\\alpha$ si:**",
            "text/plain": [
              "<IPython.core.display.Markdown object>"
            ]
          },
          "metadata": {
            "tags": []
          }
        },
        {
          "output_type": "display_data",
          "data": {
            "text/markdown": "#### Ejercicio:",
            "text/plain": [
              "<IPython.core.display.Markdown object>"
            ]
          },
          "metadata": {
            "tags": []
          }
        },
        {
          "output_type": "display_data",
          "data": {
            "text/markdown": "$\\sin{\\alpha}=0.6 \\land \\alpha \\in I$  $\\to$ $\\sin{\\alpha}=0.6, \\cos{\\alpha}=0.8, \\tan{\\alpha}=0.75$. \\\\ El ángulo que cumple las condiciones del ejercicio es: $36.87º$",
            "text/plain": [
              "<IPython.core.display.Markdown object>"
            ]
          },
          "metadata": {
            "tags": []
          }
        },
        {
          "output_type": "stream",
          "text": [
            "enunciado_latex: $\\sin{\\alpha}=0.6 \\land \\alpha \\in I$ \n",
            "solucion_latex: $\\sin{\\alpha}=0.6, \\cos{\\alpha}=0.8, \\tan{\\alpha}=0.75$. \\\\ El ángulo que cumple las condiciones del ejercicio es: $36.87º$\n"
          ],
          "name": "stdout"
        },
        {
          "output_type": "display_data",
          "data": {
            "text/markdown": "#### Ejercicio:",
            "text/plain": [
              "<IPython.core.display.Markdown object>"
            ]
          },
          "metadata": {
            "tags": []
          }
        },
        {
          "output_type": "display_data",
          "data": {
            "text/markdown": "$\\sin{\\alpha}=0.6 \\land \\alpha \\in II$  $\\to$ $\\sin{\\alpha}=0.6, \\cos{\\alpha}=-0.8, \\tan{\\alpha}=-0.75$. \\\\ El ángulo que cumple las condiciones del ejercicio es: $143.13º$",
            "text/plain": [
              "<IPython.core.display.Markdown object>"
            ]
          },
          "metadata": {
            "tags": []
          }
        },
        {
          "output_type": "stream",
          "text": [
            "enunciado_latex: $\\sin{\\alpha}=0.6 \\land \\alpha \\in II$ \n",
            "solucion_latex: $\\sin{\\alpha}=0.6, \\cos{\\alpha}=-0.8, \\tan{\\alpha}=-0.75$. \\\\ El ángulo que cumple las condiciones del ejercicio es: $143.13º$\n",
            "\\question Calcular las razones trigonométricas de un ángulo $\\alpha$ si:\\begin{parts} \\part[1] $\\sin{\\alpha}=0.6 \\land \\alpha \\in I$ \\begin{solution} $\\sin{\\alpha}=0.6, \\cos{\\alpha}=0.8, \\tan{\\alpha}=0.75$. \\\\ El ángulo que cumple las condiciones del ejercicio es: $36.87º$\\end{solution} \\part[1] $\\sin{\\alpha}=0.6 \\land \\alpha \\in II$ \\begin{solution} $\\sin{\\alpha}=0.6, \\cos{\\alpha}=-0.8, \\tan{\\alpha}=-0.75$. \\\\ El ángulo que cumple las condiciones del ejercicio es: $143.13º$\\end{solution} \\end{parts} \n"
          ],
          "name": "stdout"
        }
      ]
    },
    {
      "cell_type": "code",
      "metadata": {
        "colab": {
          "base_uri": "https://localhost:8080/",
          "height": 514
        },
        "id": "iG8BYulZOlr_",
        "outputId": "48b25fcf-613c-4b18-f3aa-80d0be028149"
      },
      "source": [
        "texto_ejercicio = 'Calcular las razones trigonométricas de un ángulo $\\\\alpha$ si:'\n",
        "display(md(\"**\"+texto_ejercicio+\"**\"))\n",
        "\n",
        "pre_enunciado_latex = [[r'\\sin{\\alpha}=4/5',r'\\alpha < 90'] , \n",
        "                       [r'\\cos{\\alpha}=2/3',r'\\alpha > 270'] ,\n",
        "                       [r'\\tan{\\alpha}=3',r'\\alpha > 180'] ,\n",
        "                       [r'\\cos{\\alpha}=-3/4',r'\\alpha < 180'] ,\n",
        "            \n",
        "                      ]\n",
        "question=texto_ejercicio\n",
        "parts=[]\n",
        "for i in pre_enunciado_latex :\n",
        "#     fun_latex=i[0].replace('\\\\alpha','x')\n",
        "    cuadrantes=[1,2,3,4]\n",
        "    filtro2=list(filter(lambda a: eval('a'+i[1].replace(' ','')[6:].replace('<90','<=1').replace('<180','<=2')\n",
        "                               .replace('<270','<=3').replace('<360','<=4').replace('>90','>1').\n",
        "                               replace('>180','>2').replace('>270','>3').replace('>360','>4')),cuadrantes))\n",
        "    signo='+' if sign(parse_latex(i[0]).args[1])>0 else '-'\n",
        "    s1=cuadrantes_segun_signo(i[0],signo)\n",
        "    s2=FiniteSet(*filtro2)\n",
        "    raz, cuad = i[0],list(s1.intersect(s2))[0]\n",
        "#     display(cuadrante_razon_signo(i))\n",
        "    \n",
        "    lista_ang, ang, s, c, t =razon_cuadrante(raz,cuad)\n",
        "    cu = 'I' if cuad==1 else 'II' if cuad==2 else 'III' if cuad==3 else 'IV'\n",
        "#     enun = r\"$\"+raz+r\" \\land \\alpha \\in \"+cu+\"$ \"\n",
        "    enun = r\"$\"+raz+r\" \\land \"+i[1]+\"$ \"\n",
        "    sol=r\"$\\sin{\\alpha}=\"+latex(s)\n",
        "    sol+=r\", \\cos{\\alpha}=\"+latex(c)+r\", \\tan{\\alpha}=\"+latex(t)+r\"$. \\\\ \"\n",
        "    sol+=r\"El ángulo que cumple las condiciones del ejercicio es: $\"+latex(ang)+r\"º$\"\n",
        "    mostrar_ejercicio(enun, sol) \n",
        "    parts.append([enun, sol])         \n",
        "\n",
        "print(latex_exam(question, parts).replace(r'\\frac',r'\\dfrac'))"
      ],
      "execution_count": 13,
      "outputs": [
        {
          "output_type": "display_data",
          "data": {
            "text/markdown": "**Calcular las razones trigonométricas de un ángulo $\\alpha$ si:**",
            "text/plain": [
              "<IPython.core.display.Markdown object>"
            ]
          },
          "metadata": {
            "tags": []
          }
        },
        {
          "output_type": "display_data",
          "data": {
            "text/markdown": "#### Ejercicio:",
            "text/plain": [
              "<IPython.core.display.Markdown object>"
            ]
          },
          "metadata": {
            "tags": []
          }
        },
        {
          "output_type": "display_data",
          "data": {
            "text/markdown": "$\\sin{\\alpha}=4/5 \\land \\alpha < 90$  $\\to$ $\\sin{\\alpha}=\\frac{4}{5}, \\cos{\\alpha}=\\frac{3}{5}, \\tan{\\alpha}=\\frac{4}{3}$. \\\\ El ángulo que cumple las condiciones del ejercicio es: $53.13º$",
            "text/plain": [
              "<IPython.core.display.Markdown object>"
            ]
          },
          "metadata": {
            "tags": []
          }
        },
        {
          "output_type": "stream",
          "text": [
            "enunciado_latex: $\\sin{\\alpha}=4/5 \\land \\alpha < 90$ \n",
            "solucion_latex: $\\sin{\\alpha}=\\frac{4}{5}, \\cos{\\alpha}=\\frac{3}{5}, \\tan{\\alpha}=\\frac{4}{3}$. \\\\ El ángulo que cumple las condiciones del ejercicio es: $53.13º$\n"
          ],
          "name": "stdout"
        },
        {
          "output_type": "display_data",
          "data": {
            "text/markdown": "#### Ejercicio:",
            "text/plain": [
              "<IPython.core.display.Markdown object>"
            ]
          },
          "metadata": {
            "tags": []
          }
        },
        {
          "output_type": "display_data",
          "data": {
            "text/markdown": "$\\cos{\\alpha}=2/3 \\land \\alpha > 270$  $\\to$ $\\sin{\\alpha}=- \\frac{\\sqrt{5}}{3}, \\cos{\\alpha}=\\frac{2}{3}, \\tan{\\alpha}=- \\frac{\\sqrt{5}}{2}$. \\\\ El ángulo que cumple las condiciones del ejercicio es: $311.81º$",
            "text/plain": [
              "<IPython.core.display.Markdown object>"
            ]
          },
          "metadata": {
            "tags": []
          }
        },
        {
          "output_type": "stream",
          "text": [
            "enunciado_latex: $\\cos{\\alpha}=2/3 \\land \\alpha > 270$ \n",
            "solucion_latex: $\\sin{\\alpha}=- \\frac{\\sqrt{5}}{3}, \\cos{\\alpha}=\\frac{2}{3}, \\tan{\\alpha}=- \\frac{\\sqrt{5}}{2}$. \\\\ El ángulo que cumple las condiciones del ejercicio es: $311.81º$\n"
          ],
          "name": "stdout"
        },
        {
          "output_type": "display_data",
          "data": {
            "text/markdown": "#### Ejercicio:",
            "text/plain": [
              "<IPython.core.display.Markdown object>"
            ]
          },
          "metadata": {
            "tags": []
          }
        },
        {
          "output_type": "display_data",
          "data": {
            "text/markdown": "$\\tan{\\alpha}=3 \\land \\alpha > 180$  $\\to$ $\\sin{\\alpha}=- \\frac{3 \\sqrt{10}}{10}, \\cos{\\alpha}=- \\frac{\\sqrt{10}}{10}, \\tan{\\alpha}=3$. \\\\ El ángulo que cumple las condiciones del ejercicio es: $251.57º$",
            "text/plain": [
              "<IPython.core.display.Markdown object>"
            ]
          },
          "metadata": {
            "tags": []
          }
        },
        {
          "output_type": "stream",
          "text": [
            "enunciado_latex: $\\tan{\\alpha}=3 \\land \\alpha > 180$ \n",
            "solucion_latex: $\\sin{\\alpha}=- \\frac{3 \\sqrt{10}}{10}, \\cos{\\alpha}=- \\frac{\\sqrt{10}}{10}, \\tan{\\alpha}=3$. \\\\ El ángulo que cumple las condiciones del ejercicio es: $251.57º$\n"
          ],
          "name": "stdout"
        },
        {
          "output_type": "display_data",
          "data": {
            "text/markdown": "#### Ejercicio:",
            "text/plain": [
              "<IPython.core.display.Markdown object>"
            ]
          },
          "metadata": {
            "tags": []
          }
        },
        {
          "output_type": "display_data",
          "data": {
            "text/markdown": "$\\cos{\\alpha}=-3/4 \\land \\alpha < 180$  $\\to$ $\\sin{\\alpha}=\\frac{\\sqrt{7}}{4}, \\cos{\\alpha}=- \\frac{3}{4}, \\tan{\\alpha}=- \\frac{\\sqrt{7}}{3}$. \\\\ El ángulo que cumple las condiciones del ejercicio es: $138.59º$",
            "text/plain": [
              "<IPython.core.display.Markdown object>"
            ]
          },
          "metadata": {
            "tags": []
          }
        },
        {
          "output_type": "stream",
          "text": [
            "enunciado_latex: $\\cos{\\alpha}=-3/4 \\land \\alpha < 180$ \n",
            "solucion_latex: $\\sin{\\alpha}=\\frac{\\sqrt{7}}{4}, \\cos{\\alpha}=- \\frac{3}{4}, \\tan{\\alpha}=- \\frac{\\sqrt{7}}{3}$. \\\\ El ángulo que cumple las condiciones del ejercicio es: $138.59º$\n",
            "\\question Calcular las razones trigonométricas de un ángulo $\\alpha$ si:\\begin{parts} \\part[1] $\\sin{\\alpha}=4/5 \\land \\alpha < 90$ \\begin{solution} $\\sin{\\alpha}=\\dfrac{4}{5}, \\cos{\\alpha}=\\dfrac{3}{5}, \\tan{\\alpha}=\\dfrac{4}{3}$. \\\\ El ángulo que cumple las condiciones del ejercicio es: $53.13º$\\end{solution} \\part[1] $\\cos{\\alpha}=2/3 \\land \\alpha > 270$ \\begin{solution} $\\sin{\\alpha}=- \\dfrac{\\sqrt{5}}{3}, \\cos{\\alpha}=\\dfrac{2}{3}, \\tan{\\alpha}=- \\dfrac{\\sqrt{5}}{2}$. \\\\ El ángulo que cumple las condiciones del ejercicio es: $311.81º$\\end{solution} \\part[1] $\\tan{\\alpha}=3 \\land \\alpha > 180$ \\begin{solution} $\\sin{\\alpha}=- \\dfrac{3 \\sqrt{10}}{10}, \\cos{\\alpha}=- \\dfrac{\\sqrt{10}}{10}, \\tan{\\alpha}=3$. \\\\ El ángulo que cumple las condiciones del ejercicio es: $251.57º$\\end{solution} \\part[1] $\\cos{\\alpha}=-3/4 \\land \\alpha < 180$ \\begin{solution} $\\sin{\\alpha}=\\dfrac{\\sqrt{7}}{4}, \\cos{\\alpha}=- \\dfrac{3}{4}, \\tan{\\alpha}=- \\dfrac{\\sqrt{7}}{3}$. \\\\ El ángulo que cumple las condiciones del ejercicio es: $138.59º$\\end{solution} \\end{parts} \n"
          ],
          "name": "stdout"
        }
      ]
    },
    {
      "cell_type": "code",
      "metadata": {
        "scrolled": true,
        "colab": {
          "base_uri": "https://localhost:8080/",
          "height": 313
        },
        "id": "xkivn2ZjOlsB",
        "outputId": "6b5ad1fd-0a11-4e22-c5ab-68e38a861412"
      },
      "source": [
        "# Calcular  a partir de dos triángulos\n",
        "\n",
        "\n",
        "texto_ejercicio = \"Resuelve\"\n",
        "display(md(\"**\"+texto_ejercicio+\"**\"))\n",
        "\n",
        "pre_enunciado_latex = [[28,20,40,'del edificio'], \n",
        "                       ]\n",
        "question=texto_ejercicio\n",
        "parts=[]\n",
        "for i in pre_enunciado_latex :\n",
        "                    \n",
        "    enun = r\"\"\"Desde el punto donde estoy, la visual al punto más alto {} que tengo \n",
        "        enfrente forma un ángulo de {}° con la horizontal. Si me acerco {} m, el ángulo es de {}°.\n",
        "        ¿Cuál es la altura del edificio?\"\"\".format(i[3],latex(i[0]),latex(i[1]),latex(i[2]))\n",
        "    sol= r\"\"\"$ \\left\\{\\begin{matrix}\"\"\"\n",
        "    sol += latex(Eq(tan(i[2]),y/x)) + r\" \\\\ \"\n",
        "    sol += latex(Eq(tan(i[0]),y/(i[1]+x))) + r\" \\\\ \\end{matrix}\\right. \\to \"\n",
        "    sol += latex(solve([Eq(round(tan(rad(i[2])),4),y/x),Eq(round(tan(rad(i[0])),4),y/(i[1]+x))])) + \"$\"\n",
        "    mostrar_ejercicio(enun, sol)  \n",
        "    parts.append([enun, sol])         \n",
        "\n",
        "print(latex_exam(question, parts).replace(r'\\frac',r'\\dfrac'))"
      ],
      "execution_count": 14,
      "outputs": [
        {
          "output_type": "display_data",
          "data": {
            "text/markdown": "**Resuelve**",
            "text/plain": [
              "<IPython.core.display.Markdown object>"
            ]
          },
          "metadata": {
            "tags": []
          }
        },
        {
          "output_type": "display_data",
          "data": {
            "text/markdown": "#### Ejercicio:",
            "text/plain": [
              "<IPython.core.display.Markdown object>"
            ]
          },
          "metadata": {
            "tags": []
          }
        },
        {
          "output_type": "display_data",
          "data": {
            "text/markdown": "Desde el punto donde estoy, la visual al punto más alto del edificio que tengo \n        enfrente forma un ángulo de 28° con la horizontal. Si me acerco 20 m, el ángulo es de 40°.\n        ¿Cuál es la altura del edificio? $\\to$ $ \\left\\{\\begin{matrix}\\tan{\\left(40 \\right)} = \\frac{y}{x} \\\\ \\tan{\\left(28 \\right)} = \\frac{y}{x + 20} \\\\ \\end{matrix}\\right. \\to \\left\\{ x : 34.592979407918, \\  y : 29.0271028840371\\right\\}$",
            "text/plain": [
              "<IPython.core.display.Markdown object>"
            ]
          },
          "metadata": {
            "tags": []
          }
        },
        {
          "output_type": "stream",
          "text": [
            "enunciado_latex: Desde el punto donde estoy, la visual al punto más alto del edificio que tengo \n",
            "        enfrente forma un ángulo de 28° con la horizontal. Si me acerco 20 m, el ángulo es de 40°.\n",
            "        ¿Cuál es la altura del edificio?\n",
            "solucion_latex: $ \\left\\{\\begin{matrix}\\tan{\\left(40 \\right)} = \\frac{y}{x} \\\\ \\tan{\\left(28 \\right)} = \\frac{y}{x + 20} \\\\ \\end{matrix}\\right. \\to \\left\\{ x : 34.592979407918, \\  y : 29.0271028840371\\right\\}$\n",
            "\\question Resuelve\\begin{parts} \\part[1] Desde el punto donde estoy, la visual al punto más alto del edificio que tengo \n",
            "        enfrente forma un ángulo de 28° con la horizontal. Si me acerco 20 m, el ángulo es de 40°.\n",
            "        ¿Cuál es la altura del edificio?\\begin{solution} $ \\left\\{\\begin{matrix}\\tan{\\left(40 \\right)} = \\dfrac{y}{x} \\\\ \\tan{\\left(28 \\right)} = \\dfrac{y}{x + 20} \\\\ \\end{matrix}\\right. \\to \\left\\{ x : 34.592979407918, \\  y : 29.0271028840371\\right\\}$\\end{solution} \\end{parts} \n"
          ],
          "name": "stdout"
        }
      ]
    },
    {
      "cell_type": "code",
      "metadata": {
        "scrolled": true,
        "colab": {
          "base_uri": "https://localhost:8080/",
          "height": 414
        },
        "id": "wHd99D5DOlsC",
        "outputId": "d877176e-a519-477a-c4f6-791ab6c29a48"
      },
      "source": [
        "# Calcular  a partir de dos triángulos\n",
        "\n",
        "\n",
        "\n",
        "texto_ejercicio = \"Resuelve\"\n",
        "display(md(\"**\"+texto_ejercicio+\"**\"))\n",
        "\n",
        "pre_enunciado_latex = [[90,35,20,6,'los edificios'], \n",
        "                       ]\n",
        "question=texto_ejercicio\n",
        "parts=[]\n",
        "for i in pre_enunciado_latex :\n",
        "                    \n",
        "    enun = r\"\"\"Dos {} distan entre sí {} m. Desde un punto que está entre {}\n",
        "vemos que las visuales a los puntos más altos de estos forman con la horizontal ángulos\n",
        "de {}° y {}°. ¿Cuál es la altura de {} si sabemos que uno es {} m más alto que el\n",
        "otro?\"\"\".format(i[4][i[4].find(\" \")+1:],latex(i[0]),latex(i[4]),latex(i[1]),latex(i[2]),latex(i[4]),latex(i[3]))\n",
        "    sol= r\"\"\"Si la mayor altura se corresponde con el ángulo {}°: \"\"\".format(i[1])+r\"\"\" $ \\left\\{\\begin{matrix}\"\"\"\n",
        "    sol += latex(Eq(tan(i[2]),y/(i[0]-x))) + r\" \\\\ \"\n",
        "    sol += latex(Eq(tan(i[1]),(y+i[3])/x)) + r\" \\\\ \\end{matrix}\\right. \\to \"\n",
        "    sol += latex(solve([Eq(round(tan(rad(i[2])),4),y/(i[0]-x)),Eq(round(tan(rad(i[1])),4),(y+i[3])/x)])) + r\"$ \\\\ \"\n",
        "    sol += r\"\"\"Si la mayor altura se corresponde con el ángulo {}°: \"\"\".format(i[2])+r\"\"\" $ \\left\\{\\begin{matrix}\"\"\"\n",
        "    sol += latex(Eq(tan(i[2]),(y+6)/(90-x))) + r\" \\\\ \"\n",
        "    sol += latex(Eq(tan(i[1]),(y)/x)) + r\" \\\\ \\end{matrix}\\right. \\to \"\n",
        "    sol += latex(solve([Eq(round(tan(rad(i[2])),4),(y+6)/(90-x)),Eq(round(tan(rad(i[1])),4),y/x)])) + \"$\"\n",
        "\n",
        "    mostrar_ejercicio(enun, sol)  \n",
        "    parts.append([enun, sol])         \n",
        "\n",
        "print(latex_exam(question, parts).replace(r'\\frac',r'\\dfrac'))"
      ],
      "execution_count": 15,
      "outputs": [
        {
          "output_type": "display_data",
          "data": {
            "text/markdown": "**Resuelve**",
            "text/plain": [
              "<IPython.core.display.Markdown object>"
            ]
          },
          "metadata": {
            "tags": []
          }
        },
        {
          "output_type": "display_data",
          "data": {
            "text/markdown": "#### Ejercicio:",
            "text/plain": [
              "<IPython.core.display.Markdown object>"
            ]
          },
          "metadata": {
            "tags": []
          }
        },
        {
          "output_type": "display_data",
          "data": {
            "text/markdown": "Dos edificios distan entre sí 90 m. Desde un punto que está entre \\mathtt{\\text{los edificios}}\nvemos que las visuales a los puntos más altos de estos forman con la horizontal ángulos\nde 35° y 20°. ¿Cuál es la altura de \\mathtt{\\text{los edificios}} si sabemos que uno es 6 m más alto que el\notro? $\\to$ Si la mayor altura se corresponde con el ángulo 35°:  $ \\left\\{\\begin{matrix}\\tan{\\left(20 \\right)} = \\frac{y}{90 - x} \\\\ \\tan{\\left(35 \\right)} = \\frac{y + 6}{x} \\\\ \\end{matrix}\\right. \\to \\left\\{ x : 36.4217252396166, \\  y : 19.5024920127796\\right\\}$ \\\\ Si la mayor altura se corresponde con el ángulo 20°:  $ \\left\\{\\begin{matrix}\\tan{\\left(20 \\right)} = \\frac{y + 6}{90 - x} \\\\ \\tan{\\left(35 \\right)} = \\frac{y}{x} \\\\ \\end{matrix}\\right. \\to \\left\\{ x : 25.1456493140387, \\  y : 17.6069836496899\\right\\}$",
            "text/plain": [
              "<IPython.core.display.Markdown object>"
            ]
          },
          "metadata": {
            "tags": []
          }
        },
        {
          "output_type": "stream",
          "text": [
            "enunciado_latex: Dos edificios distan entre sí 90 m. Desde un punto que está entre \\mathtt{\\text{los edificios}}\n",
            "vemos que las visuales a los puntos más altos de estos forman con la horizontal ángulos\n",
            "de 35° y 20°. ¿Cuál es la altura de \\mathtt{\\text{los edificios}} si sabemos que uno es 6 m más alto que el\n",
            "otro?\n",
            "solucion_latex: Si la mayor altura se corresponde con el ángulo 35°:  $ \\left\\{\\begin{matrix}\\tan{\\left(20 \\right)} = \\frac{y}{90 - x} \\\\ \\tan{\\left(35 \\right)} = \\frac{y + 6}{x} \\\\ \\end{matrix}\\right. \\to \\left\\{ x : 36.4217252396166, \\  y : 19.5024920127796\\right\\}$ \\\\ Si la mayor altura se corresponde con el ángulo 20°:  $ \\left\\{\\begin{matrix}\\tan{\\left(20 \\right)} = \\frac{y + 6}{90 - x} \\\\ \\tan{\\left(35 \\right)} = \\frac{y}{x} \\\\ \\end{matrix}\\right. \\to \\left\\{ x : 25.1456493140387, \\  y : 17.6069836496899\\right\\}$\n",
            "\\question Resuelve\\begin{parts} \\part[1] Dos edificios distan entre sí 90 m. Desde un punto que está entre \\mathtt{\\text{los edificios}}\n",
            "vemos que las visuales a los puntos más altos de estos forman con la horizontal ángulos\n",
            "de 35° y 20°. ¿Cuál es la altura de \\mathtt{\\text{los edificios}} si sabemos que uno es 6 m más alto que el\n",
            "otro?\\begin{solution} Si la mayor altura se corresponde con el ángulo 35°:  $ \\left\\{\\begin{matrix}\\tan{\\left(20 \\right)} = \\dfrac{y}{90 - x} \\\\ \\tan{\\left(35 \\right)} = \\dfrac{y + 6}{x} \\\\ \\end{matrix}\\right. \\to \\left\\{ x : 36.4217252396166, \\  y : 19.5024920127796\\right\\}$ \\\\ Si la mayor altura se corresponde con el ángulo 20°:  $ \\left\\{\\begin{matrix}\\tan{\\left(20 \\right)} = \\dfrac{y + 6}{90 - x} \\\\ \\tan{\\left(35 \\right)} = \\dfrac{y}{x} \\\\ \\end{matrix}\\right. \\to \\left\\{ x : 25.1456493140387, \\  y : 17.6069836496899\\right\\}$\\end{solution} \\end{parts} \n"
          ],
          "name": "stdout"
        }
      ]
    },
    {
      "cell_type": "code",
      "metadata": {
        "colab": {
          "base_uri": "https://localhost:8080/",
          "height": 235
        },
        "id": "EioKb0A-OlsG",
        "outputId": "c24550ff-9145-4247-bb68-08d2871114ec"
      },
      "source": [
        "# Calcular  rombo\n",
        "\n",
        "\n",
        "texto_ejercicio = \"Resuelve\"\n",
        "display(md(\"**\"+texto_ejercicio+\"**\"))\n",
        "\n",
        "pre_enunciado_latex = [[8,38], \n",
        "                       ]\n",
        "question=texto_ejercicio\n",
        "parts=[]\n",
        "for i in pre_enunciado_latex :\n",
        "                    \n",
        "    enun = r\"\"\"El lado de un rombo mide {} cm y el ángulo menor es de {}°. ¿Cuánto miden las\n",
        "      diagonales del rombo?\"\"\".format(i[0],i[1])\n",
        "    t=resolver_triangulo([0,0,i[0],i[1]/2,0])[0]\n",
        "    sol= r\"\"\"las diagonales miden ${}$ y ${}$ respectivamente\"\"\".format(latex(2*t[0]),latex(2*t[1]))\n",
        "    mostrar_ejercicio(enun, sol)  \n",
        "    parts.append([enun, sol])         \n",
        "\n",
        "print(latex_exam(question, parts).replace(r'\\frac',r'\\dfrac'))"
      ],
      "execution_count": 16,
      "outputs": [
        {
          "output_type": "display_data",
          "data": {
            "text/markdown": "**Resuelve**",
            "text/plain": [
              "<IPython.core.display.Markdown object>"
            ]
          },
          "metadata": {
            "tags": []
          }
        },
        {
          "output_type": "display_data",
          "data": {
            "text/markdown": "#### Ejercicio:",
            "text/plain": [
              "<IPython.core.display.Markdown object>"
            ]
          },
          "metadata": {
            "tags": []
          }
        },
        {
          "output_type": "display_data",
          "data": {
            "text/markdown": "El lado de un rombo mide 8 cm y el ángulo menor es de 38°. ¿Cuánto miden las\n      diagonales del rombo? $\\to$ las diagonales miden $5.2$ y $15.1$ respectivamente",
            "text/plain": [
              "<IPython.core.display.Markdown object>"
            ]
          },
          "metadata": {
            "tags": []
          }
        },
        {
          "output_type": "stream",
          "text": [
            "enunciado_latex: El lado de un rombo mide 8 cm y el ángulo menor es de 38°. ¿Cuánto miden las\n",
            "      diagonales del rombo?\n",
            "solucion_latex: las diagonales miden $5.2$ y $15.1$ respectivamente\n",
            "\\question Resuelve\\begin{parts} \\part[1] El lado de un rombo mide 8 cm y el ángulo menor es de 38°. ¿Cuánto miden las\n",
            "      diagonales del rombo?\\begin{solution} las diagonales miden $5.2$ y $15.1$ respectivamente\\end{solution} \\end{parts} \n"
          ],
          "name": "stdout"
        }
      ]
    },
    {
      "cell_type": "code",
      "metadata": {
        "colab": {
          "base_uri": "https://localhost:8080/",
          "height": 241
        },
        "id": "ur8Z3UaBOlsH",
        "outputId": "e737c8a3-8285-40fb-f4ff-d0940b5b012c"
      },
      "source": [
        "# Calcular  paralelogramo\n",
        "\n",
        "\n",
        "texto_ejercicio = \"Resuelve\"\n",
        "display(md(\"**\"+texto_ejercicio+\"**\"))\n",
        "\n",
        "pre_enunciado_latex = [[16,24,40], \n",
        "                       ]\n",
        "question=texto_ejercicio\n",
        "parts=[]\n",
        "for i in pre_enunciado_latex :\n",
        "                    \n",
        "    enun = r\"\"\"Halla el área de un paralelogramo cuyos lados miden {} cm y {} cm y forman un\n",
        "ángulo de {}°.\"\"\".format(i[0],i[1],i[2])\n",
        "    t=resolver_triangulo([0,0,i[0],i[2],0])[0]\n",
        "    sol= r\"\"\"La altura mide mide ${}$ cm y por tanto el área es ${}$ cm2\"\"\".format(latex(t[0]),latex(i[1]*t[0]/2))\n",
        "    mostrar_ejercicio(enun, sol)  \n",
        "    parts.append([enun, sol])         \n",
        "\n",
        "print(latex_exam(question, parts).replace(r'\\frac',r'\\dfrac'))"
      ],
      "execution_count": 17,
      "outputs": [
        {
          "output_type": "display_data",
          "data": {
            "text/markdown": "**Resuelve**",
            "text/plain": [
              "<IPython.core.display.Markdown object>"
            ]
          },
          "metadata": {
            "tags": []
          }
        },
        {
          "output_type": "display_data",
          "data": {
            "text/markdown": "#### Ejercicio:",
            "text/plain": [
              "<IPython.core.display.Markdown object>"
            ]
          },
          "metadata": {
            "tags": []
          }
        },
        {
          "output_type": "display_data",
          "data": {
            "text/markdown": "Halla el área de un paralelogramo cuyos lados miden 16 cm y 24 cm y forman un\nángulo de 40°. $\\to$ La altura mide mide $10.28$ cm y por tanto el área es $123.4$ cm2",
            "text/plain": [
              "<IPython.core.display.Markdown object>"
            ]
          },
          "metadata": {
            "tags": []
          }
        },
        {
          "output_type": "stream",
          "text": [
            "enunciado_latex: Halla el área de un paralelogramo cuyos lados miden 16 cm y 24 cm y forman un\n",
            "ángulo de 40°.\n",
            "solucion_latex: La altura mide mide $10.28$ cm y por tanto el área es $123.4$ cm2\n",
            "\\question Resuelve\\begin{parts} \\part[1] Halla el área de un paralelogramo cuyos lados miden 16 cm y 24 cm y forman un\n",
            "ángulo de 40°.\\begin{solution} La altura mide mide $10.28$ cm y por tanto el área es $123.4$ cm2\\end{solution} \\end{parts} \n"
          ],
          "name": "stdout"
        }
      ]
    },
    {
      "cell_type": "code",
      "metadata": {
        "id": "qJmarZXhW7mo",
        "colab": {
          "base_uri": "https://localhost:8080/",
          "height": 928
        },
        "outputId": "56edc59a-66e2-46ec-c4c6-d846217398cc"
      },
      "source": [
        "# Calcular  \n",
        "\n",
        "\n",
        "texto_ejercicio = \"Resuelve las siguientes ecuaciones\"\n",
        "display(md(\"**\"+texto_ejercicio+\"**\"))\n",
        "\n",
        "pre_enunciado_latex = [r'1-2\\cos{x}=0',r'2\\sin{x}=\\sqrt{3}',r'2\\sin{x}=-\\sqrt{2}',\n",
        "                       r'3\\tan{x}+3=0',r'(\\sin{x})^2=1',r'(\\sin{x})^2-\\sin{x}=0',\n",
        "                       r'4(\\sin{x})^2-1=0',r'2(\\cos{x})^2-\\cos{x}-1=0'\n",
        "                       ]\n",
        "question=texto_ejercicio\n",
        "parts=[]\n",
        "for i in pre_enunciado_latex :\n",
        "                    \n",
        "    enun = r\"\"\"${}$\"\"\".format(i)\n",
        "    sol=  r\"$\"+ latex(solve(parse_latex(i)))+ r\"$\"\n",
        "    mostrar_ejercicio(enun, sol)  \n",
        "    parts.append([enun, sol])         \n",
        "\n",
        "print(latex_exam(question, parts).replace(r'\\frac',r'\\dfrac'))"
      ],
      "execution_count": 25,
      "outputs": [
        {
          "output_type": "display_data",
          "data": {
            "text/markdown": "**Resuelve las siguientes ecuaciones**",
            "text/plain": [
              "<IPython.core.display.Markdown object>"
            ]
          },
          "metadata": {
            "tags": []
          }
        },
        {
          "output_type": "display_data",
          "data": {
            "text/markdown": "#### Ejercicio:",
            "text/plain": [
              "<IPython.core.display.Markdown object>"
            ]
          },
          "metadata": {
            "tags": []
          }
        },
        {
          "output_type": "display_data",
          "data": {
            "text/markdown": "$1-2\\cos{x}=0$ $\\to$ $\\left[ \\frac{\\pi}{3}, \\  \\frac{5 \\pi}{3}\\right]$",
            "text/plain": [
              "<IPython.core.display.Markdown object>"
            ]
          },
          "metadata": {
            "tags": []
          }
        },
        {
          "output_type": "stream",
          "text": [
            "enunciado_latex: $1-2\\cos{x}=0$\n",
            "solucion_latex: $\\left[ \\frac{\\pi}{3}, \\  \\frac{5 \\pi}{3}\\right]$\n"
          ],
          "name": "stdout"
        },
        {
          "output_type": "display_data",
          "data": {
            "text/markdown": "#### Ejercicio:",
            "text/plain": [
              "<IPython.core.display.Markdown object>"
            ]
          },
          "metadata": {
            "tags": []
          }
        },
        {
          "output_type": "display_data",
          "data": {
            "text/markdown": "$2\\sin{x}=\\sqrt{3}$ $\\to$ $\\left[ \\frac{\\pi}{3}, \\  \\frac{2 \\pi}{3}\\right]$",
            "text/plain": [
              "<IPython.core.display.Markdown object>"
            ]
          },
          "metadata": {
            "tags": []
          }
        },
        {
          "output_type": "stream",
          "text": [
            "enunciado_latex: $2\\sin{x}=\\sqrt{3}$\n",
            "solucion_latex: $\\left[ \\frac{\\pi}{3}, \\  \\frac{2 \\pi}{3}\\right]$\n"
          ],
          "name": "stdout"
        },
        {
          "output_type": "display_data",
          "data": {
            "text/markdown": "#### Ejercicio:",
            "text/plain": [
              "<IPython.core.display.Markdown object>"
            ]
          },
          "metadata": {
            "tags": []
          }
        },
        {
          "output_type": "display_data",
          "data": {
            "text/markdown": "$2\\sin{x}=-\\sqrt{2}$ $\\to$ $\\left[ - \\frac{\\pi}{4}, \\  \\frac{5 \\pi}{4}\\right]$",
            "text/plain": [
              "<IPython.core.display.Markdown object>"
            ]
          },
          "metadata": {
            "tags": []
          }
        },
        {
          "output_type": "stream",
          "text": [
            "enunciado_latex: $2\\sin{x}=-\\sqrt{2}$\n",
            "solucion_latex: $\\left[ - \\frac{\\pi}{4}, \\  \\frac{5 \\pi}{4}\\right]$\n"
          ],
          "name": "stdout"
        },
        {
          "output_type": "display_data",
          "data": {
            "text/markdown": "#### Ejercicio:",
            "text/plain": [
              "<IPython.core.display.Markdown object>"
            ]
          },
          "metadata": {
            "tags": []
          }
        },
        {
          "output_type": "display_data",
          "data": {
            "text/markdown": "$3\\tan{x}+3=0$ $\\to$ $\\left[ - \\frac{\\pi}{4}\\right]$",
            "text/plain": [
              "<IPython.core.display.Markdown object>"
            ]
          },
          "metadata": {
            "tags": []
          }
        },
        {
          "output_type": "stream",
          "text": [
            "enunciado_latex: $3\\tan{x}+3=0$\n",
            "solucion_latex: $\\left[ - \\frac{\\pi}{4}\\right]$\n"
          ],
          "name": "stdout"
        },
        {
          "output_type": "display_data",
          "data": {
            "text/markdown": "#### Ejercicio:",
            "text/plain": [
              "<IPython.core.display.Markdown object>"
            ]
          },
          "metadata": {
            "tags": []
          }
        },
        {
          "output_type": "display_data",
          "data": {
            "text/markdown": "$(\\sin{x})^2=1$ $\\to$ $\\left[ - \\frac{\\pi}{2}, \\  \\frac{\\pi}{2}, \\  \\frac{3 \\pi}{2}\\right]$",
            "text/plain": [
              "<IPython.core.display.Markdown object>"
            ]
          },
          "metadata": {
            "tags": []
          }
        },
        {
          "output_type": "stream",
          "text": [
            "enunciado_latex: $(\\sin{x})^2=1$\n",
            "solucion_latex: $\\left[ - \\frac{\\pi}{2}, \\  \\frac{\\pi}{2}, \\  \\frac{3 \\pi}{2}\\right]$\n"
          ],
          "name": "stdout"
        },
        {
          "output_type": "display_data",
          "data": {
            "text/markdown": "#### Ejercicio:",
            "text/plain": [
              "<IPython.core.display.Markdown object>"
            ]
          },
          "metadata": {
            "tags": []
          }
        },
        {
          "output_type": "display_data",
          "data": {
            "text/markdown": "$(\\sin{x})^2-\\sin{x}=0$ $\\to$ $\\left[ 0, \\  \\frac{\\pi}{2}, \\  \\pi\\right]$",
            "text/plain": [
              "<IPython.core.display.Markdown object>"
            ]
          },
          "metadata": {
            "tags": []
          }
        },
        {
          "output_type": "stream",
          "text": [
            "enunciado_latex: $(\\sin{x})^2-\\sin{x}=0$\n",
            "solucion_latex: $\\left[ 0, \\  \\frac{\\pi}{2}, \\  \\pi\\right]$\n"
          ],
          "name": "stdout"
        },
        {
          "output_type": "display_data",
          "data": {
            "text/markdown": "#### Ejercicio:",
            "text/plain": [
              "<IPython.core.display.Markdown object>"
            ]
          },
          "metadata": {
            "tags": []
          }
        },
        {
          "output_type": "display_data",
          "data": {
            "text/markdown": "$4(\\sin{x})^2-1=0$ $\\to$ $\\left[ - \\frac{\\pi}{6}, \\  \\frac{\\pi}{6}, \\  \\frac{5 \\pi}{6}, \\  \\frac{7 \\pi}{6}\\right]$",
            "text/plain": [
              "<IPython.core.display.Markdown object>"
            ]
          },
          "metadata": {
            "tags": []
          }
        },
        {
          "output_type": "stream",
          "text": [
            "enunciado_latex: $4(\\sin{x})^2-1=0$\n",
            "solucion_latex: $\\left[ - \\frac{\\pi}{6}, \\  \\frac{\\pi}{6}, \\  \\frac{5 \\pi}{6}, \\  \\frac{7 \\pi}{6}\\right]$\n"
          ],
          "name": "stdout"
        },
        {
          "output_type": "display_data",
          "data": {
            "text/markdown": "#### Ejercicio:",
            "text/plain": [
              "<IPython.core.display.Markdown object>"
            ]
          },
          "metadata": {
            "tags": []
          }
        },
        {
          "output_type": "display_data",
          "data": {
            "text/markdown": "$2(\\cos{x})^2-\\cos{x}-1=0$ $\\to$ $\\left[ 0, \\  \\frac{2 \\pi}{3}, \\  \\frac{4 \\pi}{3}, \\  2 \\pi\\right]$",
            "text/plain": [
              "<IPython.core.display.Markdown object>"
            ]
          },
          "metadata": {
            "tags": []
          }
        },
        {
          "output_type": "stream",
          "text": [
            "enunciado_latex: $2(\\cos{x})^2-\\cos{x}-1=0$\n",
            "solucion_latex: $\\left[ 0, \\  \\frac{2 \\pi}{3}, \\  \\frac{4 \\pi}{3}, \\  2 \\pi\\right]$\n",
            "\\question Resuelve las siguientes ecuaciones\\begin{parts} \\part[1] $1-2\\cos{x}=0$\\begin{solution} $\\left[ \\dfrac{\\pi}{3}, \\  \\dfrac{5 \\pi}{3}\\right]$\\end{solution} \\part[1] $2\\sin{x}=\\sqrt{3}$\\begin{solution} $\\left[ \\dfrac{\\pi}{3}, \\  \\dfrac{2 \\pi}{3}\\right]$\\end{solution} \\part[1] $2\\sin{x}=-\\sqrt{2}$\\begin{solution} $\\left[ - \\dfrac{\\pi}{4}, \\  \\dfrac{5 \\pi}{4}\\right]$\\end{solution} \\part[1] $3\\tan{x}+3=0$\\begin{solution} $\\left[ - \\dfrac{\\pi}{4}\\right]$\\end{solution} \\part[1] $(\\sin{x})^2=1$\\begin{solution} $\\left[ - \\dfrac{\\pi}{2}, \\  \\dfrac{\\pi}{2}, \\  \\dfrac{3 \\pi}{2}\\right]$\\end{solution} \\part[1] $(\\sin{x})^2-\\sin{x}=0$\\begin{solution} $\\left[ 0, \\  \\dfrac{\\pi}{2}, \\  \\pi\\right]$\\end{solution} \\part[1] $4(\\sin{x})^2-1=0$\\begin{solution} $\\left[ - \\dfrac{\\pi}{6}, \\  \\dfrac{\\pi}{6}, \\  \\dfrac{5 \\pi}{6}, \\  \\dfrac{7 \\pi}{6}\\right]$\\end{solution} \\part[1] $2(\\cos{x})^2-\\cos{x}-1=0$\\begin{solution} $\\left[ 0, \\  \\dfrac{2 \\pi}{3}, \\  \\dfrac{4 \\pi}{3}, \\  2 \\pi\\right]$\\end{solution} \\end{parts} \n"
          ],
          "name": "stdout"
        }
      ]
    }
  ]
}