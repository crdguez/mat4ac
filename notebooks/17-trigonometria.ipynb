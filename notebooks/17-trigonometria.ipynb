{
 "cells": [
  {
   "cell_type": "code",
   "execution_count": 3,
   "metadata": {
    "colab": {
     "base_uri": "https://localhost:8080/"
    },
    "id": "XLjKRF_kknDB",
    "outputId": "85a1e64d-7f78-4b4c-a2d3-9e6b968e32c0"
   },
   "outputs": [
    {
     "name": "stdout",
     "output_type": "stream",
     "text": [
      "Collecting antlr4-python3-runtime==4.7.1\n",
      "\u001b[?25l  Downloading https://files.pythonhosted.org/packages/3e/96/aba01b2948ec67f237cd387c022820835ae0d8db5cab4bd404b351660b5e/antlr4-python3-runtime-4.7.1.tar.gz (111kB)\n",
      "\r",
      "\u001b[K     |███                             | 10kB 17.0MB/s eta 0:00:01\r",
      "\u001b[K     |█████▉                          | 20kB 10.5MB/s eta 0:00:01\r",
      "\u001b[K     |████████▉                       | 30kB 8.3MB/s eta 0:00:01\r",
      "\u001b[K     |███████████▊                    | 40kB 7.1MB/s eta 0:00:01\r",
      "\u001b[K     |██████████████▊                 | 51kB 4.4MB/s eta 0:00:01\r",
      "\u001b[K     |█████████████████▋              | 61kB 4.5MB/s eta 0:00:01\r",
      "\u001b[K     |████████████████████▋           | 71kB 4.8MB/s eta 0:00:01\r",
      "\u001b[K     |███████████████████████▌        | 81kB 5.0MB/s eta 0:00:01\r",
      "\u001b[K     |██████████████████████████▌     | 92kB 5.3MB/s eta 0:00:01\r",
      "\u001b[K     |█████████████████████████████▍  | 102kB 5.5MB/s eta 0:00:01\r",
      "\u001b[K     |████████████████████████████████| 112kB 5.5MB/s \n",
      "\u001b[?25hBuilding wheels for collected packages: antlr4-python3-runtime\n",
      "  Building wheel for antlr4-python3-runtime (setup.py) ... \u001b[?25l\u001b[?25hdone\n",
      "  Created wheel for antlr4-python3-runtime: filename=antlr4_python3_runtime-4.7.1-cp37-none-any.whl size=140552 sha256=0aa9757351b710995dab5b317a03870bcc4c1fefd3fe705dd1f41e0d3acee2cd\n",
      "  Stored in directory: /root/.cache/pip/wheels/ef/f6/18/ad300e691236a3408a99edc750484b56e8d6b11b2c38eacb10\n",
      "Successfully built antlr4-python3-runtime\n",
      "Installing collected packages: antlr4-python3-runtime\n",
      "Successfully installed antlr4-python3-runtime-4.7.1\n"
     ]
    }
   ],
   "source": [
    "# Ejecutar para que funcione el parse_latex en google colab\n",
    "\n",
    "#!pip install sympy==1.5 antlr4-python3-runtime==4.7.1\n",
    "\n",
    "# !pip install antlr4-python3-runtime==4.7.1"
   ]
  },
  {
   "cell_type": "code",
   "execution_count": 1,
   "metadata": {
    "colab": {
     "base_uri": "https://localhost:8080/"
    },
    "id": "tVIMjcDSknDa",
    "outputId": "edff4845-95e5-4137-e673-930fbf5ee1df"
   },
   "outputs": [
    {
     "name": "stdout",
     "output_type": "stream",
     "text": [
      "IPython console for SymPy 1.6.2 (Python 3.6.12-64-bit) (ground types: gmpy)\n",
      "\n",
      "These commands were executed:\n",
      ">>> from __future__ import division\n",
      ">>> from sympy import *\n",
      ">>> x, y, z, t = symbols('x y z t')\n",
      ">>> k, m, n = symbols('k m n', integer=True)\n",
      ">>> f, g, h = symbols('f g h', cls=Function)\n",
      ">>> init_printing()\n",
      "\n",
      "Documentation can be found at https://docs.sympy.org/1.6.2/\n",
      "\n"
     ]
    }
   ],
   "source": [
    "from sympy import init_session\n",
    "from sympy.parsing.latex import parse_latex\n",
    "from sympy.parsing.sympy_parser import parse_expr\n",
    "from IPython.display import Markdown as md\n",
    "from IPython.display import display\n",
    "\n",
    "\n",
    "init_session()"
   ]
  },
  {
   "cell_type": "code",
   "execution_count": 2,
   "metadata": {
    "id": "U_EQ3XUBknDf"
   },
   "outputs": [],
   "source": [
    "def latex_exam(question, parts):\n",
    "    tex=r\"\\question \"+question+r\"\\begin{parts} \"\n",
    "    for p in parts :\n",
    "        tex+=r\"\\part[1] \"+p[0]+r\"\\begin{solution} \"+p[1]+r\"\\end{solution} \" \n",
    "    tex+=r\"\\end{parts} \"\n",
    "    \n",
    "    return tex\n",
    "\n",
    "def mostrar_ejercicio(ejercicio,solucion,tipo=0) :\n",
    "    #tipo=0 se pasa el ejercicio y la solucion en formato latex\n",
    "    if tipo == 0 :\n",
    "        display(md(\"#### Ejercicio:\"))\n",
    "        display(md(r\"{} $\\to$ {}\".format(ejercicio, solucion)))\n",
    "        print(\"enunciado_latex: \" + ejercicio)\n",
    "        print(\"solucion_latex: \" + solucion)\n",
    "        return ejercicio, solucion\n",
    "    elif tipo == 1:\n",
    "        # falta desarrollar ...\n",
    "        display(md(\"#### Ejercicio:\"))\n",
    "        display(md(r\"{} $\\to$ {}\".format(ejercicio, solucion)))\n",
    "        print(\"enunciado_latex: \" + ejercicio)\n",
    "        print(\"solucion_latex: \" + solucion)\n",
    "        return ejercicio, solucion\n",
    "\n",
    "        "
   ]
  },
  {
   "cell_type": "code",
   "execution_count": 3,
   "metadata": {},
   "outputs": [
    {
     "data": {
      "text/markdown": [
       "**Calcular las razones trigonométricas de un ángulo agudo $x$ si:**"
      ],
      "text/plain": [
       "<IPython.core.display.Markdown object>"
      ]
     },
     "metadata": {},
     "output_type": "display_data"
    },
    {
     "data": {
      "text/markdown": [
       "#### Ejercicio:"
      ],
      "text/plain": [
       "<IPython.core.display.Markdown object>"
      ]
     },
     "metadata": {},
     "output_type": "display_data"
    },
    {
     "data": {
      "text/markdown": [
       "$\\sin{x}=\\frac{1}{2}$ $\\to$ $\\sin{x}=\\frac{1}{2}, \\cos{x}=\\frac{\\sqrt{3}}{2}, \\tan{x}=\\frac{\\sqrt{3}}{3}$"
      ],
      "text/plain": [
       "<IPython.core.display.Markdown object>"
      ]
     },
     "metadata": {},
     "output_type": "display_data"
    },
    {
     "name": "stdout",
     "output_type": "stream",
     "text": [
      "enunciado_latex: $\\sin{x}=\\frac{1}{2}$\n",
      "solucion_latex: $\\sin{x}=\\frac{1}{2}, \\cos{x}=\\frac{\\sqrt{3}}{2}, \\tan{x}=\\frac{\\sqrt{3}}{3}$\n"
     ]
    },
    {
     "data": {
      "text/markdown": [
       "#### Ejercicio:"
      ],
      "text/plain": [
       "<IPython.core.display.Markdown object>"
      ]
     },
     "metadata": {},
     "output_type": "display_data"
    },
    {
     "data": {
      "text/markdown": [
       "$\\tan{x}=\\frac{\\sqrt{3}}{3}$ $\\to$ $\\sin{x}=\\frac{1}{2}, \\cos{x}=\\frac{\\sqrt{3}}{2}, \\tan{x}=\\frac{\\sqrt{3}}{3}$"
      ],
      "text/plain": [
       "<IPython.core.display.Markdown object>"
      ]
     },
     "metadata": {},
     "output_type": "display_data"
    },
    {
     "name": "stdout",
     "output_type": "stream",
     "text": [
      "enunciado_latex: $\\tan{x}=\\frac{\\sqrt{3}}{3}$\n",
      "solucion_latex: $\\sin{x}=\\frac{1}{2}, \\cos{x}=\\frac{\\sqrt{3}}{2}, \\tan{x}=\\frac{\\sqrt{3}}{3}$\n",
      "\\question Calcular las razones trigonométricas de un ángulo agudo $x$ si:\\begin{parts} \\part[1] $\\sin{x}=\\dfrac{1}{2}$\\begin{solution} $\\sin{x}=\\dfrac{1}{2}, \\cos{x}=\\dfrac{\\sqrt{3}}{2}, \\tan{x}=\\dfrac{\\sqrt{3}}{3}$\\end{solution} \\part[1] $\\tan{x}=\\dfrac{\\sqrt{3}}{3}$\\begin{solution} $\\sin{x}=\\dfrac{1}{2}, \\cos{x}=\\dfrac{\\sqrt{3}}{2}, \\tan{x}=\\dfrac{\\sqrt{3}}{3}$\\end{solution} \\end{parts} \n"
     ]
    }
   ],
   "source": [
    "# Calcular el resto de razones trigonométricas \n",
    "\n",
    "texto_ejercicio = 'Calcular las razones trigonométricas de un ángulo agudo $x$ si:'\n",
    "display(md(\"**\"+texto_ejercicio+\"**\"))\n",
    "\n",
    "pre_enunciado_latex = [r'\\sin{x}=\\frac{1}{2}', \n",
    "                       r'\\tan{x}=\\frac{\\sqrt{3}}{3}',\n",
    "                      ]\n",
    "question=texto_ejercicio\n",
    "parts=[]\n",
    "for i in pre_enunciado_latex :\n",
    "    ang = solve(parse_latex(i))[0]                     \n",
    "    enun, sol =r\"$\"+i+r\"$\", r\"$\\sin{x}=\"+latex(sin(ang))+r\", \\cos{x}=\"+latex(cos(ang))+r\", \\tan{x}=\"+latex(tan(ang))+\"$\"\n",
    "    mostrar_ejercicio(enun, sol) \n",
    "    parts.append([enun, sol])         \n",
    "\n",
    "print(latex_exam(question, parts).replace(r'\\frac',r'\\dfrac'))"
   ]
  },
  {
   "cell_type": "code",
   "execution_count": 40,
   "metadata": {},
   "outputs": [],
   "source": [
    "# datos es una lista con valores a,b,c y A, B (C es 90 y c la hipotenusa). Solo tiene que haber dos datos > 0, el resto 0\n",
    "# Usa el primer cateto y/o primer ángulo como dato en caso de que falte el otro\n",
    "# Devuelve la lista con los datos\n",
    "\n",
    "def resolver_triangulo(d, um='cm.') :\n",
    "\n",
    "    if And(d[0] > 0 , d[1] > 0) :\n",
    "#         display('Me dan a y b')\n",
    "        d[2]=round(sqrt(d[0]**2+d[1]**2),2)\n",
    "        d[3]=round(deg(atan(i[0]/i[1])),2)\n",
    "        d[4]=90-d[3]\n",
    "#         display(d)\n",
    "        txt_enu = r'los catetos miden {} y {} {}'.format(d[0],d[1],um)\n",
    "    elif And(d[0] > 0 , d[2] > 0) :\n",
    "#         display('Me dan a y c') \n",
    "        d[1]=round(sqrt(d[2]**2-d[0]**2),2)\n",
    "        d[3]=round(deg(asin(i[1]/i[0])),2)\n",
    "        d[4]=90-d[3]\n",
    "#         display(d)\n",
    "        txt_enu = r'la hipotenusa mide {} y un cateto {} {}'.format(d[0],d[2], um)\n",
    "    elif And(d[0] > 0 , d[3] > 0) :\n",
    "#         display('Me dan a y A')\n",
    "        d[2]=round((d[0]/sin(rad(d[3]))),2)\n",
    "        d[1]=round(d[0]/tan(rad(d[3])),2)\n",
    "        d[4]=90-d[3]\n",
    "#         display(d)\n",
    "        txt_enu = r'un cateto mide {} {} y su ángulo opuesto {}º'.format(d[0],um,d[3])\n",
    "    elif And(d[0] > 0 , d[4] > 0) :\n",
    "#         display('Me dan a y B')\n",
    "        d[2]=round(d[0]/cos(rad(d[4])),2)\n",
    "        d[1]=round(d[0]*tan(rad(d[4])),2)\n",
    "        d[3]=90-d[4]\n",
    "#         display(d)\n",
    "        txt_enu = r'un cateto mide {} {} y el ángulo opuesto al otro cateto {}º'.format(d[0],um,d[4])\n",
    "    elif And(d[2] > 0 , d[3] > 0) :\n",
    "#         display('Me dan c y A')\n",
    "        d[0]=round(d[2]*sin(rad(d[3])),2)\n",
    "        d[1]=round(d[2]*cos(rad(d[3])),2)\n",
    "        d[4]=90-d[3]\n",
    "#         display(d)\n",
    "        txt_enu = r'la hipotenusa mide {} {} y un ángulo {}º'.format(d[2],um,d[3])\n",
    "\n",
    "    else :\n",
    "        display('Usa el primer cateto y/o primer ángulo como dato')\n",
    "    \n",
    "    txt_sol= 'Los lados del triángulo miden: $'+'$, $'.join(map(latex,d[:3]))+'$ {}'.format(um)\n",
    "    txt_sol +=' Y los ángulos: $'+'$, $'.join(map(latex,d[3:]))+'$, $90$ º'\n",
    "                                                            \n",
    "    return d, txt_enu, txt_sol"
   ]
  },
  {
   "cell_type": "code",
   "execution_count": 41,
   "metadata": {},
   "outputs": [
    {
     "data": {
      "text/markdown": [
       "**Resuelve los triángulos rectángulos:**"
      ],
      "text/plain": [
       "<IPython.core.display.Markdown object>"
      ]
     },
     "metadata": {},
     "output_type": "display_data"
    },
    {
     "data": {
      "text/markdown": [
       "#### Ejercicio:"
      ],
      "text/plain": [
       "<IPython.core.display.Markdown object>"
      ]
     },
     "metadata": {},
     "output_type": "display_data"
    },
    {
     "data": {
      "text/markdown": [
       "Sabiendo que los catetos miden 5 y 12 cm. $\\to$ Los lados del triángulo miden: $5$, $12$, $13$ cm. Y los ángulos: $22.62$, $67.38$, $90$ º"
      ],
      "text/plain": [
       "<IPython.core.display.Markdown object>"
      ]
     },
     "metadata": {},
     "output_type": "display_data"
    },
    {
     "name": "stdout",
     "output_type": "stream",
     "text": [
      "enunciado_latex: Sabiendo que los catetos miden 5 y 12 cm.\n",
      "solucion_latex: Los lados del triángulo miden: $5$, $12$, $13$ cm. Y los ángulos: $22.62$, $67.38$, $90$ º\n"
     ]
    },
    {
     "data": {
      "text/markdown": [
       "#### Ejercicio:"
      ],
      "text/plain": [
       "<IPython.core.display.Markdown object>"
      ]
     },
     "metadata": {},
     "output_type": "display_data"
    },
    {
     "data": {
      "text/markdown": [
       "Sabiendo que un cateto mide 43 cm. y su ángulo opuesto 37º $\\to$ Los lados del triángulo miden: $43$, $57.06$, $71.45$ cm. Y los ángulos: $37$, $53$, $90$ º"
      ],
      "text/plain": [
       "<IPython.core.display.Markdown object>"
      ]
     },
     "metadata": {},
     "output_type": "display_data"
    },
    {
     "name": "stdout",
     "output_type": "stream",
     "text": [
      "enunciado_latex: Sabiendo que un cateto mide 43 cm. y su ángulo opuesto 37º\n",
      "solucion_latex: Los lados del triángulo miden: $43$, $57.06$, $71.45$ cm. Y los ángulos: $37$, $53$, $90$ º\n"
     ]
    },
    {
     "data": {
      "text/markdown": [
       "#### Ejercicio:"
      ],
      "text/plain": [
       "<IPython.core.display.Markdown object>"
      ]
     },
     "metadata": {},
     "output_type": "display_data"
    },
    {
     "data": {
      "text/markdown": [
       "Sabiendo que un cateto mide 7 cm. y el ángulo opuesto al otro cateto 58º $\\to$ Los lados del triángulo miden: $7$, $11.2$, $13.21$ cm. Y los ángulos: $32$, $58$, $90$ º"
      ],
      "text/plain": [
       "<IPython.core.display.Markdown object>"
      ]
     },
     "metadata": {},
     "output_type": "display_data"
    },
    {
     "name": "stdout",
     "output_type": "stream",
     "text": [
      "enunciado_latex: Sabiendo que un cateto mide 7 cm. y el ángulo opuesto al otro cateto 58º\n",
      "solucion_latex: Los lados del triángulo miden: $7$, $11.2$, $13.21$ cm. Y los ángulos: $32$, $58$, $90$ º\n"
     ]
    },
    {
     "data": {
      "text/markdown": [
       "#### Ejercicio:"
      ],
      "text/plain": [
       "<IPython.core.display.Markdown object>"
      ]
     },
     "metadata": {},
     "output_type": "display_data"
    },
    {
     "data": {
      "text/markdown": [
       "Sabiendo que la hipotenusa mide 5.8 cm. y un ángulo 71º $\\to$ Los lados del triángulo miden: $5.48$, $1.89$, $5.8$ cm. Y los ángulos: $71$, $19$, $90$ º"
      ],
      "text/plain": [
       "<IPython.core.display.Markdown object>"
      ]
     },
     "metadata": {},
     "output_type": "display_data"
    },
    {
     "name": "stdout",
     "output_type": "stream",
     "text": [
      "enunciado_latex: Sabiendo que la hipotenusa mide 5.8 cm. y un ángulo 71º\n",
      "solucion_latex: Los lados del triángulo miden: $5.48$, $1.89$, $5.8$ cm. Y los ángulos: $71$, $19$, $90$ º\n",
      "\\question Resuelve los triángulos rectángulos:\\begin{parts} \\part[1] Sabiendo que los catetos miden 5 y 12 cm.\\begin{solution} Los lados del triángulo miden: $5$, $12$, $13$ cm. Y los ángulos: $22.62$, $67.38$, $90$ º\\end{solution} \\part[1] Sabiendo que un cateto mide 43 cm. y su ángulo opuesto 37º\\begin{solution} Los lados del triángulo miden: $43$, $57.06$, $71.45$ cm. Y los ángulos: $37$, $53$, $90$ º\\end{solution} \\part[1] Sabiendo que un cateto mide 7 cm. y el ángulo opuesto al otro cateto 58º\\begin{solution} Los lados del triángulo miden: $7$, $11.2$, $13.21$ cm. Y los ángulos: $32$, $58$, $90$ º\\end{solution} \\part[1] Sabiendo que la hipotenusa mide 5.8 cm. y un ángulo 71º\\begin{solution} Los lados del triángulo miden: $5.48$, $1.89$, $5.8$ cm. Y los ángulos: $71$, $19$, $90$ º\\end{solution} \\end{parts} \n"
     ]
    }
   ],
   "source": [
    "# Resolver triángulos dados dos catetos.\n",
    "\n",
    "texto_ejercicio = 'Resuelve los triángulos rectángulos:'\n",
    "display(md(\"**\"+texto_ejercicio+\"**\"))\n",
    "\n",
    "pre_enunciado_latex = [[5,12,0,0,0],\n",
    "                       [43,0,0,37,0],\n",
    "                       [7,0,0,0,58],\n",
    "                       [0,0,5.8,71,0],\n",
    "                       \n",
    "                      ]\n",
    "question=texto_ejercicio\n",
    "parts=[]\n",
    "for i in pre_enunciado_latex :\n",
    "    d=i\n",
    "    d, txt_enu, txt_sol= resolver_triangulo(d)\n",
    "#     enun = r\"La hipotenusa y un lado miden $\"+r\"$ cm. y $\".join(map(latex,i))+r\"$ cm. respectivamente\" \n",
    "    enun = r'Sabiendo que '+txt_enu\n",
    "#     s = [round(sqrt(i[0]**2-i[1]**2),2),(deg(asin(i[1]/i[0]))).evalf()]\n",
    "#     sol = r\"El otro cateto vale: $\"+latex(d[1])+r\"$ y los ańgulos agudos: $\"+\"$ y $\".join(map(latex,[d[3],d[4]]))+\"$\"\n",
    "    sol = txt_sol\n",
    "    mostrar_ejercicio(enun, sol) \n",
    "    parts.append([enun, sol])         \n",
    "\n",
    "print(latex_exam(question, parts).replace(r'\\frac',r'\\dfrac'))"
   ]
  },
  {
   "cell_type": "code",
   "execution_count": 5,
   "metadata": {},
   "outputs": [
    {
     "data": {
      "text/markdown": [
       "**Resuelve los triángulos:**"
      ],
      "text/plain": [
       "<IPython.core.display.Markdown object>"
      ]
     },
     "metadata": {},
     "output_type": "display_data"
    },
    {
     "data": {
      "text/markdown": [
       "#### Ejercicio:"
      ],
      "text/plain": [
       "<IPython.core.display.Markdown object>"
      ]
     },
     "metadata": {},
     "output_type": "display_data"
    },
    {
     "data": {
      "text/markdown": [
       "Si los catetos miden 17 y 40 cm. respectivamente $\\to$ $\\sin{x}=\\frac{1}{2}, \\cos{x}=\\frac{\\sqrt{3}}{2}, \\tan{x}=\\frac{\\sqrt{3}}{3}$"
      ],
      "text/plain": [
       "<IPython.core.display.Markdown object>"
      ]
     },
     "metadata": {},
     "output_type": "display_data"
    },
    {
     "name": "stdout",
     "output_type": "stream",
     "text": [
      "enunciado_latex: Si los catetos miden 17 y 40 cm. respectivamente\n",
      "solucion_latex: $\\sin{x}=\\frac{1}{2}, \\cos{x}=\\frac{\\sqrt{3}}{2}, \\tan{x}=\\frac{\\sqrt{3}}{3}$\n",
      "\\question Resuelve los triángulos:\\begin{parts} \\part[1] Si los catetos miden 17 y 40 cm. respectivamente\\begin{solution} $\\sin{x}=\\dfrac{1}{2}, \\cos{x}=\\dfrac{\\sqrt{3}}{2}, \\tan{x}=\\dfrac{\\sqrt{3}}{3}$\\end{solution} \\end{parts} \n"
     ]
    }
   ],
   "source": [
    "# Resolver triángulos dados dos catetos.\n",
    "\n",
    "texto_ejercicio = 'Resuelve los triángulos:'\n",
    "display(md(\"**\"+texto_ejercicio+\"**\"))\n",
    "\n",
    "pre_enunciado_latex = [[17,40], \n",
    "                       \n",
    "                      ]\n",
    "question=texto_ejercicio\n",
    "parts=[]\n",
    "for i in pre_enunciado_latex :\n",
    "    d=[i[0],i[1],0,0,0]\n",
    "    d, txt= resolver_triangulo(d)\n",
    "#     enun = r\"La hipotenusa y un lado miden $\"+r\"$ cm. y $\".join(map(latex,i))+r\"$ cm. respectivamente\" \n",
    "    enun = r'Si '+txt+r' cm. respectivamente'\n",
    "#     s = [round(sqrt(i[0]**2-i[1]**2),2),(deg(asin(i[1]/i[0]))).evalf()]\n",
    "#     sol = r\"El otro cateto vale: $\"+latex(d[1])+r\"$ y los ańgulos agudos: $\"+\"$ y $\".join(map(latex,[d[3],d[4]]))+\"$\"\n",
    "    mostrar_ejercicio(enun, sol) \n",
    "    parts.append([enun, sol])         \n",
    "\n",
    "print(latex_exam(question, parts).replace(r'\\frac',r'\\dfrac'))"
   ]
  },
  {
   "cell_type": "code",
   "execution_count": 141,
   "metadata": {},
   "outputs": [
    {
     "data": {
      "text/markdown": [
       "**Resuelve el triángulo rectángulo conocida la hipotenusa y un lado:**"
      ],
      "text/plain": [
       "<IPython.core.display.Markdown object>"
      ]
     },
     "metadata": {},
     "output_type": "display_data"
    },
    {
     "data": {
      "text/plain": [
       "'a y c'"
      ]
     },
     "metadata": {},
     "output_type": "display_data"
    },
    {
     "data": {
      "image/png": "[encoded data removed]",
      "text/latex": [
       "$\\displaystyle \\left[ 17, \\  36.21, \\  40, \\  25.151, \\  64.849\\right]$"
      ],
      "text/plain": [
       "[17, 36.21, 40, 25.151, 64.849]"
      ]
     },
     "metadata": {},
     "output_type": "display_data"
    },
    {
     "data": {
      "text/markdown": [
       "#### Ejercicio:"
      ],
      "text/plain": [
       "<IPython.core.display.Markdown object>"
      ]
     },
     "metadata": {},
     "output_type": "display_data"
    },
    {
     "data": {
      "text/markdown": [
       "La hipotenusa y un lado miden $40$ cm. y $17$ cm. respectivamente $\\to$ El otro cateto vale: $36.21$ y los ańgulos agudos: $25.151$ y $64.849$"
      ],
      "text/plain": [
       "<IPython.core.display.Markdown object>"
      ]
     },
     "metadata": {},
     "output_type": "display_data"
    },
    {
     "name": "stdout",
     "output_type": "stream",
     "text": [
      "enunciado_latex: La hipotenusa y un lado miden $40$ cm. y $17$ cm. respectivamente\n",
      "solucion_latex: El otro cateto vale: $36.21$ y los ańgulos agudos: $25.151$ y $64.849$\n"
     ]
    },
    {
     "data": {
      "text/plain": [
       "'a y c'"
      ]
     },
     "metadata": {},
     "output_type": "display_data"
    },
    {
     "data": {
      "image/png": "[encoded data removed]",
      "text/latex": [
       "$\\displaystyle \\left[ 1.2, \\  2.75, \\  3, \\  23.578, \\  66.422\\right]$"
      ],
      "text/plain": [
       "[1.2, 2.75, 3, 23.578, 66.422]"
      ]
     },
     "metadata": {},
     "output_type": "display_data"
    },
    {
     "data": {
      "text/markdown": [
       "#### Ejercicio:"
      ],
      "text/plain": [
       "<IPython.core.display.Markdown object>"
      ]
     },
     "metadata": {},
     "output_type": "display_data"
    },
    {
     "data": {
      "text/markdown": [
       "La hipotenusa y un lado miden $3$ cm. y $1.2$ cm. respectivamente $\\to$ El otro cateto vale: $2.75$ y los ańgulos agudos: $23.578$ y $66.422$"
      ],
      "text/plain": [
       "<IPython.core.display.Markdown object>"
      ]
     },
     "metadata": {},
     "output_type": "display_data"
    },
    {
     "name": "stdout",
     "output_type": "stream",
     "text": [
      "enunciado_latex: La hipotenusa y un lado miden $3$ cm. y $1.2$ cm. respectivamente\n",
      "solucion_latex: El otro cateto vale: $2.75$ y los ańgulos agudos: $23.578$ y $66.422$\n",
      "\\question Resuelve el triángulo rectángulo conocida la hipotenusa y un lado:\\begin{parts} \\part[1] La hipotenusa y un lado miden $40$ cm. y $17$ cm. respectivamente\\begin{solution} El otro cateto vale: $36.21$ y los ańgulos agudos: $25.151$ y $64.849$\\end{solution} \\part[1] La hipotenusa y un lado miden $3$ cm. y $1.2$ cm. respectivamente\\begin{solution} El otro cateto vale: $2.75$ y los ańgulos agudos: $23.578$ y $66.422$\\end{solution} \\end{parts} \n"
     ]
    }
   ],
   "source": [
    "# Resolver triángulos.\n",
    "\n",
    "texto_ejercicio = 'Resuelve el triángulo rectángulo conocida la hipotenusa y un lado:'\n",
    "display(md(\"**\"+texto_ejercicio+\"**\"))\n",
    "\n",
    "pre_enunciado_latex = [[40,17], \n",
    "                       [3,1.2],\n",
    "                      ]\n",
    "question=texto_ejercicio\n",
    "parts=[]\n",
    "for i in pre_enunciado_latex :\n",
    "    d=[i[1],0,i[0],0,0]\n",
    "    d= resolver_triangulo(d)\n",
    "    enun = r\"La hipotenusa y un lado miden $\"+r\"$ cm. y $\".join(map(latex,i))+r\"$ cm. respectivamente\" \n",
    "#     s = [round(sqrt(i[0]**2-i[1]**2),2),(deg(asin(i[1]/i[0]))).evalf()]\n",
    "    sol = r\"El otro cateto vale: $\"+latex(d[1])+r\"$ y los ańgulos agudos: $\"+\"$ y $\".join(map(latex,[d[3],d[4]]))+\"$\"\n",
    "    mostrar_ejercicio(enun, sol) \n",
    "    parts.append([enun, sol])         \n",
    "\n",
    "print(latex_exam(question, parts).replace(r'\\frac',r'\\dfrac'))"
   ]
  }
 ],
 "metadata": {
  "colab": {
   "name": "7 Sistemas.ipynb",
   "provenance": []
  },
  "kernelspec": {
   "display_name": "Python 3",
   "language": "python",
   "name": "python3"
  },
  "language_info": {
   "codemirror_mode": {
    "name": "ipython",
    "version": 3
   },
   "file_extension": ".py",
   "mimetype": "text/x-python",
   "name": "python",
   "nbconvert_exporter": "python",
   "pygments_lexer": "ipython3",
   "version": "3.6.12"
  }
 },
 "nbformat": 4,
 "nbformat_minor": 1
}
