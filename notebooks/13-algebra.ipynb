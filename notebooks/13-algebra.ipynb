{
  "nbformat": 4,
  "nbformat_minor": 0,
  "metadata": {
    "colab": {
      "name": "12-Radicales.ipynb",
      "provenance": [],
      "include_colab_link": true
    },
    "kernelspec": {
      "display_name": "Python 3",
      "language": "python",
      "name": "python3"
    },
    "language_info": {
      "codemirror_mode": {
        "name": "ipython",
        "version": 3
      },
      "file_extension": ".py",
      "mimetype": "text/x-python",
      "name": "python",
      "nbconvert_exporter": "python",
      "pygments_lexer": "ipython3",
      "version": "3.6.12"
    }
  },
  "cells": [
    {
      "cell_type": "markdown",
      "metadata": {
        "id": "view-in-github",
        "colab_type": "text"
      },
      "source": [
        "<a href=\"https://colab.research.google.com/github/crdguez/mat4ac/blob/master/notebooks/13-algebra.ipynb\" target=\"_parent\"><img src=\"https://colab.research.google.com/assets/colab-badge.svg\" alt=\"Open In Colab\"/></a>"
      ]
    },
    {
      "cell_type": "code",
      "metadata": {
        "colab": {
          "base_uri": "https://localhost:8080/"
        },
        "id": "9X_4fdzd0gZQ",
        "outputId": "ea58775f-fe20-4d8a-dcce-a9868f6c6964"
      },
      "source": [
        "# Ejecutar para que funcione el parse_latex en google colab\n",
        "\n",
        "#!pip install sympy==1.3 antlr4-python3-runtime==4.7.1"
      ],
      "execution_count": 1,
      "outputs": [
        {
          "output_type": "stream",
          "text": [
            "Collecting sympy==1.3\n",
            "\u001b[?25l  Downloading https://files.pythonhosted.org/packages/dd/f6/ed485ff22efdd7b371d0dbbf6d77ad61c3b3b7e0815a83c89cbb38ce35de/sympy-1.3.tar.gz (5.9MB)\n",
            "\u001b[K     |████████████████████████████████| 5.9MB 6.2MB/s \n",
            "\u001b[?25hCollecting antlr4-python3-runtime==4.7.1\n",
            "\u001b[?25l  Downloading https://files.pythonhosted.org/packages/3e/96/aba01b2948ec67f237cd387c022820835ae0d8db5cab4bd404b351660b5e/antlr4-python3-runtime-4.7.1.tar.gz (111kB)\n",
            "\u001b[K     |████████████████████████████████| 112kB 40.6MB/s \n",
            "\u001b[?25hRequirement already satisfied: mpmath>=0.19 in /usr/local/lib/python3.6/dist-packages (from sympy==1.3) (1.1.0)\n",
            "Building wheels for collected packages: sympy, antlr4-python3-runtime\n",
            "  Building wheel for sympy (setup.py) ... \u001b[?25l\u001b[?25hdone\n",
            "  Created wheel for sympy: filename=sympy-1.3-cp36-none-any.whl size=5199946 sha256=0f72a3c0106ef41cea0d077ad53fbae0d26ee4cef738c522b51d35a36cb6d861\n",
            "  Stored in directory: /root/.cache/pip/wheels/6c/59/86/478e3c0f298368c119095cc5985dedac57c0e35a85c737f823\n",
            "  Building wheel for antlr4-python3-runtime (setup.py) ... \u001b[?25l\u001b[?25hdone\n",
            "  Created wheel for antlr4-python3-runtime: filename=antlr4_python3_runtime-4.7.1-cp36-none-any.whl size=140551 sha256=db90d5c7e6e49ad5990049820788a84f924c4f21f3280577579e9ca3e46cbada\n",
            "  Stored in directory: /root/.cache/pip/wheels/ef/f6/18/ad300e691236a3408a99edc750484b56e8d6b11b2c38eacb10\n",
            "Successfully built sympy antlr4-python3-runtime\n",
            "Installing collected packages: sympy, antlr4-python3-runtime\n",
            "  Found existing installation: sympy 1.1.1\n",
            "    Uninstalling sympy-1.1.1:\n",
            "      Successfully uninstalled sympy-1.1.1\n",
            "Successfully installed antlr4-python3-runtime-4.7.1 sympy-1.3\n"
          ],
          "name": "stdout"
        }
      ]
    },
    {
      "cell_type": "code",
      "metadata": {
        "colab": {
          "base_uri": "https://localhost:8080/"
        },
        "id": "xYDbOmkG0YbJ",
        "outputId": "413dc79e-12a3-479d-fbc4-d266d9b0bc18"
      },
      "source": [
        "from sympy.parsing.latex import parse_latex\n",
        "from IPython.display import Markdown as md\n",
        "from IPython.display import display\n",
        "from sympy import init_session\n",
        "import numpy as np\n",
        "\n",
        "init_session()\n",
        "\n",
        "a, b, c, d = symbols('a b c d', real = True)"
      ],
      "execution_count": 2,
      "outputs": [
        {
          "output_type": "stream",
          "text": [
            "IPython console for SymPy 1.3 (Python 3.6.9-64-bit) (ground types: python)\n",
            "\n",
            "These commands were executed:\n",
            ">>> from __future__ import division\n",
            ">>> from sympy import *\n",
            ">>> x, y, z, t = symbols('x y z t')\n",
            ">>> k, m, n = symbols('k m n', integer=True)\n",
            ">>> f, g, h = symbols('f g h', cls=Function)\n",
            ">>> init_printing()\n",
            "\n",
            "Documentation can be found at http://docs.sympy.org/1.3/\n",
            "\n"
          ],
          "name": "stdout"
        }
      ]
    },
    {
      "cell_type": "code",
      "metadata": {
        "id": "vPXI53QN0Ycw"
      },
      "source": [
        "def mostrar_ejercicio(ejercicio,solucion,tipo=0) :\n",
        "    #tipo=0 se pasa el ejercicio y la solucion en formato latex\n",
        "    if tipo == 0 :\n",
        "        display(md(\"#### Ejercicio:\"))\n",
        "        display(md(r\"{} $\\to$ {}\".format(ejercicio, solucion)))\n",
        "        print(\"enunciado_latex: \" + ejercicio)\n",
        "        print(\"solucion_latex: \" + solucion)\n",
        "        return ejercicio, solucion\n",
        "    elif tipo == 1:\n",
        "        # falta desarrollar ...\n",
        "        display(md(\"#### Ejercicio:\"))\n",
        "        display(md(r\"{} $\\to$ {}\".format(ejercicio, solucion)))\n",
        "        print(\"enunciado_latex: \" + ejercicio)\n",
        "        print(\"solucion_latex: \" + solucion)\n",
        "        return ejercicio, solucion\n",
        "\n",
        "        \n",
        "    "
      ],
      "execution_count": 3,
      "outputs": []
    },
    {
      "cell_type": "code",
      "metadata": {
        "id": "1Vrb-eOWjMX8"
      },
      "source": [
        "def manipular_ec_irracional(ec) :\n",
        "    # Aisla el primer argumento del miembro de la izquierda y eleva todo al cuadrado. Devuelve el latex con las transformaciones y la ecuacion simplificada a resolver\n",
        "    transformaciones = [#ec,\n",
        "                        Eq(ec.args[0].args[0],ec.args[1]-(ec.args[0]-ec.args[0].args[0])), \n",
        "                        Eq(ec.args[0].args[0]**2,(ec.args[1]-(ec.args[0]-ec.args[0].args[0]))**2), \n",
        "                        Eq(expand(ec.args[0].args[0]**2-(ec.args[1]-(ec.args[0]-ec.args[0].args[0]))**2),0)]\n",
        "\n",
        "    return r\" \\to \".join(map(latex,transformaciones)), transformaciones[-1]"
      ],
      "execution_count": 4,
      "outputs": []
    },
    {
      "cell_type": "code",
      "metadata": {
        "colab": {
          "base_uri": "https://localhost:8080/",
          "height": 284
        },
        "id": "6aSd_z-t0YdR",
        "outputId": "97347f7a-999f-4a2f-e680-0985fd2ea25d"
      },
      "source": [
        "# Teorema del resto\n",
        "\n",
        "ejercicios=[\n",
        "            # cociente, x-a, resto, el dividendo (polinomio del enunciado) lo calcula la celda\n",
        "            [-2*x**2+3*x-6,-1,0]\n",
        "           ]\n",
        "\n",
        "display(md(\"## Teorema del resto:\"))\n",
        "\n",
        "for e in ejercicios :\n",
        "    polinomio = expand(e[0]*S(\"x-\"+str(e[1]))+e[2]) # propiedad fundamental de la división\n",
        "    enunciado_latex = r\"\"\"Utilizando el teorema del resto para el polinomio $P (x) ={}$ resuelve: \\\\ \n",
        "    Valor numérico para $x = {}$ \\\\ \n",
        "    ¿Es divisible P (x) por ${}$? \n",
        "    Justifica tu respuesta\"\"\".format(latex(polinomio),e[1],S(\"x-\"+latex(e[1])))\n",
        "\n",
        "    solucion_latex = r\"Si dividimos $P(x)={}$ entre ${}$ \".format(latex(polinomio),S(r\"x-\"+str(e[1])))+r\"el resto da \"+latex(e[2])\n",
        "    solucion_latex += r\". \\\\ Por el teorema del resto, $P({})={}$\".format(e[1], polinomio.subs(x,e[1]))\n",
        "    solucion_latex += r\". \\\\ Aplicando la propiedad fundamental de la división obtenemos que $P(x)={}=\\left({}\\right)\\cdot\\left({}\\right)+{} \\to $ \".format(latex(polinomio), latex(S(r\"x-\"+str(e[1]))), latex(e[0]), latex(e[2]))\n",
        "    solucion_latex += \"Sí es divisible.\" if e[2]==0 else \"No es divisible,\"\n",
        "    #print(enunciado_latex)\n",
        "\n",
        "    mostrar_ejercicio(enunciado_latex, solucion_latex)  \n"
      ],
      "execution_count": 5,
      "outputs": [
        {
          "output_type": "display_data",
          "data": {
            "text/markdown": "## Teorema del resto:",
            "text/plain": [
              "<IPython.core.display.Markdown object>"
            ]
          },
          "metadata": {
            "tags": []
          }
        },
        {
          "output_type": "display_data",
          "data": {
            "text/markdown": "#### Ejercicio:",
            "text/plain": [
              "<IPython.core.display.Markdown object>"
            ]
          },
          "metadata": {
            "tags": []
          }
        },
        {
          "output_type": "display_data",
          "data": {
            "text/markdown": "Utilizando el teorema del resto para el polinomio $P (x) =- 2 x^{3} + x^{2} - 3 x - 6$ resuelve: \\\\ \n    Valor numérico para $x = -1$ \\\\ \n    ¿Es divisible P (x) por $x + 1$? \n    Justifica tu respuesta $\\to$ Si dividimos $P(x)=- 2 x^{3} + x^{2} - 3 x - 6$ entre $x + 1$ el resto da 0. \\\\ Por el teorema del resto, $P(-1)=0$. \\\\ Aplicando la propiedad fundamental de la división obtenemos que $P(x)=- 2 x^{3} + x^{2} - 3 x - 6=\\left(x + 1\\right)\\cdot\\left(- 2 x^{2} + 3 x - 6\\right)+0 \\to $ Sí es divisible.",
            "text/plain": [
              "<IPython.core.display.Markdown object>"
            ]
          },
          "metadata": {
            "tags": []
          }
        },
        {
          "output_type": "stream",
          "text": [
            "enunciado_latex: Utilizando el teorema del resto para el polinomio $P (x) =- 2 x^{3} + x^{2} - 3 x - 6$ resuelve: \\\\ \n",
            "    Valor numérico para $x = -1$ \\\\ \n",
            "    ¿Es divisible P (x) por $x + 1$? \n",
            "    Justifica tu respuesta\n",
            "solucion_latex: Si dividimos $P(x)=- 2 x^{3} + x^{2} - 3 x - 6$ entre $x + 1$ el resto da 0. \\\\ Por el teorema del resto, $P(-1)=0$. \\\\ Aplicando la propiedad fundamental de la división obtenemos que $P(x)=- 2 x^{3} + x^{2} - 3 x - 6=\\left(x + 1\\right)\\cdot\\left(- 2 x^{2} + 3 x - 6\\right)+0 \\to $ Sí es divisible.\n"
          ],
          "name": "stdout"
        }
      ]
    },
    {
      "cell_type": "code",
      "metadata": {
        "id": "_bvSqYuGjMX8"
      },
      "source": [
        "enunciados=[[x*(x-1)*(2*x-3),x**2*(x-1)]]\n",
        "\n",
        "ejercicios =[r\"\\frac{{{}}}{{{}}}\".format(latex(expand(i[0])),latex(expand(i[0]))) for i in enunciados] "
      ],
      "execution_count": null,
      "outputs": []
    },
    {
      "cell_type": "code",
      "metadata": {
        "colab": {
          "base_uri": "https://localhost:8080/",
          "height": 506
        },
        "id": "cQtW0akV0YfG",
        "outputId": "18bc522e-edea-491b-b8ac-b3dcfd900a5c"
      },
      "source": [
        "# Simplificar fracciones algebraicas\n",
        "\n",
        "# ejercicios en lates\n",
        "# ejercicios=[\n",
        "#             r'\\frac{2x^3-5x^2+3x}{2x^2+x-6}',\n",
        "\n",
        "#            ]\n",
        "\n",
        "# ejercicios en numerador y denominador en factores. La celda obtiene la fracción del enunciado\n",
        "\n",
        "enunciados=[[x*(x-1)*(2*x-3),x**2*(x-1)],\n",
        "            [x*(x - 1)*(2*x - 3),(x + 2)*(2*x - 3)],\n",
        "            [2*x*(x-1)**3,6*x*(x-1)**2]\n",
        "           ]\n",
        "\n",
        "ejercicios =[r\"\\frac{{{}}}{{{}}}\".format(latex(expand(i[0])),latex(expand(i[1]))) for i in enunciados] \n",
        "\n",
        "display(md(\"## Simplifica la siguiente fracción algebraica:\"))\n",
        "\n",
        "[mostrar_ejercicio(\"$\"+e+\"$\", \n",
        "                   \"$\"+e+r\"=\\frac{{{}}}{{{}}}=\".format(latex(factor(parse_latex(e).as_numer_denom()[0])),latex(factor(parse_latex(e).as_numer_denom()[1])))+latex(cancel(parse_latex(e)))+\"$\") \n",
        "for e in ejercicios]    \n",
        "\n",
        "\n",
        "\n",
        "#[mostrar_ejercicio(e, latex(S(parse_latex(r\"\\frac{\"+latex(factorint(simplify(parse_latex(e)).as_numer_denom()[0] , visual=True))+r\"}{\" +latex(factorint(simplify(parse_latex(e)).as_numer_denom()[1], visual=True))+\"}\"), evaluate=False))) for e in ejercicios]    \n",
        "\n",
        "\n"
      ],
      "execution_count": 6,
      "outputs": [
        {
          "output_type": "display_data",
          "data": {
            "text/markdown": "## Simplifica la siguiente fracción algebraica:",
            "text/plain": [
              "<IPython.core.display.Markdown object>"
            ]
          },
          "metadata": {
            "tags": []
          }
        },
        {
          "output_type": "display_data",
          "data": {
            "text/markdown": "#### Ejercicio:",
            "text/plain": [
              "<IPython.core.display.Markdown object>"
            ]
          },
          "metadata": {
            "tags": []
          }
        },
        {
          "output_type": "display_data",
          "data": {
            "text/markdown": "$\\frac{2 x^{3} - 5 x^{2} + 3 x}{x^{3} - x^{2}}$ $\\to$ $\\frac{2 x^{3} - 5 x^{2} + 3 x}{x^{3} - x^{2}}=\\frac{x \\left(x - 1\\right) \\left(2 x - 3\\right)}{x^{2} \\left(x - 1\\right)}=\\frac{2 x - 3}{x}$",
            "text/plain": [
              "<IPython.core.display.Markdown object>"
            ]
          },
          "metadata": {
            "tags": []
          }
        },
        {
          "output_type": "stream",
          "text": [
            "enunciado_latex: $\\frac{2 x^{3} - 5 x^{2} + 3 x}{x^{3} - x^{2}}$\n",
            "solucion_latex: $\\frac{2 x^{3} - 5 x^{2} + 3 x}{x^{3} - x^{2}}=\\frac{x \\left(x - 1\\right) \\left(2 x - 3\\right)}{x^{2} \\left(x - 1\\right)}=\\frac{2 x - 3}{x}$\n"
          ],
          "name": "stdout"
        },
        {
          "output_type": "display_data",
          "data": {
            "text/markdown": "#### Ejercicio:",
            "text/plain": [
              "<IPython.core.display.Markdown object>"
            ]
          },
          "metadata": {
            "tags": []
          }
        },
        {
          "output_type": "display_data",
          "data": {
            "text/markdown": "$\\frac{2 x^{3} - 5 x^{2} + 3 x}{2 x^{2} + x - 6}$ $\\to$ $\\frac{2 x^{3} - 5 x^{2} + 3 x}{2 x^{2} + x - 6}=\\frac{x \\left(x - 1\\right) \\left(2 x - 3\\right)}{\\left(x + 2\\right) \\left(2 x - 3\\right)}=\\frac{x^{2} - x}{x + 2}$",
            "text/plain": [
              "<IPython.core.display.Markdown object>"
            ]
          },
          "metadata": {
            "tags": []
          }
        },
        {
          "output_type": "stream",
          "text": [
            "enunciado_latex: $\\frac{2 x^{3} - 5 x^{2} + 3 x}{2 x^{2} + x - 6}$\n",
            "solucion_latex: $\\frac{2 x^{3} - 5 x^{2} + 3 x}{2 x^{2} + x - 6}=\\frac{x \\left(x - 1\\right) \\left(2 x - 3\\right)}{\\left(x + 2\\right) \\left(2 x - 3\\right)}=\\frac{x^{2} - x}{x + 2}$\n"
          ],
          "name": "stdout"
        },
        {
          "output_type": "display_data",
          "data": {
            "text/markdown": "#### Ejercicio:",
            "text/plain": [
              "<IPython.core.display.Markdown object>"
            ]
          },
          "metadata": {
            "tags": []
          }
        },
        {
          "output_type": "display_data",
          "data": {
            "text/markdown": "$\\frac{2 x^{4} - 6 x^{3} + 6 x^{2} - 2 x}{6 x^{3} - 12 x^{2} + 6 x}$ $\\to$ $\\frac{2 x^{4} - 6 x^{3} + 6 x^{2} - 2 x}{6 x^{3} - 12 x^{2} + 6 x}=\\frac{2 x \\left(x - 1\\right)^{3}}{6 x \\left(x - 1\\right)^{2}}=\\frac{x}{3} - \\frac{1}{3}$",
            "text/plain": [
              "<IPython.core.display.Markdown object>"
            ]
          },
          "metadata": {
            "tags": []
          }
        },
        {
          "output_type": "stream",
          "text": [
            "enunciado_latex: $\\frac{2 x^{4} - 6 x^{3} + 6 x^{2} - 2 x}{6 x^{3} - 12 x^{2} + 6 x}$\n",
            "solucion_latex: $\\frac{2 x^{4} - 6 x^{3} + 6 x^{2} - 2 x}{6 x^{3} - 12 x^{2} + 6 x}=\\frac{2 x \\left(x - 1\\right)^{3}}{6 x \\left(x - 1\\right)^{2}}=\\frac{x}{3} - \\frac{1}{3}$\n"
          ],
          "name": "stdout"
        },
        {
          "output_type": "execute_result",
          "data": {
            "text/plain": [
              "[('$\\\\frac{2 x^{3} - 5 x^{2} + 3 x}{x^{3} - x^{2}}$',\n",
              "  '$\\\\frac{2 x^{3} - 5 x^{2} + 3 x}{x^{3} - x^{2}}=\\\\frac{x \\\\left(x - 1\\\\right) \\\\left(2 x - 3\\\\right)}{x^{2} \\\\left(x - 1\\\\right)}=\\\\frac{2 x - 3}{x}$'),\n",
              " ('$\\\\frac{2 x^{3} - 5 x^{2} + 3 x}{2 x^{2} + x - 6}$',\n",
              "  '$\\\\frac{2 x^{3} - 5 x^{2} + 3 x}{2 x^{2} + x - 6}=\\\\frac{x \\\\left(x - 1\\\\right) \\\\left(2 x - 3\\\\right)}{\\\\left(x + 2\\\\right) \\\\left(2 x - 3\\\\right)}=\\\\frac{x^{2} - x}{x + 2}$'),\n",
              " ('$\\\\frac{2 x^{4} - 6 x^{3} + 6 x^{2} - 2 x}{6 x^{3} - 12 x^{2} + 6 x}$',\n",
              "  '$\\\\frac{2 x^{4} - 6 x^{3} + 6 x^{2} - 2 x}{6 x^{3} - 12 x^{2} + 6 x}=\\\\frac{2 x \\\\left(x - 1\\\\right)^{3}}{6 x \\\\left(x - 1\\\\right)^{2}}=\\\\frac{x}{3} - \\\\frac{1}{3}$')]"
            ]
          },
          "metadata": {
            "tags": []
          },
          "execution_count": 6
        }
      ]
    },
    {
      "cell_type": "code",
      "metadata": {
        "scrolled": true,
        "id": "JvzpWHP9jMX9",
        "outputId": "ad2911cb-f56e-4bf0-f130-d0679838a673",
        "colab": {
          "base_uri": "https://localhost:8080/",
          "height": 38
        }
      },
      "source": [
        "import numpy as np\n",
        "\n",
        "factor(9*x**4-36*x**3+26*x**2+4*x-3)\n",
        "roots(9*x**4-36*x**3+26*x**2+4*x-3, multiple=True)\n",
        "#roots?\n",
        "\n",
        "\n",
        "ej = 9*x**4-36*x**3+26*x**2+4*x-3\n",
        "raices = roots(ej, multiple=True)\n",
        "\n",
        "pol=1\n",
        "for i in raices :\n",
        "    pol *= (x-i) \n",
        "    \n",
        "raices, expand(np.prod([r.as_numer_denom()[1] for r in raices])*pol), factor(np.prod([r.as_numer_denom()[1] for r in raices])*pol)"
      ],
      "execution_count": 7,
      "outputs": [
        {
          "output_type": "execute_result",
          "data": {
            "image/png": "[encoded data removed]",
            "text/latex": "$$\\left ( \\left [ - \\frac{1}{3}, \\quad \\frac{1}{3}, \\quad 1, \\quad 3\\right ], \\quad 9 x^{4} - 36 x^{3} + 26 x^{2} + 4 x - 3, \\quad \\left(x - 3\\right) \\left(x - 1\\right) \\left(3 x - 1\\right) \\left(3 x + 1\\right)\\right )$$",
            "text/plain": [
              "⎛                      4       3       2                                      \n",
              "⎝[-1/3, 1/3, 1, 3], 9⋅x  - 36⋅x  + 26⋅x  + 4⋅x - 3, (x - 3)⋅(x - 1)⋅(3⋅x - 1)⋅\n",
              "\n",
              "         ⎞\n",
              "(3⋅x + 1)⎠"
            ]
          },
          "metadata": {
            "tags": []
          },
          "execution_count": 7
        }
      ]
    },
    {
      "cell_type": "code",
      "metadata": {
        "id": "TNoahVDTjMX-"
      },
      "source": [
        "def lista_raices() :\n",
        "# Obtiene al azar una lista de raíces con como mucho dos raíces racionales\n",
        "    # número de raices enteras\n",
        "    n_fac1=np.random.randint(2,4)\n",
        "    # Selección de raíces con como mucho dos raíces racionales\n",
        "    raices=np.concatenate((np.random.randint(7,size=n_fac1),(np.random.randint(1,3,size=2)/np.random.randint(2,5,size=2)))) if np.random.randint(2)==1 else np.random.randint(7,size=n_fac1)\n",
        "    return raices\n",
        "\n",
        "\n",
        "def raices_a_polinomio(raices) :\n",
        "    # De una lista de raices obtenemos el polinomio de coeficientes enteros\n",
        "    pol=1\n",
        "    for i in raices :\n",
        "        pol *= (x-nsimplify(i)) \n",
        "    expand(np.prod([nsimplify(r).as_numer_denom()[1] for r in raices])*pol), factor(np.prod([nsimplify(r).as_numer_denom()[1] for r in raices])*pol)\n",
        "    return(expand(factor(np.prod([nsimplify(r).as_numer_denom()[1] for r in raices])*pol)))"
      ],
      "execution_count": 8,
      "outputs": []
    },
    {
      "cell_type": "code",
      "metadata": {
        "id": "aH86JXm1jMX_",
        "outputId": "cffc8593-479c-4f10-a7f4-a4b246797e1b",
        "colab": {
          "base_uri": "https://localhost:8080/",
          "height": 1000
        }
      },
      "source": [
        "# Factoriza los siguientes polinomios:\n",
        "\n",
        "# Número de polinomios\n",
        "\n",
        "n=30\n",
        "\n",
        "ejercicios = [\n",
        "              raices_a_polinomio(lista_raices()) for i in range(n)\n",
        "            ]\n",
        "\n",
        "display(md(\"## Factoriza los siguientes polinomios:\"))\n",
        "\n",
        "#[mostrar_ejercicio(r\"${}$ \".format(latex(e)), \n",
        "#                   r\"${}$\".format(latex(factor(e)))\n",
        "#                  )\n",
        "#for e in ejercicios]\n",
        "\n",
        "texto_latex = \"\"\n",
        "\n",
        "for e in ejercicios:\n",
        "    enunciado, solucion = mostrar_ejercicio(r\"${}$ \".format(latex(e)), \n",
        "                   r\"${}$\".format(latex(factor(e)))) \n",
        "    texto_latex += r\"\\part \" + enunciado + r\" \\begin{solution}\" + solucion + r\"\\end{solution}  \" \n",
        "         \n",
        "        \n",
        "print(texto_latex)        \n"
      ],
      "execution_count": 9,
      "outputs": [
        {
          "output_type": "display_data",
          "data": {
            "text/markdown": "## Factoriza los siguientes polinomios:",
            "text/plain": [
              "<IPython.core.display.Markdown object>"
            ]
          },
          "metadata": {
            "tags": []
          }
        },
        {
          "output_type": "display_data",
          "data": {
            "text/markdown": "#### Ejercicio:",
            "text/plain": [
              "<IPython.core.display.Markdown object>"
            ]
          },
          "metadata": {
            "tags": []
          }
        },
        {
          "output_type": "display_data",
          "data": {
            "text/markdown": "$4 x^{5} - 48 x^{4} + 165 x^{3} - 131 x^{2} + 30 x$  $\\to$ $x \\left(x - 6\\right) \\left(x - 5\\right) \\left(2 x - 1\\right)^{2}$",
            "text/plain": [
              "<IPython.core.display.Markdown object>"
            ]
          },
          "metadata": {
            "tags": []
          }
        },
        {
          "output_type": "stream",
          "text": [
            "enunciado_latex: $4 x^{5} - 48 x^{4} + 165 x^{3} - 131 x^{2} + 30 x$ \n",
            "solucion_latex: $x \\left(x - 6\\right) \\left(x - 5\\right) \\left(2 x - 1\\right)^{2}$\n"
          ],
          "name": "stdout"
        },
        {
          "output_type": "display_data",
          "data": {
            "text/markdown": "#### Ejercicio:",
            "text/plain": [
              "<IPython.core.display.Markdown object>"
            ]
          },
          "metadata": {
            "tags": []
          }
        },
        {
          "output_type": "display_data",
          "data": {
            "text/markdown": "$12 x^{4} - 59 x^{3} + 46 x^{2} - 8 x$  $\\to$ $x \\left(x - 4\\right) \\left(3 x - 2\\right) \\left(4 x - 1\\right)$",
            "text/plain": [
              "<IPython.core.display.Markdown object>"
            ]
          },
          "metadata": {
            "tags": []
          }
        },
        {
          "output_type": "stream",
          "text": [
            "enunciado_latex: $12 x^{4} - 59 x^{3} + 46 x^{2} - 8 x$ \n",
            "solucion_latex: $x \\left(x - 4\\right) \\left(3 x - 2\\right) \\left(4 x - 1\\right)$\n"
          ],
          "name": "stdout"
        },
        {
          "output_type": "display_data",
          "data": {
            "text/markdown": "#### Ejercicio:",
            "text/plain": [
              "<IPython.core.display.Markdown object>"
            ]
          },
          "metadata": {
            "tags": []
          }
        },
        {
          "output_type": "display_data",
          "data": {
            "text/markdown": "$x^{2} - 4 x$  $\\to$ $x \\left(x - 4\\right)$",
            "text/plain": [
              "<IPython.core.display.Markdown object>"
            ]
          },
          "metadata": {
            "tags": []
          }
        },
        {
          "output_type": "stream",
          "text": [
            "enunciado_latex: $x^{2} - 4 x$ \n",
            "solucion_latex: $x \\left(x - 4\\right)$\n"
          ],
          "name": "stdout"
        },
        {
          "output_type": "display_data",
          "data": {
            "text/markdown": "#### Ejercicio:",
            "text/plain": [
              "<IPython.core.display.Markdown object>"
            ]
          },
          "metadata": {
            "tags": []
          }
        },
        {
          "output_type": "display_data",
          "data": {
            "text/markdown": "$8 x^{4} - 38 x^{3} + 25 x^{2} - 4 x$  $\\to$ $x \\left(x - 4\\right) \\left(2 x - 1\\right) \\left(4 x - 1\\right)$",
            "text/plain": [
              "<IPython.core.display.Markdown object>"
            ]
          },
          "metadata": {
            "tags": []
          }
        },
        {
          "output_type": "stream",
          "text": [
            "enunciado_latex: $8 x^{4} - 38 x^{3} + 25 x^{2} - 4 x$ \n",
            "solucion_latex: $x \\left(x - 4\\right) \\left(2 x - 1\\right) \\left(4 x - 1\\right)$\n"
          ],
          "name": "stdout"
        },
        {
          "output_type": "display_data",
          "data": {
            "text/markdown": "#### Ejercicio:",
            "text/plain": [
              "<IPython.core.display.Markdown object>"
            ]
          },
          "metadata": {
            "tags": []
          }
        },
        {
          "output_type": "display_data",
          "data": {
            "text/markdown": "$x^{2} - 4 x$  $\\to$ $x \\left(x - 4\\right)$",
            "text/plain": [
              "<IPython.core.display.Markdown object>"
            ]
          },
          "metadata": {
            "tags": []
          }
        },
        {
          "output_type": "stream",
          "text": [
            "enunciado_latex: $x^{2} - 4 x$ \n",
            "solucion_latex: $x \\left(x - 4\\right)$\n"
          ],
          "name": "stdout"
        },
        {
          "output_type": "display_data",
          "data": {
            "text/markdown": "#### Ejercicio:",
            "text/plain": [
              "<IPython.core.display.Markdown object>"
            ]
          },
          "metadata": {
            "tags": []
          }
        },
        {
          "output_type": "display_data",
          "data": {
            "text/markdown": "$2 x^{4} - 21 x^{3} + 64 x^{2} - 63 x + 18$  $\\to$ $\\left(x - 6\\right) \\left(x - 3\\right) \\left(x - 1\\right) \\left(2 x - 1\\right)$",
            "text/plain": [
              "<IPython.core.display.Markdown object>"
            ]
          },
          "metadata": {
            "tags": []
          }
        },
        {
          "output_type": "stream",
          "text": [
            "enunciado_latex: $2 x^{4} - 21 x^{3} + 64 x^{2} - 63 x + 18$ \n",
            "solucion_latex: $\\left(x - 6\\right) \\left(x - 3\\right) \\left(x - 1\\right) \\left(2 x - 1\\right)$\n"
          ],
          "name": "stdout"
        },
        {
          "output_type": "display_data",
          "data": {
            "text/markdown": "#### Ejercicio:",
            "text/plain": [
              "<IPython.core.display.Markdown object>"
            ]
          },
          "metadata": {
            "tags": []
          }
        },
        {
          "output_type": "display_data",
          "data": {
            "text/markdown": "$3 x^{5} - 31 x^{4} + 97 x^{3} - 125 x^{2} + 68 x - 12$  $\\to$ $\\left(x - 6\\right) \\left(x - 2\\right) \\left(x - 1\\right)^{2} \\left(3 x - 1\\right)$",
            "text/plain": [
              "<IPython.core.display.Markdown object>"
            ]
          },
          "metadata": {
            "tags": []
          }
        },
        {
          "output_type": "stream",
          "text": [
            "enunciado_latex: $3 x^{5} - 31 x^{4} + 97 x^{3} - 125 x^{2} + 68 x - 12$ \n",
            "solucion_latex: $\\left(x - 6\\right) \\left(x - 2\\right) \\left(x - 1\\right)^{2} \\left(3 x - 1\\right)$\n"
          ],
          "name": "stdout"
        },
        {
          "output_type": "display_data",
          "data": {
            "text/markdown": "#### Ejercicio:",
            "text/plain": [
              "<IPython.core.display.Markdown object>"
            ]
          },
          "metadata": {
            "tags": []
          }
        },
        {
          "output_type": "display_data",
          "data": {
            "text/markdown": "$x^{3} - 13 x^{2} + 54 x - 72$  $\\to$ $\\left(x - 6\\right) \\left(x - 4\\right) \\left(x - 3\\right)$",
            "text/plain": [
              "<IPython.core.display.Markdown object>"
            ]
          },
          "metadata": {
            "tags": []
          }
        },
        {
          "output_type": "stream",
          "text": [
            "enunciado_latex: $x^{3} - 13 x^{2} + 54 x - 72$ \n",
            "solucion_latex: $\\left(x - 6\\right) \\left(x - 4\\right) \\left(x - 3\\right)$\n"
          ],
          "name": "stdout"
        },
        {
          "output_type": "display_data",
          "data": {
            "text/markdown": "#### Ejercicio:",
            "text/plain": [
              "<IPython.core.display.Markdown object>"
            ]
          },
          "metadata": {
            "tags": []
          }
        },
        {
          "output_type": "display_data",
          "data": {
            "text/markdown": "$x^{2} - 6 x + 5$  $\\to$ $\\left(x - 5\\right) \\left(x - 1\\right)$",
            "text/plain": [
              "<IPython.core.display.Markdown object>"
            ]
          },
          "metadata": {
            "tags": []
          }
        },
        {
          "output_type": "stream",
          "text": [
            "enunciado_latex: $x^{2} - 6 x + 5$ \n",
            "solucion_latex: $\\left(x - 5\\right) \\left(x - 1\\right)$\n"
          ],
          "name": "stdout"
        },
        {
          "output_type": "display_data",
          "data": {
            "text/markdown": "#### Ejercicio:",
            "text/plain": [
              "<IPython.core.display.Markdown object>"
            ]
          },
          "metadata": {
            "tags": []
          }
        },
        {
          "output_type": "display_data",
          "data": {
            "text/markdown": "$4 x^{5} - 28 x^{4} + 61 x^{3} - 58 x^{2} + 25 x - 4$  $\\to$ $\\left(x - 4\\right) \\left(x - 1\\right)^{2} \\left(2 x - 1\\right)^{2}$",
            "text/plain": [
              "<IPython.core.display.Markdown object>"
            ]
          },
          "metadata": {
            "tags": []
          }
        },
        {
          "output_type": "stream",
          "text": [
            "enunciado_latex: $4 x^{5} - 28 x^{4} + 61 x^{3} - 58 x^{2} + 25 x - 4$ \n",
            "solucion_latex: $\\left(x - 4\\right) \\left(x - 1\\right)^{2} \\left(2 x - 1\\right)^{2}$\n"
          ],
          "name": "stdout"
        },
        {
          "output_type": "display_data",
          "data": {
            "text/markdown": "#### Ejercicio:",
            "text/plain": [
              "<IPython.core.display.Markdown object>"
            ]
          },
          "metadata": {
            "tags": []
          }
        },
        {
          "output_type": "display_data",
          "data": {
            "text/markdown": "$x^{3} - 12 x^{2} + 45 x - 50$  $\\to$ $\\left(x - 5\\right)^{2} \\left(x - 2\\right)$",
            "text/plain": [
              "<IPython.core.display.Markdown object>"
            ]
          },
          "metadata": {
            "tags": []
          }
        },
        {
          "output_type": "stream",
          "text": [
            "enunciado_latex: $x^{3} - 12 x^{2} + 45 x - 50$ \n",
            "solucion_latex: $\\left(x - 5\\right)^{2} \\left(x - 2\\right)$\n"
          ],
          "name": "stdout"
        },
        {
          "output_type": "display_data",
          "data": {
            "text/markdown": "#### Ejercicio:",
            "text/plain": [
              "<IPython.core.display.Markdown object>"
            ]
          },
          "metadata": {
            "tags": []
          }
        },
        {
          "output_type": "display_data",
          "data": {
            "text/markdown": "$3 x^{4} - 20 x^{3} + 39 x^{2} - 30 x + 8$  $\\to$ $\\left(x - 4\\right) \\left(x - 1\\right)^{2} \\left(3 x - 2\\right)$",
            "text/plain": [
              "<IPython.core.display.Markdown object>"
            ]
          },
          "metadata": {
            "tags": []
          }
        },
        {
          "output_type": "stream",
          "text": [
            "enunciado_latex: $3 x^{4} - 20 x^{3} + 39 x^{2} - 30 x + 8$ \n",
            "solucion_latex: $\\left(x - 4\\right) \\left(x - 1\\right)^{2} \\left(3 x - 2\\right)$\n"
          ],
          "name": "stdout"
        },
        {
          "output_type": "display_data",
          "data": {
            "text/markdown": "#### Ejercicio:",
            "text/plain": [
              "<IPython.core.display.Markdown object>"
            ]
          },
          "metadata": {
            "tags": []
          }
        },
        {
          "output_type": "display_data",
          "data": {
            "text/markdown": "$8 x^{4} - 54 x^{3} + 101 x^{2} - 54 x + 8$  $\\to$ $\\left(x - 4\\right) \\left(x - 2\\right) \\left(2 x - 1\\right) \\left(4 x - 1\\right)$",
            "text/plain": [
              "<IPython.core.display.Markdown object>"
            ]
          },
          "metadata": {
            "tags": []
          }
        },
        {
          "output_type": "stream",
          "text": [
            "enunciado_latex: $8 x^{4} - 54 x^{3} + 101 x^{2} - 54 x + 8$ \n",
            "solucion_latex: $\\left(x - 4\\right) \\left(x - 2\\right) \\left(2 x - 1\\right) \\left(4 x - 1\\right)$\n"
          ],
          "name": "stdout"
        },
        {
          "output_type": "display_data",
          "data": {
            "text/markdown": "#### Ejercicio:",
            "text/plain": [
              "<IPython.core.display.Markdown object>"
            ]
          },
          "metadata": {
            "tags": []
          }
        },
        {
          "output_type": "display_data",
          "data": {
            "text/markdown": "$x^{3} - 13 x^{2} + 52 x - 60$  $\\to$ $\\left(x - 6\\right) \\left(x - 5\\right) \\left(x - 2\\right)$",
            "text/plain": [
              "<IPython.core.display.Markdown object>"
            ]
          },
          "metadata": {
            "tags": []
          }
        },
        {
          "output_type": "stream",
          "text": [
            "enunciado_latex: $x^{3} - 13 x^{2} + 52 x - 60$ \n",
            "solucion_latex: $\\left(x - 6\\right) \\left(x - 5\\right) \\left(x - 2\\right)$\n"
          ],
          "name": "stdout"
        },
        {
          "output_type": "display_data",
          "data": {
            "text/markdown": "#### Ejercicio:",
            "text/plain": [
              "<IPython.core.display.Markdown object>"
            ]
          },
          "metadata": {
            "tags": []
          }
        },
        {
          "output_type": "display_data",
          "data": {
            "text/markdown": "$4 x^{4} - 12 x^{3} + 9 x^{2} - 2 x$  $\\to$ $x \\left(x - 2\\right) \\left(2 x - 1\\right)^{2}$",
            "text/plain": [
              "<IPython.core.display.Markdown object>"
            ]
          },
          "metadata": {
            "tags": []
          }
        },
        {
          "output_type": "stream",
          "text": [
            "enunciado_latex: $4 x^{4} - 12 x^{3} + 9 x^{2} - 2 x$ \n",
            "solucion_latex: $x \\left(x - 2\\right) \\left(2 x - 1\\right)^{2}$\n"
          ],
          "name": "stdout"
        },
        {
          "output_type": "display_data",
          "data": {
            "text/markdown": "#### Ejercicio:",
            "text/plain": [
              "<IPython.core.display.Markdown object>"
            ]
          },
          "metadata": {
            "tags": []
          }
        },
        {
          "output_type": "display_data",
          "data": {
            "text/markdown": "$x^{3} - x^{2}$  $\\to$ $x^{2} \\left(x - 1\\right)$",
            "text/plain": [
              "<IPython.core.display.Markdown object>"
            ]
          },
          "metadata": {
            "tags": []
          }
        },
        {
          "output_type": "stream",
          "text": [
            "enunciado_latex: $x^{3} - x^{2}$ \n",
            "solucion_latex: $x^{2} \\left(x - 1\\right)$\n"
          ],
          "name": "stdout"
        },
        {
          "output_type": "display_data",
          "data": {
            "text/markdown": "#### Ejercicio:",
            "text/plain": [
              "<IPython.core.display.Markdown object>"
            ]
          },
          "metadata": {
            "tags": []
          }
        },
        {
          "output_type": "display_data",
          "data": {
            "text/markdown": "$9 x^{4} - 78 x^{3} + 157 x^{2} - 80 x + 12$  $\\to$ $\\left(x - 6\\right) \\left(x - 2\\right) \\left(3 x - 1\\right)^{2}$",
            "text/plain": [
              "<IPython.core.display.Markdown object>"
            ]
          },
          "metadata": {
            "tags": []
          }
        },
        {
          "output_type": "stream",
          "text": [
            "enunciado_latex: $9 x^{4} - 78 x^{3} + 157 x^{2} - 80 x + 12$ \n",
            "solucion_latex: $\\left(x - 6\\right) \\left(x - 2\\right) \\left(3 x - 1\\right)^{2}$\n"
          ],
          "name": "stdout"
        },
        {
          "output_type": "display_data",
          "data": {
            "text/markdown": "#### Ejercicio:",
            "text/plain": [
              "<IPython.core.display.Markdown object>"
            ]
          },
          "metadata": {
            "tags": []
          }
        },
        {
          "output_type": "display_data",
          "data": {
            "text/markdown": "$x^{3} - 8 x^{2} + 21 x - 18$  $\\to$ $\\left(x - 3\\right)^{2} \\left(x - 2\\right)$",
            "text/plain": [
              "<IPython.core.display.Markdown object>"
            ]
          },
          "metadata": {
            "tags": []
          }
        },
        {
          "output_type": "stream",
          "text": [
            "enunciado_latex: $x^{3} - 8 x^{2} + 21 x - 18$ \n",
            "solucion_latex: $\\left(x - 3\\right)^{2} \\left(x - 2\\right)$\n"
          ],
          "name": "stdout"
        },
        {
          "output_type": "display_data",
          "data": {
            "text/markdown": "#### Ejercicio:",
            "text/plain": [
              "<IPython.core.display.Markdown object>"
            ]
          },
          "metadata": {
            "tags": []
          }
        },
        {
          "output_type": "display_data",
          "data": {
            "text/markdown": "$4 x^{4} - 28 x^{3} + 45 x^{2} - 26 x + 5$  $\\to$ $\\left(x - 5\\right) \\left(x - 1\\right) \\left(2 x - 1\\right)^{2}$",
            "text/plain": [
              "<IPython.core.display.Markdown object>"
            ]
          },
          "metadata": {
            "tags": []
          }
        },
        {
          "output_type": "stream",
          "text": [
            "enunciado_latex: $4 x^{4} - 28 x^{3} + 45 x^{2} - 26 x + 5$ \n",
            "solucion_latex: $\\left(x - 5\\right) \\left(x - 1\\right) \\left(2 x - 1\\right)^{2}$\n"
          ],
          "name": "stdout"
        },
        {
          "output_type": "display_data",
          "data": {
            "text/markdown": "#### Ejercicio:",
            "text/plain": [
              "<IPython.core.display.Markdown object>"
            ]
          },
          "metadata": {
            "tags": []
          }
        },
        {
          "output_type": "display_data",
          "data": {
            "text/markdown": "$x^{3} - x^{2}$  $\\to$ $x^{2} \\left(x - 1\\right)$",
            "text/plain": [
              "<IPython.core.display.Markdown object>"
            ]
          },
          "metadata": {
            "tags": []
          }
        },
        {
          "output_type": "stream",
          "text": [
            "enunciado_latex: $x^{3} - x^{2}$ \n",
            "solucion_latex: $x^{2} \\left(x - 1\\right)$\n"
          ],
          "name": "stdout"
        },
        {
          "output_type": "display_data",
          "data": {
            "text/markdown": "#### Ejercicio:",
            "text/plain": [
              "<IPython.core.display.Markdown object>"
            ]
          },
          "metadata": {
            "tags": []
          }
        },
        {
          "output_type": "display_data",
          "data": {
            "text/markdown": "$x^{2} - 6 x$  $\\to$ $x \\left(x - 6\\right)$",
            "text/plain": [
              "<IPython.core.display.Markdown object>"
            ]
          },
          "metadata": {
            "tags": []
          }
        },
        {
          "output_type": "stream",
          "text": [
            "enunciado_latex: $x^{2} - 6 x$ \n",
            "solucion_latex: $x \\left(x - 6\\right)$\n"
          ],
          "name": "stdout"
        },
        {
          "output_type": "display_data",
          "data": {
            "text/markdown": "#### Ejercicio:",
            "text/plain": [
              "<IPython.core.display.Markdown object>"
            ]
          },
          "metadata": {
            "tags": []
          }
        },
        {
          "output_type": "display_data",
          "data": {
            "text/markdown": "$6 x^{5} - 35 x^{4} + 74 x^{3} - 69 x^{2} + 28 x - 4$  $\\to$ $\\left(x - 2\\right)^{2} \\left(x - 1\\right) \\left(2 x - 1\\right) \\left(3 x - 1\\right)$",
            "text/plain": [
              "<IPython.core.display.Markdown object>"
            ]
          },
          "metadata": {
            "tags": []
          }
        },
        {
          "output_type": "stream",
          "text": [
            "enunciado_latex: $6 x^{5} - 35 x^{4} + 74 x^{3} - 69 x^{2} + 28 x - 4$ \n",
            "solucion_latex: $\\left(x - 2\\right)^{2} \\left(x - 1\\right) \\left(2 x - 1\\right) \\left(3 x - 1\\right)$\n"
          ],
          "name": "stdout"
        },
        {
          "output_type": "display_data",
          "data": {
            "text/markdown": "#### Ejercicio:",
            "text/plain": [
              "<IPython.core.display.Markdown object>"
            ]
          },
          "metadata": {
            "tags": []
          }
        },
        {
          "output_type": "display_data",
          "data": {
            "text/markdown": "$x^{3} - 5 x^{2} + 4 x$  $\\to$ $x \\left(x - 4\\right) \\left(x - 1\\right)$",
            "text/plain": [
              "<IPython.core.display.Markdown object>"
            ]
          },
          "metadata": {
            "tags": []
          }
        },
        {
          "output_type": "stream",
          "text": [
            "enunciado_latex: $x^{3} - 5 x^{2} + 4 x$ \n",
            "solucion_latex: $x \\left(x - 4\\right) \\left(x - 1\\right)$\n"
          ],
          "name": "stdout"
        },
        {
          "output_type": "display_data",
          "data": {
            "text/markdown": "#### Ejercicio:",
            "text/plain": [
              "<IPython.core.display.Markdown object>"
            ]
          },
          "metadata": {
            "tags": []
          }
        },
        {
          "output_type": "display_data",
          "data": {
            "text/markdown": "$12 x^{5} - 119 x^{4} + 413 x^{3} - 592 x^{2} + 316 x - 48$  $\\to$ $\\left(x - 4\\right) \\left(x - 3\\right) \\left(x - 2\\right) \\left(3 x - 2\\right) \\left(4 x - 1\\right)$",
            "text/plain": [
              "<IPython.core.display.Markdown object>"
            ]
          },
          "metadata": {
            "tags": []
          }
        },
        {
          "output_type": "stream",
          "text": [
            "enunciado_latex: $12 x^{5} - 119 x^{4} + 413 x^{3} - 592 x^{2} + 316 x - 48$ \n",
            "solucion_latex: $\\left(x - 4\\right) \\left(x - 3\\right) \\left(x - 2\\right) \\left(3 x - 2\\right) \\left(4 x - 1\\right)$\n"
          ],
          "name": "stdout"
        },
        {
          "output_type": "display_data",
          "data": {
            "text/markdown": "#### Ejercicio:",
            "text/plain": [
              "<IPython.core.display.Markdown object>"
            ]
          },
          "metadata": {
            "tags": []
          }
        },
        {
          "output_type": "display_data",
          "data": {
            "text/markdown": "$x^{2} - 7 x + 10$  $\\to$ $\\left(x - 5\\right) \\left(x - 2\\right)$",
            "text/plain": [
              "<IPython.core.display.Markdown object>"
            ]
          },
          "metadata": {
            "tags": []
          }
        },
        {
          "output_type": "stream",
          "text": [
            "enunciado_latex: $x^{2} - 7 x + 10$ \n",
            "solucion_latex: $\\left(x - 5\\right) \\left(x - 2\\right)$\n"
          ],
          "name": "stdout"
        },
        {
          "output_type": "display_data",
          "data": {
            "text/markdown": "#### Ejercicio:",
            "text/plain": [
              "<IPython.core.display.Markdown object>"
            ]
          },
          "metadata": {
            "tags": []
          }
        },
        {
          "output_type": "display_data",
          "data": {
            "text/markdown": "$x^{2} - 4 x + 3$  $\\to$ $\\left(x - 3\\right) \\left(x - 1\\right)$",
            "text/plain": [
              "<IPython.core.display.Markdown object>"
            ]
          },
          "metadata": {
            "tags": []
          }
        },
        {
          "output_type": "stream",
          "text": [
            "enunciado_latex: $x^{2} - 4 x + 3$ \n",
            "solucion_latex: $\\left(x - 3\\right) \\left(x - 1\\right)$\n"
          ],
          "name": "stdout"
        },
        {
          "output_type": "display_data",
          "data": {
            "text/markdown": "#### Ejercicio:",
            "text/plain": [
              "<IPython.core.display.Markdown object>"
            ]
          },
          "metadata": {
            "tags": []
          }
        },
        {
          "output_type": "display_data",
          "data": {
            "text/markdown": "$6 x^{5} - 49 x^{4} + 141 x^{3} - 173 x^{2} + 93 x - 18$  $\\to$ $\\left(x - 3\\right)^{2} \\left(x - 1\\right) \\left(2 x - 1\\right) \\left(3 x - 2\\right)$",
            "text/plain": [
              "<IPython.core.display.Markdown object>"
            ]
          },
          "metadata": {
            "tags": []
          }
        },
        {
          "output_type": "stream",
          "text": [
            "enunciado_latex: $6 x^{5} - 49 x^{4} + 141 x^{3} - 173 x^{2} + 93 x - 18$ \n",
            "solucion_latex: $\\left(x - 3\\right)^{2} \\left(x - 1\\right) \\left(2 x - 1\\right) \\left(3 x - 2\\right)$\n"
          ],
          "name": "stdout"
        },
        {
          "output_type": "display_data",
          "data": {
            "text/markdown": "#### Ejercicio:",
            "text/plain": [
              "<IPython.core.display.Markdown object>"
            ]
          },
          "metadata": {
            "tags": []
          }
        },
        {
          "output_type": "display_data",
          "data": {
            "text/markdown": "$x^{2} - 6 x$  $\\to$ $x \\left(x - 6\\right)$",
            "text/plain": [
              "<IPython.core.display.Markdown object>"
            ]
          },
          "metadata": {
            "tags": []
          }
        },
        {
          "output_type": "stream",
          "text": [
            "enunciado_latex: $x^{2} - 6 x$ \n",
            "solucion_latex: $x \\left(x - 6\\right)$\n"
          ],
          "name": "stdout"
        },
        {
          "output_type": "display_data",
          "data": {
            "text/markdown": "#### Ejercicio:",
            "text/plain": [
              "<IPython.core.display.Markdown object>"
            ]
          },
          "metadata": {
            "tags": []
          }
        },
        {
          "output_type": "display_data",
          "data": {
            "text/markdown": "$x^{2} - 9 x + 20$  $\\to$ $\\left(x - 5\\right) \\left(x - 4\\right)$",
            "text/plain": [
              "<IPython.core.display.Markdown object>"
            ]
          },
          "metadata": {
            "tags": []
          }
        },
        {
          "output_type": "stream",
          "text": [
            "enunciado_latex: $x^{2} - 9 x + 20$ \n",
            "solucion_latex: $\\left(x - 5\\right) \\left(x - 4\\right)$\n"
          ],
          "name": "stdout"
        },
        {
          "output_type": "display_data",
          "data": {
            "text/markdown": "#### Ejercicio:",
            "text/plain": [
              "<IPython.core.display.Markdown object>"
            ]
          },
          "metadata": {
            "tags": []
          }
        },
        {
          "output_type": "display_data",
          "data": {
            "text/markdown": "$x^{2} - x$  $\\to$ $x \\left(x - 1\\right)$",
            "text/plain": [
              "<IPython.core.display.Markdown object>"
            ]
          },
          "metadata": {
            "tags": []
          }
        },
        {
          "output_type": "stream",
          "text": [
            "enunciado_latex: $x^{2} - x$ \n",
            "solucion_latex: $x \\left(x - 1\\right)$\n",
            "\\part $4 x^{5} - 48 x^{4} + 165 x^{3} - 131 x^{2} + 30 x$  \\begin{solution}$x \\left(x - 6\\right) \\left(x - 5\\right) \\left(2 x - 1\\right)^{2}$\\end{solution}  \\part $12 x^{4} - 59 x^{3} + 46 x^{2} - 8 x$  \\begin{solution}$x \\left(x - 4\\right) \\left(3 x - 2\\right) \\left(4 x - 1\\right)$\\end{solution}  \\part $x^{2} - 4 x$  \\begin{solution}$x \\left(x - 4\\right)$\\end{solution}  \\part $8 x^{4} - 38 x^{3} + 25 x^{2} - 4 x$  \\begin{solution}$x \\left(x - 4\\right) \\left(2 x - 1\\right) \\left(4 x - 1\\right)$\\end{solution}  \\part $x^{2} - 4 x$  \\begin{solution}$x \\left(x - 4\\right)$\\end{solution}  \\part $2 x^{4} - 21 x^{3} + 64 x^{2} - 63 x + 18$  \\begin{solution}$\\left(x - 6\\right) \\left(x - 3\\right) \\left(x - 1\\right) \\left(2 x - 1\\right)$\\end{solution}  \\part $3 x^{5} - 31 x^{4} + 97 x^{3} - 125 x^{2} + 68 x - 12$  \\begin{solution}$\\left(x - 6\\right) \\left(x - 2\\right) \\left(x - 1\\right)^{2} \\left(3 x - 1\\right)$\\end{solution}  \\part $x^{3} - 13 x^{2} + 54 x - 72$  \\begin{solution}$\\left(x - 6\\right) \\left(x - 4\\right) \\left(x - 3\\right)$\\end{solution}  \\part $x^{2} - 6 x + 5$  \\begin{solution}$\\left(x - 5\\right) \\left(x - 1\\right)$\\end{solution}  \\part $4 x^{5} - 28 x^{4} + 61 x^{3} - 58 x^{2} + 25 x - 4$  \\begin{solution}$\\left(x - 4\\right) \\left(x - 1\\right)^{2} \\left(2 x - 1\\right)^{2}$\\end{solution}  \\part $x^{3} - 12 x^{2} + 45 x - 50$  \\begin{solution}$\\left(x - 5\\right)^{2} \\left(x - 2\\right)$\\end{solution}  \\part $3 x^{4} - 20 x^{3} + 39 x^{2} - 30 x + 8$  \\begin{solution}$\\left(x - 4\\right) \\left(x - 1\\right)^{2} \\left(3 x - 2\\right)$\\end{solution}  \\part $8 x^{4} - 54 x^{3} + 101 x^{2} - 54 x + 8$  \\begin{solution}$\\left(x - 4\\right) \\left(x - 2\\right) \\left(2 x - 1\\right) \\left(4 x - 1\\right)$\\end{solution}  \\part $x^{3} - 13 x^{2} + 52 x - 60$  \\begin{solution}$\\left(x - 6\\right) \\left(x - 5\\right) \\left(x - 2\\right)$\\end{solution}  \\part $4 x^{4} - 12 x^{3} + 9 x^{2} - 2 x$  \\begin{solution}$x \\left(x - 2\\right) \\left(2 x - 1\\right)^{2}$\\end{solution}  \\part $x^{3} - x^{2}$  \\begin{solution}$x^{2} \\left(x - 1\\right)$\\end{solution}  \\part $9 x^{4} - 78 x^{3} + 157 x^{2} - 80 x + 12$  \\begin{solution}$\\left(x - 6\\right) \\left(x - 2\\right) \\left(3 x - 1\\right)^{2}$\\end{solution}  \\part $x^{3} - 8 x^{2} + 21 x - 18$  \\begin{solution}$\\left(x - 3\\right)^{2} \\left(x - 2\\right)$\\end{solution}  \\part $4 x^{4} - 28 x^{3} + 45 x^{2} - 26 x + 5$  \\begin{solution}$\\left(x - 5\\right) \\left(x - 1\\right) \\left(2 x - 1\\right)^{2}$\\end{solution}  \\part $x^{3} - x^{2}$  \\begin{solution}$x^{2} \\left(x - 1\\right)$\\end{solution}  \\part $x^{2} - 6 x$  \\begin{solution}$x \\left(x - 6\\right)$\\end{solution}  \\part $6 x^{5} - 35 x^{4} + 74 x^{3} - 69 x^{2} + 28 x - 4$  \\begin{solution}$\\left(x - 2\\right)^{2} \\left(x - 1\\right) \\left(2 x - 1\\right) \\left(3 x - 1\\right)$\\end{solution}  \\part $x^{3} - 5 x^{2} + 4 x$  \\begin{solution}$x \\left(x - 4\\right) \\left(x - 1\\right)$\\end{solution}  \\part $12 x^{5} - 119 x^{4} + 413 x^{3} - 592 x^{2} + 316 x - 48$  \\begin{solution}$\\left(x - 4\\right) \\left(x - 3\\right) \\left(x - 2\\right) \\left(3 x - 2\\right) \\left(4 x - 1\\right)$\\end{solution}  \\part $x^{2} - 7 x + 10$  \\begin{solution}$\\left(x - 5\\right) \\left(x - 2\\right)$\\end{solution}  \\part $x^{2} - 4 x + 3$  \\begin{solution}$\\left(x - 3\\right) \\left(x - 1\\right)$\\end{solution}  \\part $6 x^{5} - 49 x^{4} + 141 x^{3} - 173 x^{2} + 93 x - 18$  \\begin{solution}$\\left(x - 3\\right)^{2} \\left(x - 1\\right) \\left(2 x - 1\\right) \\left(3 x - 2\\right)$\\end{solution}  \\part $x^{2} - 6 x$  \\begin{solution}$x \\left(x - 6\\right)$\\end{solution}  \\part $x^{2} - 9 x + 20$  \\begin{solution}$\\left(x - 5\\right) \\left(x - 4\\right)$\\end{solution}  \\part $x^{2} - x$  \\begin{solution}$x \\left(x - 1\\right)$\\end{solution}  \n"
          ],
          "name": "stdout"
        }
      ]
    },
    {
      "cell_type": "code",
      "metadata": {
        "id": "wBP92qptjMYC",
        "outputId": "086cd06b-f3a4-4799-c018-6fac9a3b5702",
        "colab": {
          "base_uri": "https://localhost:8080/",
          "height": 38
        }
      },
      "source": [
        "factor(raices_a_polinomio([-1/3,1/3,1,3,4,2/3,0]))"
      ],
      "execution_count": 10,
      "outputs": [
        {
          "output_type": "execute_result",
          "data": {
            "image/png": "[encoded data removed]",
            "text/latex": "$$x \\left(x - 4\\right) \\left(x - 3\\right) \\left(x - 1\\right) \\left(3 x - 2\\right) \\left(3 x - 1\\right) \\left(3 x + 1\\right)$$",
            "text/plain": [
              "x⋅(x - 4)⋅(x - 3)⋅(x - 1)⋅(3⋅x - 2)⋅(3⋅x - 1)⋅(3⋅x + 1)"
            ]
          },
          "metadata": {
            "tags": []
          },
          "execution_count": 10
        }
      ]
    },
    {
      "cell_type": "code",
      "metadata": {
        "id": "PaS8VMo_jMYD",
        "outputId": "3a152d2f-3a12-43f1-fd35-e694ee98d34a",
        "colab": {
          "base_uri": "https://localhost:8080/"
        }
      },
      "source": [
        "ejercicios=[r'\\frac{2x^3-5x^2+3x}{2x^2+x-6}']\n",
        "\n",
        "[print([factor(parse_latex(e).as_numer_denom()[0]),factor(parse_latex(e).as_numer_denom()[1])]) for e in ejercicios]\n",
        "\n",
        "\n"
      ],
      "execution_count": 11,
      "outputs": [
        {
          "output_type": "stream",
          "text": [
            "[x*(x - 1)*(2*x - 3), (x + 2)*(2*x - 3)]\n"
          ],
          "name": "stdout"
        },
        {
          "output_type": "execute_result",
          "data": {
            "text/plain": [
              "[None]"
            ]
          },
          "metadata": {
            "tags": []
          },
          "execution_count": 11
        }
      ]
    },
    {
      "cell_type": "code",
      "metadata": {
        "id": "BwQe3ngbjMYE",
        "outputId": "1260e59c-2b95-494b-8026-3f55b678dbce"
      },
      "source": [
        "# Halla el valor de \\emph{k} para que la siguiente división sea exacta:\n",
        "\n",
        "k = symbols('k')\n",
        "\n",
        "ejercicios = [[r'3x^2+kx-2',-2],\n",
        "            ]\n",
        "\n",
        "display(md(\"## Halla el valor de k para que la siguiente división sea exacta:\"))\n",
        "\n",
        "[mostrar_ejercicio(r\"$\\left( {} \\right): \\left({}\\right)$ \".format(e[0],latex(x-e[1])), \n",
        "                   r\"${}=0 \\to k = {} $\".format(latex(parse_latex(e[0]).subs(x,e[1])),solve(parse_latex(e[0]).subs(x,e[1]),k)[0])) \n",
        "for e in ejercicios]\n"
      ],
      "execution_count": null,
      "outputs": [
        {
          "output_type": "display_data",
          "data": {
            "text/markdown": "## Halla el valor de k para que la siguiente división sea exacta:",
            "text/plain": [
              "<IPython.core.display.Markdown object>"
            ]
          },
          "metadata": {
            "tags": []
          }
        },
        {
          "output_type": "display_data",
          "data": {
            "text/markdown": "#### Ejercicio:",
            "text/plain": [
              "<IPython.core.display.Markdown object>"
            ]
          },
          "metadata": {
            "tags": []
          }
        },
        {
          "output_type": "display_data",
          "data": {
            "text/markdown": "$\\left( 3x^2+kx-2 \\right): \\left(x + 2\\right)$  $\\to$ $10 - 2 k=0 \\to k = 5 $",
            "text/plain": [
              "<IPython.core.display.Markdown object>"
            ]
          },
          "metadata": {
            "tags": []
          }
        },
        {
          "output_type": "stream",
          "text": [
            "enunciado_latex: $\\left( 3x^2+kx-2 \\right): \\left(x + 2\\right)$ \n",
            "solucion_latex: $10 - 2 k=0 \\to k = 5 $\n"
          ],
          "name": "stdout"
        },
        {
          "output_type": "execute_result",
          "data": {
            "text/plain": [
              "[('$\\\\left( 3x^2+kx-2 \\\\right): \\\\left(x + 2\\\\right)$ ',\n",
              "  '$10 - 2 k=0 \\\\to k = 5 $')]"
            ]
          },
          "metadata": {
            "tags": []
          },
          "execution_count": 9
        }
      ]
    },
    {
      "cell_type": "code",
      "metadata": {
        "id": "JhTsXGCYjMYL",
        "outputId": "4ae8b8e0-5308-4ae2-8cdb-676f8a0f83f7"
      },
      "source": [
        "# Halla el valor de \\emph{k} para que la siguiente división tenga un resto determinado:\n",
        "\n",
        "k = symbols('k')\n",
        "\n",
        "ejercicios = [[r'2x^3-12x+2k',3, -5],\n",
        "            ]\n",
        "\n",
        "display(md(\"## Halla el valor de k para que la siguiente división sea exacta tengar un resto determinado:\"))\n",
        "\n",
        "[mostrar_ejercicio(r\"$\\left( {} \\right): \\left({}\\right)$  y resto {}\".format(e[0],latex(x-e[1]), latex(e[2])), \n",
        "                   #r\"\" \n",
        "                   r\"${}={} \\to k = {} $\".format(latex(parse_latex(e[0]).subs(x,e[1])),latex(e[2]),solve(parse_latex(e[0]).subs(x,e[1])-e[2],k)[0])\n",
        "                  ) \n",
        "for e in ejercicios]\n"
      ],
      "execution_count": null,
      "outputs": [
        {
          "output_type": "display_data",
          "data": {
            "text/markdown": "## Halla el valor de k para que la siguiente división sea exacta tengar un resto determinado:",
            "text/plain": [
              "<IPython.core.display.Markdown object>"
            ]
          },
          "metadata": {
            "tags": []
          }
        },
        {
          "output_type": "display_data",
          "data": {
            "text/markdown": "#### Ejercicio:",
            "text/plain": [
              "<IPython.core.display.Markdown object>"
            ]
          },
          "metadata": {
            "tags": []
          }
        },
        {
          "output_type": "display_data",
          "data": {
            "text/markdown": "$\\left( 2x^3-12x+2k \\right): \\left(x - 3\\right)$  y resto -5 $\\to$ $2 k + 18=-5 \\to k = -23/2 $",
            "text/plain": [
              "<IPython.core.display.Markdown object>"
            ]
          },
          "metadata": {
            "tags": []
          }
        },
        {
          "output_type": "stream",
          "text": [
            "enunciado_latex: $\\left( 2x^3-12x+2k \\right): \\left(x - 3\\right)$  y resto -5\n",
            "solucion_latex: $2 k + 18=-5 \\to k = -23/2 $\n"
          ],
          "name": "stdout"
        },
        {
          "output_type": "execute_result",
          "data": {
            "text/plain": [
              "[('$\\\\left( 2x^3-12x+2k \\\\right): \\\\left(x - 3\\\\right)$  y resto -5',\n",
              "  '$2 k + 18=-5 \\\\to k = -23/2 $')]"
            ]
          },
          "metadata": {
            "tags": []
          },
          "execution_count": 36
        }
      ]
    },
    {
      "cell_type": "code",
      "metadata": {
        "colab": {
          "base_uri": "https://localhost:8080/",
          "height": 348
        },
        "id": "R1Eu1asbjMYL",
        "outputId": "77ace657-a802-4df1-d882-4b711661682b"
      },
      "source": [
        "# Resuelve las siguientes ecuaciones:\n",
        "\n",
        "ejercicios = [\n",
        "              r'2x^4-6x^3+6x^2-2x=0',\n",
        "              r'6x^3-12x^2+6x=0',\n",
        "            ]\n",
        "\n",
        "display(md(\"## Resuelve las siguientes ecuaciones:\"))\n",
        "\n",
        "[mostrar_ejercicio(r\"${}$ \".format(e), \n",
        "                   r\"${} \\to {} \\to x=\".format(e,latex(factor(parse_latex(e))))\n",
        "                   +r\", x=\".join(map(latex,solve(parse_latex(e))))+r\"$\"\n",
        "                  )\n",
        "for e in ejercicios]\n"
      ],
      "execution_count": 12,
      "outputs": [
        {
          "output_type": "display_data",
          "data": {
            "text/markdown": "## Resuelve las siguientes ecuaciones:",
            "text/plain": [
              "<IPython.core.display.Markdown object>"
            ]
          },
          "metadata": {
            "tags": []
          }
        },
        {
          "output_type": "display_data",
          "data": {
            "text/markdown": "#### Ejercicio:",
            "text/plain": [
              "<IPython.core.display.Markdown object>"
            ]
          },
          "metadata": {
            "tags": []
          }
        },
        {
          "output_type": "display_data",
          "data": {
            "text/markdown": "$2x^4-6x^3+6x^2-2x=0$  $\\to$ $2x^4-6x^3+6x^2-2x=0 \\to 2 x \\left(x - 1\\right)^{3} = 0 \\to x=0, x=1$",
            "text/plain": [
              "<IPython.core.display.Markdown object>"
            ]
          },
          "metadata": {
            "tags": []
          }
        },
        {
          "output_type": "stream",
          "text": [
            "enunciado_latex: $2x^4-6x^3+6x^2-2x=0$ \n",
            "solucion_latex: $2x^4-6x^3+6x^2-2x=0 \\to 2 x \\left(x - 1\\right)^{3} = 0 \\to x=0, x=1$\n"
          ],
          "name": "stdout"
        },
        {
          "output_type": "display_data",
          "data": {
            "text/markdown": "#### Ejercicio:",
            "text/plain": [
              "<IPython.core.display.Markdown object>"
            ]
          },
          "metadata": {
            "tags": []
          }
        },
        {
          "output_type": "display_data",
          "data": {
            "text/markdown": "$6x^3-12x^2+6x=0$  $\\to$ $6x^3-12x^2+6x=0 \\to 6 x \\left(x - 1\\right)^{2} = 0 \\to x=0, x=1$",
            "text/plain": [
              "<IPython.core.display.Markdown object>"
            ]
          },
          "metadata": {
            "tags": []
          }
        },
        {
          "output_type": "stream",
          "text": [
            "enunciado_latex: $6x^3-12x^2+6x=0$ \n",
            "solucion_latex: $6x^3-12x^2+6x=0 \\to 6 x \\left(x - 1\\right)^{2} = 0 \\to x=0, x=1$\n"
          ],
          "name": "stdout"
        },
        {
          "output_type": "execute_result",
          "data": {
            "text/plain": [
              "[('$2x^4-6x^3+6x^2-2x=0$ ',\n",
              "  '$2x^4-6x^3+6x^2-2x=0 \\\\to 2 x \\\\left(x - 1\\\\right)^{3} = 0 \\\\to x=0, x=1$'),\n",
              " ('$6x^3-12x^2+6x=0$ ',\n",
              "  '$6x^3-12x^2+6x=0 \\\\to 6 x \\\\left(x - 1\\\\right)^{2} = 0 \\\\to x=0, x=1$')]"
            ]
          },
          "metadata": {
            "tags": []
          },
          "execution_count": 12
        }
      ]
    },
    {
      "cell_type": "code",
      "metadata": {
        "colab": {
          "base_uri": "https://localhost:8080/",
          "height": 776
        },
        "id": "KGVcn0_LlnOG",
        "outputId": "a1792b84-eaa5-4812-8f0e-2502263f5e88"
      },
      "source": [
        "# Resuelve las siguientes ecuaciones: Para hoja complementaria\n",
        "\n",
        "ejercicios = [\n",
        "              r'18 x^{4} + 3 x^{3} = 3 x^{2}',\n",
        "              r'5 x^{4} - 20 x^{3} + 10 x^{2} + 20 x - 15',\n",
        "              r'\\sqrt{x+4}-7=0',\n",
        "              r'\\sqrt{169-x^2}+17=x',\n",
        "              r'\\sqrt{3x+1}=1+\\sqrt{2x-1}'\n",
        "            ]\n",
        "\n",
        "display(md(\"## Resuelve las siguientes ecuaciones:\"))\n",
        "\n",
        "[mostrar_ejercicio(r\"${}$ \".format(e), \n",
        "                   r\"${} \\to {} \\to x=\".format(e,latex(factor(parse_latex(e))))\n",
        "                   +r\", x=\".join(map(latex,solve(parse_latex(e))))+r\"$\"\n",
        "                  )\n",
        "for e in ejercicios]\n"
      ],
      "execution_count": 26,
      "outputs": [
        {
          "output_type": "display_data",
          "data": {
            "text/markdown": "## Resuelve las siguientes ecuaciones:",
            "text/plain": [
              "<IPython.core.display.Markdown object>"
            ]
          },
          "metadata": {
            "tags": []
          }
        },
        {
          "output_type": "display_data",
          "data": {
            "text/markdown": "#### Ejercicio:",
            "text/plain": [
              "<IPython.core.display.Markdown object>"
            ]
          },
          "metadata": {
            "tags": []
          }
        },
        {
          "output_type": "display_data",
          "data": {
            "text/markdown": "$18 x^{4} + 3 x^{3} = 3 x^{2}$  $\\to$ $18 x^{4} + 3 x^{3} = 3 x^{2} \\to 3 x^{3} \\left(6 x + 1\\right) = 3 x^{2} \\to x=- \\frac{1}{2}, x=0, x=\\frac{1}{3}$",
            "text/plain": [
              "<IPython.core.display.Markdown object>"
            ]
          },
          "metadata": {
            "tags": []
          }
        },
        {
          "output_type": "stream",
          "text": [
            "enunciado_latex: $18 x^{4} + 3 x^{3} = 3 x^{2}$ \n",
            "solucion_latex: $18 x^{4} + 3 x^{3} = 3 x^{2} \\to 3 x^{3} \\left(6 x + 1\\right) = 3 x^{2} \\to x=- \\frac{1}{2}, x=0, x=\\frac{1}{3}$\n"
          ],
          "name": "stdout"
        },
        {
          "output_type": "display_data",
          "data": {
            "text/markdown": "#### Ejercicio:",
            "text/plain": [
              "<IPython.core.display.Markdown object>"
            ]
          },
          "metadata": {
            "tags": []
          }
        },
        {
          "output_type": "display_data",
          "data": {
            "text/markdown": "$5 x^{4} - 20 x^{3} + 10 x^{2} + 20 x - 15$  $\\to$ $5 x^{4} - 20 x^{3} + 10 x^{2} + 20 x - 15 \\to 5 \\left(x - 3\\right) \\left(x - 1\\right)^{2} \\left(x + 1\\right) \\to x=-1, x=1, x=3$",
            "text/plain": [
              "<IPython.core.display.Markdown object>"
            ]
          },
          "metadata": {
            "tags": []
          }
        },
        {
          "output_type": "stream",
          "text": [
            "enunciado_latex: $5 x^{4} - 20 x^{3} + 10 x^{2} + 20 x - 15$ \n",
            "solucion_latex: $5 x^{4} - 20 x^{3} + 10 x^{2} + 20 x - 15 \\to 5 \\left(x - 3\\right) \\left(x - 1\\right)^{2} \\left(x + 1\\right) \\to x=-1, x=1, x=3$\n"
          ],
          "name": "stdout"
        },
        {
          "output_type": "display_data",
          "data": {
            "text/markdown": "#### Ejercicio:",
            "text/plain": [
              "<IPython.core.display.Markdown object>"
            ]
          },
          "metadata": {
            "tags": []
          }
        },
        {
          "output_type": "display_data",
          "data": {
            "text/markdown": "$\\sqrt{x+4}-7=0$  $\\to$ $\\sqrt{x+4}-7=0 \\to \\sqrt{x + 4} - 7 = 0 \\to x=45$",
            "text/plain": [
              "<IPython.core.display.Markdown object>"
            ]
          },
          "metadata": {
            "tags": []
          }
        },
        {
          "output_type": "stream",
          "text": [
            "enunciado_latex: $\\sqrt{x+4}-7=0$ \n",
            "solucion_latex: $\\sqrt{x+4}-7=0 \\to \\sqrt{x + 4} - 7 = 0 \\to x=45$\n"
          ],
          "name": "stdout"
        },
        {
          "output_type": "display_data",
          "data": {
            "text/markdown": "#### Ejercicio:",
            "text/plain": [
              "<IPython.core.display.Markdown object>"
            ]
          },
          "metadata": {
            "tags": []
          }
        },
        {
          "output_type": "display_data",
          "data": {
            "text/markdown": "$\\sqrt{169-x^2}+17=x$  $\\to$ $\\sqrt{169-x^2}+17=x \\to \\sqrt{- x^{2} + 169} + 17 = x \\to x=$",
            "text/plain": [
              "<IPython.core.display.Markdown object>"
            ]
          },
          "metadata": {
            "tags": []
          }
        },
        {
          "output_type": "stream",
          "text": [
            "enunciado_latex: $\\sqrt{169-x^2}+17=x$ \n",
            "solucion_latex: $\\sqrt{169-x^2}+17=x \\to \\sqrt{- x^{2} + 169} + 17 = x \\to x=$\n"
          ],
          "name": "stdout"
        },
        {
          "output_type": "display_data",
          "data": {
            "text/markdown": "#### Ejercicio:",
            "text/plain": [
              "<IPython.core.display.Markdown object>"
            ]
          },
          "metadata": {
            "tags": []
          }
        },
        {
          "output_type": "display_data",
          "data": {
            "text/markdown": "$\\sqrt{3x+1}=1+\\sqrt{2x-1}$  $\\to$ $\\sqrt{3x+1}=1+\\sqrt{2x-1} \\to \\sqrt{3 x + 1} = \\sqrt{2 x - 1} + 1 \\to x=1, x=5$",
            "text/plain": [
              "<IPython.core.display.Markdown object>"
            ]
          },
          "metadata": {
            "tags": []
          }
        },
        {
          "output_type": "stream",
          "text": [
            "enunciado_latex: $\\sqrt{3x+1}=1+\\sqrt{2x-1}$ \n",
            "solucion_latex: $\\sqrt{3x+1}=1+\\sqrt{2x-1} \\to \\sqrt{3 x + 1} = \\sqrt{2 x - 1} + 1 \\to x=1, x=5$\n"
          ],
          "name": "stdout"
        },
        {
          "output_type": "execute_result",
          "data": {
            "text/plain": [
              "[('$18 x^{4} + 3 x^{3} = 3 x^{2}$ ',\n",
              "  '$18 x^{4} + 3 x^{3} = 3 x^{2} \\\\to 3 x^{3} \\\\left(6 x + 1\\\\right) = 3 x^{2} \\\\to x=- \\\\frac{1}{2}, x=0, x=\\\\frac{1}{3}$'),\n",
              " ('$5 x^{4} - 20 x^{3} + 10 x^{2} + 20 x - 15$ ',\n",
              "  '$5 x^{4} - 20 x^{3} + 10 x^{2} + 20 x - 15 \\\\to 5 \\\\left(x - 3\\\\right) \\\\left(x - 1\\\\right)^{2} \\\\left(x + 1\\\\right) \\\\to x=-1, x=1, x=3$'),\n",
              " ('$\\\\sqrt{x+4}-7=0$ ',\n",
              "  '$\\\\sqrt{x+4}-7=0 \\\\to \\\\sqrt{x + 4} - 7 = 0 \\\\to x=45$'),\n",
              " ('$\\\\sqrt{169-x^2}+17=x$ ',\n",
              "  '$\\\\sqrt{169-x^2}+17=x \\\\to \\\\sqrt{- x^{2} + 169} + 17 = x \\\\to x=$'),\n",
              " ('$\\\\sqrt{3x+1}=1+\\\\sqrt{2x-1}$ ',\n",
              "  '$\\\\sqrt{3x+1}=1+\\\\sqrt{2x-1} \\\\to \\\\sqrt{3 x + 1} = \\\\sqrt{2 x - 1} + 1 \\\\to x=1, x=5$')]"
            ]
          },
          "metadata": {
            "tags": []
          },
          "execution_count": 26
        }
      ]
    },
    {
      "cell_type": "code",
      "metadata": {
        "id": "x2AfOc1olJsW",
        "outputId": "d1169852-7409-4aa5-a0f1-809b2ed66f53",
        "colab": {
          "base_uri": "https://localhost:8080/",
          "height": 36
        }
      },
      "source": [
        "latex(expand(5*(x-1)**2*(x+1)*(x-3)))"
      ],
      "execution_count": 22,
      "outputs": [
        {
          "output_type": "execute_result",
          "data": {
            "application/vnd.google.colaboratory.intrinsic+json": {
              "type": "string"
            },
            "text/plain": [
              "'5 x^{4} - 20 x^{3} + 10 x^{2} + 20 x - 15'"
            ]
          },
          "metadata": {
            "tags": []
          },
          "execution_count": 22
        }
      ]
    },
    {
      "cell_type": "code",
      "metadata": {
        "id": "lsqyQld7jMYL",
        "outputId": "32120042-b99a-445e-de9f-8a07a8d00073"
      },
      "source": [
        "# Resuelve las siguientes ecuaciones:\n",
        "\n",
        "ejercicios = [r'\\frac{2x}{x+1}-\\frac{1}{x}=\\frac{5}{6}',\n",
        "              r'\\frac{6x+1}{x^2-4}-\\frac{x}{x-2}=\\frac{x+1}{x+2}',\n",
        "              r'\\frac{{x + 1}}{{x - 1}} - \\frac{1}{x}=\\frac{5}{2}',\n",
        "              r'\\frac{{3x + 2}}{{x - 1}} - \\frac{2}{{x + 1}}=5',\n",
        "              r'1 - \\frac{x}{{x + 4}}= \\frac{1}{{x - 5}}',\n",
        "              r'\\frac{{x - 3}}{{x + 3}} + \\frac{{x + 3}}{{x - 3}}=\\frac{{x - 2}}{{x + 3}}'\n",
        "             ]\n",
        "\n",
        "display(md(\"## Resuelve las siguientes ecuaciones con fracciones algebraicas:\"))\n",
        "\n",
        "\n",
        "for e in ejercicios :\n",
        "    enunciado = r\"${}$ \".format(e)\n",
        "    ec = simplify(parse_latex(e))\n",
        "    solucion = r\"${} \\to {} \".format(e,latex(ec))\n",
        "    izq=ec.args[1].as_numer_denom()[1]/ec.args[0].as_numer_denom()[1]\n",
        "    der=ec.args[1].as_numer_denom()[0]/ec.args[0].as_numer_denom()[0]\n",
        "    #display(izq, der)\n",
        "    solucion += r\" \\to {} = {} \".format(latex(izq),latex(der))\n",
        "    izq=factor(izq)\n",
        "    der=factor(der)\n",
        "    #display(izq, der, izq.as_numer_denom(), der.as_numer_denom())\n",
        "    solucion += r\" \\to {} = {} \".format(latex(izq),latex(der))\n",
        "    izq=cancel(izq)\n",
        "    der=cancel(der)\n",
        "    #display(izq, der, izq.as_numer_denom(), der.as_numer_denom())\n",
        "    solucion += r\" \\to {} = {} \".format(latex(izq),latex(der))\n",
        "    iz=izq\n",
        "    izq=izq.as_numer_denom()[0]*UnevaluatedExpr(der.as_numer_denom()[1])\n",
        "    der=der.as_numer_denom()[0]*UnevaluatedExpr(iz.as_numer_denom()[1])\n",
        "    #display(izq, der)\n",
        "    solucion += r\" \\to {} = {} \".format(latex(izq),latex(der))\n",
        "    solucion += r\" \\to {} = {} \".format(latex(izq-der),latex(0))\n",
        "    solucion += r\" \\to {} = {} \".format(latex(simplify(izq-der)),latex(0))\n",
        "    #solucion += r\" \\to {}\".format(solve(simplify(izq-der)))\n",
        "    solucion += r\"\\to x=\" + r\", x=\".join(map(latex,solve(parse_latex(e))))\n",
        "\n",
        "    #display((parse_latex(e), cancel(parse_latex(e).args[0]),cancel(parse_latex(e).args[1]),            cancel(cancel(parse_latex(e).args[0]).as_numer_denom()[0]/cancel(parse_latex(e).args[1]).as_numer_denom()[0]),cancel(cancel(parse_latex(e).args[0]).as_numer_denom()[1]/cancel(parse_latex(e).args[1]).as_numer_denom()[1]),      )\n",
        "    solucion += r\"$\"\n",
        "    mostrar_ejercicio(enunciado,solucion)\n",
        "\n"
      ],
      "execution_count": null,
      "outputs": [
        {
          "output_type": "display_data",
          "data": {
            "text/markdown": "## Resuelve las siguientes ecuaciones con fracciones algebraicas:",
            "text/plain": [
              "<IPython.core.display.Markdown object>"
            ]
          },
          "metadata": {
            "tags": []
          }
        },
        {
          "output_type": "display_data",
          "data": {
            "text/markdown": "#### Ejercicio:",
            "text/plain": [
              "<IPython.core.display.Markdown object>"
            ]
          },
          "metadata": {
            "tags": []
          }
        },
        {
          "output_type": "display_data",
          "data": {
            "text/markdown": "$\\frac{2x}{x+1}-\\frac{1}{x}=\\frac{5}{6}$  $\\to$ $\\frac{2x}{x+1}-\\frac{1}{x}=\\frac{5}{6} \\to \\frac{2 x^{2} - x - 1}{x \\left(x + 1\\right)} = \\frac{5}{6}  \\to \\frac{6}{x \\left(x + 1\\right)} = \\frac{5}{2 x^{2} - x - 1}  \\to \\frac{6}{x \\left(x + 1\\right)} = \\frac{5}{\\left(x - 1\\right) \\left(2 x + 1\\right)}  \\to \\frac{6}{x^{2} + x} = \\frac{5}{2 x^{2} - x - 1}  \\to 6 \\left(2 x^{2} - x - 1\\right) = 5 \\left(x^{2} + x\\right)  \\to - 5 \\left(x^{2} + x\\right) + 6 \\left(2 x^{2} - x - 1\\right) = 0  \\to 7 x^{2} - 11 x - 6 = 0 \\to x=- \\frac{3}{7}, x=2$",
            "text/plain": [
              "<IPython.core.display.Markdown object>"
            ]
          },
          "metadata": {
            "tags": []
          }
        },
        {
          "output_type": "stream",
          "text": [
            "enunciado_latex: $\\frac{2x}{x+1}-\\frac{1}{x}=\\frac{5}{6}$ \n",
            "solucion_latex: $\\frac{2x}{x+1}-\\frac{1}{x}=\\frac{5}{6} \\to \\frac{2 x^{2} - x - 1}{x \\left(x + 1\\right)} = \\frac{5}{6}  \\to \\frac{6}{x \\left(x + 1\\right)} = \\frac{5}{2 x^{2} - x - 1}  \\to \\frac{6}{x \\left(x + 1\\right)} = \\frac{5}{\\left(x - 1\\right) \\left(2 x + 1\\right)}  \\to \\frac{6}{x^{2} + x} = \\frac{5}{2 x^{2} - x - 1}  \\to 6 \\left(2 x^{2} - x - 1\\right) = 5 \\left(x^{2} + x\\right)  \\to - 5 \\left(x^{2} + x\\right) + 6 \\left(2 x^{2} - x - 1\\right) = 0  \\to 7 x^{2} - 11 x - 6 = 0 \\to x=- \\frac{3}{7}, x=2$\n"
          ],
          "name": "stdout"
        },
        {
          "output_type": "display_data",
          "data": {
            "text/markdown": "#### Ejercicio:",
            "text/plain": [
              "<IPython.core.display.Markdown object>"
            ]
          },
          "metadata": {
            "tags": []
          }
        },
        {
          "output_type": "display_data",
          "data": {
            "text/markdown": "$\\frac{6x+1}{x^2-4}-\\frac{x}{x-2}=\\frac{x+1}{x+2}$  $\\to$ $\\frac{6x+1}{x^2-4}-\\frac{x}{x-2}=\\frac{x+1}{x+2} \\to \\frac{x + 1}{x + 2} = \\frac{- x^{2} + 4 x + 1}{x^{2} - 4}  \\to \\frac{x^{2} - 4}{x + 2} = \\frac{- x^{2} + 4 x + 1}{x + 1}  \\to x - 2 = - \\frac{x^{2} - 4 x - 1}{x + 1}  \\to x - 2 = - \\frac{x^{2} - 4 x - 1}{x + 1}  \\to \\left(x - 2\\right) \\left(x + 1\\right) = \\left(- x^{2} + 4 x + 1\\right) 1  \\to \\left(x - 2\\right) \\left(x + 1\\right) - \\left(- x^{2} + 4 x + 1\\right) 1 = 0  \\to 2 x^{2} - 5 x - 3 = 0 \\to x=- \\frac{1}{2}, x=3$",
            "text/plain": [
              "<IPython.core.display.Markdown object>"
            ]
          },
          "metadata": {
            "tags": []
          }
        },
        {
          "output_type": "stream",
          "text": [
            "enunciado_latex: $\\frac{6x+1}{x^2-4}-\\frac{x}{x-2}=\\frac{x+1}{x+2}$ \n",
            "solucion_latex: $\\frac{6x+1}{x^2-4}-\\frac{x}{x-2}=\\frac{x+1}{x+2} \\to \\frac{x + 1}{x + 2} = \\frac{- x^{2} + 4 x + 1}{x^{2} - 4}  \\to \\frac{x^{2} - 4}{x + 2} = \\frac{- x^{2} + 4 x + 1}{x + 1}  \\to x - 2 = - \\frac{x^{2} - 4 x - 1}{x + 1}  \\to x - 2 = - \\frac{x^{2} - 4 x - 1}{x + 1}  \\to \\left(x - 2\\right) \\left(x + 1\\right) = \\left(- x^{2} + 4 x + 1\\right) 1  \\to \\left(x - 2\\right) \\left(x + 1\\right) - \\left(- x^{2} + 4 x + 1\\right) 1 = 0  \\to 2 x^{2} - 5 x - 3 = 0 \\to x=- \\frac{1}{2}, x=3$\n"
          ],
          "name": "stdout"
        },
        {
          "output_type": "display_data",
          "data": {
            "text/markdown": "#### Ejercicio:",
            "text/plain": [
              "<IPython.core.display.Markdown object>"
            ]
          },
          "metadata": {
            "tags": []
          }
        },
        {
          "output_type": "display_data",
          "data": {
            "text/markdown": "$\\frac{{x + 1}}{{x - 1}} - \\frac{1}{x}=\\frac{5}{2}$  $\\to$ $\\frac{{x + 1}}{{x - 1}} - \\frac{1}{x}=\\frac{5}{2} \\to \\frac{x^{2} + 1}{x \\left(x - 1\\right)} = \\frac{5}{2}  \\to \\frac{2}{x \\left(x - 1\\right)} = \\frac{5}{x^{2} + 1}  \\to \\frac{2}{x \\left(x - 1\\right)} = \\frac{5}{x^{2} + 1}  \\to \\frac{2}{x^{2} - x} = \\frac{5}{x^{2} + 1}  \\to 2 \\left(x^{2} + 1\\right) = 5 \\left(x^{2} - x\\right)  \\to 2 \\left(x^{2} + 1\\right) - 5 \\left(x^{2} - x\\right) = 0  \\to - 3 x^{2} + 5 x + 2 = 0 \\to x=- \\frac{1}{3}, x=2$",
            "text/plain": [
              "<IPython.core.display.Markdown object>"
            ]
          },
          "metadata": {
            "tags": []
          }
        },
        {
          "output_type": "stream",
          "text": [
            "enunciado_latex: $\\frac{{x + 1}}{{x - 1}} - \\frac{1}{x}=\\frac{5}{2}$ \n",
            "solucion_latex: $\\frac{{x + 1}}{{x - 1}} - \\frac{1}{x}=\\frac{5}{2} \\to \\frac{x^{2} + 1}{x \\left(x - 1\\right)} = \\frac{5}{2}  \\to \\frac{2}{x \\left(x - 1\\right)} = \\frac{5}{x^{2} + 1}  \\to \\frac{2}{x \\left(x - 1\\right)} = \\frac{5}{x^{2} + 1}  \\to \\frac{2}{x^{2} - x} = \\frac{5}{x^{2} + 1}  \\to 2 \\left(x^{2} + 1\\right) = 5 \\left(x^{2} - x\\right)  \\to 2 \\left(x^{2} + 1\\right) - 5 \\left(x^{2} - x\\right) = 0  \\to - 3 x^{2} + 5 x + 2 = 0 \\to x=- \\frac{1}{3}, x=2$\n"
          ],
          "name": "stdout"
        },
        {
          "output_type": "display_data",
          "data": {
            "text/markdown": "#### Ejercicio:",
            "text/plain": [
              "<IPython.core.display.Markdown object>"
            ]
          },
          "metadata": {
            "tags": []
          }
        },
        {
          "output_type": "display_data",
          "data": {
            "text/markdown": "$\\frac{{3x + 2}}{{x - 1}} - \\frac{2}{{x + 1}}=5$  $\\to$ $\\frac{{3x + 2}}{{x - 1}} - \\frac{2}{{x + 1}}=5 \\to \\frac{3 x^{2} + 3 x + 4}{x^{2} - 1} = 5  \\to \\frac{1}{x^{2} - 1} = \\frac{5}{3 x^{2} + 3 x + 4}  \\to \\frac{1}{\\left(x - 1\\right) \\left(x + 1\\right)} = \\frac{5}{3 x^{2} + 3 x + 4}  \\to \\frac{1}{x^{2} - 1} = \\frac{5}{3 x^{2} + 3 x + 4}  \\to 3 x^{2} + 3 x + 4 = 5 \\left(x^{2} - 1\\right)  \\to - 5 \\left(x^{2} - 1\\right) + 3 x^{2} + 3 x + 4 = 0  \\to - 2 x^{2} + 3 x + 9 = 0 \\to x=- \\frac{3}{2}, x=3$",
            "text/plain": [
              "<IPython.core.display.Markdown object>"
            ]
          },
          "metadata": {
            "tags": []
          }
        },
        {
          "output_type": "stream",
          "text": [
            "enunciado_latex: $\\frac{{3x + 2}}{{x - 1}} - \\frac{2}{{x + 1}}=5$ \n",
            "solucion_latex: $\\frac{{3x + 2}}{{x - 1}} - \\frac{2}{{x + 1}}=5 \\to \\frac{3 x^{2} + 3 x + 4}{x^{2} - 1} = 5  \\to \\frac{1}{x^{2} - 1} = \\frac{5}{3 x^{2} + 3 x + 4}  \\to \\frac{1}{\\left(x - 1\\right) \\left(x + 1\\right)} = \\frac{5}{3 x^{2} + 3 x + 4}  \\to \\frac{1}{x^{2} - 1} = \\frac{5}{3 x^{2} + 3 x + 4}  \\to 3 x^{2} + 3 x + 4 = 5 \\left(x^{2} - 1\\right)  \\to - 5 \\left(x^{2} - 1\\right) + 3 x^{2} + 3 x + 4 = 0  \\to - 2 x^{2} + 3 x + 9 = 0 \\to x=- \\frac{3}{2}, x=3$\n"
          ],
          "name": "stdout"
        },
        {
          "output_type": "display_data",
          "data": {
            "text/markdown": "#### Ejercicio:",
            "text/plain": [
              "<IPython.core.display.Markdown object>"
            ]
          },
          "metadata": {
            "tags": []
          }
        },
        {
          "output_type": "display_data",
          "data": {
            "text/markdown": "$1 - \\frac{x}{{x + 4}}= \\frac{1}{{x - 5}}$  $\\to$ $1 - \\frac{x}{{x + 4}}= \\frac{1}{{x - 5}} \\to \\frac{1}{x - 5} = \\frac{4}{x + 4}  \\to \\frac{x + 4}{x - 5} = 4  \\to \\frac{x + 4}{x - 5} = 4  \\to \\frac{x + 4}{x - 5} = 4  \\to \\left(x + 4\\right) 1 = 4 \\left(x - 5\\right)  \\to \\left(x + 4\\right) 1 - 4 \\left(x - 5\\right) = 0  \\to 24 - 3 x = 0 \\to x=8$",
            "text/plain": [
              "<IPython.core.display.Markdown object>"
            ]
          },
          "metadata": {
            "tags": []
          }
        },
        {
          "output_type": "stream",
          "text": [
            "enunciado_latex: $1 - \\frac{x}{{x + 4}}= \\frac{1}{{x - 5}}$ \n",
            "solucion_latex: $1 - \\frac{x}{{x + 4}}= \\frac{1}{{x - 5}} \\to \\frac{1}{x - 5} = \\frac{4}{x + 4}  \\to \\frac{x + 4}{x - 5} = 4  \\to \\frac{x + 4}{x - 5} = 4  \\to \\frac{x + 4}{x - 5} = 4  \\to \\left(x + 4\\right) 1 = 4 \\left(x - 5\\right)  \\to \\left(x + 4\\right) 1 - 4 \\left(x - 5\\right) = 0  \\to 24 - 3 x = 0 \\to x=8$\n"
          ],
          "name": "stdout"
        },
        {
          "output_type": "display_data",
          "data": {
            "text/markdown": "#### Ejercicio:",
            "text/plain": [
              "<IPython.core.display.Markdown object>"
            ]
          },
          "metadata": {
            "tags": []
          }
        },
        {
          "output_type": "display_data",
          "data": {
            "text/markdown": "$\\frac{{x - 3}}{{x + 3}} + \\frac{{x + 3}}{{x - 3}}=\\frac{{x - 2}}{{x + 3}}$  $\\to$ $\\frac{{x - 3}}{{x + 3}} + \\frac{{x + 3}}{{x - 3}}=\\frac{{x - 2}}{{x + 3}} \\to \\frac{x - 2}{x + 3} = \\frac{2 \\left(x^{2} + 9\\right)}{x^{2} - 9}  \\to \\frac{x^{2} - 9}{x + 3} = \\frac{2 x^{2} + 18}{x - 2}  \\to x - 3 = \\frac{2 \\left(x^{2} + 9\\right)}{x - 2}  \\to x - 3 = \\frac{2 x^{2} + 18}{x - 2}  \\to \\left(x - 3\\right) \\left(x - 2\\right) = \\left(2 x^{2} + 18\\right) 1  \\to \\left(x - 3\\right) \\left(x - 2\\right) - \\left(2 x^{2} + 18\\right) 1 = 0  \\to - x^{2} - 5 x - 12 = 0 \\to x=- \\frac{5}{2} - \\frac{\\sqrt{23} i}{2}, x=- \\frac{5}{2} + \\frac{\\sqrt{23} i}{2}$",
            "text/plain": [
              "<IPython.core.display.Markdown object>"
            ]
          },
          "metadata": {
            "tags": []
          }
        },
        {
          "output_type": "stream",
          "text": [
            "enunciado_latex: $\\frac{{x - 3}}{{x + 3}} + \\frac{{x + 3}}{{x - 3}}=\\frac{{x - 2}}{{x + 3}}$ \n",
            "solucion_latex: $\\frac{{x - 3}}{{x + 3}} + \\frac{{x + 3}}{{x - 3}}=\\frac{{x - 2}}{{x + 3}} \\to \\frac{x - 2}{x + 3} = \\frac{2 \\left(x^{2} + 9\\right)}{x^{2} - 9}  \\to \\frac{x^{2} - 9}{x + 3} = \\frac{2 x^{2} + 18}{x - 2}  \\to x - 3 = \\frac{2 \\left(x^{2} + 9\\right)}{x - 2}  \\to x - 3 = \\frac{2 x^{2} + 18}{x - 2}  \\to \\left(x - 3\\right) \\left(x - 2\\right) = \\left(2 x^{2} + 18\\right) 1  \\to \\left(x - 3\\right) \\left(x - 2\\right) - \\left(2 x^{2} + 18\\right) 1 = 0  \\to - x^{2} - 5 x - 12 = 0 \\to x=- \\frac{5}{2} - \\frac{\\sqrt{23} i}{2}, x=- \\frac{5}{2} + \\frac{\\sqrt{23} i}{2}$\n"
          ],
          "name": "stdout"
        }
      ]
    },
    {
      "cell_type": "code",
      "metadata": {
        "id": "TD87VoQXjMYM",
        "outputId": "adec85db-52a0-4b86-e107-3aa9c401053e"
      },
      "source": [
        "# Resuelve las siguientes ecuaciones polinómicas:\n",
        "\n",
        "ejercicios = [\n",
        "              r'2x^4-6x^3+6x^2-2x=0',\n",
        "              r'6x^3-12x^2+6x=0',\n",
        "]\n",
        "\n",
        "display(md(\"## Resuelve las siguientes ecuaciones polinómicas:\"))\n",
        " \n",
        "    \n",
        "\n",
        "[mostrar_ejercicio(r\"${}$ \".format(e), \n",
        "                   r\"${} \\to {}\".format(e, latex(factor(parse_latex(e))))\n",
        "                   +r\" \\to x=\"+r\", x=\".join(map(latex,solve(parse_latex(e))))+r\"$\"\n",
        "                  )\n",
        "for e in ejercicios]\n"
      ],
      "execution_count": null,
      "outputs": [
        {
          "output_type": "display_data",
          "data": {
            "text/markdown": "## Resuelve las siguientes ecuaciones polinómicas:",
            "text/plain": [
              "<IPython.core.display.Markdown object>"
            ]
          },
          "metadata": {
            "tags": []
          }
        },
        {
          "output_type": "display_data",
          "data": {
            "text/markdown": "#### Ejercicio:",
            "text/plain": [
              "<IPython.core.display.Markdown object>"
            ]
          },
          "metadata": {
            "tags": []
          }
        },
        {
          "output_type": "display_data",
          "data": {
            "text/markdown": "$2x^4-6x^3+6x^2-2x=0$  $\\to$ $2x^4-6x^3+6x^2-2x=0 \\to 2 x \\left(x - 1\\right)^{3} = 0 \\to x=0, x=1$",
            "text/plain": [
              "<IPython.core.display.Markdown object>"
            ]
          },
          "metadata": {
            "tags": []
          }
        },
        {
          "output_type": "stream",
          "text": [
            "enunciado_latex: $2x^4-6x^3+6x^2-2x=0$ \n",
            "solucion_latex: $2x^4-6x^3+6x^2-2x=0 \\to 2 x \\left(x - 1\\right)^{3} = 0 \\to x=0, x=1$\n"
          ],
          "name": "stdout"
        },
        {
          "output_type": "display_data",
          "data": {
            "text/markdown": "#### Ejercicio:",
            "text/plain": [
              "<IPython.core.display.Markdown object>"
            ]
          },
          "metadata": {
            "tags": []
          }
        },
        {
          "output_type": "display_data",
          "data": {
            "text/markdown": "$6x^3-12x^2+6x=0$  $\\to$ $6x^3-12x^2+6x=0 \\to 6 x \\left(x - 1\\right)^{2} = 0 \\to x=0, x=1$",
            "text/plain": [
              "<IPython.core.display.Markdown object>"
            ]
          },
          "metadata": {
            "tags": []
          }
        },
        {
          "output_type": "stream",
          "text": [
            "enunciado_latex: $6x^3-12x^2+6x=0$ \n",
            "solucion_latex: $6x^3-12x^2+6x=0 \\to 6 x \\left(x - 1\\right)^{2} = 0 \\to x=0, x=1$\n"
          ],
          "name": "stdout"
        },
        {
          "output_type": "execute_result",
          "data": {
            "text/plain": [
              "[('$2x^4-6x^3+6x^2-2x=0$ ',\n",
              "  '$2x^4-6x^3+6x^2-2x=0 \\\\to 2 x \\\\left(x - 1\\\\right)^{3} = 0 \\\\to x=0, x=1$'),\n",
              " ('$6x^3-12x^2+6x=0$ ',\n",
              "  '$6x^3-12x^2+6x=0 \\\\to 6 x \\\\left(x - 1\\\\right)^{2} = 0 \\\\to x=0, x=1$')]"
            ]
          },
          "metadata": {
            "tags": []
          },
          "execution_count": 13
        }
      ]
    },
    {
      "cell_type": "code",
      "metadata": {
        "id": "fjTZCWvjjMYM",
        "outputId": "f79e1979-6787-41d0-b28d-3677397b8a13"
      },
      "source": [
        "# Resuelve las siguientes ecuaciones irracionales: (solo tiene que tener un radical y ser el primero a la izquierda)\n",
        "\n",
        "ejercicios = [\n",
        "              r'\\sqrt{x+1}+5=x',\n",
        "              r'\\sqrt{3x-2}+\\sqrt{x-1}=3'\n",
        "            ]\n",
        "\n",
        "display(md(\"## Resuelve las siguientes ecuaciones irracionales:\"))\n",
        "\n",
        "for e in ejercicios :\n",
        "    enunciado = r\"${}$ \".format(e)\n",
        "    ec = parse_latex(e)\n",
        "    solucion = r\"${} \\to {}\".format(e, manipular_ec_irracional(ec)[0])\n",
        "    solucion += r\" \\to x=\"+r\", x=\".join(map(latex,solve(parse_latex(e))))+r\"$\"\n",
        "    \n",
        "    mostrar_ejercicio(enunciado, solucion)\n",
        "    \n",
        "    \n",
        "# [mostrar_ejercicio(r\"${}$ \".format(e), \n",
        "#                    r\"${} \\to {}\".format(e, latex(factor(parse_latex(e))))\n",
        "#                    r\"x=\"+r\", x=\".join(map(latex,solve(parse_latex(e))))+r\"$\"\n",
        "#                   )\n",
        "# for e in ejercicios]\n"
      ],
      "execution_count": null,
      "outputs": [
        {
          "output_type": "display_data",
          "data": {
            "text/markdown": "## Resuelve las siguientes ecuaciones irracionales:",
            "text/plain": [
              "<IPython.core.display.Markdown object>"
            ]
          },
          "metadata": {
            "tags": []
          }
        },
        {
          "output_type": "display_data",
          "data": {
            "text/markdown": "#### Ejercicio:",
            "text/plain": [
              "<IPython.core.display.Markdown object>"
            ]
          },
          "metadata": {
            "tags": []
          }
        },
        {
          "output_type": "display_data",
          "data": {
            "text/markdown": "$\\sqrt{x+1}+5=x$  $\\to$ $\\sqrt{x+1}+5=x \\to \\sqrt{x + 1} = x - 5 \\to x + 1 = \\left(x - 5\\right)^{2} \\to - x^{2} + 11 x - 24 = 0 \\to x=8$",
            "text/plain": [
              "<IPython.core.display.Markdown object>"
            ]
          },
          "metadata": {
            "tags": []
          }
        },
        {
          "output_type": "stream",
          "text": [
            "enunciado_latex: $\\sqrt{x+1}+5=x$ \n",
            "solucion_latex: $\\sqrt{x+1}+5=x \\to \\sqrt{x + 1} = x - 5 \\to x + 1 = \\left(x - 5\\right)^{2} \\to - x^{2} + 11 x - 24 = 0 \\to x=8$\n"
          ],
          "name": "stdout"
        },
        {
          "output_type": "display_data",
          "data": {
            "text/markdown": "#### Ejercicio:",
            "text/plain": [
              "<IPython.core.display.Markdown object>"
            ]
          },
          "metadata": {
            "tags": []
          }
        },
        {
          "output_type": "display_data",
          "data": {
            "text/markdown": "$\\sqrt{3x-2}+\\sqrt{x-1}=3$  $\\to$ $\\sqrt{3x-2}+\\sqrt{x-1}=3 \\to \\sqrt{3 x - 2} = 3 - \\sqrt{x - 1} \\to 3 x - 2 = \\left(3 - \\sqrt{x - 1}\\right)^{2} \\to 2 x + 6 \\sqrt{x - 1} - 10 = 0 \\to x=2$",
            "text/plain": [
              "<IPython.core.display.Markdown object>"
            ]
          },
          "metadata": {
            "tags": []
          }
        },
        {
          "output_type": "stream",
          "text": [
            "enunciado_latex: $\\sqrt{3x-2}+\\sqrt{x-1}=3$ \n",
            "solucion_latex: $\\sqrt{3x-2}+\\sqrt{x-1}=3 \\to \\sqrt{3 x - 2} = 3 - \\sqrt{x - 1} \\to 3 x - 2 = \\left(3 - \\sqrt{x - 1}\\right)^{2} \\to 2 x + 6 \\sqrt{x - 1} - 10 = 0 \\to x=2$\n"
          ],
          "name": "stdout"
        }
      ]
    },
    {
      "cell_type": "code",
      "metadata": {
        "id": "ISHzoF6pjMYM",
        "outputId": "ba2d5432-5a33-4ed6-acd1-0ebc82101451"
      },
      "source": [
        "expr = sqrt(x-1)\n",
        "expr.is_rational\n",
        "\n",
        "#ec=parse_latex(r'5+\\sqrt{x+1}=x')\n",
        "ec = parse_latex(r'2 x + 6 \\sqrt{x - 1}-10 = 0')\n",
        "\n",
        "#[i for i in enumerate(x for x in ec.args[0].args if not(x.is_rational_function()))]\n",
        "#[i for i in enumerate(x for x in ec.args[0].args)]  \n",
        "[i for i in ec.args[0].args]   "
      ],
      "execution_count": null,
      "outputs": [
        {
          "output_type": "execute_result",
          "data": {
            "image/png": "[encoded data removed]",
            "text/latex": "$\\displaystyle \\left[ 2 x + 6 \\sqrt{x - 1}, \\  -10\\right]$",
            "text/plain": [
              "⎡          _______     ⎤\n",
              "⎣2⋅x + 6⋅╲╱ x - 1 , -10⎦"
            ]
          },
          "metadata": {
            "tags": []
          },
          "execution_count": 15
        }
      ]
    },
    {
      "cell_type": "code",
      "metadata": {
        "id": "RQvzaRcbjMYN",
        "outputId": "c74af3eb-71d1-4851-9233-e0e0498dd1ab"
      },
      "source": [
        "expr = 2*x\n",
        "expr.is_rational_function()"
      ],
      "execution_count": null,
      "outputs": [
        {
          "output_type": "execute_result",
          "data": {
            "text/plain": [
              "True"
            ]
          },
          "metadata": {
            "tags": []
          },
          "execution_count": 16
        }
      ]
    },
    {
      "cell_type": "code",
      "metadata": {
        "id": "BF8plJrBjMYN",
        "outputId": "99d6aacf-1f67-40bc-b951-711dc6ce9a07"
      },
      "source": [
        "ec=parse_latex(r'\\sqrt{x+1}+5=x')\n",
        "\n",
        "def manipular_ec_irracional(ec) :\n",
        "    # Aisla el primer argumento del miembro de la izquierda y eleva todo al cuadrado\n",
        "    transformaciones = [#ec,\n",
        "                        Eq(ec.args[0].args[0],ec.args[1]-(ec.args[0]-ec.args[0].args[0])), \n",
        "                        Eq(ec.args[0].args[0]**2,(ec.args[1]-(ec.args[0]-ec.args[0].args[0]))**2), \n",
        "                        Eq(expand(ec.args[0].args[0]**2-(ec.args[1]-(ec.args[0]-ec.args[0].args[0]))**2),0)]\n",
        "\n",
        "    return r\" \\to \".join(map(latex,transformaciones)), transformaciones[-1]\n",
        "\n",
        "manipular_ec_irracional(ec)[0]"
      ],
      "execution_count": null,
      "outputs": [
        {
          "output_type": "execute_result",
          "data": {
            "text/plain": [
              "'\\\\sqrt{x + 1} = x - 5 \\\\to x + 1 = \\\\left(x - 5\\\\right)^{2} \\\\to - x^{2} + 11 x - 24 = 0'"
            ]
          },
          "metadata": {
            "tags": []
          },
          "execution_count": 17
        }
      ]
    },
    {
      "cell_type": "code",
      "metadata": {
        "id": "z86VkfwIjMYO",
        "outputId": "3fa3d0c4-23a3-4d71-e0f0-3ae04721960c"
      },
      "source": [
        "# Resuelve las siguientes ecuaciones:\n",
        "\n",
        "ejercicios = [\n",
        "              r'\\sqrt{x+1}+5=x',\n",
        "              r'\\sqrt{3x-2}+\\sqrt{x-1}=3'\n",
        "            ]\n",
        "\n",
        "display(md(\"## Resuelve las siguientes ecuaciones:\"))\n",
        "\n",
        "[mostrar_ejercicio(r\"${}$ \".format(e), \n",
        "                   r\"x=\"+r\", x=\".join(map(latex,solve(parse_latex(e))))+r\"$\"\n",
        "                  )\n",
        "for e in ejercicios]\n"
      ],
      "execution_count": null,
      "outputs": [
        {
          "output_type": "display_data",
          "data": {
            "text/markdown": "## Resuelve las siguientes ecuaciones:",
            "text/plain": [
              "<IPython.core.display.Markdown object>"
            ]
          },
          "metadata": {
            "tags": []
          }
        },
        {
          "output_type": "display_data",
          "data": {
            "text/markdown": "#### Ejercicio:",
            "text/plain": [
              "<IPython.core.display.Markdown object>"
            ]
          },
          "metadata": {
            "tags": []
          }
        },
        {
          "output_type": "display_data",
          "data": {
            "text/markdown": "$\\sqrt{x+1}+5=x$  $\\to$ x=8$",
            "text/plain": [
              "<IPython.core.display.Markdown object>"
            ]
          },
          "metadata": {
            "tags": []
          }
        },
        {
          "output_type": "stream",
          "text": [
            "enunciado_latex: $\\sqrt{x+1}+5=x$ \n",
            "solucion_latex: x=8$\n"
          ],
          "name": "stdout"
        },
        {
          "output_type": "display_data",
          "data": {
            "text/markdown": "#### Ejercicio:",
            "text/plain": [
              "<IPython.core.display.Markdown object>"
            ]
          },
          "metadata": {
            "tags": []
          }
        },
        {
          "output_type": "display_data",
          "data": {
            "text/markdown": "$\\sqrt{3x-2}+\\sqrt{x-1}=3$  $\\to$ x=2$",
            "text/plain": [
              "<IPython.core.display.Markdown object>"
            ]
          },
          "metadata": {
            "tags": []
          }
        },
        {
          "output_type": "stream",
          "text": [
            "enunciado_latex: $\\sqrt{3x-2}+\\sqrt{x-1}=3$ \n",
            "solucion_latex: x=2$\n"
          ],
          "name": "stdout"
        },
        {
          "output_type": "execute_result",
          "data": {
            "text/plain": [
              "[('$\\\\sqrt{x+1}+5=x$ ', 'x=8$'), ('$\\\\sqrt{3x-2}+\\\\sqrt{x-1}=3$ ', 'x=2$')]"
            ]
          },
          "metadata": {
            "tags": []
          },
          "execution_count": 18
        }
      ]
    },
    {
      "cell_type": "code",
      "metadata": {
        "id": "jmhe649_jMYO",
        "outputId": "3099ea64-fde7-4a6e-84d5-ff0e9f9fcf25"
      },
      "source": [
        "# Resuelve las siguientes ecuaciones:\n",
        "\n",
        "ejercicios = [[r'2\\log x- \\log{\\left(3x-5\\right)}=\\log{5x} - 1', Eq(2*log(x,10)-log(3*x-5,10),log(5*x,10)-1)],\n",
        "              [r'\\log {\\left(x-1\\right)}+ \\log{2}=\\log{\\left(x^2+3\\right)} - \\log x',Eq(log(x-1,10)+log(2,10),log(x**2+3,10)-log(x,10))],\n",
        "              [r'\\left(x^2-5x+5\\right)\\log 5 + \\log{20}=\\log 4',Eq((x**2-5*x+5)*log(5,10)+log(20,10),log(4,10))]\n",
        "            ]\n",
        "\n",
        "display(md(\"## Resuelve las siguientes ecuaciones:\"))\n",
        "\n",
        "[mostrar_ejercicio(r\"${}$ \".format(e[0]), \n",
        "                   r\"$x=\"+r\", x=\".join(map(latex,solve(e[1])))+r\"$\"\n",
        "                  )\n",
        "for e in ejercicios]\n",
        "\n",
        "\n"
      ],
      "execution_count": null,
      "outputs": [
        {
          "output_type": "display_data",
          "data": {
            "text/markdown": "## Resuelve las siguientes ecuaciones:",
            "text/plain": [
              "<IPython.core.display.Markdown object>"
            ]
          },
          "metadata": {
            "tags": []
          }
        },
        {
          "output_type": "display_data",
          "data": {
            "text/markdown": "#### Ejercicio:",
            "text/plain": [
              "<IPython.core.display.Markdown object>"
            ]
          },
          "metadata": {
            "tags": []
          }
        },
        {
          "output_type": "display_data",
          "data": {
            "text/markdown": "$2\\log x- \\log{\\left(3x-5\\right)}=\\log{5x} - 1$  $\\to$ $x=5$",
            "text/plain": [
              "<IPython.core.display.Markdown object>"
            ]
          },
          "metadata": {
            "tags": []
          }
        },
        {
          "output_type": "stream",
          "text": [
            "enunciado_latex: $2\\log x- \\log{\\left(3x-5\\right)}=\\log{5x} - 1$ \n",
            "solucion_latex: $x=5$\n"
          ],
          "name": "stdout"
        },
        {
          "output_type": "display_data",
          "data": {
            "text/markdown": "#### Ejercicio:",
            "text/plain": [
              "<IPython.core.display.Markdown object>"
            ]
          },
          "metadata": {
            "tags": []
          }
        },
        {
          "output_type": "display_data",
          "data": {
            "text/markdown": "$\\log {\\left(x-1\\right)}+ \\log{2}=\\log{\\left(x^2+3\\right)} - \\log x$  $\\to$ $x=3$",
            "text/plain": [
              "<IPython.core.display.Markdown object>"
            ]
          },
          "metadata": {
            "tags": []
          }
        },
        {
          "output_type": "stream",
          "text": [
            "enunciado_latex: $\\log {\\left(x-1\\right)}+ \\log{2}=\\log{\\left(x^2+3\\right)} - \\log x$ \n",
            "solucion_latex: $x=3$\n"
          ],
          "name": "stdout"
        },
        {
          "output_type": "display_data",
          "data": {
            "text/markdown": "#### Ejercicio:",
            "text/plain": [
              "<IPython.core.display.Markdown object>"
            ]
          },
          "metadata": {
            "tags": []
          }
        },
        {
          "output_type": "display_data",
          "data": {
            "text/markdown": "$\\left(x^2-5x+5\\right)\\log 5 + \\log{20}=\\log 4$  $\\to$ $x=2, x=3$",
            "text/plain": [
              "<IPython.core.display.Markdown object>"
            ]
          },
          "metadata": {
            "tags": []
          }
        },
        {
          "output_type": "stream",
          "text": [
            "enunciado_latex: $\\left(x^2-5x+5\\right)\\log 5 + \\log{20}=\\log 4$ \n",
            "solucion_latex: $x=2, x=3$\n"
          ],
          "name": "stdout"
        },
        {
          "output_type": "execute_result",
          "data": {
            "text/plain": [
              "[('$2\\\\log x- \\\\log{\\\\left(3x-5\\\\right)}=\\\\log{5x} - 1$ ', '$x=5$'),\n",
              " ('$\\\\log {\\\\left(x-1\\\\right)}+ \\\\log{2}=\\\\log{\\\\left(x^2+3\\\\right)} - \\\\log x$ ',\n",
              "  '$x=3$'),\n",
              " ('$\\\\left(x^2-5x+5\\\\right)\\\\log 5 + \\\\log{20}=\\\\log 4$ ', '$x=2, x=3$')]"
            ]
          },
          "metadata": {
            "tags": []
          },
          "execution_count": 19
        }
      ]
    }
  ]
}