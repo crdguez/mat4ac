{
 "cells": [
  {
   "cell_type": "markdown",
   "metadata": {
    "colab_type": "text",
    "id": "view-in-github"
   },
   "source": [
    "<a href=\"https://colab.research.google.com/github/crdguez/mat4ac/blob/master/notebooks/12-Radicales.ipynb\" target=\"_parent\"><img src=\"https://colab.research.google.com/assets/colab-badge.svg\" alt=\"Open In Colab\"/></a>"
   ]
  },
  {
   "cell_type": "code",
   "execution_count": 1,
   "metadata": {
    "colab": {
     "base_uri": "https://localhost:8080/",
     "height": 68
    },
    "id": "9X_4fdzd0gZQ",
    "outputId": "19d9a03d-f8df-4555-fd42-000b806eda13"
   },
   "outputs": [],
   "source": [
    "# Ejecutar para que funcione el parse_latex en google colab\n",
    "\n",
    "#!pip install sympy==1.3 antlr4-python3-runtime==4.7.1"
   ]
  },
  {
   "cell_type": "code",
   "execution_count": 1,
   "metadata": {
    "colab": {
     "base_uri": "https://localhost:8080/",
     "height": 221
    },
    "id": "xYDbOmkG0YbJ",
    "outputId": "bcff78d4-abee-405c-da80-f3067ea1e0dc"
   },
   "outputs": [
    {
     "name": "stdout",
     "output_type": "stream",
     "text": [
      "IPython console for SymPy 1.3 (Python 3.7.1-32-bit) (ground types: gmpy)\n",
      "\n",
      "These commands were executed:\n",
      ">>> from __future__ import division\n",
      ">>> from sympy import *\n",
      ">>> x, y, z, t = symbols('x y z t')\n",
      ">>> k, m, n = symbols('k m n', integer=True)\n",
      ">>> f, g, h = symbols('f g h', cls=Function)\n",
      ">>> init_printing()\n",
      "\n",
      "Documentation can be found at http://docs.sympy.org/1.3/\n",
      "\n"
     ]
    }
   ],
   "source": [
    "from sympy import init_session\n",
    "from sympy.parsing.latex import parse_latex\n",
    "from IPython.display import Markdown as md\n",
    "from IPython.display import display\n",
    "import numpy as np\n",
    "\n",
    "init_session()\n",
    "\n",
    "a, b, c, d = symbols('a b c d', real = True)"
   ]
  },
  {
   "cell_type": "code",
   "execution_count": 2,
   "metadata": {
    "id": "vPXI53QN0Ycw"
   },
   "outputs": [],
   "source": [
    "def mostrar_ejercicio(ejercicio,solucion,tipo=0) :\n",
    "    #tipo=0 se pasa el ejercicio y la solucion en formato latex\n",
    "    if tipo == 0 :\n",
    "        display(md(\"#### Ejercicio:\"))\n",
    "        display(md(r\"{} $\\to$ {}\".format(ejercicio, solucion)))\n",
    "        print(\"enunciado_latex: \" + ejercicio)\n",
    "        print(\"solucion_latex: \" + solucion)\n",
    "        return ejercicio, solucion\n",
    "    elif tipo == 1:\n",
    "        display(md(\"#### Ejercicio:\"))\n",
    "        display(md(r\"{} $\\to$ {}\".format(ejercicio, solucion)))\n",
    "        print(\"enunciado_latex: \" + ejercicio)\n",
    "        print(\"solucion_latex: \" + solucion)\n",
    "        return ejercicio, solucion\n",
    "\n",
    "        \n",
    "    "
   ]
  },
  {
   "cell_type": "code",
   "execution_count": 4,
   "metadata": {},
   "outputs": [],
   "source": [
    "def manipular_ec_irracional(ec) :\n",
    "    # Aisla el primer argumento del miembro de la izquierda y eleva todo al cuadrado. Devuelve el latex con las transformaciones y la ecuacion simplificada a resolver\n",
    "    transformaciones = [#ec,\n",
    "                        Eq(ec.args[0].args[0],ec.args[1]-(ec.args[0]-ec.args[0].args[0])), \n",
    "                        Eq(ec.args[0].args[0]**2,(ec.args[1]-(ec.args[0]-ec.args[0].args[0]))**2), \n",
    "                        Eq(expand(ec.args[0].args[0]**2-(ec.args[1]-(ec.args[0]-ec.args[0].args[0]))**2),0)]\n",
    "\n",
    "    return r\" \\to \".join(map(latex,transformaciones)), transformaciones[-1]"
   ]
  },
  {
   "cell_type": "code",
   "execution_count": 3,
   "metadata": {
    "colab": {
     "base_uri": "https://localhost:8080/",
     "height": 586
    },
    "id": "6aSd_z-t0YdR",
    "outputId": "98852a11-a236-43e1-ddf9-3b3f8a26662f"
   },
   "outputs": [
    {
     "data": {
      "text/markdown": [
       "## Teorema del resto:"
      ],
      "text/plain": [
       "<IPython.core.display.Markdown object>"
      ]
     },
     "metadata": {},
     "output_type": "display_data"
    },
    {
     "data": {
      "text/markdown": [
       "#### Ejercicio:"
      ],
      "text/plain": [
       "<IPython.core.display.Markdown object>"
      ]
     },
     "metadata": {},
     "output_type": "display_data"
    },
    {
     "data": {
      "text/markdown": [
       "Utilizando el teorema del resto para el polinomio $P (x) =- 2 x^{3} + x^{2} - 3 x - 6$ resuelve: \\\\ \n",
       "    Valor numérico para $x = -1$ \\\\ \n",
       "    ¿Es divisible P (x) por $x + 1$? \n",
       "    Justifica tu respuesta $\\to$ Si dividimos $P(x)=- 2 x^{3} + x^{2} - 3 x - 6$ entre $x + 1$ el resto da 0. \\\\ Por el teorema del resto, $P(-1)=0$. \\\\ Aplicando la propiedad fundamental de la división obtenemos que $P(x)=- 2 x^{3} + x^{2} - 3 x - 6=\\left(x + 1\\right)\\cdot\\left(- 2 x^{2} + 3 x - 6\\right)+0 \\to $ Sí es divisible."
      ],
      "text/plain": [
       "<IPython.core.display.Markdown object>"
      ]
     },
     "metadata": {},
     "output_type": "display_data"
    },
    {
     "name": "stdout",
     "output_type": "stream",
     "text": [
      "enunciado_latex: Utilizando el teorema del resto para el polinomio $P (x) =- 2 x^{3} + x^{2} - 3 x - 6$ resuelve: \\\\ \n",
      "    Valor numérico para $x = -1$ \\\\ \n",
      "    ¿Es divisible P (x) por $x + 1$? \n",
      "    Justifica tu respuesta\n",
      "solucion_latex: Si dividimos $P(x)=- 2 x^{3} + x^{2} - 3 x - 6$ entre $x + 1$ el resto da 0. \\\\ Por el teorema del resto, $P(-1)=0$. \\\\ Aplicando la propiedad fundamental de la división obtenemos que $P(x)=- 2 x^{3} + x^{2} - 3 x - 6=\\left(x + 1\\right)\\cdot\\left(- 2 x^{2} + 3 x - 6\\right)+0 \\to $ Sí es divisible.\n"
     ]
    }
   ],
   "source": [
    "# Teorema del resto\n",
    "\n",
    "ejercicios=[\n",
    "            # cociente, x-a, resto, el dividendo (polinomio del enunciado) lo calcula la celda\n",
    "            [-2*x**2+3*x-6,-1,0]\n",
    "           ]\n",
    "\n",
    "display(md(\"## Teorema del resto:\"))\n",
    "\n",
    "for e in ejercicios :\n",
    "    polinomio = expand(e[0]*S(\"x-\"+str(e[1]))+e[2]) # propiedad fundamental de la división\n",
    "    enunciado_latex = r\"\"\"Utilizando el teorema del resto para el polinomio $P (x) ={}$ resuelve: \\\\ \n",
    "    Valor numérico para $x = {}$ \\\\ \n",
    "    ¿Es divisible P (x) por ${}$? \n",
    "    Justifica tu respuesta\"\"\".format(latex(polinomio),e[1],S(\"x-\"+latex(e[1])))\n",
    "\n",
    "    solucion_latex = r\"Si dividimos $P(x)={}$ entre ${}$ \".format(latex(polinomio),S(r\"x-\"+str(e[1])))+r\"el resto da \"+latex(e[2])\n",
    "    solucion_latex += r\". \\\\ Por el teorema del resto, $P({})={}$\".format(e[1], polinomio.subs(x,e[1]))\n",
    "    solucion_latex += r\". \\\\ Aplicando la propiedad fundamental de la división obtenemos que $P(x)={}=\\left({}\\right)\\cdot\\left({}\\right)+{} \\to $ \".format(latex(polinomio), latex(S(r\"x-\"+str(e[1]))), latex(e[0]), latex(e[2]))\n",
    "    solucion_latex += \"Sí es divisible.\" if e[2]==0 else \"No es divisible,\"\n",
    "    #print(enunciado_latex)\n",
    "\n",
    "    mostrar_ejercicio(enunciado_latex, solucion_latex)  \n"
   ]
  },
  {
   "cell_type": "code",
   "execution_count": 6,
   "metadata": {},
   "outputs": [],
   "source": [
    "enunciados=[[x*(x-1)*(2*x-3),x**2*(x-1)]]\n",
    "\n",
    "ejercicios =[r\"\\frac{{{}}}{{{}}}\".format(latex(expand(i[0])),latex(expand(i[0]))) for i in enunciados] "
   ]
  },
  {
   "cell_type": "code",
   "execution_count": 7,
   "metadata": {
    "colab": {
     "base_uri": "https://localhost:8080/",
     "height": 483
    },
    "id": "cQtW0akV0YfG",
    "outputId": "600fcb80-c67d-493e-cb1b-4a8d2453fc11"
   },
   "outputs": [
    {
     "data": {
      "text/markdown": [
       "## Simplifica la siguiente fracción algebraica:"
      ],
      "text/plain": [
       "<IPython.core.display.Markdown object>"
      ]
     },
     "metadata": {},
     "output_type": "display_data"
    },
    {
     "data": {
      "text/markdown": [
       "#### Ejercicio:"
      ],
      "text/plain": [
       "<IPython.core.display.Markdown object>"
      ]
     },
     "metadata": {},
     "output_type": "display_data"
    },
    {
     "data": {
      "text/markdown": [
       "$\\frac{2 x^{3} - 5 x^{2} + 3 x}{x^{3} - x^{2}}$ $\\to$ $\\frac{2 x^{3} - 5 x^{2} + 3 x}{x^{3} - x^{2}}=\\frac{x \\left(x - 1\\right) \\left(2 x - 3\\right)}{x^{2} \\left(x - 1\\right)}=\\frac{2 x - 3}{x}$"
      ],
      "text/plain": [
       "<IPython.core.display.Markdown object>"
      ]
     },
     "metadata": {},
     "output_type": "display_data"
    },
    {
     "name": "stdout",
     "output_type": "stream",
     "text": [
      "enunciado_latex: $\\frac{2 x^{3} - 5 x^{2} + 3 x}{x^{3} - x^{2}}$\n",
      "solucion_latex: $\\frac{2 x^{3} - 5 x^{2} + 3 x}{x^{3} - x^{2}}=\\frac{x \\left(x - 1\\right) \\left(2 x - 3\\right)}{x^{2} \\left(x - 1\\right)}=\\frac{2 x - 3}{x}$\n"
     ]
    },
    {
     "data": {
      "text/markdown": [
       "#### Ejercicio:"
      ],
      "text/plain": [
       "<IPython.core.display.Markdown object>"
      ]
     },
     "metadata": {},
     "output_type": "display_data"
    },
    {
     "data": {
      "text/markdown": [
       "$\\frac{2 x^{3} - 5 x^{2} + 3 x}{2 x^{2} + x - 6}$ $\\to$ $\\frac{2 x^{3} - 5 x^{2} + 3 x}{2 x^{2} + x - 6}=\\frac{x \\left(x - 1\\right) \\left(2 x - 3\\right)}{\\left(x + 2\\right) \\left(2 x - 3\\right)}=\\frac{x^{2} - x}{x + 2}$"
      ],
      "text/plain": [
       "<IPython.core.display.Markdown object>"
      ]
     },
     "metadata": {},
     "output_type": "display_data"
    },
    {
     "name": "stdout",
     "output_type": "stream",
     "text": [
      "enunciado_latex: $\\frac{2 x^{3} - 5 x^{2} + 3 x}{2 x^{2} + x - 6}$\n",
      "solucion_latex: $\\frac{2 x^{3} - 5 x^{2} + 3 x}{2 x^{2} + x - 6}=\\frac{x \\left(x - 1\\right) \\left(2 x - 3\\right)}{\\left(x + 2\\right) \\left(2 x - 3\\right)}=\\frac{x^{2} - x}{x + 2}$\n"
     ]
    },
    {
     "data": {
      "text/markdown": [
       "#### Ejercicio:"
      ],
      "text/plain": [
       "<IPython.core.display.Markdown object>"
      ]
     },
     "metadata": {},
     "output_type": "display_data"
    },
    {
     "data": {
      "text/markdown": [
       "$\\frac{2 x^{4} - 6 x^{3} + 6 x^{2} - 2 x}{6 x^{3} - 12 x^{2} + 6 x}$ $\\to$ $\\frac{2 x^{4} - 6 x^{3} + 6 x^{2} - 2 x}{6 x^{3} - 12 x^{2} + 6 x}=\\frac{2 x \\left(x - 1\\right)^{3}}{6 x \\left(x - 1\\right)^{2}}=\\frac{x}{3} - \\frac{1}{3}$"
      ],
      "text/plain": [
       "<IPython.core.display.Markdown object>"
      ]
     },
     "metadata": {},
     "output_type": "display_data"
    },
    {
     "name": "stdout",
     "output_type": "stream",
     "text": [
      "enunciado_latex: $\\frac{2 x^{4} - 6 x^{3} + 6 x^{2} - 2 x}{6 x^{3} - 12 x^{2} + 6 x}$\n",
      "solucion_latex: $\\frac{2 x^{4} - 6 x^{3} + 6 x^{2} - 2 x}{6 x^{3} - 12 x^{2} + 6 x}=\\frac{2 x \\left(x - 1\\right)^{3}}{6 x \\left(x - 1\\right)^{2}}=\\frac{x}{3} - \\frac{1}{3}$\n"
     ]
    },
    {
     "data": {
      "text/plain": [
       "[('$\\\\frac{2 x^{3} - 5 x^{2} + 3 x}{x^{3} - x^{2}}$',\n",
       "  '$\\\\frac{2 x^{3} - 5 x^{2} + 3 x}{x^{3} - x^{2}}=\\\\frac{x \\\\left(x - 1\\\\right) \\\\left(2 x - 3\\\\right)}{x^{2} \\\\left(x - 1\\\\right)}=\\\\frac{2 x - 3}{x}$'),\n",
       " ('$\\\\frac{2 x^{3} - 5 x^{2} + 3 x}{2 x^{2} + x - 6}$',\n",
       "  '$\\\\frac{2 x^{3} - 5 x^{2} + 3 x}{2 x^{2} + x - 6}=\\\\frac{x \\\\left(x - 1\\\\right) \\\\left(2 x - 3\\\\right)}{\\\\left(x + 2\\\\right) \\\\left(2 x - 3\\\\right)}=\\\\frac{x^{2} - x}{x + 2}$'),\n",
       " ('$\\\\frac{2 x^{4} - 6 x^{3} + 6 x^{2} - 2 x}{6 x^{3} - 12 x^{2} + 6 x}$',\n",
       "  '$\\\\frac{2 x^{4} - 6 x^{3} + 6 x^{2} - 2 x}{6 x^{3} - 12 x^{2} + 6 x}=\\\\frac{2 x \\\\left(x - 1\\\\right)^{3}}{6 x \\\\left(x - 1\\\\right)^{2}}=\\\\frac{x}{3} - \\\\frac{1}{3}$')]"
      ]
     },
     "execution_count": 7,
     "metadata": {},
     "output_type": "execute_result"
    }
   ],
   "source": [
    "# Simplificar fracciones algebraicas\n",
    "\n",
    "# ejercicios en lates\n",
    "# ejercicios=[\n",
    "#             r'\\frac{2x^3-5x^2+3x}{2x^2+x-6}',\n",
    "\n",
    "#            ]\n",
    "\n",
    "# ejercicios en numerador y denominador en factores. La celda obtiene la fracción del enunciado\n",
    "\n",
    "enunciados=[[x*(x-1)*(2*x-3),x**2*(x-1)],\n",
    "            [x*(x - 1)*(2*x - 3),(x + 2)*(2*x - 3)],\n",
    "            [2*x*(x-1)**3,6*x*(x-1)**2]\n",
    "           ]\n",
    "\n",
    "ejercicios =[r\"\\frac{{{}}}{{{}}}\".format(latex(expand(i[0])),latex(expand(i[1]))) for i in enunciados] \n",
    "\n",
    "display(md(\"## Simplifica la siguiente fracción algebraica:\"))\n",
    "\n",
    "[mostrar_ejercicio(\"$\"+e+\"$\", \n",
    "                   \"$\"+e+r\"=\\frac{{{}}}{{{}}}=\".format(latex(factor(parse_latex(e).as_numer_denom()[0])),latex(factor(parse_latex(e).as_numer_denom()[1])))+latex(cancel(parse_latex(e)))+\"$\") \n",
    "for e in ejercicios]    \n",
    "\n",
    "\n",
    "\n",
    "#[mostrar_ejercicio(e, latex(S(parse_latex(r\"\\frac{\"+latex(factorint(simplify(parse_latex(e)).as_numer_denom()[0] , visual=True))+r\"}{\" +latex(factorint(simplify(parse_latex(e)).as_numer_denom()[1], visual=True))+\"}\"), evaluate=False))) for e in ejercicios]    \n",
    "\n",
    "\n"
   ]
  },
  {
   "cell_type": "code",
   "execution_count": 48,
   "metadata": {
    "scrolled": true
   },
   "outputs": [
    {
     "ename": "NameError",
     "evalue": "name 'as_numer_denom' is not defined",
     "output_type": "error",
     "traceback": [
      "\u001b[0;31m---------------------------------------------------------------------------\u001b[0m",
      "\u001b[0;31mNameError\u001b[0m                                 Traceback (most recent call last)",
      "\u001b[0;32m<ipython-input-48-4e491cd1ac47>\u001b[0m in \u001b[0;36m<module>\u001b[0;34m\u001b[0m\n\u001b[1;32m     12\u001b[0m \u001b[0mroots\u001b[0m\u001b[0;34m(\u001b[0m\u001b[0;36m9\u001b[0m\u001b[0;34m*\u001b[0m\u001b[0mx\u001b[0m\u001b[0;34m**\u001b[0m\u001b[0;36m4\u001b[0m\u001b[0;34m-\u001b[0m\u001b[0;36m36\u001b[0m\u001b[0;34m*\u001b[0m\u001b[0mx\u001b[0m\u001b[0;34m**\u001b[0m\u001b[0;36m3\u001b[0m\u001b[0;34m+\u001b[0m\u001b[0;36m26\u001b[0m\u001b[0;34m*\u001b[0m\u001b[0mx\u001b[0m\u001b[0;34m**\u001b[0m\u001b[0;36m2\u001b[0m\u001b[0;34m+\u001b[0m\u001b[0;36m4\u001b[0m\u001b[0;34m*\u001b[0m\u001b[0mx\u001b[0m\u001b[0;34m-\u001b[0m\u001b[0;36m3\u001b[0m\u001b[0;34m,\u001b[0m \u001b[0mmultiple\u001b[0m\u001b[0;34m=\u001b[0m\u001b[0;32mTrue\u001b[0m\u001b[0;34m)\u001b[0m\u001b[0;34m,\u001b[0m \u001b[0mnp\u001b[0m\u001b[0;34m.\u001b[0m\u001b[0mprod\u001b[0m\u001b[0;34m(\u001b[0m\u001b[0mroots\u001b[0m\u001b[0;34m(\u001b[0m\u001b[0;36m9\u001b[0m\u001b[0;34m*\u001b[0m\u001b[0mx\u001b[0m\u001b[0;34m**\u001b[0m\u001b[0;36m4\u001b[0m\u001b[0;34m-\u001b[0m\u001b[0;36m36\u001b[0m\u001b[0;34m*\u001b[0m\u001b[0mx\u001b[0m\u001b[0;34m**\u001b[0m\u001b[0;36m3\u001b[0m\u001b[0;34m+\u001b[0m\u001b[0;36m26\u001b[0m\u001b[0;34m*\u001b[0m\u001b[0mx\u001b[0m\u001b[0;34m**\u001b[0m\u001b[0;36m2\u001b[0m\u001b[0;34m+\u001b[0m\u001b[0;36m4\u001b[0m\u001b[0;34m*\u001b[0m\u001b[0mx\u001b[0m\u001b[0;34m-\u001b[0m\u001b[0;36m3\u001b[0m\u001b[0;34m,\u001b[0m \u001b[0mmultiple\u001b[0m\u001b[0;34m=\u001b[0m\u001b[0;32mTrue\u001b[0m\u001b[0;34m)\u001b[0m\u001b[0;34m)\u001b[0m\u001b[0;34m\u001b[0m\u001b[0;34m\u001b[0m\u001b[0m\n\u001b[1;32m     13\u001b[0m \u001b[0mden\u001b[0m \u001b[0;34m=\u001b[0m \u001b[0;34m[\u001b[0m\u001b[0ma\u001b[0m\u001b[0;34m.\u001b[0m\u001b[0mas_numer_denom\u001b[0m\u001b[0;34m(\u001b[0m\u001b[0;34m)\u001b[0m\u001b[0;34m[\u001b[0m\u001b[0;36m1\u001b[0m\u001b[0;34m]\u001b[0m \u001b[0;32mfor\u001b[0m \u001b[0ma\u001b[0m \u001b[0;32min\u001b[0m \u001b[0mroots\u001b[0m\u001b[0;34m(\u001b[0m\u001b[0;36m9\u001b[0m\u001b[0;34m*\u001b[0m\u001b[0mx\u001b[0m\u001b[0;34m**\u001b[0m\u001b[0;36m4\u001b[0m\u001b[0;34m-\u001b[0m\u001b[0;36m36\u001b[0m\u001b[0;34m*\u001b[0m\u001b[0mx\u001b[0m\u001b[0;34m**\u001b[0m\u001b[0;36m3\u001b[0m\u001b[0;34m+\u001b[0m\u001b[0;36m26\u001b[0m\u001b[0;34m*\u001b[0m\u001b[0mx\u001b[0m\u001b[0;34m**\u001b[0m\u001b[0;36m2\u001b[0m\u001b[0;34m+\u001b[0m\u001b[0;36m4\u001b[0m\u001b[0;34m*\u001b[0m\u001b[0mx\u001b[0m\u001b[0;34m-\u001b[0m\u001b[0;36m3\u001b[0m\u001b[0;34m,\u001b[0m \u001b[0mmultiple\u001b[0m\u001b[0;34m=\u001b[0m\u001b[0;32mTrue\u001b[0m\u001b[0;34m)\u001b[0m\u001b[0;34m]\u001b[0m\u001b[0;34m\u001b[0m\u001b[0;34m\u001b[0m\u001b[0m\n\u001b[0;32m---> 14\u001b[0;31m \u001b[0mmap\u001b[0m\u001b[0;34m(\u001b[0m\u001b[0mas_numer_denom\u001b[0m\u001b[0;34m,\u001b[0m\u001b[0mroots\u001b[0m\u001b[0;34m(\u001b[0m\u001b[0;36m9\u001b[0m\u001b[0;34m*\u001b[0m\u001b[0mx\u001b[0m\u001b[0;34m**\u001b[0m\u001b[0;36m4\u001b[0m\u001b[0;34m-\u001b[0m\u001b[0;36m36\u001b[0m\u001b[0;34m*\u001b[0m\u001b[0mx\u001b[0m\u001b[0;34m**\u001b[0m\u001b[0;36m3\u001b[0m\u001b[0;34m+\u001b[0m\u001b[0;36m26\u001b[0m\u001b[0;34m*\u001b[0m\u001b[0mx\u001b[0m\u001b[0;34m**\u001b[0m\u001b[0;36m2\u001b[0m\u001b[0;34m+\u001b[0m\u001b[0;36m4\u001b[0m\u001b[0;34m*\u001b[0m\u001b[0mx\u001b[0m\u001b[0;34m-\u001b[0m\u001b[0;36m3\u001b[0m\u001b[0;34m,\u001b[0m \u001b[0mmultiple\u001b[0m\u001b[0;34m=\u001b[0m\u001b[0;32mTrue\u001b[0m\u001b[0;34m)\u001b[0m\u001b[0;34m)\u001b[0m\u001b[0;34m\u001b[0m\u001b[0;34m\u001b[0m\u001b[0m\n\u001b[0m\u001b[1;32m     15\u001b[0m \u001b[0mnp\u001b[0m\u001b[0;34m.\u001b[0m\u001b[0mprod\u001b[0m\u001b[0;34m(\u001b[0m\u001b[0mden\u001b[0m\u001b[0;34m)\u001b[0m\u001b[0;34m\u001b[0m\u001b[0;34m\u001b[0m\u001b[0m\n",
      "\u001b[0;31mNameError\u001b[0m: name 'as_numer_denom' is not defined"
     ]
    }
   ],
   "source": [
    "import numpy as np\n",
    "\n",
    "factor(9*x**4-36*x**3+26*x**2+4*x-3)\n",
    "roots(9*x**4-36*x**3+26*x**2+4*x-3, multiple=True)\n",
    "#roots?\n",
    "pol=1\n",
    "for i in roots(9*x**4-36*x**3+26*x**2+4*x-3, multiple=True) :\n",
    "    pol *= (x-i) \n",
    "    \n",
    "expand(pol)\n",
    "\n",
    "roots(9*x**4-36*x**3+26*x**2+4*x-3, multiple=True), np.prod(roots(9*x**4-36*x**3+26*x**2+4*x-3, multiple=True))\n",
    "np.prod([a.as_numer_denom()[1] for a in roots(9*x**4-36*x**3+26*x**2+4*x-3, multiple=True)])"
   ]
  },
  {
   "cell_type": "code",
   "execution_count": 8,
   "metadata": {},
   "outputs": [
    {
     "name": "stdout",
     "output_type": "stream",
     "text": [
      "[x*(x - 1)*(2*x - 3), (x + 2)*(2*x - 3)]\n"
     ]
    },
    {
     "data": {
      "text/plain": [
       "[None]"
      ]
     },
     "execution_count": 8,
     "metadata": {},
     "output_type": "execute_result"
    }
   ],
   "source": [
    "ejercicios=[r'\\frac{2x^3-5x^2+3x}{2x^2+x-6}']\n",
    "\n",
    "[print([factor(parse_latex(e).as_numer_denom()[0]),factor(parse_latex(e).as_numer_denom()[1])]) for e in ejercicios]\n",
    "\n",
    "\n"
   ]
  },
  {
   "cell_type": "code",
   "execution_count": 9,
   "metadata": {},
   "outputs": [
    {
     "data": {
      "text/markdown": [
       "## Halla el valor de k para que la siguiente división sea exacta:"
      ],
      "text/plain": [
       "<IPython.core.display.Markdown object>"
      ]
     },
     "metadata": {},
     "output_type": "display_data"
    },
    {
     "data": {
      "text/markdown": [
       "#### Ejercicio:"
      ],
      "text/plain": [
       "<IPython.core.display.Markdown object>"
      ]
     },
     "metadata": {},
     "output_type": "display_data"
    },
    {
     "data": {
      "text/markdown": [
       "$\\left( 3x^2+kx-2 \\right): \\left(x + 2\\right)$  $\\to$ $10 - 2 k=0 \\to k = 5 $"
      ],
      "text/plain": [
       "<IPython.core.display.Markdown object>"
      ]
     },
     "metadata": {},
     "output_type": "display_data"
    },
    {
     "name": "stdout",
     "output_type": "stream",
     "text": [
      "enunciado_latex: $\\left( 3x^2+kx-2 \\right): \\left(x + 2\\right)$ \n",
      "solucion_latex: $10 - 2 k=0 \\to k = 5 $\n"
     ]
    },
    {
     "data": {
      "text/plain": [
       "[('$\\\\left( 3x^2+kx-2 \\\\right): \\\\left(x + 2\\\\right)$ ',\n",
       "  '$10 - 2 k=0 \\\\to k = 5 $')]"
      ]
     },
     "execution_count": 9,
     "metadata": {},
     "output_type": "execute_result"
    }
   ],
   "source": [
    "# Halla el valor de \\emph{k} para que la siguiente división sea exacta:\n",
    "\n",
    "k = symbols('k')\n",
    "\n",
    "ejercicios = [[r'3x^2+kx-2',-2],\n",
    "            ]\n",
    "\n",
    "display(md(\"## Halla el valor de k para que la siguiente división sea exacta:\"))\n",
    "\n",
    "[mostrar_ejercicio(r\"$\\left( {} \\right): \\left({}\\right)$ \".format(e[0],latex(x-e[1])), \n",
    "                   r\"${}=0 \\to k = {} $\".format(latex(parse_latex(e[0]).subs(x,e[1])),solve(parse_latex(e[0]).subs(x,e[1]),k)[0])) \n",
    "for e in ejercicios]\n"
   ]
  },
  {
   "cell_type": "code",
   "execution_count": 36,
   "metadata": {},
   "outputs": [
    {
     "data": {
      "text/markdown": [
       "## Halla el valor de k para que la siguiente división sea exacta tengar un resto determinado:"
      ],
      "text/plain": [
       "<IPython.core.display.Markdown object>"
      ]
     },
     "metadata": {},
     "output_type": "display_data"
    },
    {
     "data": {
      "text/markdown": [
       "#### Ejercicio:"
      ],
      "text/plain": [
       "<IPython.core.display.Markdown object>"
      ]
     },
     "metadata": {},
     "output_type": "display_data"
    },
    {
     "data": {
      "text/markdown": [
       "$\\left( 2x^3-12x+2k \\right): \\left(x - 3\\right)$  y resto -5 $\\to$ $2 k + 18=-5 \\to k = -23/2 $"
      ],
      "text/plain": [
       "<IPython.core.display.Markdown object>"
      ]
     },
     "metadata": {},
     "output_type": "display_data"
    },
    {
     "name": "stdout",
     "output_type": "stream",
     "text": [
      "enunciado_latex: $\\left( 2x^3-12x+2k \\right): \\left(x - 3\\right)$  y resto -5\n",
      "solucion_latex: $2 k + 18=-5 \\to k = -23/2 $\n"
     ]
    },
    {
     "data": {
      "text/plain": [
       "[('$\\\\left( 2x^3-12x+2k \\\\right): \\\\left(x - 3\\\\right)$  y resto -5',\n",
       "  '$2 k + 18=-5 \\\\to k = -23/2 $')]"
      ]
     },
     "execution_count": 36,
     "metadata": {},
     "output_type": "execute_result"
    }
   ],
   "source": [
    "# Halla el valor de \\emph{k} para que la siguiente división tenga un resto determinado:\n",
    "\n",
    "k = symbols('k')\n",
    "\n",
    "ejercicios = [[r'2x^3-12x+2k',3, -5],\n",
    "            ]\n",
    "\n",
    "display(md(\"## Halla el valor de k para que la siguiente división sea exacta tengar un resto determinado:\"))\n",
    "\n",
    "[mostrar_ejercicio(r\"$\\left( {} \\right): \\left({}\\right)$  y resto {}\".format(e[0],latex(x-e[1]), latex(e[2])), \n",
    "                   #r\"\" \n",
    "                   r\"${}={} \\to k = {} $\".format(latex(parse_latex(e[0]).subs(x,e[1])),latex(e[2]),solve(parse_latex(e[0]).subs(x,e[1])-e[2],k)[0])\n",
    "                  ) \n",
    "for e in ejercicios]\n"
   ]
  },
  {
   "cell_type": "code",
   "execution_count": 37,
   "metadata": {},
   "outputs": [
    {
     "data": {
      "image/png": "[encoded data removed]",
      "text/latex": [
       "$\\displaystyle \\left(x + 2\\right) \\left(2 x - 1\\right) \\left(3 x + 2\\right)$"
      ],
      "text/plain": [
       "(x + 2)⋅(2⋅x - 1)⋅(3⋅x + 2)"
      ]
     },
     "execution_count": 37,
     "metadata": {},
     "output_type": "execute_result"
    }
   ],
   "source": [
    "factor(6*x**3+13*x**2-4)"
   ]
  },
  {
   "cell_type": "code",
   "execution_count": 11,
   "metadata": {},
   "outputs": [
    {
     "data": {
      "text/markdown": [
       "## Resuelve las siguientes ecuaciones:"
      ],
      "text/plain": [
       "<IPython.core.display.Markdown object>"
      ]
     },
     "metadata": {},
     "output_type": "display_data"
    },
    {
     "data": {
      "text/markdown": [
       "#### Ejercicio:"
      ],
      "text/plain": [
       "<IPython.core.display.Markdown object>"
      ]
     },
     "metadata": {},
     "output_type": "display_data"
    },
    {
     "data": {
      "text/markdown": [
       "$2x^4-6x^3+6x^2-2x=0$  $\\to$ $2x^4-6x^3+6x^2-2x=0 \\to 2 x \\left(x - 1\\right)^{3} = 0 \\to x=0, x=1$"
      ],
      "text/plain": [
       "<IPython.core.display.Markdown object>"
      ]
     },
     "metadata": {},
     "output_type": "display_data"
    },
    {
     "name": "stdout",
     "output_type": "stream",
     "text": [
      "enunciado_latex: $2x^4-6x^3+6x^2-2x=0$ \n",
      "solucion_latex: $2x^4-6x^3+6x^2-2x=0 \\to 2 x \\left(x - 1\\right)^{3} = 0 \\to x=0, x=1$\n"
     ]
    },
    {
     "data": {
      "text/markdown": [
       "#### Ejercicio:"
      ],
      "text/plain": [
       "<IPython.core.display.Markdown object>"
      ]
     },
     "metadata": {},
     "output_type": "display_data"
    },
    {
     "data": {
      "text/markdown": [
       "$6x^3-12x^2+6x=0$  $\\to$ $6x^3-12x^2+6x=0 \\to 6 x \\left(x - 1\\right)^{2} = 0 \\to x=0, x=1$"
      ],
      "text/plain": [
       "<IPython.core.display.Markdown object>"
      ]
     },
     "metadata": {},
     "output_type": "display_data"
    },
    {
     "name": "stdout",
     "output_type": "stream",
     "text": [
      "enunciado_latex: $6x^3-12x^2+6x=0$ \n",
      "solucion_latex: $6x^3-12x^2+6x=0 \\to 6 x \\left(x - 1\\right)^{2} = 0 \\to x=0, x=1$\n"
     ]
    },
    {
     "data": {
      "text/plain": [
       "[('$2x^4-6x^3+6x^2-2x=0$ ',\n",
       "  '$2x^4-6x^3+6x^2-2x=0 \\\\to 2 x \\\\left(x - 1\\\\right)^{3} = 0 \\\\to x=0, x=1$'),\n",
       " ('$6x^3-12x^2+6x=0$ ',\n",
       "  '$6x^3-12x^2+6x=0 \\\\to 6 x \\\\left(x - 1\\\\right)^{2} = 0 \\\\to x=0, x=1$')]"
      ]
     },
     "execution_count": 11,
     "metadata": {},
     "output_type": "execute_result"
    }
   ],
   "source": [
    "# Resuelve las siguientes ecuaciones:\n",
    "\n",
    "ejercicios = [\n",
    "              r'2x^4-6x^3+6x^2-2x=0',\n",
    "              r'6x^3-12x^2+6x=0',\n",
    "            ]\n",
    "\n",
    "display(md(\"## Resuelve las siguientes ecuaciones:\"))\n",
    "\n",
    "[mostrar_ejercicio(r\"${}$ \".format(e), \n",
    "                   r\"${} \\to {} \\to x=\".format(e,latex(factor(parse_latex(e))))\n",
    "                   +r\", x=\".join(map(latex,solve(parse_latex(e))))+r\"$\"\n",
    "                  )\n",
    "for e in ejercicios]\n"
   ]
  },
  {
   "cell_type": "code",
   "execution_count": 12,
   "metadata": {},
   "outputs": [
    {
     "data": {
      "text/markdown": [
       "## Resuelve las siguientes ecuaciones con fracciones algebraicas:"
      ],
      "text/plain": [
       "<IPython.core.display.Markdown object>"
      ]
     },
     "metadata": {},
     "output_type": "display_data"
    },
    {
     "data": {
      "text/markdown": [
       "#### Ejercicio:"
      ],
      "text/plain": [
       "<IPython.core.display.Markdown object>"
      ]
     },
     "metadata": {},
     "output_type": "display_data"
    },
    {
     "data": {
      "text/markdown": [
       "$\\frac{2x}{x+1}-\\frac{1}{x}=\\frac{5}{6}$  $\\to$ $\\frac{2x}{x+1}-\\frac{1}{x}=\\frac{5}{6} \\to \\frac{2 x^{2} - x - 1}{x \\left(x + 1\\right)} = \\frac{5}{6}  \\to \\frac{6}{x \\left(x + 1\\right)} = \\frac{5}{2 x^{2} - x - 1}  \\to \\frac{6}{x \\left(x + 1\\right)} = \\frac{5}{\\left(x - 1\\right) \\left(2 x + 1\\right)}  \\to \\frac{6}{x^{2} + x} = \\frac{5}{2 x^{2} - x - 1}  \\to 6 \\left(2 x^{2} - x - 1\\right) = 5 \\left(x^{2} + x\\right)  \\to - 5 \\left(x^{2} + x\\right) + 6 \\left(2 x^{2} - x - 1\\right) = 0  \\to 7 x^{2} - 11 x - 6 = 0 \\to x=- \\frac{3}{7}, x=2$"
      ],
      "text/plain": [
       "<IPython.core.display.Markdown object>"
      ]
     },
     "metadata": {},
     "output_type": "display_data"
    },
    {
     "name": "stdout",
     "output_type": "stream",
     "text": [
      "enunciado_latex: $\\frac{2x}{x+1}-\\frac{1}{x}=\\frac{5}{6}$ \n",
      "solucion_latex: $\\frac{2x}{x+1}-\\frac{1}{x}=\\frac{5}{6} \\to \\frac{2 x^{2} - x - 1}{x \\left(x + 1\\right)} = \\frac{5}{6}  \\to \\frac{6}{x \\left(x + 1\\right)} = \\frac{5}{2 x^{2} - x - 1}  \\to \\frac{6}{x \\left(x + 1\\right)} = \\frac{5}{\\left(x - 1\\right) \\left(2 x + 1\\right)}  \\to \\frac{6}{x^{2} + x} = \\frac{5}{2 x^{2} - x - 1}  \\to 6 \\left(2 x^{2} - x - 1\\right) = 5 \\left(x^{2} + x\\right)  \\to - 5 \\left(x^{2} + x\\right) + 6 \\left(2 x^{2} - x - 1\\right) = 0  \\to 7 x^{2} - 11 x - 6 = 0 \\to x=- \\frac{3}{7}, x=2$\n"
     ]
    },
    {
     "data": {
      "text/markdown": [
       "#### Ejercicio:"
      ],
      "text/plain": [
       "<IPython.core.display.Markdown object>"
      ]
     },
     "metadata": {},
     "output_type": "display_data"
    },
    {
     "data": {
      "text/markdown": [
       "$\\frac{6x+1}{x^2-4}-\\frac{x}{x-2}=\\frac{x+1}{x+2}$  $\\to$ $\\frac{6x+1}{x^2-4}-\\frac{x}{x-2}=\\frac{x+1}{x+2} \\to \\frac{x + 1}{x + 2} = \\frac{- x^{2} + 4 x + 1}{x^{2} - 4}  \\to \\frac{x^{2} - 4}{x + 2} = \\frac{- x^{2} + 4 x + 1}{x + 1}  \\to x - 2 = - \\frac{x^{2} - 4 x - 1}{x + 1}  \\to x - 2 = - \\frac{x^{2} - 4 x - 1}{x + 1}  \\to \\left(x - 2\\right) \\left(x + 1\\right) = \\left(- x^{2} + 4 x + 1\\right) 1  \\to \\left(x - 2\\right) \\left(x + 1\\right) - \\left(- x^{2} + 4 x + 1\\right) 1 = 0  \\to 2 x^{2} - 5 x - 3 = 0 \\to x=- \\frac{1}{2}, x=3$"
      ],
      "text/plain": [
       "<IPython.core.display.Markdown object>"
      ]
     },
     "metadata": {},
     "output_type": "display_data"
    },
    {
     "name": "stdout",
     "output_type": "stream",
     "text": [
      "enunciado_latex: $\\frac{6x+1}{x^2-4}-\\frac{x}{x-2}=\\frac{x+1}{x+2}$ \n",
      "solucion_latex: $\\frac{6x+1}{x^2-4}-\\frac{x}{x-2}=\\frac{x+1}{x+2} \\to \\frac{x + 1}{x + 2} = \\frac{- x^{2} + 4 x + 1}{x^{2} - 4}  \\to \\frac{x^{2} - 4}{x + 2} = \\frac{- x^{2} + 4 x + 1}{x + 1}  \\to x - 2 = - \\frac{x^{2} - 4 x - 1}{x + 1}  \\to x - 2 = - \\frac{x^{2} - 4 x - 1}{x + 1}  \\to \\left(x - 2\\right) \\left(x + 1\\right) = \\left(- x^{2} + 4 x + 1\\right) 1  \\to \\left(x - 2\\right) \\left(x + 1\\right) - \\left(- x^{2} + 4 x + 1\\right) 1 = 0  \\to 2 x^{2} - 5 x - 3 = 0 \\to x=- \\frac{1}{2}, x=3$\n"
     ]
    },
    {
     "data": {
      "text/markdown": [
       "#### Ejercicio:"
      ],
      "text/plain": [
       "<IPython.core.display.Markdown object>"
      ]
     },
     "metadata": {},
     "output_type": "display_data"
    },
    {
     "data": {
      "text/markdown": [
       "$\\frac{{x + 1}}{{x - 1}} - \\frac{1}{x}=\\frac{5}{2}$  $\\to$ $\\frac{{x + 1}}{{x - 1}} - \\frac{1}{x}=\\frac{5}{2} \\to \\frac{x^{2} + 1}{x \\left(x - 1\\right)} = \\frac{5}{2}  \\to \\frac{2}{x \\left(x - 1\\right)} = \\frac{5}{x^{2} + 1}  \\to \\frac{2}{x \\left(x - 1\\right)} = \\frac{5}{x^{2} + 1}  \\to \\frac{2}{x^{2} - x} = \\frac{5}{x^{2} + 1}  \\to 2 \\left(x^{2} + 1\\right) = 5 \\left(x^{2} - x\\right)  \\to 2 \\left(x^{2} + 1\\right) - 5 \\left(x^{2} - x\\right) = 0  \\to - 3 x^{2} + 5 x + 2 = 0 \\to x=- \\frac{1}{3}, x=2$"
      ],
      "text/plain": [
       "<IPython.core.display.Markdown object>"
      ]
     },
     "metadata": {},
     "output_type": "display_data"
    },
    {
     "name": "stdout",
     "output_type": "stream",
     "text": [
      "enunciado_latex: $\\frac{{x + 1}}{{x - 1}} - \\frac{1}{x}=\\frac{5}{2}$ \n",
      "solucion_latex: $\\frac{{x + 1}}{{x - 1}} - \\frac{1}{x}=\\frac{5}{2} \\to \\frac{x^{2} + 1}{x \\left(x - 1\\right)} = \\frac{5}{2}  \\to \\frac{2}{x \\left(x - 1\\right)} = \\frac{5}{x^{2} + 1}  \\to \\frac{2}{x \\left(x - 1\\right)} = \\frac{5}{x^{2} + 1}  \\to \\frac{2}{x^{2} - x} = \\frac{5}{x^{2} + 1}  \\to 2 \\left(x^{2} + 1\\right) = 5 \\left(x^{2} - x\\right)  \\to 2 \\left(x^{2} + 1\\right) - 5 \\left(x^{2} - x\\right) = 0  \\to - 3 x^{2} + 5 x + 2 = 0 \\to x=- \\frac{1}{3}, x=2$\n"
     ]
    },
    {
     "data": {
      "text/markdown": [
       "#### Ejercicio:"
      ],
      "text/plain": [
       "<IPython.core.display.Markdown object>"
      ]
     },
     "metadata": {},
     "output_type": "display_data"
    },
    {
     "data": {
      "text/markdown": [
       "$\\frac{{3x + 2}}{{x - 1}} - \\frac{2}{{x + 1}}=5$  $\\to$ $\\frac{{3x + 2}}{{x - 1}} - \\frac{2}{{x + 1}}=5 \\to \\frac{3 x^{2} + 3 x + 4}{x^{2} - 1} = 5  \\to \\frac{1}{x^{2} - 1} = \\frac{5}{3 x^{2} + 3 x + 4}  \\to \\frac{1}{\\left(x - 1\\right) \\left(x + 1\\right)} = \\frac{5}{3 x^{2} + 3 x + 4}  \\to \\frac{1}{x^{2} - 1} = \\frac{5}{3 x^{2} + 3 x + 4}  \\to 3 x^{2} + 3 x + 4 = 5 \\left(x^{2} - 1\\right)  \\to - 5 \\left(x^{2} - 1\\right) + 3 x^{2} + 3 x + 4 = 0  \\to - 2 x^{2} + 3 x + 9 = 0 \\to x=- \\frac{3}{2}, x=3$"
      ],
      "text/plain": [
       "<IPython.core.display.Markdown object>"
      ]
     },
     "metadata": {},
     "output_type": "display_data"
    },
    {
     "name": "stdout",
     "output_type": "stream",
     "text": [
      "enunciado_latex: $\\frac{{3x + 2}}{{x - 1}} - \\frac{2}{{x + 1}}=5$ \n",
      "solucion_latex: $\\frac{{3x + 2}}{{x - 1}} - \\frac{2}{{x + 1}}=5 \\to \\frac{3 x^{2} + 3 x + 4}{x^{2} - 1} = 5  \\to \\frac{1}{x^{2} - 1} = \\frac{5}{3 x^{2} + 3 x + 4}  \\to \\frac{1}{\\left(x - 1\\right) \\left(x + 1\\right)} = \\frac{5}{3 x^{2} + 3 x + 4}  \\to \\frac{1}{x^{2} - 1} = \\frac{5}{3 x^{2} + 3 x + 4}  \\to 3 x^{2} + 3 x + 4 = 5 \\left(x^{2} - 1\\right)  \\to - 5 \\left(x^{2} - 1\\right) + 3 x^{2} + 3 x + 4 = 0  \\to - 2 x^{2} + 3 x + 9 = 0 \\to x=- \\frac{3}{2}, x=3$\n"
     ]
    },
    {
     "data": {
      "text/markdown": [
       "#### Ejercicio:"
      ],
      "text/plain": [
       "<IPython.core.display.Markdown object>"
      ]
     },
     "metadata": {},
     "output_type": "display_data"
    },
    {
     "data": {
      "text/markdown": [
       "$1 - \\frac{x}{{x + 4}}= \\frac{1}{{x - 5}}$  $\\to$ $1 - \\frac{x}{{x + 4}}= \\frac{1}{{x - 5}} \\to \\frac{1}{x - 5} = \\frac{4}{x + 4}  \\to \\frac{x + 4}{x - 5} = 4  \\to \\frac{x + 4}{x - 5} = 4  \\to \\frac{x + 4}{x - 5} = 4  \\to \\left(x + 4\\right) 1 = 4 \\left(x - 5\\right)  \\to \\left(x + 4\\right) 1 - 4 \\left(x - 5\\right) = 0  \\to 24 - 3 x = 0 \\to x=8$"
      ],
      "text/plain": [
       "<IPython.core.display.Markdown object>"
      ]
     },
     "metadata": {},
     "output_type": "display_data"
    },
    {
     "name": "stdout",
     "output_type": "stream",
     "text": [
      "enunciado_latex: $1 - \\frac{x}{{x + 4}}= \\frac{1}{{x - 5}}$ \n",
      "solucion_latex: $1 - \\frac{x}{{x + 4}}= \\frac{1}{{x - 5}} \\to \\frac{1}{x - 5} = \\frac{4}{x + 4}  \\to \\frac{x + 4}{x - 5} = 4  \\to \\frac{x + 4}{x - 5} = 4  \\to \\frac{x + 4}{x - 5} = 4  \\to \\left(x + 4\\right) 1 = 4 \\left(x - 5\\right)  \\to \\left(x + 4\\right) 1 - 4 \\left(x - 5\\right) = 0  \\to 24 - 3 x = 0 \\to x=8$\n"
     ]
    },
    {
     "data": {
      "text/markdown": [
       "#### Ejercicio:"
      ],
      "text/plain": [
       "<IPython.core.display.Markdown object>"
      ]
     },
     "metadata": {},
     "output_type": "display_data"
    },
    {
     "data": {
      "text/markdown": [
       "$\\frac{{x - 3}}{{x + 3}} + \\frac{{x + 3}}{{x - 3}}=\\frac{{x - 2}}{{x + 3}}$  $\\to$ $\\frac{{x - 3}}{{x + 3}} + \\frac{{x + 3}}{{x - 3}}=\\frac{{x - 2}}{{x + 3}} \\to \\frac{x - 2}{x + 3} = \\frac{2 \\left(x^{2} + 9\\right)}{x^{2} - 9}  \\to \\frac{x^{2} - 9}{x + 3} = \\frac{2 x^{2} + 18}{x - 2}  \\to x - 3 = \\frac{2 \\left(x^{2} + 9\\right)}{x - 2}  \\to x - 3 = \\frac{2 x^{2} + 18}{x - 2}  \\to \\left(x - 3\\right) \\left(x - 2\\right) = \\left(2 x^{2} + 18\\right) 1  \\to \\left(x - 3\\right) \\left(x - 2\\right) - \\left(2 x^{2} + 18\\right) 1 = 0  \\to - x^{2} - 5 x - 12 = 0 \\to x=- \\frac{5}{2} - \\frac{\\sqrt{23} i}{2}, x=- \\frac{5}{2} + \\frac{\\sqrt{23} i}{2}$"
      ],
      "text/plain": [
       "<IPython.core.display.Markdown object>"
      ]
     },
     "metadata": {},
     "output_type": "display_data"
    },
    {
     "name": "stdout",
     "output_type": "stream",
     "text": [
      "enunciado_latex: $\\frac{{x - 3}}{{x + 3}} + \\frac{{x + 3}}{{x - 3}}=\\frac{{x - 2}}{{x + 3}}$ \n",
      "solucion_latex: $\\frac{{x - 3}}{{x + 3}} + \\frac{{x + 3}}{{x - 3}}=\\frac{{x - 2}}{{x + 3}} \\to \\frac{x - 2}{x + 3} = \\frac{2 \\left(x^{2} + 9\\right)}{x^{2} - 9}  \\to \\frac{x^{2} - 9}{x + 3} = \\frac{2 x^{2} + 18}{x - 2}  \\to x - 3 = \\frac{2 \\left(x^{2} + 9\\right)}{x - 2}  \\to x - 3 = \\frac{2 x^{2} + 18}{x - 2}  \\to \\left(x - 3\\right) \\left(x - 2\\right) = \\left(2 x^{2} + 18\\right) 1  \\to \\left(x - 3\\right) \\left(x - 2\\right) - \\left(2 x^{2} + 18\\right) 1 = 0  \\to - x^{2} - 5 x - 12 = 0 \\to x=- \\frac{5}{2} - \\frac{\\sqrt{23} i}{2}, x=- \\frac{5}{2} + \\frac{\\sqrt{23} i}{2}$\n"
     ]
    }
   ],
   "source": [
    "# Resuelve las siguientes ecuaciones:\n",
    "\n",
    "ejercicios = [r'\\frac{2x}{x+1}-\\frac{1}{x}=\\frac{5}{6}',\n",
    "              r'\\frac{6x+1}{x^2-4}-\\frac{x}{x-2}=\\frac{x+1}{x+2}',\n",
    "              r'\\frac{{x + 1}}{{x - 1}} - \\frac{1}{x}=\\frac{5}{2}',\n",
    "              r'\\frac{{3x + 2}}{{x - 1}} - \\frac{2}{{x + 1}}=5',\n",
    "              r'1 - \\frac{x}{{x + 4}}= \\frac{1}{{x - 5}}',\n",
    "              r'\\frac{{x - 3}}{{x + 3}} + \\frac{{x + 3}}{{x - 3}}=\\frac{{x - 2}}{{x + 3}}'\n",
    "             ]\n",
    "\n",
    "display(md(\"## Resuelve las siguientes ecuaciones con fracciones algebraicas:\"))\n",
    "\n",
    "\n",
    "for e in ejercicios :\n",
    "    enunciado = r\"${}$ \".format(e)\n",
    "    ec = simplify(parse_latex(e))\n",
    "    solucion = r\"${} \\to {} \".format(e,latex(ec))\n",
    "    izq=ec.args[1].as_numer_denom()[1]/ec.args[0].as_numer_denom()[1]\n",
    "    der=ec.args[1].as_numer_denom()[0]/ec.args[0].as_numer_denom()[0]\n",
    "    #display(izq, der)\n",
    "    solucion += r\" \\to {} = {} \".format(latex(izq),latex(der))\n",
    "    izq=factor(izq)\n",
    "    der=factor(der)\n",
    "    #display(izq, der, izq.as_numer_denom(), der.as_numer_denom())\n",
    "    solucion += r\" \\to {} = {} \".format(latex(izq),latex(der))\n",
    "    izq=cancel(izq)\n",
    "    der=cancel(der)\n",
    "    #display(izq, der, izq.as_numer_denom(), der.as_numer_denom())\n",
    "    solucion += r\" \\to {} = {} \".format(latex(izq),latex(der))\n",
    "    iz=izq\n",
    "    izq=izq.as_numer_denom()[0]*UnevaluatedExpr(der.as_numer_denom()[1])\n",
    "    der=der.as_numer_denom()[0]*UnevaluatedExpr(iz.as_numer_denom()[1])\n",
    "    #display(izq, der)\n",
    "    solucion += r\" \\to {} = {} \".format(latex(izq),latex(der))\n",
    "    solucion += r\" \\to {} = {} \".format(latex(izq-der),latex(0))\n",
    "    solucion += r\" \\to {} = {} \".format(latex(simplify(izq-der)),latex(0))\n",
    "    #solucion += r\" \\to {}\".format(solve(simplify(izq-der)))\n",
    "    solucion += r\"\\to x=\" + r\", x=\".join(map(latex,solve(parse_latex(e))))\n",
    "\n",
    "    #display((parse_latex(e), cancel(parse_latex(e).args[0]),cancel(parse_latex(e).args[1]),            cancel(cancel(parse_latex(e).args[0]).as_numer_denom()[0]/cancel(parse_latex(e).args[1]).as_numer_denom()[0]),cancel(cancel(parse_latex(e).args[0]).as_numer_denom()[1]/cancel(parse_latex(e).args[1]).as_numer_denom()[1]),      )\n",
    "    solucion += r\"$\"\n",
    "    mostrar_ejercicio(enunciado,solucion)\n",
    "\n"
   ]
  },
  {
   "cell_type": "code",
   "execution_count": 13,
   "metadata": {},
   "outputs": [
    {
     "data": {
      "text/markdown": [
       "## Resuelve las siguientes ecuaciones polinómicas:"
      ],
      "text/plain": [
       "<IPython.core.display.Markdown object>"
      ]
     },
     "metadata": {},
     "output_type": "display_data"
    },
    {
     "data": {
      "text/markdown": [
       "#### Ejercicio:"
      ],
      "text/plain": [
       "<IPython.core.display.Markdown object>"
      ]
     },
     "metadata": {},
     "output_type": "display_data"
    },
    {
     "data": {
      "text/markdown": [
       "$2x^4-6x^3+6x^2-2x=0$  $\\to$ $2x^4-6x^3+6x^2-2x=0 \\to 2 x \\left(x - 1\\right)^{3} = 0 \\to x=0, x=1$"
      ],
      "text/plain": [
       "<IPython.core.display.Markdown object>"
      ]
     },
     "metadata": {},
     "output_type": "display_data"
    },
    {
     "name": "stdout",
     "output_type": "stream",
     "text": [
      "enunciado_latex: $2x^4-6x^3+6x^2-2x=0$ \n",
      "solucion_latex: $2x^4-6x^3+6x^2-2x=0 \\to 2 x \\left(x - 1\\right)^{3} = 0 \\to x=0, x=1$\n"
     ]
    },
    {
     "data": {
      "text/markdown": [
       "#### Ejercicio:"
      ],
      "text/plain": [
       "<IPython.core.display.Markdown object>"
      ]
     },
     "metadata": {},
     "output_type": "display_data"
    },
    {
     "data": {
      "text/markdown": [
       "$6x^3-12x^2+6x=0$  $\\to$ $6x^3-12x^2+6x=0 \\to 6 x \\left(x - 1\\right)^{2} = 0 \\to x=0, x=1$"
      ],
      "text/plain": [
       "<IPython.core.display.Markdown object>"
      ]
     },
     "metadata": {},
     "output_type": "display_data"
    },
    {
     "name": "stdout",
     "output_type": "stream",
     "text": [
      "enunciado_latex: $6x^3-12x^2+6x=0$ \n",
      "solucion_latex: $6x^3-12x^2+6x=0 \\to 6 x \\left(x - 1\\right)^{2} = 0 \\to x=0, x=1$\n"
     ]
    },
    {
     "data": {
      "text/plain": [
       "[('$2x^4-6x^3+6x^2-2x=0$ ',\n",
       "  '$2x^4-6x^3+6x^2-2x=0 \\\\to 2 x \\\\left(x - 1\\\\right)^{3} = 0 \\\\to x=0, x=1$'),\n",
       " ('$6x^3-12x^2+6x=0$ ',\n",
       "  '$6x^3-12x^2+6x=0 \\\\to 6 x \\\\left(x - 1\\\\right)^{2} = 0 \\\\to x=0, x=1$')]"
      ]
     },
     "execution_count": 13,
     "metadata": {},
     "output_type": "execute_result"
    }
   ],
   "source": [
    "# Resuelve las siguientes ecuaciones polinómicas:\n",
    "\n",
    "ejercicios = [\n",
    "              r'2x^4-6x^3+6x^2-2x=0',\n",
    "              r'6x^3-12x^2+6x=0',\n",
    "]\n",
    "\n",
    "display(md(\"## Resuelve las siguientes ecuaciones polinómicas:\"))\n",
    " \n",
    "    \n",
    "\n",
    "[mostrar_ejercicio(r\"${}$ \".format(e), \n",
    "                   r\"${} \\to {}\".format(e, latex(factor(parse_latex(e))))\n",
    "                   +r\" \\to x=\"+r\", x=\".join(map(latex,solve(parse_latex(e))))+r\"$\"\n",
    "                  )\n",
    "for e in ejercicios]\n"
   ]
  },
  {
   "cell_type": "code",
   "execution_count": 14,
   "metadata": {},
   "outputs": [
    {
     "data": {
      "text/markdown": [
       "## Resuelve las siguientes ecuaciones irracionales:"
      ],
      "text/plain": [
       "<IPython.core.display.Markdown object>"
      ]
     },
     "metadata": {},
     "output_type": "display_data"
    },
    {
     "data": {
      "text/markdown": [
       "#### Ejercicio:"
      ],
      "text/plain": [
       "<IPython.core.display.Markdown object>"
      ]
     },
     "metadata": {},
     "output_type": "display_data"
    },
    {
     "data": {
      "text/markdown": [
       "$\\sqrt{x+1}+5=x$  $\\to$ $\\sqrt{x+1}+5=x \\to \\sqrt{x + 1} = x - 5 \\to x + 1 = \\left(x - 5\\right)^{2} \\to - x^{2} + 11 x - 24 = 0 \\to x=8$"
      ],
      "text/plain": [
       "<IPython.core.display.Markdown object>"
      ]
     },
     "metadata": {},
     "output_type": "display_data"
    },
    {
     "name": "stdout",
     "output_type": "stream",
     "text": [
      "enunciado_latex: $\\sqrt{x+1}+5=x$ \n",
      "solucion_latex: $\\sqrt{x+1}+5=x \\to \\sqrt{x + 1} = x - 5 \\to x + 1 = \\left(x - 5\\right)^{2} \\to - x^{2} + 11 x - 24 = 0 \\to x=8$\n"
     ]
    },
    {
     "data": {
      "text/markdown": [
       "#### Ejercicio:"
      ],
      "text/plain": [
       "<IPython.core.display.Markdown object>"
      ]
     },
     "metadata": {},
     "output_type": "display_data"
    },
    {
     "data": {
      "text/markdown": [
       "$\\sqrt{3x-2}+\\sqrt{x-1}=3$  $\\to$ $\\sqrt{3x-2}+\\sqrt{x-1}=3 \\to \\sqrt{3 x - 2} = 3 - \\sqrt{x - 1} \\to 3 x - 2 = \\left(3 - \\sqrt{x - 1}\\right)^{2} \\to 2 x + 6 \\sqrt{x - 1} - 10 = 0 \\to x=2$"
      ],
      "text/plain": [
       "<IPython.core.display.Markdown object>"
      ]
     },
     "metadata": {},
     "output_type": "display_data"
    },
    {
     "name": "stdout",
     "output_type": "stream",
     "text": [
      "enunciado_latex: $\\sqrt{3x-2}+\\sqrt{x-1}=3$ \n",
      "solucion_latex: $\\sqrt{3x-2}+\\sqrt{x-1}=3 \\to \\sqrt{3 x - 2} = 3 - \\sqrt{x - 1} \\to 3 x - 2 = \\left(3 - \\sqrt{x - 1}\\right)^{2} \\to 2 x + 6 \\sqrt{x - 1} - 10 = 0 \\to x=2$\n"
     ]
    }
   ],
   "source": [
    "# Resuelve las siguientes ecuaciones irracionales: (solo tiene que tener un radical y ser el primero a la izquierda)\n",
    "\n",
    "ejercicios = [\n",
    "              r'\\sqrt{x+1}+5=x',\n",
    "              r'\\sqrt{3x-2}+\\sqrt{x-1}=3'\n",
    "            ]\n",
    "\n",
    "display(md(\"## Resuelve las siguientes ecuaciones irracionales:\"))\n",
    "\n",
    "for e in ejercicios :\n",
    "    enunciado = r\"${}$ \".format(e)\n",
    "    ec = parse_latex(e)\n",
    "    solucion = r\"${} \\to {}\".format(e, manipular_ec_irracional(ec)[0])\n",
    "    solucion += r\" \\to x=\"+r\", x=\".join(map(latex,solve(parse_latex(e))))+r\"$\"\n",
    "    \n",
    "    mostrar_ejercicio(enunciado, solucion)\n",
    "    \n",
    "    \n",
    "# [mostrar_ejercicio(r\"${}$ \".format(e), \n",
    "#                    r\"${} \\to {}\".format(e, latex(factor(parse_latex(e))))\n",
    "#                    r\"x=\"+r\", x=\".join(map(latex,solve(parse_latex(e))))+r\"$\"\n",
    "#                   )\n",
    "# for e in ejercicios]\n"
   ]
  },
  {
   "cell_type": "code",
   "execution_count": 15,
   "metadata": {},
   "outputs": [
    {
     "data": {
      "image/png": "[encoded data removed]",
      "text/latex": [
       "$\\displaystyle \\left[ 2 x + 6 \\sqrt{x - 1}, \\  -10\\right]$"
      ],
      "text/plain": [
       "⎡          _______     ⎤\n",
       "⎣2⋅x + 6⋅╲╱ x - 1 , -10⎦"
      ]
     },
     "execution_count": 15,
     "metadata": {},
     "output_type": "execute_result"
    }
   ],
   "source": [
    "expr = sqrt(x-1)\n",
    "expr.is_rational\n",
    "\n",
    "#ec=parse_latex(r'5+\\sqrt{x+1}=x')\n",
    "ec = parse_latex(r'2 x + 6 \\sqrt{x - 1}-10 = 0')\n",
    "\n",
    "#[i for i in enumerate(x for x in ec.args[0].args if not(x.is_rational_function()))]\n",
    "#[i for i in enumerate(x for x in ec.args[0].args)]  \n",
    "[i for i in ec.args[0].args]   "
   ]
  },
  {
   "cell_type": "code",
   "execution_count": 16,
   "metadata": {},
   "outputs": [
    {
     "data": {
      "text/plain": [
       "True"
      ]
     },
     "execution_count": 16,
     "metadata": {},
     "output_type": "execute_result"
    }
   ],
   "source": [
    "expr = 2*x\n",
    "expr.is_rational_function()"
   ]
  },
  {
   "cell_type": "code",
   "execution_count": 17,
   "metadata": {},
   "outputs": [
    {
     "data": {
      "text/plain": [
       "'\\\\sqrt{x + 1} = x - 5 \\\\to x + 1 = \\\\left(x - 5\\\\right)^{2} \\\\to - x^{2} + 11 x - 24 = 0'"
      ]
     },
     "execution_count": 17,
     "metadata": {},
     "output_type": "execute_result"
    }
   ],
   "source": [
    "ec=parse_latex(r'\\sqrt{x+1}+5=x')\n",
    "\n",
    "def manipular_ec_irracional(ec) :\n",
    "    # Aisla el primer argumento del miembro de la izquierda y eleva todo al cuadrado\n",
    "    transformaciones = [#ec,\n",
    "                        Eq(ec.args[0].args[0],ec.args[1]-(ec.args[0]-ec.args[0].args[0])), \n",
    "                        Eq(ec.args[0].args[0]**2,(ec.args[1]-(ec.args[0]-ec.args[0].args[0]))**2), \n",
    "                        Eq(expand(ec.args[0].args[0]**2-(ec.args[1]-(ec.args[0]-ec.args[0].args[0]))**2),0)]\n",
    "\n",
    "    return r\" \\to \".join(map(latex,transformaciones)), transformaciones[-1]\n",
    "\n",
    "manipular_ec_irracional(ec)[0]"
   ]
  },
  {
   "cell_type": "code",
   "execution_count": 18,
   "metadata": {},
   "outputs": [
    {
     "data": {
      "text/markdown": [
       "## Resuelve las siguientes ecuaciones:"
      ],
      "text/plain": [
       "<IPython.core.display.Markdown object>"
      ]
     },
     "metadata": {},
     "output_type": "display_data"
    },
    {
     "data": {
      "text/markdown": [
       "#### Ejercicio:"
      ],
      "text/plain": [
       "<IPython.core.display.Markdown object>"
      ]
     },
     "metadata": {},
     "output_type": "display_data"
    },
    {
     "data": {
      "text/markdown": [
       "$\\sqrt{x+1}+5=x$  $\\to$ x=8$"
      ],
      "text/plain": [
       "<IPython.core.display.Markdown object>"
      ]
     },
     "metadata": {},
     "output_type": "display_data"
    },
    {
     "name": "stdout",
     "output_type": "stream",
     "text": [
      "enunciado_latex: $\\sqrt{x+1}+5=x$ \n",
      "solucion_latex: x=8$\n"
     ]
    },
    {
     "data": {
      "text/markdown": [
       "#### Ejercicio:"
      ],
      "text/plain": [
       "<IPython.core.display.Markdown object>"
      ]
     },
     "metadata": {},
     "output_type": "display_data"
    },
    {
     "data": {
      "text/markdown": [
       "$\\sqrt{3x-2}+\\sqrt{x-1}=3$  $\\to$ x=2$"
      ],
      "text/plain": [
       "<IPython.core.display.Markdown object>"
      ]
     },
     "metadata": {},
     "output_type": "display_data"
    },
    {
     "name": "stdout",
     "output_type": "stream",
     "text": [
      "enunciado_latex: $\\sqrt{3x-2}+\\sqrt{x-1}=3$ \n",
      "solucion_latex: x=2$\n"
     ]
    },
    {
     "data": {
      "text/plain": [
       "[('$\\\\sqrt{x+1}+5=x$ ', 'x=8$'), ('$\\\\sqrt{3x-2}+\\\\sqrt{x-1}=3$ ', 'x=2$')]"
      ]
     },
     "execution_count": 18,
     "metadata": {},
     "output_type": "execute_result"
    }
   ],
   "source": [
    "# Resuelve las siguientes ecuaciones:\n",
    "\n",
    "ejercicios = [\n",
    "              r'\\sqrt{x+1}+5=x',\n",
    "              r'\\sqrt{3x-2}+\\sqrt{x-1}=3'\n",
    "            ]\n",
    "\n",
    "display(md(\"## Resuelve las siguientes ecuaciones:\"))\n",
    "\n",
    "[mostrar_ejercicio(r\"${}$ \".format(e), \n",
    "                   r\"x=\"+r\", x=\".join(map(latex,solve(parse_latex(e))))+r\"$\"\n",
    "                  )\n",
    "for e in ejercicios]\n"
   ]
  },
  {
   "cell_type": "code",
   "execution_count": 19,
   "metadata": {},
   "outputs": [
    {
     "data": {
      "text/markdown": [
       "## Resuelve las siguientes ecuaciones:"
      ],
      "text/plain": [
       "<IPython.core.display.Markdown object>"
      ]
     },
     "metadata": {},
     "output_type": "display_data"
    },
    {
     "data": {
      "text/markdown": [
       "#### Ejercicio:"
      ],
      "text/plain": [
       "<IPython.core.display.Markdown object>"
      ]
     },
     "metadata": {},
     "output_type": "display_data"
    },
    {
     "data": {
      "text/markdown": [
       "$2\\log x- \\log{\\left(3x-5\\right)}=\\log{5x} - 1$  $\\to$ $x=5$"
      ],
      "text/plain": [
       "<IPython.core.display.Markdown object>"
      ]
     },
     "metadata": {},
     "output_type": "display_data"
    },
    {
     "name": "stdout",
     "output_type": "stream",
     "text": [
      "enunciado_latex: $2\\log x- \\log{\\left(3x-5\\right)}=\\log{5x} - 1$ \n",
      "solucion_latex: $x=5$\n"
     ]
    },
    {
     "data": {
      "text/markdown": [
       "#### Ejercicio:"
      ],
      "text/plain": [
       "<IPython.core.display.Markdown object>"
      ]
     },
     "metadata": {},
     "output_type": "display_data"
    },
    {
     "data": {
      "text/markdown": [
       "$\\log {\\left(x-1\\right)}+ \\log{2}=\\log{\\left(x^2+3\\right)} - \\log x$  $\\to$ $x=3$"
      ],
      "text/plain": [
       "<IPython.core.display.Markdown object>"
      ]
     },
     "metadata": {},
     "output_type": "display_data"
    },
    {
     "name": "stdout",
     "output_type": "stream",
     "text": [
      "enunciado_latex: $\\log {\\left(x-1\\right)}+ \\log{2}=\\log{\\left(x^2+3\\right)} - \\log x$ \n",
      "solucion_latex: $x=3$\n"
     ]
    },
    {
     "data": {
      "text/markdown": [
       "#### Ejercicio:"
      ],
      "text/plain": [
       "<IPython.core.display.Markdown object>"
      ]
     },
     "metadata": {},
     "output_type": "display_data"
    },
    {
     "data": {
      "text/markdown": [
       "$\\left(x^2-5x+5\\right)\\log 5 + \\log{20}=\\log 4$  $\\to$ $x=2, x=3$"
      ],
      "text/plain": [
       "<IPython.core.display.Markdown object>"
      ]
     },
     "metadata": {},
     "output_type": "display_data"
    },
    {
     "name": "stdout",
     "output_type": "stream",
     "text": [
      "enunciado_latex: $\\left(x^2-5x+5\\right)\\log 5 + \\log{20}=\\log 4$ \n",
      "solucion_latex: $x=2, x=3$\n"
     ]
    },
    {
     "data": {
      "text/plain": [
       "[('$2\\\\log x- \\\\log{\\\\left(3x-5\\\\right)}=\\\\log{5x} - 1$ ', '$x=5$'),\n",
       " ('$\\\\log {\\\\left(x-1\\\\right)}+ \\\\log{2}=\\\\log{\\\\left(x^2+3\\\\right)} - \\\\log x$ ',\n",
       "  '$x=3$'),\n",
       " ('$\\\\left(x^2-5x+5\\\\right)\\\\log 5 + \\\\log{20}=\\\\log 4$ ', '$x=2, x=3$')]"
      ]
     },
     "execution_count": 19,
     "metadata": {},
     "output_type": "execute_result"
    }
   ],
   "source": [
    "# Resuelve las siguientes ecuaciones:\n",
    "\n",
    "ejercicios = [[r'2\\log x- \\log{\\left(3x-5\\right)}=\\log{5x} - 1', Eq(2*log(x,10)-log(3*x-5,10),log(5*x,10)-1)],\n",
    "              [r'\\log {\\left(x-1\\right)}+ \\log{2}=\\log{\\left(x^2+3\\right)} - \\log x',Eq(log(x-1,10)+log(2,10),log(x**2+3,10)-log(x,10))],\n",
    "              [r'\\left(x^2-5x+5\\right)\\log 5 + \\log{20}=\\log 4',Eq((x**2-5*x+5)*log(5,10)+log(20,10),log(4,10))]\n",
    "            ]\n",
    "\n",
    "display(md(\"## Resuelve las siguientes ecuaciones:\"))\n",
    "\n",
    "[mostrar_ejercicio(r\"${}$ \".format(e[0]), \n",
    "                   r\"$x=\"+r\", x=\".join(map(latex,solve(e[1])))+r\"$\"\n",
    "                  )\n",
    "for e in ejercicios]\n",
    "\n",
    "\n"
   ]
  }
 ],
 "metadata": {
  "colab": {
   "include_colab_link": true,
   "name": "12-Radicales.ipynb",
   "provenance": []
  },
  "kernelspec": {
   "display_name": "Python 3",
   "language": "python",
   "name": "python3"
  },
  "language_info": {
   "codemirror_mode": {
    "name": "ipython",
    "version": 3
   },
   "file_extension": ".py",
   "mimetype": "text/x-python",
   "name": "python",
   "nbconvert_exporter": "python",
   "pygments_lexer": "ipython3",
   "version": "3.7.1"
  }
 },
 "nbformat": 4,
 "nbformat_minor": 1
}
