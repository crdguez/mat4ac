{
 "cells": [
  {
   "cell_type": "markdown",
   "metadata": {
    "colab_type": "text",
    "id": "view-in-github"
   },
   "source": [
    "<a href=\"https://colab.research.google.com/github/crdguez/mat4ac/blob/master/notebooks/12-Radicales.ipynb\" target=\"_parent\"><img src=\"https://colab.research.google.com/assets/colab-badge.svg\" alt=\"Open In Colab\"/></a>"
   ]
  },
  {
   "cell_type": "code",
   "execution_count": 35,
   "metadata": {
    "colab": {
     "base_uri": "https://localhost:8080/",
     "height": 68
    },
    "id": "9X_4fdzd0gZQ",
    "outputId": "19d9a03d-f8df-4555-fd42-000b806eda13"
   },
   "outputs": [
    {
     "name": "stdout",
     "output_type": "stream",
     "text": [
      "Requirement already satisfied: sympy==1.3 in /usr/local/lib/python3.6/dist-packages (1.3)\n",
      "Requirement already satisfied: antlr4-python3-runtime==4.7.1 in /usr/local/lib/python3.6/dist-packages (4.7.1)\n",
      "Requirement already satisfied: mpmath>=0.19 in /usr/local/lib/python3.6/dist-packages (from sympy==1.3) (1.1.0)\n"
     ]
    }
   ],
   "source": [
    "# Ejecutar para que funcione el parse_latex en google colab\n",
    "\n",
    "!pip install sympy==1.3 antlr4-python3-runtime==4.7.1"
   ]
  },
  {
   "cell_type": "code",
   "execution_count": 1,
   "metadata": {
    "colab": {
     "base_uri": "https://localhost:8080/",
     "height": 221
    },
    "id": "xYDbOmkG0YbJ",
    "outputId": "bcff78d4-abee-405c-da80-f3067ea1e0dc"
   },
   "outputs": [
    {
     "name": "stdout",
     "output_type": "stream",
     "text": [
      "IPython console for SymPy 1.4 (Python 3.6.8-64-bit) (ground types: gmpy)\n",
      "\n",
      "These commands were executed:\n",
      ">>> from __future__ import division\n",
      ">>> from sympy import *\n",
      ">>> x, y, z, t = symbols('x y z t')\n",
      ">>> k, m, n = symbols('k m n', integer=True)\n",
      ">>> f, g, h = symbols('f g h', cls=Function)\n",
      ">>> init_printing()\n",
      "\n",
      "Documentation can be found at https://docs.sympy.org/1.4/\n",
      "\n"
     ]
    }
   ],
   "source": [
    "from sympy import init_session\n",
    "from sympy.parsing.latex import parse_latex\n",
    "from IPython.display import Markdown as md\n",
    "from IPython.display import display\n",
    "import numpy as np\n",
    "\n",
    "init_session()\n",
    "\n",
    "a, b, c, d = symbols('a b c d', real = True)"
   ]
  },
  {
   "cell_type": "code",
   "execution_count": 2,
   "metadata": {
    "id": "vPXI53QN0Ycw"
   },
   "outputs": [],
   "source": [
    "def mostrar_ejercicio(ejercicio,solucion,tipo=0) :\n",
    "    #tipo=0 se pasa el ejercicio y la solucion en formato latex\n",
    "    if tipo == 0 :\n",
    "        display(md(\"#### Ejercicio:\"))\n",
    "        display(md(r\"{} $\\to$ {}\".format(ejercicio, solucion)))\n",
    "        print(\"enunciado_latex: \" + ejercicio)\n",
    "        print(\"solucion_latex: \" + solucion)\n",
    "        return ejercicio, solucion\n",
    "    elif tipo == 1:\n",
    "        display(md(\"#### Ejercicio:\"))\n",
    "        display(md(r\"{} $\\to$ {}\".format(ejercicio, solucion)))\n",
    "        print(\"enunciado_latex: \" + ejercicio)\n",
    "        print(\"solucion_latex: \" + solucion)\n",
    "        return ejercicio, solucion\n",
    "\n",
    "        \n",
    "    "
   ]
  },
  {
   "cell_type": "code",
   "execution_count": 7,
   "metadata": {
    "colab": {
     "base_uri": "https://localhost:8080/",
     "height": 586
    },
    "id": "6aSd_z-t0YdR",
    "outputId": "98852a11-a236-43e1-ddf9-3b3f8a26662f"
   },
   "outputs": [
    {
     "data": {
      "text/markdown": [
       "## Teorema del resto:"
      ],
      "text/plain": [
       "<IPython.core.display.Markdown object>"
      ]
     },
     "metadata": {},
     "output_type": "display_data"
    },
    {
     "data": {
      "text/markdown": [
       "#### Ejercicio:"
      ],
      "text/plain": [
       "<IPython.core.display.Markdown object>"
      ]
     },
     "metadata": {},
     "output_type": "display_data"
    },
    {
     "data": {
      "text/markdown": [
       "Utilizando el teorema del resto para el polinomio $P (x) =- 2 x^{3} + x^{2} - 3 x - 6$ resuelve: \\\\ \n",
       "    Valor numérico para $x = -1$ \\\\ \n",
       "    ¿Es divisible P (x) por $x + 1$? \n",
       "    Justifica tu respuesta $\\to$ Si dividimos $P(x)=- 2 x^{3} + x^{2} - 3 x - 6$ entre $x + 1$ el resto da 0. \\\\ Por el teorema del resto, $P(-1)=0$. \\\\ Aplicando la propiedad fundamental de la división obtenemos que $P(x)=- 2 x^{3} + x^{2} - 3 x - 6=\\left(x + 1\\right)\\cdot\\left(- 2 x^{2} + 3 x - 6\\right)+0 \\to $ Sí es divisible."
      ],
      "text/plain": [
       "<IPython.core.display.Markdown object>"
      ]
     },
     "metadata": {},
     "output_type": "display_data"
    },
    {
     "name": "stdout",
     "output_type": "stream",
     "text": [
      "enunciado_latex: Utilizando el teorema del resto para el polinomio $P (x) =- 2 x^{3} + x^{2} - 3 x - 6$ resuelve: \\\\ \n",
      "    Valor numérico para $x = -1$ \\\\ \n",
      "    ¿Es divisible P (x) por $x + 1$? \n",
      "    Justifica tu respuesta\n",
      "solucion_latex: Si dividimos $P(x)=- 2 x^{3} + x^{2} - 3 x - 6$ entre $x + 1$ el resto da 0. \\\\ Por el teorema del resto, $P(-1)=0$. \\\\ Aplicando la propiedad fundamental de la división obtenemos que $P(x)=- 2 x^{3} + x^{2} - 3 x - 6=\\left(x + 1\\right)\\cdot\\left(- 2 x^{2} + 3 x - 6\\right)+0 \\to $ Sí es divisible.\n"
     ]
    }
   ],
   "source": [
    "# Teorema del resto\n",
    "\n",
    "ejercicios=[\n",
    "            # cociente, x-a, resto, el dividendo (polinomio del enunciado) lo calcula la celda\n",
    "            [-2*x**2+3*x-6,-1,0]\n",
    "           ]\n",
    "\n",
    "display(md(\"## Teorema del resto:\"))\n",
    "\n",
    "for e in ejercicios :\n",
    "    polinomio = expand(e[0]*S(\"x-\"+str(e[1]))+e[2]) # propiedad fundamental de la división\n",
    "    enunciado_latex = r\"\"\"Utilizando el teorema del resto para el polinomio $P (x) ={}$ resuelve: \\\\ \n",
    "    Valor numérico para $x = {}$ \\\\ \n",
    "    ¿Es divisible P (x) por ${}$? \n",
    "    Justifica tu respuesta\"\"\".format(latex(polinomio),e[1],S(\"x-\"+latex(e[1])))\n",
    "\n",
    "    solucion_latex = r\"Si dividimos $P(x)={}$ entre ${}$ \".format(latex(polinomio),S(r\"x-\"+str(e[1])))+r\"el resto da \"+latex(e[2])\n",
    "    solucion_latex += r\". \\\\ Por el teorema del resto, $P({})={}$\".format(e[1], polinomio.subs(x,e[1]))\n",
    "    solucion_latex += r\". \\\\ Aplicando la propiedad fundamental de la división obtenemos que $P(x)={}=\\left({}\\right)\\cdot\\left({}\\right)+{} \\to $ \".format(latex(polinomio), latex(S(r\"x-\"+str(e[1]))), latex(e[0]), latex(e[2]))\n",
    "    solucion_latex += \"Sí es divisible.\" if e[2]==0 else \"No es divisible,\"\n",
    "    #print(enunciado_latex)\n",
    "\n",
    "    mostrar_ejercicio(enunciado_latex, solucion_latex)  \n"
   ]
  },
  {
   "cell_type": "code",
   "execution_count": 14,
   "metadata": {},
   "outputs": [
    {
     "data": {
      "text/plain": [
       "['\\\\frac{2 x^{3} - 5 x^{2} + 3 x}{2 x^{3} - 5 x^{2} + 3 x}']"
      ]
     },
     "execution_count": 14,
     "metadata": {},
     "output_type": "execute_result"
    }
   ],
   "source": [
    "enunciados=[[x*(x-1)*(2*x-3),x**2*(x-1)]]\n",
    "\n",
    "ejercicios =[r\"\\frac{{{}}}{{{}}}\".format(latex(expand(i[0])),latex(expand(i[0]))) for i in enunciados] "
   ]
  },
  {
   "cell_type": "code",
   "execution_count": 4,
   "metadata": {
    "colab": {
     "base_uri": "https://localhost:8080/",
     "height": 483
    },
    "id": "cQtW0akV0YfG",
    "outputId": "600fcb80-c67d-493e-cb1b-4a8d2453fc11"
   },
   "outputs": [
    {
     "data": {
      "text/markdown": [
       "## Simplifica la siguiente fracción algebraica:"
      ],
      "text/plain": [
       "<IPython.core.display.Markdown object>"
      ]
     },
     "metadata": {},
     "output_type": "display_data"
    },
    {
     "data": {
      "text/markdown": [
       "#### Ejercicio:"
      ],
      "text/plain": [
       "<IPython.core.display.Markdown object>"
      ]
     },
     "metadata": {},
     "output_type": "display_data"
    },
    {
     "data": {
      "text/markdown": [
       "$\\frac{2 x^{3} - 5 x^{2} + 3 x}{x^{3} - x^{2}}$ $\\to$ $\\frac{2 x^{3} - 5 x^{2} + 3 x}{x^{3} - x^{2}}=\\frac{x \\left(x - 1\\right) \\left(2 x - 3\\right)}{x^{2} \\left(x - 1\\right)}=\\frac{2 x - 3}{x}$"
      ],
      "text/plain": [
       "<IPython.core.display.Markdown object>"
      ]
     },
     "metadata": {},
     "output_type": "display_data"
    },
    {
     "name": "stdout",
     "output_type": "stream",
     "text": [
      "enunciado_latex: $\\frac{2 x^{3} - 5 x^{2} + 3 x}{x^{3} - x^{2}}$\n",
      "solucion_latex: $\\frac{2 x^{3} - 5 x^{2} + 3 x}{x^{3} - x^{2}}=\\frac{x \\left(x - 1\\right) \\left(2 x - 3\\right)}{x^{2} \\left(x - 1\\right)}=\\frac{2 x - 3}{x}$\n"
     ]
    },
    {
     "data": {
      "text/markdown": [
       "#### Ejercicio:"
      ],
      "text/plain": [
       "<IPython.core.display.Markdown object>"
      ]
     },
     "metadata": {},
     "output_type": "display_data"
    },
    {
     "data": {
      "text/markdown": [
       "$\\frac{2 x^{3} - 5 x^{2} + 3 x}{2 x^{2} + x - 6}$ $\\to$ $\\frac{2 x^{3} - 5 x^{2} + 3 x}{2 x^{2} + x - 6}=\\frac{x \\left(x - 1\\right) \\left(2 x - 3\\right)}{\\left(x + 2\\right) \\left(2 x - 3\\right)}=\\frac{x^{2} - x}{x + 2}$"
      ],
      "text/plain": [
       "<IPython.core.display.Markdown object>"
      ]
     },
     "metadata": {},
     "output_type": "display_data"
    },
    {
     "name": "stdout",
     "output_type": "stream",
     "text": [
      "enunciado_latex: $\\frac{2 x^{3} - 5 x^{2} + 3 x}{2 x^{2} + x - 6}$\n",
      "solucion_latex: $\\frac{2 x^{3} - 5 x^{2} + 3 x}{2 x^{2} + x - 6}=\\frac{x \\left(x - 1\\right) \\left(2 x - 3\\right)}{\\left(x + 2\\right) \\left(2 x - 3\\right)}=\\frac{x^{2} - x}{x + 2}$\n"
     ]
    },
    {
     "data": {
      "text/markdown": [
       "#### Ejercicio:"
      ],
      "text/plain": [
       "<IPython.core.display.Markdown object>"
      ]
     },
     "metadata": {},
     "output_type": "display_data"
    },
    {
     "data": {
      "text/markdown": [
       "$\\frac{2 x^{4} - 6 x^{3} + 6 x^{2} - 2 x}{6 x^{3} - 12 x^{2} + 6 x}$ $\\to$ $\\frac{2 x^{4} - 6 x^{3} + 6 x^{2} - 2 x}{6 x^{3} - 12 x^{2} + 6 x}=\\frac{2 x \\left(x - 1\\right)^{3}}{6 x \\left(x - 1\\right)^{2}}=\\frac{x}{3} - \\frac{1}{3}$"
      ],
      "text/plain": [
       "<IPython.core.display.Markdown object>"
      ]
     },
     "metadata": {},
     "output_type": "display_data"
    },
    {
     "name": "stdout",
     "output_type": "stream",
     "text": [
      "enunciado_latex: $\\frac{2 x^{4} - 6 x^{3} + 6 x^{2} - 2 x}{6 x^{3} - 12 x^{2} + 6 x}$\n",
      "solucion_latex: $\\frac{2 x^{4} - 6 x^{3} + 6 x^{2} - 2 x}{6 x^{3} - 12 x^{2} + 6 x}=\\frac{2 x \\left(x - 1\\right)^{3}}{6 x \\left(x - 1\\right)^{2}}=\\frac{x}{3} - \\frac{1}{3}$\n"
     ]
    },
    {
     "data": {
      "text/plain": [
       "[('$\\\\frac{2 x^{3} - 5 x^{2} + 3 x}{x^{3} - x^{2}}$',\n",
       "  '$\\\\frac{2 x^{3} - 5 x^{2} + 3 x}{x^{3} - x^{2}}=\\\\frac{x \\\\left(x - 1\\\\right) \\\\left(2 x - 3\\\\right)}{x^{2} \\\\left(x - 1\\\\right)}=\\\\frac{2 x - 3}{x}$'),\n",
       " ('$\\\\frac{2 x^{3} - 5 x^{2} + 3 x}{2 x^{2} + x - 6}$',\n",
       "  '$\\\\frac{2 x^{3} - 5 x^{2} + 3 x}{2 x^{2} + x - 6}=\\\\frac{x \\\\left(x - 1\\\\right) \\\\left(2 x - 3\\\\right)}{\\\\left(x + 2\\\\right) \\\\left(2 x - 3\\\\right)}=\\\\frac{x^{2} - x}{x + 2}$'),\n",
       " ('$\\\\frac{2 x^{4} - 6 x^{3} + 6 x^{2} - 2 x}{6 x^{3} - 12 x^{2} + 6 x}$',\n",
       "  '$\\\\frac{2 x^{4} - 6 x^{3} + 6 x^{2} - 2 x}{6 x^{3} - 12 x^{2} + 6 x}=\\\\frac{2 x \\\\left(x - 1\\\\right)^{3}}{6 x \\\\left(x - 1\\\\right)^{2}}=\\\\frac{x}{3} - \\\\frac{1}{3}$')]"
      ]
     },
     "execution_count": 4,
     "metadata": {},
     "output_type": "execute_result"
    }
   ],
   "source": [
    "# Simplificar fracciones algebraicas\n",
    "\n",
    "# ejercicios en lates\n",
    "# ejercicios=[\n",
    "#             r'\\frac{2x^3-5x^2+3x}{2x^2+x-6}',\n",
    "\n",
    "#            ]\n",
    "\n",
    "# ejercicios en numerador y denominador en factores. La celda obtiene la fracción del enunciado\n",
    "\n",
    "enunciados=[[x*(x-1)*(2*x-3),x**2*(x-1)],\n",
    "            [x*(x - 1)*(2*x - 3),(x + 2)*(2*x - 3)],\n",
    "            [2*x*(x-1)**3,6*x*(x-1)**2]\n",
    "           ]\n",
    "\n",
    "ejercicios =[r\"\\frac{{{}}}{{{}}}\".format(latex(expand(i[0])),latex(expand(i[1]))) for i in enunciados] \n",
    "\n",
    "display(md(\"## Simplifica la siguiente fracción algebraica:\"))\n",
    "\n",
    "[mostrar_ejercicio(\"$\"+e+\"$\", \n",
    "                   \"$\"+e+r\"=\\frac{{{}}}{{{}}}=\".format(latex(factor(parse_latex(e).as_numer_denom()[0])),latex(factor(parse_latex(e).as_numer_denom()[1])))+latex(cancel(parse_latex(e)))+\"$\") \n",
    "for e in ejercicios]    \n",
    "\n",
    "\n",
    "\n",
    "#[mostrar_ejercicio(e, latex(S(parse_latex(r\"\\frac{\"+latex(factorint(simplify(parse_latex(e)).as_numer_denom()[0] , visual=True))+r\"}{\" +latex(factorint(simplify(parse_latex(e)).as_numer_denom()[1], visual=True))+\"}\"), evaluate=False))) for e in ejercicios]    \n",
    "\n",
    "\n"
   ]
  },
  {
   "cell_type": "code",
   "execution_count": 65,
   "metadata": {},
   "outputs": [
    {
     "name": "stdout",
     "output_type": "stream",
     "text": [
      "[x*(x - 1)*(2*x - 3), (x + 2)*(2*x - 3)]\n"
     ]
    },
    {
     "data": {
      "text/plain": [
       "[None]"
      ]
     },
     "execution_count": 65,
     "metadata": {},
     "output_type": "execute_result"
    }
   ],
   "source": [
    "ejercicios=[r'\\frac{2x^3-5x^2+3x}{2x^2+x-6}']\n",
    "\n",
    "[print([factor(parse_latex(e).as_numer_denom()[0]),factor(parse_latex(e).as_numer_denom()[1])]) for e in ejercicios]\n",
    "\n",
    "\n"
   ]
  },
  {
   "cell_type": "code",
   "execution_count": 5,
   "metadata": {},
   "outputs": [
    {
     "data": {
      "text/markdown": [
       "## Halla el valor de k para que la siguiente división sea exacta:"
      ],
      "text/plain": [
       "<IPython.core.display.Markdown object>"
      ]
     },
     "metadata": {},
     "output_type": "display_data"
    },
    {
     "data": {
      "text/markdown": [
       "#### Ejercicio:"
      ],
      "text/plain": [
       "<IPython.core.display.Markdown object>"
      ]
     },
     "metadata": {},
     "output_type": "display_data"
    },
    {
     "data": {
      "text/markdown": [
       "$\\left( 3x^2+kx-2 \\right): \\left(x + 2\\right)$  $\\to$ $10 - 2 k=0 \\to k = 5 $"
      ],
      "text/plain": [
       "<IPython.core.display.Markdown object>"
      ]
     },
     "metadata": {},
     "output_type": "display_data"
    },
    {
     "name": "stdout",
     "output_type": "stream",
     "text": [
      "enunciado_latex: $\\left( 3x^2+kx-2 \\right): \\left(x + 2\\right)$ \n",
      "solucion_latex: $10 - 2 k=0 \\to k = 5 $\n"
     ]
    },
    {
     "data": {
      "text/plain": [
       "[('$\\\\left( 3x^2+kx-2 \\\\right): \\\\left(x + 2\\\\right)$ ',\n",
       "  '$10 - 2 k=0 \\\\to k = 5 $')]"
      ]
     },
     "execution_count": 5,
     "metadata": {},
     "output_type": "execute_result"
    }
   ],
   "source": [
    "# Halla el valor de \\emph{k} para que la siguiente división sea exacta:\n",
    "\n",
    "k = symbols('k')\n",
    "\n",
    "ejercicios = [[r'3x^2+kx-2',-2],\n",
    "            ]\n",
    "\n",
    "display(md(\"## Halla el valor de k para que la siguiente división sea exacta:\"))\n",
    "\n",
    "[mostrar_ejercicio(r\"$\\left( {} \\right): \\left({}\\right)$ \".format(e[0],latex(x-e[1])), \n",
    "                   r\"${}=0 \\to k = {} $\".format(latex(parse_latex(e[0]).subs(x,e[1])),solve(parse_latex(e[0]).subs(x,e[1]),k)[0])) \n",
    "for e in ejercicios]\n"
   ]
  },
  {
   "cell_type": "code",
   "execution_count": 35,
   "metadata": {},
   "outputs": [
    {
     "data": {
      "text/markdown": [
       "## Resuelve las siguientes ecuaciones:"
      ],
      "text/plain": [
       "<IPython.core.display.Markdown object>"
      ]
     },
     "metadata": {},
     "output_type": "display_data"
    },
    {
     "data": {
      "text/markdown": [
       "#### Ejercicio:"
      ],
      "text/plain": [
       "<IPython.core.display.Markdown object>"
      ]
     },
     "metadata": {},
     "output_type": "display_data"
    },
    {
     "data": {
      "text/markdown": [
       "$2x^4-6x^3+6x^2-2x=0$  $\\to$ $2x^4-6x^3+6x^2-2x=0 \\to 2 x \\left(x - 1\\right)^{3} = 0 \\to x=0, x=1$"
      ],
      "text/plain": [
       "<IPython.core.display.Markdown object>"
      ]
     },
     "metadata": {},
     "output_type": "display_data"
    },
    {
     "name": "stdout",
     "output_type": "stream",
     "text": [
      "enunciado_latex: $2x^4-6x^3+6x^2-2x=0$ \n",
      "solucion_latex: $2x^4-6x^3+6x^2-2x=0 \\to 2 x \\left(x - 1\\right)^{3} = 0 \\to x=0, x=1$\n"
     ]
    },
    {
     "data": {
      "text/markdown": [
       "#### Ejercicio:"
      ],
      "text/plain": [
       "<IPython.core.display.Markdown object>"
      ]
     },
     "metadata": {},
     "output_type": "display_data"
    },
    {
     "data": {
      "text/markdown": [
       "$6x^3-12x^2+6x=0$  $\\to$ $6x^3-12x^2+6x=0 \\to 6 x \\left(x - 1\\right)^{2} = 0 \\to x=0, x=1$"
      ],
      "text/plain": [
       "<IPython.core.display.Markdown object>"
      ]
     },
     "metadata": {},
     "output_type": "display_data"
    },
    {
     "name": "stdout",
     "output_type": "stream",
     "text": [
      "enunciado_latex: $6x^3-12x^2+6x=0$ \n",
      "solucion_latex: $6x^3-12x^2+6x=0 \\to 6 x \\left(x - 1\\right)^{2} = 0 \\to x=0, x=1$\n"
     ]
    },
    {
     "data": {
      "text/plain": [
       "[('$2x^4-6x^3+6x^2-2x=0$ ',\n",
       "  '$2x^4-6x^3+6x^2-2x=0 \\\\to 2 x \\\\left(x - 1\\\\right)^{3} = 0 \\\\to x=0, x=1$'),\n",
       " ('$6x^3-12x^2+6x=0$ ',\n",
       "  '$6x^3-12x^2+6x=0 \\\\to 6 x \\\\left(x - 1\\\\right)^{2} = 0 \\\\to x=0, x=1$')]"
      ]
     },
     "execution_count": 35,
     "metadata": {},
     "output_type": "execute_result"
    }
   ],
   "source": [
    "# Resuelve las siguientes ecuaciones:\n",
    "\n",
    "ejercicios = [\n",
    "              r'2x^4-6x^3+6x^2-2x=0',\n",
    "              r'6x^3-12x^2+6x=0',\n",
    "            ]\n",
    "\n",
    "display(md(\"## Resuelve las siguientes ecuaciones:\"))\n",
    "\n",
    "[mostrar_ejercicio(r\"${}$ \".format(e), \n",
    "                   r\"${} \\to {} \\to x=\".format(e,latex(factor(parse_latex(e))))\n",
    "                   +r\", x=\".join(map(latex,solve(parse_latex(e))))+r\"$\"\n",
    "                  )\n",
    "for e in ejercicios]\n"
   ]
  },
  {
   "cell_type": "code",
   "execution_count": 50,
   "metadata": {},
   "outputs": [
    {
     "data": {
      "text/markdown": [
       "## Resuelve las siguientes ecuaciones:"
      ],
      "text/plain": [
       "<IPython.core.display.Markdown object>"
      ]
     },
     "metadata": {},
     "output_type": "display_data"
    },
    {
     "data": {
      "text/markdown": [
       "#### Ejercicio:"
      ],
      "text/plain": [
       "<IPython.core.display.Markdown object>"
      ]
     },
     "metadata": {},
     "output_type": "display_data"
    },
    {
     "data": {
      "text/markdown": [
       "$\\frac{2x}{x+1}-\\frac{1}{x}=\\frac{5}{6}$  $\\to$ $\\frac{2x}{x+1}-\\frac{1}{x}=\\frac{5}{6} \\to \\frac{2 x^{2} - x - 1}{x \\left(x + 1\\right)} = \\frac{5}{6} \\to \\frac{2 x^{2} - x - 1}{x \\left(x + 1\\right)} =\\frac{5}{6}\\to x=- \\frac{3}{7}, x=2$"
      ],
      "text/plain": [
       "<IPython.core.display.Markdown object>"
      ]
     },
     "metadata": {},
     "output_type": "display_data"
    },
    {
     "name": "stdout",
     "output_type": "stream",
     "text": [
      "enunciado_latex: $\\frac{2x}{x+1}-\\frac{1}{x}=\\frac{5}{6}$ \n",
      "solucion_latex: $\\frac{2x}{x+1}-\\frac{1}{x}=\\frac{5}{6} \\to \\frac{2 x^{2} - x - 1}{x \\left(x + 1\\right)} = \\frac{5}{6} \\to \\frac{2 x^{2} - x - 1}{x \\left(x + 1\\right)} =\\frac{5}{6}\\to x=- \\frac{3}{7}, x=2$\n"
     ]
    },
    {
     "data": {
      "text/markdown": [
       "#### Ejercicio:"
      ],
      "text/plain": [
       "<IPython.core.display.Markdown object>"
      ]
     },
     "metadata": {},
     "output_type": "display_data"
    },
    {
     "data": {
      "text/markdown": [
       "$\\frac{6x+1}{x^2-4}-\\frac{x}{x-2}=\\frac{x+1}{x+2}$  $\\to$ $\\frac{6x+1}{x^2-4}-\\frac{x}{x-2}=\\frac{x+1}{x+2} \\to \\frac{x + 1}{x + 2} = \\frac{- x^{2} + 4 x + 1}{x^{2} - 4} \\to \\frac{x + 1}{x + 2} =\\frac{- x^{2} + 4 x + 1}{x^{2} - 4}\\to x=- \\frac{1}{2}, x=3$"
      ],
      "text/plain": [
       "<IPython.core.display.Markdown object>"
      ]
     },
     "metadata": {},
     "output_type": "display_data"
    },
    {
     "name": "stdout",
     "output_type": "stream",
     "text": [
      "enunciado_latex: $\\frac{6x+1}{x^2-4}-\\frac{x}{x-2}=\\frac{x+1}{x+2}$ \n",
      "solucion_latex: $\\frac{6x+1}{x^2-4}-\\frac{x}{x-2}=\\frac{x+1}{x+2} \\to \\frac{x + 1}{x + 2} = \\frac{- x^{2} + 4 x + 1}{x^{2} - 4} \\to \\frac{x + 1}{x + 2} =\\frac{- x^{2} + 4 x + 1}{x^{2} - 4}\\to x=- \\frac{1}{2}, x=3$\n"
     ]
    },
    {
     "data": {
      "image/png": "[encoded data removed]",
      "text/latex": [
       "$\\displaystyle \\left( 2 x^{2} - x - 1, \\  x \\left(x + 1\\right)\\right)$"
      ],
      "text/plain": [
       "⎛   2                   ⎞\n",
       "⎝2⋅x  - x - 1, x⋅(x + 1)⎠"
      ]
     },
     "execution_count": 50,
     "metadata": {},
     "output_type": "execute_result"
    }
   ],
   "source": [
    "# Resuelve las siguientes ecuaciones:\n",
    "\n",
    "ejercicios = [r'\\frac{2x}{x+1}-\\frac{1}{x}=\\frac{5}{6}',\n",
    "              r'\\frac{6x+1}{x^2-4}-\\frac{x}{x-2}=\\frac{x+1}{x+2}',\n",
    "             ]\n",
    "\n",
    "display(md(\"## Resuelve las siguientes ecuaciones:\"))\n",
    "\n",
    "[mostrar_ejercicio(r\"${}$ \".format(e), \n",
    "                   r\"${} \\to {} \".format(e,latex(simplify(parse_latex(e))))\n",
    "                   +r\"\\to {} ={}\".format(latex(simplify(parse_latex(e)).args[0]),latex(simplify(parse_latex(e)).args[1]))\n",
    "                   +r\"\\to x=\"\n",
    "                   +r\", x=\".join(map(latex,solve(parse_latex(e))))+r\"$\"\n",
    "                  )\n",
    "for e in ejercicios]\n",
    "\n",
    "e= ejercicios[0]\n",
    "simplify(parse_latex(e)).args[0].as_numer_denom()\n"
   ]
  },
  {
   "cell_type": "code",
   "execution_count": 22,
   "metadata": {},
   "outputs": [
    {
     "data": {
      "text/markdown": [
       "## Resuelve las siguientes ecuaciones:"
      ],
      "text/plain": [
       "<IPython.core.display.Markdown object>"
      ]
     },
     "metadata": {},
     "output_type": "display_data"
    },
    {
     "data": {
      "text/markdown": [
       "#### Ejercicio:"
      ],
      "text/plain": [
       "<IPython.core.display.Markdown object>"
      ]
     },
     "metadata": {},
     "output_type": "display_data"
    },
    {
     "data": {
      "text/markdown": [
       "$\\frac{2x}{x+1}-\\frac{1}{x}=\\frac{5}{6}$  $\\to$ $x=- \\frac{3}{7}, x=2$"
      ],
      "text/plain": [
       "<IPython.core.display.Markdown object>"
      ]
     },
     "metadata": {},
     "output_type": "display_data"
    },
    {
     "name": "stdout",
     "output_type": "stream",
     "text": [
      "enunciado_latex: $\\frac{2x}{x+1}-\\frac{1}{x}=\\frac{5}{6}$ \n",
      "solucion_latex: $x=- \\frac{3}{7}, x=2$\n"
     ]
    },
    {
     "data": {
      "text/markdown": [
       "#### Ejercicio:"
      ],
      "text/plain": [
       "<IPython.core.display.Markdown object>"
      ]
     },
     "metadata": {},
     "output_type": "display_data"
    },
    {
     "data": {
      "text/markdown": [
       "$\\frac{6x+1}{x^2-4}-\\frac{x}{x-2}=\\frac{x+1}{x+2}$  $\\to$ $x=- \\frac{1}{2}, x=3$"
      ],
      "text/plain": [
       "<IPython.core.display.Markdown object>"
      ]
     },
     "metadata": {},
     "output_type": "display_data"
    },
    {
     "name": "stdout",
     "output_type": "stream",
     "text": [
      "enunciado_latex: $\\frac{6x+1}{x^2-4}-\\frac{x}{x-2}=\\frac{x+1}{x+2}$ \n",
      "solucion_latex: $x=- \\frac{1}{2}, x=3$\n"
     ]
    },
    {
     "data": {
      "text/markdown": [
       "#### Ejercicio:"
      ],
      "text/plain": [
       "<IPython.core.display.Markdown object>"
      ]
     },
     "metadata": {},
     "output_type": "display_data"
    },
    {
     "data": {
      "text/markdown": [
       "$2x^4-6x^3+6x^2-2x=0$  $\\to$ $x=0, x=1$"
      ],
      "text/plain": [
       "<IPython.core.display.Markdown object>"
      ]
     },
     "metadata": {},
     "output_type": "display_data"
    },
    {
     "name": "stdout",
     "output_type": "stream",
     "text": [
      "enunciado_latex: $2x^4-6x^3+6x^2-2x=0$ \n",
      "solucion_latex: $x=0, x=1$\n"
     ]
    },
    {
     "data": {
      "text/markdown": [
       "#### Ejercicio:"
      ],
      "text/plain": [
       "<IPython.core.display.Markdown object>"
      ]
     },
     "metadata": {},
     "output_type": "display_data"
    },
    {
     "data": {
      "text/markdown": [
       "$6x^3-12x^2+6x=0$  $\\to$ $x=0, x=1$"
      ],
      "text/plain": [
       "<IPython.core.display.Markdown object>"
      ]
     },
     "metadata": {},
     "output_type": "display_data"
    },
    {
     "name": "stdout",
     "output_type": "stream",
     "text": [
      "enunciado_latex: $6x^3-12x^2+6x=0$ \n",
      "solucion_latex: $x=0, x=1$\n"
     ]
    },
    {
     "data": {
      "text/markdown": [
       "#### Ejercicio:"
      ],
      "text/plain": [
       "<IPython.core.display.Markdown object>"
      ]
     },
     "metadata": {},
     "output_type": "display_data"
    },
    {
     "data": {
      "text/markdown": [
       "$\\sqrt{x+1}+5=x$  $\\to$ $x=8$"
      ],
      "text/plain": [
       "<IPython.core.display.Markdown object>"
      ]
     },
     "metadata": {},
     "output_type": "display_data"
    },
    {
     "name": "stdout",
     "output_type": "stream",
     "text": [
      "enunciado_latex: $\\sqrt{x+1}+5=x$ \n",
      "solucion_latex: $x=8$\n"
     ]
    },
    {
     "data": {
      "text/markdown": [
       "#### Ejercicio:"
      ],
      "text/plain": [
       "<IPython.core.display.Markdown object>"
      ]
     },
     "metadata": {},
     "output_type": "display_data"
    },
    {
     "data": {
      "text/markdown": [
       "$\\sqrt{3x-2}+\\sqrt{x-1}=3$  $\\to$ $x=2$"
      ],
      "text/plain": [
       "<IPython.core.display.Markdown object>"
      ]
     },
     "metadata": {},
     "output_type": "display_data"
    },
    {
     "name": "stdout",
     "output_type": "stream",
     "text": [
      "enunciado_latex: $\\sqrt{3x-2}+\\sqrt{x-1}=3$ \n",
      "solucion_latex: $x=2$\n"
     ]
    },
    {
     "data": {
      "text/plain": [
       "[('$\\\\frac{2x}{x+1}-\\\\frac{1}{x}=\\\\frac{5}{6}$ ', '$x=- \\\\frac{3}{7}, x=2$'),\n",
       " ('$\\\\frac{6x+1}{x^2-4}-\\\\frac{x}{x-2}=\\\\frac{x+1}{x+2}$ ',\n",
       "  '$x=- \\\\frac{1}{2}, x=3$'),\n",
       " ('$2x^4-6x^3+6x^2-2x=0$ ', '$x=0, x=1$'),\n",
       " ('$6x^3-12x^2+6x=0$ ', '$x=0, x=1$'),\n",
       " ('$\\\\sqrt{x+1}+5=x$ ', '$x=8$'),\n",
       " ('$\\\\sqrt{3x-2}+\\\\sqrt{x-1}=3$ ', '$x=2$')]"
      ]
     },
     "execution_count": 22,
     "metadata": {},
     "output_type": "execute_result"
    }
   ],
   "source": [
    "# Resuelve las siguientes ecuaciones:\n",
    "\n",
    "ejercicios = [r'\\frac{2x}{x+1}-\\frac{1}{x}=\\frac{5}{6}',\n",
    "              r'\\frac{6x+1}{x^2-4}-\\frac{x}{x-2}=\\frac{x+1}{x+2}',\n",
    "              r'2x^4-6x^3+6x^2-2x=0',\n",
    "              r'6x^3-12x^2+6x=0',\n",
    "              r'\\sqrt{x+1}+5=x',\n",
    "              r'\\sqrt{3x-2}+\\sqrt{x-1}=3'\n",
    "            ]\n",
    "\n",
    "display(md(\"## Resuelve las siguientes ecuaciones:\"))\n",
    "\n",
    "[mostrar_ejercicio(r\"${}$ \".format(e), \n",
    "                   r\"$x=\"+r\", x=\".join(map(latex,solve(parse_latex(e))))+r\"$\"\n",
    "                  )\n",
    "for e in ejercicios]\n"
   ]
  },
  {
   "cell_type": "code",
   "execution_count": 29,
   "metadata": {},
   "outputs": [
    {
     "data": {
      "text/markdown": [
       "## Resuelve las siguientes ecuaciones:"
      ],
      "text/plain": [
       "<IPython.core.display.Markdown object>"
      ]
     },
     "metadata": {},
     "output_type": "display_data"
    },
    {
     "data": {
      "text/markdown": [
       "#### Ejercicio:"
      ],
      "text/plain": [
       "<IPython.core.display.Markdown object>"
      ]
     },
     "metadata": {},
     "output_type": "display_data"
    },
    {
     "data": {
      "text/markdown": [
       "$2\\log x- \\log{\\left(3x-5\\right)}=\\log{5x} - 1$  $\\to$ $x=5$"
      ],
      "text/plain": [
       "<IPython.core.display.Markdown object>"
      ]
     },
     "metadata": {},
     "output_type": "display_data"
    },
    {
     "name": "stdout",
     "output_type": "stream",
     "text": [
      "enunciado_latex: $2\\log x- \\log{\\left(3x-5\\right)}=\\log{5x} - 1$ \n",
      "solucion_latex: $x=5$\n"
     ]
    },
    {
     "data": {
      "text/markdown": [
       "#### Ejercicio:"
      ],
      "text/plain": [
       "<IPython.core.display.Markdown object>"
      ]
     },
     "metadata": {},
     "output_type": "display_data"
    },
    {
     "data": {
      "text/markdown": [
       "$\\log {\\left(x-1\\right)}+ \\log{2}=\\log{\\left(x^2+3\\right)} - \\log x$  $\\to$ $x=3$"
      ],
      "text/plain": [
       "<IPython.core.display.Markdown object>"
      ]
     },
     "metadata": {},
     "output_type": "display_data"
    },
    {
     "name": "stdout",
     "output_type": "stream",
     "text": [
      "enunciado_latex: $\\log {\\left(x-1\\right)}+ \\log{2}=\\log{\\left(x^2+3\\right)} - \\log x$ \n",
      "solucion_latex: $x=3$\n"
     ]
    },
    {
     "data": {
      "text/markdown": [
       "#### Ejercicio:"
      ],
      "text/plain": [
       "<IPython.core.display.Markdown object>"
      ]
     },
     "metadata": {},
     "output_type": "display_data"
    },
    {
     "data": {
      "text/markdown": [
       "$\\left(x^2-5x+5\\right)\\log 5 + \\log{20}=\\log 4$  $\\to$ $x=2, x=3$"
      ],
      "text/plain": [
       "<IPython.core.display.Markdown object>"
      ]
     },
     "metadata": {},
     "output_type": "display_data"
    },
    {
     "name": "stdout",
     "output_type": "stream",
     "text": [
      "enunciado_latex: $\\left(x^2-5x+5\\right)\\log 5 + \\log{20}=\\log 4$ \n",
      "solucion_latex: $x=2, x=3$\n"
     ]
    },
    {
     "data": {
      "text/plain": [
       "[('$2\\\\log x- \\\\log{\\\\left(3x-5\\\\right)}=\\\\log{5x} - 1$ ', '$x=5$'),\n",
       " ('$\\\\log {\\\\left(x-1\\\\right)}+ \\\\log{2}=\\\\log{\\\\left(x^2+3\\\\right)} - \\\\log x$ ',\n",
       "  '$x=3$'),\n",
       " ('$\\\\left(x^2-5x+5\\\\right)\\\\log 5 + \\\\log{20}=\\\\log 4$ ', '$x=2, x=3$')]"
      ]
     },
     "execution_count": 29,
     "metadata": {},
     "output_type": "execute_result"
    }
   ],
   "source": [
    "# Resuelve las siguientes ecuaciones:\n",
    "\n",
    "ejercicios = [[r'2\\log x- \\log{\\left(3x-5\\right)}=\\log{5x} - 1', Eq(2*log(x,10)-log(3*x-5,10),log(5*x,10)-1)],\n",
    "              [r'\\log {\\left(x-1\\right)}+ \\log{2}=\\log{\\left(x^2+3\\right)} - \\log x',Eq(log(x-1,10)+log(2,10),log(x**2+3,10)-log(x,10))],\n",
    "              [r'\\left(x^2-5x+5\\right)\\log 5 + \\log{20}=\\log 4',Eq((x**2-5*x+5)*log(5,10)+log(20,10),log(4,10))]\n",
    "            ]\n",
    "\n",
    "display(md(\"## Resuelve las siguientes ecuaciones:\"))\n",
    "\n",
    "[mostrar_ejercicio(r\"${}$ \".format(e[0]), \n",
    "                   r\"$x=\"+r\", x=\".join(map(latex,solve(e[1])))+r\"$\"\n",
    "                  )\n",
    "for e in ejercicios]\n",
    "\n",
    "\n"
   ]
  }
 ],
 "metadata": {
  "colab": {
   "include_colab_link": true,
   "name": "12-Radicales.ipynb",
   "provenance": []
  },
  "kernelspec": {
   "display_name": "Python 3",
   "language": "python",
   "name": "python3"
  },
  "language_info": {
   "codemirror_mode": {
    "name": "ipython",
    "version": 3
   },
   "file_extension": ".py",
   "mimetype": "text/x-python",
   "name": "python",
   "nbconvert_exporter": "python",
   "pygments_lexer": "ipython3",
   "version": "3.6.8"
  }
 },
 "nbformat": 4,
 "nbformat_minor": 1
}
