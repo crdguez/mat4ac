{
 "cells": [
  {
   "cell_type": "markdown",
   "metadata": {
    "colab_type": "text",
    "id": "view-in-github"
   },
   "source": [
    "<a href=\"https://colab.research.google.com/github/crdguez/mat4ac/blob/master/notebooks/13-algebra.ipynb\" target=\"_parent\"><img src=\"https://colab.research.google.com/assets/colab-badge.svg\" alt=\"Open In Colab\"/></a>"
   ]
  },
  {
   "cell_type": "code",
   "execution_count": 1,
   "metadata": {
    "colab": {
     "base_uri": "https://localhost:8080/"
    },
    "id": "9X_4fdzd0gZQ",
    "outputId": "ea58775f-fe20-4d8a-dcce-a9868f6c6964"
   },
   "outputs": [],
   "source": [
    "# Ejecutar para que funcione el parse_latex en google colab\n",
    "\n",
    "#!pip install sympy==1.3 antlr4-python3-runtime==4.7.1"
   ]
  },
  {
   "cell_type": "code",
   "execution_count": 2,
   "metadata": {
    "colab": {
     "base_uri": "https://localhost:8080/"
    },
    "id": "xYDbOmkG0YbJ",
    "outputId": "413dc79e-12a3-479d-fbc4-d266d9b0bc18"
   },
   "outputs": [
    {
     "name": "stdout",
     "output_type": "stream",
     "text": [
      "IPython console for SymPy 1.6.1 (Python 3.8.3-64-bit) (ground types: gmpy)\n",
      "\n",
      "These commands were executed:\n",
      ">>> from __future__ import division\n",
      ">>> from sympy import *\n",
      ">>> x, y, z, t = symbols('x y z t')\n",
      ">>> k, m, n = symbols('k m n', integer=True)\n",
      ">>> f, g, h = symbols('f g h', cls=Function)\n",
      ">>> init_printing()\n",
      "\n",
      "Documentation can be found at https://docs.sympy.org/1.6.1/\n",
      "\n"
     ]
    }
   ],
   "source": [
    "from sympy.parsing.latex import parse_latex\n",
    "from IPython.display import Markdown as md\n",
    "from IPython.display import display\n",
    "from sympy import init_session\n",
    "import numpy as np\n",
    "\n",
    "init_session()\n",
    "\n",
    "a, b, c, d = symbols('a b c d', real = True)"
   ]
  },
  {
   "cell_type": "code",
   "execution_count": 3,
   "metadata": {
    "id": "vPXI53QN0Ycw"
   },
   "outputs": [],
   "source": [
    "def mostrar_ejercicio(ejercicio,solucion,tipo=0) :\n",
    "    #tipo=0 se pasa el ejercicio y la solucion en formato latex\n",
    "    if tipo == 0 :\n",
    "        display(md(\"#### Ejercicio:\"))\n",
    "        display(md(r\"{} $\\to$ {}\".format(ejercicio, solucion)))\n",
    "        print(\"enunciado_latex: \" + ejercicio)\n",
    "        print(\"solucion_latex: \" + solucion)\n",
    "        return ejercicio, solucion\n",
    "    elif tipo == 1:\n",
    "        # falta desarrollar ...\n",
    "        display(md(\"#### Ejercicio:\"))\n",
    "        display(md(r\"{} $\\to$ {}\".format(ejercicio, solucion)))\n",
    "        print(\"enunciado_latex: \" + ejercicio)\n",
    "        print(\"solucion_latex: \" + solucion)\n",
    "        return ejercicio, solucion\n",
    "\n",
    "        \n",
    "    "
   ]
  },
  {
   "cell_type": "code",
   "execution_count": 4,
   "metadata": {
    "id": "1Vrb-eOWjMX8"
   },
   "outputs": [],
   "source": [
    "def manipular_ec_irracional(ec) :\n",
    "    # Aisla el primer argumento del miembro de la izquierda y eleva todo al cuadrado. Devuelve el latex con las transformaciones y la ecuacion simplificada a resolver\n",
    "    transformaciones = [#ec,\n",
    "                        Eq(ec.args[0].args[0],ec.args[1]-(ec.args[0]-ec.args[0].args[0])), \n",
    "                        Eq(ec.args[0].args[0]**2,(ec.args[1]-(ec.args[0]-ec.args[0].args[0]))**2), \n",
    "                        Eq(expand(ec.args[0].args[0]**2-(ec.args[1]-(ec.args[0]-ec.args[0].args[0]))**2),0)]\n",
    "\n",
    "    return r\" \\to \".join(map(latex,transformaciones)), transformaciones[-1]"
   ]
  },
  {
   "cell_type": "code",
   "execution_count": 5,
   "metadata": {
    "colab": {
     "base_uri": "https://localhost:8080/",
     "height": 284
    },
    "id": "6aSd_z-t0YdR",
    "outputId": "97347f7a-999f-4a2f-e680-0985fd2ea25d"
   },
   "outputs": [
    {
     "data": {
      "text/markdown": [
       "## Teorema del resto:"
      ],
      "text/plain": [
       "<IPython.core.display.Markdown object>"
      ]
     },
     "metadata": {},
     "output_type": "display_data"
    },
    {
     "data": {
      "text/markdown": [
       "#### Ejercicio:"
      ],
      "text/plain": [
       "<IPython.core.display.Markdown object>"
      ]
     },
     "metadata": {},
     "output_type": "display_data"
    },
    {
     "data": {
      "text/markdown": [
       "Utilizando el teorema del resto para el polinomio $P (x) =- 2 x^{3} + x^{2} - 3 x - 6$ resuelve: \\\\ \n",
       "    Valor numérico para $x = -1$ \\\\ \n",
       "    ¿Es divisible P (x) por $x + 1$? \n",
       "    Justifica tu respuesta $\\to$ Si dividimos $P(x)=- 2 x^{3} + x^{2} - 3 x - 6$ entre $x + 1$ el resto da 0. \\\\ Por el teorema del resto, $P(-1)=0$. \\\\ Aplicando la propiedad fundamental de la división obtenemos que $P(x)=- 2 x^{3} + x^{2} - 3 x - 6=\\left(x + 1\\right)\\cdot\\left(- 2 x^{2} + 3 x - 6\\right)+0 \\to $ Sí es divisible."
      ],
      "text/plain": [
       "<IPython.core.display.Markdown object>"
      ]
     },
     "metadata": {},
     "output_type": "display_data"
    },
    {
     "name": "stdout",
     "output_type": "stream",
     "text": [
      "enunciado_latex: Utilizando el teorema del resto para el polinomio $P (x) =- 2 x^{3} + x^{2} - 3 x - 6$ resuelve: \\\\ \n",
      "    Valor numérico para $x = -1$ \\\\ \n",
      "    ¿Es divisible P (x) por $x + 1$? \n",
      "    Justifica tu respuesta\n",
      "solucion_latex: Si dividimos $P(x)=- 2 x^{3} + x^{2} - 3 x - 6$ entre $x + 1$ el resto da 0. \\\\ Por el teorema del resto, $P(-1)=0$. \\\\ Aplicando la propiedad fundamental de la división obtenemos que $P(x)=- 2 x^{3} + x^{2} - 3 x - 6=\\left(x + 1\\right)\\cdot\\left(- 2 x^{2} + 3 x - 6\\right)+0 \\to $ Sí es divisible.\n"
     ]
    }
   ],
   "source": [
    "# Teorema del resto\n",
    "\n",
    "ejercicios=[\n",
    "            # cociente, x-a, resto, el dividendo (polinomio del enunciado) lo calcula la celda\n",
    "            [-2*x**2+3*x-6,-1,0]\n",
    "           ]\n",
    "\n",
    "display(md(\"## Teorema del resto:\"))\n",
    "\n",
    "for e in ejercicios :\n",
    "    polinomio = expand(e[0]*S(\"x-\"+str(e[1]))+e[2]) # propiedad fundamental de la división\n",
    "    enunciado_latex = r\"\"\"Utilizando el teorema del resto para el polinomio $P (x) ={}$ resuelve: \\\\ \n",
    "    Valor numérico para $x = {}$ \\\\ \n",
    "    ¿Es divisible P (x) por ${}$? \n",
    "    Justifica tu respuesta\"\"\".format(latex(polinomio),e[1],S(\"x-\"+latex(e[1])))\n",
    "\n",
    "    solucion_latex = r\"Si dividimos $P(x)={}$ entre ${}$ \".format(latex(polinomio),S(r\"x-\"+str(e[1])))+r\"el resto da \"+latex(e[2])\n",
    "    solucion_latex += r\". \\\\ Por el teorema del resto, $P({})={}$\".format(e[1], polinomio.subs(x,e[1]))\n",
    "    solucion_latex += r\". \\\\ Aplicando la propiedad fundamental de la división obtenemos que $P(x)={}=\\left({}\\right)\\cdot\\left({}\\right)+{} \\to $ \".format(latex(polinomio), latex(S(r\"x-\"+str(e[1]))), latex(e[0]), latex(e[2]))\n",
    "    solucion_latex += \"Sí es divisible.\" if e[2]==0 else \"No es divisible,\"\n",
    "    #print(enunciado_latex)\n",
    "\n",
    "    mostrar_ejercicio(enunciado_latex, solucion_latex)  \n"
   ]
  },
  {
   "cell_type": "code",
   "execution_count": 6,
   "metadata": {
    "id": "_bvSqYuGjMX8"
   },
   "outputs": [],
   "source": [
    "enunciados=[[x*(x-1)*(2*x-3),x**2*(x-1)]]\n",
    "\n",
    "ejercicios =[r\"\\frac{{{}}}{{{}}}\".format(latex(expand(i[0])),latex(expand(i[0]))) for i in enunciados] "
   ]
  },
  {
   "cell_type": "code",
   "execution_count": 7,
   "metadata": {
    "colab": {
     "base_uri": "https://localhost:8080/",
     "height": 506
    },
    "id": "cQtW0akV0YfG",
    "outputId": "18bc522e-edea-491b-b8ac-b3dcfd900a5c"
   },
   "outputs": [
    {
     "data": {
      "text/markdown": [
       "## Simplifica la siguiente fracción algebraica:"
      ],
      "text/plain": [
       "<IPython.core.display.Markdown object>"
      ]
     },
     "metadata": {},
     "output_type": "display_data"
    },
    {
     "name": "stdout",
     "output_type": "stream",
     "text": [
      "ANTLR runtime and generated code versions disagree: 4.8!=4.7.1\n",
      "ANTLR runtime and generated code versions disagree: 4.8!=4.7.1\n",
      "ANTLR runtime and generated code versions disagree: 4.8!=4.7.1\n",
      "ANTLR runtime and generated code versions disagree: 4.8!=4.7.1\n",
      "ANTLR runtime and generated code versions disagree: 4.8!=4.7.1\n",
      "ANTLR runtime and generated code versions disagree: 4.8!=4.7.1\n"
     ]
    },
    {
     "data": {
      "text/markdown": [
       "#### Ejercicio:"
      ],
      "text/plain": [
       "<IPython.core.display.Markdown object>"
      ]
     },
     "metadata": {},
     "output_type": "display_data"
    },
    {
     "data": {
      "text/markdown": [
       "$\\frac{2 x^{3} - 5 x^{2} + 3 x}{x^{3} - x^{2}}$ $\\to$ $\\frac{2 x^{3} - 5 x^{2} + 3 x}{x^{3} - x^{2}}=\\frac{x \\left(x - 1\\right) \\left(2 x - 3\\right)}{x^{2} \\left(x - 1\\right)}=\\frac{2 x - 3}{x}$"
      ],
      "text/plain": [
       "<IPython.core.display.Markdown object>"
      ]
     },
     "metadata": {},
     "output_type": "display_data"
    },
    {
     "name": "stdout",
     "output_type": "stream",
     "text": [
      "enunciado_latex: $\\frac{2 x^{3} - 5 x^{2} + 3 x}{x^{3} - x^{2}}$\n",
      "solucion_latex: $\\frac{2 x^{3} - 5 x^{2} + 3 x}{x^{3} - x^{2}}=\\frac{x \\left(x - 1\\right) \\left(2 x - 3\\right)}{x^{2} \\left(x - 1\\right)}=\\frac{2 x - 3}{x}$\n",
      "ANTLR runtime and generated code versions disagree: 4.8!=4.7.1\n",
      "ANTLR runtime and generated code versions disagree: 4.8!=4.7.1\n",
      "ANTLR runtime and generated code versions disagree: 4.8!=4.7.1\n",
      "ANTLR runtime and generated code versions disagree: 4.8!=4.7.1\n",
      "ANTLR runtime and generated code versions disagree: 4.8!=4.7.1\n",
      "ANTLR runtime and generated code versions disagree: 4.8!=4.7.1\n"
     ]
    },
    {
     "data": {
      "text/markdown": [
       "#### Ejercicio:"
      ],
      "text/plain": [
       "<IPython.core.display.Markdown object>"
      ]
     },
     "metadata": {},
     "output_type": "display_data"
    },
    {
     "data": {
      "text/markdown": [
       "$\\frac{2 x^{3} - 5 x^{2} + 3 x}{2 x^{2} + x - 6}$ $\\to$ $\\frac{2 x^{3} - 5 x^{2} + 3 x}{2 x^{2} + x - 6}=\\frac{x \\left(x - 1\\right) \\left(2 x - 3\\right)}{\\left(x + 2\\right) \\left(2 x - 3\\right)}=\\frac{x^{2} - x}{x + 2}$"
      ],
      "text/plain": [
       "<IPython.core.display.Markdown object>"
      ]
     },
     "metadata": {},
     "output_type": "display_data"
    },
    {
     "name": "stdout",
     "output_type": "stream",
     "text": [
      "enunciado_latex: $\\frac{2 x^{3} - 5 x^{2} + 3 x}{2 x^{2} + x - 6}$\n",
      "solucion_latex: $\\frac{2 x^{3} - 5 x^{2} + 3 x}{2 x^{2} + x - 6}=\\frac{x \\left(x - 1\\right) \\left(2 x - 3\\right)}{\\left(x + 2\\right) \\left(2 x - 3\\right)}=\\frac{x^{2} - x}{x + 2}$\n",
      "ANTLR runtime and generated code versions disagree: 4.8!=4.7.1\n",
      "ANTLR runtime and generated code versions disagree: 4.8!=4.7.1\n",
      "ANTLR runtime and generated code versions disagree: 4.8!=4.7.1\n",
      "ANTLR runtime and generated code versions disagree: 4.8!=4.7.1\n",
      "ANTLR runtime and generated code versions disagree: 4.8!=4.7.1\n",
      "ANTLR runtime and generated code versions disagree: 4.8!=4.7.1\n"
     ]
    },
    {
     "data": {
      "text/markdown": [
       "#### Ejercicio:"
      ],
      "text/plain": [
       "<IPython.core.display.Markdown object>"
      ]
     },
     "metadata": {},
     "output_type": "display_data"
    },
    {
     "data": {
      "text/markdown": [
       "$\\frac{2 x^{4} - 6 x^{3} + 6 x^{2} - 2 x}{6 x^{3} - 12 x^{2} + 6 x}$ $\\to$ $\\frac{2 x^{4} - 6 x^{3} + 6 x^{2} - 2 x}{6 x^{3} - 12 x^{2} + 6 x}=\\frac{2 x \\left(x - 1\\right)^{3}}{6 x \\left(x - 1\\right)^{2}}=\\frac{x}{3} - \\frac{1}{3}$"
      ],
      "text/plain": [
       "<IPython.core.display.Markdown object>"
      ]
     },
     "metadata": {},
     "output_type": "display_data"
    },
    {
     "name": "stdout",
     "output_type": "stream",
     "text": [
      "enunciado_latex: $\\frac{2 x^{4} - 6 x^{3} + 6 x^{2} - 2 x}{6 x^{3} - 12 x^{2} + 6 x}$\n",
      "solucion_latex: $\\frac{2 x^{4} - 6 x^{3} + 6 x^{2} - 2 x}{6 x^{3} - 12 x^{2} + 6 x}=\\frac{2 x \\left(x - 1\\right)^{3}}{6 x \\left(x - 1\\right)^{2}}=\\frac{x}{3} - \\frac{1}{3}$\n"
     ]
    },
    {
     "data": {
      "text/plain": [
       "[('$\\\\frac{2 x^{3} - 5 x^{2} + 3 x}{x^{3} - x^{2}}$',\n",
       "  '$\\\\frac{2 x^{3} - 5 x^{2} + 3 x}{x^{3} - x^{2}}=\\\\frac{x \\\\left(x - 1\\\\right) \\\\left(2 x - 3\\\\right)}{x^{2} \\\\left(x - 1\\\\right)}=\\\\frac{2 x - 3}{x}$'),\n",
       " ('$\\\\frac{2 x^{3} - 5 x^{2} + 3 x}{2 x^{2} + x - 6}$',\n",
       "  '$\\\\frac{2 x^{3} - 5 x^{2} + 3 x}{2 x^{2} + x - 6}=\\\\frac{x \\\\left(x - 1\\\\right) \\\\left(2 x - 3\\\\right)}{\\\\left(x + 2\\\\right) \\\\left(2 x - 3\\\\right)}=\\\\frac{x^{2} - x}{x + 2}$'),\n",
       " ('$\\\\frac{2 x^{4} - 6 x^{3} + 6 x^{2} - 2 x}{6 x^{3} - 12 x^{2} + 6 x}$',\n",
       "  '$\\\\frac{2 x^{4} - 6 x^{3} + 6 x^{2} - 2 x}{6 x^{3} - 12 x^{2} + 6 x}=\\\\frac{2 x \\\\left(x - 1\\\\right)^{3}}{6 x \\\\left(x - 1\\\\right)^{2}}=\\\\frac{x}{3} - \\\\frac{1}{3}$')]"
      ]
     },
     "execution_count": 7,
     "metadata": {},
     "output_type": "execute_result"
    }
   ],
   "source": [
    "# Simplificar fracciones algebraicas\n",
    "\n",
    "# ejercicios en lates\n",
    "# ejercicios=[\n",
    "#             r'\\frac{2x^3-5x^2+3x}{2x^2+x-6}',\n",
    "\n",
    "#            ]\n",
    "\n",
    "# ejercicios en numerador y denominador en factores. La celda obtiene la fracción del enunciado\n",
    "\n",
    "enunciados=[[x*(x-1)*(2*x-3),x**2*(x-1)],\n",
    "            [x*(x - 1)*(2*x - 3),(x + 2)*(2*x - 3)],\n",
    "            [2*x*(x-1)**3,6*x*(x-1)**2]\n",
    "           ]\n",
    "\n",
    "ejercicios =[r\"\\frac{{{}}}{{{}}}\".format(latex(expand(i[0])),latex(expand(i[1]))) for i in enunciados] \n",
    "\n",
    "display(md(\"## Simplifica la siguiente fracción algebraica:\"))\n",
    "\n",
    "[mostrar_ejercicio(\"$\"+e+\"$\", \n",
    "                   \"$\"+e+r\"=\\frac{{{}}}{{{}}}=\".format(latex(factor(parse_latex(e).as_numer_denom()[0])),latex(factor(parse_latex(e).as_numer_denom()[1])))+latex(cancel(parse_latex(e)))+\"$\") \n",
    "for e in ejercicios]    \n",
    "\n",
    "\n",
    "\n",
    "#[mostrar_ejercicio(e, latex(S(parse_latex(r\"\\frac{\"+latex(factorint(simplify(parse_latex(e)).as_numer_denom()[0] , visual=True))+r\"}{\" +latex(factorint(simplify(parse_latex(e)).as_numer_denom()[1], visual=True))+\"}\"), evaluate=False))) for e in ejercicios]    \n",
    "\n",
    "\n"
   ]
  },
  {
   "cell_type": "code",
   "execution_count": 8,
   "metadata": {
    "colab": {
     "base_uri": "https://localhost:8080/",
     "height": 38
    },
    "id": "JvzpWHP9jMX9",
    "outputId": "ad2911cb-f56e-4bf0-f130-d0679838a673",
    "scrolled": true
   },
   "outputs": [
    {
     "data": {
      "image/png": "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\n",
      "text/latex": [
       "$\\displaystyle \\left( \\left[ - \\frac{1}{3}, \\  \\frac{1}{3}, \\  1, \\  3\\right], \\  9 x^{4} - 36 x^{3} + 26 x^{2} + 4 x - 3, \\  \\left(x - 3\\right) \\left(x - 1\\right) \\left(3 x - 1\\right) \\left(3 x + 1\\right)\\right)$"
      ],
      "text/plain": [
       "⎛                      4       3       2                                      \n",
       "⎝[-1/3, 1/3, 1, 3], 9⋅x  - 36⋅x  + 26⋅x  + 4⋅x - 3, (x - 3)⋅(x - 1)⋅(3⋅x - 1)⋅\n",
       "\n",
       "         ⎞\n",
       "(3⋅x + 1)⎠"
      ]
     },
     "execution_count": 8,
     "metadata": {},
     "output_type": "execute_result"
    }
   ],
   "source": [
    "import numpy as np\n",
    "\n",
    "factor(9*x**4-36*x**3+26*x**2+4*x-3)\n",
    "roots(9*x**4-36*x**3+26*x**2+4*x-3, multiple=True)\n",
    "#roots?\n",
    "\n",
    "\n",
    "ej = 9*x**4-36*x**3+26*x**2+4*x-3\n",
    "raices = roots(ej, multiple=True)\n",
    "\n",
    "pol=1\n",
    "for i in raices :\n",
    "    pol *= (x-i) \n",
    "    \n",
    "raices, expand(np.prod([r.as_numer_denom()[1] for r in raices])*pol), factor(np.prod([r.as_numer_denom()[1] for r in raices])*pol)"
   ]
  },
  {
   "cell_type": "code",
   "execution_count": 9,
   "metadata": {
    "id": "TNoahVDTjMX-"
   },
   "outputs": [],
   "source": [
    "def lista_raices() :\n",
    "# Obtiene al azar una lista de raíces con como mucho dos raíces racionales\n",
    "    # número de raices enteras\n",
    "    n_fac1=np.random.randint(2,4)\n",
    "    # Selección de raíces con como mucho dos raíces racionales\n",
    "    raices=np.concatenate((np.random.randint(7,size=n_fac1),(np.random.randint(1,3,size=2)/np.random.randint(2,5,size=2)))) if np.random.randint(2)==1 else np.random.randint(7,size=n_fac1)\n",
    "    return raices\n",
    "\n",
    "\n",
    "def raices_a_polinomio(raices) :\n",
    "    # De una lista de raices obtenemos el polinomio de coeficientes enteros\n",
    "    pol=1\n",
    "    for i in raices :\n",
    "        pol *= (x-nsimplify(i)) \n",
    "    expand(np.prod([nsimplify(r).as_numer_denom()[1] for r in raices])*pol), factor(np.prod([nsimplify(r).as_numer_denom()[1] for r in raices])*pol)\n",
    "    return(expand(factor(np.prod([nsimplify(r).as_numer_denom()[1] for r in raices])*pol)))"
   ]
  },
  {
   "cell_type": "code",
   "execution_count": 10,
   "metadata": {
    "colab": {
     "base_uri": "https://localhost:8080/",
     "height": 1000
    },
    "id": "aH86JXm1jMX_",
    "outputId": "cffc8593-479c-4f10-a7f4-a4b246797e1b"
   },
   "outputs": [
    {
     "data": {
      "text/markdown": [
       "## Factoriza los siguientes polinomios:"
      ],
      "text/plain": [
       "<IPython.core.display.Markdown object>"
      ]
     },
     "metadata": {},
     "output_type": "display_data"
    },
    {
     "data": {
      "text/markdown": [
       "#### Ejercicio:"
      ],
      "text/plain": [
       "<IPython.core.display.Markdown object>"
      ]
     },
     "metadata": {},
     "output_type": "display_data"
    },
    {
     "data": {
      "text/markdown": [
<<<<<<< HEAD
       "$4 x^{5} - 56 x^{4} + 273 x^{3} - 533 x^{2} + 355 x - 75$  $\\to$ $\\left(x - 5\\right)^{2} \\left(x - 3\\right) \\left(2 x - 1\\right)^{2}$"
=======
       "$x^{3} - 6 x^{2}$  $\\to$ $x^{2} \\left(x - 6\\right)$"
>>>>>>> b29a43171aa503e61a2f73915e56372306b0b9df
      ],
      "text/plain": [
       "<IPython.core.display.Markdown object>"
      ]
     },
     "metadata": {},
     "output_type": "display_data"
    },
    {
     "name": "stdout",
     "output_type": "stream",
     "text": [
<<<<<<< HEAD
      "enunciado_latex: $4 x^{5} - 56 x^{4} + 273 x^{3} - 533 x^{2} + 355 x - 75$ \n",
      "solucion_latex: $\\left(x - 5\\right)^{2} \\left(x - 3\\right) \\left(2 x - 1\\right)^{2}$\n"
=======
      "enunciado_latex: $x^{3} - 6 x^{2}$ \n",
      "solucion_latex: $x^{2} \\left(x - 6\\right)$\n"
>>>>>>> b29a43171aa503e61a2f73915e56372306b0b9df
     ]
    },
    {
     "data": {
      "text/markdown": [
       "#### Ejercicio:"
      ],
      "text/plain": [
       "<IPython.core.display.Markdown object>"
      ]
     },
     "metadata": {},
     "output_type": "display_data"
    },
    {
     "data": {
      "text/markdown": [
<<<<<<< HEAD
       "$x^{2} - 5 x + 6$  $\\to$ $\\left(x - 3\\right) \\left(x - 2\\right)$"
=======
       "$x^{2} - 4 x + 4$  $\\to$ $\\left(x - 2\\right)^{2}$"
>>>>>>> b29a43171aa503e61a2f73915e56372306b0b9df
      ],
      "text/plain": [
       "<IPython.core.display.Markdown object>"
      ]
     },
     "metadata": {},
     "output_type": "display_data"
    },
    {
     "name": "stdout",
     "output_type": "stream",
     "text": [
<<<<<<< HEAD
      "enunciado_latex: $x^{2} - 5 x + 6$ \n",
      "solucion_latex: $\\left(x - 3\\right) \\left(x - 2\\right)$\n"
=======
      "enunciado_latex: $x^{2} - 4 x + 4$ \n",
      "solucion_latex: $\\left(x - 2\\right)^{2}$\n"
>>>>>>> b29a43171aa503e61a2f73915e56372306b0b9df
     ]
    },
    {
     "data": {
      "text/markdown": [
       "#### Ejercicio:"
      ],
      "text/plain": [
       "<IPython.core.display.Markdown object>"
      ]
     },
     "metadata": {},
     "output_type": "display_data"
    },
    {
     "data": {
      "text/markdown": [
<<<<<<< HEAD
       "$x^{3} - 6 x^{2} + 5 x$  $\\to$ $x \\left(x - 5\\right) \\left(x - 1\\right)$"
=======
       "$x^{2} - 9 x + 20$  $\\to$ $\\left(x - 5\\right) \\left(x - 4\\right)$"
>>>>>>> b29a43171aa503e61a2f73915e56372306b0b9df
      ],
      "text/plain": [
       "<IPython.core.display.Markdown object>"
      ]
     },
     "metadata": {},
     "output_type": "display_data"
    },
    {
     "name": "stdout",
     "output_type": "stream",
     "text": [
<<<<<<< HEAD
      "enunciado_latex: $x^{3} - 6 x^{2} + 5 x$ \n",
      "solucion_latex: $x \\left(x - 5\\right) \\left(x - 1\\right)$\n"
=======
      "enunciado_latex: $x^{2} - 9 x + 20$ \n",
      "solucion_latex: $\\left(x - 5\\right) \\left(x - 4\\right)$\n"
>>>>>>> b29a43171aa503e61a2f73915e56372306b0b9df
     ]
    },
    {
     "data": {
      "text/markdown": [
       "#### Ejercicio:"
      ],
      "text/plain": [
       "<IPython.core.display.Markdown object>"
      ]
     },
     "metadata": {},
     "output_type": "display_data"
    },
    {
     "data": {
      "text/markdown": [
<<<<<<< HEAD
       "$9 x^{5} - 48 x^{4} + 52 x^{3} - 16 x^{2}$  $\\to$ $x^{2} \\left(x - 4\\right) \\left(3 x - 2\\right)^{2}$"
=======
       "$6 x^{5} - 35 x^{4} + 50 x^{3} - 25 x^{2} + 4 x$  $\\to$ $x \\left(x - 4\\right) \\left(x - 1\\right) \\left(2 x - 1\\right) \\left(3 x - 1\\right)$"
>>>>>>> b29a43171aa503e61a2f73915e56372306b0b9df
      ],
      "text/plain": [
       "<IPython.core.display.Markdown object>"
      ]
     },
     "metadata": {},
     "output_type": "display_data"
    },
    {
     "name": "stdout",
     "output_type": "stream",
     "text": [
<<<<<<< HEAD
      "enunciado_latex: $9 x^{5} - 48 x^{4} + 52 x^{3} - 16 x^{2}$ \n",
      "solucion_latex: $x^{2} \\left(x - 4\\right) \\left(3 x - 2\\right)^{2}$\n"
=======
      "enunciado_latex: $6 x^{5} - 35 x^{4} + 50 x^{3} - 25 x^{2} + 4 x$ \n",
      "solucion_latex: $x \\left(x - 4\\right) \\left(x - 1\\right) \\left(2 x - 1\\right) \\left(3 x - 1\\right)$\n"
>>>>>>> b29a43171aa503e61a2f73915e56372306b0b9df
     ]
    },
    {
     "data": {
      "text/markdown": [
       "#### Ejercicio:"
      ],
      "text/plain": [
       "<IPython.core.display.Markdown object>"
      ]
     },
     "metadata": {},
     "output_type": "display_data"
    },
    {
     "data": {
      "text/markdown": [
<<<<<<< HEAD
       "$3 x^{4} - 22 x^{3} + 25 x^{2} - 6 x$  $\\to$ $x \\left(x - 6\\right) \\left(x - 1\\right) \\left(3 x - 1\\right)$"
=======
       "$x^{2} - 8 x + 12$  $\\to$ $\\left(x - 6\\right) \\left(x - 2\\right)$"
>>>>>>> b29a43171aa503e61a2f73915e56372306b0b9df
      ],
      "text/plain": [
       "<IPython.core.display.Markdown object>"
      ]
     },
     "metadata": {},
     "output_type": "display_data"
    },
    {
     "name": "stdout",
     "output_type": "stream",
     "text": [
<<<<<<< HEAD
      "enunciado_latex: $3 x^{4} - 22 x^{3} + 25 x^{2} - 6 x$ \n",
      "solucion_latex: $x \\left(x - 6\\right) \\left(x - 1\\right) \\left(3 x - 1\\right)$\n"
=======
      "enunciado_latex: $x^{2} - 8 x + 12$ \n",
      "solucion_latex: $\\left(x - 6\\right) \\left(x - 2\\right)$\n"
>>>>>>> b29a43171aa503e61a2f73915e56372306b0b9df
     ]
    },
    {
     "data": {
      "text/markdown": [
       "#### Ejercicio:"
      ],
      "text/plain": [
       "<IPython.core.display.Markdown object>"
      ]
     },
     "metadata": {},
     "output_type": "display_data"
    },
    {
     "data": {
      "text/markdown": [
<<<<<<< HEAD
       "$x^{2}$  $\\to$ $x^{2}$"
=======
       "$x^{2} - 7 x + 10$  $\\to$ $\\left(x - 5\\right) \\left(x - 2\\right)$"
>>>>>>> b29a43171aa503e61a2f73915e56372306b0b9df
      ],
      "text/plain": [
       "<IPython.core.display.Markdown object>"
      ]
     },
     "metadata": {},
     "output_type": "display_data"
    },
    {
     "name": "stdout",
     "output_type": "stream",
     "text": [
<<<<<<< HEAD
      "enunciado_latex: $x^{2}$ \n",
      "solucion_latex: $x^{2}$\n"
=======
      "enunciado_latex: $x^{2} - 7 x + 10$ \n",
      "solucion_latex: $\\left(x - 5\\right) \\left(x - 2\\right)$\n"
>>>>>>> b29a43171aa503e61a2f73915e56372306b0b9df
     ]
    },
    {
     "data": {
      "text/markdown": [
       "#### Ejercicio:"
      ],
      "text/plain": [
       "<IPython.core.display.Markdown object>"
      ]
     },
     "metadata": {},
     "output_type": "display_data"
    },
    {
     "data": {
      "text/markdown": [
<<<<<<< HEAD
       "$x^{3} - 3 x^{2}$  $\\to$ $x^{2} \\left(x - 3\\right)$"
=======
       "$x^{2} - 10 x + 24$  $\\to$ $\\left(x - 6\\right) \\left(x - 4\\right)$"
>>>>>>> b29a43171aa503e61a2f73915e56372306b0b9df
      ],
      "text/plain": [
       "<IPython.core.display.Markdown object>"
      ]
     },
     "metadata": {},
     "output_type": "display_data"
    },
    {
     "name": "stdout",
     "output_type": "stream",
     "text": [
<<<<<<< HEAD
      "enunciado_latex: $x^{3} - 3 x^{2}$ \n",
      "solucion_latex: $x^{2} \\left(x - 3\\right)$\n"
=======
      "enunciado_latex: $x^{2} - 10 x + 24$ \n",
      "solucion_latex: $\\left(x - 6\\right) \\left(x - 4\\right)$\n"
>>>>>>> b29a43171aa503e61a2f73915e56372306b0b9df
     ]
    },
    {
     "data": {
      "text/markdown": [
       "#### Ejercicio:"
      ],
      "text/plain": [
       "<IPython.core.display.Markdown object>"
      ]
     },
     "metadata": {},
     "output_type": "display_data"
    },
    {
     "data": {
      "text/markdown": [
<<<<<<< HEAD
       "$x^{2} - 7 x + 6$  $\\to$ $\\left(x - 6\\right) \\left(x - 1\\right)$"
=======
       "$x^{3} - 16 x^{2} + 85 x - 150$  $\\to$ $\\left(x - 6\\right) \\left(x - 5\\right)^{2}$"
>>>>>>> b29a43171aa503e61a2f73915e56372306b0b9df
      ],
      "text/plain": [
       "<IPython.core.display.Markdown object>"
      ]
     },
     "metadata": {},
     "output_type": "display_data"
    },
    {
     "name": "stdout",
     "output_type": "stream",
     "text": [
<<<<<<< HEAD
      "enunciado_latex: $x^{2} - 7 x + 6$ \n",
      "solucion_latex: $\\left(x - 6\\right) \\left(x - 1\\right)$\n"
=======
      "enunciado_latex: $x^{3} - 16 x^{2} + 85 x - 150$ \n",
      "solucion_latex: $\\left(x - 6\\right) \\left(x - 5\\right)^{2}$\n"
>>>>>>> b29a43171aa503e61a2f73915e56372306b0b9df
     ]
    },
    {
     "data": {
      "text/markdown": [
       "#### Ejercicio:"
      ],
      "text/plain": [
       "<IPython.core.display.Markdown object>"
      ]
     },
     "metadata": {},
     "output_type": "display_data"
    },
    {
     "data": {
      "text/markdown": [
<<<<<<< HEAD
       "$x^{3} - 5 x^{2} + 7 x - 3$  $\\to$ $\\left(x - 3\\right) \\left(x - 1\\right)^{2}$"
=======
       "$2 x^{5} - 27 x^{4} + 131 x^{3} - 273 x^{2} + 227 x - 60$  $\\to$ $\\left(x - 5\\right) \\left(x - 4\\right) \\left(x - 3\\right) \\left(x - 1\\right) \\left(2 x - 1\\right)$"
>>>>>>> b29a43171aa503e61a2f73915e56372306b0b9df
      ],
      "text/plain": [
       "<IPython.core.display.Markdown object>"
      ]
     },
     "metadata": {},
     "output_type": "display_data"
    },
    {
     "name": "stdout",
     "output_type": "stream",
     "text": [
<<<<<<< HEAD
      "enunciado_latex: $x^{3} - 5 x^{2} + 7 x - 3$ \n",
      "solucion_latex: $\\left(x - 3\\right) \\left(x - 1\\right)^{2}$\n"
=======
      "enunciado_latex: $2 x^{5} - 27 x^{4} + 131 x^{3} - 273 x^{2} + 227 x - 60$ \n",
      "solucion_latex: $\\left(x - 5\\right) \\left(x - 4\\right) \\left(x - 3\\right) \\left(x - 1\\right) \\left(2 x - 1\\right)$\n"
>>>>>>> b29a43171aa503e61a2f73915e56372306b0b9df
     ]
    },
    {
     "data": {
      "text/markdown": [
       "#### Ejercicio:"
      ],
      "text/plain": [
       "<IPython.core.display.Markdown object>"
      ]
     },
     "metadata": {},
     "output_type": "display_data"
    },
    {
     "data": {
      "text/markdown": [
<<<<<<< HEAD
       "$x^{2} - 9 x + 18$  $\\to$ $\\left(x - 6\\right) \\left(x - 3\\right)$"
=======
       "$3 x^{4} - 32 x^{3} + 107 x^{2} - 118 x + 40$  $\\to$ $\\left(x - 5\\right) \\left(x - 4\\right) \\left(x - 1\\right) \\left(3 x - 2\\right)$"
>>>>>>> b29a43171aa503e61a2f73915e56372306b0b9df
      ],
      "text/plain": [
       "<IPython.core.display.Markdown object>"
      ]
     },
     "metadata": {},
     "output_type": "display_data"
    },
    {
     "name": "stdout",
     "output_type": "stream",
     "text": [
<<<<<<< HEAD
      "enunciado_latex: $x^{2} - 9 x + 18$ \n",
      "solucion_latex: $\\left(x - 6\\right) \\left(x - 3\\right)$\n"
=======
      "enunciado_latex: $3 x^{4} - 32 x^{3} + 107 x^{2} - 118 x + 40$ \n",
      "solucion_latex: $\\left(x - 5\\right) \\left(x - 4\\right) \\left(x - 1\\right) \\left(3 x - 2\\right)$\n"
>>>>>>> b29a43171aa503e61a2f73915e56372306b0b9df
     ]
    },
    {
     "data": {
      "text/markdown": [
       "#### Ejercicio:"
      ],
      "text/plain": [
       "<IPython.core.display.Markdown object>"
      ]
     },
     "metadata": {},
     "output_type": "display_data"
    },
    {
     "data": {
      "text/markdown": [
<<<<<<< HEAD
       "$x^{2} - 5 x$  $\\to$ $x \\left(x - 5\\right)$"
=======
       "$12 x^{5} - 191 x^{4} + 1055 x^{3} - 2284 x^{2} + 1468 x - 240$  $\\to$ $\\left(x - 6\\right) \\left(x - 5\\right) \\left(x - 4\\right) \\left(3 x - 2\\right) \\left(4 x - 1\\right)$"
>>>>>>> b29a43171aa503e61a2f73915e56372306b0b9df
      ],
      "text/plain": [
       "<IPython.core.display.Markdown object>"
      ]
     },
     "metadata": {},
     "output_type": "display_data"
    },
    {
     "name": "stdout",
     "output_type": "stream",
     "text": [
<<<<<<< HEAD
      "enunciado_latex: $x^{2} - 5 x$ \n",
      "solucion_latex: $x \\left(x - 5\\right)$\n"
=======
      "enunciado_latex: $12 x^{5} - 191 x^{4} + 1055 x^{3} - 2284 x^{2} + 1468 x - 240$ \n",
      "solucion_latex: $\\left(x - 6\\right) \\left(x - 5\\right) \\left(x - 4\\right) \\left(3 x - 2\\right) \\left(4 x - 1\\right)$\n"
>>>>>>> b29a43171aa503e61a2f73915e56372306b0b9df
     ]
    },
    {
     "data": {
      "text/markdown": [
       "#### Ejercicio:"
      ],
      "text/plain": [
       "<IPython.core.display.Markdown object>"
      ]
     },
     "metadata": {},
     "output_type": "display_data"
    },
    {
     "data": {
      "text/markdown": [
<<<<<<< HEAD
       "$8 x^{5} - 86 x^{4} + 309 x^{3} - 436 x^{2} + 211 x - 30$  $\\to$ $\\left(x - 5\\right) \\left(x - 3\\right) \\left(x - 2\\right) \\left(2 x - 1\\right) \\left(4 x - 1\\right)$"
=======
       "$9 x^{5} - 102 x^{4} + 376 x^{3} - 592 x^{2} + 400 x - 96$  $\\to$ $\\left(x - 6\\right) \\left(x - 2\\right)^{2} \\left(3 x - 2\\right)^{2}$"
>>>>>>> b29a43171aa503e61a2f73915e56372306b0b9df
      ],
      "text/plain": [
       "<IPython.core.display.Markdown object>"
      ]
     },
     "metadata": {},
     "output_type": "display_data"
    },
    {
     "name": "stdout",
     "output_type": "stream",
     "text": [
<<<<<<< HEAD
      "enunciado_latex: $8 x^{5} - 86 x^{4} + 309 x^{3} - 436 x^{2} + 211 x - 30$ \n",
      "solucion_latex: $\\left(x - 5\\right) \\left(x - 3\\right) \\left(x - 2\\right) \\left(2 x - 1\\right) \\left(4 x - 1\\right)$\n"
=======
      "enunciado_latex: $9 x^{5} - 102 x^{4} + 376 x^{3} - 592 x^{2} + 400 x - 96$ \n",
      "solucion_latex: $\\left(x - 6\\right) \\left(x - 2\\right)^{2} \\left(3 x - 2\\right)^{2}$\n"
>>>>>>> b29a43171aa503e61a2f73915e56372306b0b9df
     ]
    },
    {
     "data": {
      "text/markdown": [
       "#### Ejercicio:"
      ],
      "text/plain": [
       "<IPython.core.display.Markdown object>"
      ]
     },
     "metadata": {},
     "output_type": "display_data"
    },
    {
     "data": {
      "text/markdown": [
<<<<<<< HEAD
       "$9 x^{5} - 69 x^{4} + 187 x^{3} - 211 x^{2} + 88 x - 12$  $\\to$ $\\left(x - 3\\right) \\left(x - 2\\right)^{2} \\left(3 x - 1\\right)^{2}$"
=======
       "$x^{2} - 7 x + 10$  $\\to$ $\\left(x - 5\\right) \\left(x - 2\\right)$"
>>>>>>> b29a43171aa503e61a2f73915e56372306b0b9df
      ],
      "text/plain": [
       "<IPython.core.display.Markdown object>"
      ]
     },
     "metadata": {},
     "output_type": "display_data"
    },
    {
     "name": "stdout",
     "output_type": "stream",
     "text": [
<<<<<<< HEAD
      "enunciado_latex: $9 x^{5} - 69 x^{4} + 187 x^{3} - 211 x^{2} + 88 x - 12$ \n",
      "solucion_latex: $\\left(x - 3\\right) \\left(x - 2\\right)^{2} \\left(3 x - 1\\right)^{2}$\n"
=======
      "enunciado_latex: $x^{2} - 7 x + 10$ \n",
      "solucion_latex: $\\left(x - 5\\right) \\left(x - 2\\right)$\n"
>>>>>>> b29a43171aa503e61a2f73915e56372306b0b9df
     ]
    },
    {
     "data": {
      "text/markdown": [
       "#### Ejercicio:"
      ],
      "text/plain": [
       "<IPython.core.display.Markdown object>"
      ]
     },
     "metadata": {},
     "output_type": "display_data"
    },
    {
     "data": {
      "text/markdown": [
<<<<<<< HEAD
       "$x^{3} - 8 x^{2} + 17 x - 10$  $\\to$ $\\left(x - 5\\right) \\left(x - 2\\right) \\left(x - 1\\right)$"
=======
       "$8 x^{4} - 14 x^{3} + 7 x^{2} - x$  $\\to$ $x \\left(x - 1\\right) \\left(2 x - 1\\right) \\left(4 x - 1\\right)$"
>>>>>>> b29a43171aa503e61a2f73915e56372306b0b9df
      ],
      "text/plain": [
       "<IPython.core.display.Markdown object>"
      ]
     },
     "metadata": {},
     "output_type": "display_data"
    },
    {
     "name": "stdout",
     "output_type": "stream",
     "text": [
<<<<<<< HEAD
      "enunciado_latex: $x^{3} - 8 x^{2} + 17 x - 10$ \n",
      "solucion_latex: $\\left(x - 5\\right) \\left(x - 2\\right) \\left(x - 1\\right)$\n"
=======
      "enunciado_latex: $8 x^{4} - 14 x^{3} + 7 x^{2} - x$ \n",
      "solucion_latex: $x \\left(x - 1\\right) \\left(2 x - 1\\right) \\left(4 x - 1\\right)$\n"
>>>>>>> b29a43171aa503e61a2f73915e56372306b0b9df
     ]
    },
    {
     "data": {
      "text/markdown": [
       "#### Ejercicio:"
      ],
      "text/plain": [
       "<IPython.core.display.Markdown object>"
      ]
     },
     "metadata": {},
     "output_type": "display_data"
    },
    {
     "data": {
      "text/markdown": [
<<<<<<< HEAD
       "$6 x^{4} - 35 x^{3} + 50 x^{2} - 25 x + 4$  $\\to$ $\\left(x - 4\\right) \\left(x - 1\\right) \\left(2 x - 1\\right) \\left(3 x - 1\\right)$"
=======
       "$x^{2} - 8 x + 15$  $\\to$ $\\left(x - 5\\right) \\left(x - 3\\right)$"
>>>>>>> b29a43171aa503e61a2f73915e56372306b0b9df
      ],
      "text/plain": [
       "<IPython.core.display.Markdown object>"
      ]
     },
     "metadata": {},
     "output_type": "display_data"
    },
    {
     "name": "stdout",
     "output_type": "stream",
     "text": [
<<<<<<< HEAD
      "enunciado_latex: $6 x^{4} - 35 x^{3} + 50 x^{2} - 25 x + 4$ \n",
      "solucion_latex: $\\left(x - 4\\right) \\left(x - 1\\right) \\left(2 x - 1\\right) \\left(3 x - 1\\right)$\n"
=======
      "enunciado_latex: $x^{2} - 8 x + 15$ \n",
      "solucion_latex: $\\left(x - 5\\right) \\left(x - 3\\right)$\n"
>>>>>>> b29a43171aa503e61a2f73915e56372306b0b9df
     ]
    },
    {
     "data": {
      "text/markdown": [
       "#### Ejercicio:"
      ],
      "text/plain": [
       "<IPython.core.display.Markdown object>"
      ]
     },
     "metadata": {},
     "output_type": "display_data"
    },
    {
     "data": {
      "text/markdown": [
<<<<<<< HEAD
       "$x^{3} - 11 x^{2} + 36 x - 36$  $\\to$ $\\left(x - 6\\right) \\left(x - 3\\right) \\left(x - 2\\right)$"
=======
       "$4 x^{5} - 20 x^{4} + 29 x^{3} - 16 x^{2} + 3 x$  $\\to$ $x \\left(x - 3\\right) \\left(x - 1\\right) \\left(2 x - 1\\right)^{2}$"
>>>>>>> b29a43171aa503e61a2f73915e56372306b0b9df
      ],
      "text/plain": [
       "<IPython.core.display.Markdown object>"
      ]
     },
     "metadata": {},
     "output_type": "display_data"
    },
    {
     "name": "stdout",
     "output_type": "stream",
     "text": [
<<<<<<< HEAD
      "enunciado_latex: $x^{3} - 11 x^{2} + 36 x - 36$ \n",
      "solucion_latex: $\\left(x - 6\\right) \\left(x - 3\\right) \\left(x - 2\\right)$\n"
=======
      "enunciado_latex: $4 x^{5} - 20 x^{4} + 29 x^{3} - 16 x^{2} + 3 x$ \n",
      "solucion_latex: $x \\left(x - 3\\right) \\left(x - 1\\right) \\left(2 x - 1\\right)^{2}$\n"
>>>>>>> b29a43171aa503e61a2f73915e56372306b0b9df
     ]
    },
    {
     "data": {
      "text/markdown": [
       "#### Ejercicio:"
      ],
      "text/plain": [
       "<IPython.core.display.Markdown object>"
      ]
     },
     "metadata": {},
     "output_type": "display_data"
    },
    {
     "data": {
      "text/markdown": [
<<<<<<< HEAD
       "$x^{3} - 6 x^{2} + 9 x - 4$  $\\to$ $\\left(x - 4\\right) \\left(x - 1\\right)^{2}$"
=======
       "$4 x^{4} - 16 x^{3} + 13 x^{2} - 3 x$  $\\to$ $x \\left(x - 3\\right) \\left(2 x - 1\\right)^{2}$"
>>>>>>> b29a43171aa503e61a2f73915e56372306b0b9df
      ],
      "text/plain": [
       "<IPython.core.display.Markdown object>"
      ]
     },
     "metadata": {},
     "output_type": "display_data"
    },
    {
     "name": "stdout",
     "output_type": "stream",
     "text": [
<<<<<<< HEAD
      "enunciado_latex: $x^{3} - 6 x^{2} + 9 x - 4$ \n",
      "solucion_latex: $\\left(x - 4\\right) \\left(x - 1\\right)^{2}$\n"
=======
      "enunciado_latex: $4 x^{4} - 16 x^{3} + 13 x^{2} - 3 x$ \n",
      "solucion_latex: $x \\left(x - 3\\right) \\left(2 x - 1\\right)^{2}$\n"
>>>>>>> b29a43171aa503e61a2f73915e56372306b0b9df
     ]
    },
    {
     "data": {
      "text/markdown": [
       "#### Ejercicio:"
      ],
      "text/plain": [
       "<IPython.core.display.Markdown object>"
      ]
     },
     "metadata": {},
     "output_type": "display_data"
    },
    {
     "data": {
      "text/markdown": [
<<<<<<< HEAD
       "$x^{2} - 5 x$  $\\to$ $x \\left(x - 5\\right)$"
=======
       "$4 x^{5} - 41 x^{4} + 118 x^{3} - 99 x^{2} + 18 x$  $\\to$ $x \\left(x - 6\\right) \\left(x - 3\\right) \\left(x - 1\\right) \\left(4 x - 1\\right)$"
>>>>>>> b29a43171aa503e61a2f73915e56372306b0b9df
      ],
      "text/plain": [
       "<IPython.core.display.Markdown object>"
      ]
     },
     "metadata": {},
     "output_type": "display_data"
    },
    {
     "name": "stdout",
     "output_type": "stream",
     "text": [
<<<<<<< HEAD
      "enunciado_latex: $x^{2} - 5 x$ \n",
      "solucion_latex: $x \\left(x - 5\\right)$\n"
=======
      "enunciado_latex: $4 x^{5} - 41 x^{4} + 118 x^{3} - 99 x^{2} + 18 x$ \n",
      "solucion_latex: $x \\left(x - 6\\right) \\left(x - 3\\right) \\left(x - 1\\right) \\left(4 x - 1\\right)$\n"
>>>>>>> b29a43171aa503e61a2f73915e56372306b0b9df
     ]
    },
    {
     "data": {
      "text/markdown": [
       "#### Ejercicio:"
      ],
      "text/plain": [
       "<IPython.core.display.Markdown object>"
      ]
     },
     "metadata": {},
     "output_type": "display_data"
    },
    {
     "data": {
      "text/markdown": [
<<<<<<< HEAD
       "$x^{2} - 7 x + 10$  $\\to$ $\\left(x - 5\\right) \\left(x - 2\\right)$"
=======
       "$2 x^{5} - 27 x^{4} + 133 x^{3} - 284 x^{2} + 240 x - 64$  $\\to$ $\\left(x - 4\\right)^{3} \\left(x - 1\\right) \\left(2 x - 1\\right)$"
>>>>>>> b29a43171aa503e61a2f73915e56372306b0b9df
      ],
      "text/plain": [
       "<IPython.core.display.Markdown object>"
      ]
     },
     "metadata": {},
     "output_type": "display_data"
    },
    {
     "name": "stdout",
     "output_type": "stream",
     "text": [
<<<<<<< HEAD
      "enunciado_latex: $x^{2} - 7 x + 10$ \n",
      "solucion_latex: $\\left(x - 5\\right) \\left(x - 2\\right)$\n"
=======
      "enunciado_latex: $2 x^{5} - 27 x^{4} + 133 x^{3} - 284 x^{2} + 240 x - 64$ \n",
      "solucion_latex: $\\left(x - 4\\right)^{3} \\left(x - 1\\right) \\left(2 x - 1\\right)$\n"
>>>>>>> b29a43171aa503e61a2f73915e56372306b0b9df
     ]
    },
    {
     "data": {
      "text/markdown": [
       "#### Ejercicio:"
      ],
      "text/plain": [
       "<IPython.core.display.Markdown object>"
      ]
     },
     "metadata": {},
     "output_type": "display_data"
    },
    {
     "data": {
      "text/markdown": [
<<<<<<< HEAD
       "$12 x^{5} - 71 x^{4} + 153 x^{3} - 146 x^{2} + 60 x - 8$  $\\to$ $\\left(x - 2\\right)^{2} \\left(x - 1\\right) \\left(3 x - 2\\right) \\left(4 x - 1\\right)$"
=======
       "$x^{3} - 11 x^{2} + 34 x - 24$  $\\to$ $\\left(x - 6\\right) \\left(x - 4\\right) \\left(x - 1\\right)$"
>>>>>>> b29a43171aa503e61a2f73915e56372306b0b9df
      ],
      "text/plain": [
       "<IPython.core.display.Markdown object>"
      ]
     },
     "metadata": {},
     "output_type": "display_data"
    },
    {
     "name": "stdout",
     "output_type": "stream",
     "text": [
<<<<<<< HEAD
      "enunciado_latex: $12 x^{5} - 71 x^{4} + 153 x^{3} - 146 x^{2} + 60 x - 8$ \n",
      "solucion_latex: $\\left(x - 2\\right)^{2} \\left(x - 1\\right) \\left(3 x - 2\\right) \\left(4 x - 1\\right)$\n"
=======
      "enunciado_latex: $x^{3} - 11 x^{2} + 34 x - 24$ \n",
      "solucion_latex: $\\left(x - 6\\right) \\left(x - 4\\right) \\left(x - 1\\right)$\n"
>>>>>>> b29a43171aa503e61a2f73915e56372306b0b9df
     ]
    },
    {
     "data": {
      "text/markdown": [
       "#### Ejercicio:"
      ],
      "text/plain": [
       "<IPython.core.display.Markdown object>"
      ]
     },
     "metadata": {},
     "output_type": "display_data"
    },
    {
     "data": {
      "text/markdown": [
<<<<<<< HEAD
       "$12 x^{5} - 167 x^{4} + 805 x^{3} - 1531 x^{2} + 935 x - 150$  $\\to$ $\\left(x - 5\\right)^{2} \\left(x - 3\\right) \\left(3 x - 2\\right) \\left(4 x - 1\\right)$"
=======
       "$2 x^{4} - 13 x^{3} + 28 x^{2} - 23 x + 6$  $\\to$ $\\left(x - 3\\right) \\left(x - 2\\right) \\left(x - 1\\right) \\left(2 x - 1\\right)$"
>>>>>>> b29a43171aa503e61a2f73915e56372306b0b9df
      ],
      "text/plain": [
       "<IPython.core.display.Markdown object>"
      ]
     },
     "metadata": {},
     "output_type": "display_data"
    },
    {
     "name": "stdout",
     "output_type": "stream",
     "text": [
<<<<<<< HEAD
      "enunciado_latex: $12 x^{5} - 167 x^{4} + 805 x^{3} - 1531 x^{2} + 935 x - 150$ \n",
      "solucion_latex: $\\left(x - 5\\right)^{2} \\left(x - 3\\right) \\left(3 x - 2\\right) \\left(4 x - 1\\right)$\n"
=======
      "enunciado_latex: $2 x^{4} - 13 x^{3} + 28 x^{2} - 23 x + 6$ \n",
      "solucion_latex: $\\left(x - 3\\right) \\left(x - 2\\right) \\left(x - 1\\right) \\left(2 x - 1\\right)$\n"
>>>>>>> b29a43171aa503e61a2f73915e56372306b0b9df
     ]
    },
    {
     "data": {
      "text/markdown": [
       "#### Ejercicio:"
      ],
      "text/plain": [
       "<IPython.core.display.Markdown object>"
      ]
     },
     "metadata": {},
     "output_type": "display_data"
    },
    {
     "data": {
      "text/markdown": [
<<<<<<< HEAD
       "$2 x^{5} - 31 x^{4} + 173 x^{3} - 409 x^{2} + 365 x - 100$  $\\to$ $\\left(x - 5\\right)^{2} \\left(x - 4\\right) \\left(x - 1\\right) \\left(2 x - 1\\right)$"
=======
       "$x^{3} - 9 x^{2} + 24 x - 16$  $\\to$ $\\left(x - 4\\right)^{2} \\left(x - 1\\right)$"
>>>>>>> b29a43171aa503e61a2f73915e56372306b0b9df
      ],
      "text/plain": [
       "<IPython.core.display.Markdown object>"
      ]
     },
     "metadata": {},
     "output_type": "display_data"
    },
    {
     "name": "stdout",
     "output_type": "stream",
     "text": [
<<<<<<< HEAD
      "enunciado_latex: $2 x^{5} - 31 x^{4} + 173 x^{3} - 409 x^{2} + 365 x - 100$ \n",
      "solucion_latex: $\\left(x - 5\\right)^{2} \\left(x - 4\\right) \\left(x - 1\\right) \\left(2 x - 1\\right)$\n"
=======
      "enunciado_latex: $x^{3} - 9 x^{2} + 24 x - 16$ \n",
      "solucion_latex: $\\left(x - 4\\right)^{2} \\left(x - 1\\right)$\n"
>>>>>>> b29a43171aa503e61a2f73915e56372306b0b9df
     ]
    },
    {
     "data": {
      "text/markdown": [
       "#### Ejercicio:"
      ],
      "text/plain": [
       "<IPython.core.display.Markdown object>"
      ]
     },
     "metadata": {},
     "output_type": "display_data"
    },
    {
     "data": {
      "text/markdown": [
<<<<<<< HEAD
       "$16 x^{5} - 152 x^{4} + 393 x^{3} - 361 x^{2} + 116 x - 12$  $\\to$ $\\left(x - 6\\right) \\left(x - 2\\right) \\left(x - 1\\right) \\left(4 x - 1\\right)^{2}$"
=======
       "$x^{2} - 10 x + 24$  $\\to$ $\\left(x - 6\\right) \\left(x - 4\\right)$"
>>>>>>> b29a43171aa503e61a2f73915e56372306b0b9df
      ],
      "text/plain": [
       "<IPython.core.display.Markdown object>"
      ]
     },
     "metadata": {},
     "output_type": "display_data"
    },
    {
     "name": "stdout",
     "output_type": "stream",
     "text": [
<<<<<<< HEAD
      "enunciado_latex: $16 x^{5} - 152 x^{4} + 393 x^{3} - 361 x^{2} + 116 x - 12$ \n",
      "solucion_latex: $\\left(x - 6\\right) \\left(x - 2\\right) \\left(x - 1\\right) \\left(4 x - 1\\right)^{2}$\n"
=======
      "enunciado_latex: $x^{2} - 10 x + 24$ \n",
      "solucion_latex: $\\left(x - 6\\right) \\left(x - 4\\right)$\n"
>>>>>>> b29a43171aa503e61a2f73915e56372306b0b9df
     ]
    },
    {
     "data": {
      "text/markdown": [
       "#### Ejercicio:"
      ],
      "text/plain": [
       "<IPython.core.display.Markdown object>"
      ]
     },
     "metadata": {},
     "output_type": "display_data"
    },
    {
     "data": {
      "text/markdown": [
<<<<<<< HEAD
       "$3 x^{4} - 13 x^{3} + 19 x^{2} - 11 x + 2$  $\\to$ $\\left(x - 2\\right) \\left(x - 1\\right)^{2} \\left(3 x - 1\\right)$"
=======
       "$2 x^{5} - 15 x^{4} + 41 x^{3} - 51 x^{2} + 29 x - 6$  $\\to$ $\\left(x - 3\\right) \\left(x - 2\\right) \\left(x - 1\\right)^{2} \\left(2 x - 1\\right)$"
>>>>>>> b29a43171aa503e61a2f73915e56372306b0b9df
      ],
      "text/plain": [
       "<IPython.core.display.Markdown object>"
      ]
     },
     "metadata": {},
     "output_type": "display_data"
    },
    {
     "name": "stdout",
     "output_type": "stream",
     "text": [
<<<<<<< HEAD
      "enunciado_latex: $3 x^{4} - 13 x^{3} + 19 x^{2} - 11 x + 2$ \n",
      "solucion_latex: $\\left(x - 2\\right) \\left(x - 1\\right)^{2} \\left(3 x - 1\\right)$\n"
=======
      "enunciado_latex: $2 x^{5} - 15 x^{4} + 41 x^{3} - 51 x^{2} + 29 x - 6$ \n",
      "solucion_latex: $\\left(x - 3\\right) \\left(x - 2\\right) \\left(x - 1\\right)^{2} \\left(2 x - 1\\right)$\n"
>>>>>>> b29a43171aa503e61a2f73915e56372306b0b9df
     ]
    },
    {
     "data": {
      "text/markdown": [
       "#### Ejercicio:"
      ],
      "text/plain": [
       "<IPython.core.display.Markdown object>"
      ]
     },
     "metadata": {},
     "output_type": "display_data"
    },
    {
     "data": {
      "text/markdown": [
       "$6 x^{4} - 37 x^{3} + 73 x^{2} - 52 x + 12$  $\\to$ $\\left(x - 3\\right) \\left(x - 2\\right) \\left(2 x - 1\\right) \\left(3 x - 2\\right)$"
      ],
      "text/plain": [
       "<IPython.core.display.Markdown object>"
      ]
     },
     "metadata": {},
     "output_type": "display_data"
    },
    {
     "name": "stdout",
     "output_type": "stream",
     "text": [
      "enunciado_latex: $6 x^{4} - 37 x^{3} + 73 x^{2} - 52 x + 12$ \n",
      "solucion_latex: $\\left(x - 3\\right) \\left(x - 2\\right) \\left(2 x - 1\\right) \\left(3 x - 2\\right)$\n"
     ]
    },
    {
     "data": {
      "text/markdown": [
       "#### Ejercicio:"
      ],
      "text/plain": [
       "<IPython.core.display.Markdown object>"
      ]
     },
     "metadata": {},
     "output_type": "display_data"
    },
    {
     "data": {
      "text/markdown": [
<<<<<<< HEAD
       "$x^{2} - 8 x + 15$  $\\to$ $\\left(x - 5\\right) \\left(x - 3\\right)$"
=======
       "$9 x^{4} - 36 x^{3} + 47 x^{2} - 24 x + 4$  $\\to$ $\\left(x - 2\\right) \\left(x - 1\\right) \\left(3 x - 2\\right) \\left(3 x - 1\\right)$"
>>>>>>> b29a43171aa503e61a2f73915e56372306b0b9df
      ],
      "text/plain": [
       "<IPython.core.display.Markdown object>"
      ]
     },
     "metadata": {},
     "output_type": "display_data"
    },
    {
     "name": "stdout",
     "output_type": "stream",
     "text": [
<<<<<<< HEAD
      "enunciado_latex: $x^{2} - 8 x + 15$ \n",
      "solucion_latex: $\\left(x - 5\\right) \\left(x - 3\\right)$\n"
=======
      "enunciado_latex: $9 x^{4} - 36 x^{3} + 47 x^{2} - 24 x + 4$ \n",
      "solucion_latex: $\\left(x - 2\\right) \\left(x - 1\\right) \\left(3 x - 2\\right) \\left(3 x - 1\\right)$\n"
>>>>>>> b29a43171aa503e61a2f73915e56372306b0b9df
     ]
    },
    {
     "data": {
      "text/markdown": [
       "#### Ejercicio:"
      ],
      "text/plain": [
       "<IPython.core.display.Markdown object>"
      ]
     },
     "metadata": {},
     "output_type": "display_data"
    },
    {
     "data": {
      "text/markdown": [
<<<<<<< HEAD
       "$6 x^{4} - 25 x^{3} + 35 x^{2} - 20 x + 4$  $\\to$ $\\left(x - 2\\right) \\left(x - 1\\right) \\left(2 x - 1\\right) \\left(3 x - 2\\right)$"
=======
       "$9 x^{4} - 81 x^{3} + 182 x^{2} - 124 x + 24$  $\\to$ $\\left(x - 6\\right) \\left(x - 2\\right) \\left(3 x - 2\\right) \\left(3 x - 1\\right)$"
>>>>>>> b29a43171aa503e61a2f73915e56372306b0b9df
      ],
      "text/plain": [
       "<IPython.core.display.Markdown object>"
      ]
     },
     "metadata": {},
     "output_type": "display_data"
    },
    {
     "name": "stdout",
     "output_type": "stream",
     "text": [
<<<<<<< HEAD
      "enunciado_latex: $6 x^{4} - 25 x^{3} + 35 x^{2} - 20 x + 4$ \n",
      "solucion_latex: $\\left(x - 2\\right) \\left(x - 1\\right) \\left(2 x - 1\\right) \\left(3 x - 2\\right)$\n"
=======
      "enunciado_latex: $9 x^{4} - 81 x^{3} + 182 x^{2} - 124 x + 24$ \n",
      "solucion_latex: $\\left(x - 6\\right) \\left(x - 2\\right) \\left(3 x - 2\\right) \\left(3 x - 1\\right)$\n"
>>>>>>> b29a43171aa503e61a2f73915e56372306b0b9df
     ]
    },
    {
     "data": {
      "text/markdown": [
       "#### Ejercicio:"
      ],
      "text/plain": [
       "<IPython.core.display.Markdown object>"
      ]
     },
     "metadata": {},
     "output_type": "display_data"
    },
    {
     "data": {
      "text/markdown": [
<<<<<<< HEAD
       "$x^{3} - 6 x^{2}$  $\\to$ $x^{2} \\left(x - 6\\right)$"
=======
       "$x^{3} - 11 x^{2} + 30 x$  $\\to$ $x \\left(x - 6\\right) \\left(x - 5\\right)$"
>>>>>>> b29a43171aa503e61a2f73915e56372306b0b9df
      ],
      "text/plain": [
       "<IPython.core.display.Markdown object>"
      ]
     },
     "metadata": {},
     "output_type": "display_data"
    },
    {
     "name": "stdout",
     "output_type": "stream",
     "text": [
<<<<<<< HEAD
      "enunciado_latex: $x^{3} - 6 x^{2}$ \n",
      "solucion_latex: $x^{2} \\left(x - 6\\right)$\n"
=======
      "enunciado_latex: $x^{3} - 11 x^{2} + 30 x$ \n",
      "solucion_latex: $x \\left(x - 6\\right) \\left(x - 5\\right)$\n"
>>>>>>> b29a43171aa503e61a2f73915e56372306b0b9df
     ]
    },
    {
     "data": {
      "text/markdown": [
       "#### Ejercicio:"
      ],
      "text/plain": [
       "<IPython.core.display.Markdown object>"
      ]
     },
     "metadata": {},
     "output_type": "display_data"
    },
    {
     "data": {
      "text/markdown": [
<<<<<<< HEAD
       "$x^{4} - 11 x^{3} + 37 x^{2} - 45 x + 18$  $\\to$ $\\left(x - 6\\right) \\left(x - 3\\right) \\left(x - 1\\right)^{2}$"
=======
       "$4 x^{5} - 48 x^{4} + 197 x^{3} - 323 x^{2} + 198 x - 40$  $\\to$ $\\left(x - 5\\right) \\left(x - 4\\right) \\left(x - 2\\right) \\left(2 x - 1\\right)^{2}$"
>>>>>>> b29a43171aa503e61a2f73915e56372306b0b9df
      ],
      "text/plain": [
       "<IPython.core.display.Markdown object>"
      ]
     },
     "metadata": {},
     "output_type": "display_data"
    },
    {
     "name": "stdout",
     "output_type": "stream",
     "text": [
<<<<<<< HEAD
      "enunciado_latex: $x^{4} - 11 x^{3} + 37 x^{2} - 45 x + 18$ \n",
      "solucion_latex: $\\left(x - 6\\right) \\left(x - 3\\right) \\left(x - 1\\right)^{2}$\n"
=======
      "enunciado_latex: $4 x^{5} - 48 x^{4} + 197 x^{3} - 323 x^{2} + 198 x - 40$ \n",
      "solucion_latex: $\\left(x - 5\\right) \\left(x - 4\\right) \\left(x - 2\\right) \\left(2 x - 1\\right)^{2}$\n"
>>>>>>> b29a43171aa503e61a2f73915e56372306b0b9df
     ]
    },
    {
     "data": {
      "text/markdown": [
       "#### Ejercicio:"
      ],
      "text/plain": [
       "<IPython.core.display.Markdown object>"
      ]
     },
     "metadata": {},
     "output_type": "display_data"
    },
    {
     "data": {
      "text/markdown": [
<<<<<<< HEAD
       "$x^{2} - 8 x + 12$  $\\to$ $\\left(x - 6\\right) \\left(x - 2\\right)$"
=======
       "$6 x^{4} - 25 x^{3} + 23 x^{2} - 6 x$  $\\to$ $x \\left(x - 3\\right) \\left(2 x - 1\\right) \\left(3 x - 2\\right)$"
>>>>>>> b29a43171aa503e61a2f73915e56372306b0b9df
      ],
      "text/plain": [
       "<IPython.core.display.Markdown object>"
      ]
     },
     "metadata": {},
     "output_type": "display_data"
    },
    {
     "name": "stdout",
     "output_type": "stream",
     "text": [
<<<<<<< HEAD
      "enunciado_latex: $x^{2} - 8 x + 12$ \n",
      "solucion_latex: $\\left(x - 6\\right) \\left(x - 2\\right)$\n",
      "\\part $4 x^{5} - 56 x^{4} + 273 x^{3} - 533 x^{2} + 355 x - 75$  \\begin{solution}$\\left(x - 5\\right)^{2} \\left(x - 3\\right) \\left(2 x - 1\\right)^{2}$\\end{solution}  \\part $x^{2} - 5 x + 6$  \\begin{solution}$\\left(x - 3\\right) \\left(x - 2\\right)$\\end{solution}  \\part $x^{3} - 6 x^{2} + 5 x$  \\begin{solution}$x \\left(x - 5\\right) \\left(x - 1\\right)$\\end{solution}  \\part $9 x^{5} - 48 x^{4} + 52 x^{3} - 16 x^{2}$  \\begin{solution}$x^{2} \\left(x - 4\\right) \\left(3 x - 2\\right)^{2}$\\end{solution}  \\part $3 x^{4} - 22 x^{3} + 25 x^{2} - 6 x$  \\begin{solution}$x \\left(x - 6\\right) \\left(x - 1\\right) \\left(3 x - 1\\right)$\\end{solution}  \\part $x^{2}$  \\begin{solution}$x^{2}$\\end{solution}  \\part $x^{3} - 3 x^{2}$  \\begin{solution}$x^{2} \\left(x - 3\\right)$\\end{solution}  \\part $x^{2} - 7 x + 6$  \\begin{solution}$\\left(x - 6\\right) \\left(x - 1\\right)$\\end{solution}  \\part $x^{3} - 5 x^{2} + 7 x - 3$  \\begin{solution}$\\left(x - 3\\right) \\left(x - 1\\right)^{2}$\\end{solution}  \\part $x^{2} - 9 x + 18$  \\begin{solution}$\\left(x - 6\\right) \\left(x - 3\\right)$\\end{solution}  \\part $x^{2} - 5 x$  \\begin{solution}$x \\left(x - 5\\right)$\\end{solution}  \\part $8 x^{5} - 86 x^{4} + 309 x^{3} - 436 x^{2} + 211 x - 30$  \\begin{solution}$\\left(x - 5\\right) \\left(x - 3\\right) \\left(x - 2\\right) \\left(2 x - 1\\right) \\left(4 x - 1\\right)$\\end{solution}  \\part $9 x^{5} - 69 x^{4} + 187 x^{3} - 211 x^{2} + 88 x - 12$  \\begin{solution}$\\left(x - 3\\right) \\left(x - 2\\right)^{2} \\left(3 x - 1\\right)^{2}$\\end{solution}  \\part $x^{3} - 8 x^{2} + 17 x - 10$  \\begin{solution}$\\left(x - 5\\right) \\left(x - 2\\right) \\left(x - 1\\right)$\\end{solution}  \\part $6 x^{4} - 35 x^{3} + 50 x^{2} - 25 x + 4$  \\begin{solution}$\\left(x - 4\\right) \\left(x - 1\\right) \\left(2 x - 1\\right) \\left(3 x - 1\\right)$\\end{solution}  \\part $x^{3} - 11 x^{2} + 36 x - 36$  \\begin{solution}$\\left(x - 6\\right) \\left(x - 3\\right) \\left(x - 2\\right)$\\end{solution}  \\part $x^{3} - 6 x^{2} + 9 x - 4$  \\begin{solution}$\\left(x - 4\\right) \\left(x - 1\\right)^{2}$\\end{solution}  \\part $x^{2} - 5 x$  \\begin{solution}$x \\left(x - 5\\right)$\\end{solution}  \\part $x^{2} - 7 x + 10$  \\begin{solution}$\\left(x - 5\\right) \\left(x - 2\\right)$\\end{solution}  \\part $12 x^{5} - 71 x^{4} + 153 x^{3} - 146 x^{2} + 60 x - 8$  \\begin{solution}$\\left(x - 2\\right)^{2} \\left(x - 1\\right) \\left(3 x - 2\\right) \\left(4 x - 1\\right)$\\end{solution}  \\part $12 x^{5} - 167 x^{4} + 805 x^{3} - 1531 x^{2} + 935 x - 150$  \\begin{solution}$\\left(x - 5\\right)^{2} \\left(x - 3\\right) \\left(3 x - 2\\right) \\left(4 x - 1\\right)$\\end{solution}  \\part $2 x^{5} - 31 x^{4} + 173 x^{3} - 409 x^{2} + 365 x - 100$  \\begin{solution}$\\left(x - 5\\right)^{2} \\left(x - 4\\right) \\left(x - 1\\right) \\left(2 x - 1\\right)$\\end{solution}  \\part $16 x^{5} - 152 x^{4} + 393 x^{3} - 361 x^{2} + 116 x - 12$  \\begin{solution}$\\left(x - 6\\right) \\left(x - 2\\right) \\left(x - 1\\right) \\left(4 x - 1\\right)^{2}$\\end{solution}  \\part $3 x^{4} - 13 x^{3} + 19 x^{2} - 11 x + 2$  \\begin{solution}$\\left(x - 2\\right) \\left(x - 1\\right)^{2} \\left(3 x - 1\\right)$\\end{solution}  \\part $x^{3} - 11 x^{2} + 36 x - 36$  \\begin{solution}$\\left(x - 6\\right) \\left(x - 3\\right) \\left(x - 2\\right)$\\end{solution}  \\part $x^{2} - 8 x + 15$  \\begin{solution}$\\left(x - 5\\right) \\left(x - 3\\right)$\\end{solution}  \\part $6 x^{4} - 25 x^{3} + 35 x^{2} - 20 x + 4$  \\begin{solution}$\\left(x - 2\\right) \\left(x - 1\\right) \\left(2 x - 1\\right) \\left(3 x - 2\\right)$\\end{solution}  \\part $x^{3} - 6 x^{2}$  \\begin{solution}$x^{2} \\left(x - 6\\right)$\\end{solution}  \\part $x^{4} - 11 x^{3} + 37 x^{2} - 45 x + 18$  \\begin{solution}$\\left(x - 6\\right) \\left(x - 3\\right) \\left(x - 1\\right)^{2}$\\end{solution}  \\part $x^{2} - 8 x + 12$  \\begin{solution}$\\left(x - 6\\right) \\left(x - 2\\right)$\\end{solution}  \n"
=======
      "enunciado_latex: $6 x^{4} - 25 x^{3} + 23 x^{2} - 6 x$ \n",
      "solucion_latex: $x \\left(x - 3\\right) \\left(2 x - 1\\right) \\left(3 x - 2\\right)$\n",
      "\\part $x^{3} - 6 x^{2}$  \\begin{solution}$x^{2} \\left(x - 6\\right)$\\end{solution}  \\part $x^{2} - 4 x + 4$  \\begin{solution}$\\left(x - 2\\right)^{2}$\\end{solution}  \\part $x^{2} - 9 x + 20$  \\begin{solution}$\\left(x - 5\\right) \\left(x - 4\\right)$\\end{solution}  \\part $6 x^{5} - 35 x^{4} + 50 x^{3} - 25 x^{2} + 4 x$  \\begin{solution}$x \\left(x - 4\\right) \\left(x - 1\\right) \\left(2 x - 1\\right) \\left(3 x - 1\\right)$\\end{solution}  \\part $x^{2} - 8 x + 12$  \\begin{solution}$\\left(x - 6\\right) \\left(x - 2\\right)$\\end{solution}  \\part $x^{2} - 7 x + 10$  \\begin{solution}$\\left(x - 5\\right) \\left(x - 2\\right)$\\end{solution}  \\part $x^{2} - 10 x + 24$  \\begin{solution}$\\left(x - 6\\right) \\left(x - 4\\right)$\\end{solution}  \\part $x^{3} - 16 x^{2} + 85 x - 150$  \\begin{solution}$\\left(x - 6\\right) \\left(x - 5\\right)^{2}$\\end{solution}  \\part $2 x^{5} - 27 x^{4} + 131 x^{3} - 273 x^{2} + 227 x - 60$  \\begin{solution}$\\left(x - 5\\right) \\left(x - 4\\right) \\left(x - 3\\right) \\left(x - 1\\right) \\left(2 x - 1\\right)$\\end{solution}  \\part $3 x^{4} - 32 x^{3} + 107 x^{2} - 118 x + 40$  \\begin{solution}$\\left(x - 5\\right) \\left(x - 4\\right) \\left(x - 1\\right) \\left(3 x - 2\\right)$\\end{solution}  \\part $12 x^{5} - 191 x^{4} + 1055 x^{3} - 2284 x^{2} + 1468 x - 240$  \\begin{solution}$\\left(x - 6\\right) \\left(x - 5\\right) \\left(x - 4\\right) \\left(3 x - 2\\right) \\left(4 x - 1\\right)$\\end{solution}  \\part $9 x^{5} - 102 x^{4} + 376 x^{3} - 592 x^{2} + 400 x - 96$  \\begin{solution}$\\left(x - 6\\right) \\left(x - 2\\right)^{2} \\left(3 x - 2\\right)^{2}$\\end{solution}  \\part $x^{2} - 7 x + 10$  \\begin{solution}$\\left(x - 5\\right) \\left(x - 2\\right)$\\end{solution}  \\part $8 x^{4} - 14 x^{3} + 7 x^{2} - x$  \\begin{solution}$x \\left(x - 1\\right) \\left(2 x - 1\\right) \\left(4 x - 1\\right)$\\end{solution}  \\part $x^{2} - 8 x + 15$  \\begin{solution}$\\left(x - 5\\right) \\left(x - 3\\right)$\\end{solution}  \\part $4 x^{5} - 20 x^{4} + 29 x^{3} - 16 x^{2} + 3 x$  \\begin{solution}$x \\left(x - 3\\right) \\left(x - 1\\right) \\left(2 x - 1\\right)^{2}$\\end{solution}  \\part $4 x^{4} - 16 x^{3} + 13 x^{2} - 3 x$  \\begin{solution}$x \\left(x - 3\\right) \\left(2 x - 1\\right)^{2}$\\end{solution}  \\part $4 x^{5} - 41 x^{4} + 118 x^{3} - 99 x^{2} + 18 x$  \\begin{solution}$x \\left(x - 6\\right) \\left(x - 3\\right) \\left(x - 1\\right) \\left(4 x - 1\\right)$\\end{solution}  \\part $2 x^{5} - 27 x^{4} + 133 x^{3} - 284 x^{2} + 240 x - 64$  \\begin{solution}$\\left(x - 4\\right)^{3} \\left(x - 1\\right) \\left(2 x - 1\\right)$\\end{solution}  \\part $x^{3} - 11 x^{2} + 34 x - 24$  \\begin{solution}$\\left(x - 6\\right) \\left(x - 4\\right) \\left(x - 1\\right)$\\end{solution}  \\part $2 x^{4} - 13 x^{3} + 28 x^{2} - 23 x + 6$  \\begin{solution}$\\left(x - 3\\right) \\left(x - 2\\right) \\left(x - 1\\right) \\left(2 x - 1\\right)$\\end{solution}  \\part $x^{3} - 9 x^{2} + 24 x - 16$  \\begin{solution}$\\left(x - 4\\right)^{2} \\left(x - 1\\right)$\\end{solution}  \\part $x^{2} - 10 x + 24$  \\begin{solution}$\\left(x - 6\\right) \\left(x - 4\\right)$\\end{solution}  \\part $2 x^{5} - 15 x^{4} + 41 x^{3} - 51 x^{2} + 29 x - 6$  \\begin{solution}$\\left(x - 3\\right) \\left(x - 2\\right) \\left(x - 1\\right)^{2} \\left(2 x - 1\\right)$\\end{solution}  \\part $6 x^{4} - 37 x^{3} + 73 x^{2} - 52 x + 12$  \\begin{solution}$\\left(x - 3\\right) \\left(x - 2\\right) \\left(2 x - 1\\right) \\left(3 x - 2\\right)$\\end{solution}  \\part $9 x^{4} - 36 x^{3} + 47 x^{2} - 24 x + 4$  \\begin{solution}$\\left(x - 2\\right) \\left(x - 1\\right) \\left(3 x - 2\\right) \\left(3 x - 1\\right)$\\end{solution}  \\part $9 x^{4} - 81 x^{3} + 182 x^{2} - 124 x + 24$  \\begin{solution}$\\left(x - 6\\right) \\left(x - 2\\right) \\left(3 x - 2\\right) \\left(3 x - 1\\right)$\\end{solution}  \\part $x^{3} - 11 x^{2} + 30 x$  \\begin{solution}$x \\left(x - 6\\right) \\left(x - 5\\right)$\\end{solution}  \\part $4 x^{5} - 48 x^{4} + 197 x^{3} - 323 x^{2} + 198 x - 40$  \\begin{solution}$\\left(x - 5\\right) \\left(x - 4\\right) \\left(x - 2\\right) \\left(2 x - 1\\right)^{2}$\\end{solution}  \\part $6 x^{4} - 25 x^{3} + 23 x^{2} - 6 x$  \\begin{solution}$x \\left(x - 3\\right) \\left(2 x - 1\\right) \\left(3 x - 2\\right)$\\end{solution}  \n"
>>>>>>> b29a43171aa503e61a2f73915e56372306b0b9df
     ]
    }
   ],
   "source": [
    "# Factoriza los siguientes polinomios:\n",
    "\n",
    "# Número de polinomios\n",
    "\n",
    "n=30\n",
    "\n",
    "ejercicios = [\n",
    "              raices_a_polinomio(lista_raices()) for i in range(n)\n",
    "            ]\n",
    "\n",
    "display(md(\"## Factoriza los siguientes polinomios:\"))\n",
    "\n",
    "#[mostrar_ejercicio(r\"${}$ \".format(latex(e)), \n",
    "#                   r\"${}$\".format(latex(factor(e)))\n",
    "#                  )\n",
    "#for e in ejercicios]\n",
    "\n",
    "texto_latex = \"\"\n",
    "\n",
    "for e in ejercicios:\n",
    "    enunciado, solucion = mostrar_ejercicio(r\"${}$ \".format(latex(e)), \n",
    "                   r\"${}$\".format(latex(factor(e)))) \n",
    "    texto_latex += r\"\\part \" + enunciado + r\" \\begin{solution}\" + solucion + r\"\\end{solution}  \" \n",
    "         \n",
    "        \n",
    "print(texto_latex)        \n"
   ]
  },
  {
   "cell_type": "code",
   "execution_count": 11,
   "metadata": {
    "colab": {
     "base_uri": "https://localhost:8080/",
     "height": 38
    },
    "id": "wBP92qptjMYC",
    "outputId": "086cd06b-f3a4-4799-c018-6fac9a3b5702"
   },
   "outputs": [
    {
     "data": {
      "image/png": "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\n",
      "text/latex": [
       "$\\displaystyle x \\left(x - 4\\right) \\left(x - 3\\right) \\left(x - 1\\right) \\left(3 x - 2\\right) \\left(3 x - 1\\right) \\left(3 x + 1\\right)$"
      ],
      "text/plain": [
       "x⋅(x - 4)⋅(x - 3)⋅(x - 1)⋅(3⋅x - 2)⋅(3⋅x - 1)⋅(3⋅x + 1)"
      ]
     },
     "execution_count": 11,
     "metadata": {},
     "output_type": "execute_result"
    }
   ],
   "source": [
    "factor(raices_a_polinomio([-1/3,1/3,1,3,4,2/3,0]))"
   ]
  },
  {
   "cell_type": "code",
   "execution_count": 12,
   "metadata": {
    "colab": {
     "base_uri": "https://localhost:8080/"
    },
    "id": "PaS8VMo_jMYD",
    "outputId": "3a152d2f-3a12-43f1-fd35-e694ee98d34a"
   },
   "outputs": [
    {
     "name": "stdout",
     "output_type": "stream",
     "text": [
      "ANTLR runtime and generated code versions disagree: 4.8!=4.7.1\n",
      "ANTLR runtime and generated code versions disagree: 4.8!=4.7.1\n",
      "ANTLR runtime and generated code versions disagree: 4.8!=4.7.1\n",
      "ANTLR runtime and generated code versions disagree: 4.8!=4.7.1\n",
      "[x*(x - 1)*(2*x - 3), (x + 2)*(2*x - 3)]\n"
     ]
    },
    {
     "data": {
      "text/plain": [
       "[None]"
      ]
     },
     "execution_count": 12,
     "metadata": {},
     "output_type": "execute_result"
    }
   ],
   "source": [
    "ejercicios=[r'\\frac{2x^3-5x^2+3x}{2x^2+x-6}']\n",
    "\n",
    "[print([factor(parse_latex(e).as_numer_denom()[0]),factor(parse_latex(e).as_numer_denom()[1])]) for e in ejercicios]\n",
    "\n",
    "\n"
   ]
  },
  {
   "cell_type": "code",
   "execution_count": 13,
   "metadata": {
    "id": "BwQe3ngbjMYE",
    "outputId": "1260e59c-2b95-494b-8026-3f55b678dbce"
   },
   "outputs": [
    {
     "data": {
      "text/markdown": [
       "## Halla el valor de k para que la siguiente división sea exacta:"
      ],
      "text/plain": [
       "<IPython.core.display.Markdown object>"
      ]
     },
     "metadata": {},
     "output_type": "display_data"
    },
    {
     "name": "stdout",
     "output_type": "stream",
     "text": [
      "ANTLR runtime and generated code versions disagree: 4.8!=4.7.1\n",
      "ANTLR runtime and generated code versions disagree: 4.8!=4.7.1\n",
      "ANTLR runtime and generated code versions disagree: 4.8!=4.7.1\n",
      "ANTLR runtime and generated code versions disagree: 4.8!=4.7.1\n"
     ]
    },
    {
     "data": {
      "text/markdown": [
       "#### Ejercicio:"
      ],
      "text/plain": [
       "<IPython.core.display.Markdown object>"
      ]
     },
     "metadata": {},
     "output_type": "display_data"
    },
    {
     "data": {
      "text/markdown": [
       "$\\left( 3x^2+kx-2 \\right): \\left(x + 2\\right)$  $\\to$ $10 - 2 k=0 \\to k = 5 $"
      ],
      "text/plain": [
       "<IPython.core.display.Markdown object>"
      ]
     },
     "metadata": {},
     "output_type": "display_data"
    },
    {
     "name": "stdout",
     "output_type": "stream",
     "text": [
      "enunciado_latex: $\\left( 3x^2+kx-2 \\right): \\left(x + 2\\right)$ \n",
      "solucion_latex: $10 - 2 k=0 \\to k = 5 $\n"
     ]
    },
    {
     "data": {
      "text/plain": [
       "[('$\\\\left( 3x^2+kx-2 \\\\right): \\\\left(x + 2\\\\right)$ ',\n",
       "  '$10 - 2 k=0 \\\\to k = 5 $')]"
      ]
     },
     "execution_count": 13,
     "metadata": {},
     "output_type": "execute_result"
    }
   ],
   "source": [
    "# Halla el valor de \\emph{k} para que la siguiente división sea exacta:\n",
    "\n",
    "k = symbols('k')\n",
    "\n",
    "ejercicios = [[r'3x^2+kx-2',-2],\n",
    "            ]\n",
    "\n",
    "display(md(\"## Halla el valor de k para que la siguiente división sea exacta:\"))\n",
    "\n",
    "[mostrar_ejercicio(r\"$\\left( {} \\right): \\left({}\\right)$ \".format(e[0],latex(x-e[1])), \n",
    "                   r\"${}=0 \\to k = {} $\".format(latex(parse_latex(e[0]).subs(x,e[1])),solve(parse_latex(e[0]).subs(x,e[1]),k)[0])) \n",
    "for e in ejercicios]\n"
   ]
  },
  {
   "cell_type": "code",
   "execution_count": 14,
   "metadata": {
    "id": "JhTsXGCYjMYL",
    "outputId": "4ae8b8e0-5308-4ae2-8cdb-676f8a0f83f7"
   },
   "outputs": [
    {
     "data": {
      "text/markdown": [
       "## Halla el valor de k para que la siguiente división sea exacta tengar un resto determinado:"
      ],
      "text/plain": [
       "<IPython.core.display.Markdown object>"
      ]
     },
     "metadata": {},
     "output_type": "display_data"
    },
    {
     "name": "stdout",
     "output_type": "stream",
     "text": [
      "ANTLR runtime and generated code versions disagree: 4.8!=4.7.1\n",
      "ANTLR runtime and generated code versions disagree: 4.8!=4.7.1\n",
      "ANTLR runtime and generated code versions disagree: 4.8!=4.7.1\n",
      "ANTLR runtime and generated code versions disagree: 4.8!=4.7.1\n"
     ]
    },
    {
     "data": {
      "text/markdown": [
       "#### Ejercicio:"
      ],
      "text/plain": [
       "<IPython.core.display.Markdown object>"
      ]
     },
     "metadata": {},
     "output_type": "display_data"
    },
    {
     "data": {
      "text/markdown": [
       "$\\left( 2x^3-12x+2k \\right): \\left(x - 3\\right)$  y resto -5 $\\to$ $2 k + 18=-5 \\to k = -23/2 $"
      ],
      "text/plain": [
       "<IPython.core.display.Markdown object>"
      ]
     },
     "metadata": {},
     "output_type": "display_data"
    },
    {
     "name": "stdout",
     "output_type": "stream",
     "text": [
      "enunciado_latex: $\\left( 2x^3-12x+2k \\right): \\left(x - 3\\right)$  y resto -5\n",
      "solucion_latex: $2 k + 18=-5 \\to k = -23/2 $\n"
     ]
    },
    {
     "data": {
      "text/plain": [
       "[('$\\\\left( 2x^3-12x+2k \\\\right): \\\\left(x - 3\\\\right)$  y resto -5',\n",
       "  '$2 k + 18=-5 \\\\to k = -23/2 $')]"
      ]
     },
     "execution_count": 14,
     "metadata": {},
     "output_type": "execute_result"
    }
   ],
   "source": [
    "# Halla el valor de \\emph{k} para que la siguiente división tenga un resto determinado:\n",
    "\n",
    "k = symbols('k')\n",
    "\n",
    "ejercicios = [[r'2x^3-12x+2k',3, -5],\n",
    "            ]\n",
    "\n",
    "display(md(\"## Halla el valor de k para que la siguiente división sea exacta tengar un resto determinado:\"))\n",
    "\n",
    "[mostrar_ejercicio(r\"$\\left( {} \\right): \\left({}\\right)$  y resto {}\".format(e[0],latex(x-e[1]), latex(e[2])), \n",
    "                   #r\"\" \n",
    "                   r\"${}={} \\to k = {} $\".format(latex(parse_latex(e[0]).subs(x,e[1])),latex(e[2]),solve(parse_latex(e[0]).subs(x,e[1])-e[2],k)[0])\n",
    "                  ) \n",
    "for e in ejercicios]\n"
   ]
  },
  {
   "cell_type": "code",
<<<<<<< HEAD
   "execution_count": 15,
=======
   "execution_count": null,
>>>>>>> b29a43171aa503e61a2f73915e56372306b0b9df
   "metadata": {
    "colab": {
     "base_uri": "https://localhost:8080/",
     "height": 348
    },
    "id": "R1Eu1asbjMYL",
    "outputId": "77ace657-a802-4df1-d882-4b711661682b"
   },
<<<<<<< HEAD
   "outputs": [
    {
     "data": {
      "text/markdown": [
       "## Resuelve las siguientes ecuaciones:"
      ],
      "text/plain": [
       "<IPython.core.display.Markdown object>"
      ]
     },
     "metadata": {},
     "output_type": "display_data"
    },
    {
     "data": {
      "text/markdown": [
       "#### Ejercicio:"
      ],
      "text/plain": [
       "<IPython.core.display.Markdown object>"
      ]
     },
     "metadata": {},
     "output_type": "display_data"
    },
    {
     "data": {
      "text/markdown": [
       "$2x^4-6x^3+6x^2-2x=0$  $\\to$ $2x^4-6x^3+6x^2-2x=0 \\to 2 x \\left(x - 1\\right)^{3} = 0 \\to x=0, x=1$"
      ],
      "text/plain": [
       "<IPython.core.display.Markdown object>"
      ]
     },
     "metadata": {},
     "output_type": "display_data"
    },
    {
     "name": "stdout",
     "output_type": "stream",
     "text": [
      "enunciado_latex: $2x^4-6x^3+6x^2-2x=0$ \n",
      "solucion_latex: $2x^4-6x^3+6x^2-2x=0 \\to 2 x \\left(x - 1\\right)^{3} = 0 \\to x=0, x=1$\n"
     ]
    },
    {
     "data": {
      "text/markdown": [
       "#### Ejercicio:"
      ],
      "text/plain": [
       "<IPython.core.display.Markdown object>"
      ]
     },
     "metadata": {},
     "output_type": "display_data"
    },
    {
     "data": {
      "text/markdown": [
       "$6x^3-12x^2+6x=0$  $\\to$ $6x^3-12x^2+6x=0 \\to 6 x \\left(x - 1\\right)^{2} = 0 \\to x=0, x=1$"
      ],
      "text/plain": [
       "<IPython.core.display.Markdown object>"
      ]
     },
     "metadata": {},
     "output_type": "display_data"
    },
    {
     "name": "stdout",
     "output_type": "stream",
     "text": [
      "enunciado_latex: $6x^3-12x^2+6x=0$ \n",
      "solucion_latex: $6x^3-12x^2+6x=0 \\to 6 x \\left(x - 1\\right)^{2} = 0 \\to x=0, x=1$\n"
     ]
    },
    {
     "data": {
      "text/plain": [
       "[('$2x^4-6x^3+6x^2-2x=0$ ',\n",
       "  '$2x^4-6x^3+6x^2-2x=0 \\\\to 2 x \\\\left(x - 1\\\\right)^{3} = 0 \\\\to x=0, x=1$'),\n",
       " ('$6x^3-12x^2+6x=0$ ',\n",
       "  '$6x^3-12x^2+6x=0 \\\\to 6 x \\\\left(x - 1\\\\right)^{2} = 0 \\\\to x=0, x=1$')]"
      ]
     },
     "execution_count": 15,
     "metadata": {},
     "output_type": "execute_result"
    }
   ],
=======
   "outputs": [],
>>>>>>> b29a43171aa503e61a2f73915e56372306b0b9df
   "source": [
    "# Resuelve las siguientes ecuaciones:\n",
    "\n",
    "ejercicios = [\n",
    "              r'2x^4-6x^3+6x^2-2x=0',\n",
    "              r'6x^3-12x^2+6x=0',\n",
    "            ]\n",
    "\n",
    "display(md(\"## Resuelve las siguientes ecuaciones:\"))\n",
    "\n",
    "[mostrar_ejercicio(r\"${}$ \".format(e), \n",
    "                   r\"${} \\to {} \\to x=\".format(e,latex(factor(parse_latex(e))))\n",
    "                   +r\", x=\".join(map(latex,solve(parse_latex(e))))+r\"$\"\n",
    "                  )\n",
    "for e in ejercicios]\n"
   ]
  },
  {
   "cell_type": "code",
<<<<<<< HEAD
   "execution_count": 16,
=======
   "execution_count": null,
>>>>>>> b29a43171aa503e61a2f73915e56372306b0b9df
   "metadata": {
    "colab": {
     "base_uri": "https://localhost:8080/",
     "height": 776
    },
    "id": "KGVcn0_LlnOG",
    "outputId": "a1792b84-eaa5-4812-8f0e-2502263f5e88"
   },
   "outputs": [],
   "source": [
    "# Resuelve las siguientes ecuaciones: Para hoja complementaria\n",
    "\n",
    "ejercicios = [\n",
    "              r'18 x^{4} + 3 x^{3} = 3 x^{2}',\n",
    "              r'5 x^{4} - 20 x^{3} + 10 x^{2} + 20 x - 15',\n",
    "              r'\\sqrt{x+4}-7=0',\n",
    "              r'\\sqrt{169-x^2}+17=x',\n",
    "              r'\\sqrt{3x+1}=1+\\sqrt{2x-1}',\n",
    "            # ya no\n",
    "              r'\\sqrt{7+2x}-\\sqrt{3+x}=1',\n",
    "              r'\\sqrt{x+5}+\\sqrt{2x+8}=7',\n",
    "              r'\\frac{x-3}{x^2-x}-\\frac{x+3}{x^2+x}=\\frac{2-3x}{x^2-1}',\n",
    "              r'\\frac{4x}{x+1}+\\frac{x}{2x-1}=2',\n",
    "              r'\\frac{x-1}{x^2+2x}-\\frac{2}{x^2-2x}=\\frac{x}{x^2-4}'\n",
    "            \n",
    "            \n",
    "            ]\n",
    "\n",
    "display(md(\"## Resuelve las siguientes ecuaciones:\"))\n",
    "\n",
    "[mostrar_ejercicio(r\"${}$ \".format(e), \n",
    "                   # r\"${} \\to {} \\to x=\".format(e,latex(factor(parse_latex(e))))\n",
    "                   r\"${} \\to x=\".format(e)\n",
    "                   +r\", x=\".join(map(latex,solve(parse_latex(e))))+r\"$\"\n",
    "                  )\n",
    "for e in ejercicios]\n"
   ]
  },
  {
   "cell_type": "code",
   "execution_count": null,
   "metadata": {
    "colab": {
     "base_uri": "https://localhost:8080/",
     "height": 776
    },
    "id": "KGVcn0_LlnOG",
    "outputId": "a1792b84-eaa5-4812-8f0e-2502263f5e88"
   },
   "outputs": [
    {
     "data": {
      "text/markdown": [
       "## Resuelve las siguientes ecuaciones logarítmicas:"
      ],
      "text/plain": [
       "<IPython.core.display.Markdown object>"
      ]
     },
     "metadata": {},
     "output_type": "display_data"
    },
    {
     "data": {
      "text/markdown": [
       "#### Ejercicio:"
      ],
      "text/plain": [
       "<IPython.core.display.Markdown object>"
      ]
     },
     "metadata": {},
     "output_type": "display_data"
    },
    {
     "data": {
      "text/markdown": [
       "$\\log x - \\log 3 = 2$  $\\to$ $\\log x - \\log 3 = 2 \\to x=300$"
      ],
      "text/plain": [
       "<IPython.core.display.Markdown object>"
      ]
     },
     "metadata": {},
     "output_type": "display_data"
    }
   ],
   "source": [
    "# Resuelve las siguientes ecuaciones: Para hoja complementaria\n",
    "\n",
    "ejercicios = [[r'\\log x - \\log 3 = 2',log(x,10)-log(3,10)-2],\n",
    "              [r'2\\log \\frac{x}{2}+2\\log \\frac{x}{3}=3\\log x - \\log \\frac{32}{9}', 2*log(x/2,10)+2*log(x/3,10)-3*log(x,10)+log(32/9,10)]\n",
    "             ]\n",
    "\n",
    "display(md(\"## Resuelve las siguientes ecuaciones logarítmicas:\"))\n",
    "\n",
    "[mostrar_ejercicio(r\"${}$ \".format(e[0]), \n",
    "                   # r\"${} \\to {} \\to x=\".format(e,latex(factor(parse_latex(e))))\n",
    "                   r\"${} \\to x=\".format(e[0])\n",
    "                   +r\", x=\".join(map(latex,solve(e[1])))+r\"$\"\n",
    "                  )\n",
    "for e in ejercicios]\n"
   ]
  },
  {
   "cell_type": "code",
   "execution_count": null,
   "metadata": {},
   "outputs": [],
   "source": [
    "solve(log(x,10)-log(3,10)-2)"
   ]
  },
  {
   "cell_type": "code",
   "execution_count": null,
   "metadata": {
    "colab": {
     "base_uri": "https://localhost:8080/",
     "height": 36
    },
<<<<<<< HEAD
    {
     "name": "stdout",
     "output_type": "stream",
     "text": [
      "enunciado_latex: $5 x^{4} - 20 x^{3} + 10 x^{2} + 20 x - 15$ \n",
      "solucion_latex: $5 x^{4} - 20 x^{3} + 10 x^{2} + 20 x - 15 \\to x=-1, x=1, x=3$\n"
     ]
    },
    {
     "data": {
      "text/markdown": [
       "#### Ejercicio:"
      ],
      "text/plain": [
       "<IPython.core.display.Markdown object>"
      ]
     },
     "metadata": {},
     "output_type": "display_data"
    },
    {
     "data": {
      "text/markdown": [
       "$\\sqrt{x+4}-7=0$  $\\to$ $\\sqrt{x+4}-7=0 \\to x=45$"
      ],
      "text/plain": [
       "<IPython.core.display.Markdown object>"
      ]
     },
     "metadata": {},
     "output_type": "display_data"
    },
    {
     "name": "stdout",
     "output_type": "stream",
     "text": [
      "enunciado_latex: $\\sqrt{x+4}-7=0$ \n",
      "solucion_latex: $\\sqrt{x+4}-7=0 \\to x=45$\n"
     ]
    },
    {
     "data": {
      "text/markdown": [
       "#### Ejercicio:"
      ],
      "text/plain": [
       "<IPython.core.display.Markdown object>"
      ]
     },
     "metadata": {},
     "output_type": "display_data"
    },
    {
     "data": {
      "text/markdown": [
       "$\\sqrt{169-x^2}+17=x$  $\\to$ $\\sqrt{169-x^2}+17=x \\to x=$"
      ],
      "text/plain": [
       "<IPython.core.display.Markdown object>"
      ]
     },
     "metadata": {},
     "output_type": "display_data"
    },
    {
     "name": "stdout",
     "output_type": "stream",
     "text": [
      "enunciado_latex: $\\sqrt{169-x^2}+17=x$ \n",
      "solucion_latex: $\\sqrt{169-x^2}+17=x \\to x=$\n"
     ]
    },
    {
     "data": {
      "text/markdown": [
       "#### Ejercicio:"
      ],
      "text/plain": [
       "<IPython.core.display.Markdown object>"
      ]
     },
     "metadata": {},
     "output_type": "display_data"
    },
    {
     "data": {
      "text/markdown": [
       "$\\sqrt{3x+1}=1+\\sqrt{2x-1}$  $\\to$ $\\sqrt{3x+1}=1+\\sqrt{2x-1} \\to x=1, x=5$"
      ],
      "text/plain": [
       "<IPython.core.display.Markdown object>"
      ]
     },
     "metadata": {},
     "output_type": "display_data"
    },
    {
     "name": "stdout",
     "output_type": "stream",
     "text": [
      "enunciado_latex: $\\sqrt{3x+1}=1+\\sqrt{2x-1}$ \n",
      "solucion_latex: $\\sqrt{3x+1}=1+\\sqrt{2x-1} \\to x=1, x=5$\n"
     ]
    },
    {
     "data": {
      "text/markdown": [
       "#### Ejercicio:"
      ],
      "text/plain": [
       "<IPython.core.display.Markdown object>"
      ]
     },
     "metadata": {},
     "output_type": "display_data"
    },
    {
     "data": {
      "text/markdown": [
       "$\\sqrt{7+2x}-\\sqrt{3+x}=1$  $\\to$ $\\sqrt{7+2x}-\\sqrt{3+x}=1 \\to x=-3, x=1$"
      ],
      "text/plain": [
       "<IPython.core.display.Markdown object>"
      ]
     },
     "metadata": {},
     "output_type": "display_data"
    },
    {
     "name": "stdout",
     "output_type": "stream",
     "text": [
      "enunciado_latex: $\\sqrt{7+2x}-\\sqrt{3+x}=1$ \n",
      "solucion_latex: $\\sqrt{7+2x}-\\sqrt{3+x}=1 \\to x=-3, x=1$\n"
     ]
    },
    {
     "data": {
      "text/markdown": [
       "#### Ejercicio:"
      ],
      "text/plain": [
       "<IPython.core.display.Markdown object>"
      ]
     },
     "metadata": {},
     "output_type": "display_data"
    },
    {
     "data": {
      "text/markdown": [
       "$\\sqrt{x+5}+\\sqrt{2x+8}=7$  $\\to$ $\\sqrt{x+5}+\\sqrt{2x+8}=7 \\to x=4$"
      ],
      "text/plain": [
       "<IPython.core.display.Markdown object>"
      ]
     },
     "metadata": {},
     "output_type": "display_data"
    },
    {
     "name": "stdout",
     "output_type": "stream",
     "text": [
      "enunciado_latex: $\\sqrt{x+5}+\\sqrt{2x+8}=7$ \n",
      "solucion_latex: $\\sqrt{x+5}+\\sqrt{2x+8}=7 \\to x=4$\n"
     ]
    },
    {
     "data": {
      "text/markdown": [
       "#### Ejercicio:"
      ],
      "text/plain": [
       "<IPython.core.display.Markdown object>"
      ]
     },
     "metadata": {},
     "output_type": "display_data"
    },
    {
     "data": {
      "text/markdown": [
       "$\\frac{x-3}{x^2-x}-\\frac{x+3}{x^2+x}=\\frac{2-3x}{x^2-1}$  $\\to$ $\\frac{x-3}{x^2-x}-\\frac{x+3}{x^2+x}=\\frac{2-3x}{x^2-1} \\to x=2$"
      ],
      "text/plain": [
       "<IPython.core.display.Markdown object>"
      ]
     },
     "metadata": {},
     "output_type": "display_data"
    },
    {
     "name": "stdout",
     "output_type": "stream",
     "text": [
      "enunciado_latex: $\\frac{x-3}{x^2-x}-\\frac{x+3}{x^2+x}=\\frac{2-3x}{x^2-1}$ \n",
      "solucion_latex: $\\frac{x-3}{x^2-x}-\\frac{x+3}{x^2+x}=\\frac{2-3x}{x^2-1} \\to x=2$\n"
     ]
    },
    {
     "data": {
      "text/markdown": [
       "#### Ejercicio:"
      ],
      "text/plain": [
       "<IPython.core.display.Markdown object>"
      ]
     },
     "metadata": {},
     "output_type": "display_data"
    },
    {
     "data": {
      "text/markdown": [
       "$\\frac{4x}{x+1}+\\frac{x}{2x-1}=2$  $\\to$ $\\frac{4x}{x+1}+\\frac{x}{2x-1}=2 \\to x=\\frac{1}{2} - \\frac{\\sqrt{15} i}{10}, x=\\frac{1}{2} + \\frac{\\sqrt{15} i}{10}$"
      ],
      "text/plain": [
       "<IPython.core.display.Markdown object>"
      ]
     },
     "metadata": {},
     "output_type": "display_data"
    },
    {
     "name": "stdout",
     "output_type": "stream",
     "text": [
      "enunciado_latex: $\\frac{4x}{x+1}+\\frac{x}{2x-1}=2$ \n",
      "solucion_latex: $\\frac{4x}{x+1}+\\frac{x}{2x-1}=2 \\to x=\\frac{1}{2} - \\frac{\\sqrt{15} i}{10}, x=\\frac{1}{2} + \\frac{\\sqrt{15} i}{10}$\n"
     ]
    },
    {
     "data": {
      "text/markdown": [
       "#### Ejercicio:"
      ],
      "text/plain": [
       "<IPython.core.display.Markdown object>"
      ]
     },
     "metadata": {},
     "output_type": "display_data"
    },
    {
     "data": {
      "text/markdown": [
       "$\\frac{x-1}{x^2+2x}-\\frac{2}{x^2-2x}=\\frac{x}{x^2-4}$  $\\to$ $\\frac{x-1}{x^2+2x}-\\frac{2}{x^2-2x}=\\frac{x}{x^2-4} \\to x=- \\frac{2}{5}$"
      ],
      "text/plain": [
       "<IPython.core.display.Markdown object>"
      ]
     },
     "metadata": {},
     "output_type": "display_data"
    },
    {
     "name": "stdout",
     "output_type": "stream",
     "text": [
      "enunciado_latex: $\\frac{x-1}{x^2+2x}-\\frac{2}{x^2-2x}=\\frac{x}{x^2-4}$ \n",
      "solucion_latex: $\\frac{x-1}{x^2+2x}-\\frac{2}{x^2-2x}=\\frac{x}{x^2-4} \\to x=- \\frac{2}{5}$\n"
     ]
    },
    {
     "data": {
      "text/plain": [
       "[('$18 x^{4} + 3 x^{3} = 3 x^{2}$ ',\n",
       "  '$18 x^{4} + 3 x^{3} = 3 x^{2} \\\\to x=- \\\\frac{1}{2}, x=0, x=\\\\frac{1}{3}$'),\n",
       " ('$5 x^{4} - 20 x^{3} + 10 x^{2} + 20 x - 15$ ',\n",
       "  '$5 x^{4} - 20 x^{3} + 10 x^{2} + 20 x - 15 \\\\to x=-1, x=1, x=3$'),\n",
       " ('$\\\\sqrt{x+4}-7=0$ ', '$\\\\sqrt{x+4}-7=0 \\\\to x=45$'),\n",
       " ('$\\\\sqrt{169-x^2}+17=x$ ', '$\\\\sqrt{169-x^2}+17=x \\\\to x=$'),\n",
       " ('$\\\\sqrt{3x+1}=1+\\\\sqrt{2x-1}$ ',\n",
       "  '$\\\\sqrt{3x+1}=1+\\\\sqrt{2x-1} \\\\to x=1, x=5$'),\n",
       " ('$\\\\sqrt{7+2x}-\\\\sqrt{3+x}=1$ ',\n",
       "  '$\\\\sqrt{7+2x}-\\\\sqrt{3+x}=1 \\\\to x=-3, x=1$'),\n",
       " ('$\\\\sqrt{x+5}+\\\\sqrt{2x+8}=7$ ', '$\\\\sqrt{x+5}+\\\\sqrt{2x+8}=7 \\\\to x=4$'),\n",
       " ('$\\\\frac{x-3}{x^2-x}-\\\\frac{x+3}{x^2+x}=\\\\frac{2-3x}{x^2-1}$ ',\n",
       "  '$\\\\frac{x-3}{x^2-x}-\\\\frac{x+3}{x^2+x}=\\\\frac{2-3x}{x^2-1} \\\\to x=2$'),\n",
       " ('$\\\\frac{4x}{x+1}+\\\\frac{x}{2x-1}=2$ ',\n",
       "  '$\\\\frac{4x}{x+1}+\\\\frac{x}{2x-1}=2 \\\\to x=\\\\frac{1}{2} - \\\\frac{\\\\sqrt{15} i}{10}, x=\\\\frac{1}{2} + \\\\frac{\\\\sqrt{15} i}{10}$'),\n",
       " ('$\\\\frac{x-1}{x^2+2x}-\\\\frac{2}{x^2-2x}=\\\\frac{x}{x^2-4}$ ',\n",
       "  '$\\\\frac{x-1}{x^2+2x}-\\\\frac{2}{x^2-2x}=\\\\frac{x}{x^2-4} \\\\to x=- \\\\frac{2}{5}$')]"
      ]
     },
     "execution_count": 16,
     "metadata": {},
     "output_type": "execute_result"
    }
   ],
   "source": [
    "# Resuelve las siguientes ecuaciones: Para hoja complementaria\n",
    "\n",
    "ejercicios = [\n",
    "              r'18 x^{4} + 3 x^{3} = 3 x^{2}',\n",
    "              r'5 x^{4} - 20 x^{3} + 10 x^{2} + 20 x - 15',\n",
    "              r'\\sqrt{x+4}-7=0',\n",
    "              r'\\sqrt{169-x^2}+17=x',\n",
    "              r'\\sqrt{3x+1}=1+\\sqrt{2x-1}',\n",
    "            # ya no\n",
    "              r'\\sqrt{7+2x}-\\sqrt{3+x}=1',\n",
    "              r'\\sqrt{x+5}+\\sqrt{2x+8}=7',\n",
    "              r'\\frac{x-3}{x^2-x}-\\frac{x+3}{x^2+x}=\\frac{2-3x}{x^2-1}',\n",
    "              r'\\frac{4x}{x+1}+\\frac{x}{2x-1}=2',\n",
    "              r'\\frac{x-1}{x^2+2x}-\\frac{2}{x^2-2x}=\\frac{x}{x^2-4}'\n",
    "            \n",
    "            \n",
    "            ]\n",
    "\n",
    "display(md(\"## Resuelve las siguientes ecuaciones:\"))\n",
    "\n",
    "[mostrar_ejercicio(r\"${}$ \".format(e), \n",
    "                   # r\"${} \\to {} \\to x=\".format(e,latex(factor(parse_latex(e))))\n",
    "                   r\"${} \\to x=\".format(e)\n",
    "                   +r\", x=\".join(map(latex,solve(parse_latex(e))))+r\"$\"\n",
    "                  )\n",
    "for e in ejercicios]\n"
   ]
  },
  {
   "cell_type": "code",
   "execution_count": null,
   "metadata": {
    "colab": {
     "base_uri": "https://localhost:8080/",
     "height": 776
    },
    "id": "KGVcn0_LlnOG",
    "outputId": "a1792b84-eaa5-4812-8f0e-2502263f5e88"
   },
   "outputs": [
    {
     "data": {
      "text/markdown": [
       "## Resuelve las siguientes ecuaciones logarítmicas:"
      ],
      "text/plain": [
       "<IPython.core.display.Markdown object>"
      ]
     },
     "metadata": {},
     "output_type": "display_data"
    },
    {
     "data": {
      "text/markdown": [
       "#### Ejercicio:"
      ],
      "text/plain": [
       "<IPython.core.display.Markdown object>"
      ]
     },
     "metadata": {},
     "output_type": "display_data"
    },
    {
     "data": {
      "text/markdown": [
       "$\\log x - \\log 3 = 2$  $\\to$ $\\log x - \\log 3 = 2 \\to x=300$"
      ],
      "text/plain": [
       "<IPython.core.display.Markdown object>"
      ]
     },
     "metadata": {},
     "output_type": "display_data"
    }
   ],
   "source": [
    "# Resuelve las siguientes ecuaciones: Para hoja complementaria\n",
    "\n",
    "ejercicios = [[r'\\log x - \\log 3 = 2',log(x,10)-log(3,10)-2],\n",
    "              [r'2\\log \\frac{x}{2}+2\\log \\frac{x}{3}=3\\log x - \\log \\frac{32}{9}', 2*log(x/2,10)+2*log(x/3,10)-3*log(x,10)+log(32/9,10)]\n",
    "             ]\n",
    "\n",
    "display(md(\"## Resuelve las siguientes ecuaciones logarítmicas:\"))\n",
    "\n",
    "[mostrar_ejercicio(r\"${}$ \".format(e[0]), \n",
    "                   # r\"${} \\to {} \\to x=\".format(e,latex(factor(parse_latex(e))))\n",
    "                   r\"${} \\to x=\".format(e[0])\n",
    "                   +r\", x=\".join(map(latex,solve(e[1])))+r\"$\"\n",
    "                  )\n",
    "for e in ejercicios]\n"
   ]
  },
  {
   "cell_type": "code",
   "execution_count": null,
   "metadata": {},
   "outputs": [],
   "source": [
    "solve(log(x,10)-log(3,10)-2)"
   ]
  },
  {
   "cell_type": "code",
   "execution_count": null,
   "metadata": {
    "colab": {
     "base_uri": "https://localhost:8080/",
     "height": 36
    },
=======
>>>>>>> b29a43171aa503e61a2f73915e56372306b0b9df
    "id": "x2AfOc1olJsW",
    "outputId": "d1169852-7409-4aa5-a0f1-809b2ed66f53"
   },
   "outputs": [],
   "source": [
    "latex(expand(5*(x-1)**2*(x+1)*(x-3)))"
   ]
  },
  {
   "cell_type": "code",
   "execution_count": null,
   "metadata": {
    "id": "lsqyQld7jMYL",
    "outputId": "32120042-b99a-445e-de9f-8a07a8d00073"
   },
   "outputs": [],
   "source": [
    "# Resuelve las siguientes ecuaciones:\n",
    "\n",
    "ejercicios = [r'\\frac{2x}{x+1}-\\frac{1}{x}=\\frac{5}{6}',\n",
    "              r'\\frac{6x+1}{x^2-4}-\\frac{x}{x-2}=\\frac{x+1}{x+2}',\n",
    "              r'\\frac{{x + 1}}{{x - 1}} - \\frac{1}{x}=\\frac{5}{2}',\n",
    "              r'\\frac{{3x + 2}}{{x - 1}} - \\frac{2}{{x + 1}}=5',\n",
    "              r'1 - \\frac{x}{{x + 4}}= \\frac{1}{{x - 5}}',\n",
    "              r'\\frac{{x - 3}}{{x + 3}} + \\frac{{x + 3}}{{x - 3}}=\\frac{{x - 2}}{{x + 3}}',\n",
    "              r'\\frac{x-3}{x^2-x}-\\frac{x+3}{x^2+x}=\\frac{2-3x}{x^2-1}'\n",
    "              \n",
    "             ]\n",
    "\n",
    "display(md(\"## Resuelve las siguientes ecuaciones con fracciones algebraicas:\"))\n",
    "\n",
    "\n",
    "for e in ejercicios :\n",
    "    enunciado = r\"${}$ \".format(e)\n",
    "    ec = simplify(parse_latex(e))\n",
    "    solucion = r\"${} \\to {} \".format(e,latex(ec))\n",
    "    izq=ec.args[1].as_numer_denom()[1]/ec.args[0].as_numer_denom()[1]\n",
    "    der=ec.args[1].as_numer_denom()[0]/ec.args[0].as_numer_denom()[0]\n",
    "    #display(izq, der)\n",
    "    solucion += r\" \\to {} = {} \".format(latex(izq),latex(der))\n",
    "    izq=factor(izq)\n",
    "    der=factor(der)\n",
    "    #display(izq, der, izq.as_numer_denom(), der.as_numer_denom())\n",
    "    solucion += r\" \\to {} = {} \".format(latex(izq),latex(der))\n",
    "    izq=cancel(izq)\n",
    "    der=cancel(der)\n",
    "    #display(izq, der, izq.as_numer_denom(), der.as_numer_denom())\n",
    "    solucion += r\" \\to {} = {} \".format(latex(izq),latex(der))\n",
    "    iz=izq\n",
    "    izq=izq.as_numer_denom()[0]*UnevaluatedExpr(der.as_numer_denom()[1])\n",
    "    der=der.as_numer_denom()[0]*UnevaluatedExpr(iz.as_numer_denom()[1])\n",
    "    #display(izq, der)\n",
    "    solucion += r\" \\to {} = {} \".format(latex(izq),latex(der))\n",
    "    solucion += r\" \\to {} = {} \".format(latex(izq-der),latex(0))\n",
    "    solucion += r\" \\to {} = {} \".format(latex(simplify(izq-der)),latex(0))\n",
    "    #solucion += r\" \\to {}\".format(solve(simplify(izq-der)))\n",
    "    solucion += r\"\\to x=\" + r\", x=\".join(map(latex,solve(parse_latex(e))))\n",
    "\n",
    "    #display((parse_latex(e), cancel(parse_latex(e).args[0]),cancel(parse_latex(e).args[1]),            cancel(cancel(parse_latex(e).args[0]).as_numer_denom()[0]/cancel(parse_latex(e).args[1]).as_numer_denom()[0]),cancel(cancel(parse_latex(e).args[0]).as_numer_denom()[1]/cancel(parse_latex(e).args[1]).as_numer_denom()[1]),      )\n",
    "    solucion += r\"$\"\n",
    "    mostrar_ejercicio(enunciado,solucion)\n",
    "\n"
   ]
  },
  {
   "cell_type": "code",
   "execution_count": null,
   "metadata": {
    "id": "TD87VoQXjMYM",
    "outputId": "adec85db-52a0-4b86-e107-3aa9c401053e"
   },
   "outputs": [],
   "source": [
    "# Resuelve las siguientes ecuaciones polinómicas:\n",
    "\n",
    "ejercicios = [\n",
    "              r'2x^4-6x^3+6x^2-2x=0',\n",
    "              r'6x^3-12x^2+6x=0',\n",
    "]\n",
    "\n",
    "display(md(\"## Resuelve las siguientes ecuaciones polinómicas:\"))\n",
    " \n",
    "    \n",
    "\n",
    "[mostrar_ejercicio(r\"${}$ \".format(e), \n",
    "                   r\"${} \\to {}\".format(e, latex(factor(parse_latex(e))))\n",
    "                   +r\" \\to x=\"+r\", x=\".join(map(latex,solve(parse_latex(e))))+r\"$\"\n",
    "                  )\n",
    "for e in ejercicios]\n"
   ]
  },
  {
   "cell_type": "code",
   "execution_count": null,
   "metadata": {
    "id": "fjTZCWvjjMYM",
    "outputId": "f79e1979-6787-41d0-b28d-3677397b8a13"
   },
   "outputs": [],
   "source": [
    "# Resuelve las siguientes ecuaciones irracionales: (solo tiene que tener un radical y ser el primero a la izquierda)\n",
    "\n",
    "ejercicios = [\n",
    "              r'\\sqrt{x+1}+5=x',\n",
    "              r'\\sqrt{3x-2}+\\sqrt{x-1}=3'\n",
    "            ]\n",
    "\n",
    "display(md(\"## Resuelve las siguientes ecuaciones irracionales:\"))\n",
    "\n",
    "for e in ejercicios :\n",
    "    enunciado = r\"${}$ \".format(e)\n",
    "    ec = parse_latex(e)\n",
    "    solucion = r\"${} \\to {}\".format(e, manipular_ec_irracional(ec)[0])\n",
    "    solucion += r\" \\to x=\"+r\", x=\".join(map(latex,solve(parse_latex(e))))+r\"$\"\n",
    "    \n",
    "    mostrar_ejercicio(enunciado, solucion)\n",
    "    \n",
    "    \n",
    "# [mostrar_ejercicio(r\"${}$ \".format(e), \n",
    "#                    r\"${} \\to {}\".format(e, latex(factor(parse_latex(e))))\n",
    "#                    r\"x=\"+r\", x=\".join(map(latex,solve(parse_latex(e))))+r\"$\"\n",
    "#                   )\n",
    "# for e in ejercicios]\n"
   ]
  },
  {
   "cell_type": "code",
   "execution_count": null,
   "metadata": {
    "id": "ISHzoF6pjMYM",
    "outputId": "ba2d5432-5a33-4ed6-acd1-0ebc82101451"
   },
   "outputs": [],
   "source": [
    "expr = sqrt(x-1)\n",
    "expr.is_rational\n",
    "\n",
    "#ec=parse_latex(r'5+\\sqrt{x+1}=x')\n",
    "ec = parse_latex(r'2 x + 6 \\sqrt{x - 1}-10 = 0')\n",
    "\n",
    "#[i for i in enumerate(x for x in ec.args[0].args if not(x.is_rational_function()))]\n",
    "#[i for i in enumerate(x for x in ec.args[0].args)]  \n",
    "[i for i in ec.args[0].args]   "
   ]
  },
  {
   "cell_type": "code",
   "execution_count": null,
   "metadata": {
    "id": "RQvzaRcbjMYN",
    "outputId": "c74af3eb-71d1-4851-9233-e0e0498dd1ab"
   },
   "outputs": [],
   "source": [
    "expr = 2*x\n",
    "expr.is_rational_function()"
   ]
  },
  {
   "cell_type": "code",
   "execution_count": null,
   "metadata": {
    "id": "BF8plJrBjMYN",
    "outputId": "99d6aacf-1f67-40bc-b951-711dc6ce9a07"
   },
   "outputs": [],
   "source": [
    "ec=parse_latex(r'\\sqrt{x+1}+5=x')\n",
    "\n",
    "def manipular_ec_irracional(ec) :\n",
    "    # Aisla el primer argumento del miembro de la izquierda y eleva todo al cuadrado\n",
    "    transformaciones = [#ec,\n",
    "                        Eq(ec.args[0].args[0],ec.args[1]-(ec.args[0]-ec.args[0].args[0])), \n",
    "                        Eq(ec.args[0].args[0]**2,(ec.args[1]-(ec.args[0]-ec.args[0].args[0]))**2), \n",
    "                        Eq(expand(ec.args[0].args[0]**2-(ec.args[1]-(ec.args[0]-ec.args[0].args[0]))**2),0)]\n",
    "\n",
    "    return r\" \\to \".join(map(latex,transformaciones)), transformaciones[-1]\n",
    "\n",
    "manipular_ec_irracional(ec)[0]"
   ]
  },
  {
   "cell_type": "code",
   "execution_count": null,
   "metadata": {
    "id": "z86VkfwIjMYO",
    "outputId": "3fa3d0c4-23a3-4d71-e0f0-3ae04721960c"
   },
   "outputs": [],
   "source": [
    "# Resuelve las siguientes ecuaciones:\n",
    "\n",
    "ejercicios = [\n",
    "              r'\\sqrt{x+1}+5=x',\n",
    "              r'\\sqrt{3x-2}+\\sqrt{x-1}=3'\n",
    "            ]\n",
    "\n",
    "display(md(\"## Resuelve las siguientes ecuaciones:\"))\n",
    "\n",
    "[mostrar_ejercicio(r\"${}$ \".format(e), \n",
    "                   r\"x=\"+r\", x=\".join(map(latex,solve(parse_latex(e))))+r\"$\"\n",
    "                  )\n",
    "for e in ejercicios]\n"
   ]
  },
  {
   "cell_type": "code",
   "execution_count": null,
   "metadata": {
    "id": "jmhe649_jMYO",
    "outputId": "3099ea64-fde7-4a6e-84d5-ff0e9f9fcf25"
   },
   "outputs": [],
   "source": [
    "# Resuelve las siguientes ecuaciones:\n",
    "\n",
    "ejercicios = [[r'2\\log x- \\log{\\left(3x-5\\right)}=\\log{5x} - 1', Eq(2*log(x,10)-log(3*x-5,10),log(5*x,10)-1)],\n",
    "              [r'\\log {\\left(x-1\\right)}+ \\log{2}=\\log{\\left(x^2+3\\right)} - \\log x',Eq(log(x-1,10)+log(2,10),log(x**2+3,10)-log(x,10))],\n",
    "              [r'\\left(x^2-5x+5\\right)\\log 5 + \\log{20}=\\log 4',Eq((x**2-5*x+5)*log(5,10)+log(20,10),log(4,10))]\n",
    "            ]\n",
    "\n",
    "display(md(\"## Resuelve las siguientes ecuaciones:\"))\n",
    "\n",
    "[mostrar_ejercicio(r\"${}$ \".format(e[0]), \n",
    "                   r\"$x=\"+r\", x=\".join(map(latex,solve(e[1])))+r\"$\"\n",
    "                  )\n",
    "for e in ejercicios]\n",
    "\n",
    "\n"
   ]
  }
 ],
 "metadata": {
  "colab": {
   "include_colab_link": true,
   "name": "12-Radicales.ipynb",
   "provenance": []
  },
  "kernelspec": {
   "display_name": "Python 3",
   "language": "python",
   "name": "python3"
  },
  "language_info": {
   "codemirror_mode": {
    "name": "ipython",
    "version": 3
   },
   "file_extension": ".py",
   "mimetype": "text/x-python",
   "name": "python",
   "nbconvert_exporter": "python",
   "pygments_lexer": "ipython3",
   "version": "3.8.3"
  }
 },
 "nbformat": 4,
 "nbformat_minor": 1
}
