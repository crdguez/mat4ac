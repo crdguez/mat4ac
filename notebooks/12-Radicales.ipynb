{
  "nbformat": 4,
  "nbformat_minor": 0,
  "metadata": {
    "kernelspec": {
      "display_name": "Python 3",
      "language": "python",
      "name": "python3"
    },
    "language_info": {
      "codemirror_mode": {
        "name": "ipython",
        "version": 3
      },
      "file_extension": ".py",
      "mimetype": "text/x-python",
      "name": "python",
      "nbconvert_exporter": "python",
      "pygments_lexer": "ipython3",
      "version": "3.6.8"
    },
    "colab": {
      "name": "12-Radicales.ipynb",
      "provenance": [],
      "include_colab_link": true
    }
  },
  "cells": [
    {
      "cell_type": "markdown",
      "metadata": {
        "id": "view-in-github",
        "colab_type": "text"
      },
      "source": [
        "<a href=\"https://colab.research.google.com/github/crdguez/mat4ac/blob/master/notebooks/12-Radicales.ipynb\" target=\"_parent\"><img src=\"https://colab.research.google.com/assets/colab-badge.svg\" alt=\"Open In Colab\"/></a>"
      ]
    },
    {
      "cell_type": "code",
      "metadata": {
        "id": "9X_4fdzd0gZQ",
        "outputId": "2bdd23a5-2094-4de1-99e2-343d5753a9d2",
        "colab": {
          "base_uri": "https://localhost:8080/",
          "height": 384
        }
      },
      "source": [
        "# Ejecutar para que funcione el parse_latex en google colab\n",
        "\n",
        "!pip install sympy==1.3 antlr4-python3-runtime==4.7.1"
      ],
      "execution_count": 1,
      "outputs": [
        {
          "output_type": "stream",
          "text": [
            "Collecting sympy==1.3\n",
            "\u001b[?25l  Downloading https://files.pythonhosted.org/packages/dd/f6/ed485ff22efdd7b371d0dbbf6d77ad61c3b3b7e0815a83c89cbb38ce35de/sympy-1.3.tar.gz (5.9MB)\n",
            "\u001b[K     |████████████████████████████████| 5.9MB 4.1MB/s \n",
            "\u001b[?25hCollecting antlr4-python3-runtime==4.7.1\n",
            "\u001b[?25l  Downloading https://files.pythonhosted.org/packages/3e/96/aba01b2948ec67f237cd387c022820835ae0d8db5cab4bd404b351660b5e/antlr4-python3-runtime-4.7.1.tar.gz (111kB)\n",
            "\u001b[K     |████████████████████████████████| 112kB 40.2MB/s \n",
            "\u001b[?25hRequirement already satisfied: mpmath>=0.19 in /usr/local/lib/python3.6/dist-packages (from sympy==1.3) (1.1.0)\n",
            "Building wheels for collected packages: sympy, antlr4-python3-runtime\n",
            "  Building wheel for sympy (setup.py) ... \u001b[?25l\u001b[?25hdone\n",
            "  Created wheel for sympy: filename=sympy-1.3-cp36-none-any.whl size=5199946 sha256=84e9de74a63fc80b1683298637dc8a76e5eff8ceb229d7f66d9689e92ad8ed10\n",
            "  Stored in directory: /root/.cache/pip/wheels/6c/59/86/478e3c0f298368c119095cc5985dedac57c0e35a85c737f823\n",
            "  Building wheel for antlr4-python3-runtime (setup.py) ... \u001b[?25l\u001b[?25hdone\n",
            "  Created wheel for antlr4-python3-runtime: filename=antlr4_python3_runtime-4.7.1-cp36-none-any.whl size=140551 sha256=5c9b0f44ac5df2653857b36a4211b0f1962bbc78c50d68a8749fb266cdc6ca1b\n",
            "  Stored in directory: /root/.cache/pip/wheels/ef/f6/18/ad300e691236a3408a99edc750484b56e8d6b11b2c38eacb10\n",
            "Successfully built sympy antlr4-python3-runtime\n",
            "Installing collected packages: sympy, antlr4-python3-runtime\n",
            "  Found existing installation: sympy 1.1.1\n",
            "    Uninstalling sympy-1.1.1:\n",
            "      Successfully uninstalled sympy-1.1.1\n",
            "Successfully installed antlr4-python3-runtime-4.7.1 sympy-1.3\n"
          ],
          "name": "stdout"
        }
      ]
    },
    {
      "cell_type": "code",
      "metadata": {
        "id": "xYDbOmkG0YbJ",
        "outputId": "aaa96aef-3011-4cc0-db56-32bf2c5414ec",
        "colab": {
          "base_uri": "https://localhost:8080/",
          "height": 237
        }
      },
      "source": [
        "from sympy import init_session\n",
        "from sympy.parsing.latex import parse_latex\n",
        "from IPython.display import Markdown as md\n",
        "from IPython.display import display\n",
        "import numpy as np\n",
        "\n",
        "init_session()\n",
        "\n",
        "a, b, c, d = symbols('a b c d', real = True)"
      ],
      "execution_count": 3,
      "outputs": [
        {
          "output_type": "stream",
          "text": [
            "IPython console for SymPy 1.3 (Python 3.6.9-64-bit) (ground types: python)\n",
            "\n",
            "These commands were executed:\n",
            ">>> from __future__ import division\n",
            ">>> from sympy import *\n",
            ">>> x, y, z, t = symbols('x y z t')\n",
            ">>> k, m, n = symbols('k m n', integer=True)\n",
            ">>> f, g, h = symbols('f g h', cls=Function)\n",
            ">>> init_printing()\n",
            "\n",
            "Documentation can be found at http://docs.sympy.org/1.3/\n",
            "\n"
          ],
          "name": "stdout"
        }
      ]
    },
    {
      "cell_type": "code",
      "metadata": {
        "id": "vPXI53QN0Ycw"
      },
      "source": [
        "def mostrar_ejercicio(ejercicio,solucion,tipo=0) :\n",
        "    #tipo=0 se pasa el ejercicio y la solucion en formato latex\n",
        "    if tipo == 0 :\n",
        "        display(md(\"#### Ejercicio:\"))\n",
        "        display(md(r\"{} $\\to$ {}\".format(ejercicio, solucion)))\n",
        "        print(\"enunciado_latex: \" + ejercicio)\n",
        "        print(\"solucion_latex: \" + solucion)\n",
        "        return ejercicio, solucion\n",
        "    elif tipo == 1:\n",
        "        display(md(\"#### Ejercicio:\"))\n",
        "        display(md(r\"{} $\\to$ {}\".format(ejercicio, solucion)))\n",
        "        print(\"enunciado_latex: \" + ejercicio)\n",
        "        print(\"solucion_latex: \" + solucion)\n",
        "        return ejercicio, solucion\n",
        "\n",
        "        \n",
        "    "
      ],
      "execution_count": 4,
      "outputs": []
    },
    {
      "cell_type": "code",
      "metadata": {
        "id": "6aSd_z-t0YdR",
        "outputId": "dc26d664-d1f2-4731-d3b3-7fb1df135af0",
        "colab": {
          "base_uri": "https://localhost:8080/",
          "height": 575
        }
      },
      "source": [
        "# Clasificar números\n",
        "\n",
        "ejercicios=[\n",
        "            [r'\\frac{1}{2}', '\\sqrt[3]{-27}'],\n",
        "            [r'(-1)^3',r'-\\frac{20}{2}',r'-4^2']\n",
        "            \n",
        "           ]\n",
        "\n",
        "display(md(\"## Clasificar números:\"))\n",
        "\n",
        "for e in ejercicios :\n",
        "    enunciado_latex = r\"\"\"\\begin{tabular}{|c |c |c |c |c|}\\hline\n",
        "    &$\\mathbb{N}$& $\\mathbb{Z}$& $\\mathbb{Q}$&$\\mathbb{R}$\\\\ \n",
        "    \\hline $\"\"\"\n",
        "    enunciado_latex += r\"\"\"$&&&&\\\\ \\hline $\"\"\".join(e)\n",
        "    enunciado_latex += r'$ &&&&\\\\ \\hline \\end{tabular}'\n",
        "    solucion_latex = r\"\"\"\\begin{tabular}{|c |c |c |c |c|}\\hline\n",
        "    &$\\mathbb{N}$& $\\mathbb{Z}$& $\\mathbb{Q}$&$\\mathbb{R}$\\\\ \n",
        "    \\hline\"\"\"\n",
        "    for ee in e:\n",
        "        n = parse_latex(ee)\n",
        "        linea =  n in S.Naturals, ask(Q.integer(n)),ask(Q.rational(n)), n in S.Reals\n",
        "        lista = []\n",
        "        lista.append(r\"${}$\".format(ee))\n",
        "        [lista.append(str(i)) for i in linea]\n",
        "        #solucion_latex += r\"\"\"${}$&{}&{}&{}&{}\\\\ \\hline \"\"\".format(n,linea[0],linea[1],linea[2],linea[3])\n",
        "        solucion_latex += r\"\"\" & \"\"\".join(lista)\n",
        "        solucion_latex += r\"\"\"\\\\ \\hline \"\"\"\n",
        "        #print(n,lista)\n",
        "    solucion_latex += r'\\end{tabular}'\n",
        "\n",
        "\n",
        "    #print(enunciado_latex)\n",
        "\n",
        "    mostrar_ejercicio(enunciado_latex, solucion_latex)  \n"
      ],
      "execution_count": null,
      "outputs": [
        {
          "output_type": "display_data",
          "data": {
            "text/markdown": "## Clasificar números:",
            "text/plain": [
              "<IPython.core.display.Markdown object>"
            ]
          },
          "metadata": {
            "tags": []
          }
        },
        {
          "output_type": "display_data",
          "data": {
            "text/markdown": "#### Ejercicio:",
            "text/plain": [
              "<IPython.core.display.Markdown object>"
            ]
          },
          "metadata": {
            "tags": []
          }
        },
        {
          "output_type": "display_data",
          "data": {
            "text/markdown": "\\begin{tabular}{|c |c |c |c |c|}\\hline\n    &$\\mathbb{N}$& $\\mathbb{Z}$& $\\mathbb{Q}$&$\\mathbb{R}$\\\\ \n    \\hline $\\frac{1}{2}$&&&&\\\\ \\hline $\\sqrt[3]{-27}$ &&&&\\\\ \\hline \\end{tabular} $\\to$ \\begin{tabular}{|c |c |c |c |c|}\\hline\n    &$\\mathbb{N}$& $\\mathbb{Z}$& $\\mathbb{Q}$&$\\mathbb{R}$\\\\ \n    \\hline$\\frac{1}{2}$ & False & False & True & True\\\\ \\hline $\\sqrt[3]{-27}$ & False & False & False & False\\\\ \\hline \\end{tabular}",
            "text/plain": [
              "<IPython.core.display.Markdown object>"
            ]
          },
          "metadata": {
            "tags": []
          }
        },
        {
          "output_type": "stream",
          "text": [
            "enunciado_latex: \\begin{tabular}{|c |c |c |c |c|}\\hline\n",
            "    &$\\mathbb{N}$& $\\mathbb{Z}$& $\\mathbb{Q}$&$\\mathbb{R}$\\\\ \n",
            "    \\hline $\\frac{1}{2}$&&&&\\\\ \\hline $\\sqrt[3]{-27}$ &&&&\\\\ \\hline \\end{tabular}\n",
            "solucion_latex: \\begin{tabular}{|c |c |c |c |c|}\\hline\n",
            "    &$\\mathbb{N}$& $\\mathbb{Z}$& $\\mathbb{Q}$&$\\mathbb{R}$\\\\ \n",
            "    \\hline$\\frac{1}{2}$ & False & False & True & True\\\\ \\hline $\\sqrt[3]{-27}$ & False & False & False & False\\\\ \\hline \\end{tabular}\n"
          ],
          "name": "stdout"
        },
        {
          "output_type": "display_data",
          "data": {
            "text/markdown": "#### Ejercicio:",
            "text/plain": [
              "<IPython.core.display.Markdown object>"
            ]
          },
          "metadata": {
            "tags": []
          }
        },
        {
          "output_type": "display_data",
          "data": {
            "text/markdown": "\\begin{tabular}{|c |c |c |c |c|}\\hline\n    &$\\mathbb{N}$& $\\mathbb{Z}$& $\\mathbb{Q}$&$\\mathbb{R}$\\\\ \n    \\hline $(-1)^3$&&&&\\\\ \\hline $-\\frac{20}{2}$&&&&\\\\ \\hline $-4^2$ &&&&\\\\ \\hline \\end{tabular} $\\to$ \\begin{tabular}{|c |c |c |c |c|}\\hline\n    &$\\mathbb{N}$& $\\mathbb{Z}$& $\\mathbb{Q}$&$\\mathbb{R}$\\\\ \n    \\hline$(-1)^3$ & False & True & True & True\\\\ \\hline $-\\frac{20}{2}$ & False & True & True & True\\\\ \\hline $-4^2$ & False & True & True & True\\\\ \\hline \\end{tabular}",
            "text/plain": [
              "<IPython.core.display.Markdown object>"
            ]
          },
          "metadata": {
            "tags": []
          }
        },
        {
          "output_type": "stream",
          "text": [
            "enunciado_latex: \\begin{tabular}{|c |c |c |c |c|}\\hline\n",
            "    &$\\mathbb{N}$& $\\mathbb{Z}$& $\\mathbb{Q}$&$\\mathbb{R}$\\\\ \n",
            "    \\hline $(-1)^3$&&&&\\\\ \\hline $-\\frac{20}{2}$&&&&\\\\ \\hline $-4^2$ &&&&\\\\ \\hline \\end{tabular}\n",
            "solucion_latex: \\begin{tabular}{|c |c |c |c |c|}\\hline\n",
            "    &$\\mathbb{N}$& $\\mathbb{Z}$& $\\mathbb{Q}$&$\\mathbb{R}$\\\\ \n",
            "    \\hline$(-1)^3$ & False & True & True & True\\\\ \\hline $-\\frac{20}{2}$ & False & True & True & True\\\\ \\hline $-4^2$ & False & True & True & True\\\\ \\hline \\end{tabular}\n"
          ],
          "name": "stdout"
        }
      ]
    },
    {
      "cell_type": "code",
      "metadata": {
        "id": "zPwk1kx60Ydm",
        "outputId": "32202e85-59bf-4b98-d62d-090745cadd21",
        "colab": {
          "base_uri": "https://localhost:8080/",
          "height": 213
        }
      },
      "source": [
        "# Conjuntos de números\n",
        "\n",
        "display(md(\"## Calcula la Unión y la Intersección de los siguientes conjuntos (da el resultado en forma de intervalo y de desigualdad):\"))\n",
        "\n",
        "ejercicios=[\n",
        "            [Interval.Ropen(2,10),Interval.open(7,12)],\n",
        "            \n",
        "           ]\n",
        "\n",
        "for e in ejercicios:\n",
        "    a=Interval.Ropen(2,10)\n",
        "    b=Interval.open(7,12)\n",
        "    ejercicio = r\"$A=\"+latex(a)+r\"$ y $B=\"+ latex(b)+r\"$\"\n",
        "    #ejercicio = r\"$A=\"+latex(a)+r\"$ y $B=\\{x|\"+ latex(b.as_relational(x))+r\"\\}$\"\n",
        "    solucion = r\"Unión: \\\\ $A\\cup B=\"+latex(a.union(b))+r\"$ ó $A\\cup B= \\{x|\"+latex(a.union(b).as_relational(x))+r\"\\}$ \\\\\"+r\"Intersección: \\\\ $A\\cap B =\"+latex(a.intersection(b))+r\"$ ó $A\\cap B=\\{x|\"+latex(a.intersection(b).as_relational(x))+r\"\\}$\"\n",
        "    mostrar_ejercicio(ejercicio,solucion)\n",
        "\n",
        "\n"
      ],
      "execution_count": null,
      "outputs": [
        {
          "output_type": "display_data",
          "data": {
            "text/markdown": "## Calcula la Unión y la Intersección de los siguientes conjuntos (da el resultado en forma de intervalo y de desigualdad):",
            "text/plain": [
              "<IPython.core.display.Markdown object>"
            ]
          },
          "metadata": {
            "tags": []
          }
        },
        {
          "output_type": "display_data",
          "data": {
            "text/markdown": "#### Ejercicio:",
            "text/plain": [
              "<IPython.core.display.Markdown object>"
            ]
          },
          "metadata": {
            "tags": []
          }
        },
        {
          "output_type": "display_data",
          "data": {
            "text/markdown": "$A=\\left[2, 10\\right)$ y $B=\\left(7, 12\\right)$ $\\to$ Unión: \\\\ $A\\cup B=\\left[2, 12\\right)$ ó $A\\cup B= \\{x|2 \\leq x \\wedge x < 12\\}$ \\\\Intersección: \\\\ $A\\cap B =\\left(7, 10\\right)$ ó $A\\cap B=\\{x|7 < x \\wedge x < 10\\}$",
            "text/plain": [
              "<IPython.core.display.Markdown object>"
            ]
          },
          "metadata": {
            "tags": []
          }
        },
        {
          "output_type": "stream",
          "text": [
            "enunciado_latex: $A=\\left[2, 10\\right)$ y $B=\\left(7, 12\\right)$\n",
            "solucion_latex: Unión: \\\\ $A\\cup B=\\left[2, 12\\right)$ ó $A\\cup B= \\{x|2 \\leq x \\wedge x < 12\\}$ \\\\Intersección: \\\\ $A\\cap B =\\left(7, 10\\right)$ ó $A\\cap B=\\{x|7 < x \\wedge x < 10\\}$\n"
          ],
          "name": "stdout"
        }
      ]
    },
    {
      "cell_type": "code",
      "metadata": {
        "id": "kCFOtdXs0Yen",
        "outputId": "1ff576db-b9a9-4a36-9161-b4f9b50649d3"
      },
      "source": [
        "# Operar potencias\n",
        "\n",
        "ejercicios=[\n",
        "            r'\\frac{(2^3\\cdot3^2\\cdot5)^{-4}}{(2^{-2}\\cdot3^{-3})^{3}}',\n",
        "            \n",
        "           ]\n",
        "\n",
        "display(md(\"## Opera las siguientes potencias:\"))\n",
        "\n",
        "  \n",
        "#[mostrar_ejercicio(e, latex(simplify(parse_latex(e)))) for e in ejercicios]    \n",
        "\n",
        "[mostrar_ejercicio(\"$\"+e+\"$\", \"$\"+latex(S(parse_latex(r\"\\frac{\"+latex(factorint(simplify(parse_latex(e)).as_numer_denom()[0] , visual=True))+r\"}{\" +latex(factorint(simplify(parse_latex(e)).as_numer_denom()[1], visual=True))+\"}\"), evaluate=False))+\"$\") for e in ejercicios]    \n",
        "\n",
        "\n"
      ],
      "execution_count": null,
      "outputs": [
        {
          "output_type": "display_data",
          "data": {
            "text/markdown": "## Opera las siguientes pontecias:",
            "text/plain": [
              "<IPython.core.display.Markdown object>"
            ]
          },
          "metadata": {
            "tags": []
          }
        },
        {
          "output_type": "display_data",
          "data": {
            "text/markdown": "#### Ejercicio:",
            "text/plain": [
              "<IPython.core.display.Markdown object>"
            ]
          },
          "metadata": {
            "tags": []
          }
        },
        {
          "output_type": "display_data",
          "data": {
            "text/markdown": "$\\frac{(2^3\\cdot3^2\\cdot5)^{-4}}{(2^{-2}\\cdot3^{-3})^{3}}$ $\\to$ $\\frac{3^{1}}{2^{6} \\cdot 5^{4}}$",
            "text/plain": [
              "<IPython.core.display.Markdown object>"
            ]
          },
          "metadata": {
            "tags": []
          }
        },
        {
          "output_type": "stream",
          "text": [
            "enunciado_latex: $\\frac{(2^3\\cdot3^2\\cdot5)^{-4}}{(2^{-2}\\cdot3^{-3})^{3}}$\n",
            "solucion_latex: $\\frac{3^{1}}{2^{6} \\cdot 5^{4}}$\n"
          ],
          "name": "stdout"
        },
        {
          "output_type": "execute_result",
          "data": {
            "text/plain": [
              "[('$\\\\frac{(2^3\\\\cdot3^2\\\\cdot5)^{-4}}{(2^{-2}\\\\cdot3^{-3})^{3}}$',\n",
              "  '$\\\\frac{3^{1}}{2^{6} \\\\cdot 5^{4}}$')]"
            ]
          },
          "metadata": {
            "tags": []
          },
          "execution_count": 10
        }
      ]
    },
    {
      "cell_type": "code",
      "metadata": {
        "id": "cQtW0akV0YfG",
        "outputId": "f0771304-ad26-4cb0-f223-8554c8d2bd77",
        "colab": {
          "base_uri": "https://localhost:8080/",
          "height": 488
        }
      },
      "source": [
        "# Operar potencias con variables\n",
        "\n",
        "ejercicios=[\n",
        "            r'(\\frac{6p^3d^2}{5q})^4\\cdot(\\frac{20p^2q^3}{24d})^4',\n",
        "            #autoevaluación\n",
        "            r'(\\frac{8p^5d^2}{3q})^3\\cdot(\\frac{12p^4q^3}{32d})^4',\n",
        "            r'(\\frac{12a^6b^4}{36c})^2\\cdot(\\frac{4a^6b^3}{12c})^3',\n",
        "\n",
        "           ]\n",
        "\n",
        "display(md(\"## Opera las siguientes potencias con variables:\"))\n",
        "\n",
        "  \n",
        "[mostrar_ejercicio(\"$\"+e+\"$\", \"$\"+latex(simplify(parse_latex(e)))+\"$\") for e in ejercicios]    \n",
        "\n",
        "#[mostrar_ejercicio(e, latex(S(parse_latex(r\"\\frac{\"+latex(factorint(simplify(parse_latex(e)).as_numer_denom()[0] , visual=True))+r\"}{\" +latex(factorint(simplify(parse_latex(e)).as_numer_denom()[1], visual=True))+\"}\"), evaluate=False))) for e in ejercicios]    \n",
        "\n",
        "\n"
      ],
      "execution_count": null,
      "outputs": [
        {
          "output_type": "display_data",
          "data": {
            "text/markdown": "## Opera las siguientes potencias con variables:",
            "text/plain": [
              "<IPython.core.display.Markdown object>"
            ]
          },
          "metadata": {
            "tags": []
          }
        },
        {
          "output_type": "display_data",
          "data": {
            "text/markdown": "#### Ejercicio:",
            "text/plain": [
              "<IPython.core.display.Markdown object>"
            ]
          },
          "metadata": {
            "tags": []
          }
        },
        {
          "output_type": "display_data",
          "data": {
            "text/markdown": "$(\\frac{6p^3d^2}{5q})^4\\cdot(\\frac{20p^2q^3}{24d})^4$ $\\to$ $d^{4} p^{20} q^{8}$",
            "text/plain": [
              "<IPython.core.display.Markdown object>"
            ]
          },
          "metadata": {
            "tags": []
          }
        },
        {
          "output_type": "stream",
          "text": [
            "enunciado_latex: $(\\frac{6p^3d^2}{5q})^4\\cdot(\\frac{20p^2q^3}{24d})^4$\n",
            "solucion_latex: $d^{4} p^{20} q^{8}$\n"
          ],
          "name": "stdout"
        },
        {
          "output_type": "display_data",
          "data": {
            "text/markdown": "#### Ejercicio:",
            "text/plain": [
              "<IPython.core.display.Markdown object>"
            ]
          },
          "metadata": {
            "tags": []
          }
        },
        {
          "output_type": "display_data",
          "data": {
            "text/markdown": "$(\\frac{8p^5d^2}{3q})^3\\cdot(\\frac{12p^4q^3}{32d})^4$ $\\to$ $\\frac{3 d^{2} p^{31} q^{9}}{8}$",
            "text/plain": [
              "<IPython.core.display.Markdown object>"
            ]
          },
          "metadata": {
            "tags": []
          }
        },
        {
          "output_type": "stream",
          "text": [
            "enunciado_latex: $(\\frac{8p^5d^2}{3q})^3\\cdot(\\frac{12p^4q^3}{32d})^4$\n",
            "solucion_latex: $\\frac{3 d^{2} p^{31} q^{9}}{8}$\n"
          ],
          "name": "stdout"
        },
        {
          "output_type": "display_data",
          "data": {
            "text/markdown": "#### Ejercicio:",
            "text/plain": [
              "<IPython.core.display.Markdown object>"
            ]
          },
          "metadata": {
            "tags": []
          }
        },
        {
          "output_type": "display_data",
          "data": {
            "text/markdown": "$(\\frac{12a^6b^4}{36c})^2\\cdot(\\frac{4a^6b^3}{12c})^3$ $\\to$ $\\frac{a^{30} b^{17}}{243 c^{5}}$",
            "text/plain": [
              "<IPython.core.display.Markdown object>"
            ]
          },
          "metadata": {
            "tags": []
          }
        },
        {
          "output_type": "stream",
          "text": [
            "enunciado_latex: $(\\frac{12a^6b^4}{36c})^2\\cdot(\\frac{4a^6b^3}{12c})^3$\n",
            "solucion_latex: $\\frac{a^{30} b^{17}}{243 c^{5}}$\n"
          ],
          "name": "stdout"
        },
        {
          "output_type": "execute_result",
          "data": {
            "text/plain": [
              "[('$(\\\\frac{6p^3d^2}{5q})^4\\\\cdot(\\\\frac{20p^2q^3}{24d})^4$',\n",
              "  '$d^{4} p^{20} q^{8}$'),\n",
              " ('$(\\\\frac{8p^5d^2}{3q})^3\\\\cdot(\\\\frac{12p^4q^3}{32d})^4$',\n",
              "  '$\\\\frac{3 d^{2} p^{31} q^{9}}{8}$'),\n",
              " ('$(\\\\frac{12a^6b^4}{36c})^2\\\\cdot(\\\\frac{4a^6b^3}{12c})^3$',\n",
              "  '$\\\\frac{a^{30} b^{17}}{243 c^{5}}$')]"
            ]
          },
          "metadata": {
            "tags": []
          },
          "execution_count": 9
        }
      ]
    },
    {
      "cell_type": "code",
      "metadata": {
        "id": "MWHwaW2L0YfY",
        "outputId": "2554a7d6-6cb1-4021-e8aa-69248b8f3d25",
        "colab": {
          "base_uri": "https://localhost:8080/",
          "height": 478
        }
      },
      "source": [
        "# Operar en notación científica\n",
        "\n",
        "ejercicios=[r'\\frac{1000\\cdot12000\\cdot0.02\\cdot0.01}{400\\cdot0.00003}',\n",
        "            #Autoevaluación\n",
        "            r'\\frac{50000000\\cdot12000\\cdot0.00002\\cdot0.0001}{400000\\cdot0.00003}',\n",
        "            r'\\frac{36000000\\cdot1000000\\cdot0.00002\\cdot0.0001}{900000\\cdot0.00004}',\n",
        "            \n",
        "           ]\n",
        "\n",
        "display(md(\"## Operar en notación científica:\")) \n",
        "    \n",
        "[mostrar_ejercicio(\"$\"+e+\"$\", \"$\"+latex(np.format_float_scientific(cancel(parse_latex(e))))+\"$\") for e in ejercicios]    \n",
        "\n",
        "\n"
      ],
      "execution_count": null,
      "outputs": [
        {
          "output_type": "display_data",
          "data": {
            "text/markdown": "## Operar en notación científica:",
            "text/plain": [
              "<IPython.core.display.Markdown object>"
            ]
          },
          "metadata": {
            "tags": []
          }
        },
        {
          "output_type": "display_data",
          "data": {
            "text/markdown": "#### Ejercicio:",
            "text/plain": [
              "<IPython.core.display.Markdown object>"
            ]
          },
          "metadata": {
            "tags": []
          }
        },
        {
          "output_type": "display_data",
          "data": {
            "text/markdown": "$\\frac{1000\\cdot12000\\cdot0.02\\cdot0.01}{400\\cdot0.00003}$ $\\to$ $2.e+05$",
            "text/plain": [
              "<IPython.core.display.Markdown object>"
            ]
          },
          "metadata": {
            "tags": []
          }
        },
        {
          "output_type": "stream",
          "text": [
            "enunciado_latex: $\\frac{1000\\cdot12000\\cdot0.02\\cdot0.01}{400\\cdot0.00003}$\n",
            "solucion_latex: $2.e+05$\n"
          ],
          "name": "stdout"
        },
        {
          "output_type": "display_data",
          "data": {
            "text/markdown": "#### Ejercicio:",
            "text/plain": [
              "<IPython.core.display.Markdown object>"
            ]
          },
          "metadata": {
            "tags": []
          }
        },
        {
          "output_type": "display_data",
          "data": {
            "text/markdown": "$\\frac{50000000\\cdot12000\\cdot0.00002\\cdot0.0001}{400000\\cdot0.00003}$ $\\to$ $1.e+02$",
            "text/plain": [
              "<IPython.core.display.Markdown object>"
            ]
          },
          "metadata": {
            "tags": []
          }
        },
        {
          "output_type": "stream",
          "text": [
            "enunciado_latex: $\\frac{50000000\\cdot12000\\cdot0.00002\\cdot0.0001}{400000\\cdot0.00003}$\n",
            "solucion_latex: $1.e+02$\n"
          ],
          "name": "stdout"
        },
        {
          "output_type": "display_data",
          "data": {
            "text/markdown": "#### Ejercicio:",
            "text/plain": [
              "<IPython.core.display.Markdown object>"
            ]
          },
          "metadata": {
            "tags": []
          }
        },
        {
          "output_type": "display_data",
          "data": {
            "text/markdown": "$\\frac{36000000\\cdot1000000\\cdot0.00002\\cdot0.0001}{900000\\cdot0.00004}$ $\\to$ $2.e+03$",
            "text/plain": [
              "<IPython.core.display.Markdown object>"
            ]
          },
          "metadata": {
            "tags": []
          }
        },
        {
          "output_type": "stream",
          "text": [
            "enunciado_latex: $\\frac{36000000\\cdot1000000\\cdot0.00002\\cdot0.0001}{900000\\cdot0.00004}$\n",
            "solucion_latex: $2.e+03$\n"
          ],
          "name": "stdout"
        },
        {
          "output_type": "execute_result",
          "data": {
            "text/plain": [
              "[('$\\\\frac{1000\\\\cdot12000\\\\cdot0.02\\\\cdot0.01}{400\\\\cdot0.00003}$',\n",
              "  '$2.e+05$'),\n",
              " ('$\\\\frac{50000000\\\\cdot12000\\\\cdot0.00002\\\\cdot0.0001}{400000\\\\cdot0.00003}$',\n",
              "  '$1.e+02$'),\n",
              " ('$\\\\frac{36000000\\\\cdot1000000\\\\cdot0.00002\\\\cdot0.0001}{900000\\\\cdot0.00004}$',\n",
              "  '$2.e+03$')]"
            ]
          },
          "metadata": {
            "tags": []
          },
          "execution_count": 10
        }
      ]
    },
    {
      "cell_type": "code",
      "metadata": {
        "id": "ps_kN_-w0Yfm",
        "outputId": "b3224d5d-e847-4815-9e75-939a4299e1d1",
        "colab": {
          "base_uri": "https://localhost:8080/",
          "height": 716
        }
      },
      "source": [
        "# Simplificar radicales\n",
        "\n",
        "ejercicios=[r'\\sqrt[4]{\\frac{25}{9}\\sqrt[3]{\\frac{9}{25}}}',\n",
        "            r'4\\sqrt{20}-3\\sqrt{45}+11\\sqrt{125}-20\\sqrt{5}',\n",
        "            r'\\sqrt{72}\\cdot3\\sqrt{8}',\n",
        "            r'\\frac{(3\\sqrt{2}+\\sqrt{3})^2}{3}',\n",
        "            r'\\sqrt{2\\sqrt{2\\sqrt{2}}}',\n",
        "            \n",
        "           ]\n",
        "\n",
        "display(md(\"## Simplificar radicales:\"))\n",
        "  \n",
        "[mostrar_ejercicio(\"$\"+e+\"$\", \"$\"+latex(simplify(parse_latex(e)))+\"$\") for e in ejercicios] \n",
        "            \n",
        "            \n",
        "\n",
        "\n"
      ],
      "execution_count": null,
      "outputs": [
        {
          "output_type": "display_data",
          "data": {
            "text/markdown": "## Simplificar radicales:",
            "text/plain": [
              "<IPython.core.display.Markdown object>"
            ]
          },
          "metadata": {
            "tags": []
          }
        },
        {
          "output_type": "display_data",
          "data": {
            "text/markdown": "#### Ejercicio:",
            "text/plain": [
              "<IPython.core.display.Markdown object>"
            ]
          },
          "metadata": {
            "tags": []
          }
        },
        {
          "output_type": "display_data",
          "data": {
            "text/markdown": "$\\sqrt[4]{\\frac{25}{9}\\sqrt[3]{\\frac{9}{25}}}$ $\\to$ $\\frac{3^{\\frac{2}{3}} \\sqrt[3]{5}}{3}$",
            "text/plain": [
              "<IPython.core.display.Markdown object>"
            ]
          },
          "metadata": {
            "tags": []
          }
        },
        {
          "output_type": "stream",
          "text": [
            "enunciado_latex: $\\sqrt[4]{\\frac{25}{9}\\sqrt[3]{\\frac{9}{25}}}$\n",
            "solucion_latex: $\\frac{3^{\\frac{2}{3}} \\sqrt[3]{5}}{3}$\n"
          ],
          "name": "stdout"
        },
        {
          "output_type": "display_data",
          "data": {
            "text/markdown": "#### Ejercicio:",
            "text/plain": [
              "<IPython.core.display.Markdown object>"
            ]
          },
          "metadata": {
            "tags": []
          }
        },
        {
          "output_type": "display_data",
          "data": {
            "text/markdown": "$4\\sqrt{20}-3\\sqrt{45}+11\\sqrt{125}-20\\sqrt{5}$ $\\to$ $34 \\sqrt{5}$",
            "text/plain": [
              "<IPython.core.display.Markdown object>"
            ]
          },
          "metadata": {
            "tags": []
          }
        },
        {
          "output_type": "stream",
          "text": [
            "enunciado_latex: $4\\sqrt{20}-3\\sqrt{45}+11\\sqrt{125}-20\\sqrt{5}$\n",
            "solucion_latex: $34 \\sqrt{5}$\n"
          ],
          "name": "stdout"
        },
        {
          "output_type": "display_data",
          "data": {
            "text/markdown": "#### Ejercicio:",
            "text/plain": [
              "<IPython.core.display.Markdown object>"
            ]
          },
          "metadata": {
            "tags": []
          }
        },
        {
          "output_type": "display_data",
          "data": {
            "text/markdown": "$\\sqrt{72}\\cdot3\\sqrt{8}$ $\\to$ $72$",
            "text/plain": [
              "<IPython.core.display.Markdown object>"
            ]
          },
          "metadata": {
            "tags": []
          }
        },
        {
          "output_type": "stream",
          "text": [
            "enunciado_latex: $\\sqrt{72}\\cdot3\\sqrt{8}$\n",
            "solucion_latex: $72$\n"
          ],
          "name": "stdout"
        },
        {
          "output_type": "display_data",
          "data": {
            "text/markdown": "#### Ejercicio:",
            "text/plain": [
              "<IPython.core.display.Markdown object>"
            ]
          },
          "metadata": {
            "tags": []
          }
        },
        {
          "output_type": "display_data",
          "data": {
            "text/markdown": "$\\frac{(3\\sqrt{2}+\\sqrt{3})^2}{3}$ $\\to$ $2 \\sqrt{6} + 7$",
            "text/plain": [
              "<IPython.core.display.Markdown object>"
            ]
          },
          "metadata": {
            "tags": []
          }
        },
        {
          "output_type": "stream",
          "text": [
            "enunciado_latex: $\\frac{(3\\sqrt{2}+\\sqrt{3})^2}{3}$\n",
            "solucion_latex: $2 \\sqrt{6} + 7$\n"
          ],
          "name": "stdout"
        },
        {
          "output_type": "display_data",
          "data": {
            "text/markdown": "#### Ejercicio:",
            "text/plain": [
              "<IPython.core.display.Markdown object>"
            ]
          },
          "metadata": {
            "tags": []
          }
        },
        {
          "output_type": "display_data",
          "data": {
            "text/markdown": "$\\sqrt{2\\sqrt{2\\sqrt{2}}}$ $\\to$ $2^{\\frac{7}{8}}$",
            "text/plain": [
              "<IPython.core.display.Markdown object>"
            ]
          },
          "metadata": {
            "tags": []
          }
        },
        {
          "output_type": "stream",
          "text": [
            "enunciado_latex: $\\sqrt{2\\sqrt{2\\sqrt{2}}}$\n",
            "solucion_latex: $2^{\\frac{7}{8}}$\n"
          ],
          "name": "stdout"
        },
        {
          "output_type": "execute_result",
          "data": {
            "text/plain": [
              "[('$\\\\sqrt[4]{\\\\frac{25}{9}\\\\sqrt[3]{\\\\frac{9}{25}}}$',\n",
              "  '$\\\\frac{3^{\\\\frac{2}{3}} \\\\sqrt[3]{5}}{3}$'),\n",
              " ('$4\\\\sqrt{20}-3\\\\sqrt{45}+11\\\\sqrt{125}-20\\\\sqrt{5}$', '$34 \\\\sqrt{5}$'),\n",
              " ('$\\\\sqrt{72}\\\\cdot3\\\\sqrt{8}$', '$72$'),\n",
              " ('$\\\\frac{(3\\\\sqrt{2}+\\\\sqrt{3})^2}{3}$', '$2 \\\\sqrt{6} + 7$'),\n",
              " ('$\\\\sqrt{2\\\\sqrt{2\\\\sqrt{2}}}$', '$2^{\\\\frac{7}{8}}$')]"
            ]
          },
          "metadata": {
            "tags": []
          },
          "execution_count": 11
        }
      ]
    },
    {
      "cell_type": "code",
      "metadata": {
        "id": "FZFAOtkZ0Yfx",
        "outputId": "2519c18a-0186-4d56-d7bf-29ae1ed822c8"
      },
      "source": [
        "# Racionalizar radicales\n",
        "\n",
        "ejercicios=[r'\\frac{10}{2\\sqrt{3}-\\sqrt{2}}',\n",
        "            r'\\frac{\\sqrt{45}+\\sqrt{180}}{\\sqrt{176}+4\\sqrt{44}}'\n",
        "           ]\n",
        "display(md(\"## Racionalizar denominadores:\"))\n",
        "  \n",
        "[mostrar_ejercicio(\"$\"+e+\"$\", \"$\"+latex(radsimp(parse_latex(e)))+\"$\") for e in ejercicios]    \n",
        "\n",
        "\n"
      ],
      "execution_count": null,
      "outputs": [
        {
          "output_type": "display_data",
          "data": {
            "text/markdown": "## Racionalizar denominadores:",
            "text/plain": [
              "<IPython.core.display.Markdown object>"
            ]
          },
          "metadata": {
            "tags": []
          }
        },
        {
          "output_type": "display_data",
          "data": {
            "text/markdown": "#### Ejercicio:",
            "text/plain": [
              "<IPython.core.display.Markdown object>"
            ]
          },
          "metadata": {
            "tags": []
          }
        },
        {
          "output_type": "display_data",
          "data": {
            "text/markdown": "$\\frac{10}{2\\sqrt{3}-\\sqrt{2}}$ $\\to$ $\\sqrt{2} + 2 \\sqrt{3}$",
            "text/plain": [
              "<IPython.core.display.Markdown object>"
            ]
          },
          "metadata": {
            "tags": []
          }
        },
        {
          "output_type": "stream",
          "text": [
            "enunciado_latex: $\\frac{10}{2\\sqrt{3}-\\sqrt{2}}$\n",
            "solucion_latex: $\\sqrt{2} + 2 \\sqrt{3}$\n"
          ],
          "name": "stdout"
        },
        {
          "output_type": "display_data",
          "data": {
            "text/markdown": "#### Ejercicio:",
            "text/plain": [
              "<IPython.core.display.Markdown object>"
            ]
          },
          "metadata": {
            "tags": []
          }
        },
        {
          "output_type": "display_data",
          "data": {
            "text/markdown": "$\\frac{\\sqrt{45}+\\sqrt{180}}{\\sqrt{176}+4\\sqrt{44}}$ $\\to$ $\\frac{3 \\sqrt{55}}{44}$",
            "text/plain": [
              "<IPython.core.display.Markdown object>"
            ]
          },
          "metadata": {
            "tags": []
          }
        },
        {
          "output_type": "stream",
          "text": [
            "enunciado_latex: $\\frac{\\sqrt{45}+\\sqrt{180}}{\\sqrt{176}+4\\sqrt{44}}$\n",
            "solucion_latex: $\\frac{3 \\sqrt{55}}{44}$\n"
          ],
          "name": "stdout"
        },
        {
          "output_type": "execute_result",
          "data": {
            "text/plain": [
              "[('$\\\\frac{10}{2\\\\sqrt{3}-\\\\sqrt{2}}$', '$\\\\sqrt{2} + 2 \\\\sqrt{3}$'),\n",
              " ('$\\\\frac{\\\\sqrt{45}+\\\\sqrt{180}}{\\\\sqrt{176}+4\\\\sqrt{44}}$',\n",
              "  '$\\\\frac{3 \\\\sqrt{55}}{44}$')]"
            ]
          },
          "metadata": {
            "tags": []
          },
          "execution_count": 25
        }
      ]
    },
    {
      "cell_type": "code",
      "metadata": {
        "id": "LmGZDRg80Yf_",
        "outputId": "46b645dc-45d9-4bf5-ae7b-5f6681d1e2ec"
      },
      "source": [
        "# Definición de logaritmo\n",
        "\n",
        "ejercicios=[[r'\\log_3{27}','log(27,3)'],\n",
        "            [r'\\log_3{1/81}','log(1/81,3)'],\n",
        "            [r'\\log_9 3',r'log(3,9)'],\n",
        "            [r'\\log_{1/3}{1/81}','log(1/81,1/3)'],\n",
        "            [r'\\log_5{\\sqrt{125}}','log(sqrt(125),5)'],\n",
        "            \n",
        "            \n",
        "           ]\n",
        "display(md(\"## Definición de Logaritmo:\"))\n",
        "\n",
        "[mostrar_ejercicio(\"$\"+e[0]+\"$\",\"$\"+latex(simplify(S(e[1])))+\"$\") for e in ejercicios]\n",
        "\n",
        "\n"
      ],
      "execution_count": null,
      "outputs": [
        {
          "output_type": "display_data",
          "data": {
            "text/markdown": "## Definición de Logaritmo:",
            "text/plain": [
              "<IPython.core.display.Markdown object>"
            ]
          },
          "metadata": {
            "tags": []
          }
        },
        {
          "output_type": "display_data",
          "data": {
            "text/markdown": "#### Ejercicio:",
            "text/plain": [
              "<IPython.core.display.Markdown object>"
            ]
          },
          "metadata": {
            "tags": []
          }
        },
        {
          "output_type": "display_data",
          "data": {
            "text/markdown": "$\\log_3{27}$ $\\to$ $3$",
            "text/plain": [
              "<IPython.core.display.Markdown object>"
            ]
          },
          "metadata": {
            "tags": []
          }
        },
        {
          "output_type": "stream",
          "text": [
            "enunciado_latex: $\\log_3{27}$\n",
            "solucion_latex: $3$\n"
          ],
          "name": "stdout"
        },
        {
          "output_type": "display_data",
          "data": {
            "text/markdown": "#### Ejercicio:",
            "text/plain": [
              "<IPython.core.display.Markdown object>"
            ]
          },
          "metadata": {
            "tags": []
          }
        },
        {
          "output_type": "display_data",
          "data": {
            "text/markdown": "$\\log_3{1/81}$ $\\to$ $-4$",
            "text/plain": [
              "<IPython.core.display.Markdown object>"
            ]
          },
          "metadata": {
            "tags": []
          }
        },
        {
          "output_type": "stream",
          "text": [
            "enunciado_latex: $\\log_3{1/81}$\n",
            "solucion_latex: $-4$\n"
          ],
          "name": "stdout"
        },
        {
          "output_type": "display_data",
          "data": {
            "text/markdown": "#### Ejercicio:",
            "text/plain": [
              "<IPython.core.display.Markdown object>"
            ]
          },
          "metadata": {
            "tags": []
          }
        },
        {
          "output_type": "display_data",
          "data": {
            "text/markdown": "$\\log_9 3$ $\\to$ $\\frac{1}{2}$",
            "text/plain": [
              "<IPython.core.display.Markdown object>"
            ]
          },
          "metadata": {
            "tags": []
          }
        },
        {
          "output_type": "stream",
          "text": [
            "enunciado_latex: $\\log_9 3$\n",
            "solucion_latex: $\\frac{1}{2}$\n"
          ],
          "name": "stdout"
        },
        {
          "output_type": "display_data",
          "data": {
            "text/markdown": "#### Ejercicio:",
            "text/plain": [
              "<IPython.core.display.Markdown object>"
            ]
          },
          "metadata": {
            "tags": []
          }
        },
        {
          "output_type": "display_data",
          "data": {
            "text/markdown": "$\\log_{1/3}{1/81}$ $\\to$ $4$",
            "text/plain": [
              "<IPython.core.display.Markdown object>"
            ]
          },
          "metadata": {
            "tags": []
          }
        },
        {
          "output_type": "stream",
          "text": [
            "enunciado_latex: $\\log_{1/3}{1/81}$\n",
            "solucion_latex: $4$\n"
          ],
          "name": "stdout"
        },
        {
          "output_type": "display_data",
          "data": {
            "text/markdown": "#### Ejercicio:",
            "text/plain": [
              "<IPython.core.display.Markdown object>"
            ]
          },
          "metadata": {
            "tags": []
          }
        },
        {
          "output_type": "display_data",
          "data": {
            "text/markdown": "$\\log_5{\\sqrt{125}}$ $\\to$ $\\frac{3}{2}$",
            "text/plain": [
              "<IPython.core.display.Markdown object>"
            ]
          },
          "metadata": {
            "tags": []
          }
        },
        {
          "output_type": "stream",
          "text": [
            "enunciado_latex: $\\log_5{\\sqrt{125}}$\n",
            "solucion_latex: $\\frac{3}{2}$\n"
          ],
          "name": "stdout"
        },
        {
          "output_type": "execute_result",
          "data": {
            "text/plain": [
              "[('$\\\\log_3{27}$', '$3$'),\n",
              " ('$\\\\log_3{1/81}$', '$-4$'),\n",
              " ('$\\\\log_9 3$', '$\\\\frac{1}{2}$'),\n",
              " ('$\\\\log_{1/3}{1/81}$', '$4$'),\n",
              " ('$\\\\log_5{\\\\sqrt{125}}$', '$\\\\frac{3}{2}$')]"
            ]
          },
          "metadata": {
            "tags": []
          },
          "execution_count": 28
        }
      ]
    },
    {
      "cell_type": "code",
      "metadata": {
        "id": "R9oe5rX60YgL",
        "outputId": "45256af8-5dc4-434b-cbaf-8bf0aac6351b",
        "colab": {
          "base_uri": "https://localhost:8080/",
          "height": 1000
        }
      },
      "source": [
        "# Definición de logaritmo\n",
        "\n",
        "ejercicios=[[r'\\log_3{27}','log(27,3)'],\n",
        "            [r'\\log_3{1/81}','log(1/81,3)'],\n",
        "            [r'\\log_9 3',r'log(3,9)'],\n",
        "            [r'\\log_{1/3}{1/81}','log(1/81,1/3)'],\n",
        "            [r'\\log_5{\\sqrt{125}}','log(sqrt(125),5)'],\n",
        "            #Autoevaluación\n",
        "            [r'\\log_9{3}','log(3,9)'],\n",
        "            [r'\\log_{0.5}{1/16}','log(1/16,0.5)'],\n",
        "            [r'\\log_{0.5}{16}','log(16,0.5)'],        \n",
        "            \n",
        "           ]\n",
        "display(md(\"## Definición de Logaritmo:\"))\n",
        "\n",
        "[mostrar_ejercicio(\"$\"+e[0]+\"$\",\"$\"+latex(simplify(S(e[1])))+\"$\") for e in ejercicios]\n",
        "\n",
        "\n"
      ],
      "execution_count": null,
      "outputs": [
        {
          "output_type": "display_data",
          "data": {
            "text/markdown": "## Definición de Logaritmo:",
            "text/plain": [
              "<IPython.core.display.Markdown object>"
            ]
          },
          "metadata": {
            "tags": []
          }
        },
        {
          "output_type": "display_data",
          "data": {
            "text/markdown": "#### Ejercicio:",
            "text/plain": [
              "<IPython.core.display.Markdown object>"
            ]
          },
          "metadata": {
            "tags": []
          }
        },
        {
          "output_type": "display_data",
          "data": {
            "text/markdown": "$\\log_3{27}$ $\\to$ $3$",
            "text/plain": [
              "<IPython.core.display.Markdown object>"
            ]
          },
          "metadata": {
            "tags": []
          }
        },
        {
          "output_type": "stream",
          "text": [
            "enunciado_latex: $\\log_3{27}$\n",
            "solucion_latex: $3$\n"
          ],
          "name": "stdout"
        },
        {
          "output_type": "display_data",
          "data": {
            "text/markdown": "#### Ejercicio:",
            "text/plain": [
              "<IPython.core.display.Markdown object>"
            ]
          },
          "metadata": {
            "tags": []
          }
        },
        {
          "output_type": "display_data",
          "data": {
            "text/markdown": "$\\log_3{1/81}$ $\\to$ $-4$",
            "text/plain": [
              "<IPython.core.display.Markdown object>"
            ]
          },
          "metadata": {
            "tags": []
          }
        },
        {
          "output_type": "stream",
          "text": [
            "enunciado_latex: $\\log_3{1/81}$\n",
            "solucion_latex: $-4$\n"
          ],
          "name": "stdout"
        },
        {
          "output_type": "display_data",
          "data": {
            "text/markdown": "#### Ejercicio:",
            "text/plain": [
              "<IPython.core.display.Markdown object>"
            ]
          },
          "metadata": {
            "tags": []
          }
        },
        {
          "output_type": "display_data",
          "data": {
            "text/markdown": "$\\log_9 3$ $\\to$ $\\frac{1}{2}$",
            "text/plain": [
              "<IPython.core.display.Markdown object>"
            ]
          },
          "metadata": {
            "tags": []
          }
        },
        {
          "output_type": "stream",
          "text": [
            "enunciado_latex: $\\log_9 3$\n",
            "solucion_latex: $\\frac{1}{2}$\n"
          ],
          "name": "stdout"
        },
        {
          "output_type": "display_data",
          "data": {
            "text/markdown": "#### Ejercicio:",
            "text/plain": [
              "<IPython.core.display.Markdown object>"
            ]
          },
          "metadata": {
            "tags": []
          }
        },
        {
          "output_type": "display_data",
          "data": {
            "text/markdown": "$\\log_{1/3}{1/81}$ $\\to$ $4$",
            "text/plain": [
              "<IPython.core.display.Markdown object>"
            ]
          },
          "metadata": {
            "tags": []
          }
        },
        {
          "output_type": "stream",
          "text": [
            "enunciado_latex: $\\log_{1/3}{1/81}$\n",
            "solucion_latex: $4$\n"
          ],
          "name": "stdout"
        },
        {
          "output_type": "display_data",
          "data": {
            "text/markdown": "#### Ejercicio:",
            "text/plain": [
              "<IPython.core.display.Markdown object>"
            ]
          },
          "metadata": {
            "tags": []
          }
        },
        {
          "output_type": "display_data",
          "data": {
            "text/markdown": "$\\log_5{\\sqrt{125}}$ $\\to$ $\\frac{3}{2}$",
            "text/plain": [
              "<IPython.core.display.Markdown object>"
            ]
          },
          "metadata": {
            "tags": []
          }
        },
        {
          "output_type": "stream",
          "text": [
            "enunciado_latex: $\\log_5{\\sqrt{125}}$\n",
            "solucion_latex: $\\frac{3}{2}$\n"
          ],
          "name": "stdout"
        },
        {
          "output_type": "display_data",
          "data": {
            "text/markdown": "#### Ejercicio:",
            "text/plain": [
              "<IPython.core.display.Markdown object>"
            ]
          },
          "metadata": {
            "tags": []
          }
        },
        {
          "output_type": "display_data",
          "data": {
            "text/markdown": "$\\log_9{3}$ $\\to$ $\\frac{1}{2}$",
            "text/plain": [
              "<IPython.core.display.Markdown object>"
            ]
          },
          "metadata": {
            "tags": []
          }
        },
        {
          "output_type": "stream",
          "text": [
            "enunciado_latex: $\\log_9{3}$\n",
            "solucion_latex: $\\frac{1}{2}$\n"
          ],
          "name": "stdout"
        },
        {
          "output_type": "display_data",
          "data": {
            "text/markdown": "#### Ejercicio:",
            "text/plain": [
              "<IPython.core.display.Markdown object>"
            ]
          },
          "metadata": {
            "tags": []
          }
        },
        {
          "output_type": "display_data",
          "data": {
            "text/markdown": "$\\log_{0.5}{1/16}$ $\\to$ $4.0$",
            "text/plain": [
              "<IPython.core.display.Markdown object>"
            ]
          },
          "metadata": {
            "tags": []
          }
        },
        {
          "output_type": "stream",
          "text": [
            "enunciado_latex: $\\log_{0.5}{1/16}$\n",
            "solucion_latex: $4.0$\n"
          ],
          "name": "stdout"
        },
        {
          "output_type": "display_data",
          "data": {
            "text/markdown": "#### Ejercicio:",
            "text/plain": [
              "<IPython.core.display.Markdown object>"
            ]
          },
          "metadata": {
            "tags": []
          }
        },
        {
          "output_type": "display_data",
          "data": {
            "text/markdown": "$\\log_{0.5}{16}$ $\\to$ $-4.0$",
            "text/plain": [
              "<IPython.core.display.Markdown object>"
            ]
          },
          "metadata": {
            "tags": []
          }
        },
        {
          "output_type": "stream",
          "text": [
            "enunciado_latex: $\\log_{0.5}{16}$\n",
            "solucion_latex: $-4.0$\n"
          ],
          "name": "stdout"
        },
        {
          "output_type": "execute_result",
          "data": {
            "text/plain": [
              "[('$\\\\log_3{27}$', '$3$'),\n",
              " ('$\\\\log_3{1/81}$', '$-4$'),\n",
              " ('$\\\\log_9 3$', '$\\\\frac{1}{2}$'),\n",
              " ('$\\\\log_{1/3}{1/81}$', '$4$'),\n",
              " ('$\\\\log_5{\\\\sqrt{125}}$', '$\\\\frac{3}{2}$'),\n",
              " ('$\\\\log_9{3}$', '$\\\\frac{1}{2}$'),\n",
              " ('$\\\\log_{0.5}{1/16}$', '$4.0$'),\n",
              " ('$\\\\log_{0.5}{16}$', '$-4.0$')]"
            ]
          },
          "metadata": {
            "tags": []
          },
          "execution_count": 18
        }
      ]
    },
    {
      "cell_type": "code",
      "metadata": {
        "id": "yMEiG1d90YgY",
        "outputId": "128db3a4-b4b7-4ce5-b36a-ce0b23a79633"
      },
      "source": [
        "# Definición de logaritmo\n",
        "\n",
        "ejercicios=[[r'\\log_3 \\frac{1}{9} -  \\log_5 0.2 +\\log_6 \\frac{1}{36} - \\log_2 0.5',\n",
        "             'log(1/9,3)-log(0.2,5)+log(1/36,6)-log(0.5,2)'], \n",
        "            [r'2\\log_4 16 +  log_2 32 - 3log_7 49',\n",
        "            r'2*log(16,4)+log(32,2)-3*log(49,7)']\n",
        "           ]\n",
        "display(md(\"## Definición de Logaritmo y operaciones:\"))\n",
        "    \n",
        "[mostrar_ejercicio(\"$\"+e[0]+\"$\",\"$\"+e[0]+ r\"= (\"+r\" )+( \".join([latex(S(i).evalf(2)) for i in S(e[1], evaluate=False).args])+r\")=\"+latex(simplify(S(e[1])).evalf(2))+\"$\") for e in ejercicios]   \n"
      ],
      "execution_count": null,
      "outputs": [
        {
          "output_type": "display_data",
          "data": {
            "text/markdown": "## Definición de Logaritmo y operaciones:",
            "text/plain": [
              "<IPython.core.display.Markdown object>"
            ]
          },
          "metadata": {
            "tags": []
          }
        },
        {
          "output_type": "display_data",
          "data": {
            "text/markdown": "#### Ejercicio:",
            "text/plain": [
              "<IPython.core.display.Markdown object>"
            ]
          },
          "metadata": {
            "tags": []
          }
        },
        {
          "output_type": "display_data",
          "data": {
            "text/markdown": "$\\log_3 \\frac{1}{9} -  \\log_5 0.2 +\\log_6 \\frac{1}{36} - \\log_2 0.5$ $\\to$ $\\log_3 \\frac{1}{9} -  \\log_5 0.2 +\\log_6 \\frac{1}{36} - \\log_2 0.5= (-2.0 )+( 1.0 )+( -2.0 )+( 1.0)=-2.0$",
            "text/plain": [
              "<IPython.core.display.Markdown object>"
            ]
          },
          "metadata": {
            "tags": []
          }
        },
        {
          "output_type": "stream",
          "text": [
            "enunciado_latex: $\\log_3 \\frac{1}{9} -  \\log_5 0.2 +\\log_6 \\frac{1}{36} - \\log_2 0.5$\n",
            "solucion_latex: $\\log_3 \\frac{1}{9} -  \\log_5 0.2 +\\log_6 \\frac{1}{36} - \\log_2 0.5= (-2.0 )+( 1.0 )+( -2.0 )+( 1.0)=-2.0$\n"
          ],
          "name": "stdout"
        },
        {
          "output_type": "display_data",
          "data": {
            "text/markdown": "#### Ejercicio:",
            "text/plain": [
              "<IPython.core.display.Markdown object>"
            ]
          },
          "metadata": {
            "tags": []
          }
        },
        {
          "output_type": "display_data",
          "data": {
            "text/markdown": "$2\\log_4 16 +  log_2 32 - 3log_7 49$ $\\to$ $2\\log_4 16 +  log_2 32 - 3log_7 49= (4.0 )+( 5.0 )+( -6.0)=3.0$",
            "text/plain": [
              "<IPython.core.display.Markdown object>"
            ]
          },
          "metadata": {
            "tags": []
          }
        },
        {
          "output_type": "stream",
          "text": [
            "enunciado_latex: $2\\log_4 16 +  log_2 32 - 3log_7 49$\n",
            "solucion_latex: $2\\log_4 16 +  log_2 32 - 3log_7 49= (4.0 )+( 5.0 )+( -6.0)=3.0$\n"
          ],
          "name": "stdout"
        },
        {
          "output_type": "execute_result",
          "data": {
            "text/plain": [
              "[('$\\\\log_3 \\\\frac{1}{9} -  \\\\log_5 0.2 +\\\\log_6 \\\\frac{1}{36} - \\\\log_2 0.5$',\n",
              "  '$\\\\log_3 \\\\frac{1}{9} -  \\\\log_5 0.2 +\\\\log_6 \\\\frac{1}{36} - \\\\log_2 0.5= (-2.0 )+( 1.0 )+( -2.0 )+( 1.0)=-2.0$'),\n",
              " ('$2\\\\log_4 16 +  log_2 32 - 3log_7 49$',\n",
              "  '$2\\\\log_4 16 +  log_2 32 - 3log_7 49= (4.0 )+( 5.0 )+( -6.0)=3.0$')]"
            ]
          },
          "metadata": {
            "tags": []
          },
          "execution_count": 31
        }
      ]
    },
    {
      "cell_type": "code",
      "metadata": {
        "id": "CaZkd2710Ygl",
        "outputId": "023a9336-ca33-4148-9b74-6d0eb4c0f55c"
      },
      "source": [
        "# Propiedades de los logaritmos - combinar\n",
        "\n",
        "ejercicios=[[r'\\log_2 10 + 2\\log_2 3 - \\log_2 5 - \\log_2 9',\n",
        "             'log(10,2)+2*log(3,2)-log(5,2)-log(9,2)'],\n",
        "            \n",
        "\n",
        "            \n",
        "           ]\n",
        "display(md(\"## Propiedades de los logaritmos - combinar\"))\n",
        "\n",
        "    \n",
        "[mostrar_ejercicio(\"$\"+e[0]+\"$\",\"$\"+e[0]+r\"=\"+latex(logcombine(S(e[1])))+r\"=\"+latex(simplify(S(e[1])))+\"$\") for e in ejercicios]\n",
        "    \n",
        "\n",
        "\n"
      ],
      "execution_count": null,
      "outputs": [
        {
          "output_type": "display_data",
          "data": {
            "text/markdown": "## Propiedades de los logaritmos - combinar",
            "text/plain": [
              "<IPython.core.display.Markdown object>"
            ]
          },
          "metadata": {
            "tags": []
          }
        },
        {
          "output_type": "display_data",
          "data": {
            "text/markdown": "#### Ejercicio:",
            "text/plain": [
              "<IPython.core.display.Markdown object>"
            ]
          },
          "metadata": {
            "tags": []
          }
        },
        {
          "output_type": "display_data",
          "data": {
            "text/markdown": "$\\log_2 10 + 2\\log_2 3 - \\log_2 5 - \\log_2 9$ $\\to$ $\\log_2 10 + 2\\log_2 3 - \\log_2 5 - \\log_2 9=\\log{\\left(\\frac{3^{\\frac{2}{\\log{\\left(2 \\right)}}}}{9^{\\frac{1}{\\log{\\left(2 \\right)}}}} \\right)} + 1=1$",
            "text/plain": [
              "<IPython.core.display.Markdown object>"
            ]
          },
          "metadata": {
            "tags": []
          }
        },
        {
          "output_type": "stream",
          "text": [
            "enunciado_latex: $\\log_2 10 + 2\\log_2 3 - \\log_2 5 - \\log_2 9$\n",
            "solucion_latex: $\\log_2 10 + 2\\log_2 3 - \\log_2 5 - \\log_2 9=\\log{\\left(\\frac{3^{\\frac{2}{\\log{\\left(2 \\right)}}}}{9^{\\frac{1}{\\log{\\left(2 \\right)}}}} \\right)} + 1=1$\n"
          ],
          "name": "stdout"
        },
        {
          "output_type": "execute_result",
          "data": {
            "text/plain": [
              "[('$\\\\log_2 10 + 2\\\\log_2 3 - \\\\log_2 5 - \\\\log_2 9$',\n",
              "  '$\\\\log_2 10 + 2\\\\log_2 3 - \\\\log_2 5 - \\\\log_2 9=\\\\log{\\\\left(\\\\frac{3^{\\\\frac{2}{\\\\log{\\\\left(2 \\\\right)}}}}{9^{\\\\frac{1}{\\\\log{\\\\left(2 \\\\right)}}}} \\\\right)} + 1=1$')]"
            ]
          },
          "metadata": {
            "tags": []
          },
          "execution_count": 47
        }
      ]
    },
    {
      "cell_type": "code",
      "metadata": {
        "scrolled": true,
        "id": "P3mLBfCa0Ygx",
        "outputId": "f30a3d35-e496-4f70-b1f2-2a1f1e9a821e",
        "colab": {
          "base_uri": "https://localhost:8080/",
          "height": 960
        }
      },
      "source": [
        "# Propiedades de los logaritmos - expandir\n",
        "\n",
        "ejercicios=[[r'\\log (x\\cdot y)','log(x*y)', 1.3, 0.8],\n",
        "            [r'\\log (x\\cdot \\sqrt{y})','log(x*sqrt(y))', 1.3, 0.8],\n",
        "            [r'\\log (\\frac{y}{x^2})','log(y/(x**2))', 1.3, 0.8],\n",
        "            [r'\\log (\\sqrt{\\frac{x}{y}})','log(sqrt(x/y))', 1.3, 0.8],\n",
        "            [r'\\log (\\frac{8\\cdot x^2}{\\sqrt{y}})','log((8*x**2)/sqrt(y))', 1.5, -0.6],\n",
        "            #Autoevalución\n",
        "            [r'\\log (\\frac{100\\cdot x^2}{\\sqrt{x\\cdot y}})',r'log((E**2*x**2)/sqrt(x*y))',2,-1]\n",
        "            \n",
        "\n",
        "            \n",
        "           ]\n",
        "display(md(\"## Propiedades de los logaritmos - expandir\"))\n",
        "\n",
        "    \n",
        "[mostrar_ejercicio(\"Sabiendo que $\\log x={}$ y $\\log y={}$,calcula $\".format(e[2],e[3])+e[0]+\"$\",\n",
        "                   \"$\"+e[0]+r\"=\"+latex(expand_log(S(e[1]),force=True))+r\"=\"+latex(expand_log(S(e[1]),force=True).subs(log(x),UnevaluatedExpr(e[2])).subs(log(y),UnevaluatedExpr(e[3])))+\"=\"+latex(expand_log(S(e[1]),force=True).subs(log(x),e[2]).subs(log(y),e[3]))+\"$\") for e in ejercicios]\n",
        "    \n",
        "\n",
        "\n"
      ],
      "execution_count": 10,
      "outputs": [
        {
          "output_type": "display_data",
          "data": {
            "text/markdown": "## Propiedades de los logaritmos - expandir",
            "text/plain": [
              "<IPython.core.display.Markdown object>"
            ]
          },
          "metadata": {
            "tags": []
          }
        },
        {
          "output_type": "display_data",
          "data": {
            "text/markdown": "#### Ejercicio:",
            "text/plain": [
              "<IPython.core.display.Markdown object>"
            ]
          },
          "metadata": {
            "tags": []
          }
        },
        {
          "output_type": "display_data",
          "data": {
            "text/markdown": "Sabiendo que $\\log x=1.3$ y $\\log y=0.8$,calcula $\\log (x\\cdot y)$ $\\to$ $\\log (x\\cdot y)=\\log{\\left (x \\right )} + \\log{\\left (y \\right )}=0.8 + 1.3=2.1$",
            "text/plain": [
              "<IPython.core.display.Markdown object>"
            ]
          },
          "metadata": {
            "tags": []
          }
        },
        {
          "output_type": "stream",
          "text": [
            "enunciado_latex: Sabiendo que $\\log x=1.3$ y $\\log y=0.8$,calcula $\\log (x\\cdot y)$\n",
            "solucion_latex: $\\log (x\\cdot y)=\\log{\\left (x \\right )} + \\log{\\left (y \\right )}=0.8 + 1.3=2.1$\n"
          ],
          "name": "stdout"
        },
        {
          "output_type": "display_data",
          "data": {
            "text/markdown": "#### Ejercicio:",
            "text/plain": [
              "<IPython.core.display.Markdown object>"
            ]
          },
          "metadata": {
            "tags": []
          }
        },
        {
          "output_type": "display_data",
          "data": {
            "text/markdown": "Sabiendo que $\\log x=1.3$ y $\\log y=0.8$,calcula $\\log (x\\cdot \\sqrt{y})$ $\\to$ $\\log (x\\cdot \\sqrt{y})=\\log{\\left (x \\right )} + \\frac{\\log{\\left (y \\right )}}{2}=\\frac{0.8}{2} + 1.3=1.7$",
            "text/plain": [
              "<IPython.core.display.Markdown object>"
            ]
          },
          "metadata": {
            "tags": []
          }
        },
        {
          "output_type": "stream",
          "text": [
            "enunciado_latex: Sabiendo que $\\log x=1.3$ y $\\log y=0.8$,calcula $\\log (x\\cdot \\sqrt{y})$\n",
            "solucion_latex: $\\log (x\\cdot \\sqrt{y})=\\log{\\left (x \\right )} + \\frac{\\log{\\left (y \\right )}}{2}=\\frac{0.8}{2} + 1.3=1.7$\n"
          ],
          "name": "stdout"
        },
        {
          "output_type": "display_data",
          "data": {
            "text/markdown": "#### Ejercicio:",
            "text/plain": [
              "<IPython.core.display.Markdown object>"
            ]
          },
          "metadata": {
            "tags": []
          }
        },
        {
          "output_type": "display_data",
          "data": {
            "text/markdown": "Sabiendo que $\\log x=1.3$ y $\\log y=0.8$,calcula $\\log (\\frac{y}{x^2})$ $\\to$ $\\log (\\frac{y}{x^2})=- 2 \\log{\\left (x \\right )} + \\log{\\left (y \\right )}=0.8 - 2 \\cdot 1.3=-1.8$",
            "text/plain": [
              "<IPython.core.display.Markdown object>"
            ]
          },
          "metadata": {
            "tags": []
          }
        },
        {
          "output_type": "stream",
          "text": [
            "enunciado_latex: Sabiendo que $\\log x=1.3$ y $\\log y=0.8$,calcula $\\log (\\frac{y}{x^2})$\n",
            "solucion_latex: $\\log (\\frac{y}{x^2})=- 2 \\log{\\left (x \\right )} + \\log{\\left (y \\right )}=0.8 - 2 \\cdot 1.3=-1.8$\n"
          ],
          "name": "stdout"
        },
        {
          "output_type": "display_data",
          "data": {
            "text/markdown": "#### Ejercicio:",
            "text/plain": [
              "<IPython.core.display.Markdown object>"
            ]
          },
          "metadata": {
            "tags": []
          }
        },
        {
          "output_type": "display_data",
          "data": {
            "text/markdown": "Sabiendo que $\\log x=1.3$ y $\\log y=0.8$,calcula $\\log (\\sqrt{\\frac{x}{y}})$ $\\to$ $\\log (\\sqrt{\\frac{x}{y}})=\\frac{\\log{\\left (x \\right )}}{2} - \\frac{\\log{\\left (y \\right )}}{2}=- \\frac{0.8}{2} + \\frac{1.3}{2}=0.25$",
            "text/plain": [
              "<IPython.core.display.Markdown object>"
            ]
          },
          "metadata": {
            "tags": []
          }
        },
        {
          "output_type": "stream",
          "text": [
            "enunciado_latex: Sabiendo que $\\log x=1.3$ y $\\log y=0.8$,calcula $\\log (\\sqrt{\\frac{x}{y}})$\n",
            "solucion_latex: $\\log (\\sqrt{\\frac{x}{y}})=\\frac{\\log{\\left (x \\right )}}{2} - \\frac{\\log{\\left (y \\right )}}{2}=- \\frac{0.8}{2} + \\frac{1.3}{2}=0.25$\n"
          ],
          "name": "stdout"
        },
        {
          "output_type": "display_data",
          "data": {
            "text/markdown": "#### Ejercicio:",
            "text/plain": [
              "<IPython.core.display.Markdown object>"
            ]
          },
          "metadata": {
            "tags": []
          }
        },
        {
          "output_type": "display_data",
          "data": {
            "text/markdown": "Sabiendo que $\\log x=1.5$ y $\\log y=-0.6$,calcula $\\log (\\frac{8\\cdot x^2}{\\sqrt{y}})$ $\\to$ $\\log (\\frac{8\\cdot x^2}{\\sqrt{y}})=2 \\log{\\left (x \\right )} - \\frac{\\log{\\left (y \\right )}}{2} + 3 \\log{\\left (2 \\right )}=3 \\log{\\left (2 \\right )} - \\frac{-0.6}{2} + 2 \\cdot 1.5=3 \\log{\\left (2 \\right )} + 3.3$",
            "text/plain": [
              "<IPython.core.display.Markdown object>"
            ]
          },
          "metadata": {
            "tags": []
          }
        },
        {
          "output_type": "stream",
          "text": [
            "enunciado_latex: Sabiendo que $\\log x=1.5$ y $\\log y=-0.6$,calcula $\\log (\\frac{8\\cdot x^2}{\\sqrt{y}})$\n",
            "solucion_latex: $\\log (\\frac{8\\cdot x^2}{\\sqrt{y}})=2 \\log{\\left (x \\right )} - \\frac{\\log{\\left (y \\right )}}{2} + 3 \\log{\\left (2 \\right )}=3 \\log{\\left (2 \\right )} - \\frac{-0.6}{2} + 2 \\cdot 1.5=3 \\log{\\left (2 \\right )} + 3.3$\n"
          ],
          "name": "stdout"
        },
        {
          "output_type": "display_data",
          "data": {
            "text/markdown": "#### Ejercicio:",
            "text/plain": [
              "<IPython.core.display.Markdown object>"
            ]
          },
          "metadata": {
            "tags": []
          }
        },
        {
          "output_type": "display_data",
          "data": {
            "text/markdown": "Sabiendo que $\\log x=2$ y $\\log y=-1$,calcula $\\log (\\frac{100\\cdot x^2}{\\sqrt{x\\cdot y}})$ $\\to$ $\\log (\\frac{100\\cdot x^2}{\\sqrt{x\\cdot y}})=\\frac{3 \\log{\\left (x \\right )}}{2} - \\frac{\\log{\\left (y \\right )}}{2} + 2=2 - \\frac{-1}{2} + \\frac{3 \\cdot 2}{2}=\\frac{11}{2}$",
            "text/plain": [
              "<IPython.core.display.Markdown object>"
            ]
          },
          "metadata": {
            "tags": []
          }
        },
        {
          "output_type": "stream",
          "text": [
            "enunciado_latex: Sabiendo que $\\log x=2$ y $\\log y=-1$,calcula $\\log (\\frac{100\\cdot x^2}{\\sqrt{x\\cdot y}})$\n",
            "solucion_latex: $\\log (\\frac{100\\cdot x^2}{\\sqrt{x\\cdot y}})=\\frac{3 \\log{\\left (x \\right )}}{2} - \\frac{\\log{\\left (y \\right )}}{2} + 2=2 - \\frac{-1}{2} + \\frac{3 \\cdot 2}{2}=\\frac{11}{2}$\n"
          ],
          "name": "stdout"
        },
        {
          "output_type": "execute_result",
          "data": {
            "text/plain": [
              "[('Sabiendo que $\\\\log x=1.3$ y $\\\\log y=0.8$,calcula $\\\\log (x\\\\cdot y)$',\n",
              "  '$\\\\log (x\\\\cdot y)=\\\\log{\\\\left (x \\\\right )} + \\\\log{\\\\left (y \\\\right )}=0.8 + 1.3=2.1$'),\n",
              " ('Sabiendo que $\\\\log x=1.3$ y $\\\\log y=0.8$,calcula $\\\\log (x\\\\cdot \\\\sqrt{y})$',\n",
              "  '$\\\\log (x\\\\cdot \\\\sqrt{y})=\\\\log{\\\\left (x \\\\right )} + \\\\frac{\\\\log{\\\\left (y \\\\right )}}{2}=\\\\frac{0.8}{2} + 1.3=1.7$'),\n",
              " ('Sabiendo que $\\\\log x=1.3$ y $\\\\log y=0.8$,calcula $\\\\log (\\\\frac{y}{x^2})$',\n",
              "  '$\\\\log (\\\\frac{y}{x^2})=- 2 \\\\log{\\\\left (x \\\\right )} + \\\\log{\\\\left (y \\\\right )}=0.8 - 2 \\\\cdot 1.3=-1.8$'),\n",
              " ('Sabiendo que $\\\\log x=1.3$ y $\\\\log y=0.8$,calcula $\\\\log (\\\\sqrt{\\\\frac{x}{y}})$',\n",
              "  '$\\\\log (\\\\sqrt{\\\\frac{x}{y}})=\\\\frac{\\\\log{\\\\left (x \\\\right )}}{2} - \\\\frac{\\\\log{\\\\left (y \\\\right )}}{2}=- \\\\frac{0.8}{2} + \\\\frac{1.3}{2}=0.25$'),\n",
              " ('Sabiendo que $\\\\log x=1.5$ y $\\\\log y=-0.6$,calcula $\\\\log (\\\\frac{8\\\\cdot x^2}{\\\\sqrt{y}})$',\n",
              "  '$\\\\log (\\\\frac{8\\\\cdot x^2}{\\\\sqrt{y}})=2 \\\\log{\\\\left (x \\\\right )} - \\\\frac{\\\\log{\\\\left (y \\\\right )}}{2} + 3 \\\\log{\\\\left (2 \\\\right )}=3 \\\\log{\\\\left (2 \\\\right )} - \\\\frac{-0.6}{2} + 2 \\\\cdot 1.5=3 \\\\log{\\\\left (2 \\\\right )} + 3.3$'),\n",
              " ('Sabiendo que $\\\\log x=2$ y $\\\\log y=-1$,calcula $\\\\log (\\\\frac{100\\\\cdot x^2}{\\\\sqrt{x\\\\cdot y}})$',\n",
              "  '$\\\\log (\\\\frac{100\\\\cdot x^2}{\\\\sqrt{x\\\\cdot y}})=\\\\frac{3 \\\\log{\\\\left (x \\\\right )}}{2} - \\\\frac{\\\\log{\\\\left (y \\\\right )}}{2} + 2=2 - \\\\frac{-1}{2} + \\\\frac{3 \\\\cdot 2}{2}=\\\\frac{11}{2}$')]"
            ]
          },
          "metadata": {
            "tags": []
          },
          "execution_count": 10
        }
      ]
    },
    {
      "cell_type": "code",
      "metadata": {
        "id": "aVwq4l370Yg-",
        "outputId": "3a3cc510-d5ce-4079-c117-f3a4553240e2"
      },
      "source": [
        "expand_log(log(x*y),force=True)\n",
        "UnevaluatedExpr(log(x,2))\n",
        "S('log(x,2)', evaluate=False)"
      ],
      "execution_count": null,
      "outputs": [
        {
          "output_type": "execute_result",
          "data": {
            "image/png": "[encoded data removed]",
            "text/latex": "$\\displaystyle \\frac{\\log{\\left(x \\right)}}{\\log{\\left(2 \\right)}}$",
            "text/plain": [
              "log(x)\n",
              "──────\n",
              "log(2)"
            ]
          },
          "metadata": {
            "tags": []
          },
          "execution_count": 76
        }
      ]
    },
    {
      "cell_type": "code",
      "metadata": {
        "id": "OXyhfb-U0YhJ",
        "outputId": "dd87e9c0-8897-4b8c-e46c-14d178c8363c",
        "colab": {
          "base_uri": "https://localhost:8080/",
          "height": 332
        }
      },
      "source": [
        "# Propiedades de los logaritmos\n",
        "\n",
        "ejercicios=[[r'\\log_2 10 + 2\\log_2 3 - \\log_2 5 - \\log_2 9',\n",
        "             'log(10,2)+2*log(3,2)-log(5,2)-log(9,2)'],\n",
        "            #Autoevalución\n",
        "            [r'\\log (\\frac{100\\cdot x^2}{\\sqrt{x\\cdot y}})',r'log((E**2*x**2)/sqrt(x*y))']\n",
        "\n",
        "            \n",
        "           ]\n",
        "display(md(\"## Propiedades de los logaritmos\"))\n",
        "  \n",
        "# for e in ejercicios :\n",
        "#     display(md(\"#### Ejercicio:\"))\n",
        "#     ejercicio = e[0]\n",
        "#     solucion = simplify(S(e[1]))\n",
        "#     display(md(r\"${} \\to {}$\".format(ejercicio, solucion)))\n",
        "#     print(\"enunciado_latex: \" + ejercicio)\n",
        "#     print(\"solucion_latex: \" + latex(solucion))\n",
        "    \n",
        "[mostrar_ejercicio(\"$\"+e[0]+\"$\",\"$\"+latex(simplify(expand_log(S(e[1]),force=True)))+\"$\") for e in ejercicios]\n",
        "    \n",
        "\n",
        "\n"
      ],
      "execution_count": 9,
      "outputs": [
        {
          "output_type": "display_data",
          "data": {
            "text/markdown": "## Propiedades de los logaritmos",
            "text/plain": [
              "<IPython.core.display.Markdown object>"
            ]
          },
          "metadata": {
            "tags": []
          }
        },
        {
          "output_type": "display_data",
          "data": {
            "text/markdown": "#### Ejercicio:",
            "text/plain": [
              "<IPython.core.display.Markdown object>"
            ]
          },
          "metadata": {
            "tags": []
          }
        },
        {
          "output_type": "display_data",
          "data": {
            "text/markdown": "$\\log_2 10 + 2\\log_2 3 - \\log_2 5 - \\log_2 9$ $\\to$ $1$",
            "text/plain": [
              "<IPython.core.display.Markdown object>"
            ]
          },
          "metadata": {
            "tags": []
          }
        },
        {
          "output_type": "stream",
          "text": [
            "enunciado_latex: $\\log_2 10 + 2\\log_2 3 - \\log_2 5 - \\log_2 9$\n",
            "solucion_latex: $1$\n"
          ],
          "name": "stdout"
        },
        {
          "output_type": "display_data",
          "data": {
            "text/markdown": "#### Ejercicio:",
            "text/plain": [
              "<IPython.core.display.Markdown object>"
            ]
          },
          "metadata": {
            "tags": []
          }
        },
        {
          "output_type": "display_data",
          "data": {
            "text/markdown": "$\\log (\\frac{100\\cdot x^2}{\\sqrt{x\\cdot y}})$ $\\to$ $\\frac{3 \\log{\\left (x \\right )}}{2} - \\frac{\\log{\\left (y \\right )}}{2} + 2$",
            "text/plain": [
              "<IPython.core.display.Markdown object>"
            ]
          },
          "metadata": {
            "tags": []
          }
        },
        {
          "output_type": "stream",
          "text": [
            "enunciado_latex: $\\log (\\frac{100\\cdot x^2}{\\sqrt{x\\cdot y}})$\n",
            "solucion_latex: $\\frac{3 \\log{\\left (x \\right )}}{2} - \\frac{\\log{\\left (y \\right )}}{2} + 2$\n"
          ],
          "name": "stdout"
        },
        {
          "output_type": "execute_result",
          "data": {
            "text/plain": [
              "[('$\\\\log_2 10 + 2\\\\log_2 3 - \\\\log_2 5 - \\\\log_2 9$', '$1$'),\n",
              " ('$\\\\log (\\\\frac{100\\\\cdot x^2}{\\\\sqrt{x\\\\cdot y}})$',\n",
              "  '$\\\\frac{3 \\\\log{\\\\left (x \\\\right )}}{2} - \\\\frac{\\\\log{\\\\left (y \\\\right )}}{2} + 2$')]"
            ]
          },
          "metadata": {
            "tags": []
          },
          "execution_count": 9
        }
      ]
    }
  ]
}