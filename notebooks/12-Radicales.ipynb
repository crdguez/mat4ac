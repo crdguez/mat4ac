{
 "cells": [
  {
   "cell_type": "code",
   "execution_count": 1,
   "metadata": {},
   "outputs": [
    {
     "name": "stdout",
     "output_type": "stream",
     "text": [
      "IPython console for SymPy 1.4 (Python 3.6.8-64-bit) (ground types: gmpy)\n",
      "\n",
      "These commands were executed:\n",
      ">>> from __future__ import division\n",
      ">>> from sympy import *\n",
      ">>> x, y, z, t = symbols('x y z t')\n",
      ">>> k, m, n = symbols('k m n', integer=True)\n",
      ">>> f, g, h = symbols('f g h', cls=Function)\n",
      ">>> init_printing()\n",
      "\n",
      "Documentation can be found at https://docs.sympy.org/1.4/\n",
      "\n"
     ]
    }
   ],
   "source": [
    "from sympy import init_session\n",
    "from sympy.parsing.latex import parse_latex\n",
    "from IPython.display import Markdown as md\n",
    "from IPython.display import display\n",
    "import numpy as np\n",
    "\n",
    "init_session()\n",
    "\n",
    "a, b, c, d = symbols('a b c d', real = True)"
   ]
  },
  {
   "cell_type": "code",
   "execution_count": 26,
   "metadata": {},
   "outputs": [],
   "source": [
    "def mostrar_ejercicio(ejercicio,solucion,tipo=0) :\n",
    "    #tipo=0 se pasa el ejercicio y la solucion en formato latex\n",
    "    if tipo == 0 :\n",
    "        display(md(\"#### Ejercicio:\"))\n",
    "        display(md(r\"{} $\\to$ {}\".format(ejercicio, solucion)))\n",
    "        print(\"enunciado_latex: \" + ejercicio)\n",
    "        print(\"solucion_latex: \" + solucion)\n",
    "        return ejercicio, solucion\n",
    "    elif tipo == 1:\n",
    "        display(md(\"#### Ejercicio:\"))\n",
    "        display(md(r\"{} $\\to$ {}\".format(ejercicio, solucion)))\n",
    "        print(\"enunciado_latex: \" + ejercicio)\n",
    "        print(\"solucion_latex: \" + solucion)\n",
    "        return ejercicio, solucion\n",
    "\n",
    "        \n",
    "    "
   ]
  },
  {
   "cell_type": "code",
   "execution_count": 5,
   "metadata": {},
   "outputs": [
    {
     "data": {
      "text/markdown": [
       "## Clasificar números:"
      ],
      "text/plain": [
       "<IPython.core.display.Markdown object>"
      ]
     },
     "metadata": {},
     "output_type": "display_data"
    },
    {
     "data": {
      "text/markdown": [
       "#### Ejercicio:"
      ],
      "text/plain": [
       "<IPython.core.display.Markdown object>"
      ]
     },
     "metadata": {},
     "output_type": "display_data"
    },
    {
     "data": {
      "text/markdown": [
       "\\begin{tabular}{|c |c |c |c |c|}\\hline\n",
       "    &$\\mathbb{N}$& $\\mathbb{Z}$& $\\mathbb{Q}$&$\\mathbb{R}$\\\\ \n",
       "    \\hline $\\frac{1}{2}$&&&&\\\\ \\hline $\\sqrt[3]{-27}$ &&&&\\\\ \\hline \\end{tabular} $\\to$ \\begin{tabular}{|c |c |c |c |c|}\\hline\n",
       "    &$\\mathbb{N}$& $\\mathbb{Z}$& $\\mathbb{Q}$&$\\mathbb{R}$\\\\ \n",
       "    \\hline$\\frac{1}{2}$ & False & False & True & True\\\\ \\hline $\\sqrt[3]{-27}$ & False & False & False & False\\\\ \\hline \\end{tabular}"
      ],
      "text/plain": [
       "<IPython.core.display.Markdown object>"
      ]
     },
     "metadata": {},
     "output_type": "display_data"
    },
    {
     "name": "stdout",
     "output_type": "stream",
     "text": [
      "enunciado_latex: \\begin{tabular}{|c |c |c |c |c|}\\hline\n",
      "    &$\\mathbb{N}$& $\\mathbb{Z}$& $\\mathbb{Q}$&$\\mathbb{R}$\\\\ \n",
      "    \\hline $\\frac{1}{2}$&&&&\\\\ \\hline $\\sqrt[3]{-27}$ &&&&\\\\ \\hline \\end{tabular}\n",
      "solucion_latex: \\begin{tabular}{|c |c |c |c |c|}\\hline\n",
      "    &$\\mathbb{N}$& $\\mathbb{Z}$& $\\mathbb{Q}$&$\\mathbb{R}$\\\\ \n",
      "    \\hline$\\frac{1}{2}$ & False & False & True & True\\\\ \\hline $\\sqrt[3]{-27}$ & False & False & False & False\\\\ \\hline \\end{tabular}\n"
     ]
    }
   ],
   "source": [
    "# Clasificar números\n",
    "\n",
    "ejercicios=[\n",
    "            [r'\\frac{1}{2}', '\\sqrt[3]{-27}'],\n",
    "            \n",
    "           ]\n",
    "\n",
    "display(md(\"## Clasificar números:\"))\n",
    "\n",
    "for e in ejercicios :\n",
    "    enunciado_latex = r\"\"\"\\begin{tabular}{|c |c |c |c |c|}\\hline\n",
    "    &$\\mathbb{N}$& $\\mathbb{Z}$& $\\mathbb{Q}$&$\\mathbb{R}$\\\\ \n",
    "    \\hline $\"\"\"\n",
    "    enunciado_latex += r\"\"\"$&&&&\\\\ \\hline $\"\"\".join(e)\n",
    "    enunciado_latex += r'$ &&&&\\\\ \\hline \\end{tabular}'\n",
    "    solucion_latex = r\"\"\"\\begin{tabular}{|c |c |c |c |c|}\\hline\n",
    "    &$\\mathbb{N}$& $\\mathbb{Z}$& $\\mathbb{Q}$&$\\mathbb{R}$\\\\ \n",
    "    \\hline\"\"\"\n",
    "    for ee in e:\n",
    "        n = parse_latex(ee)\n",
    "        linea =  n in S.Naturals, ask(Q.integer(n)),ask(Q.rational(n)), n in S.Reals\n",
    "        lista = []\n",
    "        lista.append(r\"${}$\".format(ee))\n",
    "        [lista.append(str(i)) for i in linea]\n",
    "        #solucion_latex += r\"\"\"${}$&{}&{}&{}&{}\\\\ \\hline \"\"\".format(n,linea[0],linea[1],linea[2],linea[3])\n",
    "        solucion_latex += r\"\"\" & \"\"\".join(lista)\n",
    "        solucion_latex += r\"\"\"\\\\ \\hline \"\"\"\n",
    "        #print(n,lista)\n",
    "    solucion_latex += r'\\end{tabular}'\n",
    "\n",
    "\n",
    "    #print(enunciado_latex)\n",
    "\n",
    "    mostrar_ejercicio(enunciado_latex, solucion_latex)  \n"
   ]
  },
  {
   "cell_type": "code",
   "execution_count": 6,
   "metadata": {},
   "outputs": [
    {
     "data": {
      "text/markdown": [
       "## Calcula la Unión y la Intersección de los siguientes conjuntos (da el resultado en forma de intervalo y de desigualdad):"
      ],
      "text/plain": [
       "<IPython.core.display.Markdown object>"
      ]
     },
     "metadata": {},
     "output_type": "display_data"
    },
    {
     "data": {
      "text/markdown": [
       "#### Ejercicio:"
      ],
      "text/plain": [
       "<IPython.core.display.Markdown object>"
      ]
     },
     "metadata": {},
     "output_type": "display_data"
    },
    {
     "data": {
      "text/markdown": [
       "$A=\\left[2, 10\\right)$ y $B=\\left(7, 12\\right)$ $\\to$ $\\{x|2 \\leq x \\wedge x < 12\\}$"
      ],
      "text/plain": [
       "<IPython.core.display.Markdown object>"
      ]
     },
     "metadata": {},
     "output_type": "display_data"
    },
    {
     "name": "stdout",
     "output_type": "stream",
     "text": [
      "enunciado_latex: $A=\\left[2, 10\\right)$ y $B=\\left(7, 12\\right)$\n",
      "solucion_latex: $\\{x|2 \\leq x \\wedge x < 12\\}$\n"
     ]
    }
   ],
   "source": [
    "# Conjuntos de números\n",
    "\n",
    "display(md(\"## Calcula la Unión y la Intersección de los siguientes conjuntos (da el resultado en forma de intervalo y de desigualdad):\"))\n",
    "\n",
    "ejercicios=[\n",
    "            [Interval.Ropen(2,10),Interval.open(7,12)],\n",
    "            \n",
    "           ]\n",
    "\n",
    "for e in ejercicios:\n",
    "    a=Interval.Ropen(2,10)\n",
    "    b=Interval.open(7,12)\n",
    "    ejercicio = r\"$A=\"+latex(a)+r\"$ y $B=\"+ latex(b)+r\"$\"\n",
    "    solucion = r\"$\\{x|\"+latex(a.union(b).as_relational(x))+r\"\\}$\"\n",
    "    mostrar_ejercicio(ejercicio,solucion)\n",
    "\n",
    "\n"
   ]
  },
  {
   "cell_type": "code",
   "execution_count": 10,
   "metadata": {},
   "outputs": [
    {
     "data": {
      "text/markdown": [
       "## Opera las siguientes pontecias:"
      ],
      "text/plain": [
       "<IPython.core.display.Markdown object>"
      ]
     },
     "metadata": {},
     "output_type": "display_data"
    },
    {
     "data": {
      "text/markdown": [
       "#### Ejercicio:"
      ],
      "text/plain": [
       "<IPython.core.display.Markdown object>"
      ]
     },
     "metadata": {},
     "output_type": "display_data"
    },
    {
     "data": {
      "text/markdown": [
       "$\\frac{(2^3\\cdot3^2\\cdot5)^{-4}}{(2^{-2}\\cdot3^{-3})^{3}}$ $\\to$ $\\frac{3^{1}}{2^{6} \\cdot 5^{4}}$"
      ],
      "text/plain": [
       "<IPython.core.display.Markdown object>"
      ]
     },
     "metadata": {},
     "output_type": "display_data"
    },
    {
     "name": "stdout",
     "output_type": "stream",
     "text": [
      "enunciado_latex: $\\frac{(2^3\\cdot3^2\\cdot5)^{-4}}{(2^{-2}\\cdot3^{-3})^{3}}$\n",
      "solucion_latex: $\\frac{3^{1}}{2^{6} \\cdot 5^{4}}$\n"
     ]
    },
    {
     "data": {
      "text/plain": [
       "[('$\\\\frac{(2^3\\\\cdot3^2\\\\cdot5)^{-4}}{(2^{-2}\\\\cdot3^{-3})^{3}}$',\n",
       "  '$\\\\frac{3^{1}}{2^{6} \\\\cdot 5^{4}}$')]"
      ]
     },
     "execution_count": 10,
     "metadata": {},
     "output_type": "execute_result"
    }
   ],
   "source": [
    "# Operar potencias\n",
    "\n",
    "ejercicios=[\n",
    "            r'\\frac{(2^3\\cdot3^2\\cdot5)^{-4}}{(2^{-2}\\cdot3^{-3})^{3}}',\n",
    "            \n",
    "           ]\n",
    "\n",
    "display(md(\"## Opera las siguientes pontecias:\"))\n",
    "\n",
    "  \n",
    "#[mostrar_ejercicio(e, latex(simplify(parse_latex(e)))) for e in ejercicios]    \n",
    "\n",
    "[mostrar_ejercicio(\"$\"+e+\"$\", \"$\"+latex(S(parse_latex(r\"\\frac{\"+latex(factorint(simplify(parse_latex(e)).as_numer_denom()[0] , visual=True))+r\"}{\" +latex(factorint(simplify(parse_latex(e)).as_numer_denom()[1], visual=True))+\"}\"), evaluate=False))+\"$\") for e in ejercicios]    \n",
    "\n",
    "\n"
   ]
  },
  {
   "cell_type": "code",
   "execution_count": 11,
   "metadata": {},
   "outputs": [
    {
     "data": {
      "text/markdown": [
       "## Opera las siguientes pontecias con variables:"
      ],
      "text/plain": [
       "<IPython.core.display.Markdown object>"
      ]
     },
     "metadata": {},
     "output_type": "display_data"
    },
    {
     "data": {
      "text/markdown": [
       "#### Ejercicio:"
      ],
      "text/plain": [
       "<IPython.core.display.Markdown object>"
      ]
     },
     "metadata": {},
     "output_type": "display_data"
    },
    {
     "data": {
      "text/markdown": [
       "$(\\frac{6p^3d^2}{5q})^4\\cdot(\\frac{20p^2q^3}{24d})^4$ $\\to$ $d^{4} p^{20} q^{8}$"
      ],
      "text/plain": [
       "<IPython.core.display.Markdown object>"
      ]
     },
     "metadata": {},
     "output_type": "display_data"
    },
    {
     "name": "stdout",
     "output_type": "stream",
     "text": [
      "enunciado_latex: $(\\frac{6p^3d^2}{5q})^4\\cdot(\\frac{20p^2q^3}{24d})^4$\n",
      "solucion_latex: $d^{4} p^{20} q^{8}$\n"
     ]
    },
    {
     "data": {
      "text/plain": [
       "[('$(\\\\frac{6p^3d^2}{5q})^4\\\\cdot(\\\\frac{20p^2q^3}{24d})^4$',\n",
       "  '$d^{4} p^{20} q^{8}$')]"
      ]
     },
     "execution_count": 11,
     "metadata": {},
     "output_type": "execute_result"
    }
   ],
   "source": [
    "# Operar potencias con variables\n",
    "\n",
    "ejercicios=[\n",
    "            r'(\\frac{6p^3d^2}{5q})^4\\cdot(\\frac{20p^2q^3}{24d})^4'\n",
    "           ]\n",
    "\n",
    "display(md(\"## Opera las siguientes pontecias con variables:\"))\n",
    "\n",
    "  \n",
    "[mostrar_ejercicio(\"$\"+e+\"$\", \"$\"+latex(simplify(parse_latex(e)))+\"$\") for e in ejercicios]    \n",
    "\n",
    "#[mostrar_ejercicio(e, latex(S(parse_latex(r\"\\frac{\"+latex(factorint(simplify(parse_latex(e)).as_numer_denom()[0] , visual=True))+r\"}{\" +latex(factorint(simplify(parse_latex(e)).as_numer_denom()[1], visual=True))+\"}\"), evaluate=False))) for e in ejercicios]    \n",
    "\n",
    "\n"
   ]
  },
  {
   "cell_type": "code",
   "execution_count": 20,
   "metadata": {},
   "outputs": [
    {
     "data": {
      "text/markdown": [
       "## Operar en notación científica:"
      ],
      "text/plain": [
       "<IPython.core.display.Markdown object>"
      ]
     },
     "metadata": {},
     "output_type": "display_data"
    },
    {
     "data": {
      "text/markdown": [
       "#### Ejercicio:"
      ],
      "text/plain": [
       "<IPython.core.display.Markdown object>"
      ]
     },
     "metadata": {},
     "output_type": "display_data"
    },
    {
     "data": {
      "text/markdown": [
       "$\\frac{1000\\cdot12000\\cdot0.02\\cdot0.01}{400\\cdot0.00003}$ $\\to$ $2.e+05$"
      ],
      "text/plain": [
       "<IPython.core.display.Markdown object>"
      ]
     },
     "metadata": {},
     "output_type": "display_data"
    },
    {
     "name": "stdout",
     "output_type": "stream",
     "text": [
      "enunciado_latex: $\\frac{1000\\cdot12000\\cdot0.02\\cdot0.01}{400\\cdot0.00003}$\n",
      "solucion_latex: $2.e+05$\n"
     ]
    },
    {
     "data": {
      "text/plain": [
       "[('$\\\\frac{1000\\\\cdot12000\\\\cdot0.02\\\\cdot0.01}{400\\\\cdot0.00003}$',\n",
       "  '$2.e+05$')]"
      ]
     },
     "execution_count": 20,
     "metadata": {},
     "output_type": "execute_result"
    }
   ],
   "source": [
    "# Operar en notación científica\n",
    "\n",
    "ejercicios=[r'\\frac{1000\\cdot12000\\cdot0.02\\cdot0.01}{400\\cdot0.00003}',\n",
    "            \n",
    "           ]\n",
    "\n",
    "display(md(\"## Operar en notación científica:\")) \n",
    "    \n",
    "[mostrar_ejercicio(\"$\"+e+\"$\", \"$\"+latex(np.format_float_scientific(cancel(parse_latex(e))))+\"$\") for e in ejercicios]    \n",
    "\n",
    "\n"
   ]
  },
  {
   "cell_type": "code",
   "execution_count": 23,
   "metadata": {},
   "outputs": [
    {
     "data": {
      "text/markdown": [
       "## Simplificar radicales:"
      ],
      "text/plain": [
       "<IPython.core.display.Markdown object>"
      ]
     },
     "metadata": {},
     "output_type": "display_data"
    },
    {
     "data": {
      "text/markdown": [
       "#### Ejercicio:"
      ],
      "text/plain": [
       "<IPython.core.display.Markdown object>"
      ]
     },
     "metadata": {},
     "output_type": "display_data"
    },
    {
     "data": {
      "text/markdown": [
       "$\\sqrt[4]{\\frac{25}{9}\\sqrt[3]{\\frac{9}{25}}}$ $\\to$ $\\frac{3^{\\frac{2}{3}} \\sqrt[3]{5}}{3}$"
      ],
      "text/plain": [
       "<IPython.core.display.Markdown object>"
      ]
     },
     "metadata": {},
     "output_type": "display_data"
    },
    {
     "name": "stdout",
     "output_type": "stream",
     "text": [
      "enunciado_latex: $\\sqrt[4]{\\frac{25}{9}\\sqrt[3]{\\frac{9}{25}}}$\n",
      "solucion_latex: $\\frac{3^{\\frac{2}{3}} \\sqrt[3]{5}}{3}$\n"
     ]
    },
    {
     "data": {
      "text/markdown": [
       "#### Ejercicio:"
      ],
      "text/plain": [
       "<IPython.core.display.Markdown object>"
      ]
     },
     "metadata": {},
     "output_type": "display_data"
    },
    {
     "data": {
      "text/markdown": [
       "$4\\sqrt{20}-3\\sqrt{45}+11\\sqrt{125}-20\\sqrt{5}$ $\\to$ $34 \\sqrt{5}$"
      ],
      "text/plain": [
       "<IPython.core.display.Markdown object>"
      ]
     },
     "metadata": {},
     "output_type": "display_data"
    },
    {
     "name": "stdout",
     "output_type": "stream",
     "text": [
      "enunciado_latex: $4\\sqrt{20}-3\\sqrt{45}+11\\sqrt{125}-20\\sqrt{5}$\n",
      "solucion_latex: $34 \\sqrt{5}$\n"
     ]
    },
    {
     "data": {
      "text/markdown": [
       "#### Ejercicio:"
      ],
      "text/plain": [
       "<IPython.core.display.Markdown object>"
      ]
     },
     "metadata": {},
     "output_type": "display_data"
    },
    {
     "data": {
      "text/markdown": [
       "$\\sqrt{72}\\cdot3\\sqrt{8}$ $\\to$ $72$"
      ],
      "text/plain": [
       "<IPython.core.display.Markdown object>"
      ]
     },
     "metadata": {},
     "output_type": "display_data"
    },
    {
     "name": "stdout",
     "output_type": "stream",
     "text": [
      "enunciado_latex: $\\sqrt{72}\\cdot3\\sqrt{8}$\n",
      "solucion_latex: $72$\n"
     ]
    },
    {
     "data": {
      "text/markdown": [
       "#### Ejercicio:"
      ],
      "text/plain": [
       "<IPython.core.display.Markdown object>"
      ]
     },
     "metadata": {},
     "output_type": "display_data"
    },
    {
     "data": {
      "text/markdown": [
       "$\\frac{(3\\sqrt{2}+\\sqrt{3})^2}{3}$ $\\to$ $2 \\sqrt{6} + 7$"
      ],
      "text/plain": [
       "<IPython.core.display.Markdown object>"
      ]
     },
     "metadata": {},
     "output_type": "display_data"
    },
    {
     "name": "stdout",
     "output_type": "stream",
     "text": [
      "enunciado_latex: $\\frac{(3\\sqrt{2}+\\sqrt{3})^2}{3}$\n",
      "solucion_latex: $2 \\sqrt{6} + 7$\n"
     ]
    },
    {
     "data": {
      "text/markdown": [
       "#### Ejercicio:"
      ],
      "text/plain": [
       "<IPython.core.display.Markdown object>"
      ]
     },
     "metadata": {},
     "output_type": "display_data"
    },
    {
     "data": {
      "text/markdown": [
       "$\\sqrt{2\\sqrt{2\\sqrt{2}}}$ $\\to$ $2^{\\frac{7}{8}}$"
      ],
      "text/plain": [
       "<IPython.core.display.Markdown object>"
      ]
     },
     "metadata": {},
     "output_type": "display_data"
    },
    {
     "name": "stdout",
     "output_type": "stream",
     "text": [
      "enunciado_latex: $\\sqrt{2\\sqrt{2\\sqrt{2}}}$\n",
      "solucion_latex: $2^{\\frac{7}{8}}$\n"
     ]
    },
    {
     "data": {
      "text/plain": [
       "[('$\\\\sqrt[4]{\\\\frac{25}{9}\\\\sqrt[3]{\\\\frac{9}{25}}}$',\n",
       "  '$\\\\frac{3^{\\\\frac{2}{3}} \\\\sqrt[3]{5}}{3}$'),\n",
       " ('$4\\\\sqrt{20}-3\\\\sqrt{45}+11\\\\sqrt{125}-20\\\\sqrt{5}$', '$34 \\\\sqrt{5}$'),\n",
       " ('$\\\\sqrt{72}\\\\cdot3\\\\sqrt{8}$', '$72$'),\n",
       " ('$\\\\frac{(3\\\\sqrt{2}+\\\\sqrt{3})^2}{3}$', '$2 \\\\sqrt{6} + 7$'),\n",
       " ('$\\\\sqrt{2\\\\sqrt{2\\\\sqrt{2}}}$', '$2^{\\\\frac{7}{8}}$')]"
      ]
     },
     "execution_count": 23,
     "metadata": {},
     "output_type": "execute_result"
    }
   ],
   "source": [
    "# Simplificar radicales\n",
    "\n",
    "ejercicios=[r'\\sqrt[4]{\\frac{25}{9}\\sqrt[3]{\\frac{9}{25}}}',\n",
    "            r'4\\sqrt{20}-3\\sqrt{45}+11\\sqrt{125}-20\\sqrt{5}',\n",
    "            r'\\sqrt{72}\\cdot3\\sqrt{8}',\n",
    "            r'\\frac{(3\\sqrt{2}+\\sqrt{3})^2}{3}',\n",
    "            r'\\sqrt{2\\sqrt{2\\sqrt{2}}}',\n",
    "            \n",
    "           ]\n",
    "\n",
    "display(md(\"## Simplificar radicales:\"))\n",
    "  \n",
    "[mostrar_ejercicio(\"$\"+e+\"$\", \"$\"+latex(simplify(parse_latex(e)))+\"$\") for e in ejercicios] \n",
    "            \n",
    "            \n",
    "\n",
    "\n"
   ]
  },
  {
   "cell_type": "code",
   "execution_count": 25,
   "metadata": {},
   "outputs": [
    {
     "data": {
      "text/markdown": [
       "## Racionalizar denominadores:"
      ],
      "text/plain": [
       "<IPython.core.display.Markdown object>"
      ]
     },
     "metadata": {},
     "output_type": "display_data"
    },
    {
     "data": {
      "text/markdown": [
       "#### Ejercicio:"
      ],
      "text/plain": [
       "<IPython.core.display.Markdown object>"
      ]
     },
     "metadata": {},
     "output_type": "display_data"
    },
    {
     "data": {
      "text/markdown": [
       "$\\frac{10}{2\\sqrt{3}-\\sqrt{2}}$ $\\to$ $\\sqrt{2} + 2 \\sqrt{3}$"
      ],
      "text/plain": [
       "<IPython.core.display.Markdown object>"
      ]
     },
     "metadata": {},
     "output_type": "display_data"
    },
    {
     "name": "stdout",
     "output_type": "stream",
     "text": [
      "enunciado_latex: $\\frac{10}{2\\sqrt{3}-\\sqrt{2}}$\n",
      "solucion_latex: $\\sqrt{2} + 2 \\sqrt{3}$\n"
     ]
    },
    {
     "data": {
      "text/markdown": [
       "#### Ejercicio:"
      ],
      "text/plain": [
       "<IPython.core.display.Markdown object>"
      ]
     },
     "metadata": {},
     "output_type": "display_data"
    },
    {
     "data": {
      "text/markdown": [
       "$\\frac{\\sqrt{45}+\\sqrt{180}}{\\sqrt{176}+4\\sqrt{44}}$ $\\to$ $\\frac{3 \\sqrt{55}}{44}$"
      ],
      "text/plain": [
       "<IPython.core.display.Markdown object>"
      ]
     },
     "metadata": {},
     "output_type": "display_data"
    },
    {
     "name": "stdout",
     "output_type": "stream",
     "text": [
      "enunciado_latex: $\\frac{\\sqrt{45}+\\sqrt{180}}{\\sqrt{176}+4\\sqrt{44}}$\n",
      "solucion_latex: $\\frac{3 \\sqrt{55}}{44}$\n"
     ]
    },
    {
     "data": {
      "text/plain": [
       "[('$\\\\frac{10}{2\\\\sqrt{3}-\\\\sqrt{2}}$', '$\\\\sqrt{2} + 2 \\\\sqrt{3}$'),\n",
       " ('$\\\\frac{\\\\sqrt{45}+\\\\sqrt{180}}{\\\\sqrt{176}+4\\\\sqrt{44}}$',\n",
       "  '$\\\\frac{3 \\\\sqrt{55}}{44}$')]"
      ]
     },
     "execution_count": 25,
     "metadata": {},
     "output_type": "execute_result"
    }
   ],
   "source": [
    "# Racionalizar radicales\n",
    "\n",
    "ejercicios=[r'\\frac{10}{2\\sqrt{3}-\\sqrt{2}}',\n",
    "            r'\\frac{\\sqrt{45}+\\sqrt{180}}{\\sqrt{176}+4\\sqrt{44}}'\n",
    "           ]\n",
    "display(md(\"## Racionalizar denominadores:\"))\n",
    "  \n",
    "[mostrar_ejercicio(\"$\"+e+\"$\", \"$\"+latex(radsimp(parse_latex(e)))+\"$\") for e in ejercicios]    \n",
    "\n",
    "\n"
   ]
  },
  {
   "cell_type": "code",
   "execution_count": 28,
   "metadata": {},
   "outputs": [
    {
     "data": {
      "text/markdown": [
       "## Definición de Logaritmo:"
      ],
      "text/plain": [
       "<IPython.core.display.Markdown object>"
      ]
     },
     "metadata": {},
     "output_type": "display_data"
    },
    {
     "data": {
      "text/markdown": [
       "#### Ejercicio:"
      ],
      "text/plain": [
       "<IPython.core.display.Markdown object>"
      ]
     },
     "metadata": {},
     "output_type": "display_data"
    },
    {
     "data": {
      "text/markdown": [
       "$\\log_3{27}$ $\\to$ $3$"
      ],
      "text/plain": [
       "<IPython.core.display.Markdown object>"
      ]
     },
     "metadata": {},
     "output_type": "display_data"
    },
    {
     "name": "stdout",
     "output_type": "stream",
     "text": [
      "enunciado_latex: $\\log_3{27}$\n",
      "solucion_latex: $3$\n"
     ]
    },
    {
     "data": {
      "text/markdown": [
       "#### Ejercicio:"
      ],
      "text/plain": [
       "<IPython.core.display.Markdown object>"
      ]
     },
     "metadata": {},
     "output_type": "display_data"
    },
    {
     "data": {
      "text/markdown": [
       "$\\log_3{1/81}$ $\\to$ $-4$"
      ],
      "text/plain": [
       "<IPython.core.display.Markdown object>"
      ]
     },
     "metadata": {},
     "output_type": "display_data"
    },
    {
     "name": "stdout",
     "output_type": "stream",
     "text": [
      "enunciado_latex: $\\log_3{1/81}$\n",
      "solucion_latex: $-4$\n"
     ]
    },
    {
     "data": {
      "text/markdown": [
       "#### Ejercicio:"
      ],
      "text/plain": [
       "<IPython.core.display.Markdown object>"
      ]
     },
     "metadata": {},
     "output_type": "display_data"
    },
    {
     "data": {
      "text/markdown": [
       "$\\log_9 3$ $\\to$ $\\frac{1}{2}$"
      ],
      "text/plain": [
       "<IPython.core.display.Markdown object>"
      ]
     },
     "metadata": {},
     "output_type": "display_data"
    },
    {
     "name": "stdout",
     "output_type": "stream",
     "text": [
      "enunciado_latex: $\\log_9 3$\n",
      "solucion_latex: $\\frac{1}{2}$\n"
     ]
    },
    {
     "data": {
      "text/markdown": [
       "#### Ejercicio:"
      ],
      "text/plain": [
       "<IPython.core.display.Markdown object>"
      ]
     },
     "metadata": {},
     "output_type": "display_data"
    },
    {
     "data": {
      "text/markdown": [
       "$\\log_{1/3}{1/81}$ $\\to$ $4$"
      ],
      "text/plain": [
       "<IPython.core.display.Markdown object>"
      ]
     },
     "metadata": {},
     "output_type": "display_data"
    },
    {
     "name": "stdout",
     "output_type": "stream",
     "text": [
      "enunciado_latex: $\\log_{1/3}{1/81}$\n",
      "solucion_latex: $4$\n"
     ]
    },
    {
     "data": {
      "text/markdown": [
       "#### Ejercicio:"
      ],
      "text/plain": [
       "<IPython.core.display.Markdown object>"
      ]
     },
     "metadata": {},
     "output_type": "display_data"
    },
    {
     "data": {
      "text/markdown": [
       "$\\log_5{\\sqrt{125}}$ $\\to$ $\\frac{3}{2}$"
      ],
      "text/plain": [
       "<IPython.core.display.Markdown object>"
      ]
     },
     "metadata": {},
     "output_type": "display_data"
    },
    {
     "name": "stdout",
     "output_type": "stream",
     "text": [
      "enunciado_latex: $\\log_5{\\sqrt{125}}$\n",
      "solucion_latex: $\\frac{3}{2}$\n"
     ]
    },
    {
     "data": {
      "text/plain": [
       "[('$\\\\log_3{27}$', '$3$'),\n",
       " ('$\\\\log_3{1/81}$', '$-4$'),\n",
       " ('$\\\\log_9 3$', '$\\\\frac{1}{2}$'),\n",
       " ('$\\\\log_{1/3}{1/81}$', '$4$'),\n",
       " ('$\\\\log_5{\\\\sqrt{125}}$', '$\\\\frac{3}{2}$')]"
      ]
     },
     "execution_count": 28,
     "metadata": {},
     "output_type": "execute_result"
    }
   ],
   "source": [
    "# Definición de logaritmo\n",
    "\n",
    "ejercicios=[[r'\\log_3{27}','log(27,3)'],\n",
    "            [r'\\log_3{1/81}','log(1/81,3)'],\n",
    "            [r'\\log_9 3',r'log(3,9)'],\n",
    "            [r'\\log_{1/3}{1/81}','log(1/81,1/3)'],\n",
    "            [r'\\log_5{\\sqrt{125}}','log(sqrt(125),5)'],\n",
    "            \n",
    "            \n",
    "           ]\n",
    "display(md(\"## Definición de Logaritmo:\"))\n",
    "\n",
    "[mostrar_ejercicio(\"$\"+e[0]+\"$\",\"$\"+latex(simplify(S(e[1])))+\"$\") for e in ejercicios]\n",
    "\n",
    "\n"
   ]
  },
  {
   "cell_type": "code",
   "execution_count": 28,
   "metadata": {},
   "outputs": [
    {
     "data": {
      "text/markdown": [
       "## Definición de Logaritmo:"
      ],
      "text/plain": [
       "<IPython.core.display.Markdown object>"
      ]
     },
     "metadata": {},
     "output_type": "display_data"
    },
    {
     "data": {
      "text/markdown": [
       "#### Ejercicio:"
      ],
      "text/plain": [
       "<IPython.core.display.Markdown object>"
      ]
     },
     "metadata": {},
     "output_type": "display_data"
    },
    {
     "data": {
      "text/markdown": [
       "$\\log_3{27}$ $\\to$ $3$"
      ],
      "text/plain": [
       "<IPython.core.display.Markdown object>"
      ]
     },
     "metadata": {},
     "output_type": "display_data"
    },
    {
     "name": "stdout",
     "output_type": "stream",
     "text": [
      "enunciado_latex: $\\log_3{27}$\n",
      "solucion_latex: $3$\n"
     ]
    },
    {
     "data": {
      "text/markdown": [
       "#### Ejercicio:"
      ],
      "text/plain": [
       "<IPython.core.display.Markdown object>"
      ]
     },
     "metadata": {},
     "output_type": "display_data"
    },
    {
     "data": {
      "text/markdown": [
       "$\\log_3{1/81}$ $\\to$ $-4$"
      ],
      "text/plain": [
       "<IPython.core.display.Markdown object>"
      ]
     },
     "metadata": {},
     "output_type": "display_data"
    },
    {
     "name": "stdout",
     "output_type": "stream",
     "text": [
      "enunciado_latex: $\\log_3{1/81}$\n",
      "solucion_latex: $-4$\n"
     ]
    },
    {
     "data": {
      "text/markdown": [
       "#### Ejercicio:"
      ],
      "text/plain": [
       "<IPython.core.display.Markdown object>"
      ]
     },
     "metadata": {},
     "output_type": "display_data"
    },
    {
     "data": {
      "text/markdown": [
       "$\\log_9 3$ $\\to$ $\\frac{1}{2}$"
      ],
      "text/plain": [
       "<IPython.core.display.Markdown object>"
      ]
     },
     "metadata": {},
     "output_type": "display_data"
    },
    {
     "name": "stdout",
     "output_type": "stream",
     "text": [
      "enunciado_latex: $\\log_9 3$\n",
      "solucion_latex: $\\frac{1}{2}$\n"
     ]
    },
    {
     "data": {
      "text/markdown": [
       "#### Ejercicio:"
      ],
      "text/plain": [
       "<IPython.core.display.Markdown object>"
      ]
     },
     "metadata": {},
     "output_type": "display_data"
    },
    {
     "data": {
      "text/markdown": [
       "$\\log_{1/3}{1/81}$ $\\to$ $4$"
      ],
      "text/plain": [
       "<IPython.core.display.Markdown object>"
      ]
     },
     "metadata": {},
     "output_type": "display_data"
    },
    {
     "name": "stdout",
     "output_type": "stream",
     "text": [
      "enunciado_latex: $\\log_{1/3}{1/81}$\n",
      "solucion_latex: $4$\n"
     ]
    },
    {
     "data": {
      "text/markdown": [
       "#### Ejercicio:"
      ],
      "text/plain": [
       "<IPython.core.display.Markdown object>"
      ]
     },
     "metadata": {},
     "output_type": "display_data"
    },
    {
     "data": {
      "text/markdown": [
       "$\\log_5{\\sqrt{125}}$ $\\to$ $\\frac{3}{2}$"
      ],
      "text/plain": [
       "<IPython.core.display.Markdown object>"
      ]
     },
     "metadata": {},
     "output_type": "display_data"
    },
    {
     "name": "stdout",
     "output_type": "stream",
     "text": [
      "enunciado_latex: $\\log_5{\\sqrt{125}}$\n",
      "solucion_latex: $\\frac{3}{2}$\n"
     ]
    },
    {
     "data": {
      "text/plain": [
       "[('$\\\\log_3{27}$', '$3$'),\n",
       " ('$\\\\log_3{1/81}$', '$-4$'),\n",
       " ('$\\\\log_9 3$', '$\\\\frac{1}{2}$'),\n",
       " ('$\\\\log_{1/3}{1/81}$', '$4$'),\n",
       " ('$\\\\log_5{\\\\sqrt{125}}$', '$\\\\frac{3}{2}$')]"
      ]
     },
     "execution_count": 28,
     "metadata": {},
     "output_type": "execute_result"
    }
   ],
   "source": [
    "# Definición de logaritmo\n",
    "\n",
    "ejercicios=[[r'\\log_3{27}','log(27,3)'],\n",
    "            [r'\\log_3{1/81}','log(1/81,3)'],\n",
    "            [r'\\log_9 3',r'log(3,9)'],\n",
    "            [r'\\log_{1/3}{1/81}','log(1/81,1/3)'],\n",
    "            [r'\\log_5{\\sqrt{125}}','log(sqrt(125),5)'],\n",
    "            \n",
    "            \n",
    "           ]\n",
    "display(md(\"## Definición de Logaritmo:\"))\n",
    "\n",
    "[mostrar_ejercicio(\"$\"+e[0]+\"$\",\"$\"+latex(simplify(S(e[1])))+\"$\") for e in ejercicios]\n",
    "\n",
    "\n"
   ]
  },
  {
   "cell_type": "code",
   "execution_count": 31,
   "metadata": {},
   "outputs": [
    {
     "data": {
      "text/markdown": [
       "## Definición de Logaritmo y operaciones:"
      ],
      "text/plain": [
       "<IPython.core.display.Markdown object>"
      ]
     },
     "metadata": {},
     "output_type": "display_data"
    },
    {
     "data": {
      "text/markdown": [
       "#### Ejercicio:"
      ],
      "text/plain": [
       "<IPython.core.display.Markdown object>"
      ]
     },
     "metadata": {},
     "output_type": "display_data"
    },
    {
     "data": {
      "text/markdown": [
       "$\\log_3 \\frac{1}{9} -  \\log_5 0.2 +\\log_6 \\frac{1}{36} - \\log_2 0.5$ $\\to$ $\\log_3 \\frac{1}{9} -  \\log_5 0.2 +\\log_6 \\frac{1}{36} - \\log_2 0.5= (-2.0 )+( 1.0 )+( -2.0 )+( 1.0)=-2.0$"
      ],
      "text/plain": [
       "<IPython.core.display.Markdown object>"
      ]
     },
     "metadata": {},
     "output_type": "display_data"
    },
    {
     "name": "stdout",
     "output_type": "stream",
     "text": [
      "enunciado_latex: $\\log_3 \\frac{1}{9} -  \\log_5 0.2 +\\log_6 \\frac{1}{36} - \\log_2 0.5$\n",
      "solucion_latex: $\\log_3 \\frac{1}{9} -  \\log_5 0.2 +\\log_6 \\frac{1}{36} - \\log_2 0.5= (-2.0 )+( 1.0 )+( -2.0 )+( 1.0)=-2.0$\n"
     ]
    },
    {
     "data": {
      "text/markdown": [
       "#### Ejercicio:"
      ],
      "text/plain": [
       "<IPython.core.display.Markdown object>"
      ]
     },
     "metadata": {},
     "output_type": "display_data"
    },
    {
     "data": {
      "text/markdown": [
       "$2\\log_4 16 +  log_2 32 - 3log_7 49$ $\\to$ $2\\log_4 16 +  log_2 32 - 3log_7 49= (4.0 )+( 5.0 )+( -6.0)=3.0$"
      ],
      "text/plain": [
       "<IPython.core.display.Markdown object>"
      ]
     },
     "metadata": {},
     "output_type": "display_data"
    },
    {
     "name": "stdout",
     "output_type": "stream",
     "text": [
      "enunciado_latex: $2\\log_4 16 +  log_2 32 - 3log_7 49$\n",
      "solucion_latex: $2\\log_4 16 +  log_2 32 - 3log_7 49= (4.0 )+( 5.0 )+( -6.0)=3.0$\n"
     ]
    },
    {
     "data": {
      "text/plain": [
       "[('$\\\\log_3 \\\\frac{1}{9} -  \\\\log_5 0.2 +\\\\log_6 \\\\frac{1}{36} - \\\\log_2 0.5$',\n",
       "  '$\\\\log_3 \\\\frac{1}{9} -  \\\\log_5 0.2 +\\\\log_6 \\\\frac{1}{36} - \\\\log_2 0.5= (-2.0 )+( 1.0 )+( -2.0 )+( 1.0)=-2.0$'),\n",
       " ('$2\\\\log_4 16 +  log_2 32 - 3log_7 49$',\n",
       "  '$2\\\\log_4 16 +  log_2 32 - 3log_7 49= (4.0 )+( 5.0 )+( -6.0)=3.0$')]"
      ]
     },
     "execution_count": 31,
     "metadata": {},
     "output_type": "execute_result"
    }
   ],
   "source": [
    "# Definición de logaritmo\n",
    "\n",
    "ejercicios=[[r'\\log_3 \\frac{1}{9} -  \\log_5 0.2 +\\log_6 \\frac{1}{36} - \\log_2 0.5',\n",
    "             'log(1/9,3)-log(0.2,5)+log(1/36,6)-log(0.5,2)'], \n",
    "            [r'2\\log_4 16 +  log_2 32 - 3log_7 49',\n",
    "            r'2*log(16,4)+log(32,2)-3*log(49,7)']\n",
    "           ]\n",
    "display(md(\"## Definición de Logaritmo y operaciones:\"))\n",
    "    \n",
    "[mostrar_ejercicio(\"$\"+e[0]+\"$\",\"$\"+e[0]+ r\"= (\"+r\" )+( \".join([latex(S(i).evalf(2)) for i in S(e[1], evaluate=False).args])+r\")=\"+latex(simplify(S(e[1])).evalf(2))+\"$\") for e in ejercicios]   \n"
   ]
  },
  {
   "cell_type": "code",
   "execution_count": 47,
   "metadata": {},
   "outputs": [
    {
     "data": {
      "text/markdown": [
       "## Propiedades de los logaritmos - combinar"
      ],
      "text/plain": [
       "<IPython.core.display.Markdown object>"
      ]
     },
     "metadata": {},
     "output_type": "display_data"
    },
    {
     "data": {
      "text/markdown": [
       "#### Ejercicio:"
      ],
      "text/plain": [
       "<IPython.core.display.Markdown object>"
      ]
     },
     "metadata": {},
     "output_type": "display_data"
    },
    {
     "data": {
      "text/markdown": [
       "$\\log_2 10 + 2\\log_2 3 - \\log_2 5 - \\log_2 9$ $\\to$ $\\log_2 10 + 2\\log_2 3 - \\log_2 5 - \\log_2 9=\\log{\\left(\\frac{3^{\\frac{2}{\\log{\\left(2 \\right)}}}}{9^{\\frac{1}{\\log{\\left(2 \\right)}}}} \\right)} + 1=1$"
      ],
      "text/plain": [
       "<IPython.core.display.Markdown object>"
      ]
     },
     "metadata": {},
     "output_type": "display_data"
    },
    {
     "name": "stdout",
     "output_type": "stream",
     "text": [
      "enunciado_latex: $\\log_2 10 + 2\\log_2 3 - \\log_2 5 - \\log_2 9$\n",
      "solucion_latex: $\\log_2 10 + 2\\log_2 3 - \\log_2 5 - \\log_2 9=\\log{\\left(\\frac{3^{\\frac{2}{\\log{\\left(2 \\right)}}}}{9^{\\frac{1}{\\log{\\left(2 \\right)}}}} \\right)} + 1=1$\n"
     ]
    },
    {
     "data": {
      "text/plain": [
       "[('$\\\\log_2 10 + 2\\\\log_2 3 - \\\\log_2 5 - \\\\log_2 9$',\n",
       "  '$\\\\log_2 10 + 2\\\\log_2 3 - \\\\log_2 5 - \\\\log_2 9=\\\\log{\\\\left(\\\\frac{3^{\\\\frac{2}{\\\\log{\\\\left(2 \\\\right)}}}}{9^{\\\\frac{1}{\\\\log{\\\\left(2 \\\\right)}}}} \\\\right)} + 1=1$')]"
      ]
     },
     "execution_count": 47,
     "metadata": {},
     "output_type": "execute_result"
    }
   ],
   "source": [
    "# Propiedades de los logaritmos - combinar\n",
    "\n",
    "ejercicios=[[r'\\log_2 10 + 2\\log_2 3 - \\log_2 5 - \\log_2 9',\n",
    "             'log(10,2)+2*log(3,2)-log(5,2)-log(9,2)'],\n",
    "            \n",
    "\n",
    "            \n",
    "           ]\n",
    "display(md(\"## Propiedades de los logaritmos - combinar\"))\n",
    "\n",
    "    \n",
    "[mostrar_ejercicio(\"$\"+e[0]+\"$\",\"$\"+e[0]+r\"=\"+latex(logcombine(S(e[1])))+r\"=\"+latex(simplify(S(e[1])))+\"$\") for e in ejercicios]\n",
    "    \n",
    "\n",
    "\n"
   ]
  },
  {
   "cell_type": "code",
   "execution_count": 74,
   "metadata": {
    "scrolled": true
   },
   "outputs": [
    {
     "data": {
      "text/markdown": [
       "## Propiedades de los logaritmos - expandir"
      ],
      "text/plain": [
       "<IPython.core.display.Markdown object>"
      ]
     },
     "metadata": {},
     "output_type": "display_data"
    },
    {
     "data": {
      "text/markdown": [
       "#### Ejercicio:"
      ],
      "text/plain": [
       "<IPython.core.display.Markdown object>"
      ]
     },
     "metadata": {},
     "output_type": "display_data"
    },
    {
     "data": {
      "text/markdown": [
       "Sabiendo que $\\log x=1.3$ y $\\log y=0.8$,calcula $\\log (x\\cdot y)$ $\\to$ $\\log (x\\cdot y)=\\log{\\left(x \\right)} + \\log{\\left(y \\right)}=0.8 + 1.3=2.1$"
      ],
      "text/plain": [
       "<IPython.core.display.Markdown object>"
      ]
     },
     "metadata": {},
     "output_type": "display_data"
    },
    {
     "name": "stdout",
     "output_type": "stream",
     "text": [
      "enunciado_latex: Sabiendo que $\\log x=1.3$ y $\\log y=0.8$,calcula $\\log (x\\cdot y)$\n",
      "solucion_latex: $\\log (x\\cdot y)=\\log{\\left(x \\right)} + \\log{\\left(y \\right)}=0.8 + 1.3=2.1$\n"
     ]
    },
    {
     "data": {
      "text/markdown": [
       "#### Ejercicio:"
      ],
      "text/plain": [
       "<IPython.core.display.Markdown object>"
      ]
     },
     "metadata": {},
     "output_type": "display_data"
    },
    {
     "data": {
      "text/markdown": [
       "Sabiendo que $\\log x=1.3$ y $\\log y=0.8$,calcula $\\log (x\\cdot \\sqrt{y})$ $\\to$ $\\log (x\\cdot \\sqrt{y})=\\log{\\left(x \\right)} + \\frac{\\log{\\left(y \\right)}}{2}=\\frac{0.8}{2} + 1.3=1.7$"
      ],
      "text/plain": [
       "<IPython.core.display.Markdown object>"
      ]
     },
     "metadata": {},
     "output_type": "display_data"
    },
    {
     "name": "stdout",
     "output_type": "stream",
     "text": [
      "enunciado_latex: Sabiendo que $\\log x=1.3$ y $\\log y=0.8$,calcula $\\log (x\\cdot \\sqrt{y})$\n",
      "solucion_latex: $\\log (x\\cdot \\sqrt{y})=\\log{\\left(x \\right)} + \\frac{\\log{\\left(y \\right)}}{2}=\\frac{0.8}{2} + 1.3=1.7$\n"
     ]
    },
    {
     "data": {
      "text/markdown": [
       "#### Ejercicio:"
      ],
      "text/plain": [
       "<IPython.core.display.Markdown object>"
      ]
     },
     "metadata": {},
     "output_type": "display_data"
    },
    {
     "data": {
      "text/markdown": [
       "Sabiendo que $\\log x=1.3$ y $\\log y=0.8$,calcula $\\log (\\frac{y}{x^2})$ $\\to$ $\\log (\\frac{y}{x^2})=- 2 \\log{\\left(x \\right)} + \\log{\\left(y \\right)}=0.8 - 2 \\cdot 1.3=-1.8$"
      ],
      "text/plain": [
       "<IPython.core.display.Markdown object>"
      ]
     },
     "metadata": {},
     "output_type": "display_data"
    },
    {
     "name": "stdout",
     "output_type": "stream",
     "text": [
      "enunciado_latex: Sabiendo que $\\log x=1.3$ y $\\log y=0.8$,calcula $\\log (\\frac{y}{x^2})$\n",
      "solucion_latex: $\\log (\\frac{y}{x^2})=- 2 \\log{\\left(x \\right)} + \\log{\\left(y \\right)}=0.8 - 2 \\cdot 1.3=-1.8$\n"
     ]
    },
    {
     "data": {
      "text/markdown": [
       "#### Ejercicio:"
      ],
      "text/plain": [
       "<IPython.core.display.Markdown object>"
      ]
     },
     "metadata": {},
     "output_type": "display_data"
    },
    {
     "data": {
      "text/markdown": [
       "Sabiendo que $\\log x=1.3$ y $\\log y=0.8$,calcula $\\log (\\sqrt{\\frac{x}{y}})$ $\\to$ $\\log (\\sqrt{\\frac{x}{y}})=\\frac{\\log{\\left(x \\right)}}{2} - \\frac{\\log{\\left(y \\right)}}{2}=- \\frac{0.8}{2} + \\frac{1.3}{2}=0.25$"
      ],
      "text/plain": [
       "<IPython.core.display.Markdown object>"
      ]
     },
     "metadata": {},
     "output_type": "display_data"
    },
    {
     "name": "stdout",
     "output_type": "stream",
     "text": [
      "enunciado_latex: Sabiendo que $\\log x=1.3$ y $\\log y=0.8$,calcula $\\log (\\sqrt{\\frac{x}{y}})$\n",
      "solucion_latex: $\\log (\\sqrt{\\frac{x}{y}})=\\frac{\\log{\\left(x \\right)}}{2} - \\frac{\\log{\\left(y \\right)}}{2}=- \\frac{0.8}{2} + \\frac{1.3}{2}=0.25$\n"
     ]
    },
    {
     "data": {
      "text/markdown": [
       "#### Ejercicio:"
      ],
      "text/plain": [
       "<IPython.core.display.Markdown object>"
      ]
     },
     "metadata": {},
     "output_type": "display_data"
    },
    {
     "data": {
      "text/markdown": [
       "Sabiendo que $\\log x=1.5$ y $\\log y=-0.6$,calcula $\\log (\\frac{8\\cdot x^2}{\\sqrt{y}})$ $\\to$ $\\log (\\frac{8\\cdot x^2}{\\sqrt{y}})=2 \\log{\\left(x \\right)} - \\frac{\\log{\\left(y \\right)}}{2} + 3 \\log{\\left(2 \\right)}=3 \\log{\\left(2 \\right)} - \\frac{-0.6}{2} + 2 \\cdot 1.5=3 \\log{\\left(2 \\right)} + 3.3$"
      ],
      "text/plain": [
       "<IPython.core.display.Markdown object>"
      ]
     },
     "metadata": {},
     "output_type": "display_data"
    },
    {
     "name": "stdout",
     "output_type": "stream",
     "text": [
      "enunciado_latex: Sabiendo que $\\log x=1.5$ y $\\log y=-0.6$,calcula $\\log (\\frac{8\\cdot x^2}{\\sqrt{y}})$\n",
      "solucion_latex: $\\log (\\frac{8\\cdot x^2}{\\sqrt{y}})=2 \\log{\\left(x \\right)} - \\frac{\\log{\\left(y \\right)}}{2} + 3 \\log{\\left(2 \\right)}=3 \\log{\\left(2 \\right)} - \\frac{-0.6}{2} + 2 \\cdot 1.5=3 \\log{\\left(2 \\right)} + 3.3$\n"
     ]
    },
    {
     "data": {
      "text/plain": [
       "[('Sabiendo que $\\\\log x=1.3$ y $\\\\log y=0.8$,calcula $\\\\log (x\\\\cdot y)$',\n",
       "  '$\\\\log (x\\\\cdot y)=\\\\log{\\\\left(x \\\\right)} + \\\\log{\\\\left(y \\\\right)}=0.8 + 1.3=2.1$'),\n",
       " ('Sabiendo que $\\\\log x=1.3$ y $\\\\log y=0.8$,calcula $\\\\log (x\\\\cdot \\\\sqrt{y})$',\n",
       "  '$\\\\log (x\\\\cdot \\\\sqrt{y})=\\\\log{\\\\left(x \\\\right)} + \\\\frac{\\\\log{\\\\left(y \\\\right)}}{2}=\\\\frac{0.8}{2} + 1.3=1.7$'),\n",
       " ('Sabiendo que $\\\\log x=1.3$ y $\\\\log y=0.8$,calcula $\\\\log (\\\\frac{y}{x^2})$',\n",
       "  '$\\\\log (\\\\frac{y}{x^2})=- 2 \\\\log{\\\\left(x \\\\right)} + \\\\log{\\\\left(y \\\\right)}=0.8 - 2 \\\\cdot 1.3=-1.8$'),\n",
       " ('Sabiendo que $\\\\log x=1.3$ y $\\\\log y=0.8$,calcula $\\\\log (\\\\sqrt{\\\\frac{x}{y}})$',\n",
       "  '$\\\\log (\\\\sqrt{\\\\frac{x}{y}})=\\\\frac{\\\\log{\\\\left(x \\\\right)}}{2} - \\\\frac{\\\\log{\\\\left(y \\\\right)}}{2}=- \\\\frac{0.8}{2} + \\\\frac{1.3}{2}=0.25$'),\n",
       " ('Sabiendo que $\\\\log x=1.5$ y $\\\\log y=-0.6$,calcula $\\\\log (\\\\frac{8\\\\cdot x^2}{\\\\sqrt{y}})$',\n",
       "  '$\\\\log (\\\\frac{8\\\\cdot x^2}{\\\\sqrt{y}})=2 \\\\log{\\\\left(x \\\\right)} - \\\\frac{\\\\log{\\\\left(y \\\\right)}}{2} + 3 \\\\log{\\\\left(2 \\\\right)}=3 \\\\log{\\\\left(2 \\\\right)} - \\\\frac{-0.6}{2} + 2 \\\\cdot 1.5=3 \\\\log{\\\\left(2 \\\\right)} + 3.3$')]"
      ]
     },
     "execution_count": 74,
     "metadata": {},
     "output_type": "execute_result"
    }
   ],
   "source": [
    "# Propiedades de los logaritmos - expandir\n",
    "\n",
    "ejercicios=[[r'\\log (x\\cdot y)','log(x*y)', 1.3, 0.8],\n",
    "            [r'\\log (x\\cdot \\sqrt{y})','log(x*sqrt(y))', 1.3, 0.8],\n",
    "            [r'\\log (\\frac{y}{x^2})','log(y/(x**2))', 1.3, 0.8],\n",
    "            [r'\\log (\\sqrt{\\frac{x}{y}})','log(sqrt(x/y))', 1.3, 0.8],\n",
    "            [r'\\log (\\frac{8\\cdot x^2}{\\sqrt{y}})','log((8*x**2)/sqrt(y))', 1.5, -0.6],\n",
    "            \n",
    "\n",
    "            \n",
    "           ]\n",
    "display(md(\"## Propiedades de los logaritmos - expandir\"))\n",
    "\n",
    "    \n",
    "[mostrar_ejercicio(\"Sabiendo que $\\log x={}$ y $\\log y={}$,calcula $\".format(e[2],e[3])+e[0]+\"$\",\n",
    "                   \"$\"+e[0]+r\"=\"+latex(expand_log(S(e[1]),force=True))+r\"=\"+latex(expand_log(S(e[1]),force=True).subs(log(x),UnevaluatedExpr(e[2])).subs(log(y),UnevaluatedExpr(e[3])))+\"=\"+latex(expand_log(S(e[1]),force=True).subs(log(x),e[2]).subs(log(y),e[3]))+\"$\") for e in ejercicios]\n",
    "    \n",
    "\n",
    "\n"
   ]
  },
  {
   "cell_type": "code",
   "execution_count": 76,
   "metadata": {},
   "outputs": [
    {
     "data": {
      "image/png": "[encoded data removed]",
      "text/latex": [
       "$\\displaystyle \\frac{\\log{\\left(x \\right)}}{\\log{\\left(2 \\right)}}$"
      ],
      "text/plain": [
       "log(x)\n",
       "──────\n",
       "log(2)"
      ]
     },
     "execution_count": 76,
     "metadata": {},
     "output_type": "execute_result"
    }
   ],
   "source": [
    "expand_log(log(x*y),force=True)\n",
    "UnevaluatedExpr(log(x,2))\n",
    "S('log(x,2)', evaluate=False)"
   ]
  },
  {
   "cell_type": "code",
   "execution_count": 35,
   "metadata": {},
   "outputs": [
    {
     "data": {
      "text/markdown": [
       "## Propiedades de los logaritmos"
      ],
      "text/plain": [
       "<IPython.core.display.Markdown object>"
      ]
     },
     "metadata": {},
     "output_type": "display_data"
    },
    {
     "data": {
      "text/markdown": [
       "#### Ejercicio:"
      ],
      "text/plain": [
       "<IPython.core.display.Markdown object>"
      ]
     },
     "metadata": {},
     "output_type": "display_data"
    },
    {
     "data": {
      "text/markdown": [
       "$\\log_2 10 + 2\\log_2 3 - \\log_2 5 - \\log_2 9 \\to 1$"
      ],
      "text/plain": [
       "<IPython.core.display.Markdown object>"
      ]
     },
     "metadata": {},
     "output_type": "display_data"
    },
    {
     "name": "stdout",
     "output_type": "stream",
     "text": [
      "enunciado_latex: \\log_2 10 + 2\\log_2 3 - \\log_2 5 - \\log_2 9\n",
      "solucion_latex: 1\n"
     ]
    },
    {
     "data": {
      "text/markdown": [
       "#### Ejercicio:"
      ],
      "text/plain": [
       "<IPython.core.display.Markdown object>"
      ]
     },
     "metadata": {},
     "output_type": "display_data"
    },
    {
     "data": {
      "text/markdown": [
       "$\\log_2 10 + 2\\log_2 3 - \\log_2 5 - \\log_2 9$ $\\to$ $1$"
      ],
      "text/plain": [
       "<IPython.core.display.Markdown object>"
      ]
     },
     "metadata": {},
     "output_type": "display_data"
    },
    {
     "name": "stdout",
     "output_type": "stream",
     "text": [
      "enunciado_latex: $\\log_2 10 + 2\\log_2 3 - \\log_2 5 - \\log_2 9$\n",
      "solucion_latex: $1$\n"
     ]
    },
    {
     "data": {
      "text/plain": [
       "[('$\\\\log_2 10 + 2\\\\log_2 3 - \\\\log_2 5 - \\\\log_2 9$', '$1$')]"
      ]
     },
     "execution_count": 35,
     "metadata": {},
     "output_type": "execute_result"
    }
   ],
   "source": [
    "# Propiedades de los logaritmos\n",
    "\n",
    "ejercicios=[[r'\\log_2 10 + 2\\log_2 3 - \\log_2 5 - \\log_2 9',\n",
    "             'log(10,2)+2*log(3,2)-log(5,2)-log(9,2)'],\n",
    "\n",
    "            \n",
    "           ]\n",
    "display(md(\"## Propiedades de los logaritmos\"))\n",
    "  \n",
    "for e in ejercicios :\n",
    "    display(md(\"#### Ejercicio:\"))\n",
    "    ejercicio = e[0]\n",
    "    solucion = simplify(S(e[1]))\n",
    "    display(md(r\"${} \\to {}$\".format(ejercicio, solucion)))\n",
    "    print(\"enunciado_latex: \" + ejercicio)\n",
    "    print(\"solucion_latex: \" + latex(solucion))\n",
    "    \n",
    "[mostrar_ejercicio(\"$\"+e[0]+\"$\",\"$\"+latex(simplify(S(e[1])))+\"$\") for e in ejercicios]\n",
    "    \n",
    "\n",
    "\n"
   ]
  }
 ],
 "metadata": {
  "kernelspec": {
   "display_name": "Python 3",
   "language": "python",
   "name": "python3"
  },
  "language_info": {
   "codemirror_mode": {
    "name": "ipython",
    "version": 3
   },
   "file_extension": ".py",
   "mimetype": "text/x-python",
   "name": "python",
   "nbconvert_exporter": "python",
   "pygments_lexer": "ipython3",
   "version": "3.6.8"
  }
 },
 "nbformat": 4,
 "nbformat_minor": 2
}
