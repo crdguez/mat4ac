{
 "cells": [
  {
   "cell_type": "code",
   "execution_count": 1,
   "metadata": {},
   "outputs": [
    {
     "name": "stdout",
     "output_type": "stream",
     "text": [
      "IPython console for SymPy 1.4 (Python 3.6.8-64-bit) (ground types: gmpy)\n",
      "\n",
      "These commands were executed:\n",
      ">>> from __future__ import division\n",
      ">>> from sympy import *\n",
      ">>> x, y, z, t = symbols('x y z t')\n",
      ">>> k, m, n = symbols('k m n', integer=True)\n",
      ">>> f, g, h = symbols('f g h', cls=Function)\n",
      ">>> init_printing()\n",
      "\n",
      "Documentation can be found at https://docs.sympy.org/1.4/\n",
      "\n"
     ]
    }
   ],
   "source": [
    "from sympy import init_session\n",
    "from sympy.parsing.latex import parse_latex\n",
    "from IPython.display import Markdown as md\n",
    "from IPython.display import display\n",
    "init_session()\n",
    "\n",
    "a, b, c, d = symbols('a b c d', real = True)"
   ]
  },
  {
   "cell_type": "code",
   "execution_count": 109,
   "metadata": {},
   "outputs": [
    {
     "data": {
      "image/png": "[encoded data removed]",
      "text/latex": [
       "$\\displaystyle \\frac{3^{\\frac{2}{3}} \\sqrt[3]{5}}{3}$"
      ],
      "text/plain": [
       " 2/3 3 ___\n",
       "3   ⋅╲╱ 5 \n",
       "──────────\n",
       "    3     "
      ]
     },
     "metadata": {},
     "output_type": "display_data"
    },
    {
     "data": {
      "image/png": "[encoded data removed]",
      "text/latex": [
       "$\\displaystyle \\frac{3^{\\frac{2}{3}} \\sqrt[3]{5}}{3}$"
      ],
      "text/plain": [
       " 2/3 3 ___\n",
       "3   ⋅╲╱ 5 \n",
       "──────────\n",
       "    3     "
      ]
     },
     "metadata": {},
     "output_type": "display_data"
    },
    {
     "name": "stdout",
     "output_type": "stream",
     "text": [
      "enunciado: \\sqrt[4]{\\frac{25}{9}\\sqrt[3]{\\frac{9}{25}}}\n"
     ]
    },
    {
     "data": {
      "image/png": "[encoded data removed]",
      "text/latex": [
       "$\\displaystyle 34 \\sqrt{5}$"
      ],
      "text/plain": [
       "34⋅√5"
      ]
     },
     "metadata": {},
     "output_type": "display_data"
    },
    {
     "data": {
      "image/png": "[encoded data removed]",
      "text/latex": [
       "$\\displaystyle 34 \\sqrt{5}$"
      ],
      "text/plain": [
       "34⋅√5"
      ]
     },
     "metadata": {},
     "output_type": "display_data"
    },
    {
     "name": "stdout",
     "output_type": "stream",
     "text": [
      "enunciado: 4\\sqrt{20}-3\\sqrt{45}+11\\sqrt{125}-20\\sqrt{5}\n"
     ]
    },
    {
     "data": {
      "image/png": "[encoded data removed]",
      "text/latex": [
       "$\\displaystyle 72$"
      ],
      "text/plain": [
       "72"
      ]
     },
     "metadata": {},
     "output_type": "display_data"
    },
    {
     "data": {
      "image/png": "[encoded data removed]",
      "text/latex": [
       "$\\displaystyle 72$"
      ],
      "text/plain": [
       "72"
      ]
     },
     "metadata": {},
     "output_type": "display_data"
    },
    {
     "name": "stdout",
     "output_type": "stream",
     "text": [
      "enunciado: \\sqrt{72}\\cdot3\\sqrt{8}\n"
     ]
    },
    {
     "data": {
      "image/png": "[encoded data removed]",
      "text/latex": [
       "$\\displaystyle 2 \\sqrt{6} + 7$"
      ],
      "text/plain": [
       "2⋅√6 + 7"
      ]
     },
     "metadata": {},
     "output_type": "display_data"
    },
    {
     "data": {
      "image/png": "[encoded data removed]",
      "text/latex": [
       "$\\displaystyle 2 \\sqrt{6} + 7$"
      ],
      "text/plain": [
       "2⋅√6 + 7"
      ]
     },
     "metadata": {},
     "output_type": "display_data"
    },
    {
     "name": "stdout",
     "output_type": "stream",
     "text": [
      "enunciado: \\frac{(3\\sqrt{2}+\\sqrt{3})^2}{3}\n"
     ]
    }
   ],
   "source": [
    "# Simplificar radicales\n",
    "\n",
    "ejercicios=[r'\\sqrt[4]{\\frac{25}{9}\\sqrt[3]{\\frac{9}{25}}}',\n",
    "            r'4\\sqrt{20}-3\\sqrt{45}+11\\sqrt{125}-20\\sqrt{5}',\n",
    "            r'\\sqrt{72}\\cdot3\\sqrt{8}',\n",
    "            r'\\frac{(3\\sqrt{2}+\\sqrt{3})^2}{3}'\n",
    "           ]\n",
    "\n",
    "for e in ejercicios :\n",
    "    display(cancel((parse_latex(e))))\n",
    "    display(simplify((parse_latex(e))))\n",
    "    print(\"enunciado: \" + e)\n"
   ]
  },
  {
   "cell_type": "code",
   "execution_count": 101,
   "metadata": {},
   "outputs": [
    {
     "data": {
      "image/png": "[encoded data removed]",
      "text/latex": [
       "$\\displaystyle x^{3}$"
      ],
      "text/plain": [
       " 3\n",
       "x "
      ]
     },
     "execution_count": 101,
     "metadata": {},
     "output_type": "execute_result"
    }
   ],
   "source": []
  }
 ],
 "metadata": {
  "kernelspec": {
   "display_name": "Python 3",
   "language": "python",
   "name": "python3"
  },
  "language_info": {
   "codemirror_mode": {
    "name": "ipython",
    "version": 3
   },
   "file_extension": ".py",
   "mimetype": "text/x-python",
   "name": "python",
   "nbconvert_exporter": "python",
   "pygments_lexer": "ipython3",
   "version": "3.6.8"
  }
 },
 "nbformat": 4,
 "nbformat_minor": 2
}
