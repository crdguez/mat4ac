{
 "cells": [
  {
   "cell_type": "code",
   "execution_count": 2,
   "metadata": {},
   "outputs": [
    {
     "name": "stdout",
     "output_type": "stream",
     "text": [
      "IPython console for SymPy 1.4 (Python 3.6.8-64-bit) (ground types: gmpy)\n",
      "\n",
      "These commands were executed:\n",
      ">>> from __future__ import division\n",
      ">>> from sympy import *\n",
      ">>> x, y, z, t = symbols('x y z t')\n",
      ">>> k, m, n = symbols('k m n', integer=True)\n",
      ">>> f, g, h = symbols('f g h', cls=Function)\n",
      ">>> init_printing()\n",
      "\n",
      "Documentation can be found at https://docs.sympy.org/1.4/\n",
      "\n"
     ]
    }
   ],
   "source": [
    "from sympy import init_session\n",
    "from sympy.parsing.latex import parse_latex\n",
    "from IPython.display import Markdown as md\n",
    "from IPython.display import display\n",
    "import numpy as np\n",
    "\n",
    "init_session()\n",
    "\n",
    "a, b, c, d = symbols('a b c d', real = True)"
   ]
  },
  {
   "cell_type": "code",
   "execution_count": 3,
   "metadata": {},
   "outputs": [],
   "source": [
    "def mostrar_ejercicio(ejercicio,solucion) :\n",
    "    display(md(\"#### Ejercicio:\"))\n",
    "    display(md(r\"${} \\to {}$\".format(ejercicio, solucion)))\n",
    "    print(\"enunciado_latex: \" + ejercicio)\n",
    "    print(\"solucion_latex: \" + solucion)\n",
    "    "
   ]
  },
  {
   "cell_type": "code",
   "execution_count": 42,
   "metadata": {},
   "outputs": [
    {
     "data": {
      "text/plain": [
       "(False, False, False, True, True)"
      ]
     },
     "execution_count": 42,
     "metadata": {},
     "output_type": "execute_result"
    }
   ],
   "source": [
    "n = pi\n",
    "n in S.Naturals, ask(Q.integer(n)),ask(Q.rational(n)),ask(Q.irrational(n)), n in S.Reals"
   ]
  },
  {
   "cell_type": "code",
   "execution_count": 68,
   "metadata": {},
   "outputs": [
    {
     "data": {
      "text/markdown": [
       "## Clasificar números:"
      ],
      "text/plain": [
       "<IPython.core.display.Markdown object>"
      ]
     },
     "metadata": {},
     "output_type": "display_data"
    },
    {
     "data": {
      "text/markdown": [
       "#### Ejercicio:"
      ],
      "text/plain": [
       "<IPython.core.display.Markdown object>"
      ]
     },
     "metadata": {},
     "output_type": "display_data"
    },
    {
     "data": {
      "text/markdown": [
       "$\\begin{tabular}{|c |c |c |c |c|}\\hline\n",
       "    &$\\mathbb{N}$& $\\mathbb{Z}$& $\\mathbb{Q}$&$\\mathbb{R}$\\\\ \n",
       "    \\hline\n",
       "    $\\frac{1}{2}$&&&&\\        hline\n",
       "    \\sqrt[3]{-27}\\end{tabular} \\to \\begin{tabular}{|c |c |c |c |c|}\\hline\n",
       "    &$\\mathbb{N}$& $\\mathbb{Z}$& $\\mathbb{Q}$&$\\mathbb{R}$\\\\ \n",
       "    \\hline\n",
       "    $\\frac{1}{2}$&&&&\\        hline\n",
       "    \\sqrt[3]{-27}\\end{tabular}$"
      ],
      "text/plain": [
       "<IPython.core.display.Markdown object>"
      ]
     },
     "metadata": {},
     "output_type": "display_data"
    },
    {
     "name": "stdout",
     "output_type": "stream",
     "text": [
      "enunciado_latex: \\begin{tabular}{|c |c |c |c |c|}\\hline\n",
      "    &$\\mathbb{N}$& $\\mathbb{Z}$& $\\mathbb{Q}$&$\\mathbb{R}$\\\\ \n",
      "    \\hline\n",
      "    $\\frac{1}{2}$&&&&\\        hline\n",
      "    \\sqrt[3]{-27}\\end{tabular}\n",
      "solucion_latex: \\begin{tabular}{|c |c |c |c |c|}\\hline\n",
      "    &$\\mathbb{N}$& $\\mathbb{Z}$& $\\mathbb{Q}$&$\\mathbb{R}$\\\\ \n",
      "    \\hline\n",
      "    $\\frac{1}{2}$&&&&\\        hline\n",
      "    \\sqrt[3]{-27}\\end{tabular}\n"
     ]
    }
   ],
   "source": [
    "# Clasificar números\n",
    "\n",
    "ejercicios=[\n",
    "            [r'\\frac{1}{2}', '\\sqrt[3]{-27}'],\n",
    "            \n",
    "           ]\n",
    "\n",
    "display(md(\"## Clasificar números:\"))\n",
    "\n",
    "for e in ejercicios :\n",
    "    enunciado_latex = r\"\"\"\\begin{tabular}{|c |c |c |c |c|}\\hline\n",
    "    &$\\mathbb{N}$& $\\mathbb{Z}$& $\\mathbb{Q}$&$\\mathbb{R}$\\\\ \n",
    "    \\hline\n",
    "    $\"\"\"\n",
    "\n",
    "    enunciado_latex += r\"\"\"$&&&&\\\\\n",
    "    \\\n",
    "    hline\n",
    "    \"\"\".join(ejercicios[0])\n",
    "\n",
    "    enunciado_latex += r'\\end{tabular}'\n",
    "\n",
    "    #print(enunciado_latex)\n",
    "\n",
    "    mostrar_ejercicio(enunciado_latex, enunciado_latex)  \n"
   ]
  },
  {
   "cell_type": "code",
   "execution_count": 63,
   "metadata": {},
   "outputs": [
    {
     "data": {
      "text/plain": [
       "([False, False, True, True],\n",
       " 4031313131313131/1000000000000000,\n",
       " 4.031313131313131)"
      ]
     },
     "execution_count": 63,
     "metadata": {},
     "output_type": "execute_result"
    }
   ],
   "source": [
    "e = [r'\\frac{1}{2}', r'\\sqrt[3]{-27}']\n",
    "\n",
    "def clasificar(n):\n",
    "    sol = [n in S.Naturals, ask(Q.integer(n)),ask(Q.rational(n)), n in S.Reals]\n",
    "    return sol\n",
    "\n",
    "clasificar(parse_latex(e[0])), Rational(str(4.031313131313131313131313131313131313131)), float(3991/990)\n",
    "\n"
   ]
  },
  {
   "cell_type": "code",
   "execution_count": 5,
   "metadata": {},
   "outputs": [
    {
     "data": {
      "text/markdown": [
       "## Opera las siguientes pontecias:"
      ],
      "text/plain": [
       "<IPython.core.display.Markdown object>"
      ]
     },
     "metadata": {},
     "output_type": "display_data"
    },
    {
     "data": {
      "text/markdown": [
       "#### Ejercicio:"
      ],
      "text/plain": [
       "<IPython.core.display.Markdown object>"
      ]
     },
     "metadata": {},
     "output_type": "display_data"
    },
    {
     "data": {
      "text/markdown": [
       "$\\frac{(2^3\\cdot3^2\\cdot5)^{-4}}{(2^{-2}\\cdot3^{-3})^{3}} \\to \\frac{3^{1}}{2^{6} \\cdot 5^{4}}$"
      ],
      "text/plain": [
       "<IPython.core.display.Markdown object>"
      ]
     },
     "metadata": {},
     "output_type": "display_data"
    },
    {
     "name": "stdout",
     "output_type": "stream",
     "text": [
      "enunciado_latex: \\frac{(2^3\\cdot3^2\\cdot5)^{-4}}{(2^{-2}\\cdot3^{-3})^{3}}\n",
      "solucion_latex: \\frac{3^{1}}{2^{6} \\cdot 5^{4}}\n"
     ]
    },
    {
     "data": {
      "text/plain": [
       "[None]"
      ]
     },
     "execution_count": 5,
     "metadata": {},
     "output_type": "execute_result"
    }
   ],
   "source": [
    "# Operar potencias\n",
    "\n",
    "ejercicios=[\n",
    "            r'\\frac{(2^3\\cdot3^2\\cdot5)^{-4}}{(2^{-2}\\cdot3^{-3})^{3}}',\n",
    "            \n",
    "           ]\n",
    "\n",
    "display(md(\"## Opera las siguientes pontecias:\"))\n",
    "\n",
    "  \n",
    "#[mostrar_ejercicio(e, latex(simplify(parse_latex(e)))) for e in ejercicios]    \n",
    "\n",
    "[mostrar_ejercicio(e, latex(S(parse_latex(r\"\\frac{\"+latex(factorint(simplify(parse_latex(e)).as_numer_denom()[0] , visual=True))+r\"}{\" +latex(factorint(simplify(parse_latex(e)).as_numer_denom()[1], visual=True))+\"}\"), evaluate=False))) for e in ejercicios]    \n",
    "\n",
    "\n"
   ]
  },
  {
   "cell_type": "code",
   "execution_count": 7,
   "metadata": {},
   "outputs": [
    {
     "data": {
      "text/markdown": [
       "## Opera las siguientes pontecias con variables:"
      ],
      "text/plain": [
       "<IPython.core.display.Markdown object>"
      ]
     },
     "metadata": {},
     "output_type": "display_data"
    },
    {
     "data": {
      "text/markdown": [
       "#### Ejercicio:"
      ],
      "text/plain": [
       "<IPython.core.display.Markdown object>"
      ]
     },
     "metadata": {},
     "output_type": "display_data"
    },
    {
     "data": {
      "text/markdown": [
       "$(\\frac{6p^3d^2}{5q})^4\\cdot(\\frac{20p^2q^3}{24d})^4 \\to d^{4} p^{20} q^{8}$"
      ],
      "text/plain": [
       "<IPython.core.display.Markdown object>"
      ]
     },
     "metadata": {},
     "output_type": "display_data"
    },
    {
     "name": "stdout",
     "output_type": "stream",
     "text": [
      "enunciado_latex: (\\frac{6p^3d^2}{5q})^4\\cdot(\\frac{20p^2q^3}{24d})^4\n",
      "solucion_latex: d^{4} p^{20} q^{8}\n"
     ]
    },
    {
     "data": {
      "text/plain": [
       "[None]"
      ]
     },
     "execution_count": 7,
     "metadata": {},
     "output_type": "execute_result"
    }
   ],
   "source": [
    "# Operar potencias con variables\n",
    "\n",
    "ejercicios=[\n",
    "            r'(\\frac{6p^3d^2}{5q})^4\\cdot(\\frac{20p^2q^3}{24d})^4'\n",
    "           ]\n",
    "\n",
    "display(md(\"## Opera las siguientes pontecias con variables:\"))\n",
    "\n",
    "  \n",
    "[mostrar_ejercicio(e, latex(simplify(parse_latex(e)))) for e in ejercicios]    \n",
    "\n",
    "#[mostrar_ejercicio(e, latex(S(parse_latex(r\"\\frac{\"+latex(factorint(simplify(parse_latex(e)).as_numer_denom()[0] , visual=True))+r\"}{\" +latex(factorint(simplify(parse_latex(e)).as_numer_denom()[1], visual=True))+\"}\"), evaluate=False))) for e in ejercicios]    \n",
    "\n",
    "\n"
   ]
  },
  {
   "cell_type": "code",
   "execution_count": 24,
   "metadata": {},
   "outputs": [
    {
     "data": {
      "text/markdown": [
       "## Operar en notación científica:"
      ],
      "text/plain": [
       "<IPython.core.display.Markdown object>"
      ]
     },
     "metadata": {},
     "output_type": "display_data"
    },
    {
     "data": {
      "text/markdown": [
       "#### Ejercicio:"
      ],
      "text/plain": [
       "<IPython.core.display.Markdown object>"
      ]
     },
     "metadata": {},
     "output_type": "display_data"
    },
    {
     "data": {
      "text/markdown": [
       "$\\frac{1000\\cdot12000\\cdot0.02\\cdot0.01}{400\\cdot0.00003} \\to 2.e+05$"
      ],
      "text/plain": [
       "<IPython.core.display.Markdown object>"
      ]
     },
     "metadata": {},
     "output_type": "display_data"
    },
    {
     "name": "stdout",
     "output_type": "stream",
     "text": [
      "enunciado_latex: \\frac{1000\\cdot12000\\cdot0.02\\cdot0.01}{400\\cdot0.00003}\n",
      "solucion_latex: 2.e+05\n"
     ]
    },
    {
     "data": {
      "text/plain": [
       "[None]"
      ]
     },
     "execution_count": 24,
     "metadata": {},
     "output_type": "execute_result"
    }
   ],
   "source": [
    "# Operar en notación científica\n",
    "\n",
    "ejercicios=[r'\\frac{1000\\cdot12000\\cdot0.02\\cdot0.01}{400\\cdot0.00003}',\n",
    "            \n",
    "           ]\n",
    "\n",
    "display(md(\"## Operar en notación científica:\"))\n",
    "  \n",
    "[mostrar_ejercicio(e, latex(np.format_float_scientific(cancel(parse_latex(e))))) for e in ejercicios]    \n",
    "    \n",
    "\n",
    "\n"
   ]
  },
  {
   "cell_type": "code",
   "execution_count": 10,
   "metadata": {},
   "outputs": [
    {
     "data": {
      "text/markdown": [
       "## Simplificar radicales:"
      ],
      "text/plain": [
       "<IPython.core.display.Markdown object>"
      ]
     },
     "metadata": {},
     "output_type": "display_data"
    },
    {
     "data": {
      "text/markdown": [
       "#### Ejercicio:"
      ],
      "text/plain": [
       "<IPython.core.display.Markdown object>"
      ]
     },
     "metadata": {},
     "output_type": "display_data"
    },
    {
     "data": {
      "text/markdown": [
       "$\\sqrt[4]{\\frac{25}{9}\\sqrt[3]{\\frac{9}{25}}} \\to \\frac{3^{\\frac{2}{3}} \\sqrt[3]{5}}{3}$"
      ],
      "text/plain": [
       "<IPython.core.display.Markdown object>"
      ]
     },
     "metadata": {},
     "output_type": "display_data"
    },
    {
     "name": "stdout",
     "output_type": "stream",
     "text": [
      "enunciado_latex: \\sqrt[4]{\\frac{25}{9}\\sqrt[3]{\\frac{9}{25}}}\n",
      "solucion_latex: \\frac{3^{\\frac{2}{3}} \\sqrt[3]{5}}{3}\n"
     ]
    },
    {
     "data": {
      "text/markdown": [
       "#### Ejercicio:"
      ],
      "text/plain": [
       "<IPython.core.display.Markdown object>"
      ]
     },
     "metadata": {},
     "output_type": "display_data"
    },
    {
     "data": {
      "text/markdown": [
       "$4\\sqrt{20}-3\\sqrt{45}+11\\sqrt{125}-20\\sqrt{5} \\to 34 \\sqrt{5}$"
      ],
      "text/plain": [
       "<IPython.core.display.Markdown object>"
      ]
     },
     "metadata": {},
     "output_type": "display_data"
    },
    {
     "name": "stdout",
     "output_type": "stream",
     "text": [
      "enunciado_latex: 4\\sqrt{20}-3\\sqrt{45}+11\\sqrt{125}-20\\sqrt{5}\n",
      "solucion_latex: 34 \\sqrt{5}\n"
     ]
    },
    {
     "data": {
      "text/markdown": [
       "#### Ejercicio:"
      ],
      "text/plain": [
       "<IPython.core.display.Markdown object>"
      ]
     },
     "metadata": {},
     "output_type": "display_data"
    },
    {
     "data": {
      "text/markdown": [
       "$\\sqrt{72}\\cdot3\\sqrt{8} \\to 72$"
      ],
      "text/plain": [
       "<IPython.core.display.Markdown object>"
      ]
     },
     "metadata": {},
     "output_type": "display_data"
    },
    {
     "name": "stdout",
     "output_type": "stream",
     "text": [
      "enunciado_latex: \\sqrt{72}\\cdot3\\sqrt{8}\n",
      "solucion_latex: 72\n"
     ]
    },
    {
     "data": {
      "text/markdown": [
       "#### Ejercicio:"
      ],
      "text/plain": [
       "<IPython.core.display.Markdown object>"
      ]
     },
     "metadata": {},
     "output_type": "display_data"
    },
    {
     "data": {
      "text/markdown": [
       "$\\frac{(3\\sqrt{2}+\\sqrt{3})^2}{3} \\to 2 \\sqrt{6} + 7$"
      ],
      "text/plain": [
       "<IPython.core.display.Markdown object>"
      ]
     },
     "metadata": {},
     "output_type": "display_data"
    },
    {
     "name": "stdout",
     "output_type": "stream",
     "text": [
      "enunciado_latex: \\frac{(3\\sqrt{2}+\\sqrt{3})^2}{3}\n",
      "solucion_latex: 2 \\sqrt{6} + 7\n"
     ]
    },
    {
     "data": {
      "text/markdown": [
       "#### Ejercicio:"
      ],
      "text/plain": [
       "<IPython.core.display.Markdown object>"
      ]
     },
     "metadata": {},
     "output_type": "display_data"
    },
    {
     "data": {
      "text/markdown": [
       "$\\sqrt{2\\sqrt{2\\sqrt{2}}} \\to 2^{\\frac{7}{8}}$"
      ],
      "text/plain": [
       "<IPython.core.display.Markdown object>"
      ]
     },
     "metadata": {},
     "output_type": "display_data"
    },
    {
     "name": "stdout",
     "output_type": "stream",
     "text": [
      "enunciado_latex: \\sqrt{2\\sqrt{2\\sqrt{2}}}\n",
      "solucion_latex: 2^{\\frac{7}{8}}\n"
     ]
    },
    {
     "data": {
      "text/plain": [
       "[None, None, None, None, None]"
      ]
     },
     "execution_count": 10,
     "metadata": {},
     "output_type": "execute_result"
    }
   ],
   "source": [
    "# Simplificar radicales\n",
    "\n",
    "ejercicios=[r'\\sqrt[4]{\\frac{25}{9}\\sqrt[3]{\\frac{9}{25}}}',\n",
    "            r'4\\sqrt{20}-3\\sqrt{45}+11\\sqrt{125}-20\\sqrt{5}',\n",
    "            r'\\sqrt{72}\\cdot3\\sqrt{8}',\n",
    "            r'\\frac{(3\\sqrt{2}+\\sqrt{3})^2}{3}',\n",
    "            r'\\sqrt{2\\sqrt{2\\sqrt{2}}}',\n",
    "            \n",
    "           ]\n",
    "\n",
    "display(md(\"## Simplificar radicales:\"))\n",
    "  \n",
    "[mostrar_ejercicio(e, latex(simplify(parse_latex(e)))) for e in ejercicios]    \n",
    "    \n",
    "\n",
    "\n"
   ]
  },
  {
   "cell_type": "code",
   "execution_count": 22,
   "metadata": {},
   "outputs": [
    {
     "data": {
      "text/markdown": [
       "## Racionalizar denominadores:"
      ],
      "text/plain": [
       "<IPython.core.display.Markdown object>"
      ]
     },
     "metadata": {},
     "output_type": "display_data"
    },
    {
     "data": {
      "text/markdown": [
       "#### Ejercicio:"
      ],
      "text/plain": [
       "<IPython.core.display.Markdown object>"
      ]
     },
     "metadata": {},
     "output_type": "display_data"
    },
    {
     "data": {
      "text/markdown": [
       "$\\frac{10}{2\\sqrt{3}-\\sqrt{2}} \\to \\sqrt{2} + 2 \\sqrt{3}$"
      ],
      "text/plain": [
       "<IPython.core.display.Markdown object>"
      ]
     },
     "metadata": {},
     "output_type": "display_data"
    },
    {
     "name": "stdout",
     "output_type": "stream",
     "text": [
      "enunciado_latex: \\frac{10}{2\\sqrt{3}-\\sqrt{2}}\n",
      "solucion_latex: \\sqrt{2} + 2 \\sqrt{3}\n"
     ]
    },
    {
     "data": {
      "text/markdown": [
       "#### Ejercicio:"
      ],
      "text/plain": [
       "<IPython.core.display.Markdown object>"
      ]
     },
     "metadata": {},
     "output_type": "display_data"
    },
    {
     "data": {
      "text/markdown": [
       "$\\frac{\\sqrt{45}+\\sqrt{180}}{\\sqrt{176}+4\\sqrt{44}} \\to \\frac{3 \\sqrt{55}}{44}$"
      ],
      "text/plain": [
       "<IPython.core.display.Markdown object>"
      ]
     },
     "metadata": {},
     "output_type": "display_data"
    },
    {
     "name": "stdout",
     "output_type": "stream",
     "text": [
      "enunciado_latex: \\frac{\\sqrt{45}+\\sqrt{180}}{\\sqrt{176}+4\\sqrt{44}}\n",
      "solucion_latex: \\frac{3 \\sqrt{55}}{44}\n"
     ]
    },
    {
     "data": {
      "text/plain": [
       "[None, None]"
      ]
     },
     "execution_count": 22,
     "metadata": {},
     "output_type": "execute_result"
    }
   ],
   "source": [
    "# Racionalizar radicales\n",
    "\n",
    "ejercicios=[r'\\frac{10}{2\\sqrt{3}-\\sqrt{2}}',\n",
    "            r'\\frac{\\sqrt{45}+\\sqrt{180}}{\\sqrt{176}+4\\sqrt{44}}'\n",
    "           ]\n",
    "display(md(\"## Racionalizar denominadores:\"))\n",
    "  \n",
    "[mostrar_ejercicio(e, latex(radsimp(parse_latex(e)))) for e in ejercicios]    \n",
    "    \n",
    "\n",
    "\n"
   ]
  },
  {
   "cell_type": "code",
   "execution_count": 12,
   "metadata": {},
   "outputs": [
    {
     "data": {
      "text/markdown": [
       "## Definición de Logaritmo:"
      ],
      "text/plain": [
       "<IPython.core.display.Markdown object>"
      ]
     },
     "metadata": {},
     "output_type": "display_data"
    },
    {
     "data": {
      "text/markdown": [
       "#### Ejercicio:"
      ],
      "text/plain": [
       "<IPython.core.display.Markdown object>"
      ]
     },
     "metadata": {},
     "output_type": "display_data"
    },
    {
     "data": {
      "text/markdown": [
       "$\\log_3{27} \\to 3$"
      ],
      "text/plain": [
       "<IPython.core.display.Markdown object>"
      ]
     },
     "metadata": {},
     "output_type": "display_data"
    },
    {
     "name": "stdout",
     "output_type": "stream",
     "text": [
      "enunciado_latex: \\log_3{27}\n",
      "solucion_latex: 3\n"
     ]
    },
    {
     "data": {
      "text/markdown": [
       "#### Ejercicio:"
      ],
      "text/plain": [
       "<IPython.core.display.Markdown object>"
      ]
     },
     "metadata": {},
     "output_type": "display_data"
    },
    {
     "data": {
      "text/markdown": [
       "$\\log_3{1/81} \\to -4$"
      ],
      "text/plain": [
       "<IPython.core.display.Markdown object>"
      ]
     },
     "metadata": {},
     "output_type": "display_data"
    },
    {
     "name": "stdout",
     "output_type": "stream",
     "text": [
      "enunciado_latex: \\log_3{1/81}\n",
      "solucion_latex: -4\n"
     ]
    },
    {
     "data": {
      "text/markdown": [
       "#### Ejercicio:"
      ],
      "text/plain": [
       "<IPython.core.display.Markdown object>"
      ]
     },
     "metadata": {},
     "output_type": "display_data"
    },
    {
     "data": {
      "text/markdown": [
       "$\\log_9 3 \\to 1/2$"
      ],
      "text/plain": [
       "<IPython.core.display.Markdown object>"
      ]
     },
     "metadata": {},
     "output_type": "display_data"
    },
    {
     "name": "stdout",
     "output_type": "stream",
     "text": [
      "enunciado_latex: \\log_9 3\n",
      "solucion_latex: \\frac{1}{2}\n"
     ]
    },
    {
     "data": {
      "text/markdown": [
       "#### Ejercicio:"
      ],
      "text/plain": [
       "<IPython.core.display.Markdown object>"
      ]
     },
     "metadata": {},
     "output_type": "display_data"
    },
    {
     "data": {
      "text/markdown": [
       "$\\log_{1/3}{1/81} \\to 4$"
      ],
      "text/plain": [
       "<IPython.core.display.Markdown object>"
      ]
     },
     "metadata": {},
     "output_type": "display_data"
    },
    {
     "name": "stdout",
     "output_type": "stream",
     "text": [
      "enunciado_latex: \\log_{1/3}{1/81}\n",
      "solucion_latex: 4\n"
     ]
    },
    {
     "data": {
      "text/markdown": [
       "#### Ejercicio:"
      ],
      "text/plain": [
       "<IPython.core.display.Markdown object>"
      ]
     },
     "metadata": {},
     "output_type": "display_data"
    },
    {
     "data": {
      "text/markdown": [
       "$\\log_5{\\sqrt{125}} \\to 3/2$"
      ],
      "text/plain": [
       "<IPython.core.display.Markdown object>"
      ]
     },
     "metadata": {},
     "output_type": "display_data"
    },
    {
     "name": "stdout",
     "output_type": "stream",
     "text": [
      "enunciado_latex: \\log_5{\\sqrt{125}}\n",
      "solucion_latex: \\frac{3}{2}\n"
     ]
    }
   ],
   "source": [
    "# Definición de logaritmo\n",
    "\n",
    "ejercicios=[[r'\\log_3{27}','log(27,3)'],\n",
    "            [r'\\log_3{1/81}','log(1/81,3)'],\n",
    "            [r'\\log_9 3',r'log(3,9)'],\n",
    "            [r'\\log_{1/3}{1/81}','log(1/81,1/3)'],\n",
    "            [r'\\log_5{\\sqrt{125}}','log(sqrt(125),5)'],\n",
    "            \n",
    "            \n",
    "           ]\n",
    "display(md(\"## Definición de Logaritmo:\"))\n",
    "  \n",
    "for e in ejercicios :\n",
    "    display(md(\"#### Ejercicio:\"))\n",
    "    ejercicio = e[0]\n",
    "    solucion = simplify(S(e[1]))\n",
    "    display(md(r\"${} \\to {}$\".format(ejercicio, solucion)))\n",
    "    print(\"enunciado_latex: \" + ejercicio)\n",
    "    print(\"solucion_latex: \" + latex(solucion))\n",
    "    \n",
    "\n",
    "\n"
   ]
  },
  {
   "cell_type": "code",
   "execution_count": 14,
   "metadata": {},
   "outputs": [
    {
     "data": {
      "text/markdown": [
       "## Definición de Logaritmo y operaciones:"
      ],
      "text/plain": [
       "<IPython.core.display.Markdown object>"
      ]
     },
     "metadata": {},
     "output_type": "display_data"
    },
    {
     "data": {
      "text/markdown": [
       "#### Ejercicio:"
      ],
      "text/plain": [
       "<IPython.core.display.Markdown object>"
      ]
     },
     "metadata": {},
     "output_type": "display_data"
    },
    {
     "data": {
      "text/markdown": [
       "$\\log_3 \\frac{1}{9} -  \\log_5 0.2 +\\log_6 \\frac{1}{36} - \\log_2 0.5 \\to -2.0$"
      ],
      "text/plain": [
       "<IPython.core.display.Markdown object>"
      ]
     },
     "metadata": {},
     "output_type": "display_data"
    },
    {
     "name": "stdout",
     "output_type": "stream",
     "text": [
      "enunciado_latex: \\log_3 \\frac{1}{9} -  \\log_5 0.2 +\\log_6 \\frac{1}{36} - \\log_2 0.5\n",
      "solucion_latex: \\log_3 \\frac{1}{9} -  \\log_5 0.2 +\\log_6 \\frac{1}{36} - \\log_2 0.5= (-2.0 )+( 1.0 )+( -2.0 )+( 1.0)=-2.0\n"
     ]
    },
    {
     "data": {
      "text/markdown": [
       "#### Ejercicio:"
      ],
      "text/plain": [
       "<IPython.core.display.Markdown object>"
      ]
     },
     "metadata": {},
     "output_type": "display_data"
    },
    {
     "data": {
      "text/markdown": [
       "$2\\log_4 16 +  log_2 32 - 3log_7 49 \\to 3.0$"
      ],
      "text/plain": [
       "<IPython.core.display.Markdown object>"
      ]
     },
     "metadata": {},
     "output_type": "display_data"
    },
    {
     "name": "stdout",
     "output_type": "stream",
     "text": [
      "enunciado_latex: 2\\log_4 16 +  log_2 32 - 3log_7 49\n",
      "solucion_latex: 2\\log_4 16 +  log_2 32 - 3log_7 49= (4.0 )+( 5.0 )+( -6.0)=3.0\n"
     ]
    }
   ],
   "source": [
    "# Definición de logaritmo\n",
    "\n",
    "ejercicios=[[r'\\log_3 \\frac{1}{9} -  \\log_5 0.2 +\\log_6 \\frac{1}{36} - \\log_2 0.5',\n",
    "             'log(1/9,3)-log(0.2,5)+log(1/36,6)-log(0.5,2)'], \n",
    "            [r'2\\log_4 16 +  log_2 32 - 3log_7 49',\n",
    "            r'2*log(16,4)+log(32,2)-3*log(49,7)']\n",
    "           ]\n",
    "display(md(\"## Definición de Logaritmo y operaciones:\"))\n",
    "  \n",
    "for e in ejercicios :\n",
    "    display(md(\"#### Ejercicio:\"))\n",
    "    ejercicio = e[0]\n",
    "    solucion = simplify(S(e[1])).evalf(2)\n",
    "    solucion_latex = ejercicio + r\"= (\"\n",
    "    solucion_latex += r\" )+( \".join([latex(S(i).evalf(2)) for i in S(e[1], evaluate=False).args])\n",
    "    solucion_latex += r\")=\"\n",
    "    solucion_latex += latex(simplify(S(e[1])).evalf(2))\n",
    "    display(md(r\"${} \\to {}$\".format(ejercicio, solucion)))\n",
    "    print(\"enunciado_latex: \" + ejercicio)\n",
    "    print(\"solucion_latex: \" + solucion_latex)\n",
    "    \n",
    "    \n",
    "\n",
    "\n"
   ]
  },
  {
   "cell_type": "code",
   "execution_count": 67,
   "metadata": {},
   "outputs": [
    {
     "data": {
      "text/markdown": [
       "## Propiedades de los logaritmos"
      ],
      "text/plain": [
       "<IPython.core.display.Markdown object>"
      ]
     },
     "metadata": {},
     "output_type": "display_data"
    },
    {
     "data": {
      "text/markdown": [
       "#### Ejercicio:"
      ],
      "text/plain": [
       "<IPython.core.display.Markdown object>"
      ]
     },
     "metadata": {},
     "output_type": "display_data"
    },
    {
     "data": {
      "text/markdown": [
       "$\\log_2 10 + 2\\log_2 3 - \\log_2 5 - \\log_2 9 \\to 1$"
      ],
      "text/plain": [
       "<IPython.core.display.Markdown object>"
      ]
     },
     "metadata": {},
     "output_type": "display_data"
    },
    {
     "name": "stdout",
     "output_type": "stream",
     "text": [
      "enunciado_latex: \\log_2 10 + 2\\log_2 3 - \\log_2 5 - \\log_2 9\n",
      "solucion_latex: 1\n"
     ]
    }
   ],
   "source": [
    "# Propiedades de los logaritmos\n",
    "\n",
    "ejercicios=[[r'\\log_2 10 + 2\\log_2 3 - \\log_2 5 - \\log_2 9',\n",
    "             'log(10,2)+2*log(3,2)-log(5,2)-log(9,2)'],\n",
    "\n",
    "            \n",
    "           ]\n",
    "display(md(\"## Propiedades de los logaritmos\"))\n",
    "  \n",
    "for e in ejercicios :\n",
    "    display(md(\"#### Ejercicio:\"))\n",
    "    ejercicio = e[0]\n",
    "    solucion = simplify(S(e[1]))\n",
    "    display(md(r\"${} \\to {}$\".format(ejercicio, solucion)))\n",
    "    print(\"enunciado_latex: \" + ejercicio)\n",
    "    print(\"solucion_latex: \" + latex(solucion))\n",
    "    \n",
    "\n",
    "\n"
   ]
  }
 ],
 "metadata": {
  "kernelspec": {
   "display_name": "Python 3",
   "language": "python",
   "name": "python3"
  },
  "language_info": {
   "codemirror_mode": {
    "name": "ipython",
    "version": 3
   },
   "file_extension": ".py",
   "mimetype": "text/x-python",
   "name": "python",
   "nbconvert_exporter": "python",
   "pygments_lexer": "ipython3",
   "version": "3.6.8"
  }
 },
 "nbformat": 4,
 "nbformat_minor": 2
}
