{
 "cells": [
  {
   "cell_type": "code",
   "execution_count": 1,
   "metadata": {
    "colab": {
     "base_uri": "https://localhost:8080/"
    },
    "id": "XLjKRF_kknDB",
    "outputId": "85a1e64d-7f78-4b4c-a2d3-9e6b968e32c0"
   },
   "outputs": [],
   "source": [
    "# Ejecutar para que funcione el parse_latex en google colab\n",
    "\n",
    "#!pip install sympy==1.5 antlr4-python3-runtime==4.7.1\n",
    "\n",
    "# !pip install antlr4-python3-runtime==4.7.1"
   ]
  },
  {
   "cell_type": "code",
   "execution_count": 2,
   "metadata": {
    "colab": {
     "base_uri": "https://localhost:8080/"
    },
    "id": "tVIMjcDSknDa",
    "outputId": "edff4845-95e5-4137-e673-930fbf5ee1df"
   },
   "outputs": [
    {
     "name": "stdout",
     "output_type": "stream",
     "text": [
      "IPython console for SymPy 1.6.2 (Python 3.6.12-64-bit) (ground types: gmpy)\n",
      "\n",
      "These commands were executed:\n",
      ">>> from __future__ import division\n",
      ">>> from sympy import *\n",
      ">>> x, y, z, t = symbols('x y z t')\n",
      ">>> k, m, n = symbols('k m n', integer=True)\n",
      ">>> f, g, h = symbols('f g h', cls=Function)\n",
      ">>> init_printing()\n",
      "\n",
      "Documentation can be found at https://docs.sympy.org/1.6.2/\n",
      "\n"
     ]
    }
   ],
   "source": [
    "from sympy import init_session\n",
    "from sympy.parsing.latex import parse_latex\n",
    "from sympy.parsing.sympy_parser import parse_expr\n",
    "from IPython.display import Markdown as md\n",
    "from IPython.display import display\n",
    "\n",
    "\n",
    "init_session()"
   ]
  },
  {
   "cell_type": "code",
   "execution_count": 3,
   "metadata": {
    "id": "0kKrNlGb9jl0"
   },
   "outputs": [],
   "source": [
    "\n",
    "from sympy.solvers.inequalities import solve_univariate_inequality, reduce_rational_inequalities, reduce_abs_inequality\n",
    "\n",
    "from sympy.calculus.util import continuous_domain, function_range\n",
    "\n",
    "\n",
    "import matplotlib.pyplot as plt\n",
    "\n",
    "# %matplotlib inline"
   ]
  },
  {
   "cell_type": "code",
   "execution_count": 4,
   "metadata": {
    "id": "aN9ZbL_1R8Wd",
    "scrolled": true
   },
   "outputs": [],
   "source": [
    "# Para que salga bien hay que dejar el matplolib offline\n",
    "\n",
    "def dominio_trozos(f) :\n",
    "    set = S.EmptySet\n",
    "    for t in f.args :\n",
    "        set = Union(set,continuous_domain(f,x,t[1].as_set()))\n",
    "    return set\n",
    "\n",
    "\n",
    "\n",
    "def grafica_funcion_trozos(f, sz=20):\n",
    "    \n",
    "    cerrados, abiertos, cerrados_imagen, abiertos_imagen = [],[],[],[]\n",
    "#     sz=20\n",
    "    conj_ant=EmptySet\n",
    "    p=plot(x,(x,0,0),show=False)\n",
    "    for t in f.args:\n",
    "#         display(t.args)\n",
    "#         display(t.args[1].as_set().args)\n",
    "        actual=S.Reals if t.args[1]==True else t.args[1].as_set()\n",
    "        conj=Complement(actual,conj_ant)\n",
    "#         display(conj)\n",
    "#         display(conj.args)\n",
    "        ini = conj.args[0] if conj.args[0] != -oo else -sz\n",
    "        fin = conj.args[1] if conj.args[1] != +oo else sz\n",
    "#         display(ini,fin)\n",
    "        p.extend(plot(t.args[0],(x,ini,fin),show=False))\n",
    "        for j in range(2):  \n",
    "            if abs(conj.args[j]) != oo :\n",
    "                if conj.args[j+2] :\n",
    "                    abiertos.append(conj.args[j])\n",
    "                    abiertos_imagen.append(t.args[0].subs(x,conj.args[j]))\n",
    "#                     display(conj.args[j])\n",
    "                else :\n",
    "                    cerrados.append(conj.args[j])\n",
    "                    cerrados_imagen.append(t.args[0].subs(x,conj.args[j]))\n",
    "#                     display(conj.args[j])       \n",
    "        conj_ant=t.args[1].as_set()\n",
    "\n",
    "    abiertos, abiertos_imagen, cerrados, cerrados_imagen\n",
    "    p.show()\n",
    "    fg = p._backend.fig \n",
    "    ax = p._backend.ax   \n",
    "    ax[0].set_xlim(-sz,sz)\n",
    "    ax[0].set_ylim(-sz,sz)\n",
    "    ax[0].set_aspect('equal')\n",
    "    plt.scatter([abiertos],[abiertos_imagen],edgecolors='blue',facecolors='white')\n",
    "    plt.scatter([cerrados],[cerrados_imagen],edgecolors='blue',facecolors='blue')\n",
    "    plt.grid(True)\n",
    "    \n",
    "    return f, fg"
   ]
  },
  {
   "cell_type": "code",
   "execution_count": 5,
   "metadata": {
    "id": "U_EQ3XUBknDf"
   },
   "outputs": [],
   "source": [
    "def latex_exam(question, parts):\n",
    "    tex=r\"\\question \"+question+r\"\\begin{parts} \"\n",
    "    for p in parts :\n",
    "        tex+=r\"\\part[1] \"+p[0]+r\"\\begin{solution} \"+p[1]+r\"\\end{solution} \" \n",
    "    tex+=r\"\\end{parts} \"\n",
    "    \n",
    "    return tex\n",
    "\n",
    "def mostrar_ejercicio(ejercicio,solucion,tipo=0) :\n",
    "    #tipo=0 se pasa el ejercicio y la solucion en formato latex\n",
    "    if tipo == 0 :\n",
    "        display(md(\"#### Ejercicio:\"))\n",
    "        display(md(r\"{} $\\to$ {}\".format(ejercicio, solucion)))\n",
    "        print(\"enunciado_latex: \" + ejercicio)\n",
    "        print(\"solucion_latex: \" + solucion)\n",
    "        return ejercicio, solucion\n",
    "    elif tipo == 1:\n",
    "        # falta desarrollar ...\n",
    "        display(md(\"#### Ejercicio:\"))\n",
    "        display(md(r\"{} $\\to$ {}\".format(ejercicio, solucion)))\n",
    "        print(\"enunciado_latex: \" + ejercicio)\n",
    "        print(\"solucion_latex: \" + solucion)\n",
    "        return ejercicio, solucion\n",
    "\n",
    "        "
   ]
  },
  {
   "cell_type": "code",
   "execution_count": 6,
   "metadata": {
    "colab": {
     "base_uri": "https://localhost:8080/",
     "height": 1000
    },
    "id": "ExSw2L1fkPFe",
    "outputId": "832bfa90-c143-4065-8254-486b1706426f"
   },
   "outputs": [
    {
     "data": {
      "text/markdown": [
       "**Calcular el dominio de las siguientes funciones:**"
      ],
      "text/plain": [
       "<IPython.core.display.Markdown object>"
      ]
     },
     "metadata": {},
     "output_type": "display_data"
    },
    {
     "data": {
      "text/markdown": [
       "#### Ejercicio:"
      ],
      "text/plain": [
       "<IPython.core.display.Markdown object>"
      ]
     },
     "metadata": {},
     "output_type": "display_data"
    },
    {
     "data": {
      "text/markdown": [
       "$f(x)=\\frac{x+13}{x^4+x^3-3x^2-3x}$ $\\to$ $\\left(-\\infty, - \\sqrt{3}\\right) \\cup \\left(- \\sqrt{3}, -1\\right) \\cup \\left(-1, 0\\right) \\cup \\left(0, \\sqrt{3}\\right) \\cup \\left(\\sqrt{3}, \\infty\\right)$"
      ],
      "text/plain": [
       "<IPython.core.display.Markdown object>"
      ]
     },
     "metadata": {},
     "output_type": "display_data"
    },
    {
     "name": "stdout",
     "output_type": "stream",
     "text": [
      "enunciado_latex: $f(x)=\\frac{x+13}{x^4+x^3-3x^2-3x}$\n",
      "solucion_latex: $\\left(-\\infty, - \\sqrt{3}\\right) \\cup \\left(- \\sqrt{3}, -1\\right) \\cup \\left(-1, 0\\right) \\cup \\left(0, \\sqrt{3}\\right) \\cup \\left(\\sqrt{3}, \\infty\\right)$\n"
     ]
    },
    {
     "data": {
      "text/markdown": [
       "#### Ejercicio:"
      ],
      "text/plain": [
       "<IPython.core.display.Markdown object>"
      ]
     },
     "metadata": {},
     "output_type": "display_data"
    },
    {
     "data": {
      "text/markdown": [
       "$f(x)=x^6+x^2-2$ $\\to$ $\\mathbb{R}$"
      ],
      "text/plain": [
       "<IPython.core.display.Markdown object>"
      ]
     },
     "metadata": {},
     "output_type": "display_data"
    },
    {
     "name": "stdout",
     "output_type": "stream",
     "text": [
      "enunciado_latex: $f(x)=x^6+x^2-2$\n",
      "solucion_latex: $\\mathbb{R}$\n"
     ]
    },
    {
     "data": {
      "text/markdown": [
       "#### Ejercicio:"
      ],
      "text/plain": [
       "<IPython.core.display.Markdown object>"
      ]
     },
     "metadata": {},
     "output_type": "display_data"
    },
    {
     "data": {
      "text/markdown": [
       "$f(x)=\\frac{7x+9}{x^3+8}$ $\\to$ $\\left(-\\infty, -2\\right) \\cup \\left(-2, \\infty\\right)$"
      ],
      "text/plain": [
       "<IPython.core.display.Markdown object>"
      ]
     },
     "metadata": {},
     "output_type": "display_data"
    },
    {
     "name": "stdout",
     "output_type": "stream",
     "text": [
      "enunciado_latex: $f(x)=\\frac{7x+9}{x^3+8}$\n",
      "solucion_latex: $\\left(-\\infty, -2\\right) \\cup \\left(-2, \\infty\\right)$\n"
     ]
    },
    {
     "data": {
      "text/markdown": [
       "#### Ejercicio:"
      ],
      "text/plain": [
       "<IPython.core.display.Markdown object>"
      ]
     },
     "metadata": {},
     "output_type": "display_data"
    },
    {
     "data": {
      "text/markdown": [
       "$f(x)=\\sqrt{\\frac{x-1}{x}}$ $\\to$ $\\left(-\\infty, 0\\right) \\cup \\left[1, \\infty\\right)$"
      ],
      "text/plain": [
       "<IPython.core.display.Markdown object>"
      ]
     },
     "metadata": {},
     "output_type": "display_data"
    },
    {
     "name": "stdout",
     "output_type": "stream",
     "text": [
      "enunciado_latex: $f(x)=\\sqrt{\\frac{x-1}{x}}$\n",
      "solucion_latex: $\\left(-\\infty, 0\\right) \\cup \\left[1, \\infty\\right)$\n"
     ]
    },
    {
     "data": {
      "text/markdown": [
       "#### Ejercicio:"
      ],
      "text/plain": [
       "<IPython.core.display.Markdown object>"
      ]
     },
     "metadata": {},
     "output_type": "display_data"
    },
    {
     "data": {
      "text/markdown": [
       "$f(x)=\\sqrt[3]{\\frac{x-1}{x}}$ $\\to$ $\\left(-\\infty, 0\\right) \\cup \\left(0, \\infty\\right)$"
      ],
      "text/plain": [
       "<IPython.core.display.Markdown object>"
      ]
     },
     "metadata": {},
     "output_type": "display_data"
    },
    {
     "name": "stdout",
     "output_type": "stream",
     "text": [
      "enunciado_latex: $f(x)=\\sqrt[3]{\\frac{x-1}{x}}$\n",
      "solucion_latex: $\\left(-\\infty, 0\\right) \\cup \\left(0, \\infty\\right)$\n"
     ]
    },
    {
     "data": {
      "text/markdown": [
       "#### Ejercicio:"
      ],
      "text/plain": [
       "<IPython.core.display.Markdown object>"
      ]
     },
     "metadata": {},
     "output_type": "display_data"
    },
    {
     "data": {
      "text/markdown": [
       "$f(x)=\\sqrt[4]{\\frac{x(x+7)}{x^2+5x+6}}$ $\\to$ $\\left(-\\infty, -3\\right) \\cup \\left(-3, -2\\right) \\cup \\left(-2, \\infty\\right)$"
      ],
      "text/plain": [
       "<IPython.core.display.Markdown object>"
      ]
     },
     "metadata": {},
     "output_type": "display_data"
    },
    {
     "name": "stdout",
     "output_type": "stream",
     "text": [
      "enunciado_latex: $f(x)=\\sqrt[4]{\\frac{x(x+7)}{x^2+5x+6}}$\n",
      "solucion_latex: $\\left(-\\infty, -3\\right) \\cup \\left(-3, -2\\right) \\cup \\left(-2, \\infty\\right)$\n"
     ]
    },
    {
     "data": {
      "text/markdown": [
       "#### Ejercicio:"
      ],
      "text/plain": [
       "<IPython.core.display.Markdown object>"
      ]
     },
     "metadata": {},
     "output_type": "display_data"
    },
    {
     "data": {
      "text/markdown": [
       "$f(x)=\\frac{x^3-6x^2+4x+8}{x^3-x^2-9x+9}$ $\\to$ $\\left(-\\infty, -3\\right) \\cup \\left(-3, 1\\right) \\cup \\left(1, 3\\right) \\cup \\left(3, \\infty\\right)$"
      ],
      "text/plain": [
       "<IPython.core.display.Markdown object>"
      ]
     },
     "metadata": {},
     "output_type": "display_data"
    },
    {
     "name": "stdout",
     "output_type": "stream",
     "text": [
      "enunciado_latex: $f(x)=\\frac{x^3-6x^2+4x+8}{x^3-x^2-9x+9}$\n",
      "solucion_latex: $\\left(-\\infty, -3\\right) \\cup \\left(-3, 1\\right) \\cup \\left(1, 3\\right) \\cup \\left(3, \\infty\\right)$\n"
     ]
    },
    {
     "data": {
      "text/markdown": [
       "#### Ejercicio:"
      ],
      "text/plain": [
       "<IPython.core.display.Markdown object>"
      ]
     },
     "metadata": {},
     "output_type": "display_data"
    },
    {
     "data": {
      "text/markdown": [
       "$f(x)=\\frac{1}{4x^2-1}$ $\\to$ $\\left(-\\infty, - \\frac{1}{2}\\right) \\cup \\left(- \\frac{1}{2}, \\frac{1}{2}\\right) \\cup \\left(\\frac{1}{2}, \\infty\\right)$"
      ],
      "text/plain": [
       "<IPython.core.display.Markdown object>"
      ]
     },
     "metadata": {},
     "output_type": "display_data"
    },
    {
     "name": "stdout",
     "output_type": "stream",
     "text": [
      "enunciado_latex: $f(x)=\\frac{1}{4x^2-1}$\n",
      "solucion_latex: $\\left(-\\infty, - \\frac{1}{2}\\right) \\cup \\left(- \\frac{1}{2}, \\frac{1}{2}\\right) \\cup \\left(\\frac{1}{2}, \\infty\\right)$\n"
     ]
    },
    {
     "data": {
      "text/markdown": [
       "#### Ejercicio:"
      ],
      "text/plain": [
       "<IPython.core.display.Markdown object>"
      ]
     },
     "metadata": {},
     "output_type": "display_data"
    },
    {
     "data": {
      "text/markdown": [
       "$f(x)=\\frac{1}{\\sqrt[4]{9-x^2}}$ $\\to$ $\\left(-\\infty, -3\\right) \\cup \\left(-3, 3\\right) \\cup \\left(3, \\infty\\right)$"
      ],
      "text/plain": [
       "<IPython.core.display.Markdown object>"
      ]
     },
     "metadata": {},
     "output_type": "display_data"
    },
    {
     "name": "stdout",
     "output_type": "stream",
     "text": [
      "enunciado_latex: $f(x)=\\frac{1}{\\sqrt[4]{9-x^2}}$\n",
      "solucion_latex: $\\left(-\\infty, -3\\right) \\cup \\left(-3, 3\\right) \\cup \\left(3, \\infty\\right)$\n"
     ]
    },
    {
     "data": {
      "text/markdown": [
       "#### Ejercicio:"
      ],
      "text/plain": [
       "<IPython.core.display.Markdown object>"
      ]
     },
     "metadata": {},
     "output_type": "display_data"
    },
    {
     "data": {
      "text/markdown": [
       "$f(x)=\\frac{2x+7}{\\sqrt[3]{9-x}}$ $\\to$ $\\left(-\\infty, 9\\right) \\cup \\left(9, \\infty\\right)$"
      ],
      "text/plain": [
       "<IPython.core.display.Markdown object>"
      ]
     },
     "metadata": {},
     "output_type": "display_data"
    },
    {
     "name": "stdout",
     "output_type": "stream",
     "text": [
      "enunciado_latex: $f(x)=\\frac{2x+7}{\\sqrt[3]{9-x}}$\n",
      "solucion_latex: $\\left(-\\infty, 9\\right) \\cup \\left(9, \\infty\\right)$\n"
     ]
    },
    {
     "data": {
      "text/markdown": [
       "#### Ejercicio:"
      ],
      "text/plain": [
       "<IPython.core.display.Markdown object>"
      ]
     },
     "metadata": {},
     "output_type": "display_data"
    },
    {
     "data": {
      "text/markdown": [
       "$f(x)=\\frac{x^2-5x+6}{\\sqrt{x^4-1}}$ $\\to$ $\\left(-\\infty, -1\\right) \\cup \\left(1, \\infty\\right)$"
      ],
      "text/plain": [
       "<IPython.core.display.Markdown object>"
      ]
     },
     "metadata": {},
     "output_type": "display_data"
    },
    {
     "name": "stdout",
     "output_type": "stream",
     "text": [
      "enunciado_latex: $f(x)=\\frac{x^2-5x+6}{\\sqrt{x^4-1}}$\n",
      "solucion_latex: $\\left(-\\infty, -1\\right) \\cup \\left(1, \\infty\\right)$\n"
     ]
    },
    {
     "data": {
      "text/markdown": [
       "#### Ejercicio:"
      ],
      "text/plain": [
       "<IPython.core.display.Markdown object>"
      ]
     },
     "metadata": {},
     "output_type": "display_data"
    },
    {
     "data": {
      "text/markdown": [
       "$f(x)=\\sqrt{-2x^2+5x-3}$ $\\to$ $\\left[1, \\frac{3}{2}\\right]$"
      ],
      "text/plain": [
       "<IPython.core.display.Markdown object>"
      ]
     },
     "metadata": {},
     "output_type": "display_data"
    },
    {
     "name": "stdout",
     "output_type": "stream",
     "text": [
      "enunciado_latex: $f(x)=\\sqrt{-2x^2+5x-3}$\n",
      "solucion_latex: $\\left[1, \\frac{3}{2}\\right]$\n"
     ]
    },
    {
     "data": {
      "text/markdown": [
       "#### Ejercicio:"
      ],
      "text/plain": [
       "<IPython.core.display.Markdown object>"
      ]
     },
     "metadata": {},
     "output_type": "display_data"
    },
    {
     "data": {
      "text/markdown": [
       "$f(x)=\\frac{x^2-3}{x^3-2x^2-x+2}$ $\\to$ $\\left(-\\infty, -1\\right) \\cup \\left(-1, 1\\right) \\cup \\left(1, 2\\right) \\cup \\left(2, \\infty\\right)$"
      ],
      "text/plain": [
       "<IPython.core.display.Markdown object>"
      ]
     },
     "metadata": {},
     "output_type": "display_data"
    },
    {
     "name": "stdout",
     "output_type": "stream",
     "text": [
      "enunciado_latex: $f(x)=\\frac{x^2-3}{x^3-2x^2-x+2}$\n",
      "solucion_latex: $\\left(-\\infty, -1\\right) \\cup \\left(-1, 1\\right) \\cup \\left(1, 2\\right) \\cup \\left(2, \\infty\\right)$\n"
     ]
    },
    {
     "data": {
      "text/markdown": [
       "#### Ejercicio:"
      ],
      "text/plain": [
       "<IPython.core.display.Markdown object>"
      ]
     },
     "metadata": {},
     "output_type": "display_data"
    },
    {
     "data": {
      "text/markdown": [
       "$f(x)=\\frac{5x^3-8}{1+x+x^2}$ $\\to$ $\\mathbb{R}$"
      ],
      "text/plain": [
       "<IPython.core.display.Markdown object>"
      ]
     },
     "metadata": {},
     "output_type": "display_data"
    },
    {
     "name": "stdout",
     "output_type": "stream",
     "text": [
      "enunciado_latex: $f(x)=\\frac{5x^3-8}{1+x+x^2}$\n",
      "solucion_latex: $\\mathbb{R}$\n"
     ]
    },
    {
     "data": {
      "text/markdown": [
       "#### Ejercicio:"
      ],
      "text/plain": [
       "<IPython.core.display.Markdown object>"
      ]
     },
     "metadata": {},
     "output_type": "display_data"
    },
    {
     "data": {
      "text/markdown": [
       "$f(x)=\\frac{x-1}{x^4-7x^2-144}$ $\\to$ $\\left(-\\infty, -4\\right) \\cup \\left(-4, 4\\right) \\cup \\left(4, \\infty\\right)$"
      ],
      "text/plain": [
       "<IPython.core.display.Markdown object>"
      ]
     },
     "metadata": {},
     "output_type": "display_data"
    },
    {
     "name": "stdout",
     "output_type": "stream",
     "text": [
      "enunciado_latex: $f(x)=\\frac{x-1}{x^4-7x^2-144}$\n",
      "solucion_latex: $\\left(-\\infty, -4\\right) \\cup \\left(-4, 4\\right) \\cup \\left(4, \\infty\\right)$\n"
     ]
    },
    {
     "data": {
      "text/markdown": [
       "#### Ejercicio:"
      ],
      "text/plain": [
       "<IPython.core.display.Markdown object>"
      ]
     },
     "metadata": {},
     "output_type": "display_data"
    },
    {
     "data": {
      "text/markdown": [
       "$f(x)=\\frac{7x+9}{81x^4-16}$ $\\to$ $\\left(-\\infty, - \\frac{2}{3}\\right) \\cup \\left(- \\frac{2}{3}, \\frac{2}{3}\\right) \\cup \\left(\\frac{2}{3}, \\infty\\right)$"
      ],
      "text/plain": [
       "<IPython.core.display.Markdown object>"
      ]
     },
     "metadata": {},
     "output_type": "display_data"
    },
    {
     "name": "stdout",
     "output_type": "stream",
     "text": [
      "enunciado_latex: $f(x)=\\frac{7x+9}{81x^4-16}$\n",
      "solucion_latex: $\\left(-\\infty, - \\frac{2}{3}\\right) \\cup \\left(- \\frac{2}{3}, \\frac{2}{3}\\right) \\cup \\left(\\frac{2}{3}, \\infty\\right)$\n"
     ]
    },
    {
     "data": {
      "text/markdown": [
       "#### Ejercicio:"
      ],
      "text/plain": [
       "<IPython.core.display.Markdown object>"
      ]
     },
     "metadata": {},
     "output_type": "display_data"
    },
    {
     "data": {
      "text/markdown": [
       "$f(x)=\\sqrt[3]{\\frac{x^6-5x+1}{x^2-4x+4}}$ $\\to$ $\\left(-\\infty, 2\\right) \\cup \\left(2, \\infty\\right)$"
      ],
      "text/plain": [
       "<IPython.core.display.Markdown object>"
      ]
     },
     "metadata": {},
     "output_type": "display_data"
    },
    {
     "name": "stdout",
     "output_type": "stream",
     "text": [
      "enunciado_latex: $f(x)=\\sqrt[3]{\\frac{x^6-5x+1}{x^2-4x+4}}$\n",
      "solucion_latex: $\\left(-\\infty, 2\\right) \\cup \\left(2, \\infty\\right)$\n"
     ]
    },
    {
     "data": {
      "text/markdown": [
       "#### Ejercicio:"
      ],
      "text/plain": [
       "<IPython.core.display.Markdown object>"
      ]
     },
     "metadata": {},
     "output_type": "display_data"
    },
    {
     "data": {
      "text/markdown": [
       "$f(x)=\\frac{\\sqrt{x^2-4x-5}}{x^2+2x+1}$ $\\to$ $\\left(-\\infty, -1\\right) \\cup \\left[5, \\infty\\right)$"
      ],
      "text/plain": [
       "<IPython.core.display.Markdown object>"
      ]
     },
     "metadata": {},
     "output_type": "display_data"
    },
    {
     "name": "stdout",
     "output_type": "stream",
     "text": [
      "enunciado_latex: $f(x)=\\frac{\\sqrt{x^2-4x-5}}{x^2+2x+1}$\n",
      "solucion_latex: $\\left(-\\infty, -1\\right) \\cup \\left[5, \\infty\\right)$\n"
     ]
    },
    {
     "data": {
      "text/markdown": [
       "#### Ejercicio:"
      ],
      "text/plain": [
       "<IPython.core.display.Markdown object>"
      ]
     },
     "metadata": {},
     "output_type": "display_data"
    },
    {
     "data": {
      "text/markdown": [
       "$f(x)=\\frac{1}{x^2+2x+1}$ $\\to$ $\\left(-\\infty, -1\\right) \\cup \\left(-1, \\infty\\right)$"
      ],
      "text/plain": [
       "<IPython.core.display.Markdown object>"
      ]
     },
     "metadata": {},
     "output_type": "display_data"
    },
    {
     "name": "stdout",
     "output_type": "stream",
     "text": [
      "enunciado_latex: $f(x)=\\frac{1}{x^2+2x+1}$\n",
      "solucion_latex: $\\left(-\\infty, -1\\right) \\cup \\left(-1, \\infty\\right)$\n"
     ]
    },
    {
     "data": {
      "text/markdown": [
       "#### Ejercicio:"
      ],
      "text/plain": [
       "<IPython.core.display.Markdown object>"
      ]
     },
     "metadata": {},
     "output_type": "display_data"
    },
    {
     "data": {
      "text/markdown": [
       "$f(x)=\\sqrt{x^2+2x-2}$ $\\to$ $\\left(-\\infty, - \\sqrt{3} - 1\\right] \\cup \\left[-1 + \\sqrt{3}, \\infty\\right)$"
      ],
      "text/plain": [
       "<IPython.core.display.Markdown object>"
      ]
     },
     "metadata": {},
     "output_type": "display_data"
    },
    {
     "name": "stdout",
     "output_type": "stream",
     "text": [
      "enunciado_latex: $f(x)=\\sqrt{x^2+2x-2}$\n",
      "solucion_latex: $\\left(-\\infty, - \\sqrt{3} - 1\\right] \\cup \\left[-1 + \\sqrt{3}, \\infty\\right)$\n"
     ]
    },
    {
     "data": {
      "text/markdown": [
       "#### Ejercicio:"
      ],
      "text/plain": [
       "<IPython.core.display.Markdown object>"
      ]
     },
     "metadata": {},
     "output_type": "display_data"
    },
    {
     "data": {
      "text/markdown": [
       "$f(x)=\\sqrt{\\frac{x^2+x}{x-2}}$ $\\to$ $\\left[-1, 0\\right] \\cup \\left(2, \\infty\\right)$"
      ],
      "text/plain": [
       "<IPython.core.display.Markdown object>"
      ]
     },
     "metadata": {},
     "output_type": "display_data"
    },
    {
     "name": "stdout",
     "output_type": "stream",
     "text": [
      "enunciado_latex: $f(x)=\\sqrt{\\frac{x^2+x}{x-2}}$\n",
      "solucion_latex: $\\left[-1, 0\\right] \\cup \\left(2, \\infty\\right)$\n"
     ]
    },
    {
     "data": {
      "text/markdown": [
       "#### Ejercicio:"
      ],
      "text/plain": [
       "<IPython.core.display.Markdown object>"
      ]
     },
     "metadata": {},
     "output_type": "display_data"
    },
    {
     "data": {
      "text/markdown": [
       "$f(x)=\\frac{x^4+2x+5}{x^4-9x^2+4x+12}$ $\\to$ $\\left(-\\infty, -3\\right) \\cup \\left(-3, -1\\right) \\cup \\left(-1, 2\\right) \\cup \\left(2, \\infty\\right)$"
      ],
      "text/plain": [
       "<IPython.core.display.Markdown object>"
      ]
     },
     "metadata": {},
     "output_type": "display_data"
    },
    {
     "name": "stdout",
     "output_type": "stream",
     "text": [
      "enunciado_latex: $f(x)=\\frac{x^4+2x+5}{x^4-9x^2+4x+12}$\n",
      "solucion_latex: $\\left(-\\infty, -3\\right) \\cup \\left(-3, -1\\right) \\cup \\left(-1, 2\\right) \\cup \\left(2, \\infty\\right)$\n"
     ]
    },
    {
     "data": {
      "text/markdown": [
       "#### Ejercicio:"
      ],
      "text/plain": [
       "<IPython.core.display.Markdown object>"
      ]
     },
     "metadata": {},
     "output_type": "display_data"
    },
    {
     "data": {
      "text/markdown": [
       "$f(x)=\\frac{2x+1}{x^{2} - 4 x + 3}$ $\\to$ $\\left(-\\infty, 1\\right) \\cup \\left(1, 3\\right) \\cup \\left(3, \\infty\\right)$"
      ],
      "text/plain": [
       "<IPython.core.display.Markdown object>"
      ]
     },
     "metadata": {},
     "output_type": "display_data"
    },
    {
     "name": "stdout",
     "output_type": "stream",
     "text": [
      "enunciado_latex: $f(x)=\\frac{2x+1}{x^{2} - 4 x + 3}$\n",
      "solucion_latex: $\\left(-\\infty, 1\\right) \\cup \\left(1, 3\\right) \\cup \\left(3, \\infty\\right)$\n"
     ]
    },
    {
     "data": {
      "text/markdown": [
       "#### Ejercicio:"
      ],
      "text/plain": [
       "<IPython.core.display.Markdown object>"
      ]
     },
     "metadata": {},
     "output_type": "display_data"
    },
    {
     "data": {
      "text/markdown": [
       "$f(x)=\\sqrt{x^2+3x+2}$ $\\to$ $\\left(-\\infty, -2\\right] \\cup \\left[-1, \\infty\\right)$"
      ],
      "text/plain": [
       "<IPython.core.display.Markdown object>"
      ]
     },
     "metadata": {},
     "output_type": "display_data"
    },
    {
     "name": "stdout",
     "output_type": "stream",
     "text": [
      "enunciado_latex: $f(x)=\\sqrt{x^2+3x+2}$\n",
      "solucion_latex: $\\left(-\\infty, -2\\right] \\cup \\left[-1, \\infty\\right)$\n"
     ]
    },
    {
     "data": {
      "text/markdown": [
       "#### Ejercicio:"
      ],
      "text/plain": [
       "<IPython.core.display.Markdown object>"
      ]
     },
     "metadata": {},
     "output_type": "display_data"
    },
    {
     "data": {
      "text/markdown": [
       "$f(x)=\\frac{2x-1}{x^{2} + 4 x + 3}$ $\\to$ $\\left(-\\infty, -3\\right) \\cup \\left(-3, -1\\right) \\cup \\left(-1, \\infty\\right)$"
      ],
      "text/plain": [
       "<IPython.core.display.Markdown object>"
      ]
     },
     "metadata": {},
     "output_type": "display_data"
    },
    {
     "name": "stdout",
     "output_type": "stream",
     "text": [
      "enunciado_latex: $f(x)=\\frac{2x-1}{x^{2} + 4 x + 3}$\n",
      "solucion_latex: $\\left(-\\infty, -3\\right) \\cup \\left(-3, -1\\right) \\cup \\left(-1, \\infty\\right)$\n"
     ]
    },
    {
     "data": {
      "text/markdown": [
       "#### Ejercicio:"
      ],
      "text/plain": [
       "<IPython.core.display.Markdown object>"
      ]
     },
     "metadata": {},
     "output_type": "display_data"
    },
    {
     "data": {
      "text/markdown": [
       "$f(x)=\\sqrt{x^{2} - 3 x + 2}$ $\\to$ $\\left(-\\infty, 1\\right] \\cup \\left[2, \\infty\\right)$"
      ],
      "text/plain": [
       "<IPython.core.display.Markdown object>"
      ]
     },
     "metadata": {},
     "output_type": "display_data"
    },
    {
     "name": "stdout",
     "output_type": "stream",
     "text": [
      "enunciado_latex: $f(x)=\\sqrt{x^{2} - 3 x + 2}$\n",
      "solucion_latex: $\\left(-\\infty, 1\\right] \\cup \\left[2, \\infty\\right)$\n"
     ]
    },
    {
     "data": {
      "text/markdown": [
       "#### Ejercicio:"
      ],
      "text/plain": [
       "<IPython.core.display.Markdown object>"
      ]
     },
     "metadata": {},
     "output_type": "display_data"
    },
    {
     "data": {
      "text/markdown": [
       "$f(x)=\\frac{1}{2-\\sqrt{x}}$ $\\to$ $\\left[0, 4\\right) \\cup \\left(4, \\infty\\right)$"
      ],
      "text/plain": [
       "<IPython.core.display.Markdown object>"
      ]
     },
     "metadata": {},
     "output_type": "display_data"
    },
    {
     "name": "stdout",
     "output_type": "stream",
     "text": [
      "enunciado_latex: $f(x)=\\frac{1}{2-\\sqrt{x}}$\n",
      "solucion_latex: $\\left[0, 4\\right) \\cup \\left(4, \\infty\\right)$\n"
     ]
    },
    {
     "data": {
      "text/markdown": [
       "#### Ejercicio:"
      ],
      "text/plain": [
       "<IPython.core.display.Markdown object>"
      ]
     },
     "metadata": {},
     "output_type": "display_data"
    },
    {
     "data": {
      "text/markdown": [
       "$f(x)=\\sqrt{\\frac{x^2-9}{1-x}}$ $\\to$ $\\left(-\\infty, -3\\right] \\cup \\left(1, 3\\right]$"
      ],
      "text/plain": [
       "<IPython.core.display.Markdown object>"
      ]
     },
     "metadata": {},
     "output_type": "display_data"
    },
    {
     "name": "stdout",
     "output_type": "stream",
     "text": [
      "enunciado_latex: $f(x)=\\sqrt{\\frac{x^2-9}{1-x}}$\n",
      "solucion_latex: $\\left(-\\infty, -3\\right] \\cup \\left(1, 3\\right]$\n"
     ]
    },
    {
     "data": {
      "text/markdown": [
       "#### Ejercicio:"
      ],
      "text/plain": [
       "<IPython.core.display.Markdown object>"
      ]
     },
     "metadata": {},
     "output_type": "display_data"
    },
    {
     "data": {
      "text/markdown": [
       "$f(x)=x^4-13x^2+36$ $\\to$ $\\mathbb{R}$"
      ],
      "text/plain": [
       "<IPython.core.display.Markdown object>"
      ]
     },
     "metadata": {},
     "output_type": "display_data"
    },
    {
     "name": "stdout",
     "output_type": "stream",
     "text": [
      "enunciado_latex: $f(x)=x^4-13x^2+36$\n",
      "solucion_latex: $\\mathbb{R}$\n",
      "\\question Calcular el dominio de las siguientes funciones:\\begin{parts} \\part[1] $f(x)=\\dfrac{x+13}{x^4+x^3-3x^2-3x}$\\begin{solution} $\\left(-\\infty, - \\sqrt{3}\\right) \\cup \\left(- \\sqrt{3}, -1\\right) \\cup \\left(-1, 0\\right) \\cup \\left(0, \\sqrt{3}\\right) \\cup \\left(\\sqrt{3}, \\infty\\right)$\\end{solution} \\part[1] $f(x)=x^6+x^2-2$\\begin{solution} $\\mathbb{R}$\\end{solution} \\part[1] $f(x)=\\dfrac{7x+9}{x^3+8}$\\begin{solution} $\\left(-\\infty, -2\\right) \\cup \\left(-2, \\infty\\right)$\\end{solution} \\part[1] $f(x)=\\sqrt{\\dfrac{x-1}{x}}$\\begin{solution} $\\left(-\\infty, 0\\right) \\cup \\left[1, \\infty\\right)$\\end{solution} \\part[1] $f(x)=\\sqrt[3]{\\dfrac{x-1}{x}}$\\begin{solution} $\\left(-\\infty, 0\\right) \\cup \\left(0, \\infty\\right)$\\end{solution} \\part[1] $f(x)=\\sqrt[4]{\\dfrac{x(x+7)}{x^2+5x+6}}$\\begin{solution} $\\left(-\\infty, -3\\right) \\cup \\left(-3, -2\\right) \\cup \\left(-2, \\infty\\right)$\\end{solution} \\part[1] $f(x)=\\dfrac{x^3-6x^2+4x+8}{x^3-x^2-9x+9}$\\begin{solution} $\\left(-\\infty, -3\\right) \\cup \\left(-3, 1\\right) \\cup \\left(1, 3\\right) \\cup \\left(3, \\infty\\right)$\\end{solution} \\part[1] $f(x)=\\dfrac{1}{4x^2-1}$\\begin{solution} $\\left(-\\infty, - \\dfrac{1}{2}\\right) \\cup \\left(- \\dfrac{1}{2}, \\dfrac{1}{2}\\right) \\cup \\left(\\dfrac{1}{2}, \\infty\\right)$\\end{solution} \\part[1] $f(x)=\\dfrac{1}{\\sqrt[4]{9-x^2}}$\\begin{solution} $\\left(-\\infty, -3\\right) \\cup \\left(-3, 3\\right) \\cup \\left(3, \\infty\\right)$\\end{solution} \\part[1] $f(x)=\\dfrac{2x+7}{\\sqrt[3]{9-x}}$\\begin{solution} $\\left(-\\infty, 9\\right) \\cup \\left(9, \\infty\\right)$\\end{solution} \\part[1] $f(x)=\\dfrac{x^2-5x+6}{\\sqrt{x^4-1}}$\\begin{solution} $\\left(-\\infty, -1\\right) \\cup \\left(1, \\infty\\right)$\\end{solution} \\part[1] $f(x)=\\sqrt{-2x^2+5x-3}$\\begin{solution} $\\left[1, \\dfrac{3}{2}\\right]$\\end{solution} \\part[1] $f(x)=\\dfrac{x^2-3}{x^3-2x^2-x+2}$\\begin{solution} $\\left(-\\infty, -1\\right) \\cup \\left(-1, 1\\right) \\cup \\left(1, 2\\right) \\cup \\left(2, \\infty\\right)$\\end{solution} \\part[1] $f(x)=\\dfrac{5x^3-8}{1+x+x^2}$\\begin{solution} $\\mathbb{R}$\\end{solution} \\part[1] $f(x)=\\dfrac{x-1}{x^4-7x^2-144}$\\begin{solution} $\\left(-\\infty, -4\\right) \\cup \\left(-4, 4\\right) \\cup \\left(4, \\infty\\right)$\\end{solution} \\part[1] $f(x)=\\dfrac{7x+9}{81x^4-16}$\\begin{solution} $\\left(-\\infty, - \\dfrac{2}{3}\\right) \\cup \\left(- \\dfrac{2}{3}, \\dfrac{2}{3}\\right) \\cup \\left(\\dfrac{2}{3}, \\infty\\right)$\\end{solution} \\part[1] $f(x)=\\sqrt[3]{\\dfrac{x^6-5x+1}{x^2-4x+4}}$\\begin{solution} $\\left(-\\infty, 2\\right) \\cup \\left(2, \\infty\\right)$\\end{solution} \\part[1] $f(x)=\\dfrac{\\sqrt{x^2-4x-5}}{x^2+2x+1}$\\begin{solution} $\\left(-\\infty, -1\\right) \\cup \\left[5, \\infty\\right)$\\end{solution} \\part[1] $f(x)=\\dfrac{1}{x^2+2x+1}$\\begin{solution} $\\left(-\\infty, -1\\right) \\cup \\left(-1, \\infty\\right)$\\end{solution} \\part[1] $f(x)=\\sqrt{x^2+2x-2}$\\begin{solution} $\\left(-\\infty, - \\sqrt{3} - 1\\right] \\cup \\left[-1 + \\sqrt{3}, \\infty\\right)$\\end{solution} \\part[1] $f(x)=\\sqrt{\\dfrac{x^2+x}{x-2}}$\\begin{solution} $\\left[-1, 0\\right] \\cup \\left(2, \\infty\\right)$\\end{solution} \\part[1] $f(x)=\\dfrac{x^4+2x+5}{x^4-9x^2+4x+12}$\\begin{solution} $\\left(-\\infty, -3\\right) \\cup \\left(-3, -1\\right) \\cup \\left(-1, 2\\right) \\cup \\left(2, \\infty\\right)$\\end{solution} \\part[1] $f(x)=\\dfrac{2x+1}{x^{2} - 4 x + 3}$\\begin{solution} $\\left(-\\infty, 1\\right) \\cup \\left(1, 3\\right) \\cup \\left(3, \\infty\\right)$\\end{solution} \\part[1] $f(x)=\\sqrt{x^2+3x+2}$\\begin{solution} $\\left(-\\infty, -2\\right] \\cup \\left[-1, \\infty\\right)$\\end{solution} \\part[1] $f(x)=\\dfrac{2x-1}{x^{2} + 4 x + 3}$\\begin{solution} $\\left(-\\infty, -3\\right) \\cup \\left(-3, -1\\right) \\cup \\left(-1, \\infty\\right)$\\end{solution} \\part[1] $f(x)=\\sqrt{x^{2} - 3 x + 2}$\\begin{solution} $\\left(-\\infty, 1\\right] \\cup \\left[2, \\infty\\right)$\\end{solution} \\part[1] $f(x)=\\dfrac{1}{2-\\sqrt{x}}$\\begin{solution} $\\left[0, 4\\right) \\cup \\left(4, \\infty\\right)$\\end{solution} \\part[1] $f(x)=\\sqrt{\\dfrac{x^2-9}{1-x}}$\\begin{solution} $\\left(-\\infty, -3\\right] \\cup \\left(1, 3\\right]$\\end{solution} \\part[1] $f(x)=x^4-13x^2+36$\\begin{solution} $\\mathbb{R}$\\end{solution} \\end{parts} \n"
     ]
    }
   ],
   "source": [
    "# Calcular el dominio de las siguientes funciones:\n",
    "\n",
    "# Ojo que las raíces cuartas no las hace bien\n",
    "\n",
    "texto_ejercicio = 'Calcular el dominio de las siguientes funciones:'\n",
    "display(md(\"**\"+texto_ejercicio+\"**\"))\n",
    "\n",
    "pre_enunciado_latex = [r'\\frac{x+13}{x^4+x^3-3x^2-3x}', \n",
    "                       r'x^6+x^2-2',r'\\frac{7x+9}{x^3+8}',\n",
    "                       r'\\sqrt{\\frac{x-1}{x}}', r'\\sqrt[3]{\\frac{x-1}{x}}', r'\\sqrt[4]{\\frac{x(x+7)}{x^2+5x+6}}',\n",
    "                       r'\\frac{x^3-6x^2+4x+8}{x^3-x^2-9x+9}',r'\\frac{1}{4x^2-1}',r'\\frac{1}{\\sqrt[4]{9-x^2}}',\n",
    "                       r'\\frac{2x+7}{\\sqrt[3]{9-x}}',r'\\frac{x^2-5x+6}{\\sqrt{x^4-1}}',r'\\sqrt{-2x^2+5x-3}',\n",
    "                       r'\\frac{x^2-3}{x^3-2x^2-x+2}',r'\\frac{5x^3-8}{1+x+x^2}',r'\\frac{x-1}{x^4-7x^2-144}',\n",
    "                       r'\\frac{7x+9}{81x^4-16}',\n",
    "                       r'\\sqrt[3]{\\frac{x^6-5x+1}{x^2-4x+4}}',\n",
    "                       r'\\frac{\\sqrt{x^2-4x-5}}{x^2+2x+1}',\n",
    "#                        Autoevaluacion\n",
    "                        r'\\frac{1}{x^2+2x+1}',r'\\sqrt{x^2+2x-2}',\n",
    "                       r'\\sqrt{\\frac{x^2+x}{x-2}}', r'\\frac{x^4+2x+5}{x^4-9x^2+4x+12}',\n",
    "#                        Examen\n",
    "                       r'\\frac{2x+1}{x^{2} - 4 x + 3}',r'\\sqrt{x^2+3x+2}',\n",
    "                       r'\\frac{2x-1}{x^{2} + 4 x + 3}',r'\\sqrt{x^{2} - 3 x + 2}',\n",
    "                       r'\\frac{1}{2-\\sqrt{x}}',\n",
    "                       # Examen alumno\n",
    "                       r'\\sqrt{\\frac{x^2-9}{1-x}}',r'x^4-13x^2+36'\n",
    "                       ]\n",
    "\n",
    "question=texto_ejercicio\n",
    "parts=[]\n",
    "for i in pre_enunciado_latex :\n",
    "    enun, sol =r\"$f(x)=\"+latex(parse_latex(i))+r\"$\",r\"$\"+latex(continuous_domain(parse_latex(i),x,S.Reals))+r\"$\"\n",
    "    enun, sol =r\"$f(x)=\"+i+r\"$\",r\"$\"+latex(continuous_domain(parse_latex(i),x,S.Reals))+r\"$\"\n",
    "    mostrar_ejercicio(enun, sol) \n",
    "    parts.append([enun, sol])\n",
    "#     plot_implicit(Eq(y,parse_latex(i)))               \n",
    "\n",
    "\n",
    "print(latex_exam(question, parts).replace(r'\\frac',r'\\dfrac'))"
   ]
  },
  {
   "cell_type": "code",
   "execution_count": 7,
   "metadata": {},
   "outputs": [
    {
     "data": {
      "image/png": "[encoded data removed]",
      "text/latex": [
       "$\\displaystyle x^{2} - 13 x + 36$"
      ],
      "text/plain": [
       " 2            \n",
       "x  - 13⋅x + 36"
      ]
     },
     "execution_count": 7,
     "metadata": {},
     "output_type": "execute_result"
    }
   ],
   "source": [
    "expand((x-4)*(x-9))"
   ]
  },
  {
   "cell_type": "code",
   "execution_count": 8,
   "metadata": {
    "id": "AWT_iB0hR8Wj",
    "outputId": "7a1acd06-ae5c-475c-de75-bc0f58ef2169"
   },
   "outputs": [
    {
     "name": "stdout",
     "output_type": "stream",
     "text": [
      "(x(x + 7)/(x**2 + 5*x + 6))**(1/4)\n"
     ]
    },
    {
     "data": {
      "image/png": "[encoded data removed]",
      "text/latex": [
       "$\\displaystyle \\left\\{0\\right\\}$"
      ],
      "text/plain": [
       "{0}"
      ]
     },
     "execution_count": 8,
     "metadata": {},
     "output_type": "execute_result"
    }
   ],
   "source": [
    "# Esto lo hace mal, se olvida de la raíz cuarta\n",
    "\n",
    "print(parse_latex(r'\\sqrt[4]{\\frac{x(x+7)}{x^2+5x+6}}'))\n",
    "expr=(x*(x + 7)/(x**2 + 5*x + 6))**(1/4)\n",
    "expr2=(x*(x + 7)/(x**2 + 5*x + 6))\n",
    "continuous_domain(expr,x,S.Reals), continuous_domain(expr,x,S.Reals), continuous_domain(root(x,4),x,S.Reals)\n",
    "singularities(sqrt(1/x),x)\n"
   ]
  },
  {
   "cell_type": "code",
   "execution_count": 9,
   "metadata": {
    "id": "Ro-UfvZlR8Wn",
    "outputId": "02637853-0cf4-466a-dbc3-1016902b2554",
    "scrolled": false
   },
   "outputs": [
    {
     "data": {
      "text/markdown": [
       "**Representa las siguientes funciones a trozos e indica sus propiedades:**"
      ],
      "text/plain": [
       "<IPython.core.display.Markdown object>"
      ]
     },
     "metadata": {},
     "output_type": "display_data"
    },
    {
     "name": "stderr",
     "output_type": "stream",
     "text": [
      "/home/hp/Mis_aplicaciones/anaconda3/lib/python3.6/site-packages/sympy/plotting/plot.py:1411: RuntimeWarning: invalid value encountered in double_scalars\n",
      "  cos_theta = dot_product / (vector_a_norm * vector_b_norm)\n"
     ]
    },
    {
     "data": {
      "text/markdown": [
       "#### Ejercicio:"
      ],
      "text/plain": [
       "<IPython.core.display.Markdown object>"
      ]
     },
     "metadata": {},
     "output_type": "display_data"
    },
    {
     "data": {
      "text/markdown": [
       "$f(x)=\\begin{cases} 2 x + 2 & \\text{for}\\: x \\leq -1 \\\\x^{2} - 2 x & \\text{otherwise} \\end{cases}$ $\\to$ \\scalebox{.6}{\\includegraphics[width=1\\columnwidth]{ex_funcion_a_trozos_0}}"
      ],
      "text/plain": [
       "<IPython.core.display.Markdown object>"
      ]
     },
     "metadata": {},
     "output_type": "display_data"
    },
    {
     "name": "stdout",
     "output_type": "stream",
     "text": [
      "enunciado_latex: $f(x)=\\begin{cases} 2 x + 2 & \\text{for}\\: x \\leq -1 \\\\x^{2} - 2 x & \\text{otherwise} \\end{cases}$\n",
      "solucion_latex: \\scalebox{.6}{\\includegraphics[width=1\\columnwidth]{ex_funcion_a_trozos_0}}\n"
     ]
    },
    {
     "data": {
      "text/markdown": [
       "#### Ejercicio:"
      ],
      "text/plain": [
       "<IPython.core.display.Markdown object>"
      ]
     },
     "metadata": {},
     "output_type": "display_data"
    },
    {
     "data": {
      "text/markdown": [
       "$f(x)=\\begin{cases} 3 - 2 x & \\text{for}\\: x < 1 \\\\x^{2} - 6 x + 8 & \\text{otherwise} \\end{cases}$ $\\to$ \\scalebox{.6}{\\includegraphics[width=1\\columnwidth]{ex_funcion_a_trozos_1}}"
      ],
      "text/plain": [
       "<IPython.core.display.Markdown object>"
      ]
     },
     "metadata": {},
     "output_type": "display_data"
    },
    {
     "name": "stdout",
     "output_type": "stream",
     "text": [
      "enunciado_latex: $f(x)=\\begin{cases} 3 - 2 x & \\text{for}\\: x < 1 \\\\x^{2} - 6 x + 8 & \\text{otherwise} \\end{cases}$\n",
      "solucion_latex: \\scalebox{.6}{\\includegraphics[width=1\\columnwidth]{ex_funcion_a_trozos_1}}\n"
     ]
    },
    {
     "data": {
      "text/markdown": [
       "#### Ejercicio:"
      ],
      "text/plain": [
       "<IPython.core.display.Markdown object>"
      ]
     },
     "metadata": {},
     "output_type": "display_data"
    },
    {
     "data": {
      "text/markdown": [
       "$f(x)=\\begin{cases} 2 x - 3 & \\text{for}\\: x \\leq -1 \\\\- x^{2} + 2 x & \\text{otherwise} \\end{cases}$ $\\to$ \\scalebox{.6}{\\includegraphics[width=1\\columnwidth]{ex_funcion_a_trozos_2}}"
      ],
      "text/plain": [
       "<IPython.core.display.Markdown object>"
      ]
     },
     "metadata": {},
     "output_type": "display_data"
    },
    {
     "name": "stdout",
     "output_type": "stream",
     "text": [
      "enunciado_latex: $f(x)=\\begin{cases} 2 x - 3 & \\text{for}\\: x \\leq -1 \\\\- x^{2} + 2 x & \\text{otherwise} \\end{cases}$\n",
      "solucion_latex: \\scalebox{.6}{\\includegraphics[width=1\\columnwidth]{ex_funcion_a_trozos_2}}\n"
     ]
    },
    {
     "data": {
      "text/markdown": [
       "#### Ejercicio:"
      ],
      "text/plain": [
       "<IPython.core.display.Markdown object>"
      ]
     },
     "metadata": {},
     "output_type": "display_data"
    },
    {
     "data": {
      "text/markdown": [
       "$f(x)=\\begin{cases} 3 - 2 x & \\text{for}\\: x < 1 \\\\- x^{2} + 6 x - 8 & \\text{otherwise} \\end{cases}$ $\\to$ \\scalebox{.6}{\\includegraphics[width=1\\columnwidth]{ex_funcion_a_trozos_3}}"
      ],
      "text/plain": [
       "<IPython.core.display.Markdown object>"
      ]
     },
     "metadata": {},
     "output_type": "display_data"
    },
    {
     "name": "stdout",
     "output_type": "stream",
     "text": [
      "enunciado_latex: $f(x)=\\begin{cases} 3 - 2 x & \\text{for}\\: x < 1 \\\\- x^{2} + 6 x - 8 & \\text{otherwise} \\end{cases}$\n",
      "solucion_latex: \\scalebox{.6}{\\includegraphics[width=1\\columnwidth]{ex_funcion_a_trozos_3}}\n"
     ]
    },
    {
     "data": {
      "text/markdown": [
       "#### Ejercicio:"
      ],
      "text/plain": [
       "<IPython.core.display.Markdown object>"
      ]
     },
     "metadata": {},
     "output_type": "display_data"
    },
    {
     "data": {
      "text/markdown": [
       "$f(x)=\\begin{cases} 2 x + 3 & \\text{for}\\: x < -2 \\\\3 & \\text{for}\\: x \\leq 2 \\\\3 - x & \\text{otherwise} \\end{cases}$ $\\to$ \\scalebox{.6}{\\includegraphics[width=1\\columnwidth]{ex_funcion_a_trozos_4}}"
      ],
      "text/plain": [
       "<IPython.core.display.Markdown object>"
      ]
     },
     "metadata": {},
     "output_type": "display_data"
    },
    {
     "name": "stdout",
     "output_type": "stream",
     "text": [
      "enunciado_latex: $f(x)=\\begin{cases} 2 x + 3 & \\text{for}\\: x < -2 \\\\3 & \\text{for}\\: x \\leq 2 \\\\3 - x & \\text{otherwise} \\end{cases}$\n",
      "solucion_latex: \\scalebox{.6}{\\includegraphics[width=1\\columnwidth]{ex_funcion_a_trozos_4}}\n"
     ]
    },
    {
     "data": {
      "text/markdown": [
       "#### Ejercicio:"
      ],
      "text/plain": [
       "<IPython.core.display.Markdown object>"
      ]
     },
     "metadata": {},
     "output_type": "display_data"
    },
    {
     "data": {
      "text/markdown": [
       "$f(x)=\\begin{cases} 3 - 2 x & \\text{for}\\: x < -1 \\\\3 & \\text{for}\\: x \\leq 3 \\\\x + 3 & \\text{otherwise} \\end{cases}$ $\\to$ \\scalebox{.6}{\\includegraphics[width=1\\columnwidth]{ex_funcion_a_trozos_5}}"
      ],
      "text/plain": [
       "<IPython.core.display.Markdown object>"
      ]
     },
     "metadata": {},
     "output_type": "display_data"
    },
    {
     "name": "stdout",
     "output_type": "stream",
     "text": [
      "enunciado_latex: $f(x)=\\begin{cases} 3 - 2 x & \\text{for}\\: x < -1 \\\\3 & \\text{for}\\: x \\leq 3 \\\\x + 3 & \\text{otherwise} \\end{cases}$\n",
      "solucion_latex: \\scalebox{.6}{\\includegraphics[width=1\\columnwidth]{ex_funcion_a_trozos_5}}\n"
     ]
    },
    {
     "data": {
      "text/markdown": [
       "#### Ejercicio:"
      ],
      "text/plain": [
       "<IPython.core.display.Markdown object>"
      ]
     },
     "metadata": {},
     "output_type": "display_data"
    },
    {
     "data": {
      "text/markdown": [
       "$f(x)=\\begin{cases} 2 x - 4 & \\text{for}\\: x < -2 \\\\- x^{2} + 4 x - 3 & \\text{for}\\: x < 3 \\\\3 & \\text{for}\\: x > 3 \\end{cases}$ $\\to$ \\scalebox{.6}{\\includegraphics[width=1\\columnwidth]{ex_funcion_a_trozos_6}}"
      ],
      "text/plain": [
       "<IPython.core.display.Markdown object>"
      ]
     },
     "metadata": {},
     "output_type": "display_data"
    },
    {
     "name": "stdout",
     "output_type": "stream",
     "text": [
      "enunciado_latex: $f(x)=\\begin{cases} 2 x - 4 & \\text{for}\\: x < -2 \\\\- x^{2} + 4 x - 3 & \\text{for}\\: x < 3 \\\\3 & \\text{for}\\: x > 3 \\end{cases}$\n",
      "solucion_latex: \\scalebox{.6}{\\includegraphics[width=1\\columnwidth]{ex_funcion_a_trozos_6}}\n"
     ]
    },
    {
     "data": {
      "text/markdown": [
       "#### Ejercicio:"
      ],
      "text/plain": [
       "<IPython.core.display.Markdown object>"
      ]
     },
     "metadata": {},
     "output_type": "display_data"
    },
    {
     "data": {
      "text/markdown": [
       "$f(x)=\\begin{cases} 4 - x & \\text{for}\\: x < -2 \\\\- x^{2} + 4 x - 3 & \\text{for}\\: x < 3 \\\\1 & \\text{for}\\: x > 3 \\end{cases}$ $\\to$ \\scalebox{.6}{\\includegraphics[width=1\\columnwidth]{ex_funcion_a_trozos_7}}"
      ],
      "text/plain": [
       "<IPython.core.display.Markdown object>"
      ]
     },
     "metadata": {},
     "output_type": "display_data"
    },
    {
     "name": "stdout",
     "output_type": "stream",
     "text": [
      "enunciado_latex: $f(x)=\\begin{cases} 4 - x & \\text{for}\\: x < -2 \\\\- x^{2} + 4 x - 3 & \\text{for}\\: x < 3 \\\\1 & \\text{for}\\: x > 3 \\end{cases}$\n",
      "solucion_latex: \\scalebox{.6}{\\includegraphics[width=1\\columnwidth]{ex_funcion_a_trozos_7}}\n",
      "\\question Representa las siguientes funciones a trozos e indica sus propiedades:\\begin{parts} \\part[1] $f(x)=\\begin{cases} 2 x + 2 & \\text{for}\\: x \\leq -1 \\\\x^{2} - 2 x & \\text{otherwise} \\end{cases}$\\begin{solution} \\scalebox{.6}{\\includegraphics[width=1\\columnwidth]{ex_funcion_a_trozos_0}}\\end{solution} \\part[1] $f(x)=\\begin{cases} 3 - 2 x & \\text{for}\\: x < 1 \\\\x^{2} - 6 x + 8 & \\text{otherwise} \\end{cases}$\\begin{solution} \\scalebox{.6}{\\includegraphics[width=1\\columnwidth]{ex_funcion_a_trozos_1}}\\end{solution} \\part[1] $f(x)=\\begin{cases} 2 x - 3 & \\text{for}\\: x \\leq -1 \\\\- x^{2} + 2 x & \\text{otherwise} \\end{cases}$\\begin{solution} \\scalebox{.6}{\\includegraphics[width=1\\columnwidth]{ex_funcion_a_trozos_2}}\\end{solution} \\part[1] $f(x)=\\begin{cases} 3 - 2 x & \\text{for}\\: x < 1 \\\\- x^{2} + 6 x - 8 & \\text{otherwise} \\end{cases}$\\begin{solution} \\scalebox{.6}{\\includegraphics[width=1\\columnwidth]{ex_funcion_a_trozos_3}}\\end{solution} \\part[1] $f(x)=\\begin{cases} 2 x + 3 & \\text{for}\\: x < -2 \\\\3 & \\text{for}\\: x \\leq 2 \\\\3 - x & \\text{otherwise} \\end{cases}$\\begin{solution} \\scalebox{.6}{\\includegraphics[width=1\\columnwidth]{ex_funcion_a_trozos_4}}\\end{solution} \\part[1] $f(x)=\\begin{cases} 3 - 2 x & \\text{for}\\: x < -1 \\\\3 & \\text{for}\\: x \\leq 3 \\\\x + 3 & \\text{otherwise} \\end{cases}$\\begin{solution} \\scalebox{.6}{\\includegraphics[width=1\\columnwidth]{ex_funcion_a_trozos_5}}\\end{solution} \\part[1] $f(x)=\\begin{cases} 2 x - 4 & \\text{for}\\: x < -2 \\\\- x^{2} + 4 x - 3 & \\text{for}\\: x < 3 \\\\3 & \\text{for}\\: x > 3 \\end{cases}$\\begin{solution} \\scalebox{.6}{\\includegraphics[width=1\\columnwidth]{ex_funcion_a_trozos_6}}\\end{solution} \\part[1] $f(x)=\\begin{cases} 4 - x & \\text{for}\\: x < -2 \\\\- x^{2} + 4 x - 3 & \\text{for}\\: x < 3 \\\\1 & \\text{for}\\: x > 3 \\end{cases}$\\begin{solution} \\scalebox{.6}{\\includegraphics[width=1\\columnwidth]{ex_funcion_a_trozos_7}}\\end{solution} \\end{parts} \n"
     ]
    }
   ],
   "source": [
    "texto_ejercicio = 'Representa las siguientes funciones a trozos e indica sus propiedades:'\n",
    "display(md(\"**\"+texto_ejercicio+\"**\"))\n",
    "\n",
    "enunciado = [\n",
    "#              Piecewise((4,x<-2),(-x**2,x<4),(2*x-3,x>=4)),\n",
    "#              Piecewise((2*x,x<-3),(x**2-2*x-8,x<=3),(2*x-3,x>3)),\n",
    "#              Piecewise((x+1,x<=0),(x**2-4*x+3,x>0)),\n",
    "# #            Autoevaluacion  \n",
    "#              Piecewise((-2,x<-2),(-x**2,x<3),(2*x-3,x>=3)),\n",
    "#              Piecewise((-3*x,x<-2),(x**2-2*x-8,x<=4),(2*x-1,x>4)),\n",
    "#              Piecewise((x+1,x<=-1),(x**2-4*x+3,x>-1)),\n",
    "#         Examen\n",
    "             Piecewise((2*x+2,x<=-1),(x**2 - 2* x,x>-1)),\n",
    "             Piecewise((-2*x+3,x<1),(x**2-6*x+8,x>=1)),\n",
    "             Piecewise((2*x-3,x<=-1),(-x**2 + 2* x,x>-1)),\n",
    "             Piecewise((-2*x+3,x<1),(-x**2+6*x-8,x>=1)),\n",
    "             Piecewise((2*x+3,x<-2),(3,x<=2),(-x+3,x>2)),\n",
    "             Piecewise((-2*x+3,x<-1),(3,x<=3),(x+3,x>3)),\n",
    "    \n",
    "#     Examen extra\n",
    "                Piecewise((2*x-4,x<-2),(-x**2+4*x-3,x<3),(3,x>3)),\n",
    "                Piecewise((-x+4,x<-2),(-x**2+4*x-3,x<3),(1,x>3)),\n",
    "                       ]\n",
    "question=texto_ejercicio\n",
    "parts=[]\n",
    "sz=20\n",
    "\n",
    "for n,i in enumerate(enunciado) :\n",
    "#     enun, sol =r\"$f(x)=\"+latex(i)+r\"$\",r\"\"\"\\scalebox{.6}{\\input{funcion_a_trozos_\"\"\"+latex(n)+r\"\"\".pgf}}\"\"\"\n",
    "#     enun, sol =r\"$f(x)=\"+latex(i)+r\"$\",r\"\"\"\\scalebox{.6}{\\includegraphics[width=1\\columnwidth]{funcion_a_trozos_\"\"\"+latex(n)+r\"\"\"}}\"\"\"\n",
    "    enun, sol =r\"$f(x)=\"+latex(i)+r\"$\",r\"\"\"\\scalebox{.6}{\\includegraphics[width=1\\columnwidth]{ex_funcion_a_trozos_\"\"\"+latex(n)+r\"\"\"}}\"\"\"\n",
    "\n",
    "    fg = grafica_funcion_trozos(i)[1]\n",
    "#    fg.savefig(\"funcion_a_trozos_{}.pgf\".format(n))\n",
    "#     fg.savefig(\"funcion_a_trozos_{}.png\".format(n))\n",
    "    fg.savefig(\"ex_funcion_a_trozos_{}.png\".format(n))\n",
    "\n",
    "    mostrar_ejercicio(enun, sol) \n",
    "    parts.append([enun, sol])          \n",
    "\n",
    "print(latex_exam(question, parts).replace(r'\\frac',r'\\dfrac'))"
   ]
  },
  {
   "cell_type": "code",
   "execution_count": 10,
   "metadata": {},
   "outputs": [
    {
     "data": {
      "image/png": "[encoded data removed]",
      "text/latex": [
       "$\\displaystyle - x^{2} + 4 x - 3$"
      ],
      "text/plain": [
       "   2          \n",
       "- x  + 4⋅x - 3"
      ]
     },
     "execution_count": 10,
     "metadata": {},
     "output_type": "execute_result"
    }
   ],
   "source": [
    "expand((x-1)*(3-x))"
   ]
  },
  {
   "cell_type": "code",
   "execution_count": 11,
   "metadata": {},
   "outputs": [
    {
     "data": {
      "image/png": "[encoded data removed]",
      "text/latex": [
       "$\\displaystyle \\left[ 2, \\  4\\right]$"
      ],
      "text/plain": [
       "[2, 4]"
      ]
     },
     "execution_count": 11,
     "metadata": {},
     "output_type": "execute_result"
    }
   ],
   "source": [
    "expand(x*(x-2)), expand((x-1)**2-2*(x-1))\n",
    "solve(x**2-6*x+8)"
   ]
  },
  {
   "cell_type": "code",
   "execution_count": 12,
   "metadata": {
    "id": "4y-of9fhR8Wo",
    "outputId": "f1e236ab-a3b4-44cd-c2cc-0a985b608d86"
   },
   "outputs": [
    {
     "data": {
      "text/markdown": [
       "**Representa las siguientes funciones e indica sus propiedades**"
      ],
      "text/plain": [
       "<IPython.core.display.Markdown object>"
      ]
     },
     "metadata": {},
     "output_type": "display_data"
    },
    {
     "data": {
      "text/markdown": [
       "#### Ejercicio:"
      ],
      "text/plain": [
       "<IPython.core.display.Markdown object>"
      ]
     },
     "metadata": {},
     "output_type": "display_data"
    },
    {
     "data": {
      "text/markdown": [
       "$f(x)=x^2-4x-5$ $\\to$ \\scalebox{.99}{\\includegraphics[width=1\\columnwidth]{funcion_0.png}}"
      ],
      "text/plain": [
       "<IPython.core.display.Markdown object>"
      ]
     },
     "metadata": {},
     "output_type": "display_data"
    },
    {
     "name": "stdout",
     "output_type": "stream",
     "text": [
      "enunciado_latex: $f(x)=x^2-4x-5$\n",
      "solucion_latex: \\scalebox{.99}{\\includegraphics[width=1\\columnwidth]{funcion_0.png}}\n"
     ]
    },
    {
     "data": {
      "text/markdown": [
       "#### Ejercicio:"
      ],
      "text/plain": [
       "<IPython.core.display.Markdown object>"
      ]
     },
     "metadata": {},
     "output_type": "display_data"
    },
    {
     "data": {
      "text/markdown": [
       "$f(x)=-x^2-5x+6$ $\\to$ \\scalebox{.99}{\\includegraphics[width=1\\columnwidth]{funcion_1.png}}"
      ],
      "text/plain": [
       "<IPython.core.display.Markdown object>"
      ]
     },
     "metadata": {},
     "output_type": "display_data"
    },
    {
     "name": "stdout",
     "output_type": "stream",
     "text": [
      "enunciado_latex: $f(x)=-x^2-5x+6$\n",
      "solucion_latex: \\scalebox{.99}{\\includegraphics[width=1\\columnwidth]{funcion_1.png}}\n"
     ]
    },
    {
     "data": {
      "text/markdown": [
       "#### Ejercicio:"
      ],
      "text/plain": [
       "<IPython.core.display.Markdown object>"
      ]
     },
     "metadata": {},
     "output_type": "display_data"
    },
    {
     "data": {
      "text/markdown": [
       "$f(x)=-x^2+4x+5$ $\\to$ \\scalebox{.99}{\\includegraphics[width=1\\columnwidth]{funcion_2.png}}"
      ],
      "text/plain": [
       "<IPython.core.display.Markdown object>"
      ]
     },
     "metadata": {},
     "output_type": "display_data"
    },
    {
     "name": "stdout",
     "output_type": "stream",
     "text": [
      "enunciado_latex: $f(x)=-x^2+4x+5$\n",
      "solucion_latex: \\scalebox{.99}{\\includegraphics[width=1\\columnwidth]{funcion_2.png}}\n"
     ]
    },
    {
     "data": {
      "text/markdown": [
       "#### Ejercicio:"
      ],
      "text/plain": [
       "<IPython.core.display.Markdown object>"
      ]
     },
     "metadata": {},
     "output_type": "display_data"
    },
    {
     "data": {
      "text/markdown": [
       "$f(x)=-x^2+4x+5$ $\\to$ \\scalebox{.99}{\\includegraphics[width=1\\columnwidth]{funcion_3.png}}"
      ],
      "text/plain": [
       "<IPython.core.display.Markdown object>"
      ]
     },
     "metadata": {},
     "output_type": "display_data"
    },
    {
     "name": "stdout",
     "output_type": "stream",
     "text": [
      "enunciado_latex: $f(x)=-x^2+4x+5$\n",
      "solucion_latex: \\scalebox{.99}{\\includegraphics[width=1\\columnwidth]{funcion_3.png}}\n"
     ]
    },
    {
     "data": {
      "text/markdown": [
       "#### Ejercicio:"
      ],
      "text/plain": [
       "<IPython.core.display.Markdown object>"
      ]
     },
     "metadata": {},
     "output_type": "display_data"
    },
    {
     "data": {
      "text/markdown": [
       "$f(x)=\\frac{2x-1}{x+1}$ $\\to$ \\scalebox{.99}{\\includegraphics[width=1\\columnwidth]{funcion_4.png}}"
      ],
      "text/plain": [
       "<IPython.core.display.Markdown object>"
      ]
     },
     "metadata": {},
     "output_type": "display_data"
    },
    {
     "name": "stdout",
     "output_type": "stream",
     "text": [
      "enunciado_latex: $f(x)=\\frac{2x-1}{x+1}$\n",
      "solucion_latex: \\scalebox{.99}{\\includegraphics[width=1\\columnwidth]{funcion_4.png}}\n"
     ]
    },
    {
     "data": {
      "text/markdown": [
       "#### Ejercicio:"
      ],
      "text/plain": [
       "<IPython.core.display.Markdown object>"
      ]
     },
     "metadata": {},
     "output_type": "display_data"
    },
    {
     "data": {
      "text/markdown": [
       "$f(x)=- 2 x^{2} - 2 x + 4$ $\\to$ \\scalebox{.99}{\\includegraphics[width=1\\columnwidth]{funcion_5.png}}"
      ],
      "text/plain": [
       "<IPython.core.display.Markdown object>"
      ]
     },
     "metadata": {},
     "output_type": "display_data"
    },
    {
     "name": "stdout",
     "output_type": "stream",
     "text": [
      "enunciado_latex: $f(x)=- 2 x^{2} - 2 x + 4$\n",
      "solucion_latex: \\scalebox{.99}{\\includegraphics[width=1\\columnwidth]{funcion_5.png}}\n"
     ]
    },
    {
     "data": {
      "text/markdown": [
       "#### Ejercicio:"
      ],
      "text/plain": [
       "<IPython.core.display.Markdown object>"
      ]
     },
     "metadata": {},
     "output_type": "display_data"
    },
    {
     "data": {
      "text/markdown": [
       "$f(x)=x^2-2x+4$ $\\to$ \\scalebox{.99}{\\includegraphics[width=1\\columnwidth]{funcion_6.png}}"
      ],
      "text/plain": [
       "<IPython.core.display.Markdown object>"
      ]
     },
     "metadata": {},
     "output_type": "display_data"
    },
    {
     "name": "stdout",
     "output_type": "stream",
     "text": [
      "enunciado_latex: $f(x)=x^2-2x+4$\n",
      "solucion_latex: \\scalebox{.99}{\\includegraphics[width=1\\columnwidth]{funcion_6.png}}\n",
      "\\question Representa las siguientes funciones e indica sus propiedades\\begin{parts} \\part[1] $f(x)=x^2-4x-5$\\begin{solution} \\scalebox{.99}{\\includegraphics[width=1\\columnwidth]{funcion_0.png}}\\end{solution} \\part[1] $f(x)=-x^2-5x+6$\\begin{solution} \\scalebox{.99}{\\includegraphics[width=1\\columnwidth]{funcion_1.png}}\\end{solution} \\part[1] $f(x)=-x^2+4x+5$\\begin{solution} \\scalebox{.99}{\\includegraphics[width=1\\columnwidth]{funcion_2.png}}\\end{solution} \\part[1] $f(x)=-x^2+4x+5$\\begin{solution} \\scalebox{.99}{\\includegraphics[width=1\\columnwidth]{funcion_3.png}}\\end{solution} \\part[1] $f(x)=\\dfrac{2x-1}{x+1}$\\begin{solution} \\scalebox{.99}{\\includegraphics[width=1\\columnwidth]{funcion_4.png}}\\end{solution} \\part[1] $f(x)=- 2 x^{2} - 2 x + 4$\\begin{solution} \\scalebox{.99}{\\includegraphics[width=1\\columnwidth]{funcion_5.png}}\\end{solution} \\part[1] $f(x)=x^2-2x+4$\\begin{solution} \\scalebox{.99}{\\includegraphics[width=1\\columnwidth]{funcion_6.png}}\\end{solution} \\end{parts} \n"
     ]
    }
   ],
   "source": [
    "texto_ejercicio = 'Representa las siguientes funciones e indica sus propiedades'\n",
    "display(md(\"**\"+texto_ejercicio+\"**\"))\n",
    "\n",
    "pre_enunciado_latex = [r'x^2-4x-5', r'-x^2-5x+6',r'-x^2+4x+5',\n",
    "#                        autoevaluación\n",
    "                       r'-x^2+4x+5', r'\\frac{2x-1}{x+1}',r'- 2 x^{2} - 2 x + 4',r'x^2-2x+4'\n",
    "\n",
    "                       \n",
    "                       ]\n",
    "question=texto_ejercicio\n",
    "parts=[]\n",
    "sz=20\n",
    "\n",
    "for n,i in enumerate(pre_enunciado_latex) :\n",
    "#     enun, sol =r\"$f(x)=\"+i+r\"$\",r\"\"\"\\scalebox{.6}{\\input{funcion_\"\"\"+latex(n)+r\"\"\".pgf}}\"\"\"\n",
    "    enun, sol =r\"$f(x)=\"+i+r\"$\",r\"\"\"\\scalebox{.99}{\\includegraphics[width=1\\columnwidth]{funcion_\"\"\"+latex(n)+r\"\"\".png}}\"\"\"\n",
    "    p= plot_implicit(Eq(y,parse_latex(i)),(x,-sz,sz),(y,-sz,sz))\n",
    "    fg = p._backend.fig \n",
    "    ax = p._backend.ax\n",
    "    ax[0].set_xlim(-sz,sz)\n",
    "    ax[0].set_ylim(-sz,sz)\n",
    "    ax[0].set_aspect('equal')\n",
    "    plt.grid(True)\n",
    "#     fg.savefig(\"funcion_{}.pgf\".format(n))\n",
    "    fg.savefig(\"funcion_{}.png\".format(n))\n",
    "    mostrar_ejercicio(enun, sol) \n",
    "    parts.append([enun, sol])          \n",
    "\n",
    "print(latex_exam(question, parts).replace(r'\\frac',r'\\dfrac'))"
   ]
  }
 ],
 "metadata": {
  "colab": {
   "name": "7 Sistemas.ipynb",
   "provenance": []
  },
  "kernelspec": {
   "display_name": "Python 3",
   "language": "python",
   "name": "python3"
  },
  "language_info": {
   "codemirror_mode": {
    "name": "ipython",
    "version": 3
   },
   "file_extension": ".py",
   "mimetype": "text/x-python",
   "name": "python",
   "nbconvert_exporter": "python",
   "pygments_lexer": "ipython3",
   "version": "3.6.12"
  }
 },
 "nbformat": 4,
 "nbformat_minor": 1
}
