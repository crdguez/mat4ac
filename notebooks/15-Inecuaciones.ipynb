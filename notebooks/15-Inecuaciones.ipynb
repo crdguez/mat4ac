{
 "cells": [
  {
   "cell_type": "code",
   "execution_count": 1,
   "metadata": {
    "colab": {
     "base_uri": "https://localhost:8080/"
    },
    "id": "XLjKRF_kknDB",
    "outputId": "612405fc-6daa-4e78-93e9-29edac7edd22"
   },
   "outputs": [],
   "source": [
    "# Ejecutar para que funcione el parse_latex en google colab\n",
    "\n",
    "#!pip install sympy==1.5 antlr4-python3-runtime==4.7.1"
   ]
  },
  {
   "cell_type": "code",
   "execution_count": 2,
   "metadata": {
    "colab": {
     "base_uri": "https://localhost:8080/"
    },
    "id": "tVIMjcDSknDa",
    "outputId": "6a6a0e35-33b5-4d7a-afc4-8010a01c3b96"
   },
   "outputs": [
    {
     "name": "stdout",
     "output_type": "stream",
     "text": [
      "IPython console for SymPy 1.6.2 (Python 3.6.12-64-bit) (ground types: gmpy)\n",
      "\n",
      "These commands were executed:\n",
      ">>> from __future__ import division\n",
      ">>> from sympy import *\n",
      ">>> x, y, z, t = symbols('x y z t')\n",
      ">>> k, m, n = symbols('k m n', integer=True)\n",
      ">>> f, g, h = symbols('f g h', cls=Function)\n",
      ">>> init_printing()\n",
      "\n",
      "Documentation can be found at https://docs.sympy.org/1.6.2/\n",
      "\n"
     ]
    }
   ],
   "source": [
    "from sympy import init_session\n",
    "from sympy.parsing.latex import parse_latex\n",
    "from sympy.parsing.sympy_parser import parse_expr\n",
    "from IPython.display import Markdown as md\n",
    "from IPython.display import display\n",
    "\n",
    "init_session()"
   ]
  },
  {
   "cell_type": "code",
   "execution_count": 3,
   "metadata": {
    "id": "0kKrNlGb9jl0"
   },
   "outputs": [],
   "source": [
    "\n",
    "from sympy.solvers.inequalities import solve_univariate_inequality, reduce_rational_inequalities, reduce_abs_inequality"
   ]
  },
  {
   "cell_type": "code",
   "execution_count": 4,
   "metadata": {
    "id": "U_EQ3XUBknDf"
   },
   "outputs": [],
   "source": [
    "def mostrar_ejercicio(ejercicio,solucion,tipo=0) :\n",
    "    #tipo=0 se pasa el ejercicio y la solucion en formato latex\n",
    "    if tipo == 0 :\n",
    "        display(md(\"#### Ejercicio:\"))\n",
    "        display(md(r\"{} $\\to$ {}\".format(ejercicio, solucion)))\n",
    "        print(\"enunciado_latex: \" + ejercicio)\n",
    "        print(\"solucion_latex: \" + solucion)\n",
    "        return ejercicio, solucion\n",
    "    elif tipo == 1:\n",
    "        # falta desarrollar ...\n",
    "        display(md(\"#### Ejercicio:\"))\n",
    "        display(md(r\"{} $\\to$ {}\".format(ejercicio, solucion)))\n",
    "        print(\"enunciado_latex: \" + ejercicio)\n",
    "        print(\"solucion_latex: \" + solucion)\n",
    "        return ejercicio, solucion\n",
    "\n",
    "        "
   ]
  },
  {
   "cell_type": "code",
   "execution_count": 5,
   "metadata": {
    "colab": {
     "base_uri": "https://localhost:8080/",
     "height": 36
    },
    "id": "ExSw2L1fkPFe",
    "outputId": "42ddd4ac-7255-43b0-e84f-4799222891eb"
   },
   "outputs": [
    {
     "data": {
      "text/plain": [
       "'- x^{5} + x'"
      ]
     },
     "execution_count": 5,
     "metadata": {},
     "output_type": "execute_result"
    }
   ],
   "source": [
    "latex(expand(-x*(x-1)*(x**2+1)*(x+1)))"
   ]
  },
  {
   "cell_type": "code",
   "execution_count": 6,
   "metadata": {
    "colab": {
     "base_uri": "https://localhost:8080/",
     "height": 1000
    },
    "id": "mtuD87hBxDLJ",
    "outputId": "3a103aba-5d50-44b8-c7c4-96f6d24d473a"
   },
   "outputs": [
    {
     "data": {
      "text/markdown": [
       "**Resolver inecuaciones de primer grado:**"
      ],
      "text/plain": [
       "<IPython.core.display.Markdown object>"
      ]
     },
     "metadata": {},
     "output_type": "display_data"
    },
    {
     "data": {
      "text/markdown": [
       "#### Ejercicio:"
      ],
      "text/plain": [
       "<IPython.core.display.Markdown object>"
      ]
     },
     "metadata": {},
     "output_type": "display_data"
    },
    {
     "data": {
      "text/markdown": [
       "$5x + 6 - \\frac{x}{2} >  - 1$ $\\to$ $\\left(- \\frac{14}{9}, \\infty\\right)$"
      ],
      "text/plain": [
       "<IPython.core.display.Markdown object>"
      ]
     },
     "metadata": {},
     "output_type": "display_data"
    },
    {
     "name": "stdout",
     "output_type": "stream",
     "text": [
      "enunciado_latex: $5x + 6 - \\frac{x}{2} >  - 1$\n",
      "solucion_latex: $\\left(- \\frac{14}{9}, \\infty\\right)$\n"
     ]
    },
    {
     "data": {
      "text/markdown": [
       "#### Ejercicio:"
      ],
      "text/plain": [
       "<IPython.core.display.Markdown object>"
      ]
     },
     "metadata": {},
     "output_type": "display_data"
    },
    {
     "data": {
      "text/markdown": [
       "$3 \\cdot (x - 3) > 1 - 5x$ $\\to$ $\\left(\\frac{5}{4}, \\infty\\right)$"
      ],
      "text/plain": [
       "<IPython.core.display.Markdown object>"
      ]
     },
     "metadata": {},
     "output_type": "display_data"
    },
    {
     "name": "stdout",
     "output_type": "stream",
     "text": [
      "enunciado_latex: $3 \\cdot (x - 3) > 1 - 5x$\n",
      "solucion_latex: $\\left(\\frac{5}{4}, \\infty\\right)$\n"
     ]
    },
    {
     "data": {
      "text/markdown": [
       "#### Ejercicio:"
      ],
      "text/plain": [
       "<IPython.core.display.Markdown object>"
      ]
     },
     "metadata": {},
     "output_type": "display_data"
    },
    {
     "data": {
      "text/markdown": [
       "$2 - \\frac{x}{3} + 2x > 1 - x$ $\\to$ $\\left(- \\frac{3}{8}, \\infty\\right)$"
      ],
      "text/plain": [
       "<IPython.core.display.Markdown object>"
      ]
     },
     "metadata": {},
     "output_type": "display_data"
    },
    {
     "name": "stdout",
     "output_type": "stream",
     "text": [
      "enunciado_latex: $2 - \\frac{x}{3} + 2x > 1 - x$\n",
      "solucion_latex: $\\left(- \\frac{3}{8}, \\infty\\right)$\n"
     ]
    },
    {
     "data": {
      "text/markdown": [
       "#### Ejercicio:"
      ],
      "text/plain": [
       "<IPython.core.display.Markdown object>"
      ]
     },
     "metadata": {},
     "output_type": "display_data"
    },
    {
     "data": {
      "text/markdown": [
       "$8x - 6 \\geq \\frac{{2x}}{5}$ $\\to$ $\\left[\\frac{15}{19}, \\infty\\right)$"
      ],
      "text/plain": [
       "<IPython.core.display.Markdown object>"
      ]
     },
     "metadata": {},
     "output_type": "display_data"
    },
    {
     "name": "stdout",
     "output_type": "stream",
     "text": [
      "enunciado_latex: $8x - 6 \\geq \\frac{{2x}}{5}$\n",
      "solucion_latex: $\\left[\\frac{15}{19}, \\infty\\right)$\n"
     ]
    },
    {
     "data": {
      "text/markdown": [
       "#### Ejercicio:"
      ],
      "text/plain": [
       "<IPython.core.display.Markdown object>"
      ]
     },
     "metadata": {},
     "output_type": "display_data"
    },
    {
     "data": {
      "text/markdown": [
       "$\\frac{{2x}}{3} - \\frac{x}{2} + 5 < x - \\frac{1}{3}$ $\\to$ $\\left(\\frac{32}{5}, \\infty\\right)$"
      ],
      "text/plain": [
       "<IPython.core.display.Markdown object>"
      ]
     },
     "metadata": {},
     "output_type": "display_data"
    },
    {
     "name": "stdout",
     "output_type": "stream",
     "text": [
      "enunciado_latex: $\\frac{{2x}}{3} - \\frac{x}{2} + 5 < x - \\frac{1}{3}$\n",
      "solucion_latex: $\\left(\\frac{32}{5}, \\infty\\right)$\n"
     ]
    },
    {
     "data": {
      "text/markdown": [
       "#### Ejercicio:"
      ],
      "text/plain": [
       "<IPython.core.display.Markdown object>"
      ]
     },
     "metadata": {},
     "output_type": "display_data"
    },
    {
     "data": {
      "text/markdown": [
       "$\\frac{{4 - 3x}}{2} < x + 3$ $\\to$ $\\left(- \\frac{2}{5}, \\infty\\right)$"
      ],
      "text/plain": [
       "<IPython.core.display.Markdown object>"
      ]
     },
     "metadata": {},
     "output_type": "display_data"
    },
    {
     "name": "stdout",
     "output_type": "stream",
     "text": [
      "enunciado_latex: $\\frac{{4 - 3x}}{2} < x + 3$\n",
      "solucion_latex: $\\left(- \\frac{2}{5}, \\infty\\right)$\n"
     ]
    },
    {
     "data": {
      "text/markdown": [
       "#### Ejercicio:"
      ],
      "text/plain": [
       "<IPython.core.display.Markdown object>"
      ]
     },
     "metadata": {},
     "output_type": "display_data"
    },
    {
     "data": {
      "text/markdown": [
       "$\\frac{{x + 1}}{3} - \\frac{{x - 2}}{5} > 1 + \\frac{{x - 1}}{{15}}$ $\\to$ $\\left(3, \\infty\\right)$"
      ],
      "text/plain": [
       "<IPython.core.display.Markdown object>"
      ]
     },
     "metadata": {},
     "output_type": "display_data"
    },
    {
     "name": "stdout",
     "output_type": "stream",
     "text": [
      "enunciado_latex: $\\frac{{x + 1}}{3} - \\frac{{x - 2}}{5} > 1 + \\frac{{x - 1}}{{15}}$\n",
      "solucion_latex: $\\left(3, \\infty\\right)$\n"
     ]
    },
    {
     "data": {
      "text/markdown": [
       "#### Ejercicio:"
      ],
      "text/plain": [
       "<IPython.core.display.Markdown object>"
      ]
     },
     "metadata": {},
     "output_type": "display_data"
    },
    {
     "data": {
      "text/markdown": [
       "$\\frac{{x - 2}}{5} - \\frac{{3x + 1}}{2} < \\frac{x}{2} - 3x$ $\\to$ $\\left(-\\infty, \\frac{3}{4}\\right)$"
      ],
      "text/plain": [
       "<IPython.core.display.Markdown object>"
      ]
     },
     "metadata": {},
     "output_type": "display_data"
    },
    {
     "name": "stdout",
     "output_type": "stream",
     "text": [
      "enunciado_latex: $\\frac{{x - 2}}{5} - \\frac{{3x + 1}}{2} < \\frac{x}{2} - 3x$\n",
      "solucion_latex: $\\left(-\\infty, \\frac{3}{4}\\right)$\n"
     ]
    },
    {
     "data": {
      "text/markdown": [
       "#### Ejercicio:"
      ],
      "text/plain": [
       "<IPython.core.display.Markdown object>"
      ]
     },
     "metadata": {},
     "output_type": "display_data"
    },
    {
     "data": {
      "text/markdown": [
       "$3x - \\frac{{1 - 2x}}{4} < \\frac{{x - 1}}{2} + 1$ $\\to$ $\\left(-\\infty, \\frac{1}{4}\\right)$"
      ],
      "text/plain": [
       "<IPython.core.display.Markdown object>"
      ]
     },
     "metadata": {},
     "output_type": "display_data"
    },
    {
     "name": "stdout",
     "output_type": "stream",
     "text": [
      "enunciado_latex: $3x - \\frac{{1 - 2x}}{4} < \\frac{{x - 1}}{2} + 1$\n",
      "solucion_latex: $\\left(-\\infty, \\frac{1}{4}\\right)$\n"
     ]
    },
    {
     "data": {
      "text/markdown": [
       "#### Ejercicio:"
      ],
      "text/plain": [
       "<IPython.core.display.Markdown object>"
      ]
     },
     "metadata": {},
     "output_type": "display_data"
    },
    {
     "data": {
      "text/markdown": [
       "$x\\cdot(x+3) - 2x > 4x + 4$ $\\to$ $\\left(-\\infty, -1\\right) \\cup \\left(4, \\infty\\right)$"
      ],
      "text/plain": [
       "<IPython.core.display.Markdown object>"
      ]
     },
     "metadata": {},
     "output_type": "display_data"
    },
    {
     "name": "stdout",
     "output_type": "stream",
     "text": [
      "enunciado_latex: $x\\cdot(x+3) - 2x > 4x + 4$\n",
      "solucion_latex: $\\left(-\\infty, -1\\right) \\cup \\left(4, \\infty\\right)$\n"
     ]
    },
    {
     "data": {
      "text/markdown": [
       "#### Ejercicio:"
      ],
      "text/plain": [
       "<IPython.core.display.Markdown object>"
      ]
     },
     "metadata": {},
     "output_type": "display_data"
    },
    {
     "data": {
      "text/markdown": [
       "$\\frac{2x-8}{3x + 9}>0$ $\\to$ $\\left(-\\infty, -3\\right) \\cup \\left(4, \\infty\\right)$"
      ],
      "text/plain": [
       "<IPython.core.display.Markdown object>"
      ]
     },
     "metadata": {},
     "output_type": "display_data"
    },
    {
     "name": "stdout",
     "output_type": "stream",
     "text": [
      "enunciado_latex: $\\frac{2x-8}{3x + 9}>0$\n",
      "solucion_latex: $\\left(-\\infty, -3\\right) \\cup \\left(4, \\infty\\right)$\n"
     ]
    },
    {
     "data": {
      "text/markdown": [
       "#### Ejercicio:"
      ],
      "text/plain": [
       "<IPython.core.display.Markdown object>"
      ]
     },
     "metadata": {},
     "output_type": "display_data"
    },
    {
     "data": {
      "text/markdown": [
       "$2x^2 - 4x - 6 > 0$ $\\to$ $\\left(-\\infty, -1\\right) \\cup \\left(3, \\infty\\right)$"
      ],
      "text/plain": [
       "<IPython.core.display.Markdown object>"
      ]
     },
     "metadata": {},
     "output_type": "display_data"
    },
    {
     "name": "stdout",
     "output_type": "stream",
     "text": [
      "enunciado_latex: $2x^2 - 4x - 6 > 0$\n",
      "solucion_latex: $\\left(-\\infty, -1\\right) \\cup \\left(3, \\infty\\right)$\n"
     ]
    },
    {
     "data": {
      "text/markdown": [
       "#### Ejercicio:"
      ],
      "text/plain": [
       "<IPython.core.display.Markdown object>"
      ]
     },
     "metadata": {},
     "output_type": "display_data"
    },
    {
     "data": {
      "text/markdown": [
       "$x^4 + 2x^2 - 3x < 0$ $\\to$ $\\left(0, 1\\right)$"
      ],
      "text/plain": [
       "<IPython.core.display.Markdown object>"
      ]
     },
     "metadata": {},
     "output_type": "display_data"
    },
    {
     "name": "stdout",
     "output_type": "stream",
     "text": [
      "enunciado_latex: $x^4 + 2x^2 - 3x < 0$\n",
      "solucion_latex: $\\left(0, 1\\right)$\n"
     ]
    },
    {
     "data": {
      "text/markdown": [
       "#### Ejercicio:"
      ],
      "text/plain": [
       "<IPython.core.display.Markdown object>"
      ]
     },
     "metadata": {},
     "output_type": "display_data"
    },
    {
     "data": {
      "text/markdown": [
       "$\\frac{2x-2}{1-3x}<-\\frac{2}{3}$ $\\to$ $\\left(-\\infty, \\frac{1}{3}\\right)$"
      ],
      "text/plain": [
       "<IPython.core.display.Markdown object>"
      ]
     },
     "metadata": {},
     "output_type": "display_data"
    },
    {
     "name": "stdout",
     "output_type": "stream",
     "text": [
      "enunciado_latex: $\\frac{2x-2}{1-3x}<-\\frac{2}{3}$\n",
      "solucion_latex: $\\left(-\\infty, \\frac{1}{3}\\right)$\n"
     ]
    },
    {
     "data": {
      "text/markdown": [
       "#### Ejercicio:"
      ],
      "text/plain": [
       "<IPython.core.display.Markdown object>"
      ]
     },
     "metadata": {},
     "output_type": "display_data"
    },
    {
     "data": {
      "text/markdown": [
       "$\\frac{x^2-3x+2}{x^2-x-6}\\leq 0$ $\\to$ $\\left(-2, 1\\right] \\cup \\left[2, 3\\right)$"
      ],
      "text/plain": [
       "<IPython.core.display.Markdown object>"
      ]
     },
     "metadata": {},
     "output_type": "display_data"
    },
    {
     "name": "stdout",
     "output_type": "stream",
     "text": [
      "enunciado_latex: $\\frac{x^2-3x+2}{x^2-x-6}\\leq 0$\n",
      "solucion_latex: $\\left(-2, 1\\right] \\cup \\left[2, 3\\right)$\n"
     ]
    },
    {
     "data": {
      "text/markdown": [
       "#### Ejercicio:"
      ],
      "text/plain": [
       "<IPython.core.display.Markdown object>"
      ]
     },
     "metadata": {},
     "output_type": "display_data"
    },
    {
     "data": {
      "text/markdown": [
       "$\\frac{x^2-9}{x^2+2x}\\geq 0$ $\\to$ $\\left(-\\infty, -3\\right] \\cup \\left(-2, 0\\right) \\cup \\left[3, \\infty\\right)$"
      ],
      "text/plain": [
       "<IPython.core.display.Markdown object>"
      ]
     },
     "metadata": {},
     "output_type": "display_data"
    },
    {
     "name": "stdout",
     "output_type": "stream",
     "text": [
      "enunciado_latex: $\\frac{x^2-9}{x^2+2x}\\geq 0$\n",
      "solucion_latex: $\\left(-\\infty, -3\\right] \\cup \\left(-2, 0\\right) \\cup \\left[3, \\infty\\right)$\n"
     ]
    },
    {
     "data": {
      "text/markdown": [
       "#### Ejercicio:"
      ],
      "text/plain": [
       "<IPython.core.display.Markdown object>"
      ]
     },
     "metadata": {},
     "output_type": "display_data"
    },
    {
     "data": {
      "text/markdown": [
       "$- x^{5} + 2x \\leq x$ $\\to$ $\\left[-1, 0\\right] \\cup \\left[1, \\infty\\right)$"
      ],
      "text/plain": [
       "<IPython.core.display.Markdown object>"
      ]
     },
     "metadata": {},
     "output_type": "display_data"
    },
    {
     "name": "stdout",
     "output_type": "stream",
     "text": [
      "enunciado_latex: $- x^{5} + 2x \\leq x$\n",
      "solucion_latex: $\\left[-1, 0\\right] \\cup \\left[1, \\infty\\right)$\n"
     ]
    }
   ],
   "source": [
    "# Resolver inecuaciones\n",
    "\n",
    "texto_ejercicio = 'Resolver inecuaciones de primer grado:'\n",
    "\n",
    "display(md(\"**\"+texto_ejercicio+\"**\"))\n",
    "\n",
    "pre_enunciado_latex = [\n",
    "                     r'5x + 6 - \\frac{x}{2} >  - 1', r'3 \\cdot (x - 3) > 1 - 5x', r'2 - \\frac{x}{3} + 2x > 1 - x',\n",
    "                     r'8x - 6 \\geq \\frac{{2x}}{5}', r'\\frac{{2x}}{3} - \\frac{x}{2} + 5 < x - \\frac{1}{3}',r'\\frac{{4 - 3x}}{2} < x + 3',\n",
    "                     r'\\frac{{x + 1}}{3} - \\frac{{x - 2}}{5} > 1 + \\frac{{x - 1}}{{15}}',r'\\frac{{x - 2}}{5} - \\frac{{3x + 1}}{2} < \\frac{x}{2} - 3x',\n",
    "                     r'3x - \\frac{{1 - 2x}}{4} < \\frac{{x - 1}}{2} + 1',\n",
    "                    # autoevaluacion\n",
    "                        r'x\\cdot(x+3) - 2x > 4x + 4',\n",
    "                        r'\\frac{2x-8}{3x + 9}>0',\n",
    "                        r'2x^2 - 4x - 6 > 0',\n",
    "                        r'x^4 + 2x^2 - 3x < 0',\n",
    "                        r'\\frac{2x-2}{1-3x}<-\\frac{2}{3}',\n",
    "                        r'\\frac{x^2-3x+2}{x^2-x-6}\\leq 0',\n",
    "                        r'\\frac{x^2-9}{x^2+2x}\\geq 0',\n",
    "                        r'- x^{5} + 2x \\leq x'\n",
    "    \n",
    "\n",
    "                    ]\n",
    "\n",
    "for i in pre_enunciado_latex :\n",
    "    #display(sol_sist(s))\n",
    "    mostrar_ejercicio(r\"$\"+i+r\"$\",r\"$\"+latex(solve_univariate_inequality(parse_latex(i), x,  relational=False))+r\"$\")"
   ]
  },
  {
   "cell_type": "code",
   "execution_count": 7,
   "metadata": {
    "colab": {
     "base_uri": "https://localhost:8080/",
     "height": 1000
    },
    "id": "5xCQNbzx2v2Z",
    "outputId": "2d708a76-48c0-40c1-f686-a8d7fea25695"
   },
   "outputs": [
    {
     "data": {
      "text/markdown": [
       "**Resolver inecuaciones de segundo grado:**"
      ],
      "text/plain": [
       "<IPython.core.display.Markdown object>"
      ]
     },
     "metadata": {},
     "output_type": "display_data"
    },
    {
     "data": {
      "text/markdown": [
       "#### Ejercicio:"
      ],
      "text/plain": [
       "<IPython.core.display.Markdown object>"
      ]
     },
     "metadata": {},
     "output_type": "display_data"
    },
    {
     "data": {
      "text/markdown": [
       "$2{x^2} - 12x + 16 \\leq 0$ $\\to$ $\\left[2, 4\\right]$"
      ],
      "text/plain": [
       "<IPython.core.display.Markdown object>"
      ]
     },
     "metadata": {},
     "output_type": "display_data"
    },
    {
     "name": "stdout",
     "output_type": "stream",
     "text": [
      "enunciado_latex: $2{x^2} - 12x + 16 \\leq 0$\n",
      "solucion_latex: $\\left[2, 4\\right]$\n"
     ]
    },
    {
     "data": {
      "text/markdown": [
       "#### Ejercicio:"
      ],
      "text/plain": [
       "<IPython.core.display.Markdown object>"
      ]
     },
     "metadata": {},
     "output_type": "display_data"
    },
    {
     "data": {
      "text/markdown": [
       "$- {x^2} + 4 \\leq 0$ $\\to$ $\\left(-\\infty, -2\\right] \\cup \\left[2, \\infty\\right)$"
      ],
      "text/plain": [
       "<IPython.core.display.Markdown object>"
      ]
     },
     "metadata": {},
     "output_type": "display_data"
    },
    {
     "name": "stdout",
     "output_type": "stream",
     "text": [
      "enunciado_latex: $- {x^2} + 4 \\leq 0$\n",
      "solucion_latex: $\\left(-\\infty, -2\\right] \\cup \\left[2, \\infty\\right)$\n"
     ]
    },
    {
     "data": {
      "text/markdown": [
       "#### Ejercicio:"
      ],
      "text/plain": [
       "<IPython.core.display.Markdown object>"
      ]
     },
     "metadata": {},
     "output_type": "display_data"
    },
    {
     "data": {
      "text/markdown": [
       "${x^2} + 6x + 9 \\leq 0$ $\\to$ $\\left\\{-3\\right\\}$"
      ],
      "text/plain": [
       "<IPython.core.display.Markdown object>"
      ]
     },
     "metadata": {},
     "output_type": "display_data"
    },
    {
     "name": "stdout",
     "output_type": "stream",
     "text": [
      "enunciado_latex: ${x^2} + 6x + 9 \\leq 0$\n",
      "solucion_latex: $\\left\\{-3\\right\\}$\n"
     ]
    },
    {
     "data": {
      "text/markdown": [
       "#### Ejercicio:"
      ],
      "text/plain": [
       "<IPython.core.display.Markdown object>"
      ]
     },
     "metadata": {},
     "output_type": "display_data"
    },
    {
     "data": {
      "text/markdown": [
       "${x^2} - x - 6 > 0$ $\\to$ $\\left(-\\infty, -2\\right) \\cup \\left(3, \\infty\\right)$"
      ],
      "text/plain": [
       "<IPython.core.display.Markdown object>"
      ]
     },
     "metadata": {},
     "output_type": "display_data"
    },
    {
     "name": "stdout",
     "output_type": "stream",
     "text": [
      "enunciado_latex: ${x^2} - x - 6 > 0$\n",
      "solucion_latex: $\\left(-\\infty, -2\\right) \\cup \\left(3, \\infty\\right)$\n"
     ]
    },
    {
     "data": {
      "text/markdown": [
       "#### Ejercicio:"
      ],
      "text/plain": [
       "<IPython.core.display.Markdown object>"
      ]
     },
     "metadata": {},
     "output_type": "display_data"
    },
    {
     "data": {
      "text/markdown": [
       "${x^2} - 6x + 8 > 0$ $\\to$ $\\left(-\\infty, 2\\right) \\cup \\left(4, \\infty\\right)$"
      ],
      "text/plain": [
       "<IPython.core.display.Markdown object>"
      ]
     },
     "metadata": {},
     "output_type": "display_data"
    },
    {
     "name": "stdout",
     "output_type": "stream",
     "text": [
      "enunciado_latex: ${x^2} - 6x + 8 > 0$\n",
      "solucion_latex: $\\left(-\\infty, 2\\right) \\cup \\left(4, \\infty\\right)$\n"
     ]
    },
    {
     "data": {
      "text/markdown": [
       "#### Ejercicio:"
      ],
      "text/plain": [
       "<IPython.core.display.Markdown object>"
      ]
     },
     "metadata": {},
     "output_type": "display_data"
    },
    {
     "data": {
      "text/markdown": [
       "${x^2} + 6x + 24 > 0$ $\\to$ $\\left(-\\infty, \\infty\\right)$"
      ],
      "text/plain": [
       "<IPython.core.display.Markdown object>"
      ]
     },
     "metadata": {},
     "output_type": "display_data"
    },
    {
     "name": "stdout",
     "output_type": "stream",
     "text": [
      "enunciado_latex: ${x^2} + 6x + 24 > 0$\n",
      "solucion_latex: $\\left(-\\infty, \\infty\\right)$\n"
     ]
    },
    {
     "data": {
      "text/markdown": [
       "#### Ejercicio:"
      ],
      "text/plain": [
       "<IPython.core.display.Markdown object>"
      ]
     },
     "metadata": {},
     "output_type": "display_data"
    },
    {
     "data": {
      "text/markdown": [
       "${x^2} - 3x > 0$ $\\to$ $\\left(-\\infty, 0\\right) \\cup \\left(3, \\infty\\right)$"
      ],
      "text/plain": [
       "<IPython.core.display.Markdown object>"
      ]
     },
     "metadata": {},
     "output_type": "display_data"
    },
    {
     "name": "stdout",
     "output_type": "stream",
     "text": [
      "enunciado_latex: ${x^2} - 3x > 0$\n",
      "solucion_latex: $\\left(-\\infty, 0\\right) \\cup \\left(3, \\infty\\right)$\n"
     ]
    },
    {
     "data": {
      "text/markdown": [
       "#### Ejercicio:"
      ],
      "text/plain": [
       "<IPython.core.display.Markdown object>"
      ]
     },
     "metadata": {},
     "output_type": "display_data"
    },
    {
     "data": {
      "text/markdown": [
       "$2{x^2} - 10x - 12 \\leq 0$ $\\to$ $\\left[-1, 6\\right]$"
      ],
      "text/plain": [
       "<IPython.core.display.Markdown object>"
      ]
     },
     "metadata": {},
     "output_type": "display_data"
    },
    {
     "name": "stdout",
     "output_type": "stream",
     "text": [
      "enunciado_latex: $2{x^2} - 10x - 12 \\leq 0$\n",
      "solucion_latex: $\\left[-1, 6\\right]$\n"
     ]
    },
    {
     "data": {
      "text/markdown": [
       "#### Ejercicio:"
      ],
      "text/plain": [
       "<IPython.core.display.Markdown object>"
      ]
     },
     "metadata": {},
     "output_type": "display_data"
    },
    {
     "data": {
      "text/markdown": [
       "$ - 3{x^2} + 6x + 9 \\leq 0$ $\\to$ $\\left(-\\infty, -1\\right] \\cup \\left[3, \\infty\\right)$"
      ],
      "text/plain": [
       "<IPython.core.display.Markdown object>"
      ]
     },
     "metadata": {},
     "output_type": "display_data"
    },
    {
     "name": "stdout",
     "output_type": "stream",
     "text": [
      "enunciado_latex: $ - 3{x^2} + 6x + 9 \\leq 0$\n",
      "solucion_latex: $\\left(-\\infty, -1\\right] \\cup \\left[3, \\infty\\right)$\n"
     ]
    },
    {
     "data": {
      "text/markdown": [
       "#### Ejercicio:"
      ],
      "text/plain": [
       "<IPython.core.display.Markdown object>"
      ]
     },
     "metadata": {},
     "output_type": "display_data"
    },
    {
     "data": {
      "text/markdown": [
       "$x \\cdot ( x + 1 ) + 3x > 5x + 6$ $\\to$ $\\left(-\\infty, -2\\right) \\cup \\left(3, \\infty\\right)$"
      ],
      "text/plain": [
       "<IPython.core.display.Markdown object>"
      ]
     },
     "metadata": {},
     "output_type": "display_data"
    },
    {
     "name": "stdout",
     "output_type": "stream",
     "text": [
      "enunciado_latex: $x \\cdot ( x + 1 ) + 3x > 5x + 6$\n",
      "solucion_latex: $\\left(-\\infty, -2\\right) \\cup \\left(3, \\infty\\right)$\n"
     ]
    },
    {
     "data": {
      "text/markdown": [
       "#### Ejercicio:"
      ],
      "text/plain": [
       "<IPython.core.display.Markdown object>"
      ]
     },
     "metadata": {},
     "output_type": "display_data"
    },
    {
     "data": {
      "text/markdown": [
       "$8 x^{2} - 40 x + 48 \\geq 0$ $\\to$ $\\left(-\\infty, 2\\right] \\cup \\left[3, \\infty\\right)$"
      ],
      "text/plain": [
       "<IPython.core.display.Markdown object>"
      ]
     },
     "metadata": {},
     "output_type": "display_data"
    },
    {
     "name": "stdout",
     "output_type": "stream",
     "text": [
      "enunciado_latex: $8 x^{2} - 40 x + 48 \\geq 0$\n",
      "solucion_latex: $\\left(-\\infty, 2\\right] \\cup \\left[3, \\infty\\right)$\n"
     ]
    },
    {
     "data": {
      "text/markdown": [
       "#### Ejercicio:"
      ],
      "text/plain": [
       "<IPython.core.display.Markdown object>"
      ]
     },
     "metadata": {},
     "output_type": "display_data"
    },
    {
     "data": {
      "text/markdown": [
       "$3 x^{2} - 15 x + 18 > 0$ $\\to$ $\\left(-\\infty, 2\\right) \\cup \\left(3, \\infty\\right)$"
      ],
      "text/plain": [
       "<IPython.core.display.Markdown object>"
      ]
     },
     "metadata": {},
     "output_type": "display_data"
    },
    {
     "name": "stdout",
     "output_type": "stream",
     "text": [
      "enunciado_latex: $3 x^{2} - 15 x + 18 > 0$\n",
      "solucion_latex: $\\left(-\\infty, 2\\right) \\cup \\left(3, \\infty\\right)$\n"
     ]
    },
    {
     "data": {
      "text/markdown": [
       "#### Ejercicio:"
      ],
      "text/plain": [
       "<IPython.core.display.Markdown object>"
      ]
     },
     "metadata": {},
     "output_type": "display_data"
    },
    {
     "data": {
      "text/markdown": [
       "$(2 - x)(x - 3)(x - 1)^{2} > 0$ $\\to$ $\\left(2, 3\\right)$"
      ],
      "text/plain": [
       "<IPython.core.display.Markdown object>"
      ]
     },
     "metadata": {},
     "output_type": "display_data"
    },
    {
     "name": "stdout",
     "output_type": "stream",
     "text": [
      "enunciado_latex: $(2 - x)(x - 3)(x - 1)^{2} > 0$\n",
      "solucion_latex: $\\left(2, 3\\right)$\n"
     ]
    },
    {
     "data": {
      "text/markdown": [
       "#### Ejercicio:"
      ],
      "text/plain": [
       "<IPython.core.display.Markdown object>"
      ]
     },
     "metadata": {},
     "output_type": "display_data"
    },
    {
     "data": {
      "text/markdown": [
       "$(2 - x)(x + 3)(x - 1)^{2} \\geq 0$ $\\to$ $\\left[-3, 2\\right]$"
      ],
      "text/plain": [
       "<IPython.core.display.Markdown object>"
      ]
     },
     "metadata": {},
     "output_type": "display_data"
    },
    {
     "name": "stdout",
     "output_type": "stream",
     "text": [
      "enunciado_latex: $(2 - x)(x + 3)(x - 1)^{2} \\geq 0$\n",
      "solucion_latex: $\\left[-3, 2\\right]$\n"
     ]
    },
    {
     "data": {
      "text/markdown": [
       "#### Ejercicio:"
      ],
      "text/plain": [
       "<IPython.core.display.Markdown object>"
      ]
     },
     "metadata": {},
     "output_type": "display_data"
    },
    {
     "data": {
      "text/markdown": [
       "$(2 - x)(x - 3)x^{3} > 0$ $\\to$ $\\left(-\\infty, 0\\right) \\cup \\left(2, 3\\right)$"
      ],
      "text/plain": [
       "<IPython.core.display.Markdown object>"
      ]
     },
     "metadata": {},
     "output_type": "display_data"
    },
    {
     "name": "stdout",
     "output_type": "stream",
     "text": [
      "enunciado_latex: $(2 - x)(x - 3)x^{3} > 0$\n",
      "solucion_latex: $\\left(-\\infty, 0\\right) \\cup \\left(2, 3\\right)$\n"
     ]
    },
    {
     "data": {
      "text/markdown": [
       "#### Ejercicio:"
      ],
      "text/plain": [
       "<IPython.core.display.Markdown object>"
      ]
     },
     "metadata": {},
     "output_type": "display_data"
    },
    {
     "data": {
      "text/markdown": [
       "$(2 - x)(x + 3)x^{3} \\geq 0$ $\\to$ $\\left(-\\infty, -3\\right] \\cup \\left[0, 2\\right]$"
      ],
      "text/plain": [
       "<IPython.core.display.Markdown object>"
      ]
     },
     "metadata": {},
     "output_type": "display_data"
    },
    {
     "name": "stdout",
     "output_type": "stream",
     "text": [
      "enunciado_latex: $(2 - x)(x + 3)x^{3} \\geq 0$\n",
      "solucion_latex: $\\left(-\\infty, -3\\right] \\cup \\left[0, 2\\right]$\n"
     ]
    }
   ],
   "source": [
    "# Resolver inecuaciones\n",
    "\n",
    "texto_ejercicio = 'Resolver inecuaciones de segundo grado:'\n",
    "\n",
    "display(md(\"**\"+texto_ejercicio+\"**\"))\n",
    "\n",
    "pre_enunciado_latex = [\n",
    "                     r'2{x^2} - 12x + 16 \\leq 0', r'- {x^2} + 4 \\leq 0', r'{x^2} + 6x + 9 \\leq 0',\n",
    "                     r'{x^2} - x - 6 > 0', r'{x^2} - 6x + 8 > 0',r'{x^2} + 6x + 24 > 0',\n",
    "                     r'{x^2} - 3x > 0',r'2{x^2} - 10x - 12 \\leq 0',\n",
    "                     r' - 3{x^2} + 6x + 9 \\leq 0', r'x \\cdot ( x + 1 ) + 3x > 5x + 6',\n",
    "                    #   Examen\n",
    "                    r'8 x^{2} - 40 x + 48 \\geq 0',\n",
    "                    r'3 x^{2} - 15 x + 18 > 0',\n",
    "                    r'(2 - x)(x - 3)(x - 1)^{2} > 0',\n",
    "                    r'(2 - x)(x + 3)(x - 1)^{2} \\geq 0',\n",
    "                    r'(2 - x)(x - 3)x^{3} > 0',\n",
    "                    r'(2 - x)(x + 3)x^{3} \\geq 0',\n",
    "\n",
    "\n",
    "                    ]\n",
    "\n",
    "for i in pre_enunciado_latex :\n",
    "    #display(sol_sist(s))\n",
    "    mostrar_ejercicio(r\"$\"+i+r\"$\",r\"$\"+latex(solve_univariate_inequality(parse_latex(i), x,  relational=False))+r\"$\")"
   ]
  },
  {
   "cell_type": "code",
   "execution_count": 8,
   "metadata": {
    "colab": {
     "base_uri": "https://localhost:8080/"
    },
    "id": "u5q59vUhUGRJ",
    "outputId": "e21c1abe-843e-48a6-b283-d4b44b44ade4"
   },
   "outputs": [
    {
     "name": "stdout",
     "output_type": "stream",
     "text": [
      "\\left(2 - x\\right) \\left(x - 3\\right) \\left(x - 1\\right)^{2}\n"
     ]
    }
   ],
   "source": [
    "latex(expand((x-2)*(x-3)*8\n",
    ")), \n",
    "print(latex((S((x-3)*(2-x)*(x-1)**2, evaluate=False))))"
   ]
  },
  {
   "cell_type": "code",
   "execution_count": 9,
   "metadata": {
    "colab": {
     "base_uri": "https://localhost:8080/",
     "height": 1000
    },
    "id": "lrfUfx7o6pFD",
    "outputId": "a913e11b-e399-462f-af64-c46d04486082"
   },
   "outputs": [
    {
     "data": {
      "text/markdown": [
       "**Resolver sistemas de inecuaciones:**"
      ],
      "text/plain": [
       "<IPython.core.display.Markdown object>"
      ]
     },
     "metadata": {},
     "output_type": "display_data"
    },
    {
     "data": {
      "text/markdown": [
       "#### Ejercicio:"
      ],
      "text/plain": [
       "<IPython.core.display.Markdown object>"
      ]
     },
     "metadata": {},
     "output_type": "display_data"
    },
    {
     "data": {
      "text/markdown": [
       "$\\left\\{\\begin{matrix}2x + 6 < 0 \\\\ x + \\frac{1}{3} \\geq \\frac{x}{2}\\end{matrix}\\right.$ $\\to$ $\\emptyset$"
      ],
      "text/plain": [
       "<IPython.core.display.Markdown object>"
      ]
     },
     "metadata": {},
     "output_type": "display_data"
    },
    {
     "name": "stdout",
     "output_type": "stream",
     "text": [
      "enunciado_latex: $\\left\\{\\begin{matrix}2x + 6 < 0 \\\\ x + \\frac{1}{3} \\geq \\frac{x}{2}\\end{matrix}\\right.$\n",
      "solucion_latex: $\\emptyset$\n"
     ]
    },
    {
     "data": {
      "text/markdown": [
       "#### Ejercicio:"
      ],
      "text/plain": [
       "<IPython.core.display.Markdown object>"
      ]
     },
     "metadata": {},
     "output_type": "display_data"
    },
    {
     "data": {
      "text/markdown": [
       "$\\left\\{\\begin{matrix}x + 4 < 0  \\\\  x + 1 < \\frac{x}{2}\\end{matrix}\\right.$ $\\to$ $\\left(-\\infty, -4\\right)$"
      ],
      "text/plain": [
       "<IPython.core.display.Markdown object>"
      ]
     },
     "metadata": {},
     "output_type": "display_data"
    },
    {
     "name": "stdout",
     "output_type": "stream",
     "text": [
      "enunciado_latex: $\\left\\{\\begin{matrix}x + 4 < 0  \\\\  x + 1 < \\frac{x}{2}\\end{matrix}\\right.$\n",
      "solucion_latex: $\\left(-\\infty, -4\\right)$\n"
     ]
    },
    {
     "data": {
      "text/markdown": [
       "#### Ejercicio:"
      ],
      "text/plain": [
       "<IPython.core.display.Markdown object>"
      ]
     },
     "metadata": {},
     "output_type": "display_data"
    },
    {
     "data": {
      "text/markdown": [
       "$\\left\\{\\begin{matrix}x \\leq 0 \\\\ \\frac{x}{2} + \\frac{x}{3} - 6 \\leq 5\\end{matrix}\\right.$ $\\to$ $\\left(-\\infty, 0\\right]$"
      ],
      "text/plain": [
       "<IPython.core.display.Markdown object>"
      ]
     },
     "metadata": {},
     "output_type": "display_data"
    },
    {
     "name": "stdout",
     "output_type": "stream",
     "text": [
      "enunciado_latex: $\\left\\{\\begin{matrix}x \\leq 0 \\\\ \\frac{x}{2} + \\frac{x}{3} - 6 \\leq 5\\end{matrix}\\right.$\n",
      "solucion_latex: $\\left(-\\infty, 0\\right]$\n"
     ]
    },
    {
     "data": {
      "text/markdown": [
       "#### Ejercicio:"
      ],
      "text/plain": [
       "<IPython.core.display.Markdown object>"
      ]
     },
     "metadata": {},
     "output_type": "display_data"
    },
    {
     "data": {
      "text/markdown": [
       "$\\left\\{\\begin{matrix}x - 2 \\leq 2x + 1 \\\\  3 - x < 1 - 2x\\end{matrix}\\right.$ $\\to$ $\\left[-3, -2\\right)$"
      ],
      "text/plain": [
       "<IPython.core.display.Markdown object>"
      ]
     },
     "metadata": {},
     "output_type": "display_data"
    },
    {
     "name": "stdout",
     "output_type": "stream",
     "text": [
      "enunciado_latex: $\\left\\{\\begin{matrix}x - 2 \\leq 2x + 1 \\\\  3 - x < 1 - 2x\\end{matrix}\\right.$\n",
      "solucion_latex: $\\left[-3, -2\\right)$\n"
     ]
    },
    {
     "data": {
      "text/markdown": [
       "#### Ejercicio:"
      ],
      "text/plain": [
       "<IPython.core.display.Markdown object>"
      ]
     },
     "metadata": {},
     "output_type": "display_data"
    },
    {
     "data": {
      "text/markdown": [
       "$\\left\\{\\begin{matrix} \\frac{x}{3} + x < 4 \\\\ \\frac{x}{2} - \\frac{x}{3} > 0\\end{matrix}\\right.$ $\\to$ $\\left(0, 3\\right)$"
      ],
      "text/plain": [
       "<IPython.core.display.Markdown object>"
      ]
     },
     "metadata": {},
     "output_type": "display_data"
    },
    {
     "name": "stdout",
     "output_type": "stream",
     "text": [
      "enunciado_latex: $\\left\\{\\begin{matrix} \\frac{x}{3} + x < 4 \\\\ \\frac{x}{2} - \\frac{x}{3} > 0\\end{matrix}\\right.$\n",
      "solucion_latex: $\\left(0, 3\\right)$\n"
     ]
    },
    {
     "data": {
      "text/markdown": [
       "#### Ejercicio:"
      ],
      "text/plain": [
       "<IPython.core.display.Markdown object>"
      ]
     },
     "metadata": {},
     "output_type": "display_data"
    },
    {
     "data": {
      "text/markdown": [
       "$\\left\\{\\begin{matrix}\\frac{{x - 4}}{2} + \\frac{{x + 2}}{3} \\leq 2 \\\\  \\frac{x}{3} - \\frac{x}{2} \\leq 1\\end{matrix}\\right.$ $\\to$ $\\left[-6, 4\\right]$"
      ],
      "text/plain": [
       "<IPython.core.display.Markdown object>"
      ]
     },
     "metadata": {},
     "output_type": "display_data"
    },
    {
     "name": "stdout",
     "output_type": "stream",
     "text": [
      "enunciado_latex: $\\left\\{\\begin{matrix}\\frac{{x - 4}}{2} + \\frac{{x + 2}}{3} \\leq 2 \\\\  \\frac{x}{3} - \\frac{x}{2} \\leq 1\\end{matrix}\\right.$\n",
      "solucion_latex: $\\left[-6, 4\\right]$\n"
     ]
    },
    {
     "data": {
      "text/markdown": [
       "#### Ejercicio:"
      ],
      "text/plain": [
       "<IPython.core.display.Markdown object>"
      ]
     },
     "metadata": {},
     "output_type": "display_data"
    },
    {
     "data": {
      "text/markdown": [
       "$\\left\\{\\begin{matrix}\\frac{x}{3} - \\frac{x}{2} \\geq 1 \\\\ {( {x + 1} )^2} - {x^2} \\leq 1\\end{matrix}\\right.$ $\\to$ $\\left(-\\infty, -6\\right]$"
      ],
      "text/plain": [
       "<IPython.core.display.Markdown object>"
      ]
     },
     "metadata": {},
     "output_type": "display_data"
    },
    {
     "name": "stdout",
     "output_type": "stream",
     "text": [
      "enunciado_latex: $\\left\\{\\begin{matrix}\\frac{x}{3} - \\frac{x}{2} \\geq 1 \\\\ {( {x + 1} )^2} - {x^2} \\leq 1\\end{matrix}\\right.$\n",
      "solucion_latex: $\\left(-\\infty, -6\\right]$\n"
     ]
    },
    {
     "data": {
      "text/markdown": [
       "#### Ejercicio:"
      ],
      "text/plain": [
       "<IPython.core.display.Markdown object>"
      ]
     },
     "metadata": {},
     "output_type": "display_data"
    },
    {
     "data": {
      "text/markdown": [
       "$\\left\\{\\begin{matrix}5x + 8 \\leq 14 + 3x \\\\ 14x - 34 > 12x - 36\\end{matrix}\\right.$ $\\to$ $\\left(-1, 3\\right]$"
      ],
      "text/plain": [
       "<IPython.core.display.Markdown object>"
      ]
     },
     "metadata": {},
     "output_type": "display_data"
    },
    {
     "name": "stdout",
     "output_type": "stream",
     "text": [
      "enunciado_latex: $\\left\\{\\begin{matrix}5x + 8 \\leq 14 + 3x \\\\ 14x - 34 > 12x - 36\\end{matrix}\\right.$\n",
      "solucion_latex: $\\left(-1, 3\\right]$\n"
     ]
    },
    {
     "data": {
      "text/markdown": [
       "#### Ejercicio:"
      ],
      "text/plain": [
       "<IPython.core.display.Markdown object>"
      ]
     },
     "metadata": {},
     "output_type": "display_data"
    },
    {
     "data": {
      "text/markdown": [
       "$\\left\\{\\begin{matrix}2x + 8 > 0 \\\\ x + \\frac{1}{2} \\geq \\frac{x}{3}\\end{matrix}\\right.$ $\\to$ $\\left[- \\frac{3}{4}, \\infty\\right)$"
      ],
      "text/plain": [
       "<IPython.core.display.Markdown object>"
      ]
     },
     "metadata": {},
     "output_type": "display_data"
    },
    {
     "name": "stdout",
     "output_type": "stream",
     "text": [
      "enunciado_latex: $\\left\\{\\begin{matrix}2x + 8 > 0 \\\\ x + \\frac{1}{2} \\geq \\frac{x}{3}\\end{matrix}\\right.$\n",
      "solucion_latex: $\\left[- \\frac{3}{4}, \\infty\\right)$\n"
     ]
    },
    {
     "data": {
      "text/markdown": [
       "#### Ejercicio:"
      ],
      "text/plain": [
       "<IPython.core.display.Markdown object>"
      ]
     },
     "metadata": {},
     "output_type": "display_data"
    },
    {
     "data": {
      "text/markdown": [
       "$\\left\\{\\begin{matrix}\\frac{x}{3} - \\frac{x}{2} \\leq 1 \\\\ {( {x + 1} )^2} - {x^2} \\geq 1\\end{matrix}\\right.$ $\\to$ $\\left[0, \\infty\\right)$"
      ],
      "text/plain": [
       "<IPython.core.display.Markdown object>"
      ]
     },
     "metadata": {},
     "output_type": "display_data"
    },
    {
     "name": "stdout",
     "output_type": "stream",
     "text": [
      "enunciado_latex: $\\left\\{\\begin{matrix}\\frac{x}{3} - \\frac{x}{2} \\leq 1 \\\\ {( {x + 1} )^2} - {x^2} \\geq 1\\end{matrix}\\right.$\n",
      "solucion_latex: $\\left[0, \\infty\\right)$\n"
     ]
    },
    {
     "data": {
      "text/markdown": [
       "#### Ejercicio:"
      ],
      "text/plain": [
       "<IPython.core.display.Markdown object>"
      ]
     },
     "metadata": {},
     "output_type": "display_data"
    },
    {
     "data": {
      "text/markdown": [
       "$\\left\\{\\begin{matrix}\\frac{{x - 4}}{2} - \\frac{{x - 2}}{3} \\leq 12 \\\\  \\frac{x}{3} - \\frac{x}{2} \\geq 6\\end{matrix}\\right.$ $\\to$ $\\left(-\\infty, -36\\right]$"
      ],
      "text/plain": [
       "<IPython.core.display.Markdown object>"
      ]
     },
     "metadata": {},
     "output_type": "display_data"
    },
    {
     "name": "stdout",
     "output_type": "stream",
     "text": [
      "enunciado_latex: $\\left\\{\\begin{matrix}\\frac{{x - 4}}{2} - \\frac{{x - 2}}{3} \\leq 12 \\\\  \\frac{x}{3} - \\frac{x}{2} \\geq 6\\end{matrix}\\right.$\n",
      "solucion_latex: $\\left(-\\infty, -36\\right]$\n"
     ]
    },
    {
     "data": {
      "text/markdown": [
       "#### Ejercicio:"
      ],
      "text/plain": [
       "<IPython.core.display.Markdown object>"
      ]
     },
     "metadata": {},
     "output_type": "display_data"
    },
    {
     "data": {
      "text/markdown": [
       "$\\left\\{\\begin{matrix}2x + 6 > 8 \\\\ x + \\frac{1}{3} \\leq \\frac{x}{2}\\end{matrix}\\right.$ $\\to$ $\\emptyset$"
      ],
      "text/plain": [
       "<IPython.core.display.Markdown object>"
      ]
     },
     "metadata": {},
     "output_type": "display_data"
    },
    {
     "name": "stdout",
     "output_type": "stream",
     "text": [
      "enunciado_latex: $\\left\\{\\begin{matrix}2x + 6 > 8 \\\\ x + \\frac{1}{3} \\leq \\frac{x}{2}\\end{matrix}\\right.$\n",
      "solucion_latex: $\\emptyset$\n"
     ]
    },
    {
     "data": {
      "text/markdown": [
       "#### Ejercicio:"
      ],
      "text/plain": [
       "<IPython.core.display.Markdown object>"
      ]
     },
     "metadata": {},
     "output_type": "display_data"
    },
    {
     "data": {
      "text/markdown": [
       "$\\left\\{\\begin{matrix}\\frac{{x - 1}}{2} - \\frac{{x + 2}}{3} \\leq 12 \\\\  \\frac{x}{2} - \\frac{x}{3} \\geq 3\\end{matrix}\\right.$ $\\to$ $\\left[18, 79\\right]$"
      ],
      "text/plain": [
       "<IPython.core.display.Markdown object>"
      ]
     },
     "metadata": {},
     "output_type": "display_data"
    },
    {
     "name": "stdout",
     "output_type": "stream",
     "text": [
      "enunciado_latex: $\\left\\{\\begin{matrix}\\frac{{x - 1}}{2} - \\frac{{x + 2}}{3} \\leq 12 \\\\  \\frac{x}{2} - \\frac{x}{3} \\geq 3\\end{matrix}\\right.$\n",
      "solucion_latex: $\\left[18, 79\\right]$\n"
     ]
    },
    {
     "data": {
      "text/markdown": [
       "#### Ejercicio:"
      ],
      "text/plain": [
       "<IPython.core.display.Markdown object>"
      ]
     },
     "metadata": {},
     "output_type": "display_data"
    },
    {
     "data": {
      "text/markdown": [
       "$\\left\\{\\begin{matrix}\\frac{{x - 1}}{2} - \\frac{{x + 2}}{3} \\leq 12 \\\\  \\frac{x}{2} - \\frac{x}{3} \\leq 1\\end{matrix}\\right.$ $\\to$ $\\left(-\\infty, 6\\right]$"
      ],
      "text/plain": [
       "<IPython.core.display.Markdown object>"
      ]
     },
     "metadata": {},
     "output_type": "display_data"
    },
    {
     "name": "stdout",
     "output_type": "stream",
     "text": [
      "enunciado_latex: $\\left\\{\\begin{matrix}\\frac{{x - 1}}{2} - \\frac{{x + 2}}{3} \\leq 12 \\\\  \\frac{x}{2} - \\frac{x}{3} \\leq 1\\end{matrix}\\right.$\n",
      "solucion_latex: $\\left(-\\infty, 6\\right]$\n"
     ]
    }
   ],
   "source": [
    "# Resolver sistemas de inecuaciones\n",
    "\n",
    "texto_ejercicio = 'Resolver sistemas de inecuaciones:'\n",
    "\n",
    "display(md(\"**\"+texto_ejercicio+\"**\"))\n",
    "\n",
    "pre_enunciado_latex = [\n",
    "                     [r'2x + 6 < 0',r'x + \\frac{1}{3} \\geq \\frac{x}{2}'],\n",
    "                     [r'x + 4 < 0 ',r' x + 1 < \\frac{x}{2}'],\n",
    "                     [r'x \\leq 0',r'\\frac{x}{2} + \\frac{x}{3} - 6 \\leq 5'],\n",
    "                     [r'x - 2 \\leq 2x + 1',r' 3 - x < 1 - 2x'],\n",
    "                     [r' \\frac{x}{3} + x < 4',r'\\frac{x}{2} - \\frac{x}{3} > 0'],\n",
    "                     [r'\\frac{{x - 4}}{2} + \\frac{{x + 2}}{3} \\leq 2',r' \\frac{x}{3} - \\frac{x}{2} \\leq 1'],\n",
    "                     [r'\\frac{x}{3} - \\frac{x}{2} \\geq 1',r'{( {x + 1} )^2} - {x^2} \\leq 1'],\n",
    "                     [r'5x + 8 \\leq 14 + 3x',r'14x - 34 > 12x - 36'],\n",
    "                     # Autoevaluacion\n",
    "                     [r'2x + 8 > 0',r'x + \\frac{1}{2} \\geq \\frac{x}{3}'],\n",
    "                     [r'\\frac{x}{3} - \\frac{x}{2} \\leq 1',r'{( {x + 1} )^2} - {x^2} \\geq 1'],\n",
    "                     [r'\\frac{{x - 4}}{2} - \\frac{{x - 2}}{3} \\leq 12',r' \\frac{x}{3} - \\frac{x}{2} \\geq 6'],\n",
    "                     [r'2x + 6 > 8',r'x + \\frac{1}{3} \\leq \\frac{x}{2}'],\n",
    "                    #  Examen\n",
    "                    [r'\\frac{{x - 1}}{2} - \\frac{{x + 2}}{3} \\leq 12',r' \\frac{x}{2} - \\frac{x}{3} \\geq 3'],\n",
    "                    [r'\\frac{{x - 1}}{2} - \\frac{{x + 2}}{3} \\leq 12',r' \\frac{x}{2} - \\frac{x}{3} \\leq 1'],\n",
    "                    ]\n",
    "\n",
    "for s in pre_enunciado_latex :\n",
    "    sist = [parse_latex(j) for j in s]\n",
    "    sist_latex=r\"\"\"\\left\\{\\begin{matrix}\"\"\"+r\" \\\\ \". join(s) + r'\\end{matrix}\\right.'\n",
    "    # display(reduce_rational_inequalities([sist],x,relational=False))\n",
    "    mostrar_ejercicio(r\"$\"+sist_latex+r\"$\",r\"$\"+latex(reduce_rational_inequalities([sist],x,relational=False))+r\"$\")"
   ]
  },
  {
   "cell_type": "code",
   "execution_count": 10,
   "metadata": {
    "colab": {
     "base_uri": "https://localhost:8080/",
     "height": 683
    },
    "id": "UIZtoKfg4kVe",
    "outputId": "00d38d35-be97-4796-9d39-2f0d93f07971"
   },
   "outputs": [
    {
     "data": {
      "text/markdown": [
       "**Resolver inecuaciones de racionales:**"
      ],
      "text/plain": [
       "<IPython.core.display.Markdown object>"
      ]
     },
     "metadata": {},
     "output_type": "display_data"
    },
    {
     "data": {
      "text/markdown": [
       "#### Ejercicio:"
      ],
      "text/plain": [
       "<IPython.core.display.Markdown object>"
      ]
     },
     "metadata": {},
     "output_type": "display_data"
    },
    {
     "data": {
      "text/markdown": [
       "$\\frac{{( {x + 3} )}}{{x - 4}} \\geq 0$ $\\to$ $\\left(-\\infty, -3\\right] \\cup \\left(4, \\infty\\right)$"
      ],
      "text/plain": [
       "<IPython.core.display.Markdown object>"
      ]
     },
     "metadata": {},
     "output_type": "display_data"
    },
    {
     "name": "stdout",
     "output_type": "stream",
     "text": [
      "enunciado_latex: $\\frac{{( {x + 3} )}}{{x - 4}} \\geq 0$\n",
      "solucion_latex: $\\left(-\\infty, -3\\right] \\cup \\left(4, \\infty\\right)$\n"
     ]
    },
    {
     "data": {
      "text/markdown": [
       "#### Ejercicio:"
      ],
      "text/plain": [
       "<IPython.core.display.Markdown object>"
      ]
     },
     "metadata": {},
     "output_type": "display_data"
    },
    {
     "data": {
      "text/markdown": [
       "$\\frac{{2x + 6}}{{x - 5}} \\geq 0$ $\\to$ $\\left(-\\infty, -3\\right] \\cup \\left(5, \\infty\\right)$"
      ],
      "text/plain": [
       "<IPython.core.display.Markdown object>"
      ]
     },
     "metadata": {},
     "output_type": "display_data"
    },
    {
     "name": "stdout",
     "output_type": "stream",
     "text": [
      "enunciado_latex: $\\frac{{2x + 6}}{{x - 5}} \\geq 0$\n",
      "solucion_latex: $\\left(-\\infty, -3\\right] \\cup \\left(5, \\infty\\right)$\n"
     ]
    },
    {
     "data": {
      "text/markdown": [
       "#### Ejercicio:"
      ],
      "text/plain": [
       "<IPython.core.display.Markdown object>"
      ]
     },
     "metadata": {},
     "output_type": "display_data"
    },
    {
     "data": {
      "text/markdown": [
       "$\\frac{{x - 8}}{{3x - 6}} < 0$ $\\to$ $\\left(2, 8\\right)$"
      ],
      "text/plain": [
       "<IPython.core.display.Markdown object>"
      ]
     },
     "metadata": {},
     "output_type": "display_data"
    },
    {
     "name": "stdout",
     "output_type": "stream",
     "text": [
      "enunciado_latex: $\\frac{{x - 8}}{{3x - 6}} < 0$\n",
      "solucion_latex: $\\left(2, 8\\right)$\n"
     ]
    },
    {
     "data": {
      "text/markdown": [
       "#### Ejercicio:"
      ],
      "text/plain": [
       "<IPython.core.display.Markdown object>"
      ]
     },
     "metadata": {},
     "output_type": "display_data"
    },
    {
     "data": {
      "text/markdown": [
       "$\\frac{{x - 2}}{{x + 2}} < 0$ $\\to$ $\\left(-2, 2\\right)$"
      ],
      "text/plain": [
       "<IPython.core.display.Markdown object>"
      ]
     },
     "metadata": {},
     "output_type": "display_data"
    },
    {
     "name": "stdout",
     "output_type": "stream",
     "text": [
      "enunciado_latex: $\\frac{{x - 2}}{{x + 2}} < 0$\n",
      "solucion_latex: $\\left(-2, 2\\right)$\n"
     ]
    },
    {
     "data": {
      "text/markdown": [
       "#### Ejercicio:"
      ],
      "text/plain": [
       "<IPython.core.display.Markdown object>"
      ]
     },
     "metadata": {},
     "output_type": "display_data"
    },
    {
     "data": {
      "text/markdown": [
       "$\\frac{{x + 3}}{{4x}} < 0$ $\\to$ $\\left(-3, 0\\right)$"
      ],
      "text/plain": [
       "<IPython.core.display.Markdown object>"
      ]
     },
     "metadata": {},
     "output_type": "display_data"
    },
    {
     "name": "stdout",
     "output_type": "stream",
     "text": [
      "enunciado_latex: $\\frac{{x + 3}}{{4x}} < 0$\n",
      "solucion_latex: $\\left(-3, 0\\right)$\n"
     ]
    },
    {
     "data": {
      "text/markdown": [
       "#### Ejercicio:"
      ],
      "text/plain": [
       "<IPython.core.display.Markdown object>"
      ]
     },
     "metadata": {},
     "output_type": "display_data"
    },
    {
     "data": {
      "text/markdown": [
       "$\\frac{{( {x - 1} ) \\cdot ( {x - 2} )}}{{3{x^2} + 4}} \\geq 0$ $\\to$ $\\left(-\\infty, 1\\right] \\cup \\left[2, \\infty\\right)$"
      ],
      "text/plain": [
       "<IPython.core.display.Markdown object>"
      ]
     },
     "metadata": {},
     "output_type": "display_data"
    },
    {
     "name": "stdout",
     "output_type": "stream",
     "text": [
      "enunciado_latex: $\\frac{{( {x - 1} ) \\cdot ( {x - 2} )}}{{3{x^2} + 4}} \\geq 0$\n",
      "solucion_latex: $\\left(-\\infty, 1\\right] \\cup \\left[2, \\infty\\right)$\n"
     ]
    }
   ],
   "source": [
    "# Resolver inecuaciones\n",
    "\n",
    "texto_ejercicio = 'Resolver inecuaciones de racionales:'\n",
    "\n",
    "display(md(\"**\"+texto_ejercicio+\"**\"))\n",
    "\n",
    "pre_enunciado_latex = [\n",
    "                     r'\\frac{{( {x + 3} )}}{{x - 4}} \\geq 0', r'\\frac{{2x + 6}}{{x - 5}} \\geq 0',\n",
    "                     r'\\frac{{x - 8}}{{3x - 6}} < 0', r'\\frac{{x - 2}}{{x + 2}} < 0',\n",
    "                     r'\\frac{{x + 3}}{{4x}} < 0',\n",
    "                     r'\\frac{{( {x - 1} ) \\cdot ( {x - 2} )}}{{3{x^2} + 4}} \\geq 0'\n",
    "                    ]\n",
    "\n",
    "for i in pre_enunciado_latex :\n",
    "    #display(sol_sist(s))\n",
    "    mostrar_ejercicio(r\"$\"+i+r\"$\",r\"$\"+latex(solve_univariate_inequality(parse_latex(i), x,  relational=False))+r\"$\")"
   ]
  },
  {
   "cell_type": "code",
   "execution_count": 11,
   "metadata": {
    "colab": {
     "base_uri": "https://localhost:8080/",
     "height": 683
    },
    "id": "mY90NCWlTaGr",
    "outputId": "039e1abf-1cbe-4974-c731-f48e6a7f0639"
   },
   "outputs": [
    {
     "data": {
      "text/markdown": [
       "**Resolver inecuaciones con valor absoluto:**"
      ],
      "text/plain": [
       "<IPython.core.display.Markdown object>"
      ]
     },
     "metadata": {},
     "output_type": "display_data"
    },
    {
     "data": {
      "text/markdown": [
       "#### Ejercicio:"
      ],
      "text/plain": [
       "<IPython.core.display.Markdown object>"
      ]
     },
     "metadata": {},
     "output_type": "display_data"
    },
    {
     "data": {
      "text/markdown": [
       "$\\frac{{( {x + 3} )}}{{x - 4}} \\geq 0$ $\\to$ $\\left(-\\infty, -3\\right] \\cup \\left(4, \\infty\\right)$"
      ],
      "text/plain": [
       "<IPython.core.display.Markdown object>"
      ]
     },
     "metadata": {},
     "output_type": "display_data"
    },
    {
     "name": "stdout",
     "output_type": "stream",
     "text": [
      "enunciado_latex: $\\frac{{( {x + 3} )}}{{x - 4}} \\geq 0$\n",
      "solucion_latex: $\\left(-\\infty, -3\\right] \\cup \\left(4, \\infty\\right)$\n"
     ]
    },
    {
     "data": {
      "text/markdown": [
       "#### Ejercicio:"
      ],
      "text/plain": [
       "<IPython.core.display.Markdown object>"
      ]
     },
     "metadata": {},
     "output_type": "display_data"
    },
    {
     "data": {
      "text/markdown": [
       "$\\frac{{2x + 6}}{{x - 5}} \\geq 0$ $\\to$ $\\left(-\\infty, -3\\right] \\cup \\left(5, \\infty\\right)$"
      ],
      "text/plain": [
       "<IPython.core.display.Markdown object>"
      ]
     },
     "metadata": {},
     "output_type": "display_data"
    },
    {
     "name": "stdout",
     "output_type": "stream",
     "text": [
      "enunciado_latex: $\\frac{{2x + 6}}{{x - 5}} \\geq 0$\n",
      "solucion_latex: $\\left(-\\infty, -3\\right] \\cup \\left(5, \\infty\\right)$\n"
     ]
    },
    {
     "data": {
      "text/markdown": [
       "#### Ejercicio:"
      ],
      "text/plain": [
       "<IPython.core.display.Markdown object>"
      ]
     },
     "metadata": {},
     "output_type": "display_data"
    },
    {
     "data": {
      "text/markdown": [
       "$\\frac{{x - 8}}{{3x - 6}} < 0$ $\\to$ $\\left(2, 8\\right)$"
      ],
      "text/plain": [
       "<IPython.core.display.Markdown object>"
      ]
     },
     "metadata": {},
     "output_type": "display_data"
    },
    {
     "name": "stdout",
     "output_type": "stream",
     "text": [
      "enunciado_latex: $\\frac{{x - 8}}{{3x - 6}} < 0$\n",
      "solucion_latex: $\\left(2, 8\\right)$\n"
     ]
    },
    {
     "data": {
      "text/markdown": [
       "#### Ejercicio:"
      ],
      "text/plain": [
       "<IPython.core.display.Markdown object>"
      ]
     },
     "metadata": {},
     "output_type": "display_data"
    },
    {
     "data": {
      "text/markdown": [
       "$\\frac{{x - 2}}{{x + 2}} < 0$ $\\to$ $\\left(-2, 2\\right)$"
      ],
      "text/plain": [
       "<IPython.core.display.Markdown object>"
      ]
     },
     "metadata": {},
     "output_type": "display_data"
    },
    {
     "name": "stdout",
     "output_type": "stream",
     "text": [
      "enunciado_latex: $\\frac{{x - 2}}{{x + 2}} < 0$\n",
      "solucion_latex: $\\left(-2, 2\\right)$\n"
     ]
    },
    {
     "data": {
      "text/markdown": [
       "#### Ejercicio:"
      ],
      "text/plain": [
       "<IPython.core.display.Markdown object>"
      ]
     },
     "metadata": {},
     "output_type": "display_data"
    },
    {
     "data": {
      "text/markdown": [
       "$\\frac{{x + 3}}{{4x}} < 0$ $\\to$ $\\left(-3, 0\\right)$"
      ],
      "text/plain": [
       "<IPython.core.display.Markdown object>"
      ]
     },
     "metadata": {},
     "output_type": "display_data"
    },
    {
     "name": "stdout",
     "output_type": "stream",
     "text": [
      "enunciado_latex: $\\frac{{x + 3}}{{4x}} < 0$\n",
      "solucion_latex: $\\left(-3, 0\\right)$\n"
     ]
    },
    {
     "data": {
      "text/markdown": [
       "#### Ejercicio:"
      ],
      "text/plain": [
       "<IPython.core.display.Markdown object>"
      ]
     },
     "metadata": {},
     "output_type": "display_data"
    },
    {
     "data": {
      "text/markdown": [
       "$\\frac{{( {x - 1} ) \\cdot ( {x - 2} )}}{{3{x^2} + 4}} \\geq 0$ $\\to$ $\\left(-\\infty, 1\\right] \\cup \\left[2, \\infty\\right)$"
      ],
      "text/plain": [
       "<IPython.core.display.Markdown object>"
      ]
     },
     "metadata": {},
     "output_type": "display_data"
    },
    {
     "name": "stdout",
     "output_type": "stream",
     "text": [
      "enunciado_latex: $\\frac{{( {x - 1} ) \\cdot ( {x - 2} )}}{{3{x^2} + 4}} \\geq 0$\n",
      "solucion_latex: $\\left(-\\infty, 1\\right] \\cup \\left[2, \\infty\\right)$\n"
     ]
    }
   ],
   "source": [
    "# Resolver inecuaciones\n",
    "\n",
    "texto_ejercicio = 'Resolver inecuaciones con valor absoluto:'\n",
    "\n",
    "display(md(\"**\"+texto_ejercicio+\"**\"))\n",
    "\n",
    "pre_enunciado_latex = [\n",
    "                     r'\\frac{{( {x + 3} )}}{{x - 4}} \\geq 0', r'\\frac{{2x + 6}}{{x - 5}} \\geq 0',\n",
    "                     r'\\frac{{x - 8}}{{3x - 6}} < 0', r'\\frac{{x - 2}}{{x + 2}} < 0',\n",
    "                     r'\\frac{{x + 3}}{{4x}} < 0',\n",
    "                     r'\\frac{{( {x - 1} ) \\cdot ( {x - 2} )}}{{3{x^2} + 4}} \\geq 0'\n",
    "                    ]\n",
    "\n",
    "for i in pre_enunciado_latex :\n",
    "    #display(sol_sist(s))\n",
    "    mostrar_ejercicio(r\"$\"+i+r\"$\",r\"$\"+latex(solve_univariate_inequality(parse_latex(i), x,  relational=False))+r\"$\")"
   ]
  },
  {
   "cell_type": "code",
   "execution_count": 12,
   "metadata": {
    "colab": {
     "base_uri": "https://localhost:8080/",
     "height": 465
    },
    "id": "74mWOwEQT09Q",
    "outputId": "1508106f-1d89-44c8-f480-da7db440d32a"
   },
   "outputs": [
    {
     "data": {
      "text/markdown": [
       "**Resolver inecuaciones con valor absoluto:**"
      ],
      "text/plain": [
       "<IPython.core.display.Markdown object>"
      ]
     },
     "metadata": {},
     "output_type": "display_data"
    },
    {
     "data": {
      "text/markdown": [
       "#### Ejercicio:"
      ],
      "text/plain": [
       "<IPython.core.display.Markdown object>"
      ]
     },
     "metadata": {},
     "output_type": "display_data"
    },
    {
     "data": {
      "text/markdown": [
       "$| {3x - 1} | \\leq 5$ $\\to$ $\\left[- \\frac{4}{3}, 2\\right]$"
      ],
      "text/plain": [
       "<IPython.core.display.Markdown object>"
      ]
     },
     "metadata": {},
     "output_type": "display_data"
    },
    {
     "name": "stdout",
     "output_type": "stream",
     "text": [
      "enunciado_latex: $| {3x - 1} | \\leq 5$\n",
      "solucion_latex: $\\left[- \\frac{4}{3}, 2\\right]$\n"
     ]
    },
    {
     "data": {
      "text/markdown": [
       "#### Ejercicio:"
      ],
      "text/plain": [
       "<IPython.core.display.Markdown object>"
      ]
     },
     "metadata": {},
     "output_type": "display_data"
    },
    {
     "data": {
      "text/markdown": [
       "$| {4x + 3} |> 2$ $\\to$ $\\left(-\\infty, - \\frac{5}{4}\\right) \\cup \\left(- \\frac{1}{4}, \\infty\\right)$"
      ],
      "text/plain": [
       "<IPython.core.display.Markdown object>"
      ]
     },
     "metadata": {},
     "output_type": "display_data"
    },
    {
     "name": "stdout",
     "output_type": "stream",
     "text": [
      "enunciado_latex: $| {4x + 3} |> 2$\n",
      "solucion_latex: $\\left(-\\infty, - \\frac{5}{4}\\right) \\cup \\left(- \\frac{1}{4}, \\infty\\right)$\n"
     ]
    },
    {
     "data": {
      "text/markdown": [
       "#### Ejercicio:"
      ],
      "text/plain": [
       "<IPython.core.display.Markdown object>"
      ]
     },
     "metadata": {},
     "output_type": "display_data"
    },
    {
     "data": {
      "text/markdown": [
       "$| {3 - 4x} | \\geq 5$ $\\to$ $\\left(-\\infty, - \\frac{1}{2}\\right] \\cup \\left[2, \\infty\\right)$"
      ],
      "text/plain": [
       "<IPython.core.display.Markdown object>"
      ]
     },
     "metadata": {},
     "output_type": "display_data"
    },
    {
     "name": "stdout",
     "output_type": "stream",
     "text": [
      "enunciado_latex: $| {3 - 4x} | \\geq 5$\n",
      "solucion_latex: $\\left(-\\infty, - \\frac{1}{2}\\right] \\cup \\left[2, \\infty\\right)$\n"
     ]
    },
    {
     "data": {
      "text/markdown": [
       "#### Ejercicio:"
      ],
      "text/plain": [
       "<IPython.core.display.Markdown object>"
      ]
     },
     "metadata": {},
     "output_type": "display_data"
    },
    {
     "data": {
      "text/markdown": [
       "$| {5x - 3} | \\leq 2$ $\\to$ $\\left[\\frac{1}{5}, 1\\right]$"
      ],
      "text/plain": [
       "<IPython.core.display.Markdown object>"
      ]
     },
     "metadata": {},
     "output_type": "display_data"
    },
    {
     "name": "stdout",
     "output_type": "stream",
     "text": [
      "enunciado_latex: $| {5x - 3} | \\leq 2$\n",
      "solucion_latex: $\\left[\\frac{1}{5}, 1\\right]$\n"
     ]
    }
   ],
   "source": [
    "# Resolver inecuaciones\n",
    "\n",
    "texto_ejercicio = 'Resolver inecuaciones con valor absoluto:'\n",
    "\n",
    "display(md(\"**\"+texto_ejercicio+\"**\"))\n",
    "\n",
    "pre_enunciado_latex = [\n",
    "                     r'| {3x - 1} | \\leq 5', r'| {4x + 3} |> 2', r'| {3 - 4x} | \\geq 5', r'| {5x - 3} | \\leq 2'\n",
    "\n",
    "                    ]\n",
    "\n",
    "for i in pre_enunciado_latex :\n",
    "    ine = parse_latex(i)    \n",
    "    des = '>=' if ine.has(GreaterThan) else '<=' if ine.has(LessThan) else '>' if ine.has(StrictGreaterThan) else '<' if ine.has(StrictLessThan) else 'ninguno'\n",
    "    mostrar_ejercicio(r\"$\"+i+r\"$\",r\"$\"+latex(reduce_abs_inequalities([(ine.args[0]-ine.args[1],des)],x).as_set())+r\"$\")"
   ]
  },
  {
   "cell_type": "code",
   "execution_count": 13,
   "metadata": {
    "colab": {
     "base_uri": "https://localhost:8080/",
     "height": 517
    },
    "id": "0vgTKOrE_K5D",
    "outputId": "d78afb41-16ac-4d51-d3a3-be8f1230a7be"
   },
   "outputs": [
    {
     "data": {
      "image/png": "[encoded data removed]",
      "text/plain": [
       "<Figure size 432x288 with 1 Axes>"
      ]
     },
     "metadata": {
      "needs_background": "light"
     },
     "output_type": "display_data"
    }
   ],
   "source": [
    "%matplotlib inline\n",
    "\n",
    "sist = [r'x + y \\leq 2 ',r' - 2x + y \\geq 4']\n",
    "s=[parse_latex(i) for i in sist]\n",
    "p1=plot_implicit(And(s[0],s[1]), show=False)\n",
    "# p1.extend(plot_implicit(Eq(x+y,2),line_color='r', show=False))\n",
    "p1.extend(plot_implicit(Eq(s[0].args[0],s[0].args[1]),line_color='r', show=False))\n",
    "p1.extend(plot_implicit(Eq(s[1].args[0],s[1].args[1]),line_color='g', show=False))\n",
    "p1.show()\n",
    "#p1.save('p1.pgf')\n",
    "\n"
   ]
  },
  {
   "cell_type": "code",
   "execution_count": 14,
   "metadata": {
    "id": "TLC0KK6LieEl",
    "outputId": "eeb7b565-1c17-425a-9af7-7f7f5a1ce130"
   },
   "outputs": [
    {
     "data": {
      "text/markdown": [
       "**Resolver sistemas de inecuaciones con dos incógnitas:**"
      ],
      "text/plain": [
       "<IPython.core.display.Markdown object>"
      ]
     },
     "metadata": {},
     "output_type": "display_data"
    },
    {
     "data": {
      "image/png": "[encoded data removed]",
      "text/plain": [
       "<Figure size 432x288 with 1 Axes>"
      ]
     },
     "metadata": {
      "needs_background": "light"
     },
     "output_type": "display_data"
    },
    {
     "data": {
      "text/markdown": [
       "#### Ejercicio:"
      ],
      "text/plain": [
       "<IPython.core.display.Markdown object>"
      ]
     },
     "metadata": {},
     "output_type": "display_data"
    },
    {
     "data": {
      "text/markdown": [
       "$\\left\\{\\begin{matrix}y <  - 2x + 4 \\\\ y \\geq x\\end{matrix}\\right.$ $\\to$ \\scalebox{.6}{\\input{sistema_0.pgf}}"
      ],
      "text/plain": [
       "<IPython.core.display.Markdown object>"
      ]
     },
     "metadata": {},
     "output_type": "display_data"
    },
    {
     "name": "stdout",
     "output_type": "stream",
     "text": [
      "enunciado_latex: $\\left\\{\\begin{matrix}y <  - 2x + 4 \\\\ y \\geq x\\end{matrix}\\right.$\n",
      "solucion_latex: \\scalebox{.6}{\\input{sistema_0.pgf}}\n"
     ]
    },
    {
     "data": {
      "image/png": "[encoded data removed]",
      "text/plain": [
       "<Figure size 432x288 with 1 Axes>"
      ]
     },
     "metadata": {
      "needs_background": "light"
     },
     "output_type": "display_data"
    },
    {
     "data": {
      "text/markdown": [
       "#### Ejercicio:"
      ],
      "text/plain": [
       "<IPython.core.display.Markdown object>"
      ]
     },
     "metadata": {},
     "output_type": "display_data"
    },
    {
     "data": {
      "text/markdown": [
       "$\\left\\{\\begin{matrix}6x - 5y \\leq 30 \\\\ 4x + 3y \\leq 0\\end{matrix}\\right.$ $\\to$ \\scalebox{.6}{\\input{sistema_1.pgf}}"
      ],
      "text/plain": [
       "<IPython.core.display.Markdown object>"
      ]
     },
     "metadata": {},
     "output_type": "display_data"
    },
    {
     "name": "stdout",
     "output_type": "stream",
     "text": [
      "enunciado_latex: $\\left\\{\\begin{matrix}6x - 5y \\leq 30 \\\\ 4x + 3y \\leq 0\\end{matrix}\\right.$\n",
      "solucion_latex: \\scalebox{.6}{\\input{sistema_1.pgf}}\n"
     ]
    },
    {
     "data": {
      "image/png": "[encoded data removed]",
      "text/plain": [
       "<Figure size 432x288 with 1 Axes>"
      ]
     },
     "metadata": {
      "needs_background": "light"
     },
     "output_type": "display_data"
    },
    {
     "data": {
      "text/markdown": [
       "#### Ejercicio:"
      ],
      "text/plain": [
       "<IPython.core.display.Markdown object>"
      ]
     },
     "metadata": {},
     "output_type": "display_data"
    },
    {
     "data": {
      "text/markdown": [
       "$\\left\\{\\begin{matrix}y \\leq 2 \\\\ x + y \\leq 3 \\\\ x \\geq 0 \\\\ y \\geq 0\\end{matrix}\\right.$ $\\to$ \\scalebox{.6}{\\input{sistema_2.pgf}}"
      ],
      "text/plain": [
       "<IPython.core.display.Markdown object>"
      ]
     },
     "metadata": {},
     "output_type": "display_data"
    },
    {
     "name": "stdout",
     "output_type": "stream",
     "text": [
      "enunciado_latex: $\\left\\{\\begin{matrix}y \\leq 2 \\\\ x + y \\leq 3 \\\\ x \\geq 0 \\\\ y \\geq 0\\end{matrix}\\right.$\n",
      "solucion_latex: \\scalebox{.6}{\\input{sistema_2.pgf}}\n"
     ]
    },
    {
     "data": {
      "image/png": "[encoded data removed]",
      "text/plain": [
       "<Figure size 432x288 with 1 Axes>"
      ]
     },
     "metadata": {
      "needs_background": "light"
     },
     "output_type": "display_data"
    },
    {
     "data": {
      "text/markdown": [
       "#### Ejercicio:"
      ],
      "text/plain": [
       "<IPython.core.display.Markdown object>"
      ]
     },
     "metadata": {},
     "output_type": "display_data"
    },
    {
     "data": {
      "text/markdown": [
       "$\\left\\{\\begin{matrix}x + y \\leq 5 \\\\ x + 3y \\geq 9 \\\\ x \\geq 0 \\\\ y \\geq 0\\end{matrix}\\right.$ $\\to$ \\scalebox{.6}{\\input{sistema_3.pgf}}"
      ],
      "text/plain": [
       "<IPython.core.display.Markdown object>"
      ]
     },
     "metadata": {},
     "output_type": "display_data"
    },
    {
     "name": "stdout",
     "output_type": "stream",
     "text": [
      "enunciado_latex: $\\left\\{\\begin{matrix}x + y \\leq 5 \\\\ x + 3y \\geq 9 \\\\ x \\geq 0 \\\\ y \\geq 0\\end{matrix}\\right.$\n",
      "solucion_latex: \\scalebox{.6}{\\input{sistema_3.pgf}}\n"
     ]
    }
   ],
   "source": [
    "%matplotlib inline\n",
    "\n",
    "# Resolver sistemas de inecuaciones con dos incógnitas\n",
    "\n",
    "texto_ejercicio = 'Resolver sistemas de inecuaciones con dos incógnitas:'\n",
    "\n",
    "display(md(\"**\"+texto_ejercicio+\"**\"))\n",
    "\n",
    "sistemas = [\n",
    "                    [r'y <  - 2x + 4' , r'y \\geq x'], \n",
    "                    [r'6x - 5y \\leq 30', r'4x + 3y \\leq 0'],\n",
    "                    [r'y \\leq 2',r'x + y \\leq 3',r'x \\geq 0', r'y \\geq 0'],\n",
    "                    [r'x + y \\leq 5',r'x + 3y \\geq 9', r'x \\geq 0', r'y \\geq 0'],\n",
    "                        #  [r'x + y \\leq 2 ',r' - 2x + y \\geq 4'],\n",
    "#                     [r'y <  - 2x + 4',r'y \\geq x',r'x \\geq-2']\n",
    "                    \n",
    "    \n",
    "                    ]\n",
    "\n",
    "for j,sist in enumerate(sistemas) :\n",
    "    s=[parse_latex(i) for i in sist]\n",
    "    sist_latex=r\"\"\"\\left\\{\\begin{matrix}\"\"\"+r\" \\\\ \". join(sist)+ r'\\end{matrix}\\right.'\n",
    "    set=s[0]\n",
    "    for k in range(len(sist)-1) :\n",
    "        set = And(set,s[k+1])\n",
    "    p1=plot_implicit(set, show=False)\n",
    "    # p1.extend(plot_implicit(Eq(x+y,2),line_color='r', show=False))\n",
    "    for k in range(len(sist)):\n",
    "        p1.extend(plot_implicit(Eq(s[k].args[0],s[k].args[1]),x_var=x,line_color='r', show=False))\n",
    "    \n",
    "    p1.save('sistema_{}.pgf'.format(j))\n",
    "    p1.show()\n",
    "#     p1.save('sistema_{}.png'.format(j))\n",
    "    mostrar_ejercicio(r\"$\"+sist_latex+r\"$\",r\"\"\"\\scalebox{.6}{\\input{sistema_\"\"\"+latex(j)+r\"\"\".pgf}}\"\"\")"
   ]
  }
 ],
 "metadata": {
  "colab": {
   "name": "7 Sistemas.ipynb",
   "provenance": []
  },
  "kernelspec": {
   "display_name": "Python 3",
   "language": "python",
   "name": "python3"
  },
  "language_info": {
   "codemirror_mode": {
    "name": "ipython",
    "version": 3
   },
   "file_extension": ".py",
   "mimetype": "text/x-python",
   "name": "python",
   "nbconvert_exporter": "python",
   "pygments_lexer": "ipython3",
   "version": "3.6.12"
  }
 },
 "nbformat": 4,
 "nbformat_minor": 1
}
