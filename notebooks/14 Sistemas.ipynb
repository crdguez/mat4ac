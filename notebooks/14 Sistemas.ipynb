{
 "cells": [
  {
   "cell_type": "code",
   "execution_count": 1,
   "metadata": {
    "colab": {
     "base_uri": "https://localhost:8080/"
    },
    "id": "XLjKRF_kknDB",
    "outputId": "bf368ad3-b06b-4d98-c873-15e25c6e4091"
   },
   "outputs": [
    {
     "name": "stdout",
     "output_type": "stream",
     "text": [
      "Collecting sympy==1.5\n",
      "\u001b[?25l  Downloading https://files.pythonhosted.org/packages/4d/a7/25d5d6b3295537ab90bdbcd21e464633fb4a0684dd9a065da404487625bb/sympy-1.5-py2.py3-none-any.whl (5.6MB)\n",
      "\u001b[K     |████████████████████████████████| 5.6MB 3.6MB/s \n",
      "\u001b[?25hCollecting antlr4-python3-runtime==4.7.1\n",
      "\u001b[?25l  Downloading https://files.pythonhosted.org/packages/3e/96/aba01b2948ec67f237cd387c022820835ae0d8db5cab4bd404b351660b5e/antlr4-python3-runtime-4.7.1.tar.gz (111kB)\n",
      "\u001b[K     |████████████████████████████████| 112kB 38.7MB/s \n",
      "\u001b[?25hRequirement already satisfied: mpmath>=0.19 in /usr/local/lib/python3.6/dist-packages (from sympy==1.5) (1.1.0)\n",
      "Building wheels for collected packages: antlr4-python3-runtime\n",
      "  Building wheel for antlr4-python3-runtime (setup.py) ... \u001b[?25l\u001b[?25hdone\n",
      "  Created wheel for antlr4-python3-runtime: filename=antlr4_python3_runtime-4.7.1-cp36-none-any.whl size=140553 sha256=491e98a7cb2a58892ac9d0e721ac6d3c880ffbb2585821b458e57afaf502a2d7\n",
      "  Stored in directory: /root/.cache/pip/wheels/ef/f6/18/ad300e691236a3408a99edc750484b56e8d6b11b2c38eacb10\n",
      "Successfully built antlr4-python3-runtime\n",
      "Installing collected packages: sympy, antlr4-python3-runtime\n",
      "  Found existing installation: sympy 1.1.1\n",
      "    Uninstalling sympy-1.1.1:\n",
      "      Successfully uninstalled sympy-1.1.1\n",
      "Successfully installed antlr4-python3-runtime-4.7.1 sympy-1.5\n"
     ]
    }
   ],
   "source": [
    "# Ejecutar para que funcione el parse_latex en google colab\n",
    " \n",
    "# !pip install sympy==1.5 antlr4-python3-runtime==4.7.1"
   ]
  },
  {
   "cell_type": "code",
   "execution_count": 1,
   "metadata": {
    "colab": {
     "base_uri": "https://localhost:8080/"
    },
    "id": "tVIMjcDSknDa",
    "outputId": "8a4c95fe-51d7-4ded-d63f-41e146567df4"
   },
   "outputs": [
    {
     "name": "stdout",
     "output_type": "stream",
     "text": [
      "IPython console for SymPy 1.6.2 (Python 3.6.12-64-bit) (ground types: gmpy)\n",
      "\n",
      "These commands were executed:\n",
      ">>> from __future__ import division\n",
      ">>> from sympy import *\n",
      ">>> x, y, z, t = symbols('x y z t')\n",
      ">>> k, m, n = symbols('k m n', integer=True)\n",
      ">>> f, g, h = symbols('f g h', cls=Function)\n",
      ">>> init_printing()\n",
      "\n",
      "Documentation can be found at https://docs.sympy.org/1.6.2/\n",
      "\n"
     ]
    }
   ],
   "source": [
    "from sympy import init_session\n",
    "from sympy.parsing.latex import parse_latex\n",
    "from sympy.parsing.sympy_parser import parse_expr\n",
    "from IPython.display import Markdown as md\n",
    "from IPython.display import display\n",
    "\n",
    "init_session()"
   ]
  },
  {
   "cell_type": "code",
   "execution_count": 3,
   "metadata": {
    "id": "U_EQ3XUBknDf"
   },
   "outputs": [],
   "source": [
    "def mostrar_ejercicio(ejercicio,solucion,tipo=0) :\n",
    "    #tipo=0 se pasa el ejercicio y la solucion en formato latex\n",
    "    if tipo == 0 :\n",
    "        display(md(\"#### Ejercicio:\"))\n",
    "        display(md(r\"{} $\\to$ {}\".format(ejercicio, solucion)))\n",
    "        print(\"enunciado_latex: \" + ejercicio)\n",
    "        print(\"solucion_latex: \" + solucion)\n",
    "        return ejercicio, solucion\n",
    "    elif tipo == 1:\n",
    "        # falta desarrollar ...\n",
    "        display(md(\"#### Ejercicio:\"))\n",
    "        display(md(r\"{} $\\to$ {}\".format(ejercicio, solucion)))\n",
    "        print(\"enunciado_latex: \" + ejercicio)\n",
    "        print(\"solucion_latex: \" + solucion)\n",
    "        return ejercicio, solucion\n",
    "\n",
    "        "
   ]
  },
  {
   "cell_type": "code",
   "execution_count": 4,
   "metadata": {
    "id": "77UJCXVIA_nu"
   },
   "outputs": [],
   "source": [
    "def sol_sist(sist):\n",
    "    # Función que recibe un sistema de ecuaciones en Latex y devuelve: \n",
    "    # El sistema en latex, la lista de exuaciones sympy, la solución y la matriz de ecuacuibes\n",
    "    \n",
    "    sist_latex = r\"\"\"\\left\\{\\begin{matrix}\"\"\"\n",
    "    eq = []\n",
    "    sb = S.EmptySet # variables de las ecuaciones\n",
    "    \n",
    "    for i,e in enumerate(sist):\n",
    "        sist_latex += e + r'\\\\ '\n",
    "        eq.append(Eq(parse_latex(e[:e.find('=')]),parse_latex(e[e.find('=')+1:])).simplify())\n",
    "        sb = parse_latex(e[:e.find('=')]).free_symbols.union(sb)\n",
    "        sb = parse_latex(e[e.find('=')+1:]).free_symbols.union(sb)       \n",
    "       \n",
    "\n",
    "    sist_latex += r'\\end{matrix}\\right.'\n",
    "    \n",
    "    matriz = linear_eq_to_matrix(eq,list(sb))\n",
    "    matriz = matriz[0].row_join(matriz[1])\n",
    "    \n",
    "    return [sist_latex, eq, solve(eq), matriz]    "
   ]
  },
  {
   "cell_type": "code",
   "execution_count": 5,
   "metadata": {
    "id": "2HFkgfNRA_n_",
    "outputId": "09fca6e9-5f9b-4eb4-e61f-af48c068730f"
   },
   "outputs": [
    {
     "data": {
      "text/markdown": [
       "**Resolver los sistemas lineales:**"
      ],
      "text/plain": [
       "<IPython.core.display.Markdown object>"
      ]
     },
     "metadata": {},
     "output_type": "display_data"
    },
    {
     "data": {
      "text/markdown": [
       "#### Ejercicio:"
      ],
      "text/plain": [
       "<IPython.core.display.Markdown object>"
      ]
     },
     "metadata": {},
     "output_type": "display_data"
    },
    {
     "data": {
      "text/markdown": [
       "$\\left\\{\\begin{matrix}3x - 2y = 1\\\\ x + 6y = 7\\\\ \\end{matrix}\\right.$ $\\to$ $\\left\\{ x : 1, \\  y : 1\\right\\}$"
      ],
      "text/plain": [
       "<IPython.core.display.Markdown object>"
      ]
     },
     "metadata": {},
     "output_type": "display_data"
    },
    {
     "name": "stdout",
     "output_type": "stream",
     "text": [
      "enunciado_latex: $\\left\\{\\begin{matrix}3x - 2y = 1\\\\ x + 6y = 7\\\\ \\end{matrix}\\right.$\n",
      "solucion_latex: $\\left\\{ x : 1, \\  y : 1\\right\\}$\n"
     ]
    },
    {
     "data": {
      "text/markdown": [
       "#### Ejercicio:"
      ],
      "text/plain": [
       "<IPython.core.display.Markdown object>"
      ]
     },
     "metadata": {},
     "output_type": "display_data"
    },
    {
     "data": {
      "text/markdown": [
       "$\\left\\{\\begin{matrix}6x - 2y = 14\\\\ 3x - y = 7 \\\\ \\end{matrix}\\right.$ $\\to$ $\\left\\{ x : \\frac{y}{3} + \\frac{7}{3}\\right\\}$"
      ],
      "text/plain": [
       "<IPython.core.display.Markdown object>"
      ]
     },
     "metadata": {},
     "output_type": "display_data"
    },
    {
     "name": "stdout",
     "output_type": "stream",
     "text": [
      "enunciado_latex: $\\left\\{\\begin{matrix}6x - 2y = 14\\\\ 3x - y = 7 \\\\ \\end{matrix}\\right.$\n",
      "solucion_latex: $\\left\\{ x : \\frac{y}{3} + \\frac{7}{3}\\right\\}$\n"
     ]
    },
    {
     "data": {
      "text/markdown": [
       "#### Ejercicio:"
      ],
      "text/plain": [
       "<IPython.core.display.Markdown object>"
      ]
     },
     "metadata": {},
     "output_type": "display_data"
    },
    {
     "data": {
      "text/markdown": [
       "$\\left\\{\\begin{matrix}6x - 2y = 9\\\\ 3x - y = 10\\\\ \\end{matrix}\\right.$ $\\to$ $\\left[ \\right]$"
      ],
      "text/plain": [
       "<IPython.core.display.Markdown object>"
      ]
     },
     "metadata": {},
     "output_type": "display_data"
    },
    {
     "name": "stdout",
     "output_type": "stream",
     "text": [
      "enunciado_latex: $\\left\\{\\begin{matrix}6x - 2y = 9\\\\ 3x - y = 10\\\\ \\end{matrix}\\right.$\n",
      "solucion_latex: $\\left[ \\right]$\n"
     ]
    },
    {
     "data": {
      "text/markdown": [
       "#### Ejercicio:"
      ],
      "text/plain": [
       "<IPython.core.display.Markdown object>"
      ]
     },
     "metadata": {},
     "output_type": "display_data"
    },
    {
     "data": {
      "text/markdown": [
       "$\\left\\{\\begin{matrix}4x + 7y =  - 3\\\\ 7x + 4y = 36\\\\ \\end{matrix}\\right.$ $\\to$ $\\left\\{ x : 8, \\  y : -5\\right\\}$"
      ],
      "text/plain": [
       "<IPython.core.display.Markdown object>"
      ]
     },
     "metadata": {},
     "output_type": "display_data"
    },
    {
     "name": "stdout",
     "output_type": "stream",
     "text": [
      "enunciado_latex: $\\left\\{\\begin{matrix}4x + 7y =  - 3\\\\ 7x + 4y = 36\\\\ \\end{matrix}\\right.$\n",
      "solucion_latex: $\\left\\{ x : 8, \\  y : -5\\right\\}$\n"
     ]
    },
    {
     "data": {
      "text/markdown": [
       "#### Ejercicio:"
      ],
      "text/plain": [
       "<IPython.core.display.Markdown object>"
      ]
     },
     "metadata": {},
     "output_type": "display_data"
    },
    {
     "data": {
      "text/markdown": [
       "$\\left\\{\\begin{matrix} 4x + 16 = 5y\\\\  5y - 19 = 3x\\\\ \\end{matrix}\\right.$ $\\to$ $\\left\\{ x : 3, \\  y : \\frac{28}{5}\\right\\}$"
      ],
      "text/plain": [
       "<IPython.core.display.Markdown object>"
      ]
     },
     "metadata": {},
     "output_type": "display_data"
    },
    {
     "name": "stdout",
     "output_type": "stream",
     "text": [
      "enunciado_latex: $\\left\\{\\begin{matrix} 4x + 16 = 5y\\\\  5y - 19 = 3x\\\\ \\end{matrix}\\right.$\n",
      "solucion_latex: $\\left\\{ x : 3, \\  y : \\frac{28}{5}\\right\\}$\n"
     ]
    },
    {
     "data": {
      "text/markdown": [
       "#### Ejercicio:"
      ],
      "text/plain": [
       "<IPython.core.display.Markdown object>"
      ]
     },
     "metadata": {},
     "output_type": "display_data"
    },
    {
     "data": {
      "text/markdown": [
       "$\\left\\{\\begin{matrix}x - 5 = y + 2\\\\ 1 + 3x + 2y = x - 4\\\\ \\end{matrix}\\right.$ $\\to$ $\\left\\{ x : \\frac{9}{4}, \\  y : - \\frac{19}{4}\\right\\}$"
      ],
      "text/plain": [
       "<IPython.core.display.Markdown object>"
      ]
     },
     "metadata": {},
     "output_type": "display_data"
    },
    {
     "name": "stdout",
     "output_type": "stream",
     "text": [
      "enunciado_latex: $\\left\\{\\begin{matrix}x - 5 = y + 2\\\\ 1 + 3x + 2y = x - 4\\\\ \\end{matrix}\\right.$\n",
      "solucion_latex: $\\left\\{ x : \\frac{9}{4}, \\  y : - \\frac{19}{4}\\right\\}$\n"
     ]
    },
    {
     "data": {
      "text/markdown": [
       "#### Ejercicio:"
      ],
      "text/plain": [
       "<IPython.core.display.Markdown object>"
      ]
     },
     "metadata": {},
     "output_type": "display_data"
    },
    {
     "data": {
      "text/markdown": [
       "$\\left\\{\\begin{matrix}x - 5 = y + 2\\\\ 3x - 2y = x - 5\\\\ \\end{matrix}\\right.$ $\\to$ $\\left[ \\right]$"
      ],
      "text/plain": [
       "<IPython.core.display.Markdown object>"
      ]
     },
     "metadata": {},
     "output_type": "display_data"
    },
    {
     "name": "stdout",
     "output_type": "stream",
     "text": [
      "enunciado_latex: $\\left\\{\\begin{matrix}x - 5 = y + 2\\\\ 3x - 2y = x - 5\\\\ \\end{matrix}\\right.$\n",
      "solucion_latex: $\\left[ \\right]$\n"
     ]
    },
    {
     "data": {
      "text/markdown": [
       "#### Ejercicio:"
      ],
      "text/plain": [
       "<IPython.core.display.Markdown object>"
      ]
     },
     "metadata": {},
     "output_type": "display_data"
    },
    {
     "data": {
      "text/markdown": [
       "$\\left\\{\\begin{matrix}x + 3y = 6\\\\ 6y - 5 = 7 - 2x\\\\ \\end{matrix}\\right.$ $\\to$ $\\left\\{ x : 6 - 3 y\\right\\}$"
      ],
      "text/plain": [
       "<IPython.core.display.Markdown object>"
      ]
     },
     "metadata": {},
     "output_type": "display_data"
    },
    {
     "name": "stdout",
     "output_type": "stream",
     "text": [
      "enunciado_latex: $\\left\\{\\begin{matrix}x + 3y = 6\\\\ 6y - 5 = 7 - 2x\\\\ \\end{matrix}\\right.$\n",
      "solucion_latex: $\\left\\{ x : 6 - 3 y\\right\\}$\n"
     ]
    },
    {
     "data": {
      "text/markdown": [
       "#### Ejercicio:"
      ],
      "text/plain": [
       "<IPython.core.display.Markdown object>"
      ]
     },
     "metadata": {},
     "output_type": "display_data"
    },
    {
     "data": {
      "text/markdown": [
       "$\\left\\{\\begin{matrix}x - y = 8\\\\  x + y = 24\\\\ \\end{matrix}\\right.$ $\\to$ $\\left\\{ x : 16, \\  y : 8\\right\\}$"
      ],
      "text/plain": [
       "<IPython.core.display.Markdown object>"
      ]
     },
     "metadata": {},
     "output_type": "display_data"
    },
    {
     "name": "stdout",
     "output_type": "stream",
     "text": [
      "enunciado_latex: $\\left\\{\\begin{matrix}x - y = 8\\\\  x + y = 24\\\\ \\end{matrix}\\right.$\n",
      "solucion_latex: $\\left\\{ x : 16, \\  y : 8\\right\\}$\n"
     ]
    },
    {
     "data": {
      "text/markdown": [
       "#### Ejercicio:"
      ],
      "text/plain": [
       "<IPython.core.display.Markdown object>"
      ]
     },
     "metadata": {},
     "output_type": "display_data"
    },
    {
     "data": {
      "text/markdown": [
       "$\\left\\{\\begin{matrix}x + 2y = 11\\\\ 2x - y = 2\\\\ \\end{matrix}\\right.$ $\\to$ $\\left\\{ x : 3, \\  y : 4\\right\\}$"
      ],
      "text/plain": [
       "<IPython.core.display.Markdown object>"
      ]
     },
     "metadata": {},
     "output_type": "display_data"
    },
    {
     "name": "stdout",
     "output_type": "stream",
     "text": [
      "enunciado_latex: $\\left\\{\\begin{matrix}x + 2y = 11\\\\ 2x - y = 2\\\\ \\end{matrix}\\right.$\n",
      "solucion_latex: $\\left\\{ x : 3, \\  y : 4\\right\\}$\n"
     ]
    },
    {
     "data": {
      "text/markdown": [
       "#### Ejercicio:"
      ],
      "text/plain": [
       "<IPython.core.display.Markdown object>"
      ]
     },
     "metadata": {},
     "output_type": "display_data"
    },
    {
     "data": {
      "text/markdown": [
       "$\\left\\{\\begin{matrix}3x - 4y =  - 9\\\\ 2x + y = 5\\\\ \\end{matrix}\\right.$ $\\to$ $\\left\\{ x : 1, \\  y : 3\\right\\}$"
      ],
      "text/plain": [
       "<IPython.core.display.Markdown object>"
      ]
     },
     "metadata": {},
     "output_type": "display_data"
    },
    {
     "name": "stdout",
     "output_type": "stream",
     "text": [
      "enunciado_latex: $\\left\\{\\begin{matrix}3x - 4y =  - 9\\\\ 2x + y = 5\\\\ \\end{matrix}\\right.$\n",
      "solucion_latex: $\\left\\{ x : 1, \\  y : 3\\right\\}$\n"
     ]
    },
    {
     "data": {
      "text/markdown": [
       "#### Ejercicio:"
      ],
      "text/plain": [
       "<IPython.core.display.Markdown object>"
      ]
     },
     "metadata": {},
     "output_type": "display_data"
    },
    {
     "data": {
      "text/markdown": [
       "$\\left\\{\\begin{matrix}10( {x - 2} ) + y = 1\\\\ x + 3( {x - y} ) = 5\\\\ \\end{matrix}\\right.$ $\\to$ $\\left\\{ x : 2, \\  y : 1\\right\\}$"
      ],
      "text/plain": [
       "<IPython.core.display.Markdown object>"
      ]
     },
     "metadata": {},
     "output_type": "display_data"
    },
    {
     "name": "stdout",
     "output_type": "stream",
     "text": [
      "enunciado_latex: $\\left\\{\\begin{matrix}10( {x - 2} ) + y = 1\\\\ x + 3( {x - y} ) = 5\\\\ \\end{matrix}\\right.$\n",
      "solucion_latex: $\\left\\{ x : 2, \\  y : 1\\right\\}$\n"
     ]
    },
    {
     "data": {
      "text/markdown": [
       "#### Ejercicio:"
      ],
      "text/plain": [
       "<IPython.core.display.Markdown object>"
      ]
     },
     "metadata": {},
     "output_type": "display_data"
    },
    {
     "data": {
      "text/markdown": [
       "$\\left\\{\\begin{matrix}\\frac{{x - y}}{2} + \\frac{{x - y}}{3} = 5\\\\ \\frac{{x + 7}}{4} + y = 3\\\\ \\end{matrix}\\right.$ $\\to$ $\\left\\{ x : \\frac{29}{5}, \\  y : - \\frac{1}{5}\\right\\}$"
      ],
      "text/plain": [
       "<IPython.core.display.Markdown object>"
      ]
     },
     "metadata": {},
     "output_type": "display_data"
    },
    {
     "name": "stdout",
     "output_type": "stream",
     "text": [
      "enunciado_latex: $\\left\\{\\begin{matrix}\\frac{{x - y}}{2} + \\frac{{x - y}}{3} = 5\\\\ \\frac{{x + 7}}{4} + y = 3\\\\ \\end{matrix}\\right.$\n",
      "solucion_latex: $\\left\\{ x : \\frac{29}{5}, \\  y : - \\frac{1}{5}\\right\\}$\n"
     ]
    },
    {
     "data": {
      "text/markdown": [
       "#### Ejercicio:"
      ],
      "text/plain": [
       "<IPython.core.display.Markdown object>"
      ]
     },
     "metadata": {},
     "output_type": "display_data"
    },
    {
     "data": {
      "text/markdown": [
       "$\\left\\{\\begin{matrix}\\frac{{3( {y + 2x + 2} )}}{4} = \\frac{{4x + y - 1}}{3} \\\\  \\frac{1}{3}( {x + y} ) - \\frac{1}{6}( {x - y} ) = \\frac{{y - 1}}{6}\\\\ \\end{matrix}\\right.$ $\\to$ $\\left\\{ x : 39, \\  y : -20\\right\\}$"
      ],
      "text/plain": [
       "<IPython.core.display.Markdown object>"
      ]
     },
     "metadata": {},
     "output_type": "display_data"
    },
    {
     "name": "stdout",
     "output_type": "stream",
     "text": [
      "enunciado_latex: $\\left\\{\\begin{matrix}\\frac{{3( {y + 2x + 2} )}}{4} = \\frac{{4x + y - 1}}{3} \\\\  \\frac{1}{3}( {x + y} ) - \\frac{1}{6}( {x - y} ) = \\frac{{y - 1}}{6}\\\\ \\end{matrix}\\right.$\n",
      "solucion_latex: $\\left\\{ x : 39, \\  y : -20\\right\\}$\n"
     ]
    },
    {
     "data": {
      "text/markdown": [
       "#### Ejercicio:"
      ],
      "text/plain": [
       "<IPython.core.display.Markdown object>"
      ]
     },
     "metadata": {},
     "output_type": "display_data"
    },
    {
     "data": {
      "text/markdown": [
       "$\\left\\{\\begin{matrix} x - 2( {x + y} ) = 3y - 2\\\\  \\frac{x}{3} + \\frac{y}{2} = 3\\\\ \\end{matrix}\\right.$ $\\to$ $\\left\\{ x : 12, \\  y : -2\\right\\}$"
      ],
      "text/plain": [
       "<IPython.core.display.Markdown object>"
      ]
     },
     "metadata": {},
     "output_type": "display_data"
    },
    {
     "name": "stdout",
     "output_type": "stream",
     "text": [
      "enunciado_latex: $\\left\\{\\begin{matrix} x - 2( {x + y} ) = 3y - 2\\\\  \\frac{x}{3} + \\frac{y}{2} = 3\\\\ \\end{matrix}\\right.$\n",
      "solucion_latex: $\\left\\{ x : 12, \\  y : -2\\right\\}$\n"
     ]
    },
    {
     "data": {
      "text/markdown": [
       "#### Ejercicio:"
      ],
      "text/plain": [
       "<IPython.core.display.Markdown object>"
      ]
     },
     "metadata": {},
     "output_type": "display_data"
    },
    {
     "data": {
      "text/markdown": [
       "$\\left\\{\\begin{matrix}\\frac{{3 - 2y}}{4} - \\frac{1}{4} = \\frac{{1 - 2x}}{6}\\\\  \\frac{{25}}{8} - 1 = \\frac{{x + 3}}{2} - \\frac{{3( {1 + y} )}}{8}\\\\ \\end{matrix}\\right.$ $\\to$ $\\left\\{ x : 5, \\  y : 4\\right\\}$"
      ],
      "text/plain": [
       "<IPython.core.display.Markdown object>"
      ]
     },
     "metadata": {},
     "output_type": "display_data"
    },
    {
     "name": "stdout",
     "output_type": "stream",
     "text": [
      "enunciado_latex: $\\left\\{\\begin{matrix}\\frac{{3 - 2y}}{4} - \\frac{1}{4} = \\frac{{1 - 2x}}{6}\\\\  \\frac{{25}}{8} - 1 = \\frac{{x + 3}}{2} - \\frac{{3( {1 + y} )}}{8}\\\\ \\end{matrix}\\right.$\n",
      "solucion_latex: $\\left\\{ x : 5, \\  y : 4\\right\\}$\n"
     ]
    },
    {
     "data": {
      "text/markdown": [
       "#### Ejercicio:"
      ],
      "text/plain": [
       "<IPython.core.display.Markdown object>"
      ]
     },
     "metadata": {},
     "output_type": "display_data"
    },
    {
     "data": {
      "text/markdown": [
       "$\\left\\{\\begin{matrix}\\frac{{4y - 5x}}{6} + \\frac{{3x - 2y}}{2} = 1 - \\frac{2}{9}( {x + y} )\\\\ \\frac{{4y + x - 8}}{8} - x = \\frac{{2( {y - 2x} )}}{3}\\\\ \\end{matrix}\\right.$ $\\to$ $\\left\\{ x : \\frac{4}{7}, \\  y : - \\frac{31}{7}\\right\\}$"
      ],
      "text/plain": [
       "<IPython.core.display.Markdown object>"
      ]
     },
     "metadata": {},
     "output_type": "display_data"
    },
    {
     "name": "stdout",
     "output_type": "stream",
     "text": [
      "enunciado_latex: $\\left\\{\\begin{matrix}\\frac{{4y - 5x}}{6} + \\frac{{3x - 2y}}{2} = 1 - \\frac{2}{9}( {x + y} )\\\\ \\frac{{4y + x - 8}}{8} - x = \\frac{{2( {y - 2x} )}}{3}\\\\ \\end{matrix}\\right.$\n",
      "solucion_latex: $\\left\\{ x : \\frac{4}{7}, \\  y : - \\frac{31}{7}\\right\\}$\n"
     ]
    }
   ],
   "source": [
    "# Resolver sistemas\n",
    "\n",
    "texto_ejercicio = 'Resolver los sistemas lineales:'\n",
    "\n",
    "display(md(\"**\"+texto_ejercicio+\"**\"))\n",
    "\n",
    "pre_enunciado_latex = [[r'3x - 2y = 1',r'x + 6y = 7'],\n",
    "                       [r'6x - 2y = 14',r'3x - y = 7 '],\n",
    "                       [r'6x - 2y = 9',r'3x - y = 10'],\n",
    "                       [r'4x + 7y =  - 3',r'7x + 4y = 36'],\n",
    "                       [r' 4x + 16 = 5y',r' 5y - 19 = 3x'],\n",
    "                       [r'x - 5 = y + 2',r'1 + 3x + 2y = x - 4'],\n",
    "                       [r'x - 5 = y + 2',r'3x - 2y = x - 5'],\n",
    "                       [r'x + 3y = 6',r'6y - 5 = 7 - 2x'],\n",
    "                       [r'x - y = 8',r' x + y = 24'],\n",
    "                       [r'x + 2y = 11',r'2x - y = 2'],\n",
    "                       [r'3x - 4y =  - 9',r'2x + y = 5'],\n",
    "                       [r'10( {x - 2} ) + y = 1',r'x + 3( {x - y} ) = 5'],\n",
    "                       [r'\\frac{{x - y}}{2} + \\frac{{x - y}}{3} = 5',r'\\frac{{x + 7}}{4} + y = 3'],\n",
    "                       [r'\\frac{{3( {y + 2x + 2} )}}{4} = \\frac{{4x + y - 1}}{3} ',r' \\frac{1}{3}( {x + y} ) - \\frac{1}{6}( {x - y} ) = \\frac{{y - 1}}{6}'],\n",
    "                       [' x - 2( {x + y} ) = 3y - 2',r' \\frac{x}{3} + \\frac{y}{2} = 3'],\n",
    "                       [r'\\frac{{3 - 2y}}{4} - \\frac{1}{4} = \\frac{{1 - 2x}}{6}',r' \\frac{{25}}{8} - 1 = \\frac{{x + 3}}{2} - \\frac{{3( {1 + y} )}}{8}'],\n",
    "                       [r'\\frac{{4y - 5x}}{6} + \\frac{{3x - 2y}}{2} = 1 - \\frac{2}{9}( {x + y} )',r'\\frac{{4y + x - 8}}{8} - x = \\frac{{2( {y - 2x} )}}{3}']                    ]\n",
    "\n",
    "\n",
    "\n",
    "for s in pre_enunciado_latex :\n",
    "    #display(sol_sist(s))\n",
    "    mostrar_ejercicio(r\"$\"+sol_sist(s)[0]+r\"$\",r\"$\"+latex(sol_sist(s)[2])+r\"$\")"
   ]
  },
  {
   "cell_type": "code",
   "execution_count": null,
   "metadata": {
    "id": "_9TIwD5MnioE",
    "outputId": "c6e99856-bf7a-4208-e2ba-64db715b6f3c"
   },
   "outputs": [
    {
     "data": {
      "text/markdown": [
       "**Resolver los sistemas no lineales:**"
      ],
      "text/plain": [
       "<IPython.core.display.Markdown object>"
      ]
     },
     "metadata": {
      "tags": []
     },
     "output_type": "display_data"
    },
    {
     "data": {
      "text/markdown": [
       "#### Ejercicio:"
      ],
      "text/plain": [
       "<IPython.core.display.Markdown object>"
      ]
     },
     "metadata": {
      "tags": []
     },
     "output_type": "display_data"
    },
    {
     "data": {
      "text/markdown": [
       "$\\left\\{\\begin{matrix}x^2+y^2=625 \\\\ x + y = 35\\end{matrix}\\right. $ $\\to$ $ \\to \\left[ \\left\\{ x = 15, \\  y = 20\\right\\}, \\  \\left\\{ x = 20, \\  y = 15\\right\\}\\right]$"
      ],
      "text/plain": [
       "<IPython.core.display.Markdown object>"
      ]
     },
     "metadata": {
      "tags": []
     },
     "output_type": "display_data"
    },
    {
     "name": "stdout",
     "output_type": "stream",
     "text": [
      "enunciado_latex: $\\left\\{\\begin{matrix}x^2+y^2=625 \\\\ x + y = 35\\end{matrix}\\right. $\n",
      "solucion_latex: $ \\to \\left[ \\left\\{ x = 15, \\  y = 20\\right\\}, \\  \\left\\{ x = 20, \\  y = 15\\right\\}\\right]$\n"
     ]
    },
    {
     "data": {
      "text/markdown": [
       "#### Ejercicio:"
      ],
      "text/plain": [
       "<IPython.core.display.Markdown object>"
      ]
     },
     "metadata": {
      "tags": []
     },
     "output_type": "display_data"
    },
    {
     "data": {
      "text/markdown": [
       "$\\left\\{\\begin{matrix}3xy-4y^2=0 \\\\ 3x-2y=1\\end{matrix}\\right. $ $\\to$ $ \\to \\left[ \\left\\{ x = \\frac{1}{3}, \\  y = 0\\right\\}, \\  \\left\\{ x = \\frac{2}{3}, \\  y = \\frac{1}{2}\\right\\}\\right]$"
      ],
      "text/plain": [
       "<IPython.core.display.Markdown object>"
      ]
     },
     "metadata": {
      "tags": []
     },
     "output_type": "display_data"
    },
    {
     "name": "stdout",
     "output_type": "stream",
     "text": [
      "enunciado_latex: $\\left\\{\\begin{matrix}3xy-4y^2=0 \\\\ 3x-2y=1\\end{matrix}\\right. $\n",
      "solucion_latex: $ \\to \\left[ \\left\\{ x = \\frac{1}{3}, \\  y = 0\\right\\}, \\  \\left\\{ x = \\frac{2}{3}, \\  y = \\frac{1}{2}\\right\\}\\right]$\n"
     ]
    },
    {
     "data": {
      "text/markdown": [
       "#### Ejercicio:"
      ],
      "text/plain": [
       "<IPython.core.display.Markdown object>"
      ]
     },
     "metadata": {
      "tags": []
     },
     "output_type": "display_data"
    },
    {
     "data": {
      "text/markdown": [
       "$\\left\\{\\begin{matrix}x^2 + y^2 = 25 \\\\ xy+12=0\\end{matrix}\\right. $ $\\to$ $ \\to \\left[ \\left\\{ x = -4, \\  y = 3\\right\\}, \\  \\left\\{ x = -3, \\  y = 4\\right\\}, \\  \\left\\{ x = 3, \\  y = -4\\right\\}, \\  \\left\\{ x = 4, \\  y = -3\\right\\}\\right]$"
      ],
      "text/plain": [
       "<IPython.core.display.Markdown object>"
      ]
     },
     "metadata": {
      "tags": []
     },
     "output_type": "display_data"
    },
    {
     "name": "stdout",
     "output_type": "stream",
     "text": [
      "enunciado_latex: $\\left\\{\\begin{matrix}x^2 + y^2 = 25 \\\\ xy+12=0\\end{matrix}\\right. $\n",
      "solucion_latex: $ \\to \\left[ \\left\\{ x = -4, \\  y = 3\\right\\}, \\  \\left\\{ x = -3, \\  y = 4\\right\\}, \\  \\left\\{ x = 3, \\  y = -4\\right\\}, \\  \\left\\{ x = 4, \\  y = -3\\right\\}\\right]$\n"
     ]
    },
    {
     "data": {
      "text/markdown": [
       "#### Ejercicio:"
      ],
      "text/plain": [
       "<IPython.core.display.Markdown object>"
      ]
     },
     "metadata": {
      "tags": []
     },
     "output_type": "display_data"
    },
    {
     "data": {
      "text/markdown": [
       "$\\left\\{\\begin{matrix}\\sqrt{x-2}+y=3 \\\\ -5+2x=x-y\\end{matrix}\\right. $ $\\to$ $ \\to \\left[ \\left\\{ x = 2, \\  y = 3\\right\\}, \\  \\left\\{ x = 3, \\  y = 2\\right\\}\\right]$"
      ],
      "text/plain": [
       "<IPython.core.display.Markdown object>"
      ]
     },
     "metadata": {
      "tags": []
     },
     "output_type": "display_data"
    },
    {
     "name": "stdout",
     "output_type": "stream",
     "text": [
      "enunciado_latex: $\\left\\{\\begin{matrix}\\sqrt{x-2}+y=3 \\\\ -5+2x=x-y\\end{matrix}\\right. $\n",
      "solucion_latex: $ \\to \\left[ \\left\\{ x = 2, \\  y = 3\\right\\}, \\  \\left\\{ x = 3, \\  y = 2\\right\\}\\right]$\n"
     ]
    },
    {
     "data": {
      "text/markdown": [
       "#### Ejercicio:"
      ],
      "text/plain": [
       "<IPython.core.display.Markdown object>"
      ]
     },
     "metadata": {
      "tags": []
     },
     "output_type": "display_data"
    },
    {
     "data": {
      "text/markdown": [
       "$\\left\\{\\begin{matrix}3y-x=1 \\\\ \\frac{1}{x}-\\frac{1}{y}=-\\frac{1}{2}\\end{matrix}\\right. $ $\\to$ $ \\to \\left[ \\left\\{ x = 1, \\  y = \\frac{2}{3}\\right\\}, \\  \\left\\{ x = 2, \\  y = 1\\right\\}\\right]$"
      ],
      "text/plain": [
       "<IPython.core.display.Markdown object>"
      ]
     },
     "metadata": {
      "tags": []
     },
     "output_type": "display_data"
    },
    {
     "name": "stdout",
     "output_type": "stream",
     "text": [
      "enunciado_latex: $\\left\\{\\begin{matrix}3y-x=1 \\\\ \\frac{1}{x}-\\frac{1}{y}=-\\frac{1}{2}\\end{matrix}\\right. $\n",
      "solucion_latex: $ \\to \\left[ \\left\\{ x = 1, \\  y = \\frac{2}{3}\\right\\}, \\  \\left\\{ x = 2, \\  y = 1\\right\\}\\right]$\n"
     ]
    },
    {
     "data": {
      "text/markdown": [
       "#### Ejercicio:"
      ],
      "text/plain": [
       "<IPython.core.display.Markdown object>"
      ]
     },
     "metadata": {
      "tags": []
     },
     "output_type": "display_data"
    },
    {
     "data": {
      "text/markdown": [
       "$\\left\\{\\begin{matrix}5^{x+y}=25^3 \\\\ 5^{x-y}=25\\end{matrix}\\right. $ $\\to$ $ \\to \\left[ \\left\\{ x = 4, \\  y = 2\\right\\}, \\  \\left\\{ x = \\frac{\\log{\\left(625 \\right)} - i \\pi}{\\log{\\left(5 \\right)}}, \\  y = \\frac{\\log{\\left(25 \\right)} + i \\pi}{\\log{\\left(5 \\right)}}\\right\\}\\right]$"
      ],
      "text/plain": [
       "<IPython.core.display.Markdown object>"
      ]
     },
     "metadata": {
      "tags": []
     },
     "output_type": "display_data"
    },
    {
     "name": "stdout",
     "output_type": "stream",
     "text": [
      "enunciado_latex: $\\left\\{\\begin{matrix}5^{x+y}=25^3 \\\\ 5^{x-y}=25\\end{matrix}\\right. $\n",
      "solucion_latex: $ \\to \\left[ \\left\\{ x = 4, \\  y = 2\\right\\}, \\  \\left\\{ x = \\frac{\\log{\\left(625 \\right)} - i \\pi}{\\log{\\left(5 \\right)}}, \\  y = \\frac{\\log{\\left(25 \\right)} + i \\pi}{\\log{\\left(5 \\right)}}\\right\\}\\right]$\n"
     ]
    },
    {
     "data": {
      "text/markdown": [
       "#### Ejercicio:"
      ],
      "text/plain": [
       "<IPython.core.display.Markdown object>"
      ]
     },
     "metadata": {
      "tags": []
     },
     "output_type": "display_data"
    },
    {
     "data": {
      "text/markdown": [
       "$\\left\\{\\begin{matrix}x+y=33 \\\\ \\log_{10} x-\\log_{10} y =1\\end{matrix}\\right. $ $\\to$ $ \\to \\left[ \\left\\{ x = 30, \\  y = 3\\right\\}\\right]$"
      ],
      "text/plain": [
       "<IPython.core.display.Markdown object>"
      ]
     },
     "metadata": {
      "tags": []
     },
     "output_type": "display_data"
    },
    {
     "name": "stdout",
     "output_type": "stream",
     "text": [
      "enunciado_latex: $\\left\\{\\begin{matrix}x+y=33 \\\\ \\log_{10} x-\\log_{10} y =1\\end{matrix}\\right. $\n",
      "solucion_latex: $ \\to \\left[ \\left\\{ x = 30, \\  y = 3\\right\\}\\right]$\n"
     ]
    },
    {
     "data": {
      "text/markdown": [
       "#### Ejercicio:"
      ],
      "text/plain": [
       "<IPython.core.display.Markdown object>"
      ]
     },
     "metadata": {
      "tags": []
     },
     "output_type": "display_data"
    },
    {
     "data": {
      "text/markdown": [
       "$\\left\\{\\begin{matrix}3x+y=5 \\\\ x^2-y^2=3\\end{matrix}\\right. $ $\\to$ $ \\to \\left[ \\left\\{ x = \\frac{7}{4}, \\  y = - \\frac{1}{4}\\right\\}, \\  \\left\\{ x = 2, \\  y = -1\\right\\}\\right]$"
      ],
      "text/plain": [
       "<IPython.core.display.Markdown object>"
      ]
     },
     "metadata": {
      "tags": []
     },
     "output_type": "display_data"
    },
    {
     "name": "stdout",
     "output_type": "stream",
     "text": [
      "enunciado_latex: $\\left\\{\\begin{matrix}3x+y=5 \\\\ x^2-y^2=3\\end{matrix}\\right. $\n",
      "solucion_latex: $ \\to \\left[ \\left\\{ x = \\frac{7}{4}, \\  y = - \\frac{1}{4}\\right\\}, \\  \\left\\{ x = 2, \\  y = -1\\right\\}\\right]$\n"
     ]
    },
    {
     "data": {
      "text/markdown": [
       "#### Ejercicio:"
      ],
      "text/plain": [
       "<IPython.core.display.Markdown object>"
      ]
     },
     "metadata": {
      "tags": []
     },
     "output_type": "display_data"
    },
    {
     "data": {
      "text/markdown": [
       "$\\left\\{\\begin{matrix}2x^2-3y^2=-6 \\\\ 4x^2-y^2=8\\end{matrix}\\right. $ $\\to$ $ \\to \\left[ \\left\\{ x = - \\sqrt{3}, \\  y = -2\\right\\}, \\  \\left\\{ x = - \\sqrt{3}, \\  y = 2\\right\\}, \\  \\left\\{ x = \\sqrt{3}, \\  y = -2\\right\\}, \\  \\left\\{ x = \\sqrt{3}, \\  y = 2\\right\\}\\right]$"
      ],
      "text/plain": [
       "<IPython.core.display.Markdown object>"
      ]
     },
     "metadata": {
      "tags": []
     },
     "output_type": "display_data"
    },
    {
     "name": "stdout",
     "output_type": "stream",
     "text": [
      "enunciado_latex: $\\left\\{\\begin{matrix}2x^2-3y^2=-6 \\\\ 4x^2-y^2=8\\end{matrix}\\right. $\n",
      "solucion_latex: $ \\to \\left[ \\left\\{ x = - \\sqrt{3}, \\  y = -2\\right\\}, \\  \\left\\{ x = - \\sqrt{3}, \\  y = 2\\right\\}, \\  \\left\\{ x = \\sqrt{3}, \\  y = -2\\right\\}, \\  \\left\\{ x = \\sqrt{3}, \\  y = 2\\right\\}\\right]$\n"
     ]
    },
    {
     "data": {
      "text/markdown": [
       "#### Ejercicio:"
      ],
      "text/plain": [
       "<IPython.core.display.Markdown object>"
      ]
     },
     "metadata": {
      "tags": []
     },
     "output_type": "display_data"
    },
    {
     "data": {
      "text/markdown": [
       "$\\left\\{\\begin{matrix}5^{x+y}=25^2 \\\\ 5^{x-y}=25\\end{matrix}\\right. $ $\\to$ $ \\to \\left[ \\left\\{ x = 3, \\  y = 1\\right\\}, \\  \\left\\{ x = \\frac{\\log{\\left(125 \\right)} - i \\pi}{\\log{\\left(5 \\right)}}, \\  y = 1 + \\frac{i \\pi}{\\log{\\left(5 \\right)}}\\right\\}\\right]$"
      ],
      "text/plain": [
       "<IPython.core.display.Markdown object>"
      ]
     },
     "metadata": {
      "tags": []
     },
     "output_type": "display_data"
    },
    {
     "name": "stdout",
     "output_type": "stream",
     "text": [
      "enunciado_latex: $\\left\\{\\begin{matrix}5^{x+y}=25^2 \\\\ 5^{x-y}=25\\end{matrix}\\right. $\n",
      "solucion_latex: $ \\to \\left[ \\left\\{ x = 3, \\  y = 1\\right\\}, \\  \\left\\{ x = \\frac{\\log{\\left(125 \\right)} - i \\pi}{\\log{\\left(5 \\right)}}, \\  y = 1 + \\frac{i \\pi}{\\log{\\left(5 \\right)}}\\right\\}\\right]$\n"
     ]
    },
    {
     "data": {
      "text/markdown": [
       "#### Ejercicio:"
      ],
      "text/plain": [
       "<IPython.core.display.Markdown object>"
      ]
     },
     "metadata": {
      "tags": []
     },
     "output_type": "display_data"
    },
    {
     "data": {
      "text/markdown": [
       "$\\left\\{\\begin{matrix}x+y=22 \\\\ \\log_{10} x-\\log_{10} y =1\\end{matrix}\\right. $ $\\to$ $ \\to \\left[ \\left\\{ x = 20, \\  y = 2\\right\\}\\right]$"
      ],
      "text/plain": [
       "<IPython.core.display.Markdown object>"
      ]
     },
     "metadata": {
      "tags": []
     },
     "output_type": "display_data"
    },
    {
     "name": "stdout",
     "output_type": "stream",
     "text": [
      "enunciado_latex: $\\left\\{\\begin{matrix}x+y=22 \\\\ \\log_{10} x-\\log_{10} y =1\\end{matrix}\\right. $\n",
      "solucion_latex: $ \\to \\left[ \\left\\{ x = 20, \\  y = 2\\right\\}\\right]$\n"
     ]
    }
   ],
   "source": [
    "# Resolver sistemas\n",
    "\n",
    "texto_ejercicio = 'Resolver los sistemas no lineales:'\n",
    "\n",
    "display(md(\"**\"+texto_ejercicio+\"**\"))\n",
    "\n",
    "pre_enunciado_latex = [[r'x^2+y^2=625',r'x + y = 35'],\n",
    "                       [r'3xy-4y^2=0',r'3x-2y=1'],\n",
    "                       [r'x^2 + y^2 = 25', r'xy+12=0'],\n",
    "                       [r'\\sqrt{x-2}+y=3',r'-5+2x=x-y'],\n",
    "                       [r'3y-x=1',r'\\frac{1}{x}-\\frac{1}{y}=-\\frac{1}{2}'],\n",
    "                       [r'5^{x+y}=25^3',r'5^{x-y}=25'],\n",
    "#                        [r'2^{2x}+2^{2y}=20', r'2^{2(x+y)}=64'],\n",
    "                       [r'x+y=33', r'\\log_{10} x-\\log_{10} y =1'],\n",
    "                       # autoevaluación\n",
    "                       [r'3x+y=5',r'x^2-y^2=3'],\n",
    "                       [r'2x^2-3y^2=-6',r'4x^2-y^2=8'],\n",
    "                       [r'5^{x+y}=25^2',r'5^{x-y}=25'],\n",
    "                       [r'x+y=22',r'\\log_{10} x-\\log_{10} y =1']\n",
    "\n",
    "]\n",
    "\n",
    "for s in pre_enunciado_latex :\n",
    "    #display(sol_sist(s))\n",
    "    solucion = r\" \\to \" + latex(solve([parse_latex(j) for j in s])).replace(':','=')\n",
    "    enunciado = r\"\"\"$\\left\\{\\begin{matrix}\"\"\"+ r\" \\\\ \".join(s)+ r'\\end{matrix}\\right. $'\n",
    "    mostrar_ejercicio(enunciado, r\"$\"+solucion+r\"$\")"
   ]
  },
  {
   "cell_type": "code",
   "execution_count": null,
   "metadata": {
    "colab": {
     "base_uri": "https://localhost:8080/",
     "height": 1000
    },
    "id": "QN8BUTnQknDm",
    "outputId": "7a9dfac6-e9c1-46f6-833c-c888c8cafec9",
    "scrolled": true
   },
   "outputs": [
    {
     "data": {
      "text/markdown": [
       "**Resuelve mediante expresiones algebraicas:**"
      ],
      "text/plain": [
       "<IPython.core.display.Markdown object>"
      ]
     },
     "metadata": {
      "tags": []
     },
     "output_type": "display_data"
    },
    {
     "data": {
      "text/markdown": [
       "#### Ejercicio:"
      ],
      "text/plain": [
       "<IPython.core.display.Markdown object>"
      ]
     },
     "metadata": {
      "tags": []
     },
     "output_type": "display_data"
    },
    {
     "data": {
      "text/markdown": [
       "Encuentra dos números tales que la suma de dos de los mismos sea 19 \n",
       "y la diferencia de ambos multiplicada por 6 sea 54. $\\to$ $\\left\\{\\begin{matrix}x+y=19 \\\\ 6(x-y)=54\\end{matrix}\\right. \\to  x = 14, \\  y = 5 \\to $"
      ],
      "text/plain": [
       "<IPython.core.display.Markdown object>"
      ]
     },
     "metadata": {
      "tags": []
     },
     "output_type": "display_data"
    },
    {
     "name": "stdout",
     "output_type": "stream",
     "text": [
      "enunciado_latex: Encuentra dos números tales que la suma de dos de los mismos sea 19 \n",
      "y la diferencia de ambos multiplicada por 6 sea 54.\n",
      "solucion_latex: $\\left\\{\\begin{matrix}x+y=19 \\\\ 6(x-y)=54\\end{matrix}\\right. \\to  x = 14, \\  y = 5 \\to $\n"
     ]
    },
    {
     "data": {
      "text/markdown": [
       "#### Ejercicio:"
      ],
      "text/plain": [
       "<IPython.core.display.Markdown object>"
      ]
     },
     "metadata": {
      "tags": []
     },
     "output_type": "display_data"
    },
    {
     "data": {
      "text/markdown": [
       "La sexta parte de la suma de dos números es 14 y la mitad de su \n",
       "diferencia es 13. Halla esos números. $\\to$ $\\left\\{\\begin{matrix}\\frac{1}{6}(x+y)=14 \\\\ \\frac{1}{2}(x-y)=13\\end{matrix}\\right. \\to  x = 55, \\  y = 29 \\to $"
      ],
      "text/plain": [
       "<IPython.core.display.Markdown object>"
      ]
     },
     "metadata": {
      "tags": []
     },
     "output_type": "display_data"
    },
    {
     "name": "stdout",
     "output_type": "stream",
     "text": [
      "enunciado_latex: La sexta parte de la suma de dos números es 14 y la mitad de su \n",
      "diferencia es 13. Halla esos números.\n",
      "solucion_latex: $\\left\\{\\begin{matrix}\\frac{1}{6}(x+y)=14 \\\\ \\frac{1}{2}(x-y)=13\\end{matrix}\\right. \\to  x = 55, \\  y = 29 \\to $\n"
     ]
    },
    {
     "data": {
      "text/markdown": [
       "#### Ejercicio:"
      ],
      "text/plain": [
       "<IPython.core.display.Markdown object>"
      ]
     },
     "metadata": {
      "tags": []
     },
     "output_type": "display_data"
    },
    {
     "data": {
      "text/markdown": [
       "Un ganadero vende 7 cerdos y 9 corderos por 660 euros y \n",
       "             luego vende 10 cerdos y 5 corderos por el mismo dinero. \n",
       "             Calcula el precio de cada animal. $\\to$ $\\left\\{\\begin{matrix}7x+9y=660 \\\\ 10x+5y=660\\end{matrix}\\right. \\to  x = 48, \\  y = 36 \\to $"
      ],
      "text/plain": [
       "<IPython.core.display.Markdown object>"
      ]
     },
     "metadata": {
      "tags": []
     },
     "output_type": "display_data"
    },
    {
     "name": "stdout",
     "output_type": "stream",
     "text": [
      "enunciado_latex: Un ganadero vende 7 cerdos y 9 corderos por 660 euros y \n",
      "             luego vende 10 cerdos y 5 corderos por el mismo dinero. \n",
      "             Calcula el precio de cada animal.\n",
      "solucion_latex: $\\left\\{\\begin{matrix}7x+9y=660 \\\\ 10x+5y=660\\end{matrix}\\right. \\to  x = 48, \\  y = 36 \\to $\n"
     ]
    },
    {
     "data": {
      "text/markdown": [
       "#### Ejercicio:"
      ],
      "text/plain": [
       "<IPython.core.display.Markdown object>"
      ]
     },
     "metadata": {
      "tags": []
     },
     "output_type": "display_data"
    },
    {
     "data": {
      "text/markdown": [
       "Las dos cifras de un número suman 10 y la diferencia entre el número\n",
       "             y el que resulta de invertir el orden de sus cifras es 36. \n",
       "             Averigua de que número se trata. $\\to$ $\\left\\{\\begin{matrix}x+y=10 \\\\ 10x+y-(10y+x)=36\\end{matrix}\\right. \\to  x = 7, \\  y = 3 \\to $"
      ],
      "text/plain": [
       "<IPython.core.display.Markdown object>"
      ]
     },
     "metadata": {
      "tags": []
     },
     "output_type": "display_data"
    },
    {
     "name": "stdout",
     "output_type": "stream",
     "text": [
      "enunciado_latex: Las dos cifras de un número suman 10 y la diferencia entre el número\n",
      "             y el que resulta de invertir el orden de sus cifras es 36. \n",
      "             Averigua de que número se trata.\n",
      "solucion_latex: $\\left\\{\\begin{matrix}x+y=10 \\\\ 10x+y-(10y+x)=36\\end{matrix}\\right. \\to  x = 7, \\  y = 3 \\to $\n"
     ]
    },
    {
     "data": {
      "text/markdown": [
       "#### Ejercicio:"
      ],
      "text/plain": [
       "<IPython.core.display.Markdown object>"
      ]
     },
     "metadata": {
      "tags": []
     },
     "output_type": "display_data"
    },
    {
     "data": {
      "text/markdown": [
       "La suma de las cifras de un número de tres cifras es 18. La cifra \n",
       "             de las unidades es 8 y las de las centenas es dos unidades mayor que la\n",
       "             de las decenas. Halla dicho número. $\\to$ $\\left\\{\\begin{matrix}x+y+8=18 \\\\ x=y+2\\end{matrix}\\right. \\to  x = 6, \\  y = 4 \\to $"
      ],
      "text/plain": [
       "<IPython.core.display.Markdown object>"
      ]
     },
     "metadata": {
      "tags": []
     },
     "output_type": "display_data"
    },
    {
     "name": "stdout",
     "output_type": "stream",
     "text": [
      "enunciado_latex: La suma de las cifras de un número de tres cifras es 18. La cifra \n",
      "             de las unidades es 8 y las de las centenas es dos unidades mayor que la\n",
      "             de las decenas. Halla dicho número.\n",
      "solucion_latex: $\\left\\{\\begin{matrix}x+y+8=18 \\\\ x=y+2\\end{matrix}\\right. \\to  x = 6, \\  y = 4 \\to $\n"
     ]
    },
    {
     "data": {
      "text/markdown": [
       "#### Ejercicio:"
      ],
      "text/plain": [
       "<IPython.core.display.Markdown object>"
      ]
     },
     "metadata": {
      "tags": []
     },
     "output_type": "display_data"
    },
    {
     "data": {
      "text/markdown": [
       "Un número de dos cifras es cuatro veces mayor que la suma de \n",
       "             sus cifras. Si al número le sumamos 18 resulta un número que tiene las \n",
       "             mismas cifras que el número dado, aunque en orden inverso. \n",
       "             Busca el número inicial.  $\\to$ $\\left\\{\\begin{matrix}10x+y=4(x+y) \\\\ 10x+y+18=10y+x\\end{matrix}\\right. \\to  x = 2, \\  y = 4 \\to $"
      ],
      "text/plain": [
       "<IPython.core.display.Markdown object>"
      ]
     },
     "metadata": {
      "tags": []
     },
     "output_type": "display_data"
    },
    {
     "name": "stdout",
     "output_type": "stream",
     "text": [
      "enunciado_latex: Un número de dos cifras es cuatro veces mayor que la suma de \n",
      "             sus cifras. Si al número le sumamos 18 resulta un número que tiene las \n",
      "             mismas cifras que el número dado, aunque en orden inverso. \n",
      "             Busca el número inicial. \n",
      "solucion_latex: $\\left\\{\\begin{matrix}10x+y=4(x+y) \\\\ 10x+y+18=10y+x\\end{matrix}\\right. \\to  x = 2, \\  y = 4 \\to $\n"
     ]
    },
    {
     "data": {
      "text/markdown": [
       "#### Ejercicio:"
      ],
      "text/plain": [
       "<IPython.core.display.Markdown object>"
      ]
     },
     "metadata": {
      "tags": []
     },
     "output_type": "display_data"
    },
    {
     "data": {
      "text/markdown": [
       "Si a un número de dos cifras le quitamos el que resulta de invertir\n",
       "             sus cifras da 27 y si le sumamos 9 unidades duplicamos el número que resulta\n",
       "             de invertir el orden de sus cifras. Halla el número.  $\\to$ $\\left\\{\\begin{matrix}10x+y-(10y+x)=27 \\\\ 10x+y+9=2(10y+x)\\end{matrix}\\right. \\to  x = 6, \\  y = 3 \\to $"
      ],
      "text/plain": [
       "<IPython.core.display.Markdown object>"
      ]
     },
     "metadata": {
      "tags": []
     },
     "output_type": "display_data"
    },
    {
     "name": "stdout",
     "output_type": "stream",
     "text": [
      "enunciado_latex: Si a un número de dos cifras le quitamos el que resulta de invertir\n",
      "             sus cifras da 27 y si le sumamos 9 unidades duplicamos el número que resulta\n",
      "             de invertir el orden de sus cifras. Halla el número. \n",
      "solucion_latex: $\\left\\{\\begin{matrix}10x+y-(10y+x)=27 \\\\ 10x+y+9=2(10y+x)\\end{matrix}\\right. \\to  x = 6, \\  y = 3 \\to $\n"
     ]
    },
    {
     "data": {
      "text/markdown": [
       "#### Ejercicio:"
      ],
      "text/plain": [
       "<IPython.core.display.Markdown object>"
      ]
     },
     "metadata": {
      "tags": []
     },
     "output_type": "display_data"
    },
    {
     "data": {
      "text/markdown": [
       "Si a un número de dos cifras le sumamos 18 se obtiene un número con \n",
       "             las cifras intercambiadas entre sí. Sabiendo que la suma de las cifras de \n",
       "             ese número es 16, encuéntralo.  $\\to$ $\\left\\{\\begin{matrix}10x+y+18=10y+x \\\\ x+y=16\\end{matrix}\\right. \\to  x = 7, \\  y = 9 \\to $"
      ],
      "text/plain": [
       "<IPython.core.display.Markdown object>"
      ]
     },
     "metadata": {
      "tags": []
     },
     "output_type": "display_data"
    },
    {
     "name": "stdout",
     "output_type": "stream",
     "text": [
      "enunciado_latex: Si a un número de dos cifras le sumamos 18 se obtiene un número con \n",
      "             las cifras intercambiadas entre sí. Sabiendo que la suma de las cifras de \n",
      "             ese número es 16, encuéntralo. \n",
      "solucion_latex: $\\left\\{\\begin{matrix}10x+y+18=10y+x \\\\ x+y=16\\end{matrix}\\right. \\to  x = 7, \\  y = 9 \\to $\n"
     ]
    },
    {
     "data": {
      "text/markdown": [
       "#### Ejercicio:"
      ],
      "text/plain": [
       "<IPython.core.display.Markdown object>"
      ]
     },
     "metadata": {
      "tags": []
     },
     "output_type": "display_data"
    },
    {
     "data": {
      "text/markdown": [
       "La suma de las cifras de un capicúa de la forma \\emph{aba} es 19 y si a ese número le restamos \n",
       "             el número de dos cifras \\emph{ab} da por resultado 609. \n",
       "             ¿cuál es el número capicúa?  $\\to$ $\\left\\{\\begin{matrix}x+y+x=19 \\\\ 100x+10y+x-(10x+y)=609\\end{matrix}\\right. \\to  x = 6, \\  y = 7 \\to $"
      ],
      "text/plain": [
       "<IPython.core.display.Markdown object>"
      ]
     },
     "metadata": {
      "tags": []
     },
     "output_type": "display_data"
    },
    {
     "name": "stdout",
     "output_type": "stream",
     "text": [
      "enunciado_latex: La suma de las cifras de un capicúa de la forma \\emph{aba} es 19 y si a ese número le restamos \n",
      "             el número de dos cifras \\emph{ab} da por resultado 609. \n",
      "             ¿cuál es el número capicúa? \n",
      "solucion_latex: $\\left\\{\\begin{matrix}x+y+x=19 \\\\ 100x+10y+x-(10x+y)=609\\end{matrix}\\right. \\to  x = 6, \\  y = 7 \\to $\n"
     ]
    },
    {
     "data": {
      "text/markdown": [
       "#### Ejercicio:"
      ],
      "text/plain": [
       "<IPython.core.display.Markdown object>"
      ]
     },
     "metadata": {
      "tags": []
     },
     "output_type": "display_data"
    },
    {
     "data": {
      "text/markdown": [
       "La cifra de las decenas de un número es triple que la de las unidades y el número disminuye \n",
       "             en 36 cuando se invierte el orden de las cifras. \n",
       "             Halla el número  $\\to$ $\\left\\{\\begin{matrix}x=3y \\\\ 10x+y=10y+x+36\\end{matrix}\\right. \\to  x = 6, \\  y = 2 \\to $"
      ],
      "text/plain": [
       "<IPython.core.display.Markdown object>"
      ]
     },
     "metadata": {
      "tags": []
     },
     "output_type": "display_data"
    },
    {
     "name": "stdout",
     "output_type": "stream",
     "text": [
      "enunciado_latex: La cifra de las decenas de un número es triple que la de las unidades y el número disminuye \n",
      "             en 36 cuando se invierte el orden de las cifras. \n",
      "             Halla el número \n",
      "solucion_latex: $\\left\\{\\begin{matrix}x=3y \\\\ 10x+y=10y+x+36\\end{matrix}\\right. \\to  x = 6, \\  y = 2 \\to $\n"
     ]
    },
    {
     "data": {
      "text/markdown": [
       "#### Ejercicio:"
      ],
      "text/plain": [
       "<IPython.core.display.Markdown object>"
      ]
     },
     "metadata": {
      "tags": []
     },
     "output_type": "display_data"
    },
    {
     "data": {
      "text/markdown": [
       "n número capicúa es de la forma \\emph{abba}. Intercambiamos los valores de sus cifras para \n",
       "             obtener \\emph{baab} y la diferencia entre ambos es 8019. Si se sabe que la suma de sus cifras\n",
       "             es 18, ¿cuál es el número? $\\to$ $\\left\\{\\begin{matrix}x+y+y+x=18 \\\\ 1000x+100y+10y+x-(1000y+100x+10x+y)=8019\\end{matrix}\\right. \\to  x = 9, \\  y = 0 \\to $"
      ],
      "text/plain": [
       "<IPython.core.display.Markdown object>"
      ]
     },
     "metadata": {
      "tags": []
     },
     "output_type": "display_data"
    },
    {
     "name": "stdout",
     "output_type": "stream",
     "text": [
      "enunciado_latex: n número capicúa es de la forma \\emph{abba}. Intercambiamos los valores de sus cifras para \n",
      "             obtener \\emph{baab} y la diferencia entre ambos es 8019. Si se sabe que la suma de sus cifras\n",
      "             es 18, ¿cuál es el número?\n",
      "solucion_latex: $\\left\\{\\begin{matrix}x+y+y+x=18 \\\\ 1000x+100y+10y+x-(1000y+100x+10x+y)=8019\\end{matrix}\\right. \\to  x = 9, \\  y = 0 \\to $\n"
     ]
    },
    {
     "data": {
      "text/markdown": [
       "#### Ejercicio:"
      ],
      "text/plain": [
       "<IPython.core.display.Markdown object>"
      ]
     },
     "metadata": {
      "tags": []
     },
     "output_type": "display_data"
    },
    {
     "data": {
      "text/markdown": [
       "Juan le dice a Luis: Actualmente mi edad es triple que la tuya, pero hace siete años \n",
       "             era diez veces mayor que tú. ¿Qué edad tiene cada uno?  $\\to$ $\\left\\{\\begin{matrix}x=3y \\\\ x-7=10(y-7)\\end{matrix}\\right. \\to  x = 27, \\  y = 9 \\to $"
      ],
      "text/plain": [
       "<IPython.core.display.Markdown object>"
      ]
     },
     "metadata": {
      "tags": []
     },
     "output_type": "display_data"
    },
    {
     "name": "stdout",
     "output_type": "stream",
     "text": [
      "enunciado_latex: Juan le dice a Luis: Actualmente mi edad es triple que la tuya, pero hace siete años \n",
      "             era diez veces mayor que tú. ¿Qué edad tiene cada uno? \n",
      "solucion_latex: $\\left\\{\\begin{matrix}x=3y \\\\ x-7=10(y-7)\\end{matrix}\\right. \\to  x = 27, \\  y = 9 \\to $\n"
     ]
    },
    {
     "data": {
      "text/markdown": [
       "#### Ejercicio:"
      ],
      "text/plain": [
       "<IPython.core.display.Markdown object>"
      ]
     },
     "metadata": {
      "tags": []
     },
     "output_type": "display_data"
    },
    {
     "data": {
      "text/markdown": [
       "Si a cada uno de los términos de una fracción le sumamos 3 resulta una fracción equivalente\n",
       "             a 10/11, pero si les restásemos 4 resultaría equivalente a 3/4. Halla la fracción.  $\\to$ $\\left\\{\\begin{matrix}(x+3)/(y+3)=10/11 \\\\ (x-4)/(y-4)=3/4\\end{matrix}\\right. \\to  x = 7, \\  y = 8 \\to $"
      ],
      "text/plain": [
       "<IPython.core.display.Markdown object>"
      ]
     },
     "metadata": {
      "tags": []
     },
     "output_type": "display_data"
    },
    {
     "name": "stdout",
     "output_type": "stream",
     "text": [
      "enunciado_latex: Si a cada uno de los términos de una fracción le sumamos 3 resulta una fracción equivalente\n",
      "             a 10/11, pero si les restásemos 4 resultaría equivalente a 3/4. Halla la fracción. \n",
      "solucion_latex: $\\left\\{\\begin{matrix}(x+3)/(y+3)=10/11 \\\\ (x-4)/(y-4)=3/4\\end{matrix}\\right. \\to  x = 7, \\  y = 8 \\to $\n"
     ]
    },
    {
     "data": {
      "text/markdown": [
       "#### Ejercicio:"
      ],
      "text/plain": [
       "<IPython.core.display.Markdown object>"
      ]
     },
     "metadata": {
      "tags": []
     },
     "output_type": "display_data"
    },
    {
     "data": {
      "text/markdown": [
       "Una embarcación va a favor de la corriente de un río a 20 km/h y en contra de la corriente a 14 km/h. \n",
       "             ¿A qué velocidad descenderá un trozo de madera por el río? $\\to$ $\\left\\{\\begin{matrix}x+y=20 \\\\ x-y=14\\end{matrix}\\right. \\to  x = 17, \\  y = 3 \\to $"
      ],
      "text/plain": [
       "<IPython.core.display.Markdown object>"
      ]
     },
     "metadata": {
      "tags": []
     },
     "output_type": "display_data"
    },
    {
     "name": "stdout",
     "output_type": "stream",
     "text": [
      "enunciado_latex: Una embarcación va a favor de la corriente de un río a 20 km/h y en contra de la corriente a 14 km/h. \n",
      "             ¿A qué velocidad descenderá un trozo de madera por el río?\n",
      "solucion_latex: $\\left\\{\\begin{matrix}x+y=20 \\\\ x-y=14\\end{matrix}\\right. \\to  x = 17, \\  y = 3 \\to $\n"
     ]
    },
    {
     "data": {
      "text/markdown": [
       "#### Ejercicio:"
      ],
      "text/plain": [
       "<IPython.core.display.Markdown object>"
      ]
     },
     "metadata": {
      "tags": []
     },
     "output_type": "display_data"
    },
    {
     "data": {
      "text/markdown": [
       "Una persona lleva en el monedero 50 monedas diversas, de uno y de cinco euros, por un valor de 190 euros. \n",
       "             ¿Cuántas monedas lleva de un euro?  $\\to$ $\\left\\{\\begin{matrix}x+y=50 \\\\ x+5y=190\\end{matrix}\\right. \\to  x = 15, \\  y = 35 \\to $"
      ],
      "text/plain": [
       "<IPython.core.display.Markdown object>"
      ]
     },
     "metadata": {
      "tags": []
     },
     "output_type": "display_data"
    },
    {
     "name": "stdout",
     "output_type": "stream",
     "text": [
      "enunciado_latex: Una persona lleva en el monedero 50 monedas diversas, de uno y de cinco euros, por un valor de 190 euros. \n",
      "             ¿Cuántas monedas lleva de un euro? \n",
      "solucion_latex: $\\left\\{\\begin{matrix}x+y=50 \\\\ x+5y=190\\end{matrix}\\right. \\to  x = 15, \\  y = 35 \\to $\n"
     ]
    },
    {
     "data": {
      "text/markdown": [
       "#### Ejercicio:"
      ],
      "text/plain": [
       "<IPython.core.display.Markdown object>"
      ]
     },
     "metadata": {
      "tags": []
     },
     "output_type": "display_data"
    },
    {
     "data": {
      "text/markdown": [
       "Determina una fracción tal que si le sumamos una unidad al numerador se transforma en una fracción equivalente a 1/2 y si \n",
       "             aumentásemos en dos unidades el denominador se transformaría en otra equivalente a 1/3. $\\to$ $\\left\\{\\begin{matrix}(x+1)/y=1/2 \\\\ x/(y+2)=1/3\\end{matrix}\\right. \\to  x = 4, \\  y = 10 \\to $"
      ],
      "text/plain": [
       "<IPython.core.display.Markdown object>"
      ]
     },
     "metadata": {
      "tags": []
     },
     "output_type": "display_data"
    },
    {
     "name": "stdout",
     "output_type": "stream",
     "text": [
      "enunciado_latex: Determina una fracción tal que si le sumamos una unidad al numerador se transforma en una fracción equivalente a 1/2 y si \n",
      "             aumentásemos en dos unidades el denominador se transformaría en otra equivalente a 1/3.\n",
      "solucion_latex: $\\left\\{\\begin{matrix}(x+1)/y=1/2 \\\\ x/(y+2)=1/3\\end{matrix}\\right. \\to  x = 4, \\  y = 10 \\to $\n"
     ]
    },
    {
     "data": {
      "text/markdown": [
       "#### Ejercicio:"
      ],
      "text/plain": [
       "<IPython.core.display.Markdown object>"
      ]
     },
     "metadata": {
      "tags": []
     },
     "output_type": "display_data"
    },
    {
     "data": {
      "text/markdown": [
       "En una hucha hay 55 monedas de cinco y dos euros. Si en total hay 212 euros. \n",
       "             ¿Cuántas monedas hay de cada clase?  $\\to$ $\\left\\{\\begin{matrix}x+y=55 \\\\ 5x+2y=212\\end{matrix}\\right. \\to  x = 34, \\  y = 21 \\to $"
      ],
      "text/plain": [
       "<IPython.core.display.Markdown object>"
      ]
     },
     "metadata": {
      "tags": []
     },
     "output_type": "display_data"
    },
    {
     "name": "stdout",
     "output_type": "stream",
     "text": [
      "enunciado_latex: En una hucha hay 55 monedas de cinco y dos euros. Si en total hay 212 euros. \n",
      "             ¿Cuántas monedas hay de cada clase? \n",
      "solucion_latex: $\\left\\{\\begin{matrix}x+y=55 \\\\ 5x+2y=212\\end{matrix}\\right. \\to  x = 34, \\  y = 21 \\to $\n"
     ]
    },
    {
     "data": {
      "text/markdown": [
       "#### Ejercicio:"
      ],
      "text/plain": [
       "<IPython.core.display.Markdown object>"
      ]
     },
     "metadata": {
      "tags": []
     },
     "output_type": "display_data"
    },
    {
     "data": {
      "text/markdown": [
       "Halla una fracción equivalente a 3/5 cuya suma de sus \n",
       "             términos sea 32.  $\\to$ $\\left\\{\\begin{matrix}x/y=3/5 \\\\ x+y=32\\end{matrix}\\right. \\to  x = 12, \\  y = 20 \\to $"
      ],
      "text/plain": [
       "<IPython.core.display.Markdown object>"
      ]
     },
     "metadata": {
      "tags": []
     },
     "output_type": "display_data"
    },
    {
     "name": "stdout",
     "output_type": "stream",
     "text": [
      "enunciado_latex: Halla una fracción equivalente a 3/5 cuya suma de sus \n",
      "             términos sea 32. \n",
      "solucion_latex: $\\left\\{\\begin{matrix}x/y=3/5 \\\\ x+y=32\\end{matrix}\\right. \\to  x = 12, \\  y = 20 \\to $\n"
     ]
    },
    {
     "data": {
      "text/markdown": [
       "#### Ejercicio:"
      ],
      "text/plain": [
       "<IPython.core.display.Markdown object>"
      ]
     },
     "metadata": {
      "tags": []
     },
     "output_type": "display_data"
    },
    {
     "data": {
      "text/markdown": [
       "Con dos clases de café de 5,4 euros/kg y 7,2 euros/kg se quiere obtener una mezcla cuyo precio resulte a 6 euros/kg. \n",
       "             Calcula la cantidad que hay que poner de cada uno para lograr 600 kg de mezcla.  $\\to$ $\\left\\{\\begin{matrix}5.4x+7.2y=6 \\cdot 600 \\\\ x+y=600\\end{matrix}\\right. \\to  x = 400.0, \\  y = 200.0 \\to $"
      ],
      "text/plain": [
       "<IPython.core.display.Markdown object>"
      ]
     },
     "metadata": {
      "tags": []
     },
     "output_type": "display_data"
    },
    {
     "name": "stdout",
     "output_type": "stream",
     "text": [
      "enunciado_latex: Con dos clases de café de 5,4 euros/kg y 7,2 euros/kg se quiere obtener una mezcla cuyo precio resulte a 6 euros/kg. \n",
      "             Calcula la cantidad que hay que poner de cada uno para lograr 600 kg de mezcla. \n",
      "solucion_latex: $\\left\\{\\begin{matrix}5.4x+7.2y=6 \\cdot 600 \\\\ x+y=600\\end{matrix}\\right. \\to  x = 400.0, \\  y = 200.0 \\to $\n"
     ]
    },
    {
     "data": {
      "text/markdown": [
       "#### Ejercicio:"
      ],
      "text/plain": [
       "<IPython.core.display.Markdown object>"
      ]
     },
     "metadata": {
      "tags": []
     },
     "output_type": "display_data"
    },
    {
     "data": {
      "text/markdown": [
       "En un corral hay conejos y gallinas en total hay 59 cabezas y 202 patas. \n",
       "             ¿cuántos conejos y gallinas hay? $\\to$ $\\left\\{\\begin{matrix}x+y=59 \\\\ 4x+2y=202\\end{matrix}\\right. \\to  x = 42, \\  y = 17 \\to $"
      ],
      "text/plain": [
       "<IPython.core.display.Markdown object>"
      ]
     },
     "metadata": {
      "tags": []
     },
     "output_type": "display_data"
    },
    {
     "name": "stdout",
     "output_type": "stream",
     "text": [
      "enunciado_latex: En un corral hay conejos y gallinas en total hay 59 cabezas y 202 patas. \n",
      "             ¿cuántos conejos y gallinas hay?\n",
      "solucion_latex: $\\left\\{\\begin{matrix}x+y=59 \\\\ 4x+2y=202\\end{matrix}\\right. \\to  x = 42, \\  y = 17 \\to $\n"
     ]
    },
    {
     "data": {
      "text/markdown": [
       "#### Ejercicio:"
      ],
      "text/plain": [
       "<IPython.core.display.Markdown object>"
      ]
     },
     "metadata": {
      "tags": []
     },
     "output_type": "display_data"
    },
    {
     "data": {
      "text/markdown": [
       " En las anotaciones de un camarero se podía leer: \\emph{Mesa 10: 2 cafés y 4 zumos 5,2 euros. Mesa 15: 3 cafés y 2 zumos 4,2 euros.}\n",
       "             ¿Cuánto valían el café y el zumo en ese bar?  $\\to$ $\\left\\{\\begin{matrix}2x+4y=5.2 \\\\ 3x+2y=4.2\\end{matrix}\\right. \\to  x = 0.8, \\  y = 0.9 \\to $"
      ],
      "text/plain": [
       "<IPython.core.display.Markdown object>"
      ]
     },
     "metadata": {
      "tags": []
     },
     "output_type": "display_data"
    },
    {
     "name": "stdout",
     "output_type": "stream",
     "text": [
      "enunciado_latex:  En las anotaciones de un camarero se podía leer: \\emph{Mesa 10: 2 cafés y 4 zumos 5,2 euros. Mesa 15: 3 cafés y 2 zumos 4,2 euros.}\n",
      "             ¿Cuánto valían el café y el zumo en ese bar? \n",
      "solucion_latex: $\\left\\{\\begin{matrix}2x+4y=5.2 \\\\ 3x+2y=4.2\\end{matrix}\\right. \\to  x = 0.8, \\  y = 0.9 \\to $\n"
     ]
    },
    {
     "data": {
      "text/markdown": [
       "#### Ejercicio:"
      ],
      "text/plain": [
       "<IPython.core.display.Markdown object>"
      ]
     },
     "metadata": {
      "tags": []
     },
     "output_type": "display_data"
    },
    {
     "data": {
      "text/markdown": [
       "De acuerdo con las previsiones, entre las dos fábricas de una misma empresa deberían producir 360 máquinas al mes. \n",
       "             La primera de ellas cumplió el plan previsto al 112\\% y la segunda al 110\\% y entre ambas produjeron un total \n",
       "             de 400 máquinas. ¿Cuántas máquinas produjo cada una por separado?  $\\to$ $\\left\\{\\begin{matrix}x+y=360 \\\\ 1.12x+1.1y=400\\end{matrix}\\right. \\to  x = 200.0, \\  y = 160.0 \\to $"
      ],
      "text/plain": [
       "<IPython.core.display.Markdown object>"
      ]
     },
     "metadata": {
      "tags": []
     },
     "output_type": "display_data"
    },
    {
     "name": "stdout",
     "output_type": "stream",
     "text": [
      "enunciado_latex: De acuerdo con las previsiones, entre las dos fábricas de una misma empresa deberían producir 360 máquinas al mes. \n",
      "             La primera de ellas cumplió el plan previsto al 112\\% y la segunda al 110\\% y entre ambas produjeron un total \n",
      "             de 400 máquinas. ¿Cuántas máquinas produjo cada una por separado? \n",
      "solucion_latex: $\\left\\{\\begin{matrix}x+y=360 \\\\ 1.12x+1.1y=400\\end{matrix}\\right. \\to  x = 200.0, \\  y = 160.0 \\to $\n"
     ]
    },
    {
     "data": {
      "text/markdown": [
       "#### Ejercicio:"
      ],
      "text/plain": [
       "<IPython.core.display.Markdown object>"
      ]
     },
     "metadata": {
      "tags": []
     },
     "output_type": "display_data"
    },
    {
     "data": {
      "text/markdown": [
       "Una persona tiene una bañera de 492 litros. Si quiere llenar a rebosar la bañera, con ella completamente sumergida,\n",
       "             debe echar 35 cubos de agua pero si la persona tuviera doble volumen harían falta cinco cubos menos. \n",
       "             ¿Cuál es el volumen de la persona y la capacidad del cubo?  $\\to$ $\\left\\{\\begin{matrix}492-x=35y \\\\ 492-2x=30y\\end{matrix}\\right. \\to  x = \\frac{123}{2}, \\  y = \\frac{123}{10} \\to $"
      ],
      "text/plain": [
       "<IPython.core.display.Markdown object>"
      ]
     },
     "metadata": {
      "tags": []
     },
     "output_type": "display_data"
    },
    {
     "name": "stdout",
     "output_type": "stream",
     "text": [
      "enunciado_latex: Una persona tiene una bañera de 492 litros. Si quiere llenar a rebosar la bañera, con ella completamente sumergida,\n",
      "             debe echar 35 cubos de agua pero si la persona tuviera doble volumen harían falta cinco cubos menos. \n",
      "             ¿Cuál es el volumen de la persona y la capacidad del cubo? \n",
      "solucion_latex: $\\left\\{\\begin{matrix}492-x=35y \\\\ 492-2x=30y\\end{matrix}\\right. \\to  x = \\frac{123}{2}, \\  y = \\frac{123}{10} \\to $\n"
     ]
    },
    {
     "data": {
      "text/markdown": [
       "#### Ejercicio:"
      ],
      "text/plain": [
       "<IPython.core.display.Markdown object>"
      ]
     },
     "metadata": {
      "tags": []
     },
     "output_type": "display_data"
    },
    {
     "data": {
      "text/markdown": [
       "Hace cinco años Pedro tenía triple edad que Jesús y dentro de un año sólo será el doble. \n",
       "             ¿Cuáles son las edades de ambos en la actualidad?  $\\to$ $\\left\\{\\begin{matrix}x-5=3(y-5) \\\\ x+1=2(y+1)\\end{matrix}\\right. \\to  x = 23, \\  y = 11 \\to $"
      ],
      "text/plain": [
       "<IPython.core.display.Markdown object>"
      ]
     },
     "metadata": {
      "tags": []
     },
     "output_type": "display_data"
    },
    {
     "name": "stdout",
     "output_type": "stream",
     "text": [
      "enunciado_latex: Hace cinco años Pedro tenía triple edad que Jesús y dentro de un año sólo será el doble. \n",
      "             ¿Cuáles son las edades de ambos en la actualidad? \n",
      "solucion_latex: $\\left\\{\\begin{matrix}x-5=3(y-5) \\\\ x+1=2(y+1)\\end{matrix}\\right. \\to  x = 23, \\  y = 11 \\to $\n"
     ]
    },
    {
     "data": {
      "text/markdown": [
       "#### Ejercicio:"
      ],
      "text/plain": [
       "<IPython.core.display.Markdown object>"
      ]
     },
     "metadata": {
      "tags": []
     },
     "output_type": "display_data"
    },
    {
     "data": {
      "text/markdown": [
       "Halla una fracción equivalente a 3/8 cuyo numerador más denominador sume 55. $\\to$ $\\left\\{\\begin{matrix}x/y=3/8 \\\\ x+y=55\\end{matrix}\\right. \\to  x = 15, \\  y = 40 \\to $"
      ],
      "text/plain": [
       "<IPython.core.display.Markdown object>"
      ]
     },
     "metadata": {
      "tags": []
     },
     "output_type": "display_data"
    },
    {
     "name": "stdout",
     "output_type": "stream",
     "text": [
      "enunciado_latex: Halla una fracción equivalente a 3/8 cuyo numerador más denominador sume 55.\n",
      "solucion_latex: $\\left\\{\\begin{matrix}x/y=3/8 \\\\ x+y=55\\end{matrix}\\right. \\to  x = 15, \\  y = 40 \\to $\n"
     ]
    },
    {
     "data": {
      "text/markdown": [
       "#### Ejercicio:"
      ],
      "text/plain": [
       "<IPython.core.display.Markdown object>"
      ]
     },
     "metadata": {
      "tags": []
     },
     "output_type": "display_data"
    },
    {
     "data": {
      "text/markdown": [
       "El área de un rectángulo no variaría si se aumentase su base en 6 cm y a la vez se disminuyese su \n",
       "             altura en 3 cm. Tampoco variaría si la base disminuyese en 4 cm y la altura aumentase en 3 cm. \n",
       "             ¿Cuáles son las dimensiones actuales del rectángulo? $\\to$ $\\left\\{\\begin{matrix}xy=(x+6)(y-3) \\\\ xy=(x-4)(y+3)\\end{matrix}\\right. \\to  x = 24, \\  y = 15 \\to $"
      ],
      "text/plain": [
       "<IPython.core.display.Markdown object>"
      ]
     },
     "metadata": {
      "tags": []
     },
     "output_type": "display_data"
    },
    {
     "name": "stdout",
     "output_type": "stream",
     "text": [
      "enunciado_latex: El área de un rectángulo no variaría si se aumentase su base en 6 cm y a la vez se disminuyese su \n",
      "             altura en 3 cm. Tampoco variaría si la base disminuyese en 4 cm y la altura aumentase en 3 cm. \n",
      "             ¿Cuáles son las dimensiones actuales del rectángulo?\n",
      "solucion_latex: $\\left\\{\\begin{matrix}xy=(x+6)(y-3) \\\\ xy=(x-4)(y+3)\\end{matrix}\\right. \\to  x = 24, \\  y = 15 \\to $\n"
     ]
    },
    {
     "data": {
      "text/markdown": [
       "#### Ejercicio:"
      ],
      "text/plain": [
       "<IPython.core.display.Markdown object>"
      ]
     },
     "metadata": {
      "tags": []
     },
     "output_type": "display_data"
    },
    {
     "data": {
      "text/markdown": [
       "Las dos cifras de un número suman 6. Ese número y el que resulta de invertir el orden de \n",
       "             sus cifras están en la relación 4:7. Hállalo.  $\\to$ $\\left\\{\\begin{matrix}x+y=6 \\\\ (10x+y)/(10y+x)=4/7\\end{matrix}\\right. \\to  x = 2, \\  y = 4 \\to $"
      ],
      "text/plain": [
       "<IPython.core.display.Markdown object>"
      ]
     },
     "metadata": {
      "tags": []
     },
     "output_type": "display_data"
    },
    {
     "name": "stdout",
     "output_type": "stream",
     "text": [
      "enunciado_latex: Las dos cifras de un número suman 6. Ese número y el que resulta de invertir el orden de \n",
      "             sus cifras están en la relación 4:7. Hállalo. \n",
      "solucion_latex: $\\left\\{\\begin{matrix}x+y=6 \\\\ (10x+y)/(10y+x)=4/7\\end{matrix}\\right. \\to  x = 2, \\  y = 4 \\to $\n"
     ]
    },
    {
     "data": {
      "text/markdown": [
       "#### Ejercicio:"
      ],
      "text/plain": [
       "<IPython.core.display.Markdown object>"
      ]
     },
     "metadata": {
      "tags": []
     },
     "output_type": "display_data"
    },
    {
     "data": {
      "text/markdown": [
       "Dos pueblos A y B están situados en lados opuestos de un puerto de montaña. Un ciclista que sube a 12 km/h y desciende\n",
       "             a 36 km/h emplea 45 minutos en ir de A a B; en cambio, el viaje de regreso le lleva diez minutos más. \n",
       "             ¿Qué distancia, por carretera, separa a y B?  $\\to$ $\\left\\{\\begin{matrix}x/12+y/36=45/60 \\\\ y/12+x/36=55/60\\end{matrix}\\right. \\to  x = 6, \\  y = 9 \\to $"
      ],
      "text/plain": [
       "<IPython.core.display.Markdown object>"
      ]
     },
     "metadata": {
      "tags": []
     },
     "output_type": "display_data"
    },
    {
     "name": "stdout",
     "output_type": "stream",
     "text": [
      "enunciado_latex: Dos pueblos A y B están situados en lados opuestos de un puerto de montaña. Un ciclista que sube a 12 km/h y desciende\n",
      "             a 36 km/h emplea 45 minutos en ir de A a B; en cambio, el viaje de regreso le lleva diez minutos más. \n",
      "             ¿Qué distancia, por carretera, separa a y B? \n",
      "solucion_latex: $\\left\\{\\begin{matrix}x/12+y/36=45/60 \\\\ y/12+x/36=55/60\\end{matrix}\\right. \\to  x = 6, \\  y = 9 \\to $\n"
     ]
    },
    {
     "data": {
      "text/markdown": [
       "#### Ejercicio:"
      ],
      "text/plain": [
       "<IPython.core.display.Markdown object>"
      ]
     },
     "metadata": {
      "tags": []
     },
     "output_type": "display_data"
    },
    {
     "data": {
      "text/markdown": [
       "En otro puerto de montaña también hay dos pueblos situados a lados distintos y, en este caso, distantes\n",
       "             18 km por carretera. Un ciclista, que sube a 12 km/h y desciende a 30 km/h, emplea una hora en ir de uno \n",
       "             al otro. ¿Cuántos kilómetros tiene de subida y bajada?  $\\to$ $\\left\\{\\begin{matrix}x+y=18 \\\\ x/12+y/30=1\\end{matrix}\\right. \\to  x = 8, \\  y = 10 \\to $"
      ],
      "text/plain": [
       "<IPython.core.display.Markdown object>"
      ]
     },
     "metadata": {
      "tags": []
     },
     "output_type": "display_data"
    },
    {
     "name": "stdout",
     "output_type": "stream",
     "text": [
      "enunciado_latex: En otro puerto de montaña también hay dos pueblos situados a lados distintos y, en este caso, distantes\n",
      "             18 km por carretera. Un ciclista, que sube a 12 km/h y desciende a 30 km/h, emplea una hora en ir de uno \n",
      "             al otro. ¿Cuántos kilómetros tiene de subida y bajada? \n",
      "solucion_latex: $\\left\\{\\begin{matrix}x+y=18 \\\\ x/12+y/30=1\\end{matrix}\\right. \\to  x = 8, \\  y = 10 \\to $\n"
     ]
    },
    {
     "data": {
      "text/markdown": [
       "#### Ejercicio:"
      ],
      "text/plain": [
       "<IPython.core.display.Markdown object>"
      ]
     },
     "metadata": {
      "tags": []
     },
     "output_type": "display_data"
    },
    {
     "data": {
      "text/markdown": [
       " Dos capitales son tales que colocados el mayor al 5\\% y el menor al 6\\% se obtiene una renta anual de 930 euros, \n",
       "             pero si se intercambiasen los intereses la renta sería de 940 euros. \n",
       "             Halla ambos capitales.  $\\to$ $\\left\\{\\begin{matrix}0.05x+0.06y=930 \\\\ 0.06x+0.05y=940\\end{matrix}\\right. \\to  x = 9000.0, \\  y = 8000.0 \\to $"
      ],
      "text/plain": [
       "<IPython.core.display.Markdown object>"
      ]
     },
     "metadata": {
      "tags": []
     },
     "output_type": "display_data"
    },
    {
     "name": "stdout",
     "output_type": "stream",
     "text": [
      "enunciado_latex:  Dos capitales son tales que colocados el mayor al 5\\% y el menor al 6\\% se obtiene una renta anual de 930 euros, \n",
      "             pero si se intercambiasen los intereses la renta sería de 940 euros. \n",
      "             Halla ambos capitales. \n",
      "solucion_latex: $\\left\\{\\begin{matrix}0.05x+0.06y=930 \\\\ 0.06x+0.05y=940\\end{matrix}\\right. \\to  x = 9000.0, \\  y = 8000.0 \\to $\n"
     ]
    },
    {
     "data": {
      "text/markdown": [
       "#### Ejercicio:"
      ],
      "text/plain": [
       "<IPython.core.display.Markdown object>"
      ]
     },
     "metadata": {
      "tags": []
     },
     "output_type": "display_data"
    },
    {
     "data": {
      "text/markdown": [
       "Si se aumenta la base de un rectángulo en 4 cm y se disminuye la altura en 2 cm se tiene la misma área; en cambio, \n",
       "             si la base se disminuye en 10 cm y se aumenta la altura en 10 cm, entonces el área es 40 cm2 menor. \n",
       "             Averigua las dimensiones del rectángulo.  $\\to$ $\\left\\{\\begin{matrix}(x+4)(y-2)=xy \\\\ (x-10)(y+10)=xy-40\\end{matrix}\\right. \\to  x = 16, \\  y = 10 \\to $"
      ],
      "text/plain": [
       "<IPython.core.display.Markdown object>"
      ]
     },
     "metadata": {
      "tags": []
     },
     "output_type": "display_data"
    },
    {
     "name": "stdout",
     "output_type": "stream",
     "text": [
      "enunciado_latex: Si se aumenta la base de un rectángulo en 4 cm y se disminuye la altura en 2 cm se tiene la misma área; en cambio, \n",
      "             si la base se disminuye en 10 cm y se aumenta la altura en 10 cm, entonces el área es 40 cm2 menor. \n",
      "             Averigua las dimensiones del rectángulo. \n",
      "solucion_latex: $\\left\\{\\begin{matrix}(x+4)(y-2)=xy \\\\ (x-10)(y+10)=xy-40\\end{matrix}\\right. \\to  x = 16, \\  y = 10 \\to $\n"
     ]
    },
    {
     "data": {
      "text/markdown": [
       "#### Ejercicio:"
      ],
      "text/plain": [
       "<IPython.core.display.Markdown object>"
      ]
     },
     "metadata": {
      "tags": []
     },
     "output_type": "display_data"
    },
    {
     "data": {
      "text/markdown": [
       "Susana debe pagar dos facturas que importan un total de 1050 euros. Después de mucho regatear consigue en la primera \n",
       "             un descuento del 12\\% y en la segunda otro del 8\\%, resultando que sólo paga 948 euros. \n",
       "             ¿Cuál era el importe de cada factura?  $\\to$ $\\left\\{\\begin{matrix}x+y=1050 \\\\ 0.88x+0.92y=948\\end{matrix}\\right. \\to  x = 450.0, \\  y = 600.0 \\to $"
      ],
      "text/plain": [
       "<IPython.core.display.Markdown object>"
      ]
     },
     "metadata": {
      "tags": []
     },
     "output_type": "display_data"
    },
    {
     "name": "stdout",
     "output_type": "stream",
     "text": [
      "enunciado_latex: Susana debe pagar dos facturas que importan un total de 1050 euros. Después de mucho regatear consigue en la primera \n",
      "             un descuento del 12\\% y en la segunda otro del 8\\%, resultando que sólo paga 948 euros. \n",
      "             ¿Cuál era el importe de cada factura? \n",
      "solucion_latex: $\\left\\{\\begin{matrix}x+y=1050 \\\\ 0.88x+0.92y=948\\end{matrix}\\right. \\to  x = 450.0, \\  y = 600.0 \\to $\n"
     ]
    },
    {
     "data": {
      "text/markdown": [
       "#### Ejercicio:"
      ],
      "text/plain": [
       "<IPython.core.display.Markdown object>"
      ]
     },
     "metadata": {
      "tags": []
     },
     "output_type": "display_data"
    },
    {
     "data": {
      "text/markdown": [
       "Se reparten, de forma desigual, 800 litros de vino en dos barricas del mismo tamaño. La primera se llenaría si \n",
       "             le echásemos la tercera parte de lo que contiene la segunda. A su vez, la segunda barrica se llenaría si le echáramos\n",
       "             la séptima parte de los litros que contiene la primera. Halla la capacidad de las barricas y lo que contiene cada\n",
       "             una de ellas.  $\\to$ $\\left\\{\\begin{matrix}x+y/3=z \\\\ y+x/7=z \\\\ x+y=800\\end{matrix}\\right. \\to  x = 350, \\  y = 450, \\  z = 500 \\to $"
      ],
      "text/plain": [
       "<IPython.core.display.Markdown object>"
      ]
     },
     "metadata": {
      "tags": []
     },
     "output_type": "display_data"
    },
    {
     "name": "stdout",
     "output_type": "stream",
     "text": [
      "enunciado_latex: Se reparten, de forma desigual, 800 litros de vino en dos barricas del mismo tamaño. La primera se llenaría si \n",
      "             le echásemos la tercera parte de lo que contiene la segunda. A su vez, la segunda barrica se llenaría si le echáramos\n",
      "             la séptima parte de los litros que contiene la primera. Halla la capacidad de las barricas y lo que contiene cada\n",
      "             una de ellas. \n",
      "solucion_latex: $\\left\\{\\begin{matrix}x+y/3=z \\\\ y+x/7=z \\\\ x+y=800\\end{matrix}\\right. \\to  x = 350, \\  y = 450, \\  z = 500 \\to $\n"
     ]
    },
    {
     "data": {
      "text/markdown": [
       "#### Ejercicio:"
      ],
      "text/plain": [
       "<IPython.core.display.Markdown object>"
      ]
     },
     "metadata": {
      "tags": []
     },
     "output_type": "display_data"
    },
    {
     "data": {
      "text/markdown": [
       "En un colegio hay 600 estudiantes y han salido de viaje 280, siendo el 60\\% chicos y el 40\\% chicas. \n",
       "             ¿Cuántas chicas y chicos hay en el colegio? $\\to$ $\\left\\{\\begin{matrix}x+y=600 \\\\ 0.6x+0.4y=280\\end{matrix}\\right. \\to  x = 200.0, \\  y = 400.0 \\to $"
      ],
      "text/plain": [
       "<IPython.core.display.Markdown object>"
      ]
     },
     "metadata": {
      "tags": []
     },
     "output_type": "display_data"
    },
    {
     "name": "stdout",
     "output_type": "stream",
     "text": [
      "enunciado_latex: En un colegio hay 600 estudiantes y han salido de viaje 280, siendo el 60\\% chicos y el 40\\% chicas. \n",
      "             ¿Cuántas chicas y chicos hay en el colegio?\n",
      "solucion_latex: $\\left\\{\\begin{matrix}x+y=600 \\\\ 0.6x+0.4y=280\\end{matrix}\\right. \\to  x = 200.0, \\  y = 400.0 \\to $\n"
     ]
    },
    {
     "data": {
      "text/markdown": [
       "#### Ejercicio:"
      ],
      "text/plain": [
       "<IPython.core.display.Markdown object>"
      ]
     },
     "metadata": {
      "tags": []
     },
     "output_type": "display_data"
    },
    {
     "data": {
      "text/markdown": [
       "Un total de 80 vasos están distribuidos entre dos cajas, A y B. \n",
       "             Si pasásemos diez vasos de B a A el número de vasos de A sería tres veces  el de los almacenados en B. \n",
       "             ¿Cuántos vasos hay en cada caja? $\\to$ $\\left\\{\\begin{matrix}x+y=80 \\\\ x+10=3(y-10)\\end{matrix}\\right. \\to  x = 50, \\  y = 30 \\to $"
      ],
      "text/plain": [
       "<IPython.core.display.Markdown object>"
      ]
     },
     "metadata": {
      "tags": []
     },
     "output_type": "display_data"
    },
    {
     "name": "stdout",
     "output_type": "stream",
     "text": [
      "enunciado_latex: Un total de 80 vasos están distribuidos entre dos cajas, A y B. \n",
      "             Si pasásemos diez vasos de B a A el número de vasos de A sería tres veces  el de los almacenados en B. \n",
      "             ¿Cuántos vasos hay en cada caja?\n",
      "solucion_latex: $\\left\\{\\begin{matrix}x+y=80 \\\\ x+10=3(y-10)\\end{matrix}\\right. \\to  x = 50, \\  y = 30 \\to $\n"
     ]
    },
    {
     "data": {
      "text/markdown": [
       "#### Ejercicio:"
      ],
      "text/plain": [
       "<IPython.core.display.Markdown object>"
      ]
     },
     "metadata": {
      "tags": []
     },
     "output_type": "display_data"
    },
    {
     "data": {
      "text/markdown": [
       "Halla el precio de coste y venta de un par de zapatillas de deporte sabiendo que si sobre el PVP el comerciante \n",
       "             hiciese un descuento del 20\\% todavía ganaría 200 céntimos de euro y, en cambio, \n",
       "             perdería 250 céntimos de euro si el descuento fuese del 30\\% sobre el PVP. $\\to$ $\\left\\{\\begin{matrix}0.8y-x=2 \\\\ 0.7y-x=-2.5\\end{matrix}\\right. \\to  x = 34.0, \\  y = 45.0 \\to $"
      ],
      "text/plain": [
       "<IPython.core.display.Markdown object>"
      ]
     },
     "metadata": {
      "tags": []
     },
     "output_type": "display_data"
    },
    {
     "name": "stdout",
     "output_type": "stream",
     "text": [
      "enunciado_latex: Halla el precio de coste y venta de un par de zapatillas de deporte sabiendo que si sobre el PVP el comerciante \n",
      "             hiciese un descuento del 20\\% todavía ganaría 200 céntimos de euro y, en cambio, \n",
      "             perdería 250 céntimos de euro si el descuento fuese del 30\\% sobre el PVP.\n",
      "solucion_latex: $\\left\\{\\begin{matrix}0.8y-x=2 \\\\ 0.7y-x=-2.5\\end{matrix}\\right. \\to  x = 34.0, \\  y = 45.0 \\to $\n"
     ]
    },
    {
     "data": {
      "text/markdown": [
       "#### Ejercicio:"
      ],
      "text/plain": [
       "<IPython.core.display.Markdown object>"
      ]
     },
     "metadata": {
      "tags": []
     },
     "output_type": "display_data"
    },
    {
     "data": {
      "text/markdown": [
       "La edad de Luis es actualmente tres veces la edad de Ana. Dentro de 5 años la edad de Luis será \n",
       "             solamente doble que la edad de Ana. Halla las edades actuales de ambos. $\\to$ $\\left\\{\\begin{matrix}x=3y \\\\ x+5=2(y+5)\\end{matrix}\\right. \\to  x = 15, \\  y = 5 \\to $"
      ],
      "text/plain": [
       "<IPython.core.display.Markdown object>"
      ]
     },
     "metadata": {
      "tags": []
     },
     "output_type": "display_data"
    },
    {
     "name": "stdout",
     "output_type": "stream",
     "text": [
      "enunciado_latex: La edad de Luis es actualmente tres veces la edad de Ana. Dentro de 5 años la edad de Luis será \n",
      "             solamente doble que la edad de Ana. Halla las edades actuales de ambos.\n",
      "solucion_latex: $\\left\\{\\begin{matrix}x=3y \\\\ x+5=2(y+5)\\end{matrix}\\right. \\to  x = 15, \\  y = 5 \\to $\n"
     ]
    },
    {
     "data": {
      "text/markdown": [
       "#### Ejercicio:"
      ],
      "text/plain": [
       "<IPython.core.display.Markdown object>"
      ]
     },
     "metadata": {
      "tags": []
     },
     "output_type": "display_data"
    },
    {
     "data": {
      "text/markdown": [
       " En una fábrica han mezclado harina de trigo a 1,20 \\euro /kg, y harina de maíz a \n",
       "             1,00 \\euro /kg y van a obtener por la venta de a mezcla un total de 290 \\euro. \n",
       "             Halla qué cantidad de harina de cada cereal han usado sabiendo que si \n",
       "             el precio de ambas harinas fuese 0,20 \\euro /kg mayor el valor de la mezcla sería 344 \\euro. $\\to$ $\\left\\{\\begin{matrix}1.2x+y=290 \\\\ 1.4x+1.2y=344\\end{matrix}\\right. \\to  x = 100.0, \\  y = 170.0 \\to $"
      ],
      "text/plain": [
       "<IPython.core.display.Markdown object>"
      ]
     },
     "metadata": {
      "tags": []
     },
     "output_type": "display_data"
    },
    {
     "name": "stdout",
     "output_type": "stream",
     "text": [
      "enunciado_latex:  En una fábrica han mezclado harina de trigo a 1,20 \\euro /kg, y harina de maíz a \n",
      "             1,00 \\euro /kg y van a obtener por la venta de a mezcla un total de 290 \\euro. \n",
      "             Halla qué cantidad de harina de cada cereal han usado sabiendo que si \n",
      "             el precio de ambas harinas fuese 0,20 \\euro /kg mayor el valor de la mezcla sería 344 \\euro.\n",
      "solucion_latex: $\\left\\{\\begin{matrix}1.2x+y=290 \\\\ 1.4x+1.2y=344\\end{matrix}\\right. \\to  x = 100.0, \\  y = 170.0 \\to $\n"
     ]
    },
    {
     "data": {
      "text/markdown": [
       "#### Ejercicio:"
      ],
      "text/plain": [
       "<IPython.core.display.Markdown object>"
      ]
     },
     "metadata": {
      "tags": []
     },
     "output_type": "display_data"
    },
    {
     "data": {
      "text/markdown": [
       " Una peña de amigos va a comer a un restaurante. A la hora de pagar se dan cuenta que si cada uno pone 30 euros \n",
       "             faltan 20 euros para el total, mientras que si ponen 35 euros por cabeza sobran un total de 40 euros. \n",
       "             ¿Cuántos amigos componen la peña?. ¿Qué cantidad tienen que pagar en total?  $\\to$ $\\left\\{\\begin{matrix}30x=y-20 \\\\ 35x=y+40\\end{matrix}\\right. \\to  x = 12, \\  y = 380 \\to $"
      ],
      "text/plain": [
       "<IPython.core.display.Markdown object>"
      ]
     },
     "metadata": {
      "tags": []
     },
     "output_type": "display_data"
    },
    {
     "name": "stdout",
     "output_type": "stream",
     "text": [
      "enunciado_latex:  Una peña de amigos va a comer a un restaurante. A la hora de pagar se dan cuenta que si cada uno pone 30 euros \n",
      "             faltan 20 euros para el total, mientras que si ponen 35 euros por cabeza sobran un total de 40 euros. \n",
      "             ¿Cuántos amigos componen la peña?. ¿Qué cantidad tienen que pagar en total? \n",
      "solucion_latex: $\\left\\{\\begin{matrix}30x=y-20 \\\\ 35x=y+40\\end{matrix}\\right. \\to  x = 12, \\  y = 380 \\to $\n"
     ]
    }
   ],
   "source": [
    "texto_ejercicio = \"Resuelve mediante expresiones algebraicas:\"\n",
    "\n",
    "display(md(\"**\"+texto_ejercicio+\"**\"))\n",
    "\n",
    "problemas = [ [r\"\"\"Encuentra dos números tales que la suma de dos de los mismos sea 19 \n",
    "y la diferencia de ambos multiplicada por 6 sea 54.\"\"\", [r'x+y=19',r'6(x-y)=54']],\n",
    "             [r\"\"\"La sexta parte de la suma de dos números es 14 y la mitad de su \n",
    "diferencia es 13. Halla esos números.\"\"\",[r'\\frac{1}{6}(x+y)=14', r'\\frac{1}{2}(x-y)=13']],\n",
    "             [r\"\"\"Un ganadero vende 7 cerdos y 9 corderos por 660 euros y \n",
    "             luego vende 10 cerdos y 5 corderos por el mismo dinero. \n",
    "             Calcula el precio de cada animal.\"\"\", [r'7x+9y=660',r'10x+5y=660']],\n",
    "             [r\"\"\"Las dos cifras de un número suman 10 y la diferencia entre el número\n",
    "             y el que resulta de invertir el orden de sus cifras es 36. \n",
    "             Averigua de que número se trata.\"\"\", [r'x+y=10',r'10x+y-(10y+x)=36']],\n",
    "             [r\"\"\"La suma de las cifras de un número de tres cifras es 18. La cifra \n",
    "             de las unidades es 8 y las de las centenas es dos unidades mayor que la\n",
    "             de las decenas. Halla dicho número.\"\"\", [r'x+y+8=18',r'x=y+2']],\n",
    "             [r\"\"\"Un número de dos cifras es cuatro veces mayor que la suma de \n",
    "             sus cifras. Si al número le sumamos 18 resulta un número que tiene las \n",
    "             mismas cifras que el número dado, aunque en orden inverso. \n",
    "             Busca el número inicial. \"\"\", [r'10x+y=4(x+y)',r'10x+y+18=10y+x']],\n",
    "             [r\"\"\"Si a un número de dos cifras le quitamos el que resulta de invertir\n",
    "             sus cifras da 27 y si le sumamos 9 unidades duplicamos el número que resulta\n",
    "             de invertir el orden de sus cifras. Halla el número. \"\"\", [r'10x+y-(10y+x)=27',r'10x+y+9=2(10y+x)']],\n",
    "             [r\"\"\"Si a un número de dos cifras le sumamos 18 se obtiene un número con \n",
    "             las cifras intercambiadas entre sí. Sabiendo que la suma de las cifras de \n",
    "             ese número es 16, encuéntralo. \"\"\", [r'10x+y+18=10y+x',r'x+y=16']],\n",
    "             [r\"\"\"La suma de las cifras de un capicúa de la forma \\emph{aba} es 19 y si a ese número le restamos \n",
    "             el número de dos cifras \\emph{ab} da por resultado 609. \n",
    "             ¿cuál es el número capicúa? \"\"\", [r'x+y+x=19',r'100x+10y+x-(10x+y)=609']],\n",
    "             [r\"\"\"La cifra de las decenas de un número es triple que la de las unidades y el número disminuye \n",
    "             en 36 cuando se invierte el orden de las cifras. \n",
    "             Halla el número \"\"\", [r'x=3y',r'10x+y=10y+x+36']], \n",
    "             [r\"\"\"n número capicúa es de la forma \\emph{abba}. Intercambiamos los valores de sus cifras para \n",
    "             obtener \\emph{baab} y la diferencia entre ambos es 8019. Si se sabe que la suma de sus cifras\n",
    "             es 18, ¿cuál es el número?\"\"\", [r'x+y+y+x=18',r'1000x+100y+10y+x-(1000y+100x+10x+y)=8019']],\n",
    "             [r\"\"\"Juan le dice a Luis: Actualmente mi edad es triple que la tuya, pero hace siete años \n",
    "             era diez veces mayor que tú. ¿Qué edad tiene cada uno? \"\"\", [r'x=3y',r'x-7=10(y-7)']],\n",
    "             [r\"\"\"Si a cada uno de los términos de una fracción le sumamos 3 resulta una fracción equivalente\n",
    "             a 10/11, pero si les restásemos 4 resultaría equivalente a 3/4. Halla la fracción. \"\"\", [r'(x+3)/(y+3)=10/11',r'(x-4)/(y-4)=3/4']],\n",
    "             [r\"\"\"Una embarcación va a favor de la corriente de un río a 20 km/h y en contra de la corriente a 14 km/h. \n",
    "             ¿A qué velocidad descenderá un trozo de madera por el río?\"\"\", [r'x+y=20',r'x-y=14']],\n",
    "             [r\"\"\"Una persona lleva en el monedero 50 monedas diversas, de uno y de cinco euros, por un valor de 190 euros. \n",
    "             ¿Cuántas monedas lleva de un euro? \"\"\", [r'x+y=50',r'x+5y=190']],\n",
    "             [r\"\"\"Determina una fracción tal que si le sumamos una unidad al numerador se transforma en una fracción equivalente a 1/2 y si \n",
    "             aumentásemos en dos unidades el denominador se transformaría en otra equivalente a 1/3.\"\"\", [r'(x+1)/y=1/2',r'x/(y+2)=1/3']],\n",
    "             [r\"\"\"En una hucha hay 55 monedas de cinco y dos euros. Si en total hay 212 euros. \n",
    "             ¿Cuántas monedas hay de cada clase? \"\"\", [r'x+y=55',r'5x+2y=212']],\n",
    "             [r\"\"\"Halla una fracción equivalente a 3/5 cuya suma de sus \n",
    "             términos sea 32. \"\"\", [r'x/y=3/5',r'x+y=32']],\n",
    "             [r\"\"\"Con dos clases de café de 5,4 euros/kg y 7,2 euros/kg se quiere obtener una mezcla cuyo precio resulte a 6 euros/kg. \n",
    "             Calcula la cantidad que hay que poner de cada uno para lograr 600 kg de mezcla. \"\"\", [r'5.4x+7.2y=6 \\cdot 600',r'x+y=600']],             \n",
    "             [r\"\"\"En un corral hay conejos y gallinas en total hay 59 cabezas y 202 patas. \n",
    "             ¿cuántos conejos y gallinas hay?\"\"\", [r'x+y=59',r'4x+2y=202']],\n",
    "             [r\"\"\" En las anotaciones de un camarero se podía leer: \\emph{Mesa 10: 2 cafés y 4 zumos 5,2 euros. Mesa 15: 3 cafés y 2 zumos 4,2 euros.}\n",
    "             ¿Cuánto valían el café y el zumo en ese bar? \"\"\", [r'2x+4y=5.2',r'3x+2y=4.2']],\n",
    "             [r\"\"\"De acuerdo con las previsiones, entre las dos fábricas de una misma empresa deberían producir 360 máquinas al mes. \n",
    "             La primera de ellas cumplió el plan previsto al 112\\% y la segunda al 110\\% y entre ambas produjeron un total \n",
    "             de 400 máquinas. ¿Cuántas máquinas produjo cada una por separado? \"\"\", [r'x+y=360',r'1.12x+1.1y=400']],\n",
    "             [r\"\"\"Una persona tiene una bañera de 492 litros. Si quiere llenar a rebosar la bañera, con ella completamente sumergida,\n",
    "             debe echar 35 cubos de agua pero si la persona tuviera doble volumen harían falta cinco cubos menos. \n",
    "             ¿Cuál es el volumen de la persona y la capacidad del cubo? \"\"\", [r'492-x=35y',r'492-2x=30y']],\n",
    "             [r\"\"\"Hace cinco años Pedro tenía triple edad que Jesús y dentro de un año sólo será el doble. \n",
    "             ¿Cuáles son las edades de ambos en la actualidad? \"\"\", [r'x-5=3(y-5)',r'x+1=2(y+1)']],             \n",
    "             [r\"\"\"Halla una fracción equivalente a 3/8 cuyo numerador más denominador sume 55.\"\"\", [r'x/y=3/8',r'x+y=55']],\n",
    "             [r\"\"\"El área de un rectángulo no variaría si se aumentase su base en 6 cm y a la vez se disminuyese su \n",
    "             altura en 3 cm. Tampoco variaría si la base disminuyese en 4 cm y la altura aumentase en 3 cm. \n",
    "             ¿Cuáles son las dimensiones actuales del rectángulo?\"\"\", [r'xy=(x+6)(y-3)',r'xy=(x-4)(y+3)']],\n",
    "             [r\"\"\"Las dos cifras de un número suman 6. Ese número y el que resulta de invertir el orden de \n",
    "             sus cifras están en la relación 4:7. Hállalo. \"\"\", [r'x+y=6',r'(10x+y)/(10y+x)=4/7']],\n",
    "             [r\"\"\"Dos pueblos A y B están situados en lados opuestos de un puerto de montaña. Un ciclista que sube a 12 km/h y desciende\n",
    "             a 36 km/h emplea 45 minutos en ir de A a B; en cambio, el viaje de regreso le lleva diez minutos más. \n",
    "             ¿Qué distancia, por carretera, separa a y B? \"\"\", [r'x/12+y/36=45/60',r'y/12+x/36=55/60']],\n",
    "             [r\"\"\"En otro puerto de montaña también hay dos pueblos situados a lados distintos y, en este caso, distantes\n",
    "             18 km por carretera. Un ciclista, que sube a 12 km/h y desciende a 30 km/h, emplea una hora en ir de uno \n",
    "             al otro. ¿Cuántos kilómetros tiene de subida y bajada? \"\"\", [r'x+y=18',r'x/12+y/30=1']],\n",
    "             [r\"\"\" Dos capitales son tales que colocados el mayor al 5\\% y el menor al 6\\% se obtiene una renta anual de 930 euros, \n",
    "             pero si se intercambiasen los intereses la renta sería de 940 euros. \n",
    "             Halla ambos capitales. \"\"\", [r'0.05x+0.06y=930',r'0.06x+0.05y=940']],\n",
    "             [r\"\"\"Si se aumenta la base de un rectángulo en 4 cm y se disminuye la altura en 2 cm se tiene la misma área; en cambio, \n",
    "             si la base se disminuye en 10 cm y se aumenta la altura en 10 cm, entonces el área es 40 cm2 menor. \n",
    "             Averigua las dimensiones del rectángulo. \"\"\", [r'(x+4)(y-2)=xy',r'(x-10)(y+10)=xy-40']],\n",
    "             [r\"\"\"Susana debe pagar dos facturas que importan un total de 1050 euros. Después de mucho regatear consigue en la primera \n",
    "             un descuento del 12\\% y en la segunda otro del 8\\%, resultando que sólo paga 948 euros. \n",
    "             ¿Cuál era el importe de cada factura? \"\"\", [r'x+y=1050',r'0.88x+0.92y=948']],\n",
    "             [r\"\"\"Se reparten, de forma desigual, 800 litros de vino en dos barricas del mismo tamaño. La primera se llenaría si \n",
    "             le echásemos la tercera parte de lo que contiene la segunda. A su vez, la segunda barrica se llenaría si le echáramos\n",
    "             la séptima parte de los litros que contiene la primera. Halla la capacidad de las barricas y lo que contiene cada\n",
    "             una de ellas. \"\"\", [r'x+y/3=z',r'y+x/7=z', r'x+y=800']],\n",
    "             [r\"\"\"En un colegio hay 600 estudiantes y han salido de viaje 280, siendo el 60\\% chicos y el 40\\% chicas. \n",
    "             ¿Cuántas chicas y chicos hay en el colegio?\"\"\", [r'x+y=600',r'0.6x+0.4y=280']],\n",
    "             [r\"\"\"Un total de 80 vasos están distribuidos entre dos cajas, A y B. \n",
    "             Si pasásemos diez vasos de B a A el número de vasos de A sería tres veces  el de los almacenados en B. \n",
    "             ¿Cuántos vasos hay en cada caja?\"\"\", [r'x+y=80',r'x+10=3(y-10)']],\n",
    "             [r\"\"\"Halla el precio de coste y venta de un par de zapatillas de deporte sabiendo que si sobre el PVP el comerciante \n",
    "             hiciese un descuento del 20\\% todavía ganaría 200 céntimos de euro y, en cambio, \n",
    "             perdería 250 céntimos de euro si el descuento fuese del 30\\% sobre el PVP.\"\"\", [r'0.8y-x=2',r'0.7y-x=-2.5']],\n",
    "             [r\"\"\"La edad de Luis es actualmente tres veces la edad de Ana. Dentro de 5 años la edad de Luis será \n",
    "             solamente doble que la edad de Ana. Halla las edades actuales de ambos.\"\"\", [r'x=3y',r'x+5=2(y+5)']],\n",
    "             [r\"\"\" En una fábrica han mezclado harina de trigo a 1,20 \\euro /kg, y harina de maíz a \n",
    "             1,00 \\euro /kg y van a obtener por la venta de a mezcla un total de 290 \\euro. \n",
    "             Halla qué cantidad de harina de cada cereal han usado sabiendo que si \n",
    "             el precio de ambas harinas fuese 0,20 \\euro /kg mayor el valor de la mezcla sería 344 \\euro.\"\"\", [r'1.2x+y=290',r'1.4x+1.2y=344']],\n",
    "             [r\"\"\" Una peña de amigos va a comer a un restaurante. A la hora de pagar se dan cuenta que si cada uno pone 30 euros \n",
    "             faltan 20 euros para el total, mientras que si ponen 35 euros por cabeza sobran un total de 40 euros. \n",
    "             ¿Cuántos amigos componen la peña?. ¿Qué cantidad tienen que pagar en total? \"\"\", [r'30x=y-20',r'35x=y+40']],\n",
    "#              [r\"\"\" \"\"\", [r'',r'']],\n",
    "             \n",
    "    \n",
    "]\n",
    "\n",
    "for p in problemas :\n",
    "    enunciado = p[0]\n",
    "    solucion = r\"\"\"\\left\\{\\begin{matrix}\"\"\"+ r\" \\\\ \".join(p[1])+ r'\\end{matrix}\\right.'\n",
    "    solucion += r\" \\to \" + latex(solve([parse_latex(j) for j in p[1]])).replace(r'\\left\\{','').replace(r'\\right\\}','').replace(':','=')\n",
    "    mostrar_ejercicio(enunciado, r\"$\"+solucion+r\" \\to $\")"
   ]
  },
  {
   "cell_type": "code",
   "execution_count": 9,
   "metadata": {
    "colab": {
     "base_uri": "https://localhost:8080/",
     "height": 1000
    },
    "id": "xwmKJZPGnioI",
    "outputId": "c1e8f59c-6064-4474-b4ce-254fd691fc45",
    "scrolled": true
   },
   "outputs": [
    {
     "data": {
      "text/markdown": [
       "**Auto Evaluación: Resuelve mediante expresiones algebraicas:**"
      ],
      "text/plain": [
       "<IPython.core.display.Markdown object>"
      ]
     },
     "metadata": {
      "tags": []
     },
     "output_type": "display_data"
    },
    {
     "data": {
      "text/markdown": [
       "#### Ejercicio:"
      ],
      "text/plain": [
       "<IPython.core.display.Markdown object>"
      ]
     },
     "metadata": {
      "tags": []
     },
     "output_type": "display_data"
    },
    {
     "data": {
      "text/markdown": [
       "Encuentra dos números tales que su suma sea 26 \n",
       "y la mitad de su diferencia sea 4. $\\to$ $\\left\\{\\begin{matrix}x+y=26 \\\\ (x-y)/2=4\\end{matrix}\\right. \\to  x = 17, \\  y = 9$"
      ],
      "text/plain": [
       "<IPython.core.display.Markdown object>"
      ]
     },
     "metadata": {
      "tags": []
     },
     "output_type": "display_data"
    },
    {
     "name": "stdout",
     "output_type": "stream",
     "text": [
      "enunciado_latex: Encuentra dos números tales que su suma sea 26 \n",
      "y la mitad de su diferencia sea 4.\n",
      "solucion_latex: $\\left\\{\\begin{matrix}x+y=26 \\\\ (x-y)/2=4\\end{matrix}\\right. \\to  x = 17, \\  y = 9$\n"
     ]
    },
    {
     "data": {
      "text/markdown": [
       "#### Ejercicio:"
      ],
      "text/plain": [
       "<IPython.core.display.Markdown object>"
      ]
     },
     "metadata": {
      "tags": []
     },
     "output_type": "display_data"
    },
    {
     "data": {
      "text/markdown": [
       "Si se aumenta la longitud de un campo rectangular en 5 m y la anchura en 7 m, \n",
       "la superficie aumenta en 830 m2; mientras que si se disminuye la longitud en 8 m y la anchura en 4 m, \n",
       "la superficie disminuye en 700 m2. Calcular las dimensiones del campo $\\to$ $\\left\\{\\begin{matrix}(x+5)\\cdot(y+7)=xy+830 \\\\ (x-8)\\cdot(y-4)=xy-700\\end{matrix}\\right. \\to  x = 75, \\  y = 54$"
      ],
      "text/plain": [
       "<IPython.core.display.Markdown object>"
      ]
     },
     "metadata": {
      "tags": []
     },
     "output_type": "display_data"
    },
    {
     "name": "stdout",
     "output_type": "stream",
     "text": [
      "enunciado_latex: Si se aumenta la longitud de un campo rectangular en 5 m y la anchura en 7 m, \n",
      "la superficie aumenta en 830 m2; mientras que si se disminuye la longitud en 8 m y la anchura en 4 m, \n",
      "la superficie disminuye en 700 m2. Calcular las dimensiones del campo\n",
      "solucion_latex: $\\left\\{\\begin{matrix}(x+5)\\cdot(y+7)=xy+830 \\\\ (x-8)\\cdot(y-4)=xy-700\\end{matrix}\\right. \\to  x = 75, \\  y = 54$\n"
     ]
    },
    {
     "data": {
      "text/markdown": [
       "#### Ejercicio:"
      ],
      "text/plain": [
       "<IPython.core.display.Markdown object>"
      ]
     },
     "metadata": {
      "tags": []
     },
     "output_type": "display_data"
    },
    {
     "data": {
      "text/markdown": [
       "Busca dos números consecutivos tales que, añadiendo al mayor la mitad del menor, \n",
       "             el resultado excede en 13 a la suma de la quinta parte del menor \n",
       "             con la onceava parte del mayor.  $\\to$ $\\left\\{\\begin{matrix}y=x+1 \\\\ y+\\frac{x}{2}=\\frac{x}{5}+\\frac{y}{11}+13\\end{matrix}\\right. \\to  x = 10, \\  y = 11$"
      ],
      "text/plain": [
       "<IPython.core.display.Markdown object>"
      ]
     },
     "metadata": {
      "tags": []
     },
     "output_type": "display_data"
    },
    {
     "name": "stdout",
     "output_type": "stream",
     "text": [
      "enunciado_latex: Busca dos números consecutivos tales que, añadiendo al mayor la mitad del menor, \n",
      "             el resultado excede en 13 a la suma de la quinta parte del menor \n",
      "             con la onceava parte del mayor. \n",
      "solucion_latex: $\\left\\{\\begin{matrix}y=x+1 \\\\ y+\\frac{x}{2}=\\frac{x}{5}+\\frac{y}{11}+13\\end{matrix}\\right. \\to  x = 10, \\  y = 11$\n"
     ]
    },
    {
     "data": {
      "text/markdown": [
       "#### Ejercicio:"
      ],
      "text/plain": [
       "<IPython.core.display.Markdown object>"
      ]
     },
     "metadata": {
      "tags": []
     },
     "output_type": "display_data"
    },
    {
     "data": {
      "text/markdown": [
       "En un triángulo rectángulo, un cateto mide 24 cm y la hipotenusa supera en 18 cm al otro cateto. \n",
       "             Busca el perímetro y el área del triángulo. $\\to$ $\\left\\{\\begin{matrix}y=x+18 \\\\ y^2=24^2+x^2\\end{matrix}\\right. \\to \\left[  x = 7, \\  y = 25\\right]$"
      ],
      "text/plain": [
       "<IPython.core.display.Markdown object>"
      ]
     },
     "metadata": {
      "tags": []
     },
     "output_type": "display_data"
    },
    {
     "name": "stdout",
     "output_type": "stream",
     "text": [
      "enunciado_latex: En un triángulo rectángulo, un cateto mide 24 cm y la hipotenusa supera en 18 cm al otro cateto. \n",
      "             Busca el perímetro y el área del triángulo.\n",
      "solucion_latex: $\\left\\{\\begin{matrix}y=x+18 \\\\ y^2=24^2+x^2\\end{matrix}\\right. \\to \\left[  x = 7, \\  y = 25\\right]$\n"
     ]
    },
    {
     "data": {
      "text/markdown": [
       "#### Ejercicio:"
      ],
      "text/plain": [
       "<IPython.core.display.Markdown object>"
      ]
     },
     "metadata": {
      "tags": []
     },
     "output_type": "display_data"
    },
    {
     "data": {
      "text/markdown": [
       "Si a un número de dos cifras le sumamos 9 se obtiene un número con \n",
       "             las cifras intercambiadas entre sí. Sabiendo que la suma de las cifras de \n",
       "             ese número es 11, encuéntralo.  $\\to$ $\\left\\{\\begin{matrix}10x+y+9=10y+x \\\\ x+y=11\\end{matrix}\\right. \\to  x = 5, \\  y = 6$"
      ],
      "text/plain": [
       "<IPython.core.display.Markdown object>"
      ]
     },
     "metadata": {
      "tags": []
     },
     "output_type": "display_data"
    },
    {
     "name": "stdout",
     "output_type": "stream",
     "text": [
      "enunciado_latex: Si a un número de dos cifras le sumamos 9 se obtiene un número con \n",
      "             las cifras intercambiadas entre sí. Sabiendo que la suma de las cifras de \n",
      "             ese número es 11, encuéntralo. \n",
      "solucion_latex: $\\left\\{\\begin{matrix}10x+y+9=10y+x \\\\ x+y=11\\end{matrix}\\right. \\to  x = 5, \\  y = 6$\n"
     ]
    },
    {
     "data": {
      "text/markdown": [
       "#### Ejercicio:"
      ],
      "text/plain": [
       "<IPython.core.display.Markdown object>"
      ]
     },
     "metadata": {
      "tags": []
     },
     "output_type": "display_data"
    },
    {
     "data": {
      "text/markdown": [
       "En un corral hay conejos y gallinas, en total 50 cabezas y 134 patas. \\\n",
       "            ¿Cuántos animales hay de cada clase? $\\to$ $\\left\\{\\begin{matrix}50=x+y \\\\ 134=4x+2y\\end{matrix}\\right. \\to  x = 17, \\  y = 33$"
      ],
      "text/plain": [
       "<IPython.core.display.Markdown object>"
      ]
     },
     "metadata": {
      "tags": []
     },
     "output_type": "display_data"
    },
    {
     "name": "stdout",
     "output_type": "stream",
     "text": [
      "enunciado_latex: En un corral hay conejos y gallinas, en total 50 cabezas y 134 patas. \\\n",
      "            ¿Cuántos animales hay de cada clase?\n",
      "solucion_latex: $\\left\\{\\begin{matrix}50=x+y \\\\ 134=4x+2y\\end{matrix}\\right. \\to  x = 17, \\  y = 33$\n"
     ]
    },
    {
     "data": {
      "text/markdown": [
       "#### Ejercicio:"
      ],
      "text/plain": [
       "<IPython.core.display.Markdown object>"
      ]
     },
     "metadata": {
      "tags": []
     },
     "output_type": "display_data"
    },
    {
     "data": {
      "text/markdown": [
       "La diagonal de un rectángulo mide 2 cm más que uno de los lados. Calcula las dimensiones del rectángulo sabiendo que su perímetro es de 14 cm. $\\to$ $\\left\\{\\begin{matrix}(x+2)^2=x^2+y^2 \\\\ 2x+2y=14\\end{matrix}\\right. \\to \\left[  x = 3, \\  y = 4, \\   x = 15, \\  y = -8\\right]$"
      ],
      "text/plain": [
       "<IPython.core.display.Markdown object>"
      ]
     },
     "metadata": {
      "tags": []
     },
     "output_type": "display_data"
    },
    {
     "name": "stdout",
     "output_type": "stream",
     "text": [
      "enunciado_latex: La diagonal de un rectángulo mide 2 cm más que uno de los lados. Calcula las dimensiones del rectángulo sabiendo que su perímetro es de 14 cm.\n",
      "solucion_latex: $\\left\\{\\begin{matrix}(x+2)^2=x^2+y^2 \\\\ 2x+2y=14\\end{matrix}\\right. \\to \\left[  x = 3, \\  y = 4, \\   x = 15, \\  y = -8\\right]$\n"
     ]
    },
    {
     "data": {
      "text/markdown": [
       "#### Ejercicio:"
      ],
      "text/plain": [
       "<IPython.core.display.Markdown object>"
      ]
     },
     "metadata": {
      "tags": []
     },
     "output_type": "display_data"
    },
    {
     "data": {
      "text/markdown": [
       "El área de un jardín rectangular mide 900 m2 y está rodeado por un paseo de 5 m de ancho, cuya área es de 850 m2. Calcula las dimensiones del jardín. $\\to$ $\\left\\{\\begin{matrix}xy=900 \\\\ (x+10)\\cdot(y+10)=900+850\\end{matrix}\\right. \\to \\left[  x = 15, \\  y = 60, \\   x = 60, \\  y = 15\\right]$"
      ],
      "text/plain": [
       "<IPython.core.display.Markdown object>"
      ]
     },
     "metadata": {
      "tags": []
     },
     "output_type": "display_data"
    },
    {
     "name": "stdout",
     "output_type": "stream",
     "text": [
      "enunciado_latex: El área de un jardín rectangular mide 900 m2 y está rodeado por un paseo de 5 m de ancho, cuya área es de 850 m2. Calcula las dimensiones del jardín.\n",
      "solucion_latex: $\\left\\{\\begin{matrix}xy=900 \\\\ (x+10)\\cdot(y+10)=900+850\\end{matrix}\\right. \\to \\left[  x = 15, \\  y = 60, \\   x = 60, \\  y = 15\\right]$\n"
     ]
    },
    {
     "data": {
      "text/markdown": [
       "#### Ejercicio:"
      ],
      "text/plain": [
       "<IPython.core.display.Markdown object>"
      ]
     },
     "metadata": {
      "tags": []
     },
     "output_type": "display_data"
    },
    {
     "data": {
      "text/markdown": [
       "Juan y su padre se llevan 25 años de edad. Calcular la edad de Juan sabiendo que \\\n",
       "              dentro de 15 años la edad de su padre será el doble que la suya. $\\to$ $\\left\\{\\begin{matrix}y=x+25 \\\\ y+15=2(x+15)\\end{matrix}\\right. \\to  x = 10, \\  y = 35$"
      ],
      "text/plain": [
       "<IPython.core.display.Markdown object>"
      ]
     },
     "metadata": {
      "tags": []
     },
     "output_type": "display_data"
    },
    {
     "name": "stdout",
     "output_type": "stream",
     "text": [
      "enunciado_latex: Juan y su padre se llevan 25 años de edad. Calcular la edad de Juan sabiendo que \\\n",
      "              dentro de 15 años la edad de su padre será el doble que la suya.\n",
      "solucion_latex: $\\left\\{\\begin{matrix}y=x+25 \\\\ y+15=2(x+15)\\end{matrix}\\right. \\to  x = 10, \\  y = 35$\n"
     ]
    },
    {
     "data": {
      "text/markdown": [
       "#### Ejercicio:"
      ],
      "text/plain": [
       "<IPython.core.display.Markdown object>"
      ]
     },
     "metadata": {
      "tags": []
     },
     "output_type": "display_data"
    },
    {
     "data": {
      "text/markdown": [
       "Luisa tiene el triple de edad que su hijo Juan. Dentro de 15 años, la edad de Luisa será el doble que la de su hijo. ¿Cuántos años más que Juan tiene su madre? $\\to$ $\\left\\{\\begin{matrix}y=3x \\\\ y+15=2(x+15)\\end{matrix}\\right. \\to  x = 15, \\  y = 45$"
      ],
      "text/plain": [
       "<IPython.core.display.Markdown object>"
      ]
     },
     "metadata": {
      "tags": []
     },
     "output_type": "display_data"
    },
    {
     "name": "stdout",
     "output_type": "stream",
     "text": [
      "enunciado_latex: Luisa tiene el triple de edad que su hijo Juan. Dentro de 15 años, la edad de Luisa será el doble que la de su hijo. ¿Cuántos años más que Juan tiene su madre?\n",
      "solucion_latex: $\\left\\{\\begin{matrix}y=3x \\\\ y+15=2(x+15)\\end{matrix}\\right. \\to  x = 15, \\  y = 45$\n"
     ]
    }
   ],
   "source": [
    "texto_ejercicio = \"Resuelve mediante expresiones algebraicas:\"\n",
    "\n",
    "display(md(\"**Auto Evaluación: \"+texto_ejercicio+\"**\"))\n",
    "\n",
    "problemas = [ \n",
    "            [r\"\"\"Encuentra dos números tales que su suma sea 26 \n",
    "y la mitad de su diferencia sea 4.\"\"\", [r'x+y=26',r'(x-y)/2=4']],\n",
    "            [r\"\"\"Si se aumenta la longitud de un campo rectangular en 5 m y la anchura en 7 m, \n",
    "la superficie aumenta en 830 m2; mientras que si se disminuye la longitud en 8 m y la anchura en 4 m, \n",
    "la superficie disminuye en 700 m2. Calcular las dimensiones del campo\"\"\", [r'(x+5)\\cdot(y+7)=xy+830',r'(x-8)\\cdot(y-4)=xy-700']],\n",
    "#              [r\"\"\" \"\"\", [r'',r'']],\n",
    "             [r\"\"\"Busca dos números consecutivos tales que, añadiendo al mayor la mitad del menor, \n",
    "             el resultado excede en 13 a la suma de la quinta parte del menor \n",
    "             con la onceava parte del mayor. \"\"\", [r'y=x+1',r'y+\\frac{x}{2}=\\frac{x}{5}+\\frac{y}{11}+13']],\n",
    "             [r\"\"\"En un triángulo rectángulo, un cateto mide 24 cm y la hipotenusa supera en 18 cm al otro cateto. \n",
    "             Busca el perímetro y el área del triángulo.\"\"\", [r'y=x+18',r'y^2=24^2+x^2']],\n",
    "            [r\"\"\"Si a un número de dos cifras le sumamos 9 se obtiene un número con \n",
    "             las cifras intercambiadas entre sí. Sabiendo que la suma de las cifras de \n",
    "             ese número es 11, encuéntralo. \"\"\", [r'10x+y+9=10y+x',r'x+y=11']], \n",
    "            [r'En un corral hay conejos y gallinas, en total 50 cabezas y 134 patas. \\\n",
    "            ¿Cuántos animales hay de cada clase?',['50=x+y','134=4x+2y']],\n",
    "            # Examen\n",
    "             [r'La diagonal de un rectángulo mide 2 cm más que uno de los lados. Calcula las dimensiones del rectángulo sabiendo que su perímetro es de 14 cm.',\n",
    "              ['(x+2)^2=x^2+y^2','2x+2y=14']],\n",
    "             [r'El área de un jardín rectangular mide 900 m2 y está rodeado por un paseo de 5 m de ancho, cuya área es de 850 m2. Calcula las dimensiones del jardín.',\n",
    "              ['xy=900','(x+10)\\cdot(y+10)=900+850']],\n",
    "             [r'Juan y su padre se llevan 25 años de edad. Calcular la edad de Juan sabiendo que \\\n",
    "              dentro de 15 años la edad de su padre será el doble que la suya.',['y=x+25','y+15=2(x+15)']],\n",
    "             [r'Luisa tiene el triple de edad que su hijo Juan. Dentro de 15 años, la edad de Luisa será el doble que la de su hijo. ¿Cuántos años más que Juan tiene su madre?',\n",
    "              ['y=3x','y+15=2(x+15)']]\n",
    "]\n",
    "\n",
    "for p in problemas :\n",
    "    enunciado = p[0]\n",
    "    solucion = r\"\"\"\\left\\{\\begin{matrix}\"\"\"+ r\" \\\\ \".join(p[1])+ r'\\end{matrix}\\right.'\n",
    "    solucion += r\" \\to \" + latex(solve([parse_latex(j) for j in p[1]])).replace(r'\\left\\{','').replace(r'\\right\\}','').replace(':','=')\n",
    "    mostrar_ejercicio(enunciado, r\"$\"+solucion+r\"$\")"
   ]
  }
 ],
 "metadata": {
  "colab": {
   "name": "7 Sistemas.ipynb",
   "provenance": []
  },
  "kernelspec": {
   "display_name": "Python 3",
   "language": "python",
   "name": "python3"
  },
  "language_info": {
   "codemirror_mode": {
    "name": "ipython",
    "version": 3
   },
   "file_extension": ".py",
   "mimetype": "text/x-python",
   "name": "python",
   "nbconvert_exporter": "python",
   "pygments_lexer": "ipython3",
   "version": "3.6.12"
  }
 },
 "nbformat": 4,
 "nbformat_minor": 1
}
