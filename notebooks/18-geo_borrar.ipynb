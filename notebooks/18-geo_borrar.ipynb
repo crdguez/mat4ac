{
 "cells": [
  {
   "cell_type": "code",
   "execution_count": 1,
   "metadata": {
    "colab": {
     "base_uri": "https://localhost:8080/"
    },
    "id": "XLjKRF_kknDB",
    "outputId": "bf368ad3-b06b-4d98-c873-15e25c6e4091"
   },
   "outputs": [],
   "source": [
    "# Ejecutar para que funcione el parse_latex en google colab\n",
    " \n",
    "# !pip install sympy==1.5 antlr4-python3-runtime==4.7.1"
   ]
  },
  {
   "cell_type": "code",
   "execution_count": 2,
   "metadata": {
    "colab": {
     "base_uri": "https://localhost:8080/"
    },
    "id": "tVIMjcDSknDa",
    "outputId": "8a4c95fe-51d7-4ded-d63f-41e146567df4",
    "scrolled": true
   },
   "outputs": [
    {
     "name": "stdout",
     "output_type": "stream",
     "text": [
      "IPython console for SymPy 1.6.1 (Python 3.8.3-64-bit) (ground types: gmpy)\n",
      "\n",
      "These commands were executed:\n",
      ">>> from __future__ import division\n",
      ">>> from sympy import *\n",
      ">>> x, y, z, t = symbols('x y z t')\n",
      ">>> k, m, n = symbols('k m n', integer=True)\n",
      ">>> f, g, h = symbols('f g h', cls=Function)\n",
      ">>> init_printing()\n",
      "\n",
      "Documentation can be found at https://docs.sympy.org/1.6.1/\n",
      "\n"
     ]
    }
   ],
   "source": [
    "from sympy import init_session\n",
    "from sympy.parsing.latex import parse_latex\n",
    "from sympy.parsing.sympy_parser import parse_expr\n",
    "from IPython.display import Markdown as md\n",
    "from IPython.display import display\n",
    "\n",
    "init_session()"
   ]
  },
  {
   "cell_type": "code",
   "execution_count": 3,
   "metadata": {
    "id": "U_EQ3XUBknDf"
   },
   "outputs": [],
   "source": [
    "def latex_exam(question, parts):\n",
    "    tex=r\"\\question \"+question+r\"\\begin{parts} \"\n",
    "    for p in parts :\n",
    "        tex+=r\"\\part[1] \"+p[0]+r\"\\begin{solution} \"+p[1]+r\"\\end{solution} \" \n",
    "    tex+=r\"\\end{parts} \"\n",
    "    \n",
    "    return tex\n",
    "\n",
    "def mostrar_ejercicio(ejercicio,solucion,tipo=0) :\n",
    "    #tipo=0 se pasa el ejercicio y la solucion en formato latex\n",
    "    if tipo == 0 :\n",
    "        display(md(\"#### Ejercicio:\"))\n",
    "        display(md(r\"{} $\\to$ {}\".format(ejercicio, solucion)))\n",
    "        print(\"enunciado_latex: \" + ejercicio)\n",
    "        print(\"solucion_latex: \" + solucion)\n",
    "        return ejercicio, solucion\n",
    "    elif tipo == 1:\n",
    "        # falta desarrollar ...\n",
    "        display(md(\"#### Ejercicio:\"))\n",
    "        display(md(r\"{} $\\to$ {}\".format(ejercicio, solucion)))\n",
    "        print(\"enunciado_latex: \" + ejercicio)\n",
    "        print(\"solucion_latex: \" + solucion)\n",
    "        return ejercicio, solucion\n",
    "\n",
    "        "
   ]
  },
  {
   "cell_type": "code",
   "execution_count": 4,
   "metadata": {},
   "outputs": [],
   "source": [
    "import numpy as np\n",
    "import matplotlib.pyplot as plt\n",
    "\n",
    "%matplotlib inline"
   ]
  },
  {
   "cell_type": "code",
   "execution_count": 5,
   "metadata": {},
   "outputs": [],
   "source": [
    "# Funciones\n",
    "\n",
    "def dibujar_ejes(size=10) :\n",
    "#     xs = [0, 2, -3, -1.5]\n",
    "#     ys = [0, 3, 1, -2.5]\n",
    "#     colors = ['m', 'g', 'r', 'b']\n",
    "\n",
    "    # Select length of axes and the space between tick labels\n",
    "    xmin, xmax, ymin, ymax = -size, size , -size, size\n",
    "    ticks_frequency = 1\n",
    "    \n",
    "\n",
    "    # Plot points\n",
    "    fig, ax = plt.subplots(figsize=(10, 10))\n",
    "#     ax.scatter(xs, ys, c=colors)\n",
    "#     # Draw lines connecting points to axes\n",
    "#     for x, y, c in zip(xs, ys, colors):\n",
    "#         ax.plot([x, x], [0, y], c=c, ls='--', lw=1.5, alpha=0.5)\n",
    "#         ax.plot([0, x], [y, y], c=c, ls='--', lw=1.5, alpha=0.5)\n",
    "\n",
    "    # Set identical scales for both axes\n",
    "    ax.set(xlim=(xmin-1, xmax+1), ylim=(ymin-1, ymax+1), aspect='equal')\n",
    "\n",
    "    # Set bottom and left spines as x and y axes of coordinate system\n",
    "    ax.spines['bottom'].set_position('zero')\n",
    "    ax.spines['left'].set_position('zero')\n",
    "\n",
    "    # Remove top and right spines\n",
    "    ax.spines['top'].set_visible(False)\n",
    "    ax.spines['right'].set_visible(False)\n",
    "\n",
    "    # Create 'x' and 'y' labels placed at the end of the axes\n",
    "    ax.set_xlabel('x', size=14, labelpad=-24, x=1.03)\n",
    "    ax.set_ylabel('y', size=14, labelpad=-21, y=1.02, rotation=0)\n",
    "\n",
    "    # Create custom major ticks to determine position of tick labels\n",
    "    x_ticks = np.arange(xmin, xmax+1, ticks_frequency)\n",
    "    y_ticks = np.arange(ymin, ymax+1, ticks_frequency)\n",
    "    ax.set_xticks(x_ticks[x_ticks != 0])\n",
    "    ax.set_yticks(y_ticks[y_ticks != 0])\n",
    "\n",
    "    # Create minor ticks placed at each integer to enable drawing of minor grid\n",
    "    # lines: note that this has no effect in this example with ticks_frequency=1\n",
    "    ax.set_xticks(np.arange(xmin, xmax+1), minor=True)\n",
    "    ax.set_yticks(np.arange(ymin, ymax+1), minor=True)\n",
    "\n",
    "    # Draw major and minor grid lines\n",
    "    ax.grid(which='both', color='grey', linewidth=1, linestyle='-', alpha=0.2)\n",
    "\n",
    "    return fig, ax\n",
    "    \n",
    "\n",
    "\n",
    "def añadir_vectores(X,Y,U,V,T,fig,ax, clr='red') :\n",
    "#    puedes pasar listas o enteros. (X,Y) punto de origen, (u,v) vector\n",
    "    ax.quiver(X,Y,U,V, angles='xy', scale_units='xy', scale=1, width=0.004, headwidth=3., headlength=4., color=clr)\n",
    "    if type(X) == list :\n",
    "        for i in range(len(X)):\n",
    "            plt.text(X[i]+U[i]/2+0.75,Y[i]+V[i]/2-0.75,r\"$\\overrightarrow{\"+T[i]+r\"}$\",c=clr)\n",
    "    else :\n",
    "        plt.text(X+U/2+0.75,Y+V/2-0.75,r\"$\\overrightarrow{\"+T+r\"}$\",c=clr)\n",
    "#     plt.show()\n",
    "#     fig.savefig(\"a.png\")\n",
    "    \n",
    "\n"
   ]
  },
  {
   "cell_type": "code",
   "execution_count": 6,
   "metadata": {},
   "outputs": [
    {
     "data": {
      "image/png": "[encoded data removed]",
      "text/plain": [
       "<Figure size 720x720 with 1 Axes>"
      ]
     },
     "metadata": {
      "needs_background": "light"
     },
     "output_type": "display_data"
    }
   ],
   "source": [
    "# Ejemplo de uso\n",
    "\n",
    "fig, ax =dibujar_ejes(20)    \n",
    "\n",
    "# datos en listas\n",
    "X,Y,U,V,T = [-1,-5],[6,1],[1,8],[-4,2],['u','v']   \n",
    "añadir_vectores(X,Y,U,V,T,fig,ax)\n",
    "añadir_vectores([10],[10],[-5],[8],['s'],fig,ax)\n",
    "# datos en enteros\n",
    "añadir_vectores(-10,10,3,2,'t',fig,ax,'b')\n",
    "plt.show()"
   ]
  },
  {
   "cell_type": "code",
   "execution_count": 7,
   "metadata": {},
   "outputs": [
    {
     "data": {
      "text/markdown": [
       "**Representa y calcula las coordenadas de $\\overrightarrow{u}+\\overrightarrow{v}$**"
      ],
      "text/plain": [
       "<IPython.core.display.Markdown object>"
      ]
     },
     "metadata": {},
     "output_type": "display_data"
    },
    {
     "data": {
      "text/plain": [
       "'u'"
      ]
     },
     "metadata": {},
     "output_type": "display_data"
    },
    {
     "data": {
      "image/png": "[encoded data removed]",
      "text/latex": [
       "$\\displaystyle Point2D\\left(9, -4\\right)$"
      ],
      "text/plain": [
       "Point2D(9, -4)"
      ]
     },
     "metadata": {},
     "output_type": "display_data"
    },
    {
     "data": {
      "image/png": "[encoded data removed]",
      "text/plain": [
       "<Figure size 720x720 with 1 Axes>"
      ]
     },
     "metadata": {
      "needs_background": "light"
     },
     "output_type": "display_data"
    }
   ],
   "source": [
    "# Representar y calcular vectores suma\n",
    "\n",
    "texto_ejercicio = r'Representa y calcula las coordenadas de $\\overrightarrow{u}+\\overrightarrow{v}$'\n",
    "\n",
    "display(md(\"**\"+texto_ejercicio+\"**\"))\n",
    "\n",
    "datos = [       [[1,2,3,4, 'u'],[-10,-5,6,-8, 'v']],                    \n",
    "    \n",
    "                    ]\n",
    "\n",
    "\n",
    "for d in datos :\n",
    "    display(d[0][4])\n",
    "    fig, ax =dibujar_ejes(20)\n",
    "    for v in d:\n",
    "        X, Y, U, V, T = v\n",
    "        añadir_vectores(X, Y, U, V, T,fig,ax,'b')\n",
    "    sol=[x + y for x, y in zip(d[0],d[1])][-3:-1]\n",
    "    U,V=sol\n",
    "    añadir_vectores(0, 0, U, V, 'u+v',fig,ax,'r')\n",
    "    display(Point(sol))\n",
    "        \n",
    "    \n",
    "#     p1.save('sistema_ine_ex{}.png'.format(j))\n",
    "#     p1.show()\n",
    "#     mostrar_ejercicio(r\"$\"+sist_latex+r\"$\",r\"\"\"\\scalebox{.99}{\\includegraphics[width=1\\columnwidth]{sistema_ine_ex\"\"\"+latex(j)+r\"\"\".png}}\"\"\")\n",
    "#     lista.append([r\"$\"+sist_latex+r\"$\",r\"\"\"\\scalebox{.99}{\\includegraphics[width=1\\columnwidth]{sistema_ine_ex\"\"\"+latex(j)+r\"\"\".png}}\"\"\"])\n",
    "    \n",
    "# print(latex_exam('Resuelve el siguiente sistema de inecuaciones con dos incógnitas:',lista))"
   ]
  },
  {
   "cell_type": "code",
   "execution_count": 8,
   "metadata": {},
   "outputs": [
    {
     "data": {
      "text/markdown": [
       "**Calcula el punto medio del segmento que une los puntos:**"
      ],
      "text/plain": [
       "<IPython.core.display.Markdown object>"
      ]
     },
     "metadata": {},
     "output_type": "display_data"
    },
    {
     "data": {
      "text/markdown": [
       "#### Ejercicio:"
      ],
      "text/plain": [
       "<IPython.core.display.Markdown object>"
      ]
     },
     "metadata": {},
     "output_type": "display_data"
    },
    {
     "data": {
      "text/markdown": [
       "$A\\left( -5, \\  0\\right) y \\ B\\left( 3, \\  7\\right)$  $\\to$ $M\\left( -1, \\  \\frac{7}{2}\\right)$"
      ],
      "text/plain": [
       "<IPython.core.display.Markdown object>"
      ]
     },
     "metadata": {},
     "output_type": "display_data"
    },
    {
     "name": "stdout",
     "output_type": "stream",
     "text": [
      "enunciado_latex: $A\\left( -5, \\  0\\right) y \\ B\\left( 3, \\  7\\right)$ \n",
      "solucion_latex: $M\\left( -1, \\  \\frac{7}{2}\\right)$\n",
      "\\question Calcula el punto medio del segmento que une los puntos:\\begin{parts} \\part[1] $A\\left( -5, \\  0\\right) y \\ B\\left( 3, \\  7\\right)$ \\begin{solution} $M\\left( -1, \\  \\dfrac{7}{2}\\right)$\\end{solution} \\end{parts} \n"
     ]
    }
   ],
   "source": [
    "# Calcular el punto medio\n",
    "\n",
    "texto_ejercicio = 'Calcula el punto medio del segmento que une los puntos:'\n",
    "display(md(\"**\"+texto_ejercicio+\"**\"))\n",
    "\n",
    "pre_enunciado_latex = [\n",
    "    [(-5,0),(3,7)]\n",
    "                      ]\n",
    "question=texto_ejercicio\n",
    "parts=[]\n",
    "for i in pre_enunciado_latex :\n",
    "    enun = \"$A\"+latex(i[0])+\" y \\ B\"+latex(i[1])+\"$ \"\n",
    "#     enun = enun.replace(r'[',r'(').replace(r']',r')')\n",
    "    sol = \"$M\"+latex(list(Point(i[0]).midpoint(Point(i[1]))))+\"$\"\n",
    "    sol=sol.replace(r'[',r'(').replace(r']',r')')\n",
    "    mostrar_ejercicio(enun, sol) \n",
    "    parts.append([enun, sol])         \n",
    "\n",
    "print(latex_exam(question, parts).replace(r'\\frac',r'\\dfrac'))"
   ]
  },
  {
   "cell_type": "code",
   "execution_count": 9,
   "metadata": {},
   "outputs": [
    {
     "data": {
      "text/markdown": [
       "**Calcula el punto medio del segmento que une los puntos:**"
      ],
      "text/plain": [
       "<IPython.core.display.Markdown object>"
      ]
     },
     "metadata": {},
     "output_type": "display_data"
    },
    {
     "data": {
      "text/markdown": [
       "#### Ejercicio:"
      ],
      "text/plain": [
       "<IPython.core.display.Markdown object>"
      ]
     },
     "metadata": {},
     "output_type": "display_data"
    },
    {
     "data": {
      "text/markdown": [
       "$A\\left( -5, \\  0\\right) y \\ B\\left( 3, \\  7\\right)$  $\\to$ $M\\left( -1, \\  \\frac{7}{2}\\right)$"
      ],
      "text/plain": [
       "<IPython.core.display.Markdown object>"
      ]
     },
     "metadata": {},
     "output_type": "display_data"
    },
    {
     "name": "stdout",
     "output_type": "stream",
     "text": [
      "enunciado_latex: $A\\left( -5, \\  0\\right) y \\ B\\left( 3, \\  7\\right)$ \n",
      "solucion_latex: $M\\left( -1, \\  \\frac{7}{2}\\right)$\n",
      "\\question Calcula el punto medio del segmento que une los puntos:\\begin{parts} \\part[1] $A\\left( -5, \\  0\\right) y \\ B\\left( 3, \\  7\\right)$ \\begin{solution} $M\\left( -1, \\  \\dfrac{7}{2}\\right)$\\end{solution} \\end{parts} \n"
     ]
    }
   ],
   "source": [
    "# Calcular el punto simétrico\n",
    "\n",
    "texto_ejercicio = 'Calcula el punto medio del segmento que une los puntos:'\n",
    "display(md(\"**\"+texto_ejercicio+\"**\"))\n",
    "\n",
    "pre_enunciado_latex = [\n",
    "    [(-5,0),(3,7)]\n",
    "                      ]\n",
    "question=texto_ejercicio\n",
    "parts=[]\n",
    "for i in pre_enunciado_latex :\n",
    "    enun = \"$A\"+latex(i[0])+\" y \\ B\"+latex(i[1])+\"$ \"\n",
    "#     enun = enun.replace(r'[',r'(').replace(r']',r')')\n",
    "    sol = \"$M\"+latex(list(Point(i[0]).midpoint(Point(i[1]))))+\"$\"\n",
    "    sol=sol.replace(r'[',r'(').replace(r']',r')')\n",
    "    mostrar_ejercicio(enun, sol) \n",
    "    parts.append([enun, sol])         \n",
    "\n",
    "print(latex_exam(question, parts).replace(r'\\frac',r'\\dfrac'))"
   ]
  },
  {
   "cell_type": "code",
   "execution_count": 10,
   "metadata": {},
   "outputs": [
    {
     "data": {
      "text/markdown": [
       "**Calcula el punto simétrico:**"
      ],
      "text/plain": [
       "<IPython.core.display.Markdown object>"
      ]
     },
     "metadata": {},
     "output_type": "display_data"
    },
    {
     "data": {
      "text/markdown": [
       "#### Ejercicio:"
      ],
      "text/plain": [
       "<IPython.core.display.Markdown object>"
      ]
     },
     "metadata": {},
     "output_type": "display_data"
    },
    {
     "data": {
      "text/markdown": [
       "De $A\\left( -7, \\  -15\\right)$ respecto  de  $M\\left( 2, \\  0\\right)$  $\\to$ $Point2D\\left(\\frac{x}{2} - \\frac{7}{2}, \\frac{y}{2} - \\frac{15}{2}\\right) = Point2D\\left(2, 0\\right)\\to A'\\left(11,15\\right)$"
      ],
      "text/plain": [
       "<IPython.core.display.Markdown object>"
      ]
     },
     "metadata": {},
     "output_type": "display_data"
    },
    {
     "name": "stdout",
     "output_type": "stream",
     "text": [
      "enunciado_latex: De $A\\left( -7, \\  -15\\right)$ respecto  de  $M\\left( 2, \\  0\\right)$ \n",
      "solucion_latex: $Point2D\\left(\\frac{x}{2} - \\frac{7}{2}, \\frac{y}{2} - \\frac{15}{2}\\right) = Point2D\\left(2, 0\\right)\\to A'\\left(11,15\\right)$\n",
      "\\question Calcula el punto simétrico:\\begin{parts} \\part[1] De $A\\left( -7, \\  -15\\right)$ respecto  de  $M\\left( 2, \\  0\\right)$ \\begin{solution} $Point2D\\left(\\dfrac{x}{2} - \\dfrac{7}{2}, \\dfrac{y}{2} - \\dfrac{15}{2}\\right) = Point2D\\left(2, 0\\right)\\to A'\\left(11,15\\right)$\\end{solution} \\end{parts} \n"
     ]
    }
   ],
   "source": [
    "# Calcular el punto simétrico\n",
    "\n",
    "texto_ejercicio = 'Calcula el punto simétrico:'\n",
    "display(md(\"**\"+texto_ejercicio+\"**\"))\n",
    "\n",
    "pre_enunciado_latex = [\n",
    "    [(-7,-15),(2,0)]\n",
    "                      ]\n",
    "question=texto_ejercicio\n",
    "parts=[]\n",
    "for i in pre_enunciado_latex :\n",
    "    enun = \"De $A\"+latex(i[0])+\"$ respecto  de  $M\"+latex(i[1])+\"$ \"\n",
    "#     enun = enun.replace(r'[',r'(').replace(r']',r')')\n",
    "    A,M = map(Point, i)\n",
    "    B=(x,y)\n",
    "    sol = \"$\"+latex(Eq(A.midpoint(B),M))+r\"\\to A'\\left(\"+\",\".join([latex(i[0]) for i in list(map(solve,list(A.midpoint(B)-M)))])+r\"\\right)$\"\n",
    "    sol=sol.replace(r'[',r'(').replace(r']',r')')\n",
    "    mostrar_ejercicio(enun, sol) \n",
    "    parts.append([enun, sol])         \n",
    "\n",
    "print(latex_exam(question, parts).replace(r'\\frac',r'\\dfrac'))"
   ]
  },
  {
   "cell_type": "code",
   "execution_count": 11,
   "metadata": {},
   "outputs": [
    {
     "data": {
      "text/markdown": [
       "**Halla las coordenadas del punto D, de modo que ABCD sea un paralelogramo siendo**"
      ],
      "text/plain": [
       "<IPython.core.display.Markdown object>"
      ]
     },
     "metadata": {},
     "output_type": "display_data"
    },
    {
     "data": {
      "text/markdown": [
       "#### Ejercicio:"
      ],
      "text/plain": [
       "<IPython.core.display.Markdown object>"
      ]
     },
     "metadata": {},
     "output_type": "display_data"
    },
    {
     "data": {
      "text/markdown": [
       "Siendo $A$, $B$ y $C$ respectivamente: $\\left( 1, \\  -1\\right) $, $\\left( 0, \\  2\\right) $, $\\left( 6, \\  5\\right)$ $\\to$ $\\overrightarrow{AB} = \\overrightarrow{DC} \\to Point2D\\left(-1, 3\\right) = Point2D\\left(6 - x, 5 - y\\right) \\to D\\left( 7, \\  2\\right)$"
      ],
      "text/plain": [
       "<IPython.core.display.Markdown object>"
      ]
     },
     "metadata": {},
     "output_type": "display_data"
    },
    {
     "name": "stdout",
     "output_type": "stream",
     "text": [
      "enunciado_latex: Siendo $A$, $B$ y $C$ respectivamente: $\\left( 1, \\  -1\\right) $, $\\left( 0, \\  2\\right) $, $\\left( 6, \\  5\\right)$\n",
      "solucion_latex: $\\overrightarrow{AB} = \\overrightarrow{DC} \\to Point2D\\left(-1, 3\\right) = Point2D\\left(6 - x, 5 - y\\right) \\to D\\left( 7, \\  2\\right)$\n",
      "\\question Halla las coordenadas del punto D, de modo que ABCD sea un paralelogramo siendo\\begin{parts} \\part[1] Siendo $A$, $B$ y $C$ respectivamente: $\\left( 1, \\  -1\\right) $, $\\left( 0, \\  2\\right) $, $\\left( 6, \\  5\\right)$\\begin{solution} $\\overrightarrow{AB} = \\overrightarrow{DC} \\to Point2D\\left(-1, 3\\right) = Point2D\\left(6 - x, 5 - y\\right) \\to D\\left( 7, \\  2\\right)$\\end{solution} \\end{parts} \n"
     ]
    }
   ],
   "source": [
    "# Calcular el punto simétrico\n",
    "\n",
    "texto_ejercicio = 'Halla las coordenadas del punto D, de modo que ABCD sea un paralelogramo siendo'\n",
    "display(md(\"**\"+texto_ejercicio+\"**\"))\n",
    "\n",
    "pre_enunciado_latex = [\n",
    "    [(1, -1), (0, 2), (6, 5)]\n",
    "                      ]\n",
    "question=texto_ejercicio\n",
    "parts=[]\n",
    "for i in pre_enunciado_latex :\n",
    "    enun = \"Siendo $A$, $B$ y $C$ respectivamente: $\"+\" $, $\".join(map(latex,i))+\"$\"\n",
    "    A, B, C = map(Point,i)\n",
    "    D = Point(x,y)\n",
    "    sol=r\"$\\overrightarrow{AB} = \\overrightarrow{DC} \\to \"+latex(Eq(B-A, C-D))+r\" \\to D\"\n",
    "    sol += latex([i[0] for i in list(map(solve,list(B-A-C+D)))])+\"$\"\n",
    "    sol=sol.replace(r'[',r'(').replace(r']',r')')\n",
    "    mostrar_ejercicio(enun, sol) \n",
    "    parts.append([enun, sol])         \n",
    "\n",
    "print(latex_exam(question, parts).replace(r'\\frac',r'\\dfrac'))"
   ]
  },
  {
   "cell_type": "code",
   "execution_count": 12,
   "metadata": {},
   "outputs": [],
   "source": [
    "def Linea(expr) :\n",
    "    eq = eval(str(parse_latex(expr)))\n",
    "    p1 = Point(0,nsimplify(solve(Eq(eq.args[0].subs(x,0),eq.args[1].subs(x,0)),y)[0]))\n",
    "    p2 = Point(1,nsimplify(solve(Eq(eq.args[0].subs(x,1),eq.args[1].subs(x,1)),y)[0]))\n",
    "    \n",
    "    return Line(p1,p2)\n",
    "\n",
    "#uso Linea('3x+y=0')\n"
   ]
  },
  {
   "cell_type": "code",
   "execution_count": 13,
   "metadata": {},
   "outputs": [
    {
     "data": {
      "text/markdown": [
       "**Escribe las ecuaciones vectorial, paramétricas, en forma continua y explícita de la recta que:**"
      ],
      "text/plain": [
       "<IPython.core.display.Markdown object>"
      ]
     },
     "metadata": {},
     "output_type": "display_data"
    },
    {
     "data": {
      "text/markdown": [
       "#### Ejercicio:"
      ],
      "text/plain": [
       "<IPython.core.display.Markdown object>"
      ]
     },
     "metadata": {},
     "output_type": "display_data"
    },
    {
     "data": {
      "text/markdown": [
       "Pasa por el punto $P$ y tiene por vector dirección $\\overrightarrow{d}$ respectivamente: $\\left( 3, \\  -2\\right) $, $\\left( -1, \\  5\\right)$ $\\to$ Solución aproximada a falta de manipular expresiones: $Point2D\\left(x, y\\right) = Point2D\\left(3 - t, 5 t - 2\\right) \\to - 5 x - y + 13 \\to y = 13 - 5 x$"
      ],
      "text/plain": [
       "<IPython.core.display.Markdown object>"
      ]
     },
     "metadata": {},
     "output_type": "display_data"
    },
    {
     "name": "stdout",
     "output_type": "stream",
     "text": [
      "enunciado_latex: Pasa por el punto $P$ y tiene por vector dirección $\\overrightarrow{d}$ respectivamente: $\\left( 3, \\  -2\\right) $, $\\left( -1, \\  5\\right)$\n",
      "solucion_latex: Solución aproximada a falta de manipular expresiones: $Point2D\\left(x, y\\right) = Point2D\\left(3 - t, 5 t - 2\\right) \\to - 5 x - y + 13 \\to y = 13 - 5 x$\n",
      "\\question Escribe las ecuaciones vectorial, paramétricas, en forma continua y explícita de la recta que:\\begin{parts} \\part[1] Pasa por el punto $P$ y tiene por vector dirección $\\overrightarrow{d}$ respectivamente: $\\left( 3, \\  -2\\right) $, $\\left( -1, \\  5\\right)$\\begin{solution} Solución aproximada a falta de manipular expresiones: $Point2D\\left(x, y\\right) = Point2D\\left(3 - t, 5 t - 2\\right) \\to - 5 x - y + 13 \\to y = 13 - 5 x$\\end{solution} \\end{parts} \n"
     ]
    }
   ],
   "source": [
    "# Calcular rectas\n",
    "\n",
    "texto_ejercicio = 'Escribe las ecuaciones vectorial, paramétricas, en forma continua y explícita de la recta que:'\n",
    "display(md(\"**\"+texto_ejercicio+\"**\"))\n",
    "\n",
    "pre_enunciado_latex = [\n",
    "    [(3, -2), (-1, 5)]\n",
    "                      ]\n",
    "question=texto_ejercicio\n",
    "parts=[]\n",
    "for i in pre_enunciado_latex :\n",
    "    enun = r\"Pasa por el punto $P$ y tiene por vector dirección $\\overrightarrow{d}$ respectivamente: $\"+\" $, $\".join(map(latex,i))+\"$\"\n",
    "    P, d = map(Point,i)\n",
    "    r=Line(P, P+d)\n",
    "    sol=r\"Solución aproximada a falta de manipular expresiones: $\"+latex(Eq(Point(x,y),(r.arbitrary_point())))+r\" \\to \"\n",
    "    sol += latex(r.equation())+r\" \\to \"+latex(Eq(y,solve(r.equation(y=y),y)[0]))+\"$\"\n",
    "    mostrar_ejercicio(enun, sol) \n",
    "    parts.append([enun, sol])         \n",
    "\n",
    "print(latex_exam(question, parts).replace(r'\\frac',r'\\dfrac'))"
   ]
  },
  {
   "cell_type": "code",
   "execution_count": 30,
   "metadata": {},
   "outputs": [
    {
     "data": {
      "text/markdown": [
       "**Calcula la recta $s$ que:**"
      ],
      "text/plain": [
       "<IPython.core.display.Markdown object>"
      ]
     },
     "metadata": {},
     "output_type": "display_data"
    },
    {
     "data": {
      "text/markdown": [
       "#### Ejercicio:"
      ],
      "text/plain": [
       "<IPython.core.display.Markdown object>"
      ]
     },
     "metadata": {},
     "output_type": "display_data"
    },
    {
     "data": {
      "text/markdown": [
       "pasa por P$\\left( -3, \\  2\\right)$ y es paralela a $r \\equiv 8 x - 3 y + 6 = 0$ $\\to$ $s\\equiv y = \\frac{8 x}{3} + 10$"
      ],
      "text/plain": [
       "<IPython.core.display.Markdown object>"
      ]
     },
     "metadata": {},
     "output_type": "display_data"
    },
    {
     "name": "stdout",
     "output_type": "stream",
     "text": [
      "enunciado_latex: pasa por P$\\left( -3, \\  2\\right)$ y es paralela a $r \\equiv 8 x - 3 y + 6 = 0$\n",
      "solucion_latex: $s\\equiv y = \\frac{8 x}{3} + 10$\n",
      "\\question Calcula la recta $s$ que:\\begin{parts} \\part[1] pasa por P$\\left( -3, \\  2\\right)$ y es paralela a $r \\equiv 8 x - 3 y + 6 = 0$\\begin{solution} $s\\equiv y = \\dfrac{8 x}{3} + 10$\\end{solution} \\end{parts} \n"
     ]
    }
   ],
   "source": [
    "# Calcular rectas paralelas\n",
    "\n",
    "texto_ejercicio = 'Calcula la recta $s$ que:'\n",
    "display(md(\"**\"+texto_ejercicio+\"**\"))\n",
    "\n",
    "pre_enunciado_latex = [\n",
    "    [(-3, 2), 8*x-3*y+6]\n",
    "                      ]\n",
    "question=texto_ejercicio\n",
    "parts=[]\n",
    "for i in pre_enunciado_latex :\n",
    "    enun = r\"pasa por P${}$ y es paralela a $r \\equiv {} = 0$\".format(latex(i[0]),latex(i[1]))\n",
    "    s=Line(i[1]).parallel_line(Point(i[0]))\n",
    "    sol=r\"$s\\equiv \"+latex(Eq(y,solve(s.equation(y=y),y)[0]))+r\"$\"\n",
    "    mostrar_ejercicio(enun, sol) \n",
    "    parts.append([enun, sol])         \n",
    "\n",
    "print(latex_exam(question, parts).replace(r'\\frac',r'\\dfrac'))"
   ]
  },
  {
   "cell_type": "code",
   "execution_count": 27,
   "metadata": {},
   "outputs": [
    {
     "data": {
      "text/markdown": [
       "**Calcula la recta $s$ que:**"
      ],
      "text/plain": [
       "<IPython.core.display.Markdown object>"
      ]
     },
     "metadata": {},
     "output_type": "display_data"
    },
    {
     "data": {
      "text/markdown": [
       "#### Ejercicio:"
      ],
      "text/plain": [
       "<IPython.core.display.Markdown object>"
      ]
     },
     "metadata": {},
     "output_type": "display_data"
    },
    {
     "data": {
      "text/markdown": [
       "pasa por P$\\left( -3, \\  2\\right)$ y es perpendicular a $r \\equiv 8 x - 3 y + 6 = 0$ $\\to$ $s\\equiv y = \\frac{7}{8} - \\frac{3 x}{8}$"
      ],
      "text/plain": [
       "<IPython.core.display.Markdown object>"
      ]
     },
     "metadata": {},
     "output_type": "display_data"
    },
    {
     "name": "stdout",
     "output_type": "stream",
     "text": [
      "enunciado_latex: pasa por P$\\left( -3, \\  2\\right)$ y es perpendicular a $r \\equiv 8 x - 3 y + 6 = 0$\n",
      "solucion_latex: $s\\equiv y = \\frac{7}{8} - \\frac{3 x}{8}$\n",
      "\\question Calcula la recta $s$ que:\\begin{parts} \\part[1] pasa por P$\\left( -3, \\  2\\right)$ y es perpendicular a $r \\equiv 8 x - 3 y + 6 = 0$\\begin{solution} $s\\equiv y = \\dfrac{7}{8} - \\dfrac{3 x}{8}$\\end{solution} \\end{parts} \n"
     ]
    }
   ],
   "source": [
    "# Calcular rectas y cortes\n",
    "\n",
    "texto_ejercicio = 'Calcula la recta $s$ que:'\n",
    "display(md(\"**\"+texto_ejercicio+\"**\"))\n",
    "\n",
    "pre_enunciado_latex = [\n",
    "    [(-3, 2), 8*x-3*y+6]\n",
    "                      ]\n",
    "question=texto_ejercicio\n",
    "parts=[]\n",
    "for i in pre_enunciado_latex :\n",
    "    enun = r\"pasa por P${}$ y es perpendicular a $r \\equiv {} = 0$\".format(latex(i[0]),latex(i[1]))\n",
    "    s=Line(i[1]).perpendicular_line(Point(i[0]))\n",
    "    sol=r\"$s\\equiv \"+latex(Eq(y,solve(s.equation(y=y),y)[0]))+r\"$\"\n",
    "    mostrar_ejercicio(enun, sol) \n",
    "    parts.append([enun, sol])         \n",
    "\n",
    "print(latex_exam(question, parts).replace(r'\\frac',r'\\dfrac'))"
   ]
  },
  {
   "cell_type": "code",
   "execution_count": 26,
   "metadata": {},
   "outputs": [
    {
     "data": {
      "text/markdown": [
       "**Obtén las ecuaciones de las rectas $r$ y $s$ y su punto de intersección sabiendo que:**"
      ],
      "text/plain": [
       "<IPython.core.display.Markdown object>"
      ]
     },
     "metadata": {},
     "output_type": "display_data"
    },
    {
     "data": {
      "text/markdown": [
       "#### Ejercicio:"
      ],
      "text/plain": [
       "<IPython.core.display.Markdown object>"
      ]
     },
     "metadata": {},
     "output_type": "display_data"
    },
    {
     "data": {
      "text/markdown": [
       "r pasa por $\\left( -3, \\  2\\right)$ y es perpendicular a $8 x - 3 y + 6 = 0$. Y s pasa por $\\left( 9, \\  -2.5\\right)$ y es paralela a $2 x + y - 7= 0$ $\\to$ Solución: \\\\ $r\\equiv - x - \\frac{8 y}{3} + \\frac{7}{3}$ \\\\ $s\\equiv y = \\frac{7}{8} - \\frac{3 x}{8}\\to  $$\\left[ Point2D\\left(9, - \\frac{5}{2}\\right)\\right] $ "
      ],
      "text/plain": [
       "<IPython.core.display.Markdown object>"
      ]
     },
     "metadata": {},
     "output_type": "display_data"
    },
    {
     "name": "stdout",
     "output_type": "stream",
     "text": [
      "enunciado_latex: r pasa por $\\left( -3, \\  2\\right)$ y es perpendicular a $8 x - 3 y + 6 = 0$. Y s pasa por $\\left( 9, \\  -2.5\\right)$ y es paralela a $2 x + y - 7= 0$\n",
      "solucion_latex: Solución: \\\\ $r\\equiv - x - \\frac{8 y}{3} + \\frac{7}{3}$ \\\\ $s\\equiv y = \\frac{7}{8} - \\frac{3 x}{8}\\to  $$\\left[ Point2D\\left(9, - \\frac{5}{2}\\right)\\right] $ \n",
      "\\question Obtén las ecuaciones de las rectas $r$ y $s$ y su punto de intersección sabiendo que:\\begin{parts} \\part[1] r pasa por $\\left( -3, \\  2\\right)$ y es perpendicular a $8 x - 3 y + 6 = 0$. Y s pasa por $\\left( 9, \\  -2.5\\right)$ y es paralela a $2 x + y - 7= 0$\\begin{solution} Solución: \\\\ $r\\equiv - x - \\dfrac{8 y}{3} + \\dfrac{7}{3}$ \\\\ $s\\equiv y = \\dfrac{7}{8} - \\dfrac{3 x}{8}\\to  $$\\left[ Point2D\\left(9, - \\dfrac{5}{2}\\right)\\right] $ \\end{solution} \\end{parts} \n"
     ]
    }
   ],
   "source": [
    "# Calcular rectas y cortes\n",
    "\n",
    "texto_ejercicio = 'Obtén las ecuaciones de las rectas $r$ y $s$ y su punto de intersección sabiendo que:'\n",
    "display(md(\"**\"+texto_ejercicio+\"**\"))\n",
    "\n",
    "pre_enunciado_latex = [\n",
    "    [(-3, 2), 8*x-3*y+6, (9, -5/2), 2*x+y-7]\n",
    "                      ]\n",
    "question=texto_ejercicio\n",
    "parts=[]\n",
    "for i in pre_enunciado_latex :\n",
    "    enun = r\"r pasa por ${}$ y es perpendicular a ${} = 0$. Y s pasa por ${}$ y es paralela a ${}= 0$\".format(latex(i[0]),latex(i[1]),latex(i[2]),latex(i[3]))\n",
    "    r=Line(i[1]).perpendicular_line(Point(i[0]))\n",
    "    Eq(y,solve(r.equation(y=y),y)[0])\n",
    "\n",
    "    s=Line(i[3]).parallel_line(Point(i[2]))\n",
    "    Eq(y,solve(s.equation(y=y),y)[0])\n",
    "    sol=r\"Solución: \\\\ $r\\equiv \"+latex(r.equation())+r\"$ \\\\ $s\\equiv \"+latex(Eq(y,solve(r.equation(y=y),y)[0]))+r\"\\to  $$\"+latex(r.intersection(s))+r\" $ \"\n",
    "    mostrar_ejercicio(enun, sol) \n",
    "    parts.append([enun, sol])         \n",
    "\n",
    "print(latex_exam(question, parts).replace(r'\\frac',r'\\dfrac'))"
   ]
  },
  {
   "cell_type": "code",
   "execution_count": 21,
   "metadata": {},
   "outputs": [
    {
     "data": {
      "image/png": "[encoded data removed]",
      "text/latex": [
       "$\\displaystyle \\left[ Point2D\\left(9, - \\frac{5}{2}\\right)\\right]$"
      ],
      "text/plain": [
       "[Point2D(9, -5/2)]"
      ]
     },
     "execution_count": 21,
     "metadata": {},
     "output_type": "execute_result"
    }
   ],
   "source": [
    "i=[(-3, 2), 8*x-3*y+6, (9, -5/2), 2*x+y-7]\n",
    "\n",
    "r=Line(i[1]).perpendicular_line(Point(i[0]))\n",
    "Eq(y,solve(r.equation(y=y),y)[0])\n",
    "\n",
    "s=Line(i[3]).parallel_line(Point(i[2]))\n",
    "Eq(y,solve(s.equation(y=y),y)[0])\n",
    "\n",
    "r.intersection(s)\n",
    "\n"
   ]
  },
  {
   "cell_type": "code",
   "execution_count": null,
   "metadata": {},
   "outputs": [],
   "source": [
    "r=Linea('8x-3y+6=0')\n",
    "\n",
    "\n",
    "r.p1, r.direction\n",
    "\n",
    "Line?\n"
   ]
  },
  {
   "cell_type": "code",
   "execution_count": null,
   "metadata": {},
   "outputs": [],
   "source": []
  }
 ],
 "metadata": {
  "colab": {
   "name": "7 Sistemas.ipynb",
   "provenance": []
  },
  "kernelspec": {
   "display_name": "Python 3",
   "language": "python",
   "name": "python3"
  },
  "language_info": {
   "codemirror_mode": {
    "name": "ipython",
    "version": 3
   },
   "file_extension": ".py",
   "mimetype": "text/x-python",
   "name": "python",
   "nbconvert_exporter": "python",
   "pygments_lexer": "ipython3",
   "version": "3.6.12"
  }
 },
 "nbformat": 4,
 "nbformat_minor": 4
}
