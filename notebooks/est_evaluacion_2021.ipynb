{
 "cells": [
  {
   "cell_type": "markdown",
   "metadata": {
    "colab_type": "text",
    "id": "view-in-github"
   },
   "source": [
    "<a href=\"https://colab.research.google.com/github/crdguez/mat4ac/blob/master/notebooks/est_evaluacion_2021.ipynb\" target=\"_parent\"><img src=\"https://colab.research.google.com/assets/colab-badge.svg\" alt=\"Open In Colab\"/></a>"
   ]
  },
  {
   "cell_type": "code",
   "execution_count": 14,
   "metadata": {
    "colab": {
     "base_uri": "https://localhost:8080/"
    },
    "id": "DM8t8jjxMMPF",
    "outputId": "90844cf0-b4ed-4dde-8cf0-9dcc581307f9"
   },
   "outputs": [
    {
     "name": "stdout",
     "output_type": "stream",
     "text": [
      "Drive already mounted at /content/drive; to attempt to forcibly remount, call drive.mount(\"/content/drive\", force_remount=True).\n",
      "/content/drive/My Drive/Curso Actual/4ac/notebooks\n",
      "/content/drive/My Drive/Curso Actual/4ac/notebooks\n"
     ]
    }
   ],
   "source": [
    "# Si lo ejecutas desde google colab\n",
    "from google.colab import drive\n",
    "import os\n",
    "drive.mount('/content/drive')\n",
    "%cd /content/drive/My Drive/Curso\\ Actual/4ac/notebooks\n",
    "!pwd\n",
    "#os.chdir('/content/drive/Curso Actual')\n",
    "\n"
   ]
  },
  {
   "cell_type": "code",
   "execution_count": 138,
   "metadata": {
    "id": "MXVCw75jMDL7"
   },
   "outputs": [],
   "source": [
    "# Import all libraries needed for the tutorial\n",
    "\n",
    "# General syntax to import specific functions in a library: \n",
    "##from (library) import (specific library function)\n",
    "from pandas import DataFrame, read_csv\n",
    "\n",
    "# General syntax to import a library but no functions: \n",
    "##import (library) as (give the library a nickname/alias)\n",
    "import matplotlib.pyplot as plt\n",
    "import pandas as pd #this is how I usually import pandas\n",
    "import sys #only needed to determine Python version number\n",
    "import matplotlib #only needed to determine Matplotlib version number\n",
    "import numpy as np\n",
    "\n",
    "# Enable inline plotting\n",
    "%matplotlib inline"
   ]
  },
  {
   "cell_type": "code",
   "execution_count": 139,
   "metadata": {
    "id": "fdAR8-FiMDMa"
   },
   "outputs": [],
   "source": [
    "def color_negative_red(val):\n",
    "    \"\"\"\n",
    "    Takes a scalar and returns a string with\n",
    "    the css property `'color: red'` for negative\n",
    "    strings, black otherwise.\n",
    "    \"\"\"\n",
    "    if type(val)== str:\n",
    "        color = 'blue ; background: azure'\n",
    "    else:\n",
    "        color = 'red; background: khaki' if (val < 5 or val ==\"\") else 'green; background: lightyellow'\n",
    "    return 'color: %s ; font-size: 12px ; font-weight: bold' % color \n",
    "\n",
    "def color_media(val):\n",
    "    \"\"\"\n",
    "    Takes a scalar and returns a string with\n",
    "    the css property `'color: red'` for negative\n",
    "    strings, black otherwise.\n",
    "    \"\"\"\n",
    "    if type(val)== str:\n",
    "        color = 'blue ; background: azure'\n",
    "    else:\n",
    "        color = 'red; background: gold' if (val < 5 or val ==\"\") else 'black; background: burlywood'\n",
    "    return 'color: %s ; font-size: 12px ; font-weight: bold'  % color \n",
    "\n",
    "def color_suspensos(val):\n",
    "    \"\"\"\n",
    "    Takes a scalar and returns a string with\n",
    "    the css property `'color: red'` for negative\n",
    "    strings, black otherwise.\n",
    "    \"\"\"\n",
    "    if type(val)== str:\n",
    "        color = 'blue ; background: azure'\n",
    "    else:\n",
    "        color = 'red; background: gold' if (val > 0 or val ==\"\") else 'black; background: darkkhaki'\n",
    "        \n",
    "    return 'color: %s ; font-weight: bold ; font-size: 12px' % color \n",
    "\n",
    "def evaluaciones_anteriores(val):      \n",
    "    if type(val)== str:\n",
    "        color = 'blue ; background: azure'\n",
    "    else:\n",
    "        color = 'red; background: khaki' if (val < 5 or val ==\"\") else 'green; background: ghostwhite'\n",
    "    \n",
    "    return 'color: %s ; font-size: 8px ; font-weight: lighter' % color "
   ]
  },
  {
   "cell_type": "code",
   "execution_count": 140,
   "metadata": {
    "colab": {
     "base_uri": "https://localhost:8080/",
     "height": 424
    },
    "id": "2dGsY2pfMDMq",
    "outputId": "88ed8d56-a9be-400a-9304-31f0e837b988"
   },
   "outputs": [
    {
     "data": {
      "text/html": [
       "<div>\n",
       "<style scoped>\n",
       "    .dataframe tbody tr th:only-of-type {\n",
       "        vertical-align: middle;\n",
       "    }\n",
       "\n",
       "    .dataframe tbody tr th {\n",
       "        vertical-align: top;\n",
       "    }\n",
       "\n",
       "    .dataframe thead th {\n",
       "        text-align: right;\n",
       "    }\n",
       "</style>\n",
       "<table border=\"1\" class=\"dataframe\">\n",
       "  <thead>\n",
       "    <tr style=\"text-align: right;\">\n",
       "      <th></th>\n",
       "      <th>Alumno</th>\n",
       "      <th>Asignatura</th>\n",
       "      <th>Eval</th>\n",
       "      <th>Nota</th>\n",
       "      <th>Suspenso</th>\n",
       "    </tr>\n",
       "  </thead>\n",
       "  <tbody>\n",
       "    <tr>\n",
       "      <th>0</th>\n",
       "      <td>Alumno_1</td>\n",
       "      <td>2FR II</td>\n",
       "      <td>1</td>\n",
       "      <td>8</td>\n",
       "      <td>0</td>\n",
       "    </tr>\n",
       "    <tr>\n",
       "      <th>1</th>\n",
       "      <td>Alumno_2</td>\n",
       "      <td>2FR II</td>\n",
       "      <td>1</td>\n",
       "      <td>7</td>\n",
       "      <td>0</td>\n",
       "    </tr>\n",
       "    <tr>\n",
       "      <th>2</th>\n",
       "      <td>Alumno_3</td>\n",
       "      <td>2FR II</td>\n",
       "      <td>1</td>\n",
       "      <td>8</td>\n",
       "      <td>0</td>\n",
       "    </tr>\n",
       "    <tr>\n",
       "      <th>4</th>\n",
       "      <td>Alumno_1</td>\n",
       "      <td>BI</td>\n",
       "      <td>1</td>\n",
       "      <td>7</td>\n",
       "      <td>0</td>\n",
       "    </tr>\n",
       "    <tr>\n",
       "      <th>5</th>\n",
       "      <td>Alumno_2</td>\n",
       "      <td>BI</td>\n",
       "      <td>1</td>\n",
       "      <td>8</td>\n",
       "      <td>0</td>\n",
       "    </tr>\n",
       "    <tr>\n",
       "      <th>...</th>\n",
       "      <td>...</td>\n",
       "      <td>...</td>\n",
       "      <td>...</td>\n",
       "      <td>...</td>\n",
       "      <td>...</td>\n",
       "    </tr>\n",
       "    <tr>\n",
       "      <th>40</th>\n",
       "      <td>Alumno_1</td>\n",
       "      <td>PSC</td>\n",
       "      <td>2</td>\n",
       "      <td>9</td>\n",
       "      <td>0</td>\n",
       "    </tr>\n",
       "    <tr>\n",
       "      <th>44</th>\n",
       "      <td>Alumno_1</td>\n",
       "      <td>QU</td>\n",
       "      <td>2</td>\n",
       "      <td>7</td>\n",
       "      <td>0</td>\n",
       "    </tr>\n",
       "    <tr>\n",
       "      <th>45</th>\n",
       "      <td>Alumno_2</td>\n",
       "      <td>QU</td>\n",
       "      <td>2</td>\n",
       "      <td>7</td>\n",
       "      <td>0</td>\n",
       "    </tr>\n",
       "    <tr>\n",
       "      <th>46</th>\n",
       "      <td>Alumno_3</td>\n",
       "      <td>QU</td>\n",
       "      <td>2</td>\n",
       "      <td>8</td>\n",
       "      <td>0</td>\n",
       "    </tr>\n",
       "    <tr>\n",
       "      <th>47</th>\n",
       "      <td>Alumno_4</td>\n",
       "      <td>QU</td>\n",
       "      <td>2</td>\n",
       "      <td>8</td>\n",
       "      <td>0</td>\n",
       "    </tr>\n",
       "  </tbody>\n",
       "</table>\n",
       "<p>66 rows × 5 columns</p>\n",
       "</div>"
      ],
      "text/plain": [
       "      Alumno Asignatura  Eval  Nota  Suspenso\n",
       "0   Alumno_1     2FR II     1     8         0\n",
       "1   Alumno_2     2FR II     1     7         0\n",
       "2   Alumno_3     2FR II     1     8         0\n",
       "4   Alumno_1         BI     1     7         0\n",
       "5   Alumno_2         BI     1     8         0\n",
       "..       ...        ...   ...   ...       ...\n",
       "40  Alumno_1        PSC     2     9         0\n",
       "44  Alumno_1         QU     2     7         0\n",
       "45  Alumno_2         QU     2     7         0\n",
       "46  Alumno_3         QU     2     8         0\n",
       "47  Alumno_4         QU     2     8         0\n",
       "\n",
       "[66 rows x 5 columns]"
      ]
     },
     "execution_count": 140,
     "metadata": {},
     "output_type": "execute_result"
    }
   ],
   "source": [
    "# Import data\n",
    "\n",
    "def actilla(fich='importado2', eval=2):\n",
    "    fichero = fich + '.csv'\n",
    "    pre_actilla = pd.read_csv(fichero, index_col=False)\n",
    "    pre_actilla = pre_actilla.drop([col for col in pre_actilla if col.startswith('Unna')], axis=1)\n",
    "    pre_actilla = pre_actilla.drop(\"Nº MNS\", axis = 1)\n",
    "    pre_actilla = pd.melt(pre_actilla, id_vars=[\"Nº\",\"Apellidos, Nombre\"], var_name=\"Asignatura\", value_name=\"Nota\")\n",
    "    pre_actilla = pre_actilla[pre_actilla['Nota'].notna()]\n",
    "    pre_actilla = pre_actilla.copy()\n",
    "    pre_actilla['Eval'] = eval\n",
    "    pre_actilla.Asignatura=pre_actilla.Asignatura.str.replace('\\n', ' ')\n",
    "    return pre_actilla\n",
    "    \n",
    "\n",
    "def concatenar_actillas(inicio_nombre_fichero='importado', evaluaciones_a_incluir=2): \n",
    "    return pd.concat([actilla(inicio_nombre_fichero + str(n + 1), n + 1) for n in range(evaluaciones_a_incluir)])\n",
    "\n",
    "\n",
    "evaluaciones_a_incluir = 2\n",
    "\n",
    "inicio_nombre_fichero = 'importado'\n",
    "\n",
    "\n",
    "actilla_final = concatenar_actillas(inicio_nombre_fichero,evaluaciones_a_incluir)\n",
    "#actilla_final = concatenar_actillas('importado',1)\n",
    "#actilla_final = actilla()\n",
    "actilla_final = actilla_final.rename(columns={'Apellidos, Nombre':'Alumno'})\n",
    "actilla_final = actilla_final[['Alumno','Asignatura','Eval','Nota']]\n",
    "#actilla_final['Nota']=actilla_final['Nota'].astype(int)\n",
    "actilla_final['Suspenso']=0\n",
    "\n",
    "# Si sale algún no presentado hay que ejecutar lo siguiente\n",
    "\n",
    "#actilla_final = actilla_final.drop(actilla_final[actilla_final.Nota == 'NP'].index)\n",
    "actilla_final.Nota = pd.to_numeric(actilla_final.Nota)\n",
    "actilla_final.loc[actilla_final['Nota'] < 5, 'Suspenso'] = 1\n",
    "actilla_final.Nota = actilla_final.Nota.astype(int)\n",
    "ultima_evaluacion = actilla_final.Eval.max()\n",
    "\n",
    "actilla_final.to_csv('ev{}.csv'.format(evaluaciones_a_incluir),index=False)\n",
    "\n",
    "\n",
    "\n",
    "actilla_final"
   ]
  },
  {
   "cell_type": "code",
   "execution_count": 141,
   "metadata": {
    "id": "GF0l-LqVP3RH",
    "scrolled": true
   },
   "outputs": [],
   "source": [
    "###### df = actilla_final.drop(['Suspenso'], axis=1)\n",
    "df = actilla_final[actilla_final.Eval <= ultima_evaluacion]\n",
    "\n",
    "df1 = df.set_index(['Alumno','Asignatura','Eval']).Nota.astype(int).unstack('Asignatura').unstack('Eval')\n",
    "\n",
    "#df2 = df[df.Eval == ultima_evaluacion].groupby('Alumno')[['Nota']].mean().round(1).rename(columns={'Nota': ('Nota',''+str(ultima_evaluacion)+'ev',str(ultima_evaluacion))})\n",
    "\n",
    "#df2 = df[df.Eval == ultima_evaluacion].groupby('Alumno')[['Nota']].mean().rename(columns={'Nota': ('Nota',''+str(ultima_evaluacion)+'',str(ultima_evaluacion))})\n",
    "\n",
    "df2=actilla_final[actilla_final.Eval == ultima_evaluacion].groupby(['Alumno','Eval'])[['Nota']].mean().unstack('Eval').rename(columns={'Nota':'NM'})\n",
    "\n",
    "df3 = df.groupby(['Asignatura','Eval'])[['Nota']].mean()\n",
    "\n",
    "\n",
    "#df3.T.round(1)\n",
    "\n",
    "df4 = pd.concat([df1,df3.T.rename(index={'Nota': 'Media'})])\n",
    "\n",
    "#df5 = pd.concat([df4,df2], axis=1, sort=False).fillna('-').round(1)\n",
    "\n",
    "#df5.style.applymap(color_negative_red)\n",
    "\n",
    "df5 = pd.concat([df4,df2], axis=1, sort=False)\n",
    "df6 = actilla_final[actilla_final.Eval == ultima_evaluacion].groupby(['Alumno','Eval'])[['Suspenso']].sum().unstack('Eval').rename(columns={'Suspenso':'MNS'})\n",
    "df5 = pd.concat([df5,df6], axis=1, sort=False)\n",
    "\n",
    "\n",
    "\n",
    "# calculamos la media de las medias de las notas y la suma total de suspensos\n",
    "df5.iloc[-1:,-2:-1]=df2.mean()[0]\n",
    "df5.iloc[-1:,-1:]=df6.sum()[0]\n",
    "\n",
    "#df5.style.set_precision(0).format(\"{:.0f}\").format(\"{:.1f}\",subset=(df5.index,df5.columns[-1:])).format(\"{:.1f}\",subset=(df5.index[-1:],df5.columns)).applymap(color_negative_red).highlight_null(\"white\").set_na_rep('-')\n",
    "\n",
    "actilla_estilada = df5.style.set_precision(0) \\\n",
    "    .format(\"{:.1f}\",subset=(df5.index[-1:],df5.columns[:-1])) \\\n",
    "    .format(\"{:.1f}\",subset=(df5.index,df5.columns[-2:-1])) \\\n",
    "    .format(\"{:.0f}\",subset=(df5.index,df5.columns[-1:0])) \\\n",
    "    .applymap(color_negative_red).highlight_null(\"white\") \\\n",
    "    .applymap(color_media, subset=(df5.index[-1:],df5.columns)) \\\n",
    "    .applymap(color_media, subset=(df5.index,['NM'])) \\\n",
    "    .applymap(color_suspensos, subset=(df5.index,['MNS'])) \\\n",
    "    .applymap(evaluaciones_anteriores, subset=(df5.index,df5.columns[df5.columns.get_level_values(1) != ultima_evaluacion])) \\\n",
    "    .set_table_styles([{'selector': 'td','props': [('border', '1px solid black'),('text-align', 'center')]}, \\\n",
    "                       {'selector': 'tr','props': [('border', '1px solid black')]}, \\\n",
    "                       {'selector': 'th','props': [('text-align', 'center'),('font-size','9px')]}\n",
    "                      ] \\\n",
    "                     ) \\\n",
    "    .set_na_rep('-')\n",
    "\n",
    "\n",
    "\n",
    "\n"
   ]
  },
  {
   "cell_type": "code",
   "execution_count": 142,
   "metadata": {
    "colab": {
     "base_uri": "https://localhost:8080/",
     "height": 154
    },
    "id": "x_RMneC6CAy8",
    "outputId": "3dad26d4-7a03-4959-d284-7367b73d9d43"
   },
   "outputs": [
    {
     "data": {
      "text/html": [
       "<style  type=\"text/css\" >\n",
       "    #T_09604b24_2ee3_11eb_aca2_3d6035d92653 td {\n",
       "          border: 1px solid black;\n",
       "          text-align: center;\n",
       "    }    #T_09604b24_2ee3_11eb_aca2_3d6035d92653 tr {\n",
       "          border: 1px solid black;\n",
       "    }    #T_09604b24_2ee3_11eb_aca2_3d6035d92653 th {\n",
       "          text-align: center;\n",
       "          font-size: 9px;\n",
       "    }#T_09604b24_2ee3_11eb_aca2_3d6035d92653row0_col0,#T_09604b24_2ee3_11eb_aca2_3d6035d92653row0_col2,#T_09604b24_2ee3_11eb_aca2_3d6035d92653row0_col4,#T_09604b24_2ee3_11eb_aca2_3d6035d92653row0_col6,#T_09604b24_2ee3_11eb_aca2_3d6035d92653row0_col8,#T_09604b24_2ee3_11eb_aca2_3d6035d92653row0_col10,#T_09604b24_2ee3_11eb_aca2_3d6035d92653row0_col12,#T_09604b24_2ee3_11eb_aca2_3d6035d92653row0_col16,#T_09604b24_2ee3_11eb_aca2_3d6035d92653row0_col18,#T_09604b24_2ee3_11eb_aca2_3d6035d92653row1_col0,#T_09604b24_2ee3_11eb_aca2_3d6035d92653row1_col2,#T_09604b24_2ee3_11eb_aca2_3d6035d92653row1_col4,#T_09604b24_2ee3_11eb_aca2_3d6035d92653row1_col6,#T_09604b24_2ee3_11eb_aca2_3d6035d92653row1_col8,#T_09604b24_2ee3_11eb_aca2_3d6035d92653row1_col10,#T_09604b24_2ee3_11eb_aca2_3d6035d92653row1_col12,#T_09604b24_2ee3_11eb_aca2_3d6035d92653row1_col18,#T_09604b24_2ee3_11eb_aca2_3d6035d92653row2_col0,#T_09604b24_2ee3_11eb_aca2_3d6035d92653row2_col2,#T_09604b24_2ee3_11eb_aca2_3d6035d92653row2_col4,#T_09604b24_2ee3_11eb_aca2_3d6035d92653row2_col6,#T_09604b24_2ee3_11eb_aca2_3d6035d92653row2_col8,#T_09604b24_2ee3_11eb_aca2_3d6035d92653row2_col10,#T_09604b24_2ee3_11eb_aca2_3d6035d92653row2_col12,#T_09604b24_2ee3_11eb_aca2_3d6035d92653row2_col18,#T_09604b24_2ee3_11eb_aca2_3d6035d92653row3_col2,#T_09604b24_2ee3_11eb_aca2_3d6035d92653row3_col4,#T_09604b24_2ee3_11eb_aca2_3d6035d92653row3_col8,#T_09604b24_2ee3_11eb_aca2_3d6035d92653row3_col10,#T_09604b24_2ee3_11eb_aca2_3d6035d92653row3_col12,#T_09604b24_2ee3_11eb_aca2_3d6035d92653row3_col14,#T_09604b24_2ee3_11eb_aca2_3d6035d92653row3_col18{\n",
       "            color:  green;\n",
       "             background:  lightyellow ;\n",
       "             font-size:  12px ;\n",
       "             font-weight:  bold;\n",
       "            color:  green;\n",
       "             background:  ghostwhite ;\n",
       "             font-size:  8px ;\n",
       "             font-weight:  lighter;\n",
       "        }#T_09604b24_2ee3_11eb_aca2_3d6035d92653row0_col1,#T_09604b24_2ee3_11eb_aca2_3d6035d92653row0_col3,#T_09604b24_2ee3_11eb_aca2_3d6035d92653row0_col5,#T_09604b24_2ee3_11eb_aca2_3d6035d92653row0_col7,#T_09604b24_2ee3_11eb_aca2_3d6035d92653row0_col9,#T_09604b24_2ee3_11eb_aca2_3d6035d92653row0_col11,#T_09604b24_2ee3_11eb_aca2_3d6035d92653row0_col13,#T_09604b24_2ee3_11eb_aca2_3d6035d92653row0_col17,#T_09604b24_2ee3_11eb_aca2_3d6035d92653row0_col19,#T_09604b24_2ee3_11eb_aca2_3d6035d92653row1_col1,#T_09604b24_2ee3_11eb_aca2_3d6035d92653row1_col3,#T_09604b24_2ee3_11eb_aca2_3d6035d92653row1_col5,#T_09604b24_2ee3_11eb_aca2_3d6035d92653row1_col7,#T_09604b24_2ee3_11eb_aca2_3d6035d92653row1_col9,#T_09604b24_2ee3_11eb_aca2_3d6035d92653row1_col11,#T_09604b24_2ee3_11eb_aca2_3d6035d92653row1_col13,#T_09604b24_2ee3_11eb_aca2_3d6035d92653row1_col19,#T_09604b24_2ee3_11eb_aca2_3d6035d92653row2_col1,#T_09604b24_2ee3_11eb_aca2_3d6035d92653row2_col3,#T_09604b24_2ee3_11eb_aca2_3d6035d92653row2_col5,#T_09604b24_2ee3_11eb_aca2_3d6035d92653row2_col7,#T_09604b24_2ee3_11eb_aca2_3d6035d92653row2_col9,#T_09604b24_2ee3_11eb_aca2_3d6035d92653row2_col11,#T_09604b24_2ee3_11eb_aca2_3d6035d92653row2_col13,#T_09604b24_2ee3_11eb_aca2_3d6035d92653row2_col19,#T_09604b24_2ee3_11eb_aca2_3d6035d92653row3_col3,#T_09604b24_2ee3_11eb_aca2_3d6035d92653row3_col5,#T_09604b24_2ee3_11eb_aca2_3d6035d92653row3_col9,#T_09604b24_2ee3_11eb_aca2_3d6035d92653row3_col11,#T_09604b24_2ee3_11eb_aca2_3d6035d92653row3_col13,#T_09604b24_2ee3_11eb_aca2_3d6035d92653row3_col19{\n",
       "            color:  green;\n",
       "             background:  lightyellow ;\n",
       "             font-size:  12px ;\n",
       "             font-weight:  bold;\n",
       "        }#T_09604b24_2ee3_11eb_aca2_3d6035d92653row0_col14,#T_09604b24_2ee3_11eb_aca2_3d6035d92653row1_col14,#T_09604b24_2ee3_11eb_aca2_3d6035d92653row1_col16,#T_09604b24_2ee3_11eb_aca2_3d6035d92653row2_col14,#T_09604b24_2ee3_11eb_aca2_3d6035d92653row2_col16,#T_09604b24_2ee3_11eb_aca2_3d6035d92653row3_col0,#T_09604b24_2ee3_11eb_aca2_3d6035d92653row3_col16{\n",
       "            color:  green;\n",
       "             background:  lightyellow ;\n",
       "             font-size:  12px ;\n",
       "             font-weight:  bold;\n",
       "            background-color:  white;\n",
       "            color:  green;\n",
       "             background:  ghostwhite ;\n",
       "             font-size:  8px ;\n",
       "             font-weight:  lighter;\n",
       "        }#T_09604b24_2ee3_11eb_aca2_3d6035d92653row0_col15,#T_09604b24_2ee3_11eb_aca2_3d6035d92653row1_col15,#T_09604b24_2ee3_11eb_aca2_3d6035d92653row1_col17,#T_09604b24_2ee3_11eb_aca2_3d6035d92653row2_col15,#T_09604b24_2ee3_11eb_aca2_3d6035d92653row2_col17,#T_09604b24_2ee3_11eb_aca2_3d6035d92653row3_col1,#T_09604b24_2ee3_11eb_aca2_3d6035d92653row3_col17{\n",
       "            color:  green;\n",
       "             background:  lightyellow ;\n",
       "             font-size:  12px ;\n",
       "             font-weight:  bold;\n",
       "            background-color:  white;\n",
       "        }#T_09604b24_2ee3_11eb_aca2_3d6035d92653row0_col20,#T_09604b24_2ee3_11eb_aca2_3d6035d92653row1_col20,#T_09604b24_2ee3_11eb_aca2_3d6035d92653row2_col20,#T_09604b24_2ee3_11eb_aca2_3d6035d92653row3_col20,#T_09604b24_2ee3_11eb_aca2_3d6035d92653row4_col1,#T_09604b24_2ee3_11eb_aca2_3d6035d92653row4_col3,#T_09604b24_2ee3_11eb_aca2_3d6035d92653row4_col5,#T_09604b24_2ee3_11eb_aca2_3d6035d92653row4_col7,#T_09604b24_2ee3_11eb_aca2_3d6035d92653row4_col9,#T_09604b24_2ee3_11eb_aca2_3d6035d92653row4_col11,#T_09604b24_2ee3_11eb_aca2_3d6035d92653row4_col13,#T_09604b24_2ee3_11eb_aca2_3d6035d92653row4_col17,#T_09604b24_2ee3_11eb_aca2_3d6035d92653row4_col19{\n",
       "            color:  green;\n",
       "             background:  lightyellow ;\n",
       "             font-size:  12px ;\n",
       "             font-weight:  bold;\n",
       "            color:  black;\n",
       "             background:  burlywood ;\n",
       "             font-size:  12px ;\n",
       "             font-weight:  bold;\n",
       "        }#T_09604b24_2ee3_11eb_aca2_3d6035d92653row0_col21,#T_09604b24_2ee3_11eb_aca2_3d6035d92653row1_col21,#T_09604b24_2ee3_11eb_aca2_3d6035d92653row2_col21{\n",
       "            color:  red;\n",
       "             background:  khaki ;\n",
       "             font-size:  12px ;\n",
       "             font-weight:  bold;\n",
       "            color:  black;\n",
       "             background:  darkkhaki ;\n",
       "             font-weight:  bold ;\n",
       "             font-size:  12px;\n",
       "        }#T_09604b24_2ee3_11eb_aca2_3d6035d92653row3_col6{\n",
       "            color:  red;\n",
       "             background:  khaki ;\n",
       "             font-size:  12px ;\n",
       "             font-weight:  bold;\n",
       "            color:  red;\n",
       "             background:  khaki ;\n",
       "             font-size:  8px ;\n",
       "             font-weight:  lighter;\n",
       "        }#T_09604b24_2ee3_11eb_aca2_3d6035d92653row3_col7,#T_09604b24_2ee3_11eb_aca2_3d6035d92653row3_col15{\n",
       "            color:  red;\n",
       "             background:  khaki ;\n",
       "             font-size:  12px ;\n",
       "             font-weight:  bold;\n",
       "        }#T_09604b24_2ee3_11eb_aca2_3d6035d92653row3_col21{\n",
       "            color:  red;\n",
       "             background:  khaki ;\n",
       "             font-size:  12px ;\n",
       "             font-weight:  bold;\n",
       "            color:  red;\n",
       "             background:  gold ;\n",
       "             font-weight:  bold ;\n",
       "             font-size:  12px;\n",
       "        }#T_09604b24_2ee3_11eb_aca2_3d6035d92653row4_col0,#T_09604b24_2ee3_11eb_aca2_3d6035d92653row4_col2,#T_09604b24_2ee3_11eb_aca2_3d6035d92653row4_col4,#T_09604b24_2ee3_11eb_aca2_3d6035d92653row4_col6,#T_09604b24_2ee3_11eb_aca2_3d6035d92653row4_col8,#T_09604b24_2ee3_11eb_aca2_3d6035d92653row4_col10,#T_09604b24_2ee3_11eb_aca2_3d6035d92653row4_col12,#T_09604b24_2ee3_11eb_aca2_3d6035d92653row4_col14,#T_09604b24_2ee3_11eb_aca2_3d6035d92653row4_col16,#T_09604b24_2ee3_11eb_aca2_3d6035d92653row4_col18{\n",
       "            color:  green;\n",
       "             background:  lightyellow ;\n",
       "             font-size:  12px ;\n",
       "             font-weight:  bold;\n",
       "            color:  black;\n",
       "             background:  burlywood ;\n",
       "             font-size:  12px ;\n",
       "             font-weight:  bold;\n",
       "            color:  green;\n",
       "             background:  ghostwhite ;\n",
       "             font-size:  8px ;\n",
       "             font-weight:  lighter;\n",
       "        }#T_09604b24_2ee3_11eb_aca2_3d6035d92653row4_col15{\n",
       "            color:  red;\n",
       "             background:  khaki ;\n",
       "             font-size:  12px ;\n",
       "             font-weight:  bold;\n",
       "            color:  red;\n",
       "             background:  gold ;\n",
       "             font-size:  12px ;\n",
       "             font-weight:  bold;\n",
       "        }#T_09604b24_2ee3_11eb_aca2_3d6035d92653row4_col20{\n",
       "            color:  green;\n",
       "             background:  lightyellow ;\n",
       "             font-size:  12px ;\n",
       "             font-weight:  bold;\n",
       "            color:  black;\n",
       "             background:  burlywood ;\n",
       "             font-size:  12px ;\n",
       "             font-weight:  bold;\n",
       "            color:  black;\n",
       "             background:  burlywood ;\n",
       "             font-size:  12px ;\n",
       "             font-weight:  bold;\n",
       "        }#T_09604b24_2ee3_11eb_aca2_3d6035d92653row4_col21{\n",
       "            color:  red;\n",
       "             background:  khaki ;\n",
       "             font-size:  12px ;\n",
       "             font-weight:  bold;\n",
       "            color:  red;\n",
       "             background:  gold ;\n",
       "             font-size:  12px ;\n",
       "             font-weight:  bold;\n",
       "            color:  red;\n",
       "             background:  gold ;\n",
       "             font-weight:  bold ;\n",
       "             font-size:  12px;\n",
       "        }</style><table id=\"T_09604b24_2ee3_11eb_aca2_3d6035d92653\" ><thead>    <tr>        <th class=\"index_name level0\" >Asignatura</th>        <th class=\"col_heading level0 col0\" colspan=2>2FR II</th>        <th class=\"col_heading level0 col2\" colspan=2>BI</th>        <th class=\"col_heading level0 col4\" colspan=2>CTM</th>        <th class=\"col_heading level0 col6\" colspan=2>HE</th>        <th class=\"col_heading level0 col8\" colspan=2>IN II</th>        <th class=\"col_heading level0 col10\" colspan=2>LC2</th>        <th class=\"col_heading level0 col12\" colspan=2>MA2</th>        <th class=\"col_heading level0 col14\" colspan=2>PS</th>        <th class=\"col_heading level0 col16\" colspan=2>PSC</th>        <th class=\"col_heading level0 col18\" colspan=2>QU</th>        <th class=\"col_heading level0 col20\" >NM</th>        <th class=\"col_heading level0 col21\" >MNS</th>    </tr>    <tr>        <th class=\"index_name level1\" >Eval</th>        <th class=\"col_heading level1 col0\" >1</th>        <th class=\"col_heading level1 col1\" >2</th>        <th class=\"col_heading level1 col2\" >1</th>        <th class=\"col_heading level1 col3\" >2</th>        <th class=\"col_heading level1 col4\" >1</th>        <th class=\"col_heading level1 col5\" >2</th>        <th class=\"col_heading level1 col6\" >1</th>        <th class=\"col_heading level1 col7\" >2</th>        <th class=\"col_heading level1 col8\" >1</th>        <th class=\"col_heading level1 col9\" >2</th>        <th class=\"col_heading level1 col10\" >1</th>        <th class=\"col_heading level1 col11\" >2</th>        <th class=\"col_heading level1 col12\" >1</th>        <th class=\"col_heading level1 col13\" >2</th>        <th class=\"col_heading level1 col14\" >1</th>        <th class=\"col_heading level1 col15\" >2</th>        <th class=\"col_heading level1 col16\" >1</th>        <th class=\"col_heading level1 col17\" >2</th>        <th class=\"col_heading level1 col18\" >1</th>        <th class=\"col_heading level1 col19\" >2</th>        <th class=\"col_heading level1 col20\" >2</th>        <th class=\"col_heading level1 col21\" >2</th>    </tr></thead><tbody>\n",
       "                <tr>\n",
       "                        <th id=\"T_09604b24_2ee3_11eb_aca2_3d6035d92653level0_row0\" class=\"row_heading level0 row0\" >Alumno_1</th>\n",
       "                        <td id=\"T_09604b24_2ee3_11eb_aca2_3d6035d92653row0_col0\" class=\"data row0 col0\" >8</td>\n",
       "                        <td id=\"T_09604b24_2ee3_11eb_aca2_3d6035d92653row0_col1\" class=\"data row0 col1\" >7</td>\n",
       "                        <td id=\"T_09604b24_2ee3_11eb_aca2_3d6035d92653row0_col2\" class=\"data row0 col2\" >7</td>\n",
       "                        <td id=\"T_09604b24_2ee3_11eb_aca2_3d6035d92653row0_col3\" class=\"data row0 col3\" >5</td>\n",
       "                        <td id=\"T_09604b24_2ee3_11eb_aca2_3d6035d92653row0_col4\" class=\"data row0 col4\" >7</td>\n",
       "                        <td id=\"T_09604b24_2ee3_11eb_aca2_3d6035d92653row0_col5\" class=\"data row0 col5\" >7</td>\n",
       "                        <td id=\"T_09604b24_2ee3_11eb_aca2_3d6035d92653row0_col6\" class=\"data row0 col6\" >5</td>\n",
       "                        <td id=\"T_09604b24_2ee3_11eb_aca2_3d6035d92653row0_col7\" class=\"data row0 col7\" >6</td>\n",
       "                        <td id=\"T_09604b24_2ee3_11eb_aca2_3d6035d92653row0_col8\" class=\"data row0 col8\" >10</td>\n",
       "                        <td id=\"T_09604b24_2ee3_11eb_aca2_3d6035d92653row0_col9\" class=\"data row0 col9\" >10</td>\n",
       "                        <td id=\"T_09604b24_2ee3_11eb_aca2_3d6035d92653row0_col10\" class=\"data row0 col10\" >6</td>\n",
       "                        <td id=\"T_09604b24_2ee3_11eb_aca2_3d6035d92653row0_col11\" class=\"data row0 col11\" >5</td>\n",
       "                        <td id=\"T_09604b24_2ee3_11eb_aca2_3d6035d92653row0_col12\" class=\"data row0 col12\" >7</td>\n",
       "                        <td id=\"T_09604b24_2ee3_11eb_aca2_3d6035d92653row0_col13\" class=\"data row0 col13\" >7</td>\n",
       "                        <td id=\"T_09604b24_2ee3_11eb_aca2_3d6035d92653row0_col14\" class=\"data row0 col14\" >-</td>\n",
       "                        <td id=\"T_09604b24_2ee3_11eb_aca2_3d6035d92653row0_col15\" class=\"data row0 col15\" >-</td>\n",
       "                        <td id=\"T_09604b24_2ee3_11eb_aca2_3d6035d92653row0_col16\" class=\"data row0 col16\" >8</td>\n",
       "                        <td id=\"T_09604b24_2ee3_11eb_aca2_3d6035d92653row0_col17\" class=\"data row0 col17\" >9</td>\n",
       "                        <td id=\"T_09604b24_2ee3_11eb_aca2_3d6035d92653row0_col18\" class=\"data row0 col18\" >6</td>\n",
       "                        <td id=\"T_09604b24_2ee3_11eb_aca2_3d6035d92653row0_col19\" class=\"data row0 col19\" >7</td>\n",
       "                        <td id=\"T_09604b24_2ee3_11eb_aca2_3d6035d92653row0_col20\" class=\"data row0 col20\" >7.0</td>\n",
       "                        <td id=\"T_09604b24_2ee3_11eb_aca2_3d6035d92653row0_col21\" class=\"data row0 col21\" >0</td>\n",
       "            </tr>\n",
       "            <tr>\n",
       "                        <th id=\"T_09604b24_2ee3_11eb_aca2_3d6035d92653level0_row1\" class=\"row_heading level0 row1\" >Alumno_2</th>\n",
       "                        <td id=\"T_09604b24_2ee3_11eb_aca2_3d6035d92653row1_col0\" class=\"data row1 col0\" >7</td>\n",
       "                        <td id=\"T_09604b24_2ee3_11eb_aca2_3d6035d92653row1_col1\" class=\"data row1 col1\" >8</td>\n",
       "                        <td id=\"T_09604b24_2ee3_11eb_aca2_3d6035d92653row1_col2\" class=\"data row1 col2\" >8</td>\n",
       "                        <td id=\"T_09604b24_2ee3_11eb_aca2_3d6035d92653row1_col3\" class=\"data row1 col3\" >7</td>\n",
       "                        <td id=\"T_09604b24_2ee3_11eb_aca2_3d6035d92653row1_col4\" class=\"data row1 col4\" >9</td>\n",
       "                        <td id=\"T_09604b24_2ee3_11eb_aca2_3d6035d92653row1_col5\" class=\"data row1 col5\" >8</td>\n",
       "                        <td id=\"T_09604b24_2ee3_11eb_aca2_3d6035d92653row1_col6\" class=\"data row1 col6\" >7</td>\n",
       "                        <td id=\"T_09604b24_2ee3_11eb_aca2_3d6035d92653row1_col7\" class=\"data row1 col7\" >7</td>\n",
       "                        <td id=\"T_09604b24_2ee3_11eb_aca2_3d6035d92653row1_col8\" class=\"data row1 col8\" >9</td>\n",
       "                        <td id=\"T_09604b24_2ee3_11eb_aca2_3d6035d92653row1_col9\" class=\"data row1 col9\" >9</td>\n",
       "                        <td id=\"T_09604b24_2ee3_11eb_aca2_3d6035d92653row1_col10\" class=\"data row1 col10\" >7</td>\n",
       "                        <td id=\"T_09604b24_2ee3_11eb_aca2_3d6035d92653row1_col11\" class=\"data row1 col11\" >7</td>\n",
       "                        <td id=\"T_09604b24_2ee3_11eb_aca2_3d6035d92653row1_col12\" class=\"data row1 col12\" >9</td>\n",
       "                        <td id=\"T_09604b24_2ee3_11eb_aca2_3d6035d92653row1_col13\" class=\"data row1 col13\" >8</td>\n",
       "                        <td id=\"T_09604b24_2ee3_11eb_aca2_3d6035d92653row1_col14\" class=\"data row1 col14\" >-</td>\n",
       "                        <td id=\"T_09604b24_2ee3_11eb_aca2_3d6035d92653row1_col15\" class=\"data row1 col15\" >-</td>\n",
       "                        <td id=\"T_09604b24_2ee3_11eb_aca2_3d6035d92653row1_col16\" class=\"data row1 col16\" >-</td>\n",
       "                        <td id=\"T_09604b24_2ee3_11eb_aca2_3d6035d92653row1_col17\" class=\"data row1 col17\" >-</td>\n",
       "                        <td id=\"T_09604b24_2ee3_11eb_aca2_3d6035d92653row1_col18\" class=\"data row1 col18\" >9</td>\n",
       "                        <td id=\"T_09604b24_2ee3_11eb_aca2_3d6035d92653row1_col19\" class=\"data row1 col19\" >7</td>\n",
       "                        <td id=\"T_09604b24_2ee3_11eb_aca2_3d6035d92653row1_col20\" class=\"data row1 col20\" >7.6</td>\n",
       "                        <td id=\"T_09604b24_2ee3_11eb_aca2_3d6035d92653row1_col21\" class=\"data row1 col21\" >0</td>\n",
       "            </tr>\n",
       "            <tr>\n",
       "                        <th id=\"T_09604b24_2ee3_11eb_aca2_3d6035d92653level0_row2\" class=\"row_heading level0 row2\" >Alumno_3</th>\n",
       "                        <td id=\"T_09604b24_2ee3_11eb_aca2_3d6035d92653row2_col0\" class=\"data row2 col0\" >8</td>\n",
       "                        <td id=\"T_09604b24_2ee3_11eb_aca2_3d6035d92653row2_col1\" class=\"data row2 col1\" >7</td>\n",
       "                        <td id=\"T_09604b24_2ee3_11eb_aca2_3d6035d92653row2_col2\" class=\"data row2 col2\" >7</td>\n",
       "                        <td id=\"T_09604b24_2ee3_11eb_aca2_3d6035d92653row2_col3\" class=\"data row2 col3\" >8</td>\n",
       "                        <td id=\"T_09604b24_2ee3_11eb_aca2_3d6035d92653row2_col4\" class=\"data row2 col4\" >9</td>\n",
       "                        <td id=\"T_09604b24_2ee3_11eb_aca2_3d6035d92653row2_col5\" class=\"data row2 col5\" >8</td>\n",
       "                        <td id=\"T_09604b24_2ee3_11eb_aca2_3d6035d92653row2_col6\" class=\"data row2 col6\" >6</td>\n",
       "                        <td id=\"T_09604b24_2ee3_11eb_aca2_3d6035d92653row2_col7\" class=\"data row2 col7\" >6</td>\n",
       "                        <td id=\"T_09604b24_2ee3_11eb_aca2_3d6035d92653row2_col8\" class=\"data row2 col8\" >9</td>\n",
       "                        <td id=\"T_09604b24_2ee3_11eb_aca2_3d6035d92653row2_col9\" class=\"data row2 col9\" >9</td>\n",
       "                        <td id=\"T_09604b24_2ee3_11eb_aca2_3d6035d92653row2_col10\" class=\"data row2 col10\" >7</td>\n",
       "                        <td id=\"T_09604b24_2ee3_11eb_aca2_3d6035d92653row2_col11\" class=\"data row2 col11\" >5</td>\n",
       "                        <td id=\"T_09604b24_2ee3_11eb_aca2_3d6035d92653row2_col12\" class=\"data row2 col12\" >7</td>\n",
       "                        <td id=\"T_09604b24_2ee3_11eb_aca2_3d6035d92653row2_col13\" class=\"data row2 col13\" >8</td>\n",
       "                        <td id=\"T_09604b24_2ee3_11eb_aca2_3d6035d92653row2_col14\" class=\"data row2 col14\" >-</td>\n",
       "                        <td id=\"T_09604b24_2ee3_11eb_aca2_3d6035d92653row2_col15\" class=\"data row2 col15\" >-</td>\n",
       "                        <td id=\"T_09604b24_2ee3_11eb_aca2_3d6035d92653row2_col16\" class=\"data row2 col16\" >-</td>\n",
       "                        <td id=\"T_09604b24_2ee3_11eb_aca2_3d6035d92653row2_col17\" class=\"data row2 col17\" >-</td>\n",
       "                        <td id=\"T_09604b24_2ee3_11eb_aca2_3d6035d92653row2_col18\" class=\"data row2 col18\" >6</td>\n",
       "                        <td id=\"T_09604b24_2ee3_11eb_aca2_3d6035d92653row2_col19\" class=\"data row2 col19\" >8</td>\n",
       "                        <td id=\"T_09604b24_2ee3_11eb_aca2_3d6035d92653row2_col20\" class=\"data row2 col20\" >7.4</td>\n",
       "                        <td id=\"T_09604b24_2ee3_11eb_aca2_3d6035d92653row2_col21\" class=\"data row2 col21\" >0</td>\n",
       "            </tr>\n",
       "            <tr>\n",
       "                        <th id=\"T_09604b24_2ee3_11eb_aca2_3d6035d92653level0_row3\" class=\"row_heading level0 row3\" >Alumno_4</th>\n",
       "                        <td id=\"T_09604b24_2ee3_11eb_aca2_3d6035d92653row3_col0\" class=\"data row3 col0\" >-</td>\n",
       "                        <td id=\"T_09604b24_2ee3_11eb_aca2_3d6035d92653row3_col1\" class=\"data row3 col1\" >-</td>\n",
       "                        <td id=\"T_09604b24_2ee3_11eb_aca2_3d6035d92653row3_col2\" class=\"data row3 col2\" >7</td>\n",
       "                        <td id=\"T_09604b24_2ee3_11eb_aca2_3d6035d92653row3_col3\" class=\"data row3 col3\" >7</td>\n",
       "                        <td id=\"T_09604b24_2ee3_11eb_aca2_3d6035d92653row3_col4\" class=\"data row3 col4\" >8</td>\n",
       "                        <td id=\"T_09604b24_2ee3_11eb_aca2_3d6035d92653row3_col5\" class=\"data row3 col5\" >7</td>\n",
       "                        <td id=\"T_09604b24_2ee3_11eb_aca2_3d6035d92653row3_col6\" class=\"data row3 col6\" >3</td>\n",
       "                        <td id=\"T_09604b24_2ee3_11eb_aca2_3d6035d92653row3_col7\" class=\"data row3 col7\" >2</td>\n",
       "                        <td id=\"T_09604b24_2ee3_11eb_aca2_3d6035d92653row3_col8\" class=\"data row3 col8\" >7</td>\n",
       "                        <td id=\"T_09604b24_2ee3_11eb_aca2_3d6035d92653row3_col9\" class=\"data row3 col9\" >8</td>\n",
       "                        <td id=\"T_09604b24_2ee3_11eb_aca2_3d6035d92653row3_col10\" class=\"data row3 col10\" >7</td>\n",
       "                        <td id=\"T_09604b24_2ee3_11eb_aca2_3d6035d92653row3_col11\" class=\"data row3 col11\" >6</td>\n",
       "                        <td id=\"T_09604b24_2ee3_11eb_aca2_3d6035d92653row3_col12\" class=\"data row3 col12\" >10</td>\n",
       "                        <td id=\"T_09604b24_2ee3_11eb_aca2_3d6035d92653row3_col13\" class=\"data row3 col13\" >10</td>\n",
       "                        <td id=\"T_09604b24_2ee3_11eb_aca2_3d6035d92653row3_col14\" class=\"data row3 col14\" >8</td>\n",
       "                        <td id=\"T_09604b24_2ee3_11eb_aca2_3d6035d92653row3_col15\" class=\"data row3 col15\" >2</td>\n",
       "                        <td id=\"T_09604b24_2ee3_11eb_aca2_3d6035d92653row3_col16\" class=\"data row3 col16\" >-</td>\n",
       "                        <td id=\"T_09604b24_2ee3_11eb_aca2_3d6035d92653row3_col17\" class=\"data row3 col17\" >-</td>\n",
       "                        <td id=\"T_09604b24_2ee3_11eb_aca2_3d6035d92653row3_col18\" class=\"data row3 col18\" >7</td>\n",
       "                        <td id=\"T_09604b24_2ee3_11eb_aca2_3d6035d92653row3_col19\" class=\"data row3 col19\" >8</td>\n",
       "                        <td id=\"T_09604b24_2ee3_11eb_aca2_3d6035d92653row3_col20\" class=\"data row3 col20\" >6.2</td>\n",
       "                        <td id=\"T_09604b24_2ee3_11eb_aca2_3d6035d92653row3_col21\" class=\"data row3 col21\" >2</td>\n",
       "            </tr>\n",
       "            <tr>\n",
       "                        <th id=\"T_09604b24_2ee3_11eb_aca2_3d6035d92653level0_row4\" class=\"row_heading level0 row4\" >Media</th>\n",
       "                        <td id=\"T_09604b24_2ee3_11eb_aca2_3d6035d92653row4_col0\" class=\"data row4 col0\" >7.7</td>\n",
       "                        <td id=\"T_09604b24_2ee3_11eb_aca2_3d6035d92653row4_col1\" class=\"data row4 col1\" >7.3</td>\n",
       "                        <td id=\"T_09604b24_2ee3_11eb_aca2_3d6035d92653row4_col2\" class=\"data row4 col2\" >7.2</td>\n",
       "                        <td id=\"T_09604b24_2ee3_11eb_aca2_3d6035d92653row4_col3\" class=\"data row4 col3\" >6.8</td>\n",
       "                        <td id=\"T_09604b24_2ee3_11eb_aca2_3d6035d92653row4_col4\" class=\"data row4 col4\" >8.2</td>\n",
       "                        <td id=\"T_09604b24_2ee3_11eb_aca2_3d6035d92653row4_col5\" class=\"data row4 col5\" >7.5</td>\n",
       "                        <td id=\"T_09604b24_2ee3_11eb_aca2_3d6035d92653row4_col6\" class=\"data row4 col6\" >5.2</td>\n",
       "                        <td id=\"T_09604b24_2ee3_11eb_aca2_3d6035d92653row4_col7\" class=\"data row4 col7\" >5.2</td>\n",
       "                        <td id=\"T_09604b24_2ee3_11eb_aca2_3d6035d92653row4_col8\" class=\"data row4 col8\" >8.8</td>\n",
       "                        <td id=\"T_09604b24_2ee3_11eb_aca2_3d6035d92653row4_col9\" class=\"data row4 col9\" >9.0</td>\n",
       "                        <td id=\"T_09604b24_2ee3_11eb_aca2_3d6035d92653row4_col10\" class=\"data row4 col10\" >6.8</td>\n",
       "                        <td id=\"T_09604b24_2ee3_11eb_aca2_3d6035d92653row4_col11\" class=\"data row4 col11\" >5.8</td>\n",
       "                        <td id=\"T_09604b24_2ee3_11eb_aca2_3d6035d92653row4_col12\" class=\"data row4 col12\" >8.2</td>\n",
       "                        <td id=\"T_09604b24_2ee3_11eb_aca2_3d6035d92653row4_col13\" class=\"data row4 col13\" >8.2</td>\n",
       "                        <td id=\"T_09604b24_2ee3_11eb_aca2_3d6035d92653row4_col14\" class=\"data row4 col14\" >8.0</td>\n",
       "                        <td id=\"T_09604b24_2ee3_11eb_aca2_3d6035d92653row4_col15\" class=\"data row4 col15\" >2.0</td>\n",
       "                        <td id=\"T_09604b24_2ee3_11eb_aca2_3d6035d92653row4_col16\" class=\"data row4 col16\" >8.0</td>\n",
       "                        <td id=\"T_09604b24_2ee3_11eb_aca2_3d6035d92653row4_col17\" class=\"data row4 col17\" >9.0</td>\n",
       "                        <td id=\"T_09604b24_2ee3_11eb_aca2_3d6035d92653row4_col18\" class=\"data row4 col18\" >7.0</td>\n",
       "                        <td id=\"T_09604b24_2ee3_11eb_aca2_3d6035d92653row4_col19\" class=\"data row4 col19\" >7.5</td>\n",
       "                        <td id=\"T_09604b24_2ee3_11eb_aca2_3d6035d92653row4_col20\" class=\"data row4 col20\" >7.1</td>\n",
       "                        <td id=\"T_09604b24_2ee3_11eb_aca2_3d6035d92653row4_col21\" class=\"data row4 col21\" >2</td>\n",
       "            </tr>\n",
       "    </tbody></table>"
      ],
      "text/plain": [
       "<pandas.io.formats.style.Styler at 0x7f9783081b70>"
      ]
     },
     "execution_count": 142,
     "metadata": {},
     "output_type": "execute_result"
    }
   ],
   "source": [
    "actilla_estilada"
   ]
  },
  {
   "cell_type": "code",
   "execution_count": 143,
   "metadata": {
    "colab": {
     "base_uri": "https://localhost:8080/",
     "height": 338
    },
    "id": "9RTOIef5CAy9",
    "outputId": "5920278e-626b-4d3b-ae20-af5d90d61ca5"
   },
   "outputs": [
    {
     "name": "stdout",
     "output_type": "stream",
     "text": [
      "Loading page (1/2)\n",
      "[>                                                           ] 0%\r",
      "[======>                                                     ] 10%\r",
      "[==============================>                             ] 50%\r",
      "[============================================================] 100%\r",
      "Rendering (2/2)                                                    \n",
      "[>                                                           ] 0%\r",
      "[===============>                                            ] 25%\r",
      "[============================================================] 100%\r",
      "Done                                                               \n"
     ]
    },
    {
     "data": {
      "text/plain": [
       "True"
      ]
     },
     "execution_count": 143,
     "metadata": {},
     "output_type": "execute_result"
    }
   ],
   "source": [
    "import imgkit\n",
    "imgkit.from_string(actilla_estilada.render(),'actilla.png')"
   ]
  },
  {
   "cell_type": "code",
   "execution_count": 144,
   "metadata": {
    "id": "17EzHx0ECAy-"
   },
   "outputs": [],
   "source": [
    "f = open(\"acta_{}ev.md\".format(ultima_evaluacion), \"w\")\n",
    "texto = \"# Acta de la {}ª evaluación \\n\\n## Informe actilla: \\n ![](actilla.png) \\n\\n## Resultados generales: \\n\".format(ultima_evaluacion)\n",
    "# f.write(texto)\n",
    "# f.close()"
   ]
  },
  {
   "cell_type": "code",
   "execution_count": 145,
   "metadata": {
    "id": "pghK9bMfPKG8"
   },
   "outputs": [],
   "source": [
    "def analisis_df(df, txt_intro =\"Tenemos los siguientes datos: \\n \",txt_mejor=\"\\n * Sube {}:\", txt_peor=\"\\n * **Baja** {}:\", txt_igual=\"\\n * Se mantiene {}:\", solo_diferencias=False) :\n",
    "    # analiza los datos de un dataframe donde en el indice están las evaluaciones y en las columnas los items a analizar\n",
    "    if max(df.index)  > 1 :\n",
    "        ix = list(df2.index).index(ultima_evaluacion)\n",
    "        txt = txt_intro\n",
    "        for c in range(len(df.columns)) :\n",
    "            if (df2.iloc[ix,c] - df2.iloc[ix-1,c]) > 0 : txt2 = txt_mejor.format(df[df.columns[c]].name)+\" Pasa de {} a {}. \".format(str(df2.iloc[ix-1,c]),str(df2.iloc[ix,c]))\n",
    "            elif (df2.iloc[ix,c] - df2.iloc[ix-1,c]) < 0 : txt2 = txt_peor.format(df[df.columns[c]].name)+\" Pasa de {} a {}. \".format(str(df2.iloc[ix-1,c]),str(df2.iloc[ix,c]))\n",
    "            elif (solo_diferencias) : txt2=\"\"\n",
    "            else : txt2 = txt_igual.format(df[df.columns[c]].name)+\" {}. \".format(str(df2.iloc[ix,c]))              \n",
    "            txt += txt2\n",
    "            \n",
    "        \n",
    "    else :\n",
    "        txt = txt_intro\n",
    "        txt += \", \".join([\"{} es {}\".format(df[df.columns[c]].name,str(df2.iloc[0,c])) for c in range(len(df.columns))])\n",
    "#         for c in range(len(df.columns)):\n",
    "#             txt += \"{} es {}\".format(df[df.columns[c]].name,str(df2.iloc[0,c]))\n",
    "            \n",
    "    \n",
    "\n",
    "    return txt+\" \\n \", [df[df.columns[i]] for i in range(len(df.columns))]\n",
    "\n"
   ]
  },
  {
   "cell_type": "code",
   "execution_count": 146,
   "metadata": {
    "colab": {
     "base_uri": "https://localhost:8080/",
     "height": 143
    },
    "id": "imzsTuZEDvrG",
    "outputId": "4291cc6f-2e12-4155-8c8c-b2bde25ddd20"
   },
   "outputs": [
    {
     "data": {
      "text/html": [
       "<div>\n",
       "<style scoped>\n",
       "    .dataframe tbody tr th:only-of-type {\n",
       "        vertical-align: middle;\n",
       "    }\n",
       "\n",
       "    .dataframe tbody tr th {\n",
       "        vertical-align: top;\n",
       "    }\n",
       "\n",
       "    .dataframe thead th {\n",
       "        text-align: right;\n",
       "    }\n",
       "</style>\n",
       "<table border=\"1\" class=\"dataframe\">\n",
       "  <thead>\n",
       "    <tr style=\"text-align: right;\">\n",
       "      <th></th>\n",
       "      <th>N_al</th>\n",
       "      <th>Media</th>\n",
       "      <th>N_susp</th>\n",
       "      <th>Susp_alu</th>\n",
       "    </tr>\n",
       "    <tr>\n",
       "      <th>Eval</th>\n",
       "      <th></th>\n",
       "      <th></th>\n",
       "      <th></th>\n",
       "      <th></th>\n",
       "    </tr>\n",
       "  </thead>\n",
       "  <tbody>\n",
       "    <tr>\n",
       "      <th>1</th>\n",
       "      <td>4</td>\n",
       "      <td>7.42</td>\n",
       "      <td>1</td>\n",
       "      <td>0.25</td>\n",
       "    </tr>\n",
       "    <tr>\n",
       "      <th>2</th>\n",
       "      <td>4</td>\n",
       "      <td>7.06</td>\n",
       "      <td>2</td>\n",
       "      <td>0.50</td>\n",
       "    </tr>\n",
       "  </tbody>\n",
       "</table>\n",
       "</div>"
      ],
      "text/plain": [
       "      N_al  Media  N_susp  Susp_alu\n",
       "Eval                               \n",
       "1        4   7.42       1      0.25\n",
       "2        4   7.06       2      0.50"
      ]
     },
     "execution_count": 146,
     "metadata": {},
     "output_type": "execute_result"
    }
   ],
   "source": [
    "df = actilla_final.groupby(['Eval'])[['Alumno','Nota','Suspenso']].aggregate({'Alumno':'nunique','Nota':'mean','Suspenso':'sum'}).rename(columns={'Alumno':'N_al', 'Nota':'Media', 'Suspenso':'N_susp'})\n",
    "df['Susp_alu']=df['N_susp']/df['N_al']\n",
    "df['Media']=df['Media'].round(2)\n",
    "df\n",
    "\n"
   ]
  },
  {
   "cell_type": "code",
   "execution_count": 147,
   "metadata": {
    "colab": {
     "base_uri": "https://localhost:8080/",
     "height": 143
    },
    "id": "VcreeJEqPKG9",
    "outputId": "987f68b9-2c57-4503-ff54-380b22763d75"
   },
   "outputs": [
    {
     "data": {
      "text/html": [
       "<div>\n",
       "<style scoped>\n",
       "    .dataframe tbody tr th:only-of-type {\n",
       "        vertical-align: middle;\n",
       "    }\n",
       "\n",
       "    .dataframe tbody tr th {\n",
       "        vertical-align: top;\n",
       "    }\n",
       "\n",
       "    .dataframe thead th {\n",
       "        text-align: right;\n",
       "    }\n",
       "</style>\n",
       "<table border=\"1\" class=\"dataframe\">\n",
       "  <thead>\n",
       "    <tr style=\"text-align: right;\">\n",
       "      <th></th>\n",
       "      <th>la nota media</th>\n",
       "      <th>el número de suspensos</th>\n",
       "      <th>el número de suspensos por alumno</th>\n",
       "    </tr>\n",
       "    <tr>\n",
       "      <th>Eval</th>\n",
       "      <th></th>\n",
       "      <th></th>\n",
       "      <th></th>\n",
       "    </tr>\n",
       "  </thead>\n",
       "  <tbody>\n",
       "    <tr>\n",
       "      <th>1</th>\n",
       "      <td>7.42</td>\n",
       "      <td>1</td>\n",
       "      <td>0.25</td>\n",
       "    </tr>\n",
       "    <tr>\n",
       "      <th>2</th>\n",
       "      <td>7.06</td>\n",
       "      <td>2</td>\n",
       "      <td>0.50</td>\n",
       "    </tr>\n",
       "  </tbody>\n",
       "</table>\n",
       "</div>"
      ],
      "text/plain": [
       "      la nota media  el número de suspensos  el número de suspensos por alumno\n",
       "Eval                                                                          \n",
       "1              7.42                       1                               0.25\n",
       "2              7.06                       2                               0.50"
      ]
     },
     "execution_count": 147,
     "metadata": {},
     "output_type": "execute_result"
    }
   ],
   "source": [
    "df2 = df.rename(columns={'N_al':'el número de alumnos', 'Media':'la nota media', 'N_susp':'el número de suspensos','Susp_alu':'el número de suspensos por alumno'}).iloc[:,1:]\n",
    "df2"
   ]
  },
  {
   "cell_type": "code",
   "execution_count": 148,
   "metadata": {
    "colab": {
     "base_uri": "https://localhost:8080/",
     "height": 72
    },
    "id": "6Horv4hdPKG-",
    "outputId": "42da8e01-71a1-4af5-a1de-3b39602647f5"
   },
   "outputs": [
    {
     "data": {
      "text/plain": [
       "'Tenemos los siguientes datos: \\n \\n * **Baja** la nota media: Pasa de 7.42 a 7.06. \\n * Sube el número de suspensos: Pasa de 1 a 2. \\n * Sube el número de suspensos por alumno: Pasa de 0.25 a 0.5.  \\n '"
      ]
     },
     "execution_count": 148,
     "metadata": {},
     "output_type": "execute_result"
    }
   ],
   "source": [
    "texto += \"\\n\\n### Resumen \\n\"\n",
    "texto += \"\\n  {}  \\n\".format(df.to_markdown())\n",
    "texto += analisis_df(df2)[0] \n",
    "analisis_df(df2)[0]"
   ]
  },
  {
   "cell_type": "code",
   "execution_count": 149,
   "metadata": {
    "colab": {
     "base_uri": "https://localhost:8080/",
     "height": 361
    },
    "id": "eOuDp79kPKG-",
    "outputId": "200dbd4a-b660-4cf8-d292-d0b2b0140eea"
   },
   "outputs": [
    {
     "data": {
      "text/html": [
       "<div>\n",
       "<style scoped>\n",
       "    .dataframe tbody tr th:only-of-type {\n",
       "        vertical-align: middle;\n",
       "    }\n",
       "\n",
       "    .dataframe tbody tr th {\n",
       "        vertical-align: top;\n",
       "    }\n",
       "\n",
       "    .dataframe thead th {\n",
       "        text-align: right;\n",
       "    }\n",
       "</style>\n",
       "<table border=\"1\" class=\"dataframe\">\n",
       "  <thead>\n",
       "    <tr style=\"text-align: right;\">\n",
       "      <th></th>\n",
       "      <th>0 susp.</th>\n",
       "      <th>1 susp.</th>\n",
       "      <th>2 susp.</th>\n",
       "      <th>3 ó 4 susp.</th>\n",
       "      <th>&gt; 4 susp.</th>\n",
       "    </tr>\n",
       "  </thead>\n",
       "  <tbody>\n",
       "    <tr>\n",
       "      <th>Alumnos</th>\n",
       "      <td>3</td>\n",
       "      <td>0</td>\n",
       "      <td>1</td>\n",
       "      <td>0</td>\n",
       "      <td>0</td>\n",
       "    </tr>\n",
       "  </tbody>\n",
       "</table>\n",
       "</div>"
      ],
      "text/plain": [
       "         0 susp.  1 susp.  2 susp.  3 ó 4 susp.  > 4 susp.\n",
       "Alumnos        3        0        1            0          0"
      ]
     },
     "execution_count": 149,
     "metadata": {},
     "output_type": "execute_result"
    },
    {
     "data": {
      "image/png": "[encoded data removed]",
      "text/plain": [
       "<Figure size 432x288 with 1 Axes>"
      ]
     },
     "metadata": {},
     "output_type": "display_data"
    }
   ],
   "source": [
    "# Alumnos y suspensos\n",
    "\n",
    "from matplotlib import rcParams\n",
    "rcParams.update({'figure.autolayout': True})\n",
    "\n",
    "df = actilla_final[actilla_final.Eval==ultima_evaluacion].groupby('Alumno').sum().Suspenso\n",
    "ranges = [0,1,2,3,5,10]\n",
    "df2 = df.groupby(pd.cut(df, ranges, right=False)).count()\n",
    "df2.index=['0 susp.','1 susp.','2 susp.','3 ó 4 susp.','> 4 susp.']\n",
    "df2.name = 'Alumnos'\n",
    "g0=df2[df2 > 0].plot(kind='pie', title = 'Alumnos y suspensos',autopct='%1.1f%%', table=True)\n",
    "g0\n",
    "g0.get_figure().savefig('g0.png')\n",
    "\n",
    "texto += \"\\n\\n### Resumen de suspensos \\n\"\n",
    "texto += \"\\n \\n {} \\n\".format(df2.to_frame().T.to_markdown())\n",
    "texto += \"\\n \\n ![](g0.png) \\n \\n\"\n",
    "df2.to_frame().T"
   ]
  },
  {
   "cell_type": "code",
   "execution_count": 150,
   "metadata": {
    "colab": {
     "base_uri": "https://localhost:8080/",
     "height": 72
    },
    "id": "I4aLWy_obCl2",
    "outputId": "e6ccc6f3-d921-4b99-ad92-01d1dca6fd6c"
   },
   "outputs": [
    {
     "data": {
      "text/plain": [
       "'Alumnos suspensos: \\n'"
      ]
     },
     "metadata": {},
     "output_type": "display_data"
    },
    {
     "name": "stdout",
     "output_type": "stream",
     "text": [
      "Con 2 asignatura:\n",
      "  Alumno_4 ( HE, PS )\n"
     ]
    }
   ],
   "source": [
    "# Alumno-Asignatura-Suspenso\n",
    "df = actilla_final[(actilla_final.Eval == ultima_evaluacion) & (actilla_final.Suspenso >= 0)][['Alumno','Asignatura','Suspenso']]\n",
    "\n",
    "# Alumno-Suspenso\n",
    "df2=df.groupby('Alumno').sum().sort_values('Suspenso', ascending=False)\n",
    "\n",
    "# Numero Suspenso - Numero alumnos\n",
    "df3 = df2\n",
    "df3['N']=1\n",
    "df3 = df3.groupby('Suspenso').count().sort_index(ascending=False)\n",
    "\n",
    "display(\"Alumnos suspensos: \\n\")\n",
    "\n",
    "texto += \" \\n Alumnos con suspensos: \\n\"\n",
    "for i in df3[df3.index> 0].index :\n",
    "    print(f'Con {i} asignatura:')\n",
    "    texto += \"\\n* Con {} asignaturas: \\n\".format(i)\n",
    "    for j in df2[df2.Suspenso == i].sort_values('Alumno').index : \n",
    "        print(\" \", j,'(', ', '.join(df[(df.Alumno == j) & (df.Suspenso > 0)]['Asignatura'].values),')')\n",
    "        texto += \"\\n    - \"+ j+' ('+ ', '.join(df[(df.Alumno == j) & (df.Suspenso > 0)]['Asignatura'].values)+\") \\n \\n\"\n"
   ]
  },
  {
   "cell_type": "code",
   "execution_count": 151,
   "metadata": {
    "colab": {
     "base_uri": "https://localhost:8080/",
     "height": 361
    },
    "id": "__asSlWNPKG-",
    "outputId": "58a0c3a8-0628-437a-9e6b-1a789d6ca189"
   },
   "outputs": [
    {
     "data": {
      "text/html": [
       "<div>\n",
       "<style scoped>\n",
       "    .dataframe tbody tr th:only-of-type {\n",
       "        vertical-align: middle;\n",
       "    }\n",
       "\n",
       "    .dataframe tbody tr th {\n",
       "        vertical-align: top;\n",
       "    }\n",
       "\n",
       "    .dataframe thead th {\n",
       "        text-align: right;\n",
       "    }\n",
       "</style>\n",
       "<table border=\"1\" class=\"dataframe\">\n",
       "  <thead>\n",
       "    <tr style=\"text-align: right;\">\n",
       "      <th>Nota</th>\n",
       "      <th>[0, 3)</th>\n",
       "      <th>[3, 4)</th>\n",
       "      <th>[4, 5)</th>\n",
       "      <th>[5, 6)</th>\n",
       "      <th>[6, 7)</th>\n",
       "      <th>[7, 9)</th>\n",
       "      <th>[9, 10)</th>\n",
       "    </tr>\n",
       "  </thead>\n",
       "  <tbody>\n",
       "    <tr>\n",
       "      <th>Alumnos</th>\n",
       "      <td>0</td>\n",
       "      <td>0</td>\n",
       "      <td>0</td>\n",
       "      <td>0</td>\n",
       "      <td>1</td>\n",
       "      <td>3</td>\n",
       "      <td>0</td>\n",
       "    </tr>\n",
       "  </tbody>\n",
       "</table>\n",
       "</div>"
      ],
      "text/plain": [
       "Nota     [0, 3)  [3, 4)  [4, 5)  [5, 6)  [6, 7)  [7, 9)  [9, 10)\n",
       "Alumnos       0       0       0       0       1       3        0"
      ]
     },
     "execution_count": 151,
     "metadata": {},
     "output_type": "execute_result"
    },
    {
     "data": {
      "image/png": "[encoded data removed]",
      "text/plain": [
       "<Figure size 432x288 with 1 Axes>"
      ]
     },
     "metadata": {},
     "output_type": "display_data"
    }
   ],
   "source": [
    "# Alumnos y suspensos\n",
    "df = actilla_final[actilla_final.Eval==ultima_evaluacion].groupby('Alumno').mean().Nota\n",
    "ranges = [0,3,4,5,6,7,9,10]\n",
    "df2 = df.groupby(pd.cut(df, ranges, right=False)).count()\n",
    "df2.name = 'Alumnos'\n",
    "g1=df2[df2 > 0].plot(kind='pie', title = 'Alumnos y Nota media',autopct='%1.1f%%', legend = True, table=True)\n",
    "g1\n",
    "g1.get_figure().savefig('g1.png')\n",
    "\n",
    "texto += \"\\n\\n### Resumen de nota media \\n\"\n",
    "texto += \"\\n {} \\n\".format(df2.to_frame().T.to_markdown())\n",
    "texto += \"\\n\\n ![](g1.png) \\n \\n\"\n",
    "df2.to_frame().T"
   ]
  },
  {
   "cell_type": "code",
   "execution_count": 156,
   "metadata": {
    "colab": {
     "base_uri": "https://localhost:8080/",
     "height": 518
    },
    "id": "HgDUTKISLVRV",
    "outputId": "cb910f03-df74-4d3c-d2be-dc8f7e520c28"
   },
   "outputs": [
    {
     "ename": "AttributeError",
     "evalue": "'Rectangle' object has no property 'auto'",
     "output_type": "error",
     "traceback": [
      "\u001b[0;31m---------------------------------------------------------------------------\u001b[0m",
      "\u001b[0;31mAttributeError\u001b[0m                            Traceback (most recent call last)",
      "\u001b[0;32m<ipython-input-156-ba5f38bf3f1d>\u001b[0m in \u001b[0;36m<module>\u001b[0;34m\u001b[0m\n\u001b[1;32m      1\u001b[0m \u001b[0mdf\u001b[0m\u001b[0;34m=\u001b[0m\u001b[0mactilla_final\u001b[0m\u001b[0;34m.\u001b[0m\u001b[0mgroupby\u001b[0m\u001b[0;34m(\u001b[0m\u001b[0;34m[\u001b[0m\u001b[0;34m'Alumno'\u001b[0m\u001b[0;34m,\u001b[0m\u001b[0;34m'Eval'\u001b[0m\u001b[0;34m]\u001b[0m\u001b[0;34m)\u001b[0m\u001b[0;34m[\u001b[0m\u001b[0;34m[\u001b[0m\u001b[0;34m'Nota'\u001b[0m\u001b[0;34m]\u001b[0m\u001b[0;34m]\u001b[0m\u001b[0;34m.\u001b[0m\u001b[0mmean\u001b[0m\u001b[0;34m(\u001b[0m\u001b[0;34m)\u001b[0m\u001b[0;34m.\u001b[0m\u001b[0mround\u001b[0m\u001b[0;34m(\u001b[0m\u001b[0;36m2\u001b[0m\u001b[0;34m)\u001b[0m\u001b[0;34m.\u001b[0m\u001b[0mrename\u001b[0m\u001b[0;34m(\u001b[0m\u001b[0mcolumns\u001b[0m\u001b[0;34m=\u001b[0m\u001b[0;34m{\u001b[0m\u001b[0;34m'Nota'\u001b[0m\u001b[0;34m:\u001b[0m\u001b[0;34m'Media'\u001b[0m\u001b[0;34m}\u001b[0m\u001b[0;34m)\u001b[0m\u001b[0;34m.\u001b[0m\u001b[0munstack\u001b[0m\u001b[0;34m(\u001b[0m\u001b[0;34m)\u001b[0m\u001b[0;34m\u001b[0m\u001b[0;34m\u001b[0m\u001b[0m\n\u001b[0;32m----> 2\u001b[0;31m \u001b[0mg2\u001b[0m\u001b[0;34m=\u001b[0m\u001b[0mdf\u001b[0m\u001b[0;34m.\u001b[0m\u001b[0mplot\u001b[0m\u001b[0;34m.\u001b[0m\u001b[0mbar\u001b[0m\u001b[0;34m(\u001b[0m\u001b[0mtitle\u001b[0m\u001b[0;34m=\u001b[0m\u001b[0;34m'Nota media por alumno'\u001b[0m\u001b[0;34m,\u001b[0m\u001b[0mauto\u001b[0m\u001b[0;34m=\u001b[0m\u001b[0;34m'%1.1f%%'\u001b[0m\u001b[0;34m)\u001b[0m\u001b[0;34m\u001b[0m\u001b[0;34m\u001b[0m\u001b[0m\n\u001b[0m\u001b[1;32m      3\u001b[0m \u001b[0mg2\u001b[0m\u001b[0;34m\u001b[0m\u001b[0;34m\u001b[0m\u001b[0m\n\u001b[1;32m      4\u001b[0m \u001b[0mg2\u001b[0m\u001b[0;34m.\u001b[0m\u001b[0mget_figure\u001b[0m\u001b[0;34m(\u001b[0m\u001b[0;34m)\u001b[0m\u001b[0;34m.\u001b[0m\u001b[0msavefig\u001b[0m\u001b[0;34m(\u001b[0m\u001b[0;34m'g2.png'\u001b[0m\u001b[0;34m)\u001b[0m\u001b[0;34m\u001b[0m\u001b[0;34m\u001b[0m\u001b[0m\n\u001b[1;32m      5\u001b[0m \u001b[0;34m\u001b[0m\u001b[0m\n",
      "\u001b[0;32m~/Mis_aplicaciones/anaconda3/lib/python3.6/site-packages/pandas/plotting/_core.py\u001b[0m in \u001b[0;36mbar\u001b[0;34m(self, x, y, **kwargs)\u001b[0m\n\u001b[1;32m   1105\u001b[0m         \u001b[0mother\u001b[0m \u001b[0maxis\u001b[0m \u001b[0mrepresents\u001b[0m \u001b[0ma\u001b[0m \u001b[0mmeasured\u001b[0m \u001b[0mvalue\u001b[0m\u001b[0;34m.\u001b[0m\u001b[0;34m\u001b[0m\u001b[0;34m\u001b[0m\u001b[0m\n\u001b[1;32m   1106\u001b[0m         \"\"\"\n\u001b[0;32m-> 1107\u001b[0;31m         \u001b[0;32mreturn\u001b[0m \u001b[0mself\u001b[0m\u001b[0;34m(\u001b[0m\u001b[0mkind\u001b[0m\u001b[0;34m=\u001b[0m\u001b[0;34m\"bar\"\u001b[0m\u001b[0;34m,\u001b[0m \u001b[0mx\u001b[0m\u001b[0;34m=\u001b[0m\u001b[0mx\u001b[0m\u001b[0;34m,\u001b[0m \u001b[0my\u001b[0m\u001b[0;34m=\u001b[0m\u001b[0my\u001b[0m\u001b[0;34m,\u001b[0m \u001b[0;34m**\u001b[0m\u001b[0mkwargs\u001b[0m\u001b[0;34m)\u001b[0m\u001b[0;34m\u001b[0m\u001b[0;34m\u001b[0m\u001b[0m\n\u001b[0m\u001b[1;32m   1108\u001b[0m \u001b[0;34m\u001b[0m\u001b[0m\n\u001b[1;32m   1109\u001b[0m     @Appender(\n",
      "\u001b[0;32m~/Mis_aplicaciones/anaconda3/lib/python3.6/site-packages/pandas/plotting/_core.py\u001b[0m in \u001b[0;36m__call__\u001b[0;34m(self, *args, **kwargs)\u001b[0m\n\u001b[1;32m    947\u001b[0m                     \u001b[0mdata\u001b[0m\u001b[0;34m.\u001b[0m\u001b[0mcolumns\u001b[0m \u001b[0;34m=\u001b[0m \u001b[0mlabel_name\u001b[0m\u001b[0;34m\u001b[0m\u001b[0;34m\u001b[0m\u001b[0m\n\u001b[1;32m    948\u001b[0m \u001b[0;34m\u001b[0m\u001b[0m\n\u001b[0;32m--> 949\u001b[0;31m         \u001b[0;32mreturn\u001b[0m \u001b[0mplot_backend\u001b[0m\u001b[0;34m.\u001b[0m\u001b[0mplot\u001b[0m\u001b[0;34m(\u001b[0m\u001b[0mdata\u001b[0m\u001b[0;34m,\u001b[0m \u001b[0mkind\u001b[0m\u001b[0;34m=\u001b[0m\u001b[0mkind\u001b[0m\u001b[0;34m,\u001b[0m \u001b[0;34m**\u001b[0m\u001b[0mkwargs\u001b[0m\u001b[0;34m)\u001b[0m\u001b[0;34m\u001b[0m\u001b[0;34m\u001b[0m\u001b[0m\n\u001b[0m\u001b[1;32m    950\u001b[0m \u001b[0;34m\u001b[0m\u001b[0m\n\u001b[1;32m    951\u001b[0m     \u001b[0m__call__\u001b[0m\u001b[0;34m.\u001b[0m\u001b[0m__doc__\u001b[0m \u001b[0;34m=\u001b[0m \u001b[0m__doc__\u001b[0m\u001b[0;34m\u001b[0m\u001b[0;34m\u001b[0m\u001b[0m\n",
      "\u001b[0;32m~/Mis_aplicaciones/anaconda3/lib/python3.6/site-packages/pandas/plotting/_matplotlib/__init__.py\u001b[0m in \u001b[0;36mplot\u001b[0;34m(data, kind, **kwargs)\u001b[0m\n\u001b[1;32m     59\u001b[0m             \u001b[0mkwargs\u001b[0m\u001b[0;34m[\u001b[0m\u001b[0;34m\"ax\"\u001b[0m\u001b[0;34m]\u001b[0m \u001b[0;34m=\u001b[0m \u001b[0mgetattr\u001b[0m\u001b[0;34m(\u001b[0m\u001b[0max\u001b[0m\u001b[0;34m,\u001b[0m \u001b[0;34m\"left_ax\"\u001b[0m\u001b[0;34m,\u001b[0m \u001b[0max\u001b[0m\u001b[0;34m)\u001b[0m\u001b[0;34m\u001b[0m\u001b[0;34m\u001b[0m\u001b[0m\n\u001b[1;32m     60\u001b[0m     \u001b[0mplot_obj\u001b[0m \u001b[0;34m=\u001b[0m \u001b[0mPLOT_CLASSES\u001b[0m\u001b[0;34m[\u001b[0m\u001b[0mkind\u001b[0m\u001b[0;34m]\u001b[0m\u001b[0;34m(\u001b[0m\u001b[0mdata\u001b[0m\u001b[0;34m,\u001b[0m \u001b[0;34m**\u001b[0m\u001b[0mkwargs\u001b[0m\u001b[0;34m)\u001b[0m\u001b[0;34m\u001b[0m\u001b[0;34m\u001b[0m\u001b[0m\n\u001b[0;32m---> 61\u001b[0;31m     \u001b[0mplot_obj\u001b[0m\u001b[0;34m.\u001b[0m\u001b[0mgenerate\u001b[0m\u001b[0;34m(\u001b[0m\u001b[0;34m)\u001b[0m\u001b[0;34m\u001b[0m\u001b[0;34m\u001b[0m\u001b[0m\n\u001b[0m\u001b[1;32m     62\u001b[0m     \u001b[0mplot_obj\u001b[0m\u001b[0;34m.\u001b[0m\u001b[0mdraw\u001b[0m\u001b[0;34m(\u001b[0m\u001b[0;34m)\u001b[0m\u001b[0;34m\u001b[0m\u001b[0;34m\u001b[0m\u001b[0m\n\u001b[1;32m     63\u001b[0m     \u001b[0;32mreturn\u001b[0m \u001b[0mplot_obj\u001b[0m\u001b[0;34m.\u001b[0m\u001b[0mresult\u001b[0m\u001b[0;34m\u001b[0m\u001b[0;34m\u001b[0m\u001b[0m\n",
      "\u001b[0;32m~/Mis_aplicaciones/anaconda3/lib/python3.6/site-packages/pandas/plotting/_matplotlib/core.py\u001b[0m in \u001b[0;36mgenerate\u001b[0;34m(self)\u001b[0m\n\u001b[1;32m    269\u001b[0m         \u001b[0mself\u001b[0m\u001b[0;34m.\u001b[0m\u001b[0m_compute_plot_data\u001b[0m\u001b[0;34m(\u001b[0m\u001b[0;34m)\u001b[0m\u001b[0;34m\u001b[0m\u001b[0;34m\u001b[0m\u001b[0m\n\u001b[1;32m    270\u001b[0m         \u001b[0mself\u001b[0m\u001b[0;34m.\u001b[0m\u001b[0m_setup_subplots\u001b[0m\u001b[0;34m(\u001b[0m\u001b[0;34m)\u001b[0m\u001b[0;34m\u001b[0m\u001b[0;34m\u001b[0m\u001b[0m\n\u001b[0;32m--> 271\u001b[0;31m         \u001b[0mself\u001b[0m\u001b[0;34m.\u001b[0m\u001b[0m_make_plot\u001b[0m\u001b[0;34m(\u001b[0m\u001b[0;34m)\u001b[0m\u001b[0;34m\u001b[0m\u001b[0;34m\u001b[0m\u001b[0m\n\u001b[0m\u001b[1;32m    272\u001b[0m         \u001b[0mself\u001b[0m\u001b[0;34m.\u001b[0m\u001b[0m_add_table\u001b[0m\u001b[0;34m(\u001b[0m\u001b[0;34m)\u001b[0m\u001b[0;34m\u001b[0m\u001b[0;34m\u001b[0m\u001b[0m\n\u001b[1;32m    273\u001b[0m         \u001b[0mself\u001b[0m\u001b[0;34m.\u001b[0m\u001b[0m_make_legend\u001b[0m\u001b[0;34m(\u001b[0m\u001b[0;34m)\u001b[0m\u001b[0;34m\u001b[0m\u001b[0;34m\u001b[0m\u001b[0m\n",
      "\u001b[0;32m~/Mis_aplicaciones/anaconda3/lib/python3.6/site-packages/pandas/plotting/_matplotlib/core.py\u001b[0m in \u001b[0;36m_make_plot\u001b[0;34m(self)\u001b[0m\n\u001b[1;32m   1448\u001b[0m                     \u001b[0mlabel\u001b[0m\u001b[0;34m=\u001b[0m\u001b[0mlabel\u001b[0m\u001b[0;34m,\u001b[0m\u001b[0;34m\u001b[0m\u001b[0;34m\u001b[0m\u001b[0m\n\u001b[1;32m   1449\u001b[0m                     \u001b[0mlog\u001b[0m\u001b[0;34m=\u001b[0m\u001b[0mself\u001b[0m\u001b[0;34m.\u001b[0m\u001b[0mlog\u001b[0m\u001b[0;34m,\u001b[0m\u001b[0;34m\u001b[0m\u001b[0;34m\u001b[0m\u001b[0m\n\u001b[0;32m-> 1450\u001b[0;31m                     \u001b[0;34m**\u001b[0m\u001b[0mkwds\u001b[0m\u001b[0;34m,\u001b[0m\u001b[0;34m\u001b[0m\u001b[0;34m\u001b[0m\u001b[0m\n\u001b[0m\u001b[1;32m   1451\u001b[0m                 )\n\u001b[1;32m   1452\u001b[0m             \u001b[0mself\u001b[0m\u001b[0;34m.\u001b[0m\u001b[0m_add_legend_handle\u001b[0m\u001b[0;34m(\u001b[0m\u001b[0mrect\u001b[0m\u001b[0;34m,\u001b[0m \u001b[0mlabel\u001b[0m\u001b[0;34m,\u001b[0m \u001b[0mindex\u001b[0m\u001b[0;34m=\u001b[0m\u001b[0mi\u001b[0m\u001b[0;34m)\u001b[0m\u001b[0;34m\u001b[0m\u001b[0;34m\u001b[0m\u001b[0m\n",
      "\u001b[0;32m~/Mis_aplicaciones/anaconda3/lib/python3.6/site-packages/pandas/plotting/_matplotlib/core.py\u001b[0m in \u001b[0;36m_plot\u001b[0;34m(cls, ax, x, y, w, start, log, **kwds)\u001b[0m\n\u001b[1;32m   1371\u001b[0m     \u001b[0;34m@\u001b[0m\u001b[0mclassmethod\u001b[0m\u001b[0;34m\u001b[0m\u001b[0;34m\u001b[0m\u001b[0m\n\u001b[1;32m   1372\u001b[0m     \u001b[0;32mdef\u001b[0m \u001b[0m_plot\u001b[0m\u001b[0;34m(\u001b[0m\u001b[0mcls\u001b[0m\u001b[0;34m,\u001b[0m \u001b[0max\u001b[0m\u001b[0;34m,\u001b[0m \u001b[0mx\u001b[0m\u001b[0;34m,\u001b[0m \u001b[0my\u001b[0m\u001b[0;34m,\u001b[0m \u001b[0mw\u001b[0m\u001b[0;34m,\u001b[0m \u001b[0mstart\u001b[0m\u001b[0;34m=\u001b[0m\u001b[0;36m0\u001b[0m\u001b[0;34m,\u001b[0m \u001b[0mlog\u001b[0m\u001b[0;34m=\u001b[0m\u001b[0;32mFalse\u001b[0m\u001b[0;34m,\u001b[0m \u001b[0;34m**\u001b[0m\u001b[0mkwds\u001b[0m\u001b[0;34m)\u001b[0m\u001b[0;34m:\u001b[0m\u001b[0;34m\u001b[0m\u001b[0;34m\u001b[0m\u001b[0m\n\u001b[0;32m-> 1373\u001b[0;31m         \u001b[0;32mreturn\u001b[0m \u001b[0max\u001b[0m\u001b[0;34m.\u001b[0m\u001b[0mbar\u001b[0m\u001b[0;34m(\u001b[0m\u001b[0mx\u001b[0m\u001b[0;34m,\u001b[0m \u001b[0my\u001b[0m\u001b[0;34m,\u001b[0m \u001b[0mw\u001b[0m\u001b[0;34m,\u001b[0m \u001b[0mbottom\u001b[0m\u001b[0;34m=\u001b[0m\u001b[0mstart\u001b[0m\u001b[0;34m,\u001b[0m \u001b[0mlog\u001b[0m\u001b[0;34m=\u001b[0m\u001b[0mlog\u001b[0m\u001b[0;34m,\u001b[0m \u001b[0;34m**\u001b[0m\u001b[0mkwds\u001b[0m\u001b[0;34m)\u001b[0m\u001b[0;34m\u001b[0m\u001b[0;34m\u001b[0m\u001b[0m\n\u001b[0m\u001b[1;32m   1374\u001b[0m \u001b[0;34m\u001b[0m\u001b[0m\n\u001b[1;32m   1375\u001b[0m     \u001b[0;34m@\u001b[0m\u001b[0mproperty\u001b[0m\u001b[0;34m\u001b[0m\u001b[0;34m\u001b[0m\u001b[0m\n",
      "\u001b[0;32m~/Mis_aplicaciones/anaconda3/lib/python3.6/site-packages/matplotlib/__init__.py\u001b[0m in \u001b[0;36minner\u001b[0;34m(ax, data, *args, **kwargs)\u001b[0m\n\u001b[1;32m   1436\u001b[0m     \u001b[0;32mdef\u001b[0m \u001b[0minner\u001b[0m\u001b[0;34m(\u001b[0m\u001b[0max\u001b[0m\u001b[0;34m,\u001b[0m \u001b[0;34m*\u001b[0m\u001b[0margs\u001b[0m\u001b[0;34m,\u001b[0m \u001b[0mdata\u001b[0m\u001b[0;34m=\u001b[0m\u001b[0;32mNone\u001b[0m\u001b[0;34m,\u001b[0m \u001b[0;34m**\u001b[0m\u001b[0mkwargs\u001b[0m\u001b[0;34m)\u001b[0m\u001b[0;34m:\u001b[0m\u001b[0;34m\u001b[0m\u001b[0;34m\u001b[0m\u001b[0m\n\u001b[1;32m   1437\u001b[0m         \u001b[0;32mif\u001b[0m \u001b[0mdata\u001b[0m \u001b[0;32mis\u001b[0m \u001b[0;32mNone\u001b[0m\u001b[0;34m:\u001b[0m\u001b[0;34m\u001b[0m\u001b[0;34m\u001b[0m\u001b[0m\n\u001b[0;32m-> 1438\u001b[0;31m             \u001b[0;32mreturn\u001b[0m \u001b[0mfunc\u001b[0m\u001b[0;34m(\u001b[0m\u001b[0max\u001b[0m\u001b[0;34m,\u001b[0m \u001b[0;34m*\u001b[0m\u001b[0mmap\u001b[0m\u001b[0;34m(\u001b[0m\u001b[0msanitize_sequence\u001b[0m\u001b[0;34m,\u001b[0m \u001b[0margs\u001b[0m\u001b[0;34m)\u001b[0m\u001b[0;34m,\u001b[0m \u001b[0;34m**\u001b[0m\u001b[0mkwargs\u001b[0m\u001b[0;34m)\u001b[0m\u001b[0;34m\u001b[0m\u001b[0;34m\u001b[0m\u001b[0m\n\u001b[0m\u001b[1;32m   1439\u001b[0m \u001b[0;34m\u001b[0m\u001b[0m\n\u001b[1;32m   1440\u001b[0m         \u001b[0mbound\u001b[0m \u001b[0;34m=\u001b[0m \u001b[0mnew_sig\u001b[0m\u001b[0;34m.\u001b[0m\u001b[0mbind\u001b[0m\u001b[0;34m(\u001b[0m\u001b[0max\u001b[0m\u001b[0;34m,\u001b[0m \u001b[0;34m*\u001b[0m\u001b[0margs\u001b[0m\u001b[0;34m,\u001b[0m \u001b[0;34m**\u001b[0m\u001b[0mkwargs\u001b[0m\u001b[0;34m)\u001b[0m\u001b[0;34m\u001b[0m\u001b[0;34m\u001b[0m\u001b[0m\n",
      "\u001b[0;32m~/Mis_aplicaciones/anaconda3/lib/python3.6/site-packages/matplotlib/axes/_axes.py\u001b[0m in \u001b[0;36mbar\u001b[0;34m(self, x, height, width, bottom, align, **kwargs)\u001b[0m\n\u001b[1;32m   2486\u001b[0m                 \u001b[0mlabel\u001b[0m\u001b[0;34m=\u001b[0m\u001b[0;34m'_nolegend_'\u001b[0m\u001b[0;34m,\u001b[0m\u001b[0;34m\u001b[0m\u001b[0;34m\u001b[0m\u001b[0m\n\u001b[1;32m   2487\u001b[0m                 )\n\u001b[0;32m-> 2488\u001b[0;31m             \u001b[0mr\u001b[0m\u001b[0;34m.\u001b[0m\u001b[0mupdate\u001b[0m\u001b[0;34m(\u001b[0m\u001b[0mkwargs\u001b[0m\u001b[0;34m)\u001b[0m\u001b[0;34m\u001b[0m\u001b[0;34m\u001b[0m\u001b[0m\n\u001b[0m\u001b[1;32m   2489\u001b[0m             \u001b[0mr\u001b[0m\u001b[0;34m.\u001b[0m\u001b[0mget_path\u001b[0m\u001b[0;34m(\u001b[0m\u001b[0;34m)\u001b[0m\u001b[0;34m.\u001b[0m\u001b[0m_interpolation_steps\u001b[0m \u001b[0;34m=\u001b[0m \u001b[0;36m100\u001b[0m\u001b[0;34m\u001b[0m\u001b[0;34m\u001b[0m\u001b[0m\n\u001b[1;32m   2490\u001b[0m             \u001b[0;32mif\u001b[0m \u001b[0morientation\u001b[0m \u001b[0;34m==\u001b[0m \u001b[0;34m'vertical'\u001b[0m\u001b[0;34m:\u001b[0m\u001b[0;34m\u001b[0m\u001b[0;34m\u001b[0m\u001b[0m\n",
      "\u001b[0;32m~/Mis_aplicaciones/anaconda3/lib/python3.6/site-packages/matplotlib/artist.py\u001b[0m in \u001b[0;36mupdate\u001b[0;34m(self, props)\u001b[0m\n\u001b[1;32m    994\u001b[0m                     \u001b[0mfunc\u001b[0m \u001b[0;34m=\u001b[0m \u001b[0mgetattr\u001b[0m\u001b[0;34m(\u001b[0m\u001b[0mself\u001b[0m\u001b[0;34m,\u001b[0m \u001b[0;34mf\"set_{k}\"\u001b[0m\u001b[0;34m,\u001b[0m \u001b[0;32mNone\u001b[0m\u001b[0;34m)\u001b[0m\u001b[0;34m\u001b[0m\u001b[0;34m\u001b[0m\u001b[0m\n\u001b[1;32m    995\u001b[0m                     \u001b[0;32mif\u001b[0m \u001b[0;32mnot\u001b[0m \u001b[0mcallable\u001b[0m\u001b[0;34m(\u001b[0m\u001b[0mfunc\u001b[0m\u001b[0;34m)\u001b[0m\u001b[0;34m:\u001b[0m\u001b[0;34m\u001b[0m\u001b[0;34m\u001b[0m\u001b[0m\n\u001b[0;32m--> 996\u001b[0;31m                         raise AttributeError(f\"{type(self).__name__!r} object \"\n\u001b[0m\u001b[1;32m    997\u001b[0m                                              f\"has no property {k!r}\")\n\u001b[1;32m    998\u001b[0m                     \u001b[0mret\u001b[0m\u001b[0;34m.\u001b[0m\u001b[0mappend\u001b[0m\u001b[0;34m(\u001b[0m\u001b[0mfunc\u001b[0m\u001b[0;34m(\u001b[0m\u001b[0mv\u001b[0m\u001b[0;34m)\u001b[0m\u001b[0;34m)\u001b[0m\u001b[0;34m\u001b[0m\u001b[0;34m\u001b[0m\u001b[0m\n",
      "\u001b[0;31mAttributeError\u001b[0m: 'Rectangle' object has no property 'auto'"
     ]
    },
    {
     "data": {
      "image/png": "[encoded data removed]",
      "text/plain": [
       "<Figure size 432x288 with 1 Axes>"
      ]
     },
     "metadata": {
      "needs_background": "light"
     },
     "output_type": "display_data"
    }
   ],
   "source": [
    "df=actilla_final.groupby(['Alumno','Eval'])[['Nota']].mean().round(2).rename(columns={'Nota':'Media'}).unstack()\n",
    "g2=df.plot.bar(title='Nota media por alumno',auto='%1.1f%%') \n",
    "g2\n",
    "g2.get_figure().savefig('g2.png')\n",
    "\n",
    "texto += \"\\n\\n## Alumnos \\n\\n\"\n",
    "texto += \"\\n\\n### Notas medias \\n\\n\"\n",
    "texto += \" {} \".format(df.to_markdown())\n",
    "texto += \"\\n\\n ![](g2.png) \\n \\n\"\n",
    "\n",
    "df\n"
   ]
  },
  {
   "cell_type": "code",
   "execution_count": 153,
   "metadata": {
    "id": "gorL0mD-CAy-"
   },
   "outputs": [],
   "source": [
    "#f = open(\"acta_{}ev.md\".format(ultima_evaluacion), \"a\")\n",
    "# texto += \"{}\".format(df.to_markdown())\n",
    "# texto += \"\\n\\n ![](g2.png) \\n \"\n",
    "# f.write(texto)\n",
    "# f.close()\n"
   ]
  },
  {
   "cell_type": "code",
   "execution_count": 154,
   "metadata": {
    "colab": {
     "base_uri": "https://localhost:8080/",
     "height": 911
    },
    "id": "mMD0iDCFPKHA",
    "outputId": "fe56142a-2c67-4b84-ccb9-f3c07bdecbf1"
   },
   "outputs": [
    {
     "data": {
      "text/plain": [
       "'En la 2ªev: \\n \\n * **Baja** la nota media: Pasa de 7.11 a 7.0. \\n * Mantiene el número de suspensos 0.  \\n '"
      ]
     },
     "metadata": {},
     "output_type": "display_data"
    },
    {
     "data": {
      "text/html": [
       "<div>\n",
       "<style scoped>\n",
       "    .dataframe tbody tr th:only-of-type {\n",
       "        vertical-align: middle;\n",
       "    }\n",
       "\n",
       "    .dataframe tbody tr th {\n",
       "        vertical-align: top;\n",
       "    }\n",
       "\n",
       "    .dataframe thead th {\n",
       "        text-align: right;\n",
       "    }\n",
       "</style>\n",
       "<table border=\"1\" class=\"dataframe\">\n",
       "  <thead>\n",
       "    <tr style=\"text-align: right;\">\n",
       "      <th>Asignatura</th>\n",
       "      <th>2FR II</th>\n",
       "      <th>BI</th>\n",
       "      <th>CTM</th>\n",
       "      <th>HE</th>\n",
       "      <th>IN II</th>\n",
       "      <th>LC2</th>\n",
       "      <th>MA2</th>\n",
       "      <th>PSC</th>\n",
       "      <th>QU</th>\n",
       "    </tr>\n",
       "    <tr>\n",
       "      <th>Eval</th>\n",
       "      <th></th>\n",
       "      <th></th>\n",
       "      <th></th>\n",
       "      <th></th>\n",
       "      <th></th>\n",
       "      <th></th>\n",
       "      <th></th>\n",
       "      <th></th>\n",
       "      <th></th>\n",
       "    </tr>\n",
       "  </thead>\n",
       "  <tbody>\n",
       "    <tr>\n",
       "      <th>1</th>\n",
       "      <td>8</td>\n",
       "      <td>7</td>\n",
       "      <td>7</td>\n",
       "      <td>5</td>\n",
       "      <td>10</td>\n",
       "      <td>6</td>\n",
       "      <td>7</td>\n",
       "      <td>8</td>\n",
       "      <td>6</td>\n",
       "    </tr>\n",
       "    <tr>\n",
       "      <th>2</th>\n",
       "      <td>7</td>\n",
       "      <td>5</td>\n",
       "      <td>7</td>\n",
       "      <td>6</td>\n",
       "      <td>10</td>\n",
       "      <td>5</td>\n",
       "      <td>7</td>\n",
       "      <td>9</td>\n",
       "      <td>7</td>\n",
       "    </tr>\n",
       "  </tbody>\n",
       "</table>\n",
       "</div>"
      ],
      "text/plain": [
       "Asignatura  2FR II  BI  CTM  HE  IN II  LC2  MA2  PSC  QU\n",
       "Eval                                                     \n",
       "1                8   7    7   5     10    6    7    8   6\n",
       "2                7   5    7   6     10    5    7    9   7"
      ]
     },
     "metadata": {},
     "output_type": "display_data"
    },
    {
     "data": {
      "text/plain": [
       "'Por tanto: \\n Baja en 2FR II: Pasa de 8 a 7. Baja en BI: Pasa de 7 a 5. Sube en HE: Pasa de 5 a 6. Baja en LC2: Pasa de 6 a 5. Sube en PSC: Pasa de 8 a 9. Sube en QU: Pasa de 6 a 7.  \\n '"
      ]
     },
     "metadata": {},
     "output_type": "display_data"
    },
    {
     "data": {
      "text/plain": [
       "'En la 2ªev: \\n \\n * **Baja** la nota media: Pasa de 8.12 a 7.62. \\n * Mantiene el número de suspensos 0.  \\n '"
      ]
     },
     "metadata": {},
     "output_type": "display_data"
    },
    {
     "data": {
      "text/html": [
       "<div>\n",
       "<style scoped>\n",
       "    .dataframe tbody tr th:only-of-type {\n",
       "        vertical-align: middle;\n",
       "    }\n",
       "\n",
       "    .dataframe tbody tr th {\n",
       "        vertical-align: top;\n",
       "    }\n",
       "\n",
       "    .dataframe thead th {\n",
       "        text-align: right;\n",
       "    }\n",
       "</style>\n",
       "<table border=\"1\" class=\"dataframe\">\n",
       "  <thead>\n",
       "    <tr style=\"text-align: right;\">\n",
       "      <th>Asignatura</th>\n",
       "      <th>2FR II</th>\n",
       "      <th>BI</th>\n",
       "      <th>CTM</th>\n",
       "      <th>HE</th>\n",
       "      <th>IN II</th>\n",
       "      <th>LC2</th>\n",
       "      <th>MA2</th>\n",
       "      <th>QU</th>\n",
       "    </tr>\n",
       "    <tr>\n",
       "      <th>Eval</th>\n",
       "      <th></th>\n",
       "      <th></th>\n",
       "      <th></th>\n",
       "      <th></th>\n",
       "      <th></th>\n",
       "      <th></th>\n",
       "      <th></th>\n",
       "      <th></th>\n",
       "    </tr>\n",
       "  </thead>\n",
       "  <tbody>\n",
       "    <tr>\n",
       "      <th>1</th>\n",
       "      <td>7</td>\n",
       "      <td>8</td>\n",
       "      <td>9</td>\n",
       "      <td>7</td>\n",
       "      <td>9</td>\n",
       "      <td>7</td>\n",
       "      <td>9</td>\n",
       "      <td>9</td>\n",
       "    </tr>\n",
       "    <tr>\n",
       "      <th>2</th>\n",
       "      <td>8</td>\n",
       "      <td>7</td>\n",
       "      <td>8</td>\n",
       "      <td>7</td>\n",
       "      <td>9</td>\n",
       "      <td>7</td>\n",
       "      <td>8</td>\n",
       "      <td>7</td>\n",
       "    </tr>\n",
       "  </tbody>\n",
       "</table>\n",
       "</div>"
      ],
      "text/plain": [
       "Asignatura  2FR II  BI  CTM  HE  IN II  LC2  MA2  QU\n",
       "Eval                                                \n",
       "1                7   8    9   7      9    7    9   9\n",
       "2                8   7    8   7      9    7    8   7"
      ]
     },
     "metadata": {},
     "output_type": "display_data"
    },
    {
     "data": {
      "text/plain": [
       "'Por tanto: \\n Sube en 2FR II: Pasa de 7 a 8. Baja en BI: Pasa de 8 a 7. Baja en CTM: Pasa de 9 a 8. Baja en MA2: Pasa de 9 a 8. Baja en QU: Pasa de 9 a 7.  \\n '"
      ]
     },
     "metadata": {},
     "output_type": "display_data"
    },
    {
     "data": {
      "text/plain": [
       "'En la 2ªev: \\n \\n * Mantiene la nota media 7.38. \\n * Mantiene el número de suspensos 0.  \\n '"
      ]
     },
     "metadata": {},
     "output_type": "display_data"
    },
    {
     "data": {
      "text/html": [
       "<div>\n",
       "<style scoped>\n",
       "    .dataframe tbody tr th:only-of-type {\n",
       "        vertical-align: middle;\n",
       "    }\n",
       "\n",
       "    .dataframe tbody tr th {\n",
       "        vertical-align: top;\n",
       "    }\n",
       "\n",
       "    .dataframe thead th {\n",
       "        text-align: right;\n",
       "    }\n",
       "</style>\n",
       "<table border=\"1\" class=\"dataframe\">\n",
       "  <thead>\n",
       "    <tr style=\"text-align: right;\">\n",
       "      <th>Asignatura</th>\n",
       "      <th>2FR II</th>\n",
       "      <th>BI</th>\n",
       "      <th>CTM</th>\n",
       "      <th>HE</th>\n",
       "      <th>IN II</th>\n",
       "      <th>LC2</th>\n",
       "      <th>MA2</th>\n",
       "      <th>QU</th>\n",
       "    </tr>\n",
       "    <tr>\n",
       "      <th>Eval</th>\n",
       "      <th></th>\n",
       "      <th></th>\n",
       "      <th></th>\n",
       "      <th></th>\n",
       "      <th></th>\n",
       "      <th></th>\n",
       "      <th></th>\n",
       "      <th></th>\n",
       "    </tr>\n",
       "  </thead>\n",
       "  <tbody>\n",
       "    <tr>\n",
       "      <th>1</th>\n",
       "      <td>8</td>\n",
       "      <td>7</td>\n",
       "      <td>9</td>\n",
       "      <td>6</td>\n",
       "      <td>9</td>\n",
       "      <td>7</td>\n",
       "      <td>7</td>\n",
       "      <td>6</td>\n",
       "    </tr>\n",
       "    <tr>\n",
       "      <th>2</th>\n",
       "      <td>7</td>\n",
       "      <td>8</td>\n",
       "      <td>8</td>\n",
       "      <td>6</td>\n",
       "      <td>9</td>\n",
       "      <td>5</td>\n",
       "      <td>8</td>\n",
       "      <td>8</td>\n",
       "    </tr>\n",
       "  </tbody>\n",
       "</table>\n",
       "</div>"
      ],
      "text/plain": [
       "Asignatura  2FR II  BI  CTM  HE  IN II  LC2  MA2  QU\n",
       "Eval                                                \n",
       "1                8   7    9   6      9    7    7   6\n",
       "2                7   8    8   6      9    5    8   8"
      ]
     },
     "metadata": {},
     "output_type": "display_data"
    },
    {
     "data": {
      "text/plain": [
       "'Por tanto: \\n Baja en 2FR II: Pasa de 8 a 7. Sube en BI: Pasa de 7 a 8. Baja en CTM: Pasa de 9 a 8. Baja en LC2: Pasa de 7 a 5. Sube en MA2: Pasa de 7 a 8. Sube en QU: Pasa de 6 a 8.  \\n '"
      ]
     },
     "metadata": {},
     "output_type": "display_data"
    },
    {
     "data": {
      "text/plain": [
       "'En la 2ªev: \\n \\n * **Baja** la nota media: Pasa de 7.12 a 6.25. \\n * Sube el número de suspensos: Pasa de 1 a 2.  \\n '"
      ]
     },
     "metadata": {},
     "output_type": "display_data"
    },
    {
     "name": "stdout",
     "output_type": "stream",
     "text": [
      "* Suspende 2 asignaturas: HE, PS\n"
     ]
    },
    {
     "data": {
      "text/html": [
       "<div>\n",
       "<style scoped>\n",
       "    .dataframe tbody tr th:only-of-type {\n",
       "        vertical-align: middle;\n",
       "    }\n",
       "\n",
       "    .dataframe tbody tr th {\n",
       "        vertical-align: top;\n",
       "    }\n",
       "\n",
       "    .dataframe thead th {\n",
       "        text-align: right;\n",
       "    }\n",
       "</style>\n",
       "<table border=\"1\" class=\"dataframe\">\n",
       "  <thead>\n",
       "    <tr style=\"text-align: right;\">\n",
       "      <th>Asignatura</th>\n",
       "      <th>BI</th>\n",
       "      <th>CTM</th>\n",
       "      <th>HE</th>\n",
       "      <th>IN II</th>\n",
       "      <th>LC2</th>\n",
       "      <th>MA2</th>\n",
       "      <th>PS</th>\n",
       "      <th>QU</th>\n",
       "    </tr>\n",
       "    <tr>\n",
       "      <th>Eval</th>\n",
       "      <th></th>\n",
       "      <th></th>\n",
       "      <th></th>\n",
       "      <th></th>\n",
       "      <th></th>\n",
       "      <th></th>\n",
       "      <th></th>\n",
       "      <th></th>\n",
       "    </tr>\n",
       "  </thead>\n",
       "  <tbody>\n",
       "    <tr>\n",
       "      <th>1</th>\n",
       "      <td>7</td>\n",
       "      <td>8</td>\n",
       "      <td>3</td>\n",
       "      <td>7</td>\n",
       "      <td>7</td>\n",
       "      <td>10</td>\n",
       "      <td>8</td>\n",
       "      <td>7</td>\n",
       "    </tr>\n",
       "    <tr>\n",
       "      <th>2</th>\n",
       "      <td>7</td>\n",
       "      <td>7</td>\n",
       "      <td>2</td>\n",
       "      <td>8</td>\n",
       "      <td>6</td>\n",
       "      <td>10</td>\n",
       "      <td>2</td>\n",
       "      <td>8</td>\n",
       "    </tr>\n",
       "  </tbody>\n",
       "</table>\n",
       "</div>"
      ],
      "text/plain": [
       "Asignatura  BI  CTM  HE  IN II  LC2  MA2  PS  QU\n",
       "Eval                                            \n",
       "1            7    8   3      7    7   10   8   7\n",
       "2            7    7   2      8    6   10   2   8"
      ]
     },
     "metadata": {},
     "output_type": "display_data"
    },
    {
     "data": {
      "text/plain": [
       "'Por tanto: \\n Baja en CTM: Pasa de 8 a 7. Baja en HE: Pasa de 3 a 2. Sube en IN II: Pasa de 7 a 8. Baja en LC2: Pasa de 7 a 6. Baja en PS: Pasa de 8 a 2. Sube en QU: Pasa de 7 a 8.  \\n '"
      ]
     },
     "metadata": {},
     "output_type": "display_data"
    }
   ],
   "source": [
    "# Resultados por alumno\n",
    "df = actilla_final[actilla_final.Eval <= ultima_evaluacion]\n",
    "\n",
    "texto += \"\\n\\n### Resultados por alumno \\n\"\n",
    "for a in df.groupby('Alumno').nunique().index :\n",
    "    \n",
    "    #Resumen de resultados\n",
    "    df2 = df[(df.Alumno == a) & (df.Eval <= ultima_evaluacion)].groupby(['Alumno','Eval']).aggregate({'Nota':'mean','Suspenso':'sum'})\n",
    "    df2.index = df2.index.get_level_values(1)\n",
    "    df2.Nota = df2.Nota.round(2)\n",
    "    df2 = df2.rename(columns={'Nota':'la nota media', 'Suspenso':'el número de suspensos'})\n",
    "    display(analisis_df(df2, \"En la {}ªev: \\n \".format(ultima_evaluacion),txt_igual=\"\\n * Mantiene {}\")[0])\n",
    "    texto += \"\\n\\n#### {} \\n\".format(a)\n",
    "    texto += \"\\n {} \\n\".format(analisis_df(df2, \" {} en la {}ªev: \\n \".format(a,ultima_evaluacion),txt_igual=\"\\n * Mantiene {}\")[0])\n",
    "\n",
    "    #Lista de suspensos\n",
    "    df2 = df[(df.Alumno==a) & (df.Suspenso==1) & (df.Eval == ultima_evaluacion)][['Asignatura','Eval','Suspenso']]\n",
    "    if len(df2[['Asignatura']].values) > 0 : \n",
    "        txt=\"* Suspende {} asignaturas: \".format(len(df2[['Asignatura']].values)) + \", \".join([i[0] for i in df2[['Asignatura']].values])\n",
    "        texto += \"\\n\\n{} \\n\".format(txt)\n",
    "        print(txt) \n",
    "\n",
    "    \n",
    "    #Análisis de las notas\n",
    "    df2 = df[(df.Alumno == a) & (df.Eval <= ultima_evaluacion)].iloc[:,1:-1].groupby(['Asignatura','Eval']).min().unstack('Asignatura')\n",
    "    df2.columns = df2.columns.get_level_values(1)\n",
    "    display(df2)\n",
    "    display(analisis_df(df2, \"Por tanto: \\n \".format(a), \"Sube en {}:\", \"Baja en {}:\", \"En {}:\", solo_diferencias=True)[0])\n",
    "    texto += \"\\n{}\\n\".format(df2.to_markdown())\n",
    "    texto +=  analisis_df(df2, \"\\n\\nPor tanto: \".format(a), \"Sube en {}:\", \"**Baja** en {}:\", \"En {}:\", solo_diferencias=True)[0]\n",
    "\n",
    "texto = texto.replace('|--','|:-').replace('--|','-:|')\n",
    "f.write(texto)\n",
    "f.close()\n"
   ]
  }
 ],
 "metadata": {
  "colab": {
   "include_colab_link": true,
   "name": "est_evaluacion_2021.ipynb",
   "provenance": [],
   "toc_visible": true
  },
  "kernelspec": {
   "display_name": "Python 3",
   "language": "python",
   "name": "python3"
  },
  "language_info": {
   "codemirror_mode": {
    "name": "ipython",
    "version": 3
   },
   "file_extension": ".py",
   "mimetype": "text/x-python",
   "name": "python",
   "nbconvert_exporter": "python",
   "pygments_lexer": "ipython3",
   "version": "3.6.12"
  }
 },
 "nbformat": 4,
 "nbformat_minor": 1
}
