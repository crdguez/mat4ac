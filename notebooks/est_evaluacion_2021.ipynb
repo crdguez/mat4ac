{
  "nbformat": 4,
  "nbformat_minor": 0,
  "metadata": {
    "colab": {
      "name": "est_evaluacion_2021.ipynb",
      "provenance": [],
      "include_colab_link": true
    },
    "kernelspec": {
      "display_name": "Python 3",
      "language": "python",
      "name": "python3"
    },
    "language_info": {
      "codemirror_mode": {
        "name": "ipython",
        "version": 3
      },
      "file_extension": ".py",
      "mimetype": "text/x-python",
      "name": "python",
      "nbconvert_exporter": "python",
      "pygments_lexer": "ipython3",
      "version": "3.6.12"
    }
  },
  "cells": [
    {
      "cell_type": "markdown",
      "metadata": {
        "id": "view-in-github",
        "colab_type": "text"
      },
      "source": [
        "<a href=\"https://colab.research.google.com/github/crdguez/mat4ac/blob/master/notebooks/est_evaluacion_2021.ipynb\" target=\"_parent\"><img src=\"https://colab.research.google.com/assets/colab-badge.svg\" alt=\"Open In Colab\"/></a>"
      ]
    },
    {
      "cell_type": "code",
      "metadata": {
        "id": "MXVCw75jMDL7"
      },
      "source": [
        "# Import all libraries needed for the tutorial\n",
        "\n",
        "# General syntax to import specific functions in a library: \n",
        "##from (library) import (specific library function)\n",
        "from pandas import DataFrame, read_csv\n",
        "\n",
        "# General syntax to import a library but no functions: \n",
        "##import (library) as (give the library a nickname/alias)\n",
        "import matplotlib.pyplot as plt\n",
        "import pandas as pd #this is how I usually import pandas\n",
        "import sys #only needed to determine Python version number\n",
        "import matplotlib #only needed to determine Matplotlib version number\n",
        "import numpy as np\n",
        "\n",
        "# Enable inline plotting\n",
        "%matplotlib inline"
      ],
      "execution_count": 1,
      "outputs": []
    },
    {
      "cell_type": "code",
      "metadata": {
        "id": "fdAR8-FiMDMa"
      },
      "source": [
        "def color_negative_red(val):\n",
        "    \"\"\"\n",
        "    Takes a scalar and returns a string with\n",
        "    the css property `'color: red'` for negative\n",
        "    strings, black otherwise.\n",
        "    \"\"\"\n",
        "    if type(val)== str:\n",
        "        color = 'blue ; background: azure'\n",
        "    else:\n",
        "        color = 'red; background: khaki' if (val < 5 or val ==\"\") else 'green; background: lightyellow'\n",
        "    return 'color: %s ; font-size: 12px ; font-weight: bold' % color \n",
        "\n",
        "def color_media(val):\n",
        "    \"\"\"\n",
        "    Takes a scalar and returns a string with\n",
        "    the css property `'color: red'` for negative\n",
        "    strings, black otherwise.\n",
        "    \"\"\"\n",
        "    if type(val)== str:\n",
        "        color = 'blue ; background: azure'\n",
        "    else:\n",
        "        color = 'red; background: gold' if (val < 5 or val ==\"\") else 'black; background: burlywood'\n",
        "    return 'color: %s ; font-size: 12px ; font-weight: bold'  % color \n",
        "\n",
        "def color_suspensos(val):\n",
        "    \"\"\"\n",
        "    Takes a scalar and returns a string with\n",
        "    the css property `'color: red'` for negative\n",
        "    strings, black otherwise.\n",
        "    \"\"\"\n",
        "    if type(val)== str:\n",
        "        color = 'blue ; background: azure'\n",
        "    else:\n",
        "        color = 'red; background: gold' if (val > 0 or val ==\"\") else 'black; background: darkkhaki'\n",
        "        \n",
        "    return 'color: %s ; font-weight: bold ; font-size: 12px' % color \n",
        "\n",
        "def evaluaciones_anteriores(val):      \n",
        "    if type(val)== str:\n",
        "        color = 'blue ; background: azure'\n",
        "    else:\n",
        "        color = 'red; background: khaki' if (val < 5 or val ==\"\") else 'green; background: ghostwhite'\n",
        "    \n",
        "    return 'color: %s ; font-size: 8px ; font-weight: lighter' % color "
      ],
      "execution_count": 2,
      "outputs": []
    },
    {
      "cell_type": "code",
      "metadata": {
        "colab": {
          "base_uri": "https://localhost:8080/"
        },
        "id": "DM8t8jjxMMPF",
        "outputId": "ebfff456-fb68-43e3-ff3f-be030bb69576"
      },
      "source": [
        "# Si lo ejecutas desde google colab\n",
        "from google.colab import drive\n",
        "import os\n",
        "drive.mount('/content/drive')\n",
        "%cd /content/drive/My Drive/Curso\\ Actual/4ac/notebooks\n",
        "!pwd\n",
        "#os.chdir('/content/drive/Curso Actual')\n",
        "\n"
      ],
      "execution_count": 6,
      "outputs": [
        {
          "output_type": "stream",
          "text": [
            "Mounted at /content/drive\n",
            "/content/drive/My Drive/Curso Actual/4ac/notebooks\n",
            "/content/drive/My Drive/Curso Actual/4ac/notebooks\n"
          ],
          "name": "stdout"
        }
      ]
    },
    {
      "cell_type": "code",
      "metadata": {
        "colab": {
          "base_uri": "https://localhost:8080/",
          "height": 424
        },
        "id": "2dGsY2pfMDMq",
        "outputId": "36a1e9a9-35b7-4d20-e423-85ac15e95023"
      },
      "source": [
        "# Import data\n",
        "\n",
        "def actilla(fich='importado2', eval=2):\n",
        "    fichero = fich + '.csv'\n",
        "    pre_actilla = pd.read_csv(fichero, index_col=False)\n",
        "    pre_actilla = pre_actilla.drop([col for col in pre_actilla if col.startswith('Unna')], axis=1)\n",
        "    pre_actilla = pre_actilla.drop(\"Nº MNS\", axis = 1)\n",
        "    pre_actilla = pd.melt(pre_actilla, id_vars=[\"Nº\",\"Apellidos, Nombre\"], var_name=\"Asignatura\", value_name=\"Nota\")\n",
        "    pre_actilla = pre_actilla[pre_actilla['Nota'].notna()]\n",
        "    pre_actilla = pre_actilla.copy()\n",
        "    pre_actilla['Eval'] = eval\n",
        "    pre_actilla.Asignatura=pre_actilla.Asignatura.str.replace('\\n', ' ')\n",
        "    return pre_actilla\n",
        "    \n",
        "\n",
        "def concatenar_actillas(inicio_nombre_fichero='importado', evaluaciones_a_incluir=2): \n",
        "    return pd.concat([actilla(inicio_nombre_fichero + str(n + 1), n + 1) for n in range(evaluaciones_a_incluir)])\n",
        "\n",
        "\n",
        "evaluaciones_a_incluir = 2\n",
        "\n",
        "inicio_nombre_fichero = 'importado'\n",
        "\n",
        "\n",
        "actilla_final = concatenar_actillas(inicio_nombre_fichero,evaluaciones_a_incluir)\n",
        "#actilla_final = concatenar_actillas('importado',1)\n",
        "#actilla_final = actilla()\n",
        "actilla_final = actilla_final.rename(columns={'Apellidos, Nombre':'Alumno'})\n",
        "actilla_final = actilla_final[['Alumno','Asignatura','Eval','Nota']]\n",
        "#actilla_final['Nota']=actilla_final['Nota'].astype(int)\n",
        "actilla_final['Suspenso']=0\n",
        "\n",
        "# Si sale algún no presentado hay que ejecutar lo siguiente\n",
        "\n",
        "#actilla_final = actilla_final.drop(actilla_final[actilla_final.Nota == 'NP'].index)\n",
        "actilla_final.Nota = pd.to_numeric(actilla_final.Nota)\n",
        "actilla_final.loc[actilla_final['Nota'] < 5, 'Suspenso'] = 1\n",
        "actilla_final.Nota = actilla_final.Nota.astype(int)\n",
        "ultima_evaluacion = actilla_final.Eval.max()\n",
        "\n",
        "actilla_final.to_csv('ev{}.csv'.format(evaluaciones_a_incluir),index=False)\n",
        "\n",
        "\n",
        "\n",
        "actilla_final"
      ],
      "execution_count": 7,
      "outputs": [
        {
          "output_type": "execute_result",
          "data": {
            "text/html": [
              "<div>\n",
              "<style scoped>\n",
              "    .dataframe tbody tr th:only-of-type {\n",
              "        vertical-align: middle;\n",
              "    }\n",
              "\n",
              "    .dataframe tbody tr th {\n",
              "        vertical-align: top;\n",
              "    }\n",
              "\n",
              "    .dataframe thead th {\n",
              "        text-align: right;\n",
              "    }\n",
              "</style>\n",
              "<table border=\"1\" class=\"dataframe\">\n",
              "  <thead>\n",
              "    <tr style=\"text-align: right;\">\n",
              "      <th></th>\n",
              "      <th>Alumno</th>\n",
              "      <th>Asignatura</th>\n",
              "      <th>Eval</th>\n",
              "      <th>Nota</th>\n",
              "      <th>Suspenso</th>\n",
              "    </tr>\n",
              "  </thead>\n",
              "  <tbody>\n",
              "    <tr>\n",
              "      <th>0</th>\n",
              "      <td>Alumno_1</td>\n",
              "      <td>2FR II</td>\n",
              "      <td>1</td>\n",
              "      <td>8</td>\n",
              "      <td>0</td>\n",
              "    </tr>\n",
              "    <tr>\n",
              "      <th>1</th>\n",
              "      <td>Alumno_2</td>\n",
              "      <td>2FR II</td>\n",
              "      <td>1</td>\n",
              "      <td>7</td>\n",
              "      <td>0</td>\n",
              "    </tr>\n",
              "    <tr>\n",
              "      <th>2</th>\n",
              "      <td>Alumno_3</td>\n",
              "      <td>2FR II</td>\n",
              "      <td>1</td>\n",
              "      <td>8</td>\n",
              "      <td>0</td>\n",
              "    </tr>\n",
              "    <tr>\n",
              "      <th>4</th>\n",
              "      <td>Alumno_1</td>\n",
              "      <td>BI</td>\n",
              "      <td>1</td>\n",
              "      <td>7</td>\n",
              "      <td>0</td>\n",
              "    </tr>\n",
              "    <tr>\n",
              "      <th>5</th>\n",
              "      <td>Alumno_2</td>\n",
              "      <td>BI</td>\n",
              "      <td>1</td>\n",
              "      <td>8</td>\n",
              "      <td>0</td>\n",
              "    </tr>\n",
              "    <tr>\n",
              "      <th>...</th>\n",
              "      <td>...</td>\n",
              "      <td>...</td>\n",
              "      <td>...</td>\n",
              "      <td>...</td>\n",
              "      <td>...</td>\n",
              "    </tr>\n",
              "    <tr>\n",
              "      <th>40</th>\n",
              "      <td>Alumno_1</td>\n",
              "      <td>PSC</td>\n",
              "      <td>2</td>\n",
              "      <td>9</td>\n",
              "      <td>0</td>\n",
              "    </tr>\n",
              "    <tr>\n",
              "      <th>44</th>\n",
              "      <td>Alumno_1</td>\n",
              "      <td>QU</td>\n",
              "      <td>2</td>\n",
              "      <td>7</td>\n",
              "      <td>0</td>\n",
              "    </tr>\n",
              "    <tr>\n",
              "      <th>45</th>\n",
              "      <td>Alumno_2</td>\n",
              "      <td>QU</td>\n",
              "      <td>2</td>\n",
              "      <td>7</td>\n",
              "      <td>0</td>\n",
              "    </tr>\n",
              "    <tr>\n",
              "      <th>46</th>\n",
              "      <td>Alumno_3</td>\n",
              "      <td>QU</td>\n",
              "      <td>2</td>\n",
              "      <td>8</td>\n",
              "      <td>0</td>\n",
              "    </tr>\n",
              "    <tr>\n",
              "      <th>47</th>\n",
              "      <td>Alumno_4</td>\n",
              "      <td>QU</td>\n",
              "      <td>2</td>\n",
              "      <td>8</td>\n",
              "      <td>0</td>\n",
              "    </tr>\n",
              "  </tbody>\n",
              "</table>\n",
              "<p>66 rows × 5 columns</p>\n",
              "</div>"
            ],
            "text/plain": [
              "      Alumno Asignatura  Eval  Nota  Suspenso\n",
              "0   Alumno_1     2FR II     1     8         0\n",
              "1   Alumno_2     2FR II     1     7         0\n",
              "2   Alumno_3     2FR II     1     8         0\n",
              "4   Alumno_1         BI     1     7         0\n",
              "5   Alumno_2         BI     1     8         0\n",
              "..       ...        ...   ...   ...       ...\n",
              "40  Alumno_1        PSC     2     9         0\n",
              "44  Alumno_1         QU     2     7         0\n",
              "45  Alumno_2         QU     2     7         0\n",
              "46  Alumno_3         QU     2     8         0\n",
              "47  Alumno_4         QU     2     8         0\n",
              "\n",
              "[66 rows x 5 columns]"
            ]
          },
          "metadata": {
            "tags": []
          },
          "execution_count": 7
        }
      ]
    },
    {
      "cell_type": "code",
      "metadata": {
        "id": "GF0l-LqVP3RH",
        "scrolled": true
      },
      "source": [
        "###### df = actilla_final.drop(['Suspenso'], axis=1)\n",
        "df = actilla_final[actilla_final.Eval <= ultima_evaluacion]\n",
        "\n",
        "df1 = df.set_index(['Alumno','Asignatura','Eval']).Nota.astype(int).unstack('Asignatura').unstack('Eval')\n",
        "\n",
        "#df2 = df[df.Eval == ultima_evaluacion].groupby('Alumno')[['Nota']].mean().round(1).rename(columns={'Nota': ('Nota',''+str(ultima_evaluacion)+'ev',str(ultima_evaluacion))})\n",
        "\n",
        "#df2 = df[df.Eval == ultima_evaluacion].groupby('Alumno')[['Nota']].mean().rename(columns={'Nota': ('Nota',''+str(ultima_evaluacion)+'',str(ultima_evaluacion))})\n",
        "\n",
        "df2=actilla_final[actilla_final.Eval == ultima_evaluacion].groupby(['Alumno','Eval'])[['Nota']].mean().unstack('Eval').rename(columns={'Nota':'NM'})\n",
        "\n",
        "df3 = df.groupby(['Asignatura','Eval'])[['Nota']].mean()\n",
        "\n",
        "\n",
        "#df3.T.round(1)\n",
        "\n",
        "df4 = pd.concat([df1,df3.T.rename(index={'Nota': 'Media'})])\n",
        "\n",
        "#df5 = pd.concat([df4,df2], axis=1, sort=False).fillna('-').round(1)\n",
        "\n",
        "#df5.style.applymap(color_negative_red)\n",
        "\n",
        "df5 = pd.concat([df4,df2], axis=1, sort=False)\n",
        "df6 = actilla_final[actilla_final.Eval == ultima_evaluacion].groupby(['Alumno','Eval'])[['Suspenso']].sum().unstack('Eval').rename(columns={'Suspenso':'MNS'})\n",
        "df5 = pd.concat([df5,df6], axis=1, sort=False)\n",
        "\n",
        "\n",
        "\n",
        "# calculamos la media de las medias de las notas y la suma total de suspensos\n",
        "df5.iloc[-1:,-2:-1]=df2.mean()[0]\n",
        "df5.iloc[-1:,-1:]=df6.sum()[0]\n",
        "\n",
        "#df5.style.set_precision(0).format(\"{:.0f}\").format(\"{:.1f}\",subset=(df5.index,df5.columns[-1:])).format(\"{:.1f}\",subset=(df5.index[-1:],df5.columns)).applymap(color_negative_red).highlight_null(\"white\").set_na_rep('-')\n",
        "\n",
        "actilla_estilada = df5.style.set_precision(0) \\\n",
        "    .format(\"{:.1f}\",subset=(df5.index[-1:],df5.columns[:-1])) \\\n",
        "    .format(\"{:.1f}\",subset=(df5.index,df5.columns[-2:-1])) \\\n",
        "    .format(\"{:.0f}\",subset=(df5.index,df5.columns[-1:0])) \\\n",
        "    .applymap(color_negative_red).highlight_null(\"white\") \\\n",
        "    .applymap(color_media, subset=(df5.index[-1:],df5.columns)) \\\n",
        "    .applymap(color_media, subset=(df5.index,['NM'])) \\\n",
        "    .applymap(color_suspensos, subset=(df5.index,['MNS'])) \\\n",
        "    .applymap(evaluaciones_anteriores, subset=(df5.index,df5.columns[df5.columns.get_level_values(1) != ultima_evaluacion])) \\\n",
        "    .set_table_styles([{'selector': 'td','props': [('border', '1px solid black'),('text-align', 'center')]}, \\\n",
        "                       {'selector': 'tr','props': [('border', '1px solid black')]}, \\\n",
        "                       {'selector': 'th','props': [('text-align', 'center'),('font-size','9px')]}\n",
        "                      ] \\\n",
        "                     ) \\\n",
        "    .set_na_rep('-')\n",
        "\n",
        "\n",
        "\n",
        "\n"
      ],
      "execution_count": 8,
      "outputs": []
    },
    {
      "cell_type": "code",
      "metadata": {
        "colab": {
          "base_uri": "https://localhost:8080/",
          "height": 154
        },
        "id": "x_RMneC6CAy8",
        "outputId": "a603716c-1fdf-4bc0-ae2e-bdf4202e808f"
      },
      "source": [
        "actilla_estilada"
      ],
      "execution_count": 10,
      "outputs": [
        {
          "output_type": "execute_result",
          "data": {
            "text/html": [
              "<style  type=\"text/css\" >\n",
              "    #T_f1d73f4e_2d66_11eb_b6e9_0242ac1c0002 td {\n",
              "          border: 1px solid black;\n",
              "          text-align: center;\n",
              "    }    #T_f1d73f4e_2d66_11eb_b6e9_0242ac1c0002 tr {\n",
              "          border: 1px solid black;\n",
              "    }    #T_f1d73f4e_2d66_11eb_b6e9_0242ac1c0002 th {\n",
              "          text-align: center;\n",
              "          font-size: 9px;\n",
              "    }#T_f1d73f4e_2d66_11eb_b6e9_0242ac1c0002row0_col0,#T_f1d73f4e_2d66_11eb_b6e9_0242ac1c0002row0_col2,#T_f1d73f4e_2d66_11eb_b6e9_0242ac1c0002row0_col4,#T_f1d73f4e_2d66_11eb_b6e9_0242ac1c0002row0_col6,#T_f1d73f4e_2d66_11eb_b6e9_0242ac1c0002row0_col8,#T_f1d73f4e_2d66_11eb_b6e9_0242ac1c0002row0_col10,#T_f1d73f4e_2d66_11eb_b6e9_0242ac1c0002row0_col12,#T_f1d73f4e_2d66_11eb_b6e9_0242ac1c0002row0_col16,#T_f1d73f4e_2d66_11eb_b6e9_0242ac1c0002row0_col18,#T_f1d73f4e_2d66_11eb_b6e9_0242ac1c0002row1_col0,#T_f1d73f4e_2d66_11eb_b6e9_0242ac1c0002row1_col2,#T_f1d73f4e_2d66_11eb_b6e9_0242ac1c0002row1_col4,#T_f1d73f4e_2d66_11eb_b6e9_0242ac1c0002row1_col6,#T_f1d73f4e_2d66_11eb_b6e9_0242ac1c0002row1_col8,#T_f1d73f4e_2d66_11eb_b6e9_0242ac1c0002row1_col10,#T_f1d73f4e_2d66_11eb_b6e9_0242ac1c0002row1_col12,#T_f1d73f4e_2d66_11eb_b6e9_0242ac1c0002row1_col18,#T_f1d73f4e_2d66_11eb_b6e9_0242ac1c0002row2_col0,#T_f1d73f4e_2d66_11eb_b6e9_0242ac1c0002row2_col2,#T_f1d73f4e_2d66_11eb_b6e9_0242ac1c0002row2_col4,#T_f1d73f4e_2d66_11eb_b6e9_0242ac1c0002row2_col6,#T_f1d73f4e_2d66_11eb_b6e9_0242ac1c0002row2_col8,#T_f1d73f4e_2d66_11eb_b6e9_0242ac1c0002row2_col10,#T_f1d73f4e_2d66_11eb_b6e9_0242ac1c0002row2_col12,#T_f1d73f4e_2d66_11eb_b6e9_0242ac1c0002row2_col18,#T_f1d73f4e_2d66_11eb_b6e9_0242ac1c0002row3_col2,#T_f1d73f4e_2d66_11eb_b6e9_0242ac1c0002row3_col4,#T_f1d73f4e_2d66_11eb_b6e9_0242ac1c0002row3_col8,#T_f1d73f4e_2d66_11eb_b6e9_0242ac1c0002row3_col10,#T_f1d73f4e_2d66_11eb_b6e9_0242ac1c0002row3_col12,#T_f1d73f4e_2d66_11eb_b6e9_0242ac1c0002row3_col14,#T_f1d73f4e_2d66_11eb_b6e9_0242ac1c0002row3_col18{\n",
              "            color:  green;\n",
              "             background:  lightyellow ;\n",
              "             font-size:  12px ;\n",
              "             font-weight:  bold;\n",
              "            color:  green;\n",
              "             background:  ghostwhite ;\n",
              "             font-size:  8px ;\n",
              "             font-weight:  lighter;\n",
              "            color:  green;\n",
              "             background:  lightyellow ;\n",
              "             font-size:  12px ;\n",
              "             font-weight:  bold;\n",
              "            color:  green;\n",
              "             background:  ghostwhite ;\n",
              "             font-size:  8px ;\n",
              "             font-weight:  lighter;\n",
              "        }#T_f1d73f4e_2d66_11eb_b6e9_0242ac1c0002row0_col1,#T_f1d73f4e_2d66_11eb_b6e9_0242ac1c0002row0_col3,#T_f1d73f4e_2d66_11eb_b6e9_0242ac1c0002row0_col5,#T_f1d73f4e_2d66_11eb_b6e9_0242ac1c0002row0_col7,#T_f1d73f4e_2d66_11eb_b6e9_0242ac1c0002row0_col9,#T_f1d73f4e_2d66_11eb_b6e9_0242ac1c0002row0_col11,#T_f1d73f4e_2d66_11eb_b6e9_0242ac1c0002row0_col13,#T_f1d73f4e_2d66_11eb_b6e9_0242ac1c0002row0_col17,#T_f1d73f4e_2d66_11eb_b6e9_0242ac1c0002row0_col19,#T_f1d73f4e_2d66_11eb_b6e9_0242ac1c0002row1_col1,#T_f1d73f4e_2d66_11eb_b6e9_0242ac1c0002row1_col3,#T_f1d73f4e_2d66_11eb_b6e9_0242ac1c0002row1_col5,#T_f1d73f4e_2d66_11eb_b6e9_0242ac1c0002row1_col7,#T_f1d73f4e_2d66_11eb_b6e9_0242ac1c0002row1_col9,#T_f1d73f4e_2d66_11eb_b6e9_0242ac1c0002row1_col11,#T_f1d73f4e_2d66_11eb_b6e9_0242ac1c0002row1_col13,#T_f1d73f4e_2d66_11eb_b6e9_0242ac1c0002row1_col19,#T_f1d73f4e_2d66_11eb_b6e9_0242ac1c0002row2_col1,#T_f1d73f4e_2d66_11eb_b6e9_0242ac1c0002row2_col3,#T_f1d73f4e_2d66_11eb_b6e9_0242ac1c0002row2_col5,#T_f1d73f4e_2d66_11eb_b6e9_0242ac1c0002row2_col7,#T_f1d73f4e_2d66_11eb_b6e9_0242ac1c0002row2_col9,#T_f1d73f4e_2d66_11eb_b6e9_0242ac1c0002row2_col11,#T_f1d73f4e_2d66_11eb_b6e9_0242ac1c0002row2_col13,#T_f1d73f4e_2d66_11eb_b6e9_0242ac1c0002row2_col19,#T_f1d73f4e_2d66_11eb_b6e9_0242ac1c0002row3_col3,#T_f1d73f4e_2d66_11eb_b6e9_0242ac1c0002row3_col5,#T_f1d73f4e_2d66_11eb_b6e9_0242ac1c0002row3_col9,#T_f1d73f4e_2d66_11eb_b6e9_0242ac1c0002row3_col11,#T_f1d73f4e_2d66_11eb_b6e9_0242ac1c0002row3_col13,#T_f1d73f4e_2d66_11eb_b6e9_0242ac1c0002row3_col19{\n",
              "            color:  green;\n",
              "             background:  lightyellow ;\n",
              "             font-size:  12px ;\n",
              "             font-weight:  bold;\n",
              "            color:  green;\n",
              "             background:  lightyellow ;\n",
              "             font-size:  12px ;\n",
              "             font-weight:  bold;\n",
              "        }#T_f1d73f4e_2d66_11eb_b6e9_0242ac1c0002row0_col14,#T_f1d73f4e_2d66_11eb_b6e9_0242ac1c0002row1_col14,#T_f1d73f4e_2d66_11eb_b6e9_0242ac1c0002row1_col16,#T_f1d73f4e_2d66_11eb_b6e9_0242ac1c0002row2_col14,#T_f1d73f4e_2d66_11eb_b6e9_0242ac1c0002row2_col16,#T_f1d73f4e_2d66_11eb_b6e9_0242ac1c0002row3_col0,#T_f1d73f4e_2d66_11eb_b6e9_0242ac1c0002row3_col16{\n",
              "            color:  green;\n",
              "             background:  lightyellow ;\n",
              "             font-size:  12px ;\n",
              "             font-weight:  bold;\n",
              "            background-color:  white;\n",
              "            color:  green;\n",
              "             background:  ghostwhite ;\n",
              "             font-size:  8px ;\n",
              "             font-weight:  lighter;\n",
              "            color:  green;\n",
              "             background:  lightyellow ;\n",
              "             font-size:  12px ;\n",
              "             font-weight:  bold;\n",
              "            background-color:  white;\n",
              "            color:  green;\n",
              "             background:  ghostwhite ;\n",
              "             font-size:  8px ;\n",
              "             font-weight:  lighter;\n",
              "        }#T_f1d73f4e_2d66_11eb_b6e9_0242ac1c0002row0_col15,#T_f1d73f4e_2d66_11eb_b6e9_0242ac1c0002row1_col15,#T_f1d73f4e_2d66_11eb_b6e9_0242ac1c0002row1_col17,#T_f1d73f4e_2d66_11eb_b6e9_0242ac1c0002row2_col15,#T_f1d73f4e_2d66_11eb_b6e9_0242ac1c0002row2_col17,#T_f1d73f4e_2d66_11eb_b6e9_0242ac1c0002row3_col1,#T_f1d73f4e_2d66_11eb_b6e9_0242ac1c0002row3_col17{\n",
              "            color:  green;\n",
              "             background:  lightyellow ;\n",
              "             font-size:  12px ;\n",
              "             font-weight:  bold;\n",
              "            background-color:  white;\n",
              "            color:  green;\n",
              "             background:  lightyellow ;\n",
              "             font-size:  12px ;\n",
              "             font-weight:  bold;\n",
              "            background-color:  white;\n",
              "        }#T_f1d73f4e_2d66_11eb_b6e9_0242ac1c0002row0_col20,#T_f1d73f4e_2d66_11eb_b6e9_0242ac1c0002row1_col20,#T_f1d73f4e_2d66_11eb_b6e9_0242ac1c0002row2_col20,#T_f1d73f4e_2d66_11eb_b6e9_0242ac1c0002row3_col20,#T_f1d73f4e_2d66_11eb_b6e9_0242ac1c0002row4_col1,#T_f1d73f4e_2d66_11eb_b6e9_0242ac1c0002row4_col3,#T_f1d73f4e_2d66_11eb_b6e9_0242ac1c0002row4_col5,#T_f1d73f4e_2d66_11eb_b6e9_0242ac1c0002row4_col7,#T_f1d73f4e_2d66_11eb_b6e9_0242ac1c0002row4_col9,#T_f1d73f4e_2d66_11eb_b6e9_0242ac1c0002row4_col11,#T_f1d73f4e_2d66_11eb_b6e9_0242ac1c0002row4_col13,#T_f1d73f4e_2d66_11eb_b6e9_0242ac1c0002row4_col17,#T_f1d73f4e_2d66_11eb_b6e9_0242ac1c0002row4_col19{\n",
              "            color:  green;\n",
              "             background:  lightyellow ;\n",
              "             font-size:  12px ;\n",
              "             font-weight:  bold;\n",
              "            color:  black;\n",
              "             background:  burlywood ;\n",
              "             font-size:  12px ;\n",
              "             font-weight:  bold;\n",
              "            color:  green;\n",
              "             background:  lightyellow ;\n",
              "             font-size:  12px ;\n",
              "             font-weight:  bold;\n",
              "            color:  black;\n",
              "             background:  burlywood ;\n",
              "             font-size:  12px ;\n",
              "             font-weight:  bold;\n",
              "        }#T_f1d73f4e_2d66_11eb_b6e9_0242ac1c0002row0_col21,#T_f1d73f4e_2d66_11eb_b6e9_0242ac1c0002row1_col21,#T_f1d73f4e_2d66_11eb_b6e9_0242ac1c0002row2_col21{\n",
              "            color:  red;\n",
              "             background:  khaki ;\n",
              "             font-size:  12px ;\n",
              "             font-weight:  bold;\n",
              "            color:  black;\n",
              "             background:  darkkhaki ;\n",
              "             font-weight:  bold ;\n",
              "             font-size:  12px;\n",
              "            color:  red;\n",
              "             background:  khaki ;\n",
              "             font-size:  12px ;\n",
              "             font-weight:  bold;\n",
              "            color:  black;\n",
              "             background:  darkkhaki ;\n",
              "             font-weight:  bold ;\n",
              "             font-size:  12px;\n",
              "        }#T_f1d73f4e_2d66_11eb_b6e9_0242ac1c0002row3_col6{\n",
              "            color:  red;\n",
              "             background:  khaki ;\n",
              "             font-size:  12px ;\n",
              "             font-weight:  bold;\n",
              "            color:  red;\n",
              "             background:  khaki ;\n",
              "             font-size:  8px ;\n",
              "             font-weight:  lighter;\n",
              "            color:  red;\n",
              "             background:  khaki ;\n",
              "             font-size:  12px ;\n",
              "             font-weight:  bold;\n",
              "            color:  red;\n",
              "             background:  khaki ;\n",
              "             font-size:  8px ;\n",
              "             font-weight:  lighter;\n",
              "        }#T_f1d73f4e_2d66_11eb_b6e9_0242ac1c0002row3_col7,#T_f1d73f4e_2d66_11eb_b6e9_0242ac1c0002row3_col15{\n",
              "            color:  red;\n",
              "             background:  khaki ;\n",
              "             font-size:  12px ;\n",
              "             font-weight:  bold;\n",
              "            color:  red;\n",
              "             background:  khaki ;\n",
              "             font-size:  12px ;\n",
              "             font-weight:  bold;\n",
              "        }#T_f1d73f4e_2d66_11eb_b6e9_0242ac1c0002row3_col21{\n",
              "            color:  red;\n",
              "             background:  khaki ;\n",
              "             font-size:  12px ;\n",
              "             font-weight:  bold;\n",
              "            color:  red;\n",
              "             background:  gold ;\n",
              "             font-weight:  bold ;\n",
              "             font-size:  12px;\n",
              "            color:  red;\n",
              "             background:  khaki ;\n",
              "             font-size:  12px ;\n",
              "             font-weight:  bold;\n",
              "            color:  red;\n",
              "             background:  gold ;\n",
              "             font-weight:  bold ;\n",
              "             font-size:  12px;\n",
              "        }#T_f1d73f4e_2d66_11eb_b6e9_0242ac1c0002row4_col0,#T_f1d73f4e_2d66_11eb_b6e9_0242ac1c0002row4_col2,#T_f1d73f4e_2d66_11eb_b6e9_0242ac1c0002row4_col4,#T_f1d73f4e_2d66_11eb_b6e9_0242ac1c0002row4_col6,#T_f1d73f4e_2d66_11eb_b6e9_0242ac1c0002row4_col8,#T_f1d73f4e_2d66_11eb_b6e9_0242ac1c0002row4_col10,#T_f1d73f4e_2d66_11eb_b6e9_0242ac1c0002row4_col12,#T_f1d73f4e_2d66_11eb_b6e9_0242ac1c0002row4_col14,#T_f1d73f4e_2d66_11eb_b6e9_0242ac1c0002row4_col16,#T_f1d73f4e_2d66_11eb_b6e9_0242ac1c0002row4_col18{\n",
              "            color:  green;\n",
              "             background:  lightyellow ;\n",
              "             font-size:  12px ;\n",
              "             font-weight:  bold;\n",
              "            color:  black;\n",
              "             background:  burlywood ;\n",
              "             font-size:  12px ;\n",
              "             font-weight:  bold;\n",
              "            color:  green;\n",
              "             background:  ghostwhite ;\n",
              "             font-size:  8px ;\n",
              "             font-weight:  lighter;\n",
              "            color:  green;\n",
              "             background:  lightyellow ;\n",
              "             font-size:  12px ;\n",
              "             font-weight:  bold;\n",
              "            color:  black;\n",
              "             background:  burlywood ;\n",
              "             font-size:  12px ;\n",
              "             font-weight:  bold;\n",
              "            color:  green;\n",
              "             background:  ghostwhite ;\n",
              "             font-size:  8px ;\n",
              "             font-weight:  lighter;\n",
              "        }#T_f1d73f4e_2d66_11eb_b6e9_0242ac1c0002row4_col15{\n",
              "            color:  red;\n",
              "             background:  khaki ;\n",
              "             font-size:  12px ;\n",
              "             font-weight:  bold;\n",
              "            color:  red;\n",
              "             background:  gold ;\n",
              "             font-size:  12px ;\n",
              "             font-weight:  bold;\n",
              "            color:  red;\n",
              "             background:  khaki ;\n",
              "             font-size:  12px ;\n",
              "             font-weight:  bold;\n",
              "            color:  red;\n",
              "             background:  gold ;\n",
              "             font-size:  12px ;\n",
              "             font-weight:  bold;\n",
              "        }#T_f1d73f4e_2d66_11eb_b6e9_0242ac1c0002row4_col20{\n",
              "            color:  green;\n",
              "             background:  lightyellow ;\n",
              "             font-size:  12px ;\n",
              "             font-weight:  bold;\n",
              "            color:  black;\n",
              "             background:  burlywood ;\n",
              "             font-size:  12px ;\n",
              "             font-weight:  bold;\n",
              "            color:  black;\n",
              "             background:  burlywood ;\n",
              "             font-size:  12px ;\n",
              "             font-weight:  bold;\n",
              "            color:  green;\n",
              "             background:  lightyellow ;\n",
              "             font-size:  12px ;\n",
              "             font-weight:  bold;\n",
              "            color:  black;\n",
              "             background:  burlywood ;\n",
              "             font-size:  12px ;\n",
              "             font-weight:  bold;\n",
              "            color:  black;\n",
              "             background:  burlywood ;\n",
              "             font-size:  12px ;\n",
              "             font-weight:  bold;\n",
              "        }#T_f1d73f4e_2d66_11eb_b6e9_0242ac1c0002row4_col21{\n",
              "            color:  red;\n",
              "             background:  khaki ;\n",
              "             font-size:  12px ;\n",
              "             font-weight:  bold;\n",
              "            color:  red;\n",
              "             background:  gold ;\n",
              "             font-size:  12px ;\n",
              "             font-weight:  bold;\n",
              "            color:  red;\n",
              "             background:  gold ;\n",
              "             font-weight:  bold ;\n",
              "             font-size:  12px;\n",
              "            color:  red;\n",
              "             background:  khaki ;\n",
              "             font-size:  12px ;\n",
              "             font-weight:  bold;\n",
              "            color:  red;\n",
              "             background:  gold ;\n",
              "             font-size:  12px ;\n",
              "             font-weight:  bold;\n",
              "            color:  red;\n",
              "             background:  gold ;\n",
              "             font-weight:  bold ;\n",
              "             font-size:  12px;\n",
              "        }</style><table id=\"T_f1d73f4e_2d66_11eb_b6e9_0242ac1c0002\" ><thead>    <tr>        <th class=\"index_name level0\" >Asignatura</th>        <th class=\"col_heading level0 col0\" colspan=2>2FR II</th>        <th class=\"col_heading level0 col2\" colspan=2>BI</th>        <th class=\"col_heading level0 col4\" colspan=2>CTM</th>        <th class=\"col_heading level0 col6\" colspan=2>HE</th>        <th class=\"col_heading level0 col8\" colspan=2>IN II</th>        <th class=\"col_heading level0 col10\" colspan=2>LC2</th>        <th class=\"col_heading level0 col12\" colspan=2>MA2</th>        <th class=\"col_heading level0 col14\" colspan=2>PS</th>        <th class=\"col_heading level0 col16\" colspan=2>PSC</th>        <th class=\"col_heading level0 col18\" colspan=2>QU</th>        <th class=\"col_heading level0 col20\" >NM</th>        <th class=\"col_heading level0 col21\" >MNS</th>    </tr>    <tr>        <th class=\"index_name level1\" >Eval</th>        <th class=\"col_heading level1 col0\" >1</th>        <th class=\"col_heading level1 col1\" >2</th>        <th class=\"col_heading level1 col2\" >1</th>        <th class=\"col_heading level1 col3\" >2</th>        <th class=\"col_heading level1 col4\" >1</th>        <th class=\"col_heading level1 col5\" >2</th>        <th class=\"col_heading level1 col6\" >1</th>        <th class=\"col_heading level1 col7\" >2</th>        <th class=\"col_heading level1 col8\" >1</th>        <th class=\"col_heading level1 col9\" >2</th>        <th class=\"col_heading level1 col10\" >1</th>        <th class=\"col_heading level1 col11\" >2</th>        <th class=\"col_heading level1 col12\" >1</th>        <th class=\"col_heading level1 col13\" >2</th>        <th class=\"col_heading level1 col14\" >1</th>        <th class=\"col_heading level1 col15\" >2</th>        <th class=\"col_heading level1 col16\" >1</th>        <th class=\"col_heading level1 col17\" >2</th>        <th class=\"col_heading level1 col18\" >1</th>        <th class=\"col_heading level1 col19\" >2</th>        <th class=\"col_heading level1 col20\" >2</th>        <th class=\"col_heading level1 col21\" >2</th>    </tr></thead><tbody>\n",
              "                <tr>\n",
              "                        <th id=\"T_f1d73f4e_2d66_11eb_b6e9_0242ac1c0002level0_row0\" class=\"row_heading level0 row0\" >Alumno_1</th>\n",
              "                        <td id=\"T_f1d73f4e_2d66_11eb_b6e9_0242ac1c0002row0_col0\" class=\"data row0 col0\" >8</td>\n",
              "                        <td id=\"T_f1d73f4e_2d66_11eb_b6e9_0242ac1c0002row0_col1\" class=\"data row0 col1\" >7</td>\n",
              "                        <td id=\"T_f1d73f4e_2d66_11eb_b6e9_0242ac1c0002row0_col2\" class=\"data row0 col2\" >7</td>\n",
              "                        <td id=\"T_f1d73f4e_2d66_11eb_b6e9_0242ac1c0002row0_col3\" class=\"data row0 col3\" >5</td>\n",
              "                        <td id=\"T_f1d73f4e_2d66_11eb_b6e9_0242ac1c0002row0_col4\" class=\"data row0 col4\" >7</td>\n",
              "                        <td id=\"T_f1d73f4e_2d66_11eb_b6e9_0242ac1c0002row0_col5\" class=\"data row0 col5\" >7</td>\n",
              "                        <td id=\"T_f1d73f4e_2d66_11eb_b6e9_0242ac1c0002row0_col6\" class=\"data row0 col6\" >5</td>\n",
              "                        <td id=\"T_f1d73f4e_2d66_11eb_b6e9_0242ac1c0002row0_col7\" class=\"data row0 col7\" >6</td>\n",
              "                        <td id=\"T_f1d73f4e_2d66_11eb_b6e9_0242ac1c0002row0_col8\" class=\"data row0 col8\" >10</td>\n",
              "                        <td id=\"T_f1d73f4e_2d66_11eb_b6e9_0242ac1c0002row0_col9\" class=\"data row0 col9\" >10</td>\n",
              "                        <td id=\"T_f1d73f4e_2d66_11eb_b6e9_0242ac1c0002row0_col10\" class=\"data row0 col10\" >6</td>\n",
              "                        <td id=\"T_f1d73f4e_2d66_11eb_b6e9_0242ac1c0002row0_col11\" class=\"data row0 col11\" >5</td>\n",
              "                        <td id=\"T_f1d73f4e_2d66_11eb_b6e9_0242ac1c0002row0_col12\" class=\"data row0 col12\" >7</td>\n",
              "                        <td id=\"T_f1d73f4e_2d66_11eb_b6e9_0242ac1c0002row0_col13\" class=\"data row0 col13\" >7</td>\n",
              "                        <td id=\"T_f1d73f4e_2d66_11eb_b6e9_0242ac1c0002row0_col14\" class=\"data row0 col14\" >-</td>\n",
              "                        <td id=\"T_f1d73f4e_2d66_11eb_b6e9_0242ac1c0002row0_col15\" class=\"data row0 col15\" >-</td>\n",
              "                        <td id=\"T_f1d73f4e_2d66_11eb_b6e9_0242ac1c0002row0_col16\" class=\"data row0 col16\" >8</td>\n",
              "                        <td id=\"T_f1d73f4e_2d66_11eb_b6e9_0242ac1c0002row0_col17\" class=\"data row0 col17\" >9</td>\n",
              "                        <td id=\"T_f1d73f4e_2d66_11eb_b6e9_0242ac1c0002row0_col18\" class=\"data row0 col18\" >6</td>\n",
              "                        <td id=\"T_f1d73f4e_2d66_11eb_b6e9_0242ac1c0002row0_col19\" class=\"data row0 col19\" >7</td>\n",
              "                        <td id=\"T_f1d73f4e_2d66_11eb_b6e9_0242ac1c0002row0_col20\" class=\"data row0 col20\" >7.0</td>\n",
              "                        <td id=\"T_f1d73f4e_2d66_11eb_b6e9_0242ac1c0002row0_col21\" class=\"data row0 col21\" >0</td>\n",
              "            </tr>\n",
              "            <tr>\n",
              "                        <th id=\"T_f1d73f4e_2d66_11eb_b6e9_0242ac1c0002level0_row1\" class=\"row_heading level0 row1\" >Alumno_2</th>\n",
              "                        <td id=\"T_f1d73f4e_2d66_11eb_b6e9_0242ac1c0002row1_col0\" class=\"data row1 col0\" >7</td>\n",
              "                        <td id=\"T_f1d73f4e_2d66_11eb_b6e9_0242ac1c0002row1_col1\" class=\"data row1 col1\" >8</td>\n",
              "                        <td id=\"T_f1d73f4e_2d66_11eb_b6e9_0242ac1c0002row1_col2\" class=\"data row1 col2\" >8</td>\n",
              "                        <td id=\"T_f1d73f4e_2d66_11eb_b6e9_0242ac1c0002row1_col3\" class=\"data row1 col3\" >7</td>\n",
              "                        <td id=\"T_f1d73f4e_2d66_11eb_b6e9_0242ac1c0002row1_col4\" class=\"data row1 col4\" >9</td>\n",
              "                        <td id=\"T_f1d73f4e_2d66_11eb_b6e9_0242ac1c0002row1_col5\" class=\"data row1 col5\" >8</td>\n",
              "                        <td id=\"T_f1d73f4e_2d66_11eb_b6e9_0242ac1c0002row1_col6\" class=\"data row1 col6\" >7</td>\n",
              "                        <td id=\"T_f1d73f4e_2d66_11eb_b6e9_0242ac1c0002row1_col7\" class=\"data row1 col7\" >7</td>\n",
              "                        <td id=\"T_f1d73f4e_2d66_11eb_b6e9_0242ac1c0002row1_col8\" class=\"data row1 col8\" >9</td>\n",
              "                        <td id=\"T_f1d73f4e_2d66_11eb_b6e9_0242ac1c0002row1_col9\" class=\"data row1 col9\" >9</td>\n",
              "                        <td id=\"T_f1d73f4e_2d66_11eb_b6e9_0242ac1c0002row1_col10\" class=\"data row1 col10\" >7</td>\n",
              "                        <td id=\"T_f1d73f4e_2d66_11eb_b6e9_0242ac1c0002row1_col11\" class=\"data row1 col11\" >7</td>\n",
              "                        <td id=\"T_f1d73f4e_2d66_11eb_b6e9_0242ac1c0002row1_col12\" class=\"data row1 col12\" >9</td>\n",
              "                        <td id=\"T_f1d73f4e_2d66_11eb_b6e9_0242ac1c0002row1_col13\" class=\"data row1 col13\" >8</td>\n",
              "                        <td id=\"T_f1d73f4e_2d66_11eb_b6e9_0242ac1c0002row1_col14\" class=\"data row1 col14\" >-</td>\n",
              "                        <td id=\"T_f1d73f4e_2d66_11eb_b6e9_0242ac1c0002row1_col15\" class=\"data row1 col15\" >-</td>\n",
              "                        <td id=\"T_f1d73f4e_2d66_11eb_b6e9_0242ac1c0002row1_col16\" class=\"data row1 col16\" >-</td>\n",
              "                        <td id=\"T_f1d73f4e_2d66_11eb_b6e9_0242ac1c0002row1_col17\" class=\"data row1 col17\" >-</td>\n",
              "                        <td id=\"T_f1d73f4e_2d66_11eb_b6e9_0242ac1c0002row1_col18\" class=\"data row1 col18\" >9</td>\n",
              "                        <td id=\"T_f1d73f4e_2d66_11eb_b6e9_0242ac1c0002row1_col19\" class=\"data row1 col19\" >7</td>\n",
              "                        <td id=\"T_f1d73f4e_2d66_11eb_b6e9_0242ac1c0002row1_col20\" class=\"data row1 col20\" >7.6</td>\n",
              "                        <td id=\"T_f1d73f4e_2d66_11eb_b6e9_0242ac1c0002row1_col21\" class=\"data row1 col21\" >0</td>\n",
              "            </tr>\n",
              "            <tr>\n",
              "                        <th id=\"T_f1d73f4e_2d66_11eb_b6e9_0242ac1c0002level0_row2\" class=\"row_heading level0 row2\" >Alumno_3</th>\n",
              "                        <td id=\"T_f1d73f4e_2d66_11eb_b6e9_0242ac1c0002row2_col0\" class=\"data row2 col0\" >8</td>\n",
              "                        <td id=\"T_f1d73f4e_2d66_11eb_b6e9_0242ac1c0002row2_col1\" class=\"data row2 col1\" >7</td>\n",
              "                        <td id=\"T_f1d73f4e_2d66_11eb_b6e9_0242ac1c0002row2_col2\" class=\"data row2 col2\" >7</td>\n",
              "                        <td id=\"T_f1d73f4e_2d66_11eb_b6e9_0242ac1c0002row2_col3\" class=\"data row2 col3\" >8</td>\n",
              "                        <td id=\"T_f1d73f4e_2d66_11eb_b6e9_0242ac1c0002row2_col4\" class=\"data row2 col4\" >9</td>\n",
              "                        <td id=\"T_f1d73f4e_2d66_11eb_b6e9_0242ac1c0002row2_col5\" class=\"data row2 col5\" >8</td>\n",
              "                        <td id=\"T_f1d73f4e_2d66_11eb_b6e9_0242ac1c0002row2_col6\" class=\"data row2 col6\" >6</td>\n",
              "                        <td id=\"T_f1d73f4e_2d66_11eb_b6e9_0242ac1c0002row2_col7\" class=\"data row2 col7\" >6</td>\n",
              "                        <td id=\"T_f1d73f4e_2d66_11eb_b6e9_0242ac1c0002row2_col8\" class=\"data row2 col8\" >9</td>\n",
              "                        <td id=\"T_f1d73f4e_2d66_11eb_b6e9_0242ac1c0002row2_col9\" class=\"data row2 col9\" >9</td>\n",
              "                        <td id=\"T_f1d73f4e_2d66_11eb_b6e9_0242ac1c0002row2_col10\" class=\"data row2 col10\" >7</td>\n",
              "                        <td id=\"T_f1d73f4e_2d66_11eb_b6e9_0242ac1c0002row2_col11\" class=\"data row2 col11\" >5</td>\n",
              "                        <td id=\"T_f1d73f4e_2d66_11eb_b6e9_0242ac1c0002row2_col12\" class=\"data row2 col12\" >7</td>\n",
              "                        <td id=\"T_f1d73f4e_2d66_11eb_b6e9_0242ac1c0002row2_col13\" class=\"data row2 col13\" >8</td>\n",
              "                        <td id=\"T_f1d73f4e_2d66_11eb_b6e9_0242ac1c0002row2_col14\" class=\"data row2 col14\" >-</td>\n",
              "                        <td id=\"T_f1d73f4e_2d66_11eb_b6e9_0242ac1c0002row2_col15\" class=\"data row2 col15\" >-</td>\n",
              "                        <td id=\"T_f1d73f4e_2d66_11eb_b6e9_0242ac1c0002row2_col16\" class=\"data row2 col16\" >-</td>\n",
              "                        <td id=\"T_f1d73f4e_2d66_11eb_b6e9_0242ac1c0002row2_col17\" class=\"data row2 col17\" >-</td>\n",
              "                        <td id=\"T_f1d73f4e_2d66_11eb_b6e9_0242ac1c0002row2_col18\" class=\"data row2 col18\" >6</td>\n",
              "                        <td id=\"T_f1d73f4e_2d66_11eb_b6e9_0242ac1c0002row2_col19\" class=\"data row2 col19\" >8</td>\n",
              "                        <td id=\"T_f1d73f4e_2d66_11eb_b6e9_0242ac1c0002row2_col20\" class=\"data row2 col20\" >7.4</td>\n",
              "                        <td id=\"T_f1d73f4e_2d66_11eb_b6e9_0242ac1c0002row2_col21\" class=\"data row2 col21\" >0</td>\n",
              "            </tr>\n",
              "            <tr>\n",
              "                        <th id=\"T_f1d73f4e_2d66_11eb_b6e9_0242ac1c0002level0_row3\" class=\"row_heading level0 row3\" >Alumno_4</th>\n",
              "                        <td id=\"T_f1d73f4e_2d66_11eb_b6e9_0242ac1c0002row3_col0\" class=\"data row3 col0\" >-</td>\n",
              "                        <td id=\"T_f1d73f4e_2d66_11eb_b6e9_0242ac1c0002row3_col1\" class=\"data row3 col1\" >-</td>\n",
              "                        <td id=\"T_f1d73f4e_2d66_11eb_b6e9_0242ac1c0002row3_col2\" class=\"data row3 col2\" >7</td>\n",
              "                        <td id=\"T_f1d73f4e_2d66_11eb_b6e9_0242ac1c0002row3_col3\" class=\"data row3 col3\" >7</td>\n",
              "                        <td id=\"T_f1d73f4e_2d66_11eb_b6e9_0242ac1c0002row3_col4\" class=\"data row3 col4\" >8</td>\n",
              "                        <td id=\"T_f1d73f4e_2d66_11eb_b6e9_0242ac1c0002row3_col5\" class=\"data row3 col5\" >7</td>\n",
              "                        <td id=\"T_f1d73f4e_2d66_11eb_b6e9_0242ac1c0002row3_col6\" class=\"data row3 col6\" >3</td>\n",
              "                        <td id=\"T_f1d73f4e_2d66_11eb_b6e9_0242ac1c0002row3_col7\" class=\"data row3 col7\" >2</td>\n",
              "                        <td id=\"T_f1d73f4e_2d66_11eb_b6e9_0242ac1c0002row3_col8\" class=\"data row3 col8\" >7</td>\n",
              "                        <td id=\"T_f1d73f4e_2d66_11eb_b6e9_0242ac1c0002row3_col9\" class=\"data row3 col9\" >8</td>\n",
              "                        <td id=\"T_f1d73f4e_2d66_11eb_b6e9_0242ac1c0002row3_col10\" class=\"data row3 col10\" >7</td>\n",
              "                        <td id=\"T_f1d73f4e_2d66_11eb_b6e9_0242ac1c0002row3_col11\" class=\"data row3 col11\" >6</td>\n",
              "                        <td id=\"T_f1d73f4e_2d66_11eb_b6e9_0242ac1c0002row3_col12\" class=\"data row3 col12\" >10</td>\n",
              "                        <td id=\"T_f1d73f4e_2d66_11eb_b6e9_0242ac1c0002row3_col13\" class=\"data row3 col13\" >10</td>\n",
              "                        <td id=\"T_f1d73f4e_2d66_11eb_b6e9_0242ac1c0002row3_col14\" class=\"data row3 col14\" >8</td>\n",
              "                        <td id=\"T_f1d73f4e_2d66_11eb_b6e9_0242ac1c0002row3_col15\" class=\"data row3 col15\" >2</td>\n",
              "                        <td id=\"T_f1d73f4e_2d66_11eb_b6e9_0242ac1c0002row3_col16\" class=\"data row3 col16\" >-</td>\n",
              "                        <td id=\"T_f1d73f4e_2d66_11eb_b6e9_0242ac1c0002row3_col17\" class=\"data row3 col17\" >-</td>\n",
              "                        <td id=\"T_f1d73f4e_2d66_11eb_b6e9_0242ac1c0002row3_col18\" class=\"data row3 col18\" >7</td>\n",
              "                        <td id=\"T_f1d73f4e_2d66_11eb_b6e9_0242ac1c0002row3_col19\" class=\"data row3 col19\" >8</td>\n",
              "                        <td id=\"T_f1d73f4e_2d66_11eb_b6e9_0242ac1c0002row3_col20\" class=\"data row3 col20\" >6.2</td>\n",
              "                        <td id=\"T_f1d73f4e_2d66_11eb_b6e9_0242ac1c0002row3_col21\" class=\"data row3 col21\" >2</td>\n",
              "            </tr>\n",
              "            <tr>\n",
              "                        <th id=\"T_f1d73f4e_2d66_11eb_b6e9_0242ac1c0002level0_row4\" class=\"row_heading level0 row4\" >Media</th>\n",
              "                        <td id=\"T_f1d73f4e_2d66_11eb_b6e9_0242ac1c0002row4_col0\" class=\"data row4 col0\" >7.7</td>\n",
              "                        <td id=\"T_f1d73f4e_2d66_11eb_b6e9_0242ac1c0002row4_col1\" class=\"data row4 col1\" >7.3</td>\n",
              "                        <td id=\"T_f1d73f4e_2d66_11eb_b6e9_0242ac1c0002row4_col2\" class=\"data row4 col2\" >7.2</td>\n",
              "                        <td id=\"T_f1d73f4e_2d66_11eb_b6e9_0242ac1c0002row4_col3\" class=\"data row4 col3\" >6.8</td>\n",
              "                        <td id=\"T_f1d73f4e_2d66_11eb_b6e9_0242ac1c0002row4_col4\" class=\"data row4 col4\" >8.2</td>\n",
              "                        <td id=\"T_f1d73f4e_2d66_11eb_b6e9_0242ac1c0002row4_col5\" class=\"data row4 col5\" >7.5</td>\n",
              "                        <td id=\"T_f1d73f4e_2d66_11eb_b6e9_0242ac1c0002row4_col6\" class=\"data row4 col6\" >5.2</td>\n",
              "                        <td id=\"T_f1d73f4e_2d66_11eb_b6e9_0242ac1c0002row4_col7\" class=\"data row4 col7\" >5.2</td>\n",
              "                        <td id=\"T_f1d73f4e_2d66_11eb_b6e9_0242ac1c0002row4_col8\" class=\"data row4 col8\" >8.8</td>\n",
              "                        <td id=\"T_f1d73f4e_2d66_11eb_b6e9_0242ac1c0002row4_col9\" class=\"data row4 col9\" >9.0</td>\n",
              "                        <td id=\"T_f1d73f4e_2d66_11eb_b6e9_0242ac1c0002row4_col10\" class=\"data row4 col10\" >6.8</td>\n",
              "                        <td id=\"T_f1d73f4e_2d66_11eb_b6e9_0242ac1c0002row4_col11\" class=\"data row4 col11\" >5.8</td>\n",
              "                        <td id=\"T_f1d73f4e_2d66_11eb_b6e9_0242ac1c0002row4_col12\" class=\"data row4 col12\" >8.2</td>\n",
              "                        <td id=\"T_f1d73f4e_2d66_11eb_b6e9_0242ac1c0002row4_col13\" class=\"data row4 col13\" >8.2</td>\n",
              "                        <td id=\"T_f1d73f4e_2d66_11eb_b6e9_0242ac1c0002row4_col14\" class=\"data row4 col14\" >8.0</td>\n",
              "                        <td id=\"T_f1d73f4e_2d66_11eb_b6e9_0242ac1c0002row4_col15\" class=\"data row4 col15\" >2.0</td>\n",
              "                        <td id=\"T_f1d73f4e_2d66_11eb_b6e9_0242ac1c0002row4_col16\" class=\"data row4 col16\" >8.0</td>\n",
              "                        <td id=\"T_f1d73f4e_2d66_11eb_b6e9_0242ac1c0002row4_col17\" class=\"data row4 col17\" >9.0</td>\n",
              "                        <td id=\"T_f1d73f4e_2d66_11eb_b6e9_0242ac1c0002row4_col18\" class=\"data row4 col18\" >7.0</td>\n",
              "                        <td id=\"T_f1d73f4e_2d66_11eb_b6e9_0242ac1c0002row4_col19\" class=\"data row4 col19\" >7.5</td>\n",
              "                        <td id=\"T_f1d73f4e_2d66_11eb_b6e9_0242ac1c0002row4_col20\" class=\"data row4 col20\" >7.1</td>\n",
              "                        <td id=\"T_f1d73f4e_2d66_11eb_b6e9_0242ac1c0002row4_col21\" class=\"data row4 col21\" >2</td>\n",
              "            </tr>\n",
              "    </tbody></table>"
            ],
            "text/plain": [
              "<pandas.io.formats.style.Styler at 0x7f4fbb507d68>"
            ]
          },
          "metadata": {
            "tags": []
          },
          "execution_count": 10
        }
      ]
    },
    {
      "cell_type": "code",
      "metadata": {
        "colab": {
          "base_uri": "https://localhost:8080/",
          "height": 324
        },
        "id": "9RTOIef5CAy9",
        "outputId": "d3385b55-3142-41a7-f6cc-2e7c206cd931"
      },
      "source": [
        "import imgkit\n",
        "imgkit.from_string(actilla_estilada.render(),'actilla.png')"
      ],
      "execution_count": null,
      "outputs": [
        {
          "output_type": "stream",
          "text": [
            "Loading page (1/2)\n",
            "[>                                                           ] 0%\r[======>                                                     ] 10%\r[==============================>                             ] 50%\r[============================================================] 100%\rRendering (2/2)                                                    \n",
            "[>                                                           ] 0%\r[===============>                                            ] 25%\r[============================================================] 100%\rDone                                                               \n"
          ],
          "name": "stdout"
        },
        {
          "output_type": "execute_result",
          "data": {
            "text/plain": [
              "True"
            ]
          },
          "metadata": {
            "tags": []
          },
          "execution_count": 5
        }
      ]
    },
    {
      "cell_type": "code",
      "metadata": {
        "id": "17EzHx0ECAy-"
      },
      "source": [
        "f = open(\"acta_{}ev.md\".format(ultima_evaluacion), \"w\")\n",
        "texto = \"# Acta de la {}ª evaluación \\n ## Informe actilla: \\n ![](actilla.png) \\n ## Resultados generales: \\n\".format(ultima_evaluacion)\n",
        "f.write(texto)\n",
        "f.close()"
      ],
      "execution_count": null,
      "outputs": []
    },
    {
      "cell_type": "code",
      "metadata": {
        "id": "pghK9bMfPKG8"
      },
      "source": [
        "def analisis_df(df, txt_intro =\"tenemos los siguientes datos: \\n \",txt_mejor=\"Sube {}:\", txt_peor=\"Baja {}:\", txt_igual=\"Se mantiene {}:\", solo_diferencias=False) :\n",
        "    # analiza los datos de un dataframe donde en el indice están las evaluaciones y en las columnas los items a analizar\n",
        "    if max(df.index)  > 1 :\n",
        "        ix = list(df2.index).index(ultima_evaluacion)\n",
        "        txt = \"En la {}ª evaluación \".format(ultima_evaluacion)+txt_intro\n",
        "        for c in range(len(df.columns)) :\n",
        "            if (df2.iloc[ix,c] - df2.iloc[ix-1,c]) > 0 : txt2 = txt_mejor.format(df[df.columns[c]].name)+\" Pasa de {} a {}. \".format(str(df2.iloc[ix-1,c]),str(df2.iloc[ix,c]))\n",
        "            elif (df2.iloc[ix,c] - df2.iloc[ix-1,c]) < 0 : txt2 = txt_peor.format(df[df.columns[c]].name)+\" Pasa de {} a {}. \".format(str(df2.iloc[ix-1,c]),str(df2.iloc[ix,c]))\n",
        "            elif (solo_diferencias) : txt2=\"\"\n",
        "            else : txt2 = txt_igual.format(df[df.columns[c]].name)+\" Se mantiene en {}. \".format(str(df2.iloc[ix,c]))              \n",
        "            txt += txt2\n",
        "            \n",
        "        \n",
        "    else :\n",
        "        txt = \"En la 1ª evaluación \"+txt_intro\n",
        "        txt += \", \".join([\"{} es {}\".format(df[df.columns[c]].name,str(df2.iloc[0,c])) for c in range(len(df.columns))])\n",
        "#         for c in range(len(df.columns)):\n",
        "#             txt += \"{} es {}\".format(df[df.columns[c]].name,str(df2.iloc[0,c]))\n",
        "            \n",
        "    \n",
        "\n",
        "    return txt, [df[df.columns[i]] for i in range(len(df.columns))]\n",
        "\n"
      ],
      "execution_count": 68,
      "outputs": []
    },
    {
      "cell_type": "code",
      "metadata": {
        "colab": {
          "base_uri": "https://localhost:8080/",
          "height": 143
        },
        "id": "imzsTuZEDvrG",
        "outputId": "5d229f72-37e8-44eb-a62c-6ae0f894a369"
      },
      "source": [
        "df = actilla_final.groupby(['Eval'])[['Alumno','Nota','Suspenso']].aggregate({'Alumno':'nunique','Nota':'mean','Suspenso':'sum'}).rename(columns={'Alumno':'N_al', 'Nota':'Media', 'Suspenso':'N_susp'})\n",
        "df['Susp_alu']=df['N_susp']/df['N_al']\n",
        "df['Media']=df['Media'].round(2)\n",
        "df\n",
        "\n"
      ],
      "execution_count": 12,
      "outputs": [
        {
          "output_type": "execute_result",
          "data": {
            "text/html": [
              "<div>\n",
              "<style scoped>\n",
              "    .dataframe tbody tr th:only-of-type {\n",
              "        vertical-align: middle;\n",
              "    }\n",
              "\n",
              "    .dataframe tbody tr th {\n",
              "        vertical-align: top;\n",
              "    }\n",
              "\n",
              "    .dataframe thead th {\n",
              "        text-align: right;\n",
              "    }\n",
              "</style>\n",
              "<table border=\"1\" class=\"dataframe\">\n",
              "  <thead>\n",
              "    <tr style=\"text-align: right;\">\n",
              "      <th></th>\n",
              "      <th>N_al</th>\n",
              "      <th>Media</th>\n",
              "      <th>N_susp</th>\n",
              "      <th>Susp_alu</th>\n",
              "    </tr>\n",
              "    <tr>\n",
              "      <th>Eval</th>\n",
              "      <th></th>\n",
              "      <th></th>\n",
              "      <th></th>\n",
              "      <th></th>\n",
              "    </tr>\n",
              "  </thead>\n",
              "  <tbody>\n",
              "    <tr>\n",
              "      <th>1</th>\n",
              "      <td>4</td>\n",
              "      <td>7.42</td>\n",
              "      <td>1</td>\n",
              "      <td>0.25</td>\n",
              "    </tr>\n",
              "    <tr>\n",
              "      <th>2</th>\n",
              "      <td>4</td>\n",
              "      <td>7.06</td>\n",
              "      <td>2</td>\n",
              "      <td>0.50</td>\n",
              "    </tr>\n",
              "  </tbody>\n",
              "</table>\n",
              "</div>"
            ],
            "text/plain": [
              "      N_al  Media  N_susp  Susp_alu\n",
              "Eval                               \n",
              "1        4   7.42       1      0.25\n",
              "2        4   7.06       2      0.50"
            ]
          },
          "metadata": {
            "tags": []
          },
          "execution_count": 12
        }
      ]
    },
    {
      "cell_type": "code",
      "metadata": {
        "colab": {
          "base_uri": "https://localhost:8080/",
          "height": 143
        },
        "id": "VcreeJEqPKG9",
        "outputId": "e0979e75-177d-46bb-c0ea-8465a68b876c"
      },
      "source": [
        "df2 = df.rename(columns={'N_al':'el número de alumnos', 'Media':'la nota media', 'N_susp':'el número de suspensos','Susp_alu':'el número de suspensos por alumno'}).iloc[:,1:]\n",
        "df2"
      ],
      "execution_count": 13,
      "outputs": [
        {
          "output_type": "execute_result",
          "data": {
            "text/html": [
              "<div>\n",
              "<style scoped>\n",
              "    .dataframe tbody tr th:only-of-type {\n",
              "        vertical-align: middle;\n",
              "    }\n",
              "\n",
              "    .dataframe tbody tr th {\n",
              "        vertical-align: top;\n",
              "    }\n",
              "\n",
              "    .dataframe thead th {\n",
              "        text-align: right;\n",
              "    }\n",
              "</style>\n",
              "<table border=\"1\" class=\"dataframe\">\n",
              "  <thead>\n",
              "    <tr style=\"text-align: right;\">\n",
              "      <th></th>\n",
              "      <th>la nota media</th>\n",
              "      <th>el número de suspensos</th>\n",
              "      <th>el número de suspensos por alumno</th>\n",
              "    </tr>\n",
              "    <tr>\n",
              "      <th>Eval</th>\n",
              "      <th></th>\n",
              "      <th></th>\n",
              "      <th></th>\n",
              "    </tr>\n",
              "  </thead>\n",
              "  <tbody>\n",
              "    <tr>\n",
              "      <th>1</th>\n",
              "      <td>7.42</td>\n",
              "      <td>1</td>\n",
              "      <td>0.25</td>\n",
              "    </tr>\n",
              "    <tr>\n",
              "      <th>2</th>\n",
              "      <td>7.06</td>\n",
              "      <td>2</td>\n",
              "      <td>0.50</td>\n",
              "    </tr>\n",
              "  </tbody>\n",
              "</table>\n",
              "</div>"
            ],
            "text/plain": [
              "      la nota media  el número de suspensos  el número de suspensos por alumno\n",
              "Eval                                                                          \n",
              "1              7.42                       1                               0.25\n",
              "2              7.06                       2                               0.50"
            ]
          },
          "metadata": {
            "tags": []
          },
          "execution_count": 13
        }
      ]
    },
    {
      "cell_type": "code",
      "metadata": {
        "id": "6Horv4hdPKG-",
        "outputId": "92211531-c268-43e5-8fbc-7be4f25b98c6"
      },
      "source": [
        "analisis_df(df2)[0]"
      ],
      "execution_count": null,
      "outputs": [
        {
          "output_type": "execute_result",
          "data": {
            "text/plain": [
              "'En la 2ª evaluación tenemos los siguientes datos: \\n Baja la nota media: Pasa de 7.42 a 7.06. Sube el número de suspensos: Pasa de 1 a 2. Sube el número de suspensos por alumno: Pasa de 0.25 a 0.5. '"
            ]
          },
          "metadata": {
            "tags": []
          },
          "execution_count": 340
        }
      ]
    },
    {
      "cell_type": "code",
      "metadata": {
        "colab": {
          "base_uri": "https://localhost:8080/",
          "height": 486
        },
        "id": "eOuDp79kPKG-",
        "outputId": "30f0f084-b4e4-43ac-e8d1-dbe2ab3ae8c6"
      },
      "source": [
        "# Alumnos y suspensos\n",
        "\n",
        "from matplotlib import rcParams\n",
        "rcParams.update({'figure.autolayout': True})\n",
        "\n",
        "df = actilla_final[actilla_final.Eval==ultima_evaluacion].groupby('Alumno').sum().Suspenso\n",
        "ranges = [0,1,2,3,5,10]\n",
        "df2 = df.groupby(pd.cut(df, ranges, right=False)).count()\n",
        "df2.index=['0 susp.','1 susp.','2 susp.','3 ó 4 susp.','> 4 susp.']\n",
        "df2.name = 'Alumnos'\n",
        "g0=df2[df2 > 0].plot(kind='pie', title = 'Alumnos y suspensos',autopct='%1.1f%%', table=True)\n",
        "g0\n",
        "g0.get_figure().savefig('g0.png')\n",
        "df2.to_frame()"
      ],
      "execution_count": 14,
      "outputs": [
        {
          "output_type": "execute_result",
          "data": {
            "text/html": [
              "<div>\n",
              "<style scoped>\n",
              "    .dataframe tbody tr th:only-of-type {\n",
              "        vertical-align: middle;\n",
              "    }\n",
              "\n",
              "    .dataframe tbody tr th {\n",
              "        vertical-align: top;\n",
              "    }\n",
              "\n",
              "    .dataframe thead th {\n",
              "        text-align: right;\n",
              "    }\n",
              "</style>\n",
              "<table border=\"1\" class=\"dataframe\">\n",
              "  <thead>\n",
              "    <tr style=\"text-align: right;\">\n",
              "      <th></th>\n",
              "      <th>Alumnos</th>\n",
              "    </tr>\n",
              "  </thead>\n",
              "  <tbody>\n",
              "    <tr>\n",
              "      <th>0 susp.</th>\n",
              "      <td>3</td>\n",
              "    </tr>\n",
              "    <tr>\n",
              "      <th>1 susp.</th>\n",
              "      <td>0</td>\n",
              "    </tr>\n",
              "    <tr>\n",
              "      <th>2 susp.</th>\n",
              "      <td>1</td>\n",
              "    </tr>\n",
              "    <tr>\n",
              "      <th>3 ó 4 susp.</th>\n",
              "      <td>0</td>\n",
              "    </tr>\n",
              "    <tr>\n",
              "      <th>&gt; 4 susp.</th>\n",
              "      <td>0</td>\n",
              "    </tr>\n",
              "  </tbody>\n",
              "</table>\n",
              "</div>"
            ],
            "text/plain": [
              "             Alumnos\n",
              "0 susp.            3\n",
              "1 susp.            0\n",
              "2 susp.            1\n",
              "3 ó 4 susp.        0\n",
              "> 4 susp.          0"
            ]
          },
          "metadata": {
            "tags": []
          },
          "execution_count": 14
        },
        {
          "output_type": "display_data",
          "data": {
            "image/png": "[encoded data removed]",
            "text/plain": [
              "<Figure size 432x288 with 1 Axes>"
            ]
          },
          "metadata": {
            "tags": []
          }
        }
      ]
    },
    {
      "cell_type": "code",
      "metadata": {
        "colab": {
          "base_uri": "https://localhost:8080/",
          "height": 580
        },
        "id": "__asSlWNPKG-",
        "outputId": "eb86cb1a-36cc-4df5-ed1d-df9b3e43e655"
      },
      "source": [
        "# Alumnos y suspensos\n",
        "df = actilla_final[actilla_final.Eval==ultima_evaluacion].groupby('Alumno').mean().Nota\n",
        "ranges = [0,3,4,5,6,7,9,10]\n",
        "df2 = df.groupby(pd.cut(df, ranges, right=False)).count()\n",
        "df2.name = 'Alumnos'\n",
        "g1=df2[df2 > 0].plot(kind='pie', title = 'Alumnos y Nota media',autopct='%1.1f%%', legend = True, table=True)\n",
        "g1\n",
        "g1.get_figure().savefig('g0.png')\n",
        "df2.to_frame()"
      ],
      "execution_count": 15,
      "outputs": [
        {
          "output_type": "execute_result",
          "data": {
            "text/html": [
              "<div>\n",
              "<style scoped>\n",
              "    .dataframe tbody tr th:only-of-type {\n",
              "        vertical-align: middle;\n",
              "    }\n",
              "\n",
              "    .dataframe tbody tr th {\n",
              "        vertical-align: top;\n",
              "    }\n",
              "\n",
              "    .dataframe thead th {\n",
              "        text-align: right;\n",
              "    }\n",
              "</style>\n",
              "<table border=\"1\" class=\"dataframe\">\n",
              "  <thead>\n",
              "    <tr style=\"text-align: right;\">\n",
              "      <th></th>\n",
              "      <th>Alumnos</th>\n",
              "    </tr>\n",
              "    <tr>\n",
              "      <th>Nota</th>\n",
              "      <th></th>\n",
              "    </tr>\n",
              "  </thead>\n",
              "  <tbody>\n",
              "    <tr>\n",
              "      <th>[0, 3)</th>\n",
              "      <td>0</td>\n",
              "    </tr>\n",
              "    <tr>\n",
              "      <th>[3, 4)</th>\n",
              "      <td>0</td>\n",
              "    </tr>\n",
              "    <tr>\n",
              "      <th>[4, 5)</th>\n",
              "      <td>0</td>\n",
              "    </tr>\n",
              "    <tr>\n",
              "      <th>[5, 6)</th>\n",
              "      <td>0</td>\n",
              "    </tr>\n",
              "    <tr>\n",
              "      <th>[6, 7)</th>\n",
              "      <td>1</td>\n",
              "    </tr>\n",
              "    <tr>\n",
              "      <th>[7, 9)</th>\n",
              "      <td>3</td>\n",
              "    </tr>\n",
              "    <tr>\n",
              "      <th>[9, 10)</th>\n",
              "      <td>0</td>\n",
              "    </tr>\n",
              "  </tbody>\n",
              "</table>\n",
              "</div>"
            ],
            "text/plain": [
              "         Alumnos\n",
              "Nota            \n",
              "[0, 3)         0\n",
              "[3, 4)         0\n",
              "[4, 5)         0\n",
              "[5, 6)         0\n",
              "[6, 7)         1\n",
              "[7, 9)         3\n",
              "[9, 10)        0"
            ]
          },
          "metadata": {
            "tags": []
          },
          "execution_count": 15
        },
        {
          "output_type": "display_data",
          "data": {
            "image/png": "[encoded data removed]",
            "text/plain": [
              "<Figure size 432x288 with 1 Axes>"
            ]
          },
          "metadata": {
            "tags": []
          }
        }
      ]
    },
    {
      "cell_type": "code",
      "metadata": {
        "colab": {
          "base_uri": "https://localhost:8080/",
          "height": 297
        },
        "id": "HgDUTKISLVRV",
        "outputId": "175a452a-8177-414e-dd5c-9dbd0ebed460"
      },
      "source": [
        "df=actilla_final.groupby(['Alumno','Eval'])[['Nota']].mean().round(2).rename(columns={'Nota':'Media'}).unstack()\n",
        "g2=df.plot.bar(title='Nota media por alumno') \n",
        "g2\n",
        "g2.get_figure().savefig('g1.png')\n",
        "df\n"
      ],
      "execution_count": null,
      "outputs": [
        {
          "output_type": "execute_result",
          "data": {
            "text/html": [
              "<div>\n",
              "<style scoped>\n",
              "    .dataframe tbody tr th:only-of-type {\n",
              "        vertical-align: middle;\n",
              "    }\n",
              "\n",
              "    .dataframe tbody tr th {\n",
              "        vertical-align: top;\n",
              "    }\n",
              "\n",
              "    .dataframe thead tr th {\n",
              "        text-align: left;\n",
              "    }\n",
              "\n",
              "    .dataframe thead tr:last-of-type th {\n",
              "        text-align: right;\n",
              "    }\n",
              "</style>\n",
              "<table border=\"1\" class=\"dataframe\">\n",
              "  <thead>\n",
              "    <tr>\n",
              "      <th></th>\n",
              "      <th colspan=\"2\" halign=\"left\">Media</th>\n",
              "    </tr>\n",
              "    <tr>\n",
              "      <th>Eval</th>\n",
              "      <th>1</th>\n",
              "      <th>2</th>\n",
              "    </tr>\n",
              "    <tr>\n",
              "      <th>Alumno</th>\n",
              "      <th></th>\n",
              "      <th></th>\n",
              "    </tr>\n",
              "  </thead>\n",
              "  <tbody>\n",
              "    <tr>\n",
              "      <th>Alumno_1</th>\n",
              "      <td>7.11</td>\n",
              "      <td>7.00</td>\n",
              "    </tr>\n",
              "    <tr>\n",
              "      <th>Alumno_2</th>\n",
              "      <td>8.12</td>\n",
              "      <td>7.62</td>\n",
              "    </tr>\n",
              "    <tr>\n",
              "      <th>Alumno_3</th>\n",
              "      <td>7.38</td>\n",
              "      <td>7.38</td>\n",
              "    </tr>\n",
              "    <tr>\n",
              "      <th>Alumno_4</th>\n",
              "      <td>7.12</td>\n",
              "      <td>6.25</td>\n",
              "    </tr>\n",
              "  </tbody>\n",
              "</table>\n",
              "</div>"
            ],
            "text/plain": [
              "         Media      \n",
              "Eval         1     2\n",
              "Alumno              \n",
              "Alumno_1  7.11  7.00\n",
              "Alumno_2  8.12  7.62\n",
              "Alumno_3  7.38  7.38\n",
              "Alumno_4  7.12  6.25"
            ]
          },
          "metadata": {
            "tags": []
          },
          "execution_count": 12
        },
        {
          "output_type": "display_data",
          "data": {
            "image/png": "[encoded data removed]",
            "text/plain": [
              "<Figure size 432x288 with 1 Axes>"
            ]
          },
          "metadata": {
            "tags": [],
            "needs_background": "light"
          }
        }
      ]
    },
    {
      "cell_type": "code",
      "metadata": {
        "id": "gorL0mD-CAy-"
      },
      "source": [
        "f = open(\"acta_{}ev.md\".format(ultima_evaluacion), \"a\")\n",
        "texto = \"{}\".format(df.to_markdown())\n",
        "texto += \"\\n\\n ![](g2.png) \\n \"\n",
        "f.write(texto)\n",
        "f.close()\n"
      ],
      "execution_count": 17,
      "outputs": []
    },
    {
      "cell_type": "code",
      "metadata": {
        "colab": {
          "base_uri": "https://localhost:8080/",
          "height": 689
        },
        "id": "mMD0iDCFPKHA",
        "outputId": "755d3644-ccf6-4677-9951-194f4c1dfc7a"
      },
      "source": [
        "# Resultados por alumno\n",
        "df = actilla_final[actilla_final.Eval <= ultima_evaluacion]\n",
        "\n",
        "for a in df.groupby('Alumno').nunique().index :\n",
        "  df2 = df[(df.Alumno == a) & (df.Eval <= ultima_evaluacion)].iloc[:,1:-1].groupby(['Asignatura','Eval']).min().unstack('Asignatura')\n",
        "  df2.columns = df2.columns.get_level_values(1)\n",
        "  display(df2)\n",
        "  display(analisis_df(df2, \"los resultados de {} han sido: \\n \".format(a), \"Sube en {}:\", \"Baja en {}:\", \"En {}:\", solo_diferencias=True)[0])\n",
        "  \n",
        "  #Lista de suspensos\n",
        "  df2 = df[(df.Alumno==a) & (df.Suspenso==1) & (df.Eval == ultima_evaluacion)][['Asignatura','Eval','Suspenso']]\n",
        "  if len(df2[['Asignatura']].values) > 0 : txt=\"Suspende {}: \".format(len(df2[['Asignatura']].values)) + \", \".join([i[0] for i in df2[['Asignatura']].values]); print(txt) \n"
      ],
      "execution_count": 148,
      "outputs": [
        {
          "output_type": "display_data",
          "data": {
            "text/html": [
              "<div>\n",
              "<style scoped>\n",
              "    .dataframe tbody tr th:only-of-type {\n",
              "        vertical-align: middle;\n",
              "    }\n",
              "\n",
              "    .dataframe tbody tr th {\n",
              "        vertical-align: top;\n",
              "    }\n",
              "\n",
              "    .dataframe thead th {\n",
              "        text-align: right;\n",
              "    }\n",
              "</style>\n",
              "<table border=\"1\" class=\"dataframe\">\n",
              "  <thead>\n",
              "    <tr style=\"text-align: right;\">\n",
              "      <th>Asignatura</th>\n",
              "      <th>2FR II</th>\n",
              "      <th>BI</th>\n",
              "      <th>CTM</th>\n",
              "      <th>HE</th>\n",
              "      <th>IN II</th>\n",
              "      <th>LC2</th>\n",
              "      <th>MA2</th>\n",
              "      <th>PSC</th>\n",
              "      <th>QU</th>\n",
              "    </tr>\n",
              "    <tr>\n",
              "      <th>Eval</th>\n",
              "      <th></th>\n",
              "      <th></th>\n",
              "      <th></th>\n",
              "      <th></th>\n",
              "      <th></th>\n",
              "      <th></th>\n",
              "      <th></th>\n",
              "      <th></th>\n",
              "      <th></th>\n",
              "    </tr>\n",
              "  </thead>\n",
              "  <tbody>\n",
              "    <tr>\n",
              "      <th>1</th>\n",
              "      <td>8</td>\n",
              "      <td>7</td>\n",
              "      <td>7</td>\n",
              "      <td>5</td>\n",
              "      <td>10</td>\n",
              "      <td>6</td>\n",
              "      <td>7</td>\n",
              "      <td>8</td>\n",
              "      <td>6</td>\n",
              "    </tr>\n",
              "    <tr>\n",
              "      <th>2</th>\n",
              "      <td>7</td>\n",
              "      <td>5</td>\n",
              "      <td>7</td>\n",
              "      <td>6</td>\n",
              "      <td>10</td>\n",
              "      <td>5</td>\n",
              "      <td>7</td>\n",
              "      <td>9</td>\n",
              "      <td>7</td>\n",
              "    </tr>\n",
              "  </tbody>\n",
              "</table>\n",
              "</div>"
            ],
            "text/plain": [
              "Asignatura  2FR II  BI  CTM  HE  IN II  LC2  MA2  PSC  QU\n",
              "Eval                                                     \n",
              "1                8   7    7   5     10    6    7    8   6\n",
              "2                7   5    7   6     10    5    7    9   7"
            ]
          },
          "metadata": {
            "tags": []
          }
        },
        {
          "output_type": "display_data",
          "data": {
            "application/vnd.google.colaboratory.intrinsic+json": {
              "type": "string"
            },
            "text/plain": [
              "'En la 2ª evaluación los resultados de Alumno_1 han sido: \\n Baja en 2FR II: Pasa de 8 a 7. Baja en BI: Pasa de 7 a 5. Sube en HE: Pasa de 5 a 6. Baja en LC2: Pasa de 6 a 5. Sube en PSC: Pasa de 8 a 9. Sube en QU: Pasa de 6 a 7. '"
            ]
          },
          "metadata": {
            "tags": []
          }
        },
        {
          "output_type": "display_data",
          "data": {
            "text/html": [
              "<div>\n",
              "<style scoped>\n",
              "    .dataframe tbody tr th:only-of-type {\n",
              "        vertical-align: middle;\n",
              "    }\n",
              "\n",
              "    .dataframe tbody tr th {\n",
              "        vertical-align: top;\n",
              "    }\n",
              "\n",
              "    .dataframe thead th {\n",
              "        text-align: right;\n",
              "    }\n",
              "</style>\n",
              "<table border=\"1\" class=\"dataframe\">\n",
              "  <thead>\n",
              "    <tr style=\"text-align: right;\">\n",
              "      <th>Asignatura</th>\n",
              "      <th>2FR II</th>\n",
              "      <th>BI</th>\n",
              "      <th>CTM</th>\n",
              "      <th>HE</th>\n",
              "      <th>IN II</th>\n",
              "      <th>LC2</th>\n",
              "      <th>MA2</th>\n",
              "      <th>QU</th>\n",
              "    </tr>\n",
              "    <tr>\n",
              "      <th>Eval</th>\n",
              "      <th></th>\n",
              "      <th></th>\n",
              "      <th></th>\n",
              "      <th></th>\n",
              "      <th></th>\n",
              "      <th></th>\n",
              "      <th></th>\n",
              "      <th></th>\n",
              "    </tr>\n",
              "  </thead>\n",
              "  <tbody>\n",
              "    <tr>\n",
              "      <th>1</th>\n",
              "      <td>7</td>\n",
              "      <td>8</td>\n",
              "      <td>9</td>\n",
              "      <td>7</td>\n",
              "      <td>9</td>\n",
              "      <td>7</td>\n",
              "      <td>9</td>\n",
              "      <td>9</td>\n",
              "    </tr>\n",
              "    <tr>\n",
              "      <th>2</th>\n",
              "      <td>8</td>\n",
              "      <td>7</td>\n",
              "      <td>8</td>\n",
              "      <td>7</td>\n",
              "      <td>9</td>\n",
              "      <td>7</td>\n",
              "      <td>8</td>\n",
              "      <td>7</td>\n",
              "    </tr>\n",
              "  </tbody>\n",
              "</table>\n",
              "</div>"
            ],
            "text/plain": [
              "Asignatura  2FR II  BI  CTM  HE  IN II  LC2  MA2  QU\n",
              "Eval                                                \n",
              "1                7   8    9   7      9    7    9   9\n",
              "2                8   7    8   7      9    7    8   7"
            ]
          },
          "metadata": {
            "tags": []
          }
        },
        {
          "output_type": "display_data",
          "data": {
            "application/vnd.google.colaboratory.intrinsic+json": {
              "type": "string"
            },
            "text/plain": [
              "'En la 2ª evaluación los resultados de Alumno_2 han sido: \\n Sube en 2FR II: Pasa de 7 a 8. Baja en BI: Pasa de 8 a 7. Baja en CTM: Pasa de 9 a 8. Baja en MA2: Pasa de 9 a 8. Baja en QU: Pasa de 9 a 7. '"
            ]
          },
          "metadata": {
            "tags": []
          }
        },
        {
          "output_type": "display_data",
          "data": {
            "text/html": [
              "<div>\n",
              "<style scoped>\n",
              "    .dataframe tbody tr th:only-of-type {\n",
              "        vertical-align: middle;\n",
              "    }\n",
              "\n",
              "    .dataframe tbody tr th {\n",
              "        vertical-align: top;\n",
              "    }\n",
              "\n",
              "    .dataframe thead th {\n",
              "        text-align: right;\n",
              "    }\n",
              "</style>\n",
              "<table border=\"1\" class=\"dataframe\">\n",
              "  <thead>\n",
              "    <tr style=\"text-align: right;\">\n",
              "      <th>Asignatura</th>\n",
              "      <th>2FR II</th>\n",
              "      <th>BI</th>\n",
              "      <th>CTM</th>\n",
              "      <th>HE</th>\n",
              "      <th>IN II</th>\n",
              "      <th>LC2</th>\n",
              "      <th>MA2</th>\n",
              "      <th>QU</th>\n",
              "    </tr>\n",
              "    <tr>\n",
              "      <th>Eval</th>\n",
              "      <th></th>\n",
              "      <th></th>\n",
              "      <th></th>\n",
              "      <th></th>\n",
              "      <th></th>\n",
              "      <th></th>\n",
              "      <th></th>\n",
              "      <th></th>\n",
              "    </tr>\n",
              "  </thead>\n",
              "  <tbody>\n",
              "    <tr>\n",
              "      <th>1</th>\n",
              "      <td>8</td>\n",
              "      <td>7</td>\n",
              "      <td>9</td>\n",
              "      <td>6</td>\n",
              "      <td>9</td>\n",
              "      <td>7</td>\n",
              "      <td>7</td>\n",
              "      <td>6</td>\n",
              "    </tr>\n",
              "    <tr>\n",
              "      <th>2</th>\n",
              "      <td>7</td>\n",
              "      <td>8</td>\n",
              "      <td>8</td>\n",
              "      <td>6</td>\n",
              "      <td>9</td>\n",
              "      <td>5</td>\n",
              "      <td>8</td>\n",
              "      <td>8</td>\n",
              "    </tr>\n",
              "  </tbody>\n",
              "</table>\n",
              "</div>"
            ],
            "text/plain": [
              "Asignatura  2FR II  BI  CTM  HE  IN II  LC2  MA2  QU\n",
              "Eval                                                \n",
              "1                8   7    9   6      9    7    7   6\n",
              "2                7   8    8   6      9    5    8   8"
            ]
          },
          "metadata": {
            "tags": []
          }
        },
        {
          "output_type": "display_data",
          "data": {
            "application/vnd.google.colaboratory.intrinsic+json": {
              "type": "string"
            },
            "text/plain": [
              "'En la 2ª evaluación los resultados de Alumno_3 han sido: \\n Baja en 2FR II: Pasa de 8 a 7. Sube en BI: Pasa de 7 a 8. Baja en CTM: Pasa de 9 a 8. Baja en LC2: Pasa de 7 a 5. Sube en MA2: Pasa de 7 a 8. Sube en QU: Pasa de 6 a 8. '"
            ]
          },
          "metadata": {
            "tags": []
          }
        },
        {
          "output_type": "display_data",
          "data": {
            "text/html": [
              "<div>\n",
              "<style scoped>\n",
              "    .dataframe tbody tr th:only-of-type {\n",
              "        vertical-align: middle;\n",
              "    }\n",
              "\n",
              "    .dataframe tbody tr th {\n",
              "        vertical-align: top;\n",
              "    }\n",
              "\n",
              "    .dataframe thead th {\n",
              "        text-align: right;\n",
              "    }\n",
              "</style>\n",
              "<table border=\"1\" class=\"dataframe\">\n",
              "  <thead>\n",
              "    <tr style=\"text-align: right;\">\n",
              "      <th>Asignatura</th>\n",
              "      <th>BI</th>\n",
              "      <th>CTM</th>\n",
              "      <th>HE</th>\n",
              "      <th>IN II</th>\n",
              "      <th>LC2</th>\n",
              "      <th>MA2</th>\n",
              "      <th>PS</th>\n",
              "      <th>QU</th>\n",
              "    </tr>\n",
              "    <tr>\n",
              "      <th>Eval</th>\n",
              "      <th></th>\n",
              "      <th></th>\n",
              "      <th></th>\n",
              "      <th></th>\n",
              "      <th></th>\n",
              "      <th></th>\n",
              "      <th></th>\n",
              "      <th></th>\n",
              "    </tr>\n",
              "  </thead>\n",
              "  <tbody>\n",
              "    <tr>\n",
              "      <th>1</th>\n",
              "      <td>7</td>\n",
              "      <td>8</td>\n",
              "      <td>3</td>\n",
              "      <td>7</td>\n",
              "      <td>7</td>\n",
              "      <td>10</td>\n",
              "      <td>8</td>\n",
              "      <td>7</td>\n",
              "    </tr>\n",
              "    <tr>\n",
              "      <th>2</th>\n",
              "      <td>7</td>\n",
              "      <td>7</td>\n",
              "      <td>2</td>\n",
              "      <td>8</td>\n",
              "      <td>6</td>\n",
              "      <td>10</td>\n",
              "      <td>2</td>\n",
              "      <td>8</td>\n",
              "    </tr>\n",
              "  </tbody>\n",
              "</table>\n",
              "</div>"
            ],
            "text/plain": [
              "Asignatura  BI  CTM  HE  IN II  LC2  MA2  PS  QU\n",
              "Eval                                            \n",
              "1            7    8   3      7    7   10   8   7\n",
              "2            7    7   2      8    6   10   2   8"
            ]
          },
          "metadata": {
            "tags": []
          }
        },
        {
          "output_type": "display_data",
          "data": {
            "application/vnd.google.colaboratory.intrinsic+json": {
              "type": "string"
            },
            "text/plain": [
              "'En la 2ª evaluación los resultados de Alumno_4 han sido: \\n Baja en CTM: Pasa de 8 a 7. Baja en HE: Pasa de 3 a 2. Sube en IN II: Pasa de 7 a 8. Baja en LC2: Pasa de 7 a 6. Baja en PS: Pasa de 8 a 2. Sube en QU: Pasa de 7 a 8. '"
            ]
          },
          "metadata": {
            "tags": []
          }
        },
        {
          "output_type": "stream",
          "text": [
            "Suspende 2: HE, PS\n"
          ],
          "name": "stdout"
        }
      ]
    },
    {
      "cell_type": "code",
      "metadata": {
        "colab": {
          "base_uri": "https://localhost:8080/",
          "height": 143
        },
        "id": "TYNmeONQYuZs",
        "outputId": "22113b53-9b4b-4b14-95a5-2018dd87c076"
      },
      "source": [
        "df = actilla_final[actilla_final.Eval <= ultima_evaluacion]\n",
        "a = df.groupby('Alumno').nunique().index[3]\n",
        "\n",
        "\n",
        "#suspensos en la última evaluación\n",
        "df2 = df[(df.Alumno == a) & (df.Eval <= ultima_evaluacion)].groupby(['Alumno','Eval']).aggregate({'Nota':'mean','Suspenso':'sum'})\n",
        "df2.index = df2.index.get_level_values(1)\n",
        "df2\n"
      ],
      "execution_count": 171,
      "outputs": [
        {
          "output_type": "execute_result",
          "data": {
            "text/html": [
              "<div>\n",
              "<style scoped>\n",
              "    .dataframe tbody tr th:only-of-type {\n",
              "        vertical-align: middle;\n",
              "    }\n",
              "\n",
              "    .dataframe tbody tr th {\n",
              "        vertical-align: top;\n",
              "    }\n",
              "\n",
              "    .dataframe thead th {\n",
              "        text-align: right;\n",
              "    }\n",
              "</style>\n",
              "<table border=\"1\" class=\"dataframe\">\n",
              "  <thead>\n",
              "    <tr style=\"text-align: right;\">\n",
              "      <th></th>\n",
              "      <th>Nota</th>\n",
              "      <th>Suspenso</th>\n",
              "    </tr>\n",
              "    <tr>\n",
              "      <th>Eval</th>\n",
              "      <th></th>\n",
              "      <th></th>\n",
              "    </tr>\n",
              "  </thead>\n",
              "  <tbody>\n",
              "    <tr>\n",
              "      <th>1</th>\n",
              "      <td>7.125</td>\n",
              "      <td>1</td>\n",
              "    </tr>\n",
              "    <tr>\n",
              "      <th>2</th>\n",
              "      <td>6.250</td>\n",
              "      <td>2</td>\n",
              "    </tr>\n",
              "  </tbody>\n",
              "</table>\n",
              "</div>"
            ],
            "text/plain": [
              "       Nota  Suspenso\n",
              "Eval                 \n",
              "1     7.125         1\n",
              "2     6.250         2"
            ]
          },
          "metadata": {
            "tags": []
          },
          "execution_count": 171
        }
      ]
    },
    {
      "cell_type": "code",
      "metadata": {
        "id": "U_mZl2RtPKHC",
        "outputId": "0260b7bd-356e-42b7-a286-b9f915784ae8"
      },
      "source": [
        "df2 = actilla_final.groupby(['Eval'])[['Alumno','Asignatura','Nota']].aggregate({'Alumno':'nunique','Nota':'mean','Suspenso':'sum'}).rename(columns={'Alumno':'N_al', 'Nota':'Media', 'Suspenso':'N_susp'})\n",
        "df2"
      ],
      "execution_count": null,
      "outputs": [
        {
          "output_type": "error",
          "ename": "SpecificationError",
          "evalue": "Column(s) ['Suspenso'] do not exist",
          "traceback": [
            "\u001b[0;31m---------------------------------------------------------------------------\u001b[0m",
            "\u001b[0;31mSpecificationError\u001b[0m                        Traceback (most recent call last)",
            "\u001b[0;32m<ipython-input-111-41e6fdc6d89f>\u001b[0m in \u001b[0;36m<module>\u001b[0;34m\u001b[0m\n\u001b[0;32m----> 1\u001b[0;31m \u001b[0mdf2\u001b[0m \u001b[0;34m=\u001b[0m \u001b[0mactilla_final\u001b[0m\u001b[0;34m.\u001b[0m\u001b[0mgroupby\u001b[0m\u001b[0;34m(\u001b[0m\u001b[0;34m[\u001b[0m\u001b[0;34m'Eval'\u001b[0m\u001b[0;34m]\u001b[0m\u001b[0;34m)\u001b[0m\u001b[0;34m[\u001b[0m\u001b[0;34m[\u001b[0m\u001b[0;34m'Alumno'\u001b[0m\u001b[0;34m,\u001b[0m\u001b[0;34m'Asignatura'\u001b[0m\u001b[0;34m,\u001b[0m\u001b[0;34m'Nota'\u001b[0m\u001b[0;34m]\u001b[0m\u001b[0;34m]\u001b[0m\u001b[0;34m.\u001b[0m\u001b[0maggregate\u001b[0m\u001b[0;34m(\u001b[0m\u001b[0;34m{\u001b[0m\u001b[0;34m'Alumno'\u001b[0m\u001b[0;34m:\u001b[0m\u001b[0;34m'nunique'\u001b[0m\u001b[0;34m,\u001b[0m\u001b[0;34m'Nota'\u001b[0m\u001b[0;34m:\u001b[0m\u001b[0;34m'mean'\u001b[0m\u001b[0;34m,\u001b[0m\u001b[0;34m'Suspenso'\u001b[0m\u001b[0;34m:\u001b[0m\u001b[0;34m'sum'\u001b[0m\u001b[0;34m}\u001b[0m\u001b[0;34m)\u001b[0m\u001b[0;34m.\u001b[0m\u001b[0mrename\u001b[0m\u001b[0;34m(\u001b[0m\u001b[0mcolumns\u001b[0m\u001b[0;34m=\u001b[0m\u001b[0;34m{\u001b[0m\u001b[0;34m'Alumno'\u001b[0m\u001b[0;34m:\u001b[0m\u001b[0;34m'N_al'\u001b[0m\u001b[0;34m,\u001b[0m \u001b[0;34m'Nota'\u001b[0m\u001b[0;34m:\u001b[0m\u001b[0;34m'Media'\u001b[0m\u001b[0;34m,\u001b[0m \u001b[0;34m'Suspenso'\u001b[0m\u001b[0;34m:\u001b[0m\u001b[0;34m'N_susp'\u001b[0m\u001b[0;34m}\u001b[0m\u001b[0;34m)\u001b[0m\u001b[0;34m\u001b[0m\u001b[0;34m\u001b[0m\u001b[0m\n\u001b[0m\u001b[1;32m      2\u001b[0m \u001b[0mdf2\u001b[0m\u001b[0;34m\u001b[0m\u001b[0;34m\u001b[0m\u001b[0m\n",
            "\u001b[0;32m~/Mis_aplicaciones/anaconda3/lib/python3.6/site-packages/pandas/core/groupby/generic.py\u001b[0m in \u001b[0;36maggregate\u001b[0;34m(self, func, engine, engine_kwargs, *args, **kwargs)\u001b[0m\n\u001b[1;32m    949\u001b[0m         \u001b[0mfunc\u001b[0m \u001b[0;34m=\u001b[0m \u001b[0mmaybe_mangle_lambdas\u001b[0m\u001b[0;34m(\u001b[0m\u001b[0mfunc\u001b[0m\u001b[0;34m)\u001b[0m\u001b[0;34m\u001b[0m\u001b[0;34m\u001b[0m\u001b[0m\n\u001b[1;32m    950\u001b[0m \u001b[0;34m\u001b[0m\u001b[0m\n\u001b[0;32m--> 951\u001b[0;31m         \u001b[0mresult\u001b[0m\u001b[0;34m,\u001b[0m \u001b[0mhow\u001b[0m \u001b[0;34m=\u001b[0m \u001b[0mself\u001b[0m\u001b[0;34m.\u001b[0m\u001b[0m_aggregate\u001b[0m\u001b[0;34m(\u001b[0m\u001b[0mfunc\u001b[0m\u001b[0;34m,\u001b[0m \u001b[0;34m*\u001b[0m\u001b[0margs\u001b[0m\u001b[0;34m,\u001b[0m \u001b[0;34m**\u001b[0m\u001b[0mkwargs\u001b[0m\u001b[0;34m)\u001b[0m\u001b[0;34m\u001b[0m\u001b[0;34m\u001b[0m\u001b[0m\n\u001b[0m\u001b[1;32m    952\u001b[0m         \u001b[0;32mif\u001b[0m \u001b[0mhow\u001b[0m \u001b[0;32mis\u001b[0m \u001b[0;32mNone\u001b[0m\u001b[0;34m:\u001b[0m\u001b[0;34m\u001b[0m\u001b[0;34m\u001b[0m\u001b[0m\n\u001b[1;32m    953\u001b[0m             \u001b[0;32mreturn\u001b[0m \u001b[0mresult\u001b[0m\u001b[0;34m\u001b[0m\u001b[0;34m\u001b[0m\u001b[0m\n",
            "\u001b[0;32m~/Mis_aplicaciones/anaconda3/lib/python3.6/site-packages/pandas/core/base.py\u001b[0m in \u001b[0;36m_aggregate\u001b[0;34m(self, arg, *args, **kwargs)\u001b[0m\n\u001b[1;32m    352\u001b[0m                 ) != len(keys):\n\u001b[1;32m    353\u001b[0m                     \u001b[0mcols\u001b[0m \u001b[0;34m=\u001b[0m \u001b[0msorted\u001b[0m\u001b[0;34m(\u001b[0m\u001b[0mset\u001b[0m\u001b[0;34m(\u001b[0m\u001b[0mkeys\u001b[0m\u001b[0;34m)\u001b[0m \u001b[0;34m-\u001b[0m \u001b[0mset\u001b[0m\u001b[0;34m(\u001b[0m\u001b[0mobj\u001b[0m\u001b[0;34m.\u001b[0m\u001b[0mcolumns\u001b[0m\u001b[0;34m.\u001b[0m\u001b[0mintersection\u001b[0m\u001b[0;34m(\u001b[0m\u001b[0mkeys\u001b[0m\u001b[0;34m)\u001b[0m\u001b[0;34m)\u001b[0m\u001b[0;34m)\u001b[0m\u001b[0;34m\u001b[0m\u001b[0;34m\u001b[0m\u001b[0m\n\u001b[0;32m--> 354\u001b[0;31m                     \u001b[0;32mraise\u001b[0m \u001b[0mSpecificationError\u001b[0m\u001b[0;34m(\u001b[0m\u001b[0;34mf\"Column(s) {cols} do not exist\"\u001b[0m\u001b[0;34m)\u001b[0m\u001b[0;34m\u001b[0m\u001b[0;34m\u001b[0m\u001b[0m\n\u001b[0m\u001b[1;32m    355\u001b[0m \u001b[0;34m\u001b[0m\u001b[0m\n\u001b[1;32m    356\u001b[0m             \u001b[0;32mfrom\u001b[0m \u001b[0mpandas\u001b[0m\u001b[0;34m.\u001b[0m\u001b[0mcore\u001b[0m\u001b[0;34m.\u001b[0m\u001b[0mreshape\u001b[0m\u001b[0;34m.\u001b[0m\u001b[0mconcat\u001b[0m \u001b[0;32mimport\u001b[0m \u001b[0mconcat\u001b[0m\u001b[0;34m\u001b[0m\u001b[0;34m\u001b[0m\u001b[0m\n",
            "\u001b[0;31mSpecificationError\u001b[0m: Column(s) ['Suspenso'] do not exist"
          ]
        }
      ]
    },
    {
      "cell_type": "code",
      "metadata": {
        "id": "fUTzP5vNPKHC",
        "outputId": "470d42c3-3166-4100-cc25-97fbff26f879"
      },
      "source": [
        "#actilla_final.groupby(['Alumno','Eval']).aggregate({'Nota':'mean', 'Suspenso':sum})\n",
        "df=actilla_final[actilla_final.Suspenso ==1]\n",
        "df = actilla_final.groupby(['Alumno','Eval']).aggregate({'Nota':'mean', 'Suspenso':sum})\n",
        "df[df.Nota >= 8].count(level='Eval').Nota.rename({'Nota'})"
      ],
      "execution_count": null,
      "outputs": [
        {
          "output_type": "execute_result",
          "data": {
            "text/plain": [
              "Eval\n",
              "1    1\n",
              "2    0\n",
              "Name: Nota, dtype: int64"
            ]
          },
          "metadata": {
            "tags": []
          },
          "execution_count": 125
        }
      ]
    },
    {
      "cell_type": "code",
      "metadata": {
        "colab": {
          "base_uri": "https://localhost:8080/",
          "height": 144
        },
        "id": "aolnT-KoCAy-",
        "outputId": "da47666e-674e-4bd9-b2fe-26f2e1837c1c"
      },
      "source": [
        "#actilla_final = actilla_final.rename(columns={'Apellidos, Nombre':'Alumno'})\n",
        "idx = pd.IndexSlice\n",
        "lista_alumnos = actilla_final.groupby(['Alumno']).count().index\n",
        "\n",
        "actilla_final.head()\n",
        "actilla_final.groupby('Eval').aggregate({'Nota': 'mean','Suspenso': 'sum'}).unstack()['Nota']\n",
        "#actilla_final.groupby('Eval').aggregate({'Nota': 'mean','Suspenso': 'sum'}).unstack()['Suspenso'].plot.bar(table=True)\n",
        "actilla_final.groupby('Eval').aggregate({'Nota': 'mean','Suspenso': 'sum'})\n",
        "df = actilla_final.pivot_table(index='Eval', aggfunc = {'Nota':'mean','Suspenso':sum,'Alumno':'nunique'})\n",
        "df['Susp_alu'] = df.Suspenso / df.Alumno\n",
        "df = df.rename(columns={'Alumno' : 'N_alum', 'Nota' : 'Media', 'Suspenso':'N_susp'})\n",
        "\n",
        "df = np.round(df,1)\n",
        "# display(df.to_html())\n",
        "#display(md('**Resumen de resultados:**'))\n",
        "\n",
        "df.to_markdown()\n",
        "df\n"
      ],
      "execution_count": null,
      "outputs": [
        {
          "output_type": "execute_result",
          "data": {
            "text/html": [
              "<div>\n",
              "<style scoped>\n",
              "    .dataframe tbody tr th:only-of-type {\n",
              "        vertical-align: middle;\n",
              "    }\n",
              "\n",
              "    .dataframe tbody tr th {\n",
              "        vertical-align: top;\n",
              "    }\n",
              "\n",
              "    .dataframe thead th {\n",
              "        text-align: right;\n",
              "    }\n",
              "</style>\n",
              "<table border=\"1\" class=\"dataframe\">\n",
              "  <thead>\n",
              "    <tr style=\"text-align: right;\">\n",
              "      <th></th>\n",
              "      <th>N_alum</th>\n",
              "      <th>Media</th>\n",
              "      <th>N_susp</th>\n",
              "      <th>Susp_alu</th>\n",
              "    </tr>\n",
              "    <tr>\n",
              "      <th>Eval</th>\n",
              "      <th></th>\n",
              "      <th></th>\n",
              "      <th></th>\n",
              "      <th></th>\n",
              "    </tr>\n",
              "  </thead>\n",
              "  <tbody>\n",
              "    <tr>\n",
              "      <th>1</th>\n",
              "      <td>4</td>\n",
              "      <td>7.4</td>\n",
              "      <td>1</td>\n",
              "      <td>0.2</td>\n",
              "    </tr>\n",
              "    <tr>\n",
              "      <th>2</th>\n",
              "      <td>4</td>\n",
              "      <td>7.1</td>\n",
              "      <td>2</td>\n",
              "      <td>0.5</td>\n",
              "    </tr>\n",
              "  </tbody>\n",
              "</table>\n",
              "</div>"
            ],
            "text/plain": [
              "      N_alum  Media  N_susp  Susp_alu\n",
              "Eval                                 \n",
              "1          4    7.4       1       0.2\n",
              "2          4    7.1       2       0.5"
            ]
          },
          "metadata": {
            "tags": []
          },
          "execution_count": 56
        }
      ]
    },
    {
      "cell_type": "code",
      "metadata": {
        "colab": {
          "base_uri": "https://localhost:8080/",
          "height": 166
        },
        "id": "syuW8n-vZ81D",
        "outputId": "e3f5ddbf-000b-4f54-df3a-9a4e1423262a"
      },
      "source": [
        "#df = actilla_final.drop(['Suspenso'], axis=1)\n",
        "df = actilla_final[actilla_final.Eval <= ultima_evaluacion]\n",
        "\n",
        "\n",
        "df2 = pd.concat([df.set_index(['Alumno','Asignatura','Eval']).Nota.unstack('Asignatura').unstack('Eval'),df[df.Eval == 2].groupby('Alumno')[['Nota']].mean().rename(columns={'Nota': ('Nota','Media','2')})], axis=1).fillna('-').round(1).style.applymap(color_negative_red)\n",
        "\n",
        "df2\n"
      ],
      "execution_count": null,
      "outputs": [
        {
          "output_type": "execute_result",
          "data": {
            "text/html": [
              "<style  type=\"text/css\" >\n",
              "#T_d1ce2e66_295f_11eb_9080_3d043648e59erow0_col0,#T_d1ce2e66_295f_11eb_9080_3d043648e59erow0_col1,#T_d1ce2e66_295f_11eb_9080_3d043648e59erow0_col2,#T_d1ce2e66_295f_11eb_9080_3d043648e59erow0_col3,#T_d1ce2e66_295f_11eb_9080_3d043648e59erow0_col4,#T_d1ce2e66_295f_11eb_9080_3d043648e59erow0_col5,#T_d1ce2e66_295f_11eb_9080_3d043648e59erow0_col6,#T_d1ce2e66_295f_11eb_9080_3d043648e59erow0_col7,#T_d1ce2e66_295f_11eb_9080_3d043648e59erow0_col8,#T_d1ce2e66_295f_11eb_9080_3d043648e59erow0_col9,#T_d1ce2e66_295f_11eb_9080_3d043648e59erow0_col10,#T_d1ce2e66_295f_11eb_9080_3d043648e59erow0_col11,#T_d1ce2e66_295f_11eb_9080_3d043648e59erow0_col12,#T_d1ce2e66_295f_11eb_9080_3d043648e59erow0_col13,#T_d1ce2e66_295f_11eb_9080_3d043648e59erow0_col16,#T_d1ce2e66_295f_11eb_9080_3d043648e59erow0_col17,#T_d1ce2e66_295f_11eb_9080_3d043648e59erow0_col18,#T_d1ce2e66_295f_11eb_9080_3d043648e59erow0_col19,#T_d1ce2e66_295f_11eb_9080_3d043648e59erow0_col20,#T_d1ce2e66_295f_11eb_9080_3d043648e59erow1_col0,#T_d1ce2e66_295f_11eb_9080_3d043648e59erow1_col1,#T_d1ce2e66_295f_11eb_9080_3d043648e59erow1_col2,#T_d1ce2e66_295f_11eb_9080_3d043648e59erow1_col3,#T_d1ce2e66_295f_11eb_9080_3d043648e59erow1_col4,#T_d1ce2e66_295f_11eb_9080_3d043648e59erow1_col5,#T_d1ce2e66_295f_11eb_9080_3d043648e59erow1_col6,#T_d1ce2e66_295f_11eb_9080_3d043648e59erow1_col7,#T_d1ce2e66_295f_11eb_9080_3d043648e59erow1_col8,#T_d1ce2e66_295f_11eb_9080_3d043648e59erow1_col9,#T_d1ce2e66_295f_11eb_9080_3d043648e59erow1_col10,#T_d1ce2e66_295f_11eb_9080_3d043648e59erow1_col11,#T_d1ce2e66_295f_11eb_9080_3d043648e59erow1_col12,#T_d1ce2e66_295f_11eb_9080_3d043648e59erow1_col13,#T_d1ce2e66_295f_11eb_9080_3d043648e59erow1_col18,#T_d1ce2e66_295f_11eb_9080_3d043648e59erow1_col19,#T_d1ce2e66_295f_11eb_9080_3d043648e59erow1_col20,#T_d1ce2e66_295f_11eb_9080_3d043648e59erow2_col0,#T_d1ce2e66_295f_11eb_9080_3d043648e59erow2_col1,#T_d1ce2e66_295f_11eb_9080_3d043648e59erow2_col2,#T_d1ce2e66_295f_11eb_9080_3d043648e59erow2_col3,#T_d1ce2e66_295f_11eb_9080_3d043648e59erow2_col4,#T_d1ce2e66_295f_11eb_9080_3d043648e59erow2_col5,#T_d1ce2e66_295f_11eb_9080_3d043648e59erow2_col6,#T_d1ce2e66_295f_11eb_9080_3d043648e59erow2_col7,#T_d1ce2e66_295f_11eb_9080_3d043648e59erow2_col8,#T_d1ce2e66_295f_11eb_9080_3d043648e59erow2_col9,#T_d1ce2e66_295f_11eb_9080_3d043648e59erow2_col10,#T_d1ce2e66_295f_11eb_9080_3d043648e59erow2_col11,#T_d1ce2e66_295f_11eb_9080_3d043648e59erow2_col12,#T_d1ce2e66_295f_11eb_9080_3d043648e59erow2_col13,#T_d1ce2e66_295f_11eb_9080_3d043648e59erow2_col18,#T_d1ce2e66_295f_11eb_9080_3d043648e59erow2_col19,#T_d1ce2e66_295f_11eb_9080_3d043648e59erow2_col20,#T_d1ce2e66_295f_11eb_9080_3d043648e59erow3_col2,#T_d1ce2e66_295f_11eb_9080_3d043648e59erow3_col3,#T_d1ce2e66_295f_11eb_9080_3d043648e59erow3_col4,#T_d1ce2e66_295f_11eb_9080_3d043648e59erow3_col5,#T_d1ce2e66_295f_11eb_9080_3d043648e59erow3_col8,#T_d1ce2e66_295f_11eb_9080_3d043648e59erow3_col9,#T_d1ce2e66_295f_11eb_9080_3d043648e59erow3_col10,#T_d1ce2e66_295f_11eb_9080_3d043648e59erow3_col11,#T_d1ce2e66_295f_11eb_9080_3d043648e59erow3_col12,#T_d1ce2e66_295f_11eb_9080_3d043648e59erow3_col13,#T_d1ce2e66_295f_11eb_9080_3d043648e59erow3_col14,#T_d1ce2e66_295f_11eb_9080_3d043648e59erow3_col18,#T_d1ce2e66_295f_11eb_9080_3d043648e59erow3_col19,#T_d1ce2e66_295f_11eb_9080_3d043648e59erow3_col20{\n",
              "            color:  green;\n",
              "             background:  lightyellow;\n",
              "        }#T_d1ce2e66_295f_11eb_9080_3d043648e59erow0_col14,#T_d1ce2e66_295f_11eb_9080_3d043648e59erow0_col15,#T_d1ce2e66_295f_11eb_9080_3d043648e59erow1_col14,#T_d1ce2e66_295f_11eb_9080_3d043648e59erow1_col15,#T_d1ce2e66_295f_11eb_9080_3d043648e59erow1_col16,#T_d1ce2e66_295f_11eb_9080_3d043648e59erow1_col17,#T_d1ce2e66_295f_11eb_9080_3d043648e59erow2_col14,#T_d1ce2e66_295f_11eb_9080_3d043648e59erow2_col15,#T_d1ce2e66_295f_11eb_9080_3d043648e59erow2_col16,#T_d1ce2e66_295f_11eb_9080_3d043648e59erow2_col17,#T_d1ce2e66_295f_11eb_9080_3d043648e59erow3_col0,#T_d1ce2e66_295f_11eb_9080_3d043648e59erow3_col1,#T_d1ce2e66_295f_11eb_9080_3d043648e59erow3_col16,#T_d1ce2e66_295f_11eb_9080_3d043648e59erow3_col17{\n",
              "            color:  blue ;\n",
              "             background:  azure;\n",
              "        }#T_d1ce2e66_295f_11eb_9080_3d043648e59erow3_col6,#T_d1ce2e66_295f_11eb_9080_3d043648e59erow3_col7,#T_d1ce2e66_295f_11eb_9080_3d043648e59erow3_col15{\n",
              "            color:  red;\n",
              "             background:  khaki;\n",
              "        }</style><table id=\"T_d1ce2e66_295f_11eb_9080_3d043648e59e\" ><thead>    <tr>        <th class=\"index_name level0\" >Asignatura</th>        <th class=\"col_heading level0 col0\" colspan=2>2FR II</th>        <th class=\"col_heading level0 col2\" colspan=2>BI</th>        <th class=\"col_heading level0 col4\" colspan=2>CTM</th>        <th class=\"col_heading level0 col6\" colspan=2>HE</th>        <th class=\"col_heading level0 col8\" colspan=2>IN II</th>        <th class=\"col_heading level0 col10\" colspan=2>LC2</th>        <th class=\"col_heading level0 col12\" colspan=2>MA2</th>        <th class=\"col_heading level0 col14\" colspan=2>PS</th>        <th class=\"col_heading level0 col16\" colspan=2>PSC</th>        <th class=\"col_heading level0 col18\" colspan=2>QU</th>        <th class=\"col_heading level0 col20\" >Nota</th>    </tr>    <tr>        <th class=\"index_name level1\" >Eval</th>        <th class=\"col_heading level1 col0\" >1</th>        <th class=\"col_heading level1 col1\" >2</th>        <th class=\"col_heading level1 col2\" >1</th>        <th class=\"col_heading level1 col3\" >2</th>        <th class=\"col_heading level1 col4\" >1</th>        <th class=\"col_heading level1 col5\" >2</th>        <th class=\"col_heading level1 col6\" >1</th>        <th class=\"col_heading level1 col7\" >2</th>        <th class=\"col_heading level1 col8\" >1</th>        <th class=\"col_heading level1 col9\" >2</th>        <th class=\"col_heading level1 col10\" >1</th>        <th class=\"col_heading level1 col11\" >2</th>        <th class=\"col_heading level1 col12\" >1</th>        <th class=\"col_heading level1 col13\" >2</th>        <th class=\"col_heading level1 col14\" >1</th>        <th class=\"col_heading level1 col15\" >2</th>        <th class=\"col_heading level1 col16\" >1</th>        <th class=\"col_heading level1 col17\" >2</th>        <th class=\"col_heading level1 col18\" >1</th>        <th class=\"col_heading level1 col19\" >2</th>        <th class=\"col_heading level1 col20\" >Media</th>    </tr>    <tr>        <th class=\"index_name level0\" >Alumno</th>        <th class=\"blank\" ></th>        <th class=\"blank\" ></th>        <th class=\"blank\" ></th>        <th class=\"blank\" ></th>        <th class=\"blank\" ></th>        <th class=\"blank\" ></th>        <th class=\"blank\" ></th>        <th class=\"blank\" ></th>        <th class=\"blank\" ></th>        <th class=\"blank\" ></th>        <th class=\"blank\" ></th>        <th class=\"blank\" ></th>        <th class=\"blank\" ></th>        <th class=\"blank\" ></th>        <th class=\"blank\" ></th>        <th class=\"blank\" ></th>        <th class=\"blank\" ></th>        <th class=\"blank\" ></th>        <th class=\"blank\" ></th>        <th class=\"blank\" ></th>        <th class=\"blank\" ></th>    </tr></thead><tbody>\n",
              "                <tr>\n",
              "                        <th id=\"T_d1ce2e66_295f_11eb_9080_3d043648e59elevel0_row0\" class=\"row_heading level0 row0\" >Alumno_1</th>\n",
              "                        <td id=\"T_d1ce2e66_295f_11eb_9080_3d043648e59erow0_col0\" class=\"data row0 col0\" >8.000000</td>\n",
              "                        <td id=\"T_d1ce2e66_295f_11eb_9080_3d043648e59erow0_col1\" class=\"data row0 col1\" >7.000000</td>\n",
              "                        <td id=\"T_d1ce2e66_295f_11eb_9080_3d043648e59erow0_col2\" class=\"data row0 col2\" >7.000000</td>\n",
              "                        <td id=\"T_d1ce2e66_295f_11eb_9080_3d043648e59erow0_col3\" class=\"data row0 col3\" >5.000000</td>\n",
              "                        <td id=\"T_d1ce2e66_295f_11eb_9080_3d043648e59erow0_col4\" class=\"data row0 col4\" >7.000000</td>\n",
              "                        <td id=\"T_d1ce2e66_295f_11eb_9080_3d043648e59erow0_col5\" class=\"data row0 col5\" >7.000000</td>\n",
              "                        <td id=\"T_d1ce2e66_295f_11eb_9080_3d043648e59erow0_col6\" class=\"data row0 col6\" >5.000000</td>\n",
              "                        <td id=\"T_d1ce2e66_295f_11eb_9080_3d043648e59erow0_col7\" class=\"data row0 col7\" >6.000000</td>\n",
              "                        <td id=\"T_d1ce2e66_295f_11eb_9080_3d043648e59erow0_col8\" class=\"data row0 col8\" >10.000000</td>\n",
              "                        <td id=\"T_d1ce2e66_295f_11eb_9080_3d043648e59erow0_col9\" class=\"data row0 col9\" >10.000000</td>\n",
              "                        <td id=\"T_d1ce2e66_295f_11eb_9080_3d043648e59erow0_col10\" class=\"data row0 col10\" >6.000000</td>\n",
              "                        <td id=\"T_d1ce2e66_295f_11eb_9080_3d043648e59erow0_col11\" class=\"data row0 col11\" >5.000000</td>\n",
              "                        <td id=\"T_d1ce2e66_295f_11eb_9080_3d043648e59erow0_col12\" class=\"data row0 col12\" >7.000000</td>\n",
              "                        <td id=\"T_d1ce2e66_295f_11eb_9080_3d043648e59erow0_col13\" class=\"data row0 col13\" >7.000000</td>\n",
              "                        <td id=\"T_d1ce2e66_295f_11eb_9080_3d043648e59erow0_col14\" class=\"data row0 col14\" >-</td>\n",
              "                        <td id=\"T_d1ce2e66_295f_11eb_9080_3d043648e59erow0_col15\" class=\"data row0 col15\" >-</td>\n",
              "                        <td id=\"T_d1ce2e66_295f_11eb_9080_3d043648e59erow0_col16\" class=\"data row0 col16\" >8.000000</td>\n",
              "                        <td id=\"T_d1ce2e66_295f_11eb_9080_3d043648e59erow0_col17\" class=\"data row0 col17\" >9.000000</td>\n",
              "                        <td id=\"T_d1ce2e66_295f_11eb_9080_3d043648e59erow0_col18\" class=\"data row0 col18\" >6.000000</td>\n",
              "                        <td id=\"T_d1ce2e66_295f_11eb_9080_3d043648e59erow0_col19\" class=\"data row0 col19\" >7.000000</td>\n",
              "                        <td id=\"T_d1ce2e66_295f_11eb_9080_3d043648e59erow0_col20\" class=\"data row0 col20\" >7.000000</td>\n",
              "            </tr>\n",
              "            <tr>\n",
              "                        <th id=\"T_d1ce2e66_295f_11eb_9080_3d043648e59elevel0_row1\" class=\"row_heading level0 row1\" >Alumno_2</th>\n",
              "                        <td id=\"T_d1ce2e66_295f_11eb_9080_3d043648e59erow1_col0\" class=\"data row1 col0\" >7.000000</td>\n",
              "                        <td id=\"T_d1ce2e66_295f_11eb_9080_3d043648e59erow1_col1\" class=\"data row1 col1\" >8.000000</td>\n",
              "                        <td id=\"T_d1ce2e66_295f_11eb_9080_3d043648e59erow1_col2\" class=\"data row1 col2\" >8.000000</td>\n",
              "                        <td id=\"T_d1ce2e66_295f_11eb_9080_3d043648e59erow1_col3\" class=\"data row1 col3\" >7.000000</td>\n",
              "                        <td id=\"T_d1ce2e66_295f_11eb_9080_3d043648e59erow1_col4\" class=\"data row1 col4\" >9.000000</td>\n",
              "                        <td id=\"T_d1ce2e66_295f_11eb_9080_3d043648e59erow1_col5\" class=\"data row1 col5\" >8.000000</td>\n",
              "                        <td id=\"T_d1ce2e66_295f_11eb_9080_3d043648e59erow1_col6\" class=\"data row1 col6\" >7.000000</td>\n",
              "                        <td id=\"T_d1ce2e66_295f_11eb_9080_3d043648e59erow1_col7\" class=\"data row1 col7\" >7.000000</td>\n",
              "                        <td id=\"T_d1ce2e66_295f_11eb_9080_3d043648e59erow1_col8\" class=\"data row1 col8\" >9.000000</td>\n",
              "                        <td id=\"T_d1ce2e66_295f_11eb_9080_3d043648e59erow1_col9\" class=\"data row1 col9\" >9.000000</td>\n",
              "                        <td id=\"T_d1ce2e66_295f_11eb_9080_3d043648e59erow1_col10\" class=\"data row1 col10\" >7.000000</td>\n",
              "                        <td id=\"T_d1ce2e66_295f_11eb_9080_3d043648e59erow1_col11\" class=\"data row1 col11\" >7.000000</td>\n",
              "                        <td id=\"T_d1ce2e66_295f_11eb_9080_3d043648e59erow1_col12\" class=\"data row1 col12\" >9.000000</td>\n",
              "                        <td id=\"T_d1ce2e66_295f_11eb_9080_3d043648e59erow1_col13\" class=\"data row1 col13\" >8.000000</td>\n",
              "                        <td id=\"T_d1ce2e66_295f_11eb_9080_3d043648e59erow1_col14\" class=\"data row1 col14\" >-</td>\n",
              "                        <td id=\"T_d1ce2e66_295f_11eb_9080_3d043648e59erow1_col15\" class=\"data row1 col15\" >-</td>\n",
              "                        <td id=\"T_d1ce2e66_295f_11eb_9080_3d043648e59erow1_col16\" class=\"data row1 col16\" >-</td>\n",
              "                        <td id=\"T_d1ce2e66_295f_11eb_9080_3d043648e59erow1_col17\" class=\"data row1 col17\" >-</td>\n",
              "                        <td id=\"T_d1ce2e66_295f_11eb_9080_3d043648e59erow1_col18\" class=\"data row1 col18\" >9.000000</td>\n",
              "                        <td id=\"T_d1ce2e66_295f_11eb_9080_3d043648e59erow1_col19\" class=\"data row1 col19\" >7.000000</td>\n",
              "                        <td id=\"T_d1ce2e66_295f_11eb_9080_3d043648e59erow1_col20\" class=\"data row1 col20\" >7.600000</td>\n",
              "            </tr>\n",
              "            <tr>\n",
              "                        <th id=\"T_d1ce2e66_295f_11eb_9080_3d043648e59elevel0_row2\" class=\"row_heading level0 row2\" >Alumno_3</th>\n",
              "                        <td id=\"T_d1ce2e66_295f_11eb_9080_3d043648e59erow2_col0\" class=\"data row2 col0\" >8.000000</td>\n",
              "                        <td id=\"T_d1ce2e66_295f_11eb_9080_3d043648e59erow2_col1\" class=\"data row2 col1\" >7.000000</td>\n",
              "                        <td id=\"T_d1ce2e66_295f_11eb_9080_3d043648e59erow2_col2\" class=\"data row2 col2\" >7.000000</td>\n",
              "                        <td id=\"T_d1ce2e66_295f_11eb_9080_3d043648e59erow2_col3\" class=\"data row2 col3\" >8.000000</td>\n",
              "                        <td id=\"T_d1ce2e66_295f_11eb_9080_3d043648e59erow2_col4\" class=\"data row2 col4\" >9.000000</td>\n",
              "                        <td id=\"T_d1ce2e66_295f_11eb_9080_3d043648e59erow2_col5\" class=\"data row2 col5\" >8.000000</td>\n",
              "                        <td id=\"T_d1ce2e66_295f_11eb_9080_3d043648e59erow2_col6\" class=\"data row2 col6\" >6.000000</td>\n",
              "                        <td id=\"T_d1ce2e66_295f_11eb_9080_3d043648e59erow2_col7\" class=\"data row2 col7\" >6.000000</td>\n",
              "                        <td id=\"T_d1ce2e66_295f_11eb_9080_3d043648e59erow2_col8\" class=\"data row2 col8\" >9.000000</td>\n",
              "                        <td id=\"T_d1ce2e66_295f_11eb_9080_3d043648e59erow2_col9\" class=\"data row2 col9\" >9.000000</td>\n",
              "                        <td id=\"T_d1ce2e66_295f_11eb_9080_3d043648e59erow2_col10\" class=\"data row2 col10\" >7.000000</td>\n",
              "                        <td id=\"T_d1ce2e66_295f_11eb_9080_3d043648e59erow2_col11\" class=\"data row2 col11\" >5.000000</td>\n",
              "                        <td id=\"T_d1ce2e66_295f_11eb_9080_3d043648e59erow2_col12\" class=\"data row2 col12\" >7.000000</td>\n",
              "                        <td id=\"T_d1ce2e66_295f_11eb_9080_3d043648e59erow2_col13\" class=\"data row2 col13\" >8.000000</td>\n",
              "                        <td id=\"T_d1ce2e66_295f_11eb_9080_3d043648e59erow2_col14\" class=\"data row2 col14\" >-</td>\n",
              "                        <td id=\"T_d1ce2e66_295f_11eb_9080_3d043648e59erow2_col15\" class=\"data row2 col15\" >-</td>\n",
              "                        <td id=\"T_d1ce2e66_295f_11eb_9080_3d043648e59erow2_col16\" class=\"data row2 col16\" >-</td>\n",
              "                        <td id=\"T_d1ce2e66_295f_11eb_9080_3d043648e59erow2_col17\" class=\"data row2 col17\" >-</td>\n",
              "                        <td id=\"T_d1ce2e66_295f_11eb_9080_3d043648e59erow2_col18\" class=\"data row2 col18\" >6.000000</td>\n",
              "                        <td id=\"T_d1ce2e66_295f_11eb_9080_3d043648e59erow2_col19\" class=\"data row2 col19\" >8.000000</td>\n",
              "                        <td id=\"T_d1ce2e66_295f_11eb_9080_3d043648e59erow2_col20\" class=\"data row2 col20\" >7.400000</td>\n",
              "            </tr>\n",
              "            <tr>\n",
              "                        <th id=\"T_d1ce2e66_295f_11eb_9080_3d043648e59elevel0_row3\" class=\"row_heading level0 row3\" >Alumno_4</th>\n",
              "                        <td id=\"T_d1ce2e66_295f_11eb_9080_3d043648e59erow3_col0\" class=\"data row3 col0\" >-</td>\n",
              "                        <td id=\"T_d1ce2e66_295f_11eb_9080_3d043648e59erow3_col1\" class=\"data row3 col1\" >-</td>\n",
              "                        <td id=\"T_d1ce2e66_295f_11eb_9080_3d043648e59erow3_col2\" class=\"data row3 col2\" >7.000000</td>\n",
              "                        <td id=\"T_d1ce2e66_295f_11eb_9080_3d043648e59erow3_col3\" class=\"data row3 col3\" >7.000000</td>\n",
              "                        <td id=\"T_d1ce2e66_295f_11eb_9080_3d043648e59erow3_col4\" class=\"data row3 col4\" >8.000000</td>\n",
              "                        <td id=\"T_d1ce2e66_295f_11eb_9080_3d043648e59erow3_col5\" class=\"data row3 col5\" >7.000000</td>\n",
              "                        <td id=\"T_d1ce2e66_295f_11eb_9080_3d043648e59erow3_col6\" class=\"data row3 col6\" >3.000000</td>\n",
              "                        <td id=\"T_d1ce2e66_295f_11eb_9080_3d043648e59erow3_col7\" class=\"data row3 col7\" >2.000000</td>\n",
              "                        <td id=\"T_d1ce2e66_295f_11eb_9080_3d043648e59erow3_col8\" class=\"data row3 col8\" >7.000000</td>\n",
              "                        <td id=\"T_d1ce2e66_295f_11eb_9080_3d043648e59erow3_col9\" class=\"data row3 col9\" >8.000000</td>\n",
              "                        <td id=\"T_d1ce2e66_295f_11eb_9080_3d043648e59erow3_col10\" class=\"data row3 col10\" >7.000000</td>\n",
              "                        <td id=\"T_d1ce2e66_295f_11eb_9080_3d043648e59erow3_col11\" class=\"data row3 col11\" >6.000000</td>\n",
              "                        <td id=\"T_d1ce2e66_295f_11eb_9080_3d043648e59erow3_col12\" class=\"data row3 col12\" >10.000000</td>\n",
              "                        <td id=\"T_d1ce2e66_295f_11eb_9080_3d043648e59erow3_col13\" class=\"data row3 col13\" >10.000000</td>\n",
              "                        <td id=\"T_d1ce2e66_295f_11eb_9080_3d043648e59erow3_col14\" class=\"data row3 col14\" >8.000000</td>\n",
              "                        <td id=\"T_d1ce2e66_295f_11eb_9080_3d043648e59erow3_col15\" class=\"data row3 col15\" >2.000000</td>\n",
              "                        <td id=\"T_d1ce2e66_295f_11eb_9080_3d043648e59erow3_col16\" class=\"data row3 col16\" >-</td>\n",
              "                        <td id=\"T_d1ce2e66_295f_11eb_9080_3d043648e59erow3_col17\" class=\"data row3 col17\" >-</td>\n",
              "                        <td id=\"T_d1ce2e66_295f_11eb_9080_3d043648e59erow3_col18\" class=\"data row3 col18\" >7.000000</td>\n",
              "                        <td id=\"T_d1ce2e66_295f_11eb_9080_3d043648e59erow3_col19\" class=\"data row3 col19\" >8.000000</td>\n",
              "                        <td id=\"T_d1ce2e66_295f_11eb_9080_3d043648e59erow3_col20\" class=\"data row3 col20\" >6.200000</td>\n",
              "            </tr>\n",
              "    </tbody></table>"
            ],
            "text/plain": [
              "<pandas.io.formats.style.Styler at 0x7fe4fc106860>"
            ]
          },
          "metadata": {
            "tags": []
          },
          "execution_count": 4
        }
      ]
    },
    {
      "cell_type": "code",
      "metadata": {
        "colab": {
          "base_uri": "https://localhost:8080/",
          "height": 166
        },
        "id": "OPSyCl_3oj6_",
        "outputId": "8490dbf8-647d-4acf-d10e-aa848e6350f3"
      },
      "source": [
        "#df = actilla_final.drop(['Suspenso'], axis=1)\n",
        "df = actilla_final[actilla_final.Eval <= ultima_evaluacion]\n",
        "\n",
        "\n",
        "df2 = pd.concat([df.set_index(['Alumno','Asignatura','Eval']).Nota.unstack('Asignatura').unstack('Eval'),df[df.Eval == 2].groupby('Alumno')[['Nota']].mean().rename(columns={'Nota': ('Nota','Media','2')})], axis=1).round(1)\n",
        "\n",
        "#df2.style.format({('2FR II',2): lambda x: \"±{:.0f}\".format(x)})\n",
        "#df2.style.format({('2FR II',2): lambda x: \"{:.0f}\".format(x)})\n",
        "#df2.style.format(\"{:.0f}\").format({('Nota','Media'):\"{:.1f}\"}).format(\"{:.2f}\",subset=('Alumno_4',('BI',2))).applymap(color_negative_red).highlight_null(\"green\")\n",
        "df2.style.format(\"{:.0f}\").format(\"{:.1f}\",subset=(df2.index,df2.columns[-1:])).format(\"{:.1f}\",subset=(df2.index[-1:],df2.columns)).applymap(color_negative_red).highlight_null(\"yellow\")\n",
        "#df2.style.set_na_rep(\"-\").highlight_null(\"grey\").format(\"{:.0f}\")\n",
        "df2.fillna('-').style.set_precision(0)"
      ],
      "execution_count": null,
      "outputs": [
        {
          "output_type": "execute_result",
          "data": {
            "text/html": [
              "<style  type=\"text/css\" >\n",
              "</style><table id=\"T_a7d781e0_2a25_11eb_98be_5f8720507569\" ><thead>    <tr>        <th class=\"index_name level0\" >Asignatura</th>        <th class=\"col_heading level0 col0\" colspan=2>2FR II</th>        <th class=\"col_heading level0 col2\" colspan=2>BI</th>        <th class=\"col_heading level0 col4\" colspan=2>CTM</th>        <th class=\"col_heading level0 col6\" colspan=2>HE</th>        <th class=\"col_heading level0 col8\" colspan=2>IN II</th>        <th class=\"col_heading level0 col10\" colspan=2>LC2</th>        <th class=\"col_heading level0 col12\" colspan=2>MA2</th>        <th class=\"col_heading level0 col14\" colspan=2>PS</th>        <th class=\"col_heading level0 col16\" colspan=2>PSC</th>        <th class=\"col_heading level0 col18\" colspan=2>QU</th>        <th class=\"col_heading level0 col20\" >Nota</th>    </tr>    <tr>        <th class=\"index_name level1\" >Eval</th>        <th class=\"col_heading level1 col0\" >1</th>        <th class=\"col_heading level1 col1\" >2</th>        <th class=\"col_heading level1 col2\" >1</th>        <th class=\"col_heading level1 col3\" >2</th>        <th class=\"col_heading level1 col4\" >1</th>        <th class=\"col_heading level1 col5\" >2</th>        <th class=\"col_heading level1 col6\" >1</th>        <th class=\"col_heading level1 col7\" >2</th>        <th class=\"col_heading level1 col8\" >1</th>        <th class=\"col_heading level1 col9\" >2</th>        <th class=\"col_heading level1 col10\" >1</th>        <th class=\"col_heading level1 col11\" >2</th>        <th class=\"col_heading level1 col12\" >1</th>        <th class=\"col_heading level1 col13\" >2</th>        <th class=\"col_heading level1 col14\" >1</th>        <th class=\"col_heading level1 col15\" >2</th>        <th class=\"col_heading level1 col16\" >1</th>        <th class=\"col_heading level1 col17\" >2</th>        <th class=\"col_heading level1 col18\" >1</th>        <th class=\"col_heading level1 col19\" >2</th>        <th class=\"col_heading level1 col20\" >Media</th>    </tr>    <tr>        <th class=\"index_name level0\" >Alumno</th>        <th class=\"blank\" ></th>        <th class=\"blank\" ></th>        <th class=\"blank\" ></th>        <th class=\"blank\" ></th>        <th class=\"blank\" ></th>        <th class=\"blank\" ></th>        <th class=\"blank\" ></th>        <th class=\"blank\" ></th>        <th class=\"blank\" ></th>        <th class=\"blank\" ></th>        <th class=\"blank\" ></th>        <th class=\"blank\" ></th>        <th class=\"blank\" ></th>        <th class=\"blank\" ></th>        <th class=\"blank\" ></th>        <th class=\"blank\" ></th>        <th class=\"blank\" ></th>        <th class=\"blank\" ></th>        <th class=\"blank\" ></th>        <th class=\"blank\" ></th>        <th class=\"blank\" ></th>    </tr></thead><tbody>\n",
              "                <tr>\n",
              "                        <th id=\"T_a7d781e0_2a25_11eb_98be_5f8720507569level0_row0\" class=\"row_heading level0 row0\" >Alumno_1</th>\n",
              "                        <td id=\"T_a7d781e0_2a25_11eb_98be_5f8720507569row0_col0\" class=\"data row0 col0\" >8</td>\n",
              "                        <td id=\"T_a7d781e0_2a25_11eb_98be_5f8720507569row0_col1\" class=\"data row0 col1\" >7</td>\n",
              "                        <td id=\"T_a7d781e0_2a25_11eb_98be_5f8720507569row0_col2\" class=\"data row0 col2\" >7</td>\n",
              "                        <td id=\"T_a7d781e0_2a25_11eb_98be_5f8720507569row0_col3\" class=\"data row0 col3\" >5</td>\n",
              "                        <td id=\"T_a7d781e0_2a25_11eb_98be_5f8720507569row0_col4\" class=\"data row0 col4\" >7</td>\n",
              "                        <td id=\"T_a7d781e0_2a25_11eb_98be_5f8720507569row0_col5\" class=\"data row0 col5\" >7</td>\n",
              "                        <td id=\"T_a7d781e0_2a25_11eb_98be_5f8720507569row0_col6\" class=\"data row0 col6\" >5</td>\n",
              "                        <td id=\"T_a7d781e0_2a25_11eb_98be_5f8720507569row0_col7\" class=\"data row0 col7\" >6</td>\n",
              "                        <td id=\"T_a7d781e0_2a25_11eb_98be_5f8720507569row0_col8\" class=\"data row0 col8\" >10</td>\n",
              "                        <td id=\"T_a7d781e0_2a25_11eb_98be_5f8720507569row0_col9\" class=\"data row0 col9\" >10</td>\n",
              "                        <td id=\"T_a7d781e0_2a25_11eb_98be_5f8720507569row0_col10\" class=\"data row0 col10\" >6</td>\n",
              "                        <td id=\"T_a7d781e0_2a25_11eb_98be_5f8720507569row0_col11\" class=\"data row0 col11\" >5</td>\n",
              "                        <td id=\"T_a7d781e0_2a25_11eb_98be_5f8720507569row0_col12\" class=\"data row0 col12\" >7</td>\n",
              "                        <td id=\"T_a7d781e0_2a25_11eb_98be_5f8720507569row0_col13\" class=\"data row0 col13\" >7</td>\n",
              "                        <td id=\"T_a7d781e0_2a25_11eb_98be_5f8720507569row0_col14\" class=\"data row0 col14\" >-</td>\n",
              "                        <td id=\"T_a7d781e0_2a25_11eb_98be_5f8720507569row0_col15\" class=\"data row0 col15\" >-</td>\n",
              "                        <td id=\"T_a7d781e0_2a25_11eb_98be_5f8720507569row0_col16\" class=\"data row0 col16\" >8</td>\n",
              "                        <td id=\"T_a7d781e0_2a25_11eb_98be_5f8720507569row0_col17\" class=\"data row0 col17\" >9</td>\n",
              "                        <td id=\"T_a7d781e0_2a25_11eb_98be_5f8720507569row0_col18\" class=\"data row0 col18\" >6</td>\n",
              "                        <td id=\"T_a7d781e0_2a25_11eb_98be_5f8720507569row0_col19\" class=\"data row0 col19\" >7</td>\n",
              "                        <td id=\"T_a7d781e0_2a25_11eb_98be_5f8720507569row0_col20\" class=\"data row0 col20\" >7</td>\n",
              "            </tr>\n",
              "            <tr>\n",
              "                        <th id=\"T_a7d781e0_2a25_11eb_98be_5f8720507569level0_row1\" class=\"row_heading level0 row1\" >Alumno_2</th>\n",
              "                        <td id=\"T_a7d781e0_2a25_11eb_98be_5f8720507569row1_col0\" class=\"data row1 col0\" >7</td>\n",
              "                        <td id=\"T_a7d781e0_2a25_11eb_98be_5f8720507569row1_col1\" class=\"data row1 col1\" >8</td>\n",
              "                        <td id=\"T_a7d781e0_2a25_11eb_98be_5f8720507569row1_col2\" class=\"data row1 col2\" >8</td>\n",
              "                        <td id=\"T_a7d781e0_2a25_11eb_98be_5f8720507569row1_col3\" class=\"data row1 col3\" >7</td>\n",
              "                        <td id=\"T_a7d781e0_2a25_11eb_98be_5f8720507569row1_col4\" class=\"data row1 col4\" >9</td>\n",
              "                        <td id=\"T_a7d781e0_2a25_11eb_98be_5f8720507569row1_col5\" class=\"data row1 col5\" >8</td>\n",
              "                        <td id=\"T_a7d781e0_2a25_11eb_98be_5f8720507569row1_col6\" class=\"data row1 col6\" >7</td>\n",
              "                        <td id=\"T_a7d781e0_2a25_11eb_98be_5f8720507569row1_col7\" class=\"data row1 col7\" >7</td>\n",
              "                        <td id=\"T_a7d781e0_2a25_11eb_98be_5f8720507569row1_col8\" class=\"data row1 col8\" >9</td>\n",
              "                        <td id=\"T_a7d781e0_2a25_11eb_98be_5f8720507569row1_col9\" class=\"data row1 col9\" >9</td>\n",
              "                        <td id=\"T_a7d781e0_2a25_11eb_98be_5f8720507569row1_col10\" class=\"data row1 col10\" >7</td>\n",
              "                        <td id=\"T_a7d781e0_2a25_11eb_98be_5f8720507569row1_col11\" class=\"data row1 col11\" >7</td>\n",
              "                        <td id=\"T_a7d781e0_2a25_11eb_98be_5f8720507569row1_col12\" class=\"data row1 col12\" >9</td>\n",
              "                        <td id=\"T_a7d781e0_2a25_11eb_98be_5f8720507569row1_col13\" class=\"data row1 col13\" >8</td>\n",
              "                        <td id=\"T_a7d781e0_2a25_11eb_98be_5f8720507569row1_col14\" class=\"data row1 col14\" >-</td>\n",
              "                        <td id=\"T_a7d781e0_2a25_11eb_98be_5f8720507569row1_col15\" class=\"data row1 col15\" >-</td>\n",
              "                        <td id=\"T_a7d781e0_2a25_11eb_98be_5f8720507569row1_col16\" class=\"data row1 col16\" >-</td>\n",
              "                        <td id=\"T_a7d781e0_2a25_11eb_98be_5f8720507569row1_col17\" class=\"data row1 col17\" >-</td>\n",
              "                        <td id=\"T_a7d781e0_2a25_11eb_98be_5f8720507569row1_col18\" class=\"data row1 col18\" >9</td>\n",
              "                        <td id=\"T_a7d781e0_2a25_11eb_98be_5f8720507569row1_col19\" class=\"data row1 col19\" >7</td>\n",
              "                        <td id=\"T_a7d781e0_2a25_11eb_98be_5f8720507569row1_col20\" class=\"data row1 col20\" >8</td>\n",
              "            </tr>\n",
              "            <tr>\n",
              "                        <th id=\"T_a7d781e0_2a25_11eb_98be_5f8720507569level0_row2\" class=\"row_heading level0 row2\" >Alumno_3</th>\n",
              "                        <td id=\"T_a7d781e0_2a25_11eb_98be_5f8720507569row2_col0\" class=\"data row2 col0\" >8</td>\n",
              "                        <td id=\"T_a7d781e0_2a25_11eb_98be_5f8720507569row2_col1\" class=\"data row2 col1\" >7</td>\n",
              "                        <td id=\"T_a7d781e0_2a25_11eb_98be_5f8720507569row2_col2\" class=\"data row2 col2\" >7</td>\n",
              "                        <td id=\"T_a7d781e0_2a25_11eb_98be_5f8720507569row2_col3\" class=\"data row2 col3\" >8</td>\n",
              "                        <td id=\"T_a7d781e0_2a25_11eb_98be_5f8720507569row2_col4\" class=\"data row2 col4\" >9</td>\n",
              "                        <td id=\"T_a7d781e0_2a25_11eb_98be_5f8720507569row2_col5\" class=\"data row2 col5\" >8</td>\n",
              "                        <td id=\"T_a7d781e0_2a25_11eb_98be_5f8720507569row2_col6\" class=\"data row2 col6\" >6</td>\n",
              "                        <td id=\"T_a7d781e0_2a25_11eb_98be_5f8720507569row2_col7\" class=\"data row2 col7\" >6</td>\n",
              "                        <td id=\"T_a7d781e0_2a25_11eb_98be_5f8720507569row2_col8\" class=\"data row2 col8\" >9</td>\n",
              "                        <td id=\"T_a7d781e0_2a25_11eb_98be_5f8720507569row2_col9\" class=\"data row2 col9\" >9</td>\n",
              "                        <td id=\"T_a7d781e0_2a25_11eb_98be_5f8720507569row2_col10\" class=\"data row2 col10\" >7</td>\n",
              "                        <td id=\"T_a7d781e0_2a25_11eb_98be_5f8720507569row2_col11\" class=\"data row2 col11\" >5</td>\n",
              "                        <td id=\"T_a7d781e0_2a25_11eb_98be_5f8720507569row2_col12\" class=\"data row2 col12\" >7</td>\n",
              "                        <td id=\"T_a7d781e0_2a25_11eb_98be_5f8720507569row2_col13\" class=\"data row2 col13\" >8</td>\n",
              "                        <td id=\"T_a7d781e0_2a25_11eb_98be_5f8720507569row2_col14\" class=\"data row2 col14\" >-</td>\n",
              "                        <td id=\"T_a7d781e0_2a25_11eb_98be_5f8720507569row2_col15\" class=\"data row2 col15\" >-</td>\n",
              "                        <td id=\"T_a7d781e0_2a25_11eb_98be_5f8720507569row2_col16\" class=\"data row2 col16\" >-</td>\n",
              "                        <td id=\"T_a7d781e0_2a25_11eb_98be_5f8720507569row2_col17\" class=\"data row2 col17\" >-</td>\n",
              "                        <td id=\"T_a7d781e0_2a25_11eb_98be_5f8720507569row2_col18\" class=\"data row2 col18\" >6</td>\n",
              "                        <td id=\"T_a7d781e0_2a25_11eb_98be_5f8720507569row2_col19\" class=\"data row2 col19\" >8</td>\n",
              "                        <td id=\"T_a7d781e0_2a25_11eb_98be_5f8720507569row2_col20\" class=\"data row2 col20\" >7</td>\n",
              "            </tr>\n",
              "            <tr>\n",
              "                        <th id=\"T_a7d781e0_2a25_11eb_98be_5f8720507569level0_row3\" class=\"row_heading level0 row3\" >Alumno_4</th>\n",
              "                        <td id=\"T_a7d781e0_2a25_11eb_98be_5f8720507569row3_col0\" class=\"data row3 col0\" >-</td>\n",
              "                        <td id=\"T_a7d781e0_2a25_11eb_98be_5f8720507569row3_col1\" class=\"data row3 col1\" >-</td>\n",
              "                        <td id=\"T_a7d781e0_2a25_11eb_98be_5f8720507569row3_col2\" class=\"data row3 col2\" >7</td>\n",
              "                        <td id=\"T_a7d781e0_2a25_11eb_98be_5f8720507569row3_col3\" class=\"data row3 col3\" >7</td>\n",
              "                        <td id=\"T_a7d781e0_2a25_11eb_98be_5f8720507569row3_col4\" class=\"data row3 col4\" >8</td>\n",
              "                        <td id=\"T_a7d781e0_2a25_11eb_98be_5f8720507569row3_col5\" class=\"data row3 col5\" >7</td>\n",
              "                        <td id=\"T_a7d781e0_2a25_11eb_98be_5f8720507569row3_col6\" class=\"data row3 col6\" >3</td>\n",
              "                        <td id=\"T_a7d781e0_2a25_11eb_98be_5f8720507569row3_col7\" class=\"data row3 col7\" >2</td>\n",
              "                        <td id=\"T_a7d781e0_2a25_11eb_98be_5f8720507569row3_col8\" class=\"data row3 col8\" >7</td>\n",
              "                        <td id=\"T_a7d781e0_2a25_11eb_98be_5f8720507569row3_col9\" class=\"data row3 col9\" >8</td>\n",
              "                        <td id=\"T_a7d781e0_2a25_11eb_98be_5f8720507569row3_col10\" class=\"data row3 col10\" >7</td>\n",
              "                        <td id=\"T_a7d781e0_2a25_11eb_98be_5f8720507569row3_col11\" class=\"data row3 col11\" >6</td>\n",
              "                        <td id=\"T_a7d781e0_2a25_11eb_98be_5f8720507569row3_col12\" class=\"data row3 col12\" >10</td>\n",
              "                        <td id=\"T_a7d781e0_2a25_11eb_98be_5f8720507569row3_col13\" class=\"data row3 col13\" >10</td>\n",
              "                        <td id=\"T_a7d781e0_2a25_11eb_98be_5f8720507569row3_col14\" class=\"data row3 col14\" >8</td>\n",
              "                        <td id=\"T_a7d781e0_2a25_11eb_98be_5f8720507569row3_col15\" class=\"data row3 col15\" >2</td>\n",
              "                        <td id=\"T_a7d781e0_2a25_11eb_98be_5f8720507569row3_col16\" class=\"data row3 col16\" >-</td>\n",
              "                        <td id=\"T_a7d781e0_2a25_11eb_98be_5f8720507569row3_col17\" class=\"data row3 col17\" >-</td>\n",
              "                        <td id=\"T_a7d781e0_2a25_11eb_98be_5f8720507569row3_col18\" class=\"data row3 col18\" >7</td>\n",
              "                        <td id=\"T_a7d781e0_2a25_11eb_98be_5f8720507569row3_col19\" class=\"data row3 col19\" >8</td>\n",
              "                        <td id=\"T_a7d781e0_2a25_11eb_98be_5f8720507569row3_col20\" class=\"data row3 col20\" >6</td>\n",
              "            </tr>\n",
              "    </tbody></table>"
            ],
            "text/plain": [
              "<pandas.io.formats.style.Styler at 0x7ffa54e49748>"
            ]
          },
          "metadata": {
            "tags": []
          },
          "execution_count": 5
        }
      ]
    },
    {
      "cell_type": "code",
      "metadata": {
        "id": "Vbl3OFd7CAy_",
        "outputId": "cc0e7d7c-e213-4bef-919a-a6786930e945"
      },
      "source": [
        "%pip install imgkit"
      ],
      "execution_count": null,
      "outputs": [
        {
          "output_type": "stream",
          "text": [
            "Collecting imgkit\n",
            "  Downloading imgkit-1.0.2.tar.gz (9.8 kB)\n",
            "Building wheels for collected packages: imgkit\n",
            "  Building wheel for imgkit (setup.py) ... \u001b[?25ldone\n",
            "\u001b[?25h  Created wheel for imgkit: filename=imgkit-1.0.2-py3-none-any.whl size=6592 sha256=486031d4a9229c668c4a698775dda54d31b5f35aa671889f6fd955a2c9fd9ccc\n",
            "  Stored in directory: /home/hp/.cache/pip/wheels/ab/97/63/d1aaf14815a0c4979c0c231f25422414d2768d6919e1ffa443\n",
            "Successfully built imgkit\n",
            "Installing collected packages: imgkit\n",
            "Successfully installed imgkit-1.0.2\n",
            "Note: you may need to restart the kernel to use updated packages.\n"
          ],
          "name": "stdout"
        }
      ]
    },
    {
      "cell_type": "code",
      "metadata": {
        "id": "3vjvWa8VCAy_"
      },
      "source": [
        "html = df2.style.format(\"{:.0f}\").format(\"{:.1f}\",subset=(df2.index,df2.columns[-1:])).format(\"{:.1f}\",subset=(df2.index[-1:],df2.columns)).applymap(color_negative_red).highlight_null(\"yellow\").render()\n"
      ],
      "execution_count": null,
      "outputs": []
    },
    {
      "cell_type": "code",
      "metadata": {
        "id": "fN1DuIhhCAy_",
        "outputId": "4a177be0-8fb5-4bf9-ebd9-c1b500c0c338"
      },
      "source": [
        "import imgkit\n",
        "imgkit.from_string(html,'prueba.png')"
      ],
      "execution_count": null,
      "outputs": [
        {
          "output_type": "stream",
          "text": [
            "Loading page (1/2)\n",
            "[>                                                           ] 0%\r[======>                                                     ] 10%\r[==============================>                             ] 50%\r[============================================================] 100%\rRendering (2/2)                                                    \n",
            "[>                                                           ] 0%\r[===============>                                            ] 25%\r[============================================================] 100%\rDone                                                               \n"
          ],
          "name": "stdout"
        },
        {
          "output_type": "execute_result",
          "data": {
            "text/plain": [
              "True"
            ]
          },
          "metadata": {
            "tags": []
          },
          "execution_count": 8
        }
      ]
    },
    {
      "cell_type": "code",
      "metadata": {
        "id": "3yl8CP9ICAzA",
        "outputId": "6b2aecda-ff5c-4051-bee2-e4ee102dbe88"
      },
      "source": [
        "df5[df5.columns[df5.columns.get_level_values(1) != ultima_evaluacion]] "
      ],
      "execution_count": null,
      "outputs": [
        {
          "output_type": "execute_result",
          "data": {
            "text/html": [
              "<div>\n",
              "<style scoped>\n",
              "    .dataframe tbody tr th:only-of-type {\n",
              "        vertical-align: middle;\n",
              "    }\n",
              "\n",
              "    .dataframe tbody tr th {\n",
              "        vertical-align: top;\n",
              "    }\n",
              "\n",
              "    .dataframe thead tr th {\n",
              "        text-align: left;\n",
              "    }\n",
              "</style>\n",
              "<table border=\"1\" class=\"dataframe\">\n",
              "  <thead>\n",
              "    <tr>\n",
              "      <th>Asignatura</th>\n",
              "      <th>2FR II</th>\n",
              "      <th>BI</th>\n",
              "      <th>CTM</th>\n",
              "      <th>HE</th>\n",
              "      <th>IN II</th>\n",
              "      <th>LC2</th>\n",
              "      <th>MA2</th>\n",
              "      <th>PS</th>\n",
              "      <th>PSC</th>\n",
              "      <th>QU</th>\n",
              "    </tr>\n",
              "    <tr>\n",
              "      <th>Eval</th>\n",
              "      <th>1</th>\n",
              "      <th>1</th>\n",
              "      <th>1</th>\n",
              "      <th>1</th>\n",
              "      <th>1</th>\n",
              "      <th>1</th>\n",
              "      <th>1</th>\n",
              "      <th>1</th>\n",
              "      <th>1</th>\n",
              "      <th>1</th>\n",
              "    </tr>\n",
              "  </thead>\n",
              "  <tbody>\n",
              "    <tr>\n",
              "      <th>Alumno_1</th>\n",
              "      <td>8.000000</td>\n",
              "      <td>7.00</td>\n",
              "      <td>7.00</td>\n",
              "      <td>5.00</td>\n",
              "      <td>10.00</td>\n",
              "      <td>6.00</td>\n",
              "      <td>7.00</td>\n",
              "      <td>NaN</td>\n",
              "      <td>8.0</td>\n",
              "      <td>6.0</td>\n",
              "    </tr>\n",
              "    <tr>\n",
              "      <th>Alumno_2</th>\n",
              "      <td>7.000000</td>\n",
              "      <td>8.00</td>\n",
              "      <td>9.00</td>\n",
              "      <td>7.00</td>\n",
              "      <td>9.00</td>\n",
              "      <td>7.00</td>\n",
              "      <td>9.00</td>\n",
              "      <td>NaN</td>\n",
              "      <td>NaN</td>\n",
              "      <td>9.0</td>\n",
              "    </tr>\n",
              "    <tr>\n",
              "      <th>Alumno_3</th>\n",
              "      <td>8.000000</td>\n",
              "      <td>7.00</td>\n",
              "      <td>9.00</td>\n",
              "      <td>6.00</td>\n",
              "      <td>9.00</td>\n",
              "      <td>7.00</td>\n",
              "      <td>7.00</td>\n",
              "      <td>NaN</td>\n",
              "      <td>NaN</td>\n",
              "      <td>6.0</td>\n",
              "    </tr>\n",
              "    <tr>\n",
              "      <th>Alumno_4</th>\n",
              "      <td>NaN</td>\n",
              "      <td>7.00</td>\n",
              "      <td>8.00</td>\n",
              "      <td>3.00</td>\n",
              "      <td>7.00</td>\n",
              "      <td>7.00</td>\n",
              "      <td>10.00</td>\n",
              "      <td>8.0</td>\n",
              "      <td>NaN</td>\n",
              "      <td>7.0</td>\n",
              "    </tr>\n",
              "    <tr>\n",
              "      <th>Media</th>\n",
              "      <td>7.666667</td>\n",
              "      <td>7.25</td>\n",
              "      <td>8.25</td>\n",
              "      <td>5.25</td>\n",
              "      <td>8.75</td>\n",
              "      <td>6.75</td>\n",
              "      <td>8.25</td>\n",
              "      <td>8.0</td>\n",
              "      <td>8.0</td>\n",
              "      <td>7.0</td>\n",
              "    </tr>\n",
              "  </tbody>\n",
              "</table>\n",
              "</div>"
            ],
            "text/plain": [
              "Asignatura    2FR II    BI   CTM    HE  IN II   LC2    MA2   PS  PSC   QU\n",
              "Eval               1     1     1     1      1     1      1    1    1    1\n",
              "Alumno_1    8.000000  7.00  7.00  5.00  10.00  6.00   7.00  NaN  8.0  6.0\n",
              "Alumno_2    7.000000  8.00  9.00  7.00   9.00  7.00   9.00  NaN  NaN  9.0\n",
              "Alumno_3    8.000000  7.00  9.00  6.00   9.00  7.00   7.00  NaN  NaN  6.0\n",
              "Alumno_4         NaN  7.00  8.00  3.00   7.00  7.00  10.00  8.0  NaN  7.0\n",
              "Media       7.666667  7.25  8.25  5.25   8.75  6.75   8.25  8.0  8.0  7.0"
            ]
          },
          "metadata": {
            "tags": []
          },
          "execution_count": 144
        }
      ]
    },
    {
      "cell_type": "code",
      "metadata": {
        "id": "AIvHj6RQCAzB",
        "outputId": "76bed30b-cc47-48c4-89f0-ef0a54cd4940"
      },
      "source": [
        "df5.style.set_table_styles([{'selector': 'td','props': [('border', '2px solid')]}, \\\n",
        "                            {'selector': 'tr','props': [('border', '2px solid')]}, \\\n",
        "                            {'selector': 'th','props': [('text-align', 'center')]}, \\\n",
        "                            {'selector': 'td','props': [('font-size', 'smaller')]} \\\n",
        "                           ], \\\n",
        "                          )"
      ],
      "execution_count": null,
      "outputs": [
        {
          "output_type": "execute_result",
          "data": {
            "text/html": [
              "<style  type=\"text/css\" >\n",
              "    #T_fd0d8812_2a93_11eb_a45e_f7026c055b99 td {\n",
              "          border: 2px solid;\n",
              "    }    #T_fd0d8812_2a93_11eb_a45e_f7026c055b99 tr {\n",
              "          border: 2px solid;\n",
              "    }    #T_fd0d8812_2a93_11eb_a45e_f7026c055b99 th {\n",
              "          text-align: center;\n",
              "    }    #T_fd0d8812_2a93_11eb_a45e_f7026c055b99 td {\n",
              "          font-size: smaller;\n",
              "    }</style><table id=\"T_fd0d8812_2a93_11eb_a45e_f7026c055b99\" ><thead>    <tr>        <th class=\"index_name level0\" >Asignatura</th>        <th class=\"col_heading level0 col0\" colspan=2>2FR II</th>        <th class=\"col_heading level0 col2\" colspan=2>BI</th>        <th class=\"col_heading level0 col4\" colspan=2>CTM</th>        <th class=\"col_heading level0 col6\" colspan=2>HE</th>        <th class=\"col_heading level0 col8\" colspan=2>IN II</th>        <th class=\"col_heading level0 col10\" colspan=2>LC2</th>        <th class=\"col_heading level0 col12\" colspan=2>MA2</th>        <th class=\"col_heading level0 col14\" colspan=2>PS</th>        <th class=\"col_heading level0 col16\" colspan=2>PSC</th>        <th class=\"col_heading level0 col18\" colspan=2>QU</th>        <th class=\"col_heading level0 col20\" >NM</th>        <th class=\"col_heading level0 col21\" >MNS</th>    </tr>    <tr>        <th class=\"index_name level1\" >Eval</th>        <th class=\"col_heading level1 col0\" >1</th>        <th class=\"col_heading level1 col1\" >2</th>        <th class=\"col_heading level1 col2\" >1</th>        <th class=\"col_heading level1 col3\" >2</th>        <th class=\"col_heading level1 col4\" >1</th>        <th class=\"col_heading level1 col5\" >2</th>        <th class=\"col_heading level1 col6\" >1</th>        <th class=\"col_heading level1 col7\" >2</th>        <th class=\"col_heading level1 col8\" >1</th>        <th class=\"col_heading level1 col9\" >2</th>        <th class=\"col_heading level1 col10\" >1</th>        <th class=\"col_heading level1 col11\" >2</th>        <th class=\"col_heading level1 col12\" >1</th>        <th class=\"col_heading level1 col13\" >2</th>        <th class=\"col_heading level1 col14\" >1</th>        <th class=\"col_heading level1 col15\" >2</th>        <th class=\"col_heading level1 col16\" >1</th>        <th class=\"col_heading level1 col17\" >2</th>        <th class=\"col_heading level1 col18\" >1</th>        <th class=\"col_heading level1 col19\" >2</th>        <th class=\"col_heading level1 col20\" >2</th>        <th class=\"col_heading level1 col21\" >2</th>    </tr></thead><tbody>\n",
              "                <tr>\n",
              "                        <th id=\"T_fd0d8812_2a93_11eb_a45e_f7026c055b99level0_row0\" class=\"row_heading level0 row0\" >Alumno_1</th>\n",
              "                        <td id=\"T_fd0d8812_2a93_11eb_a45e_f7026c055b99row0_col0\" class=\"data row0 col0\" >8.000000</td>\n",
              "                        <td id=\"T_fd0d8812_2a93_11eb_a45e_f7026c055b99row0_col1\" class=\"data row0 col1\" >7.000000</td>\n",
              "                        <td id=\"T_fd0d8812_2a93_11eb_a45e_f7026c055b99row0_col2\" class=\"data row0 col2\" >7.000000</td>\n",
              "                        <td id=\"T_fd0d8812_2a93_11eb_a45e_f7026c055b99row0_col3\" class=\"data row0 col3\" >5.000000</td>\n",
              "                        <td id=\"T_fd0d8812_2a93_11eb_a45e_f7026c055b99row0_col4\" class=\"data row0 col4\" >7.000000</td>\n",
              "                        <td id=\"T_fd0d8812_2a93_11eb_a45e_f7026c055b99row0_col5\" class=\"data row0 col5\" >7.000000</td>\n",
              "                        <td id=\"T_fd0d8812_2a93_11eb_a45e_f7026c055b99row0_col6\" class=\"data row0 col6\" >5.000000</td>\n",
              "                        <td id=\"T_fd0d8812_2a93_11eb_a45e_f7026c055b99row0_col7\" class=\"data row0 col7\" >6.000000</td>\n",
              "                        <td id=\"T_fd0d8812_2a93_11eb_a45e_f7026c055b99row0_col8\" class=\"data row0 col8\" >10.000000</td>\n",
              "                        <td id=\"T_fd0d8812_2a93_11eb_a45e_f7026c055b99row0_col9\" class=\"data row0 col9\" >10.000000</td>\n",
              "                        <td id=\"T_fd0d8812_2a93_11eb_a45e_f7026c055b99row0_col10\" class=\"data row0 col10\" >6.000000</td>\n",
              "                        <td id=\"T_fd0d8812_2a93_11eb_a45e_f7026c055b99row0_col11\" class=\"data row0 col11\" >5.000000</td>\n",
              "                        <td id=\"T_fd0d8812_2a93_11eb_a45e_f7026c055b99row0_col12\" class=\"data row0 col12\" >7.000000</td>\n",
              "                        <td id=\"T_fd0d8812_2a93_11eb_a45e_f7026c055b99row0_col13\" class=\"data row0 col13\" >7.000000</td>\n",
              "                        <td id=\"T_fd0d8812_2a93_11eb_a45e_f7026c055b99row0_col14\" class=\"data row0 col14\" >nan</td>\n",
              "                        <td id=\"T_fd0d8812_2a93_11eb_a45e_f7026c055b99row0_col15\" class=\"data row0 col15\" >nan</td>\n",
              "                        <td id=\"T_fd0d8812_2a93_11eb_a45e_f7026c055b99row0_col16\" class=\"data row0 col16\" >8.000000</td>\n",
              "                        <td id=\"T_fd0d8812_2a93_11eb_a45e_f7026c055b99row0_col17\" class=\"data row0 col17\" >9.000000</td>\n",
              "                        <td id=\"T_fd0d8812_2a93_11eb_a45e_f7026c055b99row0_col18\" class=\"data row0 col18\" >6.000000</td>\n",
              "                        <td id=\"T_fd0d8812_2a93_11eb_a45e_f7026c055b99row0_col19\" class=\"data row0 col19\" >7.000000</td>\n",
              "                        <td id=\"T_fd0d8812_2a93_11eb_a45e_f7026c055b99row0_col20\" class=\"data row0 col20\" >7.000000</td>\n",
              "                        <td id=\"T_fd0d8812_2a93_11eb_a45e_f7026c055b99row0_col21\" class=\"data row0 col21\" >0.000000</td>\n",
              "            </tr>\n",
              "            <tr>\n",
              "                        <th id=\"T_fd0d8812_2a93_11eb_a45e_f7026c055b99level0_row1\" class=\"row_heading level0 row1\" >Alumno_2</th>\n",
              "                        <td id=\"T_fd0d8812_2a93_11eb_a45e_f7026c055b99row1_col0\" class=\"data row1 col0\" >7.000000</td>\n",
              "                        <td id=\"T_fd0d8812_2a93_11eb_a45e_f7026c055b99row1_col1\" class=\"data row1 col1\" >8.000000</td>\n",
              "                        <td id=\"T_fd0d8812_2a93_11eb_a45e_f7026c055b99row1_col2\" class=\"data row1 col2\" >8.000000</td>\n",
              "                        <td id=\"T_fd0d8812_2a93_11eb_a45e_f7026c055b99row1_col3\" class=\"data row1 col3\" >7.000000</td>\n",
              "                        <td id=\"T_fd0d8812_2a93_11eb_a45e_f7026c055b99row1_col4\" class=\"data row1 col4\" >9.000000</td>\n",
              "                        <td id=\"T_fd0d8812_2a93_11eb_a45e_f7026c055b99row1_col5\" class=\"data row1 col5\" >8.000000</td>\n",
              "                        <td id=\"T_fd0d8812_2a93_11eb_a45e_f7026c055b99row1_col6\" class=\"data row1 col6\" >7.000000</td>\n",
              "                        <td id=\"T_fd0d8812_2a93_11eb_a45e_f7026c055b99row1_col7\" class=\"data row1 col7\" >7.000000</td>\n",
              "                        <td id=\"T_fd0d8812_2a93_11eb_a45e_f7026c055b99row1_col8\" class=\"data row1 col8\" >9.000000</td>\n",
              "                        <td id=\"T_fd0d8812_2a93_11eb_a45e_f7026c055b99row1_col9\" class=\"data row1 col9\" >9.000000</td>\n",
              "                        <td id=\"T_fd0d8812_2a93_11eb_a45e_f7026c055b99row1_col10\" class=\"data row1 col10\" >7.000000</td>\n",
              "                        <td id=\"T_fd0d8812_2a93_11eb_a45e_f7026c055b99row1_col11\" class=\"data row1 col11\" >7.000000</td>\n",
              "                        <td id=\"T_fd0d8812_2a93_11eb_a45e_f7026c055b99row1_col12\" class=\"data row1 col12\" >9.000000</td>\n",
              "                        <td id=\"T_fd0d8812_2a93_11eb_a45e_f7026c055b99row1_col13\" class=\"data row1 col13\" >8.000000</td>\n",
              "                        <td id=\"T_fd0d8812_2a93_11eb_a45e_f7026c055b99row1_col14\" class=\"data row1 col14\" >nan</td>\n",
              "                        <td id=\"T_fd0d8812_2a93_11eb_a45e_f7026c055b99row1_col15\" class=\"data row1 col15\" >nan</td>\n",
              "                        <td id=\"T_fd0d8812_2a93_11eb_a45e_f7026c055b99row1_col16\" class=\"data row1 col16\" >nan</td>\n",
              "                        <td id=\"T_fd0d8812_2a93_11eb_a45e_f7026c055b99row1_col17\" class=\"data row1 col17\" >nan</td>\n",
              "                        <td id=\"T_fd0d8812_2a93_11eb_a45e_f7026c055b99row1_col18\" class=\"data row1 col18\" >9.000000</td>\n",
              "                        <td id=\"T_fd0d8812_2a93_11eb_a45e_f7026c055b99row1_col19\" class=\"data row1 col19\" >7.000000</td>\n",
              "                        <td id=\"T_fd0d8812_2a93_11eb_a45e_f7026c055b99row1_col20\" class=\"data row1 col20\" >7.625000</td>\n",
              "                        <td id=\"T_fd0d8812_2a93_11eb_a45e_f7026c055b99row1_col21\" class=\"data row1 col21\" >0.000000</td>\n",
              "            </tr>\n",
              "            <tr>\n",
              "                        <th id=\"T_fd0d8812_2a93_11eb_a45e_f7026c055b99level0_row2\" class=\"row_heading level0 row2\" >Alumno_3</th>\n",
              "                        <td id=\"T_fd0d8812_2a93_11eb_a45e_f7026c055b99row2_col0\" class=\"data row2 col0\" >8.000000</td>\n",
              "                        <td id=\"T_fd0d8812_2a93_11eb_a45e_f7026c055b99row2_col1\" class=\"data row2 col1\" >7.000000</td>\n",
              "                        <td id=\"T_fd0d8812_2a93_11eb_a45e_f7026c055b99row2_col2\" class=\"data row2 col2\" >7.000000</td>\n",
              "                        <td id=\"T_fd0d8812_2a93_11eb_a45e_f7026c055b99row2_col3\" class=\"data row2 col3\" >8.000000</td>\n",
              "                        <td id=\"T_fd0d8812_2a93_11eb_a45e_f7026c055b99row2_col4\" class=\"data row2 col4\" >9.000000</td>\n",
              "                        <td id=\"T_fd0d8812_2a93_11eb_a45e_f7026c055b99row2_col5\" class=\"data row2 col5\" >8.000000</td>\n",
              "                        <td id=\"T_fd0d8812_2a93_11eb_a45e_f7026c055b99row2_col6\" class=\"data row2 col6\" >6.000000</td>\n",
              "                        <td id=\"T_fd0d8812_2a93_11eb_a45e_f7026c055b99row2_col7\" class=\"data row2 col7\" >6.000000</td>\n",
              "                        <td id=\"T_fd0d8812_2a93_11eb_a45e_f7026c055b99row2_col8\" class=\"data row2 col8\" >9.000000</td>\n",
              "                        <td id=\"T_fd0d8812_2a93_11eb_a45e_f7026c055b99row2_col9\" class=\"data row2 col9\" >9.000000</td>\n",
              "                        <td id=\"T_fd0d8812_2a93_11eb_a45e_f7026c055b99row2_col10\" class=\"data row2 col10\" >7.000000</td>\n",
              "                        <td id=\"T_fd0d8812_2a93_11eb_a45e_f7026c055b99row2_col11\" class=\"data row2 col11\" >5.000000</td>\n",
              "                        <td id=\"T_fd0d8812_2a93_11eb_a45e_f7026c055b99row2_col12\" class=\"data row2 col12\" >7.000000</td>\n",
              "                        <td id=\"T_fd0d8812_2a93_11eb_a45e_f7026c055b99row2_col13\" class=\"data row2 col13\" >8.000000</td>\n",
              "                        <td id=\"T_fd0d8812_2a93_11eb_a45e_f7026c055b99row2_col14\" class=\"data row2 col14\" >nan</td>\n",
              "                        <td id=\"T_fd0d8812_2a93_11eb_a45e_f7026c055b99row2_col15\" class=\"data row2 col15\" >nan</td>\n",
              "                        <td id=\"T_fd0d8812_2a93_11eb_a45e_f7026c055b99row2_col16\" class=\"data row2 col16\" >nan</td>\n",
              "                        <td id=\"T_fd0d8812_2a93_11eb_a45e_f7026c055b99row2_col17\" class=\"data row2 col17\" >nan</td>\n",
              "                        <td id=\"T_fd0d8812_2a93_11eb_a45e_f7026c055b99row2_col18\" class=\"data row2 col18\" >6.000000</td>\n",
              "                        <td id=\"T_fd0d8812_2a93_11eb_a45e_f7026c055b99row2_col19\" class=\"data row2 col19\" >8.000000</td>\n",
              "                        <td id=\"T_fd0d8812_2a93_11eb_a45e_f7026c055b99row2_col20\" class=\"data row2 col20\" >7.375000</td>\n",
              "                        <td id=\"T_fd0d8812_2a93_11eb_a45e_f7026c055b99row2_col21\" class=\"data row2 col21\" >0.000000</td>\n",
              "            </tr>\n",
              "            <tr>\n",
              "                        <th id=\"T_fd0d8812_2a93_11eb_a45e_f7026c055b99level0_row3\" class=\"row_heading level0 row3\" >Alumno_4</th>\n",
              "                        <td id=\"T_fd0d8812_2a93_11eb_a45e_f7026c055b99row3_col0\" class=\"data row3 col0\" >nan</td>\n",
              "                        <td id=\"T_fd0d8812_2a93_11eb_a45e_f7026c055b99row3_col1\" class=\"data row3 col1\" >nan</td>\n",
              "                        <td id=\"T_fd0d8812_2a93_11eb_a45e_f7026c055b99row3_col2\" class=\"data row3 col2\" >7.000000</td>\n",
              "                        <td id=\"T_fd0d8812_2a93_11eb_a45e_f7026c055b99row3_col3\" class=\"data row3 col3\" >7.000000</td>\n",
              "                        <td id=\"T_fd0d8812_2a93_11eb_a45e_f7026c055b99row3_col4\" class=\"data row3 col4\" >8.000000</td>\n",
              "                        <td id=\"T_fd0d8812_2a93_11eb_a45e_f7026c055b99row3_col5\" class=\"data row3 col5\" >7.000000</td>\n",
              "                        <td id=\"T_fd0d8812_2a93_11eb_a45e_f7026c055b99row3_col6\" class=\"data row3 col6\" >3.000000</td>\n",
              "                        <td id=\"T_fd0d8812_2a93_11eb_a45e_f7026c055b99row3_col7\" class=\"data row3 col7\" >2.000000</td>\n",
              "                        <td id=\"T_fd0d8812_2a93_11eb_a45e_f7026c055b99row3_col8\" class=\"data row3 col8\" >7.000000</td>\n",
              "                        <td id=\"T_fd0d8812_2a93_11eb_a45e_f7026c055b99row3_col9\" class=\"data row3 col9\" >8.000000</td>\n",
              "                        <td id=\"T_fd0d8812_2a93_11eb_a45e_f7026c055b99row3_col10\" class=\"data row3 col10\" >7.000000</td>\n",
              "                        <td id=\"T_fd0d8812_2a93_11eb_a45e_f7026c055b99row3_col11\" class=\"data row3 col11\" >6.000000</td>\n",
              "                        <td id=\"T_fd0d8812_2a93_11eb_a45e_f7026c055b99row3_col12\" class=\"data row3 col12\" >10.000000</td>\n",
              "                        <td id=\"T_fd0d8812_2a93_11eb_a45e_f7026c055b99row3_col13\" class=\"data row3 col13\" >10.000000</td>\n",
              "                        <td id=\"T_fd0d8812_2a93_11eb_a45e_f7026c055b99row3_col14\" class=\"data row3 col14\" >8.000000</td>\n",
              "                        <td id=\"T_fd0d8812_2a93_11eb_a45e_f7026c055b99row3_col15\" class=\"data row3 col15\" >2.000000</td>\n",
              "                        <td id=\"T_fd0d8812_2a93_11eb_a45e_f7026c055b99row3_col16\" class=\"data row3 col16\" >nan</td>\n",
              "                        <td id=\"T_fd0d8812_2a93_11eb_a45e_f7026c055b99row3_col17\" class=\"data row3 col17\" >nan</td>\n",
              "                        <td id=\"T_fd0d8812_2a93_11eb_a45e_f7026c055b99row3_col18\" class=\"data row3 col18\" >7.000000</td>\n",
              "                        <td id=\"T_fd0d8812_2a93_11eb_a45e_f7026c055b99row3_col19\" class=\"data row3 col19\" >8.000000</td>\n",
              "                        <td id=\"T_fd0d8812_2a93_11eb_a45e_f7026c055b99row3_col20\" class=\"data row3 col20\" >6.250000</td>\n",
              "                        <td id=\"T_fd0d8812_2a93_11eb_a45e_f7026c055b99row3_col21\" class=\"data row3 col21\" >2.000000</td>\n",
              "            </tr>\n",
              "            <tr>\n",
              "                        <th id=\"T_fd0d8812_2a93_11eb_a45e_f7026c055b99level0_row4\" class=\"row_heading level0 row4\" >Media</th>\n",
              "                        <td id=\"T_fd0d8812_2a93_11eb_a45e_f7026c055b99row4_col0\" class=\"data row4 col0\" >7.666667</td>\n",
              "                        <td id=\"T_fd0d8812_2a93_11eb_a45e_f7026c055b99row4_col1\" class=\"data row4 col1\" >7.333333</td>\n",
              "                        <td id=\"T_fd0d8812_2a93_11eb_a45e_f7026c055b99row4_col2\" class=\"data row4 col2\" >7.250000</td>\n",
              "                        <td id=\"T_fd0d8812_2a93_11eb_a45e_f7026c055b99row4_col3\" class=\"data row4 col3\" >6.750000</td>\n",
              "                        <td id=\"T_fd0d8812_2a93_11eb_a45e_f7026c055b99row4_col4\" class=\"data row4 col4\" >8.250000</td>\n",
              "                        <td id=\"T_fd0d8812_2a93_11eb_a45e_f7026c055b99row4_col5\" class=\"data row4 col5\" >7.500000</td>\n",
              "                        <td id=\"T_fd0d8812_2a93_11eb_a45e_f7026c055b99row4_col6\" class=\"data row4 col6\" >5.250000</td>\n",
              "                        <td id=\"T_fd0d8812_2a93_11eb_a45e_f7026c055b99row4_col7\" class=\"data row4 col7\" >5.250000</td>\n",
              "                        <td id=\"T_fd0d8812_2a93_11eb_a45e_f7026c055b99row4_col8\" class=\"data row4 col8\" >8.750000</td>\n",
              "                        <td id=\"T_fd0d8812_2a93_11eb_a45e_f7026c055b99row4_col9\" class=\"data row4 col9\" >9.000000</td>\n",
              "                        <td id=\"T_fd0d8812_2a93_11eb_a45e_f7026c055b99row4_col10\" class=\"data row4 col10\" >6.750000</td>\n",
              "                        <td id=\"T_fd0d8812_2a93_11eb_a45e_f7026c055b99row4_col11\" class=\"data row4 col11\" >5.750000</td>\n",
              "                        <td id=\"T_fd0d8812_2a93_11eb_a45e_f7026c055b99row4_col12\" class=\"data row4 col12\" >8.250000</td>\n",
              "                        <td id=\"T_fd0d8812_2a93_11eb_a45e_f7026c055b99row4_col13\" class=\"data row4 col13\" >8.250000</td>\n",
              "                        <td id=\"T_fd0d8812_2a93_11eb_a45e_f7026c055b99row4_col14\" class=\"data row4 col14\" >8.000000</td>\n",
              "                        <td id=\"T_fd0d8812_2a93_11eb_a45e_f7026c055b99row4_col15\" class=\"data row4 col15\" >2.000000</td>\n",
              "                        <td id=\"T_fd0d8812_2a93_11eb_a45e_f7026c055b99row4_col16\" class=\"data row4 col16\" >8.000000</td>\n",
              "                        <td id=\"T_fd0d8812_2a93_11eb_a45e_f7026c055b99row4_col17\" class=\"data row4 col17\" >9.000000</td>\n",
              "                        <td id=\"T_fd0d8812_2a93_11eb_a45e_f7026c055b99row4_col18\" class=\"data row4 col18\" >7.000000</td>\n",
              "                        <td id=\"T_fd0d8812_2a93_11eb_a45e_f7026c055b99row4_col19\" class=\"data row4 col19\" >7.500000</td>\n",
              "                        <td id=\"T_fd0d8812_2a93_11eb_a45e_f7026c055b99row4_col20\" class=\"data row4 col20\" >7.062500</td>\n",
              "                        <td id=\"T_fd0d8812_2a93_11eb_a45e_f7026c055b99row4_col21\" class=\"data row4 col21\" >2.000000</td>\n",
              "            </tr>\n",
              "    </tbody></table>"
            ],
            "text/plain": [
              "<pandas.io.formats.style.Styler at 0x7f8058385f98>"
            ]
          },
          "metadata": {
            "tags": []
          },
          "execution_count": 26
        }
      ]
    },
    {
      "cell_type": "code",
      "metadata": {
        "id": "N4B2sjI3CAzB",
        "outputId": "4dec14cd-5ff1-4a62-83af-6e2c5b91ef69"
      },
      "source": [
        "df2=actilla_final[actilla_final.Eval == ultima_evaluacion].groupby(['Alumno','Eval'])[['Nota']].mean().unstack('Eval').rename(columns={'Nota':'$\\overline{x}$'})\n",
        "df2"
      ],
      "execution_count": null,
      "outputs": [
        {
          "output_type": "execute_result",
          "data": {
            "text/html": [
              "<div>\n",
              "<style scoped>\n",
              "    .dataframe tbody tr th:only-of-type {\n",
              "        vertical-align: middle;\n",
              "    }\n",
              "\n",
              "    .dataframe tbody tr th {\n",
              "        vertical-align: top;\n",
              "    }\n",
              "\n",
              "    .dataframe thead tr th {\n",
              "        text-align: left;\n",
              "    }\n",
              "\n",
              "    .dataframe thead tr:last-of-type th {\n",
              "        text-align: right;\n",
              "    }\n",
              "</style>\n",
              "<table border=\"1\" class=\"dataframe\">\n",
              "  <thead>\n",
              "    <tr>\n",
              "      <th></th>\n",
              "      <th>$\\overline{x}$</th>\n",
              "    </tr>\n",
              "    <tr>\n",
              "      <th>Eval</th>\n",
              "      <th>2</th>\n",
              "    </tr>\n",
              "    <tr>\n",
              "      <th>Alumno</th>\n",
              "      <th></th>\n",
              "    </tr>\n",
              "  </thead>\n",
              "  <tbody>\n",
              "    <tr>\n",
              "      <th>Alumno_1</th>\n",
              "      <td>7.000</td>\n",
              "    </tr>\n",
              "    <tr>\n",
              "      <th>Alumno_2</th>\n",
              "      <td>7.625</td>\n",
              "    </tr>\n",
              "    <tr>\n",
              "      <th>Alumno_3</th>\n",
              "      <td>7.375</td>\n",
              "    </tr>\n",
              "    <tr>\n",
              "      <th>Alumno_4</th>\n",
              "      <td>6.250</td>\n",
              "    </tr>\n",
              "  </tbody>\n",
              "</table>\n",
              "</div>"
            ],
            "text/plain": [
              "         $\\overline{x}$\n",
              "Eval                  2\n",
              "Alumno                 \n",
              "Alumno_1          7.000\n",
              "Alumno_2          7.625\n",
              "Alumno_3          7.375\n",
              "Alumno_4          6.250"
            ]
          },
          "metadata": {
            "tags": []
          },
          "execution_count": 106
        }
      ]
    },
    {
      "cell_type": "code",
      "metadata": {
        "id": "dP_SgNWqCAzI",
        "outputId": "930d95d5-d4a3-4df9-f98e-3bb8ec9e50b0"
      },
      "source": [
        "imgkit.from_string(df5.style.format(\"{:.0f}\").format(\"{:.1f}\",subset=(df5.index,df5.columns[-1:])).format(\"{:.1f}\",subset=(df5.index[-1:],df5.columns)).applymap(color_negative_red).highlight_null(\"white\").set_na_rep('-').render(),'prueba.png')"
      ],
      "execution_count": null,
      "outputs": [
        {
          "output_type": "stream",
          "text": [
            "Loading page (1/2)\n",
            "[>                                                           ] 0%\r[======>                                                     ] 10%\r[==============================>                             ] 50%\r[============================================================] 100%\rRendering (2/2)                                                    \n",
            "[>                                                           ] 0%\r[===============>                                            ] 25%\r[============================================================] 100%\rDone                                                               \n"
          ],
          "name": "stdout"
        },
        {
          "output_type": "execute_result",
          "data": {
            "text/plain": [
              "True"
            ]
          },
          "metadata": {
            "tags": []
          },
          "execution_count": 14
        }
      ]
    },
    {
      "cell_type": "code",
      "metadata": {
        "colab": {
          "base_uri": "https://localhost:8080/",
          "height": 175
        },
        "id": "kyJdG7JeMDM3",
        "outputId": "fb8e49c2-bab8-4f37-da06-97792a904ed3"
      },
      "source": [
        "pd.read_csv('importado2.csv', index_col=False)"
      ],
      "execution_count": null,
      "outputs": [
        {
          "output_type": "execute_result",
          "data": {
            "text/html": [
              "<div>\n",
              "<style scoped>\n",
              "    .dataframe tbody tr th:only-of-type {\n",
              "        vertical-align: middle;\n",
              "    }\n",
              "\n",
              "    .dataframe tbody tr th {\n",
              "        vertical-align: top;\n",
              "    }\n",
              "\n",
              "    .dataframe thead th {\n",
              "        text-align: right;\n",
              "    }\n",
              "</style>\n",
              "<table border=\"1\" class=\"dataframe\">\n",
              "  <thead>\n",
              "    <tr style=\"text-align: right;\">\n",
              "      <th></th>\n",
              "      <th>Nº</th>\n",
              "      <th>Apellidos, Nombre</th>\n",
              "      <th>2FR II</th>\n",
              "      <th>BI</th>\n",
              "      <th>CTM</th>\n",
              "      <th>DT2</th>\n",
              "      <th>FIS</th>\n",
              "      <th>HE</th>\n",
              "      <th>IN II</th>\n",
              "      <th>LC2</th>\n",
              "      <th>MA2</th>\n",
              "      <th>PS</th>\n",
              "      <th>PSC</th>\n",
              "      <th>QU</th>\n",
              "      <th>RC</th>\n",
              "      <th>TI2</th>\n",
              "      <th>TIC</th>\n",
              "      <th>Nº MNS</th>\n",
              "    </tr>\n",
              "  </thead>\n",
              "  <tbody>\n",
              "    <tr>\n",
              "      <th>0</th>\n",
              "      <td>1</td>\n",
              "      <td>Alumno_1</td>\n",
              "      <td>7.0</td>\n",
              "      <td>5</td>\n",
              "      <td>7</td>\n",
              "      <td>NaN</td>\n",
              "      <td>NaN</td>\n",
              "      <td>6</td>\n",
              "      <td>10</td>\n",
              "      <td>5</td>\n",
              "      <td>7</td>\n",
              "      <td>NaN</td>\n",
              "      <td>9.0</td>\n",
              "      <td>7</td>\n",
              "      <td>NaN</td>\n",
              "      <td>NaN</td>\n",
              "      <td>NaN</td>\n",
              "      <td>0</td>\n",
              "    </tr>\n",
              "    <tr>\n",
              "      <th>1</th>\n",
              "      <td>2</td>\n",
              "      <td>Alumno_2</td>\n",
              "      <td>8.0</td>\n",
              "      <td>7</td>\n",
              "      <td>8</td>\n",
              "      <td>NaN</td>\n",
              "      <td>NaN</td>\n",
              "      <td>7</td>\n",
              "      <td>9</td>\n",
              "      <td>7</td>\n",
              "      <td>8</td>\n",
              "      <td>NaN</td>\n",
              "      <td>NaN</td>\n",
              "      <td>7</td>\n",
              "      <td>NaN</td>\n",
              "      <td>NaN</td>\n",
              "      <td>NaN</td>\n",
              "      <td>0</td>\n",
              "    </tr>\n",
              "    <tr>\n",
              "      <th>2</th>\n",
              "      <td>3</td>\n",
              "      <td>Alumno_3</td>\n",
              "      <td>7.0</td>\n",
              "      <td>8</td>\n",
              "      <td>8</td>\n",
              "      <td>NaN</td>\n",
              "      <td>NaN</td>\n",
              "      <td>6</td>\n",
              "      <td>9</td>\n",
              "      <td>5</td>\n",
              "      <td>8</td>\n",
              "      <td>NaN</td>\n",
              "      <td>NaN</td>\n",
              "      <td>8</td>\n",
              "      <td>NaN</td>\n",
              "      <td>NaN</td>\n",
              "      <td>NaN</td>\n",
              "      <td>0</td>\n",
              "    </tr>\n",
              "    <tr>\n",
              "      <th>3</th>\n",
              "      <td>4</td>\n",
              "      <td>Alumno_4</td>\n",
              "      <td>NaN</td>\n",
              "      <td>7</td>\n",
              "      <td>7</td>\n",
              "      <td>NaN</td>\n",
              "      <td>NaN</td>\n",
              "      <td>2</td>\n",
              "      <td>8</td>\n",
              "      <td>6</td>\n",
              "      <td>10</td>\n",
              "      <td>2.0</td>\n",
              "      <td>NaN</td>\n",
              "      <td>8</td>\n",
              "      <td>NaN</td>\n",
              "      <td>NaN</td>\n",
              "      <td>NaN</td>\n",
              "      <td>2</td>\n",
              "    </tr>\n",
              "  </tbody>\n",
              "</table>\n",
              "</div>"
            ],
            "text/plain": [
              "   Nº Apellidos, Nombre  2FR II  BI  CTM  DT2  ...  PSC  QU  RC  TI2  TIC  Nº MNS\n",
              "0   1          Alumno_1     7.0   5    7  NaN  ...  9.0   7 NaN  NaN  NaN       0\n",
              "1   2          Alumno_2     8.0   7    8  NaN  ...  NaN   7 NaN  NaN  NaN       0\n",
              "2   3          Alumno_3     7.0   8    8  NaN  ...  NaN   8 NaN  NaN  NaN       0\n",
              "3   4          Alumno_4     NaN   7    7  NaN  ...  NaN   8 NaN  NaN  NaN       2\n",
              "\n",
              "[4 rows x 18 columns]"
            ]
          },
          "metadata": {
            "tags": []
          },
          "execution_count": 7
        }
      ]
    },
    {
      "cell_type": "code",
      "metadata": {
        "colab": {
          "base_uri": "https://localhost:8080/",
          "height": 424
        },
        "id": "BcfkWRVxMDNE",
        "outputId": "3e716b36-40b7-4b92-cb62-9ea542520fa3"
      },
      "source": [
        "actilla_final"
      ],
      "execution_count": null,
      "outputs": [
        {
          "output_type": "execute_result",
          "data": {
            "text/html": [
              "<div>\n",
              "<style scoped>\n",
              "    .dataframe tbody tr th:only-of-type {\n",
              "        vertical-align: middle;\n",
              "    }\n",
              "\n",
              "    .dataframe tbody tr th {\n",
              "        vertical-align: top;\n",
              "    }\n",
              "\n",
              "    .dataframe thead th {\n",
              "        text-align: right;\n",
              "    }\n",
              "</style>\n",
              "<table border=\"1\" class=\"dataframe\">\n",
              "  <thead>\n",
              "    <tr style=\"text-align: right;\">\n",
              "      <th></th>\n",
              "      <th>Nº</th>\n",
              "      <th>Apellidos, Nombre</th>\n",
              "      <th>Asignatura</th>\n",
              "      <th>Nota</th>\n",
              "      <th>Eval</th>\n",
              "    </tr>\n",
              "  </thead>\n",
              "  <tbody>\n",
              "    <tr>\n",
              "      <th>0</th>\n",
              "      <td>1</td>\n",
              "      <td>Alumno_1</td>\n",
              "      <td>2FR II</td>\n",
              "      <td>8.0</td>\n",
              "      <td>1</td>\n",
              "    </tr>\n",
              "    <tr>\n",
              "      <th>1</th>\n",
              "      <td>2</td>\n",
              "      <td>Alumno_2</td>\n",
              "      <td>2FR II</td>\n",
              "      <td>7.0</td>\n",
              "      <td>1</td>\n",
              "    </tr>\n",
              "    <tr>\n",
              "      <th>2</th>\n",
              "      <td>3</td>\n",
              "      <td>Alumno_3</td>\n",
              "      <td>2FR II</td>\n",
              "      <td>8.0</td>\n",
              "      <td>1</td>\n",
              "    </tr>\n",
              "    <tr>\n",
              "      <th>4</th>\n",
              "      <td>1</td>\n",
              "      <td>Alumno_1</td>\n",
              "      <td>BI</td>\n",
              "      <td>7.0</td>\n",
              "      <td>1</td>\n",
              "    </tr>\n",
              "    <tr>\n",
              "      <th>5</th>\n",
              "      <td>2</td>\n",
              "      <td>Alumno_2</td>\n",
              "      <td>BI</td>\n",
              "      <td>8.0</td>\n",
              "      <td>1</td>\n",
              "    </tr>\n",
              "    <tr>\n",
              "      <th>...</th>\n",
              "      <td>...</td>\n",
              "      <td>...</td>\n",
              "      <td>...</td>\n",
              "      <td>...</td>\n",
              "      <td>...</td>\n",
              "    </tr>\n",
              "    <tr>\n",
              "      <th>40</th>\n",
              "      <td>1</td>\n",
              "      <td>Alumno_1</td>\n",
              "      <td>PSC</td>\n",
              "      <td>9.0</td>\n",
              "      <td>2</td>\n",
              "    </tr>\n",
              "    <tr>\n",
              "      <th>44</th>\n",
              "      <td>1</td>\n",
              "      <td>Alumno_1</td>\n",
              "      <td>QU</td>\n",
              "      <td>7.0</td>\n",
              "      <td>2</td>\n",
              "    </tr>\n",
              "    <tr>\n",
              "      <th>45</th>\n",
              "      <td>2</td>\n",
              "      <td>Alumno_2</td>\n",
              "      <td>QU</td>\n",
              "      <td>7.0</td>\n",
              "      <td>2</td>\n",
              "    </tr>\n",
              "    <tr>\n",
              "      <th>46</th>\n",
              "      <td>3</td>\n",
              "      <td>Alumno_3</td>\n",
              "      <td>QU</td>\n",
              "      <td>8.0</td>\n",
              "      <td>2</td>\n",
              "    </tr>\n",
              "    <tr>\n",
              "      <th>47</th>\n",
              "      <td>4</td>\n",
              "      <td>Alumno_4</td>\n",
              "      <td>QU</td>\n",
              "      <td>8.0</td>\n",
              "      <td>2</td>\n",
              "    </tr>\n",
              "  </tbody>\n",
              "</table>\n",
              "<p>66 rows × 5 columns</p>\n",
              "</div>"
            ],
            "text/plain": [
              "    Nº Apellidos, Nombre Asignatura  Nota  Eval\n",
              "0    1          Alumno_1     2FR II   8.0     1\n",
              "1    2          Alumno_2     2FR II   7.0     1\n",
              "2    3          Alumno_3     2FR II   8.0     1\n",
              "4    1          Alumno_1         BI   7.0     1\n",
              "5    2          Alumno_2         BI   8.0     1\n",
              "..  ..               ...        ...   ...   ...\n",
              "40   1          Alumno_1        PSC   9.0     2\n",
              "44   1          Alumno_1         QU   7.0     2\n",
              "45   2          Alumno_2         QU   7.0     2\n",
              "46   3          Alumno_3         QU   8.0     2\n",
              "47   4          Alumno_4         QU   8.0     2\n",
              "\n",
              "[66 rows x 5 columns]"
            ]
          },
          "metadata": {
            "tags": []
          },
          "execution_count": 8
        }
      ]
    },
    {
      "cell_type": "code",
      "metadata": {
        "colab": {
          "base_uri": "https://localhost:8080/",
          "height": 74
        },
        "id": "fZciD0ZnMDNP",
        "outputId": "61611c36-88b1-49e2-bb9a-73f84760d1d5"
      },
      "source": [
        "from IPython.display import Markdown as md\n",
        "#display(\"# Análisis de la %i\"%ultima_evaluacion + \"ª evaluación\")\n",
        "md(\"# Análisis de la %i\"%ultima_evaluacion + \"a evaluación\")"
      ],
      "execution_count": null,
      "outputs": [
        {
          "output_type": "execute_result",
          "data": {
            "text/markdown": "# Análisis de la 2a evaluación",
            "text/plain": [
              "<IPython.core.display.Markdown object>"
            ]
          },
          "metadata": {
            "tags": []
          },
          "execution_count": 9
        }
      ]
    },
    {
      "cell_type": "code",
      "metadata": {
        "id": "tRMqBKIrMDNa"
      },
      "source": [
        "# Añadimos la columna Suspenso\n",
        "actilla_final['Suspenso']=0\n",
        "# Si sale algún no presentado hay que ejecutar lo siguiente\n",
        "#actilla_final = actilla_final.drop(actilla_final[actilla_final.Nota == 'NP'].index)\n",
        "actilla_final.Nota = pd.to_numeric(actilla_final.Nota)\n",
        "actilla_final.loc[actilla_final['Nota'] < 5, 'Suspenso'] = 1\n"
      ],
      "execution_count": null,
      "outputs": []
    },
    {
      "cell_type": "markdown",
      "metadata": {
        "id": "gRBM8OdJMDNh"
      },
      "source": [
        "## Datos generales"
      ]
    },
    {
      "cell_type": "code",
      "metadata": {
        "id": "_wTuLksPCAzL",
        "outputId": "e6713fe8-52f8-4e44-d690-5125105e6707"
      },
      "source": [
        "actilla_final.head()"
      ],
      "execution_count": null,
      "outputs": [
        {
          "output_type": "execute_result",
          "data": {
            "text/html": [
              "<div>\n",
              "<style scoped>\n",
              "    .dataframe tbody tr th:only-of-type {\n",
              "        vertical-align: middle;\n",
              "    }\n",
              "\n",
              "    .dataframe tbody tr th {\n",
              "        vertical-align: top;\n",
              "    }\n",
              "\n",
              "    .dataframe thead th {\n",
              "        text-align: right;\n",
              "    }\n",
              "</style>\n",
              "<table border=\"1\" class=\"dataframe\">\n",
              "  <thead>\n",
              "    <tr style=\"text-align: right;\">\n",
              "      <th></th>\n",
              "      <th>Alumno</th>\n",
              "      <th>Asignatura</th>\n",
              "      <th>Eval</th>\n",
              "      <th>Nota</th>\n",
              "      <th>Suspenso</th>\n",
              "    </tr>\n",
              "  </thead>\n",
              "  <tbody>\n",
              "    <tr>\n",
              "      <th>0</th>\n",
              "      <td>Alumno_1</td>\n",
              "      <td>2FR II</td>\n",
              "      <td>1</td>\n",
              "      <td>8</td>\n",
              "      <td>0</td>\n",
              "    </tr>\n",
              "    <tr>\n",
              "      <th>1</th>\n",
              "      <td>Alumno_2</td>\n",
              "      <td>2FR II</td>\n",
              "      <td>1</td>\n",
              "      <td>7</td>\n",
              "      <td>0</td>\n",
              "    </tr>\n",
              "    <tr>\n",
              "      <th>2</th>\n",
              "      <td>Alumno_3</td>\n",
              "      <td>2FR II</td>\n",
              "      <td>1</td>\n",
              "      <td>8</td>\n",
              "      <td>0</td>\n",
              "    </tr>\n",
              "    <tr>\n",
              "      <th>4</th>\n",
              "      <td>Alumno_1</td>\n",
              "      <td>BI</td>\n",
              "      <td>1</td>\n",
              "      <td>7</td>\n",
              "      <td>0</td>\n",
              "    </tr>\n",
              "    <tr>\n",
              "      <th>5</th>\n",
              "      <td>Alumno_2</td>\n",
              "      <td>BI</td>\n",
              "      <td>1</td>\n",
              "      <td>8</td>\n",
              "      <td>0</td>\n",
              "    </tr>\n",
              "  </tbody>\n",
              "</table>\n",
              "</div>"
            ],
            "text/plain": [
              "     Alumno Asignatura  Eval  Nota  Suspenso\n",
              "0  Alumno_1     2FR II     1     8         0\n",
              "1  Alumno_2     2FR II     1     7         0\n",
              "2  Alumno_3     2FR II     1     8         0\n",
              "4  Alumno_1         BI     1     7         0\n",
              "5  Alumno_2         BI     1     8         0"
            ]
          },
          "metadata": {
            "tags": []
          },
          "execution_count": 17
        }
      ]
    },
    {
      "cell_type": "code",
      "metadata": {
        "id": "vMOqrVuCCAzL"
      },
      "source": [
        ""
      ],
      "execution_count": null,
      "outputs": []
    },
    {
      "cell_type": "code",
      "metadata": {
        "colab": {
          "base_uri": "https://localhost:8080/",
          "height": 173
        },
        "id": "qc5--DDvMDNl",
        "scrolled": false,
        "outputId": "469fa15b-1893-4fbb-c093-014b94f744c9"
      },
      "source": [
        "\n",
        "\n"
      ],
      "execution_count": null,
      "outputs": [
        {
          "output_type": "error",
          "ename": "NameError",
          "evalue": "name 'md' is not defined",
          "traceback": [
            "\u001b[0;31m---------------------------------------------------------------------------\u001b[0m",
            "\u001b[0;31mNameError\u001b[0m                                 Traceback (most recent call last)",
            "\u001b[0;32m<ipython-input-18-4b3471789a77>\u001b[0m in \u001b[0;36m<module>\u001b[0;34m\u001b[0m\n\u001b[1;32m     13\u001b[0m \u001b[0mdf\u001b[0m \u001b[0;34m=\u001b[0m \u001b[0mnp\u001b[0m\u001b[0;34m.\u001b[0m\u001b[0mround\u001b[0m\u001b[0;34m(\u001b[0m\u001b[0mdf\u001b[0m\u001b[0;34m,\u001b[0m\u001b[0;36m1\u001b[0m\u001b[0;34m)\u001b[0m\u001b[0;34m\u001b[0m\u001b[0;34m\u001b[0m\u001b[0m\n\u001b[1;32m     14\u001b[0m \u001b[0;31m# display(df.to_html())\u001b[0m\u001b[0;34m\u001b[0m\u001b[0;34m\u001b[0m\u001b[0;34m\u001b[0m\u001b[0m\n\u001b[0;32m---> 15\u001b[0;31m \u001b[0mdisplay\u001b[0m\u001b[0;34m(\u001b[0m\u001b[0mmd\u001b[0m\u001b[0;34m(\u001b[0m\u001b[0;34m'**Resumen de resultados:**'\u001b[0m\u001b[0;34m)\u001b[0m\u001b[0;34m)\u001b[0m\u001b[0;34m\u001b[0m\u001b[0;34m\u001b[0m\u001b[0m\n\u001b[0m\u001b[1;32m     16\u001b[0m \u001b[0mdf\u001b[0m\u001b[0;34m\u001b[0m\u001b[0;34m\u001b[0m\u001b[0m\n\u001b[1;32m     17\u001b[0m \u001b[0;34m\u001b[0m\u001b[0m\n",
            "\u001b[0;31mNameError\u001b[0m: name 'md' is not defined"
          ]
        }
      ]
    },
    {
      "cell_type": "code",
      "metadata": {
        "id": "KPgtoqZ-MDNt"
      },
      "source": [
        "#np.round(df,1).drop('N_alum', axis=1).plot.bar(subplots=True, figsize=(12,4), layout=(1,3));"
      ],
      "execution_count": null,
      "outputs": []
    },
    {
      "cell_type": "code",
      "metadata": {
        "id": "LxJIvETzMDN0"
      },
      "source": [
        "df = actilla_final.groupby(['Alumno','Eval','Asignatura'])[['Nota']].min().unstack().unstack().fillna('-').style.applymap(color_negative_red)\n",
        "df.to_excel('styled.xlsx', engine='openpyxl')"
      ],
      "execution_count": null,
      "outputs": []
    },
    {
      "cell_type": "code",
      "metadata": {
        "colab": {
          "base_uri": "https://localhost:8080/",
          "height": 364
        },
        "id": "xF6MO17OMDN8",
        "outputId": "52347daa-1e5b-488e-e97f-34562367314a"
      },
      "source": [
        "df = actilla_final[['Alumno','Eval','Asignatura','Nota']]\n",
        "\n",
        "\n",
        "df.loc[:,'Nota']=df.loc[:,'Nota'].astype(int)\n",
        "df[df.Eval <= evaluaciones_a_incluir].groupby(['Alumno','Eval','Asignatura'])[['Nota']].min().unstack().fillna('-').style.applymap(color_negative_red)\n",
        "\n",
        "#df.set_index(['Alumno','Eval','Asignatura']), df.groupby(['Alumno','Eval','Asignatura'])[['Nota']].min()"
      ],
      "execution_count": null,
      "outputs": [
        {
          "output_type": "stream",
          "text": [
            "/usr/local/lib/python3.6/dist-packages/pandas/core/indexing.py:1743: SettingWithCopyWarning: \n",
            "A value is trying to be set on a copy of a slice from a DataFrame.\n",
            "Try using .loc[row_indexer,col_indexer] = value instead\n",
            "\n",
            "See the caveats in the documentation: https://pandas.pydata.org/pandas-docs/stable/user_guide/indexing.html#returning-a-view-versus-a-copy\n",
            "  isetter(ilocs[0], value)\n"
          ],
          "name": "stderr"
        },
        {
          "output_type": "execute_result",
          "data": {
            "text/html": [
              "<style  type=\"text/css\" >\n",
              "#T_5820b1ee_27f0_11eb_af8f_0242ac1c0002row0_col0,#T_5820b1ee_27f0_11eb_af8f_0242ac1c0002row0_col1,#T_5820b1ee_27f0_11eb_af8f_0242ac1c0002row0_col2,#T_5820b1ee_27f0_11eb_af8f_0242ac1c0002row0_col3,#T_5820b1ee_27f0_11eb_af8f_0242ac1c0002row0_col4,#T_5820b1ee_27f0_11eb_af8f_0242ac1c0002row0_col5,#T_5820b1ee_27f0_11eb_af8f_0242ac1c0002row0_col6,#T_5820b1ee_27f0_11eb_af8f_0242ac1c0002row0_col8,#T_5820b1ee_27f0_11eb_af8f_0242ac1c0002row0_col9,#T_5820b1ee_27f0_11eb_af8f_0242ac1c0002row1_col0,#T_5820b1ee_27f0_11eb_af8f_0242ac1c0002row1_col1,#T_5820b1ee_27f0_11eb_af8f_0242ac1c0002row1_col2,#T_5820b1ee_27f0_11eb_af8f_0242ac1c0002row1_col3,#T_5820b1ee_27f0_11eb_af8f_0242ac1c0002row1_col4,#T_5820b1ee_27f0_11eb_af8f_0242ac1c0002row1_col5,#T_5820b1ee_27f0_11eb_af8f_0242ac1c0002row1_col6,#T_5820b1ee_27f0_11eb_af8f_0242ac1c0002row1_col8,#T_5820b1ee_27f0_11eb_af8f_0242ac1c0002row1_col9,#T_5820b1ee_27f0_11eb_af8f_0242ac1c0002row2_col0,#T_5820b1ee_27f0_11eb_af8f_0242ac1c0002row2_col1,#T_5820b1ee_27f0_11eb_af8f_0242ac1c0002row2_col2,#T_5820b1ee_27f0_11eb_af8f_0242ac1c0002row2_col3,#T_5820b1ee_27f0_11eb_af8f_0242ac1c0002row2_col4,#T_5820b1ee_27f0_11eb_af8f_0242ac1c0002row2_col5,#T_5820b1ee_27f0_11eb_af8f_0242ac1c0002row2_col6,#T_5820b1ee_27f0_11eb_af8f_0242ac1c0002row2_col9,#T_5820b1ee_27f0_11eb_af8f_0242ac1c0002row3_col0,#T_5820b1ee_27f0_11eb_af8f_0242ac1c0002row3_col1,#T_5820b1ee_27f0_11eb_af8f_0242ac1c0002row3_col2,#T_5820b1ee_27f0_11eb_af8f_0242ac1c0002row3_col3,#T_5820b1ee_27f0_11eb_af8f_0242ac1c0002row3_col4,#T_5820b1ee_27f0_11eb_af8f_0242ac1c0002row3_col5,#T_5820b1ee_27f0_11eb_af8f_0242ac1c0002row3_col6,#T_5820b1ee_27f0_11eb_af8f_0242ac1c0002row3_col9,#T_5820b1ee_27f0_11eb_af8f_0242ac1c0002row4_col0,#T_5820b1ee_27f0_11eb_af8f_0242ac1c0002row4_col1,#T_5820b1ee_27f0_11eb_af8f_0242ac1c0002row4_col2,#T_5820b1ee_27f0_11eb_af8f_0242ac1c0002row4_col3,#T_5820b1ee_27f0_11eb_af8f_0242ac1c0002row4_col4,#T_5820b1ee_27f0_11eb_af8f_0242ac1c0002row4_col5,#T_5820b1ee_27f0_11eb_af8f_0242ac1c0002row4_col6,#T_5820b1ee_27f0_11eb_af8f_0242ac1c0002row4_col9,#T_5820b1ee_27f0_11eb_af8f_0242ac1c0002row5_col0,#T_5820b1ee_27f0_11eb_af8f_0242ac1c0002row5_col1,#T_5820b1ee_27f0_11eb_af8f_0242ac1c0002row5_col2,#T_5820b1ee_27f0_11eb_af8f_0242ac1c0002row5_col3,#T_5820b1ee_27f0_11eb_af8f_0242ac1c0002row5_col4,#T_5820b1ee_27f0_11eb_af8f_0242ac1c0002row5_col5,#T_5820b1ee_27f0_11eb_af8f_0242ac1c0002row5_col6,#T_5820b1ee_27f0_11eb_af8f_0242ac1c0002row5_col9,#T_5820b1ee_27f0_11eb_af8f_0242ac1c0002row6_col1,#T_5820b1ee_27f0_11eb_af8f_0242ac1c0002row6_col2,#T_5820b1ee_27f0_11eb_af8f_0242ac1c0002row6_col4,#T_5820b1ee_27f0_11eb_af8f_0242ac1c0002row6_col5,#T_5820b1ee_27f0_11eb_af8f_0242ac1c0002row6_col6,#T_5820b1ee_27f0_11eb_af8f_0242ac1c0002row6_col7,#T_5820b1ee_27f0_11eb_af8f_0242ac1c0002row6_col9,#T_5820b1ee_27f0_11eb_af8f_0242ac1c0002row7_col1,#T_5820b1ee_27f0_11eb_af8f_0242ac1c0002row7_col2,#T_5820b1ee_27f0_11eb_af8f_0242ac1c0002row7_col4,#T_5820b1ee_27f0_11eb_af8f_0242ac1c0002row7_col5,#T_5820b1ee_27f0_11eb_af8f_0242ac1c0002row7_col6,#T_5820b1ee_27f0_11eb_af8f_0242ac1c0002row7_col9{\n",
              "            color:  green;\n",
              "             background:  lightyellow;\n",
              "        }#T_5820b1ee_27f0_11eb_af8f_0242ac1c0002row0_col7,#T_5820b1ee_27f0_11eb_af8f_0242ac1c0002row1_col7,#T_5820b1ee_27f0_11eb_af8f_0242ac1c0002row2_col7,#T_5820b1ee_27f0_11eb_af8f_0242ac1c0002row2_col8,#T_5820b1ee_27f0_11eb_af8f_0242ac1c0002row3_col7,#T_5820b1ee_27f0_11eb_af8f_0242ac1c0002row3_col8,#T_5820b1ee_27f0_11eb_af8f_0242ac1c0002row4_col7,#T_5820b1ee_27f0_11eb_af8f_0242ac1c0002row4_col8,#T_5820b1ee_27f0_11eb_af8f_0242ac1c0002row5_col7,#T_5820b1ee_27f0_11eb_af8f_0242ac1c0002row5_col8,#T_5820b1ee_27f0_11eb_af8f_0242ac1c0002row6_col0,#T_5820b1ee_27f0_11eb_af8f_0242ac1c0002row6_col8,#T_5820b1ee_27f0_11eb_af8f_0242ac1c0002row7_col0,#T_5820b1ee_27f0_11eb_af8f_0242ac1c0002row7_col8{\n",
              "            color:  blue ;\n",
              "             background:  azure;\n",
              "        }#T_5820b1ee_27f0_11eb_af8f_0242ac1c0002row6_col3,#T_5820b1ee_27f0_11eb_af8f_0242ac1c0002row7_col3,#T_5820b1ee_27f0_11eb_af8f_0242ac1c0002row7_col7{\n",
              "            color:  red;\n",
              "             background:  khaki;\n",
              "        }</style><table id=\"T_5820b1ee_27f0_11eb_af8f_0242ac1c0002\" ><thead>    <tr>        <th class=\"blank\" ></th>        <th class=\"blank level0\" ></th>        <th class=\"col_heading level0 col0\" colspan=10>Nota</th>    </tr>    <tr>        <th class=\"blank\" ></th>        <th class=\"index_name level1\" >Asignatura</th>        <th class=\"col_heading level1 col0\" >2FR II</th>        <th class=\"col_heading level1 col1\" >BI</th>        <th class=\"col_heading level1 col2\" >CTM</th>        <th class=\"col_heading level1 col3\" >HE</th>        <th class=\"col_heading level1 col4\" >IN II</th>        <th class=\"col_heading level1 col5\" >LC2</th>        <th class=\"col_heading level1 col6\" >MA2</th>        <th class=\"col_heading level1 col7\" >PS</th>        <th class=\"col_heading level1 col8\" >PSC</th>        <th class=\"col_heading level1 col9\" >QU</th>    </tr>    <tr>        <th class=\"index_name level0\" >Alumno</th>        <th class=\"index_name level1\" >Eval</th>        <th class=\"blank\" ></th>        <th class=\"blank\" ></th>        <th class=\"blank\" ></th>        <th class=\"blank\" ></th>        <th class=\"blank\" ></th>        <th class=\"blank\" ></th>        <th class=\"blank\" ></th>        <th class=\"blank\" ></th>        <th class=\"blank\" ></th>        <th class=\"blank\" ></th>    </tr></thead><tbody>\n",
              "                <tr>\n",
              "                        <th id=\"T_5820b1ee_27f0_11eb_af8f_0242ac1c0002level0_row0\" class=\"row_heading level0 row0\" rowspan=2>Alumno_1</th>\n",
              "                        <th id=\"T_5820b1ee_27f0_11eb_af8f_0242ac1c0002level1_row0\" class=\"row_heading level1 row0\" >1</th>\n",
              "                        <td id=\"T_5820b1ee_27f0_11eb_af8f_0242ac1c0002row0_col0\" class=\"data row0 col0\" >8.000000</td>\n",
              "                        <td id=\"T_5820b1ee_27f0_11eb_af8f_0242ac1c0002row0_col1\" class=\"data row0 col1\" >7.000000</td>\n",
              "                        <td id=\"T_5820b1ee_27f0_11eb_af8f_0242ac1c0002row0_col2\" class=\"data row0 col2\" >7.000000</td>\n",
              "                        <td id=\"T_5820b1ee_27f0_11eb_af8f_0242ac1c0002row0_col3\" class=\"data row0 col3\" >5.000000</td>\n",
              "                        <td id=\"T_5820b1ee_27f0_11eb_af8f_0242ac1c0002row0_col4\" class=\"data row0 col4\" >10.000000</td>\n",
              "                        <td id=\"T_5820b1ee_27f0_11eb_af8f_0242ac1c0002row0_col5\" class=\"data row0 col5\" >6.000000</td>\n",
              "                        <td id=\"T_5820b1ee_27f0_11eb_af8f_0242ac1c0002row0_col6\" class=\"data row0 col6\" >7.000000</td>\n",
              "                        <td id=\"T_5820b1ee_27f0_11eb_af8f_0242ac1c0002row0_col7\" class=\"data row0 col7\" >-</td>\n",
              "                        <td id=\"T_5820b1ee_27f0_11eb_af8f_0242ac1c0002row0_col8\" class=\"data row0 col8\" >8.000000</td>\n",
              "                        <td id=\"T_5820b1ee_27f0_11eb_af8f_0242ac1c0002row0_col9\" class=\"data row0 col9\" >6.000000</td>\n",
              "            </tr>\n",
              "            <tr>\n",
              "                                <th id=\"T_5820b1ee_27f0_11eb_af8f_0242ac1c0002level1_row1\" class=\"row_heading level1 row1\" >2</th>\n",
              "                        <td id=\"T_5820b1ee_27f0_11eb_af8f_0242ac1c0002row1_col0\" class=\"data row1 col0\" >7.000000</td>\n",
              "                        <td id=\"T_5820b1ee_27f0_11eb_af8f_0242ac1c0002row1_col1\" class=\"data row1 col1\" >5.000000</td>\n",
              "                        <td id=\"T_5820b1ee_27f0_11eb_af8f_0242ac1c0002row1_col2\" class=\"data row1 col2\" >7.000000</td>\n",
              "                        <td id=\"T_5820b1ee_27f0_11eb_af8f_0242ac1c0002row1_col3\" class=\"data row1 col3\" >6.000000</td>\n",
              "                        <td id=\"T_5820b1ee_27f0_11eb_af8f_0242ac1c0002row1_col4\" class=\"data row1 col4\" >10.000000</td>\n",
              "                        <td id=\"T_5820b1ee_27f0_11eb_af8f_0242ac1c0002row1_col5\" class=\"data row1 col5\" >5.000000</td>\n",
              "                        <td id=\"T_5820b1ee_27f0_11eb_af8f_0242ac1c0002row1_col6\" class=\"data row1 col6\" >7.000000</td>\n",
              "                        <td id=\"T_5820b1ee_27f0_11eb_af8f_0242ac1c0002row1_col7\" class=\"data row1 col7\" >-</td>\n",
              "                        <td id=\"T_5820b1ee_27f0_11eb_af8f_0242ac1c0002row1_col8\" class=\"data row1 col8\" >9.000000</td>\n",
              "                        <td id=\"T_5820b1ee_27f0_11eb_af8f_0242ac1c0002row1_col9\" class=\"data row1 col9\" >7.000000</td>\n",
              "            </tr>\n",
              "            <tr>\n",
              "                        <th id=\"T_5820b1ee_27f0_11eb_af8f_0242ac1c0002level0_row2\" class=\"row_heading level0 row2\" rowspan=2>Alumno_2</th>\n",
              "                        <th id=\"T_5820b1ee_27f0_11eb_af8f_0242ac1c0002level1_row2\" class=\"row_heading level1 row2\" >1</th>\n",
              "                        <td id=\"T_5820b1ee_27f0_11eb_af8f_0242ac1c0002row2_col0\" class=\"data row2 col0\" >7.000000</td>\n",
              "                        <td id=\"T_5820b1ee_27f0_11eb_af8f_0242ac1c0002row2_col1\" class=\"data row2 col1\" >8.000000</td>\n",
              "                        <td id=\"T_5820b1ee_27f0_11eb_af8f_0242ac1c0002row2_col2\" class=\"data row2 col2\" >9.000000</td>\n",
              "                        <td id=\"T_5820b1ee_27f0_11eb_af8f_0242ac1c0002row2_col3\" class=\"data row2 col3\" >7.000000</td>\n",
              "                        <td id=\"T_5820b1ee_27f0_11eb_af8f_0242ac1c0002row2_col4\" class=\"data row2 col4\" >9.000000</td>\n",
              "                        <td id=\"T_5820b1ee_27f0_11eb_af8f_0242ac1c0002row2_col5\" class=\"data row2 col5\" >7.000000</td>\n",
              "                        <td id=\"T_5820b1ee_27f0_11eb_af8f_0242ac1c0002row2_col6\" class=\"data row2 col6\" >9.000000</td>\n",
              "                        <td id=\"T_5820b1ee_27f0_11eb_af8f_0242ac1c0002row2_col7\" class=\"data row2 col7\" >-</td>\n",
              "                        <td id=\"T_5820b1ee_27f0_11eb_af8f_0242ac1c0002row2_col8\" class=\"data row2 col8\" >-</td>\n",
              "                        <td id=\"T_5820b1ee_27f0_11eb_af8f_0242ac1c0002row2_col9\" class=\"data row2 col9\" >9.000000</td>\n",
              "            </tr>\n",
              "            <tr>\n",
              "                                <th id=\"T_5820b1ee_27f0_11eb_af8f_0242ac1c0002level1_row3\" class=\"row_heading level1 row3\" >2</th>\n",
              "                        <td id=\"T_5820b1ee_27f0_11eb_af8f_0242ac1c0002row3_col0\" class=\"data row3 col0\" >8.000000</td>\n",
              "                        <td id=\"T_5820b1ee_27f0_11eb_af8f_0242ac1c0002row3_col1\" class=\"data row3 col1\" >7.000000</td>\n",
              "                        <td id=\"T_5820b1ee_27f0_11eb_af8f_0242ac1c0002row3_col2\" class=\"data row3 col2\" >8.000000</td>\n",
              "                        <td id=\"T_5820b1ee_27f0_11eb_af8f_0242ac1c0002row3_col3\" class=\"data row3 col3\" >7.000000</td>\n",
              "                        <td id=\"T_5820b1ee_27f0_11eb_af8f_0242ac1c0002row3_col4\" class=\"data row3 col4\" >9.000000</td>\n",
              "                        <td id=\"T_5820b1ee_27f0_11eb_af8f_0242ac1c0002row3_col5\" class=\"data row3 col5\" >7.000000</td>\n",
              "                        <td id=\"T_5820b1ee_27f0_11eb_af8f_0242ac1c0002row3_col6\" class=\"data row3 col6\" >8.000000</td>\n",
              "                        <td id=\"T_5820b1ee_27f0_11eb_af8f_0242ac1c0002row3_col7\" class=\"data row3 col7\" >-</td>\n",
              "                        <td id=\"T_5820b1ee_27f0_11eb_af8f_0242ac1c0002row3_col8\" class=\"data row3 col8\" >-</td>\n",
              "                        <td id=\"T_5820b1ee_27f0_11eb_af8f_0242ac1c0002row3_col9\" class=\"data row3 col9\" >7.000000</td>\n",
              "            </tr>\n",
              "            <tr>\n",
              "                        <th id=\"T_5820b1ee_27f0_11eb_af8f_0242ac1c0002level0_row4\" class=\"row_heading level0 row4\" rowspan=2>Alumno_3</th>\n",
              "                        <th id=\"T_5820b1ee_27f0_11eb_af8f_0242ac1c0002level1_row4\" class=\"row_heading level1 row4\" >1</th>\n",
              "                        <td id=\"T_5820b1ee_27f0_11eb_af8f_0242ac1c0002row4_col0\" class=\"data row4 col0\" >8.000000</td>\n",
              "                        <td id=\"T_5820b1ee_27f0_11eb_af8f_0242ac1c0002row4_col1\" class=\"data row4 col1\" >7.000000</td>\n",
              "                        <td id=\"T_5820b1ee_27f0_11eb_af8f_0242ac1c0002row4_col2\" class=\"data row4 col2\" >9.000000</td>\n",
              "                        <td id=\"T_5820b1ee_27f0_11eb_af8f_0242ac1c0002row4_col3\" class=\"data row4 col3\" >6.000000</td>\n",
              "                        <td id=\"T_5820b1ee_27f0_11eb_af8f_0242ac1c0002row4_col4\" class=\"data row4 col4\" >9.000000</td>\n",
              "                        <td id=\"T_5820b1ee_27f0_11eb_af8f_0242ac1c0002row4_col5\" class=\"data row4 col5\" >7.000000</td>\n",
              "                        <td id=\"T_5820b1ee_27f0_11eb_af8f_0242ac1c0002row4_col6\" class=\"data row4 col6\" >7.000000</td>\n",
              "                        <td id=\"T_5820b1ee_27f0_11eb_af8f_0242ac1c0002row4_col7\" class=\"data row4 col7\" >-</td>\n",
              "                        <td id=\"T_5820b1ee_27f0_11eb_af8f_0242ac1c0002row4_col8\" class=\"data row4 col8\" >-</td>\n",
              "                        <td id=\"T_5820b1ee_27f0_11eb_af8f_0242ac1c0002row4_col9\" class=\"data row4 col9\" >6.000000</td>\n",
              "            </tr>\n",
              "            <tr>\n",
              "                                <th id=\"T_5820b1ee_27f0_11eb_af8f_0242ac1c0002level1_row5\" class=\"row_heading level1 row5\" >2</th>\n",
              "                        <td id=\"T_5820b1ee_27f0_11eb_af8f_0242ac1c0002row5_col0\" class=\"data row5 col0\" >7.000000</td>\n",
              "                        <td id=\"T_5820b1ee_27f0_11eb_af8f_0242ac1c0002row5_col1\" class=\"data row5 col1\" >8.000000</td>\n",
              "                        <td id=\"T_5820b1ee_27f0_11eb_af8f_0242ac1c0002row5_col2\" class=\"data row5 col2\" >8.000000</td>\n",
              "                        <td id=\"T_5820b1ee_27f0_11eb_af8f_0242ac1c0002row5_col3\" class=\"data row5 col3\" >6.000000</td>\n",
              "                        <td id=\"T_5820b1ee_27f0_11eb_af8f_0242ac1c0002row5_col4\" class=\"data row5 col4\" >9.000000</td>\n",
              "                        <td id=\"T_5820b1ee_27f0_11eb_af8f_0242ac1c0002row5_col5\" class=\"data row5 col5\" >5.000000</td>\n",
              "                        <td id=\"T_5820b1ee_27f0_11eb_af8f_0242ac1c0002row5_col6\" class=\"data row5 col6\" >8.000000</td>\n",
              "                        <td id=\"T_5820b1ee_27f0_11eb_af8f_0242ac1c0002row5_col7\" class=\"data row5 col7\" >-</td>\n",
              "                        <td id=\"T_5820b1ee_27f0_11eb_af8f_0242ac1c0002row5_col8\" class=\"data row5 col8\" >-</td>\n",
              "                        <td id=\"T_5820b1ee_27f0_11eb_af8f_0242ac1c0002row5_col9\" class=\"data row5 col9\" >8.000000</td>\n",
              "            </tr>\n",
              "            <tr>\n",
              "                        <th id=\"T_5820b1ee_27f0_11eb_af8f_0242ac1c0002level0_row6\" class=\"row_heading level0 row6\" rowspan=2>Alumno_4</th>\n",
              "                        <th id=\"T_5820b1ee_27f0_11eb_af8f_0242ac1c0002level1_row6\" class=\"row_heading level1 row6\" >1</th>\n",
              "                        <td id=\"T_5820b1ee_27f0_11eb_af8f_0242ac1c0002row6_col0\" class=\"data row6 col0\" >-</td>\n",
              "                        <td id=\"T_5820b1ee_27f0_11eb_af8f_0242ac1c0002row6_col1\" class=\"data row6 col1\" >7.000000</td>\n",
              "                        <td id=\"T_5820b1ee_27f0_11eb_af8f_0242ac1c0002row6_col2\" class=\"data row6 col2\" >8.000000</td>\n",
              "                        <td id=\"T_5820b1ee_27f0_11eb_af8f_0242ac1c0002row6_col3\" class=\"data row6 col3\" >3.000000</td>\n",
              "                        <td id=\"T_5820b1ee_27f0_11eb_af8f_0242ac1c0002row6_col4\" class=\"data row6 col4\" >7.000000</td>\n",
              "                        <td id=\"T_5820b1ee_27f0_11eb_af8f_0242ac1c0002row6_col5\" class=\"data row6 col5\" >7.000000</td>\n",
              "                        <td id=\"T_5820b1ee_27f0_11eb_af8f_0242ac1c0002row6_col6\" class=\"data row6 col6\" >10.000000</td>\n",
              "                        <td id=\"T_5820b1ee_27f0_11eb_af8f_0242ac1c0002row6_col7\" class=\"data row6 col7\" >8.000000</td>\n",
              "                        <td id=\"T_5820b1ee_27f0_11eb_af8f_0242ac1c0002row6_col8\" class=\"data row6 col8\" >-</td>\n",
              "                        <td id=\"T_5820b1ee_27f0_11eb_af8f_0242ac1c0002row6_col9\" class=\"data row6 col9\" >7.000000</td>\n",
              "            </tr>\n",
              "            <tr>\n",
              "                                <th id=\"T_5820b1ee_27f0_11eb_af8f_0242ac1c0002level1_row7\" class=\"row_heading level1 row7\" >2</th>\n",
              "                        <td id=\"T_5820b1ee_27f0_11eb_af8f_0242ac1c0002row7_col0\" class=\"data row7 col0\" >-</td>\n",
              "                        <td id=\"T_5820b1ee_27f0_11eb_af8f_0242ac1c0002row7_col1\" class=\"data row7 col1\" >7.000000</td>\n",
              "                        <td id=\"T_5820b1ee_27f0_11eb_af8f_0242ac1c0002row7_col2\" class=\"data row7 col2\" >7.000000</td>\n",
              "                        <td id=\"T_5820b1ee_27f0_11eb_af8f_0242ac1c0002row7_col3\" class=\"data row7 col3\" >2.000000</td>\n",
              "                        <td id=\"T_5820b1ee_27f0_11eb_af8f_0242ac1c0002row7_col4\" class=\"data row7 col4\" >8.000000</td>\n",
              "                        <td id=\"T_5820b1ee_27f0_11eb_af8f_0242ac1c0002row7_col5\" class=\"data row7 col5\" >6.000000</td>\n",
              "                        <td id=\"T_5820b1ee_27f0_11eb_af8f_0242ac1c0002row7_col6\" class=\"data row7 col6\" >10.000000</td>\n",
              "                        <td id=\"T_5820b1ee_27f0_11eb_af8f_0242ac1c0002row7_col7\" class=\"data row7 col7\" >2.000000</td>\n",
              "                        <td id=\"T_5820b1ee_27f0_11eb_af8f_0242ac1c0002row7_col8\" class=\"data row7 col8\" >-</td>\n",
              "                        <td id=\"T_5820b1ee_27f0_11eb_af8f_0242ac1c0002row7_col9\" class=\"data row7 col9\" >8.000000</td>\n",
              "            </tr>\n",
              "    </tbody></table>"
            ],
            "text/plain": [
              "<pandas.io.formats.style.Styler at 0x7f275db2b9b0>"
            ]
          },
          "metadata": {
            "tags": []
          },
          "execution_count": 33
        }
      ]
    },
    {
      "cell_type": "code",
      "metadata": {
        "colab": {
          "base_uri": "https://localhost:8080/",
          "height": 190
        },
        "id": "LhfIr4xHMDOG",
        "outputId": "35d25b2c-5153-4784-ac77-b0896919f707"
      },
      "source": [
        "df1=actilla_final.groupby(['Alumno','Eval','Asignatura'])[['Nota']].max().unstack().unstack()\n",
        "df1.fillna('-').style.applymap(color_negative_red)\n"
      ],
      "execution_count": null,
      "outputs": [
        {
          "output_type": "execute_result",
          "data": {
            "text/html": [
              "<style  type=\"text/css\" >\n",
              "#T_63525e5a_27f0_11eb_af8f_0242ac1c0002row0_col0,#T_63525e5a_27f0_11eb_af8f_0242ac1c0002row0_col1,#T_63525e5a_27f0_11eb_af8f_0242ac1c0002row0_col2,#T_63525e5a_27f0_11eb_af8f_0242ac1c0002row0_col3,#T_63525e5a_27f0_11eb_af8f_0242ac1c0002row0_col4,#T_63525e5a_27f0_11eb_af8f_0242ac1c0002row0_col5,#T_63525e5a_27f0_11eb_af8f_0242ac1c0002row0_col6,#T_63525e5a_27f0_11eb_af8f_0242ac1c0002row0_col7,#T_63525e5a_27f0_11eb_af8f_0242ac1c0002row0_col8,#T_63525e5a_27f0_11eb_af8f_0242ac1c0002row0_col9,#T_63525e5a_27f0_11eb_af8f_0242ac1c0002row0_col10,#T_63525e5a_27f0_11eb_af8f_0242ac1c0002row0_col11,#T_63525e5a_27f0_11eb_af8f_0242ac1c0002row0_col12,#T_63525e5a_27f0_11eb_af8f_0242ac1c0002row0_col13,#T_63525e5a_27f0_11eb_af8f_0242ac1c0002row0_col16,#T_63525e5a_27f0_11eb_af8f_0242ac1c0002row0_col17,#T_63525e5a_27f0_11eb_af8f_0242ac1c0002row0_col18,#T_63525e5a_27f0_11eb_af8f_0242ac1c0002row0_col19,#T_63525e5a_27f0_11eb_af8f_0242ac1c0002row1_col0,#T_63525e5a_27f0_11eb_af8f_0242ac1c0002row1_col1,#T_63525e5a_27f0_11eb_af8f_0242ac1c0002row1_col2,#T_63525e5a_27f0_11eb_af8f_0242ac1c0002row1_col3,#T_63525e5a_27f0_11eb_af8f_0242ac1c0002row1_col4,#T_63525e5a_27f0_11eb_af8f_0242ac1c0002row1_col5,#T_63525e5a_27f0_11eb_af8f_0242ac1c0002row1_col6,#T_63525e5a_27f0_11eb_af8f_0242ac1c0002row1_col7,#T_63525e5a_27f0_11eb_af8f_0242ac1c0002row1_col8,#T_63525e5a_27f0_11eb_af8f_0242ac1c0002row1_col9,#T_63525e5a_27f0_11eb_af8f_0242ac1c0002row1_col10,#T_63525e5a_27f0_11eb_af8f_0242ac1c0002row1_col11,#T_63525e5a_27f0_11eb_af8f_0242ac1c0002row1_col12,#T_63525e5a_27f0_11eb_af8f_0242ac1c0002row1_col13,#T_63525e5a_27f0_11eb_af8f_0242ac1c0002row1_col18,#T_63525e5a_27f0_11eb_af8f_0242ac1c0002row1_col19,#T_63525e5a_27f0_11eb_af8f_0242ac1c0002row2_col0,#T_63525e5a_27f0_11eb_af8f_0242ac1c0002row2_col1,#T_63525e5a_27f0_11eb_af8f_0242ac1c0002row2_col2,#T_63525e5a_27f0_11eb_af8f_0242ac1c0002row2_col3,#T_63525e5a_27f0_11eb_af8f_0242ac1c0002row2_col4,#T_63525e5a_27f0_11eb_af8f_0242ac1c0002row2_col5,#T_63525e5a_27f0_11eb_af8f_0242ac1c0002row2_col6,#T_63525e5a_27f0_11eb_af8f_0242ac1c0002row2_col7,#T_63525e5a_27f0_11eb_af8f_0242ac1c0002row2_col8,#T_63525e5a_27f0_11eb_af8f_0242ac1c0002row2_col9,#T_63525e5a_27f0_11eb_af8f_0242ac1c0002row2_col10,#T_63525e5a_27f0_11eb_af8f_0242ac1c0002row2_col11,#T_63525e5a_27f0_11eb_af8f_0242ac1c0002row2_col12,#T_63525e5a_27f0_11eb_af8f_0242ac1c0002row2_col13,#T_63525e5a_27f0_11eb_af8f_0242ac1c0002row2_col18,#T_63525e5a_27f0_11eb_af8f_0242ac1c0002row2_col19,#T_63525e5a_27f0_11eb_af8f_0242ac1c0002row3_col2,#T_63525e5a_27f0_11eb_af8f_0242ac1c0002row3_col3,#T_63525e5a_27f0_11eb_af8f_0242ac1c0002row3_col4,#T_63525e5a_27f0_11eb_af8f_0242ac1c0002row3_col5,#T_63525e5a_27f0_11eb_af8f_0242ac1c0002row3_col8,#T_63525e5a_27f0_11eb_af8f_0242ac1c0002row3_col9,#T_63525e5a_27f0_11eb_af8f_0242ac1c0002row3_col10,#T_63525e5a_27f0_11eb_af8f_0242ac1c0002row3_col11,#T_63525e5a_27f0_11eb_af8f_0242ac1c0002row3_col12,#T_63525e5a_27f0_11eb_af8f_0242ac1c0002row3_col13,#T_63525e5a_27f0_11eb_af8f_0242ac1c0002row3_col14,#T_63525e5a_27f0_11eb_af8f_0242ac1c0002row3_col18,#T_63525e5a_27f0_11eb_af8f_0242ac1c0002row3_col19{\n",
              "            color:  green;\n",
              "             background:  lightyellow;\n",
              "        }#T_63525e5a_27f0_11eb_af8f_0242ac1c0002row0_col14,#T_63525e5a_27f0_11eb_af8f_0242ac1c0002row0_col15,#T_63525e5a_27f0_11eb_af8f_0242ac1c0002row1_col14,#T_63525e5a_27f0_11eb_af8f_0242ac1c0002row1_col15,#T_63525e5a_27f0_11eb_af8f_0242ac1c0002row1_col16,#T_63525e5a_27f0_11eb_af8f_0242ac1c0002row1_col17,#T_63525e5a_27f0_11eb_af8f_0242ac1c0002row2_col14,#T_63525e5a_27f0_11eb_af8f_0242ac1c0002row2_col15,#T_63525e5a_27f0_11eb_af8f_0242ac1c0002row2_col16,#T_63525e5a_27f0_11eb_af8f_0242ac1c0002row2_col17,#T_63525e5a_27f0_11eb_af8f_0242ac1c0002row3_col0,#T_63525e5a_27f0_11eb_af8f_0242ac1c0002row3_col1,#T_63525e5a_27f0_11eb_af8f_0242ac1c0002row3_col16,#T_63525e5a_27f0_11eb_af8f_0242ac1c0002row3_col17{\n",
              "            color:  blue ;\n",
              "             background:  azure;\n",
              "        }#T_63525e5a_27f0_11eb_af8f_0242ac1c0002row3_col6,#T_63525e5a_27f0_11eb_af8f_0242ac1c0002row3_col7,#T_63525e5a_27f0_11eb_af8f_0242ac1c0002row3_col15{\n",
              "            color:  red;\n",
              "             background:  khaki;\n",
              "        }</style><table id=\"T_63525e5a_27f0_11eb_af8f_0242ac1c0002\" ><thead>    <tr>        <th class=\"blank level0\" ></th>        <th class=\"col_heading level0 col0\" colspan=20>Nota</th>    </tr>    <tr>        <th class=\"index_name level1\" >Asignatura</th>        <th class=\"col_heading level1 col0\" colspan=2>2FR II</th>        <th class=\"col_heading level1 col2\" colspan=2>BI</th>        <th class=\"col_heading level1 col4\" colspan=2>CTM</th>        <th class=\"col_heading level1 col6\" colspan=2>HE</th>        <th class=\"col_heading level1 col8\" colspan=2>IN II</th>        <th class=\"col_heading level1 col10\" colspan=2>LC2</th>        <th class=\"col_heading level1 col12\" colspan=2>MA2</th>        <th class=\"col_heading level1 col14\" colspan=2>PS</th>        <th class=\"col_heading level1 col16\" colspan=2>PSC</th>        <th class=\"col_heading level1 col18\" colspan=2>QU</th>    </tr>    <tr>        <th class=\"index_name level2\" >Eval</th>        <th class=\"col_heading level2 col0\" >1</th>        <th class=\"col_heading level2 col1\" >2</th>        <th class=\"col_heading level2 col2\" >1</th>        <th class=\"col_heading level2 col3\" >2</th>        <th class=\"col_heading level2 col4\" >1</th>        <th class=\"col_heading level2 col5\" >2</th>        <th class=\"col_heading level2 col6\" >1</th>        <th class=\"col_heading level2 col7\" >2</th>        <th class=\"col_heading level2 col8\" >1</th>        <th class=\"col_heading level2 col9\" >2</th>        <th class=\"col_heading level2 col10\" >1</th>        <th class=\"col_heading level2 col11\" >2</th>        <th class=\"col_heading level2 col12\" >1</th>        <th class=\"col_heading level2 col13\" >2</th>        <th class=\"col_heading level2 col14\" >1</th>        <th class=\"col_heading level2 col15\" >2</th>        <th class=\"col_heading level2 col16\" >1</th>        <th class=\"col_heading level2 col17\" >2</th>        <th class=\"col_heading level2 col18\" >1</th>        <th class=\"col_heading level2 col19\" >2</th>    </tr>    <tr>        <th class=\"index_name level0\" >Alumno</th>        <th class=\"blank\" ></th>        <th class=\"blank\" ></th>        <th class=\"blank\" ></th>        <th class=\"blank\" ></th>        <th class=\"blank\" ></th>        <th class=\"blank\" ></th>        <th class=\"blank\" ></th>        <th class=\"blank\" ></th>        <th class=\"blank\" ></th>        <th class=\"blank\" ></th>        <th class=\"blank\" ></th>        <th class=\"blank\" ></th>        <th class=\"blank\" ></th>        <th class=\"blank\" ></th>        <th class=\"blank\" ></th>        <th class=\"blank\" ></th>        <th class=\"blank\" ></th>        <th class=\"blank\" ></th>        <th class=\"blank\" ></th>        <th class=\"blank\" ></th>    </tr></thead><tbody>\n",
              "                <tr>\n",
              "                        <th id=\"T_63525e5a_27f0_11eb_af8f_0242ac1c0002level0_row0\" class=\"row_heading level0 row0\" >Alumno_1</th>\n",
              "                        <td id=\"T_63525e5a_27f0_11eb_af8f_0242ac1c0002row0_col0\" class=\"data row0 col0\" >8.000000</td>\n",
              "                        <td id=\"T_63525e5a_27f0_11eb_af8f_0242ac1c0002row0_col1\" class=\"data row0 col1\" >7.000000</td>\n",
              "                        <td id=\"T_63525e5a_27f0_11eb_af8f_0242ac1c0002row0_col2\" class=\"data row0 col2\" >7.000000</td>\n",
              "                        <td id=\"T_63525e5a_27f0_11eb_af8f_0242ac1c0002row0_col3\" class=\"data row0 col3\" >5.000000</td>\n",
              "                        <td id=\"T_63525e5a_27f0_11eb_af8f_0242ac1c0002row0_col4\" class=\"data row0 col4\" >7.000000</td>\n",
              "                        <td id=\"T_63525e5a_27f0_11eb_af8f_0242ac1c0002row0_col5\" class=\"data row0 col5\" >7.000000</td>\n",
              "                        <td id=\"T_63525e5a_27f0_11eb_af8f_0242ac1c0002row0_col6\" class=\"data row0 col6\" >5.000000</td>\n",
              "                        <td id=\"T_63525e5a_27f0_11eb_af8f_0242ac1c0002row0_col7\" class=\"data row0 col7\" >6.000000</td>\n",
              "                        <td id=\"T_63525e5a_27f0_11eb_af8f_0242ac1c0002row0_col8\" class=\"data row0 col8\" >10.000000</td>\n",
              "                        <td id=\"T_63525e5a_27f0_11eb_af8f_0242ac1c0002row0_col9\" class=\"data row0 col9\" >10.000000</td>\n",
              "                        <td id=\"T_63525e5a_27f0_11eb_af8f_0242ac1c0002row0_col10\" class=\"data row0 col10\" >6.000000</td>\n",
              "                        <td id=\"T_63525e5a_27f0_11eb_af8f_0242ac1c0002row0_col11\" class=\"data row0 col11\" >5.000000</td>\n",
              "                        <td id=\"T_63525e5a_27f0_11eb_af8f_0242ac1c0002row0_col12\" class=\"data row0 col12\" >7.000000</td>\n",
              "                        <td id=\"T_63525e5a_27f0_11eb_af8f_0242ac1c0002row0_col13\" class=\"data row0 col13\" >7.000000</td>\n",
              "                        <td id=\"T_63525e5a_27f0_11eb_af8f_0242ac1c0002row0_col14\" class=\"data row0 col14\" >-</td>\n",
              "                        <td id=\"T_63525e5a_27f0_11eb_af8f_0242ac1c0002row0_col15\" class=\"data row0 col15\" >-</td>\n",
              "                        <td id=\"T_63525e5a_27f0_11eb_af8f_0242ac1c0002row0_col16\" class=\"data row0 col16\" >8.000000</td>\n",
              "                        <td id=\"T_63525e5a_27f0_11eb_af8f_0242ac1c0002row0_col17\" class=\"data row0 col17\" >9.000000</td>\n",
              "                        <td id=\"T_63525e5a_27f0_11eb_af8f_0242ac1c0002row0_col18\" class=\"data row0 col18\" >6.000000</td>\n",
              "                        <td id=\"T_63525e5a_27f0_11eb_af8f_0242ac1c0002row0_col19\" class=\"data row0 col19\" >7.000000</td>\n",
              "            </tr>\n",
              "            <tr>\n",
              "                        <th id=\"T_63525e5a_27f0_11eb_af8f_0242ac1c0002level0_row1\" class=\"row_heading level0 row1\" >Alumno_2</th>\n",
              "                        <td id=\"T_63525e5a_27f0_11eb_af8f_0242ac1c0002row1_col0\" class=\"data row1 col0\" >7.000000</td>\n",
              "                        <td id=\"T_63525e5a_27f0_11eb_af8f_0242ac1c0002row1_col1\" class=\"data row1 col1\" >8.000000</td>\n",
              "                        <td id=\"T_63525e5a_27f0_11eb_af8f_0242ac1c0002row1_col2\" class=\"data row1 col2\" >8.000000</td>\n",
              "                        <td id=\"T_63525e5a_27f0_11eb_af8f_0242ac1c0002row1_col3\" class=\"data row1 col3\" >7.000000</td>\n",
              "                        <td id=\"T_63525e5a_27f0_11eb_af8f_0242ac1c0002row1_col4\" class=\"data row1 col4\" >9.000000</td>\n",
              "                        <td id=\"T_63525e5a_27f0_11eb_af8f_0242ac1c0002row1_col5\" class=\"data row1 col5\" >8.000000</td>\n",
              "                        <td id=\"T_63525e5a_27f0_11eb_af8f_0242ac1c0002row1_col6\" class=\"data row1 col6\" >7.000000</td>\n",
              "                        <td id=\"T_63525e5a_27f0_11eb_af8f_0242ac1c0002row1_col7\" class=\"data row1 col7\" >7.000000</td>\n",
              "                        <td id=\"T_63525e5a_27f0_11eb_af8f_0242ac1c0002row1_col8\" class=\"data row1 col8\" >9.000000</td>\n",
              "                        <td id=\"T_63525e5a_27f0_11eb_af8f_0242ac1c0002row1_col9\" class=\"data row1 col9\" >9.000000</td>\n",
              "                        <td id=\"T_63525e5a_27f0_11eb_af8f_0242ac1c0002row1_col10\" class=\"data row1 col10\" >7.000000</td>\n",
              "                        <td id=\"T_63525e5a_27f0_11eb_af8f_0242ac1c0002row1_col11\" class=\"data row1 col11\" >7.000000</td>\n",
              "                        <td id=\"T_63525e5a_27f0_11eb_af8f_0242ac1c0002row1_col12\" class=\"data row1 col12\" >9.000000</td>\n",
              "                        <td id=\"T_63525e5a_27f0_11eb_af8f_0242ac1c0002row1_col13\" class=\"data row1 col13\" >8.000000</td>\n",
              "                        <td id=\"T_63525e5a_27f0_11eb_af8f_0242ac1c0002row1_col14\" class=\"data row1 col14\" >-</td>\n",
              "                        <td id=\"T_63525e5a_27f0_11eb_af8f_0242ac1c0002row1_col15\" class=\"data row1 col15\" >-</td>\n",
              "                        <td id=\"T_63525e5a_27f0_11eb_af8f_0242ac1c0002row1_col16\" class=\"data row1 col16\" >-</td>\n",
              "                        <td id=\"T_63525e5a_27f0_11eb_af8f_0242ac1c0002row1_col17\" class=\"data row1 col17\" >-</td>\n",
              "                        <td id=\"T_63525e5a_27f0_11eb_af8f_0242ac1c0002row1_col18\" class=\"data row1 col18\" >9.000000</td>\n",
              "                        <td id=\"T_63525e5a_27f0_11eb_af8f_0242ac1c0002row1_col19\" class=\"data row1 col19\" >7.000000</td>\n",
              "            </tr>\n",
              "            <tr>\n",
              "                        <th id=\"T_63525e5a_27f0_11eb_af8f_0242ac1c0002level0_row2\" class=\"row_heading level0 row2\" >Alumno_3</th>\n",
              "                        <td id=\"T_63525e5a_27f0_11eb_af8f_0242ac1c0002row2_col0\" class=\"data row2 col0\" >8.000000</td>\n",
              "                        <td id=\"T_63525e5a_27f0_11eb_af8f_0242ac1c0002row2_col1\" class=\"data row2 col1\" >7.000000</td>\n",
              "                        <td id=\"T_63525e5a_27f0_11eb_af8f_0242ac1c0002row2_col2\" class=\"data row2 col2\" >7.000000</td>\n",
              "                        <td id=\"T_63525e5a_27f0_11eb_af8f_0242ac1c0002row2_col3\" class=\"data row2 col3\" >8.000000</td>\n",
              "                        <td id=\"T_63525e5a_27f0_11eb_af8f_0242ac1c0002row2_col4\" class=\"data row2 col4\" >9.000000</td>\n",
              "                        <td id=\"T_63525e5a_27f0_11eb_af8f_0242ac1c0002row2_col5\" class=\"data row2 col5\" >8.000000</td>\n",
              "                        <td id=\"T_63525e5a_27f0_11eb_af8f_0242ac1c0002row2_col6\" class=\"data row2 col6\" >6.000000</td>\n",
              "                        <td id=\"T_63525e5a_27f0_11eb_af8f_0242ac1c0002row2_col7\" class=\"data row2 col7\" >6.000000</td>\n",
              "                        <td id=\"T_63525e5a_27f0_11eb_af8f_0242ac1c0002row2_col8\" class=\"data row2 col8\" >9.000000</td>\n",
              "                        <td id=\"T_63525e5a_27f0_11eb_af8f_0242ac1c0002row2_col9\" class=\"data row2 col9\" >9.000000</td>\n",
              "                        <td id=\"T_63525e5a_27f0_11eb_af8f_0242ac1c0002row2_col10\" class=\"data row2 col10\" >7.000000</td>\n",
              "                        <td id=\"T_63525e5a_27f0_11eb_af8f_0242ac1c0002row2_col11\" class=\"data row2 col11\" >5.000000</td>\n",
              "                        <td id=\"T_63525e5a_27f0_11eb_af8f_0242ac1c0002row2_col12\" class=\"data row2 col12\" >7.000000</td>\n",
              "                        <td id=\"T_63525e5a_27f0_11eb_af8f_0242ac1c0002row2_col13\" class=\"data row2 col13\" >8.000000</td>\n",
              "                        <td id=\"T_63525e5a_27f0_11eb_af8f_0242ac1c0002row2_col14\" class=\"data row2 col14\" >-</td>\n",
              "                        <td id=\"T_63525e5a_27f0_11eb_af8f_0242ac1c0002row2_col15\" class=\"data row2 col15\" >-</td>\n",
              "                        <td id=\"T_63525e5a_27f0_11eb_af8f_0242ac1c0002row2_col16\" class=\"data row2 col16\" >-</td>\n",
              "                        <td id=\"T_63525e5a_27f0_11eb_af8f_0242ac1c0002row2_col17\" class=\"data row2 col17\" >-</td>\n",
              "                        <td id=\"T_63525e5a_27f0_11eb_af8f_0242ac1c0002row2_col18\" class=\"data row2 col18\" >6.000000</td>\n",
              "                        <td id=\"T_63525e5a_27f0_11eb_af8f_0242ac1c0002row2_col19\" class=\"data row2 col19\" >8.000000</td>\n",
              "            </tr>\n",
              "            <tr>\n",
              "                        <th id=\"T_63525e5a_27f0_11eb_af8f_0242ac1c0002level0_row3\" class=\"row_heading level0 row3\" >Alumno_4</th>\n",
              "                        <td id=\"T_63525e5a_27f0_11eb_af8f_0242ac1c0002row3_col0\" class=\"data row3 col0\" >-</td>\n",
              "                        <td id=\"T_63525e5a_27f0_11eb_af8f_0242ac1c0002row3_col1\" class=\"data row3 col1\" >-</td>\n",
              "                        <td id=\"T_63525e5a_27f0_11eb_af8f_0242ac1c0002row3_col2\" class=\"data row3 col2\" >7.000000</td>\n",
              "                        <td id=\"T_63525e5a_27f0_11eb_af8f_0242ac1c0002row3_col3\" class=\"data row3 col3\" >7.000000</td>\n",
              "                        <td id=\"T_63525e5a_27f0_11eb_af8f_0242ac1c0002row3_col4\" class=\"data row3 col4\" >8.000000</td>\n",
              "                        <td id=\"T_63525e5a_27f0_11eb_af8f_0242ac1c0002row3_col5\" class=\"data row3 col5\" >7.000000</td>\n",
              "                        <td id=\"T_63525e5a_27f0_11eb_af8f_0242ac1c0002row3_col6\" class=\"data row3 col6\" >3.000000</td>\n",
              "                        <td id=\"T_63525e5a_27f0_11eb_af8f_0242ac1c0002row3_col7\" class=\"data row3 col7\" >2.000000</td>\n",
              "                        <td id=\"T_63525e5a_27f0_11eb_af8f_0242ac1c0002row3_col8\" class=\"data row3 col8\" >7.000000</td>\n",
              "                        <td id=\"T_63525e5a_27f0_11eb_af8f_0242ac1c0002row3_col9\" class=\"data row3 col9\" >8.000000</td>\n",
              "                        <td id=\"T_63525e5a_27f0_11eb_af8f_0242ac1c0002row3_col10\" class=\"data row3 col10\" >7.000000</td>\n",
              "                        <td id=\"T_63525e5a_27f0_11eb_af8f_0242ac1c0002row3_col11\" class=\"data row3 col11\" >6.000000</td>\n",
              "                        <td id=\"T_63525e5a_27f0_11eb_af8f_0242ac1c0002row3_col12\" class=\"data row3 col12\" >10.000000</td>\n",
              "                        <td id=\"T_63525e5a_27f0_11eb_af8f_0242ac1c0002row3_col13\" class=\"data row3 col13\" >10.000000</td>\n",
              "                        <td id=\"T_63525e5a_27f0_11eb_af8f_0242ac1c0002row3_col14\" class=\"data row3 col14\" >8.000000</td>\n",
              "                        <td id=\"T_63525e5a_27f0_11eb_af8f_0242ac1c0002row3_col15\" class=\"data row3 col15\" >2.000000</td>\n",
              "                        <td id=\"T_63525e5a_27f0_11eb_af8f_0242ac1c0002row3_col16\" class=\"data row3 col16\" >-</td>\n",
              "                        <td id=\"T_63525e5a_27f0_11eb_af8f_0242ac1c0002row3_col17\" class=\"data row3 col17\" >-</td>\n",
              "                        <td id=\"T_63525e5a_27f0_11eb_af8f_0242ac1c0002row3_col18\" class=\"data row3 col18\" >7.000000</td>\n",
              "                        <td id=\"T_63525e5a_27f0_11eb_af8f_0242ac1c0002row3_col19\" class=\"data row3 col19\" >8.000000</td>\n",
              "            </tr>\n",
              "    </tbody></table>"
            ],
            "text/plain": [
              "<pandas.io.formats.style.Styler at 0x7f275db2ab38>"
            ]
          },
          "metadata": {
            "tags": []
          },
          "execution_count": 34
        }
      ]
    },
    {
      "cell_type": "code",
      "metadata": {
        "id": "1od_u42mMDOP",
        "outputId": "970d9264-af05-4c0d-89bb-420f22caf871"
      },
      "source": [
        "#df2 = actilla_final.pivot_table(index=['Alumno','Eval'], aggfunc = {'Nota':'mean','Suspenso':sum})\n",
        "df2 = actilla_final.pivot_table(index=['Alumno','Eval'], aggfunc = {'Nota':'mean'})\n",
        "#df2.sort_values('Nota')\n",
        "df2.unstack()[('Nota',2)]\n",
        "#actilla_final.pivot_table(index=['Alumno','Eval']).Nota.round(2)"
      ],
      "execution_count": null,
      "outputs": [
        {
          "output_type": "execute_result",
          "data": {
            "text/plain": [
              "Alumno\n",
              "Alumno_1    7.000\n",
              "Alumno_2    7.625\n",
              "Alumno_3    7.375\n",
              "Alumno_4    6.250\n",
              "Name: (Nota, 2), dtype: float64"
            ]
          },
          "metadata": {
            "tags": []
          },
          "execution_count": 66
        }
      ]
    },
    {
      "cell_type": "code",
      "metadata": {
        "id": "0gRQroruMDOX",
        "outputId": "1a59c7c6-05bc-4463-c1eb-2f251463e603"
      },
      "source": [
        "pd.concat([df1,df2.unstack()[('Nota',2)]],axis=1)"
      ],
      "execution_count": null,
      "outputs": [
        {
          "output_type": "execute_result",
          "data": {
            "text/html": [
              "<div>\n",
              "<style scoped>\n",
              "    .dataframe tbody tr th:only-of-type {\n",
              "        vertical-align: middle;\n",
              "    }\n",
              "\n",
              "    .dataframe tbody tr th {\n",
              "        vertical-align: top;\n",
              "    }\n",
              "\n",
              "    .dataframe thead th {\n",
              "        text-align: right;\n",
              "    }\n",
              "</style>\n",
              "<table border=\"1\" class=\"dataframe\">\n",
              "  <thead>\n",
              "    <tr style=\"text-align: right;\">\n",
              "      <th></th>\n",
              "      <th>(Nota, 2FR II, 1)</th>\n",
              "      <th>(Nota, 2FR II, 2)</th>\n",
              "      <th>(Nota, BI, 1)</th>\n",
              "      <th>(Nota, BI, 2)</th>\n",
              "      <th>(Nota, CTM, 1)</th>\n",
              "      <th>(Nota, CTM, 2)</th>\n",
              "      <th>(Nota, HE, 1)</th>\n",
              "      <th>(Nota, HE, 2)</th>\n",
              "      <th>(Nota, IN II, 1)</th>\n",
              "      <th>(Nota, IN II, 2)</th>\n",
              "      <th>...</th>\n",
              "      <th>(Nota, LC2, 2)</th>\n",
              "      <th>(Nota, MA2, 1)</th>\n",
              "      <th>(Nota, MA2, 2)</th>\n",
              "      <th>(Nota, PS, 1)</th>\n",
              "      <th>(Nota, PS, 2)</th>\n",
              "      <th>(Nota, PSC, 1)</th>\n",
              "      <th>(Nota, PSC, 2)</th>\n",
              "      <th>(Nota, QU, 1)</th>\n",
              "      <th>(Nota, QU, 2)</th>\n",
              "      <th>(Nota, 2)</th>\n",
              "    </tr>\n",
              "    <tr>\n",
              "      <th>Alumno</th>\n",
              "      <th></th>\n",
              "      <th></th>\n",
              "      <th></th>\n",
              "      <th></th>\n",
              "      <th></th>\n",
              "      <th></th>\n",
              "      <th></th>\n",
              "      <th></th>\n",
              "      <th></th>\n",
              "      <th></th>\n",
              "      <th></th>\n",
              "      <th></th>\n",
              "      <th></th>\n",
              "      <th></th>\n",
              "      <th></th>\n",
              "      <th></th>\n",
              "      <th></th>\n",
              "      <th></th>\n",
              "      <th></th>\n",
              "      <th></th>\n",
              "      <th></th>\n",
              "    </tr>\n",
              "  </thead>\n",
              "  <tbody>\n",
              "    <tr>\n",
              "      <th>Alumno_1</th>\n",
              "      <td>8.0</td>\n",
              "      <td>7.0</td>\n",
              "      <td>7.0</td>\n",
              "      <td>5.0</td>\n",
              "      <td>7.0</td>\n",
              "      <td>7.0</td>\n",
              "      <td>5.0</td>\n",
              "      <td>6.0</td>\n",
              "      <td>10.0</td>\n",
              "      <td>10.0</td>\n",
              "      <td>...</td>\n",
              "      <td>5.0</td>\n",
              "      <td>7.0</td>\n",
              "      <td>7.0</td>\n",
              "      <td>NaN</td>\n",
              "      <td>NaN</td>\n",
              "      <td>8.0</td>\n",
              "      <td>9.0</td>\n",
              "      <td>6.0</td>\n",
              "      <td>7.0</td>\n",
              "      <td>7.000</td>\n",
              "    </tr>\n",
              "    <tr>\n",
              "      <th>Alumno_2</th>\n",
              "      <td>7.0</td>\n",
              "      <td>8.0</td>\n",
              "      <td>8.0</td>\n",
              "      <td>7.0</td>\n",
              "      <td>9.0</td>\n",
              "      <td>8.0</td>\n",
              "      <td>7.0</td>\n",
              "      <td>7.0</td>\n",
              "      <td>9.0</td>\n",
              "      <td>9.0</td>\n",
              "      <td>...</td>\n",
              "      <td>7.0</td>\n",
              "      <td>9.0</td>\n",
              "      <td>8.0</td>\n",
              "      <td>NaN</td>\n",
              "      <td>NaN</td>\n",
              "      <td>NaN</td>\n",
              "      <td>NaN</td>\n",
              "      <td>9.0</td>\n",
              "      <td>7.0</td>\n",
              "      <td>7.625</td>\n",
              "    </tr>\n",
              "    <tr>\n",
              "      <th>Alumno_3</th>\n",
              "      <td>8.0</td>\n",
              "      <td>7.0</td>\n",
              "      <td>7.0</td>\n",
              "      <td>8.0</td>\n",
              "      <td>9.0</td>\n",
              "      <td>8.0</td>\n",
              "      <td>6.0</td>\n",
              "      <td>6.0</td>\n",
              "      <td>9.0</td>\n",
              "      <td>9.0</td>\n",
              "      <td>...</td>\n",
              "      <td>5.0</td>\n",
              "      <td>7.0</td>\n",
              "      <td>8.0</td>\n",
              "      <td>NaN</td>\n",
              "      <td>NaN</td>\n",
              "      <td>NaN</td>\n",
              "      <td>NaN</td>\n",
              "      <td>6.0</td>\n",
              "      <td>8.0</td>\n",
              "      <td>7.375</td>\n",
              "    </tr>\n",
              "    <tr>\n",
              "      <th>Alumno_4</th>\n",
              "      <td>NaN</td>\n",
              "      <td>NaN</td>\n",
              "      <td>7.0</td>\n",
              "      <td>7.0</td>\n",
              "      <td>8.0</td>\n",
              "      <td>7.0</td>\n",
              "      <td>3.0</td>\n",
              "      <td>2.0</td>\n",
              "      <td>7.0</td>\n",
              "      <td>8.0</td>\n",
              "      <td>...</td>\n",
              "      <td>6.0</td>\n",
              "      <td>10.0</td>\n",
              "      <td>10.0</td>\n",
              "      <td>8.0</td>\n",
              "      <td>2.0</td>\n",
              "      <td>NaN</td>\n",
              "      <td>NaN</td>\n",
              "      <td>7.0</td>\n",
              "      <td>8.0</td>\n",
              "      <td>6.250</td>\n",
              "    </tr>\n",
              "  </tbody>\n",
              "</table>\n",
              "<p>4 rows × 21 columns</p>\n",
              "</div>"
            ],
            "text/plain": [
              "          (Nota, 2FR II, 1)  (Nota, 2FR II, 2)  (Nota, BI, 1)  (Nota, BI, 2)  \\\n",
              "Alumno                                                                         \n",
              "Alumno_1                8.0                7.0            7.0            5.0   \n",
              "Alumno_2                7.0                8.0            8.0            7.0   \n",
              "Alumno_3                8.0                7.0            7.0            8.0   \n",
              "Alumno_4                NaN                NaN            7.0            7.0   \n",
              "\n",
              "          (Nota, CTM, 1)  (Nota, CTM, 2)  (Nota, HE, 1)  (Nota, HE, 2)  \\\n",
              "Alumno                                                                   \n",
              "Alumno_1             7.0             7.0            5.0            6.0   \n",
              "Alumno_2             9.0             8.0            7.0            7.0   \n",
              "Alumno_3             9.0             8.0            6.0            6.0   \n",
              "Alumno_4             8.0             7.0            3.0            2.0   \n",
              "\n",
              "          (Nota, IN II, 1)  (Nota, IN II, 2)    ...      (Nota, LC2, 2)  \\\n",
              "Alumno                                          ...                       \n",
              "Alumno_1              10.0              10.0    ...                 5.0   \n",
              "Alumno_2               9.0               9.0    ...                 7.0   \n",
              "Alumno_3               9.0               9.0    ...                 5.0   \n",
              "Alumno_4               7.0               8.0    ...                 6.0   \n",
              "\n",
              "          (Nota, MA2, 1)  (Nota, MA2, 2)  (Nota, PS, 1)  (Nota, PS, 2)  \\\n",
              "Alumno                                                                   \n",
              "Alumno_1             7.0             7.0            NaN            NaN   \n",
              "Alumno_2             9.0             8.0            NaN            NaN   \n",
              "Alumno_3             7.0             8.0            NaN            NaN   \n",
              "Alumno_4            10.0            10.0            8.0            2.0   \n",
              "\n",
              "          (Nota, PSC, 1)  (Nota, PSC, 2)  (Nota, QU, 1)  (Nota, QU, 2)  \\\n",
              "Alumno                                                                   \n",
              "Alumno_1             8.0             9.0            6.0            7.0   \n",
              "Alumno_2             NaN             NaN            9.0            7.0   \n",
              "Alumno_3             NaN             NaN            6.0            8.0   \n",
              "Alumno_4             NaN             NaN            7.0            8.0   \n",
              "\n",
              "          (Nota, 2)  \n",
              "Alumno               \n",
              "Alumno_1      7.000  \n",
              "Alumno_2      7.625  \n",
              "Alumno_3      7.375  \n",
              "Alumno_4      6.250  \n",
              "\n",
              "[4 rows x 21 columns]"
            ]
          },
          "metadata": {
            "tags": []
          },
          "execution_count": 68
        }
      ]
    },
    {
      "cell_type": "code",
      "metadata": {
        "id": "W21io8STMDOf",
        "outputId": "2a14f53e-3212-4e19-b841-6ed2f03ed6a5"
      },
      "source": [
        "pd.concat([df1, df2], axis=1).unstack().fillna('-').style.applymap(color_negative_red)"
      ],
      "execution_count": null,
      "outputs": [
        {
          "output_type": "error",
          "ename": "TypeError",
          "evalue": "Expected tuple, got str",
          "traceback": [
            "\u001b[0;31m---------------------------------------------------------------------------\u001b[0m",
            "\u001b[0;31mTypeError\u001b[0m                                 Traceback (most recent call last)",
            "\u001b[0;32m<ipython-input-36-8274d57ad692>\u001b[0m in \u001b[0;36m<module>\u001b[0;34m\u001b[0m\n\u001b[0;32m----> 1\u001b[0;31m \u001b[0mpd\u001b[0m\u001b[0;34m.\u001b[0m\u001b[0mconcat\u001b[0m\u001b[0;34m(\u001b[0m\u001b[0;34m[\u001b[0m\u001b[0mdf1\u001b[0m\u001b[0;34m,\u001b[0m \u001b[0mdf2\u001b[0m\u001b[0;34m]\u001b[0m\u001b[0;34m,\u001b[0m \u001b[0maxis\u001b[0m\u001b[0;34m=\u001b[0m\u001b[0;36m1\u001b[0m\u001b[0;34m)\u001b[0m\u001b[0;34m.\u001b[0m\u001b[0munstack\u001b[0m\u001b[0;34m(\u001b[0m\u001b[0;34m)\u001b[0m\u001b[0;34m.\u001b[0m\u001b[0mfillna\u001b[0m\u001b[0;34m(\u001b[0m\u001b[0;34m'-'\u001b[0m\u001b[0;34m)\u001b[0m\u001b[0;34m.\u001b[0m\u001b[0mstyle\u001b[0m\u001b[0;34m.\u001b[0m\u001b[0mapplymap\u001b[0m\u001b[0;34m(\u001b[0m\u001b[0mcolor_negative_red\u001b[0m\u001b[0;34m)\u001b[0m\u001b[0;34m\u001b[0m\u001b[0;34m\u001b[0m\u001b[0m\n\u001b[0m",
            "\u001b[0;32m~/Mis_aplicaciones/anaconda3/lib/python3.6/site-packages/pandas/core/reshape/concat.py\u001b[0m in \u001b[0;36mconcat\u001b[0;34m(objs, axis, join, join_axes, ignore_index, keys, levels, names, verify_integrity, sort, copy)\u001b[0m\n\u001b[1;32m    224\u001b[0m                        \u001b[0mverify_integrity\u001b[0m\u001b[0;34m=\u001b[0m\u001b[0mverify_integrity\u001b[0m\u001b[0;34m,\u001b[0m\u001b[0;34m\u001b[0m\u001b[0;34m\u001b[0m\u001b[0m\n\u001b[1;32m    225\u001b[0m                        copy=copy, sort=sort)\n\u001b[0;32m--> 226\u001b[0;31m     \u001b[0;32mreturn\u001b[0m \u001b[0mop\u001b[0m\u001b[0;34m.\u001b[0m\u001b[0mget_result\u001b[0m\u001b[0;34m(\u001b[0m\u001b[0;34m)\u001b[0m\u001b[0;34m\u001b[0m\u001b[0;34m\u001b[0m\u001b[0m\n\u001b[0m\u001b[1;32m    227\u001b[0m \u001b[0;34m\u001b[0m\u001b[0m\n\u001b[1;32m    228\u001b[0m \u001b[0;34m\u001b[0m\u001b[0m\n",
            "\u001b[0;32m~/Mis_aplicaciones/anaconda3/lib/python3.6/site-packages/pandas/core/reshape/concat.py\u001b[0m in \u001b[0;36mget_result\u001b[0;34m(self)\u001b[0m\n\u001b[1;32m    415\u001b[0m                     \u001b[0mobj_labels\u001b[0m \u001b[0;34m=\u001b[0m \u001b[0mmgr\u001b[0m\u001b[0;34m.\u001b[0m\u001b[0maxes\u001b[0m\u001b[0;34m[\u001b[0m\u001b[0max\u001b[0m\u001b[0;34m]\u001b[0m\u001b[0;34m\u001b[0m\u001b[0;34m\u001b[0m\u001b[0m\n\u001b[1;32m    416\u001b[0m                     \u001b[0;32mif\u001b[0m \u001b[0;32mnot\u001b[0m \u001b[0mnew_labels\u001b[0m\u001b[0;34m.\u001b[0m\u001b[0mequals\u001b[0m\u001b[0;34m(\u001b[0m\u001b[0mobj_labels\u001b[0m\u001b[0;34m)\u001b[0m\u001b[0;34m:\u001b[0m\u001b[0;34m\u001b[0m\u001b[0;34m\u001b[0m\u001b[0m\n\u001b[0;32m--> 417\u001b[0;31m                         \u001b[0mindexers\u001b[0m\u001b[0;34m[\u001b[0m\u001b[0max\u001b[0m\u001b[0;34m]\u001b[0m \u001b[0;34m=\u001b[0m \u001b[0mobj_labels\u001b[0m\u001b[0;34m.\u001b[0m\u001b[0mreindex\u001b[0m\u001b[0;34m(\u001b[0m\u001b[0mnew_labels\u001b[0m\u001b[0;34m)\u001b[0m\u001b[0;34m[\u001b[0m\u001b[0;36m1\u001b[0m\u001b[0;34m]\u001b[0m\u001b[0;34m\u001b[0m\u001b[0;34m\u001b[0m\u001b[0m\n\u001b[0m\u001b[1;32m    418\u001b[0m \u001b[0;34m\u001b[0m\u001b[0m\n\u001b[1;32m    419\u001b[0m                 \u001b[0mmgrs_indexers\u001b[0m\u001b[0;34m.\u001b[0m\u001b[0mappend\u001b[0m\u001b[0;34m(\u001b[0m\u001b[0;34m(\u001b[0m\u001b[0mobj\u001b[0m\u001b[0;34m.\u001b[0m\u001b[0m_data\u001b[0m\u001b[0;34m,\u001b[0m \u001b[0mindexers\u001b[0m\u001b[0;34m)\u001b[0m\u001b[0;34m)\u001b[0m\u001b[0;34m\u001b[0m\u001b[0;34m\u001b[0m\u001b[0m\n",
            "\u001b[0;32m~/Mis_aplicaciones/anaconda3/lib/python3.6/site-packages/pandas/core/indexes/multi.py\u001b[0m in \u001b[0;36mreindex\u001b[0;34m(self, target, method, level, limit, tolerance)\u001b[0m\n\u001b[1;32m   2075\u001b[0m             \u001b[0;32melse\u001b[0m\u001b[0;34m:\u001b[0m\u001b[0;34m\u001b[0m\u001b[0;34m\u001b[0m\u001b[0m\n\u001b[1;32m   2076\u001b[0m                 \u001b[0;31m# hopefully?\u001b[0m\u001b[0;34m\u001b[0m\u001b[0;34m\u001b[0m\u001b[0;34m\u001b[0m\u001b[0m\n\u001b[0;32m-> 2077\u001b[0;31m                 \u001b[0mtarget\u001b[0m \u001b[0;34m=\u001b[0m \u001b[0mMultiIndex\u001b[0m\u001b[0;34m.\u001b[0m\u001b[0mfrom_tuples\u001b[0m\u001b[0;34m(\u001b[0m\u001b[0mtarget\u001b[0m\u001b[0;34m)\u001b[0m\u001b[0;34m\u001b[0m\u001b[0;34m\u001b[0m\u001b[0m\n\u001b[0m\u001b[1;32m   2078\u001b[0m \u001b[0;34m\u001b[0m\u001b[0m\n\u001b[1;32m   2079\u001b[0m         if (preserve_names and target.nlevels == self.nlevels and\n",
            "\u001b[0;32m~/Mis_aplicaciones/anaconda3/lib/python3.6/site-packages/pandas/core/indexes/multi.py\u001b[0m in \u001b[0;36mfrom_tuples\u001b[0;34m(cls, tuples, sortorder, names)\u001b[0m\n\u001b[1;32m   1322\u001b[0m                 \u001b[0mtuples\u001b[0m \u001b[0;34m=\u001b[0m \u001b[0mtuples\u001b[0m\u001b[0;34m.\u001b[0m\u001b[0m_values\u001b[0m\u001b[0;34m\u001b[0m\u001b[0;34m\u001b[0m\u001b[0m\n\u001b[1;32m   1323\u001b[0m \u001b[0;34m\u001b[0m\u001b[0m\n\u001b[0;32m-> 1324\u001b[0;31m             \u001b[0marrays\u001b[0m \u001b[0;34m=\u001b[0m \u001b[0mlist\u001b[0m\u001b[0;34m(\u001b[0m\u001b[0mlib\u001b[0m\u001b[0;34m.\u001b[0m\u001b[0mtuples_to_object_array\u001b[0m\u001b[0;34m(\u001b[0m\u001b[0mtuples\u001b[0m\u001b[0;34m)\u001b[0m\u001b[0;34m.\u001b[0m\u001b[0mT\u001b[0m\u001b[0;34m)\u001b[0m\u001b[0;34m\u001b[0m\u001b[0;34m\u001b[0m\u001b[0m\n\u001b[0m\u001b[1;32m   1325\u001b[0m         \u001b[0;32melif\u001b[0m \u001b[0misinstance\u001b[0m\u001b[0;34m(\u001b[0m\u001b[0mtuples\u001b[0m\u001b[0;34m,\u001b[0m \u001b[0mlist\u001b[0m\u001b[0;34m)\u001b[0m\u001b[0;34m:\u001b[0m\u001b[0;34m\u001b[0m\u001b[0;34m\u001b[0m\u001b[0m\n\u001b[1;32m   1326\u001b[0m             \u001b[0marrays\u001b[0m \u001b[0;34m=\u001b[0m \u001b[0mlist\u001b[0m\u001b[0;34m(\u001b[0m\u001b[0mlib\u001b[0m\u001b[0;34m.\u001b[0m\u001b[0mto_object_array_tuples\u001b[0m\u001b[0;34m(\u001b[0m\u001b[0mtuples\u001b[0m\u001b[0;34m)\u001b[0m\u001b[0;34m.\u001b[0m\u001b[0mT\u001b[0m\u001b[0;34m)\u001b[0m\u001b[0;34m\u001b[0m\u001b[0;34m\u001b[0m\u001b[0m\n",
            "\u001b[0;32mpandas/_libs/src/inference.pyx\u001b[0m in \u001b[0;36mpandas._libs.lib.tuples_to_object_array\u001b[0;34m()\u001b[0m\n",
            "\u001b[0;31mTypeError\u001b[0m: Expected tuple, got str"
          ]
        }
      ]
    },
    {
      "cell_type": "code",
      "metadata": {
        "id": "TKfB6o_jMDOn",
        "outputId": "c6d9ae37-d51a-40c1-ec20-98bbc2734218"
      },
      "source": [
        "pd.concat([df1, df2], axis=1).fillna('-').style.applymap(color_negative_red)"
      ],
      "execution_count": null,
      "outputs": [
        {
          "output_type": "error",
          "ename": "TypeError",
          "evalue": "Expected tuple, got str",
          "traceback": [
            "\u001b[0;31m---------------------------------------------------------------------------\u001b[0m",
            "\u001b[0;31mTypeError\u001b[0m                                 Traceback (most recent call last)",
            "\u001b[0;32m<ipython-input-39-1ccaf52a663a>\u001b[0m in \u001b[0;36m<module>\u001b[0;34m\u001b[0m\n\u001b[0;32m----> 1\u001b[0;31m \u001b[0mpd\u001b[0m\u001b[0;34m.\u001b[0m\u001b[0mconcat\u001b[0m\u001b[0;34m(\u001b[0m\u001b[0;34m[\u001b[0m\u001b[0mdf1\u001b[0m\u001b[0;34m,\u001b[0m \u001b[0mdf2\u001b[0m\u001b[0;34m]\u001b[0m\u001b[0;34m,\u001b[0m \u001b[0maxis\u001b[0m\u001b[0;34m=\u001b[0m\u001b[0;36m1\u001b[0m\u001b[0;34m)\u001b[0m\u001b[0;34m.\u001b[0m\u001b[0mfillna\u001b[0m\u001b[0;34m(\u001b[0m\u001b[0;34m'-'\u001b[0m\u001b[0;34m)\u001b[0m\u001b[0;34m.\u001b[0m\u001b[0mstyle\u001b[0m\u001b[0;34m.\u001b[0m\u001b[0mapplymap\u001b[0m\u001b[0;34m(\u001b[0m\u001b[0mcolor_negative_red\u001b[0m\u001b[0;34m)\u001b[0m\u001b[0;34m\u001b[0m\u001b[0;34m\u001b[0m\u001b[0m\n\u001b[0m",
            "\u001b[0;32m~/Mis_aplicaciones/anaconda3/lib/python3.6/site-packages/pandas/core/reshape/concat.py\u001b[0m in \u001b[0;36mconcat\u001b[0;34m(objs, axis, join, join_axes, ignore_index, keys, levels, names, verify_integrity, sort, copy)\u001b[0m\n\u001b[1;32m    224\u001b[0m                        \u001b[0mverify_integrity\u001b[0m\u001b[0;34m=\u001b[0m\u001b[0mverify_integrity\u001b[0m\u001b[0;34m,\u001b[0m\u001b[0;34m\u001b[0m\u001b[0;34m\u001b[0m\u001b[0m\n\u001b[1;32m    225\u001b[0m                        copy=copy, sort=sort)\n\u001b[0;32m--> 226\u001b[0;31m     \u001b[0;32mreturn\u001b[0m \u001b[0mop\u001b[0m\u001b[0;34m.\u001b[0m\u001b[0mget_result\u001b[0m\u001b[0;34m(\u001b[0m\u001b[0;34m)\u001b[0m\u001b[0;34m\u001b[0m\u001b[0;34m\u001b[0m\u001b[0m\n\u001b[0m\u001b[1;32m    227\u001b[0m \u001b[0;34m\u001b[0m\u001b[0m\n\u001b[1;32m    228\u001b[0m \u001b[0;34m\u001b[0m\u001b[0m\n",
            "\u001b[0;32m~/Mis_aplicaciones/anaconda3/lib/python3.6/site-packages/pandas/core/reshape/concat.py\u001b[0m in \u001b[0;36mget_result\u001b[0;34m(self)\u001b[0m\n\u001b[1;32m    415\u001b[0m                     \u001b[0mobj_labels\u001b[0m \u001b[0;34m=\u001b[0m \u001b[0mmgr\u001b[0m\u001b[0;34m.\u001b[0m\u001b[0maxes\u001b[0m\u001b[0;34m[\u001b[0m\u001b[0max\u001b[0m\u001b[0;34m]\u001b[0m\u001b[0;34m\u001b[0m\u001b[0;34m\u001b[0m\u001b[0m\n\u001b[1;32m    416\u001b[0m                     \u001b[0;32mif\u001b[0m \u001b[0;32mnot\u001b[0m \u001b[0mnew_labels\u001b[0m\u001b[0;34m.\u001b[0m\u001b[0mequals\u001b[0m\u001b[0;34m(\u001b[0m\u001b[0mobj_labels\u001b[0m\u001b[0;34m)\u001b[0m\u001b[0;34m:\u001b[0m\u001b[0;34m\u001b[0m\u001b[0;34m\u001b[0m\u001b[0m\n\u001b[0;32m--> 417\u001b[0;31m                         \u001b[0mindexers\u001b[0m\u001b[0;34m[\u001b[0m\u001b[0max\u001b[0m\u001b[0;34m]\u001b[0m \u001b[0;34m=\u001b[0m \u001b[0mobj_labels\u001b[0m\u001b[0;34m.\u001b[0m\u001b[0mreindex\u001b[0m\u001b[0;34m(\u001b[0m\u001b[0mnew_labels\u001b[0m\u001b[0;34m)\u001b[0m\u001b[0;34m[\u001b[0m\u001b[0;36m1\u001b[0m\u001b[0;34m]\u001b[0m\u001b[0;34m\u001b[0m\u001b[0;34m\u001b[0m\u001b[0m\n\u001b[0m\u001b[1;32m    418\u001b[0m \u001b[0;34m\u001b[0m\u001b[0m\n\u001b[1;32m    419\u001b[0m                 \u001b[0mmgrs_indexers\u001b[0m\u001b[0;34m.\u001b[0m\u001b[0mappend\u001b[0m\u001b[0;34m(\u001b[0m\u001b[0;34m(\u001b[0m\u001b[0mobj\u001b[0m\u001b[0;34m.\u001b[0m\u001b[0m_data\u001b[0m\u001b[0;34m,\u001b[0m \u001b[0mindexers\u001b[0m\u001b[0;34m)\u001b[0m\u001b[0;34m)\u001b[0m\u001b[0;34m\u001b[0m\u001b[0;34m\u001b[0m\u001b[0m\n",
            "\u001b[0;32m~/Mis_aplicaciones/anaconda3/lib/python3.6/site-packages/pandas/core/indexes/multi.py\u001b[0m in \u001b[0;36mreindex\u001b[0;34m(self, target, method, level, limit, tolerance)\u001b[0m\n\u001b[1;32m   2075\u001b[0m             \u001b[0;32melse\u001b[0m\u001b[0;34m:\u001b[0m\u001b[0;34m\u001b[0m\u001b[0;34m\u001b[0m\u001b[0m\n\u001b[1;32m   2076\u001b[0m                 \u001b[0;31m# hopefully?\u001b[0m\u001b[0;34m\u001b[0m\u001b[0;34m\u001b[0m\u001b[0;34m\u001b[0m\u001b[0m\n\u001b[0;32m-> 2077\u001b[0;31m                 \u001b[0mtarget\u001b[0m \u001b[0;34m=\u001b[0m \u001b[0mMultiIndex\u001b[0m\u001b[0;34m.\u001b[0m\u001b[0mfrom_tuples\u001b[0m\u001b[0;34m(\u001b[0m\u001b[0mtarget\u001b[0m\u001b[0;34m)\u001b[0m\u001b[0;34m\u001b[0m\u001b[0;34m\u001b[0m\u001b[0m\n\u001b[0m\u001b[1;32m   2078\u001b[0m \u001b[0;34m\u001b[0m\u001b[0m\n\u001b[1;32m   2079\u001b[0m         if (preserve_names and target.nlevels == self.nlevels and\n",
            "\u001b[0;32m~/Mis_aplicaciones/anaconda3/lib/python3.6/site-packages/pandas/core/indexes/multi.py\u001b[0m in \u001b[0;36mfrom_tuples\u001b[0;34m(cls, tuples, sortorder, names)\u001b[0m\n\u001b[1;32m   1322\u001b[0m                 \u001b[0mtuples\u001b[0m \u001b[0;34m=\u001b[0m \u001b[0mtuples\u001b[0m\u001b[0;34m.\u001b[0m\u001b[0m_values\u001b[0m\u001b[0;34m\u001b[0m\u001b[0;34m\u001b[0m\u001b[0m\n\u001b[1;32m   1323\u001b[0m \u001b[0;34m\u001b[0m\u001b[0m\n\u001b[0;32m-> 1324\u001b[0;31m             \u001b[0marrays\u001b[0m \u001b[0;34m=\u001b[0m \u001b[0mlist\u001b[0m\u001b[0;34m(\u001b[0m\u001b[0mlib\u001b[0m\u001b[0;34m.\u001b[0m\u001b[0mtuples_to_object_array\u001b[0m\u001b[0;34m(\u001b[0m\u001b[0mtuples\u001b[0m\u001b[0;34m)\u001b[0m\u001b[0;34m.\u001b[0m\u001b[0mT\u001b[0m\u001b[0;34m)\u001b[0m\u001b[0;34m\u001b[0m\u001b[0;34m\u001b[0m\u001b[0m\n\u001b[0m\u001b[1;32m   1325\u001b[0m         \u001b[0;32melif\u001b[0m \u001b[0misinstance\u001b[0m\u001b[0;34m(\u001b[0m\u001b[0mtuples\u001b[0m\u001b[0;34m,\u001b[0m \u001b[0mlist\u001b[0m\u001b[0;34m)\u001b[0m\u001b[0;34m:\u001b[0m\u001b[0;34m\u001b[0m\u001b[0;34m\u001b[0m\u001b[0m\n\u001b[1;32m   1326\u001b[0m             \u001b[0marrays\u001b[0m \u001b[0;34m=\u001b[0m \u001b[0mlist\u001b[0m\u001b[0;34m(\u001b[0m\u001b[0mlib\u001b[0m\u001b[0;34m.\u001b[0m\u001b[0mto_object_array_tuples\u001b[0m\u001b[0;34m(\u001b[0m\u001b[0mtuples\u001b[0m\u001b[0;34m)\u001b[0m\u001b[0;34m.\u001b[0m\u001b[0mT\u001b[0m\u001b[0;34m)\u001b[0m\u001b[0;34m\u001b[0m\u001b[0;34m\u001b[0m\u001b[0m\n",
            "\u001b[0;32mpandas/_libs/src/inference.pyx\u001b[0m in \u001b[0;36mpandas._libs.lib.tuples_to_object_array\u001b[0;34m()\u001b[0m\n",
            "\u001b[0;31mTypeError\u001b[0m: Expected tuple, got str"
          ]
        }
      ]
    },
    {
      "cell_type": "code",
      "metadata": {
        "id": "wkZQy6LBMDOv",
        "outputId": "f43121ad-77da-4303-b644-72484f742971"
      },
      "source": [
        "display(md(\"## Nota media por asignatura\"))\n",
        "df2 = actilla_final.pivot_table(index=['Asignatura','Eval'], aggfunc = {'Nota':'mean'})\n",
        "#display(df2.unstack().plot.bar())\n",
        "p1 = df2.unstack().plot.bar(title='Nota media por asignatura').get_figure()\n",
        "p1.savefig('media_asignatura.jpg')\n",
        "df2.unstack().fillna('-').style.applymap(color_negative_red)\n",
        "#df[df[]]\n",
        "#actilla_final"
      ],
      "execution_count": null,
      "outputs": [
        {
          "output_type": "display_data",
          "data": {
            "text/markdown": "## Nota media por asignatura",
            "text/plain": [
              "<IPython.core.display.Markdown object>"
            ]
          },
          "metadata": {
            "tags": []
          }
        },
        {
          "output_type": "execute_result",
          "data": {
            "text/html": [
              "<style  type=\"text/css\" >\n",
              "    #T_2e20ff2a_27cd_11eb_a5cf_d5495ddbff1brow0_col0 {\n",
              "            color:  green;\n",
              "             background:  lightyellow;\n",
              "        }    #T_2e20ff2a_27cd_11eb_a5cf_d5495ddbff1brow0_col1 {\n",
              "            color:  green;\n",
              "             background:  lightyellow;\n",
              "        }    #T_2e20ff2a_27cd_11eb_a5cf_d5495ddbff1brow1_col0 {\n",
              "            color:  green;\n",
              "             background:  lightyellow;\n",
              "        }    #T_2e20ff2a_27cd_11eb_a5cf_d5495ddbff1brow1_col1 {\n",
              "            color:  green;\n",
              "             background:  lightyellow;\n",
              "        }    #T_2e20ff2a_27cd_11eb_a5cf_d5495ddbff1brow2_col0 {\n",
              "            color:  green;\n",
              "             background:  lightyellow;\n",
              "        }    #T_2e20ff2a_27cd_11eb_a5cf_d5495ddbff1brow2_col1 {\n",
              "            color:  green;\n",
              "             background:  lightyellow;\n",
              "        }    #T_2e20ff2a_27cd_11eb_a5cf_d5495ddbff1brow3_col0 {\n",
              "            color:  green;\n",
              "             background:  lightyellow;\n",
              "        }    #T_2e20ff2a_27cd_11eb_a5cf_d5495ddbff1brow3_col1 {\n",
              "            color:  green;\n",
              "             background:  lightyellow;\n",
              "        }    #T_2e20ff2a_27cd_11eb_a5cf_d5495ddbff1brow4_col0 {\n",
              "            color:  green;\n",
              "             background:  lightyellow;\n",
              "        }    #T_2e20ff2a_27cd_11eb_a5cf_d5495ddbff1brow4_col1 {\n",
              "            color:  green;\n",
              "             background:  lightyellow;\n",
              "        }    #T_2e20ff2a_27cd_11eb_a5cf_d5495ddbff1brow5_col0 {\n",
              "            color:  green;\n",
              "             background:  lightyellow;\n",
              "        }    #T_2e20ff2a_27cd_11eb_a5cf_d5495ddbff1brow5_col1 {\n",
              "            color:  green;\n",
              "             background:  lightyellow;\n",
              "        }    #T_2e20ff2a_27cd_11eb_a5cf_d5495ddbff1brow6_col0 {\n",
              "            color:  green;\n",
              "             background:  lightyellow;\n",
              "        }    #T_2e20ff2a_27cd_11eb_a5cf_d5495ddbff1brow6_col1 {\n",
              "            color:  green;\n",
              "             background:  lightyellow;\n",
              "        }    #T_2e20ff2a_27cd_11eb_a5cf_d5495ddbff1brow7_col0 {\n",
              "            color:  green;\n",
              "             background:  lightyellow;\n",
              "        }    #T_2e20ff2a_27cd_11eb_a5cf_d5495ddbff1brow7_col1 {\n",
              "            color:  red;\n",
              "             background:  khaki;\n",
              "        }    #T_2e20ff2a_27cd_11eb_a5cf_d5495ddbff1brow8_col0 {\n",
              "            color:  green;\n",
              "             background:  lightyellow;\n",
              "        }    #T_2e20ff2a_27cd_11eb_a5cf_d5495ddbff1brow8_col1 {\n",
              "            color:  green;\n",
              "             background:  lightyellow;\n",
              "        }    #T_2e20ff2a_27cd_11eb_a5cf_d5495ddbff1brow9_col0 {\n",
              "            color:  green;\n",
              "             background:  lightyellow;\n",
              "        }    #T_2e20ff2a_27cd_11eb_a5cf_d5495ddbff1brow9_col1 {\n",
              "            color:  green;\n",
              "             background:  lightyellow;\n",
              "        }</style>  \n",
              "<table id=\"T_2e20ff2a_27cd_11eb_a5cf_d5495ddbff1b\" > \n",
              "<thead>    <tr> \n",
              "        <th class=\"blank level0\" ></th> \n",
              "        <th class=\"col_heading level0 col0\" colspan=2>Nota</th> \n",
              "    </tr>    <tr> \n",
              "        <th class=\"index_name level1\" >Eval</th> \n",
              "        <th class=\"col_heading level1 col0\" >1</th> \n",
              "        <th class=\"col_heading level1 col1\" >2</th> \n",
              "    </tr>    <tr> \n",
              "        <th class=\"index_name level0\" >Asignatura</th> \n",
              "        <th class=\"blank\" ></th> \n",
              "        <th class=\"blank\" ></th> \n",
              "    </tr></thead> \n",
              "<tbody>    <tr> \n",
              "        <th id=\"T_2e20ff2a_27cd_11eb_a5cf_d5495ddbff1blevel0_row0\" class=\"row_heading level0 row0\" >2FR II</th> \n",
              "        <td id=\"T_2e20ff2a_27cd_11eb_a5cf_d5495ddbff1brow0_col0\" class=\"data row0 col0\" >7.66667</td> \n",
              "        <td id=\"T_2e20ff2a_27cd_11eb_a5cf_d5495ddbff1brow0_col1\" class=\"data row0 col1\" >7.33333</td> \n",
              "    </tr>    <tr> \n",
              "        <th id=\"T_2e20ff2a_27cd_11eb_a5cf_d5495ddbff1blevel0_row1\" class=\"row_heading level0 row1\" >BI</th> \n",
              "        <td id=\"T_2e20ff2a_27cd_11eb_a5cf_d5495ddbff1brow1_col0\" class=\"data row1 col0\" >7.25</td> \n",
              "        <td id=\"T_2e20ff2a_27cd_11eb_a5cf_d5495ddbff1brow1_col1\" class=\"data row1 col1\" >6.75</td> \n",
              "    </tr>    <tr> \n",
              "        <th id=\"T_2e20ff2a_27cd_11eb_a5cf_d5495ddbff1blevel0_row2\" class=\"row_heading level0 row2\" >CTM</th> \n",
              "        <td id=\"T_2e20ff2a_27cd_11eb_a5cf_d5495ddbff1brow2_col0\" class=\"data row2 col0\" >8.25</td> \n",
              "        <td id=\"T_2e20ff2a_27cd_11eb_a5cf_d5495ddbff1brow2_col1\" class=\"data row2 col1\" >7.5</td> \n",
              "    </tr>    <tr> \n",
              "        <th id=\"T_2e20ff2a_27cd_11eb_a5cf_d5495ddbff1blevel0_row3\" class=\"row_heading level0 row3\" >HE</th> \n",
              "        <td id=\"T_2e20ff2a_27cd_11eb_a5cf_d5495ddbff1brow3_col0\" class=\"data row3 col0\" >5.25</td> \n",
              "        <td id=\"T_2e20ff2a_27cd_11eb_a5cf_d5495ddbff1brow3_col1\" class=\"data row3 col1\" >5.25</td> \n",
              "    </tr>    <tr> \n",
              "        <th id=\"T_2e20ff2a_27cd_11eb_a5cf_d5495ddbff1blevel0_row4\" class=\"row_heading level0 row4\" >IN II</th> \n",
              "        <td id=\"T_2e20ff2a_27cd_11eb_a5cf_d5495ddbff1brow4_col0\" class=\"data row4 col0\" >8.75</td> \n",
              "        <td id=\"T_2e20ff2a_27cd_11eb_a5cf_d5495ddbff1brow4_col1\" class=\"data row4 col1\" >9</td> \n",
              "    </tr>    <tr> \n",
              "        <th id=\"T_2e20ff2a_27cd_11eb_a5cf_d5495ddbff1blevel0_row5\" class=\"row_heading level0 row5\" >LC2</th> \n",
              "        <td id=\"T_2e20ff2a_27cd_11eb_a5cf_d5495ddbff1brow5_col0\" class=\"data row5 col0\" >6.75</td> \n",
              "        <td id=\"T_2e20ff2a_27cd_11eb_a5cf_d5495ddbff1brow5_col1\" class=\"data row5 col1\" >5.75</td> \n",
              "    </tr>    <tr> \n",
              "        <th id=\"T_2e20ff2a_27cd_11eb_a5cf_d5495ddbff1blevel0_row6\" class=\"row_heading level0 row6\" >MA2</th> \n",
              "        <td id=\"T_2e20ff2a_27cd_11eb_a5cf_d5495ddbff1brow6_col0\" class=\"data row6 col0\" >8.25</td> \n",
              "        <td id=\"T_2e20ff2a_27cd_11eb_a5cf_d5495ddbff1brow6_col1\" class=\"data row6 col1\" >8.25</td> \n",
              "    </tr>    <tr> \n",
              "        <th id=\"T_2e20ff2a_27cd_11eb_a5cf_d5495ddbff1blevel0_row7\" class=\"row_heading level0 row7\" >PS</th> \n",
              "        <td id=\"T_2e20ff2a_27cd_11eb_a5cf_d5495ddbff1brow7_col0\" class=\"data row7 col0\" >8</td> \n",
              "        <td id=\"T_2e20ff2a_27cd_11eb_a5cf_d5495ddbff1brow7_col1\" class=\"data row7 col1\" >2</td> \n",
              "    </tr>    <tr> \n",
              "        <th id=\"T_2e20ff2a_27cd_11eb_a5cf_d5495ddbff1blevel0_row8\" class=\"row_heading level0 row8\" >PSC</th> \n",
              "        <td id=\"T_2e20ff2a_27cd_11eb_a5cf_d5495ddbff1brow8_col0\" class=\"data row8 col0\" >8</td> \n",
              "        <td id=\"T_2e20ff2a_27cd_11eb_a5cf_d5495ddbff1brow8_col1\" class=\"data row8 col1\" >9</td> \n",
              "    </tr>    <tr> \n",
              "        <th id=\"T_2e20ff2a_27cd_11eb_a5cf_d5495ddbff1blevel0_row9\" class=\"row_heading level0 row9\" >QU</th> \n",
              "        <td id=\"T_2e20ff2a_27cd_11eb_a5cf_d5495ddbff1brow9_col0\" class=\"data row9 col0\" >7</td> \n",
              "        <td id=\"T_2e20ff2a_27cd_11eb_a5cf_d5495ddbff1brow9_col1\" class=\"data row9 col1\" >7.5</td> \n",
              "    </tr></tbody> \n",
              "</table> "
            ],
            "text/plain": [
              "<pandas.io.formats.style.Styler at 0x7f9957bbfb70>"
            ]
          },
          "metadata": {
            "tags": []
          },
          "execution_count": 48
        },
        {
          "output_type": "display_data",
          "data": {
            "image/png": "[encoded data removed]",
            "text/plain": [
              "<Figure size 432x288 with 1 Axes>"
            ]
          },
          "metadata": {
            "tags": [],
            "needs_background": "light"
          }
        }
      ]
    },
    {
      "cell_type": "code",
      "metadata": {
        "id": "eVzVKQNmMDO1",
        "outputId": "a874a57f-1064-4c2d-90b1-3b919fdab3ad"
      },
      "source": [
        "display(md(\"## Suspensos por asignatura\"))\n",
        "df=actilla_final.pivot_table('Suspenso',index=['Asignatura'],columns='Eval',aggfunc='sum')\n",
        "p2 = df[df[ultima_evaluacion]>=0].plot.bar(title='Suspensos por asignatura').get_figure()\n",
        "p2.savefig('suspensos_asignatura.png')\n",
        "#df[df[]]\n",
        "#actilla_final"
      ],
      "execution_count": null,
      "outputs": [
        {
          "output_type": "display_data",
          "data": {
            "text/markdown": "## Suspensos por asignatura",
            "text/plain": [
              "<IPython.core.display.Markdown object>"
            ]
          },
          "metadata": {
            "tags": []
          }
        },
        {
          "output_type": "display_data",
          "data": {
            "image/png": "[encoded data removed]",
            "text/plain": [
              "<Figure size 432x288 with 1 Axes>"
            ]
          },
          "metadata": {
            "tags": [],
            "needs_background": "light"
          }
        }
      ]
    },
    {
      "cell_type": "code",
      "metadata": {
        "id": "y3Pj2JqDMDO-"
      },
      "source": [
        "#display(md(\"## Nota media por alumno\"))\n",
        "df2 = actilla_final.pivot_table(index=['Alumno','Eval'], aggfunc = {'Nota':'mean'})\n",
        "#display(df2.unstack().plot.bar())\n",
        "#p1 = df2.unstack().plot.barh(title = 'Nota media por alumno').get_figure()\n",
        "#p1.savefig('alumno_asignatura.jpg')\n",
        "#df2.unstack().fillna('-').style.applymap(color_negative_red)\n",
        "#df2.unstack().fillna('-')\n"
      ],
      "execution_count": null,
      "outputs": []
    },
    {
      "cell_type": "code",
      "metadata": {
        "id": "w7ksqe65MDPD"
      },
      "source": [
        "# actilla_final[(actilla_final.Eval == ultima_evaluacion) & (actilla_final.Suspenso > 0)][['Alumno','Suspenso']].groupby('Alumno').sum().sort_values('Suspenso', ascending=False)"
      ],
      "execution_count": null,
      "outputs": []
    },
    {
      "cell_type": "code",
      "metadata": {
        "id": "U1HP3H_8MDPK"
      },
      "source": [
        "#display(md(\"## Número de alumnos con suspensos\"))\n",
        "\n",
        "# Alumno-Asignatura-Suspenso\n",
        "df = actilla_final[(actilla_final.Eval == ultima_evaluacion) & (actilla_final.Suspenso >= 0)][['Alumno','Asignatura','Suspenso']]\n",
        "\n",
        "# Alumno-Suspenso\n",
        "df2=df.groupby('Alumno').sum().sort_values('Suspenso', ascending=False)\n",
        "\n",
        "# Numero Suspenso - Numero alumnos\n",
        "df3 = df2\n",
        "df3['N']=1\n",
        "df3 = df3.groupby('Suspenso').count().sort_index(ascending=False)\n",
        "#display(df3)\n",
        "\n",
        "#df3.plot.barh()\n",
        "\n",
        "\n"
      ],
      "execution_count": null,
      "outputs": []
    },
    {
      "cell_type": "code",
      "metadata": {
        "id": "EzchMV3vMDPT"
      },
      "source": [
        "#df[(df.Alumno==df2[df2.Suspenso==df3.index[0]].index[0]) & (df.Suspenso > 0)]"
      ],
      "execution_count": null,
      "outputs": []
    },
    {
      "cell_type": "code",
      "metadata": {
        "id": "OPunOehtMDPc",
        "scrolled": true,
        "outputId": "9617c57a-6b6f-4ccc-e1d5-0e5f9bf3a9ea"
      },
      "source": [
        "display(md(\"## Alumnos suspensos\"))\n",
        "\n",
        "for i in df3[df3.index> 0].index :\n",
        "    print(f'Con {i} asignatura:')\n",
        "    for j in df2[df2.Suspenso == i].sort_values('Alumno').index : \n",
        "        print(\" \", j,'(', ', '.join(df[(df.Alumno == j) & (df.Suspenso > 0)]['Asignatura'].values),')')\n"
      ],
      "execution_count": null,
      "outputs": [
        {
          "output_type": "display_data",
          "data": {
            "text/markdown": "## Alumnos suspensos",
            "text/plain": [
              "<IPython.core.display.Markdown object>"
            ]
          },
          "metadata": {
            "tags": []
          }
        },
        {
          "output_type": "stream",
          "text": [
            "Con 2 asignatura:\n",
            "  Alumno_4 ( HE, PS )\n"
          ],
          "name": "stdout"
        }
      ]
    },
    {
      "cell_type": "code",
      "metadata": {
        "id": "jYDqj6KVMDPi",
        "outputId": "567f075d-5d51-4ae4-bb1c-dbe19d7c23e5"
      },
      "source": [
        "display(md(\"## Evolución de nota media y suspensos\"))\n",
        "\n",
        "actilla_final.pivot_table(index=['Alumno','Eval'], aggfunc = {'Nota':'mean','Suspenso':'sum'}).unstack()"
      ],
      "execution_count": null,
      "outputs": [
        {
          "output_type": "display_data",
          "data": {
            "text/markdown": "## Evolución de nota media y suspensos",
            "text/plain": [
              "<IPython.core.display.Markdown object>"
            ]
          },
          "metadata": {
            "tags": []
          }
        },
        {
          "output_type": "execute_result",
          "data": {
            "text/html": [
              "<div>\n",
              "<style scoped>\n",
              "    .dataframe tbody tr th:only-of-type {\n",
              "        vertical-align: middle;\n",
              "    }\n",
              "\n",
              "    .dataframe tbody tr th {\n",
              "        vertical-align: top;\n",
              "    }\n",
              "\n",
              "    .dataframe thead tr th {\n",
              "        text-align: left;\n",
              "    }\n",
              "\n",
              "    .dataframe thead tr:last-of-type th {\n",
              "        text-align: right;\n",
              "    }\n",
              "</style>\n",
              "<table border=\"1\" class=\"dataframe\">\n",
              "  <thead>\n",
              "    <tr>\n",
              "      <th></th>\n",
              "      <th colspan=\"2\" halign=\"left\">Nota</th>\n",
              "      <th colspan=\"2\" halign=\"left\">Suspenso</th>\n",
              "    </tr>\n",
              "    <tr>\n",
              "      <th>Eval</th>\n",
              "      <th>1</th>\n",
              "      <th>2</th>\n",
              "      <th>1</th>\n",
              "      <th>2</th>\n",
              "    </tr>\n",
              "    <tr>\n",
              "      <th>Alumno</th>\n",
              "      <th></th>\n",
              "      <th></th>\n",
              "      <th></th>\n",
              "      <th></th>\n",
              "    </tr>\n",
              "  </thead>\n",
              "  <tbody>\n",
              "    <tr>\n",
              "      <th>Alumno_1</th>\n",
              "      <td>7.111111</td>\n",
              "      <td>7.000</td>\n",
              "      <td>0</td>\n",
              "      <td>0</td>\n",
              "    </tr>\n",
              "    <tr>\n",
              "      <th>Alumno_2</th>\n",
              "      <td>8.125000</td>\n",
              "      <td>7.625</td>\n",
              "      <td>0</td>\n",
              "      <td>0</td>\n",
              "    </tr>\n",
              "    <tr>\n",
              "      <th>Alumno_3</th>\n",
              "      <td>7.375000</td>\n",
              "      <td>7.375</td>\n",
              "      <td>0</td>\n",
              "      <td>0</td>\n",
              "    </tr>\n",
              "    <tr>\n",
              "      <th>Alumno_4</th>\n",
              "      <td>7.125000</td>\n",
              "      <td>6.250</td>\n",
              "      <td>1</td>\n",
              "      <td>2</td>\n",
              "    </tr>\n",
              "  </tbody>\n",
              "</table>\n",
              "</div>"
            ],
            "text/plain": [
              "              Nota        Suspenso   \n",
              "Eval             1      2        1  2\n",
              "Alumno                               \n",
              "Alumno_1  7.111111  7.000        0  0\n",
              "Alumno_2  8.125000  7.625        0  0\n",
              "Alumno_3  7.375000  7.375        0  0\n",
              "Alumno_4  7.125000  6.250        1  2"
            ]
          },
          "metadata": {
            "tags": []
          },
          "execution_count": 53
        }
      ]
    },
    {
      "cell_type": "code",
      "metadata": {
        "id": "ploPp1DQMDPo"
      },
      "source": [
        "%%capture\n",
        "%%writefile noprompts.tplx\n",
        "\n",
        "% extend the default article template:\n",
        "((* extends 'article.tplx' *))\n",
        "\n",
        "% display input without prompts:\n",
        "((* block input scoped *))\n",
        "\\begin{Verbatim}[commandchars=\\\\\\{\\}]\n",
        "((( cell.source | highlight_code(strip_verbatim=True) )))\n",
        "\\end{Verbatim}\n",
        "((* endblock input *))\n",
        "\n",
        "% treat execute_result (output with prompt) as display_data (output without prompt)\n",
        "((* block execute_result scoped *))\n",
        "    ((* block display_data scoped *))\n",
        "        ((( super() )))\n",
        "    ((* endblock display_data *))\n",
        "((* endblock execute_result *))"
      ],
      "execution_count": null,
      "outputs": []
    },
    {
      "cell_type": "code",
      "metadata": {
        "hide_input": true,
        "id": "H6g_-2uYMDPw",
        "scrolled": true,
        "tags": [
          "remove_cell"
        ]
      },
      "source": [
        "%%capture\n",
        "#!jupyter nbconvert Prueba.ipynb --to=pdf  --PDFExporter.latex_command=['xelatex', '{filename}'] --TemplateExporter.exclude_input=True --template noprompts\n",
        "#!jupyter nbconvert acta_evaluacion_1819.ipynb --to=pdf  --TemplateExporter.exclude_input=True --template noprompts\n",
        "!jupyter nbconvert est_evaluacion_1819.ipynb --to=pdf  --TemplateExporter.exclude_input=True --template noprompts\n"
      ],
      "execution_count": null,
      "outputs": []
    },
    {
      "cell_type": "code",
      "metadata": {
        "id": "8pGEss7sMDP0"
      },
      "source": [
        "#actilla_final[actilla_final.Eval==3].groupby(['Alumno','Eval','Asignatura'])[['Nota']].max().unstack()"
      ],
      "execution_count": null,
      "outputs": []
    },
    {
      "cell_type": "code",
      "metadata": {
        "id": "a2-4YJQ5MDP9"
      },
      "source": [
        ""
      ],
      "execution_count": null,
      "outputs": []
    }
  ]
}