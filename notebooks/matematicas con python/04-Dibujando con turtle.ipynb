{
 "cells": [
  {
   "cell_type": "code",
   "execution_count": 15,
   "metadata": {},
   "outputs": [],
   "source": [
    "import turtle"
   ]
  },
  {
   "cell_type": "code",
   "execution_count": 21,
   "metadata": {
    "scrolled": true
   },
   "outputs": [],
   "source": [
    "t=turtle.Pen()"
   ]
  },
  {
   "cell_type": "code",
   "execution_count": 17,
   "metadata": {},
   "outputs": [],
   "source": [
    "t.forward(100)"
   ]
  },
  {
   "cell_type": "code",
   "execution_count": 18,
   "metadata": {},
   "outputs": [],
   "source": [
    "turtle.bye()"
   ]
  },
  {
   "cell_type": "code",
   "execution_count": 22,
   "metadata": {},
   "outputs": [
    {
     "name": "stdout",
     "output_type": "stream",
     "text": [
      "Requirement already satisfied: ipyturtle in /home/hp/Mis_aplicaciones/anaconda3/lib/python3.6/site-packages (0.2.0)\n",
      "Requirement already satisfied: ipywidgets>=5.1.5 in /home/hp/Mis_aplicaciones/anaconda3/lib/python3.6/site-packages (from ipyturtle) (7.5.1)\n",
      "Requirement already satisfied: nbformat>=4.2.0 in /home/hp/Mis_aplicaciones/anaconda3/lib/python3.6/site-packages (from ipywidgets>=5.1.5->ipyturtle) (5.0.8)\n",
      "Requirement already satisfied: ipykernel>=4.5.1 in /home/hp/Mis_aplicaciones/anaconda3/lib/python3.6/site-packages (from ipywidgets>=5.1.5->ipyturtle) (5.3.4)\n",
      "Requirement already satisfied: ipython>=4.0.0; python_version >= \"3.3\" in /home/hp/Mis_aplicaciones/anaconda3/lib/python3.6/site-packages (from ipywidgets>=5.1.5->ipyturtle) (7.16.1)\n",
      "Requirement already satisfied: traitlets>=4.3.1 in /home/hp/Mis_aplicaciones/anaconda3/lib/python3.6/site-packages (from ipywidgets>=5.1.5->ipyturtle) (4.3.3)\n",
      "Requirement already satisfied: widgetsnbextension~=3.5.0 in /home/hp/Mis_aplicaciones/anaconda3/lib/python3.6/site-packages (from ipywidgets>=5.1.5->ipyturtle) (3.5.1)\n",
      "Requirement already satisfied: jsonschema!=2.5.0,>=2.4 in /home/hp/Mis_aplicaciones/anaconda3/lib/python3.6/site-packages (from nbformat>=4.2.0->ipywidgets>=5.1.5->ipyturtle) (3.2.0)\n",
      "Requirement already satisfied: ipython-genutils in /home/hp/Mis_aplicaciones/anaconda3/lib/python3.6/site-packages (from nbformat>=4.2.0->ipywidgets>=5.1.5->ipyturtle) (0.2.0)\n",
      "Requirement already satisfied: jupyter-core in /home/hp/Mis_aplicaciones/anaconda3/lib/python3.6/site-packages (from nbformat>=4.2.0->ipywidgets>=5.1.5->ipyturtle) (4.6.3)\n",
      "Requirement already satisfied: jupyter-client in /home/hp/Mis_aplicaciones/anaconda3/lib/python3.6/site-packages (from ipykernel>=4.5.1->ipywidgets>=5.1.5->ipyturtle) (6.1.7)\n",
      "Requirement already satisfied: tornado>=4.2 in /home/hp/Mis_aplicaciones/anaconda3/lib/python3.6/site-packages (from ipykernel>=4.5.1->ipywidgets>=5.1.5->ipyturtle) (6.0.4)\n",
      "Requirement already satisfied: prompt-toolkit!=3.0.0,!=3.0.1,<3.1.0,>=2.0.0 in /home/hp/Mis_aplicaciones/anaconda3/lib/python3.6/site-packages (from ipython>=4.0.0; python_version >= \"3.3\"->ipywidgets>=5.1.5->ipyturtle) (3.0.8)\n",
      "Requirement already satisfied: pygments in /home/hp/Mis_aplicaciones/anaconda3/lib/python3.6/site-packages (from ipython>=4.0.0; python_version >= \"3.3\"->ipywidgets>=5.1.5->ipyturtle) (2.7.2)\n",
      "Requirement already satisfied: decorator in /home/hp/Mis_aplicaciones/anaconda3/lib/python3.6/site-packages (from ipython>=4.0.0; python_version >= \"3.3\"->ipywidgets>=5.1.5->ipyturtle) (4.4.2)\n",
      "Requirement already satisfied: backcall in /home/hp/Mis_aplicaciones/anaconda3/lib/python3.6/site-packages (from ipython>=4.0.0; python_version >= \"3.3\"->ipywidgets>=5.1.5->ipyturtle) (0.2.0)\n",
      "Requirement already satisfied: jedi>=0.10 in /home/hp/Mis_aplicaciones/anaconda3/lib/python3.6/site-packages (from ipython>=4.0.0; python_version >= \"3.3\"->ipywidgets>=5.1.5->ipyturtle) (0.17.1)\n",
      "Requirement already satisfied: pickleshare in /home/hp/Mis_aplicaciones/anaconda3/lib/python3.6/site-packages (from ipython>=4.0.0; python_version >= \"3.3\"->ipywidgets>=5.1.5->ipyturtle) (0.7.5)\n",
      "Requirement already satisfied: setuptools>=18.5 in /home/hp/Mis_aplicaciones/anaconda3/lib/python3.6/site-packages (from ipython>=4.0.0; python_version >= \"3.3\"->ipywidgets>=5.1.5->ipyturtle) (50.3.1.post20201107)\n",
      "Requirement already satisfied: pexpect; sys_platform != \"win32\" in /home/hp/Mis_aplicaciones/anaconda3/lib/python3.6/site-packages (from ipython>=4.0.0; python_version >= \"3.3\"->ipywidgets>=5.1.5->ipyturtle) (4.8.0)\n",
      "Requirement already satisfied: six in /home/hp/Mis_aplicaciones/anaconda3/lib/python3.6/site-packages (from traitlets>=4.3.1->ipywidgets>=5.1.5->ipyturtle) (1.15.0)\n",
      "Requirement already satisfied: notebook>=4.4.1 in /home/hp/Mis_aplicaciones/anaconda3/lib/python3.6/site-packages (from widgetsnbextension~=3.5.0->ipywidgets>=5.1.5->ipyturtle) (6.1.4)\n",
      "Requirement already satisfied: importlib-metadata; python_version < \"3.8\" in /home/hp/Mis_aplicaciones/anaconda3/lib/python3.6/site-packages (from jsonschema!=2.5.0,>=2.4->nbformat>=4.2.0->ipywidgets>=5.1.5->ipyturtle) (2.0.0)\n",
      "Requirement already satisfied: pyrsistent>=0.14.0 in /home/hp/Mis_aplicaciones/anaconda3/lib/python3.6/site-packages (from jsonschema!=2.5.0,>=2.4->nbformat>=4.2.0->ipywidgets>=5.1.5->ipyturtle) (0.17.3)\n",
      "Requirement already satisfied: attrs>=17.4.0 in /home/hp/Mis_aplicaciones/anaconda3/lib/python3.6/site-packages (from jsonschema!=2.5.0,>=2.4->nbformat>=4.2.0->ipywidgets>=5.1.5->ipyturtle) (20.3.0)\n",
      "Requirement already satisfied: pyzmq>=13 in /home/hp/Mis_aplicaciones/anaconda3/lib/python3.6/site-packages (from jupyter-client->ipykernel>=4.5.1->ipywidgets>=5.1.5->ipyturtle) (19.0.2)\n",
      "Requirement already satisfied: python-dateutil>=2.1 in /home/hp/Mis_aplicaciones/anaconda3/lib/python3.6/site-packages (from jupyter-client->ipykernel>=4.5.1->ipywidgets>=5.1.5->ipyturtle) (2.8.1)\n",
      "Requirement already satisfied: wcwidth in /home/hp/Mis_aplicaciones/anaconda3/lib/python3.6/site-packages (from prompt-toolkit!=3.0.0,!=3.0.1,<3.1.0,>=2.0.0->ipython>=4.0.0; python_version >= \"3.3\"->ipywidgets>=5.1.5->ipyturtle) (0.2.5)\n",
      "Requirement already satisfied: parso<0.8.0,>=0.7.0 in /home/hp/Mis_aplicaciones/anaconda3/lib/python3.6/site-packages (from jedi>=0.10->ipython>=4.0.0; python_version >= \"3.3\"->ipywidgets>=5.1.5->ipyturtle) (0.7.0)\n",
      "Requirement already satisfied: ptyprocess>=0.5 in /home/hp/Mis_aplicaciones/anaconda3/lib/python3.6/site-packages (from pexpect; sys_platform != \"win32\"->ipython>=4.0.0; python_version >= \"3.3\"->ipywidgets>=5.1.5->ipyturtle) (0.6.0)\n",
      "Requirement already satisfied: Send2Trash in /home/hp/Mis_aplicaciones/anaconda3/lib/python3.6/site-packages (from notebook>=4.4.1->widgetsnbextension~=3.5.0->ipywidgets>=5.1.5->ipyturtle) (1.5.0)\n",
      "Requirement already satisfied: argon2-cffi in /home/hp/Mis_aplicaciones/anaconda3/lib/python3.6/site-packages (from notebook>=4.4.1->widgetsnbextension~=3.5.0->ipywidgets>=5.1.5->ipyturtle) (20.1.0)\n",
      "Requirement already satisfied: nbconvert in /home/hp/Mis_aplicaciones/anaconda3/lib/python3.6/site-packages (from notebook>=4.4.1->widgetsnbextension~=3.5.0->ipywidgets>=5.1.5->ipyturtle) (6.0.7)\n",
      "Requirement already satisfied: terminado>=0.8.3 in /home/hp/Mis_aplicaciones/anaconda3/lib/python3.6/site-packages (from notebook>=4.4.1->widgetsnbextension~=3.5.0->ipywidgets>=5.1.5->ipyturtle) (0.9.1)\n",
      "Requirement already satisfied: jinja2 in /home/hp/Mis_aplicaciones/anaconda3/lib/python3.6/site-packages (from notebook>=4.4.1->widgetsnbextension~=3.5.0->ipywidgets>=5.1.5->ipyturtle) (2.11.2)\n",
      "Requirement already satisfied: prometheus-client in /home/hp/Mis_aplicaciones/anaconda3/lib/python3.6/site-packages (from notebook>=4.4.1->widgetsnbextension~=3.5.0->ipywidgets>=5.1.5->ipyturtle) (0.8.0)\n",
      "Requirement already satisfied: zipp>=0.5 in /home/hp/Mis_aplicaciones/anaconda3/lib/python3.6/site-packages (from importlib-metadata; python_version < \"3.8\"->jsonschema!=2.5.0,>=2.4->nbformat>=4.2.0->ipywidgets>=5.1.5->ipyturtle) (3.4.0)\n",
      "Requirement already satisfied: cffi>=1.0.0 in /home/hp/Mis_aplicaciones/anaconda3/lib/python3.6/site-packages (from argon2-cffi->notebook>=4.4.1->widgetsnbextension~=3.5.0->ipywidgets>=5.1.5->ipyturtle) (1.14.3)\n",
      "Requirement already satisfied: testpath in /home/hp/Mis_aplicaciones/anaconda3/lib/python3.6/site-packages (from nbconvert->notebook>=4.4.1->widgetsnbextension~=3.5.0->ipywidgets>=5.1.5->ipyturtle) (0.4.4)\n",
      "Requirement already satisfied: defusedxml in /home/hp/Mis_aplicaciones/anaconda3/lib/python3.6/site-packages (from nbconvert->notebook>=4.4.1->widgetsnbextension~=3.5.0->ipywidgets>=5.1.5->ipyturtle) (0.6.0)\n",
      "Requirement already satisfied: mistune<2,>=0.8.1 in /home/hp/Mis_aplicaciones/anaconda3/lib/python3.6/site-packages (from nbconvert->notebook>=4.4.1->widgetsnbextension~=3.5.0->ipywidgets>=5.1.5->ipyturtle) (0.8.4)\n",
      "Requirement already satisfied: bleach in /home/hp/Mis_aplicaciones/anaconda3/lib/python3.6/site-packages (from nbconvert->notebook>=4.4.1->widgetsnbextension~=3.5.0->ipywidgets>=5.1.5->ipyturtle) (3.2.1)\n",
      "Requirement already satisfied: jupyterlab-pygments in /home/hp/Mis_aplicaciones/anaconda3/lib/python3.6/site-packages (from nbconvert->notebook>=4.4.1->widgetsnbextension~=3.5.0->ipywidgets>=5.1.5->ipyturtle) (0.1.2)\n",
      "Requirement already satisfied: nbclient<0.6.0,>=0.5.0 in /home/hp/Mis_aplicaciones/anaconda3/lib/python3.6/site-packages (from nbconvert->notebook>=4.4.1->widgetsnbextension~=3.5.0->ipywidgets>=5.1.5->ipyturtle) (0.5.1)\n"
     ]
    },
    {
     "name": "stdout",
     "output_type": "stream",
     "text": [
      "Requirement already satisfied: pandocfilters>=1.4.1 in /home/hp/Mis_aplicaciones/anaconda3/lib/python3.6/site-packages (from nbconvert->notebook>=4.4.1->widgetsnbextension~=3.5.0->ipywidgets>=5.1.5->ipyturtle) (1.4.3)\n",
      "Requirement already satisfied: entrypoints>=0.2.2 in /home/hp/Mis_aplicaciones/anaconda3/lib/python3.6/site-packages (from nbconvert->notebook>=4.4.1->widgetsnbextension~=3.5.0->ipywidgets>=5.1.5->ipyturtle) (0.3)\n",
      "Requirement already satisfied: MarkupSafe>=0.23 in /home/hp/Mis_aplicaciones/anaconda3/lib/python3.6/site-packages (from jinja2->notebook>=4.4.1->widgetsnbextension~=3.5.0->ipywidgets>=5.1.5->ipyturtle) (1.1.1)\n",
      "Requirement already satisfied: pycparser in /home/hp/Mis_aplicaciones/anaconda3/lib/python3.6/site-packages (from cffi>=1.0.0->argon2-cffi->notebook>=4.4.1->widgetsnbextension~=3.5.0->ipywidgets>=5.1.5->ipyturtle) (2.20)\n",
      "Requirement already satisfied: webencodings in /home/hp/Mis_aplicaciones/anaconda3/lib/python3.6/site-packages (from bleach->nbconvert->notebook>=4.4.1->widgetsnbextension~=3.5.0->ipywidgets>=5.1.5->ipyturtle) (0.5.1)\n",
      "Requirement already satisfied: packaging in /home/hp/Mis_aplicaciones/anaconda3/lib/python3.6/site-packages (from bleach->nbconvert->notebook>=4.4.1->widgetsnbextension~=3.5.0->ipywidgets>=5.1.5->ipyturtle) (20.4)\n",
      "Requirement already satisfied: nest-asyncio in /home/hp/Mis_aplicaciones/anaconda3/lib/python3.6/site-packages (from nbclient<0.6.0,>=0.5.0->nbconvert->notebook>=4.4.1->widgetsnbextension~=3.5.0->ipywidgets>=5.1.5->ipyturtle) (1.4.2)\n",
      "Requirement already satisfied: async-generator in /home/hp/Mis_aplicaciones/anaconda3/lib/python3.6/site-packages (from nbclient<0.6.0,>=0.5.0->nbconvert->notebook>=4.4.1->widgetsnbextension~=3.5.0->ipywidgets>=5.1.5->ipyturtle) (1.10)\n",
      "Requirement already satisfied: pyparsing>=2.0.2 in /home/hp/Mis_aplicaciones/anaconda3/lib/python3.6/site-packages (from packaging->bleach->nbconvert->notebook>=4.4.1->widgetsnbextension~=3.5.0->ipywidgets>=5.1.5->ipyturtle) (2.4.7)\n",
      "Note: you may need to restart the kernel to use updated packages.\n"
     ]
    },
    {
     "name": "stderr",
     "output_type": "stream",
     "text": [
      "UsageError: Line magic function `%jupyter` not found.\n"
     ]
    }
   ],
   "source": [
    "%pip install ipyturtle\n",
    "%jupyter nbextension enable --py --sys-prefix ipyturtle\n",
    "# si no funciona la función mágica, ejecutarla directamente desde el terminal"
   ]
  },
  {
   "cell_type": "code",
   "execution_count": 1,
   "metadata": {},
   "outputs": [],
   "source": [
    "from ipyturtle import Turtle\n",
    "\n",
    "t = Turtle()\n",
    "t\n",
    "t.close()"
   ]
  },
  {
   "cell_type": "code",
   "execution_count": 2,
   "metadata": {},
   "outputs": [],
   "source": [
    "for i in range(4) :\n",
    "    t.right(90)\n",
    "    t.forward(50)\n",
    "t.reset()"
   ]
  },
  {
   "cell_type": "code",
   "execution_count": 10,
   "metadata": {},
   "outputs": [
    {
     "data": {
      "application/vnd.jupyter.widget-view+json": {
       "model_id": "4399f239cfc74421985da15d5a50154b",
       "version_major": 2,
       "version_minor": 0
      },
      "text/plain": [
       "Turtle()"
      ]
     },
     "metadata": {},
     "output_type": "display_data"
    }
   ],
   "source": [
    "t = Turtle(fixed=False, width=480, height=480)\n",
    "t\n"
   ]
  },
  {
   "cell_type": "code",
   "execution_count": 12,
   "metadata": {
    "scrolled": true
   },
   "outputs": [
    {
     "name": "stdout",
     "output_type": "stream",
     "text": [
      "Collecting ipyturtle2\n",
      "  Downloading ipyturtle2-0.7.5-py2.py3-none-any.whl (64 kB)\n",
      "\u001b[K     |████████████████████████████████| 64 kB 765 kB/s eta 0:00:01\n",
      "\u001b[?25hRequirement already satisfied: ipywidgets>=7.0.0 in /home/hp/Mis_aplicaciones/anaconda3/lib/python3.6/site-packages (from ipyturtle2) (7.5.1)\n",
      "Requirement already satisfied: traitlets>=4.3.1 in /home/hp/Mis_aplicaciones/anaconda3/lib/python3.6/site-packages (from ipywidgets>=7.0.0->ipyturtle2) (4.3.3)\n",
      "Requirement already satisfied: ipython>=4.0.0; python_version >= \"3.3\" in /home/hp/Mis_aplicaciones/anaconda3/lib/python3.6/site-packages (from ipywidgets>=7.0.0->ipyturtle2) (7.16.1)\n",
      "Requirement already satisfied: ipykernel>=4.5.1 in /home/hp/Mis_aplicaciones/anaconda3/lib/python3.6/site-packages (from ipywidgets>=7.0.0->ipyturtle2) (5.3.4)\n",
      "Requirement already satisfied: widgetsnbextension~=3.5.0 in /home/hp/Mis_aplicaciones/anaconda3/lib/python3.6/site-packages (from ipywidgets>=7.0.0->ipyturtle2) (3.5.1)\n",
      "Requirement already satisfied: nbformat>=4.2.0 in /home/hp/Mis_aplicaciones/anaconda3/lib/python3.6/site-packages (from ipywidgets>=7.0.0->ipyturtle2) (5.0.8)\n",
      "Requirement already satisfied: ipython-genutils in /home/hp/Mis_aplicaciones/anaconda3/lib/python3.6/site-packages (from traitlets>=4.3.1->ipywidgets>=7.0.0->ipyturtle2) (0.2.0)\n",
      "Requirement already satisfied: six in /home/hp/Mis_aplicaciones/anaconda3/lib/python3.6/site-packages (from traitlets>=4.3.1->ipywidgets>=7.0.0->ipyturtle2) (1.15.0)\n",
      "Requirement already satisfied: decorator in /home/hp/Mis_aplicaciones/anaconda3/lib/python3.6/site-packages (from traitlets>=4.3.1->ipywidgets>=7.0.0->ipyturtle2) (4.4.2)\n",
      "Requirement already satisfied: pickleshare in /home/hp/Mis_aplicaciones/anaconda3/lib/python3.6/site-packages (from ipython>=4.0.0; python_version >= \"3.3\"->ipywidgets>=7.0.0->ipyturtle2) (0.7.5)\n",
      "Requirement already satisfied: jedi>=0.10 in /home/hp/Mis_aplicaciones/anaconda3/lib/python3.6/site-packages (from ipython>=4.0.0; python_version >= \"3.3\"->ipywidgets>=7.0.0->ipyturtle2) (0.17.1)\n",
      "Requirement already satisfied: pygments in /home/hp/Mis_aplicaciones/anaconda3/lib/python3.6/site-packages (from ipython>=4.0.0; python_version >= \"3.3\"->ipywidgets>=7.0.0->ipyturtle2) (2.7.2)\n",
      "Requirement already satisfied: backcall in /home/hp/Mis_aplicaciones/anaconda3/lib/python3.6/site-packages (from ipython>=4.0.0; python_version >= \"3.3\"->ipywidgets>=7.0.0->ipyturtle2) (0.2.0)\n",
      "Requirement already satisfied: pexpect; sys_platform != \"win32\" in /home/hp/Mis_aplicaciones/anaconda3/lib/python3.6/site-packages (from ipython>=4.0.0; python_version >= \"3.3\"->ipywidgets>=7.0.0->ipyturtle2) (4.8.0)\n",
      "Requirement already satisfied: setuptools>=18.5 in /home/hp/Mis_aplicaciones/anaconda3/lib/python3.6/site-packages (from ipython>=4.0.0; python_version >= \"3.3\"->ipywidgets>=7.0.0->ipyturtle2) (50.3.1.post20201107)\n",
      "Requirement already satisfied: prompt-toolkit!=3.0.0,!=3.0.1,<3.1.0,>=2.0.0 in /home/hp/Mis_aplicaciones/anaconda3/lib/python3.6/site-packages (from ipython>=4.0.0; python_version >= \"3.3\"->ipywidgets>=7.0.0->ipyturtle2) (3.0.8)\n",
      "Requirement already satisfied: jupyter-client in /home/hp/Mis_aplicaciones/anaconda3/lib/python3.6/site-packages (from ipykernel>=4.5.1->ipywidgets>=7.0.0->ipyturtle2) (6.1.7)\n",
      "Requirement already satisfied: tornado>=4.2 in /home/hp/Mis_aplicaciones/anaconda3/lib/python3.6/site-packages (from ipykernel>=4.5.1->ipywidgets>=7.0.0->ipyturtle2) (6.0.4)\n",
      "Requirement already satisfied: notebook>=4.4.1 in /home/hp/Mis_aplicaciones/anaconda3/lib/python3.6/site-packages (from widgetsnbextension~=3.5.0->ipywidgets>=7.0.0->ipyturtle2) (6.1.4)\n",
      "Requirement already satisfied: jupyter-core in /home/hp/Mis_aplicaciones/anaconda3/lib/python3.6/site-packages (from nbformat>=4.2.0->ipywidgets>=7.0.0->ipyturtle2) (4.6.3)\n",
      "Requirement already satisfied: jsonschema!=2.5.0,>=2.4 in /home/hp/Mis_aplicaciones/anaconda3/lib/python3.6/site-packages (from nbformat>=4.2.0->ipywidgets>=7.0.0->ipyturtle2) (3.2.0)\n",
      "Requirement already satisfied: parso<0.8.0,>=0.7.0 in /home/hp/Mis_aplicaciones/anaconda3/lib/python3.6/site-packages (from jedi>=0.10->ipython>=4.0.0; python_version >= \"3.3\"->ipywidgets>=7.0.0->ipyturtle2) (0.7.0)\n",
      "Requirement already satisfied: ptyprocess>=0.5 in /home/hp/Mis_aplicaciones/anaconda3/lib/python3.6/site-packages (from pexpect; sys_platform != \"win32\"->ipython>=4.0.0; python_version >= \"3.3\"->ipywidgets>=7.0.0->ipyturtle2) (0.6.0)\n",
      "Requirement already satisfied: wcwidth in /home/hp/Mis_aplicaciones/anaconda3/lib/python3.6/site-packages (from prompt-toolkit!=3.0.0,!=3.0.1,<3.1.0,>=2.0.0->ipython>=4.0.0; python_version >= \"3.3\"->ipywidgets>=7.0.0->ipyturtle2) (0.2.5)\n",
      "Requirement already satisfied: python-dateutil>=2.1 in /home/hp/Mis_aplicaciones/anaconda3/lib/python3.6/site-packages (from jupyter-client->ipykernel>=4.5.1->ipywidgets>=7.0.0->ipyturtle2) (2.8.1)\n",
      "Requirement already satisfied: pyzmq>=13 in /home/hp/Mis_aplicaciones/anaconda3/lib/python3.6/site-packages (from jupyter-client->ipykernel>=4.5.1->ipywidgets>=7.0.0->ipyturtle2) (19.0.2)\n",
      "Requirement already satisfied: Send2Trash in /home/hp/Mis_aplicaciones/anaconda3/lib/python3.6/site-packages (from notebook>=4.4.1->widgetsnbextension~=3.5.0->ipywidgets>=7.0.0->ipyturtle2) (1.5.0)\n",
      "Requirement already satisfied: prometheus-client in /home/hp/Mis_aplicaciones/anaconda3/lib/python3.6/site-packages (from notebook>=4.4.1->widgetsnbextension~=3.5.0->ipywidgets>=7.0.0->ipyturtle2) (0.8.0)\n",
      "Requirement already satisfied: jinja2 in /home/hp/Mis_aplicaciones/anaconda3/lib/python3.6/site-packages (from notebook>=4.4.1->widgetsnbextension~=3.5.0->ipywidgets>=7.0.0->ipyturtle2) (2.11.2)\n",
      "Requirement already satisfied: argon2-cffi in /home/hp/Mis_aplicaciones/anaconda3/lib/python3.6/site-packages (from notebook>=4.4.1->widgetsnbextension~=3.5.0->ipywidgets>=7.0.0->ipyturtle2) (20.1.0)\n",
      "Requirement already satisfied: nbconvert in /home/hp/Mis_aplicaciones/anaconda3/lib/python3.6/site-packages (from notebook>=4.4.1->widgetsnbextension~=3.5.0->ipywidgets>=7.0.0->ipyturtle2) (6.0.7)\n",
      "Requirement already satisfied: terminado>=0.8.3 in /home/hp/Mis_aplicaciones/anaconda3/lib/python3.6/site-packages (from notebook>=4.4.1->widgetsnbextension~=3.5.0->ipywidgets>=7.0.0->ipyturtle2) (0.9.1)\n",
      "Requirement already satisfied: pyrsistent>=0.14.0 in /home/hp/Mis_aplicaciones/anaconda3/lib/python3.6/site-packages (from jsonschema!=2.5.0,>=2.4->nbformat>=4.2.0->ipywidgets>=7.0.0->ipyturtle2) (0.17.3)\n",
      "Requirement already satisfied: attrs>=17.4.0 in /home/hp/Mis_aplicaciones/anaconda3/lib/python3.6/site-packages (from jsonschema!=2.5.0,>=2.4->nbformat>=4.2.0->ipywidgets>=7.0.0->ipyturtle2) (20.3.0)\n",
      "Requirement already satisfied: importlib-metadata; python_version < \"3.8\" in /home/hp/Mis_aplicaciones/anaconda3/lib/python3.6/site-packages (from jsonschema!=2.5.0,>=2.4->nbformat>=4.2.0->ipywidgets>=7.0.0->ipyturtle2) (2.0.0)\n",
      "Requirement already satisfied: MarkupSafe>=0.23 in /home/hp/Mis_aplicaciones/anaconda3/lib/python3.6/site-packages (from jinja2->notebook>=4.4.1->widgetsnbextension~=3.5.0->ipywidgets>=7.0.0->ipyturtle2) (1.1.1)\n",
      "Requirement already satisfied: cffi>=1.0.0 in /home/hp/Mis_aplicaciones/anaconda3/lib/python3.6/site-packages (from argon2-cffi->notebook>=4.4.1->widgetsnbextension~=3.5.0->ipywidgets>=7.0.0->ipyturtle2) (1.14.3)\n",
      "Requirement already satisfied: nbclient<0.6.0,>=0.5.0 in /home/hp/Mis_aplicaciones/anaconda3/lib/python3.6/site-packages (from nbconvert->notebook>=4.4.1->widgetsnbextension~=3.5.0->ipywidgets>=7.0.0->ipyturtle2) (0.5.1)\n",
      "Requirement already satisfied: testpath in /home/hp/Mis_aplicaciones/anaconda3/lib/python3.6/site-packages (from nbconvert->notebook>=4.4.1->widgetsnbextension~=3.5.0->ipywidgets>=7.0.0->ipyturtle2) (0.4.4)\n",
      "Requirement already satisfied: pandocfilters>=1.4.1 in /home/hp/Mis_aplicaciones/anaconda3/lib/python3.6/site-packages (from nbconvert->notebook>=4.4.1->widgetsnbextension~=3.5.0->ipywidgets>=7.0.0->ipyturtle2) (1.4.3)\n",
      "Requirement already satisfied: bleach in /home/hp/Mis_aplicaciones/anaconda3/lib/python3.6/site-packages (from nbconvert->notebook>=4.4.1->widgetsnbextension~=3.5.0->ipywidgets>=7.0.0->ipyturtle2) (3.2.1)\n",
      "Requirement already satisfied: jupyterlab-pygments in /home/hp/Mis_aplicaciones/anaconda3/lib/python3.6/site-packages (from nbconvert->notebook>=4.4.1->widgetsnbextension~=3.5.0->ipywidgets>=7.0.0->ipyturtle2) (0.1.2)\n"
     ]
    },
    {
     "name": "stdout",
     "output_type": "stream",
     "text": [
      "Requirement already satisfied: defusedxml in /home/hp/Mis_aplicaciones/anaconda3/lib/python3.6/site-packages (from nbconvert->notebook>=4.4.1->widgetsnbextension~=3.5.0->ipywidgets>=7.0.0->ipyturtle2) (0.6.0)\n",
      "Requirement already satisfied: mistune<2,>=0.8.1 in /home/hp/Mis_aplicaciones/anaconda3/lib/python3.6/site-packages (from nbconvert->notebook>=4.4.1->widgetsnbextension~=3.5.0->ipywidgets>=7.0.0->ipyturtle2) (0.8.4)\n",
      "Requirement already satisfied: entrypoints>=0.2.2 in /home/hp/Mis_aplicaciones/anaconda3/lib/python3.6/site-packages (from nbconvert->notebook>=4.4.1->widgetsnbextension~=3.5.0->ipywidgets>=7.0.0->ipyturtle2) (0.3)\n",
      "Requirement already satisfied: zipp>=0.5 in /home/hp/Mis_aplicaciones/anaconda3/lib/python3.6/site-packages (from importlib-metadata; python_version < \"3.8\"->jsonschema!=2.5.0,>=2.4->nbformat>=4.2.0->ipywidgets>=7.0.0->ipyturtle2) (3.4.0)\n",
      "Requirement already satisfied: pycparser in /home/hp/Mis_aplicaciones/anaconda3/lib/python3.6/site-packages (from cffi>=1.0.0->argon2-cffi->notebook>=4.4.1->widgetsnbextension~=3.5.0->ipywidgets>=7.0.0->ipyturtle2) (2.20)\n",
      "Requirement already satisfied: nest-asyncio in /home/hp/Mis_aplicaciones/anaconda3/lib/python3.6/site-packages (from nbclient<0.6.0,>=0.5.0->nbconvert->notebook>=4.4.1->widgetsnbextension~=3.5.0->ipywidgets>=7.0.0->ipyturtle2) (1.4.2)\n",
      "Requirement already satisfied: async-generator in /home/hp/Mis_aplicaciones/anaconda3/lib/python3.6/site-packages (from nbclient<0.6.0,>=0.5.0->nbconvert->notebook>=4.4.1->widgetsnbextension~=3.5.0->ipywidgets>=7.0.0->ipyturtle2) (1.10)\n",
      "Requirement already satisfied: webencodings in /home/hp/Mis_aplicaciones/anaconda3/lib/python3.6/site-packages (from bleach->nbconvert->notebook>=4.4.1->widgetsnbextension~=3.5.0->ipywidgets>=7.0.0->ipyturtle2) (0.5.1)\n",
      "Requirement already satisfied: packaging in /home/hp/Mis_aplicaciones/anaconda3/lib/python3.6/site-packages (from bleach->nbconvert->notebook>=4.4.1->widgetsnbextension~=3.5.0->ipywidgets>=7.0.0->ipyturtle2) (20.4)\n",
      "Requirement already satisfied: pyparsing>=2.0.2 in /home/hp/Mis_aplicaciones/anaconda3/lib/python3.6/site-packages (from packaging->bleach->nbconvert->notebook>=4.4.1->widgetsnbextension~=3.5.0->ipywidgets>=7.0.0->ipyturtle2) (2.4.7)\n",
      "Installing collected packages: ipyturtle2\n",
      "Successfully installed ipyturtle2-0.7.5\n",
      "Note: you may need to restart the kernel to use updated packages.\n"
     ]
    },
    {
     "name": "stderr",
     "output_type": "stream",
     "text": [
      "UsageError: Line magic function `%jupyter` not found.\n"
     ]
    }
   ],
   "source": [
    "%pip install ipyturtle2\n",
    "%jupyter nbextension enable --py --sys-prefix ipyturtle2"
   ]
  },
  {
   "cell_type": "code",
   "execution_count": 19,
   "metadata": {},
   "outputs": [],
   "source": [
    "from ipyturtle2 import TurtleWidget\n",
    "t = TurtleWidget(500, 500)\n",
    "t\n",
    "\n",
    "t.reset()\n",
    "t.circle(20, 360)"
   ]
  }
 ],
 "metadata": {
  "kernelspec": {
   "display_name": "Python 3",
   "language": "python",
   "name": "python3"
  },
  "language_info": {
   "codemirror_mode": {
    "name": "ipython",
    "version": 3
   },
   "file_extension": ".py",
   "mimetype": "text/x-python",
   "name": "python",
   "nbconvert_exporter": "python",
   "pygments_lexer": "ipython3",
   "version": "3.6.12"
  }
 },
 "nbformat": 4,
 "nbformat_minor": 4
}
