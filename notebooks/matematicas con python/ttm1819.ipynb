{
 "cells": [
  {
   "cell_type": "markdown",
   "metadata": {
    "slideshow": {
     "slide_type": "skip"
    }
   },
   "source": [
    "### Instrucciones\n",
    "\n",
    "requires a copy of reveal.js (version 3.x)\n",
    "\n",
    "```\n",
    "jupyter nbconvert --to slides --SlidesExporter.reveal_theme=sky ttm1819.ipynb\n",
    "```"
   ]
  },
  {
   "cell_type": "code",
   "execution_count": 11,
   "metadata": {
    "slideshow": {
     "slide_type": "skip"
    }
   },
   "outputs": [
    {
     "name": "stdout",
     "output_type": "stream",
     "text": [
      "[NbConvertApp] Converting notebook ttm1819.ipynb to slides\n",
      "[NbConvertApp] Writing 283046 bytes to ttm1819.slides.html\n"
     ]
    }
   ],
   "source": [
    "!jupyter nbconvert --to slides --SlidesExporter.reveal_theme=white --SlidesExporter.reveal_scroll=True ttm1819.ipynb"
   ]
  },
  {
   "cell_type": "markdown",
   "metadata": {
    "slideshow": {
     "slide_type": "slide"
    }
   },
   "source": [
    "# Taller de Talento Matemático \n",
    "\n",
    "<img src=\"files/img/ttm_logo.jpg\" align=\"center\"  width=\"300\" height=\"300\">\n",
    "\n",
    "## Programando la Geometría con BlocksCAD\n",
    "\n",
    "<img src=\"files/img/attribution-share-alike-creative-commons-license.png\" align=\"left\" style=\"padding-right:30px;\" width=\"180\" height=\"180\">\n",
    "\n",
    "\n",
    "**Página Web:** [https://mat3d.github.io/](https://mat3d.github.io/)\n",
    "\n",
    "**Documentación:** [https://github.com/mat3d](https://github.com/mat3d)"
   ]
  },
  {
   "cell_type": "markdown",
   "metadata": {
    "slideshow": {
     "slide_type": "slide"
    }
   },
   "source": [
    "## Introducción\n",
    "\n",
    "\n",
    "\n",
    "* Saludo y presentación\n",
    "    - **Pablo Beltrán Pellicer** *[@pbeltranp](https://twitter.com/pbeltranp)*\n",
    "    - **Carlos Rodríguez Jaso** *[@es3a10](https://twitter.com/es3a10)*\n",
    "* Objetivo de la sesión:\n",
    "    - Iniciarse en las posibilidades de [BlocksCAD](https://www.blockscad3d.com/) desde un punto de vista matemático\n",
    "    \n",
    "<video controls autoplay data-autoplay loop src=\"./img/timelapse.mp4\" align=\"center\" width=\"300\" height=\"300\"></video>\n",
    "\n",
    "    \n"
   ]
  },
  {
   "cell_type": "markdown",
   "metadata": {
    "slideshow": {
     "slide_type": "slide"
    }
   },
   "source": [
    "# Introducción a [BlocksCAD](https://www.blockscad3d.com/)\n",
    "\n",
    "**BlocksCAD** es un programa para modelar objetos en 3D sin necesidad de tener elevados conocimientos de programación.\n",
    "\n",
    "La forma más sencilla de trabajar es de manera online a través de su web: [https://www.blockscad3d.com/](https://www.blockscad3d.com/)\n"
   ]
  },
  {
   "cell_type": "markdown",
   "metadata": {
    "slideshow": {
     "slide_type": "subslide"
    }
   },
   "source": [
    "## El entorno\n",
    "\n",
    "El entorno de trabajo de BlocksCAD lo podemos dividir en tres partes:\n",
    "\n",
    "<img src=\"files/img/zonas_trabajo.png\" width=\"600px\">"
   ]
  },
  {
   "cell_type": "markdown",
   "metadata": {
    "slideshow": {
     "slide_type": "subslide"
    }
   },
   "source": [
    "## Aprendiendo lo básico\n",
    "\n",
    "### Formas 3D: \n",
    "\n",
    "Son los objetos primitivos que podemos utilizar:\n",
    "\n",
    "#### Cubos: Mi primer objeto en 3D\n",
    "\n",
    "Dentro del bloque *Formas 3d*, arrastramos el bloque \n",
    "<img src=\"./img/bloque_cubo.png\" width=\"40%\"> y lo llevamos a la área de programa. Al renderizar (botón **Hacer**) ya tenemos nuestro primer objeto con BlocksCAD.\n",
    "\n",
    "<img src=\"./img/cube10x10x10c.png\" width=\"30%\">"
   ]
  },
  {
   "cell_type": "markdown",
   "metadata": {
    "slideshow": {
     "slide_type": "subslide"
    }
   },
   "source": [
    "#### Cubos: Mi primer objeto en 3D\n",
    "\n",
    "Observa qué pasa cuando modificas los parámetros:\n",
    "\n",
    "<img src=\"./img/cubo_bs.gif\" width=\"70%\">\n"
   ]
  },
  {
   "cell_type": "markdown",
   "metadata": {
    "slideshow": {
     "slide_type": "subslide"
    }
   },
   "source": [
    "#### Formas 3D: Esferas\n",
    "\n",
    "Dentro del bloque *Formas 3D* podemos arrastrar el bloque <img src=\"./img/bloque_esfera.png\" width=\"20%\">\n",
    "\n",
    "Al renderizarlo obtendremos una esfera de *10mm* de radio:\n",
    "\n",
    "<img src=\"./img/esfera10.png\" width=\"30%\">\n"
   ]
  },
  {
   "cell_type": "markdown",
   "metadata": {
    "slideshow": {
     "slide_type": "subslide"
    }
   },
   "source": [
    "#### Formas 3D: Cilindros y mucho más\n",
    "\n",
    "Dentro del bloque *Formas 3D*, tenemos el bloque  <img src=\"./img/bloque_cilindro.png\" width=\"60%\">\n",
    "\n",
    "Explicación de algunos parámetros:\n",
    "\n",
    "- **radio1**, es el radio de la base inferior de la figura a modelar\n",
    "- **candado**, por defecto aparece cerrado, y esto hace que el parámetro **radio2** herede el valor de **radio1**\n",
    "- **radio2**, radio de la base superior de la figura. Cuando coincida con **radio1** tendremos un cilindro, y cuando no, tendremos un **tronco de cono** o un **cono** si ponemos que el radio es cero\n",
    "\n",
    "**Ejemplos:**\n",
    "\n",
    "|                  Bloque                   |                   Renderizado                   |\n",
    "| :---------------------------------------: | :---------------------------------------------: |\n",
    "| <img src=\"./img/bloque11.png\" width=100%> | <img src=\"./img/cilindro5_5_10c.png\" width=60%> |\n",
    "|      <img src=\"./img/bloque12.png\">       | <img src=\"./img/tronco10_5_20nc.png\" width=60%> |\n",
    "|      <img src=\"./img/bloque13.png\">       |   <img src=\"./img/cono10_20nc.png\" width=60%>   |\n",
    "\n",
    "\n",
    "\n",
    "BlocksCAD interpreta la base del cilindro como un polígono regular de **\"muchos\"** lados. Podemos generar un **prisma** de base regular modificando ese \"muchos\" con el bloque  <img src=\"./img/bloque_aristas.png\" width=\"10%\"> que aparece en *Transformaciones*. Mira este ejemplo que compara un cilindro con un prisma de base triangular:\n",
    "\n",
    "\n",
    "\n",
    "<img src=\"./img/cilindro_nlados.png\" width=\"100%\">\n"
   ]
  },
  {
   "cell_type": "markdown",
   "metadata": {
    "slideshow": {
     "slide_type": "subslide"
    }
   },
   "source": [
    "### Transformaciones\n",
    "\n",
    "#### Traslaciones \n",
    "Dentro del bloque *Formas 3D*, arrastramos el bloque <img src=\"./img/bloque_traslacion.png\" width=\"20%\">\n",
    "En este caso, los parámetros **X**, **Y** y **Z**, son las coordenadas del vector de traslación.\n",
    "\n",
    "#### Rotaciones\n",
    "Bloque    <img src=\"./img/bloque_rotacion.png\" width=\"30%\"> \n",
    "Los parámetros **X**, **Y** y **Z**, son los grados a rotar en los diferentes ejes.\n",
    "\n",
    "**Ejemplos:**\n",
    "\n",
    "| Ejemplo                                                      | Bloque                         |            Renderizado            |\n",
    "| :---------------------------------------------------------: | :----------------------------- | :-------------------------------: |\n",
    "| Prisma de 10x20x30 centrado y trasladado 30 en la dirección X, 30 en la Y y 40 en la Z | <img src=\"./img/bloque21.png\"> | <img src=\"./img/traslacion1.png\"> |\n",
    "| Ejercicio anterior rotado 45º en el eje X                    | <img src=\"./img/bloque22.png\"> |  <img src=\"./img/rotacion1.png\">  |"
   ]
  },
  {
   "cell_type": "markdown",
   "metadata": {
    "slideshow": {
     "slide_type": "subslide"
    }
   },
   "source": [
    "### Ops de Conjuntos: Operaciones lógicas \n",
    "\n",
    "#### Unión: Pegando objetos\n",
    "\n",
    "Para unir dos o más objetos tenemos que seleccionar el bloque <img src=\"./img/bloque_union.png\" width=\"10%\">\n",
    "\n",
    "#### Diferencia: Haciendo agujeros\n",
    "\n",
    "Con la diferencia lo que hacemos es hacer \"agujeros\". La forma de trabajar con el bloque es similar a la unión.\n",
    "\n",
    "**Ejemplos:**\n",
    "\n",
    "|             Bloque             |           Renderizado           |\n",
    "| :----------------------------: | :-----------------------------: |\n",
    "| <img src=\"./img/bloque31.png\"> | <img src=\"./img/ejemplo31.png\"> |\n",
    "| <img src=\"./img/bloque32.png\"> | <img src=\"./img/ejemplo32.png\"> |\n"
   ]
  },
  {
   "cell_type": "markdown",
   "metadata": {
    "slideshow": {
     "slide_type": "subslide"
    }
   },
   "source": [
    "# ¡Ya conoces lo básico para poder trabajar!\n",
    "\n",
    "<img src=\"./img/18614-NRQ2AH.jpg\" width=\"40%\">"
   ]
  },
  {
   "cell_type": "markdown",
   "metadata": {
    "slideshow": {
     "slide_type": "slide"
    }
   },
   "source": [
    "# Desafío 1: \n",
    "\n",
    "Entrénate con BlocksCASD intentando modelar la siguiente figura. No tiene que ser exactamente igual pero sí parecida:\n",
    "\n",
    "|           Vista 1            |           Vista 2            |\n",
    "| :--------------------------: | :--------------------------: |\n",
    "| <img src=\"./img/des1_1.png\"> | <img src=\"./img/des1_2.png\"> |\n",
    "\n"
   ]
  },
  {
   "cell_type": "markdown",
   "metadata": {
    "slideshow": {
     "slide_type": "fragment"
    }
   },
   "source": [
    "Tienes una posible solución en https://www.blockscad3d.com/community/projects/82576"
   ]
  },
  {
   "cell_type": "markdown",
   "metadata": {
    "slideshow": {
     "slide_type": "slide"
    }
   },
   "source": [
    "# Desafío 2: Estrella Mudéjar\n",
    "\n",
    "|                  Actividad                   |\n",
    "| -------------------------------------------- |\n",
    "|          Estrella mudéjar sencilla           |\n",
    "| \"Estrella mudéjar\" sobre un hexágono regular |\n",
    "|   \"Estrella mudéjar\" paramétrica sencilla    |\n",
    "|   \"Estrella mudéjar\" paramétrica avanzada    |\n",
    "\n"
   ]
  },
  {
   "cell_type": "markdown",
   "metadata": {
    "slideshow": {
     "slide_type": "slide"
    }
   },
   "source": [
    "## Estrella mudéjar sencilla\n",
    "\n",
    "#### Modelo\n",
    "Para empezar, vamos a realizar **una sencilla estrella mudejar** con dos prismas cuadrados de dimensiones 10x10x5 (eje_x, eje_y, eje_z o para entendernos, ancho por largo por alto):\n",
    "\n",
    "<img src=\"files/img/r_est1.png\" width=\"50%\" align=\"center\">"
   ]
  },
  {
   "cell_type": "markdown",
   "metadata": {
    "slideshow": {
     "slide_type": "subslide"
    }
   },
   "source": [
    "#### Cuestiones iniciales\n",
    "\n",
    "* ¿Existe alguna **relación**  entre el **lado de un cuadrado y su apotema**?\n",
    "* ¿Crees que para otros polígonos regulares va a seguir existiendo una **relación entre el lado y la apotema**?\n",
    "* ¿Sabes algo de **trigonometría**? En caso afirmativo, las preguntas anteriores deberían resultarte sencillas. En caso contrario, **no te preocupes** la parte teórica la facilitaremos para que puedas hacer el modelado si te ves desbordado.\n"
   ]
  },
  {
   "cell_type": "markdown",
   "metadata": {
    "slideshow": {
     "slide_type": "subslide"
    }
   },
   "source": [
    "#### Respuestas a las preguntas\n",
    "\n",
    "* La **apotema** es la mitad del lado. <img src=\"./img/apotema_cuadrado.png\" width=\"80%\">\n",
    "\n",
    "* Sí, siempre va a haber relación. La respuesta  está en la **semejanza de triángulos rectángulos** y **la trigonometría**. Esto nos permitirá calcular bien el radio, la apotema o el lado del polígono regular siempre que nos den uno de ellos. "
   ]
  },
  {
   "cell_type": "markdown",
   "metadata": {
    "slideshow": {
     "slide_type": "subslide"
    }
   },
   "source": [
    "#### Modelado en BlocksCAD\n",
    "\n",
    "| Paso                             | Código                                            | Renderizado                                |\n",
    "| ---------------------------------| --------------------------------------------------| ------------------------------------------ |\n",
    "| Insertamos un cubo de 10x10x5 centrado en origen | <img src=\"./img/cubo.png\" width=\"100%\">   | <img src=\"./img/r_cubo.png\" width=\"80%\">   |\n",
    "| Insertamos otro igual pero girado 45º sobre el plano XY (girar el eje Z) | <img src=\"./img/cubo45.png\" width=\"110%\"> | <img src=\"./img/r_cubo45.png\" width=\"80%\"> |\n",
    "| Juntamos los dos objetos para formar un único objeto         | <img src=\"./img/est1.png\" width=\"110%\">   | <img src=\"./img/r_est1.png\" width=\"80%\">   |"
   ]
  },
  {
   "cell_type": "markdown",
   "metadata": {
    "slideshow": {
     "slide_type": "fragment"
    }
   },
   "source": [
    "Tienes la solución en https://www.blockscad3d.com/community/projects/266387"
   ]
  },
  {
   "cell_type": "markdown",
   "metadata": {
    "slideshow": {
     "slide_type": "slide"
    }
   },
   "source": [
    "## \"Estrella mudéjar\" sobre un hexágono regular\n",
    "\n",
    "#### Modelo\n",
    "Ahora se propone realizar una especie de estrella mudéjar modificada a partir de un hexágono regular de radio y altura que quieras\n",
    "\n",
    "<img src=\"./img/est_hex.png\" width=\"50%\">"
   ]
  },
  {
   "cell_type": "markdown",
   "metadata": {
    "slideshow": {
     "slide_type": "subslide"
    }
   },
   "source": [
    "#### Cuestiones previas\n",
    "\n",
    "* ¿Hacia qué objeto tiende un polígono regular cuando aumentamos el **número de lados** al polígono?\n",
    "* ¿Cuánto tiene que girar el prisma hexagonal superpuesto para generar las puntas en mitad de las aristas del prisma original?¿Puedes dar una **fórmula general** que vaya en función del número de lados y que por tanto sirva para el cuadrado o el hexágono?"
   ]
  },
  {
   "cell_type": "markdown",
   "metadata": {
    "slideshow": {
     "slide_type": "subslide"
    }
   },
   "source": [
    "#### Consideraciones a las cuestiones\n",
    "\n",
    "* Al aumentar el número de lados, el **polígono** se va acercando a un **círculo** como se puede ver en la siguiente animación:\n",
    "\n",
    "  <img src=\"./img/lim_circulo.gif\" width=\"50%\">\n",
    "\n",
    "* **BlocksCAD** interpreta los cilindros de esta manera, como un **prisma** de base regular **con un número de lados elevado**. Podemos convertir un cilindrode BlocksCAD en un prisma modificando el número de lados:<img src=\"./img/cilindro_nlados.png\" width=\"100%\">\n",
    "\n",
    "\n",
    "* La **rotación** que hay que hacer es la mitad del ángulo central: $\\alpha=\\frac{180}{nlados}$\n",
    "\n",
    "* **Importante:** Al usar el bloque cilindro modificado por el número de aristas, el parámetro que le damos es el radio del polígono regular y no la longitud de la arista (o lado del polígono regular)\n"
   ]
  },
  {
   "cell_type": "markdown",
   "metadata": {
    "slideshow": {
     "slide_type": "subslide"
    }
   },
   "source": [
    "#### Modelado en BlocksCAD\n",
    "\n",
    "* Se propone como ejercicio su modelado. \n",
    "\n",
    "   <img src=\"./img/18614-NRQ2AH.jpg\" width=\"40%\" style=\"padding-right:30px;\" align=\"left\"> <img src=\"./img/est_hex.png\" width=\"50%\">\n",
    "\n"
   ]
  },
  {
   "cell_type": "markdown",
   "metadata": {
    "slideshow": {
     "slide_type": "fragment"
    }
   },
   "source": [
    "Tienes una posible solución en https://www.blockscad3d.com/community/projects/272240"
   ]
  },
  {
   "cell_type": "markdown",
   "metadata": {
    "slideshow": {
     "slide_type": "slide"
    }
   },
   "source": [
    "## \"Estrella mudéjar\" paramétrica sencilla\n",
    "#### Modelo\n",
    "Se pide modificar la estrella anterior para que acepte los siguientes parámetros o variables:\n",
    "* **Número de lados** del polígono regular que genera la estrella\n",
    "* **Longitud** del radio del polígono\n",
    "* Longitud del radio del polígono que genera el **hueco**\n",
    "\n",
    "**Ejemplo de modelo:**  Estrella de David generada  con triángulos de radios 10 y 8, exterior e interior respectivamente.   \n",
    "\n",
    "<img src=\"./img/est_david.png\" width=\"30%\">\n"
   ]
  },
  {
   "cell_type": "markdown",
   "metadata": {
    "slideshow": {
     "slide_type": "subslide"
    }
   },
   "source": [
    "#### Modelado en BlocksCAD\n",
    "\n",
    "* Se propone como ejercicio su modelado. \n",
    "\n",
    "   <img src=\"./img/18614-NRQ2AH.jpg\" width=\"40%\" style=\"padding-right:30px;\" align=\"left\"> <img src=\"./img/est_david.png\" width=\"40%\">\n",
    "\n"
   ]
  },
  {
   "cell_type": "markdown",
   "metadata": {
    "slideshow": {
     "slide_type": "fragment"
    }
   },
   "source": [
    "Tienes una posible solución en https://www.blockscad3d.com/community/projects/278006"
   ]
  },
  {
   "cell_type": "markdown",
   "metadata": {
    "slideshow": {
     "slide_type": "slide"
    }
   },
   "source": [
    "## \"Estrella mudéjar\" paramétrica avanzada\n",
    "\n",
    "#### Modelo\n",
    "Vamos a añadir un poco de complejidad al programa. En las estrellas anteriores todas las puntas son iguales. Ahora en lugar de que la mitad de las puntas las genere el prisma poligonal girado se pide que sean los generados por un prisma cuadrado con la diagonal superpuesta sobre la arista (el lado del cuadrado que sea 1/3 de la arista).\n",
    "\n",
    "**Ejemplo:** Para 8 lados tiene que quedar algo así\n",
    "<img src=\"./img/estpar.png\" width=\"50%\">"
   ]
  },
  {
   "cell_type": "markdown",
   "metadata": {
    "slideshow": {
     "slide_type": "subslide"
    }
   },
   "source": [
    "####  Explicación del Modelo\n",
    "Como una imagen vale más que mil palabras:\n",
    "\n",
    "<img src=\"./img/hex_cuad.png\" width=\"60%\">\n",
    "\n",
    "Se pide por tanto modelar una estrella que tenga como parámetros:\n",
    "\n",
    "* **Número de lados**\n",
    "* Longitud del **lado**\n",
    "* **Grosor** de la estrella: Altura y anchura del contorno. Opcional: Si se quiere se pueden hacer dos parámetros."
   ]
  },
  {
   "cell_type": "markdown",
   "metadata": {
    "slideshow": {
     "slide_type": "subslide"
    }
   },
   "source": [
    "#### Cuestiones previas\n",
    "\n",
    "* Dado un polígono regular: ¿Existe alguna **fórmula general** que **relacione** la longitud del **lado** con el **radio**?¿Y alguna relación entre la **apotema** y  el **lado**?\n",
    "* El cuadrado que genera las puntas, **¿Cuánto hay que trasladarlo?**\n",
    "* ¿Cuántas **rotaciones** hay que hacer del cuadrado para generar todas las puntas?¿Qué ángulo entre ellos?"
   ]
  },
  {
   "cell_type": "markdown",
   "metadata": {
    "slideshow": {
     "slide_type": "subslide"
    }
   },
   "source": [
    "#### Respuestas a las cuestiones previas\n",
    " <img src=\"./img/semi_angulo_central.gif\" width=\"60%\">\n",
    "\n",
    "  * El **triángulo** formado por el centro del polígono, el  punto medio de un lado y un vértice adyacente es **siempre rectángulo**. El ángulo correspondiente al centro del polígono es **la mitad del ángulo central**: $$\\alpha=\\dfrac{\\frac{360}{n_{lados}}}{2}$$\n",
    "\n",
    "  * **Fijado el número de lados** del polígono regular, aunque varíe el tamaño del lado, los triángulos que salgan serán semejantes. **Al ser semejantes los lados son proporcionales**, o dicho de otra forma, **la razón entre lados se mantiene constante y dependen exclusivamente del ángulo** que se apoya en el centro del polígono: Son las **razones trigonométricas**. La principales son:\n",
    "\n",
    "| Razón trigonométrica                        | Aplicación en el polígono regular       |\n",
    "| ------------------------------------------- | --------------------------------------- |\n",
    "| **seno** = lado opuesto / hipotenusa        | $\\sin{\\alpha}=\\frac{semilado}{radio}$   |\n",
    "| **coseno** = lado contiguo / hipotenusa     | $\\cos{\\alpha}=\\frac{apotema}{radio}$    |\n",
    "| **tangente** = lado opuesto / lado contiguo | $\\tan{\\alpha}=\\frac{semilado}{apotema}$ |\n",
    "    \n",
    "\n",
    "* El cuadrado hay que trasladarlo **la apotema del polígono**\n",
    "* Habrá que hacer **tantas puntas como lados** y habrá que **rotar la mitad del ángulo central**: $$\\alpha=\\frac{180}{nlados}$$\n"
   ]
  },
  {
   "cell_type": "markdown",
   "metadata": {
    "slideshow": {
     "slide_type": "subslide"
    }
   },
   "source": [
    "**Ejemplo de aplicación:** Determina el radio y la apotema para un **pentágono regular de lado 6**:\n",
    "\n",
    "<img src=\"./img/pent.png\" width=\"30%\">\n",
    "\n",
    "\n",
    "* **radio = (6/2)/seno(180/5)**\n",
    "* **apotema = (6/2)/tan(180/5)**"
   ]
  },
  {
   "cell_type": "markdown",
   "metadata": {
    "slideshow": {
     "slide_type": "subslide"
    }
   },
   "source": [
    "#### Modelado en BlocksCAD\n",
    "\n",
    "* Se propone como ejercicio su modelado. \n",
    "\n",
    "   <img src=\"./img/18614-NRQ2AH.jpg\" width=\"40%\" style=\"padding-right:30px;\" align=\"left\"> <img src=\"./img/estpar.png\" width=\"40%\">\n",
    "\n",
    "\n",
    "\n"
   ]
  },
  {
   "cell_type": "markdown",
   "metadata": {
    "slideshow": {
     "slide_type": "fragment"
    }
   },
   "source": [
    "Tienes una posible solución en https://www.blockscad3d.com/community/projects/267149"
   ]
  },
  {
   "cell_type": "markdown",
   "metadata": {
    "slideshow": {
     "slide_type": "slide"
    }
   },
   "source": [
    "## ¡Gracias por vuestra presencia y a seguir modelando con BlocksCAD!\n",
    "\n",
    "Podéis seguir trabajando en vuestra casa y difundir vuestros progresos en:\n",
    "\n",
    "\n",
    "[#ttmestrellamudejar](https://twitter.com/search?f=tweets&q=%23ttmestrellamudejar&src=typd)\n",
    "\n",
    "\n",
    "**Otros enlaces que pueden ser interesantes:**\n",
    "\n",
    "* [Tutoriales de BlocksCAD](https://www.youtube.com/channel/UCovK2cRIjoaZNzRwpQP2sFg/playlists) oficiales\n",
    "* [Proyecto RepRap](https://reprap.org/wiki/RepRap) sobre impresoras 3D libres\n",
    "* [Proyecto Clone Wars](https://www.reprap.org/wiki/Proyecto_Clone_Wars) , subproyecto de RepRap en castellano"
   ]
  }
 ],
 "metadata": {
  "celltoolbar": "Slideshow",
  "kernelspec": {
   "display_name": "Python 3",
   "language": "python",
   "name": "python3"
  },
  "language_info": {
   "codemirror_mode": {
    "name": "ipython",
    "version": 3
   },
   "file_extension": ".py",
   "mimetype": "text/x-python",
   "name": "python",
   "nbconvert_exporter": "python",
   "pygments_lexer": "ipython3",
   "version": "3.6.12"
  }
 },
 "nbformat": 4,
 "nbformat_minor": 2
}
