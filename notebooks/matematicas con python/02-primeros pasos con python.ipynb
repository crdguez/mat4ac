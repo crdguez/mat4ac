{
 "cells": [
  {
   "cell_type": "markdown",
   "metadata": {},
   "source": [
    "## Primeros pasos con Python\n",
    "### Hola mundo\n",
    "La celda que tienes a continuación es una instrucción en Python. ¡Ejecútala!:"
   ]
  },
  {
   "cell_type": "code",
   "execution_count": 1,
   "metadata": {
    "scrolled": true,
    "tags": [
     "remove_cell"
    ]
   },
   "outputs": [
    {
     "name": "stdout",
     "output_type": "stream",
     "text": [
      "Hola Mundo\n"
     ]
    }
   ],
   "source": [
    "print(\"Hola Mundo\")"
   ]
  },
  {
   "cell_type": "markdown",
   "metadata": {
    "tags": [
     "remove_cell"
    ]
   },
   "source": [
    "¡Felicidades! Acabas de ejecuar tu primera instrucción en Python. La palabra print es un tipo de comando de Python llamado función, e imprime por pantalla lo que está dentro del paréntesis. En esencia, le has dado al ordenador una instrucción para mostrar las palabras \"Hola Mundo ”.\n",
    "\n",
    "Puedes ejecutar la siguiente celda y comporbar qué ocurre cuando modificas el texto que aparece entre paréntesis. ¡Cuidado! Para que funcione lo que está dentro del paréntesis tiene que ir entre \"\":"
   ]
  },
  {
   "cell_type": "code",
   "execution_count": 2,
   "metadata": {},
   "outputs": [
    {
     "name": "stdout",
     "output_type": "stream",
     "text": [
      "Modifica este texto\n"
     ]
    }
   ],
   "source": [
    "print(\"Modifica este texto\")"
   ]
  },
  {
   "cell_type": "markdown",
   "metadata": {},
   "source": [
    "### Cálculos y variables\n",
    "Comenzaremos con algunos cálculos simples y\n",
    "luego pasaremos a las variables. Las variables son una forma de almacenar\n",
    "cosas en un programa, y resultan muy útiles.\n",
    "\n",
    "#### Calculando con Python\n",
    "\n",
    "Podemos usar Python como una calculadora. Veamos un ejemplo, para multiplicar *52 x 23*:\n"
   ]
  },
  {
   "cell_type": "code",
   "execution_count": 3,
   "metadata": {},
   "outputs": [
    {
     "data": {
      "text/plain": [
       "1196"
      ]
     },
     "execution_count": 3,
     "metadata": {},
     "output_type": "execute_result"
    }
   ],
   "source": [
    "52*23"
   ]
  },
  {
   "cell_type": "markdown",
   "metadata": {},
   "source": [
    "Si te fijas, el operador multiplicador en Python es el `*` . También debes tener en cuenta que el separado de decimales ne Python es el punto. Por tanto, para multiplicar *52 x 2,3*:"
   ]
  },
  {
   "cell_type": "code",
   "execution_count": 4,
   "metadata": {},
   "outputs": [
    {
     "data": {
      "text/plain": [
       "119.6"
      ]
     },
     "execution_count": 4,
     "metadata": {},
     "output_type": "execute_result"
    }
   ],
   "source": [
    "52*2.3"
   ]
  },
  {
   "cell_type": "markdown",
   "metadata": {},
   "source": [
    "En la siguiente tabla tienes los diferentes operadores:\n",
    "\n",
    "|Operador Python|Operación matemática|\n",
    "|:-------------:|:------------------:|\n",
    "|+              |Suma                |\n",
    "|-              |Resta               |\n",
    "|*              |Multiplicación      |\n",
    "|/              |División            |\n",
    "|**             |Potencia            |\n",
    "\n",
    "___\n",
    "**IMPORTANTE:** La jerquía de operaciones en Python es la misma que se sigue en matemátics, por esta razón, deberemos controlar el orden que queramos con el uso de paréntesis. Si tienes que anidar paréntesis, es decir poner un paréntesis dentro de otro paréntesis, en Python usarás siempre paréntesis y no corchetes como utilzarías al escribir matemáticas en un cuaderno.\n",
    "\n",
    "***\n",
    "\n",
    "#### Variables \n",
    "\n",
    "Las variable en programación representan un lugar para almacenar información como números, texto, listas de números y texto, etc.\n",
    "\n",
    "**Ejemplo:**\n",
    "\n",
    "\n",
    "Tenemos guardado en  nuestra hucha: 23 billetes de 5 euros, 15 billetes de 10 euros, 12 monedas de 2 euros, 10 monedas de euo y 20 monedas de 50 centimos. ¿Cuánto dinero tenemos?\n",
    "\n",
    "Podemos escribir lo siguiente para hacer el cálculo:\n"
   ]
  },
  {
   "cell_type": "code",
   "execution_count": 5,
   "metadata": {},
   "outputs": [
    {
     "data": {
      "text/plain": [
       "309.0"
      ]
     },
     "execution_count": 5,
     "metadata": {},
     "output_type": "execute_result"
    }
   ],
   "source": [
    "23*5+15*10+12*2+10*1+20*0.50"
   ]
  },
  {
   "cell_type": "markdown",
   "metadata": {},
   "source": [
    "El mismo cálculo lo podemos hacer usando variables o contenedores de información que reflejen la cantidad de billetes y monedas de cada tipo que hay:"
   ]
  },
  {
   "cell_type": "code",
   "execution_count": 6,
   "metadata": {},
   "outputs": [],
   "source": [
    "billetes_cinco = 23\n",
    "billetes_diez = 15\n",
    "monedas_dos = 12\n",
    "monedas_uno = 10\n",
    "monedas_cincuenta = 20"
   ]
  },
  {
   "cell_type": "markdown",
   "metadata": {},
   "source": [
    "Podemos comprobar qué dato contiene cada variable escribiendo el nombre de la variable:"
   ]
  },
  {
   "cell_type": "code",
   "execution_count": 7,
   "metadata": {},
   "outputs": [
    {
     "data": {
      "text/plain": [
       "23"
      ]
     },
     "execution_count": 7,
     "metadata": {},
     "output_type": "execute_result"
    }
   ],
   "source": [
    "billetes_cinco"
   ]
  },
  {
   "cell_type": "markdown",
   "metadata": {},
   "source": [
    "La operación que hemos escrito antes la podemos reescribir pero haciendo referencia a las variables:"
   ]
  },
  {
   "cell_type": "code",
   "execution_count": 8,
   "metadata": {},
   "outputs": [
    {
     "data": {
      "text/plain": [
       "309.0"
      ]
     },
     "execution_count": 8,
     "metadata": {},
     "output_type": "execute_result"
    }
   ],
   "source": [
    "billetes_cinco * 5 + billetes_diez * 10 + monedas_dos * 2 + monedas_uno * 1 + monedas_cincuenta * 0.50"
   ]
  },
  {
   "cell_type": "markdown",
   "metadata": {},
   "source": [
    "Incluso podemos crear una variable *dinero* nueva que sea la operación que a su vez contiene variables:"
   ]
  },
  {
   "cell_type": "code",
   "execution_count": 9,
   "metadata": {},
   "outputs": [],
   "source": [
    "dinero = billetes_cinco * 5 + billetes_diez * 10 + monedas_dos * 2 + monedas_uno * 1 + monedas_cincuenta * 0.50"
   ]
  },
  {
   "cell_type": "markdown",
   "metadata": {},
   "source": [
    "Si ejecutamos:"
   ]
  },
  {
   "cell_type": "code",
   "execution_count": 10,
   "metadata": {},
   "outputs": [
    {
     "data": {
      "text/plain": [
       "309.0"
      ]
     },
     "execution_count": 10,
     "metadata": {},
     "output_type": "execute_result"
    }
   ],
   "source": [
    "dinero"
   ]
  },
  {
   "cell_type": "markdown",
   "metadata": {},
   "source": [
    "Obtenemos la cantidad de dinero que tenemos. Supongamos ahora que hacemos recuento de billetes y monedas, y nos damos cuenta que la vez anterior hemos contado mal y en realidad tenemos 22 billetes de 5 euros. En lugar de tener que volver a escribir todos los números de la operación podemos hacer lo siguiente:"
   ]
  },
  {
   "cell_type": "code",
   "execution_count": 11,
   "metadata": {},
   "outputs": [
    {
     "data": {
      "text/plain": [
       "304.0"
      ]
     },
     "execution_count": 11,
     "metadata": {},
     "output_type": "execute_result"
    }
   ],
   "source": [
    "billetes_cinco = 22\n",
    "billetes_cinco * 5 + billetes_diez * 10 + monedas_dos * 2 + monedas_uno * 1 + monedas_cincuenta * 0.50"
   ]
  }
 ],
 "metadata": {
  "celltoolbar": "Tags",
  "kernelspec": {
   "display_name": "Python 3",
   "language": "python",
   "name": "python3"
  },
  "language_info": {
   "codemirror_mode": {
    "name": "ipython",
    "version": 3
   },
   "file_extension": ".py",
   "mimetype": "text/x-python",
   "name": "python",
   "nbconvert_exporter": "python",
   "pygments_lexer": "ipython3",
   "version": "3.6.12"
  }
 },
 "nbformat": 4,
 "nbformat_minor": 4
}
