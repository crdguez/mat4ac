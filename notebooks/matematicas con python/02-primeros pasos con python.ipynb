{
 "cells": [
  {
   "cell_type": "markdown",
   "metadata": {},
   "source": [
    "## Primeros pasos con Python\n",
    "### Hola mundo\n",
    "La celda que tienes a continuación es una instrucción en Python. ¡Ejecútala!:"
   ]
  },
  {
   "cell_type": "code",
   "execution_count": 1,
   "metadata": {},
   "outputs": [
    {
     "name": "stdout",
     "output_type": "stream",
     "text": [
      "Hola Mundo\n"
     ]
    }
   ],
   "source": [
    "print(\"Hola Mundo\")"
   ]
  },
  {
   "cell_type": "markdown",
   "metadata": {},
   "source": [
    "¡Felicidades! Acabas de ejecuar tu primera instrucción en Python. La palabra print es un tipo de comando de Python llamado función, e imprime por pantalla lo que está dentro del paréntesis. En esencia, le has dado al ordenador una instrucción para mostrar las palabras \"Hola Mundo ”.\n",
    "\n",
    "Puedes ejecutar la siguiente celda y comporbar qué ocurre cuando modificas el texto que aparece entre paréntesis. ¡Cuidado! Para que funcione lo que está dentro del paréntesis tiene que ir entre \"\":"
   ]
  },
  {
   "cell_type": "code",
   "execution_count": 2,
   "metadata": {},
   "outputs": [
    {
     "name": "stdout",
     "output_type": "stream",
     "text": [
      "Modifica este texto\n"
     ]
    }
   ],
   "source": [
    "print(\"Modifica este texto\")"
   ]
  },
  {
   "cell_type": "markdown",
   "metadata": {},
   "source": [
    "### Cálculos y variables\n",
    "Comenzaremos con algunos cálculos simples y\n",
    "luego pasaremos a las variables. Las variables son una forma de almacenar\n",
    "cosas en un programa, y resultan muy útiles.\n",
    "\n",
    "#### Calculando con Python\n",
    "\n",
    "Podemos usar Python como una calculadora. Veamos un ejemplo, para multiplicar *52 x 23*:\n"
   ]
  },
  {
   "cell_type": "code",
   "execution_count": 3,
   "metadata": {},
   "outputs": [
    {
     "data": {
      "text/plain": [
       "1196"
      ]
     },
     "execution_count": 3,
     "metadata": {},
     "output_type": "execute_result"
    }
   ],
   "source": [
    "52*23"
   ]
  },
  {
   "cell_type": "markdown",
   "metadata": {},
   "source": [
    "Si te fijas, el operador multiplicador en Python es el `*` . También debes tener en cuenta que el separado de decimales ne Python es el punto. Por tanto, para multiplicar *52 x 2,3*:"
   ]
  },
  {
   "cell_type": "code",
   "execution_count": 4,
   "metadata": {},
   "outputs": [
    {
     "data": {
      "text/plain": [
       "119.6"
      ]
     },
     "execution_count": 4,
     "metadata": {},
     "output_type": "execute_result"
    }
   ],
   "source": [
    "52*2.3"
   ]
  },
  {
   "cell_type": "markdown",
   "metadata": {},
   "source": [
    "En la siguiente tabla tienes los diferentes operadores:\n",
    "\n",
    "|Operador Python|Operación matemática|\n",
    "|:-------------:|:------------------:|\n",
    "|+              |Suma                |\n",
    "|-              |Resta               |\n",
    "|*              |Multiplicación      |\n",
    "|/              |División            |\n",
    "|**             |Potencia            |\n",
    "\n",
    "___\n",
    "**IMPORTANTE:** La jerquía de operaciones en Python es la misma que se sigue en matemátics, por esta razón, deberemos controlar el orden que queramos con el uso de pare\n",
    "\n",
    "***"
   ]
  }
 ],
 "metadata": {
  "kernelspec": {
   "display_name": "Python 3",
   "language": "python",
   "name": "python3"
  },
  "language_info": {
   "codemirror_mode": {
    "name": "ipython",
    "version": 3
   },
   "file_extension": ".py",
   "mimetype": "text/x-python",
   "name": "python",
   "nbconvert_exporter": "python",
   "pygments_lexer": "ipython3",
   "version": "3.8.3"
  }
 },
 "nbformat": 4,
 "nbformat_minor": 4
}
