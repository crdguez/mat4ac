{
 "cells": [
  {
   "cell_type": "code",
   "execution_count": 1,
   "metadata": {
    "colab": {
     "base_uri": "https://localhost:8080/"
    },
    "id": "9X_4fdzd0gZQ",
    "outputId": "f09c7d18-3796-4999-f526-518148122078"
   },
   "outputs": [
    {
     "name": "stdout",
     "output_type": "stream",
     "text": [
      "Collecting sympy==1.3\n",
      "\u001b[?25l  Downloading https://files.pythonhosted.org/packages/dd/f6/ed485ff22efdd7b371d0dbbf6d77ad61c3b3b7e0815a83c89cbb38ce35de/sympy-1.3.tar.gz (5.9MB)\n",
      "\u001b[K     |████████████████████████████████| 5.9MB 4.6MB/s \n",
      "\u001b[?25hCollecting antlr4-python3-runtime==4.7.1\n",
      "\u001b[?25l  Downloading https://files.pythonhosted.org/packages/3e/96/aba01b2948ec67f237cd387c022820835ae0d8db5cab4bd404b351660b5e/antlr4-python3-runtime-4.7.1.tar.gz (111kB)\n",
      "\u001b[K     |████████████████████████████████| 112kB 43.6MB/s \n",
      "\u001b[?25hRequirement already satisfied: mpmath>=0.19 in /usr/local/lib/python3.6/dist-packages (from sympy==1.3) (1.1.0)\n",
      "Building wheels for collected packages: sympy, antlr4-python3-runtime\n",
      "  Building wheel for sympy (setup.py) ... \u001b[?25l\u001b[?25hdone\n",
      "  Created wheel for sympy: filename=sympy-1.3-cp36-none-any.whl size=5199946 sha256=66ebc68cf0f74f204e9f1e693d1dda3101246956c7ef4bcbfb9d516abfa36941\n",
      "  Stored in directory: /root/.cache/pip/wheels/6c/59/86/478e3c0f298368c119095cc5985dedac57c0e35a85c737f823\n",
      "  Building wheel for antlr4-python3-runtime (setup.py) ... \u001b[?25l\u001b[?25hdone\n",
      "  Created wheel for antlr4-python3-runtime: filename=antlr4_python3_runtime-4.7.1-cp36-none-any.whl size=140551 sha256=c55abbb03aed18d3ddc2f7fa9c42283dc7d8d2aad3a4d4f76c9d4366c144eacc\n",
      "  Stored in directory: /root/.cache/pip/wheels/ef/f6/18/ad300e691236a3408a99edc750484b56e8d6b11b2c38eacb10\n",
      "Successfully built sympy antlr4-python3-runtime\n",
      "Installing collected packages: sympy, antlr4-python3-runtime\n",
      "  Found existing installation: sympy 1.1.1\n",
      "    Uninstalling sympy-1.1.1:\n",
      "      Successfully uninstalled sympy-1.1.1\n",
      "Successfully installed antlr4-python3-runtime-4.7.1 sympy-1.3\n"
     ]
    }
   ],
   "source": [
    "# Ejecutar para que funcione el parse_latex en google colab\n",
    " \n",
    "!pip install sympy==1.3 antlr4-python3-runtime==4.7.1"
   ]
  },
  {
   "cell_type": "code",
   "execution_count": 28,
   "metadata": {
    "colab": {
     "base_uri": "https://localhost:8080/"
    },
    "id": "xYDbOmkG0YbJ",
    "outputId": "c02d04ff-6b0a-442a-cce2-fe7eb1083011"
   },
   "outputs": [
    {
     "name": "stdout",
     "output_type": "stream",
     "text": [
      "IPython console for SymPy 1.6.2 (Python 3.6.12-64-bit) (ground types: gmpy)\n",
      "\n",
      "These commands were executed:\n",
      ">>> from __future__ import division\n",
      ">>> from sympy import *\n",
      ">>> x, y, z, t = symbols('x y z t')\n",
      ">>> k, m, n = symbols('k m n', integer=True)\n",
      ">>> f, g, h = symbols('f g h', cls=Function)\n",
      ">>> init_printing()\n",
      "\n",
      "Documentation can be found at https://docs.sympy.org/1.6.2/\n",
      "\n"
     ]
    }
   ],
   "source": [
    "from sympy.parsing.latex import parse_latex\n",
    "from IPython.display import Markdown as md\n",
    "from IPython.display import display\n",
    "from sympy import init_session\n",
    "import numpy as np\n",
    " \n",
    "init_session()\n",
    " \n",
    "a, b, c, d = symbols('a b c d', real = True)"
   ]
  },
  {
   "cell_type": "code",
   "execution_count": 29,
   "metadata": {
    "id": "vPXI53QN0Ycw"
   },
   "outputs": [],
   "source": [
    "def mostrar_ejercicio(ejercicio,solucion,tipo=0) :\n",
    "    #tipo=0 se pasa el ejercicio y la solucion en formato latex\n",
    "    if tipo == 0 :\n",
    "        display(md(\"#### Ejercicio:\"))\n",
    "        display(md(r\"{} $\\to$ {}\".format(ejercicio, solucion)))\n",
    "        print(\"enunciado_latex: \" + ejercicio)\n",
    "        print(\"solucion_latex: \" + solucion)\n",
    "        return ejercicio, solucion\n",
    "    elif tipo == 1:\n",
    "        # falta desarrollar ...\n",
    "        display(md(\"#### Ejercicio:\"))\n",
    "        display(md(r\"{} $\\to$ {}\".format(ejercicio, solucion)))\n",
    "        print(\"enunciado_latex: \" + ejercicio)\n",
    "        print(\"solucion_latex: \" + solucion)\n",
    "        return ejercicio, solucion\n",
    "\n",
    "        \n",
    "    "
   ]
  },
  {
   "cell_type": "code",
   "execution_count": 30,
   "metadata": {
    "id": "1Vrb-eOWjMX8"
   },
   "outputs": [],
   "source": [
    "def manipular_ec_irracional(ec) :\n",
    "    # Aisla el primer argumento del miembro de la izquierda y eleva todo al cuadrado. Devuelve el latex con las transformaciones y la ecuacion simplificada a resolver\n",
    "    transformaciones = [#ec,\n",
    "                        Eq(ec.args[0].args[0],ec.args[1]-(ec.args[0]-ec.args[0].args[0])), \n",
    "                        Eq(ec.args[0].args[0]**2,(ec.args[1]-(ec.args[0]-ec.args[0].args[0]))**2), \n",
    "                        Eq(expand(ec.args[0].args[0]**2-(ec.args[1]-(ec.args[0]-ec.args[0].args[0]))**2),0)]\n",
    "\n",
    "    return r\" \\to \".join(map(latex,transformaciones)), transformaciones[-1]"
   ]
  },
  {
   "cell_type": "code",
   "execution_count": 31,
   "metadata": {
    "colab": {
     "base_uri": "https://localhost:8080/",
     "height": 305
    },
    "id": "6aSd_z-t0YdR",
    "outputId": "c59ec036-ce9a-49d4-980f-d0a2eab1079b"
   },
   "outputs": [
    {
     "data": {
      "text/markdown": [
       "## Teorema del resto:"
      ],
      "text/plain": [
       "<IPython.core.display.Markdown object>"
      ]
     },
     "metadata": {},
     "output_type": "display_data"
    },
    {
     "data": {
      "text/markdown": [
       "#### Ejercicio:"
      ],
      "text/plain": [
       "<IPython.core.display.Markdown object>"
      ]
     },
     "metadata": {},
     "output_type": "display_data"
    },
    {
     "data": {
      "text/markdown": [
       "Utilizando el teorema del resto para el polinomio $P (x) =- 2 x^{3} + x^{2} - 3 x - 6$ resuelve: \\\\ \n",
       "    Valor numérico para $x = -1$ \\\\ \n",
       "    ¿Es divisible P (x) por $x + 1$? \n",
       "    Justifica tu respuesta $\\to$ Si dividimos $P(x)=- 2 x^{3} + x^{2} - 3 x - 6$ entre $x + 1$ el resto da 0. \\\\ Por el teorema del resto, $P(-1)=0$. \\\\ Aplicando la propiedad fundamental de la división obtenemos que $P(x)=- 2 x^{3} + x^{2} - 3 x - 6=\\left(x + 1\\right)\\cdot\\left(- 2 x^{2} + 3 x - 6\\right)+0 \\to $ Sí es divisible."
      ],
      "text/plain": [
       "<IPython.core.display.Markdown object>"
      ]
     },
     "metadata": {},
     "output_type": "display_data"
    },
    {
     "name": "stdout",
     "output_type": "stream",
     "text": [
      "enunciado_latex: Utilizando el teorema del resto para el polinomio $P (x) =- 2 x^{3} + x^{2} - 3 x - 6$ resuelve: \\\\ \n",
      "    Valor numérico para $x = -1$ \\\\ \n",
      "    ¿Es divisible P (x) por $x + 1$? \n",
      "    Justifica tu respuesta\n",
      "solucion_latex: Si dividimos $P(x)=- 2 x^{3} + x^{2} - 3 x - 6$ entre $x + 1$ el resto da 0. \\\\ Por el teorema del resto, $P(-1)=0$. \\\\ Aplicando la propiedad fundamental de la división obtenemos que $P(x)=- 2 x^{3} + x^{2} - 3 x - 6=\\left(x + 1\\right)\\cdot\\left(- 2 x^{2} + 3 x - 6\\right)+0 \\to $ Sí es divisible.\n"
     ]
    }
   ],
   "source": [
    "# Teorema del resto\n",
    "\n",
    "ejercicios=[\n",
    "            # cociente, x-a, resto, el dividendo (polinomio del enunciado) lo calcula la celda\n",
    "            [-2*x**2+3*x-6,-1,0]\n",
    "           ]\n",
    "\n",
    "display(md(\"## Teorema del resto:\"))\n",
    "\n",
    "for e in ejercicios :\n",
    "    polinomio = expand(e[0]*S(\"x-\"+str(e[1]))+e[2]) # propiedad fundamental de la división\n",
    "    enunciado_latex = r\"\"\"Utilizando el teorema del resto para el polinomio $P (x) ={}$ resuelve: \\\\ \n",
    "    Valor numérico para $x = {}$ \\\\ \n",
    "    ¿Es divisible P (x) por ${}$? \n",
    "    Justifica tu respuesta\"\"\".format(latex(polinomio),e[1],S(\"x-\"+latex(e[1])))\n",
    "\n",
    "    solucion_latex = r\"Si dividimos $P(x)={}$ entre ${}$ \".format(latex(polinomio),S(r\"x-\"+str(e[1])))+r\"el resto da \"+latex(e[2])\n",
    "    solucion_latex += r\". \\\\ Por el teorema del resto, $P({})={}$\".format(e[1], polinomio.subs(x,e[1]))\n",
    "    solucion_latex += r\". \\\\ Aplicando la propiedad fundamental de la división obtenemos que $P(x)={}=\\left({}\\right)\\cdot\\left({}\\right)+{} \\to $ \".format(latex(polinomio), latex(S(r\"x-\"+str(e[1]))), latex(e[0]), latex(e[2]))\n",
    "    solucion_latex += \"Sí es divisible.\" if e[2]==0 else \"No es divisible,\"\n",
    "    #print(enunciado_latex)\n",
    "\n",
    "    mostrar_ejercicio(enunciado_latex, solucion_latex)  \n"
   ]
  },
  {
   "cell_type": "code",
   "execution_count": 32,
   "metadata": {
    "colab": {
     "base_uri": "https://localhost:8080/",
     "height": 831
    },
    "id": "cQtW0akV0YfG",
    "outputId": "6473eaf9-6c3e-43fb-b30b-6011362bab9d"
   },
   "outputs": [
    {
     "data": {
      "text/markdown": [
       "## Simplifica la siguiente fracción algebraica:"
      ],
      "text/plain": [
       "<IPython.core.display.Markdown object>"
      ]
     },
     "metadata": {},
     "output_type": "display_data"
    },
    {
     "data": {
      "text/markdown": [
       "#### Ejercicio:"
      ],
      "text/plain": [
       "<IPython.core.display.Markdown object>"
      ]
     },
     "metadata": {},
     "output_type": "display_data"
    },
    {
     "data": {
      "text/markdown": [
       "$\\frac{2 x^{3} - 5 x^{2} + 3 x}{x^{3} - x^{2}}$ $\\to$ $\\frac{2 x^{3} - 5 x^{2} + 3 x}{x^{3} - x^{2}}=\\frac{x \\left(x - 1\\right) \\left(2 x - 3\\right)}{x^{2} \\left(x - 1\\right)}=\\frac{2 x - 3}{x}$"
      ],
      "text/plain": [
       "<IPython.core.display.Markdown object>"
      ]
     },
     "metadata": {},
     "output_type": "display_data"
    },
    {
     "name": "stdout",
     "output_type": "stream",
     "text": [
      "enunciado_latex: $\\frac{2 x^{3} - 5 x^{2} + 3 x}{x^{3} - x^{2}}$\n",
      "solucion_latex: $\\frac{2 x^{3} - 5 x^{2} + 3 x}{x^{3} - x^{2}}=\\frac{x \\left(x - 1\\right) \\left(2 x - 3\\right)}{x^{2} \\left(x - 1\\right)}=\\frac{2 x - 3}{x}$\n"
     ]
    },
    {
     "data": {
      "text/markdown": [
       "#### Ejercicio:"
      ],
      "text/plain": [
       "<IPython.core.display.Markdown object>"
      ]
     },
     "metadata": {},
     "output_type": "display_data"
    },
    {
     "data": {
      "text/markdown": [
       "$\\frac{2 x^{3} - 5 x^{2} + 3 x}{2 x^{2} + x - 6}$ $\\to$ $\\frac{2 x^{3} - 5 x^{2} + 3 x}{2 x^{2} + x - 6}=\\frac{x \\left(x - 1\\right) \\left(2 x - 3\\right)}{\\left(x + 2\\right) \\left(2 x - 3\\right)}=\\frac{x^{2} - x}{x + 2}$"
      ],
      "text/plain": [
       "<IPython.core.display.Markdown object>"
      ]
     },
     "metadata": {},
     "output_type": "display_data"
    },
    {
     "name": "stdout",
     "output_type": "stream",
     "text": [
      "enunciado_latex: $\\frac{2 x^{3} - 5 x^{2} + 3 x}{2 x^{2} + x - 6}$\n",
      "solucion_latex: $\\frac{2 x^{3} - 5 x^{2} + 3 x}{2 x^{2} + x - 6}=\\frac{x \\left(x - 1\\right) \\left(2 x - 3\\right)}{\\left(x + 2\\right) \\left(2 x - 3\\right)}=\\frac{x^{2} - x}{x + 2}$\n"
     ]
    },
    {
     "data": {
      "text/markdown": [
       "#### Ejercicio:"
      ],
      "text/plain": [
       "<IPython.core.display.Markdown object>"
      ]
     },
     "metadata": {},
     "output_type": "display_data"
    },
    {
     "data": {
      "text/markdown": [
       "$\\frac{2 x^{4} - 6 x^{3} + 6 x^{2} - 2 x}{6 x^{3} - 12 x^{2} + 6 x}$ $\\to$ $\\frac{2 x^{4} - 6 x^{3} + 6 x^{2} - 2 x}{6 x^{3} - 12 x^{2} + 6 x}=\\frac{2 x \\left(x - 1\\right)^{3}}{6 x \\left(x - 1\\right)^{2}}=\\frac{x}{3} - \\frac{1}{3}$"
      ],
      "text/plain": [
       "<IPython.core.display.Markdown object>"
      ]
     },
     "metadata": {},
     "output_type": "display_data"
    },
    {
     "name": "stdout",
     "output_type": "stream",
     "text": [
      "enunciado_latex: $\\frac{2 x^{4} - 6 x^{3} + 6 x^{2} - 2 x}{6 x^{3} - 12 x^{2} + 6 x}$\n",
      "solucion_latex: $\\frac{2 x^{4} - 6 x^{3} + 6 x^{2} - 2 x}{6 x^{3} - 12 x^{2} + 6 x}=\\frac{2 x \\left(x - 1\\right)^{3}}{6 x \\left(x - 1\\right)^{2}}=\\frac{x}{3} - \\frac{1}{3}$\n"
     ]
    },
    {
     "data": {
      "text/markdown": [
       "#### Ejercicio:"
      ],
      "text/plain": [
       "<IPython.core.display.Markdown object>"
      ]
     },
     "metadata": {},
     "output_type": "display_data"
    },
    {
     "data": {
      "text/markdown": [
       "$\\frac{2 x^{4} - 12 x^{3} + 24 x^{2} - 16 x}{6 x^{4} - 36 x^{3} + 72 x^{2} - 48 x}$ $\\to$ $\\frac{2 x^{4} - 12 x^{3} + 24 x^{2} - 16 x}{6 x^{4} - 36 x^{3} + 72 x^{2} - 48 x}=\\frac{2 x \\left(x - 2\\right)^{3}}{6 x \\left(x - 2\\right)^{3}}=\\frac{1}{3}$"
      ],
      "text/plain": [
       "<IPython.core.display.Markdown object>"
      ]
     },
     "metadata": {},
     "output_type": "display_data"
    },
    {
     "name": "stdout",
     "output_type": "stream",
     "text": [
      "enunciado_latex: $\\frac{2 x^{4} - 12 x^{3} + 24 x^{2} - 16 x}{6 x^{4} - 36 x^{3} + 72 x^{2} - 48 x}$\n",
      "solucion_latex: $\\frac{2 x^{4} - 12 x^{3} + 24 x^{2} - 16 x}{6 x^{4} - 36 x^{3} + 72 x^{2} - 48 x}=\\frac{2 x \\left(x - 2\\right)^{3}}{6 x \\left(x - 2\\right)^{3}}=\\frac{1}{3}$\n"
     ]
    },
    {
     "data": {
      "text/markdown": [
       "#### Ejercicio:"
      ],
      "text/plain": [
       "<IPython.core.display.Markdown object>"
      ]
     },
     "metadata": {},
     "output_type": "display_data"
    },
    {
     "data": {
      "text/markdown": [
       "$\\frac{2 x^{3} - x^{2} - 6 x}{x^{3} - 2 x^{2}}$ $\\to$ $\\frac{2 x^{3} - x^{2} - 6 x}{x^{3} - 2 x^{2}}=\\frac{x \\left(x - 2\\right) \\left(2 x + 3\\right)}{x^{2} \\left(x - 2\\right)}=\\frac{2 x + 3}{x}$"
      ],
      "text/plain": [
       "<IPython.core.display.Markdown object>"
      ]
     },
     "metadata": {},
     "output_type": "display_data"
    },
    {
     "name": "stdout",
     "output_type": "stream",
     "text": [
      "enunciado_latex: $\\frac{2 x^{3} - x^{2} - 6 x}{x^{3} - 2 x^{2}}$\n",
      "solucion_latex: $\\frac{2 x^{3} - x^{2} - 6 x}{x^{3} - 2 x^{2}}=\\frac{x \\left(x - 2\\right) \\left(2 x + 3\\right)}{x^{2} \\left(x - 2\\right)}=\\frac{2 x + 3}{x}$\n"
     ]
    },
    {
     "data": {
      "text/plain": [
       "[('$\\\\frac{2 x^{3} - 5 x^{2} + 3 x}{x^{3} - x^{2}}$',\n",
       "  '$\\\\frac{2 x^{3} - 5 x^{2} + 3 x}{x^{3} - x^{2}}=\\\\frac{x \\\\left(x - 1\\\\right) \\\\left(2 x - 3\\\\right)}{x^{2} \\\\left(x - 1\\\\right)}=\\\\frac{2 x - 3}{x}$'),\n",
       " ('$\\\\frac{2 x^{3} - 5 x^{2} + 3 x}{2 x^{2} + x - 6}$',\n",
       "  '$\\\\frac{2 x^{3} - 5 x^{2} + 3 x}{2 x^{2} + x - 6}=\\\\frac{x \\\\left(x - 1\\\\right) \\\\left(2 x - 3\\\\right)}{\\\\left(x + 2\\\\right) \\\\left(2 x - 3\\\\right)}=\\\\frac{x^{2} - x}{x + 2}$'),\n",
       " ('$\\\\frac{2 x^{4} - 6 x^{3} + 6 x^{2} - 2 x}{6 x^{3} - 12 x^{2} + 6 x}$',\n",
       "  '$\\\\frac{2 x^{4} - 6 x^{3} + 6 x^{2} - 2 x}{6 x^{3} - 12 x^{2} + 6 x}=\\\\frac{2 x \\\\left(x - 1\\\\right)^{3}}{6 x \\\\left(x - 1\\\\right)^{2}}=\\\\frac{x}{3} - \\\\frac{1}{3}$'),\n",
       " ('$\\\\frac{2 x^{4} - 12 x^{3} + 24 x^{2} - 16 x}{6 x^{4} - 36 x^{3} + 72 x^{2} - 48 x}$',\n",
       "  '$\\\\frac{2 x^{4} - 12 x^{3} + 24 x^{2} - 16 x}{6 x^{4} - 36 x^{3} + 72 x^{2} - 48 x}=\\\\frac{2 x \\\\left(x - 2\\\\right)^{3}}{6 x \\\\left(x - 2\\\\right)^{3}}=\\\\frac{1}{3}$'),\n",
       " ('$\\\\frac{2 x^{3} - x^{2} - 6 x}{x^{3} - 2 x^{2}}$',\n",
       "  '$\\\\frac{2 x^{3} - x^{2} - 6 x}{x^{3} - 2 x^{2}}=\\\\frac{x \\\\left(x - 2\\\\right) \\\\left(2 x + 3\\\\right)}{x^{2} \\\\left(x - 2\\\\right)}=\\\\frac{2 x + 3}{x}$')]"
      ]
     },
     "execution_count": 32,
     "metadata": {},
     "output_type": "execute_result"
    }
   ],
   "source": [
    "# Simplificar fracciones algebraicas\n",
    "\n",
    "# ejercicios en lates\n",
    "# ejercicios=[\n",
    "#             r'\\frac{2x^3-5x^2+3x}{2x^2+x-6}',\n",
    "\n",
    "#            ]\n",
    "\n",
    "# ejercicios en numerador y denominador en factores. La celda obtiene la fracción del enunciado\n",
    "\n",
    "enunciados=[[x*(x-1)*(2*x-3),x**2*(x-1)],\n",
    "            [x*(x - 1)*(2*x - 3),(x + 2)*(2*x - 3)],\n",
    "            [2*x*(x-1)**3,6*x*(x-1)**2],\n",
    "            \n",
    "            [2*x*(x-2)**3,6*x*(x-2)**3],\n",
    "            [x*(x-2)*(2*x+3),x**2*(x-2)],\n",
    "           ]\n",
    "\n",
    "ejercicios =[r\"\\frac{{{}}}{{{}}}\".format(latex(expand(i[0])),latex(expand(i[1]))) for i in enunciados] \n",
    "\n",
    "display(md(\"## Simplifica la siguiente fracción algebraica:\"))\n",
    "\n",
    "[mostrar_ejercicio(\"$\"+e+\"$\", \n",
    "                   \"$\"+e+r\"=\\frac{{{}}}{{{}}}=\".format(latex(factor(parse_latex(e).as_numer_denom()[0])),latex(factor(parse_latex(e).as_numer_denom()[1])))+latex(cancel(parse_latex(e)))+\"$\") \n",
    "for e in ejercicios]    \n",
    "\n",
    "\n",
    "\n",
    "#[mostrar_ejercicio(e, latex(S(parse_latex(r\"\\frac{\"+latex(factorint(simplify(parse_latex(e)).as_numer_denom()[0] , visual=True))+r\"}{\" +latex(factorint(simplify(parse_latex(e)).as_numer_denom()[1], visual=True))+\"}\"), evaluate=False))) for e in ejercicios]    \n",
    "\n",
    "\n"
   ]
  },
  {
   "cell_type": "code",
   "execution_count": 33,
   "metadata": {
    "colab": {
     "base_uri": "https://localhost:8080/",
     "height": 38
    },
    "id": "JvzpWHP9jMX9",
    "outputId": "0009f89b-bd2c-449d-f73a-ff668e06e575",
    "scrolled": true
   },
   "outputs": [
    {
     "data": {
      "image/png": "[encoded data removed]",
      "text/latex": [
       "$\\displaystyle \\left( \\left[ - \\frac{1}{3}, \\  \\frac{1}{3}, \\  1, \\  3\\right], \\  9 x^{4} - 36 x^{3} + 26 x^{2} + 4 x - 3, \\  \\left(x - 3\\right) \\left(x - 1\\right) \\left(3 x - 1\\right) \\left(3 x + 1\\right)\\right)$"
      ],
      "text/plain": [
       "⎛                      4       3       2                                      \n",
       "⎝[-1/3, 1/3, 1, 3], 9⋅x  - 36⋅x  + 26⋅x  + 4⋅x - 3, (x - 3)⋅(x - 1)⋅(3⋅x - 1)⋅\n",
       "\n",
       "         ⎞\n",
       "(3⋅x + 1)⎠"
      ]
     },
     "execution_count": 33,
     "metadata": {},
     "output_type": "execute_result"
    }
   ],
   "source": [
    "import numpy as np\n",
    "\n",
    "factor(9*x**4-36*x**3+26*x**2+4*x-3)\n",
    "roots(9*x**4-36*x**3+26*x**2+4*x-3, multiple=True)\n",
    "#roots?\n",
    "\n",
    "\n",
    "ej = 9*x**4-36*x**3+26*x**2+4*x-3\n",
    "raices = roots(ej, multiple=True)\n",
    "\n",
    "pol=1\n",
    "for i in raices :\n",
    "    pol *= (x-i) \n",
    "    \n",
    "raices, expand(np.prod([r.as_numer_denom()[1] for r in raices])*pol), factor(np.prod([r.as_numer_denom()[1] for r in raices])*pol)"
   ]
  },
  {
   "cell_type": "code",
   "execution_count": 34,
   "metadata": {
    "id": "TNoahVDTjMX-"
   },
   "outputs": [],
   "source": [
    "def lista_raices() :\n",
    "# Obtiene al azar una lista de raíces con como mucho dos raíces racionales\n",
    "    # número de raices enteras\n",
    "    n_fac1=np.random.randint(2,4)\n",
    "    # Selección de raíces con como mucho dos raíces racionales\n",
    "    raices=np.concatenate((np.random.randint(7,size=n_fac1),(np.random.randint(1,3,size=2)/np.random.randint(2,5,size=2)))) if np.random.randint(2)==1 else np.random.randint(7,size=n_fac1)\n",
    "    return raices\n",
    "\n",
    "\n",
    "def raices_a_polinomio(raices) :\n",
    "    # De una lista de raices obtenemos el polinomio de coeficientes enteros\n",
    "    pol=1\n",
    "    for i in raices :\n",
    "        pol *= (x-nsimplify(i)) \n",
    "    expand(np.prod([nsimplify(r).as_numer_denom()[1] for r in raices])*pol), factor(np.prod([nsimplify(r).as_numer_denom()[1] for r in raices])*pol)\n",
    "    return(expand(factor(np.prod([nsimplify(r).as_numer_denom()[1] for r in raices])*pol)))"
   ]
  },
  {
   "cell_type": "code",
   "execution_count": 35,
   "metadata": {
    "colab": {
     "base_uri": "https://localhost:8080/",
     "height": 524
    },
    "id": "aH86JXm1jMX_",
    "outputId": "fd318bad-9076-450a-bd7d-c11fa46797f5"
   },
   "outputs": [
    {
     "data": {
      "text/markdown": [
       "## Factoriza los siguientes polinomios:"
      ],
      "text/plain": [
       "<IPython.core.display.Markdown object>"
      ]
     },
     "metadata": {},
     "output_type": "display_data"
    },
    {
     "data": {
      "text/markdown": [
       "#### Ejercicio:"
      ],
      "text/plain": [
       "<IPython.core.display.Markdown object>"
      ]
     },
     "metadata": {},
     "output_type": "display_data"
    },
    {
     "data": {
      "text/markdown": [
       "$2 x^{4} - 9 x^{3} + 14 x^{2} - 9 x + 2$  $\\to$ $\\left(x - 2\\right) \\left(x - 1\\right)^{2} \\left(2 x - 1\\right)$"
      ],
      "text/plain": [
       "<IPython.core.display.Markdown object>"
      ]
     },
     "metadata": {},
     "output_type": "display_data"
    },
    {
     "name": "stdout",
     "output_type": "stream",
     "text": [
      "enunciado_latex: $2 x^{4} - 9 x^{3} + 14 x^{2} - 9 x + 2$ \n",
      "solucion_latex: $\\left(x - 2\\right) \\left(x - 1\\right)^{2} \\left(2 x - 1\\right)$\n"
     ]
    },
    {
     "data": {
      "text/markdown": [
       "#### Ejercicio:"
      ],
      "text/plain": [
       "<IPython.core.display.Markdown object>"
      ]
     },
     "metadata": {},
     "output_type": "display_data"
    },
    {
     "data": {
      "text/markdown": [
       "$8 x^{5} - 134 x^{4} + 777 x^{3} - 1726 x^{2} + 985 x - 150$  $\\to$ $\\left(x - 6\\right) \\left(x - 5\\right)^{2} \\left(2 x - 1\\right) \\left(4 x - 1\\right)$"
      ],
      "text/plain": [
       "<IPython.core.display.Markdown object>"
      ]
     },
     "metadata": {},
     "output_type": "display_data"
    },
    {
     "name": "stdout",
     "output_type": "stream",
     "text": [
      "enunciado_latex: $8 x^{5} - 134 x^{4} + 777 x^{3} - 1726 x^{2} + 985 x - 150$ \n",
      "solucion_latex: $\\left(x - 6\\right) \\left(x - 5\\right)^{2} \\left(2 x - 1\\right) \\left(4 x - 1\\right)$\n"
     ]
    },
    {
     "data": {
      "text/markdown": [
       "#### Ejercicio:"
      ],
      "text/plain": [
       "<IPython.core.display.Markdown object>"
      ]
     },
     "metadata": {},
     "output_type": "display_data"
    },
    {
     "data": {
      "text/markdown": [
       "$3 x^{4} - 14 x^{3} + 23 x^{2} - 16 x + 4$  $\\to$ $\\left(x - 2\\right) \\left(x - 1\\right)^{2} \\left(3 x - 2\\right)$"
      ],
      "text/plain": [
       "<IPython.core.display.Markdown object>"
      ]
     },
     "metadata": {},
     "output_type": "display_data"
    },
    {
     "name": "stdout",
     "output_type": "stream",
     "text": [
      "enunciado_latex: $3 x^{4} - 14 x^{3} + 23 x^{2} - 16 x + 4$ \n",
      "solucion_latex: $\\left(x - 2\\right) \\left(x - 1\\right)^{2} \\left(3 x - 2\\right)$\n"
     ]
    },
    {
     "data": {
      "text/markdown": [
       "#### Ejercicio:"
      ],
      "text/plain": [
       "<IPython.core.display.Markdown object>"
      ]
     },
     "metadata": {},
     "output_type": "display_data"
    },
    {
     "data": {
      "text/markdown": [
       "$x^{2}$  $\\to$ $x^{2}$"
      ],
      "text/plain": [
       "<IPython.core.display.Markdown object>"
      ]
     },
     "metadata": {},
     "output_type": "display_data"
    },
    {
     "name": "stdout",
     "output_type": "stream",
     "text": [
      "enunciado_latex: $x^{2}$ \n",
      "solucion_latex: $x^{2}$\n",
      "\\part $2 x^{4} - 9 x^{3} + 14 x^{2} - 9 x + 2$  \\begin{solution}$\\left(x - 2\\right) \\left(x - 1\\right)^{2} \\left(2 x - 1\\right)$\\end{solution}  \\part $8 x^{5} - 134 x^{4} + 777 x^{3} - 1726 x^{2} + 985 x - 150$  \\begin{solution}$\\left(x - 6\\right) \\left(x - 5\\right)^{2} \\left(2 x - 1\\right) \\left(4 x - 1\\right)$\\end{solution}  \\part $3 x^{4} - 14 x^{3} + 23 x^{2} - 16 x + 4$  \\begin{solution}$\\left(x - 2\\right) \\left(x - 1\\right)^{2} \\left(3 x - 2\\right)$\\end{solution}  \\part $x^{2}$  \\begin{solution}$x^{2}$\\end{solution}  \n"
     ]
    }
   ],
   "source": [
    "# Factoriza los siguientes polinomios:\n",
    "\n",
    "# Número de polinomios\n",
    "\n",
    "n=4\n",
    "\n",
    "ejercicios = [\n",
    "              raices_a_polinomio(lista_raices()) for i in range(n)\n",
    "            ]\n",
    "\n",
    "display(md(\"## Factoriza los siguientes polinomios:\"))\n",
    "\n",
    "#[mostrar_ejercicio(r\"${}$ \".format(latex(e)), \n",
    "#                   r\"${}$\".format(latex(factor(e)))\n",
    "#                  )\n",
    "#for e in ejercicios]\n",
    "\n",
    "texto_latex = \"\"\n",
    "\n",
    "for e in ejercicios:\n",
    "    enunciado, solucion = mostrar_ejercicio(r\"${}$ \".format(latex(e)), \n",
    "                   r\"${}$\".format(latex(factor(e)))) \n",
    "    texto_latex += r\"\\part \" + enunciado + r\" \\begin{solution}\" + solucion + r\"\\end{solution}  \" \n",
    "         \n",
    "        \n",
    "print(texto_latex)        \n"
   ]
  },
  {
   "cell_type": "code",
   "execution_count": 36,
   "metadata": {
    "colab": {
     "base_uri": "https://localhost:8080/",
     "height": 38
    },
    "id": "wBP92qptjMYC",
    "outputId": "83137722-c06f-4ce9-88af-ee714538c6cf"
   },
   "outputs": [
    {
     "data": {
      "image/png": "[encoded data removed]",
      "text/latex": [
       "$\\displaystyle x \\left(x - 4\\right) \\left(x - 3\\right) \\left(x - 1\\right) \\left(3 x - 2\\right) \\left(3 x - 1\\right) \\left(3 x + 1\\right)$"
      ],
      "text/plain": [
       "x⋅(x - 4)⋅(x - 3)⋅(x - 1)⋅(3⋅x - 2)⋅(3⋅x - 1)⋅(3⋅x + 1)"
      ]
     },
     "execution_count": 36,
     "metadata": {},
     "output_type": "execute_result"
    }
   ],
   "source": [
    "factor(raices_a_polinomio([-1/3,1/3,1,3,4,2/3,0]))"
   ]
  },
  {
   "cell_type": "code",
   "execution_count": 37,
   "metadata": {
    "colab": {
     "base_uri": "https://localhost:8080/"
    },
    "id": "PaS8VMo_jMYD",
    "outputId": "a03f8993-26fc-4c54-8d39-61a229665de2"
   },
   "outputs": [
    {
     "name": "stdout",
     "output_type": "stream",
     "text": [
      "[x*(x - 1)*(2*x - 3), (x + 2)*(2*x - 3)]\n"
     ]
    },
    {
     "data": {
      "text/plain": [
       "[None]"
      ]
     },
     "execution_count": 37,
     "metadata": {},
     "output_type": "execute_result"
    }
   ],
   "source": [
    "ejercicios=[r'\\frac{2x^3-5x^2+3x}{2x^2+x-6}']\n",
    "\n",
    "[print([factor(parse_latex(e).as_numer_denom()[0]),factor(parse_latex(e).as_numer_denom()[1])]) for e in ejercicios]\n",
    "\n",
    "\n"
   ]
  },
  {
   "cell_type": "code",
   "execution_count": 38,
   "metadata": {
    "colab": {
     "base_uri": "https://localhost:8080/",
     "height": 489
    },
    "id": "BwQe3ngbjMYE",
    "outputId": "be53952b-128b-4d60-ebe8-ee8d7fa7fee4"
   },
   "outputs": [
    {
     "data": {
      "text/markdown": [
       "## Halla el valor de k para que la siguiente división sea exacta:"
      ],
      "text/plain": [
       "<IPython.core.display.Markdown object>"
      ]
     },
     "metadata": {},
     "output_type": "display_data"
    },
    {
     "data": {
      "text/markdown": [
       "#### Ejercicio:"
      ],
      "text/plain": [
       "<IPython.core.display.Markdown object>"
      ]
     },
     "metadata": {},
     "output_type": "display_data"
    },
    {
     "data": {
      "text/markdown": [
       "$\\left( 3x^2+kx-2 \\right): \\left(x + 2\\right)$  $\\to$ $10 - 2 k=0 \\to k = 5 $"
      ],
      "text/plain": [
       "<IPython.core.display.Markdown object>"
      ]
     },
     "metadata": {},
     "output_type": "display_data"
    },
    {
     "name": "stdout",
     "output_type": "stream",
     "text": [
      "enunciado_latex: $\\left( 3x^2+kx-2 \\right): \\left(x + 2\\right)$ \n",
      "solucion_latex: $10 - 2 k=0 \\to k = 5 $\n"
     ]
    },
    {
     "data": {
      "text/markdown": [
       "#### Ejercicio:"
      ],
      "text/plain": [
       "<IPython.core.display.Markdown object>"
      ]
     },
     "metadata": {},
     "output_type": "display_data"
    },
    {
     "data": {
      "text/markdown": [
       "$\\left( 3x^2+kx-15 \\right): \\left(x - 3\\right)$  $\\to$ $3 k + 12=0 \\to k = -4 $"
      ],
      "text/plain": [
       "<IPython.core.display.Markdown object>"
      ]
     },
     "metadata": {},
     "output_type": "display_data"
    },
    {
     "name": "stdout",
     "output_type": "stream",
     "text": [
      "enunciado_latex: $\\left( 3x^2+kx-15 \\right): \\left(x - 3\\right)$ \n",
      "solucion_latex: $3 k + 12=0 \\to k = -4 $\n"
     ]
    },
    {
     "data": {
      "text/markdown": [
       "#### Ejercicio:"
      ],
      "text/plain": [
       "<IPython.core.display.Markdown object>"
      ]
     },
     "metadata": {},
     "output_type": "display_data"
    },
    {
     "data": {
      "text/markdown": [
       "$\\left( k x^{3} - 6 x^{2} + 7 x - 14 \\right): \\left(x - 2\\right)$  $\\to$ $8 k - 24=0 \\to k = 3 $"
      ],
      "text/plain": [
       "<IPython.core.display.Markdown object>"
      ]
     },
     "metadata": {},
     "output_type": "display_data"
    },
    {
     "name": "stdout",
     "output_type": "stream",
     "text": [
      "enunciado_latex: $\\left( k x^{3} - 6 x^{2} + 7 x - 14 \\right): \\left(x - 2\\right)$ \n",
      "solucion_latex: $8 k - 24=0 \\to k = 3 $\n"
     ]
    },
    {
     "data": {
      "text/plain": [
       "[('$\\\\left( 3x^2+kx-2 \\\\right): \\\\left(x + 2\\\\right)$ ',\n",
       "  '$10 - 2 k=0 \\\\to k = 5 $'),\n",
       " ('$\\\\left( 3x^2+kx-15 \\\\right): \\\\left(x - 3\\\\right)$ ',\n",
       "  '$3 k + 12=0 \\\\to k = -4 $'),\n",
       " ('$\\\\left( k x^{3} - 6 x^{2} + 7 x - 14 \\\\right): \\\\left(x - 2\\\\right)$ ',\n",
       "  '$8 k - 24=0 \\\\to k = 3 $')]"
      ]
     },
     "execution_count": 38,
     "metadata": {},
     "output_type": "execute_result"
    }
   ],
   "source": [
    "# Halla el valor de \\emph{k} para que la siguiente división sea exacta:\n",
    "\n",
    "k = symbols('k')\n",
    "\n",
    "ejercicios = [[r'3x^2+kx-2',-2],\n",
    "              [r'3x^2+kx-15',3],\n",
    "              [r'k x^{3} - 6 x^{2} + 7 x - 14',2]\n",
    "            ]\n",
    "\n",
    "display(md(\"## Halla el valor de k para que la siguiente división sea exacta:\"))\n",
    "\n",
    "[mostrar_ejercicio(r\"$\\left( {} \\right): \\left({}\\right)$ \".format(e[0],latex(x-e[1])), \n",
    "                   r\"${}=0 \\to k = {} $\".format(latex(parse_latex(e[0]).subs(x,e[1])),solve(parse_latex(e[0]).subs(x,e[1]),k)[0])) \n",
    "for e in ejercicios]\n"
   ]
  },
  {
   "cell_type": "code",
   "execution_count": 39,
   "metadata": {
    "colab": {
     "base_uri": "https://localhost:8080/",
     "height": 36
    },
    "id": "HbORh43HDNCR",
    "outputId": "aba29e75-8e34-48b6-d03e-7372b06ef0c2"
   },
   "outputs": [
    {
     "data": {
      "text/plain": [
       "'3 x^{3} - 6 x^{2} + 7 x - 14'"
      ]
     },
     "execution_count": 39,
     "metadata": {},
     "output_type": "execute_result"
    }
   ],
   "source": [
    "latex(expand((x-2)*(3*x**2+7)))"
   ]
  },
  {
   "cell_type": "code",
   "execution_count": 40,
   "metadata": {
    "colab": {
     "base_uri": "https://localhost:8080/",
     "height": 203
    },
    "id": "JhTsXGCYjMYL",
    "outputId": "1058f4d3-bdf6-4aad-8beb-7438d288426b"
   },
   "outputs": [
    {
     "data": {
      "text/markdown": [
       "## Halla el valor de k para que la siguiente división tenga un resto determinado:"
      ],
      "text/plain": [
       "<IPython.core.display.Markdown object>"
      ]
     },
     "metadata": {},
     "output_type": "display_data"
    },
    {
     "data": {
      "text/markdown": [
       "#### Ejercicio:"
      ],
      "text/plain": [
       "<IPython.core.display.Markdown object>"
      ]
     },
     "metadata": {},
     "output_type": "display_data"
    },
    {
     "data": {
      "text/markdown": [
       "$\\left( 2x^3-12x+2k \\right): \\left(x - 3\\right)$  y resto -5 $\\to$ $2 k + 18=-5 \\to k = -23/2 $"
      ],
      "text/plain": [
       "<IPython.core.display.Markdown object>"
      ]
     },
     "metadata": {},
     "output_type": "display_data"
    },
    {
     "name": "stdout",
     "output_type": "stream",
     "text": [
      "enunciado_latex: $\\left( 2x^3-12x+2k \\right): \\left(x - 3\\right)$  y resto -5\n",
      "solucion_latex: $2 k + 18=-5 \\to k = -23/2 $\n"
     ]
    },
    {
     "data": {
      "text/plain": [
       "[('$\\\\left( 2x^3-12x+2k \\\\right): \\\\left(x - 3\\\\right)$  y resto -5',\n",
       "  '$2 k + 18=-5 \\\\to k = -23/2 $')]"
      ]
     },
     "execution_count": 40,
     "metadata": {},
     "output_type": "execute_result"
    }
   ],
   "source": [
    "# Halla el valor de \\emph{k} para que la siguiente división tenga un resto determinado:\n",
    "\n",
    "k = symbols('k')\n",
    "\n",
    "ejercicios = [[r'2x^3-12x+2k',3, -5],\n",
    "            ]\n",
    "\n",
    "display(md(\"## Halla el valor de k para que la siguiente división tenga un resto determinado:\"))\n",
    "\n",
    "[mostrar_ejercicio(r\"$\\left( {} \\right): \\left({}\\right)$  y resto {}\".format(e[0],latex(x-e[1]), latex(e[2])), \n",
    "                   #r\"\" \n",
    "                   r\"${}={} \\to k = {} $\".format(latex(parse_latex(e[0]).subs(x,e[1])),latex(e[2]),solve(parse_latex(e[0]).subs(x,e[1])-e[2],k)[0])\n",
    "                  ) \n",
    "for e in ejercicios]\n"
   ]
  },
  {
   "cell_type": "code",
   "execution_count": 41,
   "metadata": {
    "colab": {
     "base_uri": "https://localhost:8080/",
     "height": 348
    },
    "id": "R1Eu1asbjMYL",
    "outputId": "4f518b28-2af0-481b-cb7f-19abf0410c12"
   },
   "outputs": [
    {
     "data": {
      "text/markdown": [
       "## Resuelve las siguientes ecuaciones:"
      ],
      "text/plain": [
       "<IPython.core.display.Markdown object>"
      ]
     },
     "metadata": {},
     "output_type": "display_data"
    },
    {
     "data": {
      "text/markdown": [
       "#### Ejercicio:"
      ],
      "text/plain": [
       "<IPython.core.display.Markdown object>"
      ]
     },
     "metadata": {},
     "output_type": "display_data"
    },
    {
     "data": {
      "text/markdown": [
       "$2x^4-6x^3+6x^2-2x=0$  $\\to$ $2x^4-6x^3+6x^2-2x=0 \\to 2 x \\left(x - 1\\right)^{3} = 0 \\to x=0, x=1$"
      ],
      "text/plain": [
       "<IPython.core.display.Markdown object>"
      ]
     },
     "metadata": {},
     "output_type": "display_data"
    },
    {
     "name": "stdout",
     "output_type": "stream",
     "text": [
      "enunciado_latex: $2x^4-6x^3+6x^2-2x=0$ \n",
      "solucion_latex: $2x^4-6x^3+6x^2-2x=0 \\to 2 x \\left(x - 1\\right)^{3} = 0 \\to x=0, x=1$\n"
     ]
    },
    {
     "data": {
      "text/markdown": [
       "#### Ejercicio:"
      ],
      "text/plain": [
       "<IPython.core.display.Markdown object>"
      ]
     },
     "metadata": {},
     "output_type": "display_data"
    },
    {
     "data": {
      "text/markdown": [
       "$6x^3-12x^2+6x=0$  $\\to$ $6x^3-12x^2+6x=0 \\to 6 x \\left(x - 1\\right)^{2} = 0 \\to x=0, x=1$"
      ],
      "text/plain": [
       "<IPython.core.display.Markdown object>"
      ]
     },
     "metadata": {},
     "output_type": "display_data"
    },
    {
     "name": "stdout",
     "output_type": "stream",
     "text": [
      "enunciado_latex: $6x^3-12x^2+6x=0$ \n",
      "solucion_latex: $6x^3-12x^2+6x=0 \\to 6 x \\left(x - 1\\right)^{2} = 0 \\to x=0, x=1$\n"
     ]
    },
    {
     "data": {
      "text/plain": [
       "[('$2x^4-6x^3+6x^2-2x=0$ ',\n",
       "  '$2x^4-6x^3+6x^2-2x=0 \\\\to 2 x \\\\left(x - 1\\\\right)^{3} = 0 \\\\to x=0, x=1$'),\n",
       " ('$6x^3-12x^2+6x=0$ ',\n",
       "  '$6x^3-12x^2+6x=0 \\\\to 6 x \\\\left(x - 1\\\\right)^{2} = 0 \\\\to x=0, x=1$')]"
      ]
     },
     "execution_count": 41,
     "metadata": {},
     "output_type": "execute_result"
    }
   ],
   "source": [
    "# Resuelve las siguientes ecuaciones:\n",
    "\n",
    "ejercicios = [\n",
    "              r'2x^4-6x^3+6x^2-2x=0',\n",
    "              r'6x^3-12x^2+6x=0',\n",
    "            ]\n",
    "\n",
    "display(md(\"## Resuelve las siguientes ecuaciones:\"))\n",
    "\n",
    "[mostrar_ejercicio(r\"${}$ \".format(e), \n",
    "                   r\"${} \\to {} \\to x=\".format(e,latex(factor(parse_latex(e))))\n",
    "                   +r\", x=\".join(map(latex,solve(parse_latex(e))))+r\"$\"\n",
    "                  )\n",
    "for e in ejercicios]\n"
   ]
  },
  {
   "cell_type": "code",
   "execution_count": 42,
   "metadata": {
    "colab": {
     "base_uri": "https://localhost:8080/",
     "height": 1000
    },
    "id": "KGVcn0_LlnOG",
    "outputId": "3f9ba087-03dd-4878-f235-17f634ca7d24"
   },
   "outputs": [
    {
     "data": {
      "text/markdown": [
       "## Resuelve las siguientes ecuaciones:"
      ],
      "text/plain": [
       "<IPython.core.display.Markdown object>"
      ]
     },
     "metadata": {},
     "output_type": "display_data"
    },
    {
     "data": {
      "text/markdown": [
       "#### Ejercicio:"
      ],
      "text/plain": [
       "<IPython.core.display.Markdown object>"
      ]
     },
     "metadata": {},
     "output_type": "display_data"
    },
    {
     "data": {
      "text/markdown": [
       "$18 x^{4} + 3 x^{3} = 3 x^{2}$  $\\to$ $18 x^{4} + 3 x^{3} = 3 x^{2} \\to x=- \\frac{1}{2}, x=0, x=\\frac{1}{3}$"
      ],
      "text/plain": [
       "<IPython.core.display.Markdown object>"
      ]
     },
     "metadata": {},
     "output_type": "display_data"
    },
    {
     "name": "stdout",
     "output_type": "stream",
     "text": [
      "enunciado_latex: $18 x^{4} + 3 x^{3} = 3 x^{2}$ \n",
      "solucion_latex: $18 x^{4} + 3 x^{3} = 3 x^{2} \\to x=- \\frac{1}{2}, x=0, x=\\frac{1}{3}$\n"
     ]
    },
    {
     "data": {
      "text/markdown": [
       "#### Ejercicio:"
      ],
      "text/plain": [
       "<IPython.core.display.Markdown object>"
      ]
     },
     "metadata": {},
     "output_type": "display_data"
    },
    {
     "data": {
      "text/markdown": [
       "$5 x^{4} - 20 x^{3} + 10 x^{2} + 20 x - 15$  $\\to$ $5 x^{4} - 20 x^{3} + 10 x^{2} + 20 x - 15 \\to x=-1, x=1, x=3$"
      ],
      "text/plain": [
       "<IPython.core.display.Markdown object>"
      ]
     },
     "metadata": {},
     "output_type": "display_data"
    },
    {
     "name": "stdout",
     "output_type": "stream",
     "text": [
      "enunciado_latex: $5 x^{4} - 20 x^{3} + 10 x^{2} + 20 x - 15$ \n",
      "solucion_latex: $5 x^{4} - 20 x^{3} + 10 x^{2} + 20 x - 15 \\to x=-1, x=1, x=3$\n"
     ]
    },
    {
     "data": {
      "text/markdown": [
       "#### Ejercicio:"
      ],
      "text/plain": [
       "<IPython.core.display.Markdown object>"
      ]
     },
     "metadata": {},
     "output_type": "display_data"
    },
    {
     "data": {
      "text/markdown": [
       "$\\sqrt{x+4}-7=0$  $\\to$ $\\sqrt{x+4}-7=0 \\to x=45$"
      ],
      "text/plain": [
       "<IPython.core.display.Markdown object>"
      ]
     },
     "metadata": {},
     "output_type": "display_data"
    },
    {
     "name": "stdout",
     "output_type": "stream",
     "text": [
      "enunciado_latex: $\\sqrt{x+4}-7=0$ \n",
      "solucion_latex: $\\sqrt{x+4}-7=0 \\to x=45$\n"
     ]
    },
    {
     "data": {
      "text/markdown": [
       "#### Ejercicio:"
      ],
      "text/plain": [
       "<IPython.core.display.Markdown object>"
      ]
     },
     "metadata": {},
     "output_type": "display_data"
    },
    {
     "data": {
      "text/markdown": [
       "$\\sqrt{169-x^2}+17=x$  $\\to$ $\\sqrt{169-x^2}+17=x \\to x=$"
      ],
      "text/plain": [
       "<IPython.core.display.Markdown object>"
      ]
     },
     "metadata": {},
     "output_type": "display_data"
    },
    {
     "name": "stdout",
     "output_type": "stream",
     "text": [
      "enunciado_latex: $\\sqrt{169-x^2}+17=x$ \n",
      "solucion_latex: $\\sqrt{169-x^2}+17=x \\to x=$\n"
     ]
    },
    {
     "data": {
      "text/markdown": [
       "#### Ejercicio:"
      ],
      "text/plain": [
       "<IPython.core.display.Markdown object>"
      ]
     },
     "metadata": {},
     "output_type": "display_data"
    },
    {
     "data": {
      "text/markdown": [
       "$\\sqrt{3x+1}=1+\\sqrt{2x-1}$  $\\to$ $\\sqrt{3x+1}=1+\\sqrt{2x-1} \\to x=1, x=5$"
      ],
      "text/plain": [
       "<IPython.core.display.Markdown object>"
      ]
     },
     "metadata": {},
     "output_type": "display_data"
    },
    {
     "name": "stdout",
     "output_type": "stream",
     "text": [
      "enunciado_latex: $\\sqrt{3x+1}=1+\\sqrt{2x-1}$ \n",
      "solucion_latex: $\\sqrt{3x+1}=1+\\sqrt{2x-1} \\to x=1, x=5$\n"
     ]
    },
    {
     "data": {
      "text/markdown": [
       "#### Ejercicio:"
      ],
      "text/plain": [
       "<IPython.core.display.Markdown object>"
      ]
     },
     "metadata": {},
     "output_type": "display_data"
    },
    {
     "data": {
      "text/markdown": [
       "$3\\sqrt{x-1}+11=2x$  $\\to$ $3\\sqrt{x-1}+11=2x \\to x=10$"
      ],
      "text/plain": [
       "<IPython.core.display.Markdown object>"
      ]
     },
     "metadata": {},
     "output_type": "display_data"
    },
    {
     "name": "stdout",
     "output_type": "stream",
     "text": [
      "enunciado_latex: $3\\sqrt{x-1}+11=2x$ \n",
      "solucion_latex: $3\\sqrt{x-1}+11=2x \\to x=10$\n"
     ]
    },
    {
     "data": {
      "text/markdown": [
       "#### Ejercicio:"
      ],
      "text/plain": [
       "<IPython.core.display.Markdown object>"
      ]
     },
     "metadata": {},
     "output_type": "display_data"
    },
    {
     "data": {
      "text/markdown": [
       "$\\sqrt{x}+\\sqrt{x-4}=2$  $\\to$ $\\sqrt{x}+\\sqrt{x-4}=2 \\to x=4$"
      ],
      "text/plain": [
       "<IPython.core.display.Markdown object>"
      ]
     },
     "metadata": {},
     "output_type": "display_data"
    },
    {
     "name": "stdout",
     "output_type": "stream",
     "text": [
      "enunciado_latex: $\\sqrt{x}+\\sqrt{x-4}=2$ \n",
      "solucion_latex: $\\sqrt{x}+\\sqrt{x-4}=2 \\to x=4$\n"
     ]
    },
    {
     "data": {
      "text/markdown": [
       "#### Ejercicio:"
      ],
      "text/plain": [
       "<IPython.core.display.Markdown object>"
      ]
     },
     "metadata": {},
     "output_type": "display_data"
    },
    {
     "data": {
      "text/markdown": [
       "$2^{x+1}+2^{x-1}=20$  $\\to$ $2^{x+1}+2^{x-1}=20 \\to x=3$"
      ],
      "text/plain": [
       "<IPython.core.display.Markdown object>"
      ]
     },
     "metadata": {},
     "output_type": "display_data"
    },
    {
     "name": "stdout",
     "output_type": "stream",
     "text": [
      "enunciado_latex: $2^{x+1}+2^{x-1}=20$ \n",
      "solucion_latex: $2^{x+1}+2^{x-1}=20 \\to x=3$\n"
     ]
    },
    {
     "data": {
      "text/markdown": [
       "#### Ejercicio:"
      ],
      "text/plain": [
       "<IPython.core.display.Markdown object>"
      ]
     },
     "metadata": {},
     "output_type": "display_data"
    },
    {
     "data": {
      "text/markdown": [
       "$2^{x-1}+2^{x-2}+2^{x-3}=224$  $\\to$ $2^{x-1}+2^{x-2}+2^{x-3}=224 \\to x=8$"
      ],
      "text/plain": [
       "<IPython.core.display.Markdown object>"
      ]
     },
     "metadata": {},
     "output_type": "display_data"
    },
    {
     "name": "stdout",
     "output_type": "stream",
     "text": [
      "enunciado_latex: $2^{x-1}+2^{x-2}+2^{x-3}=224$ \n",
      "solucion_latex: $2^{x-1}+2^{x-2}+2^{x-3}=224 \\to x=8$\n"
     ]
    },
    {
     "data": {
      "text/markdown": [
       "#### Ejercicio:"
      ],
      "text/plain": [
       "<IPython.core.display.Markdown object>"
      ]
     },
     "metadata": {},
     "output_type": "display_data"
    },
    {
     "data": {
      "text/markdown": [
       "$\\sqrt{7+2x}-\\sqrt{3+x}=1$  $\\to$ $\\sqrt{7+2x}-\\sqrt{3+x}=1 \\to x=-3, x=1$"
      ],
      "text/plain": [
       "<IPython.core.display.Markdown object>"
      ]
     },
     "metadata": {},
     "output_type": "display_data"
    },
    {
     "name": "stdout",
     "output_type": "stream",
     "text": [
      "enunciado_latex: $\\sqrt{7+2x}-\\sqrt{3+x}=1$ \n",
      "solucion_latex: $\\sqrt{7+2x}-\\sqrt{3+x}=1 \\to x=-3, x=1$\n"
     ]
    },
    {
     "data": {
      "text/markdown": [
       "#### Ejercicio:"
      ],
      "text/plain": [
       "<IPython.core.display.Markdown object>"
      ]
     },
     "metadata": {},
     "output_type": "display_data"
    },
    {
     "data": {
      "text/markdown": [
       "$\\sqrt{x+5}+\\sqrt{2x+8}=7$  $\\to$ $\\sqrt{x+5}+\\sqrt{2x+8}=7 \\to x=4$"
      ],
      "text/plain": [
       "<IPython.core.display.Markdown object>"
      ]
     },
     "metadata": {},
     "output_type": "display_data"
    },
    {
     "name": "stdout",
     "output_type": "stream",
     "text": [
      "enunciado_latex: $\\sqrt{x+5}+\\sqrt{2x+8}=7$ \n",
      "solucion_latex: $\\sqrt{x+5}+\\sqrt{2x+8}=7 \\to x=4$\n"
     ]
    },
    {
     "data": {
      "text/markdown": [
       "#### Ejercicio:"
      ],
      "text/plain": [
       "<IPython.core.display.Markdown object>"
      ]
     },
     "metadata": {},
     "output_type": "display_data"
    },
    {
     "data": {
      "text/markdown": [
       "$\\frac{x-3}{x^2-x}-\\frac{x+3}{x^2+x}=\\frac{2-3x}{x^2-1}$  $\\to$ $\\frac{x-3}{x^2-x}-\\frac{x+3}{x^2+x}=\\frac{2-3x}{x^2-1} \\to x=2$"
      ],
      "text/plain": [
       "<IPython.core.display.Markdown object>"
      ]
     },
     "metadata": {},
     "output_type": "display_data"
    },
    {
     "name": "stdout",
     "output_type": "stream",
     "text": [
      "enunciado_latex: $\\frac{x-3}{x^2-x}-\\frac{x+3}{x^2+x}=\\frac{2-3x}{x^2-1}$ \n",
      "solucion_latex: $\\frac{x-3}{x^2-x}-\\frac{x+3}{x^2+x}=\\frac{2-3x}{x^2-1} \\to x=2$\n"
     ]
    },
    {
     "data": {
      "text/markdown": [
       "#### Ejercicio:"
      ],
      "text/plain": [
       "<IPython.core.display.Markdown object>"
      ]
     },
     "metadata": {},
     "output_type": "display_data"
    },
    {
     "data": {
      "text/markdown": [
       "$\\frac{4x}{x+1}+\\frac{x}{2x-1}=2$  $\\to$ $\\frac{4x}{x+1}+\\frac{x}{2x-1}=2 \\to x=\\frac{1}{2} - \\frac{\\sqrt{15} i}{10}, x=\\frac{1}{2} + \\frac{\\sqrt{15} i}{10}$"
      ],
      "text/plain": [
       "<IPython.core.display.Markdown object>"
      ]
     },
     "metadata": {},
     "output_type": "display_data"
    },
    {
     "name": "stdout",
     "output_type": "stream",
     "text": [
      "enunciado_latex: $\\frac{4x}{x+1}+\\frac{x}{2x-1}=2$ \n",
      "solucion_latex: $\\frac{4x}{x+1}+\\frac{x}{2x-1}=2 \\to x=\\frac{1}{2} - \\frac{\\sqrt{15} i}{10}, x=\\frac{1}{2} + \\frac{\\sqrt{15} i}{10}$\n"
     ]
    },
    {
     "data": {
      "text/markdown": [
       "#### Ejercicio:"
      ],
      "text/plain": [
       "<IPython.core.display.Markdown object>"
      ]
     },
     "metadata": {},
     "output_type": "display_data"
    },
    {
     "data": {
      "text/markdown": [
       "$\\frac{x-1}{x^2+2x}-\\frac{2}{x^2-2x}=\\frac{x}{x^2-4}$  $\\to$ $\\frac{x-1}{x^2+2x}-\\frac{2}{x^2-2x}=\\frac{x}{x^2-4} \\to x=- \\frac{2}{5}$"
      ],
      "text/plain": [
       "<IPython.core.display.Markdown object>"
      ]
     },
     "metadata": {},
     "output_type": "display_data"
    },
    {
     "name": "stdout",
     "output_type": "stream",
     "text": [
      "enunciado_latex: $\\frac{x-1}{x^2+2x}-\\frac{2}{x^2-2x}=\\frac{x}{x^2-4}$ \n",
      "solucion_latex: $\\frac{x-1}{x^2+2x}-\\frac{2}{x^2-2x}=\\frac{x}{x^2-4} \\to x=- \\frac{2}{5}$\n"
     ]
    },
    {
     "data": {
      "text/plain": [
       "[('$18 x^{4} + 3 x^{3} = 3 x^{2}$ ',\n",
       "  '$18 x^{4} + 3 x^{3} = 3 x^{2} \\\\to x=- \\\\frac{1}{2}, x=0, x=\\\\frac{1}{3}$'),\n",
       " ('$5 x^{4} - 20 x^{3} + 10 x^{2} + 20 x - 15$ ',\n",
       "  '$5 x^{4} - 20 x^{3} + 10 x^{2} + 20 x - 15 \\\\to x=-1, x=1, x=3$'),\n",
       " ('$\\\\sqrt{x+4}-7=0$ ', '$\\\\sqrt{x+4}-7=0 \\\\to x=45$'),\n",
       " ('$\\\\sqrt{169-x^2}+17=x$ ', '$\\\\sqrt{169-x^2}+17=x \\\\to x=$'),\n",
       " ('$\\\\sqrt{3x+1}=1+\\\\sqrt{2x-1}$ ',\n",
       "  '$\\\\sqrt{3x+1}=1+\\\\sqrt{2x-1} \\\\to x=1, x=5$'),\n",
       " ('$3\\\\sqrt{x-1}+11=2x$ ', '$3\\\\sqrt{x-1}+11=2x \\\\to x=10$'),\n",
       " ('$\\\\sqrt{x}+\\\\sqrt{x-4}=2$ ', '$\\\\sqrt{x}+\\\\sqrt{x-4}=2 \\\\to x=4$'),\n",
       " ('$2^{x+1}+2^{x-1}=20$ ', '$2^{x+1}+2^{x-1}=20 \\\\to x=3$'),\n",
       " ('$2^{x-1}+2^{x-2}+2^{x-3}=224$ ', '$2^{x-1}+2^{x-2}+2^{x-3}=224 \\\\to x=8$'),\n",
       " ('$\\\\sqrt{7+2x}-\\\\sqrt{3+x}=1$ ',\n",
       "  '$\\\\sqrt{7+2x}-\\\\sqrt{3+x}=1 \\\\to x=-3, x=1$'),\n",
       " ('$\\\\sqrt{x+5}+\\\\sqrt{2x+8}=7$ ', '$\\\\sqrt{x+5}+\\\\sqrt{2x+8}=7 \\\\to x=4$'),\n",
       " ('$\\\\frac{x-3}{x^2-x}-\\\\frac{x+3}{x^2+x}=\\\\frac{2-3x}{x^2-1}$ ',\n",
       "  '$\\\\frac{x-3}{x^2-x}-\\\\frac{x+3}{x^2+x}=\\\\frac{2-3x}{x^2-1} \\\\to x=2$'),\n",
       " ('$\\\\frac{4x}{x+1}+\\\\frac{x}{2x-1}=2$ ',\n",
       "  '$\\\\frac{4x}{x+1}+\\\\frac{x}{2x-1}=2 \\\\to x=\\\\frac{1}{2} - \\\\frac{\\\\sqrt{15} i}{10}, x=\\\\frac{1}{2} + \\\\frac{\\\\sqrt{15} i}{10}$'),\n",
       " ('$\\\\frac{x-1}{x^2+2x}-\\\\frac{2}{x^2-2x}=\\\\frac{x}{x^2-4}$ ',\n",
       "  '$\\\\frac{x-1}{x^2+2x}-\\\\frac{2}{x^2-2x}=\\\\frac{x}{x^2-4} \\\\to x=- \\\\frac{2}{5}$')]"
      ]
     },
     "execution_count": 42,
     "metadata": {},
     "output_type": "execute_result"
    }
   ],
   "source": [
    "# Resuelve las siguientes ecuaciones: Para hoja complementaria\n",
    "\n",
    "ejercicios = [\n",
    "              r'18 x^{4} + 3 x^{3} = 3 x^{2}',\n",
    "              r'5 x^{4} - 20 x^{3} + 10 x^{2} + 20 x - 15',\n",
    "              r'\\sqrt{x+4}-7=0',\n",
    "              r'\\sqrt{169-x^2}+17=x',\n",
    "              r'\\sqrt{3x+1}=1+\\sqrt{2x-1}',\n",
    "              r'3\\sqrt{x-1}+11=2x',\n",
    "                r'\\sqrt{x}+\\sqrt{x-4}=2',\n",
    "              r'2^{x+1}+2^{x-1}=20', \n",
    "              r'2^{x-1}+2^{x-2}+2^{x-3}=224', \n",
    "    \n",
    "            # ya no\n",
    "              r'\\sqrt{7+2x}-\\sqrt{3+x}=1',\n",
    "              r'\\sqrt{x+5}+\\sqrt{2x+8}=7',\n",
    "              r'\\frac{x-3}{x^2-x}-\\frac{x+3}{x^2+x}=\\frac{2-3x}{x^2-1}',\n",
    "              r'\\frac{4x}{x+1}+\\frac{x}{2x-1}=2',\n",
    "              r'\\frac{x-1}{x^2+2x}-\\frac{2}{x^2-2x}=\\frac{x}{x^2-4}'\n",
    "            \n",
    "            \n",
    "            ]\n",
    "\n",
    "display(md(\"## Resuelve las siguientes ecuaciones:\"))\n",
    "\n",
    "[mostrar_ejercicio(r\"${}$ \".format(e), \n",
    "                   # r\"${} \\to {} \\to x=\".format(e,latex(factor(parse_latex(e))))\n",
    "                   r\"${} \\to x=\".format(e)\n",
    "                   +r\", x=\".join(map(latex,solve(parse_latex(e))))+r\"$\"\n",
    "                  )\n",
    "for e in ejercicios]\n"
   ]
  },
  {
   "cell_type": "code",
   "execution_count": 72,
   "metadata": {
    "colab": {
     "base_uri": "https://localhost:8080/",
     "height": 340
    },
    "id": "8uEuKeybi0lM",
    "outputId": "8f7d5ea3-5bfe-4e5a-98f7-85d851508b87"
   },
   "outputs": [
    {
     "data": {
      "text/markdown": [
       "## Resuelve las siguientes ecuaciones:"
      ],
      "text/plain": [
       "<IPython.core.display.Markdown object>"
      ]
     },
     "metadata": {},
     "output_type": "display_data"
    },
    {
     "data": {
      "text/markdown": [
       "#### Ejercicio:"
      ],
      "text/plain": [
       "<IPython.core.display.Markdown object>"
      ]
     },
     "metadata": {},
     "output_type": "display_data"
    },
    {
     "data": {
      "text/markdown": [
       "$2x+1=2\\sqrt{1+x}+x$  $\\to$ $2x+1=2\\sqrt{1+x}+x \\to x=-1, x=3$"
      ],
      "text/plain": [
       "<IPython.core.display.Markdown object>"
      ]
     },
     "metadata": {},
     "output_type": "display_data"
    },
    {
     "name": "stdout",
     "output_type": "stream",
     "text": [
      "enunciado_latex: $2x+1=2\\sqrt{1+x}+x$ \n",
      "solucion_latex: $2x+1=2\\sqrt{1+x}+x \\to x=-1, x=3$\n"
     ]
    },
    {
     "data": {
      "text/markdown": [
       "#### Ejercicio:"
      ],
      "text/plain": [
       "<IPython.core.display.Markdown object>"
      ]
     },
     "metadata": {},
     "output_type": "display_data"
    },
    {
     "data": {
      "text/markdown": [
       "$5\\cdot 5^{3x-3}=3125$  $\\to$ $5\\cdot 5^{3x-3}=3125 \\to x=\\frac{7}{3}$"
      ],
      "text/plain": [
       "<IPython.core.display.Markdown object>"
      ]
     },
     "metadata": {},
     "output_type": "display_data"
    },
    {
     "name": "stdout",
     "output_type": "stream",
     "text": [
      "enunciado_latex: $5\\cdot 5^{3x-3}=3125$ \n",
      "solucion_latex: $5\\cdot 5^{3x-3}=3125 \\to x=\\frac{7}{3}$\n"
     ]
    },
    {
     "data": {
      "text/markdown": [
       "#### Ejercicio:"
      ],
      "text/plain": [
       "<IPython.core.display.Markdown object>"
      ]
     },
     "metadata": {},
     "output_type": "display_data"
    },
    {
     "data": {
      "text/markdown": [
       "$5^{3x-3}=5^4$  $\\to$ $5^{3x-3}=5^4 \\to x=\\frac{7}{3}$"
      ],
      "text/plain": [
       "<IPython.core.display.Markdown object>"
      ]
     },
     "metadata": {},
     "output_type": "display_data"
    },
    {
     "name": "stdout",
     "output_type": "stream",
     "text": [
      "enunciado_latex: $5^{3x-3}=5^4$ \n",
      "solucion_latex: $5^{3x-3}=5^4 \\to x=\\frac{7}{3}$\n"
     ]
    },
    {
     "data": {
      "text/markdown": [
       "#### Ejercicio:"
      ],
      "text/plain": [
       "<IPython.core.display.Markdown object>"
      ]
     },
     "metadata": {},
     "output_type": "display_data"
    },
    {
     "data": {
      "text/markdown": [
       "$7 \\cdot 2 ^{1-x^2}=\\frac{7}{8}$  $\\to$ $7 \\cdot 2 ^{1-x^2}=\\frac{7}{8} \\to x=-2, x=2$"
      ],
      "text/plain": [
       "<IPython.core.display.Markdown object>"
      ]
     },
     "metadata": {},
     "output_type": "display_data"
    },
    {
     "name": "stdout",
     "output_type": "stream",
     "text": [
      "enunciado_latex: $7 \\cdot 2 ^{1-x^2}=\\frac{7}{8}$ \n",
      "solucion_latex: $7 \\cdot 2 ^{1-x^2}=\\frac{7}{8} \\to x=-2, x=2$\n"
     ]
    },
    {
     "data": {
      "text/markdown": [
       "#### Ejercicio:"
      ],
      "text/plain": [
       "<IPython.core.display.Markdown object>"
      ]
     },
     "metadata": {},
     "output_type": "display_data"
    },
    {
     "data": {
      "text/markdown": [
       "$2^{x^2-4x+1}=\\frac{1}{4}$  $\\to$ $2^{x^2-4x+1}=\\frac{1}{4} \\to x=1, x=3$"
      ],
      "text/plain": [
       "<IPython.core.display.Markdown object>"
      ]
     },
     "metadata": {},
     "output_type": "display_data"
    },
    {
     "name": "stdout",
     "output_type": "stream",
     "text": [
      "enunciado_latex: $2^{x^2-4x+1}=\\frac{1}{4}$ \n",
      "solucion_latex: $2^{x^2-4x+1}=\\frac{1}{4} \\to x=1, x=3$\n"
     ]
    },
    {
     "data": {
      "text/markdown": [
       "#### Ejercicio:"
      ],
      "text/plain": [
       "<IPython.core.display.Markdown object>"
      ]
     },
     "metadata": {},
     "output_type": "display_data"
    },
    {
     "data": {
      "text/markdown": [
       "$7^{x^2-5x+6}=1$  $\\to$ $7^{x^2-5x+6}=1 \\to x=2, x=3$"
      ],
      "text/plain": [
       "<IPython.core.display.Markdown object>"
      ]
     },
     "metadata": {},
     "output_type": "display_data"
    },
    {
     "name": "stdout",
     "output_type": "stream",
     "text": [
      "enunciado_latex: $7^{x^2-5x+6}=1$ \n",
      "solucion_latex: $7^{x^2-5x+6}=1 \\to x=2, x=3$\n"
     ]
    },
    {
     "data": {
      "text/markdown": [
       "#### Ejercicio:"
      ],
      "text/plain": [
       "<IPython.core.display.Markdown object>"
      ]
     },
     "metadata": {},
     "output_type": "display_data"
    },
    {
     "data": {
      "text/markdown": [
       "$4^x \\cdot 16^x=2$  $\\to$ $4^x \\cdot 16^x=2 \\to x=\\frac{1}{6}$"
      ],
      "text/plain": [
       "<IPython.core.display.Markdown object>"
      ]
     },
     "metadata": {},
     "output_type": "display_data"
    },
    {
     "name": "stdout",
     "output_type": "stream",
     "text": [
      "enunciado_latex: $4^x \\cdot 16^x=2$ \n",
      "solucion_latex: $4^x \\cdot 16^x=2 \\to x=\\frac{1}{6}$\n"
     ]
    },
    {
     "data": {
      "text/markdown": [
       "#### Ejercicio:"
      ],
      "text/plain": [
       "<IPython.core.display.Markdown object>"
      ]
     },
     "metadata": {},
     "output_type": "display_data"
    },
    {
     "data": {
      "text/markdown": [
       "$2^{x-1}+2^{x}+2^{x+1}=7$  $\\to$ $2^{x-1}+2^{x}+2^{x+1}=7 \\to x=1$"
      ],
      "text/plain": [
       "<IPython.core.display.Markdown object>"
      ]
     },
     "metadata": {},
     "output_type": "display_data"
    },
    {
     "name": "stdout",
     "output_type": "stream",
     "text": [
      "enunciado_latex: $2^{x-1}+2^{x}+2^{x+1}=7$ \n",
      "solucion_latex: $2^{x-1}+2^{x}+2^{x+1}=7 \\to x=1$\n"
     ]
    },
    {
     "data": {
      "text/markdown": [
       "#### Ejercicio:"
      ],
      "text/plain": [
       "<IPython.core.display.Markdown object>"
      ]
     },
     "metadata": {},
     "output_type": "display_data"
    },
    {
     "data": {
      "text/markdown": [
       "$3^{x-1}+3^{x}+3^{x+1}=117$  $\\to$ $3^{x-1}+3^{x}+3^{x+1}=117 \\to x=3$"
      ],
      "text/plain": [
       "<IPython.core.display.Markdown object>"
      ]
     },
     "metadata": {},
     "output_type": "display_data"
    },
    {
     "name": "stdout",
     "output_type": "stream",
     "text": [
      "enunciado_latex: $3^{x-1}+3^{x}+3^{x+1}=117$ \n",
      "solucion_latex: $3^{x-1}+3^{x}+3^{x+1}=117 \\to x=3$\n"
     ]
    },
    {
     "data": {
      "text/plain": [
       "[('$2x+1=2\\\\sqrt{1+x}+x$ ', '$2x+1=2\\\\sqrt{1+x}+x \\\\to x=-1, x=3$'),\n",
       " ('$5\\\\cdot 5^{3x-3}=3125$ ', '$5\\\\cdot 5^{3x-3}=3125 \\\\to x=\\\\frac{7}{3}$'),\n",
       " ('$5^{3x-3}=5^4$ ', '$5^{3x-3}=5^4 \\\\to x=\\\\frac{7}{3}$'),\n",
       " ('$7 \\\\cdot 2 ^{1-x^2}=\\\\frac{7}{8}$ ',\n",
       "  '$7 \\\\cdot 2 ^{1-x^2}=\\\\frac{7}{8} \\\\to x=-2, x=2$'),\n",
       " ('$2^{x^2-4x+1}=\\\\frac{1}{4}$ ', '$2^{x^2-4x+1}=\\\\frac{1}{4} \\\\to x=1, x=3$'),\n",
       " ('$7^{x^2-5x+6}=1$ ', '$7^{x^2-5x+6}=1 \\\\to x=2, x=3$'),\n",
       " ('$4^x \\\\cdot 16^x=2$ ', '$4^x \\\\cdot 16^x=2 \\\\to x=\\\\frac{1}{6}$'),\n",
       " ('$2^{x-1}+2^{x}+2^{x+1}=7$ ', '$2^{x-1}+2^{x}+2^{x+1}=7 \\\\to x=1$'),\n",
       " ('$3^{x-1}+3^{x}+3^{x+1}=117$ ', '$3^{x-1}+3^{x}+3^{x+1}=117 \\\\to x=3$')]"
      ]
     },
     "execution_count": 72,
     "metadata": {},
     "output_type": "execute_result"
    }
   ],
   "source": [
    "# Resuelve las siguientes ecuaciones: Para examen\n",
    "\n",
    "#x = Symbol('x', real=True)\n",
    "\n",
    "ejercicios = [\n",
    "                r'2x+1=2\\sqrt{1+x}+x',\n",
    "                r'2x-3=\\sqrt{3x-3}-2+x',\n",
    "                r'2+\\sqrt{2x+3}=2x-1',\n",
    "                r'\\sqrt{3x-2}+\\sqrt{x-1}=3'\n",
    "                r'5\\cdot 5^{3x-3}=3125',\n",
    "              r'5^{3x-3}=5^4',\n",
    "                r'7 \\cdot 2 ^{1-x^2}=\\frac{7}{8}',\n",
    "                r'2^{x^2-4x+1}=\\frac{1}{4}',\n",
    "                r'7^{x^2-5x+6}=1',\n",
    "                r'4^x \\cdot 16^x=2',\n",
    "                r'2^{x-1}+2^{x}+2^{x+1}=7',\n",
    "                r'3^{x-1}+3^{x}+3^{x+1}=117',\n",
    "    \n",
    "            \n",
    "            ]\n",
    "\n",
    "display(md(\"## Resuelve las siguientes ecuaciones:\"))\n",
    "\n",
    "[mostrar_ejercicio(r\"${}$ \".format(e), \n",
    "                   # r\"${} \\to {} \\to x=\".format(e,latex(factor(parse_latex(e))))\n",
    "                   r\"${} \\to x=\".format(e)\n",
    "                   +r\", x=\".join(map(latex,map(nsimplify,solveset(parse_latex(e),domain=S.Reals))))+r\"$\"\n",
    "                  )\n",
    "for e in ejercicios]\n",
    "\n",
    "\n",
    "#(solveset(parse_latex(r'5\\cdot 5^{3x-3}=3125'),'x', domain=S.Reals))\n",
    "\n",
    "\n"
   ]
  },
  {
   "cell_type": "code",
   "execution_count": 70,
   "metadata": {
    "colab": {
     "base_uri": "https://localhost:8080/",
     "height": 452
    },
    "id": "H3RAb-l3F0Bn",
    "outputId": "3cd71f1d-5722-4510-d3c5-bcf85adfd9b2"
   },
   "outputs": [
    {
     "data": {
      "text/markdown": [
       "## Resuelve las siguientes ecuaciones logarítmicas:"
      ],
      "text/plain": [
       "<IPython.core.display.Markdown object>"
      ]
     },
     "metadata": {},
     "output_type": "display_data"
    },
    {
     "data": {
      "text/markdown": [
       "#### Ejercicio:"
      ],
      "text/plain": [
       "<IPython.core.display.Markdown object>"
      ]
     },
     "metadata": {},
     "output_type": "display_data"
    },
    {
     "data": {
      "text/markdown": [
       "$2 \\log(2x+3)= log(24x)$  $\\to$ $2 \\log(2x+3)= log(24x) \\to x=\\frac{3}{2}$"
      ],
      "text/plain": [
       "<IPython.core.display.Markdown object>"
      ]
     },
     "metadata": {},
     "output_type": "display_data"
    },
    {
     "name": "stdout",
     "output_type": "stream",
     "text": [
      "enunciado_latex: $2 \\log(2x+3)= log(24x)$ \n",
      "solucion_latex: $2 \\log(2x+3)= log(24x) \\to x=\\frac{3}{2}$\n"
     ]
    },
    {
     "data": {
      "text/markdown": [
       "#### Ejercicio:"
      ],
      "text/plain": [
       "<IPython.core.display.Markdown object>"
      ]
     },
     "metadata": {},
     "output_type": "display_data"
    },
    {
     "data": {
      "text/markdown": [
       "$\\log x + \\log(3x+5)=2$  $\\to$ $\\log x + \\log(3x+5)=2 \\to x=5$"
      ],
      "text/plain": [
       "<IPython.core.display.Markdown object>"
      ]
     },
     "metadata": {},
     "output_type": "display_data"
    },
    {
     "name": "stdout",
     "output_type": "stream",
     "text": [
      "enunciado_latex: $\\log x + \\log(3x+5)=2$ \n",
      "solucion_latex: $\\log x + \\log(3x+5)=2 \\to x=5$\n"
     ]
    },
    {
     "data": {
      "text/markdown": [
       "#### Ejercicio:"
      ],
      "text/plain": [
       "<IPython.core.display.Markdown object>"
      ]
     },
     "metadata": {},
     "output_type": "display_data"
    },
    {
     "data": {
      "text/markdown": [
       "$2\\log x - \\log (3x-5) = \\log(5x)-1 $  $\\to$ $2\\log x - \\log (3x-5) = \\log(5x)-1  \\to x=5$"
      ],
      "text/plain": [
       "<IPython.core.display.Markdown object>"
      ]
     },
     "metadata": {},
     "output_type": "display_data"
    },
    {
     "name": "stdout",
     "output_type": "stream",
     "text": [
      "enunciado_latex: $2\\log x - \\log (3x-5) = \\log(5x)-1 $ \n",
      "solucion_latex: $2\\log x - \\log (3x-5) = \\log(5x)-1  \\to x=5$\n"
     ]
    },
    {
     "data": {
      "text/markdown": [
       "#### Ejercicio:"
      ],
      "text/plain": [
       "<IPython.core.display.Markdown object>"
      ]
     },
     "metadata": {},
     "output_type": "display_data"
    },
    {
     "data": {
      "text/markdown": [
       "$\\log(x-1)+\\log 2 = \\log (x^2+3) -\\log x$  $\\to$ $\\log(x-1)+\\log 2 = \\log (x^2+3) -\\log x \\to x=3$"
      ],
      "text/plain": [
       "<IPython.core.display.Markdown object>"
      ]
     },
     "metadata": {},
     "output_type": "display_data"
    },
    {
     "name": "stdout",
     "output_type": "stream",
     "text": [
      "enunciado_latex: $\\log(x-1)+\\log 2 = \\log (x^2+3) -\\log x$ \n",
      "solucion_latex: $\\log(x-1)+\\log 2 = \\log (x^2+3) -\\log x \\to x=3$\n"
     ]
    },
    {
     "data": {
      "text/plain": [
       "[('$2 \\\\log(2x+3)= log(24x)$ ',\n",
       "  '$2 \\\\log(2x+3)= log(24x) \\\\to x=\\\\frac{3}{2}$'),\n",
       " ('$\\\\log x + \\\\log(3x+5)=2$ ', '$\\\\log x + \\\\log(3x+5)=2 \\\\to x=5$'),\n",
       " ('$2\\\\log x - \\\\log (3x-5) = \\\\log(5x)-1 $ ',\n",
       "  '$2\\\\log x - \\\\log (3x-5) = \\\\log(5x)-1  \\\\to x=5$'),\n",
       " ('$\\\\log(x-1)+\\\\log 2 = \\\\log (x^2+3) -\\\\log x$ ',\n",
       "  '$\\\\log(x-1)+\\\\log 2 = \\\\log (x^2+3) -\\\\log x \\\\to x=3$')]"
      ]
     },
     "execution_count": 70,
     "metadata": {},
     "output_type": "execute_result"
    }
   ],
   "source": [
    "# Resuelve las siguientes ecuaciones: Para examen\n",
    " \n",
    "ejercicios = [\n",
    "                [r'2 \\log(2x+3)= log(24x)', 2*log(2*x+3,10)-log(24*x,10)],\n",
    "                [r'\\log x + \\log(3x+5)=2', log(x,10)+log(3*x+5,10)-2],\n",
    "                [r'2\\log x - \\log (3x-5) = \\log(5x)-1 ',2*log(x,10)-log(3*x-5,10)-log(5*x,10)+1],\n",
    "                [r'\\log(x-1)+\\log 2 = \\log (x^2+3) -\\log x', log(x-1,10)+log(2,10)-log(x**2+3,10)+log(x,10)]\n",
    "              \n",
    "             ]\n",
    " \n",
    "display(md(\"## Resuelve las siguientes ecuaciones logarítmicas:\"))\n",
    " \n",
    "[mostrar_ejercicio(r\"${}$ \".format(e[0]), \n",
    "                   # r\"${} \\to {} \\to x=\".format(e,latex(factor(parse_latex(e))))\n",
    "                   r\"${} \\to x=\".format(e[0])\n",
    "                   +r\", x=\".join(map(latex,solve(e[1])))+r\"$\"\n",
    "                  )\n",
    "for e in ejercicios]"
   ]
  },
  {
   "cell_type": "code",
   "execution_count": 44,
   "metadata": {
    "colab": {
     "base_uri": "https://localhost:8080/",
     "height": 452
    },
    "id": "H3RAb-l3F0Bn",
    "outputId": "3cd71f1d-5722-4510-d3c5-bcf85adfd9b2"
   },
   "outputs": [
    {
     "data": {
      "text/markdown": [
       "## Resuelve las siguientes ecuaciones logarítmicas:"
      ],
      "text/plain": [
       "<IPython.core.display.Markdown object>"
      ]
     },
     "metadata": {},
     "output_type": "display_data"
    },
    {
     "data": {
      "text/markdown": [
       "#### Ejercicio:"
      ],
      "text/plain": [
       "<IPython.core.display.Markdown object>"
      ]
     },
     "metadata": {},
     "output_type": "display_data"
    },
    {
     "data": {
      "text/markdown": [
       "$\\log x - \\log 3 = 2$  $\\to$ $\\log x - \\log 3 = 2 \\to x=300$"
      ],
      "text/plain": [
       "<IPython.core.display.Markdown object>"
      ]
     },
     "metadata": {},
     "output_type": "display_data"
    },
    {
     "name": "stdout",
     "output_type": "stream",
     "text": [
      "enunciado_latex: $\\log x - \\log 3 = 2$ \n",
      "solucion_latex: $\\log x - \\log 3 = 2 \\to x=300$\n"
     ]
    },
    {
     "data": {
      "text/markdown": [
       "#### Ejercicio:"
      ],
      "text/plain": [
       "<IPython.core.display.Markdown object>"
      ]
     },
     "metadata": {},
     "output_type": "display_data"
    },
    {
     "data": {
      "text/markdown": [
       "$\\log 2 + \\log x =1$  $\\to$ $\\log 2 + \\log x =1 \\to x=5$"
      ],
      "text/plain": [
       "<IPython.core.display.Markdown object>"
      ]
     },
     "metadata": {},
     "output_type": "display_data"
    },
    {
     "name": "stdout",
     "output_type": "stream",
     "text": [
      "enunciado_latex: $\\log 2 + \\log x =1$ \n",
      "solucion_latex: $\\log 2 + \\log x =1 \\to x=5$\n"
     ]
    },
    {
     "data": {
      "text/markdown": [
       "#### Ejercicio:"
      ],
      "text/plain": [
       "<IPython.core.display.Markdown object>"
      ]
     },
     "metadata": {},
     "output_type": "display_data"
    },
    {
     "data": {
      "text/markdown": [
       "$5\\log x -\\log 32 = \\log \\frac{x}{2}$  $\\to$ $5\\log x -\\log 32 = \\log \\frac{x}{2} \\to x=2$"
      ],
      "text/plain": [
       "<IPython.core.display.Markdown object>"
      ]
     },
     "metadata": {},
     "output_type": "display_data"
    },
    {
     "name": "stdout",
     "output_type": "stream",
     "text": [
      "enunciado_latex: $5\\log x -\\log 32 = \\log \\frac{x}{2}$ \n",
      "solucion_latex: $5\\log x -\\log 32 = \\log \\frac{x}{2} \\to x=2$\n"
     ]
    },
    {
     "data": {
      "text/plain": [
       "[('$\\\\log x - \\\\log 3 = 2$ ', '$\\\\log x - \\\\log 3 = 2 \\\\to x=300$'),\n",
       " ('$\\\\log 2 + \\\\log x =1$ ', '$\\\\log 2 + \\\\log x =1 \\\\to x=5$'),\n",
       " ('$5\\\\log x -\\\\log 32 = \\\\log \\\\frac{x}{2}$ ',\n",
       "  '$5\\\\log x -\\\\log 32 = \\\\log \\\\frac{x}{2} \\\\to x=2$')]"
      ]
     },
     "execution_count": 44,
     "metadata": {},
     "output_type": "execute_result"
    }
   ],
   "source": [
    "# Resuelve las siguientes ecuaciones: Para hoja complementaria\n",
    " \n",
    "ejercicios = [[r'\\log x - \\log 3 = 2',log(x,10)-log(3,10)-2],\n",
    "              #[r'2\\log \\frac{x}{2}+2\\log \\frac{x}{3}=3\\log x - \\log \\frac{32}{9}', 2*log(x/2,10)+2*log(x/3,10)-3*log(x,10)+log(32/9,10)],\n",
    "              [r'\\log 2 + \\log x =1', log(2,10)+log(x,10)-1],\n",
    "              [r'5\\log x -\\log 32 = \\log \\frac{x}{2}', 5*log(x,10)-log(32,10)-log(x/2,10)],\n",
    "              \n",
    "             ]\n",
    " \n",
    "display(md(\"## Resuelve las siguientes ecuaciones logarítmicas:\"))\n",
    " \n",
    "[mostrar_ejercicio(r\"${}$ \".format(e[0]), \n",
    "                   # r\"${} \\to {} \\to x=\".format(e,latex(factor(parse_latex(e))))\n",
    "                   r\"${} \\to x=\".format(e[0])\n",
    "                   +r\", x=\".join(map(latex,solve(e[1])))+r\"$\"\n",
    "                  )\n",
    "for e in ejercicios]"
   ]
  },
  {
   "cell_type": "code",
   "execution_count": 45,
   "metadata": {
    "colab": {
     "base_uri": "https://localhost:8080/",
     "height": 37
    },
    "id": "peqU1vafF0Bn",
    "outputId": "0ff9c378-012b-43a4-a283-7e9cee731032"
   },
   "outputs": [
    {
     "data": {
      "image/png": "[encoded data removed]",
      "text/latex": [
       "$\\displaystyle \\left[ 300\\right]$"
      ],
      "text/plain": [
       "[300]"
      ]
     },
     "execution_count": 45,
     "metadata": {},
     "output_type": "execute_result"
    }
   ],
   "source": [
    "solve(log(x,10)-log(3,10)-2)"
   ]
  },
  {
   "cell_type": "code",
   "execution_count": 46,
   "metadata": {
    "colab": {
     "base_uri": "https://localhost:8080/",
     "height": 36
    },
    "id": "x2AfOc1olJsW",
    "outputId": "cdc732d3-e02f-46ae-f357-e333751ed37c"
   },
   "outputs": [
    {
     "data": {
      "text/plain": [
       "'5 x^{4} - 20 x^{3} + 10 x^{2} + 20 x - 15'"
      ]
     },
     "execution_count": 46,
     "metadata": {},
     "output_type": "execute_result"
    }
   ],
   "source": [
    "latex(expand(5*(x-1)**2*(x+1)*(x-3)))"
   ]
  },
  {
   "cell_type": "code",
   "execution_count": 47,
   "metadata": {
    "colab": {
     "base_uri": "https://localhost:8080/",
     "height": 1000
    },
    "id": "lsqyQld7jMYL",
    "outputId": "3f49647f-7d14-4524-8a71-da6be22c7e26"
   },
   "outputs": [
    {
     "data": {
      "text/markdown": [
       "## Resuelve las siguientes ecuaciones con fracciones algebraicas:"
      ],
      "text/plain": [
       "<IPython.core.display.Markdown object>"
      ]
     },
     "metadata": {},
     "output_type": "display_data"
    },
    {
     "data": {
      "text/markdown": [
       "#### Ejercicio:"
      ],
      "text/plain": [
       "<IPython.core.display.Markdown object>"
      ]
     },
     "metadata": {},
     "output_type": "display_data"
    },
    {
     "data": {
      "text/markdown": [
       "$\\frac{2x}{x+1}-\\frac{1}{x}=\\frac{5}{6}$  $\\to$ $\\frac{2x}{x+1}-\\frac{1}{x}=\\frac{5}{6} \\to \\frac{2 x^{2} - x - 1}{x \\left(x + 1\\right)} = \\frac{5}{6}  \\to \\frac{6}{x \\left(x + 1\\right)} = \\frac{5}{2 x^{2} - x - 1}  \\to \\frac{6}{x \\left(x + 1\\right)} = \\frac{5}{\\left(x - 1\\right) \\left(2 x + 1\\right)}  \\to \\frac{6}{x^{2} + x} = \\frac{5}{2 x^{2} - x - 1}  \\to 6 \\left(2 x^{2} - x - 1\\right) = 5 \\left(x^{2} + x\\right)  \\to - 5 \\left(x^{2} + x\\right) + 6 \\left(2 x^{2} - x - 1\\right) = 0  \\to 7 x^{2} - 11 x - 6 = 0 \\to x=- \\frac{3}{7}, x=2$"
      ],
      "text/plain": [
       "<IPython.core.display.Markdown object>"
      ]
     },
     "metadata": {},
     "output_type": "display_data"
    },
    {
     "name": "stdout",
     "output_type": "stream",
     "text": [
      "enunciado_latex: $\\frac{2x}{x+1}-\\frac{1}{x}=\\frac{5}{6}$ \n",
      "solucion_latex: $\\frac{2x}{x+1}-\\frac{1}{x}=\\frac{5}{6} \\to \\frac{2 x^{2} - x - 1}{x \\left(x + 1\\right)} = \\frac{5}{6}  \\to \\frac{6}{x \\left(x + 1\\right)} = \\frac{5}{2 x^{2} - x - 1}  \\to \\frac{6}{x \\left(x + 1\\right)} = \\frac{5}{\\left(x - 1\\right) \\left(2 x + 1\\right)}  \\to \\frac{6}{x^{2} + x} = \\frac{5}{2 x^{2} - x - 1}  \\to 6 \\left(2 x^{2} - x - 1\\right) = 5 \\left(x^{2} + x\\right)  \\to - 5 \\left(x^{2} + x\\right) + 6 \\left(2 x^{2} - x - 1\\right) = 0  \\to 7 x^{2} - 11 x - 6 = 0 \\to x=- \\frac{3}{7}, x=2$\n"
     ]
    },
    {
     "data": {
      "text/markdown": [
       "#### Ejercicio:"
      ],
      "text/plain": [
       "<IPython.core.display.Markdown object>"
      ]
     },
     "metadata": {},
     "output_type": "display_data"
    },
    {
     "data": {
      "text/markdown": [
       "$\\frac{6x+1}{x^2-4}-\\frac{x}{x-2}=\\frac{x+1}{x+2}$  $\\to$ $\\frac{6x+1}{x^2-4}-\\frac{x}{x-2}=\\frac{x+1}{x+2} \\to \\frac{x + 1}{x + 2} = \\frac{- x^{2} + 4 x + 1}{x^{2} - 4}  \\to \\frac{x^{2} - 4}{x + 2} = \\frac{- x^{2} + 4 x + 1}{x + 1}  \\to x - 2 = - \\frac{x^{2} - 4 x - 1}{x + 1}  \\to x - 2 = - \\frac{x^{2} - 4 x - 1}{x + 1}  \\to \\left(x - 2\\right) \\left(x + 1\\right) = \\left(- x^{2} + 4 x + 1\\right) 1  \\to \\left(x - 2\\right) \\left(x + 1\\right) - \\left(- x^{2} + 4 x + 1\\right) 1 = 0  \\to 2 x^{2} - 5 x - 3 = 0 \\to x=- \\frac{1}{2}, x=3$"
      ],
      "text/plain": [
       "<IPython.core.display.Markdown object>"
      ]
     },
     "metadata": {},
     "output_type": "display_data"
    },
    {
     "name": "stdout",
     "output_type": "stream",
     "text": [
      "enunciado_latex: $\\frac{6x+1}{x^2-4}-\\frac{x}{x-2}=\\frac{x+1}{x+2}$ \n",
      "solucion_latex: $\\frac{6x+1}{x^2-4}-\\frac{x}{x-2}=\\frac{x+1}{x+2} \\to \\frac{x + 1}{x + 2} = \\frac{- x^{2} + 4 x + 1}{x^{2} - 4}  \\to \\frac{x^{2} - 4}{x + 2} = \\frac{- x^{2} + 4 x + 1}{x + 1}  \\to x - 2 = - \\frac{x^{2} - 4 x - 1}{x + 1}  \\to x - 2 = - \\frac{x^{2} - 4 x - 1}{x + 1}  \\to \\left(x - 2\\right) \\left(x + 1\\right) = \\left(- x^{2} + 4 x + 1\\right) 1  \\to \\left(x - 2\\right) \\left(x + 1\\right) - \\left(- x^{2} + 4 x + 1\\right) 1 = 0  \\to 2 x^{2} - 5 x - 3 = 0 \\to x=- \\frac{1}{2}, x=3$\n"
     ]
    },
    {
     "data": {
      "text/markdown": [
       "#### Ejercicio:"
      ],
      "text/plain": [
       "<IPython.core.display.Markdown object>"
      ]
     },
     "metadata": {},
     "output_type": "display_data"
    },
    {
     "data": {
      "text/markdown": [
       "$\\frac{{x + 1}}{{x - 1}} - \\frac{1}{x}=\\frac{5}{2}$  $\\to$ $\\frac{{x + 1}}{{x - 1}} - \\frac{1}{x}=\\frac{5}{2} \\to \\frac{x^{2} + 1}{x \\left(x - 1\\right)} = \\frac{5}{2}  \\to \\frac{2}{x \\left(x - 1\\right)} = \\frac{5}{x^{2} + 1}  \\to \\frac{2}{x \\left(x - 1\\right)} = \\frac{5}{x^{2} + 1}  \\to \\frac{2}{x^{2} - x} = \\frac{5}{x^{2} + 1}  \\to 2 \\left(x^{2} + 1\\right) = 5 \\left(x^{2} - x\\right)  \\to 2 \\left(x^{2} + 1\\right) - 5 \\left(x^{2} - x\\right) = 0  \\to - 3 x^{2} + 5 x + 2 = 0 \\to x=- \\frac{1}{3}, x=2$"
      ],
      "text/plain": [
       "<IPython.core.display.Markdown object>"
      ]
     },
     "metadata": {},
     "output_type": "display_data"
    },
    {
     "name": "stdout",
     "output_type": "stream",
     "text": [
      "enunciado_latex: $\\frac{{x + 1}}{{x - 1}} - \\frac{1}{x}=\\frac{5}{2}$ \n",
      "solucion_latex: $\\frac{{x + 1}}{{x - 1}} - \\frac{1}{x}=\\frac{5}{2} \\to \\frac{x^{2} + 1}{x \\left(x - 1\\right)} = \\frac{5}{2}  \\to \\frac{2}{x \\left(x - 1\\right)} = \\frac{5}{x^{2} + 1}  \\to \\frac{2}{x \\left(x - 1\\right)} = \\frac{5}{x^{2} + 1}  \\to \\frac{2}{x^{2} - x} = \\frac{5}{x^{2} + 1}  \\to 2 \\left(x^{2} + 1\\right) = 5 \\left(x^{2} - x\\right)  \\to 2 \\left(x^{2} + 1\\right) - 5 \\left(x^{2} - x\\right) = 0  \\to - 3 x^{2} + 5 x + 2 = 0 \\to x=- \\frac{1}{3}, x=2$\n"
     ]
    },
    {
     "data": {
      "text/markdown": [
       "#### Ejercicio:"
      ],
      "text/plain": [
       "<IPython.core.display.Markdown object>"
      ]
     },
     "metadata": {},
     "output_type": "display_data"
    },
    {
     "data": {
      "text/markdown": [
       "$\\frac{{3x + 2}}{{x - 1}} - \\frac{2}{{x + 1}}=5$  $\\to$ $\\frac{{3x + 2}}{{x - 1}} - \\frac{2}{{x + 1}}=5 \\to \\frac{3 x^{2} + 3 x + 4}{x^{2} - 1} = 5  \\to \\frac{1}{x^{2} - 1} = \\frac{5}{3 x^{2} + 3 x + 4}  \\to \\frac{1}{\\left(x - 1\\right) \\left(x + 1\\right)} = \\frac{5}{3 x^{2} + 3 x + 4}  \\to \\frac{1}{x^{2} - 1} = \\frac{5}{3 x^{2} + 3 x + 4}  \\to 3 x^{2} + 3 x + 4 = 5 \\left(x^{2} - 1\\right)  \\to - 5 \\left(x^{2} - 1\\right) + 3 x^{2} + 3 x + 4 = 0  \\to - 2 x^{2} + 3 x + 9 = 0 \\to x=- \\frac{3}{2}, x=3$"
      ],
      "text/plain": [
       "<IPython.core.display.Markdown object>"
      ]
     },
     "metadata": {},
     "output_type": "display_data"
    },
    {
     "name": "stdout",
     "output_type": "stream",
     "text": [
      "enunciado_latex: $\\frac{{3x + 2}}{{x - 1}} - \\frac{2}{{x + 1}}=5$ \n",
      "solucion_latex: $\\frac{{3x + 2}}{{x - 1}} - \\frac{2}{{x + 1}}=5 \\to \\frac{3 x^{2} + 3 x + 4}{x^{2} - 1} = 5  \\to \\frac{1}{x^{2} - 1} = \\frac{5}{3 x^{2} + 3 x + 4}  \\to \\frac{1}{\\left(x - 1\\right) \\left(x + 1\\right)} = \\frac{5}{3 x^{2} + 3 x + 4}  \\to \\frac{1}{x^{2} - 1} = \\frac{5}{3 x^{2} + 3 x + 4}  \\to 3 x^{2} + 3 x + 4 = 5 \\left(x^{2} - 1\\right)  \\to - 5 \\left(x^{2} - 1\\right) + 3 x^{2} + 3 x + 4 = 0  \\to - 2 x^{2} + 3 x + 9 = 0 \\to x=- \\frac{3}{2}, x=3$\n"
     ]
    },
    {
     "data": {
      "text/markdown": [
       "#### Ejercicio:"
      ],
      "text/plain": [
       "<IPython.core.display.Markdown object>"
      ]
     },
     "metadata": {},
     "output_type": "display_data"
    },
    {
     "data": {
      "text/markdown": [
       "$1 - \\frac{x}{{x + 4}}= \\frac{1}{{x - 5}}$  $\\to$ $1 - \\frac{x}{{x + 4}}= \\frac{1}{{x - 5}} \\to \\frac{1}{x - 5} = \\frac{4}{x + 4}  \\to \\frac{x + 4}{x - 5} = 4  \\to \\frac{x + 4}{x - 5} = 4  \\to \\frac{x + 4}{x - 5} = 4  \\to \\left(x + 4\\right) 1 = 4 \\left(x - 5\\right)  \\to \\left(x + 4\\right) 1 - 4 \\left(x - 5\\right) = 0  \\to 24 - 3 x = 0 \\to x=8$"
      ],
      "text/plain": [
       "<IPython.core.display.Markdown object>"
      ]
     },
     "metadata": {},
     "output_type": "display_data"
    },
    {
     "name": "stdout",
     "output_type": "stream",
     "text": [
      "enunciado_latex: $1 - \\frac{x}{{x + 4}}= \\frac{1}{{x - 5}}$ \n",
      "solucion_latex: $1 - \\frac{x}{{x + 4}}= \\frac{1}{{x - 5}} \\to \\frac{1}{x - 5} = \\frac{4}{x + 4}  \\to \\frac{x + 4}{x - 5} = 4  \\to \\frac{x + 4}{x - 5} = 4  \\to \\frac{x + 4}{x - 5} = 4  \\to \\left(x + 4\\right) 1 = 4 \\left(x - 5\\right)  \\to \\left(x + 4\\right) 1 - 4 \\left(x - 5\\right) = 0  \\to 24 - 3 x = 0 \\to x=8$\n"
     ]
    },
    {
     "data": {
      "text/markdown": [
       "#### Ejercicio:"
      ],
      "text/plain": [
       "<IPython.core.display.Markdown object>"
      ]
     },
     "metadata": {},
     "output_type": "display_data"
    },
    {
     "data": {
      "text/markdown": [
       "$\\frac{{x - 3}}{{x + 3}} + \\frac{{x + 3}}{{x - 3}}=\\frac{{x - 2}}{{x + 3}}$  $\\to$ $\\frac{{x - 3}}{{x + 3}} + \\frac{{x + 3}}{{x - 3}}=\\frac{{x - 2}}{{x + 3}} \\to \\frac{x - 2}{x + 3} = \\frac{2 \\left(x^{2} + 9\\right)}{x^{2} - 9}  \\to \\frac{x^{2} - 9}{x + 3} = \\frac{2 x^{2} + 18}{x - 2}  \\to x - 3 = \\frac{2 \\left(x^{2} + 9\\right)}{x - 2}  \\to x - 3 = \\frac{2 x^{2} + 18}{x - 2}  \\to \\left(x - 3\\right) \\left(x - 2\\right) = \\left(2 x^{2} + 18\\right) 1  \\to \\left(x - 3\\right) \\left(x - 2\\right) - \\left(2 x^{2} + 18\\right) 1 = 0  \\to - x^{2} - 5 x - 12 = 0 \\to x=- \\frac{5}{2} - \\frac{\\sqrt{23} i}{2}, x=- \\frac{5}{2} + \\frac{\\sqrt{23} i}{2}$"
      ],
      "text/plain": [
       "<IPython.core.display.Markdown object>"
      ]
     },
     "metadata": {},
     "output_type": "display_data"
    },
    {
     "name": "stdout",
     "output_type": "stream",
     "text": [
      "enunciado_latex: $\\frac{{x - 3}}{{x + 3}} + \\frac{{x + 3}}{{x - 3}}=\\frac{{x - 2}}{{x + 3}}$ \n",
      "solucion_latex: $\\frac{{x - 3}}{{x + 3}} + \\frac{{x + 3}}{{x - 3}}=\\frac{{x - 2}}{{x + 3}} \\to \\frac{x - 2}{x + 3} = \\frac{2 \\left(x^{2} + 9\\right)}{x^{2} - 9}  \\to \\frac{x^{2} - 9}{x + 3} = \\frac{2 x^{2} + 18}{x - 2}  \\to x - 3 = \\frac{2 \\left(x^{2} + 9\\right)}{x - 2}  \\to x - 3 = \\frac{2 x^{2} + 18}{x - 2}  \\to \\left(x - 3\\right) \\left(x - 2\\right) = \\left(2 x^{2} + 18\\right) 1  \\to \\left(x - 3\\right) \\left(x - 2\\right) - \\left(2 x^{2} + 18\\right) 1 = 0  \\to - x^{2} - 5 x - 12 = 0 \\to x=- \\frac{5}{2} - \\frac{\\sqrt{23} i}{2}, x=- \\frac{5}{2} + \\frac{\\sqrt{23} i}{2}$\n"
     ]
    },
    {
     "data": {
      "text/markdown": [
       "#### Ejercicio:"
      ],
      "text/plain": [
       "<IPython.core.display.Markdown object>"
      ]
     },
     "metadata": {},
     "output_type": "display_data"
    },
    {
     "data": {
      "text/markdown": [
       "$\\frac{x-3}{x^2-x}-\\frac{x+3}{x^2+x}=\\frac{2-3x}{x^2-1}$  $\\to$ $\\frac{x-3}{x^2-x}-\\frac{x+3}{x^2+x}=\\frac{2-3x}{x^2-1} \\to \\frac{4}{x^{2} - 1} = - \\frac{2 - 3 x}{x^{2} - 1}  \\to 1 = \\frac{3 x}{4} - \\frac{1}{2}  \\to 1 = \\frac{3 x - 2}{4}  \\to 1 = \\frac{3 x}{4} - \\frac{1}{2}  \\to 4 = \\left(3 x - 2\\right) 1  \\to - \\left(3 x - 2\\right) 1 + 4 = 0  \\to 6 - 3 x = 0 \\to x=2$"
      ],
      "text/plain": [
       "<IPython.core.display.Markdown object>"
      ]
     },
     "metadata": {},
     "output_type": "display_data"
    },
    {
     "name": "stdout",
     "output_type": "stream",
     "text": [
      "enunciado_latex: $\\frac{x-3}{x^2-x}-\\frac{x+3}{x^2+x}=\\frac{2-3x}{x^2-1}$ \n",
      "solucion_latex: $\\frac{x-3}{x^2-x}-\\frac{x+3}{x^2+x}=\\frac{2-3x}{x^2-1} \\to \\frac{4}{x^{2} - 1} = - \\frac{2 - 3 x}{x^{2} - 1}  \\to 1 = \\frac{3 x}{4} - \\frac{1}{2}  \\to 1 = \\frac{3 x - 2}{4}  \\to 1 = \\frac{3 x}{4} - \\frac{1}{2}  \\to 4 = \\left(3 x - 2\\right) 1  \\to - \\left(3 x - 2\\right) 1 + 4 = 0  \\to 6 - 3 x = 0 \\to x=2$\n"
     ]
    }
   ],
   "source": [
    "# Resuelve las siguientes ecuaciones:\n",
    " \n",
    "ejercicios = [r'\\frac{2x}{x+1}-\\frac{1}{x}=\\frac{5}{6}',\n",
    "              r'\\frac{6x+1}{x^2-4}-\\frac{x}{x-2}=\\frac{x+1}{x+2}',\n",
    "              r'\\frac{{x + 1}}{{x - 1}} - \\frac{1}{x}=\\frac{5}{2}',\n",
    "              r'\\frac{{3x + 2}}{{x - 1}} - \\frac{2}{{x + 1}}=5',\n",
    "              r'1 - \\frac{x}{{x + 4}}= \\frac{1}{{x - 5}}',\n",
    "              r'\\frac{{x - 3}}{{x + 3}} + \\frac{{x + 3}}{{x - 3}}=\\frac{{x - 2}}{{x + 3}}',\n",
    "              r'\\frac{x-3}{x^2-x}-\\frac{x+3}{x^2+x}=\\frac{2-3x}{x^2-1}'\n",
    "              \n",
    "             ]\n",
    " \n",
    "display(md(\"## Resuelve las siguientes ecuaciones con fracciones algebraicas:\"))\n",
    " \n",
    " \n",
    "for e in ejercicios :\n",
    "    enunciado = r\"${}$ \".format(e)\n",
    "    ec = simplify(parse_latex(e))\n",
    "    solucion = r\"${} \\to {} \".format(e,latex(ec))\n",
    "    izq=ec.args[1].as_numer_denom()[1]/ec.args[0].as_numer_denom()[1]\n",
    "    der=ec.args[1].as_numer_denom()[0]/ec.args[0].as_numer_denom()[0]\n",
    "    #display(izq, der)\n",
    "    solucion += r\" \\to {} = {} \".format(latex(izq),latex(der))\n",
    "    izq=factor(izq)\n",
    "    der=factor(der)\n",
    "    #display(izq, der, izq.as_numer_denom(), der.as_numer_denom())\n",
    "    solucion += r\" \\to {} = {} \".format(latex(izq),latex(der))\n",
    "    izq=cancel(izq)\n",
    "    der=cancel(der)\n",
    "    #display(izq, der, izq.as_numer_denom(), der.as_numer_denom())\n",
    "    solucion += r\" \\to {} = {} \".format(latex(izq),latex(der))\n",
    "    iz=izq\n",
    "    izq=izq.as_numer_denom()[0]*UnevaluatedExpr(der.as_numer_denom()[1])\n",
    "    der=der.as_numer_denom()[0]*UnevaluatedExpr(iz.as_numer_denom()[1])\n",
    "    #display(izq, der)\n",
    "    solucion += r\" \\to {} = {} \".format(latex(izq),latex(der))\n",
    "    solucion += r\" \\to {} = {} \".format(latex(izq-der),latex(0))\n",
    "    solucion += r\" \\to {} = {} \".format(latex(simplify(izq-der)),latex(0))\n",
    "    #solucion += r\" \\to {}\".format(solve(simplify(izq-der)))\n",
    "    solucion += r\"\\to x=\" + r\", x=\".join(map(latex,solve(parse_latex(e))))\n",
    " \n",
    "    #display((parse_latex(e), cancel(parse_latex(e).args[0]),cancel(parse_latex(e).args[1]),            cancel(cancel(parse_latex(e).args[0]).as_numer_denom()[0]/cancel(parse_latex(e).args[1]).as_numer_denom()[0]),cancel(cancel(parse_latex(e).args[0]).as_numer_denom()[1]/cancel(parse_latex(e).args[1]).as_numer_denom()[1]),      )\n",
    "    solucion += r\"$\"\n",
    "    mostrar_ejercicio(enunciado,solucion)"
   ]
  },
  {
   "cell_type": "code",
   "execution_count": 48,
   "metadata": {
    "colab": {
     "base_uri": "https://localhost:8080/",
     "height": 677
    },
    "id": "TD87VoQXjMYM",
    "outputId": "db9abfc5-01ae-459f-98e3-3a3e69b51b7d"
   },
   "outputs": [
    {
     "data": {
      "text/markdown": [
       "## Resuelve las siguientes ecuaciones polinómicas:"
      ],
      "text/plain": [
       "<IPython.core.display.Markdown object>"
      ]
     },
     "metadata": {},
     "output_type": "display_data"
    },
    {
     "data": {
      "text/markdown": [
       "#### Ejercicio:"
      ],
      "text/plain": [
       "<IPython.core.display.Markdown object>"
      ]
     },
     "metadata": {},
     "output_type": "display_data"
    },
    {
     "data": {
      "text/markdown": [
       "$2x^4-6x^3+6x^2-2x=0$  $\\to$ $2x^4-6x^3+6x^2-2x=0 \\to 2 x \\left(x - 1\\right)^{3} = 0 \\to x=0, x=1$"
      ],
      "text/plain": [
       "<IPython.core.display.Markdown object>"
      ]
     },
     "metadata": {},
     "output_type": "display_data"
    },
    {
     "name": "stdout",
     "output_type": "stream",
     "text": [
      "enunciado_latex: $2x^4-6x^3+6x^2-2x=0$ \n",
      "solucion_latex: $2x^4-6x^3+6x^2-2x=0 \\to 2 x \\left(x - 1\\right)^{3} = 0 \\to x=0, x=1$\n"
     ]
    },
    {
     "data": {
      "text/markdown": [
       "#### Ejercicio:"
      ],
      "text/plain": [
       "<IPython.core.display.Markdown object>"
      ]
     },
     "metadata": {},
     "output_type": "display_data"
    },
    {
     "data": {
      "text/markdown": [
       "$6x^3-12x^2+6x=0$  $\\to$ $6x^3-12x^2+6x=0 \\to 6 x \\left(x - 1\\right)^{2} = 0 \\to x=0, x=1$"
      ],
      "text/plain": [
       "<IPython.core.display.Markdown object>"
      ]
     },
     "metadata": {},
     "output_type": "display_data"
    },
    {
     "name": "stdout",
     "output_type": "stream",
     "text": [
      "enunciado_latex: $6x^3-12x^2+6x=0$ \n",
      "solucion_latex: $6x^3-12x^2+6x=0 \\to 6 x \\left(x - 1\\right)^{2} = 0 \\to x=0, x=1$\n"
     ]
    },
    {
     "data": {
      "text/markdown": [
       "#### Ejercicio:"
      ],
      "text/plain": [
       "<IPython.core.display.Markdown object>"
      ]
     },
     "metadata": {},
     "output_type": "display_data"
    },
    {
     "data": {
      "text/markdown": [
       "$4 x^{5} - 12 x^{4} + 13 x^{3} - 6 x^{2} + x = 0$  $\\to$ $4 x^{5} - 12 x^{4} + 13 x^{3} - 6 x^{2} + x = 0 \\to x \\left(x - 1\\right)^{2} \\left(2 x - 1\\right)^{2} = 0 \\to x=0, x=\\frac{1}{2}, x=1$"
      ],
      "text/plain": [
       "<IPython.core.display.Markdown object>"
      ]
     },
     "metadata": {},
     "output_type": "display_data"
    },
    {
     "name": "stdout",
     "output_type": "stream",
     "text": [
      "enunciado_latex: $4 x^{5} - 12 x^{4} + 13 x^{3} - 6 x^{2} + x = 0$ \n",
      "solucion_latex: $4 x^{5} - 12 x^{4} + 13 x^{3} - 6 x^{2} + x = 0 \\to x \\left(x - 1\\right)^{2} \\left(2 x - 1\\right)^{2} = 0 \\to x=0, x=\\frac{1}{2}, x=1$\n"
     ]
    },
    {
     "data": {
      "text/markdown": [
       "#### Ejercicio:"
      ],
      "text/plain": [
       "<IPython.core.display.Markdown object>"
      ]
     },
     "metadata": {},
     "output_type": "display_data"
    },
    {
     "data": {
      "text/markdown": [
       "$x^{3} - 11 x^{2} + 40 x - 48= 0$  $\\to$ $x^{3} - 11 x^{2} + 40 x - 48= 0 \\to \\left(x - 4\\right)^{2} \\left(x - 3\\right) = 0 \\to x=3, x=4$"
      ],
      "text/plain": [
       "<IPython.core.display.Markdown object>"
      ]
     },
     "metadata": {},
     "output_type": "display_data"
    },
    {
     "name": "stdout",
     "output_type": "stream",
     "text": [
      "enunciado_latex: $x^{3} - 11 x^{2} + 40 x - 48= 0$ \n",
      "solucion_latex: $x^{3} - 11 x^{2} + 40 x - 48= 0 \\to \\left(x - 4\\right)^{2} \\left(x - 3\\right) = 0 \\to x=3, x=4$\n"
     ]
    },
    {
     "data": {
      "text/plain": [
       "[('$2x^4-6x^3+6x^2-2x=0$ ',\n",
       "  '$2x^4-6x^3+6x^2-2x=0 \\\\to 2 x \\\\left(x - 1\\\\right)^{3} = 0 \\\\to x=0, x=1$'),\n",
       " ('$6x^3-12x^2+6x=0$ ',\n",
       "  '$6x^3-12x^2+6x=0 \\\\to 6 x \\\\left(x - 1\\\\right)^{2} = 0 \\\\to x=0, x=1$'),\n",
       " ('$4 x^{5} - 12 x^{4} + 13 x^{3} - 6 x^{2} + x = 0$ ',\n",
       "  '$4 x^{5} - 12 x^{4} + 13 x^{3} - 6 x^{2} + x = 0 \\\\to x \\\\left(x - 1\\\\right)^{2} \\\\left(2 x - 1\\\\right)^{2} = 0 \\\\to x=0, x=\\\\frac{1}{2}, x=1$'),\n",
       " ('$x^{3} - 11 x^{2} + 40 x - 48= 0$ ',\n",
       "  '$x^{3} - 11 x^{2} + 40 x - 48= 0 \\\\to \\\\left(x - 4\\\\right)^{2} \\\\left(x - 3\\\\right) = 0 \\\\to x=3, x=4$')]"
      ]
     },
     "execution_count": 48,
     "metadata": {},
     "output_type": "execute_result"
    }
   ],
   "source": [
    "# Resuelve las siguientes ecuaciones polinómicas:\n",
    "\n",
    "ejercicios = [\n",
    "              r'2x^4-6x^3+6x^2-2x=0',\n",
    "              r'6x^3-12x^2+6x=0',\n",
    "    \n",
    "    r'4 x^{5} - 12 x^{4} + 13 x^{3} - 6 x^{2} + x = 0', r'x^{3} - 11 x^{2} + 40 x - 48= 0'\n",
    "    \n",
    "    \n",
    "            \n",
    "]\n",
    "\n",
    "display(md(\"## Resuelve las siguientes ecuaciones polinómicas:\"))\n",
    " \n",
    "    \n",
    "\n",
    "[mostrar_ejercicio(r\"${}$ \".format(e), \n",
    "                   r\"${} \\to {}\".format(e, latex(factor(parse_latex(e))))\n",
    "                   +r\" \\to x=\"+r\", x=\".join(map(latex,solve(parse_latex(e))))+r\"$\"\n",
    "                  )\n",
    "for e in ejercicios]\n"
   ]
  },
  {
   "cell_type": "code",
   "execution_count": 49,
   "metadata": {
    "colab": {
     "base_uri": "https://localhost:8080/",
     "height": 318
    },
    "id": "fjTZCWvjjMYM",
    "outputId": "bf2e08f7-a483-46e9-b3f0-3f2ac8814277"
   },
   "outputs": [
    {
     "data": {
      "text/markdown": [
       "## Resuelve las siguientes ecuaciones irracionales:"
      ],
      "text/plain": [
       "<IPython.core.display.Markdown object>"
      ]
     },
     "metadata": {},
     "output_type": "display_data"
    },
    {
     "data": {
      "text/markdown": [
       "#### Ejercicio:"
      ],
      "text/plain": [
       "<IPython.core.display.Markdown object>"
      ]
     },
     "metadata": {},
     "output_type": "display_data"
    },
    {
     "data": {
      "text/markdown": [
       "$\\sqrt{x+1}+5=x$  $\\to$ $\\sqrt{x+1}+5=x \\to \\sqrt{x + 1} = x - 5 \\to x + 1 = \\left(x - 5\\right)^{2} \\to - x^{2} + 11 x - 24 = 0 \\to x=8$"
      ],
      "text/plain": [
       "<IPython.core.display.Markdown object>"
      ]
     },
     "metadata": {},
     "output_type": "display_data"
    },
    {
     "name": "stdout",
     "output_type": "stream",
     "text": [
      "enunciado_latex: $\\sqrt{x+1}+5=x$ \n",
      "solucion_latex: $\\sqrt{x+1}+5=x \\to \\sqrt{x + 1} = x - 5 \\to x + 1 = \\left(x - 5\\right)^{2} \\to - x^{2} + 11 x - 24 = 0 \\to x=8$\n"
     ]
    },
    {
     "data": {
      "text/markdown": [
       "#### Ejercicio:"
      ],
      "text/plain": [
       "<IPython.core.display.Markdown object>"
      ]
     },
     "metadata": {},
     "output_type": "display_data"
    },
    {
     "data": {
      "text/markdown": [
       "$\\sqrt{3x-2}+\\sqrt{x-1}=3$  $\\to$ $\\sqrt{3x-2}+\\sqrt{x-1}=3 \\to \\sqrt{3 x - 2} = 3 - \\sqrt{x - 1} \\to 3 x - 2 = \\left(3 - \\sqrt{x - 1}\\right)^{2} \\to 2 x + 6 \\sqrt{x - 1} - 10 = 0 \\to x=2$"
      ],
      "text/plain": [
       "<IPython.core.display.Markdown object>"
      ]
     },
     "metadata": {},
     "output_type": "display_data"
    },
    {
     "name": "stdout",
     "output_type": "stream",
     "text": [
      "enunciado_latex: $\\sqrt{3x-2}+\\sqrt{x-1}=3$ \n",
      "solucion_latex: $\\sqrt{3x-2}+\\sqrt{x-1}=3 \\to \\sqrt{3 x - 2} = 3 - \\sqrt{x - 1} \\to 3 x - 2 = \\left(3 - \\sqrt{x - 1}\\right)^{2} \\to 2 x + 6 \\sqrt{x - 1} - 10 = 0 \\to x=2$\n"
     ]
    }
   ],
   "source": [
    "# Resuelve las siguientes ecuaciones irracionales: (solo tiene que tener un radical y ser el primero a la izquierda)\n",
    "\n",
    "ejercicios = [\n",
    "              r'\\sqrt{x+1}+5=x',\n",
    "              r'\\sqrt{3x-2}+\\sqrt{x-1}=3',\n",
    "\n",
    "                \n",
    "\n",
    "    \n",
    "\n",
    "            ]\n",
    "\n",
    "display(md(\"## Resuelve las siguientes ecuaciones irracionales:\"))\n",
    "\n",
    "for e in ejercicios :\n",
    "    enunciado = r\"${}$ \".format(e)\n",
    "    ec = parse_latex(e)\n",
    "    solucion = r\"${} \\to {}\".format(e, manipular_ec_irracional(ec)[0])\n",
    "    solucion += r\" \\to x=\"+r\", x=\".join(map(latex,solve(parse_latex(e))))+r\"$\"\n",
    "    \n",
    "    mostrar_ejercicio(enunciado, solucion)\n",
    "    \n",
    "    \n",
    "# [mostrar_ejercicio(r\"${}$ \".format(e), \n",
    "#                    r\"${} \\to {}\".format(e, latex(factor(parse_latex(e))))\n",
    "#                    r\"x=\"+r\", x=\".join(map(latex,solve(parse_latex(e))))+r\"$\"\n",
    "#                   )\n",
    "# for e in ejercicios]\n"
   ]
  },
  {
   "cell_type": "code",
   "execution_count": 50,
   "metadata": {
    "colab": {
     "base_uri": "https://localhost:8080/",
     "height": 38
    },
    "id": "ISHzoF6pjMYM",
    "outputId": "2e92d2bf-b017-430f-a2a6-9db8706a664b"
   },
   "outputs": [
    {
     "data": {
      "image/png": "[encoded data removed]",
      "text/latex": [
       "$\\displaystyle \\left[ 2 x + 6 \\sqrt{x - 1}, \\  -10\\right]$"
      ],
      "text/plain": [
       "⎡          _______     ⎤\n",
       "⎣2⋅x + 6⋅╲╱ x - 1 , -10⎦"
      ]
     },
     "execution_count": 50,
     "metadata": {},
     "output_type": "execute_result"
    }
   ],
   "source": [
    "expr = sqrt(x-1)\n",
    "expr.is_rational\n",
    "\n",
    "#ec=parse_latex(r'5+\\sqrt{x+1}=x')\n",
    "ec = parse_latex(r'2 x + 6 \\sqrt{x - 1}-10 = 0')\n",
    "\n",
    "#[i for i in enumerate(x for x in ec.args[0].args if not(x.is_rational_function()))]\n",
    "#[i for i in enumerate(x for x in ec.args[0].args)]  \n",
    "[i for i in ec.args[0].args]   "
   ]
  },
  {
   "cell_type": "code",
   "execution_count": 51,
   "metadata": {
    "colab": {
     "base_uri": "https://localhost:8080/"
    },
    "id": "RQvzaRcbjMYN",
    "outputId": "c530553e-6255-4779-f54a-2da68026d2f8"
   },
   "outputs": [
    {
     "data": {
      "text/plain": [
       "True"
      ]
     },
     "execution_count": 51,
     "metadata": {},
     "output_type": "execute_result"
    }
   ],
   "source": [
    "expr = 2*x\n",
    "expr.is_rational_function()"
   ]
  },
  {
   "cell_type": "code",
   "execution_count": 52,
   "metadata": {
    "colab": {
     "base_uri": "https://localhost:8080/",
     "height": 36
    },
    "id": "BF8plJrBjMYN",
    "outputId": "29e2669c-a477-4208-e37f-36da8bcc721a"
   },
   "outputs": [
    {
     "data": {
      "text/plain": [
       "'\\\\sqrt{x + 1} = x - 5 \\\\to x + 1 = \\\\left(x - 5\\\\right)^{2} \\\\to - x^{2} + 11 x - 24 = 0'"
      ]
     },
     "execution_count": 52,
     "metadata": {},
     "output_type": "execute_result"
    }
   ],
   "source": [
    "ec=parse_latex(r'\\sqrt{x+1}+5=x')\n",
    "\n",
    "def manipular_ec_irracional(ec) :\n",
    "    # Aisla el primer argumento del miembro de la izquierda y eleva todo al cuadrado\n",
    "    transformaciones = [#ec,\n",
    "                        Eq(ec.args[0].args[0],ec.args[1]-(ec.args[0]-ec.args[0].args[0])), \n",
    "                        Eq(ec.args[0].args[0]**2,(ec.args[1]-(ec.args[0]-ec.args[0].args[0]))**2), \n",
    "                        Eq(expand(ec.args[0].args[0]**2-(ec.args[1]-(ec.args[0]-ec.args[0].args[0]))**2),0)]\n",
    "\n",
    "    return r\" \\to \".join(map(latex,transformaciones)), transformaciones[-1]\n",
    "\n",
    "manipular_ec_irracional(ec)[0]"
   ]
  },
  {
   "cell_type": "code",
   "execution_count": 53,
   "metadata": {
    "colab": {
     "base_uri": "https://localhost:8080/",
     "height": 290
    },
    "id": "z86VkfwIjMYO",
    "outputId": "53c687c8-9e22-4b44-8a90-363f66a64ce6"
   },
   "outputs": [
    {
     "data": {
      "text/markdown": [
       "## Resuelve las siguientes ecuaciones:"
      ],
      "text/plain": [
       "<IPython.core.display.Markdown object>"
      ]
     },
     "metadata": {},
     "output_type": "display_data"
    },
    {
     "data": {
      "text/markdown": [
       "#### Ejercicio:"
      ],
      "text/plain": [
       "<IPython.core.display.Markdown object>"
      ]
     },
     "metadata": {},
     "output_type": "display_data"
    },
    {
     "data": {
      "text/markdown": [
       "$\\sqrt{x+1}+5=x$  $\\to$ x=8$"
      ],
      "text/plain": [
       "<IPython.core.display.Markdown object>"
      ]
     },
     "metadata": {},
     "output_type": "display_data"
    },
    {
     "name": "stdout",
     "output_type": "stream",
     "text": [
      "enunciado_latex: $\\sqrt{x+1}+5=x$ \n",
      "solucion_latex: x=8$\n"
     ]
    },
    {
     "data": {
      "text/markdown": [
       "#### Ejercicio:"
      ],
      "text/plain": [
       "<IPython.core.display.Markdown object>"
      ]
     },
     "metadata": {},
     "output_type": "display_data"
    },
    {
     "data": {
      "text/markdown": [
       "$\\sqrt{3x-2}+\\sqrt{x-1}=3$  $\\to$ x=2$"
      ],
      "text/plain": [
       "<IPython.core.display.Markdown object>"
      ]
     },
     "metadata": {},
     "output_type": "display_data"
    },
    {
     "name": "stdout",
     "output_type": "stream",
     "text": [
      "enunciado_latex: $\\sqrt{3x-2}+\\sqrt{x-1}=3$ \n",
      "solucion_latex: x=2$\n"
     ]
    },
    {
     "data": {
      "text/plain": [
       "[('$\\\\sqrt{x+1}+5=x$ ', 'x=8$'), ('$\\\\sqrt{3x-2}+\\\\sqrt{x-1}=3$ ', 'x=2$')]"
      ]
     },
     "execution_count": 53,
     "metadata": {},
     "output_type": "execute_result"
    }
   ],
   "source": [
    "# Resuelve las siguientes ecuaciones:\n",
    "\n",
    "ejercicios = [\n",
    "              r'\\sqrt{x+1}+5=x',\n",
    "              r'\\sqrt{3x-2}+\\sqrt{x-1}=3'\n",
    "            ]\n",
    "\n",
    "display(md(\"## Resuelve las siguientes ecuaciones:\"))\n",
    "\n",
    "[mostrar_ejercicio(r\"${}$ \".format(e), \n",
    "                   r\"x=\"+r\", x=\".join(map(latex,solve(parse_latex(e))))+r\"$\"\n",
    "                  )\n",
    "for e in ejercicios]\n"
   ]
  },
  {
   "cell_type": "code",
   "execution_count": 54,
   "metadata": {
    "colab": {
     "base_uri": "https://localhost:8080/",
     "height": 452
    },
    "id": "jmhe649_jMYO",
    "outputId": "68fc36f2-42d8-4063-b094-a9901f63eca1"
   },
   "outputs": [
    {
     "data": {
      "text/markdown": [
       "## Resuelve las siguientes ecuaciones:"
      ],
      "text/plain": [
       "<IPython.core.display.Markdown object>"
      ]
     },
     "metadata": {},
     "output_type": "display_data"
    },
    {
     "data": {
      "text/markdown": [
       "#### Ejercicio:"
      ],
      "text/plain": [
       "<IPython.core.display.Markdown object>"
      ]
     },
     "metadata": {},
     "output_type": "display_data"
    },
    {
     "data": {
      "text/markdown": [
       "$2\\log x- \\log{\\left(3x-5\\right)}=\\log{5x} - 1$  $\\to$ $x=5$"
      ],
      "text/plain": [
       "<IPython.core.display.Markdown object>"
      ]
     },
     "metadata": {},
     "output_type": "display_data"
    },
    {
     "name": "stdout",
     "output_type": "stream",
     "text": [
      "enunciado_latex: $2\\log x- \\log{\\left(3x-5\\right)}=\\log{5x} - 1$ \n",
      "solucion_latex: $x=5$\n"
     ]
    },
    {
     "data": {
      "text/markdown": [
       "#### Ejercicio:"
      ],
      "text/plain": [
       "<IPython.core.display.Markdown object>"
      ]
     },
     "metadata": {},
     "output_type": "display_data"
    },
    {
     "data": {
      "text/markdown": [
       "$\\log {\\left(x-1\\right)}+ \\log{2}=\\log{\\left(x^2+3\\right)} - \\log x$  $\\to$ $x=3$"
      ],
      "text/plain": [
       "<IPython.core.display.Markdown object>"
      ]
     },
     "metadata": {},
     "output_type": "display_data"
    },
    {
     "name": "stdout",
     "output_type": "stream",
     "text": [
      "enunciado_latex: $\\log {\\left(x-1\\right)}+ \\log{2}=\\log{\\left(x^2+3\\right)} - \\log x$ \n",
      "solucion_latex: $x=3$\n"
     ]
    },
    {
     "data": {
      "text/markdown": [
       "#### Ejercicio:"
      ],
      "text/plain": [
       "<IPython.core.display.Markdown object>"
      ]
     },
     "metadata": {},
     "output_type": "display_data"
    },
    {
     "data": {
      "text/markdown": [
       "$\\left(x^2-5x+5\\right)\\log 5 + \\log{20}=\\log 4$  $\\to$ $x=2, x=3$"
      ],
      "text/plain": [
       "<IPython.core.display.Markdown object>"
      ]
     },
     "metadata": {},
     "output_type": "display_data"
    },
    {
     "name": "stdout",
     "output_type": "stream",
     "text": [
      "enunciado_latex: $\\left(x^2-5x+5\\right)\\log 5 + \\log{20}=\\log 4$ \n",
      "solucion_latex: $x=2, x=3$\n"
     ]
    },
    {
     "data": {
      "text/plain": [
       "[('$2\\\\log x- \\\\log{\\\\left(3x-5\\\\right)}=\\\\log{5x} - 1$ ', '$x=5$'),\n",
       " ('$\\\\log {\\\\left(x-1\\\\right)}+ \\\\log{2}=\\\\log{\\\\left(x^2+3\\\\right)} - \\\\log x$ ',\n",
       "  '$x=3$'),\n",
       " ('$\\\\left(x^2-5x+5\\\\right)\\\\log 5 + \\\\log{20}=\\\\log 4$ ', '$x=2, x=3$')]"
      ]
     },
     "execution_count": 54,
     "metadata": {},
     "output_type": "execute_result"
    }
   ],
   "source": [
    "# Resuelve las siguientes ecuaciones:\n",
    "\n",
    "ejercicios = [[r'2\\log x- \\log{\\left(3x-5\\right)}=\\log{5x} - 1', Eq(2*log(x,10)-log(3*x-5,10),log(5*x,10)-1)],\n",
    "              [r'\\log {\\left(x-1\\right)}+ \\log{2}=\\log{\\left(x^2+3\\right)} - \\log x',Eq(log(x-1,10)+log(2,10),log(x**2+3,10)-log(x,10))],\n",
    "              [r'\\left(x^2-5x+5\\right)\\log 5 + \\log{20}=\\log 4',Eq((x**2-5*x+5)*log(5,10)+log(20,10),log(4,10))],\n",
    "              \n",
    "            ]\n",
    "\n",
    "display(md(\"## Resuelve las siguientes ecuaciones:\"))\n",
    "\n",
    "[mostrar_ejercicio(r\"${}$ \".format(e[0]), \n",
    "                   r\"$x=\"+r\", x=\".join(map(latex,solve(e[1])))+r\"$\"\n",
    "                  )\n",
    "for e in ejercicios]\n",
    "\n",
    "\n"
   ]
  }
 ],
 "metadata": {
  "colab": {
   "collapsed_sections": [],
   "name": "12-Radicales2.ipynb",
   "provenance": []
  },
  "kernelspec": {
   "display_name": "Python 3",
   "language": "python",
   "name": "python3"
  },
  "language_info": {
   "codemirror_mode": {
    "name": "ipython",
    "version": 3
   },
   "file_extension": ".py",
   "mimetype": "text/x-python",
   "name": "python",
   "nbconvert_exporter": "python",
   "pygments_lexer": "ipython3",
   "version": "3.6.12"
  }
 },
 "nbformat": 4,
 "nbformat_minor": 1
}
