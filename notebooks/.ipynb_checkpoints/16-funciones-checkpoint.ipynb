{
 "cells": [
  {
   "cell_type": "code",
   "execution_count": 1,
   "metadata": {
    "colab": {
     "base_uri": "https://localhost:8080/"
    },
    "id": "XLjKRF_kknDB",
    "outputId": "ca9e2006-3316-4e78-868f-fa0e55c1f4e2"
   },
   "outputs": [
    {
     "name": "stdout",
     "output_type": "stream",
     "text": [
      "Collecting sympy==1.5\n",
      "\u001b[?25l  Downloading https://files.pythonhosted.org/packages/4d/a7/25d5d6b3295537ab90bdbcd21e464633fb4a0684dd9a065da404487625bb/sympy-1.5-py2.py3-none-any.whl (5.6MB)\n",
      "\u001b[K     |████████████████████████████████| 5.6MB 5.6MB/s \n",
      "\u001b[?25hCollecting antlr4-python3-runtime==4.7.1\n",
      "\u001b[?25l  Downloading https://files.pythonhosted.org/packages/3e/96/aba01b2948ec67f237cd387c022820835ae0d8db5cab4bd404b351660b5e/antlr4-python3-runtime-4.7.1.tar.gz (111kB)\n",
      "\u001b[K     |████████████████████████████████| 112kB 49.5MB/s \n",
      "\u001b[?25hRequirement already satisfied: mpmath>=0.19 in /usr/local/lib/python3.7/dist-packages (from sympy==1.5) (1.2.1)\n",
      "Building wheels for collected packages: antlr4-python3-runtime\n",
      "  Building wheel for antlr4-python3-runtime (setup.py) ... \u001b[?25l\u001b[?25hdone\n",
      "  Created wheel for antlr4-python3-runtime: filename=antlr4_python3_runtime-4.7.1-cp37-none-any.whl size=140552 sha256=b51746f8b77cb7784c8cfff10189ac81fc9199c362c9405ce609f65034682bba\n",
      "  Stored in directory: /root/.cache/pip/wheels/ef/f6/18/ad300e691236a3408a99edc750484b56e8d6b11b2c38eacb10\n",
      "Successfully built antlr4-python3-runtime\n",
      "Installing collected packages: sympy, antlr4-python3-runtime\n",
      "  Found existing installation: sympy 1.1.1\n",
      "    Uninstalling sympy-1.1.1:\n",
      "      Successfully uninstalled sympy-1.1.1\n",
      "Successfully installed antlr4-python3-runtime-4.7.1 sympy-1.5\n"
     ]
    }
   ],
   "source": [
    "# Ejecutar para que funcione el parse_latex en google colab\n",
    "\n",
    "#!pip install sympy==1.5 antlr4-python3-runtime==4.7.1"
   ]
  },
  {
   "cell_type": "code",
   "execution_count": 1,
   "metadata": {
    "colab": {
     "base_uri": "https://localhost:8080/"
    },
    "id": "tVIMjcDSknDa",
    "outputId": "05d8341a-7a9f-470c-f3c3-8c45be1c094f"
   },
   "outputs": [
    {
     "name": "stdout",
     "output_type": "stream",
     "text": [
      "IPython console for SymPy 1.6.2 (Python 3.6.12-64-bit) (ground types: gmpy)\n",
      "\n",
      "These commands were executed:\n",
      ">>> from __future__ import division\n",
      ">>> from sympy import *\n",
      ">>> x, y, z, t = symbols('x y z t')\n",
      ">>> k, m, n = symbols('k m n', integer=True)\n",
      ">>> f, g, h = symbols('f g h', cls=Function)\n",
      ">>> init_printing()\n",
      "\n",
      "Documentation can be found at https://docs.sympy.org/1.6.2/\n",
      "\n"
     ]
    }
   ],
   "source": [
    "from sympy import init_session\n",
    "from sympy.parsing.latex import parse_latex\n",
    "from sympy.parsing.sympy_parser import parse_expr\n",
    "from IPython.display import Markdown as md\n",
    "from IPython.display import display\n",
    "\n",
    "\n",
    "init_session()"
   ]
  },
  {
   "cell_type": "code",
   "execution_count": 2,
   "metadata": {
    "id": "0kKrNlGb9jl0"
   },
   "outputs": [],
   "source": [
    "\n",
    "from sympy.solvers.inequalities import solve_univariate_inequality, reduce_rational_inequalities, reduce_abs_inequality\n",
    "\n",
    "from sympy.calculus.util import continuous_domain, function_range\n",
    "\n",
    "%matplotlib inline"
   ]
  },
  {
   "cell_type": "code",
   "execution_count": 3,
   "metadata": {
    "id": "U_EQ3XUBknDf"
   },
   "outputs": [],
   "source": [
    "def mostrar_ejercicio(ejercicio,solucion,tipo=0) :\n",
    "    #tipo=0 se pasa el ejercicio y la solucion en formato latex\n",
    "    if tipo == 0 :\n",
    "        display(md(\"#### Ejercicio:\"))\n",
    "        display(md(r\"{} $\\to$ {}\".format(ejercicio, solucion)))\n",
    "        print(\"enunciado_latex: \" + ejercicio)\n",
    "        print(\"solucion_latex: \" + solucion)\n",
    "        return ejercicio, solucion\n",
    "    elif tipo == 1:\n",
    "        # falta desarrollar ...\n",
    "        display(md(\"#### Ejercicio:\"))\n",
    "        display(md(r\"{} $\\to$ {}\".format(ejercicio, solucion)))\n",
    "        print(\"enunciado_latex: \" + ejercicio)\n",
    "        print(\"solucion_latex: \" + solucion)\n",
    "        return ejercicio, solucion\n",
    "\n",
    "        "
   ]
  },
  {
   "cell_type": "code",
   "execution_count": 5,
   "metadata": {
    "colab": {
     "base_uri": "https://localhost:8080/",
     "height": 1000
    },
    "id": "ExSw2L1fkPFe",
    "outputId": "254a375e-fc48-4994-d092-bae134958afd"
   },
   "outputs": [
    {
     "data": {
      "text/markdown": [
       "**Calcular el dominio de las siguientes funciones:**"
      ],
      "text/plain": [
       "<IPython.core.display.Markdown object>"
      ]
     },
     "metadata": {},
     "output_type": "display_data"
    },
    {
     "data": {
      "text/markdown": [
       "#### Ejercicio:"
      ],
      "text/plain": [
       "<IPython.core.display.Markdown object>"
      ]
     },
     "metadata": {},
     "output_type": "display_data"
    },
    {
     "data": {
      "text/markdown": [
       "$f(x)=\\frac{x+13}{x^4+x^3-3x^2-3x}$ $\\to$ $\\left(-\\infty, - \\sqrt{3}\\right) \\cup \\left(- \\sqrt{3}, -1\\right) \\cup \\left(-1, 0\\right) \\cup \\left(0, \\sqrt{3}\\right) \\cup \\left(\\sqrt{3}, \\infty\\right)$"
      ],
      "text/plain": [
       "<IPython.core.display.Markdown object>"
      ]
     },
     "metadata": {},
     "output_type": "display_data"
    },
    {
     "name": "stdout",
     "output_type": "stream",
     "text": [
      "enunciado_latex: $f(x)=\\frac{x+13}{x^4+x^3-3x^2-3x}$\n",
      "solucion_latex: $\\left(-\\infty, - \\sqrt{3}\\right) \\cup \\left(- \\sqrt{3}, -1\\right) \\cup \\left(-1, 0\\right) \\cup \\left(0, \\sqrt{3}\\right) \\cup \\left(\\sqrt{3}, \\infty\\right)$\n"
     ]
    },
    {
     "data": {
      "image/png": "[encoded data removed]",
      "text/plain": [
       "<Figure size 432x288 with 1 Axes>"
      ]
     },
     "metadata": {
      "needs_background": "light"
     },
     "output_type": "display_data"
    },
    {
     "data": {
      "text/markdown": [
       "#### Ejercicio:"
      ],
      "text/plain": [
       "<IPython.core.display.Markdown object>"
      ]
     },
     "metadata": {},
     "output_type": "display_data"
    },
    {
     "data": {
      "text/markdown": [
       "$f(x)=x^6+x^2-2$ $\\to$ $\\mathbb{R}$"
      ],
      "text/plain": [
       "<IPython.core.display.Markdown object>"
      ]
     },
     "metadata": {},
     "output_type": "display_data"
    },
    {
     "name": "stdout",
     "output_type": "stream",
     "text": [
      "enunciado_latex: $f(x)=x^6+x^2-2$\n",
      "solucion_latex: $\\mathbb{R}$\n"
     ]
    },
    {
     "data": {
      "image/png": "[encoded data removed]",
      "text/plain": [
       "<Figure size 432x288 with 1 Axes>"
      ]
     },
     "metadata": {
      "needs_background": "light"
     },
     "output_type": "display_data"
    },
    {
     "data": {
      "text/markdown": [
       "#### Ejercicio:"
      ],
      "text/plain": [
       "<IPython.core.display.Markdown object>"
      ]
     },
     "metadata": {},
     "output_type": "display_data"
    },
    {
     "data": {
      "text/markdown": [
       "$f(x)=\\frac{7x+9}{x^3+8}$ $\\to$ $\\left(-\\infty, -2\\right) \\cup \\left(-2, \\infty\\right)$"
      ],
      "text/plain": [
       "<IPython.core.display.Markdown object>"
      ]
     },
     "metadata": {},
     "output_type": "display_data"
    },
    {
     "name": "stdout",
     "output_type": "stream",
     "text": [
      "enunciado_latex: $f(x)=\\frac{7x+9}{x^3+8}$\n",
      "solucion_latex: $\\left(-\\infty, -2\\right) \\cup \\left(-2, \\infty\\right)$\n"
     ]
    },
    {
     "data": {
      "image/png": "[encoded data removed]",
      "text/plain": [
       "<Figure size 432x288 with 1 Axes>"
      ]
     },
     "metadata": {
      "needs_background": "light"
     },
     "output_type": "display_data"
    },
    {
     "data": {
      "text/markdown": [
       "#### Ejercicio:"
      ],
      "text/plain": [
       "<IPython.core.display.Markdown object>"
      ]
     },
     "metadata": {},
     "output_type": "display_data"
    },
    {
     "data": {
      "text/markdown": [
       "$f(x)=\\sqrt{\\frac{x-1}{x}}$ $\\to$ $\\left(-\\infty, 0\\right) \\cup \\left[1, \\infty\\right)$"
      ],
      "text/plain": [
       "<IPython.core.display.Markdown object>"
      ]
     },
     "metadata": {},
     "output_type": "display_data"
    },
    {
     "name": "stdout",
     "output_type": "stream",
     "text": [
      "enunciado_latex: $f(x)=\\sqrt{\\frac{x-1}{x}}$\n",
      "solucion_latex: $\\left(-\\infty, 0\\right) \\cup \\left[1, \\infty\\right)$\n"
     ]
    },
    {
     "data": {
      "image/png": "[encoded data removed]",
      "text/plain": [
       "<Figure size 432x288 with 1 Axes>"
      ]
     },
     "metadata": {
      "needs_background": "light"
     },
     "output_type": "display_data"
    },
    {
     "data": {
      "text/markdown": [
       "#### Ejercicio:"
      ],
      "text/plain": [
       "<IPython.core.display.Markdown object>"
      ]
     },
     "metadata": {},
     "output_type": "display_data"
    },
    {
     "data": {
      "text/markdown": [
       "$f(x)=\\frac{x^3-6x^2+4x+8}{x^3-x^2-9x+9}$ $\\to$ $\\left(-\\infty, -3\\right) \\cup \\left(-3, 1\\right) \\cup \\left(1, 3\\right) \\cup \\left(3, \\infty\\right)$"
      ],
      "text/plain": [
       "<IPython.core.display.Markdown object>"
      ]
     },
     "metadata": {},
     "output_type": "display_data"
    },
    {
     "name": "stdout",
     "output_type": "stream",
     "text": [
      "enunciado_latex: $f(x)=\\frac{x^3-6x^2+4x+8}{x^3-x^2-9x+9}$\n",
      "solucion_latex: $\\left(-\\infty, -3\\right) \\cup \\left(-3, 1\\right) \\cup \\left(1, 3\\right) \\cup \\left(3, \\infty\\right)$\n"
     ]
    },
    {
     "data": {
      "image/png": "[encoded data removed]",
      "text/plain": [
       "<Figure size 432x288 with 1 Axes>"
      ]
     },
     "metadata": {
      "needs_background": "light"
     },
     "output_type": "display_data"
    },
    {
     "data": {
      "text/markdown": [
       "#### Ejercicio:"
      ],
      "text/plain": [
       "<IPython.core.display.Markdown object>"
      ]
     },
     "metadata": {},
     "output_type": "display_data"
    },
    {
     "data": {
      "text/markdown": [
       "$f(x)=\\frac{1}{4x^2-1}$ $\\to$ $\\left(-\\infty, - \\frac{1}{2}\\right) \\cup \\left(- \\frac{1}{2}, \\frac{1}{2}\\right) \\cup \\left(\\frac{1}{2}, \\infty\\right)$"
      ],
      "text/plain": [
       "<IPython.core.display.Markdown object>"
      ]
     },
     "metadata": {},
     "output_type": "display_data"
    },
    {
     "name": "stdout",
     "output_type": "stream",
     "text": [
      "enunciado_latex: $f(x)=\\frac{1}{4x^2-1}$\n",
      "solucion_latex: $\\left(-\\infty, - \\frac{1}{2}\\right) \\cup \\left(- \\frac{1}{2}, \\frac{1}{2}\\right) \\cup \\left(\\frac{1}{2}, \\infty\\right)$\n"
     ]
    },
    {
     "data": {
      "image/png": "[encoded data removed]",
      "text/plain": [
       "<Figure size 432x288 with 1 Axes>"
      ]
     },
     "metadata": {
      "needs_background": "light"
     },
     "output_type": "display_data"
    },
    {
     "data": {
      "text/markdown": [
       "#### Ejercicio:"
      ],
      "text/plain": [
       "<IPython.core.display.Markdown object>"
      ]
     },
     "metadata": {},
     "output_type": "display_data"
    },
    {
     "data": {
      "text/markdown": [
       "$f(x)=\\frac{1}{\\sqrt[4]{9-x^2}}$ $\\to$ $\\left(-\\infty, -3\\right) \\cup \\left(-3, 3\\right) \\cup \\left(3, \\infty\\right)$"
      ],
      "text/plain": [
       "<IPython.core.display.Markdown object>"
      ]
     },
     "metadata": {},
     "output_type": "display_data"
    },
    {
     "name": "stdout",
     "output_type": "stream",
     "text": [
      "enunciado_latex: $f(x)=\\frac{1}{\\sqrt[4]{9-x^2}}$\n",
      "solucion_latex: $\\left(-\\infty, -3\\right) \\cup \\left(-3, 3\\right) \\cup \\left(3, \\infty\\right)$\n"
     ]
    },
    {
     "data": {
      "image/png": "[encoded data removed]",
      "text/plain": [
       "<Figure size 432x288 with 1 Axes>"
      ]
     },
     "metadata": {
      "needs_background": "light"
     },
     "output_type": "display_data"
    },
    {
     "data": {
      "text/markdown": [
       "#### Ejercicio:"
      ],
      "text/plain": [
       "<IPython.core.display.Markdown object>"
      ]
     },
     "metadata": {},
     "output_type": "display_data"
    },
    {
     "data": {
      "text/markdown": [
       "$f(x)=\\frac{2x+7}{\\sqrt[3]{9-x}}$ $\\to$ $\\left(-\\infty, 9\\right) \\cup \\left(9, \\infty\\right)$"
      ],
      "text/plain": [
       "<IPython.core.display.Markdown object>"
      ]
     },
     "metadata": {},
     "output_type": "display_data"
    },
    {
     "name": "stdout",
     "output_type": "stream",
     "text": [
      "enunciado_latex: $f(x)=\\frac{2x+7}{\\sqrt[3]{9-x}}$\n",
      "solucion_latex: $\\left(-\\infty, 9\\right) \\cup \\left(9, \\infty\\right)$\n"
     ]
    },
    {
     "data": {
      "image/png": "[encoded data removed]",
      "text/plain": [
       "<Figure size 432x288 with 1 Axes>"
      ]
     },
     "metadata": {
      "needs_background": "light"
     },
     "output_type": "display_data"
    },
    {
     "data": {
      "text/markdown": [
       "#### Ejercicio:"
      ],
      "text/plain": [
       "<IPython.core.display.Markdown object>"
      ]
     },
     "metadata": {},
     "output_type": "display_data"
    },
    {
     "data": {
      "text/markdown": [
       "$f(x)=\\frac{x^2-5x+6}{\\sqrt{x^4-1}}$ $\\to$ $\\left(-\\infty, -1\\right) \\cup \\left(1, \\infty\\right)$"
      ],
      "text/plain": [
       "<IPython.core.display.Markdown object>"
      ]
     },
     "metadata": {},
     "output_type": "display_data"
    },
    {
     "name": "stdout",
     "output_type": "stream",
     "text": [
      "enunciado_latex: $f(x)=\\frac{x^2-5x+6}{\\sqrt{x^4-1}}$\n",
      "solucion_latex: $\\left(-\\infty, -1\\right) \\cup \\left(1, \\infty\\right)$\n"
     ]
    },
    {
     "data": {
      "image/png": "[encoded data removed]",
      "text/plain": [
       "<Figure size 432x288 with 1 Axes>"
      ]
     },
     "metadata": {
      "needs_background": "light"
     },
     "output_type": "display_data"
    },
    {
     "data": {
      "text/markdown": [
       "#### Ejercicio:"
      ],
      "text/plain": [
       "<IPython.core.display.Markdown object>"
      ]
     },
     "metadata": {},
     "output_type": "display_data"
    },
    {
     "data": {
      "text/markdown": [
       "$f(x)=\\sqrt{-2x^2+5x-3}$ $\\to$ $\\left[1, \\frac{3}{2}\\right]$"
      ],
      "text/plain": [
       "<IPython.core.display.Markdown object>"
      ]
     },
     "metadata": {},
     "output_type": "display_data"
    },
    {
     "name": "stdout",
     "output_type": "stream",
     "text": [
      "enunciado_latex: $f(x)=\\sqrt{-2x^2+5x-3}$\n",
      "solucion_latex: $\\left[1, \\frac{3}{2}\\right]$\n"
     ]
    },
    {
     "data": {
      "image/png": "[encoded data removed]",
      "text/plain": [
       "<Figure size 432x288 with 1 Axes>"
      ]
     },
     "metadata": {
      "needs_background": "light"
     },
     "output_type": "display_data"
    },
    {
     "data": {
      "text/markdown": [
       "#### Ejercicio:"
      ],
      "text/plain": [
       "<IPython.core.display.Markdown object>"
      ]
     },
     "metadata": {},
     "output_type": "display_data"
    },
    {
     "data": {
      "text/markdown": [
       "$f(x)=\\frac{x^2-3}{x^3-2x^2-x+2}$ $\\to$ $\\left(-\\infty, -1\\right) \\cup \\left(-1, 1\\right) \\cup \\left(1, 2\\right) \\cup \\left(2, \\infty\\right)$"
      ],
      "text/plain": [
       "<IPython.core.display.Markdown object>"
      ]
     },
     "metadata": {},
     "output_type": "display_data"
    },
    {
     "name": "stdout",
     "output_type": "stream",
     "text": [
      "enunciado_latex: $f(x)=\\frac{x^2-3}{x^3-2x^2-x+2}$\n",
      "solucion_latex: $\\left(-\\infty, -1\\right) \\cup \\left(-1, 1\\right) \\cup \\left(1, 2\\right) \\cup \\left(2, \\infty\\right)$\n"
     ]
    },
    {
     "data": {
      "image/png": "[encoded data removed]",
      "text/plain": [
       "<Figure size 432x288 with 1 Axes>"
      ]
     },
     "metadata": {
      "needs_background": "light"
     },
     "output_type": "display_data"
    },
    {
     "data": {
      "text/markdown": [
       "#### Ejercicio:"
      ],
      "text/plain": [
       "<IPython.core.display.Markdown object>"
      ]
     },
     "metadata": {},
     "output_type": "display_data"
    },
    {
     "data": {
      "text/markdown": [
       "$f(x)=\\frac{5x^3-8}{1+x+x^2}$ $\\to$ $\\mathbb{R}$"
      ],
      "text/plain": [
       "<IPython.core.display.Markdown object>"
      ]
     },
     "metadata": {},
     "output_type": "display_data"
    },
    {
     "name": "stdout",
     "output_type": "stream",
     "text": [
      "enunciado_latex: $f(x)=\\frac{5x^3-8}{1+x+x^2}$\n",
      "solucion_latex: $\\mathbb{R}$\n"
     ]
    },
    {
     "data": {
      "image/png": "[encoded data removed]",
      "text/plain": [
       "<Figure size 432x288 with 1 Axes>"
      ]
     },
     "metadata": {
      "needs_background": "light"
     },
     "output_type": "display_data"
    },
    {
     "data": {
      "text/markdown": [
       "#### Ejercicio:"
      ],
      "text/plain": [
       "<IPython.core.display.Markdown object>"
      ]
     },
     "metadata": {},
     "output_type": "display_data"
    },
    {
     "data": {
      "text/markdown": [
       "$f(x)=\\frac{x-1}{x^4-7x^2-144}$ $\\to$ $\\left(-\\infty, -4\\right) \\cup \\left(-4, 4\\right) \\cup \\left(4, \\infty\\right)$"
      ],
      "text/plain": [
       "<IPython.core.display.Markdown object>"
      ]
     },
     "metadata": {},
     "output_type": "display_data"
    },
    {
     "name": "stdout",
     "output_type": "stream",
     "text": [
      "enunciado_latex: $f(x)=\\frac{x-1}{x^4-7x^2-144}$\n",
      "solucion_latex: $\\left(-\\infty, -4\\right) \\cup \\left(-4, 4\\right) \\cup \\left(4, \\infty\\right)$\n"
     ]
    },
    {
     "data": {
      "image/png": "[encoded data removed]",
      "text/plain": [
       "<Figure size 432x288 with 1 Axes>"
      ]
     },
     "metadata": {
      "needs_background": "light"
     },
     "output_type": "display_data"
    },
    {
     "data": {
      "text/markdown": [
       "#### Ejercicio:"
      ],
      "text/plain": [
       "<IPython.core.display.Markdown object>"
      ]
     },
     "metadata": {},
     "output_type": "display_data"
    },
    {
     "data": {
      "text/markdown": [
       "$f(x)=\\frac{7x+9}{81x^4-16}$ $\\to$ $\\left(-\\infty, - \\frac{2}{3}\\right) \\cup \\left(- \\frac{2}{3}, \\frac{2}{3}\\right) \\cup \\left(\\frac{2}{3}, \\infty\\right)$"
      ],
      "text/plain": [
       "<IPython.core.display.Markdown object>"
      ]
     },
     "metadata": {},
     "output_type": "display_data"
    },
    {
     "name": "stdout",
     "output_type": "stream",
     "text": [
      "enunciado_latex: $f(x)=\\frac{7x+9}{81x^4-16}$\n",
      "solucion_latex: $\\left(-\\infty, - \\frac{2}{3}\\right) \\cup \\left(- \\frac{2}{3}, \\frac{2}{3}\\right) \\cup \\left(\\frac{2}{3}, \\infty\\right)$\n"
     ]
    },
    {
     "data": {
      "image/png": "[encoded data removed]",
      "text/plain": [
       "<Figure size 432x288 with 1 Axes>"
      ]
     },
     "metadata": {
      "needs_background": "light"
     },
     "output_type": "display_data"
    },
    {
     "data": {
      "text/markdown": [
       "#### Ejercicio:"
      ],
      "text/plain": [
       "<IPython.core.display.Markdown object>"
      ]
     },
     "metadata": {},
     "output_type": "display_data"
    },
    {
     "data": {
      "text/markdown": [
       "$f(x)=\\sqrt[3]{\\frac{x-1}{x}}$ $\\to$ $\\left(-\\infty, 0\\right) \\cup \\left(0, \\infty\\right)$"
      ],
      "text/plain": [
       "<IPython.core.display.Markdown object>"
      ]
     },
     "metadata": {},
     "output_type": "display_data"
    },
    {
     "name": "stdout",
     "output_type": "stream",
     "text": [
      "enunciado_latex: $f(x)=\\sqrt[3]{\\frac{x-1}{x}}$\n",
      "solucion_latex: $\\left(-\\infty, 0\\right) \\cup \\left(0, \\infty\\right)$\n"
     ]
    },
    {
     "data": {
      "image/png": "[encoded data removed]",
      "text/plain": [
       "<Figure size 432x288 with 1 Axes>"
      ]
     },
     "metadata": {
      "needs_background": "light"
     },
     "output_type": "display_data"
    },
    {
     "data": {
      "text/markdown": [
       "#### Ejercicio:"
      ],
      "text/plain": [
       "<IPython.core.display.Markdown object>"
      ]
     },
     "metadata": {},
     "output_type": "display_data"
    },
    {
     "data": {
      "text/markdown": [
       "$f(x)=\\sqrt[3]{\\frac{x^6-5x+1}{x^2-4x+4}}$ $\\to$ $\\left(-\\infty, 2\\right) \\cup \\left(2, \\infty\\right)$"
      ],
      "text/plain": [
       "<IPython.core.display.Markdown object>"
      ]
     },
     "metadata": {},
     "output_type": "display_data"
    },
    {
     "name": "stdout",
     "output_type": "stream",
     "text": [
      "enunciado_latex: $f(x)=\\sqrt[3]{\\frac{x^6-5x+1}{x^2-4x+4}}$\n",
      "solucion_latex: $\\left(-\\infty, 2\\right) \\cup \\left(2, \\infty\\right)$\n"
     ]
    },
    {
     "data": {
      "image/png": "[encoded data removed]",
      "text/plain": [
       "<Figure size 432x288 with 1 Axes>"
      ]
     },
     "metadata": {
      "needs_background": "light"
     },
     "output_type": "display_data"
    },
    {
     "data": {
      "text/markdown": [
       "#### Ejercicio:"
      ],
      "text/plain": [
       "<IPython.core.display.Markdown object>"
      ]
     },
     "metadata": {},
     "output_type": "display_data"
    },
    {
     "data": {
      "text/markdown": [
       "$f(x)=\\sqrt[4]{\\frac{x(x+7)}{x^2+5x+6}}$ $\\to$ $\\left(-\\infty, -3\\right) \\cup \\left(-3, -2\\right) \\cup \\left(-2, \\infty\\right)$"
      ],
      "text/plain": [
       "<IPython.core.display.Markdown object>"
      ]
     },
     "metadata": {},
     "output_type": "display_data"
    },
    {
     "name": "stdout",
     "output_type": "stream",
     "text": [
      "enunciado_latex: $f(x)=\\sqrt[4]{\\frac{x(x+7)}{x^2+5x+6}}$\n",
      "solucion_latex: $\\left(-\\infty, -3\\right) \\cup \\left(-3, -2\\right) \\cup \\left(-2, \\infty\\right)$\n"
     ]
    },
    {
     "ename": "TypeError",
     "evalue": "can't convert expression to float",
     "output_type": "error",
     "traceback": [
      "\u001b[0;31m---------------------------------------------------------------------------\u001b[0m",
      "\u001b[0;31mTypeError\u001b[0m                                 Traceback (most recent call last)",
      "\u001b[0;32m~/Mis_aplicaciones/anaconda3/lib/python3.6/site-packages/sympy/plotting/experimental_lambdify.py\u001b[0m in \u001b[0;36m__call__\u001b[0;34m(self, args, kwargs)\u001b[0m\n\u001b[1;32m    194\u001b[0m             \u001b[0;31m#The result can be sympy.Float. Hence wrap it with complex type.\u001b[0m\u001b[0;34m\u001b[0m\u001b[0;34m\u001b[0m\u001b[0;34m\u001b[0m\u001b[0m\n\u001b[0;32m--> 195\u001b[0;31m             \u001b[0mresult\u001b[0m \u001b[0;34m=\u001b[0m \u001b[0mcomplex\u001b[0m\u001b[0;34m(\u001b[0m\u001b[0mself\u001b[0m\u001b[0;34m.\u001b[0m\u001b[0mlambda_func\u001b[0m\u001b[0;34m(\u001b[0m\u001b[0margs\u001b[0m\u001b[0;34m)\u001b[0m\u001b[0;34m)\u001b[0m\u001b[0;34m\u001b[0m\u001b[0;34m\u001b[0m\u001b[0m\n\u001b[0m\u001b[1;32m    196\u001b[0m             \u001b[0;32mif\u001b[0m \u001b[0mabs\u001b[0m\u001b[0;34m(\u001b[0m\u001b[0mresult\u001b[0m\u001b[0;34m.\u001b[0m\u001b[0mimag\u001b[0m\u001b[0;34m)\u001b[0m \u001b[0;34m>\u001b[0m \u001b[0;36m1e-7\u001b[0m \u001b[0;34m*\u001b[0m \u001b[0mabs\u001b[0m\u001b[0;34m(\u001b[0m\u001b[0mresult\u001b[0m\u001b[0;34m)\u001b[0m\u001b[0;34m:\u001b[0m\u001b[0;34m\u001b[0m\u001b[0;34m\u001b[0m\u001b[0m\n",
      "\u001b[0;32m~/Mis_aplicaciones/anaconda3/lib/python3.6/site-packages/sympy/core/expr.py\u001b[0m in \u001b[0;36m__complex__\u001b[0;34m(self)\u001b[0m\n\u001b[1;32m    331\u001b[0m         \u001b[0mre\u001b[0m\u001b[0;34m,\u001b[0m \u001b[0mim\u001b[0m \u001b[0;34m=\u001b[0m \u001b[0mresult\u001b[0m\u001b[0;34m.\u001b[0m\u001b[0mas_real_imag\u001b[0m\u001b[0;34m(\u001b[0m\u001b[0;34m)\u001b[0m\u001b[0;34m\u001b[0m\u001b[0;34m\u001b[0m\u001b[0m\n\u001b[0;32m--> 332\u001b[0;31m         \u001b[0;32mreturn\u001b[0m \u001b[0mcomplex\u001b[0m\u001b[0;34m(\u001b[0m\u001b[0mfloat\u001b[0m\u001b[0;34m(\u001b[0m\u001b[0mre\u001b[0m\u001b[0;34m)\u001b[0m\u001b[0;34m,\u001b[0m \u001b[0mfloat\u001b[0m\u001b[0;34m(\u001b[0m\u001b[0mim\u001b[0m\u001b[0;34m)\u001b[0m\u001b[0;34m)\u001b[0m\u001b[0;34m\u001b[0m\u001b[0;34m\u001b[0m\u001b[0m\n\u001b[0m\u001b[1;32m    333\u001b[0m \u001b[0;34m\u001b[0m\u001b[0m\n",
      "\u001b[0;32m~/Mis_aplicaciones/anaconda3/lib/python3.6/site-packages/sympy/core/expr.py\u001b[0m in \u001b[0;36m__float__\u001b[0;34m(self)\u001b[0m\n\u001b[1;32m    326\u001b[0m             \u001b[0;32mraise\u001b[0m \u001b[0mTypeError\u001b[0m\u001b[0;34m(\u001b[0m\u001b[0;34m\"can't convert complex to float\"\u001b[0m\u001b[0;34m)\u001b[0m\u001b[0;34m\u001b[0m\u001b[0;34m\u001b[0m\u001b[0m\n\u001b[0;32m--> 327\u001b[0;31m         \u001b[0;32mraise\u001b[0m \u001b[0mTypeError\u001b[0m\u001b[0;34m(\u001b[0m\u001b[0;34m\"can't convert expression to float\"\u001b[0m\u001b[0;34m)\u001b[0m\u001b[0;34m\u001b[0m\u001b[0;34m\u001b[0m\u001b[0m\n\u001b[0m\u001b[1;32m    328\u001b[0m \u001b[0;34m\u001b[0m\u001b[0m\n",
      "\u001b[0;31mTypeError\u001b[0m: can't convert expression to float",
      "\nDuring handling of the above exception, another exception occurred:\n",
      "\u001b[0;31mTypeError\u001b[0m                                 Traceback (most recent call last)",
      "\u001b[0;32m<ipython-input-5-460475e8d9a6>\u001b[0m in \u001b[0;36m<module>\u001b[0;34m\u001b[0m\n\u001b[1;32m     16\u001b[0m \u001b[0;32mfor\u001b[0m \u001b[0mi\u001b[0m \u001b[0;32min\u001b[0m \u001b[0mpre_enunciado_latex\u001b[0m \u001b[0;34m:\u001b[0m\u001b[0;34m\u001b[0m\u001b[0;34m\u001b[0m\u001b[0m\n\u001b[1;32m     17\u001b[0m     \u001b[0mmostrar_ejercicio\u001b[0m\u001b[0;34m(\u001b[0m\u001b[0;34mr\"$f(x)=\"\u001b[0m\u001b[0;34m+\u001b[0m\u001b[0mi\u001b[0m\u001b[0;34m+\u001b[0m\u001b[0;34mr\"$\"\u001b[0m\u001b[0;34m,\u001b[0m\u001b[0;34mr\"$\"\u001b[0m\u001b[0;34m+\u001b[0m\u001b[0mlatex\u001b[0m\u001b[0;34m(\u001b[0m\u001b[0mcontinuous_domain\u001b[0m\u001b[0;34m(\u001b[0m\u001b[0mparse_latex\u001b[0m\u001b[0;34m(\u001b[0m\u001b[0mi\u001b[0m\u001b[0;34m)\u001b[0m\u001b[0;34m,\u001b[0m\u001b[0mx\u001b[0m\u001b[0;34m,\u001b[0m\u001b[0mS\u001b[0m\u001b[0;34m.\u001b[0m\u001b[0mReals\u001b[0m\u001b[0;34m)\u001b[0m\u001b[0;34m)\u001b[0m\u001b[0;34m+\u001b[0m\u001b[0;34mr\"$\"\u001b[0m\u001b[0;34m)\u001b[0m\u001b[0;34m\u001b[0m\u001b[0;34m\u001b[0m\u001b[0m\n\u001b[0;32m---> 18\u001b[0;31m     \u001b[0mplot\u001b[0m\u001b[0;34m(\u001b[0m\u001b[0mparse_latex\u001b[0m\u001b[0;34m(\u001b[0m\u001b[0mi\u001b[0m\u001b[0;34m)\u001b[0m\u001b[0;34m)\u001b[0m\u001b[0;34m\u001b[0m\u001b[0;34m\u001b[0m\u001b[0m\n\u001b[0m\u001b[1;32m     19\u001b[0m \u001b[0;34m\u001b[0m\u001b[0m\n",
      "\u001b[0;32m~/Mis_aplicaciones/anaconda3/lib/python3.6/site-packages/sympy/plotting/plot.py\u001b[0m in \u001b[0;36mplot\u001b[0;34m(*args, **kwargs)\u001b[0m\n\u001b[1;32m   1644\u001b[0m     \u001b[0mplots\u001b[0m \u001b[0;34m=\u001b[0m \u001b[0mPlot\u001b[0m\u001b[0;34m(\u001b[0m\u001b[0;34m*\u001b[0m\u001b[0mseries\u001b[0m\u001b[0;34m,\u001b[0m \u001b[0;34m**\u001b[0m\u001b[0mkwargs\u001b[0m\u001b[0;34m)\u001b[0m\u001b[0;34m\u001b[0m\u001b[0;34m\u001b[0m\u001b[0m\n\u001b[1;32m   1645\u001b[0m     \u001b[0;32mif\u001b[0m \u001b[0mshow\u001b[0m\u001b[0;34m:\u001b[0m\u001b[0;34m\u001b[0m\u001b[0;34m\u001b[0m\u001b[0m\n\u001b[0;32m-> 1646\u001b[0;31m         \u001b[0mplots\u001b[0m\u001b[0;34m.\u001b[0m\u001b[0mshow\u001b[0m\u001b[0;34m(\u001b[0m\u001b[0;34m)\u001b[0m\u001b[0;34m\u001b[0m\u001b[0;34m\u001b[0m\u001b[0m\n\u001b[0m\u001b[1;32m   1647\u001b[0m     \u001b[0;32mreturn\u001b[0m \u001b[0mplots\u001b[0m\u001b[0;34m\u001b[0m\u001b[0;34m\u001b[0m\u001b[0m\n\u001b[1;32m   1648\u001b[0m \u001b[0;34m\u001b[0m\u001b[0m\n",
      "\u001b[0;32m~/Mis_aplicaciones/anaconda3/lib/python3.6/site-packages/sympy/plotting/plot.py\u001b[0m in \u001b[0;36mshow\u001b[0;34m(self)\u001b[0m\n\u001b[1;32m    212\u001b[0m             \u001b[0mself\u001b[0m\u001b[0;34m.\u001b[0m\u001b[0m_backend\u001b[0m\u001b[0;34m.\u001b[0m\u001b[0mclose\u001b[0m\u001b[0;34m(\u001b[0m\u001b[0;34m)\u001b[0m\u001b[0;34m\u001b[0m\u001b[0;34m\u001b[0m\u001b[0m\n\u001b[1;32m    213\u001b[0m         \u001b[0mself\u001b[0m\u001b[0;34m.\u001b[0m\u001b[0m_backend\u001b[0m \u001b[0;34m=\u001b[0m \u001b[0mself\u001b[0m\u001b[0;34m.\u001b[0m\u001b[0mbackend\u001b[0m\u001b[0;34m(\u001b[0m\u001b[0mself\u001b[0m\u001b[0;34m)\u001b[0m\u001b[0;34m\u001b[0m\u001b[0;34m\u001b[0m\u001b[0m\n\u001b[0;32m--> 214\u001b[0;31m         \u001b[0mself\u001b[0m\u001b[0;34m.\u001b[0m\u001b[0m_backend\u001b[0m\u001b[0;34m.\u001b[0m\u001b[0mshow\u001b[0m\u001b[0;34m(\u001b[0m\u001b[0;34m)\u001b[0m\u001b[0;34m\u001b[0m\u001b[0;34m\u001b[0m\u001b[0m\n\u001b[0m\u001b[1;32m    215\u001b[0m \u001b[0;34m\u001b[0m\u001b[0m\n\u001b[1;32m    216\u001b[0m     \u001b[0;32mdef\u001b[0m \u001b[0msave\u001b[0m\u001b[0;34m(\u001b[0m\u001b[0mself\u001b[0m\u001b[0;34m,\u001b[0m \u001b[0mpath\u001b[0m\u001b[0;34m)\u001b[0m\u001b[0;34m:\u001b[0m\u001b[0;34m\u001b[0m\u001b[0;34m\u001b[0m\u001b[0m\n",
      "\u001b[0;32m~/Mis_aplicaciones/anaconda3/lib/python3.6/site-packages/sympy/plotting/plot.py\u001b[0m in \u001b[0;36mshow\u001b[0;34m(self)\u001b[0m\n\u001b[1;32m   1324\u001b[0m \u001b[0;34m\u001b[0m\u001b[0m\n\u001b[1;32m   1325\u001b[0m     \u001b[0;32mdef\u001b[0m \u001b[0mshow\u001b[0m\u001b[0;34m(\u001b[0m\u001b[0mself\u001b[0m\u001b[0;34m)\u001b[0m\u001b[0;34m:\u001b[0m\u001b[0;34m\u001b[0m\u001b[0;34m\u001b[0m\u001b[0m\n\u001b[0;32m-> 1326\u001b[0;31m         \u001b[0mself\u001b[0m\u001b[0;34m.\u001b[0m\u001b[0mprocess_series\u001b[0m\u001b[0;34m(\u001b[0m\u001b[0;34m)\u001b[0m\u001b[0;34m\u001b[0m\u001b[0;34m\u001b[0m\u001b[0m\n\u001b[0m\u001b[1;32m   1327\u001b[0m         \u001b[0;31m#TODO after fixing https://github.com/ipython/ipython/issues/1255\u001b[0m\u001b[0;34m\u001b[0m\u001b[0;34m\u001b[0m\u001b[0;34m\u001b[0m\u001b[0m\n\u001b[1;32m   1328\u001b[0m         \u001b[0;31m# you can uncomment the next line and remove the pyplot.show() call\u001b[0m\u001b[0;34m\u001b[0m\u001b[0;34m\u001b[0m\u001b[0;34m\u001b[0m\u001b[0m\n",
      "\u001b[0;32m~/Mis_aplicaciones/anaconda3/lib/python3.6/site-packages/sympy/plotting/plot.py\u001b[0m in \u001b[0;36mprocess_series\u001b[0;34m(self)\u001b[0m\n\u001b[1;32m   1321\u001b[0m             \u001b[0;32mif\u001b[0m \u001b[0misinstance\u001b[0m\u001b[0;34m(\u001b[0m\u001b[0mself\u001b[0m\u001b[0;34m.\u001b[0m\u001b[0mparent\u001b[0m\u001b[0;34m,\u001b[0m \u001b[0mPlotGrid\u001b[0m\u001b[0;34m)\u001b[0m\u001b[0;34m:\u001b[0m\u001b[0;34m\u001b[0m\u001b[0;34m\u001b[0m\u001b[0m\n\u001b[1;32m   1322\u001b[0m                 \u001b[0mparent\u001b[0m \u001b[0;34m=\u001b[0m \u001b[0mself\u001b[0m\u001b[0;34m.\u001b[0m\u001b[0mparent\u001b[0m\u001b[0;34m.\u001b[0m\u001b[0margs\u001b[0m\u001b[0;34m[\u001b[0m\u001b[0mi\u001b[0m\u001b[0;34m]\u001b[0m\u001b[0;34m\u001b[0m\u001b[0;34m\u001b[0m\u001b[0m\n\u001b[0;32m-> 1323\u001b[0;31m             \u001b[0mself\u001b[0m\u001b[0;34m.\u001b[0m\u001b[0m_process_series\u001b[0m\u001b[0;34m(\u001b[0m\u001b[0mseries\u001b[0m\u001b[0;34m,\u001b[0m \u001b[0max\u001b[0m\u001b[0;34m,\u001b[0m \u001b[0mparent\u001b[0m\u001b[0;34m)\u001b[0m\u001b[0;34m\u001b[0m\u001b[0;34m\u001b[0m\u001b[0m\n\u001b[0m\u001b[1;32m   1324\u001b[0m \u001b[0;34m\u001b[0m\u001b[0m\n\u001b[1;32m   1325\u001b[0m     \u001b[0;32mdef\u001b[0m \u001b[0mshow\u001b[0m\u001b[0;34m(\u001b[0m\u001b[0mself\u001b[0m\u001b[0;34m)\u001b[0m\u001b[0;34m:\u001b[0m\u001b[0;34m\u001b[0m\u001b[0;34m\u001b[0m\u001b[0m\n",
      "\u001b[0;32m~/Mis_aplicaciones/anaconda3/lib/python3.6/site-packages/sympy/plotting/plot.py\u001b[0m in \u001b[0;36m_process_series\u001b[0;34m(self, series, ax, parent)\u001b[0m\n\u001b[1;32m   1149\u001b[0m             \u001b[0;31m# Create the collections\u001b[0m\u001b[0;34m\u001b[0m\u001b[0;34m\u001b[0m\u001b[0;34m\u001b[0m\u001b[0m\n\u001b[1;32m   1150\u001b[0m             \u001b[0;32mif\u001b[0m \u001b[0ms\u001b[0m\u001b[0;34m.\u001b[0m\u001b[0mis_2Dline\u001b[0m\u001b[0;34m:\u001b[0m\u001b[0;34m\u001b[0m\u001b[0;34m\u001b[0m\u001b[0m\n\u001b[0;32m-> 1151\u001b[0;31m                 \u001b[0mcollection\u001b[0m \u001b[0;34m=\u001b[0m \u001b[0mself\u001b[0m\u001b[0;34m.\u001b[0m\u001b[0mLineCollection\u001b[0m\u001b[0;34m(\u001b[0m\u001b[0ms\u001b[0m\u001b[0;34m.\u001b[0m\u001b[0mget_segments\u001b[0m\u001b[0;34m(\u001b[0m\u001b[0;34m)\u001b[0m\u001b[0;34m)\u001b[0m\u001b[0;34m\u001b[0m\u001b[0;34m\u001b[0m\u001b[0m\n\u001b[0m\u001b[1;32m   1152\u001b[0m                 \u001b[0max\u001b[0m\u001b[0;34m.\u001b[0m\u001b[0madd_collection\u001b[0m\u001b[0;34m(\u001b[0m\u001b[0mcollection\u001b[0m\u001b[0;34m)\u001b[0m\u001b[0;34m\u001b[0m\u001b[0;34m\u001b[0m\u001b[0m\n\u001b[1;32m   1153\u001b[0m             \u001b[0;32melif\u001b[0m \u001b[0ms\u001b[0m\u001b[0;34m.\u001b[0m\u001b[0mis_contour\u001b[0m\u001b[0;34m:\u001b[0m\u001b[0;34m\u001b[0m\u001b[0;34m\u001b[0m\u001b[0m\n",
      "\u001b[0;32m~/Mis_aplicaciones/anaconda3/lib/python3.6/site-packages/sympy/plotting/plot.py\u001b[0m in \u001b[0;36mget_segments\u001b[0;34m(self)\u001b[0m\n\u001b[1;32m    684\u001b[0m                     \u001b[0mlist_segments\u001b[0m\u001b[0;34m.\u001b[0m\u001b[0mappend\u001b[0m\u001b[0;34m(\u001b[0m\u001b[0;34m[\u001b[0m\u001b[0mp\u001b[0m\u001b[0;34m,\u001b[0m \u001b[0mq\u001b[0m\u001b[0;34m]\u001b[0m\u001b[0;34m)\u001b[0m\u001b[0;34m\u001b[0m\u001b[0;34m\u001b[0m\u001b[0m\n\u001b[1;32m    685\u001b[0m \u001b[0;34m\u001b[0m\u001b[0m\n\u001b[0;32m--> 686\u001b[0;31m             \u001b[0mf_start\u001b[0m \u001b[0;34m=\u001b[0m \u001b[0mf\u001b[0m\u001b[0;34m(\u001b[0m\u001b[0mself\u001b[0m\u001b[0;34m.\u001b[0m\u001b[0mstart\u001b[0m\u001b[0;34m)\u001b[0m\u001b[0;34m\u001b[0m\u001b[0;34m\u001b[0m\u001b[0m\n\u001b[0m\u001b[1;32m    687\u001b[0m             \u001b[0mf_end\u001b[0m \u001b[0;34m=\u001b[0m \u001b[0mf\u001b[0m\u001b[0;34m(\u001b[0m\u001b[0mself\u001b[0m\u001b[0;34m.\u001b[0m\u001b[0mend\u001b[0m\u001b[0;34m)\u001b[0m\u001b[0;34m\u001b[0m\u001b[0;34m\u001b[0m\u001b[0m\n\u001b[1;32m    688\u001b[0m             sample(np.array([self.start, f_start]),\n",
      "\u001b[0;32m~/Mis_aplicaciones/anaconda3/lib/python3.6/site-packages/sympy/plotting/experimental_lambdify.py\u001b[0m in \u001b[0;36m__call__\u001b[0;34m(self, args, kwargs)\u001b[0m\n\u001b[1;32m    230\u001b[0m                                                     \u001b[0muse_evalf\u001b[0m\u001b[0;34m=\u001b[0m\u001b[0;32mTrue\u001b[0m\u001b[0;34m,\u001b[0m\u001b[0;34m\u001b[0m\u001b[0;34m\u001b[0m\u001b[0m\n\u001b[1;32m    231\u001b[0m                                                     complex_wrap_evalf=True)\n\u001b[0;32m--> 232\u001b[0;31m                 \u001b[0mresult\u001b[0m \u001b[0;34m=\u001b[0m \u001b[0mself\u001b[0m\u001b[0;34m.\u001b[0m\u001b[0mlambda_func\u001b[0m\u001b[0;34m(\u001b[0m\u001b[0margs\u001b[0m\u001b[0;34m)\u001b[0m\u001b[0;34m\u001b[0m\u001b[0;34m\u001b[0m\u001b[0m\n\u001b[0m\u001b[1;32m    233\u001b[0m                 warnings.warn('The evaluation of the expression is'\n\u001b[1;32m    234\u001b[0m                         \u001b[0;34m' problematic. We are trying a failback method'\u001b[0m\u001b[0;34m\u001b[0m\u001b[0;34m\u001b[0m\u001b[0m\n",
      "\u001b[0;32m~/Mis_aplicaciones/anaconda3/lib/python3.6/site-packages/sympy/plotting/experimental_lambdify.py\u001b[0m in \u001b[0;36m__call__\u001b[0;34m(self, *args, **kwargs)\u001b[0m\n\u001b[1;32m    313\u001b[0m \u001b[0;34m\u001b[0m\u001b[0m\n\u001b[1;32m    314\u001b[0m     \u001b[0;32mdef\u001b[0m \u001b[0m__call__\u001b[0m\u001b[0;34m(\u001b[0m\u001b[0mself\u001b[0m\u001b[0;34m,\u001b[0m \u001b[0;34m*\u001b[0m\u001b[0margs\u001b[0m\u001b[0;34m,\u001b[0m \u001b[0;34m**\u001b[0m\u001b[0mkwargs\u001b[0m\u001b[0;34m)\u001b[0m\u001b[0;34m:\u001b[0m\u001b[0;34m\u001b[0m\u001b[0;34m\u001b[0m\u001b[0m\n\u001b[0;32m--> 315\u001b[0;31m         \u001b[0;32mreturn\u001b[0m \u001b[0mself\u001b[0m\u001b[0;34m.\u001b[0m\u001b[0mlambda_func\u001b[0m\u001b[0;34m(\u001b[0m\u001b[0;34m*\u001b[0m\u001b[0margs\u001b[0m\u001b[0;34m,\u001b[0m \u001b[0;34m**\u001b[0m\u001b[0mkwargs\u001b[0m\u001b[0;34m)\u001b[0m\u001b[0;34m\u001b[0m\u001b[0;34m\u001b[0m\u001b[0m\n\u001b[0m\u001b[1;32m    316\u001b[0m \u001b[0;34m\u001b[0m\u001b[0m\n\u001b[1;32m    317\u001b[0m \u001b[0;34m\u001b[0m\u001b[0m\n",
      "\u001b[0;32m<string>\u001b[0m in \u001b[0;36m<lambda>\u001b[0;34m(x0)\u001b[0m\n",
      "\u001b[0;32m~/Mis_aplicaciones/anaconda3/lib/python3.6/site-packages/sympy/core/expr.py\u001b[0m in \u001b[0;36m__complex__\u001b[0;34m(self)\u001b[0m\n\u001b[1;32m    330\u001b[0m         \u001b[0mresult\u001b[0m \u001b[0;34m=\u001b[0m \u001b[0mself\u001b[0m\u001b[0;34m.\u001b[0m\u001b[0mevalf\u001b[0m\u001b[0;34m(\u001b[0m\u001b[0;34m)\u001b[0m\u001b[0;34m\u001b[0m\u001b[0;34m\u001b[0m\u001b[0m\n\u001b[1;32m    331\u001b[0m         \u001b[0mre\u001b[0m\u001b[0;34m,\u001b[0m \u001b[0mim\u001b[0m \u001b[0;34m=\u001b[0m \u001b[0mresult\u001b[0m\u001b[0;34m.\u001b[0m\u001b[0mas_real_imag\u001b[0m\u001b[0;34m(\u001b[0m\u001b[0;34m)\u001b[0m\u001b[0;34m\u001b[0m\u001b[0;34m\u001b[0m\u001b[0m\n\u001b[0;32m--> 332\u001b[0;31m         \u001b[0;32mreturn\u001b[0m \u001b[0mcomplex\u001b[0m\u001b[0;34m(\u001b[0m\u001b[0mfloat\u001b[0m\u001b[0;34m(\u001b[0m\u001b[0mre\u001b[0m\u001b[0;34m)\u001b[0m\u001b[0;34m,\u001b[0m \u001b[0mfloat\u001b[0m\u001b[0;34m(\u001b[0m\u001b[0mim\u001b[0m\u001b[0;34m)\u001b[0m\u001b[0;34m)\u001b[0m\u001b[0;34m\u001b[0m\u001b[0;34m\u001b[0m\u001b[0m\n\u001b[0m\u001b[1;32m    333\u001b[0m \u001b[0;34m\u001b[0m\u001b[0m\n\u001b[1;32m    334\u001b[0m     \u001b[0;32mdef\u001b[0m \u001b[0m_cmp\u001b[0m\u001b[0;34m(\u001b[0m\u001b[0mself\u001b[0m\u001b[0;34m,\u001b[0m \u001b[0mother\u001b[0m\u001b[0;34m,\u001b[0m \u001b[0mop\u001b[0m\u001b[0;34m,\u001b[0m \u001b[0mcls\u001b[0m\u001b[0;34m)\u001b[0m\u001b[0;34m:\u001b[0m\u001b[0;34m\u001b[0m\u001b[0;34m\u001b[0m\u001b[0m\n",
      "\u001b[0;32m~/Mis_aplicaciones/anaconda3/lib/python3.6/site-packages/sympy/core/expr.py\u001b[0m in \u001b[0;36m__float__\u001b[0;34m(self)\u001b[0m\n\u001b[1;32m    325\u001b[0m         \u001b[0;32mif\u001b[0m \u001b[0mresult\u001b[0m\u001b[0;34m.\u001b[0m\u001b[0mis_number\u001b[0m \u001b[0;32mand\u001b[0m \u001b[0mresult\u001b[0m\u001b[0;34m.\u001b[0m\u001b[0mas_real_imag\u001b[0m\u001b[0;34m(\u001b[0m\u001b[0;34m)\u001b[0m\u001b[0;34m[\u001b[0m\u001b[0;36m1\u001b[0m\u001b[0;34m]\u001b[0m\u001b[0;34m:\u001b[0m\u001b[0;34m\u001b[0m\u001b[0;34m\u001b[0m\u001b[0m\n\u001b[1;32m    326\u001b[0m             \u001b[0;32mraise\u001b[0m \u001b[0mTypeError\u001b[0m\u001b[0;34m(\u001b[0m\u001b[0;34m\"can't convert complex to float\"\u001b[0m\u001b[0;34m)\u001b[0m\u001b[0;34m\u001b[0m\u001b[0;34m\u001b[0m\u001b[0m\n\u001b[0;32m--> 327\u001b[0;31m         \u001b[0;32mraise\u001b[0m \u001b[0mTypeError\u001b[0m\u001b[0;34m(\u001b[0m\u001b[0;34m\"can't convert expression to float\"\u001b[0m\u001b[0;34m)\u001b[0m\u001b[0;34m\u001b[0m\u001b[0;34m\u001b[0m\u001b[0m\n\u001b[0m\u001b[1;32m    328\u001b[0m \u001b[0;34m\u001b[0m\u001b[0m\n\u001b[1;32m    329\u001b[0m     \u001b[0;32mdef\u001b[0m \u001b[0m__complex__\u001b[0m\u001b[0;34m(\u001b[0m\u001b[0mself\u001b[0m\u001b[0;34m)\u001b[0m\u001b[0;34m:\u001b[0m\u001b[0;34m\u001b[0m\u001b[0;34m\u001b[0m\u001b[0m\n",
      "\u001b[0;31mTypeError\u001b[0m: can't convert expression to float"
     ]
    },
    {
     "data": {
      "image/png": "[encoded data removed]",
      "text/plain": [
       "<Figure size 432x288 with 1 Axes>"
      ]
     },
     "metadata": {
      "needs_background": "light"
     },
     "output_type": "display_data"
    }
   ],
   "source": [
    "# Calcular el dominio de las siguientes funciones:\n",
    "\n",
    "texto_ejercicio = 'Calcular el dominio de las siguientes funciones:'\n",
    "display(md(\"**\"+texto_ejercicio+\"**\"))\n",
    "\n",
    "pre_enunciado_latex = [r'\\frac{x+13}{x^4+x^3-3x^2-3x}', r'x^6+x^2-2',r'\\frac{7x+9}{x^3+8}',\n",
    "                       r'\\sqrt{\\frac{x-1}{x}}', \n",
    "                       r'\\frac{x^3-6x^2+4x+8}{x^3-x^2-9x+9}',r'\\frac{1}{4x^2-1}',r'\\frac{1}{\\sqrt[4]{9-x^2}}',\n",
    "                       r'\\frac{2x+7}{\\sqrt[3]{9-x}}',r'\\frac{x^2-5x+6}{\\sqrt{x^4-1}}',r'\\sqrt{-2x^2+5x-3}',\n",
    "                       r'\\frac{x^2-3}{x^3-2x^2-x+2}',r'\\frac{5x^3-8}{1+x+x^2}',r'\\frac{x-1}{x^4-7x^2-144}',\n",
    "                       r'\\frac{7x+9}{81x^4-16}',\n",
    "                       \n",
    "                       r'\\sqrt[3]{\\frac{x-1}{x}}', r'\\sqrt[3]{\\frac{x^6-5x+1}{x^2-4x+4}}',r'\\sqrt[4]{\\frac{x(x+7)}{x^2+5x+6}}',\n",
    "                      #  r'\\frac{\\sqrt{x^2-4x-5}}{x^2+2x+1}',\n",
    "                       ]\n",
    "for i in pre_enunciado_latex :\n",
    "    mostrar_ejercicio(r\"$f(x)=\"+i+r\"$\",r\"$\"+latex(continuous_domain(parse_latex(i),x,S.Reals))+r\"$\") \n",
    "    plot(parse_latex(i))               \n",
    "\n"
   ]
  },
  {
   "cell_type": "code",
   "execution_count": 8,
   "metadata": {},
   "outputs": [
    {
     "data": {
      "image/png": "[encoded data removed]",
      "text/latex": [
       "$\\displaystyle \\left(-\\infty, 0\\right) \\cup \\left(0, \\infty\\right)$"
      ],
      "text/plain": [
       "(-∞, 0) ∪ (0, ∞)"
      ]
     },
     "execution_count": 8,
     "metadata": {},
     "output_type": "execute_result"
    }
   ],
   "source": [
    "continuous_domain(parse_latex( r'\\sqrt[3]{\\frac{x-1}{x}}'),x,S.Reals)"
   ]
  },
  {
   "cell_type": "code",
   "execution_count": 53,
   "metadata": {
    "colab": {
     "base_uri": "https://localhost:8080/",
     "height": 409
    },
    "id": "u-Ut0pmDPfU6",
    "outputId": "c49f4ca2-b669-4450-a262-a54660e95c24"
   },
   "outputs": [
    {
     "data": {
      "text/markdown": [
       "**Calcular el dominio de las siguientes funciones:**"
      ],
      "text/plain": [
       "<IPython.core.display.Markdown object>"
      ]
     },
     "metadata": {
      "tags": []
     },
     "output_type": "display_data"
    },
    {
     "ename": "TypeError",
     "evalue": "ignored",
     "output_type": "error",
     "traceback": [
      "\u001b[0;31m---------------------------------------------------------------------------\u001b[0m",
      "\u001b[0;31mTypeError\u001b[0m                                 Traceback (most recent call last)",
      "\u001b[0;32m<ipython-input-53-4f847acea8c5>\u001b[0m in \u001b[0;36m<module>\u001b[0;34m()\u001b[0m\n\u001b[1;32m     16\u001b[0m                        ]\n\u001b[1;32m     17\u001b[0m \u001b[0;32mfor\u001b[0m \u001b[0mi\u001b[0m \u001b[0;32min\u001b[0m \u001b[0mpre_enunciado_latex\u001b[0m \u001b[0;34m:\u001b[0m\u001b[0;34m\u001b[0m\u001b[0;34m\u001b[0m\u001b[0m\n\u001b[0;32m---> 18\u001b[0;31m     \u001b[0mmostrar_ejercicio\u001b[0m\u001b[0;34m(\u001b[0m\u001b[0;34mr\"$f(x)=\"\u001b[0m\u001b[0;34m+\u001b[0m\u001b[0mi\u001b[0m\u001b[0;34m+\u001b[0m\u001b[0;34mr\"$\"\u001b[0m\u001b[0;34m,\u001b[0m\u001b[0;34mr\"$\"\u001b[0m\u001b[0;34m+\u001b[0m\u001b[0mlatex\u001b[0m\u001b[0;34m(\u001b[0m\u001b[0mcontinuous_domain\u001b[0m\u001b[0;34m(\u001b[0m\u001b[0mparse_latex\u001b[0m\u001b[0;34m(\u001b[0m\u001b[0mi\u001b[0m\u001b[0;34m)\u001b[0m\u001b[0;34m,\u001b[0m\u001b[0mx\u001b[0m\u001b[0;34m,\u001b[0m\u001b[0mS\u001b[0m\u001b[0;34m.\u001b[0m\u001b[0mReals\u001b[0m\u001b[0;34m)\u001b[0m\u001b[0;34m)\u001b[0m\u001b[0;34m+\u001b[0m\u001b[0;34mr\"$\"\u001b[0m\u001b[0;34m)\u001b[0m\u001b[0;34m\u001b[0m\u001b[0;34m\u001b[0m\u001b[0m\n\u001b[0m\u001b[1;32m     19\u001b[0m     \u001b[0mplot\u001b[0m\u001b[0;34m(\u001b[0m\u001b[0mparse_latex\u001b[0m\u001b[0;34m(\u001b[0m\u001b[0mi\u001b[0m\u001b[0;34m)\u001b[0m\u001b[0;34m)\u001b[0m\u001b[0;34m\u001b[0m\u001b[0;34m\u001b[0m\u001b[0m\n",
      "\u001b[0;32m/usr/local/lib/python3.7/dist-packages/sympy/calculus/util.py\u001b[0m in \u001b[0;36mcontinuous_domain\u001b[0;34m(f, symbol, domain)\u001b[0m\n\u001b[1;32m     96\u001b[0m                     \u001b[0;32mbreak\u001b[0m\u001b[0;34m\u001b[0m\u001b[0;34m\u001b[0m\u001b[0m\n\u001b[1;32m     97\u001b[0m             \u001b[0;32melse\u001b[0m\u001b[0;34m:\u001b[0m\u001b[0;34m\u001b[0m\u001b[0;34m\u001b[0m\u001b[0m\n\u001b[0;32m---> 98\u001b[0;31m                 \u001b[0msings\u001b[0m \u001b[0;34m=\u001b[0m \u001b[0mIntersection\u001b[0m\u001b[0;34m(\u001b[0m\u001b[0msolveset\u001b[0m\u001b[0;34m(\u001b[0m\u001b[0;36m1\u001b[0m\u001b[0;34m/\u001b[0m\u001b[0mf\u001b[0m\u001b[0;34m,\u001b[0m \u001b[0msymbol\u001b[0m\u001b[0;34m)\u001b[0m\u001b[0;34m,\u001b[0m \u001b[0mdomain\u001b[0m\u001b[0;34m)\u001b[0m \u001b[0;34m+\u001b[0m\u001b[0;31m \u001b[0m\u001b[0;31m\\\u001b[0m\u001b[0;34m\u001b[0m\u001b[0;34m\u001b[0m\u001b[0m\n\u001b[0m\u001b[1;32m     99\u001b[0m                     \u001b[0msolveset\u001b[0m\u001b[0;34m(\u001b[0m\u001b[0mdenom\u001b[0m\u001b[0;34m(\u001b[0m\u001b[0mtogether\u001b[0m\u001b[0;34m(\u001b[0m\u001b[0mf\u001b[0m\u001b[0;34m)\u001b[0m\u001b[0;34m)\u001b[0m\u001b[0;34m,\u001b[0m \u001b[0msymbol\u001b[0m\u001b[0;34m,\u001b[0m \u001b[0mdomain\u001b[0m\u001b[0;34m)\u001b[0m\u001b[0;34m\u001b[0m\u001b[0;34m\u001b[0m\u001b[0m\n\u001b[1;32m    100\u001b[0m \u001b[0;34m\u001b[0m\u001b[0m\n",
      "\u001b[0;32m/usr/local/lib/python3.7/dist-packages/sympy/solvers/solveset.py\u001b[0m in \u001b[0;36msolveset\u001b[0;34m(f, symbol, domain)\u001b[0m\n\u001b[1;32m   2009\u001b[0m     \u001b[0mf\u001b[0m \u001b[0;34m=\u001b[0m \u001b[0mpiecewise_fold\u001b[0m\u001b[0;34m(\u001b[0m\u001b[0mf\u001b[0m\u001b[0;34m)\u001b[0m\u001b[0;34m\u001b[0m\u001b[0;34m\u001b[0m\u001b[0m\n\u001b[1;32m   2010\u001b[0m \u001b[0;34m\u001b[0m\u001b[0m\n\u001b[0;32m-> 2011\u001b[0;31m     \u001b[0;32mreturn\u001b[0m \u001b[0m_solveset\u001b[0m\u001b[0;34m(\u001b[0m\u001b[0mf\u001b[0m\u001b[0;34m,\u001b[0m \u001b[0msymbol\u001b[0m\u001b[0;34m,\u001b[0m \u001b[0mdomain\u001b[0m\u001b[0;34m,\u001b[0m \u001b[0m_check\u001b[0m\u001b[0;34m=\u001b[0m\u001b[0;32mTrue\u001b[0m\u001b[0;34m)\u001b[0m\u001b[0;34m\u001b[0m\u001b[0;34m\u001b[0m\u001b[0m\n\u001b[0m\u001b[1;32m   2012\u001b[0m \u001b[0;34m\u001b[0m\u001b[0m\n\u001b[1;32m   2013\u001b[0m \u001b[0;34m\u001b[0m\u001b[0m\n",
      "\u001b[0;32m/usr/local/lib/python3.7/dist-packages/sympy/solvers/solveset.py\u001b[0m in \u001b[0;36m_solveset\u001b[0;34m(f, symbol, domain, _check)\u001b[0m\n\u001b[1;32m    964\u001b[0m                         result += _solve_radical(equation,\n\u001b[1;32m    965\u001b[0m                                                  \u001b[0msymbol\u001b[0m\u001b[0;34m,\u001b[0m\u001b[0;34m\u001b[0m\u001b[0;34m\u001b[0m\u001b[0m\n\u001b[0;32m--> 966\u001b[0;31m                                                  solver)\n\u001b[0m\u001b[1;32m    967\u001b[0m                     \u001b[0;32melif\u001b[0m \u001b[0mequation\u001b[0m\u001b[0;34m.\u001b[0m\u001b[0mhas\u001b[0m\u001b[0;34m(\u001b[0m\u001b[0mAbs\u001b[0m\u001b[0;34m)\u001b[0m\u001b[0;34m:\u001b[0m\u001b[0;34m\u001b[0m\u001b[0;34m\u001b[0m\u001b[0m\n\u001b[1;32m    968\u001b[0m                         \u001b[0mresult\u001b[0m \u001b[0;34m+=\u001b[0m \u001b[0m_solve_abs\u001b[0m\u001b[0;34m(\u001b[0m\u001b[0mf\u001b[0m\u001b[0;34m,\u001b[0m \u001b[0msymbol\u001b[0m\u001b[0;34m,\u001b[0m \u001b[0mdomain\u001b[0m\u001b[0;34m)\u001b[0m\u001b[0;34m\u001b[0m\u001b[0;34m\u001b[0m\u001b[0m\n",
      "\u001b[0;32m/usr/local/lib/python3.7/dist-packages/sympy/solvers/solveset.py\u001b[0m in \u001b[0;36m_solve_radical\u001b[0;34m(f, symbol, solveset_solver)\u001b[0m\n\u001b[1;32m    738\u001b[0m \u001b[0;32mdef\u001b[0m \u001b[0m_solve_radical\u001b[0m\u001b[0;34m(\u001b[0m\u001b[0mf\u001b[0m\u001b[0;34m,\u001b[0m \u001b[0msymbol\u001b[0m\u001b[0;34m,\u001b[0m \u001b[0msolveset_solver\u001b[0m\u001b[0;34m)\u001b[0m\u001b[0;34m:\u001b[0m\u001b[0;34m\u001b[0m\u001b[0;34m\u001b[0m\u001b[0m\n\u001b[1;32m    739\u001b[0m     \u001b[0;34m\"\"\" Helper function to solve equations with radicals \"\"\"\u001b[0m\u001b[0;34m\u001b[0m\u001b[0;34m\u001b[0m\u001b[0m\n\u001b[0;32m--> 740\u001b[0;31m     \u001b[0meq\u001b[0m\u001b[0;34m,\u001b[0m \u001b[0mcov\u001b[0m \u001b[0;34m=\u001b[0m \u001b[0munrad\u001b[0m\u001b[0;34m(\u001b[0m\u001b[0mf\u001b[0m\u001b[0;34m)\u001b[0m\u001b[0;34m\u001b[0m\u001b[0;34m\u001b[0m\u001b[0m\n\u001b[0m\u001b[1;32m    741\u001b[0m     \u001b[0;32mif\u001b[0m \u001b[0;32mnot\u001b[0m \u001b[0mcov\u001b[0m\u001b[0;34m:\u001b[0m\u001b[0;34m\u001b[0m\u001b[0;34m\u001b[0m\u001b[0m\n\u001b[1;32m    742\u001b[0m         \u001b[0mresult\u001b[0m \u001b[0;34m=\u001b[0m \u001b[0msolveset_solver\u001b[0m\u001b[0;34m(\u001b[0m\u001b[0meq\u001b[0m\u001b[0;34m,\u001b[0m \u001b[0msymbol\u001b[0m\u001b[0;34m)\u001b[0m \u001b[0;34m-\u001b[0m\u001b[0;31m \u001b[0m\u001b[0;31m\\\u001b[0m\u001b[0;34m\u001b[0m\u001b[0;34m\u001b[0m\u001b[0m\n",
      "\u001b[0;31mTypeError\u001b[0m: cannot unpack non-iterable NoneType object"
     ]
    }
   ],
   "source": [
    "# Calcular el dominio de las siguientes funciones:\n",
    "\n",
    "texto_ejercicio = 'Calcular el dominio de las siguientes funciones:'\n",
    "display(md(\"**\"+texto_ejercicio+\"**\"))\n",
    "\n",
    "pre_enunciado_latex = [#r'\\frac{x+13}{x^4+x^3-3x^2-3x}', r'x^6+x^2-2',r'\\frac{7x+9}{x^3+8}',\n",
    "                      #  r'\\sqrt{\\frac{x-1}{x}}', \n",
    "                      #  r'\\frac{x^3-6x^2+4x+8}{x^3-x^2-9x+9}',r'\\frac{1}{4x^2-1}',r'\\frac{1}{\\sqrt[4]{9-x^2}}',\n",
    "                      #  r'\\frac{2x+7}{\\sqrt[3]{9-x}}',r'\\frac{x^2-5x+6}{\\sqrt{x^4-1}}',r'\\sqrt{-2x^2+5x-3}',\n",
    "                      #  r'\\frac{x^2-3}{x^3-2x^2-x+2}',r'\\frac{5x^3-8}{1+x+x^2}',r'\\frac{x-1}{x^4-7x^2-144}',\n",
    "                      #  r'\\frac{7x+9}{81x^4-16}',\n",
    "                       r'\\sqrt[3]{\\frac{x-1}{x}}',\n",
    "                       r'\\frac{1}{\\sqrt[3]{9-x^2}}',\n",
    "                       r'\\sqrt[3]{\\frac{x-1}{x}}', r'\\sqrt[3]{\\frac{x^6-5x+1}{x^2-4x+4}}',r'\\sqrt[4]{\\frac{x(x+7)}{x^2+5x+6}}',\n",
    "                       r'\\frac{\\sqrt{x^2-4x-5}}{x^2+2x+1}',\n",
    "                       ]\n",
    "for i in pre_enunciado_latex :\n",
    "    mostrar_ejercicio(r\"$f(x)=\"+i+r\"$\",r\"$\"+latex(continuous_domain(parse_latex(i),x,S.Reals))+r\"$\") \n",
    "    plot(parse_latex(i))               \n"
   ]
  },
  {
   "cell_type": "code",
   "execution_count": null,
   "metadata": {
    "id": "ydz3xzfaPc8R"
   },
   "outputs": [],
   "source": []
  },
  {
   "cell_type": "code",
   "execution_count": null,
   "metadata": {
    "colab": {
     "base_uri": "https://localhost:8080/",
     "height": 1000
    },
    "id": "mtuD87hBxDLJ",
    "outputId": "3a103aba-5d50-44b8-c7c4-96f6d24d473a"
   },
   "outputs": [
    {
     "data": {
      "text/markdown": [
       "**Resolver inecuaciones de primer grado:**"
      ],
      "text/plain": [
       "<IPython.core.display.Markdown object>"
      ]
     },
     "metadata": {
      "tags": []
     },
     "output_type": "display_data"
    },
    {
     "data": {
      "text/markdown": [
       "#### Ejercicio:"
      ],
      "text/plain": [
       "<IPython.core.display.Markdown object>"
      ]
     },
     "metadata": {
      "tags": []
     },
     "output_type": "display_data"
    },
    {
     "data": {
      "text/markdown": [
       "$5x + 6 - \\frac{x}{2} >  - 1$ $\\to$ $\\left(- \\frac{14}{9}, \\infty\\right)$"
      ],
      "text/plain": [
       "<IPython.core.display.Markdown object>"
      ]
     },
     "metadata": {
      "tags": []
     },
     "output_type": "display_data"
    },
    {
     "name": "stdout",
     "output_type": "stream",
     "text": [
      "enunciado_latex: $5x + 6 - \\frac{x}{2} >  - 1$\n",
      "solucion_latex: $\\left(- \\frac{14}{9}, \\infty\\right)$\n"
     ]
    },
    {
     "data": {
      "text/markdown": [
       "#### Ejercicio:"
      ],
      "text/plain": [
       "<IPython.core.display.Markdown object>"
      ]
     },
     "metadata": {
      "tags": []
     },
     "output_type": "display_data"
    },
    {
     "data": {
      "text/markdown": [
       "$3 \\cdot (x - 3) > 1 - 5x$ $\\to$ $\\left(\\frac{5}{4}, \\infty\\right)$"
      ],
      "text/plain": [
       "<IPython.core.display.Markdown object>"
      ]
     },
     "metadata": {
      "tags": []
     },
     "output_type": "display_data"
    },
    {
     "name": "stdout",
     "output_type": "stream",
     "text": [
      "enunciado_latex: $3 \\cdot (x - 3) > 1 - 5x$\n",
      "solucion_latex: $\\left(\\frac{5}{4}, \\infty\\right)$\n"
     ]
    },
    {
     "data": {
      "text/markdown": [
       "#### Ejercicio:"
      ],
      "text/plain": [
       "<IPython.core.display.Markdown object>"
      ]
     },
     "metadata": {
      "tags": []
     },
     "output_type": "display_data"
    },
    {
     "data": {
      "text/markdown": [
       "$2 - \\frac{x}{3} + 2x > 1 - x$ $\\to$ $\\left(- \\frac{3}{8}, \\infty\\right)$"
      ],
      "text/plain": [
       "<IPython.core.display.Markdown object>"
      ]
     },
     "metadata": {
      "tags": []
     },
     "output_type": "display_data"
    },
    {
     "name": "stdout",
     "output_type": "stream",
     "text": [
      "enunciado_latex: $2 - \\frac{x}{3} + 2x > 1 - x$\n",
      "solucion_latex: $\\left(- \\frac{3}{8}, \\infty\\right)$\n"
     ]
    },
    {
     "data": {
      "text/markdown": [
       "#### Ejercicio:"
      ],
      "text/plain": [
       "<IPython.core.display.Markdown object>"
      ]
     },
     "metadata": {
      "tags": []
     },
     "output_type": "display_data"
    },
    {
     "data": {
      "text/markdown": [
       "$8x - 6 \\geq \\frac{{2x}}{5}$ $\\to$ $\\left[\\frac{15}{19}, \\infty\\right)$"
      ],
      "text/plain": [
       "<IPython.core.display.Markdown object>"
      ]
     },
     "metadata": {
      "tags": []
     },
     "output_type": "display_data"
    },
    {
     "name": "stdout",
     "output_type": "stream",
     "text": [
      "enunciado_latex: $8x - 6 \\geq \\frac{{2x}}{5}$\n",
      "solucion_latex: $\\left[\\frac{15}{19}, \\infty\\right)$\n"
     ]
    },
    {
     "data": {
      "text/markdown": [
       "#### Ejercicio:"
      ],
      "text/plain": [
       "<IPython.core.display.Markdown object>"
      ]
     },
     "metadata": {
      "tags": []
     },
     "output_type": "display_data"
    },
    {
     "data": {
      "text/markdown": [
       "$\\frac{{2x}}{3} - \\frac{x}{2} + 5 < x - \\frac{1}{3}$ $\\to$ $\\left(\\frac{32}{5}, \\infty\\right)$"
      ],
      "text/plain": [
       "<IPython.core.display.Markdown object>"
      ]
     },
     "metadata": {
      "tags": []
     },
     "output_type": "display_data"
    },
    {
     "name": "stdout",
     "output_type": "stream",
     "text": [
      "enunciado_latex: $\\frac{{2x}}{3} - \\frac{x}{2} + 5 < x - \\frac{1}{3}$\n",
      "solucion_latex: $\\left(\\frac{32}{5}, \\infty\\right)$\n"
     ]
    },
    {
     "data": {
      "text/markdown": [
       "#### Ejercicio:"
      ],
      "text/plain": [
       "<IPython.core.display.Markdown object>"
      ]
     },
     "metadata": {
      "tags": []
     },
     "output_type": "display_data"
    },
    {
     "data": {
      "text/markdown": [
       "$\\frac{{4 - 3x}}{2} < x + 3$ $\\to$ $\\left(- \\frac{2}{5}, \\infty\\right)$"
      ],
      "text/plain": [
       "<IPython.core.display.Markdown object>"
      ]
     },
     "metadata": {
      "tags": []
     },
     "output_type": "display_data"
    },
    {
     "name": "stdout",
     "output_type": "stream",
     "text": [
      "enunciado_latex: $\\frac{{4 - 3x}}{2} < x + 3$\n",
      "solucion_latex: $\\left(- \\frac{2}{5}, \\infty\\right)$\n"
     ]
    },
    {
     "data": {
      "text/markdown": [
       "#### Ejercicio:"
      ],
      "text/plain": [
       "<IPython.core.display.Markdown object>"
      ]
     },
     "metadata": {
      "tags": []
     },
     "output_type": "display_data"
    },
    {
     "data": {
      "text/markdown": [
       "$\\frac{{x + 1}}{3} - \\frac{{x - 2}}{5} > 1 + \\frac{{x - 1}}{{15}}$ $\\to$ $\\left(3, \\infty\\right)$"
      ],
      "text/plain": [
       "<IPython.core.display.Markdown object>"
      ]
     },
     "metadata": {
      "tags": []
     },
     "output_type": "display_data"
    },
    {
     "name": "stdout",
     "output_type": "stream",
     "text": [
      "enunciado_latex: $\\frac{{x + 1}}{3} - \\frac{{x - 2}}{5} > 1 + \\frac{{x - 1}}{{15}}$\n",
      "solucion_latex: $\\left(3, \\infty\\right)$\n"
     ]
    },
    {
     "data": {
      "text/markdown": [
       "#### Ejercicio:"
      ],
      "text/plain": [
       "<IPython.core.display.Markdown object>"
      ]
     },
     "metadata": {
      "tags": []
     },
     "output_type": "display_data"
    },
    {
     "data": {
      "text/markdown": [
       "$\\frac{{x - 2}}{5} - \\frac{{3x + 1}}{2} < \\frac{x}{2} - 3x$ $\\to$ $\\left(-\\infty, \\frac{3}{4}\\right)$"
      ],
      "text/plain": [
       "<IPython.core.display.Markdown object>"
      ]
     },
     "metadata": {
      "tags": []
     },
     "output_type": "display_data"
    },
    {
     "name": "stdout",
     "output_type": "stream",
     "text": [
      "enunciado_latex: $\\frac{{x - 2}}{5} - \\frac{{3x + 1}}{2} < \\frac{x}{2} - 3x$\n",
      "solucion_latex: $\\left(-\\infty, \\frac{3}{4}\\right)$\n"
     ]
    },
    {
     "data": {
      "text/markdown": [
       "#### Ejercicio:"
      ],
      "text/plain": [
       "<IPython.core.display.Markdown object>"
      ]
     },
     "metadata": {
      "tags": []
     },
     "output_type": "display_data"
    },
    {
     "data": {
      "text/markdown": [
       "$3x - \\frac{{1 - 2x}}{4} < \\frac{{x - 1}}{2} + 1$ $\\to$ $\\left(-\\infty, \\frac{1}{4}\\right)$"
      ],
      "text/plain": [
       "<IPython.core.display.Markdown object>"
      ]
     },
     "metadata": {
      "tags": []
     },
     "output_type": "display_data"
    },
    {
     "name": "stdout",
     "output_type": "stream",
     "text": [
      "enunciado_latex: $3x - \\frac{{1 - 2x}}{4} < \\frac{{x - 1}}{2} + 1$\n",
      "solucion_latex: $\\left(-\\infty, \\frac{1}{4}\\right)$\n"
     ]
    },
    {
     "data": {
      "text/markdown": [
       "#### Ejercicio:"
      ],
      "text/plain": [
       "<IPython.core.display.Markdown object>"
      ]
     },
     "metadata": {
      "tags": []
     },
     "output_type": "display_data"
    },
    {
     "data": {
      "text/markdown": [
       "$x\\cdot(x+3) - 2x > 4x + 4$ $\\to$ $\\left(-\\infty, -1\\right) \\cup \\left(4, \\infty\\right)$"
      ],
      "text/plain": [
       "<IPython.core.display.Markdown object>"
      ]
     },
     "metadata": {
      "tags": []
     },
     "output_type": "display_data"
    },
    {
     "name": "stdout",
     "output_type": "stream",
     "text": [
      "enunciado_latex: $x\\cdot(x+3) - 2x > 4x + 4$\n",
      "solucion_latex: $\\left(-\\infty, -1\\right) \\cup \\left(4, \\infty\\right)$\n"
     ]
    },
    {
     "data": {
      "text/markdown": [
       "#### Ejercicio:"
      ],
      "text/plain": [
       "<IPython.core.display.Markdown object>"
      ]
     },
     "metadata": {
      "tags": []
     },
     "output_type": "display_data"
    },
    {
     "data": {
      "text/markdown": [
       "$\\frac{2x-8}{3x + 9}>0$ $\\to$ $\\left(-\\infty, -3\\right) \\cup \\left(4, \\infty\\right)$"
      ],
      "text/plain": [
       "<IPython.core.display.Markdown object>"
      ]
     },
     "metadata": {
      "tags": []
     },
     "output_type": "display_data"
    },
    {
     "name": "stdout",
     "output_type": "stream",
     "text": [
      "enunciado_latex: $\\frac{2x-8}{3x + 9}>0$\n",
      "solucion_latex: $\\left(-\\infty, -3\\right) \\cup \\left(4, \\infty\\right)$\n"
     ]
    },
    {
     "data": {
      "text/markdown": [
       "#### Ejercicio:"
      ],
      "text/plain": [
       "<IPython.core.display.Markdown object>"
      ]
     },
     "metadata": {
      "tags": []
     },
     "output_type": "display_data"
    },
    {
     "data": {
      "text/markdown": [
       "$2x^2 - 4x - 6 > 0$ $\\to$ $\\left(-\\infty, -1\\right) \\cup \\left(3, \\infty\\right)$"
      ],
      "text/plain": [
       "<IPython.core.display.Markdown object>"
      ]
     },
     "metadata": {
      "tags": []
     },
     "output_type": "display_data"
    },
    {
     "name": "stdout",
     "output_type": "stream",
     "text": [
      "enunciado_latex: $2x^2 - 4x - 6 > 0$\n",
      "solucion_latex: $\\left(-\\infty, -1\\right) \\cup \\left(3, \\infty\\right)$\n"
     ]
    },
    {
     "data": {
      "text/markdown": [
       "#### Ejercicio:"
      ],
      "text/plain": [
       "<IPython.core.display.Markdown object>"
      ]
     },
     "metadata": {
      "tags": []
     },
     "output_type": "display_data"
    },
    {
     "data": {
      "text/markdown": [
       "$x^4 + 2x^2 - 3x < 0$ $\\to$ $\\left(0, 1\\right)$"
      ],
      "text/plain": [
       "<IPython.core.display.Markdown object>"
      ]
     },
     "metadata": {
      "tags": []
     },
     "output_type": "display_data"
    },
    {
     "name": "stdout",
     "output_type": "stream",
     "text": [
      "enunciado_latex: $x^4 + 2x^2 - 3x < 0$\n",
      "solucion_latex: $\\left(0, 1\\right)$\n"
     ]
    },
    {
     "data": {
      "text/markdown": [
       "#### Ejercicio:"
      ],
      "text/plain": [
       "<IPython.core.display.Markdown object>"
      ]
     },
     "metadata": {
      "tags": []
     },
     "output_type": "display_data"
    },
    {
     "data": {
      "text/markdown": [
       "$\\frac{2x-2}{1-3x}<-\\frac{2}{3}$ $\\to$ $\\left(-\\infty, \\frac{1}{3}\\right)$"
      ],
      "text/plain": [
       "<IPython.core.display.Markdown object>"
      ]
     },
     "metadata": {
      "tags": []
     },
     "output_type": "display_data"
    },
    {
     "name": "stdout",
     "output_type": "stream",
     "text": [
      "enunciado_latex: $\\frac{2x-2}{1-3x}<-\\frac{2}{3}$\n",
      "solucion_latex: $\\left(-\\infty, \\frac{1}{3}\\right)$\n"
     ]
    },
    {
     "data": {
      "text/markdown": [
       "#### Ejercicio:"
      ],
      "text/plain": [
       "<IPython.core.display.Markdown object>"
      ]
     },
     "metadata": {
      "tags": []
     },
     "output_type": "display_data"
    },
    {
     "data": {
      "text/markdown": [
       "$\\frac{x^2-3x+2}{x^2-x-6}\\leq 0$ $\\to$ $\\left(-2, 1\\right] \\cup \\left[2, 3\\right)$"
      ],
      "text/plain": [
       "<IPython.core.display.Markdown object>"
      ]
     },
     "metadata": {
      "tags": []
     },
     "output_type": "display_data"
    },
    {
     "name": "stdout",
     "output_type": "stream",
     "text": [
      "enunciado_latex: $\\frac{x^2-3x+2}{x^2-x-6}\\leq 0$\n",
      "solucion_latex: $\\left(-2, 1\\right] \\cup \\left[2, 3\\right)$\n"
     ]
    },
    {
     "data": {
      "text/markdown": [
       "#### Ejercicio:"
      ],
      "text/plain": [
       "<IPython.core.display.Markdown object>"
      ]
     },
     "metadata": {
      "tags": []
     },
     "output_type": "display_data"
    },
    {
     "data": {
      "text/markdown": [
       "$\\frac{x^2-9}{x^2+2x}\\geq 0$ $\\to$ $\\left(-\\infty, -3\\right] \\cup \\left(-2, 0\\right) \\cup \\left[3, \\infty\\right)$"
      ],
      "text/plain": [
       "<IPython.core.display.Markdown object>"
      ]
     },
     "metadata": {
      "tags": []
     },
     "output_type": "display_data"
    },
    {
     "name": "stdout",
     "output_type": "stream",
     "text": [
      "enunciado_latex: $\\frac{x^2-9}{x^2+2x}\\geq 0$\n",
      "solucion_latex: $\\left(-\\infty, -3\\right] \\cup \\left(-2, 0\\right) \\cup \\left[3, \\infty\\right)$\n"
     ]
    },
    {
     "data": {
      "text/markdown": [
       "#### Ejercicio:"
      ],
      "text/plain": [
       "<IPython.core.display.Markdown object>"
      ]
     },
     "metadata": {
      "tags": []
     },
     "output_type": "display_data"
    },
    {
     "data": {
      "text/markdown": [
       "$- x^{5} + 2x \\leq x$ $\\to$ $\\left[-1, 0\\right] \\cup \\left[1, \\infty\\right)$"
      ],
      "text/plain": [
       "<IPython.core.display.Markdown object>"
      ]
     },
     "metadata": {
      "tags": []
     },
     "output_type": "display_data"
    },
    {
     "name": "stdout",
     "output_type": "stream",
     "text": [
      "enunciado_latex: $- x^{5} + 2x \\leq x$\n",
      "solucion_latex: $\\left[-1, 0\\right] \\cup \\left[1, \\infty\\right)$\n"
     ]
    }
   ],
   "source": [
    "# Resolver inecuaciones\n",
    "\n",
    "texto_ejercicio = 'Resolver inecuaciones de primer grado:'\n",
    "\n",
    "display(md(\"**\"+texto_ejercicio+\"**\"))\n",
    "\n",
    "pre_enunciado_latex = [\n",
    "                     r'5x + 6 - \\frac{x}{2} >  - 1', r'3 \\cdot (x - 3) > 1 - 5x', r'2 - \\frac{x}{3} + 2x > 1 - x',\n",
    "                     r'8x - 6 \\geq \\frac{{2x}}{5}', r'\\frac{{2x}}{3} - \\frac{x}{2} + 5 < x - \\frac{1}{3}',r'\\frac{{4 - 3x}}{2} < x + 3',\n",
    "                     r'\\frac{{x + 1}}{3} - \\frac{{x - 2}}{5} > 1 + \\frac{{x - 1}}{{15}}',r'\\frac{{x - 2}}{5} - \\frac{{3x + 1}}{2} < \\frac{x}{2} - 3x',\n",
    "                     r'3x - \\frac{{1 - 2x}}{4} < \\frac{{x - 1}}{2} + 1',\n",
    "                    # autoevaluacion\n",
    "                        r'x\\cdot(x+3) - 2x > 4x + 4',\n",
    "                        r'\\frac{2x-8}{3x + 9}>0',\n",
    "                        r'2x^2 - 4x - 6 > 0',\n",
    "                        r'x^4 + 2x^2 - 3x < 0',\n",
    "                        r'\\frac{2x-2}{1-3x}<-\\frac{2}{3}',\n",
    "                        r'\\frac{x^2-3x+2}{x^2-x-6}\\leq 0',\n",
    "                        r'\\frac{x^2-9}{x^2+2x}\\geq 0',\n",
    "                        r'- x^{5} + 2x \\leq x'\n",
    "    \n",
    "\n",
    "                    ]\n",
    "\n",
    "for i in pre_enunciado_latex :\n",
    "    #display(sol_sist(s))\n",
    "    mostrar_ejercicio(r\"$\"+i+r\"$\",r\"$\"+latex(solve_univariate_inequality(parse_latex(i), x,  relational=False))+r\"$\")"
   ]
  },
  {
   "cell_type": "code",
   "execution_count": null,
   "metadata": {
    "colab": {
     "base_uri": "https://localhost:8080/",
     "height": 1000
    },
    "id": "5xCQNbzx2v2Z",
    "outputId": "2d708a76-48c0-40c1-f686-a8d7fea25695"
   },
   "outputs": [
    {
     "data": {
      "text/markdown": [
       "**Resolver inecuaciones de segundo grado:**"
      ],
      "text/plain": [
       "<IPython.core.display.Markdown object>"
      ]
     },
     "metadata": {
      "tags": []
     },
     "output_type": "display_data"
    },
    {
     "data": {
      "text/markdown": [
       "#### Ejercicio:"
      ],
      "text/plain": [
       "<IPython.core.display.Markdown object>"
      ]
     },
     "metadata": {
      "tags": []
     },
     "output_type": "display_data"
    },
    {
     "data": {
      "text/markdown": [
       "$2{x^2} - 12x + 16 \\leq 0$ $\\to$ $\\left[2, 4\\right]$"
      ],
      "text/plain": [
       "<IPython.core.display.Markdown object>"
      ]
     },
     "metadata": {
      "tags": []
     },
     "output_type": "display_data"
    },
    {
     "name": "stdout",
     "output_type": "stream",
     "text": [
      "enunciado_latex: $2{x^2} - 12x + 16 \\leq 0$\n",
      "solucion_latex: $\\left[2, 4\\right]$\n"
     ]
    },
    {
     "data": {
      "text/markdown": [
       "#### Ejercicio:"
      ],
      "text/plain": [
       "<IPython.core.display.Markdown object>"
      ]
     },
     "metadata": {
      "tags": []
     },
     "output_type": "display_data"
    },
    {
     "data": {
      "text/markdown": [
       "$- {x^2} + 4 \\leq 0$ $\\to$ $\\left(-\\infty, -2\\right] \\cup \\left[2, \\infty\\right)$"
      ],
      "text/plain": [
       "<IPython.core.display.Markdown object>"
      ]
     },
     "metadata": {
      "tags": []
     },
     "output_type": "display_data"
    },
    {
     "name": "stdout",
     "output_type": "stream",
     "text": [
      "enunciado_latex: $- {x^2} + 4 \\leq 0$\n",
      "solucion_latex: $\\left(-\\infty, -2\\right] \\cup \\left[2, \\infty\\right)$\n"
     ]
    },
    {
     "data": {
      "text/markdown": [
       "#### Ejercicio:"
      ],
      "text/plain": [
       "<IPython.core.display.Markdown object>"
      ]
     },
     "metadata": {
      "tags": []
     },
     "output_type": "display_data"
    },
    {
     "data": {
      "text/markdown": [
       "${x^2} + 6x + 9 \\leq 0$ $\\to$ $\\left\\{-3\\right\\}$"
      ],
      "text/plain": [
       "<IPython.core.display.Markdown object>"
      ]
     },
     "metadata": {
      "tags": []
     },
     "output_type": "display_data"
    },
    {
     "name": "stdout",
     "output_type": "stream",
     "text": [
      "enunciado_latex: ${x^2} + 6x + 9 \\leq 0$\n",
      "solucion_latex: $\\left\\{-3\\right\\}$\n"
     ]
    },
    {
     "data": {
      "text/markdown": [
       "#### Ejercicio:"
      ],
      "text/plain": [
       "<IPython.core.display.Markdown object>"
      ]
     },
     "metadata": {
      "tags": []
     },
     "output_type": "display_data"
    },
    {
     "data": {
      "text/markdown": [
       "${x^2} - x - 6 > 0$ $\\to$ $\\left(-\\infty, -2\\right) \\cup \\left(3, \\infty\\right)$"
      ],
      "text/plain": [
       "<IPython.core.display.Markdown object>"
      ]
     },
     "metadata": {
      "tags": []
     },
     "output_type": "display_data"
    },
    {
     "name": "stdout",
     "output_type": "stream",
     "text": [
      "enunciado_latex: ${x^2} - x - 6 > 0$\n",
      "solucion_latex: $\\left(-\\infty, -2\\right) \\cup \\left(3, \\infty\\right)$\n"
     ]
    },
    {
     "data": {
      "text/markdown": [
       "#### Ejercicio:"
      ],
      "text/plain": [
       "<IPython.core.display.Markdown object>"
      ]
     },
     "metadata": {
      "tags": []
     },
     "output_type": "display_data"
    },
    {
     "data": {
      "text/markdown": [
       "${x^2} - 6x + 8 > 0$ $\\to$ $\\left(-\\infty, 2\\right) \\cup \\left(4, \\infty\\right)$"
      ],
      "text/plain": [
       "<IPython.core.display.Markdown object>"
      ]
     },
     "metadata": {
      "tags": []
     },
     "output_type": "display_data"
    },
    {
     "name": "stdout",
     "output_type": "stream",
     "text": [
      "enunciado_latex: ${x^2} - 6x + 8 > 0$\n",
      "solucion_latex: $\\left(-\\infty, 2\\right) \\cup \\left(4, \\infty\\right)$\n"
     ]
    },
    {
     "data": {
      "text/markdown": [
       "#### Ejercicio:"
      ],
      "text/plain": [
       "<IPython.core.display.Markdown object>"
      ]
     },
     "metadata": {
      "tags": []
     },
     "output_type": "display_data"
    },
    {
     "data": {
      "text/markdown": [
       "${x^2} + 6x + 24 > 0$ $\\to$ $\\left(-\\infty, \\infty\\right)$"
      ],
      "text/plain": [
       "<IPython.core.display.Markdown object>"
      ]
     },
     "metadata": {
      "tags": []
     },
     "output_type": "display_data"
    },
    {
     "name": "stdout",
     "output_type": "stream",
     "text": [
      "enunciado_latex: ${x^2} + 6x + 24 > 0$\n",
      "solucion_latex: $\\left(-\\infty, \\infty\\right)$\n"
     ]
    },
    {
     "data": {
      "text/markdown": [
       "#### Ejercicio:"
      ],
      "text/plain": [
       "<IPython.core.display.Markdown object>"
      ]
     },
     "metadata": {
      "tags": []
     },
     "output_type": "display_data"
    },
    {
     "data": {
      "text/markdown": [
       "${x^2} - 3x > 0$ $\\to$ $\\left(-\\infty, 0\\right) \\cup \\left(3, \\infty\\right)$"
      ],
      "text/plain": [
       "<IPython.core.display.Markdown object>"
      ]
     },
     "metadata": {
      "tags": []
     },
     "output_type": "display_data"
    },
    {
     "name": "stdout",
     "output_type": "stream",
     "text": [
      "enunciado_latex: ${x^2} - 3x > 0$\n",
      "solucion_latex: $\\left(-\\infty, 0\\right) \\cup \\left(3, \\infty\\right)$\n"
     ]
    },
    {
     "data": {
      "text/markdown": [
       "#### Ejercicio:"
      ],
      "text/plain": [
       "<IPython.core.display.Markdown object>"
      ]
     },
     "metadata": {
      "tags": []
     },
     "output_type": "display_data"
    },
    {
     "data": {
      "text/markdown": [
       "$2{x^2} - 10x - 12 \\leq 0$ $\\to$ $\\left[-1, 6\\right]$"
      ],
      "text/plain": [
       "<IPython.core.display.Markdown object>"
      ]
     },
     "metadata": {
      "tags": []
     },
     "output_type": "display_data"
    },
    {
     "name": "stdout",
     "output_type": "stream",
     "text": [
      "enunciado_latex: $2{x^2} - 10x - 12 \\leq 0$\n",
      "solucion_latex: $\\left[-1, 6\\right]$\n"
     ]
    },
    {
     "data": {
      "text/markdown": [
       "#### Ejercicio:"
      ],
      "text/plain": [
       "<IPython.core.display.Markdown object>"
      ]
     },
     "metadata": {
      "tags": []
     },
     "output_type": "display_data"
    },
    {
     "data": {
      "text/markdown": [
       "$ - 3{x^2} + 6x + 9 \\leq 0$ $\\to$ $\\left(-\\infty, -1\\right] \\cup \\left[3, \\infty\\right)$"
      ],
      "text/plain": [
       "<IPython.core.display.Markdown object>"
      ]
     },
     "metadata": {
      "tags": []
     },
     "output_type": "display_data"
    },
    {
     "name": "stdout",
     "output_type": "stream",
     "text": [
      "enunciado_latex: $ - 3{x^2} + 6x + 9 \\leq 0$\n",
      "solucion_latex: $\\left(-\\infty, -1\\right] \\cup \\left[3, \\infty\\right)$\n"
     ]
    },
    {
     "data": {
      "text/markdown": [
       "#### Ejercicio:"
      ],
      "text/plain": [
       "<IPython.core.display.Markdown object>"
      ]
     },
     "metadata": {
      "tags": []
     },
     "output_type": "display_data"
    },
    {
     "data": {
      "text/markdown": [
       "$x \\cdot ( x + 1 ) + 3x > 5x + 6$ $\\to$ $\\left(-\\infty, -2\\right) \\cup \\left(3, \\infty\\right)$"
      ],
      "text/plain": [
       "<IPython.core.display.Markdown object>"
      ]
     },
     "metadata": {
      "tags": []
     },
     "output_type": "display_data"
    },
    {
     "name": "stdout",
     "output_type": "stream",
     "text": [
      "enunciado_latex: $x \\cdot ( x + 1 ) + 3x > 5x + 6$\n",
      "solucion_latex: $\\left(-\\infty, -2\\right) \\cup \\left(3, \\infty\\right)$\n"
     ]
    },
    {
     "data": {
      "text/markdown": [
       "#### Ejercicio:"
      ],
      "text/plain": [
       "<IPython.core.display.Markdown object>"
      ]
     },
     "metadata": {
      "tags": []
     },
     "output_type": "display_data"
    },
    {
     "data": {
      "text/markdown": [
       "$8 x^{2} - 40 x + 48 \\geq 0$ $\\to$ $\\left(-\\infty, 2\\right] \\cup \\left[3, \\infty\\right)$"
      ],
      "text/plain": [
       "<IPython.core.display.Markdown object>"
      ]
     },
     "metadata": {
      "tags": []
     },
     "output_type": "display_data"
    },
    {
     "name": "stdout",
     "output_type": "stream",
     "text": [
      "enunciado_latex: $8 x^{2} - 40 x + 48 \\geq 0$\n",
      "solucion_latex: $\\left(-\\infty, 2\\right] \\cup \\left[3, \\infty\\right)$\n"
     ]
    },
    {
     "data": {
      "text/markdown": [
       "#### Ejercicio:"
      ],
      "text/plain": [
       "<IPython.core.display.Markdown object>"
      ]
     },
     "metadata": {
      "tags": []
     },
     "output_type": "display_data"
    },
    {
     "data": {
      "text/markdown": [
       "$3 x^{2} - 15 x + 18 > 0$ $\\to$ $\\left(-\\infty, 2\\right) \\cup \\left(3, \\infty\\right)$"
      ],
      "text/plain": [
       "<IPython.core.display.Markdown object>"
      ]
     },
     "metadata": {
      "tags": []
     },
     "output_type": "display_data"
    },
    {
     "name": "stdout",
     "output_type": "stream",
     "text": [
      "enunciado_latex: $3 x^{2} - 15 x + 18 > 0$\n",
      "solucion_latex: $\\left(-\\infty, 2\\right) \\cup \\left(3, \\infty\\right)$\n"
     ]
    },
    {
     "data": {
      "text/markdown": [
       "#### Ejercicio:"
      ],
      "text/plain": [
       "<IPython.core.display.Markdown object>"
      ]
     },
     "metadata": {
      "tags": []
     },
     "output_type": "display_data"
    },
    {
     "data": {
      "text/markdown": [
       "$(2 - x)(x - 3)(x - 1)^{2} > 0$ $\\to$ $\\left(2, 3\\right)$"
      ],
      "text/plain": [
       "<IPython.core.display.Markdown object>"
      ]
     },
     "metadata": {
      "tags": []
     },
     "output_type": "display_data"
    },
    {
     "name": "stdout",
     "output_type": "stream",
     "text": [
      "enunciado_latex: $(2 - x)(x - 3)(x - 1)^{2} > 0$\n",
      "solucion_latex: $\\left(2, 3\\right)$\n"
     ]
    },
    {
     "data": {
      "text/markdown": [
       "#### Ejercicio:"
      ],
      "text/plain": [
       "<IPython.core.display.Markdown object>"
      ]
     },
     "metadata": {
      "tags": []
     },
     "output_type": "display_data"
    },
    {
     "data": {
      "text/markdown": [
       "$(2 - x)(x + 3)(x - 1)^{2} \\geq 0$ $\\to$ $\\left[-3, 2\\right]$"
      ],
      "text/plain": [
       "<IPython.core.display.Markdown object>"
      ]
     },
     "metadata": {
      "tags": []
     },
     "output_type": "display_data"
    },
    {
     "name": "stdout",
     "output_type": "stream",
     "text": [
      "enunciado_latex: $(2 - x)(x + 3)(x - 1)^{2} \\geq 0$\n",
      "solucion_latex: $\\left[-3, 2\\right]$\n"
     ]
    },
    {
     "data": {
      "text/markdown": [
       "#### Ejercicio:"
      ],
      "text/plain": [
       "<IPython.core.display.Markdown object>"
      ]
     },
     "metadata": {
      "tags": []
     },
     "output_type": "display_data"
    },
    {
     "data": {
      "text/markdown": [
       "$(2 - x)(x - 3)x^{3} > 0$ $\\to$ $\\left(-\\infty, 0\\right) \\cup \\left(2, 3\\right)$"
      ],
      "text/plain": [
       "<IPython.core.display.Markdown object>"
      ]
     },
     "metadata": {
      "tags": []
     },
     "output_type": "display_data"
    },
    {
     "name": "stdout",
     "output_type": "stream",
     "text": [
      "enunciado_latex: $(2 - x)(x - 3)x^{3} > 0$\n",
      "solucion_latex: $\\left(-\\infty, 0\\right) \\cup \\left(2, 3\\right)$\n"
     ]
    },
    {
     "data": {
      "text/markdown": [
       "#### Ejercicio:"
      ],
      "text/plain": [
       "<IPython.core.display.Markdown object>"
      ]
     },
     "metadata": {
      "tags": []
     },
     "output_type": "display_data"
    },
    {
     "data": {
      "text/markdown": [
       "$(2 - x)(x + 3)x^{3} \\geq 0$ $\\to$ $\\left(-\\infty, -3\\right] \\cup \\left[0, 2\\right]$"
      ],
      "text/plain": [
       "<IPython.core.display.Markdown object>"
      ]
     },
     "metadata": {
      "tags": []
     },
     "output_type": "display_data"
    },
    {
     "name": "stdout",
     "output_type": "stream",
     "text": [
      "enunciado_latex: $(2 - x)(x + 3)x^{3} \\geq 0$\n",
      "solucion_latex: $\\left(-\\infty, -3\\right] \\cup \\left[0, 2\\right]$\n"
     ]
    }
   ],
   "source": [
    "# Resolver inecuaciones\n",
    "\n",
    "texto_ejercicio = 'Resolver inecuaciones de segundo grado:'\n",
    "\n",
    "display(md(\"**\"+texto_ejercicio+\"**\"))\n",
    "\n",
    "pre_enunciado_latex = [\n",
    "                     r'2{x^2} - 12x + 16 \\leq 0', r'- {x^2} + 4 \\leq 0', r'{x^2} + 6x + 9 \\leq 0',\n",
    "                     r'{x^2} - x - 6 > 0', r'{x^2} - 6x + 8 > 0',r'{x^2} + 6x + 24 > 0',\n",
    "                     r'{x^2} - 3x > 0',r'2{x^2} - 10x - 12 \\leq 0',\n",
    "                     r' - 3{x^2} + 6x + 9 \\leq 0', r'x \\cdot ( x + 1 ) + 3x > 5x + 6',\n",
    "                    #   Examen\n",
    "                    r'8 x^{2} - 40 x + 48 \\geq 0',\n",
    "                    r'3 x^{2} - 15 x + 18 > 0',\n",
    "                    r'(2 - x)(x - 3)(x - 1)^{2} > 0',\n",
    "                    r'(2 - x)(x + 3)(x - 1)^{2} \\geq 0',\n",
    "                    r'(2 - x)(x - 3)x^{3} > 0',\n",
    "                    r'(2 - x)(x + 3)x^{3} \\geq 0',\n",
    "\n",
    "\n",
    "                    ]\n",
    "\n",
    "for i in pre_enunciado_latex :\n",
    "    #display(sol_sist(s))\n",
    "    mostrar_ejercicio(r\"$\"+i+r\"$\",r\"$\"+latex(solve_univariate_inequality(parse_latex(i), x,  relational=False))+r\"$\")"
   ]
  },
  {
   "cell_type": "code",
   "execution_count": null,
   "metadata": {
    "colab": {
     "base_uri": "https://localhost:8080/"
    },
    "id": "u5q59vUhUGRJ",
    "outputId": "e21c1abe-843e-48a6-b283-d4b44b44ade4"
   },
   "outputs": [
    {
     "name": "stdout",
     "output_type": "stream",
     "text": [
      "\\left(2 - x\\right) \\left(x - 3\\right) \\left(x - 1\\right)^{2}\n"
     ]
    }
   ],
   "source": [
    "latex(expand((x-2)*(x-3)*8\n",
    ")), \n",
    "print(latex((S((x-3)*(2-x)*(x-1)**2, evaluate=False))))"
   ]
  },
  {
   "cell_type": "code",
   "execution_count": null,
   "metadata": {
    "colab": {
     "base_uri": "https://localhost:8080/",
     "height": 1000
    },
    "id": "lrfUfx7o6pFD",
    "outputId": "a913e11b-e399-462f-af64-c46d04486082"
   },
   "outputs": [
    {
     "data": {
      "text/markdown": [
       "**Resolver sistemas de inecuaciones:**"
      ],
      "text/plain": [
       "<IPython.core.display.Markdown object>"
      ]
     },
     "metadata": {
      "tags": []
     },
     "output_type": "display_data"
    },
    {
     "data": {
      "text/markdown": [
       "#### Ejercicio:"
      ],
      "text/plain": [
       "<IPython.core.display.Markdown object>"
      ]
     },
     "metadata": {
      "tags": []
     },
     "output_type": "display_data"
    },
    {
     "data": {
      "text/markdown": [
       "$\\left\\{\\begin{matrix}2x + 6 < 0 \\\\ x + \\frac{1}{3} \\geq \\frac{x}{2}\\end{matrix}\\right.$ $\\to$ $\\emptyset$"
      ],
      "text/plain": [
       "<IPython.core.display.Markdown object>"
      ]
     },
     "metadata": {
      "tags": []
     },
     "output_type": "display_data"
    },
    {
     "name": "stdout",
     "output_type": "stream",
     "text": [
      "enunciado_latex: $\\left\\{\\begin{matrix}2x + 6 < 0 \\\\ x + \\frac{1}{3} \\geq \\frac{x}{2}\\end{matrix}\\right.$\n",
      "solucion_latex: $\\emptyset$\n"
     ]
    },
    {
     "data": {
      "text/markdown": [
       "#### Ejercicio:"
      ],
      "text/plain": [
       "<IPython.core.display.Markdown object>"
      ]
     },
     "metadata": {
      "tags": []
     },
     "output_type": "display_data"
    },
    {
     "data": {
      "text/markdown": [
       "$\\left\\{\\begin{matrix}x + 4 < 0  \\\\  x + 1 < \\frac{x}{2}\\end{matrix}\\right.$ $\\to$ $\\left(-\\infty, -4\\right)$"
      ],
      "text/plain": [
       "<IPython.core.display.Markdown object>"
      ]
     },
     "metadata": {
      "tags": []
     },
     "output_type": "display_data"
    },
    {
     "name": "stdout",
     "output_type": "stream",
     "text": [
      "enunciado_latex: $\\left\\{\\begin{matrix}x + 4 < 0  \\\\  x + 1 < \\frac{x}{2}\\end{matrix}\\right.$\n",
      "solucion_latex: $\\left(-\\infty, -4\\right)$\n"
     ]
    },
    {
     "data": {
      "text/markdown": [
       "#### Ejercicio:"
      ],
      "text/plain": [
       "<IPython.core.display.Markdown object>"
      ]
     },
     "metadata": {
      "tags": []
     },
     "output_type": "display_data"
    },
    {
     "data": {
      "text/markdown": [
       "$\\left\\{\\begin{matrix}x \\leq 0 \\\\ \\frac{x}{2} + \\frac{x}{3} - 6 \\leq 5\\end{matrix}\\right.$ $\\to$ $\\left(-\\infty, 0\\right]$"
      ],
      "text/plain": [
       "<IPython.core.display.Markdown object>"
      ]
     },
     "metadata": {
      "tags": []
     },
     "output_type": "display_data"
    },
    {
     "name": "stdout",
     "output_type": "stream",
     "text": [
      "enunciado_latex: $\\left\\{\\begin{matrix}x \\leq 0 \\\\ \\frac{x}{2} + \\frac{x}{3} - 6 \\leq 5\\end{matrix}\\right.$\n",
      "solucion_latex: $\\left(-\\infty, 0\\right]$\n"
     ]
    },
    {
     "data": {
      "text/markdown": [
       "#### Ejercicio:"
      ],
      "text/plain": [
       "<IPython.core.display.Markdown object>"
      ]
     },
     "metadata": {
      "tags": []
     },
     "output_type": "display_data"
    },
    {
     "data": {
      "text/markdown": [
       "$\\left\\{\\begin{matrix}x - 2 \\leq 2x + 1 \\\\  3 - x < 1 - 2x\\end{matrix}\\right.$ $\\to$ $\\left[-3, -2\\right)$"
      ],
      "text/plain": [
       "<IPython.core.display.Markdown object>"
      ]
     },
     "metadata": {
      "tags": []
     },
     "output_type": "display_data"
    },
    {
     "name": "stdout",
     "output_type": "stream",
     "text": [
      "enunciado_latex: $\\left\\{\\begin{matrix}x - 2 \\leq 2x + 1 \\\\  3 - x < 1 - 2x\\end{matrix}\\right.$\n",
      "solucion_latex: $\\left[-3, -2\\right)$\n"
     ]
    },
    {
     "data": {
      "text/markdown": [
       "#### Ejercicio:"
      ],
      "text/plain": [
       "<IPython.core.display.Markdown object>"
      ]
     },
     "metadata": {
      "tags": []
     },
     "output_type": "display_data"
    },
    {
     "data": {
      "text/markdown": [
       "$\\left\\{\\begin{matrix} \\frac{x}{3} + x < 4 \\\\ \\frac{x}{2} - \\frac{x}{3} > 0\\end{matrix}\\right.$ $\\to$ $\\left(0, 3\\right)$"
      ],
      "text/plain": [
       "<IPython.core.display.Markdown object>"
      ]
     },
     "metadata": {
      "tags": []
     },
     "output_type": "display_data"
    },
    {
     "name": "stdout",
     "output_type": "stream",
     "text": [
      "enunciado_latex: $\\left\\{\\begin{matrix} \\frac{x}{3} + x < 4 \\\\ \\frac{x}{2} - \\frac{x}{3} > 0\\end{matrix}\\right.$\n",
      "solucion_latex: $\\left(0, 3\\right)$\n"
     ]
    },
    {
     "data": {
      "text/markdown": [
       "#### Ejercicio:"
      ],
      "text/plain": [
       "<IPython.core.display.Markdown object>"
      ]
     },
     "metadata": {
      "tags": []
     },
     "output_type": "display_data"
    },
    {
     "data": {
      "text/markdown": [
       "$\\left\\{\\begin{matrix}\\frac{{x - 4}}{2} + \\frac{{x + 2}}{3} \\leq 2 \\\\  \\frac{x}{3} - \\frac{x}{2} \\leq 1\\end{matrix}\\right.$ $\\to$ $\\left[-6, 4\\right]$"
      ],
      "text/plain": [
       "<IPython.core.display.Markdown object>"
      ]
     },
     "metadata": {
      "tags": []
     },
     "output_type": "display_data"
    },
    {
     "name": "stdout",
     "output_type": "stream",
     "text": [
      "enunciado_latex: $\\left\\{\\begin{matrix}\\frac{{x - 4}}{2} + \\frac{{x + 2}}{3} \\leq 2 \\\\  \\frac{x}{3} - \\frac{x}{2} \\leq 1\\end{matrix}\\right.$\n",
      "solucion_latex: $\\left[-6, 4\\right]$\n"
     ]
    },
    {
     "data": {
      "text/markdown": [
       "#### Ejercicio:"
      ],
      "text/plain": [
       "<IPython.core.display.Markdown object>"
      ]
     },
     "metadata": {
      "tags": []
     },
     "output_type": "display_data"
    },
    {
     "data": {
      "text/markdown": [
       "$\\left\\{\\begin{matrix}\\frac{x}{3} - \\frac{x}{2} \\geq 1 \\\\ {( {x + 1} )^2} - {x^2} \\leq 1\\end{matrix}\\right.$ $\\to$ $\\left(-\\infty, -6\\right]$"
      ],
      "text/plain": [
       "<IPython.core.display.Markdown object>"
      ]
     },
     "metadata": {
      "tags": []
     },
     "output_type": "display_data"
    },
    {
     "name": "stdout",
     "output_type": "stream",
     "text": [
      "enunciado_latex: $\\left\\{\\begin{matrix}\\frac{x}{3} - \\frac{x}{2} \\geq 1 \\\\ {( {x + 1} )^2} - {x^2} \\leq 1\\end{matrix}\\right.$\n",
      "solucion_latex: $\\left(-\\infty, -6\\right]$\n"
     ]
    },
    {
     "data": {
      "text/markdown": [
       "#### Ejercicio:"
      ],
      "text/plain": [
       "<IPython.core.display.Markdown object>"
      ]
     },
     "metadata": {
      "tags": []
     },
     "output_type": "display_data"
    },
    {
     "data": {
      "text/markdown": [
       "$\\left\\{\\begin{matrix}5x + 8 \\leq 14 + 3x \\\\ 14x - 34 > 12x - 36\\end{matrix}\\right.$ $\\to$ $\\left(-1, 3\\right]$"
      ],
      "text/plain": [
       "<IPython.core.display.Markdown object>"
      ]
     },
     "metadata": {
      "tags": []
     },
     "output_type": "display_data"
    },
    {
     "name": "stdout",
     "output_type": "stream",
     "text": [
      "enunciado_latex: $\\left\\{\\begin{matrix}5x + 8 \\leq 14 + 3x \\\\ 14x - 34 > 12x - 36\\end{matrix}\\right.$\n",
      "solucion_latex: $\\left(-1, 3\\right]$\n"
     ]
    },
    {
     "data": {
      "text/markdown": [
       "#### Ejercicio:"
      ],
      "text/plain": [
       "<IPython.core.display.Markdown object>"
      ]
     },
     "metadata": {
      "tags": []
     },
     "output_type": "display_data"
    },
    {
     "data": {
      "text/markdown": [
       "$\\left\\{\\begin{matrix}2x + 8 > 0 \\\\ x + \\frac{1}{2} \\geq \\frac{x}{3}\\end{matrix}\\right.$ $\\to$ $\\left[- \\frac{3}{4}, \\infty\\right)$"
      ],
      "text/plain": [
       "<IPython.core.display.Markdown object>"
      ]
     },
     "metadata": {
      "tags": []
     },
     "output_type": "display_data"
    },
    {
     "name": "stdout",
     "output_type": "stream",
     "text": [
      "enunciado_latex: $\\left\\{\\begin{matrix}2x + 8 > 0 \\\\ x + \\frac{1}{2} \\geq \\frac{x}{3}\\end{matrix}\\right.$\n",
      "solucion_latex: $\\left[- \\frac{3}{4}, \\infty\\right)$\n"
     ]
    },
    {
     "data": {
      "text/markdown": [
       "#### Ejercicio:"
      ],
      "text/plain": [
       "<IPython.core.display.Markdown object>"
      ]
     },
     "metadata": {
      "tags": []
     },
     "output_type": "display_data"
    },
    {
     "data": {
      "text/markdown": [
       "$\\left\\{\\begin{matrix}\\frac{x}{3} - \\frac{x}{2} \\leq 1 \\\\ {( {x + 1} )^2} - {x^2} \\geq 1\\end{matrix}\\right.$ $\\to$ $\\left[0, \\infty\\right)$"
      ],
      "text/plain": [
       "<IPython.core.display.Markdown object>"
      ]
     },
     "metadata": {
      "tags": []
     },
     "output_type": "display_data"
    },
    {
     "name": "stdout",
     "output_type": "stream",
     "text": [
      "enunciado_latex: $\\left\\{\\begin{matrix}\\frac{x}{3} - \\frac{x}{2} \\leq 1 \\\\ {( {x + 1} )^2} - {x^2} \\geq 1\\end{matrix}\\right.$\n",
      "solucion_latex: $\\left[0, \\infty\\right)$\n"
     ]
    },
    {
     "data": {
      "text/markdown": [
       "#### Ejercicio:"
      ],
      "text/plain": [
       "<IPython.core.display.Markdown object>"
      ]
     },
     "metadata": {
      "tags": []
     },
     "output_type": "display_data"
    },
    {
     "data": {
      "text/markdown": [
       "$\\left\\{\\begin{matrix}\\frac{{x - 4}}{2} - \\frac{{x - 2}}{3} \\leq 12 \\\\  \\frac{x}{3} - \\frac{x}{2} \\geq 6\\end{matrix}\\right.$ $\\to$ $\\left(-\\infty, -36\\right]$"
      ],
      "text/plain": [
       "<IPython.core.display.Markdown object>"
      ]
     },
     "metadata": {
      "tags": []
     },
     "output_type": "display_data"
    },
    {
     "name": "stdout",
     "output_type": "stream",
     "text": [
      "enunciado_latex: $\\left\\{\\begin{matrix}\\frac{{x - 4}}{2} - \\frac{{x - 2}}{3} \\leq 12 \\\\  \\frac{x}{3} - \\frac{x}{2} \\geq 6\\end{matrix}\\right.$\n",
      "solucion_latex: $\\left(-\\infty, -36\\right]$\n"
     ]
    },
    {
     "data": {
      "text/markdown": [
       "#### Ejercicio:"
      ],
      "text/plain": [
       "<IPython.core.display.Markdown object>"
      ]
     },
     "metadata": {
      "tags": []
     },
     "output_type": "display_data"
    },
    {
     "data": {
      "text/markdown": [
       "$\\left\\{\\begin{matrix}2x + 6 > 8 \\\\ x + \\frac{1}{3} \\leq \\frac{x}{2}\\end{matrix}\\right.$ $\\to$ $\\emptyset$"
      ],
      "text/plain": [
       "<IPython.core.display.Markdown object>"
      ]
     },
     "metadata": {
      "tags": []
     },
     "output_type": "display_data"
    },
    {
     "name": "stdout",
     "output_type": "stream",
     "text": [
      "enunciado_latex: $\\left\\{\\begin{matrix}2x + 6 > 8 \\\\ x + \\frac{1}{3} \\leq \\frac{x}{2}\\end{matrix}\\right.$\n",
      "solucion_latex: $\\emptyset$\n"
     ]
    },
    {
     "data": {
      "text/markdown": [
       "#### Ejercicio:"
      ],
      "text/plain": [
       "<IPython.core.display.Markdown object>"
      ]
     },
     "metadata": {
      "tags": []
     },
     "output_type": "display_data"
    },
    {
     "data": {
      "text/markdown": [
       "$\\left\\{\\begin{matrix}\\frac{{x - 1}}{2} - \\frac{{x + 2}}{3} \\leq 12 \\\\  \\frac{x}{2} - \\frac{x}{3} \\geq 3\\end{matrix}\\right.$ $\\to$ $\\left[18, 79\\right]$"
      ],
      "text/plain": [
       "<IPython.core.display.Markdown object>"
      ]
     },
     "metadata": {
      "tags": []
     },
     "output_type": "display_data"
    },
    {
     "name": "stdout",
     "output_type": "stream",
     "text": [
      "enunciado_latex: $\\left\\{\\begin{matrix}\\frac{{x - 1}}{2} - \\frac{{x + 2}}{3} \\leq 12 \\\\  \\frac{x}{2} - \\frac{x}{3} \\geq 3\\end{matrix}\\right.$\n",
      "solucion_latex: $\\left[18, 79\\right]$\n"
     ]
    },
    {
     "data": {
      "text/markdown": [
       "#### Ejercicio:"
      ],
      "text/plain": [
       "<IPython.core.display.Markdown object>"
      ]
     },
     "metadata": {
      "tags": []
     },
     "output_type": "display_data"
    },
    {
     "data": {
      "text/markdown": [
       "$\\left\\{\\begin{matrix}\\frac{{x - 1}}{2} - \\frac{{x + 2}}{3} \\leq 12 \\\\  \\frac{x}{2} - \\frac{x}{3} \\leq 1\\end{matrix}\\right.$ $\\to$ $\\left(-\\infty, 6\\right]$"
      ],
      "text/plain": [
       "<IPython.core.display.Markdown object>"
      ]
     },
     "metadata": {
      "tags": []
     },
     "output_type": "display_data"
    },
    {
     "name": "stdout",
     "output_type": "stream",
     "text": [
      "enunciado_latex: $\\left\\{\\begin{matrix}\\frac{{x - 1}}{2} - \\frac{{x + 2}}{3} \\leq 12 \\\\  \\frac{x}{2} - \\frac{x}{3} \\leq 1\\end{matrix}\\right.$\n",
      "solucion_latex: $\\left(-\\infty, 6\\right]$\n"
     ]
    }
   ],
   "source": [
    "# Resolver sistemas de inecuaciones\n",
    "\n",
    "texto_ejercicio = 'Resolver sistemas de inecuaciones:'\n",
    "\n",
    "display(md(\"**\"+texto_ejercicio+\"**\"))\n",
    "\n",
    "pre_enunciado_latex = [\n",
    "                     [r'2x + 6 < 0',r'x + \\frac{1}{3} \\geq \\frac{x}{2}'],\n",
    "                     [r'x + 4 < 0 ',r' x + 1 < \\frac{x}{2}'],\n",
    "                     [r'x \\leq 0',r'\\frac{x}{2} + \\frac{x}{3} - 6 \\leq 5'],\n",
    "                     [r'x - 2 \\leq 2x + 1',r' 3 - x < 1 - 2x'],\n",
    "                     [r' \\frac{x}{3} + x < 4',r'\\frac{x}{2} - \\frac{x}{3} > 0'],\n",
    "                     [r'\\frac{{x - 4}}{2} + \\frac{{x + 2}}{3} \\leq 2',r' \\frac{x}{3} - \\frac{x}{2} \\leq 1'],\n",
    "                     [r'\\frac{x}{3} - \\frac{x}{2} \\geq 1',r'{( {x + 1} )^2} - {x^2} \\leq 1'],\n",
    "                     [r'5x + 8 \\leq 14 + 3x',r'14x - 34 > 12x - 36'],\n",
    "                     # Autoevaluacion\n",
    "                     [r'2x + 8 > 0',r'x + \\frac{1}{2} \\geq \\frac{x}{3}'],\n",
    "                     [r'\\frac{x}{3} - \\frac{x}{2} \\leq 1',r'{( {x + 1} )^2} - {x^2} \\geq 1'],\n",
    "                     [r'\\frac{{x - 4}}{2} - \\frac{{x - 2}}{3} \\leq 12',r' \\frac{x}{3} - \\frac{x}{2} \\geq 6'],\n",
    "                     [r'2x + 6 > 8',r'x + \\frac{1}{3} \\leq \\frac{x}{2}'],\n",
    "                    #  Examen\n",
    "                    [r'\\frac{{x - 1}}{2} - \\frac{{x + 2}}{3} \\leq 12',r' \\frac{x}{2} - \\frac{x}{3} \\geq 3'],\n",
    "                    [r'\\frac{{x - 1}}{2} - \\frac{{x + 2}}{3} \\leq 12',r' \\frac{x}{2} - \\frac{x}{3} \\leq 1'],\n",
    "                    ]\n",
    "\n",
    "for s in pre_enunciado_latex :\n",
    "    sist = [parse_latex(j) for j in s]\n",
    "    sist_latex=r\"\"\"\\left\\{\\begin{matrix}\"\"\"+r\" \\\\ \". join(s) + r'\\end{matrix}\\right.'\n",
    "    # display(reduce_rational_inequalities([sist],x,relational=False))\n",
    "    mostrar_ejercicio(r\"$\"+sist_latex+r\"$\",r\"$\"+latex(reduce_rational_inequalities([sist],x,relational=False))+r\"$\")"
   ]
  },
  {
   "cell_type": "code",
   "execution_count": null,
   "metadata": {
    "colab": {
     "base_uri": "https://localhost:8080/",
     "height": 683
    },
    "id": "UIZtoKfg4kVe",
    "outputId": "00d38d35-be97-4796-9d39-2f0d93f07971"
   },
   "outputs": [
    {
     "data": {
      "text/markdown": [
       "**Resolver inecuaciones de racionales:**"
      ],
      "text/plain": [
       "<IPython.core.display.Markdown object>"
      ]
     },
     "metadata": {
      "tags": []
     },
     "output_type": "display_data"
    },
    {
     "data": {
      "text/markdown": [
       "#### Ejercicio:"
      ],
      "text/plain": [
       "<IPython.core.display.Markdown object>"
      ]
     },
     "metadata": {
      "tags": []
     },
     "output_type": "display_data"
    },
    {
     "data": {
      "text/markdown": [
       "$\\frac{{( {x + 3} )}}{{x - 4}} \\geq 0$ $\\to$ $\\left(-\\infty, -3\\right] \\cup \\left(4, \\infty\\right)$"
      ],
      "text/plain": [
       "<IPython.core.display.Markdown object>"
      ]
     },
     "metadata": {
      "tags": []
     },
     "output_type": "display_data"
    },
    {
     "name": "stdout",
     "output_type": "stream",
     "text": [
      "enunciado_latex: $\\frac{{( {x + 3} )}}{{x - 4}} \\geq 0$\n",
      "solucion_latex: $\\left(-\\infty, -3\\right] \\cup \\left(4, \\infty\\right)$\n"
     ]
    },
    {
     "data": {
      "text/markdown": [
       "#### Ejercicio:"
      ],
      "text/plain": [
       "<IPython.core.display.Markdown object>"
      ]
     },
     "metadata": {
      "tags": []
     },
     "output_type": "display_data"
    },
    {
     "data": {
      "text/markdown": [
       "$\\frac{{2x + 6}}{{x - 5}} \\geq 0$ $\\to$ $\\left(-\\infty, -3\\right] \\cup \\left(5, \\infty\\right)$"
      ],
      "text/plain": [
       "<IPython.core.display.Markdown object>"
      ]
     },
     "metadata": {
      "tags": []
     },
     "output_type": "display_data"
    },
    {
     "name": "stdout",
     "output_type": "stream",
     "text": [
      "enunciado_latex: $\\frac{{2x + 6}}{{x - 5}} \\geq 0$\n",
      "solucion_latex: $\\left(-\\infty, -3\\right] \\cup \\left(5, \\infty\\right)$\n"
     ]
    },
    {
     "data": {
      "text/markdown": [
       "#### Ejercicio:"
      ],
      "text/plain": [
       "<IPython.core.display.Markdown object>"
      ]
     },
     "metadata": {
      "tags": []
     },
     "output_type": "display_data"
    },
    {
     "data": {
      "text/markdown": [
       "$\\frac{{x - 8}}{{3x - 6}} < 0$ $\\to$ $\\left(2, 8\\right)$"
      ],
      "text/plain": [
       "<IPython.core.display.Markdown object>"
      ]
     },
     "metadata": {
      "tags": []
     },
     "output_type": "display_data"
    },
    {
     "name": "stdout",
     "output_type": "stream",
     "text": [
      "enunciado_latex: $\\frac{{x - 8}}{{3x - 6}} < 0$\n",
      "solucion_latex: $\\left(2, 8\\right)$\n"
     ]
    },
    {
     "data": {
      "text/markdown": [
       "#### Ejercicio:"
      ],
      "text/plain": [
       "<IPython.core.display.Markdown object>"
      ]
     },
     "metadata": {
      "tags": []
     },
     "output_type": "display_data"
    },
    {
     "data": {
      "text/markdown": [
       "$\\frac{{x - 2}}{{x + 2}} < 0$ $\\to$ $\\left(-2, 2\\right)$"
      ],
      "text/plain": [
       "<IPython.core.display.Markdown object>"
      ]
     },
     "metadata": {
      "tags": []
     },
     "output_type": "display_data"
    },
    {
     "name": "stdout",
     "output_type": "stream",
     "text": [
      "enunciado_latex: $\\frac{{x - 2}}{{x + 2}} < 0$\n",
      "solucion_latex: $\\left(-2, 2\\right)$\n"
     ]
    },
    {
     "data": {
      "text/markdown": [
       "#### Ejercicio:"
      ],
      "text/plain": [
       "<IPython.core.display.Markdown object>"
      ]
     },
     "metadata": {
      "tags": []
     },
     "output_type": "display_data"
    },
    {
     "data": {
      "text/markdown": [
       "$\\frac{{x + 3}}{{4x}} < 0$ $\\to$ $\\left(-3, 0\\right)$"
      ],
      "text/plain": [
       "<IPython.core.display.Markdown object>"
      ]
     },
     "metadata": {
      "tags": []
     },
     "output_type": "display_data"
    },
    {
     "name": "stdout",
     "output_type": "stream",
     "text": [
      "enunciado_latex: $\\frac{{x + 3}}{{4x}} < 0$\n",
      "solucion_latex: $\\left(-3, 0\\right)$\n"
     ]
    },
    {
     "data": {
      "text/markdown": [
       "#### Ejercicio:"
      ],
      "text/plain": [
       "<IPython.core.display.Markdown object>"
      ]
     },
     "metadata": {
      "tags": []
     },
     "output_type": "display_data"
    },
    {
     "data": {
      "text/markdown": [
       "$\\frac{{( {x - 1} ) \\cdot ( {x - 2} )}}{{3{x^2} + 4}} \\geq 0$ $\\to$ $\\left(-\\infty, 1\\right] \\cup \\left[2, \\infty\\right)$"
      ],
      "text/plain": [
       "<IPython.core.display.Markdown object>"
      ]
     },
     "metadata": {
      "tags": []
     },
     "output_type": "display_data"
    },
    {
     "name": "stdout",
     "output_type": "stream",
     "text": [
      "enunciado_latex: $\\frac{{( {x - 1} ) \\cdot ( {x - 2} )}}{{3{x^2} + 4}} \\geq 0$\n",
      "solucion_latex: $\\left(-\\infty, 1\\right] \\cup \\left[2, \\infty\\right)$\n"
     ]
    }
   ],
   "source": [
    "# Resolver inecuaciones\n",
    "\n",
    "texto_ejercicio = 'Resolver inecuaciones de racionales:'\n",
    "\n",
    "display(md(\"**\"+texto_ejercicio+\"**\"))\n",
    "\n",
    "pre_enunciado_latex = [\n",
    "                     r'\\frac{{( {x + 3} )}}{{x - 4}} \\geq 0', r'\\frac{{2x + 6}}{{x - 5}} \\geq 0',\n",
    "                     r'\\frac{{x - 8}}{{3x - 6}} < 0', r'\\frac{{x - 2}}{{x + 2}} < 0',\n",
    "                     r'\\frac{{x + 3}}{{4x}} < 0',\n",
    "                     r'\\frac{{( {x - 1} ) \\cdot ( {x - 2} )}}{{3{x^2} + 4}} \\geq 0'\n",
    "                    ]\n",
    "\n",
    "for i in pre_enunciado_latex :\n",
    "    #display(sol_sist(s))\n",
    "    mostrar_ejercicio(r\"$\"+i+r\"$\",r\"$\"+latex(solve_univariate_inequality(parse_latex(i), x,  relational=False))+r\"$\")"
   ]
  },
  {
   "cell_type": "code",
   "execution_count": null,
   "metadata": {
    "colab": {
     "base_uri": "https://localhost:8080/",
     "height": 683
    },
    "id": "mY90NCWlTaGr",
    "outputId": "039e1abf-1cbe-4974-c731-f48e6a7f0639"
   },
   "outputs": [
    {
     "data": {
      "text/markdown": [
       "**Resolver inecuaciones con valor absoluto:**"
      ],
      "text/plain": [
       "<IPython.core.display.Markdown object>"
      ]
     },
     "metadata": {
      "tags": []
     },
     "output_type": "display_data"
    },
    {
     "data": {
      "text/markdown": [
       "#### Ejercicio:"
      ],
      "text/plain": [
       "<IPython.core.display.Markdown object>"
      ]
     },
     "metadata": {
      "tags": []
     },
     "output_type": "display_data"
    },
    {
     "data": {
      "text/markdown": [
       "$\\frac{{( {x + 3} )}}{{x - 4}} \\geq 0$ $\\to$ $\\left(-\\infty, -3\\right] \\cup \\left(4, \\infty\\right)$"
      ],
      "text/plain": [
       "<IPython.core.display.Markdown object>"
      ]
     },
     "metadata": {
      "tags": []
     },
     "output_type": "display_data"
    },
    {
     "name": "stdout",
     "output_type": "stream",
     "text": [
      "enunciado_latex: $\\frac{{( {x + 3} )}}{{x - 4}} \\geq 0$\n",
      "solucion_latex: $\\left(-\\infty, -3\\right] \\cup \\left(4, \\infty\\right)$\n"
     ]
    },
    {
     "data": {
      "text/markdown": [
       "#### Ejercicio:"
      ],
      "text/plain": [
       "<IPython.core.display.Markdown object>"
      ]
     },
     "metadata": {
      "tags": []
     },
     "output_type": "display_data"
    },
    {
     "data": {
      "text/markdown": [
       "$\\frac{{2x + 6}}{{x - 5}} \\geq 0$ $\\to$ $\\left(-\\infty, -3\\right] \\cup \\left(5, \\infty\\right)$"
      ],
      "text/plain": [
       "<IPython.core.display.Markdown object>"
      ]
     },
     "metadata": {
      "tags": []
     },
     "output_type": "display_data"
    },
    {
     "name": "stdout",
     "output_type": "stream",
     "text": [
      "enunciado_latex: $\\frac{{2x + 6}}{{x - 5}} \\geq 0$\n",
      "solucion_latex: $\\left(-\\infty, -3\\right] \\cup \\left(5, \\infty\\right)$\n"
     ]
    },
    {
     "data": {
      "text/markdown": [
       "#### Ejercicio:"
      ],
      "text/plain": [
       "<IPython.core.display.Markdown object>"
      ]
     },
     "metadata": {
      "tags": []
     },
     "output_type": "display_data"
    },
    {
     "data": {
      "text/markdown": [
       "$\\frac{{x - 8}}{{3x - 6}} < 0$ $\\to$ $\\left(2, 8\\right)$"
      ],
      "text/plain": [
       "<IPython.core.display.Markdown object>"
      ]
     },
     "metadata": {
      "tags": []
     },
     "output_type": "display_data"
    },
    {
     "name": "stdout",
     "output_type": "stream",
     "text": [
      "enunciado_latex: $\\frac{{x - 8}}{{3x - 6}} < 0$\n",
      "solucion_latex: $\\left(2, 8\\right)$\n"
     ]
    },
    {
     "data": {
      "text/markdown": [
       "#### Ejercicio:"
      ],
      "text/plain": [
       "<IPython.core.display.Markdown object>"
      ]
     },
     "metadata": {
      "tags": []
     },
     "output_type": "display_data"
    },
    {
     "data": {
      "text/markdown": [
       "$\\frac{{x - 2}}{{x + 2}} < 0$ $\\to$ $\\left(-2, 2\\right)$"
      ],
      "text/plain": [
       "<IPython.core.display.Markdown object>"
      ]
     },
     "metadata": {
      "tags": []
     },
     "output_type": "display_data"
    },
    {
     "name": "stdout",
     "output_type": "stream",
     "text": [
      "enunciado_latex: $\\frac{{x - 2}}{{x + 2}} < 0$\n",
      "solucion_latex: $\\left(-2, 2\\right)$\n"
     ]
    },
    {
     "data": {
      "text/markdown": [
       "#### Ejercicio:"
      ],
      "text/plain": [
       "<IPython.core.display.Markdown object>"
      ]
     },
     "metadata": {
      "tags": []
     },
     "output_type": "display_data"
    },
    {
     "data": {
      "text/markdown": [
       "$\\frac{{x + 3}}{{4x}} < 0$ $\\to$ $\\left(-3, 0\\right)$"
      ],
      "text/plain": [
       "<IPython.core.display.Markdown object>"
      ]
     },
     "metadata": {
      "tags": []
     },
     "output_type": "display_data"
    },
    {
     "name": "stdout",
     "output_type": "stream",
     "text": [
      "enunciado_latex: $\\frac{{x + 3}}{{4x}} < 0$\n",
      "solucion_latex: $\\left(-3, 0\\right)$\n"
     ]
    },
    {
     "data": {
      "text/markdown": [
       "#### Ejercicio:"
      ],
      "text/plain": [
       "<IPython.core.display.Markdown object>"
      ]
     },
     "metadata": {
      "tags": []
     },
     "output_type": "display_data"
    },
    {
     "data": {
      "text/markdown": [
       "$\\frac{{( {x - 1} ) \\cdot ( {x - 2} )}}{{3{x^2} + 4}} \\geq 0$ $\\to$ $\\left(-\\infty, 1\\right] \\cup \\left[2, \\infty\\right)$"
      ],
      "text/plain": [
       "<IPython.core.display.Markdown object>"
      ]
     },
     "metadata": {
      "tags": []
     },
     "output_type": "display_data"
    },
    {
     "name": "stdout",
     "output_type": "stream",
     "text": [
      "enunciado_latex: $\\frac{{( {x - 1} ) \\cdot ( {x - 2} )}}{{3{x^2} + 4}} \\geq 0$\n",
      "solucion_latex: $\\left(-\\infty, 1\\right] \\cup \\left[2, \\infty\\right)$\n"
     ]
    }
   ],
   "source": [
    "# Resolver inecuaciones\n",
    "\n",
    "texto_ejercicio = 'Resolver inecuaciones con valor absoluto:'\n",
    "\n",
    "display(md(\"**\"+texto_ejercicio+\"**\"))\n",
    "\n",
    "pre_enunciado_latex = [\n",
    "                     r'\\frac{{( {x + 3} )}}{{x - 4}} \\geq 0', r'\\frac{{2x + 6}}{{x - 5}} \\geq 0',\n",
    "                     r'\\frac{{x - 8}}{{3x - 6}} < 0', r'\\frac{{x - 2}}{{x + 2}} < 0',\n",
    "                     r'\\frac{{x + 3}}{{4x}} < 0',\n",
    "                     r'\\frac{{( {x - 1} ) \\cdot ( {x - 2} )}}{{3{x^2} + 4}} \\geq 0'\n",
    "                    ]\n",
    "\n",
    "for i in pre_enunciado_latex :\n",
    "    #display(sol_sist(s))\n",
    "    mostrar_ejercicio(r\"$\"+i+r\"$\",r\"$\"+latex(solve_univariate_inequality(parse_latex(i), x,  relational=False))+r\"$\")"
   ]
  },
  {
   "cell_type": "code",
   "execution_count": null,
   "metadata": {
    "colab": {
     "base_uri": "https://localhost:8080/",
     "height": 465
    },
    "id": "74mWOwEQT09Q",
    "outputId": "1508106f-1d89-44c8-f480-da7db440d32a"
   },
   "outputs": [
    {
     "data": {
      "text/markdown": [
       "**Resolver inecuaciones con valor absoluto:**"
      ],
      "text/plain": [
       "<IPython.core.display.Markdown object>"
      ]
     },
     "metadata": {
      "tags": []
     },
     "output_type": "display_data"
    },
    {
     "data": {
      "text/markdown": [
       "#### Ejercicio:"
      ],
      "text/plain": [
       "<IPython.core.display.Markdown object>"
      ]
     },
     "metadata": {
      "tags": []
     },
     "output_type": "display_data"
    },
    {
     "data": {
      "text/markdown": [
       "$| {3x - 1} | \\leq 5$ $\\to$ $\\left[- \\frac{4}{3}, 2\\right]$"
      ],
      "text/plain": [
       "<IPython.core.display.Markdown object>"
      ]
     },
     "metadata": {
      "tags": []
     },
     "output_type": "display_data"
    },
    {
     "name": "stdout",
     "output_type": "stream",
     "text": [
      "enunciado_latex: $| {3x - 1} | \\leq 5$\n",
      "solucion_latex: $\\left[- \\frac{4}{3}, 2\\right]$\n"
     ]
    },
    {
     "data": {
      "text/markdown": [
       "#### Ejercicio:"
      ],
      "text/plain": [
       "<IPython.core.display.Markdown object>"
      ]
     },
     "metadata": {
      "tags": []
     },
     "output_type": "display_data"
    },
    {
     "data": {
      "text/markdown": [
       "$| {4x + 3} |> 2$ $\\to$ $\\left(-\\infty, - \\frac{5}{4}\\right) \\cup \\left(- \\frac{1}{4}, \\infty\\right)$"
      ],
      "text/plain": [
       "<IPython.core.display.Markdown object>"
      ]
     },
     "metadata": {
      "tags": []
     },
     "output_type": "display_data"
    },
    {
     "name": "stdout",
     "output_type": "stream",
     "text": [
      "enunciado_latex: $| {4x + 3} |> 2$\n",
      "solucion_latex: $\\left(-\\infty, - \\frac{5}{4}\\right) \\cup \\left(- \\frac{1}{4}, \\infty\\right)$\n"
     ]
    },
    {
     "data": {
      "text/markdown": [
       "#### Ejercicio:"
      ],
      "text/plain": [
       "<IPython.core.display.Markdown object>"
      ]
     },
     "metadata": {
      "tags": []
     },
     "output_type": "display_data"
    },
    {
     "data": {
      "text/markdown": [
       "$| {3 - 4x} | \\geq 5$ $\\to$ $\\left(-\\infty, - \\frac{1}{2}\\right] \\cup \\left[2, \\infty\\right)$"
      ],
      "text/plain": [
       "<IPython.core.display.Markdown object>"
      ]
     },
     "metadata": {
      "tags": []
     },
     "output_type": "display_data"
    },
    {
     "name": "stdout",
     "output_type": "stream",
     "text": [
      "enunciado_latex: $| {3 - 4x} | \\geq 5$\n",
      "solucion_latex: $\\left(-\\infty, - \\frac{1}{2}\\right] \\cup \\left[2, \\infty\\right)$\n"
     ]
    },
    {
     "data": {
      "text/markdown": [
       "#### Ejercicio:"
      ],
      "text/plain": [
       "<IPython.core.display.Markdown object>"
      ]
     },
     "metadata": {
      "tags": []
     },
     "output_type": "display_data"
    },
    {
     "data": {
      "text/markdown": [
       "$| {5x - 3} | \\leq 2$ $\\to$ $\\left[\\frac{1}{5}, 1\\right]$"
      ],
      "text/plain": [
       "<IPython.core.display.Markdown object>"
      ]
     },
     "metadata": {
      "tags": []
     },
     "output_type": "display_data"
    },
    {
     "name": "stdout",
     "output_type": "stream",
     "text": [
      "enunciado_latex: $| {5x - 3} | \\leq 2$\n",
      "solucion_latex: $\\left[\\frac{1}{5}, 1\\right]$\n"
     ]
    }
   ],
   "source": [
    "# Resolver inecuaciones\n",
    "\n",
    "texto_ejercicio = 'Resolver inecuaciones con valor absoluto:'\n",
    "\n",
    "display(md(\"**\"+texto_ejercicio+\"**\"))\n",
    "\n",
    "pre_enunciado_latex = [\n",
    "                     r'| {3x - 1} | \\leq 5', r'| {4x + 3} |> 2', r'| {3 - 4x} | \\geq 5', r'| {5x - 3} | \\leq 2'\n",
    "\n",
    "                    ]\n",
    "\n",
    "for i in pre_enunciado_latex :\n",
    "    ine = parse_latex(i)    \n",
    "    des = '>=' if ine.has(GreaterThan) else '<=' if ine.has(LessThan) else '>' if ine.has(StrictGreaterThan) else '<' if ine.has(StrictLessThan) else 'ninguno'\n",
    "    mostrar_ejercicio(r\"$\"+i+r\"$\",r\"$\"+latex(reduce_abs_inequalities([(ine.args[0]-ine.args[1],des)],x).as_set())+r\"$\")"
   ]
  },
  {
   "cell_type": "code",
   "execution_count": null,
   "metadata": {
    "colab": {
     "base_uri": "https://localhost:8080/",
     "height": 517
    },
    "id": "0vgTKOrE_K5D",
    "outputId": "d78afb41-16ac-4d51-d3a3-be8f1230a7be"
   },
   "outputs": [
    {
     "data": {
      "image/png": "[encoded data removed]",
      "text/plain": [
       "<Figure size 432x288 with 1 Axes>"
      ]
     },
     "metadata": {
      "needs_background": "light",
      "tags": []
     },
     "output_type": "display_data"
    }
   ],
   "source": [
    "%matplotlib inline\n",
    "\n",
    "sist = [r'x + y \\leq 2 ',r' - 2x + y \\geq 4']\n",
    "s=[parse_latex(i) for i in sist]\n",
    "p1=plot_implicit(And(s[0],s[1]), show=False)\n",
    "# p1.extend(plot_implicit(Eq(x+y,2),line_color='r', show=False))\n",
    "p1.extend(plot_implicit(Eq(s[0].args[0],s[0].args[1]),line_color='r', show=False))\n",
    "p1.extend(plot_implicit(Eq(s[1].args[0],s[1].args[1]),line_color='g', show=False))\n",
    "p1.show()\n",
    "#p1.save('p1.pgf')\n",
    "\n"
   ]
  },
  {
   "cell_type": "code",
   "execution_count": null,
   "metadata": {
    "id": "TLC0KK6LieEl",
    "outputId": "eeb7b565-1c17-425a-9af7-7f7f5a1ce130"
   },
   "outputs": [
    {
     "data": {
      "text/markdown": [
       "**Resolver sistemas de inecuaciones con dos incógnitas:**"
      ],
      "text/plain": [
       "<IPython.core.display.Markdown object>"
      ]
     },
     "metadata": {
      "tags": []
     },
     "output_type": "display_data"
    },
    {
     "data": {
      "image/png": "[encoded data removed]",
      "text/plain": [
       "<Figure size 432x288 with 1 Axes>"
      ]
     },
     "metadata": {
      "needs_background": "light",
      "tags": []
     },
     "output_type": "display_data"
    },
    {
     "data": {
      "text/markdown": [
       "#### Ejercicio:"
      ],
      "text/plain": [
       "<IPython.core.display.Markdown object>"
      ]
     },
     "metadata": {
      "tags": []
     },
     "output_type": "display_data"
    },
    {
     "data": {
      "text/markdown": [
       "$\\left\\{\\begin{matrix}y <  - 2x + 4 \\\\ y \\geq x\\end{matrix}\\right.$ $\\to$ \\scalebox{.6}{\\input{sistema_0.pgf}}"
      ],
      "text/plain": [
       "<IPython.core.display.Markdown object>"
      ]
     },
     "metadata": {
      "tags": []
     },
     "output_type": "display_data"
    },
    {
     "name": "stdout",
     "output_type": "stream",
     "text": [
      "enunciado_latex: $\\left\\{\\begin{matrix}y <  - 2x + 4 \\\\ y \\geq x\\end{matrix}\\right.$\n",
      "solucion_latex: \\scalebox{.6}{\\input{sistema_0.pgf}}\n"
     ]
    },
    {
     "data": {
      "image/png": "[encoded data removed]",
      "text/plain": [
       "<Figure size 432x288 with 1 Axes>"
      ]
     },
     "metadata": {
      "needs_background": "light",
      "tags": []
     },
     "output_type": "display_data"
    },
    {
     "data": {
      "text/markdown": [
       "#### Ejercicio:"
      ],
      "text/plain": [
       "<IPython.core.display.Markdown object>"
      ]
     },
     "metadata": {
      "tags": []
     },
     "output_type": "display_data"
    },
    {
     "data": {
      "text/markdown": [
       "$\\left\\{\\begin{matrix}6x - 5y \\leq 30 \\\\ 4x + 3y \\leq 0\\end{matrix}\\right.$ $\\to$ \\scalebox{.6}{\\input{sistema_1.pgf}}"
      ],
      "text/plain": [
       "<IPython.core.display.Markdown object>"
      ]
     },
     "metadata": {
      "tags": []
     },
     "output_type": "display_data"
    },
    {
     "name": "stdout",
     "output_type": "stream",
     "text": [
      "enunciado_latex: $\\left\\{\\begin{matrix}6x - 5y \\leq 30 \\\\ 4x + 3y \\leq 0\\end{matrix}\\right.$\n",
      "solucion_latex: \\scalebox{.6}{\\input{sistema_1.pgf}}\n"
     ]
    },
    {
     "data": {
      "image/png": "[encoded data removed]",
      "text/plain": [
       "<Figure size 432x288 with 1 Axes>"
      ]
     },
     "metadata": {
      "needs_background": "light",
      "tags": []
     },
     "output_type": "display_data"
    },
    {
     "data": {
      "text/markdown": [
       "#### Ejercicio:"
      ],
      "text/plain": [
       "<IPython.core.display.Markdown object>"
      ]
     },
     "metadata": {
      "tags": []
     },
     "output_type": "display_data"
    },
    {
     "data": {
      "text/markdown": [
       "$\\left\\{\\begin{matrix}y \\leq 2 \\\\ x + y \\leq 3 \\\\ x \\geq 0 \\\\ y \\geq 0\\end{matrix}\\right.$ $\\to$ \\scalebox{.6}{\\input{sistema_2.pgf}}"
      ],
      "text/plain": [
       "<IPython.core.display.Markdown object>"
      ]
     },
     "metadata": {
      "tags": []
     },
     "output_type": "display_data"
    },
    {
     "name": "stdout",
     "output_type": "stream",
     "text": [
      "enunciado_latex: $\\left\\{\\begin{matrix}y \\leq 2 \\\\ x + y \\leq 3 \\\\ x \\geq 0 \\\\ y \\geq 0\\end{matrix}\\right.$\n",
      "solucion_latex: \\scalebox{.6}{\\input{sistema_2.pgf}}\n"
     ]
    },
    {
     "data": {
      "image/png": "[encoded data removed]",
      "text/plain": [
       "<Figure size 432x288 with 1 Axes>"
      ]
     },
     "metadata": {
      "needs_background": "light",
      "tags": []
     },
     "output_type": "display_data"
    },
    {
     "data": {
      "text/markdown": [
       "#### Ejercicio:"
      ],
      "text/plain": [
       "<IPython.core.display.Markdown object>"
      ]
     },
     "metadata": {
      "tags": []
     },
     "output_type": "display_data"
    },
    {
     "data": {
      "text/markdown": [
       "$\\left\\{\\begin{matrix}x + y \\leq 5 \\\\ x + 3y \\geq 9 \\\\ x \\geq 0 \\\\ y \\geq 0\\end{matrix}\\right.$ $\\to$ \\scalebox{.6}{\\input{sistema_3.pgf}}"
      ],
      "text/plain": [
       "<IPython.core.display.Markdown object>"
      ]
     },
     "metadata": {
      "tags": []
     },
     "output_type": "display_data"
    },
    {
     "name": "stdout",
     "output_type": "stream",
     "text": [
      "enunciado_latex: $\\left\\{\\begin{matrix}x + y \\leq 5 \\\\ x + 3y \\geq 9 \\\\ x \\geq 0 \\\\ y \\geq 0\\end{matrix}\\right.$\n",
      "solucion_latex: \\scalebox{.6}{\\input{sistema_3.pgf}}\n"
     ]
    }
   ],
   "source": [
    "%matplotlib inline\n",
    "\n",
    "# Resolver sistemas de inecuaciones con dos incógnitas\n",
    "\n",
    "texto_ejercicio = 'Resolver sistemas de inecuaciones con dos incógnitas:'\n",
    "\n",
    "display(md(\"**\"+texto_ejercicio+\"**\"))\n",
    "\n",
    "sistemas = [\n",
    "                    [r'y <  - 2x + 4' , r'y \\geq x'], \n",
    "                    [r'6x - 5y \\leq 30', r'4x + 3y \\leq 0'],\n",
    "                    [r'y \\leq 2',r'x + y \\leq 3',r'x \\geq 0', r'y \\geq 0'],\n",
    "                    [r'x + y \\leq 5',r'x + 3y \\geq 9', r'x \\geq 0', r'y \\geq 0'],\n",
    "                        #  [r'x + y \\leq 2 ',r' - 2x + y \\geq 4'],\n",
    "#                     [r'y <  - 2x + 4',r'y \\geq x',r'x \\geq-2']\n",
    "                    \n",
    "    \n",
    "                    ]\n",
    "\n",
    "for j,sist in enumerate(sistemas) :\n",
    "    s=[parse_latex(i) for i in sist]\n",
    "    sist_latex=r\"\"\"\\left\\{\\begin{matrix}\"\"\"+r\" \\\\ \". join(sist)+ r'\\end{matrix}\\right.'\n",
    "    set=s[0]\n",
    "    for k in range(len(sist)-1) :\n",
    "        set = And(set,s[k+1])\n",
    "    p1=plot_implicit(set, show=False)\n",
    "    # p1.extend(plot_implicit(Eq(x+y,2),line_color='r', show=False))\n",
    "    for k in range(len(sist)):\n",
    "        p1.extend(plot_implicit(Eq(s[k].args[0],s[k].args[1]),x_var=x,line_color='r', show=False))\n",
    "    \n",
    "    p1.save('sistema_{}.pgf'.format(j))\n",
    "    p1.show()\n",
    "#     p1.save('sistema_{}.png'.format(j))\n",
    "    mostrar_ejercicio(r\"$\"+sist_latex+r\"$\",r\"\"\"\\scalebox{.6}{\\input{sistema_\"\"\"+latex(j)+r\"\"\".pgf}}\"\"\")"
   ]
  }
 ],
 "metadata": {
  "colab": {
   "name": "7 Sistemas.ipynb",
   "provenance": []
  },
  "kernelspec": {
   "display_name": "Python 3",
   "language": "python",
   "name": "python3"
  },
  "language_info": {
   "codemirror_mode": {
    "name": "ipython",
    "version": 3
   },
   "file_extension": ".py",
   "mimetype": "text/x-python",
   "name": "python",
   "nbconvert_exporter": "python",
   "pygments_lexer": "ipython3",
   "version": "3.6.12"
  }
 },
 "nbformat": 4,
 "nbformat_minor": 1
}
