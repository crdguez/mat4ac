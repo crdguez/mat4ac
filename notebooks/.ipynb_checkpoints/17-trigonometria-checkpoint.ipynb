{
 "cells": [
  {
   "cell_type": "code",
   "execution_count": 1,
   "metadata": {
    "colab": {
     "base_uri": "https://localhost:8080/"
    },
    "id": "XLjKRF_kknDB",
    "outputId": "85a1e64d-7f78-4b4c-a2d3-9e6b968e32c0"
   },
   "outputs": [],
   "source": [
    "# Ejecutar para que funcione el parse_latex en google colab\n",
    "\n",
    "#!pip install sympy==1.5 antlr4-python3-runtime==4.7.1\n",
    "\n",
    "# !pip install antlr4-python3-runtime==4.7.1"
   ]
  },
  {
   "cell_type": "code",
   "execution_count": 2,
   "metadata": {
    "colab": {
     "base_uri": "https://localhost:8080/"
    },
    "id": "tVIMjcDSknDa",
    "outputId": "edff4845-95e5-4137-e673-930fbf5ee1df"
   },
   "outputs": [
    {
     "name": "stdout",
     "output_type": "stream",
     "text": [
      "IPython console for SymPy 1.6.2 (Python 3.6.12-64-bit) (ground types: gmpy)\n",
      "\n",
      "These commands were executed:\n",
      ">>> from __future__ import division\n",
      ">>> from sympy import *\n",
      ">>> x, y, z, t = symbols('x y z t')\n",
      ">>> k, m, n = symbols('k m n', integer=True)\n",
      ">>> f, g, h = symbols('f g h', cls=Function)\n",
      ">>> init_printing()\n",
      "\n",
      "Documentation can be found at https://docs.sympy.org/1.6.2/\n",
      "\n"
     ]
    }
   ],
   "source": [
    "from sympy import init_session\n",
    "from sympy.parsing.latex import parse_latex\n",
    "from sympy.parsing.sympy_parser import parse_expr\n",
    "from IPython.display import Markdown as md\n",
    "from IPython.display import display\n",
    "\n",
    "\n",
    "init_session()"
   ]
  },
  {
   "cell_type": "code",
   "execution_count": 3,
   "metadata": {
    "id": "U_EQ3XUBknDf"
   },
   "outputs": [],
   "source": [
    "def latex_exam(question, parts):\n",
    "    tex=r\"\\question \"+question+r\"\\begin{parts} \"\n",
    "    for p in parts :\n",
    "        tex+=r\"\\part[1] \"+p[0]+r\"\\begin{solution} \"+p[1]+r\"\\end{solution} \" \n",
    "    tex+=r\"\\end{parts} \"\n",
    "    \n",
    "    return tex\n",
    "\n",
    "def mostrar_ejercicio(ejercicio,solucion,tipo=0) :\n",
    "    #tipo=0 se pasa el ejercicio y la solucion en formato latex\n",
    "    if tipo == 0 :\n",
    "        display(md(\"#### Ejercicio:\"))\n",
    "        display(md(r\"{} $\\to$ {}\".format(ejercicio, solucion)))\n",
    "        print(\"enunciado_latex: \" + ejercicio)\n",
    "        print(\"solucion_latex: \" + solucion)\n",
    "        return ejercicio, solucion\n",
    "    elif tipo == 1:\n",
    "        # falta desarrollar ...\n",
    "        display(md(\"#### Ejercicio:\"))\n",
    "        display(md(r\"{} $\\to$ {}\".format(ejercicio, solucion)))\n",
    "        print(\"enunciado_latex: \" + ejercicio)\n",
    "        print(\"solucion_latex: \" + solucion)\n",
    "        return ejercicio, solucion\n",
    "\n",
    "        "
   ]
  },
  {
   "cell_type": "code",
   "execution_count": 4,
   "metadata": {},
   "outputs": [
    {
     "data": {
      "text/markdown": [
       "**Calcular las razones trigonométricas de un ángulo agudo $x$ si:**"
      ],
      "text/plain": [
       "<IPython.core.display.Markdown object>"
      ]
     },
     "metadata": {},
     "output_type": "display_data"
    },
    {
     "data": {
      "text/markdown": [
       "#### Ejercicio:"
      ],
      "text/plain": [
       "<IPython.core.display.Markdown object>"
      ]
     },
     "metadata": {},
     "output_type": "display_data"
    },
    {
     "data": {
      "text/markdown": [
       "$\\sin{x}=\\frac{1}{2}$ $\\to$ $\\sin{x}=\\frac{1}{2}, \\cos{x}=\\frac{\\sqrt{3}}{2}, \\tan{x}=\\frac{\\sqrt{3}}{3}$"
      ],
      "text/plain": [
       "<IPython.core.display.Markdown object>"
      ]
     },
     "metadata": {},
     "output_type": "display_data"
    },
    {
     "name": "stdout",
     "output_type": "stream",
     "text": [
      "enunciado_latex: $\\sin{x}=\\frac{1}{2}$\n",
      "solucion_latex: $\\sin{x}=\\frac{1}{2}, \\cos{x}=\\frac{\\sqrt{3}}{2}, \\tan{x}=\\frac{\\sqrt{3}}{3}$\n"
     ]
    },
    {
     "data": {
      "text/markdown": [
       "#### Ejercicio:"
      ],
      "text/plain": [
       "<IPython.core.display.Markdown object>"
      ]
     },
     "metadata": {},
     "output_type": "display_data"
    },
    {
     "data": {
      "text/markdown": [
       "$\\tan{x}=\\frac{\\sqrt{3}}{3}$ $\\to$ $\\sin{x}=\\frac{1}{2}, \\cos{x}=\\frac{\\sqrt{3}}{2}, \\tan{x}=\\frac{\\sqrt{3}}{3}$"
      ],
      "text/plain": [
       "<IPython.core.display.Markdown object>"
      ]
     },
     "metadata": {},
     "output_type": "display_data"
    },
    {
     "name": "stdout",
     "output_type": "stream",
     "text": [
      "enunciado_latex: $\\tan{x}=\\frac{\\sqrt{3}}{3}$\n",
      "solucion_latex: $\\sin{x}=\\frac{1}{2}, \\cos{x}=\\frac{\\sqrt{3}}{2}, \\tan{x}=\\frac{\\sqrt{3}}{3}$\n",
      "\\question Calcular las razones trigonométricas de un ángulo agudo $x$ si:\\begin{parts} \\part[1] $\\sin{x}=\\dfrac{1}{2}$\\begin{solution} $\\sin{x}=\\dfrac{1}{2}, \\cos{x}=\\dfrac{\\sqrt{3}}{2}, \\tan{x}=\\dfrac{\\sqrt{3}}{3}$\\end{solution} \\part[1] $\\tan{x}=\\dfrac{\\sqrt{3}}{3}$\\begin{solution} $\\sin{x}=\\dfrac{1}{2}, \\cos{x}=\\dfrac{\\sqrt{3}}{2}, \\tan{x}=\\dfrac{\\sqrt{3}}{3}$\\end{solution} \\end{parts} \n"
     ]
    }
   ],
   "source": [
    "# Calcular el resto de razones trigonométricas \n",
    "\n",
    "texto_ejercicio = 'Calcular las razones trigonométricas de un ángulo agudo $x$ si:'\n",
    "display(md(\"**\"+texto_ejercicio+\"**\"))\n",
    "\n",
    "pre_enunciado_latex = [r'\\sin{x}=\\frac{1}{2}', \n",
    "                       r'\\tan{x}=\\frac{\\sqrt{3}}{3}',\n",
    "                      ]\n",
    "question=texto_ejercicio\n",
    "parts=[]\n",
    "for i in pre_enunciado_latex :\n",
    "    ang = solve(parse_latex(i))[0]                     \n",
    "    enun, sol =r\"$\"+i+r\"$\", r\"$\\sin{x}=\"+latex(sin(ang))+r\", \\cos{x}=\"+latex(cos(ang))+r\", \\tan{x}=\"+latex(tan(ang))+\"$\"\n",
    "    mostrar_ejercicio(enun, sol) \n",
    "    parts.append([enun, sol])         \n",
    "\n",
    "print(latex_exam(question, parts).replace(r'\\frac',r'\\dfrac'))"
   ]
  },
  {
   "cell_type": "code",
   "execution_count": 5,
   "metadata": {},
   "outputs": [],
   "source": [
    "def resolver_triangulo(d, um='cm.') :\n",
    "    \n",
    "# datos es una lista con valores a,b,c y A, B (C es 90 y c la hipotenusa). Solo tiene que haber dos datos > 0, el resto 0\n",
    "# Usa el primer cateto y/o primer ángulo como dato en caso de que falte el otro\n",
    "# Devuelve la lista con los datos del triángulo resuelto\n",
    "\n",
    "    if And(d[0] > 0 , d[1] > 0) :\n",
    "#         display('Me dan a y b')\n",
    "        d[2]=round(sqrt(d[0]**2+d[1]**2),2)\n",
    "        d[3]=round(deg(atan(i[0]/i[1])),2)\n",
    "        d[4]=90-d[3]\n",
    "#         display(d)\n",
    "        txt_enu = r'los catetos miden {} y {} {}'.format(d[0],d[1],um)\n",
    "    elif And(d[0] > 0 , d[2] > 0) :\n",
    "#         display('Me dan a y c') \n",
    "        d[1]=round(sqrt(d[2]**2-d[0]**2),2)\n",
    "        d[3]=round(deg(asin(i[1]/i[0])),2)\n",
    "        d[4]=90-d[3]\n",
    "#         display(d)\n",
    "        txt_enu = r'la hipotenusa mide {} y un cateto {} {}'.format(d[0],d[2], um)\n",
    "    elif And(d[0] > 0 , d[3] > 0) :\n",
    "#         display('Me dan a y A')\n",
    "        d[2]=round((d[0]/sin(rad(d[3]))),2)\n",
    "        d[1]=round(d[0]/tan(rad(d[3])),2)\n",
    "        d[4]=90-d[3]\n",
    "#         display(d)\n",
    "        txt_enu = r'un cateto mide {} {} y su ángulo opuesto {}º'.format(d[0],um,d[3])\n",
    "    elif And(d[0] > 0 , d[4] > 0) :\n",
    "#         display('Me dan a y B')\n",
    "        d[2]=round(d[0]/cos(rad(d[4])),2)\n",
    "        d[1]=round(d[0]*tan(rad(d[4])),2)\n",
    "        d[3]=90-d[4]\n",
    "#         display(d)\n",
    "        txt_enu = r'un cateto mide {} {} y el ángulo opuesto al otro cateto {}º'.format(d[0],um,d[4])\n",
    "    elif And(d[2] > 0 , d[3] > 0) :\n",
    "#         display('Me dan c y A')\n",
    "        d[0]=round(d[2]*sin(rad(d[3])),2)\n",
    "        d[1]=round(d[2]*cos(rad(d[3])),2)\n",
    "        d[4]=90-d[3]\n",
    "#         display(d)\n",
    "        txt_enu = r'la hipotenusa mide {} {} y un ángulo {}º'.format(d[2],um,d[3])\n",
    "\n",
    "    else :\n",
    "        display('Usa el primer cateto y/o primer ángulo como dato')\n",
    "    \n",
    "    txt_sol= 'Los lados del triángulo miden: $'+'$, $'.join(map(latex,d[:3]))+'$ {}'.format(um)\n",
    "    txt_sol +=' Y los ángulos: $'+'$, $'.join(map(latex,d[3:]))+'$, $90$ º'\n",
    "                                                            \n",
    "    return d, txt_enu, txt_sol"
   ]
  },
  {
   "cell_type": "code",
   "execution_count": 6,
   "metadata": {},
   "outputs": [
    {
     "data": {
      "text/markdown": [
       "**Resuelve los triángulos rectángulos:**"
      ],
      "text/plain": [
       "<IPython.core.display.Markdown object>"
      ]
     },
     "metadata": {},
     "output_type": "display_data"
    },
    {
     "data": {
      "text/markdown": [
       "#### Ejercicio:"
      ],
      "text/plain": [
       "<IPython.core.display.Markdown object>"
      ]
     },
     "metadata": {},
     "output_type": "display_data"
    },
    {
     "data": {
      "text/markdown": [
       "Sabiendo que los catetos miden 5 y 12 cm. $\\to$ Los lados del triángulo miden: $5$, $12$, $13$ cm. Y los ángulos: $22.62$, $67.38$, $90$ º"
      ],
      "text/plain": [
       "<IPython.core.display.Markdown object>"
      ]
     },
     "metadata": {},
     "output_type": "display_data"
    },
    {
     "name": "stdout",
     "output_type": "stream",
     "text": [
      "enunciado_latex: Sabiendo que los catetos miden 5 y 12 cm.\n",
      "solucion_latex: Los lados del triángulo miden: $5$, $12$, $13$ cm. Y los ángulos: $22.62$, $67.38$, $90$ º\n"
     ]
    },
    {
     "data": {
      "text/markdown": [
       "#### Ejercicio:"
      ],
      "text/plain": [
       "<IPython.core.display.Markdown object>"
      ]
     },
     "metadata": {},
     "output_type": "display_data"
    },
    {
     "data": {
      "text/markdown": [
       "Sabiendo que un cateto mide 43 cm. y su ángulo opuesto 37º $\\to$ Los lados del triángulo miden: $43$, $57.06$, $71.45$ cm. Y los ángulos: $37$, $53$, $90$ º"
      ],
      "text/plain": [
       "<IPython.core.display.Markdown object>"
      ]
     },
     "metadata": {},
     "output_type": "display_data"
    },
    {
     "name": "stdout",
     "output_type": "stream",
     "text": [
      "enunciado_latex: Sabiendo que un cateto mide 43 cm. y su ángulo opuesto 37º\n",
      "solucion_latex: Los lados del triángulo miden: $43$, $57.06$, $71.45$ cm. Y los ángulos: $37$, $53$, $90$ º\n"
     ]
    },
    {
     "data": {
      "text/markdown": [
       "#### Ejercicio:"
      ],
      "text/plain": [
       "<IPython.core.display.Markdown object>"
      ]
     },
     "metadata": {},
     "output_type": "display_data"
    },
    {
     "data": {
      "text/markdown": [
       "Sabiendo que un cateto mide 7 cm. y el ángulo opuesto al otro cateto 58º $\\to$ Los lados del triángulo miden: $7$, $11.2$, $13.21$ cm. Y los ángulos: $32$, $58$, $90$ º"
      ],
      "text/plain": [
       "<IPython.core.display.Markdown object>"
      ]
     },
     "metadata": {},
     "output_type": "display_data"
    },
    {
     "name": "stdout",
     "output_type": "stream",
     "text": [
      "enunciado_latex: Sabiendo que un cateto mide 7 cm. y el ángulo opuesto al otro cateto 58º\n",
      "solucion_latex: Los lados del triángulo miden: $7$, $11.2$, $13.21$ cm. Y los ángulos: $32$, $58$, $90$ º\n"
     ]
    },
    {
     "data": {
      "text/markdown": [
       "#### Ejercicio:"
      ],
      "text/plain": [
       "<IPython.core.display.Markdown object>"
      ]
     },
     "metadata": {},
     "output_type": "display_data"
    },
    {
     "data": {
      "text/markdown": [
       "Sabiendo que la hipotenusa mide 5.8 cm. y un ángulo 71º $\\to$ Los lados del triángulo miden: $5.48$, $1.89$, $5.8$ cm. Y los ángulos: $71$, $19$, $90$ º"
      ],
      "text/plain": [
       "<IPython.core.display.Markdown object>"
      ]
     },
     "metadata": {},
     "output_type": "display_data"
    },
    {
     "name": "stdout",
     "output_type": "stream",
     "text": [
      "enunciado_latex: Sabiendo que la hipotenusa mide 5.8 cm. y un ángulo 71º\n",
      "solucion_latex: Los lados del triángulo miden: $5.48$, $1.89$, $5.8$ cm. Y los ángulos: $71$, $19$, $90$ º\n",
      "\\question Resuelve los triángulos rectángulos:\\begin{parts} \\part[1] Sabiendo que los catetos miden 5 y 12 cm.\\begin{solution} Los lados del triángulo miden: $5$, $12$, $13$ cm. Y los ángulos: $22.62$, $67.38$, $90$ º\\end{solution} \\part[1] Sabiendo que un cateto mide 43 cm. y su ángulo opuesto 37º\\begin{solution} Los lados del triángulo miden: $43$, $57.06$, $71.45$ cm. Y los ángulos: $37$, $53$, $90$ º\\end{solution} \\part[1] Sabiendo que un cateto mide 7 cm. y el ángulo opuesto al otro cateto 58º\\begin{solution} Los lados del triángulo miden: $7$, $11.2$, $13.21$ cm. Y los ángulos: $32$, $58$, $90$ º\\end{solution} \\part[1] Sabiendo que la hipotenusa mide 5.8 cm. y un ángulo 71º\\begin{solution} Los lados del triángulo miden: $5.48$, $1.89$, $5.8$ cm. Y los ángulos: $71$, $19$, $90$ º\\end{solution} \\end{parts} \n"
     ]
    }
   ],
   "source": [
    "# Resolver triángulos, Ver la función resolver_triangulo(d, um='cm.') \n",
    "\n",
    "texto_ejercicio = 'Resuelve los triángulos rectángulos:'\n",
    "display(md(\"**\"+texto_ejercicio+\"**\"))\n",
    "\n",
    "pre_enunciado_latex = [[5,12,0,0,0],\n",
    "                       [43,0,0,37,0],\n",
    "                       [7,0,0,0,58],\n",
    "                       [0,0,5.8,71,0],\n",
    "                       \n",
    "                      ]\n",
    "question=texto_ejercicio\n",
    "parts=[]\n",
    "for i in pre_enunciado_latex :\n",
    "    d=i\n",
    "    d, txt_enu, txt_sol= resolver_triangulo(d)\n",
    "#     enun = r\"La hipotenusa y un lado miden $\"+r\"$ cm. y $\".join(map(latex,i))+r\"$ cm. respectivamente\" \n",
    "    enun = r'Sabiendo que '+txt_enu\n",
    "#     s = [round(sqrt(i[0]**2-i[1]**2),2),(deg(asin(i[1]/i[0]))).evalf()]\n",
    "#     sol = r\"El otro cateto vale: $\"+latex(d[1])+r\"$ y los ańgulos agudos: $\"+\"$ y $\".join(map(latex,[d[3],d[4]]))+\"$\"\n",
    "    sol = txt_sol\n",
    "    mostrar_ejercicio(enun, sol) \n",
    "    parts.append([enun, sol])         \n",
    "\n",
    "print(latex_exam(question, parts).replace(r'\\frac',r'\\dfrac'))"
   ]
  },
  {
   "cell_type": "code",
   "execution_count": 9,
   "metadata": {},
   "outputs": [
    {
     "data": {
      "text/markdown": [
       "**Calcular las razones trigonométricas de un ángulo $\\alpha$ si:**"
      ],
      "text/plain": [
       "<IPython.core.display.Markdown object>"
      ]
     },
     "metadata": {},
     "output_type": "display_data"
    },
    {
     "data": {
      "text/markdown": [
       "#### Ejercicio:"
      ],
      "text/plain": [
       "<IPython.core.display.Markdown object>"
      ]
     },
     "metadata": {},
     "output_type": "display_data"
    },
    {
     "data": {
      "text/markdown": [
       "$\\sin{\\alpha}=0.6 \\land \\cos{\\alpha}<0$  $\\to$ $\\sin{\\alpha}=0.6, \\cos{\\alpha}=-0.8, \\tan{\\alpha}=-0.75$. \\\\ El ángulo que cumple las condiciones del ejercicio es: $143.13º$"
      ],
      "text/plain": [
       "<IPython.core.display.Markdown object>"
      ]
     },
     "metadata": {},
     "output_type": "display_data"
    },
    {
     "name": "stdout",
     "output_type": "stream",
     "text": [
      "enunciado_latex: $\\sin{\\alpha}=0.6 \\land \\cos{\\alpha}<0$ \n",
      "solucion_latex: $\\sin{\\alpha}=0.6, \\cos{\\alpha}=-0.8, \\tan{\\alpha}=-0.75$. \\\\ El ángulo que cumple las condiciones del ejercicio es: $143.13º$\n"
     ]
    },
    {
     "data": {
      "text/markdown": [
       "#### Ejercicio:"
      ],
      "text/plain": [
       "<IPython.core.display.Markdown object>"
      ]
     },
     "metadata": {},
     "output_type": "display_data"
    },
    {
     "data": {
      "text/markdown": [
       "$\\cos{\\alpha}=-1/3 \\land \\tan{\\alpha}>0$  $\\to$ $\\sin{\\alpha}=- \\frac{2 \\sqrt{2}}{3}, \\cos{\\alpha}=- \\frac{1}{3}, \\tan{\\alpha}=2 \\sqrt{2}$. \\\\ El ángulo que cumple las condiciones del ejercicio es: $250.53º$"
      ],
      "text/plain": [
       "<IPython.core.display.Markdown object>"
      ]
     },
     "metadata": {},
     "output_type": "display_data"
    },
    {
     "name": "stdout",
     "output_type": "stream",
     "text": [
      "enunciado_latex: $\\cos{\\alpha}=-1/3 \\land \\tan{\\alpha}>0$ \n",
      "solucion_latex: $\\sin{\\alpha}=- \\frac{2 \\sqrt{2}}{3}, \\cos{\\alpha}=- \\frac{1}{3}, \\tan{\\alpha}=2 \\sqrt{2}$. \\\\ El ángulo que cumple las condiciones del ejercicio es: $250.53º$\n"
     ]
    },
    {
     "data": {
      "text/markdown": [
       "#### Ejercicio:"
      ],
      "text/plain": [
       "<IPython.core.display.Markdown object>"
      ]
     },
     "metadata": {},
     "output_type": "display_data"
    },
    {
     "data": {
      "text/markdown": [
       "$\\tan{\\alpha}=-2 \\land \\sin{\\alpha}>0$  $\\to$ $\\sin{\\alpha}=\\frac{2 \\sqrt{5}}{5}, \\cos{\\alpha}=- \\frac{\\sqrt{5}}{5}, \\tan{\\alpha}=-2$. \\\\ El ángulo que cumple las condiciones del ejercicio es: $116.57º$"
      ],
      "text/plain": [
       "<IPython.core.display.Markdown object>"
      ]
     },
     "metadata": {},
     "output_type": "display_data"
    },
    {
     "name": "stdout",
     "output_type": "stream",
     "text": [
      "enunciado_latex: $\\tan{\\alpha}=-2 \\land \\sin{\\alpha}>0$ \n",
      "solucion_latex: $\\sin{\\alpha}=\\frac{2 \\sqrt{5}}{5}, \\cos{\\alpha}=- \\frac{\\sqrt{5}}{5}, \\tan{\\alpha}=-2$. \\\\ El ángulo que cumple las condiciones del ejercicio es: $116.57º$\n"
     ]
    },
    {
     "data": {
      "text/markdown": [
       "#### Ejercicio:"
      ],
      "text/plain": [
       "<IPython.core.display.Markdown object>"
      ]
     },
     "metadata": {},
     "output_type": "display_data"
    },
    {
     "data": {
      "text/markdown": [
       "$\\sin{\\alpha}=-2/3 \\land \\tan{\\alpha}<0$  $\\to$ $\\sin{\\alpha}=- \\frac{2}{3}, \\cos{\\alpha}=\\frac{\\sqrt{5}}{3}, \\tan{\\alpha}=- \\frac{2 \\sqrt{5}}{5}$. \\\\ El ángulo que cumple las condiciones del ejercicio es: $318.19º$"
      ],
      "text/plain": [
       "<IPython.core.display.Markdown object>"
      ]
     },
     "metadata": {},
     "output_type": "display_data"
    },
    {
     "name": "stdout",
     "output_type": "stream",
     "text": [
      "enunciado_latex: $\\sin{\\alpha}=-2/3 \\land \\tan{\\alpha}<0$ \n",
      "solucion_latex: $\\sin{\\alpha}=- \\frac{2}{3}, \\cos{\\alpha}=\\frac{\\sqrt{5}}{3}, \\tan{\\alpha}=- \\frac{2 \\sqrt{5}}{5}$. \\\\ El ángulo que cumple las condiciones del ejercicio es: $318.19º$\n",
      "\\question Calcular las razones trigonométricas de un ángulo $\\alpha$ si:\\begin{parts} \\part[1] $\\sin{\\alpha}=0.6 \\land \\cos{\\alpha}<0$ \\begin{solution} $\\sin{\\alpha}=0.6, \\cos{\\alpha}=-0.8, \\tan{\\alpha}=-0.75$. \\\\ El ángulo que cumple las condiciones del ejercicio es: $143.13º$\\end{solution} \\part[1] $\\cos{\\alpha}=-1/3 \\land \\tan{\\alpha}>0$ \\begin{solution} $\\sin{\\alpha}=- \\dfrac{2 \\sqrt{2}}{3}, \\cos{\\alpha}=- \\dfrac{1}{3}, \\tan{\\alpha}=2 \\sqrt{2}$. \\\\ El ángulo que cumple las condiciones del ejercicio es: $250.53º$\\end{solution} \\part[1] $\\tan{\\alpha}=-2 \\land \\sin{\\alpha}>0$ \\begin{solution} $\\sin{\\alpha}=\\dfrac{2 \\sqrt{5}}{5}, \\cos{\\alpha}=- \\dfrac{\\sqrt{5}}{5}, \\tan{\\alpha}=-2$. \\\\ El ángulo que cumple las condiciones del ejercicio es: $116.57º$\\end{solution} \\part[1] $\\sin{\\alpha}=-2/3 \\land \\tan{\\alpha}<0$ \\begin{solution} $\\sin{\\alpha}=- \\dfrac{2}{3}, \\cos{\\alpha}=\\dfrac{\\sqrt{5}}{3}, \\tan{\\alpha}=- \\dfrac{2 \\sqrt{5}}{5}$. \\\\ El ángulo que cumple las condiciones del ejercicio es: $318.19º$\\end{solution} \\end{parts} \n"
     ]
    }
   ],
   "source": [
    "def cuadrantes_segun_signo(f,s) :\n",
    "    #recibe una función trigonométrica y el signo\n",
    "    #devuelve los dos cuadrantes posibles\n",
    "    if latex(f).find('sin') > -1 :\n",
    "        if s == '+':\n",
    "            s=FiniteSet(1, 2)\n",
    "        else :\n",
    "            s=FiniteSet(3, 4)\n",
    "    if latex(f).find('cos') > -1 :\n",
    "        if s == '+':\n",
    "            s=FiniteSet(1, 4)\n",
    "        else :\n",
    "            s=FiniteSet(2, 3)\n",
    "    if latex(f).find('tan') > -1 :\n",
    "        if s == '+':\n",
    "            s=FiniteSet(1, 3)\n",
    "        else :\n",
    "            s=FiniteSet(2, 4)\n",
    "    return s\n",
    "\n",
    "\n",
    "def cuadrante_razon_signo(i):\n",
    "    # recibe una razón trigonomética y el signo de otra razón \n",
    "    # [r'\\sin{\\alpha}=0.6',r'\\cos{\\alpha}<0']\n",
    "    fa=parse_latex(i[0]).args[0]\n",
    "    sa='+' if parse_latex(i[0]).args[1]>0 else '-'\n",
    "\n",
    "    fb=parse_latex(i[1]).args[0]\n",
    "    sb='+' if i[1].find('>')>-1 else '-'\n",
    "#     return sa,sb,list(cuadrantes_segun_signo(fa,sa).intersect(cuadrantes_segun_signo(fb,sb)))\n",
    "    return list(cuadrantes_segun_signo(fa,sa).intersect(cuadrantes_segun_signo(fb,sb)))[0]\n",
    "\n",
    "\n",
    "def razon_cuadrante(raz_tex,cuad):\n",
    "    #devuelve la lista de ángulos candidatos, el que está en cuadrante y las razones\n",
    "    raz = parse_latex(raz_tex)\n",
    "    # radianes\n",
    "    list_ang=list(map(lambda a: a if a >=0 else a+2*pi, solve(raz)))\n",
    "    # Las ecuaciones con tangente solo dan una solucion\n",
    "    if len(list_ang) == 1 : list_ang.append((list_ang[0]+pi)%(2*pi))\n",
    "    ang=list(filter(lambda c: c > (cuad-1)*pi/2 and c < (cuad)*pi/2,list_ang))[0]\n",
    "    #devuelve la lista de ángulos candidatos, el que está en cuadrante y las razones\n",
    "    return [round(deg(a),2) for a in list_ang], round(deg(ang),2), sin(ang),cos(ang),tan(ang)\n",
    "\n",
    "texto_ejercicio = 'Calcular las razones trigonométricas de un ángulo $\\\\alpha$ si:'\n",
    "display(md(\"**\"+texto_ejercicio+\"**\"))\n",
    "\n",
    "pre_enunciado_latex = [[r'\\sin{\\alpha}=0.6',r'\\cos{\\alpha}<0'] ,\n",
    "                       [r'\\cos{\\alpha}=-1/3',r'\\tan{\\alpha}>0'] ,\n",
    "                       [r'\\tan{\\alpha}=-2',r'\\sin{\\alpha}>0'] ,\n",
    "                       [r'\\sin{\\alpha}=-2/3',r'\\tan{\\alpha}<0'] ,\n",
    "            \n",
    "                      ]\n",
    "question=texto_ejercicio\n",
    "parts=[]\n",
    "for i in pre_enunciado_latex :\n",
    "#     fun_latex=i[0].replace('\\\\alpha','x')\n",
    "    raz, cuad = i[0],cuadrante_razon_signo(i)\n",
    "#     display(cuadrante_razon_signo(i))\n",
    "    \n",
    "    lista_ang, ang, s, c, t =razon_cuadrante(raz,cuad)\n",
    "    cu = 'I' if cuad==1 else 'II' if cuad==2 else 'III' if cuad==3 else 'IV'\n",
    "#     enun = r\"$\"+raz+r\" \\land \\alpha \\in \"+cu+\"$ \"\n",
    "    enun = r\"$\"+raz+r\" \\land \"+i[1]+\"$ \"\n",
    "    sol=r\"$\\sin{\\alpha}=\"+latex(s)\n",
    "    sol+=r\", \\cos{\\alpha}=\"+latex(c)+r\", \\tan{\\alpha}=\"+latex(t)+r\"$. \\\\ \"\n",
    "    sol+=r\"El ángulo que cumple las condiciones del ejercicio es: $\"+latex(ang)+r\"º$\"\n",
    "    mostrar_ejercicio(enun, sol) \n",
    "    parts.append([enun, sol])         \n",
    "\n",
    "print(latex_exam(question, parts).replace(r'\\frac',r'\\dfrac'))"
   ]
  },
  {
   "cell_type": "code",
   "execution_count": 10,
   "metadata": {},
   "outputs": [
    {
     "data": {
      "text/markdown": [
       "**Calcular las razones trigonométricas de un ángulo $\\alpha$ si:**"
      ],
      "text/plain": [
       "<IPython.core.display.Markdown object>"
      ]
     },
     "metadata": {},
     "output_type": "display_data"
    },
    {
     "data": {
      "text/markdown": [
       "#### Ejercicio:"
      ],
      "text/plain": [
       "<IPython.core.display.Markdown object>"
      ]
     },
     "metadata": {},
     "output_type": "display_data"
    },
    {
     "data": {
      "text/markdown": [
       "$\\sin{\\alpha}=0.6 \\land \\alpha \\in I$  $\\to$ $\\sin{\\alpha}=0.6, \\cos{\\alpha}=0.8, \\tan{\\alpha}=0.75$. \\\\ El ángulo que cumple las condiciones del ejercicio es: $36.87º$"
      ],
      "text/plain": [
       "<IPython.core.display.Markdown object>"
      ]
     },
     "metadata": {},
     "output_type": "display_data"
    },
    {
     "name": "stdout",
     "output_type": "stream",
     "text": [
      "enunciado_latex: $\\sin{\\alpha}=0.6 \\land \\alpha \\in I$ \n",
      "solucion_latex: $\\sin{\\alpha}=0.6, \\cos{\\alpha}=0.8, \\tan{\\alpha}=0.75$. \\\\ El ángulo que cumple las condiciones del ejercicio es: $36.87º$\n"
     ]
    },
    {
     "data": {
      "text/markdown": [
       "#### Ejercicio:"
      ],
      "text/plain": [
       "<IPython.core.display.Markdown object>"
      ]
     },
     "metadata": {},
     "output_type": "display_data"
    },
    {
     "data": {
      "text/markdown": [
       "$\\sin{\\alpha}=0.6 \\land \\alpha \\in II$  $\\to$ $\\sin{\\alpha}=0.6, \\cos{\\alpha}=-0.8, \\tan{\\alpha}=-0.75$. \\\\ El ángulo que cumple las condiciones del ejercicio es: $143.13º$"
      ],
      "text/plain": [
       "<IPython.core.display.Markdown object>"
      ]
     },
     "metadata": {},
     "output_type": "display_data"
    },
    {
     "name": "stdout",
     "output_type": "stream",
     "text": [
      "enunciado_latex: $\\sin{\\alpha}=0.6 \\land \\alpha \\in II$ \n",
      "solucion_latex: $\\sin{\\alpha}=0.6, \\cos{\\alpha}=-0.8, \\tan{\\alpha}=-0.75$. \\\\ El ángulo que cumple las condiciones del ejercicio es: $143.13º$\n",
      "\\question Calcular las razones trigonométricas de un ángulo $\\alpha$ si:\\begin{parts} \\part[1] $\\sin{\\alpha}=0.6 \\land \\alpha \\in I$ \\begin{solution} $\\sin{\\alpha}=0.6, \\cos{\\alpha}=0.8, \\tan{\\alpha}=0.75$. \\\\ El ángulo que cumple las condiciones del ejercicio es: $36.87º$\\end{solution} \\part[1] $\\sin{\\alpha}=0.6 \\land \\alpha \\in II$ \\begin{solution} $\\sin{\\alpha}=0.6, \\cos{\\alpha}=-0.8, \\tan{\\alpha}=-0.75$. \\\\ El ángulo que cumple las condiciones del ejercicio es: $143.13º$\\end{solution} \\end{parts} \n"
     ]
    }
   ],
   "source": [
    "texto_ejercicio = 'Calcular las razones trigonométricas de un ángulo $\\\\alpha$ si:'\n",
    "display(md(\"**\"+texto_ejercicio+\"**\"))\n",
    "\n",
    "pre_enunciado_latex = [[r'\\sin{\\alpha}=0.6',1] , \n",
    "                       [r'\\sin{\\alpha}=0.6',2] , \n",
    "            \n",
    "                      ]\n",
    "question=texto_ejercicio\n",
    "parts=[]\n",
    "for i in pre_enunciado_latex :\n",
    "#     fun_latex=i[0].replace('\\\\alpha','x')\n",
    "    raz, cuad = i[0],i[1]\n",
    "#     display(cuadrante_razon_signo(i))\n",
    "    \n",
    "    lista_ang, ang, s, c, t =razon_cuadrante(raz,cuad)\n",
    "    cu = 'I' if cuad==1 else 'II' if cuad==2 else 'III' if cuad==3 else 'IV'\n",
    "    enun = r\"$\"+raz+r\" \\land \\alpha \\in \"+cu+\"$ \"\n",
    "#     enun = r\"$\"+raz+r\" \\land \"+i[1]+\"$ \"\n",
    "    sol=r\"$\\sin{\\alpha}=\"+latex(s)\n",
    "    sol+=r\", \\cos{\\alpha}=\"+latex(c)+r\", \\tan{\\alpha}=\"+latex(t)+r\"$. \\\\ \"\n",
    "    sol+=r\"El ángulo que cumple las condiciones del ejercicio es: $\"+latex(ang)+r\"º$\"\n",
    "    mostrar_ejercicio(enun, sol) \n",
    "    parts.append([enun, sol])         \n",
    "\n",
    "print(latex_exam(question, parts).replace(r'\\frac',r'\\dfrac'))"
   ]
  },
  {
   "cell_type": "code",
   "execution_count": 11,
   "metadata": {},
   "outputs": [
    {
     "data": {
      "text/markdown": [
       "**Calcular las razones trigonométricas de un ángulo $\\alpha$ si:**"
      ],
      "text/plain": [
       "<IPython.core.display.Markdown object>"
      ]
     },
     "metadata": {},
     "output_type": "display_data"
    },
    {
     "data": {
      "text/markdown": [
       "#### Ejercicio:"
      ],
      "text/plain": [
       "<IPython.core.display.Markdown object>"
      ]
     },
     "metadata": {},
     "output_type": "display_data"
    },
    {
     "data": {
      "text/markdown": [
       "$\\sin{\\alpha}=4/5 \\land \\alpha \\in I$  $\\to$ $\\sin{\\alpha}=\\frac{4}{5}, \\cos{\\alpha}=\\frac{3}{5}, \\tan{\\alpha}=\\frac{4}{3}$. \\\\ El ángulo que cumple las condiciones del ejercicio es: $53.13º$"
      ],
      "text/plain": [
       "<IPython.core.display.Markdown object>"
      ]
     },
     "metadata": {},
     "output_type": "display_data"
    },
    {
     "name": "stdout",
     "output_type": "stream",
     "text": [
      "enunciado_latex: $\\sin{\\alpha}=4/5 \\land \\alpha \\in I$ \n",
      "solucion_latex: $\\sin{\\alpha}=\\frac{4}{5}, \\cos{\\alpha}=\\frac{3}{5}, \\tan{\\alpha}=\\frac{4}{3}$. \\\\ El ángulo que cumple las condiciones del ejercicio es: $53.13º$\n",
      "\\question Calcular las razones trigonométricas de un ángulo $\\alpha$ si:\\begin{parts} \\part[1] $\\sin{\\alpha}=4/5 \\land \\alpha \\in I$ \\begin{solution} $\\sin{\\alpha}=\\dfrac{4}{5}, \\cos{\\alpha}=\\dfrac{3}{5}, \\tan{\\alpha}=\\dfrac{4}{3}$. \\\\ El ángulo que cumple las condiciones del ejercicio es: $53.13º$\\end{solution} \\end{parts} \n"
     ]
    }
   ],
   "source": [
    "texto_ejercicio = 'Calcular las razones trigonométricas de un ángulo $\\\\alpha$ si:'\n",
    "display(md(\"**\"+texto_ejercicio+\"**\"))\n",
    "\n",
    "pre_enunciado_latex = [[r'\\sin{\\alpha}=4/5',r'\\alpha < 90'] , \n",
    "            \n",
    "                      ]\n",
    "question=texto_ejercicio\n",
    "parts=[]\n",
    "for i in pre_enunciado_latex :\n",
    "#     fun_latex=i[0].replace('\\\\alpha','x')\n",
    "    raz, cuad = i[0],1\n",
    "#     display(cuadrante_razon_signo(i))\n",
    "    \n",
    "    lista_ang, ang, s, c, t =razon_cuadrante(raz,cuad)\n",
    "    cu = 'I' if cuad==1 else 'II' if cuad==2 else 'III' if cuad==3 else 'IV'\n",
    "    enun = r\"$\"+raz+r\" \\land \\alpha \\in \"+cu+\"$ \"\n",
    "#     enun = r\"$\"+raz+r\" \\land \"+i[1]+\"$ \"\n",
    "    sol=r\"$\\sin{\\alpha}=\"+latex(s)\n",
    "    sol+=r\", \\cos{\\alpha}=\"+latex(c)+r\", \\tan{\\alpha}=\"+latex(t)+r\"$. \\\\ \"\n",
    "    sol+=r\"El ángulo que cumple las condiciones del ejercicio es: $\"+latex(ang)+r\"º$\"\n",
    "    mostrar_ejercicio(enun, sol) \n",
    "    parts.append([enun, sol])         \n",
    "\n",
    "print(latex_exam(question, parts).replace(r'\\frac',r'\\dfrac'))"
   ]
  },
  {
   "cell_type": "code",
   "execution_count": 56,
   "metadata": {},
   "outputs": [
    {
     "data": {
      "image/png": "[encoded data removed]",
      "text/latex": [
       "$\\displaystyle \\left\\{3, 4\\right\\}$"
      ],
      "text/plain": [
       "{3, 4}"
      ]
     },
     "execution_count": 56,
     "metadata": {},
     "output_type": "execute_result"
    }
   ],
   "source": [
    "i=[r'\\sin{\\alpha}=4/5',r'\\alpha > 180']\n",
    "\n",
    "\n",
    "cuadrantes=[1,2,3,4]\n",
    "# list(filter(lambda a: a<=3,cuadrante))\n",
    "# eval('a'+i[1].replace(' ','')[6:].replace('90','=1'))\n",
    "filtro2=list(filter(lambda a: eval('a'+i[1].replace(' ','')[6:].replace('<90','<=1').replace('<180','<=2')\n",
    "                           .replace('<270','<=3').replace('<360','<=4').replace('>90','>1').\n",
    "                           replace('>180','>2').replace('>270','>3').replace('>360','>4')),cuadrantes))\n",
    "\n",
    "parse_latex(i[0]).args\n",
    "\n",
    "\n",
    "s2=FiniteSet(*filtro2)\n",
    "s2"
   ]
  },
  {
   "cell_type": "code",
   "execution_count": null,
   "metadata": {},
   "outputs": [],
   "source": []
  }
 ],
 "metadata": {
  "colab": {
   "name": "7 Sistemas.ipynb",
   "provenance": []
  },
  "kernelspec": {
   "display_name": "Python 3",
   "language": "python",
   "name": "python3"
  },
  "language_info": {
   "codemirror_mode": {
    "name": "ipython",
    "version": 3
   },
   "file_extension": ".py",
   "mimetype": "text/x-python",
   "name": "python",
   "nbconvert_exporter": "python",
   "pygments_lexer": "ipython3",
   "version": "3.6.12"
  }
 },
 "nbformat": 4,
 "nbformat_minor": 1
}
