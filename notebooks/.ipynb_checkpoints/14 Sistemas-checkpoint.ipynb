{
 "cells": [
  {
   "cell_type": "code",
   "execution_count": 1,
   "metadata": {},
   "outputs": [],
   "source": [
    "# Ejecutar para que funcione el parse_latex en google colab\n",
    " \n",
    "#!pip install sympy antlr4-python3-runtime==4.7.1"
   ]
  },
  {
   "cell_type": "code",
   "execution_count": 1,
   "metadata": {},
   "outputs": [
    {
     "name": "stdout",
     "output_type": "stream",
     "text": [
      "IPython console for SymPy 1.7.1 (Python 3.8.7-32-bit) (ground types: python)\n",
      "\n",
      "These commands were executed:\n",
      ">>> from __future__ import division\n",
      ">>> from sympy import *\n",
      ">>> x, y, z, t = symbols('x y z t')\n",
      ">>> k, m, n = symbols('k m n', integer=True)\n",
      ">>> f, g, h = symbols('f g h', cls=Function)\n",
      ">>> init_printing()\n",
      "\n",
      "Documentation can be found at https://docs.sympy.org/1.7.1/\n",
      "\n"
     ]
    }
   ],
   "source": [
    "from sympy import init_session\n",
    "from sympy.parsing.latex import parse_latex\n",
    "from sympy.parsing.sympy_parser import parse_expr\n",
    "from IPython.display import Markdown as md\n",
    "from IPython.display import display\n",
    "\n",
    "init_session()"
   ]
  },
  {
   "cell_type": "code",
   "execution_count": 2,
   "metadata": {},
   "outputs": [],
   "source": [
    "def mostrar_ejercicio(ejercicio,solucion,tipo=0) :\n",
    "    #tipo=0 se pasa el ejercicio y la solucion en formato latex\n",
    "    if tipo == 0 :\n",
    "        display(md(\"#### Ejercicio:\"))\n",
    "        display(md(r\"{} $\\to$ {}\".format(ejercicio, solucion)))\n",
    "        print(\"enunciado_latex: \" + ejercicio)\n",
    "        print(\"solucion_latex: \" + solucion)\n",
    "        return ejercicio, solucion\n",
    "    elif tipo == 1:\n",
    "        # falta desarrollar ...\n",
    "        display(md(\"#### Ejercicio:\"))\n",
    "        display(md(r\"{} $\\to$ {}\".format(ejercicio, solucion)))\n",
    "        print(\"enunciado_latex: \" + ejercicio)\n",
    "        print(\"solucion_latex: \" + solucion)\n",
    "        return ejercicio, solucion\n",
    "\n",
    "        "
   ]
  },
  {
   "cell_type": "code",
   "execution_count": 8,
   "metadata": {
    "colab": {},
    "colab_type": "code",
    "id": "77UJCXVIA_nu"
   },
   "outputs": [],
   "source": [
    "def sol_sist(sist):\n",
    "    # Función que recibe un sistema de ecuaciones en Latex y devuelve: \n",
    "    # El sistema en latex, la lista de exuaciones sympy, la solución y la matriz de ecuacuibes\n",
    "    \n",
    "    sist_latex = r\"\"\"\\left\\{\\begin{matrix}\"\"\"\n",
    "    eq = []\n",
    "    sb = S.EmptySet # variables de las ecuaciones\n",
    "    \n",
    "    for i,e in enumerate(sist):\n",
    "        sist_latex += e + r'\\\\ '\n",
    "        eq.append(Eq(parse_latex(e[:e.find('=')]),parse_latex(e[e.find('=')+1:])).simplify())\n",
    "        sb = parse_latex(e[:e.find('=')]).free_symbols.union(sb)\n",
    "        sb = parse_latex(e[e.find('=')+1:]).free_symbols.union(sb)       \n",
    "       \n",
    "\n",
    "    sist_latex += r'\\end{matrix}\\right.'\n",
    "    \n",
    "    matriz = linear_eq_to_matrix(eq,list(sb))\n",
    "    matriz = matriz[0].row_join(matriz[1])\n",
    "    \n",
    "    return [sist_latex, eq, solve(eq), matriz]    "
   ]
  },
  {
   "cell_type": "code",
   "execution_count": 9,
   "metadata": {
    "colab": {},
    "colab_type": "code",
    "id": "2HFkgfNRA_n_",
    "outputId": "09fca6e9-5f9b-4eb4-e61f-af48c068730f"
   },
   "outputs": [
    {
     "data": {
      "text/markdown": [
       "**Resolver sistemas:**"
      ],
      "text/plain": [
       "<IPython.core.display.Markdown object>"
      ]
     },
     "metadata": {},
     "output_type": "display_data"
    },
    {
     "data": {
      "text/markdown": [
       "#### Ejercicio:"
      ],
      "text/plain": [
       "<IPython.core.display.Markdown object>"
      ]
     },
     "metadata": {},
     "output_type": "display_data"
    },
    {
     "data": {
      "text/markdown": [
       "$\\left\\{\\begin{matrix}3x - 2y = 1\\\\ x + 6y = 7\\\\ \\end{matrix}\\right.$ $\\to$ $\\left\\{ x : 1, \\  y : 1\\right\\}$"
      ],
      "text/plain": [
       "<IPython.core.display.Markdown object>"
      ]
     },
     "metadata": {},
     "output_type": "display_data"
    },
    {
     "name": "stdout",
     "output_type": "stream",
     "text": [
      "enunciado_latex: $\\left\\{\\begin{matrix}3x - 2y = 1\\\\ x + 6y = 7\\\\ \\end{matrix}\\right.$\n",
      "solucion_latex: $\\left\\{ x : 1, \\  y : 1\\right\\}$\n"
     ]
    },
    {
     "data": {
      "text/markdown": [
       "#### Ejercicio:"
      ],
      "text/plain": [
       "<IPython.core.display.Markdown object>"
      ]
     },
     "metadata": {},
     "output_type": "display_data"
    },
    {
     "data": {
      "text/markdown": [
       "$\\left\\{\\begin{matrix}6x - 2y = 14\\\\ 3x - y = 7 \\\\ \\end{matrix}\\right.$ $\\to$ $\\left\\{ x : \\frac{y}{3} + \\frac{7}{3}\\right\\}$"
      ],
      "text/plain": [
       "<IPython.core.display.Markdown object>"
      ]
     },
     "metadata": {},
     "output_type": "display_data"
    },
    {
     "name": "stdout",
     "output_type": "stream",
     "text": [
      "enunciado_latex: $\\left\\{\\begin{matrix}6x - 2y = 14\\\\ 3x - y = 7 \\\\ \\end{matrix}\\right.$\n",
      "solucion_latex: $\\left\\{ x : \\frac{y}{3} + \\frac{7}{3}\\right\\}$\n"
     ]
    },
    {
     "data": {
      "text/markdown": [
       "#### Ejercicio:"
      ],
      "text/plain": [
       "<IPython.core.display.Markdown object>"
      ]
     },
     "metadata": {},
     "output_type": "display_data"
    },
    {
     "data": {
      "text/markdown": [
       "$\\left\\{\\begin{matrix}6x - 2y = 9\\\\ 3x - y = 10\\\\ \\end{matrix}\\right.$ $\\to$ $\\left[ \\right]$"
      ],
      "text/plain": [
       "<IPython.core.display.Markdown object>"
      ]
     },
     "metadata": {},
     "output_type": "display_data"
    },
    {
     "name": "stdout",
     "output_type": "stream",
     "text": [
      "enunciado_latex: $\\left\\{\\begin{matrix}6x - 2y = 9\\\\ 3x - y = 10\\\\ \\end{matrix}\\right.$\n",
      "solucion_latex: $\\left[ \\right]$\n"
     ]
    },
    {
     "data": {
      "text/markdown": [
       "#### Ejercicio:"
      ],
      "text/plain": [
       "<IPython.core.display.Markdown object>"
      ]
     },
     "metadata": {},
     "output_type": "display_data"
    },
    {
     "data": {
      "text/markdown": [
       "$\\left\\{\\begin{matrix}4x + 7y =  - 3\\\\ 7x + 4y = 36\\\\ \\end{matrix}\\right.$ $\\to$ $\\left\\{ x : 8, \\  y : -5\\right\\}$"
      ],
      "text/plain": [
       "<IPython.core.display.Markdown object>"
      ]
     },
     "metadata": {},
     "output_type": "display_data"
    },
    {
     "name": "stdout",
     "output_type": "stream",
     "text": [
      "enunciado_latex: $\\left\\{\\begin{matrix}4x + 7y =  - 3\\\\ 7x + 4y = 36\\\\ \\end{matrix}\\right.$\n",
      "solucion_latex: $\\left\\{ x : 8, \\  y : -5\\right\\}$\n"
     ]
    },
    {
     "data": {
      "text/markdown": [
       "#### Ejercicio:"
      ],
      "text/plain": [
       "<IPython.core.display.Markdown object>"
      ]
     },
     "metadata": {},
     "output_type": "display_data"
    },
    {
     "data": {
      "text/markdown": [
       "$\\left\\{\\begin{matrix} 4x + 16 = 5y\\\\  5y - 19 = 3x\\\\ \\end{matrix}\\right.$ $\\to$ $\\left\\{ x : 3, \\  y : \\frac{28}{5}\\right\\}$"
      ],
      "text/plain": [
       "<IPython.core.display.Markdown object>"
      ]
     },
     "metadata": {},
     "output_type": "display_data"
    },
    {
     "name": "stdout",
     "output_type": "stream",
     "text": [
      "enunciado_latex: $\\left\\{\\begin{matrix} 4x + 16 = 5y\\\\  5y - 19 = 3x\\\\ \\end{matrix}\\right.$\n",
      "solucion_latex: $\\left\\{ x : 3, \\  y : \\frac{28}{5}\\right\\}$\n"
     ]
    },
    {
     "data": {
      "text/markdown": [
       "#### Ejercicio:"
      ],
      "text/plain": [
       "<IPython.core.display.Markdown object>"
      ]
     },
     "metadata": {},
     "output_type": "display_data"
    },
    {
     "data": {
      "text/markdown": [
       "$\\left\\{\\begin{matrix}x - 5 = y + 2\\\\ 1 + 3x + 2y = x - 4\\\\ \\end{matrix}\\right.$ $\\to$ $\\left\\{ x : \\frac{9}{4}, \\  y : - \\frac{19}{4}\\right\\}$"
      ],
      "text/plain": [
       "<IPython.core.display.Markdown object>"
      ]
     },
     "metadata": {},
     "output_type": "display_data"
    },
    {
     "name": "stdout",
     "output_type": "stream",
     "text": [
      "enunciado_latex: $\\left\\{\\begin{matrix}x - 5 = y + 2\\\\ 1 + 3x + 2y = x - 4\\\\ \\end{matrix}\\right.$\n",
      "solucion_latex: $\\left\\{ x : \\frac{9}{4}, \\  y : - \\frac{19}{4}\\right\\}$\n"
     ]
    },
    {
     "data": {
      "text/markdown": [
       "#### Ejercicio:"
      ],
      "text/plain": [
       "<IPython.core.display.Markdown object>"
      ]
     },
     "metadata": {},
     "output_type": "display_data"
    },
    {
     "data": {
      "text/markdown": [
       "$\\left\\{\\begin{matrix}x - 5 = y + 2\\\\ 3x - 2y = x - 5\\\\ \\end{matrix}\\right.$ $\\to$ $\\left[ \\right]$"
      ],
      "text/plain": [
       "<IPython.core.display.Markdown object>"
      ]
     },
     "metadata": {},
     "output_type": "display_data"
    },
    {
     "name": "stdout",
     "output_type": "stream",
     "text": [
      "enunciado_latex: $\\left\\{\\begin{matrix}x - 5 = y + 2\\\\ 3x - 2y = x - 5\\\\ \\end{matrix}\\right.$\n",
      "solucion_latex: $\\left[ \\right]$\n"
     ]
    },
    {
     "data": {
      "text/markdown": [
       "#### Ejercicio:"
      ],
      "text/plain": [
       "<IPython.core.display.Markdown object>"
      ]
     },
     "metadata": {},
     "output_type": "display_data"
    },
    {
     "data": {
      "text/markdown": [
       "$\\left\\{\\begin{matrix}x + 3y = 6\\\\ 6y - 5 = 7 - 2x\\\\ \\end{matrix}\\right.$ $\\to$ $\\left\\{ x : 6 - 3 y\\right\\}$"
      ],
      "text/plain": [
       "<IPython.core.display.Markdown object>"
      ]
     },
     "metadata": {},
     "output_type": "display_data"
    },
    {
     "name": "stdout",
     "output_type": "stream",
     "text": [
      "enunciado_latex: $\\left\\{\\begin{matrix}x + 3y = 6\\\\ 6y - 5 = 7 - 2x\\\\ \\end{matrix}\\right.$\n",
      "solucion_latex: $\\left\\{ x : 6 - 3 y\\right\\}$\n"
     ]
    },
    {
     "data": {
      "text/markdown": [
       "#### Ejercicio:"
      ],
      "text/plain": [
       "<IPython.core.display.Markdown object>"
      ]
     },
     "metadata": {},
     "output_type": "display_data"
    },
    {
     "data": {
      "text/markdown": [
       "$\\left\\{\\begin{matrix}x - y = 8\\\\  x + y = 24\\\\ \\end{matrix}\\right.$ $\\to$ $\\left\\{ x : 16, \\  y : 8\\right\\}$"
      ],
      "text/plain": [
       "<IPython.core.display.Markdown object>"
      ]
     },
     "metadata": {},
     "output_type": "display_data"
    },
    {
     "name": "stdout",
     "output_type": "stream",
     "text": [
      "enunciado_latex: $\\left\\{\\begin{matrix}x - y = 8\\\\  x + y = 24\\\\ \\end{matrix}\\right.$\n",
      "solucion_latex: $\\left\\{ x : 16, \\  y : 8\\right\\}$\n"
     ]
    },
    {
     "data": {
      "text/markdown": [
       "#### Ejercicio:"
      ],
      "text/plain": [
       "<IPython.core.display.Markdown object>"
      ]
     },
     "metadata": {},
     "output_type": "display_data"
    },
    {
     "data": {
      "text/markdown": [
       "$\\left\\{\\begin{matrix}x + 2y = 11\\\\ 2x - y = 2\\\\ \\end{matrix}\\right.$ $\\to$ $\\left\\{ x : 3, \\  y : 4\\right\\}$"
      ],
      "text/plain": [
       "<IPython.core.display.Markdown object>"
      ]
     },
     "metadata": {},
     "output_type": "display_data"
    },
    {
     "name": "stdout",
     "output_type": "stream",
     "text": [
      "enunciado_latex: $\\left\\{\\begin{matrix}x + 2y = 11\\\\ 2x - y = 2\\\\ \\end{matrix}\\right.$\n",
      "solucion_latex: $\\left\\{ x : 3, \\  y : 4\\right\\}$\n"
     ]
    },
    {
     "data": {
      "text/markdown": [
       "#### Ejercicio:"
      ],
      "text/plain": [
       "<IPython.core.display.Markdown object>"
      ]
     },
     "metadata": {},
     "output_type": "display_data"
    },
    {
     "data": {
      "text/markdown": [
       "$\\left\\{\\begin{matrix}3x - 4y =  - 9\\\\ 2x + y = 5\\\\ \\end{matrix}\\right.$ $\\to$ $\\left\\{ x : 1, \\  y : 3\\right\\}$"
      ],
      "text/plain": [
       "<IPython.core.display.Markdown object>"
      ]
     },
     "metadata": {},
     "output_type": "display_data"
    },
    {
     "name": "stdout",
     "output_type": "stream",
     "text": [
      "enunciado_latex: $\\left\\{\\begin{matrix}3x - 4y =  - 9\\\\ 2x + y = 5\\\\ \\end{matrix}\\right.$\n",
      "solucion_latex: $\\left\\{ x : 1, \\  y : 3\\right\\}$\n"
     ]
    },
    {
     "data": {
      "text/markdown": [
       "#### Ejercicio:"
      ],
      "text/plain": [
       "<IPython.core.display.Markdown object>"
      ]
     },
     "metadata": {},
     "output_type": "display_data"
    },
    {
     "data": {
      "text/markdown": [
       "$\\left\\{\\begin{matrix}10( {x - 2} ) + y = 1\\\\ x + 3( {x - y} ) = 5\\\\ \\end{matrix}\\right.$ $\\to$ $\\left\\{ x : 2, \\  y : 1\\right\\}$"
      ],
      "text/plain": [
       "<IPython.core.display.Markdown object>"
      ]
     },
     "metadata": {},
     "output_type": "display_data"
    },
    {
     "name": "stdout",
     "output_type": "stream",
     "text": [
      "enunciado_latex: $\\left\\{\\begin{matrix}10( {x - 2} ) + y = 1\\\\ x + 3( {x - y} ) = 5\\\\ \\end{matrix}\\right.$\n",
      "solucion_latex: $\\left\\{ x : 2, \\  y : 1\\right\\}$\n"
     ]
    },
    {
     "data": {
      "text/markdown": [
       "#### Ejercicio:"
      ],
      "text/plain": [
       "<IPython.core.display.Markdown object>"
      ]
     },
     "metadata": {},
     "output_type": "display_data"
    },
    {
     "data": {
      "text/markdown": [
       "$\\left\\{\\begin{matrix}\\frac{{x - y}}{2} + \\frac{{x - y}}{3} = 5\\\\ \\frac{{x + 7}}{4} + y = 3\\\\ \\end{matrix}\\right.$ $\\to$ $\\left\\{ x : \\frac{29}{5}, \\  y : - \\frac{1}{5}\\right\\}$"
      ],
      "text/plain": [
       "<IPython.core.display.Markdown object>"
      ]
     },
     "metadata": {},
     "output_type": "display_data"
    },
    {
     "name": "stdout",
     "output_type": "stream",
     "text": [
      "enunciado_latex: $\\left\\{\\begin{matrix}\\frac{{x - y}}{2} + \\frac{{x - y}}{3} = 5\\\\ \\frac{{x + 7}}{4} + y = 3\\\\ \\end{matrix}\\right.$\n",
      "solucion_latex: $\\left\\{ x : \\frac{29}{5}, \\  y : - \\frac{1}{5}\\right\\}$\n"
     ]
    },
    {
     "data": {
      "text/markdown": [
       "#### Ejercicio:"
      ],
      "text/plain": [
       "<IPython.core.display.Markdown object>"
      ]
     },
     "metadata": {},
     "output_type": "display_data"
    },
    {
     "data": {
      "text/markdown": [
       "$\\left\\{\\begin{matrix}\\frac{{3( {y + 2x + 2} )}}{4} = \\frac{{4x + y - 1}}{3} \\\\  \\frac{1}{3}( {x + y} ) - \\frac{1}{6}( {x - y} ) = \\frac{{y - 1}}{6}\\\\ \\end{matrix}\\right.$ $\\to$ $\\left\\{ x : 39, \\  y : -20\\right\\}$"
      ],
      "text/plain": [
       "<IPython.core.display.Markdown object>"
      ]
     },
     "metadata": {},
     "output_type": "display_data"
    },
    {
     "name": "stdout",
     "output_type": "stream",
     "text": [
      "enunciado_latex: $\\left\\{\\begin{matrix}\\frac{{3( {y + 2x + 2} )}}{4} = \\frac{{4x + y - 1}}{3} \\\\  \\frac{1}{3}( {x + y} ) - \\frac{1}{6}( {x - y} ) = \\frac{{y - 1}}{6}\\\\ \\end{matrix}\\right.$\n",
      "solucion_latex: $\\left\\{ x : 39, \\  y : -20\\right\\}$\n"
     ]
    },
    {
     "data": {
      "text/markdown": [
       "#### Ejercicio:"
      ],
      "text/plain": [
       "<IPython.core.display.Markdown object>"
      ]
     },
     "metadata": {},
     "output_type": "display_data"
    },
    {
     "data": {
      "text/markdown": [
       "$\\left\\{\\begin{matrix} x - 2( {x + y} ) = 3y - 2\\\\  \\frac{x}{3} + \\frac{y}{2} = 3\\\\ \\end{matrix}\\right.$ $\\to$ $\\left\\{ x : 12, \\  y : -2\\right\\}$"
      ],
      "text/plain": [
       "<IPython.core.display.Markdown object>"
      ]
     },
     "metadata": {},
     "output_type": "display_data"
    },
    {
     "name": "stdout",
     "output_type": "stream",
     "text": [
      "enunciado_latex: $\\left\\{\\begin{matrix} x - 2( {x + y} ) = 3y - 2\\\\  \\frac{x}{3} + \\frac{y}{2} = 3\\\\ \\end{matrix}\\right.$\n",
      "solucion_latex: $\\left\\{ x : 12, \\  y : -2\\right\\}$\n"
     ]
    },
    {
     "data": {
      "text/markdown": [
       "#### Ejercicio:"
      ],
      "text/plain": [
       "<IPython.core.display.Markdown object>"
      ]
     },
     "metadata": {},
     "output_type": "display_data"
    },
    {
     "data": {
      "text/markdown": [
       "$\\left\\{\\begin{matrix}\\frac{{3 - 2y}}{4} - \\frac{1}{4} = \\frac{{1 - 2x}}{6}\\\\  \\frac{{25}}{8} - 1 = \\frac{{x + 3}}{2} - \\frac{{3( {1 + y} )}}{8}\\\\ \\end{matrix}\\right.$ $\\to$ $\\left\\{ x : 5, \\  y : 4\\right\\}$"
      ],
      "text/plain": [
       "<IPython.core.display.Markdown object>"
      ]
     },
     "metadata": {},
     "output_type": "display_data"
    },
    {
     "name": "stdout",
     "output_type": "stream",
     "text": [
      "enunciado_latex: $\\left\\{\\begin{matrix}\\frac{{3 - 2y}}{4} - \\frac{1}{4} = \\frac{{1 - 2x}}{6}\\\\  \\frac{{25}}{8} - 1 = \\frac{{x + 3}}{2} - \\frac{{3( {1 + y} )}}{8}\\\\ \\end{matrix}\\right.$\n",
      "solucion_latex: $\\left\\{ x : 5, \\  y : 4\\right\\}$\n"
     ]
    },
    {
     "data": {
      "text/markdown": [
       "#### Ejercicio:"
      ],
      "text/plain": [
       "<IPython.core.display.Markdown object>"
      ]
     },
     "metadata": {},
     "output_type": "display_data"
    },
    {
     "data": {
      "text/markdown": [
       "$\\left\\{\\begin{matrix}\\frac{{4y - 5x}}{6} + \\frac{{3x - 2y}}{2} = 1 - \\frac{2}{9}( {x + y} )\\\\ \\frac{{4y + x - 8}}{8} - x = \\frac{{2( {y - 2x} )}}{3}\\\\ \\end{matrix}\\right.$ $\\to$ $\\left\\{ x : \\frac{4}{7}, \\  y : - \\frac{31}{7}\\right\\}$"
      ],
      "text/plain": [
       "<IPython.core.display.Markdown object>"
      ]
     },
     "metadata": {},
     "output_type": "display_data"
    },
    {
     "name": "stdout",
     "output_type": "stream",
     "text": [
      "enunciado_latex: $\\left\\{\\begin{matrix}\\frac{{4y - 5x}}{6} + \\frac{{3x - 2y}}{2} = 1 - \\frac{2}{9}( {x + y} )\\\\ \\frac{{4y + x - 8}}{8} - x = \\frac{{2( {y - 2x} )}}{3}\\\\ \\end{matrix}\\right.$\n",
      "solucion_latex: $\\left\\{ x : \\frac{4}{7}, \\  y : - \\frac{31}{7}\\right\\}$\n"
     ]
    }
   ],
   "source": [
    "# Resolver sistemas\n",
    "\n",
    "texto_ejercicio = 'Resolver sistemas:'\n",
    "\n",
    "display(md(\"**\"+texto_ejercicio+\"**\"))\n",
    "\n",
    "pre_enunciado_latex = [[r'3x - 2y = 1',r'x + 6y = 7'],\n",
    "                       [r'6x - 2y = 14',r'3x - y = 7 '],\n",
    "                       [r'6x - 2y = 9',r'3x - y = 10'],\n",
    "                       [r'4x + 7y =  - 3',r'7x + 4y = 36'],\n",
    "                       [r' 4x + 16 = 5y',r' 5y - 19 = 3x'],\n",
    "                       [r'x - 5 = y + 2',r'1 + 3x + 2y = x - 4'],\n",
    "                       [r'x - 5 = y + 2',r'3x - 2y = x - 5'],\n",
    "                       [r'x + 3y = 6',r'6y - 5 = 7 - 2x'],\n",
    "                       [r'x - y = 8',r' x + y = 24'],\n",
    "                       [r'x + 2y = 11',r'2x - y = 2'],\n",
    "                       [r'3x - 4y =  - 9',r'2x + y = 5'],\n",
    "                       [r'10( {x - 2} ) + y = 1',r'x + 3( {x - y} ) = 5'],\n",
    "                       [r'\\frac{{x - y}}{2} + \\frac{{x - y}}{3} = 5',r'\\frac{{x + 7}}{4} + y = 3'],\n",
    "                       [r'\\frac{{3( {y + 2x + 2} )}}{4} = \\frac{{4x + y - 1}}{3} ',r' \\frac{1}{3}( {x + y} ) - \\frac{1}{6}( {x - y} ) = \\frac{{y - 1}}{6}'],\n",
    "                       [' x - 2( {x + y} ) = 3y - 2',r' \\frac{x}{3} + \\frac{y}{2} = 3'],\n",
    "                       [r'\\frac{{3 - 2y}}{4} - \\frac{1}{4} = \\frac{{1 - 2x}}{6}',r' \\frac{{25}}{8} - 1 = \\frac{{x + 3}}{2} - \\frac{{3( {1 + y} )}}{8}'],\n",
    "                       [r'\\frac{{4y - 5x}}{6} + \\frac{{3x - 2y}}{2} = 1 - \\frac{2}{9}( {x + y} )',r'\\frac{{4y + x - 8}}{8} - x = \\frac{{2( {y - 2x} )}}{3}']                    ]\n",
    "\n",
    "\n",
    "\n",
    "for s in pre_enunciado_latex :\n",
    "    #display(sol_sist(s))\n",
    "    mostrar_ejercicio(r\"$\"+sol_sist(s)[0]+r\"$\",r\"$\"+latex(sol_sist(s)[2])+r\"$\")"
   ]
  },
  {
   "cell_type": "code",
   "execution_count": 3,
   "metadata": {},
   "outputs": [
    {
     "data": {
      "text/markdown": [
       "**Resuelve mediante expresiones algebraicas:**"
      ],
      "text/plain": [
       "<IPython.core.display.Markdown object>"
      ]
     },
     "metadata": {},
     "output_type": "display_data"
    },
    {
     "data": {
      "text/markdown": [
       "#### Ejercicio:"
      ],
      "text/plain": [
       "<IPython.core.display.Markdown object>"
      ]
     },
     "metadata": {},
     "output_type": "display_data"
    },
    {
     "data": {
      "text/markdown": [
       "Encuentra dos números tales que la suma de dos de los mismos sea 19 \n",
       "y la diferencia de ambos multiplicada por 6 sea 54. $\\to$ $\\left\\{\\begin{matrix}y=3x+4 \\\\ \\frac{y+9}{x+9}=2\\end{matrix}\\right. \\to  x = 5, \\  y = 19$"
      ],
      "text/plain": [
       "<IPython.core.display.Markdown object>"
      ]
     },
     "metadata": {},
     "output_type": "display_data"
    },
    {
     "name": "stdout",
     "output_type": "stream",
     "text": [
      "enunciado_latex: Encuentra dos números tales que la suma de dos de los mismos sea 19 \n",
      "y la diferencia de ambos multiplicada por 6 sea 54.\n",
      "solucion_latex: $\\left\\{\\begin{matrix}y=3x+4 \\\\ \\frac{y+9}{x+9}=2\\end{matrix}\\right. \\to  x = 5, \\  y = 19$\n"
     ]
    },
    {
     "data": {
      "text/markdown": [
       "#### Ejercicio:"
      ],
      "text/plain": [
       "<IPython.core.display.Markdown object>"
      ]
     },
     "metadata": {},
     "output_type": "display_data"
    },
    {
     "data": {
      "text/markdown": [
       "La sexta parte de la suma de dos números es 14 y la mitad de su \n",
       "diferencia es 13. Halla esos números. $\\to$ $\\left\\{\\begin{matrix}\\frac{1}{6}(x+y)=14 \\\\ \\frac{1}{2}(x-y)=13\\end{matrix}\\right. \\to  x = 55, \\  y = 29$"
      ],
      "text/plain": [
       "<IPython.core.display.Markdown object>"
      ]
     },
     "metadata": {},
     "output_type": "display_data"
    },
    {
     "name": "stdout",
     "output_type": "stream",
     "text": [
      "enunciado_latex: La sexta parte de la suma de dos números es 14 y la mitad de su \n",
      "diferencia es 13. Halla esos números.\n",
      "solucion_latex: $\\left\\{\\begin{matrix}\\frac{1}{6}(x+y)=14 \\\\ \\frac{1}{2}(x-y)=13\\end{matrix}\\right. \\to  x = 55, \\  y = 29$\n"
     ]
    }
   ],
   "source": [
    "texto_ejercicio = \"Resuelve mediante expresiones algebraicas:\"\n",
    "\n",
    "display(md(\"**\"+texto_ejercicio+\"**\"))\n",
    "\n",
    "problemas = [ [r\"\"\"Encuentra dos números tales que la suma de dos de los mismos sea 19 \n",
    "y la diferencia de ambos multiplicada por 6 sea 54.\"\"\", [r'y=3x+4',r'\\frac{y+9}{x+9}=2']],\n",
    "             [r\"\"\"La sexta parte de la suma de dos números es 14 y la mitad de su \n",
    "diferencia es 13. Halla esos números.\"\"\",[r'\\frac{1}{6}(x+y)=14', r'\\frac{1}{2}(x-y)=13']],\n",
    "             [r\"\"\"\"\"\"]\n",
    "    \n",
    "]\n",
    "\n",
    "for p in problemas :\n",
    "    enunciado = p[0]\n",
    "    solucion = r\"\"\"\\left\\{\\begin{matrix}\"\"\"+ r\" \\\\ \".join(p[1])+ r'\\end{matrix}\\right.'\n",
    "    solucion += r\" \\to \" + latex(solve([parse_latex(j) for j in p[1]])).replace(r'\\left\\{','').replace(r'\\right\\}','').replace(':','=')\n",
    "    mostrar_ejercicio(enunciado, r\"$\"+solucion+r\"$\")"
   ]
  }
 ],
 "metadata": {
  "colab": {
   "include_colab_link": true,
   "name": "7 Sistemas.ipynb",
   "provenance": [],
   "version": "0.3.2"
  },
  "kernelspec": {
   "display_name": "Python 3",
   "language": "python",
   "name": "python3"
  },
  "language_info": {
   "codemirror_mode": {
    "name": "ipython",
    "version": 3
   },
   "file_extension": ".py",
   "mimetype": "text/x-python",
   "name": "python",
   "nbconvert_exporter": "python",
   "pygments_lexer": "ipython3",
   "version": "3.8.7"
  }
 },
 "nbformat": 4,
 "nbformat_minor": 1
}
